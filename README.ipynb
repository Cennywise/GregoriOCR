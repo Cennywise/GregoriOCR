{
 "cells": [
  {
   "cell_type": "markdown",
   "id": "4c03763c",
   "metadata": {},
   "source": [
    "<!-- #region -->\n",
    "\n",
    "# COLORIZED - Colorization Of Lost Or Ruined ImageZ Employing Diffusion\n",
    "\n",
    "Clément Weinreich\n",
    "\n",
    "Brennan Whitfield\n",
    "\n",
    "Vivek Shome\n"
   ]
  },
  {
   "cell_type": "markdown",
   "id": "6c94a66d",
   "metadata": {},
   "source": [
    "## Abstract\n",
    "\n",
    "### How will the data be collected?\n",
    "\n",
    "The data will be collected from a public dataset on Kaggle named [Image Colorization](<[https://www.kaggle.com/datasets/shravankumar9892/image-colorization/code](https://www.kaggle.com/datasets/shravankumar9892/image-colorization/code)>). This dataset consists of 50 thousand grayscale and colored images rescaled to 224 x 224.\n",
    "\n",
    "### What task do you want to accomplish with the data?\n",
    "\n",
    "We seek to recolor grayscale photographs from the University Archives Photographs at Shields Library. This project could provide the library with a means of viewing a local landmark/area from the perspective of an individual present at the original time.\n",
    "\n",
    "### What kind of learning algorithm do you propose using to accomplish this task?\n",
    "\n",
    "We plan to accomplish this task using an image-to-image conditional diffusion model of the form $P(y | x)$, where $x$ is a grayscale image and $y$ is a color image.\n",
    "\n",
    "### How will you measure your performance of the task?\n",
    "\n",
    "To measure the performance of the task, we will use the [Fréchet Inception Distance](<[https://en.wikipedia.org/wiki/Fr%C3%A9chet_inception_distance](https://en.wikipedia.org/wiki/Fr%C3%A9chet_inception_distance)>) (FID). The FID metric compares the distribution of generated images with the distribution of a set of real images (ground truth). The FID metric was introduced in 2017 and is the current standard metric for assessing the quality of generative models.\n"
   ]
  },
  {
   "cell_type": "markdown",
   "id": "914908df",
   "metadata": {},
   "source": [
    "## Instructions (delete this once finished)\n",
    "\n",
    "Your README.md file (located at the root of your project directory) should completely describe the project, what it accomplishes, how well it performs, and walk through how a new user can use your model on their own data after cloning the repository. This means, by following instructions in your README.md file, I should easily be able to run your algorithm on a new example not in your dataset and see that the model accomplishes what it promised to accomplish (at least up to your claimed performance measure)."
   ]
  },
  {
   "cell_type": "markdown",
   "id": "4471419c",
   "metadata": {},
   "source": [
    "## Introduction\n",
    "\n",
    "outline this file? Merge with abstract?\n"
   ]
  },
  {
   "cell_type": "markdown",
   "id": "ebe73c74",
   "metadata": {},
   "source": [
    "\n",
    "## Theory\n",
    "\n",
    "### General Idea\n",
    "\n",
    "The idea of diffusion models is to slowly destroy structure in a data distribution through an iterative forward process. Then, we learn a reverse diffusion process using an neural network, that restores structure in data. This model yield to a highly flexible generative model of the data. This can be seen as a Markov chain of diffusion steps, which slowly add random noise to the data, and then learn to reverse the diffusion process in order to construct new desired data samples from the noise.\n",
    "\n",
    "In the case of image colorization, we use a conditional diffusion model which, on top of requiring a noisy image and timestep, takes a grayscale image with the intent of recoloring said image.\n"
   ]
  },
  {
   "cell_type": "markdown",
   "id": "4b578d14",
   "metadata": {},
   "source": [
    "### Notation\n",
    "\n",
    "The following notation will be adopted for the next parts:\n",
    "\n",
    "-   $\\mathcal{N}(x;\\mu,\\sigma^2)$ : sampling x from a normal distribution of mean $\\mu$ and variance $\\sigma^2$\n",
    "-   $\\mathbf{x_t}$ is the image after applying $t$ iterations of noise through the forward process\n",
    "-   $\\mathbf{x_0}$ is the original image\n",
    "-   $\\mathbf{x_T}$ is the final image of the forward process which follows an isotropic gaussian distribution ($T$ is constant)\n",
    "-   $q(\\mathbf{x_t}|\\mathbf{x_{t-1}})$ corresponds to the forward process, taking an image $\\mathbf{x_{t-1}}$ as input, and output $\\mathbf{x_t}$ which contains more noise\n",
    "-   $p_\\theta(\\mathbf{x_{t-1}}|\\mathbf{x_t})$ corresponds to the reverse process, taking an image $\\mathbf{x_t}$ as input, and output $\\mathbf{x_{t-1}}$ which contains less noise"
   ]
  },
  {
   "cell_type": "markdown",
   "id": "4ef7a1ab",
   "metadata": {},
   "source": [
    "### The Forward Diffusion Process\n",
    "\n",
    "Let's sample an image from a real data distribution $\\mathbf{x_0} \\sim q(\\mathbf{x})$. We define a forward diffusion process, in which a small amount of gaussian noise is iteratively added to the image $\\mathbf{x_0}$, in $T$ steps, leading to the sequence of noisy images $\\mathbf{x_1},\\dots,\\mathbf{x_T}$. The step size is controlled by a variance schedule $\\beta_t$ going from 0 to 1, in $T$ steps, starting at $t=1$. The noise added is sampled from a gaussian distribution. Thus we can define:\n",
    "$$q(\\mathbf{x_t}|\\mathbf{x_{t-1}}) = \\mathcal{N}(\\mathbf{x_t};\\sqrt{1-\\beta_t}\\mathbf{x_{t-1}},\\beta_t\\mathbf{I})$$\n",
    "Where the variance schedule scales the mean and the variance of the noise sampled from the normal distribution. Since our forward process is a Markov Chain (satisfying Markov property), we can also write:\n",
    "\n",
    "$$\n",
    "\\begin{align}\n",
    "q(\\mathbf{x_{1:T}}|\\mathbf{x_0}) &= q(\\mathbf{x_1}, \\dots, \\mathbf{x_T} | \\mathbf{x_0}) \\\\\n",
    "               &= \\frac{q(\\mathbf{x_0}, \\mathbf{x_1}, \\dots, \\mathbf{x_T})}{q(\\mathbf{x_0})} &&\\text{(Bayes' Theorem)}\\\\\n",
    "               &= \\frac{q(\\mathbf{x_0})q(\\mathbf{x_1}|\\mathbf{x_0})\\dots q(\\mathbf{x_T}|\\mathbf{x_{T-1}})}{q(\\mathbf{x_0})} &&\\text{(Markov property)}\\\\\n",
    "               &= q(\\mathbf{x_1}|\\mathbf{x_0})\\dots q(\\mathbf{x_T}|\\mathbf{x_{T-1}})\\\\\n",
    "               &= \\prod^T_{t=1}q(\\mathbf{x_t}|\\mathbf{x_{t-1}})\n",
    "\\end{align}\n",
    "$$\n",
    "\n",
    "<!-- Reference the reparameterization trick from lilianweng? -->\n",
    "<!-- mention how using a predictable noise schedule mitigates this-->\n",
    "\n",
    "Additionally, we can improve the forward process further, allowing us to sample a noisy image $\\mathbf{x_t}$ at any particular time $t$. First, we let $\\alpha_{t} = 1 - \\beta_t$, and we also define $\\bar{\\alpha_t} = \\prod\\nolimits_{i=1}^t \\alpha_i$. Now, we rewrite:\n",
    "\n",
    "$$q(\\mathbf{x_t}|\\mathbf{x_{t-1}}) = \\mathcal{N}(\\mathbf{x_t};\\sqrt{\\alpha_t}\\mathbf{x_{t-1}},(1 - \\alpha_t)\\mathbf{I})$$\n",
    "\n",
    "<!-- Should we use element wise product here for matrices? -->\n",
    "\n",
    "using the reparameterization trick for Gaussian distribution $\\mathcal{N}(\\mathbf{x}; \\mathbf{\\mu}, \\sigma^2\\mathbf{I})$, $\\mathbf{x} = \\mathbf{\\mu} + \\sigma\\mathbf{\\epsilon} $, where $\\mathbf{\\epsilon} \\sim \\mathcal{N}(\\boldsymbol{0}, \\mathbf{I})$. This gives us:\n",
    "\n",
    "$$\n",
    "\\begin{align}\n",
    "\\mathbf{x_t} &= \\sqrt{\\alpha_t} \\mathbf{x_{t-1}} + \\sqrt{1-\\alpha_t}\\mathbf{\\epsilon_{t-1}} \\\\\n",
    "\\mathbf{x_{t-1}} &= \\sqrt{\\alpha_{t-1}} \\mathbf{x_{t-2}} + \\sqrt{1-\\alpha_{t-1}}\\mathbf{\\epsilon_{t-2}} && \\text{(Repeat for $\\mathbf{x_{t-1})}$)}\n",
    "\\end{align}\n",
    "$$\n",
    "\n",
    "Now, we combine the above equations:\n",
    "\n",
    "$$\n",
    "\\begin{align}\n",
    "\\mathbf{x_t} &= \\sqrt{\\alpha_t} \\mathbf{x_{t-1}} + \\sqrt{1-\\alpha_t}\\mathbf{\\epsilon_{t-1}} \\\\\n",
    "             &= \\sqrt{\\alpha_t} (\\sqrt{\\alpha_{t-1}} \\mathbf{x_{t-2}} + \\sqrt{1-\\alpha_{t-1}}\\mathbf{\\epsilon_{t-2}}) + \\sqrt{1-\\alpha_t}\\mathbf{\\epsilon_{t-1}} \\\\\n",
    "             &= \\sqrt{\\alpha_t \\alpha_{t-1}} \\mathbf{x_{t-2}} + \\sqrt{\\alpha_t(1-\\alpha_{t-1})}\\mathbf{\\epsilon_{t-2}} + \\sqrt{1-\\alpha_t}\\mathbf{\\epsilon_{t-1}}\n",
    "\\end{align}\n",
    "$$\n",
    "\n",
    "Note that we can reverse the reparameterization trick separately on $\\sqrt{\\alpha_t(1-\\alpha_{t-1})}\\mathbf{\\epsilon_{t-2}}$ and $\\sqrt{1-\\alpha_t}\\mathbf{\\epsilon_{t-1}}$, considering them to be samples from $\\mathcal{N}(\\mathbf{0},\\alpha_t(1-\\alpha_{t-1})\\mathbf{I})$ and from $\\mathcal{N}(\\mathbf{0},(1-\\alpha_t)\\mathbf{I})$ respectively. Thus, we can combine these Gaussian distributions with different variance as $\\mathcal{N}(\\mathbf{0}, ((1-\\alpha_t) + \\alpha_t(1-\\alpha_{t-1}))\\mathbf{I}) = \\mathcal{N}(\\mathbf{0}, (1-\\alpha_{t} \\alpha_{t-1})\\mathbf{I})$. Once again reparameterizing this new distribution:\n",
    "\n",
    "$$\n",
    "\\begin{align}\n",
    "\\mathbf{x_t} &= \\sqrt{\\alpha_t \\alpha_{t-1}} \\mathbf{x_{t-2}} + \\sqrt{1-\\alpha_{t} \\alpha_{t-1}}\\mathbf{\\epsilon} && \\mathbf{\\epsilon} \\sim \\mathcal{N}(\\mathbf{0},\\mathbf{I})\n",
    "\\end{align}\n",
    "$$\n",
    "\n",
    "This process can be continued all the way to $\\mathbf{x_0}$ resulting in:\n",
    "\n",
    "$$\n",
    "\\begin{align}\n",
    "\\mathbf{x_t} &= \\sqrt{\\alpha_t \\alpha_{t-1}} \\mathbf{x_{t-2}} + \\sqrt{1-\\alpha_{t} \\alpha_{t-1}}\\mathbf{\\epsilon} \\\\\n",
    "             &\\vdots \\\\\n",
    "\\mathbf{x_t} &= \\sqrt{\\alpha_t \\alpha_{t-1} \\dots \\alpha_{1}}\\mathbf{x_0} + \\sqrt{1-\\alpha_t \\alpha_{t-1} \\dots \\alpha_{1}}\\mathbf{\\epsilon} \\\\\n",
    "             &= \\sqrt{\\bar{\\alpha_t}}\\mathbf{x_0} + \\sqrt{1 - \\bar{\\alpha_t}}\\mathbf{\\epsilon}\n",
    "\\end{align}\n",
    "$$\n",
    "\n",
    "Since $x_t = \\sqrt{\\bar{\\alpha_t}}\\mathbf{x_0} + \\sqrt{1 - \\bar{\\alpha_t}}\\mathbf{\\epsilon}$, we can once more reverse the reparamaterization process to achieve:\n",
    "\n",
    "$$q(\\mathbf{x_t} | \\mathbf{x_0}) = \\mathcal{N}(\\mathbf{x_t};\\sqrt{\\bar{\\alpha_t}}\\mathbf{x_0}, (1 - \\bar{\\alpha_t})\\mathbf{I})$$\n",
    "\n",
    "It is clear that we can quickly sample a noisy image $\\mathbf{x_t}$ at any timestep t. Given that we are using a conditional diffusion model, this allows us to randomly sample a timestep during training and feed the step, as well as the noise at said step, as the conditioned property during the forward diffusion process."
   ]
  },
  {
   "cell_type": "markdown",
   "id": "13333da7",
   "metadata": {},
   "source": [
    "\n",
    "### The Reverse Process\n",
    "\n",
    "To reverse the above noising process (i.e. $q(\\mathbf{x_{t-1}}|\\mathbf{x_t})$ ), we would need to know the entire dataset of possible noised images, which is essentially impossible. Thus, we seek to learn an _approximation_ of this reverse process. We will call this approximation $p_\\theta$ . **(make note here about the beta size and why that allows us to treat this as a gaussian distribution [4])**\n",
    "\n",
    "As we are describing the same distribution in the forward process, but in the opposite direction, we can use the same Markovian property to write:\n",
    "\n",
    "<!-- Also, note that we can consider x_T to be \"x_0\" and traverse the process normally, just subbing back in our renamings -->\n",
    "\n",
    "$$\\begin{align}\n",
    "p_{\\theta}(\\mathbf{x_{0:T}}) &= p_{\\theta}(\\mathbf{x_{T}}, \\dots, \\mathbf{x_{0}}) && \\text{(\\*)}\\\\\n",
    "                             &= p(\\mathbf{x_{T}}) p_{\\theta}(\\mathbf{x_{T-1}} | \\mathbf{x_{T}}) \\dots p_{\\theta}(\\mathbf{x_0} | \\mathbf{x_1}) && \\text{(Markov Property)} \\\\\n",
    "                             &= p_{\\theta}(\\mathbf{x_T})\\prod_{t=1}^{T} p_{\\theta}(\\mathbf{x_{t-1}} | \\mathbf{x_t}) \\\\\n",
    "\\end{align}$$\n",
    "\n",
    "(\\*) Note that we do not condition $\\mathbf{x_T}$ on anything here. **(explanation necessary [2])**\n",
    "\n",
    "Also, we make mention here that conditioning our $\\mathbf{\\mu_{\\theta}}(\\mathbf{x_t}, t)$ on $\\mathbf{x_0}$ in:\n",
    "\n",
    "$$p_{\\theta}(\\mathbf{x_{t-1}} | \\mathbf{x_t}) = \\mathcal{N}(\\mathbf{x_{t-1}}; \\mathbf{\\mu_{\\theta}}(\\mathbf{x_t}, t), \\beta_t \\mathbf{I})$$\n",
    "\n",
    ",allows us to work with the reverse probabilities far more easily. **(Maybe include a more mathematical reasoning here [2])** We will rewrite this as:\n",
    "\n",
    "$$q(\\mathbf{x_{t-1}} | \\mathbf{x_t}, \\mathbf{x_0}) = \\mathcal{N}(\\mathbf{x_{t-1}}; \\mathbf{\\tilde{\\mu_t}}(\\mathbf{x_t}, \\mathbf{x_0}), \\tilde{\\beta_t}\\mathbf{I})$$\n",
    "\n",
    "**(Leave this alone for now, but I believe we can switch to q since we are essentially now dealing with the forward process, as anything we are predicting comes from $\\mathbf{x_0}$ and thus is always in the forward direction)**\n",
    "\n",
    "**(Reorganize this)**"
   ]
  },
  {
   "cell_type": "markdown",
   "id": "d36da0dd",
   "metadata": {},
   "source": [
    "## Loss Function\n",
    "\n",
    "Next, we seek to optimize the negative log-likelihood. We are, in essence, using a Variational Auto Encoder, wherein we want our 'probabilistic decoder' $p(\\mathbf{x_{t-1}} | \\mathbf{x_{t}})$ to closely approximate our 'probabilistic encoder' $q(\\mathbf{x_{t-1}} | \\mathbf{x_{t}})$ ([6]). To accomplish this, we need the ability to compare these two distributions. Thus, we use Kullback-Leibler (KL) divergence **(maybe make reference of this)** to achieve this comparison. It follows then that we want to minimize our KL divergence. However, we also should maximize the likelihood that we generate real samples, or $p_{\\theta}(\\mathbf{x_0})$. Conviently, we can employ Variational Lower Bounds (VLB)/Evidence Lower Bounds (ELBO) to achieve this concurrently **([7], [8])**. We will refer to Variational Lower Bounds as VLB for the remainder of this paper.\n",
    "\n",
    "To derive VLB, we expand the above KL divergence:\n",
    "\n",
    "$$\\begin{align}\n",
    "D_{\\text{KL}}(q(\\mathbf{x_{1:T}} | \\mathbf{x_{0}}) || p_{\\theta}(\\mathbf{x_{1:T}} | \\mathbf{x_{0}})) &= \\mathbb{E}_{\\mathbf{x_{1:T}} \\sim q(\\mathbf{x_{1:T}} | \\mathbf{x_{0}})} \\\\\n",
    "    &= \\int q(\\mathbf{x_{1:T}} | \\mathbf{x_{0}}) \\log{\\Big ( \\frac{q(\\mathbf{x_{1:T}} | \\mathbf{x_{0}})}{p_{\\theta}(\\mathbf{x_{1:T}} | \\mathbf{x_{0}})}\\Big )} d\\mathbf{x_{1:T}} \\\\\n",
    "    &= \\int q(\\mathbf{x_{1:T}} | \\mathbf{x_{0}}) \\log{\\Big ( \\frac{q(\\mathbf{x_{1:T}} | \\mathbf{x_{0}}) p_{\\theta}(\\mathbf{x_{0}})}{p_{\\theta}(\\mathbf{x_{1:T}}, \\mathbf{x_{0}})}\\Big )} d\\mathbf{x_{1:T}} && \\text{(Bayes' Rule)}\\\\\n",
    "    &= \\int q(\\mathbf{x_{1:T}} | \\mathbf{x_{0}}) \\Big [ \\log{p_{\\theta}(\\mathbf{x_{0}})} + \\log{\\Big ( \\frac{q(\\mathbf{x_{1:T}} | \\mathbf{x_{0}})}{p_{\\theta}(\\mathbf{x_{1:T}}, \\mathbf{x_{0}})}\\Big )} \\Big ] d\\mathbf{x_{1:T}} \\\\\n",
    "    &= \\log{p_{\\theta}(\\mathbf{x_{0}})} \\int q(\\mathbf{x_{1:T}} | \\mathbf{x_{0}}) d\\mathbf{x_{1:T}} + \\int q(\\mathbf{x_{1:T}} \\vert \\mathbf{x_{0}}) \\log \\Big( \\frac{q(\\mathbf{x_{1:T}} \\vert \\mathbf{x_{0}})}{p_{\\theta}(\\mathbf{x_{1:T}}, \\mathbf{x_{0}})}\\Big) d\\mathbf{x_{1:T}}\\\\\n",
    "    &= \\log{p_{\\theta}(\\mathbf{x_{0}})}  + \\int q(\\mathbf{x_{1:T}} \\vert \\mathbf{x_{0}}) \\log \\Big( \\frac{q(\\mathbf{x_{1:T}} \\vert \\mathbf{x_{0}})}{p_{\\theta}(\\mathbf{x_{1:T}}, \\mathbf{x_{0}})}\\Big) d\\mathbf{x_{1:T}} && \\text{$\\Big( \\int f(x)dx = 1\\Big)$}\\\\\n",
    "    &= \\log{p_{\\theta}(\\mathbf{x_{0}})}  + \\int q(\\mathbf{x_{1:T}} \\vert \\mathbf{x_{0}}) \\log \\Big( \\frac{q(\\mathbf{x_{1:T}} \\vert \\mathbf{x_{0}})}{p_{\\theta}(\\mathbf{x_{0}} | \\mathbf{x_{1:T}}) p_{\\theta}(\\mathbf{x_{1:T}})}\\Big) d\\mathbf{x_{1:T}} && \\text{(Bayes' Rule)}\\\\\n",
    "    &= \\log{p_{\\theta}(\\mathbf{x_{0}})}  + \\int q(\\mathbf{x_{1:T}} \\vert \\mathbf{x_{0}}) \\Big [ \\log \\Big( \\frac{q(\\mathbf{x_{1:T}} \\vert \\mathbf{x_{0}})}{p_{\\theta}(\\mathbf{x_{1:T}})}\\Big) - \\log p_{\\theta}(\\mathbf{x_{0}} | \\mathbf{x_{1:T}}) \\Big ] d\\mathbf{x_{1:T}} \\\\\n",
    "    &= \\log{p_{\\theta}(\\mathbf{x_{0}})}  + \\int q(\\mathbf{x_{1:T}} \\vert \\mathbf{x_{0}}) \\log \\Big( \\frac{q(\\mathbf{x_{1:T}} \\vert \\mathbf{x_{0}})}{p_{\\theta}(\\mathbf{x_{1:T}})}\\Big) - q(\\mathbf{x_{1:T}} \\vert \\mathbf{x_{0}})\\log p_{\\theta}(\\mathbf{x_{0}} | \\mathbf{x_{1:T}}) d\\mathbf{x_{1:T}} \\\\\n",
    "    &= \\log{p_{\\theta}(\\mathbf{x_{0}})}  + \\mathbb{E}_ {\\mathbf{x_{1:T}} \\sim q(\\mathbf{x_{1:T}} | \\mathbf{x_{0}})} \\Big [ \\log \\Big( \\frac{q(\\mathbf{x_{1:T}} \\vert \\mathbf{x_{0}})}{p_{\\theta}(\\mathbf{x_{1:T}})}\\Big) - \\log p_{\\theta}(\\mathbf{x_{0}} | \\mathbf{x_{1:T}}) \\Big ] \\\\\n",
    "    &= \\log{p_{\\theta}(\\mathbf{x_{0}})}  + \\mathbb{E}_ {\\mathbf{x_{1:T}} \\sim q(\\mathbf{x_{1:T}} | \\mathbf{x_{0}})} \\Big [ \\log \\Big( \\frac{q(\\mathbf{x_{1:T}} \\vert \\mathbf{x_{0}})}{p_{\\theta}(\\mathbf{x_{1:T}})}\\Big) \\Big ] - \\mathbb{E}_ {\\mathbf{x_{1:T}} \\sim q(\\mathbf{x_{1:T}} | \\mathbf{x_{0}})} \\Big [ \\log p_{\\theta}(\\mathbf{x_{0}} | \\mathbf{x_{1:T}}) \\Big ] \\\\\n",
    "    &= \\log{p_{\\theta}(\\mathbf{x_{0}})}  + D_{\\text{KL}}(q(\\mathbf{x_{1:T}} | \\mathbf{x_{0}}) || p_{\\theta}(\\mathbf{x_{1:T}})) - \\mathbb{E}_ {\\mathbf{x_{1:T}} \\sim q(\\mathbf{x_{1:T}} | \\mathbf{x_{0}})} \\Big [ \\log p_{\\theta}(\\mathbf{x_{0}} | \\mathbf{x_{1:T}}) \\Big ] \\\\\n",
    "\\end{align}$$\n"
   ]
  },
  {
   "cell_type": "markdown",
   "id": "75c77de1",
   "metadata": {},
   "source": [
    "Now, we have:\n",
    "\n",
    "$$D_{\\text{KL}}(q(\\mathbf{x_{1:T}} | \\mathbf{x_{0}}) || p_{\\theta}(\\mathbf{x_{1:T}} | \\mathbf{x_{0}})) = \\log{p_{\\theta}(\\mathbf{x_{0}})}  + D_{\\text{KL}}(q(\\mathbf{x_{1:T}} | \\mathbf{x_{0}}) || p_{\\theta}(\\mathbf{x_{1:T}})) - \\mathbb{E}_ {\\mathbf{x_{1:T}} \\sim q(\\mathbf{x_{1:T}} | \\mathbf{x_{0}})} \\Big[ \\log p_{\\theta}(\\mathbf{x_{0}} | \\mathbf{x_{1:T}}) \\Big ]$$"
   ]
  },
  {
   "cell_type": "markdown",
   "id": "dd8294d9",
   "metadata": {},
   "source": [
    "If we rearrange this, we get:\n",
    "\n",
    "$$ \\log{p_{\\theta}(\\mathbf{x_{0}})} - D_{\\text{KL}}(q(\\mathbf{x_{1:T}} | \\mathbf{x_{0}}) || p_{\\theta}(\\mathbf{x_{1:T}} | \\mathbf{x_{0}})) = \\mathbb{E}_ {\\mathbf{x_{1:T}} \\sim q(\\mathbf{x_{1:T}} | \\mathbf{x_{0}})} \\Big[ \\log p_{\\theta}(\\mathbf{x_{0}} | \\mathbf{x_{1:T}}) \\Big ] - D_{\\text{KL}}(q(\\mathbf{x_{1:T}} | \\mathbf{x_{0}}) || p_{\\theta}(\\mathbf{x_{1:T}}))$$"
   ]
  },
  {
   "cell_type": "markdown",
   "id": "9d0d5101",
   "metadata": {},
   "source": [
    "The left hand side of this expression yields the desirable relationship with $\\log p_{\\theta}(\\mathbf{x_{0}})$, and thus is our VLB, which we will call $-L_{\\text{VLB}}$. Noting that KL divergence is always non-negative:\n",
    "\n",
    "$$\\log{p_{\\theta}(\\mathbf{x_{0}})} - D_{\\text{KL}}(q(\\mathbf{x_{1:T}} | \\mathbf{x_{0}}) || p_{\\theta}(\\mathbf{x_{1:T}} | \\mathbf{x_{0}})) \\leq \\log p_{\\theta}(\\mathbf{x_{0}})$$"
   ]
  },
  {
   "cell_type": "markdown",
   "id": "feb5a28d",
   "metadata": {},
   "source": [
    "As we seek to maximize the log-likelihood, and acknowledging that all maximizations can be expressed in terms of minimization, we once more rewrite the above expression in terms of said minimization:\n",
    "\n",
    "$$-\\log p_{\\theta}(\\mathbf{x_{0}}) \\leq D_{\\text{KL}}(q(\\mathbf{x_{1:T}} | \\mathbf{x_{0}}) || p_{\\theta}(\\mathbf{x_{1:T}} | \\mathbf{x_{0}})) - \\log{p_{\\theta}(\\mathbf{x_{0}})} $$"
   ]
  },
  {
   "cell_type": "markdown",
   "id": "2fd0f86d",
   "metadata": {},
   "source": [
    "We may further simplify this VLB:\n",
    "\n",
    "$$\\begin{align}\n",
    "L_{\\text{VLB}} &= D_{\\text{KL}}(q(\\mathbf{x_{1:T}} | \\mathbf{x_{0}}) || p_{\\theta}(\\mathbf{x_{1:T}} | \\mathbf{x_{0}})) - \\log{p_{\\theta}(\\mathbf{x_{0}})} \\\\\n",
    "               &= \\mathbb{E}_ {\\mathbf{x_{1:T}} \\sim q(\\mathbf{x_{1:T}} | \\mathbf{x_{0}})} \\Big[ \\log \\Big (\\frac{q(\\mathbf{x_{1:T}} | \\mathbf{x_{0}})}{p_{\\theta}(\\mathbf{x_{1:T}} | \\mathbf{x_{0}})} \\Big) \\Big ] - \\log{p_{\\theta}(\\mathbf{x_{0}})} \\\\\n",
    "               &= \\mathbb{E}_ {\\mathbf{x_{1:T}} \\sim q(\\mathbf{x_{1:T}} | \\mathbf{x_{0}})} \\Big[ \\log \\Big (\\frac{q(\\mathbf{x_{1:T}} | \\mathbf{x_{0}})p_{\\theta}(\\mathbf{x_{0}})}{p_{\\theta}(\\mathbf{x_{1:T}}, \\mathbf{x_{0}})} \\Big ) \\Big ] - \\log{p_{\\theta}(\\mathbf{x_{0}})} \\\\\n",
    "               &= \\mathbb{E}_ {\\mathbf{x_{1:T}} \\sim q(\\mathbf{x_{1:T}} | \\mathbf{x_{0}})} \\Big[ \\log \\Big (\\frac{q(\\mathbf{x_{1:T}} | \\mathbf{x_{0}})}{p_{\\theta}(\\mathbf{x_{0}}, \\mathbf{x_1}, \\dots, \\mathbf{x_{T}})} \\Big ) + \\log p_{\\theta}(\\mathbf{x_{0}}) \\Big ] - \\log{p_{\\theta}(\\mathbf{x_{0}})} && \\text{(Bayes' Rule)}\\\\\n",
    "              &= \\mathbb{E}_ {\\mathbf{x_{1:T}} \\sim q(\\mathbf{x_{1:T}} | \\mathbf{x_{0}})} \\Big[ \\log \\Big ( \\frac{q(\\mathbf{x_{1:T}} | \\mathbf{x_{0}})}{p_{\\theta}(\\mathbf{x_{0:T}})} \\Big) \\Big ] +  \\mathbb{E}_ {\\mathbf{x_{1:T}} \\sim q(\\mathbf{x_{1:T}} | \\mathbf{x_{0}})} [ \\log p_{\\theta}(\\mathbf{x_{0}}) ] - \\log{p_{\\theta}(\\mathbf{x_{0}})} \\\\\n",
    "              &= \\mathbb{E}_ {q(\\mathbf{x_{1:T}} | \\mathbf{x_{0}})} \\Big[ \\log \\Big ( \\frac{q(\\mathbf{x_{1:T}} | \\mathbf{x_{0}})}{p_{\\theta}(\\mathbf{x_{0:T}})} \\big ) \\Big ] + \\log p_{\\theta}(\\mathbf{x_{0}}) - \\log{p_{\\theta}(\\mathbf{x_{0}})} \\\\\n",
    "              &= \\mathbb{E}_ {q(\\mathbf{x_{0:T}} | \\mathbf{x_{0}})} \\Big[ \\log \\Big ( \\frac{q(\\mathbf{x_{1:T}} | \\mathbf{x_{0}})}{p_{\\theta}(\\mathbf{x_{0:T}})} \\Big) \\Big ]\\\\\n",
    "\\end{align}$$\n",
    "\n",
    "**(Q: Why does the expected value switch to 0:T in the weng article?)**"
   ]
  },
  {
   "cell_type": "markdown",
   "id": "68245ccc",
   "metadata": {},
   "source": [
    "However, we cannot compute this simplified VLB, as the denominator would require us to already know the reverse conditionals. Thus, we again rewrite our VLB as:\n",
    "\n",
    "$$\\begin{align}\n",
    "L_{\\text{VLB}} &= \\mathbb{E}_ {q} \\Big[ \\log \\Big ( \\frac{q(\\mathbf{x_{1:T}} | \\mathbf{x_{0}})}{p_{\\theta}(\\mathbf{x_{0:T}})} \\Big) \\Big ] \\\\\n",
    "               &= \\mathbb{E}_ {q} \\Big[ \\log \\Big ( \\frac{\\prod\\nolimits^T_{t=1}q(\\mathbf{x_t}|\\mathbf{x_{t-1}})}{p_{\\theta}(\\mathbf{x_T})\\prod\\nolimits_{t=1}^{T} p_{\\theta}(\\mathbf{x_{t-1}} | \\mathbf{x_t})} \\Big) \\Big ] \\\\\n",
    "               &= \\mathbb{E}_ {q} \\Big[ -\\log{p_{\\theta}(\\mathbf{x_T})} + \\log \\Big ( \\frac{\\prod\\nolimits^T_{t=1}q(\\mathbf{x_t}|\\mathbf{x_{t-1}})}{\\prod\\nolimits_{t=1}^{T} p_{\\theta}(\\mathbf{x_{t-1}} | \\mathbf{x_t})} \\Big) \\Big ] \\\\\n",
    "               &= \\mathbb{E}_ {q} \\Big[ -\\log{p_{\\theta}(\\mathbf{x_T})} + \\sum\\nolimits_{t=1}^{T} \\log \\Big ( \\frac{q(\\mathbf{x_t}|\\mathbf{x_{t-1}})}{p_{\\theta}(\\mathbf{x_{t-1}} | \\mathbf{x_t})} \\Big) \\Big ] \\\\\n",
    "              &= \\mathbb{E}_ {q} \\Big[ -\\log{p_{\\theta}(\\mathbf{x_T})} + \\sum\\nolimits_{t=2}^{T} \\log \\Big ( \\frac{q(\\mathbf{x_t}|\\mathbf{x_{t-1}})}{p_{\\theta}(\\mathbf{x_{t-1}} | \\mathbf{x_t})} \\Big) + \\log \\Big( \\frac{q(\\mathbf{x_1}|\\mathbf{x_{0}})}{p_{\\theta}(\\mathbf{x_{0}} | \\mathbf{x_1})}\\Big)\\Big ] \\\\\n",
    "              &= (**)\n",
    "\\end{align}$$"
   ]
  },
  {
   "cell_type": "markdown",
   "id": "a047ad49",
   "metadata": {},
   "source": [
    "Now, we use Bayes' Rule to expand $q(\\mathbf{x_t}|\\mathbf{x_{t-1}})$:\n",
    "\n",
    "$$\\begin{align}\n",
    "q(\\mathbf{x_t}|\\mathbf{x_{t-1}}) &= q(\\mathbf{x_t}|\\mathbf{x_{t-1}}, \\mathbf{x_0}) && \\text{($q(\\mathbf{x_{t-1}}) = q(\\mathbf{x_{t-1}}, \\mathbf{x_0})$)} \\\\\n",
    "                                 &= \\frac{q(\\mathbf{x_t},\\mathbf{x_{t-1}}, \\mathbf{x_0})}{q(\\mathbf{x_{t-1}}, \\mathbf{x_0})} && \\text{(Bayes' Rule)}\\\\\n",
    "                                 &= \\frac{q(\\mathbf{x_{t-1}},\\mathbf{x_{t}}, \\mathbf{x_0})}{q(\\mathbf{x_{t-1}}, \\mathbf{x_0})}\\\\\n",
    "                                 &= \\frac{q(\\mathbf{x_{t-1}}| \\mathbf{x_{t}}, \\mathbf{x_0})q(\\mathbf{x_{t}}, \\mathbf{x_0})}{q(\\mathbf{x_{t-1}}, \\mathbf{x_0})} && \\text{(Bayes' Rule)}\\\\\n",
    "                                 &= \\frac{q(\\mathbf{x_{t-1}}| \\mathbf{x_{t}}, \\mathbf{x_0})q(\\mathbf{x_{t}}| \\mathbf{x_0})q(\\mathbf{x_0})}{q(\\mathbf{x_{t-1}}| \\mathbf{x_0})q(\\mathbf{x_0})} && \\text{(Bayes' Rule)}\\\\\n",
    "                                 &= \\frac{q(\\mathbf{x_{t-1}}| \\mathbf{x_{t}}, \\mathbf{x_0})q(\\mathbf{x_{t}}| \\mathbf{x_0})}{q(\\mathbf{x_{t-1}}| \\mathbf{x_0})} && \\text{(Bayes' Rule)}\\\\\n",
    "\\end{align}$$"
   ]
  },
  {
   "cell_type": "markdown",
   "id": "98e00b77",
   "metadata": {},
   "source": [
    "Returning to our previous system of equivalences:\n",
    "\n",
    "$$\\begin{align}\n",
    "(**) &= \\mathbb{E}_ {q} \\Big[ -\\log{p_{\\theta}(\\mathbf{x_T})} + \\sum\\nolimits_{t=2}^{T} \\log \\Big ( \\frac{q(\\mathbf{x_{t-1}}| \\mathbf{x_{t}}, \\mathbf{x_0})}{p_{\\theta}(\\mathbf{x_{t-1}} | \\mathbf{x_t})} \\cdot \\frac{q(\\mathbf{x_{t}}| \\mathbf{x_0})}{q(\\mathbf{x_{t-1}}| \\mathbf{x_0})} \\Big) + \\log \\Big( \\frac{q(\\mathbf{x_1}|\\mathbf{x_{0}})}{p_{\\theta}(\\mathbf{x_{0}} | \\mathbf{x_1})}\\Big)\\Big ] && \\text{(Via the above substitution)}\\\\\n",
    "       &= \\mathbb{E}_ {q} \\Big[ -\\log{p_{\\theta}(\\mathbf{x_T})} + \\sum\\nolimits_{t=2}^{T} \\log \\Big ( \\frac{q(\\mathbf{x_{t-1}}| \\mathbf{x_{t}}, \\mathbf{x_0})}{p_{\\theta}(\\mathbf{x_{t-1}} | \\mathbf{x_t})} \\Big) + \\sum\\nolimits_{t=2}^{T} \\log \\Big( \\frac{q(\\mathbf{x_{t}}| \\mathbf{x_0})}{q(\\mathbf{x_{t-1}}| \\mathbf{x_0})} \\Big) + \\log \\Big( \\frac{q(\\mathbf{x_1}|\\mathbf{x_{0}})}{p_{\\theta}(\\mathbf{x_{0}} | \\mathbf{x_1})}\\Big)\\Big ]\\\\\n",
    "&= \\mathbb{E}_ {q} \\Big[ -\\log{p_{\\theta}(\\mathbf{x_T})} + \\sum\\nolimits_{t=2}^{T} \\log \\Big ( \\frac{q(\\mathbf{x_{t-1}}| \\mathbf{x_{t}}, \\mathbf{x_0})}{p_{\\theta}(\\mathbf{x_{t-1}} | \\mathbf{x_t})} \\Big) +  \\log \\Big( \\prod \\nolimits_{t=2}^{T} \\frac{q(\\mathbf{x_{t}}| \\mathbf{x_0})}{q(\\mathbf{x_{t-1}}| \\mathbf{x_0})} \\Big) + \\log \\Big( \\frac{q(\\mathbf{x_1}|\\mathbf{x_{0}})}{p_{\\theta}(\\mathbf{x_{0}} | \\mathbf{x_1})}\\Big)\\Big ]\\\\\n",
    "&= \\mathbb{E}_ {q} \\Big[ -\\log{p_{\\theta}(\\mathbf{x_T})} + \\sum\\nolimits_{t=2}^{T} \\log \\Big ( \\frac{q(\\mathbf{x_{t-1}}| \\mathbf{x_{t}}, \\mathbf{x_0})}{p_{\\theta}(\\mathbf{x_{t-1}} | \\mathbf{x_t})} \\Big) +  \\log \\Big(  \\frac{q(\\mathbf{x_{2}}| \\mathbf{x_0}) \\dots q(\\mathbf{x_{T}}| \\mathbf{x_0})}{q(\\mathbf{x_{1}}| \\mathbf{x_0}) \\cdots q(\\mathbf{x_{T-1}}| \\mathbf{x_0})} \\Big) + \\log \\Big( \\frac{q(\\mathbf{x_1}|\\mathbf{x_{0}})}{p_{\\theta}(\\mathbf{x_{0}} | \\mathbf{x_1})}\\Big)\\Big ]\\\\\n",
    "&= \\mathbb{E}_ {q} \\Big[ -\\log{p_{\\theta}(\\mathbf{x_T})} + \\sum\\nolimits_{t=2}^{T} \\log \\Big ( \\frac{q(\\mathbf{x_{t-1}}| \\mathbf{x_{t}}, \\mathbf{x_0})}{p_{\\theta}(\\mathbf{x_{t-1}} | \\mathbf{x_t})} \\Big) +  \\log \\Big(  \\frac{q(\\mathbf{x_{T}}| \\mathbf{x_0})}{q(\\mathbf{x_{1}}| \\mathbf{x_0})} \\Big) + \\log \\Big( \\frac{q(\\mathbf{x_1}|\\mathbf{x_{0}})}{p_{\\theta}(\\mathbf{x_{0}} | \\mathbf{x_1})}\\Big)\\Big ]\\\\\n",
    "&= \\mathbb{E}_ {q} \\Big[ -\\log{p_{\\theta}(\\mathbf{x_T})} + \\sum\\nolimits_{t=2}^{T} \\log \\Big ( \\frac{q(\\mathbf{x_{t-1}}| \\mathbf{x_{t}}, \\mathbf{x_0})}{p_{\\theta}(\\mathbf{x_{t-1}} | \\mathbf{x_t})} \\Big) +  \\log \\Big(  \\frac{q(\\mathbf{x_{T}}| \\mathbf{x_0})q(\\mathbf{x_1}|\\mathbf{x_{0}})}{q(\\mathbf{x_{1}}| \\mathbf{x_0})p_{\\theta}(\\mathbf{x_{0}} | \\mathbf{x_1})} \\Big) \\Big ]\\\\\n",
    "&= \\mathbb{E}_ {q} \\Big[ -\\log{p_{\\theta}(\\mathbf{x_T})} + \\sum\\nolimits_{t=2}^{T} \\log \\Big ( \\frac{q(\\mathbf{x_{t-1}}| \\mathbf{x_{t}}, \\mathbf{x_0})}{p_{\\theta}(\\mathbf{x_{t-1}} | \\mathbf{x_t})} \\Big) +  \\log \\Big(  \\frac{q(\\mathbf{x_{T}}| \\mathbf{x_0})}{p_{\\theta}(\\mathbf{x_{0}} | \\mathbf{x_1})} \\Big) \\Big ]\\\\\n",
    "&= \\mathbb{E}_ {q} \\Big[ -\\log{p_{\\theta}(\\mathbf{x_T})} + \\sum\\nolimits_{t=2}^{T} \\log \\Big ( \\frac{q(\\mathbf{x_{t-1}}| \\mathbf{x_{t}}, \\mathbf{x_0})}{p_{\\theta}(\\mathbf{x_{t-1}} | \\mathbf{x_t})} \\Big) +  \\log{q(\\mathbf{x_{T}}| \\mathbf{x_0})}-\\log{p_{\\theta}(\\mathbf{x_{0}} | \\mathbf{x_1})}\\Big ]\\\\\n",
    "&= \\mathbb{E}_ {q} \\Big[ \\log \\Big( \\frac{q(\\mathbf{x_{T}}| \\mathbf{x_0})}{p_{\\theta}(\\mathbf{x_T})} \\Big) + \\sum\\nolimits_{t=2}^{T} \\log \\Big ( \\frac{q(\\mathbf{x_{t-1}}| \\mathbf{x_{t}}, \\mathbf{x_0})}{p_{\\theta}(\\mathbf{x_{t-1}} | \\mathbf{x_t})} \\Big)-\\log{p_{\\theta}(\\mathbf{x_{0}} | \\mathbf{x_1})}\\Big ]\\\\\n",
    "&= \\mathbb{E}_ {q} \\Big[ \\mathbb{E}_ {q} \\Big[ \\log \\Big( \\frac{q(\\mathbf{x_{T}}| \\mathbf{x_0})}{p_{\\theta}(\\mathbf{x_T})} \\Big) \\Big] + \\sum\\nolimits_{t=2}^{T} \\mathbb{E}_ {q} \\Big[ \\log \\Big ( \\frac{q(\\mathbf{x_{t-1}}| \\mathbf{x_{t}}, \\mathbf{x_0})}{p_{\\theta}(\\mathbf{x_{t-1}} | \\mathbf{x_t})} \\Big) \\Big ]-\\log{p_{\\theta}(\\mathbf{x_{0}} | \\mathbf{x_1})}\\Big ]\\\\\n",
    "&= \\mathbb{E}_ {q} \\Big[ D_\\text{KL} (q(\\mathbf{x_{T}}| \\mathbf{x_0}) || p_{\\theta}(\\mathbf{x_T})) + \\sum\\nolimits_{t=2}^{T} D_\\text{KL} ( q(\\mathbf{x_{t-1}}| \\mathbf{x_{t}}, \\mathbf{x_0})||p_{\\theta}(\\mathbf{x_{t-1}} | \\mathbf{x_t})) -\\log{p_{\\theta}(\\mathbf{x_{0}} | \\mathbf{x_1})}\\Big ]\\\\\n",
    "\\end{align}$$\n"
   ]
  },
  {
   "cell_type": "markdown",
   "id": "45fe0960",
   "metadata": {},
   "source": [
    "Now, to make sense of this VLB, we label the components of the above expression as 'loss terms' $L_{i}$ where $i = 1, \\dots, T$. We have three distinguishable cases **[9]**:\n",
    "\n",
    "$$\\begin{align}\n",
    "L_T &= D_\\text{KL} (q(\\mathbf{x_{T}}| \\mathbf{x_0}) || p_{\\theta}(\\mathbf{x_T}))\\\\\n",
    "L_{t-1} &= D_\\text{KL} ( q(\\mathbf{x_{t-1}}| \\mathbf{x_{t}}, \\mathbf{x_0})||p_{\\theta}(\\mathbf{x_{t-1}} | \\mathbf{x_t}))\\\\\n",
    "L_0 &= -\\log{p_{\\theta}(\\mathbf{x_{0}} | \\mathbf{x_1})}\n",
    "\\end{align}$$\n"
   ]
  },
  {
   "cell_type": "markdown",
   "id": "19ca659c",
   "metadata": {},
   "source": [
    "In the case of $L_T$, we are using a pre-defined 'noise schedule', and thus $L_T$ should be considered constant (Recalling that $p_{\\theta}(\\mathbf{x_T})$ is generated noise as well). For $L_{0}$, we might use an additional decoder to model it, and, for lack of time, we will leave this as a constant $C_0$.\n",
    "\n",
    "As for $L_{t-1}$, we can easily rearrange the above form to achieve an equivalent result for $L_{t}$, where $1 \\leq t \\leq T-1$:\n",
    "\n",
    "$$L_{t} = D_\\text{KL} ( q(\\mathbf{x_{t}}| \\mathbf{x_{t+1}}, \\mathbf{x_0})||p_{\\theta}(\\mathbf{x_{t}} | \\mathbf{x_{t+1}}))$$"
   ]
  },
  {
   "cell_type": "markdown",
   "id": "9662b3ab",
   "metadata": {},
   "source": [
    "However, as we seek to optimize our VLB, we will manipulate $L_{t}$ in order to find an optimal/viable cost function. To do this, we want some way to measure the 'loss' between our predicted noisy images, and the original noisy images themselves. Thus, we manipulate the above loss component to find a usable comparison between the respective distributions. Starting with $L_{t-1}$:\n",
    "\n",
    "$$\\begin{align}\n",
    "L_{t-1} &=  D_\\text{KL} ( q(\\mathbf{x_{t}}| \\mathbf{x_{t+1}}, \\mathbf{x_0})||p_{\\theta}(\\mathbf{x_{t}} | \\mathbf{x_{t+1}})) \\\\\n",
    "        &= \\mathbb{E}_ {\\mathbf{x_{t-1}} \\sim q} \\Big[ \\log \\Big( \\frac{q(\\mathbf{x_{t-1}}| \\mathbf{x_{t}}, \\mathbf{x_0})}{p_{\\theta}(\\mathbf{x_{t-1}} | \\mathbf{x_{t}}))} \\Big) \\Big ] \\\\\n",
    "         &= \\mathbb{E}_ {q} \\Big[ \\log \\Big( \\frac{q(\\mathbf{x_{t-1}}| \\mathbf{x_{t}}, \\mathbf{x_0})}{p_{\\theta}(\\mathbf{x_{t-1}} | \\mathbf{x_{t}}))} \\Big) \\Big ] \\\\\n",
    "\\end{align}$$"
   ]
  },
  {
   "cell_type": "markdown",
   "id": "af59d099",
   "metadata": {},
   "source": [
    "Recall from above that:\n",
    "\n",
    "$$\\begin{align}\n",
    "q(\\mathbf{x_{t-1}} | \\mathbf{x_t}, \\mathbf{x_0}) &= \\mathcal{N}(\\mathbf{x_{t-1}}; \\mathbf{\\tilde{\\mu_t}}(\\mathbf{x_t}, \\mathbf{x_0}), \\tilde{\\beta_t}\\mathbf{I}) \\\\\n",
    "p_{\\theta}(\\mathbf{x_{t-1}} | \\mathbf{x_t}) &= \\mathcal{N}(\\mathbf{x_{t-1}}; \\mathbf{\\mu_{\\theta}}(\\mathbf{x_t}, t), \\beta_t \\mathbf{I}) \\\\\n",
    "\\end{align}$$\n"
   ]
  },
  {
   "cell_type": "markdown",
   "id": "0635cac8",
   "metadata": {},
   "source": [
    "This allows us to rewrite the expression as:\n",
    "\n",
    "$$L_{t-1} = \\mathbb{E}_ {q} \\Big[ \\log (\\mathcal{N}(\\mathbf{x_{t-1}}; \\mathbf{\\tilde{\\mu_t}}(\\mathbf{x_t}, \\mathbf{x_0}), \\tilde{\\beta_t}\\mathbf{I})) - \\log ( \\mathcal{N}(\\mathbf{x_{t-1}}; \\mathbf{\\mu_{\\theta}}(\\mathbf{x_t}, t), \\beta_t \\mathbf{I}))  \\Big ]$$\n"
   ]
  },
  {
   "cell_type": "markdown",
   "id": "61cfff71",
   "metadata": {},
   "source": [
    "Moving forward, we make use of the assumption that we have a pre-defined noise scheduler (i.e. $\\tilde{\\beta_t} = \\beta_t$ at any timestep t). Additionally, recall that the probability density function of a Gaussian distribution $\\mathcal{N}(x;\\mu,\\sigma^2)$ is:\n",
    "\n",
    "$$f(x) = \\frac{1}{\\sqrt{2\\pi \\sigma^2}}\\exp\\Big({-\\frac{1}{2}\\Big({\\frac{x-\\mu}{\\sigma}}\\Big)^2}\\Big)$$"
   ]
  },
  {
   "cell_type": "markdown",
   "id": "d2c0888e",
   "metadata": {},
   "source": [
    "Again, we manipulate $L_{t-1}$\n",
    "\n",
    "$$\\begin{align}\n",
    "L_{t-1} &= \\mathbb{E}_ {q} \\Big[ \\log \\Big( \\frac{1}{\\sqrt{2\\pi \\tilde{\\beta_t}}}\\exp\\Big({-\\frac{1}{2}\\Big({\\frac{x_{t-1}-\\mathbf{\\tilde{\\mu_t}}}{\\sqrt{\\tilde{\\beta_t}}}}\\Big)^2}\\Big)\\Big) - \\log \\Big( \\frac{1}{\\sqrt{2\\pi \\beta_t}}\\exp\\Big({-\\frac{1}{2}\\Big({\\frac{x_{t-1}-\\mathbf{\\mu_\\theta}}{\\sqrt{\\beta_t}}}\\Big)^2}\\Big)\\Big)  \\Big ] \\\\\n",
    "        &= \\mathbb{E}_ {q} \\Big[ \\log \\Big( \\frac{1}{\\sqrt{2\\pi \\tilde{\\beta_t}}} \\Big ) + \\log \\Big( \\exp\\Big({-\\frac{1}{2}\\Big({\\frac{x_{t-1}-\\mathbf{\\tilde{\\mu_t}}}{\\sqrt{\\tilde{\\beta_t}}}}\\Big)^2}\\Big)\\Big) - \\Big( \\log \\Big( \\frac{1}{\\sqrt{2\\pi \\beta_t}} \\Big) +  \\log \\Big(\\exp\\Big({-\\frac{1}{2}\\Big({\\frac{x_{t-1}-\\mathbf{\\mu_\\theta}}{\\sqrt{\\beta_t}}}\\Big)^2}\\Big)\\Big) \\Big) \\Big ] \\\\\n",
    "        &= \\mathbb{E}_ {q} \\Big[ \\log \\Big( \\exp\\Big({-\\frac{1}{2}\\Big({\\frac{x_{t-1}-\\mathbf{\\tilde{\\mu_t}}}{\\sqrt{\\tilde{\\beta_t}}}}\\Big)^2}\\Big)\\Big) - \\log \\Big(\\exp\\Big({-\\frac{1}{2}\\Big({\\frac{x_{t-1}-\\mathbf{\\mu_\\theta}}{\\sqrt{\\beta_t}}}\\Big)^2}\\Big)\\Big)  \\Big ] && \\text{($\\tilde{\\beta_t} = \\beta_t$)} \\\\\n",
    "&= \\mathbb{E}_ {q} \\Big[ \\Big({-\\frac{1}{2}\\Big({\\frac{x_{t-1}-\\mathbf{\\tilde{\\mu_t}}}{\\sqrt{\\tilde{\\beta_t}}}}\\Big)^2}\\Big) \\log (\\exp) - \\Big({-\\frac{1}{2}\\Big({\\frac{x_{t-1}-\\mathbf{\\mu_\\theta}}{\\sqrt{\\beta_t}}}\\Big)^2}\\Big) \\log (\\exp)  \\Big ]\\\\\n",
    "&= \\mathbb{E}_ {q} \\Big[ \\Big({-\\frac{1}{2}\\Big({\\frac{x_{t-1}-\\mathbf{\\tilde{\\mu_t}}}{\\sqrt{\\tilde{\\beta_t}}}}\\Big)^2}\\Big)- \\Big({-\\frac{1}{2}\\Big({\\frac{x_{t-1}-\\mathbf{\\mu_\\theta}}{\\sqrt{\\beta_t}}}\\Big)^2}\\Big)\\Big ]\\\\\n",
    "&= \\mathbb{E}_ {q} \\Big[ \\Big({-\\frac{1}{2}\\Big({\\frac{(x_{t-1}-\\mathbf{\\tilde{\\mu_t}})^2}{\\tilde{\\beta_t}}}\\Big)}\\Big)- \\Big({-\\frac{1}{2}\\Big({\\frac{(x_{t-1}-\\mathbf{\\mu_\\theta})^2}{\\beta_t}}}\\Big)\\Big)\\Big ]\\\\\n",
    "&= \\mathbb{E}_ {q} \\Big[ {-\\frac{1}{2\\beta_t}\\Big({(x_{t-1}-\\mathbf{\\tilde{\\mu_t}})^2}}- (x_{t-1}-\\mathbf{\\mu_\\theta})^2\\Big)\\Big ] && \\text{($\\tilde{\\beta_t} = \\beta_t$)} \\\\\n",
    "&= (***)\n",
    "\\end{align}$$"
   ]
  },
  {
   "cell_type": "markdown",
   "id": "31b9d695",
   "metadata": {},
   "source": [
    "Using aforementioned reparameterization of $\\mathbf{x_{t-1}} \\sim q(\\mathbf{x_{t-1}} | \\mathbf{x_t}, \\mathbf{x_0}) = \\mathcal{N}(\\mathbf{x_{t-1}}; \\mathbf{\\tilde{\\mu_t}}(\\mathbf{x_t}, \\mathbf{x_0}), \\tilde{\\beta_t}\\mathbf{I})$ where $\\mathbf{x_{t-1}} = \\mathbf{\\tilde{\\mu_t}} + \\sqrt{\\tilde{\\beta_t}}\\mathbf{\\epsilon}$ and $\\mathbf{\\epsilon} \\sim \\mathcal{N}(\\mathbf{0}, \\mathbf{I})$, we expand with difference of squares:\n",
    "\n",
    "$$\\begin{align}\n",
    "(x_{t-1}-\\mathbf{\\tilde{\\mu_t}})^2- (x_{t-1}-\\mathbf{\\mu_\\theta})^2 &= ((x_{t-1}-\\mathbf{\\tilde{\\mu_t}})+(x_{t-1}-\\mathbf{\\mu_\\theta}))((x_{t-1}-\\mathbf{\\tilde{\\mu_t}})-(x_{t-1}-\\mathbf{\\mu_\\theta}))\\\\\n",
    "                                                                    &= (2x_{t-1}-\\mathbf{\\tilde{\\mu_t}}-\\mathbf{\\mu_\\theta})(\\mathbf{\\mu_\\theta}-\\mathbf{\\tilde{\\mu_t}})\\\\\n",
    "                                                                    &= (2(\\mathbf{\\tilde{\\mu_t}} + \\sqrt{\\tilde{\\beta_t}}\\mathbf{\\epsilon})-\\mathbf{\\tilde{\\mu_t}}-\\mathbf{\\mu_\\theta})(\\mathbf{\\mu_\\theta}-\\mathbf{\\tilde{\\mu_t}})\\\\\n",
    "                                                                    &= (2\\mathbf{\\tilde{\\mu_t}} + 2\\sqrt{\\tilde{\\beta_t}}\\mathbf{\\epsilon}-\\mathbf{\\tilde{\\mu_t}}-\\mathbf{\\mu_\\theta})(\\mathbf{\\mu_\\theta}-\\mathbf{\\tilde{\\mu_t}})\\\\\n",
    "                                                                    &= (2\\sqrt{\\tilde{\\beta_t}}\\mathbf{\\epsilon}+\\mathbf{\\tilde{\\mu_t}}-\\mathbf{\\mu_\\theta})(\\mathbf{\\mu_\\theta}-\\mathbf{\\tilde{\\mu_t}})\\\\\n",
    "                                                                    &= 2\\sqrt{\\tilde{\\beta_t}}\\mathbf{\\epsilon}\\mathbf{\\mu_\\theta}-2\\sqrt{\\tilde{\\beta_t}}\\mathbf{\\epsilon}\\mathbf{\\tilde{\\mu_t}}+\\mathbf{\\tilde{\\mu_t}}\\mathbf{\\mu_\\theta}-\\mathbf{\\tilde{\\mu_t}}\\mathbf{\\tilde{\\mu_t}}-\\mathbf{\\mu_\\theta}\\mathbf{\\mu_\\theta}+\\mathbf{\\mu_\\theta}\\mathbf{\\tilde{\\mu_t}}\\\\\n",
    "                                                                    &= 2\\sqrt{\\tilde{\\beta_t}}\\mathbf{\\epsilon}\\mathbf{\\mu_\\theta}-2\\sqrt{\\tilde{\\beta_t}}\\mathbf{\\epsilon}\\mathbf{\\tilde{\\mu_t}}-(\\mathbf{\\tilde{\\mu_t}}^2-2\\mathbf{\\tilde{\\mu_t}}\\mathbf{\\mu_\\theta}+\\mathbf{\\mu_\\theta}^2)\\\\\n",
    "                                                                    &= 2\\sqrt{\\tilde{\\beta_t}}\\mathbf{\\epsilon}\\mathbf{\\mu_\\theta}-2\\sqrt{\\tilde{\\beta_t}}\\mathbf{\\epsilon}\\mathbf{\\tilde{\\mu_t}}-(\\mathbf{\\tilde{\\mu_t}}-\\mathbf{\\mu_\\theta})^2\\\\\n",
    "                                                                    &= -\\Big( (\\mathbf{\\tilde{\\mu_t}}-\\mathbf{\\mu_\\theta})^2 + 2\\sqrt{\\tilde{\\beta_t}}\\mathbf{\\epsilon}\\mathbf{\\tilde{\\mu_t}} - 2\\sqrt{\\tilde{\\beta_t}}\\mathbf{\\epsilon}\\mathbf{\\mu_\\theta} \\Big)\\\\\n",
    "\\end{align}$$\n"
   ]
  },
  {
   "cell_type": "markdown",
   "id": "460b3347",
   "metadata": {},
   "source": [
    "Returning to (***):\n",
    "\n",
    "$$(***) = \\mathbb{E}_ {q} \\Big[ -\\frac{1}{2\\beta_t}\\Big({(x_{t-1}-\\mathbf{\\tilde{\\mu_t}})^2}- (x_{t-1}-\\mathbf{\\mu_\\theta})^2\\Big)\\Big ]$$\n",
    "\n",
    "$$= \\mathbb E_q \\Big[ \\frac{1}{2\\beta_t}\\Big( (\\mathbf{\\tilde{\\mu_t}}-\\mathbf{\\mu_\\theta})^2 + 2\\sqrt{\\tilde{\\beta_t}}\\mathbf{\\epsilon}\\mathbf{\\tilde{\\mu_t}} - 2\\sqrt{\\tilde{\\beta_t}}\\mathbf{\\epsilon}\\mathbf{\\mu_\\theta} \\Big) \\Big ]$$\n"
   ]
  },
  {
   "cell_type": "markdown",
   "id": "c86db018",
   "metadata": {},
   "source": [
    "Here, we note that the above expression is proportional to:\n",
    " \n",
    "$$\\mathbb E_q \\Big[ \\frac{1}{2\\beta_t}\\Big( (\\mathbf{\\tilde{\\mu_t}}-\\mathbf{\\mu_\\theta})^2 \\Big) \\Big] = \\mathbb E_q \\Big[ \\frac{1}{2\\beta_t}\\Big( \\|\\mathbf{\\tilde{\\mu_t}}(\\mathbf{x_t}, \\mathbf{x_0})-\\mathbf{\\mu_{\\theta}}(\\mathbf{x_t}, t)\\|^2 \\Big) \\Big]$$\n",
    "\n",
    "Where $\\| \\cdot \\|$ denotes the one-norm."
   ]
  },
  {
   "cell_type": "markdown",
   "id": "d0ed8e09",
   "metadata": {},
   "source": [
    "Thus, we can see that we have acquired a desired comparison between the two distributions. However, this gives that we are trying to train $\\mathbf{\\mu_{\\theta}}$ to predict $\\mathbf{\\tilde{\\mu_t}}$, which is intuitively difficult to justify. To find a more clear loss function, we look towards parameterizing our means. Starting with $\\mathbf{\\tilde{\\mu_t}}$:\n",
    "\n",
    "$$\\begin{align}\n",
    "q(\\mathbf{x_{t-1}} | \\mathbf{x_t}, \\mathbf{x_0}) &= \\frac{q(\\mathbf{x_{t-1}}, \\mathbf{x_t}, \\mathbf{x_0})}{q(\\mathbf{x_t}, \\mathbf{x_0})} && \\text{(Bayes' Rule)} \\\\\n",
    "                                                 &= \\frac{q(\\mathbf{x_{t}} | \\mathbf{x_{t-1}}, \\mathbf{x_0})q(\\mathbf{x_{t-1}}, \\mathbf{x_0})}{q(\\mathbf{x_t}| \\mathbf{x_0})q(\\mathbf{x_0})} && \\text{(Bayes' Rule)} \\\\\n",
    "                                                 &= \\frac{q(\\mathbf{x_{t}} | \\mathbf{x_{t-1}}, \\mathbf{x_0})q(\\mathbf{x_{t-1}}| \\mathbf{x_0})q(\\mathbf{x_0})}{q(\\mathbf{x_t}| \\mathbf{x_0})q(\\mathbf{x_0})} && \\text{(Bayes' Rule)} \\\\\n",
    "                                                 &= \\frac{q(\\mathbf{x_{t}} | \\mathbf{x_{t-1}}, \\mathbf{x_0})q(\\mathbf{x_{t-1}}| \\mathbf{x_0})}{q(\\mathbf{x_t}| \\mathbf{x_0})} \\\\\n",
    "                                                 &= (\\text{****})\n",
    "\\end{align}$$\n",
    "\n"
   ]
  },
  {
   "cell_type": "markdown",
   "id": "ecd939de",
   "metadata": {},
   "source": [
    "Recall $q(\\mathbf{x_{t}} | \\mathbf{x_{t-1}}, \\mathbf{x_0}) = q(\\mathbf{x_{t}} | \\mathbf{x_{t-1}})$.  Addressing the above distributions individually:\n",
    "\n",
    "$$\\begin{align}\n",
    "q(\\mathbf{x_{t}} | \\mathbf{x_{t-1}}) &= \\mathcal{N}(\\mathbf{x_t};\\sqrt{\\alpha_t}\\mathbf{x_{t-1}},(1 - \\alpha_t)\\mathbf{I})\\\\\n",
    "q(\\mathbf{x_{t-1}}| \\mathbf{x_0}) &= \\mathcal{N}(\\mathbf{x_{t-1}};\\sqrt{\\bar{\\alpha}_{t-1}}\\mathbf{x_0}, (1 - \\bar{\\alpha}_{t-1})\\mathbf{I})\\\\\n",
    "q(\\mathbf{x_t}| \\mathbf{x_0}) &= \\mathcal{N}(\\mathbf{x_t};\\sqrt{\\bar{\\alpha_t}}\\mathbf{x_0}, (1 - \\bar{\\alpha_t})\\mathbf{I})\\\\\n",
    "\\end{align}$$"
   ]
  },
  {
   "cell_type": "markdown",
   "id": "a2e08261",
   "metadata": {},
   "source": [
    "Again using the probability density function of a gaussian distribution:\n",
    "\n",
    "$$\\begin{align}\n",
    "(\\text{****}) &= \\frac{\\frac{1}{\\sqrt{2\\pi (1 - \\alpha_t)}}\\exp\\Big({-\\frac{1}{2}\\Big({\\frac{\\mathbf{x_{t}}-\\sqrt{\\alpha_t}\\mathbf{x_{t-1}}}{\\sqrt{(1 - \\alpha_t)}}}\\Big)^2}\\Big)\\frac{1}{\\sqrt{2\\pi (1 - \\bar{\\alpha}_t})}\\exp\\Big({-\\frac{1}{2}\\Big({\\frac{\\mathbf{x_{t-1}}-\\sqrt{\\bar{\\alpha}_{t-1}}\\mathbf{x_0}}{\\sqrt{(1 - \\bar{\\alpha}_{t-1})}}}\\Big)^2}\\Big)}{\\frac{1}{\\sqrt{2\\pi (1 - \\bar{\\alpha}_t})}\\exp\\Big({-\\frac{1}{2}\\Big({\\frac{\\mathbf{x_{t}}-\\sqrt{\\bar{\\alpha_t}}\\mathbf{x_0}}{\\sqrt{(1 - \\bar{\\alpha_t})}}}\\Big)^2}\\Big)}\\\\\n",
    "              &\\propto \\exp\\Big({-\\frac{1}{2}\\Big({\\frac{\\mathbf{x_{t}}-\\sqrt{\\alpha_t}\\mathbf{x_{t-1}}}{\\sqrt{\\beta_t}}}\\Big)^2}\\Big)+\\Big({-\\frac{1}{2}\\Big({\\frac{\\mathbf{x_{t-1}}-\\sqrt{\\bar{\\alpha}_{t-1}}\\mathbf{x_0}}{\\sqrt{(1 - \\bar{\\alpha}_{t-1})}}}\\Big)^2}\\Big)-\\Big({-\\frac{1}{2}\\Big({\\frac{\\mathbf{x_{t}}-\\sqrt{\\bar{\\alpha_t}}\\mathbf{x_0}}{\\sqrt{(1 - \\bar{\\alpha_t})}}}\\Big)^2}\\Big)\\\\\n",
    "              &= \\exp\\Big({-\\frac{1}{2}\\Big({\\frac{(\\mathbf{x_{t}}-\\sqrt{\\alpha_t}\\mathbf{x_{t-1}})^2}{\\beta_t}}}+{\\frac{(\\mathbf{x_{t-1}}-\\sqrt{\\bar{\\alpha_{t-1}}}\\mathbf{x_0})^2}{(1 - \\bar{\\alpha}_{t-1})}}-{\\frac{(\\mathbf{x_{t}}-\\sqrt{\\bar{\\alpha_t}}\\mathbf{x_0})^2}{(1 - \\bar{\\alpha_t})}}\\Big)\\Big)\\\\\n",
    "              &= \\exp\\Big({-\\frac{1}{2}\\Big({\\frac{\\mathbf{x_{t}}^2-2\\mathbf{x_{t}}\\sqrt{\\alpha_t}\\mathbf{x_{t-1}} + \\alpha_t\\mathbf{x_{t-1}}^2}{\\beta_t}}}+{\\frac{\\mathbf{x_{t-1}}^2-2\\mathbf{x_{t-1}}\\sqrt{\\bar{\\alpha}_{t-1}}\\mathbf{x_0} + \\bar{\\alpha}_{t-1}\\mathbf{x_0}^2}{(1 - \\bar{\\alpha}_{t-1})}}-{\\frac{(\\mathbf{x_{t}}-\\sqrt{\\bar{\\alpha_t}}\\mathbf{x_0})^2}{(1 - \\bar{\\alpha_t})}}\\Big)\\Big)\\\\\n",
    "              &= \\exp\\Big({-\\frac{1}{2}\\Big({-\\frac{2\\mathbf{x_{t}}\\sqrt{\\alpha_t}\\mathbf{x_{t-1}}}{\\beta_t} -\\frac{2\\mathbf{x_{t-1}}\\sqrt{\\bar{\\alpha}_{t-1}}\\mathbf{x_0}}{(1 - \\bar{\\alpha}_{t-1})} + \\frac{\\alpha_t\\mathbf{x_{t-1}}^2}{\\beta_t}}}+{\\frac{\\mathbf{x_{t-1}}^2}{(1 - \\bar{\\alpha}_{t-1})} + \\frac{\\bar{\\alpha}_{t-1}\\mathbf{x_0}^2}{(1 - \\bar{\\alpha}_{t-1})}}+\\frac{\\mathbf{x_{t}}^2}{\\beta_t}-{\\frac{(\\mathbf{x_{t}}-\\sqrt{\\bar{\\alpha_t}}\\mathbf{x_0})^2}{(1 - \\bar{\\alpha_t})}}\\Big)\\Big)\\\\\n",
    "              &= \\exp\\Big({-\\frac{1}{2}\\Big(\\frac{\\alpha_t\\mathbf{x_{t-1}}^2}{\\beta_t}}+\\frac{\\mathbf{x_{t-1}}^2}{(1 - \\bar{\\alpha}_{t-1})} {-\\frac{2\\mathbf{x_{t}}\\sqrt{\\alpha_t}\\mathbf{x_{t-1}}}{\\beta_t} -\\frac{2\\mathbf{x_{t-1}}\\sqrt{\\bar{\\alpha}_{t-1}}\\mathbf{x_0}}{(1 - \\bar{\\alpha}_{t-1})} + C(\\mathbf{x_t}, \\mathbf{x_0})}\\Big)\\Big)\\\\\n",
    "              &= \\exp\\Big({-\\frac{1}{2}\\Big(\\Big(\\frac{\\alpha_t}{\\beta_t}}+\\frac{1}{(1 - \\bar{\\alpha}_{t-1})} \\Big)\\mathbf{x_{t-1}}^2 {-2\\Big(\\frac{\\mathbf{x_{t}}\\sqrt{\\alpha_t}}{\\beta_t} +\\frac{\\sqrt{\\bar{\\alpha}_{t-1}}\\mathbf{x_0}}{(1 - \\bar{\\alpha}_{t-1})} \\Big)\\mathbf{x_{t-1}} + C(\\mathbf{x_t}, \\mathbf{x_0})}\\Big)\\Big)\\\\\n",
    "\\end{align}$$\n"
   ]
  },
  {
   "cell_type": "markdown",
   "id": "9e52e4b1",
   "metadata": {},
   "source": [
    "Here $C(\\mathbf{x_t}, \\mathbf{x_0})$ is function which does not involve $\\mathbf{x_{t-1}}$. The reason we choose not to deal with this function involves, again, the probability density function of a normal distribution:\n",
    "\n",
    "$$\\begin{align}\n",
    "f(x) &= \\frac{1}{\\sqrt{2\\pi \\sigma^2}}\\exp\\Big({-\\frac{1}{2}\\Big({\\frac{x-\\mu}{\\sigma}}\\Big)^2}\\Big) \\\\\n",
    "     &\\propto \\exp\\Big({-\\frac{1}{2}\\Big({\\frac{x-\\mu}{\\sigma}}\\Big)^2}\\Big) \\\\\n",
    "     &= \\exp\\Big({-\\frac{1}{2}\\Big({\\frac{x^2-2\\mu x + \\mu^2}{\\sigma^2}}\\Big)}\\Big) \\\\\n",
    "     &= \\exp\\Big({-\\frac{1}{2}\\Big({\\frac{x^2}{\\sigma^2}-\\frac{2\\mu x}{\\sigma^2} + \\frac{\\mu^2}{\\sigma^2}}\\Big)}\\Big) \\\\\n",
    "\\end{align}$$\n",
    "\n",
    "Where $\\frac{\\mu^2}{\\sigma^2}$ does not involve $\\mathbf{x_{t-1}}$."
   ]
  },
  {
   "cell_type": "markdown",
   "id": "551cc8fe",
   "metadata": {},
   "source": [
    "Returning to the above expression, we can correspond $\\Big(\\frac{\\alpha_t}{\\beta_t}+\\frac{1}{(1 - \\bar{\\alpha}_{t-1})} \\Big)\\mathbf{x_{t-1}}^2 $ to $\\frac{x^2}{\\sigma^2}$. Similarly, $2\\Big(\\frac{\\mathbf{x_{t}}\\sqrt{\\alpha_t}}{\\beta_t} +\\frac{\\sqrt{\\bar{\\alpha}_{t-1}}\\mathbf{x_0}}{(1 - \\bar{\\alpha}_{t-1})} \\Big)\\mathbf{x_{t-1}}$ corresponds to $\\frac{2\\mu x}{\\sigma^2}$. With this information, we parameterize $\\tilde{\\mu}_{t}(\\mathbf{x_t}, \\mathbf{x_0})$:\n",
    "\n",
    "$$\\begin{align}\n",
    "\\tilde{\\beta}_{t} &= \\Big(\\frac{\\alpha_t}{\\beta_t}+\\frac{1}{(1 - \\bar{\\alpha}_{t-1})} \\Big)^{-1} \\\\\n",
    "                  &= \\Big(\\frac{\\alpha_t(1 - \\bar{\\alpha}_{t-1})+\\beta_t}{\\beta_t(1 - \\bar{\\alpha}_{t-1})} \\Big)^{-1} \\\\\n",
    "                  &= \\frac{\\beta_t(1 - \\bar{\\alpha}_{t-1})}{\\alpha_t(1 - \\bar{\\alpha}_{t-1})+\\beta_t} \\\\\n",
    "                  &= \\frac{\\beta_t(1 - \\bar{\\alpha}_{t-1})}{\\alpha_t - \\alpha_t\\bar{\\alpha}_{t-1}+(1-\\alpha_t)} && \\text{($\\beta_t = 1 - \\alpha_t$)}\\\\\n",
    "                  &= \\frac{\\beta_t(1 - \\bar{\\alpha}_{t-1})}{1- \\bar{\\alpha}_{t}} && \\text{($\\bar{\\alpha_t} = \\prod\\nolimits_{i=1}^t \\alpha_i = \\alpha_t\\bar{\\alpha}_{t-1}$)}\\\\\n",
    "\\end{align}$$"
   ]
  },
  {
   "cell_type": "markdown",
   "id": "e7604feb",
   "metadata": {},
   "source": [
    "$$\\begin{align}\n",
    "\\tilde{\\mu}_{t}(\\mathbf{x_t}, \\mathbf{x_0}) &= \\Big(\\frac{\\mathbf{x_{t}}\\sqrt{\\alpha_t}}{\\beta_t} +\\frac{\\sqrt{\\bar{\\alpha}_{t-1}}\\mathbf{x_0}}{(1 - \\bar{\\alpha}_{t-1})} \\Big) \\Big( \\frac{\\beta_t(1 - \\bar{\\alpha}_{t-1})}{1- \\bar{\\alpha}_{t}} \\Big) \\\\\n",
    "                                            &= \\frac{\\mathbf{x_{t}}\\sqrt{\\alpha_t}}{\\beta_t}\\Big( \\frac{\\beta_t(1 - \\bar{\\alpha}_{t-1})}{1- \\bar{\\alpha}_{t}} \\Big)+\\frac{\\sqrt{\\bar{\\alpha}_{t-1}}\\mathbf{x_0}}{(1 - \\bar{\\alpha}_{t-1})}\\Big( \\frac{\\beta_t(1 - \\bar{\\alpha}_{t-1})}{1- \\bar{\\alpha}_{t}} \\Big) \\\\\n",
    "                                            &= \\mathbf{x_{t}}\\Big( \\frac{\\sqrt{\\alpha_t}\\beta_t(1 - \\bar{\\alpha}_{t-1})}{\\beta_t(1- \\bar{\\alpha}_{t})}\\Big)+\\mathbf{x_0}\\Big( \\frac{\\sqrt{\\bar{\\alpha}_{t-1}}\\beta_t(1 - \\bar{\\alpha}_{t-1})}{(1 - \\bar{\\alpha}_{t-1})(1- \\bar{\\alpha}_{t})}\\Big) \\\\\n",
    "                                            &= \\mathbf{x_{t}}\\Big( \\frac{\\sqrt{\\alpha_t}(1 - \\bar{\\alpha}_{t-1})}{(1- \\bar{\\alpha}_{t})}\\Big)+\\mathbf{x_0}\\Big( \\frac{\\sqrt{\\bar{\\alpha}_{t-1}}\\beta_t}{(1- \\bar{\\alpha}_{t})}\\Big) \\\\\n",
    "\\end{align}$$"
   ]
  },
  {
   "cell_type": "markdown",
   "id": "57ad7d26",
   "metadata": {},
   "source": [
    "We can actually perform a substitution here involving the reparameterization of samples from normal distribution from above: $\\mathcal{N}(\\mathbf{x}; \\mathbf{\\mu}, \\sigma^2\\mathbf{I})$, $\\mathbf{x} = \\mathbf{\\mu} + \\sigma\\mathbf{\\epsilon} $, where $\\mathbf{\\epsilon} \\sim \\mathcal{N}(\\boldsymbol{0}, \\mathbf{I})$.\n",
    "\n",
    "$$\\begin{align}\n",
    "q(\\mathbf{x_t} | \\mathbf{x_0}) &= \\mathcal{N}(\\mathbf{x_t};\\sqrt{\\bar{\\alpha_t}}\\mathbf{x_0}, (1 - \\bar{\\alpha_t})\\mathbf{I}) \\\\\n",
    "\\mathbf{x_t} &= \\sqrt{\\bar{\\alpha_t}}\\mathbf{x_0} + \\sqrt{1 - \\bar{\\alpha_t}}\\mathbf{\\epsilon_t} \\\\\n",
    "\\mathbf{x_t} - \\sqrt{1 - \\bar{\\alpha_t}}\\mathbf{\\epsilon_t} &= \\sqrt{\\bar{\\alpha_t}}\\mathbf{x_0}\\\\\n",
    "(\\sqrt{\\bar{\\alpha_t}})^{-1}(\\mathbf{x_t} - \\sqrt{1 - \\bar{\\alpha_t}}\\mathbf{\\epsilon_t}) &= \\mathbf{x_0}\\\\\n",
    "\\end{align}$$"
   ]
  },
  {
   "cell_type": "markdown",
   "id": "63176967",
   "metadata": {},
   "source": [
    "Returning to $\\tilde{\\mu}_{t}(\\mathbf{x_t}, \\mathbf{x_0})$:\n",
    "\n",
    "$$\\begin{align}\n",
    "\\tilde{\\mu}_{t}(\\mathbf{x_t}, \\mathbf{x_0}) &= \\mathbf{x_{t}}\\Big( \\frac{\\sqrt{\\alpha_t}(1 - \\bar{\\alpha}_{t-1})}{(1- \\bar{\\alpha}_{t})}\\Big)+\\mathbf{x_0}\\Big( \\frac{\\sqrt{\\bar{\\alpha}_{t-1}}\\beta_t}{(1- \\bar{\\alpha}_{t})}\\Big) \\\\\n",
    "                                            &= \\mathbf{x_{t}}\\Big( \\frac{\\sqrt{\\alpha_t}(1 - \\bar{\\alpha}_{t-1})}{(1- \\bar{\\alpha}_{t})}\\Big)+(\\sqrt{\\bar{\\alpha_t}})^{-1}(\\mathbf{x_t} - \\sqrt{1 - \\bar{\\alpha_t}}\\mathbf{\\epsilon_t})\\Big( \\frac{\\sqrt{\\bar{\\alpha}_{t-1}}\\beta_t}{(1- \\bar{\\alpha}_{t})}\\Big) \\\\\n",
    "                                            &= \\frac{\\mathbf{x_{t}}\\sqrt{\\alpha_t}(1 - \\bar{\\alpha}_{t-1})+(\\sqrt{\\bar{\\alpha_t}})^{-1}(\\mathbf{x_t} - \\sqrt{1 - \\bar{\\alpha_t}}\\mathbf{\\epsilon_t})\\sqrt{\\bar{\\alpha}_{t-1}}\\beta_t}{(1- \\bar{\\alpha}_{t})} \\\\\n",
    "                                            &= \\frac{\\mathbf{x_{t}}\\sqrt{\\alpha_t}(1 - \\bar{\\alpha}_{t-1})(\\sqrt{\\bar{\\alpha_t}})+(\\mathbf{x_t} - \\sqrt{1 - \\bar{\\alpha_t}}\\mathbf{\\epsilon_t})\\sqrt{\\bar{\\alpha}_{t-1}}\\beta_t}{(\\sqrt{\\bar{\\alpha_t}})(1- \\bar{\\alpha}_{t})} \\\\\n",
    "                                            &= \\frac{\\mathbf{x_{t}}\\sqrt{\\alpha_t}\\sqrt{\\bar{\\alpha_t}} - \\mathbf{x_{t}}\\sqrt{\\alpha_t}\\sqrt{\\bar{\\alpha}_{t-1}}\\sqrt{\\bar{\\alpha}_{t-1}}\\sqrt{\\bar{\\alpha_t}}+(\\mathbf{x_t} - \\sqrt{1 - \\bar{\\alpha_t}}\\mathbf{\\epsilon_t})\\sqrt{\\bar{\\alpha}_{t-1}}\\beta_t}{(\\sqrt{\\bar{\\alpha_t}})(1- \\bar{\\alpha}_{t})} && \\text{$\\bar{\\alpha}_{t-1} = \\sqrt{\\bar{\\alpha}_{t-1}}\\sqrt{\\bar{\\alpha}_{t-1}}$}\\\\\n",
    "                                            &= \\frac{\\mathbf{x_{t}}\\sqrt{\\alpha_t}\\sqrt{\\alpha_{t}}\\sqrt{\\bar{\\alpha}_{t-1}} - \\mathbf{x_{t}}\\sqrt{\\alpha_t}\\sqrt{\\bar{\\alpha}_{t-1}}\\sqrt{\\bar{\\alpha}_{t-1}}\\sqrt{\\bar{\\alpha_t}}+(\\mathbf{x_t} - \\sqrt{1 - \\bar{\\alpha_t}}\\mathbf{\\epsilon_t})\\sqrt{\\bar{\\alpha}_{t-1}}\\beta_t}{(\\sqrt{\\bar{\\alpha}_{t}}\\sqrt{\\bar{\\alpha}_{t-1}})(1- \\bar{\\alpha}_{t})} && \\text{($\\alpha_{t} = \\alpha_{t}\\bar{\\alpha}_{t-1}$)}\\\\\n",
    "                                            &= \\frac{\\mathbf{x_{t}}\\alpha_t - \\mathbf{x_{t}}\\sqrt{\\bar{\\alpha}_{t}}\\sqrt{\\bar{\\alpha_t}}+\\mathbf{x_t}\\beta_t - \\sqrt{1 - \\bar{\\alpha_t}}\\mathbf{\\epsilon_t}\\beta_t}{\\sqrt{\\alpha_{t}}(1- \\bar{\\alpha}_{t})}\\\\\n",
    "                                            &= \\frac{\\mathbf{x_{t}}\\alpha_t - \\mathbf{x_{t}}\\bar{\\alpha}_{t}+\\mathbf{x_t}\\beta_t - \\sqrt{1 - \\bar{\\alpha_t}}\\mathbf{\\epsilon_t}\\beta_t}{\\sqrt{\\alpha_{t}}(1- \\bar{\\alpha}_{t})} \\\\\n",
    "                                            &= \\frac{\\mathbf{x_{t}}\\alpha_t - \\mathbf{x_{t}}\\bar{\\alpha}_{t}+\\mathbf{x_t}(1 - \\alpha_t)}{\\sqrt{\\alpha_{t}}(1- \\bar{\\alpha}_{t})} - \\frac{\\mathbf{\\epsilon_t}(1 - \\alpha_t)}{\\sqrt{\\alpha_{t}}\\sqrt{1 - \\bar{\\alpha_t}}} && \\text{($ \\beta_t = 1 - \\alpha_t $)} \\\\\n",
    "                                            &= \\frac{1}{\\sqrt{\\alpha_{t}}} \\Big( \\frac{\\mathbf{x_{t}}\\alpha_t - \\mathbf{x_{t}}\\bar{\\alpha}_{t}+\\mathbf{x_t} -\\mathbf{x_t} \\alpha_t}{1- \\bar{\\alpha}_{t}} - \\frac{1 - \\alpha_t}{\\sqrt{1 - \\bar{\\alpha_t}}}\\mathbf{\\epsilon_t} \\Big) \\\\\n",
    "                                            &= \\frac{1}{\\sqrt{\\alpha_{t}}} \\Big( \\frac{\\mathbf{x_t} - \\mathbf{x_{t}}\\bar{\\alpha}_{t}}{1- \\bar{\\alpha}_{t}} - \\frac{1 - \\alpha_t}{\\sqrt{1 - \\bar{\\alpha_t}}}\\mathbf{\\epsilon_t} \\Big) \\\\\n",
    "                                            &= \\frac{1}{\\sqrt{\\alpha_{t}}} \\Big( \\frac{\\mathbf{x_t}(1 - \\bar{\\alpha}_{t})}{1- \\bar{\\alpha}_{t}} - \\frac{1 - \\alpha_t}{\\sqrt{1 - \\bar{\\alpha_t}}}\\mathbf{\\epsilon_t} \\Big) \\\\\n",
    "                                            &= \\frac{1}{\\sqrt{\\alpha_{t}}} \\Big( \\mathbf{x_t} - \\frac{1 - \\alpha_t}{\\sqrt{1 - \\bar{\\alpha_t}}}\\mathbf{\\epsilon_t} \\Big) \\\\\n",
    "\\end{align}$$"
   ]
  },
  {
   "cell_type": "markdown",
   "id": "d1adbcd0",
   "metadata": {},
   "source": [
    "Via a different manipulation of $\\mathbf{x_t} = \\sqrt{\\bar{\\alpha_t}}\\mathbf{x_0} + \\sqrt{1 - \\bar{\\alpha_t}}\\mathbf{\\epsilon_t}$, we see we can write $\\mathbf{\\epsilon}$ parameterized by $\\mathbf{x_t}$ and t. Thus, when $\\mathbf{\\epsilon_{\\theta}}(\\mathbf{x_t}, t)$, we can perform the above reparameterization to $\\mu_{\\theta}( \\mathbf{x_t}, t)$:\n",
    "\n",
    "$$\\begin{align}\n",
    "\\mu_{\\theta}( \\mathbf{x_t}, t) &=\\frac{1}{\\sqrt{\\alpha_{t}}} \\Big( \\mathbf{x_t} - \\frac{1 - \\alpha_t}{\\sqrt{1 - \\bar{\\alpha_t}}}\\mathbf{\\epsilon_{\\theta}}(\\mathbf{x_t}, t) \\Big) \\\\\n",
    "\\end{align}$$"
   ]
  },
  {
   "cell_type": "markdown",
   "id": "33ddb43f",
   "metadata": {},
   "source": [
    "From here, we can return to:\n",
    "\n",
    "$$\\begin{align}\n",
    "L_{t-1} &= \\mathbb E_q \\Big[ \\frac{1}{2\\beta_t}\\Big( \\|\\mathbf{\\tilde{\\mu_t}}(\\mathbf{x_t}, \\mathbf{x_0})-\\mathbf{\\mu_{\\theta}}(\\mathbf{x_t}, t)\\|^2 \\Big) \\Big]\n",
    "\\end{align}$$"
   ]
  },
  {
   "cell_type": "markdown",
   "id": "87dd0946",
   "metadata": {},
   "source": [
    "First, we notice that the clever reparameterization of $\\mathbf{x_t}$ as $\\mathbf{x_t}(\\mathbf{x_0}, \\mathbf{\\epsilon}) = \\sqrt{\\bar{\\alpha_t}}\\mathbf{x_0} + \\sqrt{1 - \\bar{\\alpha_t}}\\mathbf{\\epsilon}$, lending us:\n",
    "\n",
    "$$L_{t-1} = \\mathbb E_{\\mathbf{x_0}, \\mathbf{\\epsilon}} \\Big[ \\frac{1}{2\\beta_t}\\Big( \\|\\mathbf{\\tilde{\\mu_t}}(\\mathbf{x_t}, \\mathbf{x_0})-\\mathbf{\\mu_{\\theta}}(\\mathbf{x_t}, t)\\|^2 \\Big) \\Big]$$"
   ]
  },
  {
   "cell_type": "markdown",
   "id": "02a5212f",
   "metadata": {},
   "source": [
    "Now, we may rewrite this using our new reparameterizations of $\\tilde{\\mu}_{t}$ and $\\mathbf{\\mu_{\\theta}}$:\n",
    "\n",
    "$$\\begin{align}\n",
    " &= \\mathbb E_{\\mathbf{x_0}, \\mathbf{\\epsilon}} \\Big[ \\frac{1}{2\\beta_t}\\Big( \\|\\frac{1}{\\sqrt{\\alpha_{t}}} \\Big( \\mathbf{x_t} - \\frac{1 - \\alpha_t}{\\sqrt{1 - \\bar{\\alpha_t}}}\\mathbf{\\epsilon_t} \\Big)-\\frac{1}{\\sqrt{\\alpha_{t}}} \\Big( \\mathbf{x_t} - \\frac{1 - \\alpha_t}{\\sqrt{1 - \\bar{\\alpha_t}}}\\mathbf{\\epsilon_{\\theta}}(\\mathbf{x_t}, t) \\Big)\\|^2 \\Big) \\Big] \\\\\n",
    " &= \\mathbb E_{\\mathbf{x_0}, \\mathbf{\\epsilon}} \\Big[ \\frac{1}{2\\beta_t}\\Big( \\| -\\Big(\\frac{1 - \\alpha_t}{\\sqrt{\\alpha_{t}}\\sqrt{1 - \\bar{\\alpha_t}}}\\mathbf{\\epsilon_t} \\Big) + \\frac{1 - \\alpha_t}{\\sqrt{\\alpha_{t}}\\sqrt{1 - \\bar{\\alpha_t}}}\\mathbf{\\epsilon_{\\theta}}(\\mathbf{x_t}, t) \\|^2 \\Big) \\Big] \\\\\n",
    " &= \\mathbb E_{\\mathbf{x_0}, \\mathbf{\\epsilon}} \\Big[ \\frac{1}{2\\beta_t}\\Big( \\| \\Big(\\frac{1 - \\alpha_t}{\\sqrt{\\alpha_{t}}\\sqrt{1 - \\bar{\\alpha_t}}}\\Big) (\\mathbf{\\epsilon_{\\theta}}(\\mathbf{x_t}, t)-\\mathbf{\\epsilon_t})\\|^2 \\Big) \\Big] \\\\\n",
    " &= \\mathbb E_{\\mathbf{x_0}, \\mathbf{\\epsilon}} \\Big[ \\frac{(1 - \\alpha_t)^2}{2\\beta_t\\alpha_{t}(1 - \\bar{\\alpha_t})}\\| \\mathbf{\\epsilon_t} -(\\mathbf{\\epsilon_{\\theta}}(\\mathbf{x_t}, t))\\|^2 \\Big] \\\\\n",
    "\\end{align}$$"
   ]
  },
  {
   "cell_type": "markdown",
   "id": "f4f1c509",
   "metadata": {},
   "source": [
    "As mentioned in other works on this topic, **([9])**, finds that removing the leading weight term and redefining $L_{t-1}$ as:\n",
    "\n",
    "$$L_{t-1} := \\mathbb E_{\\mathbf{x_0}, \\mathbf{\\epsilon}} \\Big[ \\| \\mathbf{\\epsilon_t} -(\\mathbf{\\epsilon_{\\theta}}(\\mathbf{x_t}, t))\\|^2 \\Big]$$\n",
    "\n",
    ", yields better performance."
   ]
  },
  {
   "cell_type": "markdown",
   "id": "a7d0ff8e",
   "metadata": {},
   "source": [
    "**Explain here why this last result is super intuitive (difference in noise and turning our model into a noise predictor)**"
   ]
  },
  {
   "cell_type": "markdown",
   "id": "0e44a40e",
   "metadata": {},
   "source": [
    "We simplify our entire Loss of $L = L_{0} + L_t + C_t$ down to:\n",
    "\n",
    "$$L' = L_t + C $$\n",
    "\n",
    "where $C = L_0 + C_t$. "
   ]
  },
  {
   "cell_type": "markdown",
   "id": "e7443c6f",
   "metadata": {},
   "source": [
    "## Implementation\n",
    "\n",
    "How we implemented it"
   ]
  },
  {
   "cell_type": "markdown",
   "id": "7f00c132",
   "metadata": {},
   "source": [
    "## Results\n",
    "\n",
    "what it accomplishes, how well it performs\n"
   ]
  },
  {
   "cell_type": "markdown",
   "id": "5890b0c0",
   "metadata": {},
   "source": [
    "## Installation\n",
    "\n",
    "First clone the repository, and navigate to the colorized folder:\n",
    "\n",
    "```sh\n",
    "git clone git@github.com:Clement-W/MAT_180_ML_Projects.git\n",
    "cd MAT_180_ML_Projects/colorized\n",
    "```\n",
    "\n",
    "To install the required libraries, there is 2 solutions. You can either install the requirements directly on your python installation, or install them into a virtual environement.\n",
    "\n",
    "To install the requirements, you can just do:\n",
    "\n",
    "```sh\n",
    "pip3 install -r requirements.txt\n",
    "```\n",
    "\n",
    "To use a virtual environement:\n",
    "\n",
    "* Install virtualenv if you don't already have it\n",
    "\n",
    "```sh\n",
    "pip3 install virtualenv\n",
    "```\n",
    "\n",
    "* Create a virtual environment\n",
    "\n",
    "```sh\n",
    "python3 -m venv colorized-env\n",
    "```\n",
    "\n",
    "* Activate the virtual environment\n",
    "\n",
    "```sh\n",
    "source colorized-env/bin/activate\n",
    "```\n",
    "\n",
    "* Install the required libraries into the environment\n",
    "```sh\n",
    "pip3 install -r requirements.txt\n",
    "```\n",
    "\n",
    "If you whish to leave the virtual environment, you can just do:\n",
    "```sh\n",
    "deactivate\n",
    "```\n"
   ]
  },
  {
   "cell_type": "markdown",
   "id": "6c679f43",
   "metadata": {},
   "source": [
    "## How to use our model\n",
    "\n",
    "Walk through how a new user can use your model on their own data after cloning the repository\n",
    "\n",
    "suggestion: create a notebook where the user can give an image, and the code to preprocess the image, run the model and everything is already included in it?"
   ]
  },
  {
   "cell_type": "markdown",
   "id": "02564078",
   "metadata": {},
   "source": [
    "## Conclusion\n",
    "\n",
    "feedback, improvements,...\n"
   ]
  },
  {
   "cell_type": "markdown",
   "id": "c29b6e48",
   "metadata": {},
   "source": [
    "## References\n",
    "\n",
    "1. https://lilianweng.github.io/posts/2021-07-11-diffusion-models/\n",
    "2. https://arxiv.org/abs/1503.03585\n",
    "3. http://www.stat.yale.edu/~pollard/Courses/251.spring2013/Handouts/Chang-MarkovChains.pdf\n",
    "4. On the theory of stochastic processes (Feller Cornell Article )\n",
    "5. [https://deeplearningbook.org](https://www.deeplearningbook.org/)\n",
    "6. https://lilianweng.github.io/posts/2018-08-12-vae/#vae-variational-autoencoder\n",
    "7. https://www.alexejgossmann.com/conditional_distributions/#FellerVol2\n",
    "8. https://en.wikipedia.org/wiki/Evidence_lower_bound\n",
    "9. https://arxiv.org/pdf/2006.11239.pdf\n",
    "<!-- #endregion -->\n"
   ]
  }
 ],
 "metadata": {
  "kernelspec": {
   "display_name": "Python 3 (ipykernel)",
   "language": "python",
   "name": "python3"
  },
  "language_info": {
   "codemirror_mode": {
    "name": "ipython",
    "version": 3
   },
   "file_extension": ".py",
   "mimetype": "text/x-python",
   "name": "python",
   "nbconvert_exporter": "python",
   "pygments_lexer": "ipython3",
   "version": "3.9.13"
  }
 },
 "nbformat": 4,
 "nbformat_minor": 5
}

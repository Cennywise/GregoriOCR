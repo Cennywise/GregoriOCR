{
 "cells": [
  {
   "cell_type": "markdown",
   "metadata": {},
   "source": [
    "# Let's load a dataset and try training!"
   ]
  },
  {
   "cell_type": "code",
   "execution_count": 21,
   "metadata": {},
   "outputs": [],
   "source": [
    "import numpy as np\n",
    "import torch\n",
    "from torch.utils.data import DataLoader\n",
    "from torchvision import transforms\n",
    "import matplotlib.pyplot as plt\n",
    "import cv2\n",
    "import sys\n",
    "\n",
    "sys.path.append('../')\n",
    "from scripts import forward_process as fp, reverse_process as rp, train\n",
    "from scripts import util"
   ]
  },
  {
   "cell_type": "code",
   "execution_count": 12,
   "metadata": {},
   "outputs": [],
   "source": [
    "ab1 = np.load(\"../data/image-colorization/ab/ab/ab1.npy\")\n",
    "ab2 = np.load(\"../data/image-colorization/ab/ab/ab2.npy\")\n",
    "ab3 = np.load(\"../data/image-colorization/ab/ab/ab3.npy\")\n",
    "l = np.load(\"../data/image-colorization/l/gray_scale.npy\")\n",
    "\n",
    "ab = np.concatenate((ab1,ab2,ab3),axis=0)\n",
    "\n",
    "def createLab(n=100):\n",
    "    lab = np.zeros((n,224,224,3))\n",
    "    \n",
    "    lab[:,:,:,0] = l[0:n:]\n",
    "    lab[:,:,:,1:] = ab[0:n:]    \n",
    "    \n",
    "    return lab.astype(\"uint8\")"
   ]
  },
  {
   "cell_type": "markdown",
   "metadata": {},
   "source": [
    "## Let's load 1000 images"
   ]
  },
  {
   "cell_type": "code",
   "execution_count": 25,
   "metadata": {},
   "outputs": [],
   "source": [
    "lab = createLab(1000)\n",
    "\n",
    "# Resize to 64x64 for lower computational load\n",
    "resized = []\n",
    "for i in lab:\n",
    "    img = cv2.normalize(i, None, alpha = -1, beta = 1, norm_type = cv2.NORM_MINMAX, dtype = cv2.CV_32F)\n",
    "    resized.append(cv2.resize(img, dsize=(64, 64), interpolation=cv2.INTER_CUBIC))\n",
    "\n",
    "# Convert to tensor\n",
    "lab = torch.tensor(np.array(resized))\n",
    "dataloader = DataLoader(lab, batch_size=25, shuffle=True)"
   ]
  },
  {
   "cell_type": "code",
   "execution_count": 26,
   "metadata": {},
   "outputs": [],
   "source": [
    "from pathlib import Path\n",
    "\n",
    "def num_to_groups(num, divisor):\n",
    "    groups = num // divisor\n",
    "    remainder = num % divisor\n",
    "    arr = [divisor] * groups\n",
    "    if remainder > 0:\n",
    "        arr.append(remainder)\n",
    "    return arr\n",
    "\n",
    "results_folder = Path(\"../results\")\n",
    "results_folder.mkdir(exist_ok = True)\n",
    "save_and_sample_every = 1000"
   ]
  },
  {
   "cell_type": "code",
   "execution_count": null,
   "metadata": {},
   "outputs": [],
   "source": [
    "from torch.optim import Adam\n",
    "\n",
    "device = \"cuda\" if torch.cuda.is_available() else \"cpu\"\n",
    "\n",
    "model = Unet(\n",
    "    dim=54,\n",
    "    channels=channels,\n",
    "    dim_mults=(1, 2, 4,)\n",
    ")\n",
    "model.to(device)\n",
    "\n",
    "optimizer = Adam(model.parameters(), lr=1e-3)"
   ]
  }
 ],
 "metadata": {
  "kernelspec": {
   "display_name": "Python 3 (ipykernel)",
   "language": "python",
   "name": "python3"
  },
  "language_info": {
   "codemirror_mode": {
    "name": "ipython",
    "version": 3
   },
   "file_extension": ".py",
   "mimetype": "text/x-python",
   "name": "python",
   "nbconvert_exporter": "python",
   "pygments_lexer": "ipython3",
   "version": "3.10.2"
  },
  "vscode": {
   "interpreter": {
    "hash": "7e1998ff7f8aa20ada591c520b972326324e5ea05489af9e422744c7c09f6dad"
   }
  }
 },
 "nbformat": 4,
 "nbformat_minor": 2
}

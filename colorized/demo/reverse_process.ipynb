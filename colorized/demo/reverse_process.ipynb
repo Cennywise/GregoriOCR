{
 "cells": [
  {
   "cell_type": "markdown",
   "id": "ec009412",
   "metadata": {},
   "source": [
    "# Reverse Process"
   ]
  },
  {
   "cell_type": "markdown",
   "id": "6bbe7276",
   "metadata": {},
   "source": [
    "## Imports"
   ]
  },
  {
   "cell_type": "code",
   "execution_count": 1,
   "id": "4124dfc0",
   "metadata": {},
   "outputs": [],
   "source": [
    "import numpy as np\n",
    "import torch\n",
    "from torchvision import transforms\n",
    "import matplotlib.pyplot as plt\n",
    "import cv2\n",
    "# from cv2 import cvtColor, COLOR_BGR2RGB, COLOR_LAB2RGB, COLOR_LAB2BGR\n",
    "import sys\n",
    "from einops import rearrange\n",
    "\n",
    "sys.path.append('../')\n",
    "#from util import LABtoRGB\n",
    "from scripts import customUNet as unet\n",
    "from scripts import forward_process as fp, reverse_process as rp, train, util"
   ]
  },
  {
   "cell_type": "markdown",
   "id": "3db6aa89",
   "metadata": {},
   "source": [
    "## Load image from dataset"
   ]
  },
  {
   "cell_type": "code",
   "execution_count": 2,
   "id": "5b5d8178",
   "metadata": {},
   "outputs": [],
   "source": [
    "ab1 = np.load(\"../data/image-colorization/ab/ab/ab1.npy\")\n",
    "ab2 = np.load(\"../data/image-colorization/ab/ab/ab2.npy\")\n",
    "ab3 = np.load(\"../data/image-colorization/ab/ab/ab3.npy\")\n",
    "l = np.load(\"../data/image-colorization/l/gray_scale.npy\")\n",
    "# Concatenate the numpy files\n",
    "ab = np.concatenate((ab1,ab2,ab3),axis=0)"
   ]
  },
  {
   "cell_type": "code",
   "execution_count": 3,
   "id": "2cf84d0d",
   "metadata": {},
   "outputs": [
    {
     "data": {
      "text/plain": [
       "(224, 224, 3)"
      ]
     },
     "execution_count": 3,
     "metadata": {},
     "output_type": "execute_result"
    }
   ],
   "source": [
    "lab = np.zeros((1,224,224,3))\n",
    "img_index= 5000 # not used during training\n",
    "lab[:,:,:,0] = l[img_index,:]\n",
    "lab[:,:,:,1:] = ab[img_index,:]    \n",
    "\n",
    "lab = lab[0].astype(\"uint8\")\n",
    "lab.shape"
   ]
  },
  {
   "cell_type": "code",
   "execution_count": 4,
   "id": "5d2ac9f8",
   "metadata": {},
   "outputs": [
    {
     "data": {
      "text/plain": [
       "torch.Size([1, 3, 64, 64])"
      ]
     },
     "execution_count": 4,
     "metadata": {},
     "output_type": "execute_result"
    }
   ],
   "source": [
    "size=64\n",
    "img = cv2.normalize(lab, None, alpha = -1, beta = 1, norm_type = cv2.NORM_MINMAX, dtype = cv2.CV_32F)\n",
    "img = cv2.resize(lab, dsize=(size, size), interpolation=cv2.INTER_CUBIC)\n",
    "\n",
    "img = torch.tensor(np.array(img))\n",
    "# Reshape so the tensor has the right shape for training\n",
    "img = rearrange(img,\"h w c-> 1 c h w\")\n",
    "img.shape"
   ]
  },
  {
   "cell_type": "code",
   "execution_count": 5,
   "id": "fb808ac8",
   "metadata": {},
   "outputs": [
    {
     "data": {
      "text/plain": [
       "torch.Size([1, 3, 224, 224])"
      ]
     },
     "execution_count": 5,
     "metadata": {},
     "output_type": "execute_result"
    }
   ],
   "source": [
    "# Extract the grayscale (l) color channel\n",
    "gray = l[img_index,:]\n",
    "gray = torch.tensor(gray)\n",
    "gray = rearrange(gray,\"w h-> 1 h w 1\")\n",
    "# Tripple the last dimension so it is the same shape as the color image\n",
    "gray = gray.expand(gray.shape[0],gray.shape[1],gray.shape[2],3)\n",
    "gray = rearrange(gray,\"b h w c-> b c h w\")\n",
    "gray.shape"
   ]
  },
  {
   "cell_type": "markdown",
   "id": "1464c785",
   "metadata": {},
   "source": [
    "## Load model"
   ]
  },
  {
   "cell_type": "code",
   "execution_count": 6,
   "id": "41933efc",
   "metadata": {},
   "outputs": [],
   "source": [
    "T = 300\n",
    "diffTerms = util.ConstantDiffusionTerms(T, fp.linear_beta_schedule)\n",
    "model = unet.CustomConditionalUNet()\n",
    "model.load_state_dict(torch.load(\"../models/modelv1.pth\"))\n",
    "device = util.set_device()\n",
    "model.to(device);"
   ]
  },
  {
   "cell_type": "markdown",
   "id": "173ae8fe",
   "metadata": {},
   "source": [
    "## Sample"
   ]
  },
  {
   "cell_type": "code",
   "execution_count": null,
   "id": "2af5ae88",
   "metadata": {},
   "outputs": [
    {
     "name": "stdout",
     "output_type": "stream",
     "text": [
      "saving!\n",
      "saving!\n",
      "saving!\n"
     ]
    }
   ],
   "source": [
    "noisy_images = rp.p_sample_loop(model,gray.shape,device,T,gray,diffTerms)"
   ]
  }
 ],
 "metadata": {
  "kernelspec": {
   "display_name": "Python 3 (ipykernel)",
   "language": "python",
   "name": "python3"
  },
  "language_info": {
   "codemirror_mode": {
    "name": "ipython",
    "version": 3
   },
   "file_extension": ".py",
   "mimetype": "text/x-python",
   "name": "python",
   "nbconvert_exporter": "python",
   "pygments_lexer": "ipython3",
   "version": "3.8.10"
  }
 },
 "nbformat": 4,
 "nbformat_minor": 5
}

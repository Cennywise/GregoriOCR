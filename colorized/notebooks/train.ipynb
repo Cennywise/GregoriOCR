{
 "cells": [
  {
   "cell_type": "markdown",
   "metadata": {},
   "source": [
    "# Let's load a dataset and try training!\n",
    "\n",
    "To execute this notebook, you must have followed the steps in init.ipynb in data/ in order to have the data downloaded."
   ]
  },
  {
   "cell_type": "code",
   "execution_count": 1,
   "metadata": {},
   "outputs": [
    {
     "name": "stderr",
     "output_type": "stream",
     "text": [
      "C:\\Users\\bmwhi\\AppData\\Local\\Programs\\Python\\Python39\\lib\\site-packages\\tqdm\\auto.py:22: TqdmWarning: IProgress not found. Please update jupyter and ipywidgets. See https://ipywidgets.readthedocs.io/en/stable/user_install.html\n",
      "  from .autonotebook import tqdm as notebook_tqdm\n"
     ]
    }
   ],
   "source": [
    "import numpy as np\n",
    "import torch\n",
    "from torch.utils.data import DataLoader, Dataset,random_split\n",
    "from einops import rearrange\n",
    "from torch.optim import Adam\n",
    "from pathlib import Path\n",
    "from torchvision import transforms\n",
    "import matplotlib.pyplot as plt\n",
    "import cv2\n",
    "import sys\n",
    "\n",
    "sys.path.append('../')\n",
    "from scripts import forward_process as fp, reverse_process as rp, train, util\n",
    "from scripts import customUNet as unet"
   ]
  },
  {
   "cell_type": "code",
   "execution_count": 2,
   "metadata": {},
   "outputs": [],
   "source": [
    "# Load the dataset\n",
    "ab1 = np.load(\"../data/image-colorization/ab/ab/ab1.npy\")\n",
    "ab2 = np.load(\"../data/image-colorization/ab/ab/ab2.npy\")\n",
    "ab3 = np.load(\"../data/image-colorization/ab/ab/ab3.npy\")\n",
    "l = np.load(\"../data/image-colorization/l/gray_scale.npy\")\n",
    "\n",
    "ab = np.concatenate((ab1,ab2,ab3),axis=0)\n",
    "\n",
    "def create_lab(n):\n",
    "    lab= np.zeros((n,224,224,3))\n",
    "    lab[:,:,:,0] = l[0:n:]\n",
    "    lab[:,:,:,1:] = ab[0:n:]  \n",
    "    return lab.astype(\"uint8\")"
   ]
  },
  {
   "cell_type": "markdown",
   "metadata": {},
   "source": [
    "## Let's load training dataset\n",
    "\n",
    "Let's load only 2000 images here (our computer can't handle more in memory). The rest of the dataset can then be used for training. We are aware that much more data is necessary to train such a big model, and that we should have train/test/val sets with much more data in the train set. But for lack of time, we will try to train the model on 2000 images to produce results."
   ]
  },
  {
   "cell_type": "code",
   "execution_count": 3,
   "metadata": {},
   "outputs": [
    {
     "data": {
      "text/plain": [
       "torch.Size([2000, 3, 64, 64])"
      ]
     },
     "execution_count": 3,
     "metadata": {},
     "output_type": "execute_result"
    }
   ],
   "source": [
    "n=2000\n",
    "size=64\n",
    "batch_size=25\n",
    "\n",
    "lab = create_lab(n)\n",
    "\n",
    "# Resize and normalize pictures between -1 and 1\n",
    "resized = []\n",
    "for i in lab:\n",
    "    img = cv2.normalize(i, None, alpha = -1, beta = 1, norm_type = cv2.NORM_MINMAX, dtype = cv2.CV_32F)\n",
    "    resized.append(cv2.resize(img, dsize=(size, size), interpolation=cv2.INTER_CUBIC))\n",
    "\n",
    "lab = torch.tensor(np.array(resized))\n",
    "# Reshape so the tensor has the right shape for training\n",
    "lab = rearrange(lab,\"b h w c-> b c h w\")\n",
    "lab.shape"
   ]
  },
  {
   "cell_type": "code",
   "execution_count": 4,
   "metadata": {
    "scrolled": true
   },
   "outputs": [
    {
     "data": {
      "text/plain": [
       "torch.Size([2000, 3, 64, 64])"
      ]
     },
     "execution_count": 4,
     "metadata": {},
     "output_type": "execute_result"
    }
   ],
   "source": [
    "# Extract the grayscale (l) color channel\n",
    "gray = lab[:,0,:,:,None]\n",
    "# Tripple the last dimension so it is the same shape as the color image\n",
    "gray = gray.expand(gray.shape[0],gray.shape[1],gray.shape[2],3)\n",
    "gray = rearrange(gray,\"b h w c-> b c h w\")\n",
    "gray.shape"
   ]
  },
  {
   "cell_type": "code",
   "execution_count": 5,
   "metadata": {},
   "outputs": [],
   "source": [
    "# Create pairs of data (lab,gray)\n",
    "data=[]\n",
    "for i in range(len(lab)):\n",
    "    data.append([lab[i],gray[i]])"
   ]
  },
  {
   "cell_type": "code",
   "execution_count": 6,
   "metadata": {},
   "outputs": [],
   "source": [
    "# Load it in a dataloader \n",
    "dataloader = DataLoader(data, batch_size=batch_size, shuffle=True)  "
   ]
  },
  {
   "cell_type": "markdown",
   "metadata": {},
   "source": [
    "# Start training"
   ]
  },
  {
   "cell_type": "code",
   "execution_count": 7,
   "metadata": {
    "scrolled": false
   },
   "outputs": [],
   "source": [
    "T = 500\n",
    "epochs = 20\n",
    "model = unet.CustomConditionalUNet()\n",
    "diffTerms = util.ConstantDiffusionTerms(T, fp.linear_beta_schedule)\n",
    "device = util.set_device()\n",
    "model.to(device)\n",
    "optimizer = Adam(model.parameters(), lr=1e-5)"
   ]
  },
  {
   "cell_type": "code",
   "execution_count": 8,
   "metadata": {
    "scrolled": false
   },
   "outputs": [
    {
     "name": "stdout",
     "output_type": "stream",
     "text": [
      "Step 0 of epoch 0: Loss=0.984612226486206\n",
      "Step 10 of epoch 0: Loss=0.8744279742240906\n",
      "Step 20 of epoch 0: Loss=0.8550435304641724\n",
      "Step 30 of epoch 0: Loss=0.8414549827575684\n",
      "Step 40 of epoch 0: Loss=0.830522894859314\n",
      "Step 50 of epoch 0: Loss=0.8240552544593811\n",
      "Step 60 of epoch 0: Loss=0.8176493048667908\n",
      "Step 70 of epoch 0: Loss=0.8136706352233887\n",
      "Step 0 of epoch 1: Loss=0.8168551325798035\n",
      "Step 10 of epoch 1: Loss=0.8124350309371948\n",
      "Step 20 of epoch 1: Loss=0.8098756074905396\n",
      "Step 30 of epoch 1: Loss=0.8087993264198303\n",
      "Step 40 of epoch 1: Loss=0.8061398267745972\n",
      "Step 50 of epoch 1: Loss=0.8091287016868591\n",
      "Step 60 of epoch 1: Loss=0.8088787198066711\n",
      "Step 70 of epoch 1: Loss=0.8066475987434387\n",
      "Step 0 of epoch 2: Loss=0.8077587485313416\n",
      "Step 10 of epoch 2: Loss=0.8065377473831177\n",
      "Step 20 of epoch 2: Loss=0.804442286491394\n",
      "Step 30 of epoch 2: Loss=0.805036187171936\n",
      "Step 40 of epoch 2: Loss=0.8042275905609131\n",
      "Step 50 of epoch 2: Loss=0.8036392331123352\n",
      "Step 60 of epoch 2: Loss=0.8050178289413452\n",
      "Step 70 of epoch 2: Loss=0.8038634061813354\n",
      "Step 0 of epoch 3: Loss=0.8028677105903625\n",
      "Step 10 of epoch 3: Loss=0.8019634485244751\n",
      "Step 20 of epoch 3: Loss=0.8024470806121826\n",
      "Step 30 of epoch 3: Loss=0.8023362159729004\n",
      "Step 40 of epoch 3: Loss=0.7996817231178284\n",
      "Step 50 of epoch 3: Loss=0.8006994724273682\n",
      "Step 60 of epoch 3: Loss=0.8022186756134033\n",
      "Step 70 of epoch 3: Loss=0.8013551831245422\n",
      "Step 0 of epoch 4: Loss=0.8017740249633789\n",
      "Step 10 of epoch 4: Loss=0.8024151921272278\n",
      "Step 20 of epoch 4: Loss=0.8022199869155884\n",
      "Step 30 of epoch 4: Loss=0.7989768981933594\n",
      "Step 40 of epoch 4: Loss=0.7989458441734314\n",
      "Step 50 of epoch 4: Loss=0.800104558467865\n",
      "Step 60 of epoch 4: Loss=0.8016169667243958\n",
      "Step 70 of epoch 4: Loss=0.8016574382781982\n",
      "Step 0 of epoch 5: Loss=0.8009706139564514\n",
      "Step 10 of epoch 5: Loss=0.80068439245224\n",
      "Step 20 of epoch 5: Loss=0.798811674118042\n",
      "Step 30 of epoch 5: Loss=0.8011969327926636\n",
      "Step 40 of epoch 5: Loss=0.7996391654014587\n",
      "Step 50 of epoch 5: Loss=0.8003467917442322\n",
      "Step 60 of epoch 5: Loss=0.8001388907432556\n",
      "Step 70 of epoch 5: Loss=0.7993549704551697\n",
      "Step 0 of epoch 6: Loss=0.7992057800292969\n",
      "Step 10 of epoch 6: Loss=0.7999697327613831\n",
      "Step 20 of epoch 6: Loss=0.7989954352378845\n",
      "Step 30 of epoch 6: Loss=0.7998512983322144\n",
      "Step 40 of epoch 6: Loss=0.7997207641601562\n",
      "Step 50 of epoch 6: Loss=0.8002040386199951\n",
      "Step 60 of epoch 6: Loss=0.8012092709541321\n",
      "Step 70 of epoch 6: Loss=0.8003295063972473\n",
      "Step 0 of epoch 7: Loss=0.8008885979652405\n",
      "Step 10 of epoch 7: Loss=0.8002307415008545\n",
      "Step 20 of epoch 7: Loss=0.7987270355224609\n",
      "Step 30 of epoch 7: Loss=0.7996296882629395\n",
      "Step 40 of epoch 7: Loss=0.797860324382782\n",
      "Step 50 of epoch 7: Loss=0.7994036078453064\n",
      "Step 60 of epoch 7: Loss=0.8002356886863708\n",
      "Step 70 of epoch 7: Loss=0.7989367246627808\n",
      "Step 0 of epoch 8: Loss=0.7988598942756653\n",
      "Step 10 of epoch 8: Loss=0.7970703840255737\n",
      "Step 20 of epoch 8: Loss=0.7980937957763672\n",
      "Step 30 of epoch 8: Loss=0.8002198934555054\n",
      "Step 40 of epoch 8: Loss=0.7992454171180725\n",
      "Step 50 of epoch 8: Loss=0.7991514801979065\n",
      "Step 60 of epoch 8: Loss=0.7994002103805542\n",
      "Step 70 of epoch 8: Loss=0.7993229627609253\n",
      "Step 0 of epoch 9: Loss=0.7983534336090088\n",
      "Step 10 of epoch 9: Loss=0.7994548678398132\n",
      "Step 20 of epoch 9: Loss=0.8001107573509216\n",
      "Step 30 of epoch 9: Loss=0.799071192741394\n",
      "Step 40 of epoch 9: Loss=0.7993767857551575\n",
      "Step 50 of epoch 9: Loss=0.7988889217376709\n",
      "Step 60 of epoch 9: Loss=0.7992123365402222\n",
      "Step 70 of epoch 9: Loss=0.7976467609405518\n",
      "Step 0 of epoch 10: Loss=0.7980250716209412\n",
      "Step 10 of epoch 10: Loss=0.799203097820282\n",
      "Step 20 of epoch 10: Loss=0.7995157837867737\n",
      "Step 30 of epoch 10: Loss=0.7995247840881348\n",
      "Step 40 of epoch 10: Loss=0.7977986335754395\n",
      "Step 50 of epoch 10: Loss=0.7988563179969788\n",
      "Step 60 of epoch 10: Loss=0.7983345985412598\n",
      "Step 70 of epoch 10: Loss=0.7999868392944336\n",
      "Step 0 of epoch 11: Loss=0.7993141412734985\n",
      "Step 10 of epoch 11: Loss=0.8004207611083984\n",
      "Step 20 of epoch 11: Loss=0.7982815504074097\n",
      "Step 30 of epoch 11: Loss=0.7985696196556091\n",
      "Step 40 of epoch 11: Loss=0.7996648550033569\n",
      "Step 50 of epoch 11: Loss=0.7997965812683105\n",
      "Step 60 of epoch 11: Loss=0.7980099320411682\n",
      "Step 70 of epoch 11: Loss=0.7980450391769409\n",
      "Step 0 of epoch 12: Loss=0.798722505569458\n",
      "Step 10 of epoch 12: Loss=0.7991102933883667\n",
      "Step 20 of epoch 12: Loss=0.7976833581924438\n",
      "Step 30 of epoch 12: Loss=0.7963943481445312\n",
      "Step 40 of epoch 12: Loss=0.7976252436637878\n",
      "Step 50 of epoch 12: Loss=0.797930121421814\n",
      "Step 60 of epoch 12: Loss=0.8000586032867432\n",
      "Step 70 of epoch 12: Loss=0.7972467541694641\n",
      "Step 0 of epoch 13: Loss=0.8005161881446838\n",
      "Step 10 of epoch 13: Loss=0.7999153733253479\n",
      "Step 20 of epoch 13: Loss=0.7991066575050354\n",
      "Step 30 of epoch 13: Loss=0.7983532547950745\n",
      "Step 40 of epoch 13: Loss=0.797905445098877\n",
      "Step 50 of epoch 13: Loss=0.7983695864677429\n",
      "Step 60 of epoch 13: Loss=0.8005295395851135\n",
      "Step 70 of epoch 13: Loss=0.7989879250526428\n",
      "Step 0 of epoch 14: Loss=0.7981238961219788\n",
      "Step 10 of epoch 14: Loss=0.7982686161994934\n",
      "Step 20 of epoch 14: Loss=0.7980039715766907\n",
      "Step 30 of epoch 14: Loss=0.8000956773757935\n",
      "Step 40 of epoch 14: Loss=0.7982541918754578\n",
      "Step 50 of epoch 14: Loss=0.7985097169876099\n",
      "Step 60 of epoch 14: Loss=0.7993592023849487\n",
      "Step 70 of epoch 14: Loss=0.798897922039032\n",
      "Step 0 of epoch 15: Loss=0.7981736063957214\n",
      "Step 10 of epoch 15: Loss=0.7994295954704285\n",
      "Step 20 of epoch 15: Loss=0.796507716178894\n",
      "Step 30 of epoch 15: Loss=0.7987502813339233\n",
      "Step 40 of epoch 15: Loss=0.7975978255271912\n",
      "Step 50 of epoch 15: Loss=0.798593282699585\n",
      "Step 60 of epoch 15: Loss=0.7973925471305847\n",
      "Step 70 of epoch 15: Loss=0.7977604269981384\n",
      "Step 0 of epoch 16: Loss=0.7982823848724365\n",
      "Step 10 of epoch 16: Loss=0.7982673048973083\n",
      "Step 20 of epoch 16: Loss=0.7986310720443726\n",
      "Step 30 of epoch 16: Loss=0.7961013913154602\n",
      "Step 40 of epoch 16: Loss=0.8002469539642334\n",
      "Step 50 of epoch 16: Loss=0.7984657287597656\n",
      "Step 60 of epoch 16: Loss=0.7969399690628052\n",
      "Step 70 of epoch 16: Loss=0.8003544807434082\n",
      "Step 0 of epoch 17: Loss=0.7989737391471863\n",
      "Step 10 of epoch 17: Loss=0.7969779372215271\n",
      "Step 20 of epoch 17: Loss=0.7983595728874207\n",
      "Step 30 of epoch 17: Loss=0.7976982593536377\n",
      "Step 40 of epoch 17: Loss=0.7987629771232605\n",
      "Step 50 of epoch 17: Loss=0.7981733083724976\n",
      "Step 60 of epoch 17: Loss=0.8004906177520752\n",
      "Step 70 of epoch 17: Loss=0.7991706132888794\n",
      "Step 0 of epoch 18: Loss=0.7998839020729065\n",
      "Step 10 of epoch 18: Loss=0.7981544733047485\n",
      "Step 20 of epoch 18: Loss=0.7977902293205261\n",
      "Step 30 of epoch 18: Loss=0.7980271577835083\n",
      "Step 40 of epoch 18: Loss=0.7977247834205627\n",
      "Step 50 of epoch 18: Loss=0.7986056804656982\n",
      "Step 60 of epoch 18: Loss=0.799433708190918\n",
      "Step 70 of epoch 18: Loss=0.7984781861305237\n",
      "Step 0 of epoch 19: Loss=0.7989284992218018\n",
      "Step 10 of epoch 19: Loss=0.7974561452865601\n",
      "Step 20 of epoch 19: Loss=0.7999716401100159\n",
      "Step 30 of epoch 19: Loss=0.7998523712158203\n",
      "Step 40 of epoch 19: Loss=0.7997503876686096\n",
      "Step 50 of epoch 19: Loss=0.8009340167045593\n",
      "Step 60 of epoch 19: Loss=0.7993640899658203\n",
      "Step 70 of epoch 19: Loss=0.7986987233161926\n"
     ]
    }
   ],
   "source": [
    "loss = train.train(epochs,device,optimizer,dataloader,batch_size,T, diffTerms,model)"
   ]
  },
  {
   "cell_type": "code",
   "execution_count": 9,
   "metadata": {},
   "outputs": [
    {
     "data": {
      "image/png": "[encoded data removed]",
      "text/plain": [
       "<Figure size 640x480 with 1 Axes>"
      ]
     },
     "metadata": {},
     "output_type": "display_data"
    }
   ],
   "source": [
    "for i in range(len(loss)):\n",
    "    loss[i] = loss[i].detach()\n",
    "\n",
    "def plot_costs(costs):\n",
    "    plt.plot(costs)\n",
    "    plt.xlabel(\"Iterations x 10\")\n",
    "    plt.ylabel(\"Cost\")\n",
    "    plt.show()\n",
    "    \n",
    "plot_costs(loss)"
   ]
  },
  {
   "cell_type": "code",
   "execution_count": 10,
   "metadata": {},
   "outputs": [],
   "source": [
    "torch.save(model.state_dict(), \"../models/modelv2.pth\")"
   ]
  },
  {
   "cell_type": "code",
   "execution_count": null,
   "metadata": {},
   "outputs": [],
   "source": []
  }
 ],
 "metadata": {
  "kernelspec": {
   "display_name": "Python 3 (ipykernel)",
   "language": "python",
   "name": "python3"
  },
  "language_info": {
   "codemirror_mode": {
    "name": "ipython",
    "version": 3
   },
   "file_extension": ".py",
   "mimetype": "text/x-python",
   "name": "python",
   "nbconvert_exporter": "python",
   "pygments_lexer": "ipython3",
   "version": "3.9.7"
  },
  "vscode": {
   "interpreter": {
    "hash": "7e1998ff7f8aa20ada591c520b972326324e5ea05489af9e422744c7c09f6dad"
   }
  }
 },
 "nbformat": 4,
 "nbformat_minor": 2
}

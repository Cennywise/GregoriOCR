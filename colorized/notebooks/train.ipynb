{
 "cells": [
  {
   "cell_type": "markdown",
   "metadata": {},
   "source": [
    "# Let's load a dataset and try training!\n",
    "\n",
    "To execute this notebook, you must have followed the steps in init.ipynb in data/ in order to have the data downloaded."
   ]
  },
  {
   "cell_type": "code",
   "execution_count": 1,
   "metadata": {},
   "outputs": [
    {
     "name": "stderr",
     "output_type": "stream",
     "text": [
      "C:\\Users\\bmwhi\\AppData\\Local\\Programs\\Python\\Python39\\lib\\site-packages\\tqdm\\auto.py:22: TqdmWarning: IProgress not found. Please update jupyter and ipywidgets. See https://ipywidgets.readthedocs.io/en/stable/user_install.html\n",
      "  from .autonotebook import tqdm as notebook_tqdm\n"
     ]
    }
   ],
   "source": [
    "import numpy as np\n",
    "import torch\n",
    "from torch.utils.data import DataLoader, Dataset,random_split\n",
    "from einops import rearrange\n",
    "from torch.optim import Adam\n",
    "from pathlib import Path\n",
    "from torchvision import transforms\n",
    "import matplotlib.pyplot as plt\n",
    "import cv2\n",
    "import sys\n",
    "\n",
    "sys.path.append('../')\n",
    "from scripts import forward_process as fp, reverse_process as rp, train, util\n",
    "from scripts import customUNet as unet"
   ]
  },
  {
   "cell_type": "code",
   "execution_count": 2,
   "metadata": {},
   "outputs": [],
   "source": [
    "# Load the dataset\n",
    "ab1 = np.load(\"../data/image-colorization/ab/ab/ab1.npy\")\n",
    "ab2 = np.load(\"../data/image-colorization/ab/ab/ab2.npy\")\n",
    "ab3 = np.load(\"../data/image-colorization/ab/ab/ab3.npy\")\n",
    "l = np.load(\"../data/image-colorization/l/gray_scale.npy\")\n",
    "\n",
    "ab = np.concatenate((ab1,ab2,ab3),axis=0)\n",
    "\n",
    "def create_lab(n):\n",
    "    lab= np.zeros((n,224,224,3))\n",
    "    lab[:,:,:,0] = l[0:n:]\n",
    "    lab[:,:,:,1:] = ab[0:n:]  \n",
    "    return lab.astype(\"uint8\")"
   ]
  },
  {
   "cell_type": "markdown",
   "metadata": {},
   "source": [
    "## Let's load training dataset\n",
    "\n",
    "Let's load only 2000 images here (our computer can't handle more in memory). The rest of the dataset can then be used for training. We are aware that much more data is necessary to train such a big model, and that we should have train/test/val sets with much more data in the train set. But for lack of time, we will try to train the model on 2000 images to produce results."
   ]
  },
  {
   "cell_type": "code",
   "execution_count": 3,
   "metadata": {},
   "outputs": [
    {
     "data": {
      "text/plain": [
       "torch.Size([2000, 3, 64, 64])"
      ]
     },
     "execution_count": 3,
     "metadata": {},
     "output_type": "execute_result"
    }
   ],
   "source": [
    "n=2000\n",
    "size=64\n",
    "batch_size=25\n",
    "\n",
    "lab = create_lab(n)\n",
    "\n",
    "# Resize and normalize pictures between -1 and 1\n",
    "resized = []\n",
    "for i in lab:\n",
    "    img = cv2.normalize(i, None, alpha = -1, beta = 1, norm_type = cv2.NORM_MINMAX, dtype = cv2.CV_32F)\n",
    "    resized.append(cv2.resize(img, dsize=(size, size), interpolation=cv2.INTER_CUBIC))\n",
    "\n",
    "lab = torch.tensor(np.array(resized))\n",
    "# Reshape so the tensor has the right shape for training\n",
    "lab = rearrange(lab,\"b h w c-> b c h w\")\n",
    "lab.shape"
   ]
  },
  {
   "cell_type": "code",
   "execution_count": 4,
   "metadata": {
    "scrolled": true
   },
   "outputs": [
    {
     "data": {
      "text/plain": [
       "torch.Size([2000, 3, 64, 64])"
      ]
     },
     "execution_count": 4,
     "metadata": {},
     "output_type": "execute_result"
    }
   ],
   "source": [
    "# Extract the grayscale (l) color channel\n",
    "gray = lab[:,0,:,:,None]\n",
    "# Tripple the last dimension so it is the same shape as the color image\n",
    "gray = gray.expand(gray.shape[0],gray.shape[1],gray.shape[2],3)\n",
    "gray = rearrange(gray,\"b h w c-> b c h w\")\n",
    "gray.shape"
   ]
  },
  {
   "cell_type": "code",
   "execution_count": 5,
   "metadata": {},
   "outputs": [],
   "source": [
    "# Create pairs of data (lab,gray)\n",
    "data=[]\n",
    "for i in range(len(lab)):\n",
    "    data.append([lab[i],gray[i]])"
   ]
  },
  {
   "cell_type": "code",
   "execution_count": 6,
   "metadata": {},
   "outputs": [],
   "source": [
    "# Load it in a dataloader \n",
    "dataloader = DataLoader(data, batch_size=batch_size, shuffle=True)  "
   ]
  },
  {
   "cell_type": "markdown",
   "metadata": {},
   "source": [
    "# Start training"
   ]
  },
  {
   "cell_type": "code",
   "execution_count": 7,
   "metadata": {
    "scrolled": false
   },
   "outputs": [],
   "source": [
    "T = 300\n",
    "epochs = 5\n",
    "model = unet.CustomConditionalUNet()\n",
    "diffTerms = util.ConstantDiffusionTerms(T, fp.linear_beta_schedule)\n",
    "device = util.set_device()\n",
    "model.to(device)\n",
    "optimizer = Adam(model.parameters(), lr=1e-3)"
   ]
  },
  {
   "cell_type": "code",
   "execution_count": 8,
   "metadata": {
    "scrolled": false
   },
   "outputs": [
    {
     "name": "stdout",
     "output_type": "stream",
     "text": [
      "Step 0 of epoch 0: Loss=1.088334083557129\n",
      "Step 10 of epoch 0: Loss=0.8048350811004639\n",
      "Step 20 of epoch 0: Loss=0.7983267307281494\n",
      "Step 30 of epoch 0: Loss=0.7992732524871826\n",
      "Step 40 of epoch 0: Loss=0.798601508140564\n",
      "Step 50 of epoch 0: Loss=0.7979210019111633\n",
      "Step 60 of epoch 0: Loss=0.7990683913230896\n",
      "Step 70 of epoch 0: Loss=0.7987189292907715\n",
      "Step 0 of epoch 1: Loss=0.7956076860427856\n",
      "Step 10 of epoch 1: Loss=0.7964229583740234\n",
      "Step 20 of epoch 1: Loss=0.7955226898193359\n",
      "Step 30 of epoch 1: Loss=0.7988381385803223\n",
      "Step 40 of epoch 1: Loss=0.7971681356430054\n",
      "Step 50 of epoch 1: Loss=0.7972289323806763\n",
      "Step 60 of epoch 1: Loss=0.7985891103744507\n",
      "Step 70 of epoch 1: Loss=0.7990440130233765\n",
      "Step 0 of epoch 2: Loss=0.7984381914138794\n",
      "Step 10 of epoch 2: Loss=0.7989531755447388\n",
      "Step 20 of epoch 2: Loss=0.7973765134811401\n",
      "Step 30 of epoch 2: Loss=0.7962666153907776\n",
      "Step 40 of epoch 2: Loss=0.7988426089286804\n",
      "Step 50 of epoch 2: Loss=0.7979822158813477\n",
      "Step 60 of epoch 2: Loss=0.798433244228363\n",
      "Step 70 of epoch 2: Loss=0.797980546951294\n",
      "Step 0 of epoch 3: Loss=0.7966176271438599\n",
      "Step 10 of epoch 3: Loss=0.7982426881790161\n",
      "Step 20 of epoch 3: Loss=0.7981358170509338\n",
      "Step 30 of epoch 3: Loss=0.8009763360023499\n",
      "Step 40 of epoch 3: Loss=0.7971543073654175\n",
      "Step 50 of epoch 3: Loss=0.7989323735237122\n",
      "Step 60 of epoch 3: Loss=0.798563539981842\n",
      "Step 70 of epoch 3: Loss=0.7985768914222717\n",
      "Step 0 of epoch 4: Loss=0.7979326844215393\n",
      "Step 10 of epoch 4: Loss=0.7972388863563538\n",
      "Step 20 of epoch 4: Loss=0.7984493374824524\n",
      "Step 30 of epoch 4: Loss=0.7993238568305969\n",
      "Step 40 of epoch 4: Loss=0.7982789278030396\n",
      "Step 50 of epoch 4: Loss=0.7974317669868469\n",
      "Step 60 of epoch 4: Loss=0.7977227568626404\n",
      "Step 70 of epoch 4: Loss=0.7988337278366089\n"
     ]
    }
   ],
   "source": [
    "loss = train.train(epochs,device,optimizer,dataloader,batch_size,T, diffTerms,model)"
   ]
  },
  {
   "cell_type": "code",
   "execution_count": 12,
   "metadata": {},
   "outputs": [
    {
     "data": {
      "image/png": "[encoded data removed]",
      "text/plain": [
       "<Figure size 640x480 with 1 Axes>"
      ]
     },
     "metadata": {},
     "output_type": "display_data"
    }
   ],
   "source": [
    "for i in range(len(loss)):\n",
    "    loss[i] = loss[i].detach()\n",
    "\n",
    "def plot_costs(costs):\n",
    "    plt.plot(costs)\n",
    "    plt.xlabel(\"Iterations x 10\")\n",
    "    plt.ylabel(\"Cost\")\n",
    "    plt.show()\n",
    "    \n",
    "plot_costs(loss)"
   ]
  },
  {
   "cell_type": "code",
   "execution_count": 14,
   "metadata": {},
   "outputs": [],
   "source": [
    "torch.save(model.state_dict(), \"../models/modelv1.pth\")"
   ]
  },
  {
   "cell_type": "code",
   "execution_count": null,
   "metadata": {},
   "outputs": [],
   "source": []
  }
 ],
 "metadata": {
  "kernelspec": {
   "display_name": "Python 3 (ipykernel)",
   "language": "python",
   "name": "python3"
  },
  "language_info": {
   "codemirror_mode": {
    "name": "ipython",
    "version": 3
   },
   "file_extension": ".py",
   "mimetype": "text/x-python",
   "name": "python",
   "nbconvert_exporter": "python",
   "pygments_lexer": "ipython3",
   "version": "3.8.10"
  },
  "vscode": {
   "interpreter": {
    "hash": "7e1998ff7f8aa20ada591c520b972326324e5ea05489af9e422744c7c09f6dad"
   }
  }
 },
 "nbformat": 4,
 "nbformat_minor": 2
}

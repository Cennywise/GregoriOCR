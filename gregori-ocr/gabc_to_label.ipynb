{
 "cells": [
  {
   "cell_type": "code",
   "execution_count": 4,
   "id": "ef02b1a6",
   "metadata": {},
   "outputs": [],
   "source": [
    "import os\n",
    "import re as r"
   ]
  },
  {
   "cell_type": "code",
   "execution_count": 20,
   "id": "68b74278",
   "metadata": {},
   "outputs": [],
   "source": [
    "def GABC_to_Label(file_name, number_of_notes_per_example):\n",
    "    file = open(f\"{file_name}\", \"r\")\n",
    "    remove, s_spef, dict_assign, s_spef_1 = [], [], [], []\n",
    "    notes_per = number_of_notes_per_example \n",
    "    k = 0\n",
    "    tot = 0\n",
    "    dict_total = {}\n",
    "    file_title = r.sub(\"\\\\..*\", \"\", file_name)\n",
    "    s = file.read()\n",
    "    file.close()\n",
    "    \n",
    "    s_tot = r.findall(\"\\((.*?)\\)\", s)\n",
    "\n",
    "    for i in range(len(r.findall(\"\\((.*?)\\)\", s))):\n",
    "        s_tot[i] = r.sub(r\"[^a-zA-Z]+\", \"\", s_tot[i])\n",
    "        if s_tot[i] == '':\n",
    "            remove.append(i)\n",
    "    for i in remove:\n",
    "        s_tot.pop(i - k)\n",
    "        k += 1\n",
    "    s_tot.pop(0)\n",
    "    s_tot.pop(1)\n",
    "    tot = 0\n",
    "    for i in range(len(notes_per)):\n",
    "        tot += (notes_per[i])\n",
    "    \n",
    "    if tot == len(s_tot):\n",
    "        for j in range(notes_per[0]):\n",
    "            s_spef_1.append(s_tot[j])\n",
    "\n",
    "            \n",
    "        dict_total[0] = [s_spef_1.copy()]\n",
    "        s_spef_1.clear()\n",
    "        \n",
    "        l2 = notes_per[0]+notes_per[1]\n",
    "        l1 = notes_per[0]\n",
    "        \n",
    "        for n in range(len(notes_per) - 1):\n",
    "            if n > 0:\n",
    "                l2 += notes_per[n+1]\n",
    "                l1 += notes_per[n]  \n",
    "            \n",
    "            for j in range(l1,l2):\n",
    "                    s_spef_1.append(s_tot[j])\n",
    "            dict_total[n+1] = [s_spef_1.copy()]\n",
    "            s_spef_1.clear\n",
    "            \n",
    "                \n",
    "                \n",
    "        return dict_total\n",
    "        \n",
    "    else:\n",
    "        print(f'For {file_name} invalid splitting, total should add to: {len(s_tot)}. You\\'re at: {tot}')            \n",
    "        return\n",
    "    \n",
    "# File_to_label(file name(gabc for an example), a list with how many notes are in each jpeg)\n",
    "# Output: Dictionary[the example[name of file and index(starts at 1, ends at n)][Y[i,:]]\n",
    "# We want to compare: Algoritm[file][i'th note] = Dict[Gabc of file][i'th note label]\n",
    "# To be fair we can actually ignore the Gabc code as theres no way to compile it in notebook, adjust code to reflect this"
   ]
  },
  {
   "cell_type": "code",
   "execution_count": 21,
   "id": "29bfc0e7",
   "metadata": {},
   "outputs": [
    {
     "name": "stdout",
     "output_type": "stream",
     "text": [
      "This is what the GABC pulled from the grego-base looks like: name:Alleluia;\n",
      "office-part:Alleluia;\n",
      "mode:8;\n",
      "book:Chants abrégés, 1930, p. [2];\n",
      "transcriber:mapacali;\n",
      "%%\n",
      "(c4) AL<alt>Les Chantres</alt>(g)le(hvGFghg)lú(fhjvIG'h)ia.(g.) (::) Al<alt>Le Chœur</alt>(g)le(hvGFghg)lú(fhjvIG'h)ia.(g.) (::) <sp>V/</sp>. Os<alt>Les Chantres</alt>(g)tén(hg)de(gj) nó(j)bis(j) Dó(j)mi(j)ne(j) mi(j)se(j)ri(j)cór(ji)di(jk)am(k) tú(jk)am:(j.) (:) et(jh) sa(hj)lu(j)tá(j)re(j) tú(jji)um(gh) da(ji) nó(h)bis.(g.) (::) Al<alt>Le Chœur</alt>(g)le(hvGFghg)lú(fhjvIG'h)ia.(g.) (::)\n",
      "-----------labeled------------\n",
      "This is the now labeled data: {0: [['g', 'fhjvIGh', 'g', 'g', 'hvGFghg', 'fhjvIGh', 'g', 'g', 'hg', 'gj']], 1: [['j', 'j', 'j', 'j', 'j', 'j', 'j', 'j', 'ji', 'jk']], 2: [['j', 'j', 'j', 'j', 'j', 'j', 'j', 'j', 'ji', 'jk', 'k', 'jk', 'j', 'jh', 'hj', 'j', 'j', 'j', 'jji', 'gh', 'ji', 'h', 'g', 'g', 'hvGFghg', 'fhjvIGh', 'g']]}\n"
     ]
    }
   ],
   "source": [
    "# Example: \n",
    "Label = GABC_to_Label(\"al--alleluia--.gabc\",[10,10,17])\n",
    "file = open(\"al--alleluia--.gabc\", \"r\")\n",
    "print(f'This is what the GABC pulled from the grego-base looks like: {file.read()}')\n",
    "file.close()\n",
    "print('-----------labeled------------')\n",
    "print(f'This is the now labeled data: {Label}')"
   ]
  },
  {
   "cell_type": "code",
   "execution_count": null,
   "id": "af967fc5",
   "metadata": {},
   "outputs": [],
   "source": []
  }
 ],
 "metadata": {
  "kernelspec": {
   "display_name": "Python 3 (ipykernel)",
   "language": "python",
   "name": "python3"
  },
  "language_info": {
   "codemirror_mode": {
    "name": "ipython",
    "version": 3
   },
   "file_extension": ".py",
   "mimetype": "text/x-python",
   "name": "python",
   "nbconvert_exporter": "python",
   "pygments_lexer": "ipython3",
   "version": "3.9.12"
  }
 },
 "nbformat": 4,
 "nbformat_minor": 5
}

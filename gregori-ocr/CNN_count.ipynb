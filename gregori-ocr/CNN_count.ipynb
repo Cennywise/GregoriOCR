{
 "cells": [
  {
   "cell_type": "code",
   "execution_count": 18,
   "id": "bdca96a9",
   "metadata": {},
   "outputs": [],
   "source": [
    "import numpy as np\n",
    "import tensorflow as tf\n",
    "from tensorflow import keras\n",
    "import matplotlib.pyplot as plt\n",
    "import os"
   ]
  },
  {
   "cell_type": "code",
   "execution_count": 8,
   "id": "a134bb38",
   "metadata": {},
   "outputs": [],
   "source": [
    "# Let's get the lables from a txt file\n",
    "y_labels = []\n",
    "with open('Chant data label.txt', encoding=\"utf-8\") as f:\n",
    "    for line in f:\n",
    "        y_labels.append(int(line))"
   ]
  },
  {
   "cell_type": "code",
   "execution_count": 9,
   "id": "c0e874cf",
   "metadata": {},
   "outputs": [],
   "source": [
    "# Turn into a numpy array\n",
    "y_labels = np.array(y_labels)"
   ]
  },
  {
   "cell_type": "code",
   "execution_count": 11,
   "id": "4c901e49",
   "metadata": {},
   "outputs": [
    {
     "data": {
      "text/plain": [
       "array([17, 15,  9,  7,  9,  9,  9, 14, 15, 19, 21, 20, 14, 15, 15, 10, 16,\n",
       "       14, 16, 11, 18, 20, 18, 20, 21, 21, 20, 20, 20, 12])"
      ]
     },
     "execution_count": 11,
     "metadata": {},
     "output_type": "execute_result"
    }
   ],
   "source": [
    "y_labels"
   ]
  },
  {
   "cell_type": "code",
   "execution_count": 13,
   "id": "ca1f2eea",
   "metadata": {},
   "outputs": [
    {
     "name": "stdout",
     "output_type": "stream",
     "text": [
      "Number of unique counts: 13\n"
     ]
    }
   ],
   "source": [
    "num_classes = len(np.unique(y_labels))\n",
    "print(f'Number of unique counts: {num_classes}')"
   ]
  },
  {
   "cell_type": "code",
   "execution_count": 14,
   "id": "14e2ca87",
   "metadata": {},
   "outputs": [
    {
     "data": {
      "text/plain": [
       "dtype('int64')"
      ]
     },
     "execution_count": 14,
     "metadata": {},
     "output_type": "execute_result"
    }
   ],
   "source": [
    "# Current datatype\n",
    "y_labels.dtype"
   ]
  },
  {
   "cell_type": "code",
   "execution_count": 15,
   "id": "1b31d874",
   "metadata": {},
   "outputs": [],
   "source": [
    "# One-hot encode the labels\n",
    "y = keras.utils.to_categorical(y_labels, dtype='int64')"
   ]
  },
  {
   "cell_type": "code",
   "execution_count": 66,
   "id": "7259f36f",
   "metadata": {},
   "outputs": [
    {
     "name": "stdout",
     "output_type": "stream",
     "text": [
      "(106, 744)\n",
      "(100, 806)\n",
      "(100, 806)\n",
      "(100, 806)\n",
      "(100, 806)\n",
      "(100, 806)\n",
      "(100, 806)\n",
      "(100, 806)\n",
      "(100, 796)\n",
      "(160, 1550)\n",
      "(184, 1626)\n",
      "(196, 1654)\n",
      "(84, 642)\n",
      "(84, 694)\n",
      "(84, 694)\n",
      "(84, 694)\n",
      "(116, 710)\n",
      "(116, 764)\n",
      "(116, 764)\n",
      "(116, 764)\n",
      "(116, 700)\n",
      "(100, 770)\n",
      "(100, 770)\n",
      "(100, 770)\n",
      "(100, 770)\n",
      "(100, 770)\n",
      "(100, 770)\n",
      "(100, 770)\n",
      "(100, 770)\n",
      "(100, 770)\n"
     ]
    }
   ],
   "source": [
    "# Let's see what all the different image sizes are\n",
    "directory = 'Chant_Data'\n",
    "\n",
    "for i in range(1, 31):\n",
    "    if i < 10:\n",
    "        im_name = os.path.join(directory, f'{i:02}.png')\n",
    "    else:\n",
    "        im_name = os.path.join(directory, f'{i}.png')\n",
    "    im_test = keras.utils.load_img(\n",
    "        im_name,\n",
    "        color_mode=\"grayscale\",\n",
    "        target_size=None,\n",
    "        interpolation=\"bilinear\",\n",
    "        keep_aspect_ratio=False,\n",
    "    )\n",
    "    img = np.array(im_test)\n",
    "    print(img.shape)"
   ]
  },
  {
   "cell_type": "code",
   "execution_count": 124,
   "id": "9ada6342",
   "metadata": {},
   "outputs": [],
   "source": [
    "# Let's loads the dataset\n",
    "\n",
    "size = (80, 160, 1)\n",
    "directory = 'Chant_Data'\n",
    "imgs = []\n",
    "\n",
    "for i in range(1, 31):\n",
    "    if i < 10:\n",
    "        im_name = os.path.join(directory, f'{i:02}.png')\n",
    "    else:\n",
    "        im_name = os.path.join(directory, f'{i}.png')\n",
    "    im_test = keras.utils.load_img(\n",
    "        im_name,\n",
    "        color_mode=\"grayscale\",\n",
    "        target_size=size,\n",
    "        interpolation=\"bilinear\",\n",
    "        keep_aspect_ratio=False,\n",
    "    )\n",
    "    img = np.array(im_test)\n",
    "    height, width = img.shape\n",
    "    imgs.append(img.reshape(height, width, 1))"
   ]
  },
  {
   "cell_type": "code",
   "execution_count": 125,
   "id": "3c3be366",
   "metadata": {
    "scrolled": false
   },
   "outputs": [
    {
     "data": {
      "text/plain": [
       "<matplotlib.image.AxesImage at 0x29cf7e7f0>"
      ]
     },
     "execution_count": 125,
     "metadata": {},
     "output_type": "execute_result"
    },
    {
     "data": {
      "image/png": "[encoded data removed]",
      "text/plain": [
       "<Figure size 640x480 with 1 Axes>"
      ]
     },
     "metadata": {},
     "output_type": "display_data"
    }
   ],
   "source": [
    "# Example image\n",
    "plt.imshow(np.array(imgs[9]), cmap='gray')"
   ]
  },
  {
   "cell_type": "code",
   "execution_count": 126,
   "id": "b080aafd",
   "metadata": {},
   "outputs": [
    {
     "data": {
      "text/plain": [
       "(30, 80, 160, 1)"
      ]
     },
     "execution_count": 126,
     "metadata": {},
     "output_type": "execute_result"
    }
   ],
   "source": [
    "X = np.array(imgs)\n",
    "X.shape"
   ]
  },
  {
   "cell_type": "code",
   "execution_count": 127,
   "id": "f2704df1",
   "metadata": {},
   "outputs": [],
   "source": [
    "from sklearn.model_selection import train_test_split"
   ]
  },
  {
   "cell_type": "code",
   "execution_count": 128,
   "id": "13966cbe",
   "metadata": {},
   "outputs": [],
   "source": [
    " X_train, X_test, y_train, y_test = train_test_split(X, y, test_size=0.1)"
   ]
  },
  {
   "cell_type": "code",
   "execution_count": 129,
   "id": "9fd352f5",
   "metadata": {},
   "outputs": [
    {
     "data": {
      "text/plain": [
       "(27, 3, 27, 3)"
      ]
     },
     "execution_count": 129,
     "metadata": {},
     "output_type": "execute_result"
    }
   ],
   "source": [
    "len(X_train), len(X_test), len(y_train), len(y_test)"
   ]
  },
  {
   "cell_type": "code",
   "execution_count": 130,
   "id": "cfa63646",
   "metadata": {},
   "outputs": [
    {
     "data": {
      "text/plain": [
       "((27, 80, 160, 1), (3, 80, 160, 1))"
      ]
     },
     "execution_count": 130,
     "metadata": {},
     "output_type": "execute_result"
    }
   ],
   "source": [
    "X_train.shape, X_test.shape"
   ]
  },
  {
   "cell_type": "code",
   "execution_count": 131,
   "id": "4a3e8028",
   "metadata": {
    "scrolled": true
   },
   "outputs": [
    {
     "data": {
      "text/plain": [
       "array([[0, 0, 0, 0, 0, 0, 0, 0, 0, 0, 0, 1, 0, 0, 0, 0, 0, 0, 0, 0, 0, 0],\n",
       "       [0, 0, 0, 0, 0, 0, 0, 0, 0, 0, 1, 0, 0, 0, 0, 0, 0, 0, 0, 0, 0, 0],\n",
       "       [0, 0, 0, 0, 0, 0, 0, 0, 0, 0, 0, 0, 0, 0, 0, 1, 0, 0, 0, 0, 0, 0]])"
      ]
     },
     "execution_count": 131,
     "metadata": {},
     "output_type": "execute_result"
    }
   ],
   "source": [
    "y_test"
   ]
  },
  {
   "cell_type": "code",
   "execution_count": 132,
   "id": "c84a0a4d",
   "metadata": {},
   "outputs": [
    {
     "data": {
      "text/plain": [
       "(80, 160, 1)"
      ]
     },
     "execution_count": 132,
     "metadata": {},
     "output_type": "execute_result"
    }
   ],
   "source": [
    "X_train.shape[1:]"
   ]
  },
  {
   "cell_type": "code",
   "execution_count": 133,
   "id": "0fbdfb7a",
   "metadata": {},
   "outputs": [],
   "source": [
    "model = keras.models.Sequential()\n",
    "model.add(keras.layers.Rescaling(1./255))\n",
    "model.add(keras.layers.RandomFlip('vertical'))\n",
    "model.add(keras.layers.Conv2D(128, (3, 3), activation='relu', input_shape=size))\n",
    "model.add(keras.layers.MaxPooling2D((2, 2)))\n",
    "model.add(keras.layers.Conv2D(128, (3, 3), activation='relu'))\n",
    "model.add(keras.layers.MaxPooling2D((2, 2)))\n",
    "model.add(keras.layers.Conv2D(64, (3, 3), activation='relu'))\n",
    "model.add(keras.layers.MaxPooling2D((2, 2)))\n",
    "model.add(keras.layers.Conv2D(64, (3, 3), activation='relu'))\n",
    "model.add(keras.layers.MaxPooling2D((2, 2)))\n",
    "model.add(keras.layers.Conv2D(64, (3, 3), activation='relu'))\n",
    "\n",
    "model.add(keras.layers.Flatten())\n",
    "model.add(keras.layers.Dense(128, activation='relu'))\n",
    "model.add(keras.layers.Dense(64, activation='relu'))\n",
    "model.add(keras.layers.Dense(32, activation='relu'))\n",
    "model.add(keras.layers.Dense(22))"
   ]
  },
  {
   "cell_type": "code",
   "execution_count": 134,
   "id": "2a2fd683",
   "metadata": {},
   "outputs": [
    {
     "name": "stdout",
     "output_type": "stream",
     "text": [
      "Epoch 1/100\n",
      "2/2 [==============================] - 1s 181ms/step - loss: 8.8159 - accuracy: 0.1111 - val_loss: 16.1181 - val_accuracy: 0.3333\n",
      "Epoch 2/100\n",
      "2/2 [==============================] - 0s 112ms/step - loss: 7.1883 - accuracy: 0.0370 - val_loss: 0.1657 - val_accuracy: 0.0000e+00\n",
      "Epoch 3/100\n",
      "2/2 [==============================] - 0s 113ms/step - loss: 9.0086 - accuracy: 0.0741 - val_loss: 16.1181 - val_accuracy: 0.0000e+00\n",
      "Epoch 4/100\n",
      "2/2 [==============================] - 0s 111ms/step - loss: 7.7880 - accuracy: 0.1481 - val_loss: 1.0130 - val_accuracy: 0.3333\n",
      "Epoch 5/100\n",
      "2/2 [==============================] - 0s 114ms/step - loss: 9.1353 - accuracy: 0.1111 - val_loss: 0.6513 - val_accuracy: 0.0000e+00\n",
      "Epoch 6/100\n",
      "2/2 [==============================] - 0s 112ms/step - loss: 8.9593 - accuracy: 0.1481 - val_loss: 0.4119 - val_accuracy: 0.0000e+00\n",
      "Epoch 7/100\n",
      "2/2 [==============================] - 0s 119ms/step - loss: 8.9545 - accuracy: 0.1481 - val_loss: 1.1921e-07 - val_accuracy: 0.0000e+00\n",
      "Epoch 8/100\n",
      "2/2 [==============================] - 0s 116ms/step - loss: 8.3575 - accuracy: 0.1481 - val_loss: 11.5747 - val_accuracy: 0.0000e+00\n",
      "Epoch 9/100\n",
      "2/2 [==============================] - 0s 115ms/step - loss: 7.1636 - accuracy: 0.1481 - val_loss: 11.4050 - val_accuracy: 0.0000e+00\n",
      "Epoch 10/100\n",
      "2/2 [==============================] - 0s 119ms/step - loss: 7.1994 - accuracy: 0.1481 - val_loss: 12.0621 - val_accuracy: 0.0000e+00\n",
      "Epoch 11/100\n",
      "2/2 [==============================] - 0s 117ms/step - loss: 7.7606 - accuracy: 0.1481 - val_loss: 0.3523 - val_accuracy: 0.0000e+00\n",
      "Epoch 12/100\n",
      "2/2 [==============================] - 0s 130ms/step - loss: 8.9545 - accuracy: 0.1481 - val_loss: 0.4852 - val_accuracy: 0.0000e+00\n",
      "Epoch 13/100\n",
      "2/2 [==============================] - 0s 118ms/step - loss: 8.9545 - accuracy: 0.1481 - val_loss: 0.5970 - val_accuracy: 0.0000e+00\n",
      "Epoch 14/100\n",
      "2/2 [==============================] - 0s 116ms/step - loss: 8.9569 - accuracy: 0.1481 - val_loss: 0.6254 - val_accuracy: 0.3333\n",
      "Epoch 15/100\n",
      "2/2 [==============================] - 0s 118ms/step - loss: 8.9595 - accuracy: 0.1111 - val_loss: 0.5661 - val_accuracy: 0.3333\n",
      "Epoch 16/100\n",
      "2/2 [==============================] - 0s 118ms/step - loss: 8.9545 - accuracy: 0.1111 - val_loss: 0.5085 - val_accuracy: 0.3333\n",
      "Epoch 17/100\n",
      "2/2 [==============================] - 0s 117ms/step - loss: 8.9545 - accuracy: 0.1111 - val_loss: 0.4493 - val_accuracy: 0.3333\n",
      "Epoch 18/100\n",
      "2/2 [==============================] - 0s 118ms/step - loss: 8.9545 - accuracy: 0.1111 - val_loss: 0.4058 - val_accuracy: 0.3333\n",
      "Epoch 19/100\n",
      "2/2 [==============================] - 0s 128ms/step - loss: 8.9545 - accuracy: 0.1111 - val_loss: 0.3874 - val_accuracy: 0.3333\n",
      "Epoch 20/100\n",
      "2/2 [==============================] - 0s 129ms/step - loss: 8.9545 - accuracy: 0.1111 - val_loss: 0.3683 - val_accuracy: 0.3333\n",
      "Epoch 21/100\n",
      "2/2 [==============================] - 0s 120ms/step - loss: 8.9545 - accuracy: 0.1111 - val_loss: 0.3488 - val_accuracy: 0.3333\n",
      "Epoch 22/100\n",
      "2/2 [==============================] - 0s 118ms/step - loss: 8.9545 - accuracy: 0.1111 - val_loss: 0.3292 - val_accuracy: 0.3333\n",
      "Epoch 23/100\n",
      "2/2 [==============================] - 0s 121ms/step - loss: 8.9545 - accuracy: 0.1111 - val_loss: 0.3098 - val_accuracy: 0.3333\n",
      "Epoch 24/100\n",
      "2/2 [==============================] - 0s 132ms/step - loss: 8.9545 - accuracy: 0.1111 - val_loss: 0.2910 - val_accuracy: 0.3333\n",
      "Epoch 25/100\n",
      "2/2 [==============================] - 0s 148ms/step - loss: 8.9545 - accuracy: 0.1111 - val_loss: 0.2730 - val_accuracy: 0.3333\n",
      "Epoch 26/100\n",
      "2/2 [==============================] - 0s 121ms/step - loss: 8.9545 - accuracy: 0.1111 - val_loss: 0.2560 - val_accuracy: 0.3333\n",
      "Epoch 27/100\n",
      "2/2 [==============================] - 0s 120ms/step - loss: 8.9545 - accuracy: 0.1111 - val_loss: 0.2402 - val_accuracy: 0.3333\n",
      "Epoch 28/100\n",
      "2/2 [==============================] - 0s 124ms/step - loss: 8.9545 - accuracy: 0.1111 - val_loss: 0.2259 - val_accuracy: 0.3333\n",
      "Epoch 29/100\n",
      "2/2 [==============================] - 0s 127ms/step - loss: 8.9545 - accuracy: 0.1111 - val_loss: 0.2129 - val_accuracy: 0.3333\n",
      "Epoch 30/100\n",
      "2/2 [==============================] - 0s 119ms/step - loss: 8.9545 - accuracy: 0.1111 - val_loss: 0.2013 - val_accuracy: 0.3333\n",
      "Epoch 31/100\n",
      "2/2 [==============================] - 0s 121ms/step - loss: 8.9545 - accuracy: 0.1111 - val_loss: 0.1912 - val_accuracy: 0.3333\n",
      "Epoch 32/100\n",
      "2/2 [==============================] - 0s 123ms/step - loss: 8.9545 - accuracy: 0.1111 - val_loss: 0.1823 - val_accuracy: 0.3333\n",
      "Epoch 33/100\n",
      "2/2 [==============================] - 0s 122ms/step - loss: 8.9545 - accuracy: 0.1111 - val_loss: 0.1746 - val_accuracy: 0.3333\n",
      "Epoch 34/100\n",
      "2/2 [==============================] - 0s 122ms/step - loss: 8.9545 - accuracy: 0.1111 - val_loss: 0.1681 - val_accuracy: 0.3333\n",
      "Epoch 35/100\n",
      "2/2 [==============================] - 0s 121ms/step - loss: 8.9545 - accuracy: 0.1111 - val_loss: 0.1625 - val_accuracy: 0.3333\n",
      "Epoch 36/100\n",
      "2/2 [==============================] - 0s 119ms/step - loss: 8.9545 - accuracy: 0.1111 - val_loss: 0.1578 - val_accuracy: 0.3333\n",
      "Epoch 37/100\n",
      "2/2 [==============================] - 0s 121ms/step - loss: 8.9545 - accuracy: 0.1111 - val_loss: 0.1538 - val_accuracy: 0.3333\n",
      "Epoch 38/100\n",
      "2/2 [==============================] - 0s 119ms/step - loss: 8.9545 - accuracy: 0.1111 - val_loss: 0.1504 - val_accuracy: 0.3333\n",
      "Epoch 39/100\n",
      "2/2 [==============================] - 0s 121ms/step - loss: 8.9545 - accuracy: 0.1111 - val_loss: 0.1477 - val_accuracy: 0.3333\n",
      "Epoch 40/100\n",
      "2/2 [==============================] - 0s 122ms/step - loss: 8.9545 - accuracy: 0.1111 - val_loss: 0.1453 - val_accuracy: 0.3333\n",
      "Epoch 41/100\n",
      "2/2 [==============================] - 0s 121ms/step - loss: 8.9545 - accuracy: 0.1111 - val_loss: 0.1434 - val_accuracy: 0.3333\n",
      "Epoch 42/100\n",
      "2/2 [==============================] - 0s 121ms/step - loss: 8.9545 - accuracy: 0.1111 - val_loss: 0.1418 - val_accuracy: 0.3333\n",
      "Epoch 43/100\n",
      "2/2 [==============================] - 0s 121ms/step - loss: 8.9545 - accuracy: 0.1111 - val_loss: 0.1405 - val_accuracy: 0.3333\n",
      "Epoch 44/100\n",
      "2/2 [==============================] - 0s 122ms/step - loss: 8.9545 - accuracy: 0.1111 - val_loss: 0.1394 - val_accuracy: 0.3333\n",
      "Epoch 45/100\n",
      "2/2 [==============================] - 0s 123ms/step - loss: 8.9545 - accuracy: 0.1111 - val_loss: 0.1385 - val_accuracy: 0.3333\n",
      "Epoch 46/100\n",
      "2/2 [==============================] - 0s 124ms/step - loss: 8.9545 - accuracy: 0.1111 - val_loss: 0.1378 - val_accuracy: 0.3333\n",
      "Epoch 47/100\n",
      "2/2 [==============================] - 0s 124ms/step - loss: 8.9545 - accuracy: 0.1111 - val_loss: 0.1372 - val_accuracy: 0.3333\n",
      "Epoch 48/100\n",
      "2/2 [==============================] - 0s 123ms/step - loss: 8.9545 - accuracy: 0.1111 - val_loss: 0.1367 - val_accuracy: 0.3333\n",
      "Epoch 49/100\n",
      "2/2 [==============================] - 0s 122ms/step - loss: 8.9545 - accuracy: 0.1111 - val_loss: 0.1362 - val_accuracy: 0.3333\n",
      "Epoch 50/100\n",
      "2/2 [==============================] - 0s 124ms/step - loss: 8.9545 - accuracy: 0.1111 - val_loss: 0.1359 - val_accuracy: 0.3333\n",
      "Epoch 51/100\n",
      "2/2 [==============================] - 0s 124ms/step - loss: 8.9545 - accuracy: 0.1111 - val_loss: 0.1356 - val_accuracy: 0.3333\n",
      "Epoch 52/100\n",
      "2/2 [==============================] - 0s 123ms/step - loss: 8.9545 - accuracy: 0.1111 - val_loss: 0.1354 - val_accuracy: 0.3333\n",
      "Epoch 53/100\n",
      "2/2 [==============================] - 0s 122ms/step - loss: 8.9545 - accuracy: 0.1111 - val_loss: 0.1352 - val_accuracy: 0.3333\n",
      "Epoch 54/100\n",
      "2/2 [==============================] - 0s 124ms/step - loss: 8.9545 - accuracy: 0.1111 - val_loss: 0.1351 - val_accuracy: 0.3333\n",
      "Epoch 55/100\n",
      "2/2 [==============================] - 0s 123ms/step - loss: 8.9545 - accuracy: 0.1111 - val_loss: 0.1350 - val_accuracy: 0.3333\n",
      "Epoch 56/100\n",
      "2/2 [==============================] - 0s 123ms/step - loss: 8.9545 - accuracy: 0.1111 - val_loss: 0.1349 - val_accuracy: 0.3333\n",
      "Epoch 57/100\n",
      "2/2 [==============================] - 0s 124ms/step - loss: 8.9545 - accuracy: 0.1111 - val_loss: 0.1348 - val_accuracy: 0.3333\n",
      "Epoch 58/100\n"
     ]
    },
    {
     "name": "stdout",
     "output_type": "stream",
     "text": [
      "2/2 [==============================] - 0s 125ms/step - loss: 8.9545 - accuracy: 0.1111 - val_loss: 0.1347 - val_accuracy: 0.3333\n",
      "Epoch 59/100\n",
      "2/2 [==============================] - 0s 121ms/step - loss: 8.9545 - accuracy: 0.1111 - val_loss: 0.1347 - val_accuracy: 0.3333\n",
      "Epoch 60/100\n",
      "2/2 [==============================] - 0s 121ms/step - loss: 8.9545 - accuracy: 0.1111 - val_loss: 0.1346 - val_accuracy: 0.3333\n",
      "Epoch 61/100\n",
      "2/2 [==============================] - 0s 120ms/step - loss: 8.9545 - accuracy: 0.1111 - val_loss: 0.1346 - val_accuracy: 0.3333\n",
      "Epoch 62/100\n",
      "2/2 [==============================] - 0s 120ms/step - loss: 8.9545 - accuracy: 0.1111 - val_loss: 0.1345 - val_accuracy: 0.3333\n",
      "Epoch 63/100\n",
      "2/2 [==============================] - 0s 123ms/step - loss: 8.9545 - accuracy: 0.1111 - val_loss: 0.1345 - val_accuracy: 0.3333\n",
      "Epoch 64/100\n",
      "2/2 [==============================] - 0s 123ms/step - loss: 8.9545 - accuracy: 0.1111 - val_loss: 0.1345 - val_accuracy: 0.3333\n",
      "Epoch 65/100\n",
      "2/2 [==============================] - 0s 122ms/step - loss: 8.9545 - accuracy: 0.1111 - val_loss: 0.1345 - val_accuracy: 0.3333\n",
      "Epoch 66/100\n",
      "2/2 [==============================] - 0s 122ms/step - loss: 8.9545 - accuracy: 0.1111 - val_loss: 0.1345 - val_accuracy: 0.3333\n",
      "Epoch 67/100\n",
      "2/2 [==============================] - 0s 122ms/step - loss: 8.9545 - accuracy: 0.1111 - val_loss: 0.1345 - val_accuracy: 0.3333\n",
      "Epoch 68/100\n",
      "2/2 [==============================] - 0s 122ms/step - loss: 8.9545 - accuracy: 0.1111 - val_loss: 0.1345 - val_accuracy: 0.3333\n",
      "Epoch 69/100\n",
      "2/2 [==============================] - 0s 122ms/step - loss: 8.9545 - accuracy: 0.1111 - val_loss: 0.1344 - val_accuracy: 0.3333\n",
      "Epoch 70/100\n",
      "2/2 [==============================] - 0s 122ms/step - loss: 8.9545 - accuracy: 0.1111 - val_loss: 0.1344 - val_accuracy: 0.3333\n",
      "Epoch 71/100\n",
      "2/2 [==============================] - 0s 122ms/step - loss: 8.9545 - accuracy: 0.1111 - val_loss: 0.1344 - val_accuracy: 0.3333\n",
      "Epoch 72/100\n",
      "2/2 [==============================] - 0s 133ms/step - loss: 8.9545 - accuracy: 0.1111 - val_loss: 0.1344 - val_accuracy: 0.3333\n",
      "Epoch 73/100\n",
      "2/2 [==============================] - 0s 121ms/step - loss: 8.9545 - accuracy: 0.1111 - val_loss: 0.1344 - val_accuracy: 0.3333\n",
      "Epoch 74/100\n",
      "2/2 [==============================] - 0s 123ms/step - loss: 8.9545 - accuracy: 0.1111 - val_loss: 0.1344 - val_accuracy: 0.3333\n",
      "Epoch 75/100\n",
      "2/2 [==============================] - 0s 121ms/step - loss: 8.9545 - accuracy: 0.1111 - val_loss: 0.1344 - val_accuracy: 0.3333\n",
      "Epoch 76/100\n",
      "2/2 [==============================] - 0s 123ms/step - loss: 8.9545 - accuracy: 0.1111 - val_loss: 0.1344 - val_accuracy: 0.3333\n",
      "Epoch 77/100\n",
      "2/2 [==============================] - 0s 124ms/step - loss: 8.9545 - accuracy: 0.1111 - val_loss: 0.1344 - val_accuracy: 0.3333\n",
      "Epoch 78/100\n",
      "2/2 [==============================] - 0s 123ms/step - loss: 8.9545 - accuracy: 0.1111 - val_loss: 0.1344 - val_accuracy: 0.3333\n",
      "Epoch 79/100\n",
      "2/2 [==============================] - 0s 131ms/step - loss: 8.9545 - accuracy: 0.1111 - val_loss: 0.1344 - val_accuracy: 0.3333\n",
      "Epoch 80/100\n",
      "2/2 [==============================] - 0s 125ms/step - loss: 8.9545 - accuracy: 0.1111 - val_loss: 0.1344 - val_accuracy: 0.3333\n",
      "Epoch 81/100\n",
      "2/2 [==============================] - 0s 130ms/step - loss: 8.9545 - accuracy: 0.1111 - val_loss: 0.1344 - val_accuracy: 0.3333\n",
      "Epoch 82/100\n",
      "2/2 [==============================] - 0s 124ms/step - loss: 8.9545 - accuracy: 0.1111 - val_loss: 0.1344 - val_accuracy: 0.3333\n",
      "Epoch 83/100\n",
      "2/2 [==============================] - 0s 123ms/step - loss: 8.9545 - accuracy: 0.1111 - val_loss: 0.1344 - val_accuracy: 0.3333\n",
      "Epoch 84/100\n",
      "2/2 [==============================] - 0s 125ms/step - loss: 8.9545 - accuracy: 0.1111 - val_loss: 0.1344 - val_accuracy: 0.3333\n",
      "Epoch 85/100\n",
      "2/2 [==============================] - 0s 124ms/step - loss: 8.9545 - accuracy: 0.1111 - val_loss: 0.1344 - val_accuracy: 0.3333\n",
      "Epoch 86/100\n",
      "2/2 [==============================] - 0s 125ms/step - loss: 8.9545 - accuracy: 0.1111 - val_loss: 0.1344 - val_accuracy: 0.3333\n",
      "Epoch 87/100\n",
      "2/2 [==============================] - 0s 126ms/step - loss: 8.9545 - accuracy: 0.1111 - val_loss: 0.1344 - val_accuracy: 0.3333\n",
      "Epoch 88/100\n",
      "2/2 [==============================] - 0s 125ms/step - loss: 8.9545 - accuracy: 0.1111 - val_loss: 0.1344 - val_accuracy: 0.3333\n",
      "Epoch 89/100\n",
      "2/2 [==============================] - 0s 123ms/step - loss: 8.9545 - accuracy: 0.1111 - val_loss: 0.1344 - val_accuracy: 0.3333\n",
      "Epoch 90/100\n",
      "2/2 [==============================] - 0s 125ms/step - loss: 8.9545 - accuracy: 0.1111 - val_loss: 0.1344 - val_accuracy: 0.3333\n",
      "Epoch 91/100\n",
      "2/2 [==============================] - 0s 126ms/step - loss: 8.9545 - accuracy: 0.1111 - val_loss: 0.1344 - val_accuracy: 0.3333\n",
      "Epoch 92/100\n",
      "2/2 [==============================] - 0s 127ms/step - loss: 8.9545 - accuracy: 0.1111 - val_loss: 0.1344 - val_accuracy: 0.3333\n",
      "Epoch 93/100\n",
      "2/2 [==============================] - 0s 124ms/step - loss: 8.9545 - accuracy: 0.1111 - val_loss: 0.1344 - val_accuracy: 0.3333\n",
      "Epoch 94/100\n",
      "2/2 [==============================] - 0s 126ms/step - loss: 8.9545 - accuracy: 0.1111 - val_loss: 0.1344 - val_accuracy: 0.3333\n",
      "Epoch 95/100\n",
      "2/2 [==============================] - 0s 126ms/step - loss: 8.9545 - accuracy: 0.1111 - val_loss: 0.1344 - val_accuracy: 0.3333\n",
      "Epoch 96/100\n",
      "2/2 [==============================] - 0s 126ms/step - loss: 8.9545 - accuracy: 0.1111 - val_loss: 0.1344 - val_accuracy: 0.3333\n",
      "Epoch 97/100\n",
      "2/2 [==============================] - 0s 126ms/step - loss: 8.9545 - accuracy: 0.1111 - val_loss: 0.1344 - val_accuracy: 0.3333\n",
      "Epoch 98/100\n",
      "2/2 [==============================] - 0s 126ms/step - loss: 8.9545 - accuracy: 0.1111 - val_loss: 0.1344 - val_accuracy: 0.3333\n",
      "Epoch 99/100\n",
      "2/2 [==============================] - 0s 125ms/step - loss: 8.9545 - accuracy: 0.1111 - val_loss: 0.1344 - val_accuracy: 0.3333\n",
      "Epoch 100/100\n",
      "2/2 [==============================] - 0s 128ms/step - loss: 8.9545 - accuracy: 0.1111 - val_loss: 0.1344 - val_accuracy: 0.3333\n"
     ]
    }
   ],
   "source": [
    "model.compile(optimizer='adam',\n",
    "              loss=keras.losses.CategoricalCrossentropy(),\n",
    "              metrics=['accuracy'])\n",
    "\n",
    "history = model.fit(np.array(X_train), np.array(y_train), batch_size=20, epochs=100, \n",
    "                    validation_data=(np.array(X_test), np.array(y_test)))"
   ]
  },
  {
   "cell_type": "markdown",
   "id": "73ec6886",
   "metadata": {},
   "source": [
    "# Results"
   ]
  },
  {
   "cell_type": "code",
   "execution_count": 136,
   "id": "5fac7d16",
   "metadata": {},
   "outputs": [
    {
     "data": {
      "image/png": "[encoded data removed]",
      "text/plain": [
       "<Figure size 640x480 with 1 Axes>"
      ]
     },
     "metadata": {},
     "output_type": "display_data"
    },
    {
     "data": {
      "image/png": "[encoded data removed]",
      "text/plain": [
       "<Figure size 640x480 with 1 Axes>"
      ]
     },
     "metadata": {},
     "output_type": "display_data"
    },
    {
     "data": {
      "text/plain": [
       "<Figure size 640x480 with 0 Axes>"
      ]
     },
     "metadata": {},
     "output_type": "display_data"
    }
   ],
   "source": [
    "\n",
    "# summarize history for accuracy\n",
    "plt.plot(history.history['accuracy'])\n",
    "plt.plot(history.history['val_accuracy'])\n",
    "plt.title('Model Accuracy')\n",
    "plt.ylabel('Accuracy')\n",
    "plt.xlabel('Epoch')\n",
    "plt.legend(['train', 'test'], loc='upper left')\n",
    "plt.show()\n",
    "# summarize history for loss\n",
    "plt.plot(history.history['loss'])\n",
    "plt.plot(history.history['val_loss'])\n",
    "plt.title('model loss')\n",
    "plt.ylabel('loss')\n",
    "plt.xlabel('epoch')\n",
    "plt.legend(['train', 'test'], loc='upper left')\n",
    "plt.show()\n",
    "plt.savefig('Model_results')"
   ]
  },
  {
   "cell_type": "code",
   "execution_count": null,
   "id": "1854c380",
   "metadata": {},
   "outputs": [],
   "source": []
  }
 ],
 "metadata": {
  "kernelspec": {
   "display_name": "Python 3 (ipykernel)",
   "language": "python",
   "name": "python3"
  },
  "language_info": {
   "codemirror_mode": {
    "name": "ipython",
    "version": 3
   },
   "file_extension": ".py",
   "mimetype": "text/x-python",
   "name": "python",
   "nbconvert_exporter": "python",
   "pygments_lexer": "ipython3",
   "version": "3.9.15"
  }
 },
 "nbformat": 4,
 "nbformat_minor": 5
}

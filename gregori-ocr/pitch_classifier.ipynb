{
 "cells": [
  {
   "cell_type": "markdown",
   "id": "ffb69c09",
   "metadata": {},
   "source": [
    "# GregoriOCR"
   ]
  },
  {
   "cell_type": "code",
   "execution_count": 1,
   "id": "443e4a9e",
   "metadata": {},
   "outputs": [],
   "source": [
    "#Libraries\n",
    "from keras.layers import Conv2D, Dense, Flatten, MaxPooling2D\n",
    "from keras.models import Sequential\n",
    "import matplotlib.pyplot as plt\n",
    "import numpy as np\n",
    "import os\n",
    "from PIL import Image\n",
    "from sklearn.metrics import classification_report\n",
    "from sklearn.model_selection import cross_validate, train_test_split\n",
    "from sklearn.preprocessing import LabelEncoder"
   ]
  },
  {
   "cell_type": "code",
   "execution_count": 20,
   "id": "4619ab88",
   "metadata": {},
   "outputs": [],
   "source": [
    "#Load Data\n",
    "#Image data\n",
    "X = []\n",
    "for file in os.listdir('./Note Data'):\n",
    "    img = Image.open(f'./Note Data/{file}')\n",
    "    X.append(np.array(img))\n",
    "X = np.array(X)\n",
    "X = X.reshape([100, 138, 34, 4])\n",
    "\n",
    "\n",
    "#Labels\n",
    "y = []\n",
    "text_file = open(\"Note_label.txt\", \"r\") #open text file in read mode\n",
    "data = text_file.read() #read whole file to a string\n",
    "text_file.close() #close file\n",
    "\n",
    "for char in data:\n",
    "    if char.isalpha():\n",
    "        y.append(char)\n",
    "y = np.array(y)\n",
    "unencoded_labels = np.unique(y)\n",
    "\n",
    "#Encode labels\n",
    "label_encoder = LabelEncoder()\n",
    "y = label_encoder.fit_transform(y)\n",
    "encoded_labels = np.unique(y)\n",
    "\n",
    "label_dict = {\n",
    "    encoded_labels[0]: unencoded_labels[0],\n",
    "    encoded_labels[1]: unencoded_labels[1],\n",
    "    encoded_labels[2]: unencoded_labels[2],\n",
    "    encoded_labels[3]: unencoded_labels[3],\n",
    "    encoded_labels[4]: unencoded_labels[4],\n",
    "}"
   ]
  },
  {
   "cell_type": "code",
   "execution_count": 21,
   "id": "53e29a9e",
   "metadata": {},
   "outputs": [
    {
     "name": "stdout",
     "output_type": "stream",
     "text": [
      "(90, 138, 34, 4)\n",
      "(90,)\n",
      "(10, 138, 34, 4)\n",
      "(10,)\n"
     ]
    }
   ],
   "source": [
    "#Split data into train and test\n",
    "X_train, X_test, y_train, y_test = train_test_split(X, y, test_size=0.1, random_state=1)\n",
    "\n",
    "#print(X_train.shape)\n",
    "#print(y_train.shape)\n",
    "#print(X_test.shape)\n",
    "#print(y_test.shape)"
   ]
  },
  {
   "cell_type": "code",
   "execution_count": 4,
   "id": "80675bb9",
   "metadata": {},
   "outputs": [],
   "source": [
    "#One-hot Encode y_train\n",
    "ohe_y_train = np.eye(np.max(y)+1)[y_train]\n",
    "#ohe_y = np.eye(np.max(y)+1)[y]"
   ]
  },
  {
   "cell_type": "code",
   "execution_count": 15,
   "id": "e1fb3101",
   "metadata": {
    "scrolled": true
   },
   "outputs": [],
   "source": [
    "model = Sequential()\n",
    "\n",
    "#LAYERS:\n",
    "#Convulusional layers:\n",
    "model.add(Conv2D(16, (3, 3), activation='selu'))\n",
    "model.add(MaxPooling2D((2, 2)))\n",
    "model.add(Conv2D(32, (3, 3), activation='selu'))\n",
    "model.add(MaxPooling2D((2, 2)))\n",
    "model.add(Conv2D(64, (3, 3), activation='selu'))\n",
    "\n",
    "\n",
    "#Always flatten inputs after you convulusional layers are finished:\n",
    "model.add(Flatten())\n",
    "\n",
    "#Non-convolusional layers:\n",
    "#model.add(Dense(units=30, activation='relu', input_dim=X_train.shape[1]))\n",
    "#model.add(Dense(units=15, activation='relu'))\n",
    "\n",
    "#Output Layer:\n",
    "model.add(Dense(units=ohe_y_train.shape[1], activation='softmax'))"
   ]
  },
  {
   "cell_type": "code",
   "execution_count": 16,
   "id": "54d2d641",
   "metadata": {},
   "outputs": [],
   "source": [
    "#COMPILING THE MODEL\n",
    "model.compile(optimizer='adam', loss='categorical_crossentropy')"
   ]
  },
  {
   "cell_type": "code",
   "execution_count": 17,
   "id": "1c15aa3a",
   "metadata": {
    "scrolled": true
   },
   "outputs": [
    {
     "name": "stdout",
     "output_type": "stream",
     "text": [
      "Epoch 1/60\n",
      "1/1 [==============================] - 1s 646ms/step - loss: 82.7097 - val_loss: 103.9976\n",
      "Epoch 2/60\n",
      "1/1 [==============================] - 0s 178ms/step - loss: 201.3058 - val_loss: 279.1649\n",
      "Epoch 3/60\n",
      "1/1 [==============================] - 0s 197ms/step - loss: 330.3999 - val_loss: 392.2513\n",
      "Epoch 4/60\n",
      "1/1 [==============================] - 0s 199ms/step - loss: 368.9063 - val_loss: 270.0301\n",
      "Epoch 5/60\n",
      "1/1 [==============================] - 0s 175ms/step - loss: 240.0204 - val_loss: 118.9952\n",
      "Epoch 6/60\n",
      "1/1 [==============================] - 0s 182ms/step - loss: 102.6161 - val_loss: 58.1618\n",
      "Epoch 7/60\n",
      "1/1 [==============================] - 0s 202ms/step - loss: 57.8964 - val_loss: 34.2580\n",
      "Epoch 8/60\n",
      "1/1 [==============================] - 0s 180ms/step - loss: 57.9104 - val_loss: 17.5755\n",
      "Epoch 9/60\n",
      "1/1 [==============================] - 0s 212ms/step - loss: 56.3034 - val_loss: 25.4548\n",
      "Epoch 10/60\n",
      "1/1 [==============================] - 0s 214ms/step - loss: 54.1837 - val_loss: 15.5366\n",
      "Epoch 11/60\n",
      "1/1 [==============================] - 0s 172ms/step - loss: 33.3182 - val_loss: 10.0484\n",
      "Epoch 12/60\n",
      "1/1 [==============================] - 0s 189ms/step - loss: 18.9593 - val_loss: 8.4585\n",
      "Epoch 13/60\n",
      "1/1 [==============================] - 0s 183ms/step - loss: 8.9021 - val_loss: 23.1944\n",
      "Epoch 14/60\n",
      "1/1 [==============================] - 0s 180ms/step - loss: 12.5355 - val_loss: 28.6937\n",
      "Epoch 15/60\n",
      "1/1 [==============================] - 0s 182ms/step - loss: 15.7535 - val_loss: 20.4634\n",
      "Epoch 16/60\n",
      "1/1 [==============================] - 0s 186ms/step - loss: 10.8654 - val_loss: 13.1678\n",
      "Epoch 17/60\n",
      "1/1 [==============================] - 0s 182ms/step - loss: 7.9044 - val_loss: 9.1003\n",
      "Epoch 18/60\n",
      "1/1 [==============================] - 0s 199ms/step - loss: 6.5557 - val_loss: 7.6590\n",
      "Epoch 19/60\n",
      "1/1 [==============================] - 0s 211ms/step - loss: 6.5934 - val_loss: 6.6703\n",
      "Epoch 20/60\n",
      "1/1 [==============================] - 0s 217ms/step - loss: 6.5551 - val_loss: 4.6607\n",
      "Epoch 21/60\n",
      "1/1 [==============================] - 0s 202ms/step - loss: 5.0396 - val_loss: 2.4854\n",
      "Epoch 22/60\n",
      "1/1 [==============================] - 0s 202ms/step - loss: 2.9497 - val_loss: 3.9623\n",
      "Epoch 23/60\n",
      "1/1 [==============================] - 0s 239ms/step - loss: 3.7424 - val_loss: 5.1347\n",
      "Epoch 24/60\n",
      "1/1 [==============================] - 0s 205ms/step - loss: 4.7241 - val_loss: 4.9459\n",
      "Epoch 25/60\n",
      "1/1 [==============================] - 0s 200ms/step - loss: 4.3298 - val_loss: 3.9438\n",
      "Epoch 26/60\n",
      "1/1 [==============================] - 0s 191ms/step - loss: 2.8790 - val_loss: 4.4313\n",
      "Epoch 27/60\n",
      "1/1 [==============================] - 0s 181ms/step - loss: 2.2043 - val_loss: 6.0351\n",
      "Epoch 28/60\n",
      "1/1 [==============================] - 0s 178ms/step - loss: 2.6999 - val_loss: 6.2396\n",
      "Epoch 29/60\n",
      "1/1 [==============================] - 0s 180ms/step - loss: 2.9144 - val_loss: 5.4009\n",
      "Epoch 30/60\n",
      "1/1 [==============================] - 0s 180ms/step - loss: 2.5447 - val_loss: 4.2759\n",
      "Epoch 31/60\n",
      "1/1 [==============================] - 0s 182ms/step - loss: 2.0652 - val_loss: 3.8440\n",
      "Epoch 32/60\n",
      "1/1 [==============================] - 0s 221ms/step - loss: 1.9420 - val_loss: 3.5087\n",
      "Epoch 33/60\n",
      "1/1 [==============================] - 0s 206ms/step - loss: 1.8532 - val_loss: 2.6904\n",
      "Epoch 34/60\n",
      "1/1 [==============================] - 0s 201ms/step - loss: 1.6312 - val_loss: 2.4644\n",
      "Epoch 35/60\n",
      "1/1 [==============================] - 0s 181ms/step - loss: 1.7167 - val_loss: 2.6338\n",
      "Epoch 36/60\n",
      "1/1 [==============================] - 0s 185ms/step - loss: 1.5924 - val_loss: 3.0896\n",
      "Epoch 37/60\n",
      "1/1 [==============================] - 0s 184ms/step - loss: 1.3857 - val_loss: 3.6262\n",
      "Epoch 38/60\n",
      "1/1 [==============================] - 0s 181ms/step - loss: 1.3971 - val_loss: 3.7190\n",
      "Epoch 39/60\n",
      "1/1 [==============================] - 0s 186ms/step - loss: 1.3854 - val_loss: 3.3738\n",
      "Epoch 40/60\n",
      "1/1 [==============================] - 0s 180ms/step - loss: 1.2974 - val_loss: 2.9574\n",
      "Epoch 41/60\n",
      "1/1 [==============================] - 0s 179ms/step - loss: 1.2907 - val_loss: 2.6148\n",
      "Epoch 42/60\n",
      "1/1 [==============================] - 0s 188ms/step - loss: 1.2788 - val_loss: 2.3748\n",
      "Epoch 43/60\n",
      "1/1 [==============================] - 0s 218ms/step - loss: 1.1999 - val_loss: 2.3906\n",
      "Epoch 44/60\n",
      "1/1 [==============================] - 0s 192ms/step - loss: 1.1591 - val_loss: 2.6272\n",
      "Epoch 45/60\n",
      "1/1 [==============================] - 0s 221ms/step - loss: 1.1608 - val_loss: 2.9156\n",
      "Epoch 46/60\n",
      "1/1 [==============================] - 0s 210ms/step - loss: 1.1206 - val_loss: 3.1508\n",
      "Epoch 47/60\n",
      "1/1 [==============================] - 0s 190ms/step - loss: 1.0590 - val_loss: 3.2572\n",
      "Epoch 48/60\n",
      "1/1 [==============================] - 0s 184ms/step - loss: 1.0078 - val_loss: 3.2059\n",
      "Epoch 49/60\n",
      "1/1 [==============================] - 0s 188ms/step - loss: 0.9880 - val_loss: 2.9910\n",
      "Epoch 50/60\n",
      "1/1 [==============================] - 0s 179ms/step - loss: 0.9514 - val_loss: 2.8286\n",
      "Epoch 51/60\n",
      "1/1 [==============================] - 0s 202ms/step - loss: 0.9206 - val_loss: 2.9298\n",
      "Epoch 52/60\n",
      "1/1 [==============================] - 0s 182ms/step - loss: 0.8736 - val_loss: 3.2221\n",
      "Epoch 53/60\n",
      "1/1 [==============================] - 0s 177ms/step - loss: 0.8462 - val_loss: 3.5049\n",
      "Epoch 54/60\n",
      "1/1 [==============================] - 0s 181ms/step - loss: 0.8423 - val_loss: 3.6784\n",
      "Epoch 55/60\n",
      "1/1 [==============================] - 0s 191ms/step - loss: 0.8292 - val_loss: 3.7126\n",
      "Epoch 56/60\n",
      "1/1 [==============================] - 0s 181ms/step - loss: 0.7929 - val_loss: 3.6254\n",
      "Epoch 57/60\n",
      "1/1 [==============================] - 0s 177ms/step - loss: 0.7499 - val_loss: 3.4927\n",
      "Epoch 58/60\n",
      "1/1 [==============================] - 0s 179ms/step - loss: 0.7340 - val_loss: 3.3912\n",
      "Epoch 59/60\n",
      "1/1 [==============================] - 0s 178ms/step - loss: 0.7303 - val_loss: 3.4034\n",
      "Epoch 60/60\n",
      "1/1 [==============================] - 0s 181ms/step - loss: 0.7042 - val_loss: 3.5453\n"
     ]
    },
    {
     "data": {
      "text/plain": [
       "<keras.callbacks.History at 0x25c0904e890>"
      ]
     },
     "execution_count": 17,
     "metadata": {},
     "output_type": "execute_result"
    }
   ],
   "source": [
    "#TRAIN THE MODEL\n",
    "model.fit(X_train.astype('float'), ohe_y_train, validation_split=0.1, batch_size=X.shape[0], epochs=60)"
   ]
  },
  {
   "cell_type": "code",
   "execution_count": 18,
   "id": "bd2f52a9",
   "metadata": {},
   "outputs": [
    {
     "name": "stdout",
     "output_type": "stream",
     "text": [
      "1/1 [==============================] - 0s 52ms/step\n",
      "Model Classification Report:\n",
      "              precision    recall  f1-score   support\n",
      "\n",
      "           0       0.00      0.00      0.00         2\n",
      "           1       0.00      0.00      0.00         0\n",
      "           2       1.00      0.33      0.50         3\n",
      "           3       0.00      0.00      0.00         2\n",
      "           4       0.25      0.33      0.29         3\n",
      "\n",
      "    accuracy                           0.20        10\n",
      "   macro avg       0.25      0.13      0.16        10\n",
      "weighted avg       0.38      0.20      0.24        10\n",
      "\n"
     ]
    },
    {
     "name": "stderr",
     "output_type": "stream",
     "text": [
      "C:\\Users\\cenny\\AppData\\Local\\Programs\\Python\\Python310\\lib\\site-packages\\sklearn\\metrics\\_classification.py:1334: UndefinedMetricWarning: Recall and F-score are ill-defined and being set to 0.0 in labels with no true samples. Use `zero_division` parameter to control this behavior.\n",
      "  _warn_prf(average, modifier, msg_start, len(result))\n",
      "C:\\Users\\cenny\\AppData\\Local\\Programs\\Python\\Python310\\lib\\site-packages\\sklearn\\metrics\\_classification.py:1334: UndefinedMetricWarning: Recall and F-score are ill-defined and being set to 0.0 in labels with no true samples. Use `zero_division` parameter to control this behavior.\n",
      "  _warn_prf(average, modifier, msg_start, len(result))\n",
      "C:\\Users\\cenny\\AppData\\Local\\Programs\\Python\\Python310\\lib\\site-packages\\sklearn\\metrics\\_classification.py:1334: UndefinedMetricWarning: Recall and F-score are ill-defined and being set to 0.0 in labels with no true samples. Use `zero_division` parameter to control this behavior.\n",
      "  _warn_prf(average, modifier, msg_start, len(result))\n"
     ]
    }
   ],
   "source": [
    "#PREDICT TEST DATA\n",
    "yhat_test = model.predict(X_test.astype(float))\n",
    "\n",
    "yhat = []\n",
    "for y in yhat_test:\n",
    "    yhat.append(np.argmax(y))\n",
    "yhat = np.array(yhat)\n",
    "\n",
    "print('Model Classification Report:')\n",
    "print(classification_report(y_test, yhat))"
   ]
  },
  {
   "cell_type": "code",
   "execution_count": 19,
   "id": "0b7465e1",
   "metadata": {},
   "outputs": [
    {
     "data": {
      "image/png": "[encoded data removed]",
      "text/plain": [
       "<Figure size 1600x400 with 5 Axes>"
      ]
     },
     "metadata": {},
     "output_type": "display_data"
    }
   ],
   "source": [
    "#n = 5\n",
    "#imgs = X_test\n",
    "#fig, ax = plt.subplots(1, n, figsize=(16,4))\n",
    "\n",
    "#for label in encoded_labels:\n",
    "#    if label in yhat:\n",
    "#        index = np.where(yhat == label)[0][0]\n",
    "#        ax[label].imshow(imgs[index])\n",
    "#        ax[label].set_title(f'{label_dict[yhat[index]]}')\n",
    "#    else:\n",
    "#        ax[label].set_title(f'Did not find: {label_dict[label]}')"
   ]
  },
  {
   "cell_type": "code",
   "execution_count": null,
   "id": "f977801b",
   "metadata": {},
   "outputs": [],
   "source": []
  }
 ],
 "metadata": {
  "kernelspec": {
   "display_name": "Python 3 (ipykernel)",
   "language": "python",
   "name": "python3"
  },
  "language_info": {
   "codemirror_mode": {
    "name": "ipython",
    "version": 3
   },
   "file_extension": ".py",
   "mimetype": "text/x-python",
   "name": "python",
   "nbconvert_exporter": "python",
   "pygments_lexer": "ipython3",
   "version": "3.10.7"
  }
 },
 "nbformat": 4,
 "nbformat_minor": 5
}

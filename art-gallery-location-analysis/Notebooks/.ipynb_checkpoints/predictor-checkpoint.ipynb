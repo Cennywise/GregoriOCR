{
 "cells": [
  {
   "cell_type": "markdown",
   "metadata": {},
   "source": [
    "Run  fit(X,Y,arch,G,alpha = 1e-9, momentum = .01, batch_size = 100, \n",
    "        lambda_ = 0, max_iters = 100,verbose = False, cost_type = 'se',print_costs = True):\n",
    "which returns trained values: W,B,costs,grad_norms\n",
    "\n",
    "Let X = trainning data\n",
    "    Y = brands [\"hyundai\",\"lexus\",\"mazda\",\"mercedes\",\"opel\",\"skoda\",\"toyota\",\"volkswagen\"]"
   ]
  },
  {
   "cell_type": "code",
   "execution_count": 7,
   "metadata": {},
   "outputs": [],
   "source": [
    "%run neural_network.ipynb"
   ]
  },
  {
   "cell_type": "code",
   "execution_count": 8,
   "metadata": {},
   "outputs": [
    {
     "data": {
      "text/plain": [
       "[0.19661193324148185, 0.10499358540350662, 0.045176659730912]"
      ]
     },
     "execution_count": 8,
     "metadata": {},
     "output_type": "execute_result"
    }
   ],
   "source": [
    "#trial run\n",
    "x = [1,2,3]\n",
    "Sigmoid(x)"
   ]
  },
  {
   "cell_type": "code",
   "execution_count": null,
   "metadata": {},
   "outputs": [],
   "source": [
    "X = [] # image data\n",
    "Y = [] # labels\n",
    "# options for G: [Linear,Softmax,Sigmoid,Squared,ReLU]\n",
    "G = [linear, ReLU, Softmax]\n",
    "arch = [30,40,8]"
   ]
  },
  {
   "cell_type": "code",
   "execution_count": null,
   "metadata": {},
   "outputs": [],
   "source": [
    "fit(X,Y,arch,G,alpha=1e-9,momentum=-.01,batch_size=100,lambda_=0.1,max_iters=100,verbose=False,cost_type='se',print_costs=True)"
   ]
  }
 ],
 "metadata": {
  "kernelspec": {
   "display_name": "Python 3",
   "language": "python",
   "name": "python3"
  },
  "language_info": {
   "codemirror_mode": {
    "name": "ipython",
    "version": 3
   },
   "file_extension": ".py",
   "mimetype": "text/x-python",
   "name": "python",
   "nbconvert_exporter": "python",
   "pygments_lexer": "ipython3",
   "version": "3.7.6"
  }
 },
 "nbformat": 4,
 "nbformat_minor": 4
}

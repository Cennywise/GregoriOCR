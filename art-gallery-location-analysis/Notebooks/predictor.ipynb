{
 "cells": [
  {
   "cell_type": "markdown",
   "metadata": {},
   "source": [
    "Run  fit(X,Y,arch,G,alpha = 1e-9, momentum = .01, batch_size = 100, \n",
    "        lambda_ = 0, max_iters = 100,verbose = False, cost_type = 'se',print_costs = True):\n",
    "which returns trained values: W,B,costs,grad_norms\n",
    "\n",
    "Let X = trainning data\n",
    "    Y = brands [\"hyundai\",\"lexus\",\"mazda\",\"mercedes\",\"opel\",\"skoda\",\"toyota\",\"volkswagen\"]"
   ]
  },
  {
   "cell_type": "code",
   "execution_count": 165,
   "metadata": {
    "scrolled": true
   },
   "outputs": [],
   "source": [
    "%run neural_nets_2.ipynb"
   ]
  },
  {
   "cell_type": "code",
   "execution_count": null,
   "metadata": {},
   "outputs": [],
   "source": [
    "%run image_upload.ipynb #to obtain brands_dict with all images for rows of X_data matrix"
   ]
  },
  {
   "cell_type": "markdown",
   "metadata": {},
   "source": [
    "Create X matrix and Y labels:"
   ]
  },
  {
   "cell_type": "code",
   "execution_count": 100,
   "metadata": {},
   "outputs": [],
   "source": [
    "allbrands = [\"hyundai\",\"lexus\",\"mazda\",\"mercedes\",\"opel\",\"skoda\",\"toyota\",\"volkswagen\"]\n",
    "X = [] \n",
    "Y = []\n",
    "for brand in allbrands:\n",
    "    num_pics = len(brands_dict[brand])\n",
    "    for pic in range(num_pics):\n",
    "        brand_index = allbrands.index(brand)\n",
    "        Y.append(brand_index)\n",
    "        addthis = np.asarray(brands_dict[brand][pic]) #1x900\n",
    "        X.append(addthis)\n",
    "X = np.squeeze(X,axis=1)"
   ]
  },
  {
   "cell_type": "code",
   "execution_count": 136,
   "metadata": {
    "scrolled": true
   },
   "outputs": [],
   "source": [
    "Y = np.asarray(Y).reshape(-1,1)"
   ]
  },
  {
   "cell_type": "code",
   "execution_count": 109,
   "metadata": {},
   "outputs": [],
   "source": [
    "# options for G: [Linear,Softmax,Sigmoid,Squared,ReLU]\n",
    "G = [Linear, ReLU, Softmax]\n",
    "arch = [900,40,8]"
   ]
  },
  {
   "cell_type": "code",
   "execution_count": 168,
   "metadata": {
    "scrolled": false
   },
   "outputs": [
    {
     "name": "stdout",
     "output_type": "stream",
     "text": [
      "epoch: 0\n",
      "           cost: 130.96565218115916\n",
      "epoch: 3\n",
      "           cost: 141.72567316826488\n",
      "epoch: 6\n",
      "           cost: 125.48562402059868\n",
      "epoch: 9\n",
      "           cost: 136.52571065954908\n",
      "epoch: 12\n",
      "           cost: 135.82570381021196\n",
      "epoch: 15\n",
      "           cost: 124.40566897022967\n",
      "epoch: 18\n",
      "           cost: 130.24563745713698\n",
      "epoch: 21\n",
      "           cost: 154.54565724909833\n",
      "epoch: 24\n",
      "           cost: 130.30567436927484\n",
      "epoch: 27\n",
      "           cost: 137.325665693641\n",
      "epoch: 30\n",
      "           cost: 148.58563520040389\n",
      "epoch: 33\n",
      "           cost: 142.4656950749618\n",
      "epoch: 36\n",
      "           cost: 110.00568444776695\n",
      "epoch: 39\n",
      "           cost: 125.02563915074153\n",
      "epoch: 42\n",
      "           cost: 144.12562383135028\n",
      "epoch: 45\n",
      "           cost: 159.2656722005459\n",
      "epoch: 48\n",
      "           cost: 152.72563524240587\n",
      "epoch: 51\n",
      "           cost: 147.8455851664837\n",
      "epoch: 54\n",
      "           cost: 144.98569793274774\n",
      "epoch: 57\n",
      "           cost: 134.4856186251385\n",
      "epoch: 60\n",
      "           cost: 141.9657227069155\n",
      "epoch: 63\n",
      "           cost: 132.1256751662713\n",
      "epoch: 66\n",
      "           cost: 157.2256313622236\n",
      "epoch: 69\n",
      "           cost: 124.34564109455609\n",
      "epoch: 72\n",
      "           cost: 133.30569750552286\n",
      "epoch: 75\n",
      "           cost: 140.40565515043218\n",
      "epoch: 78\n",
      "           cost: 160.78565026230032\n",
      "epoch: 81\n",
      "           cost: 144.46561575419958\n",
      "epoch: 84\n",
      "           cost: 120.70564107215738\n",
      "epoch: 87\n",
      "           cost: 135.34564710264814\n",
      "epoch: 90\n",
      "           cost: 130.7656115973308\n",
      "epoch: 93\n",
      "           cost: 140.68567806889334\n",
      "epoch: 96\n",
      "           cost: 132.28574767369548\n",
      "epoch: 99\n",
      "           cost: 126.54563675462389\n"
     ]
    }
   ],
   "source": [
    "W,B,costs,grad_norms = fit(X,Y,arch,G,alpha=1e-9,momentum=-.01,batch_size=100,lambda_=0.1,max_iters=100,verbose=False,cost_type='se',print_costs=True)"
   ]
  },
  {
   "cell_type": "code",
   "execution_count": 172,
   "metadata": {
    "scrolled": true
   },
   "outputs": [],
   "source": [
    "def predict(W,B,G,x):\n",
    "    ######################### your code goes here ########################\n",
    "    feeds = feedforward(W,B,G,x)\n",
    "    values = feeds[-1]\n",
    "    maxval = max(values)\n",
    "    index = np.where(values == maxval)\n",
    "    prediction = np.zeros(len(values))\n",
    "    prediction[index] = 1\n",
    "    return prediction"
   ]
  },
  {
   "cell_type": "code",
   "execution_count": 174,
   "metadata": {},
   "outputs": [
    {
     "name": "stdout",
     "output_type": "stream",
     "text": [
      "[0]\n"
     ]
    },
    {
     "ename": "IndexError",
     "evalue": "too many indices for array",
     "output_type": "error",
     "traceback": [
      "\u001b[1;31m---------------------------------------------------------------------------\u001b[0m",
      "\u001b[1;31mIndexError\u001b[0m                                Traceback (most recent call last)",
      "\u001b[1;32m<ipython-input-174-a4f67457c580>\u001b[0m in \u001b[0;36m<module>\u001b[1;34m\u001b[0m\n\u001b[0;32m      6\u001b[0m \u001b[0mx\u001b[0m \u001b[1;33m=\u001b[0m \u001b[0mX\u001b[0m\u001b[1;33m[\u001b[0m\u001b[1;36m0\u001b[0m\u001b[1;33m,\u001b[0m\u001b[1;33m:\u001b[0m\u001b[1;33m]\u001b[0m\u001b[1;33m\u001b[0m\u001b[1;33m\u001b[0m\u001b[0m\n\u001b[0;32m      7\u001b[0m \u001b[0mprint\u001b[0m\u001b[1;33m(\u001b[0m\u001b[0mY\u001b[0m\u001b[1;33m[\u001b[0m\u001b[1;36m0\u001b[0m\u001b[1;33m]\u001b[0m\u001b[1;33m)\u001b[0m\u001b[1;33m\u001b[0m\u001b[1;33m\u001b[0m\u001b[0m\n\u001b[1;32m----> 8\u001b[1;33m \u001b[0mprint\u001b[0m\u001b[1;33m(\u001b[0m\u001b[0mpredict\u001b[0m\u001b[1;33m(\u001b[0m\u001b[0mW\u001b[0m\u001b[1;33m,\u001b[0m\u001b[0mB\u001b[0m\u001b[1;33m,\u001b[0m\u001b[0mG\u001b[0m\u001b[1;33m,\u001b[0m\u001b[0mx\u001b[0m\u001b[1;33m)\u001b[0m\u001b[1;33m)\u001b[0m\u001b[1;33m\u001b[0m\u001b[1;33m\u001b[0m\u001b[0m\n\u001b[0m",
      "\u001b[1;32m<ipython-input-172-79e118541a74>\u001b[0m in \u001b[0;36mpredict\u001b[1;34m(W, B, G, x)\u001b[0m\n\u001b[0;32m      6\u001b[0m     \u001b[0mindex\u001b[0m \u001b[1;33m=\u001b[0m \u001b[0mnp\u001b[0m\u001b[1;33m.\u001b[0m\u001b[0mwhere\u001b[0m\u001b[1;33m(\u001b[0m\u001b[0mvalues\u001b[0m \u001b[1;33m==\u001b[0m \u001b[0mmaxval\u001b[0m\u001b[1;33m)\u001b[0m\u001b[1;33m\u001b[0m\u001b[1;33m\u001b[0m\u001b[0m\n\u001b[0;32m      7\u001b[0m     \u001b[0mprediction\u001b[0m \u001b[1;33m=\u001b[0m \u001b[0mnp\u001b[0m\u001b[1;33m.\u001b[0m\u001b[0mzeros\u001b[0m\u001b[1;33m(\u001b[0m\u001b[0mlen\u001b[0m\u001b[1;33m(\u001b[0m\u001b[0mvalues\u001b[0m\u001b[1;33m)\u001b[0m\u001b[1;33m)\u001b[0m\u001b[1;33m\u001b[0m\u001b[1;33m\u001b[0m\u001b[0m\n\u001b[1;32m----> 8\u001b[1;33m     \u001b[0mprediction\u001b[0m\u001b[1;33m[\u001b[0m\u001b[0mindex\u001b[0m\u001b[1;33m]\u001b[0m \u001b[1;33m=\u001b[0m \u001b[1;36m1\u001b[0m\u001b[1;33m\u001b[0m\u001b[1;33m\u001b[0m\u001b[0m\n\u001b[0m\u001b[0;32m      9\u001b[0m     \u001b[1;32mreturn\u001b[0m \u001b[0mprediction\u001b[0m\u001b[1;33m\u001b[0m\u001b[1;33m\u001b[0m\u001b[0m\n",
      "\u001b[1;31mIndexError\u001b[0m: too many indices for array"
     ]
    }
   ],
   "source": [
    "'''\n",
    "x = X_test[0,:]\n",
    "print(y_test[0])\n",
    "print(predict(W,B,G,x))\n",
    "'''\n",
    "x = X[0,:]\n",
    "print(Y[0])\n",
    "print(predict(W,B,G,x))"
   ]
  },
  {
   "cell_type": "code",
   "execution_count": null,
   "metadata": {},
   "outputs": [],
   "source": []
  }
 ],
 "metadata": {
  "kernelspec": {
   "display_name": "Python 3",
   "language": "python",
   "name": "python3"
  },
  "language_info": {
   "codemirror_mode": {
    "name": "ipython",
    "version": 3
   },
   "file_extension": ".py",
   "mimetype": "text/x-python",
   "name": "python",
   "nbconvert_exporter": "python",
   "pygments_lexer": "ipython3",
   "version": "3.7.6"
  }
 },
 "nbformat": 4,
 "nbformat_minor": 4
}

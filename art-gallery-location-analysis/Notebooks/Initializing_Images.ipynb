{
 "cells": [
  {
   "cell_type": "code",
   "execution_count": 29,
   "metadata": {},
   "outputs": [],
   "source": [
    "import os"
   ]
  },
  {
   "cell_type": "code",
   "execution_count": 30,
   "metadata": {},
   "outputs": [],
   "source": [
    "# Creates a list of folders contained in the provided (directory)\n",
    "def getdir(directory):\n",
    "    count = 0\n",
    "    parent_directory = []\n",
    "    for path in os.listdir(directory):\n",
    "        # check if current path is a file\n",
    "        if os.path.isdir(os.path.join(directory, path)):\n",
    "            parent_directory.append(path)\n",
    "            count += 1\n",
    "    #print(\"parent_directory = \", parent_directory)\n",
    "    return parent_directory"
   ]
  },
  {
   "cell_type": "code",
   "execution_count": 31,
   "metadata": {},
   "outputs": [],
   "source": [
    "os.getcwd()\n",
    "# rename files in the given directory\n",
    "def imgrename(directory):\n",
    "    for i, filename in enumerate(os.listdir(directory)): # ensures rename can be used\n",
    "        #print(\"filename = \", filename)\n",
    "        os.rename(directory + filename, directory + str(i) + \"abc.jpg\") \n",
    "    for i, filename in enumerate(os.listdir(directory)): # rename with desired file name i.jpg\n",
    "        os.rename(directory + filename, directory + str(i) + \".jpg\")"
   ]
  },
  {
   "cell_type": "code",
   "execution_count": 35,
   "metadata": {},
   "outputs": [],
   "source": [
    "# Here you will input the directories of the 'training' and 'test' folders, each containing folders of images\n",
    "\n",
    "train_dir = r\"C:\\Users\\LaudeJarm\\Downloads\\archive\\Car_Brand_Logos\\Train\" + \"\\\\\" # directory of training set images\n",
    "test_dir = r\"C:\\Users\\LaudeJarm\\Downloads\\archive\\Car_Brand_Logos\\Test\" + \"\\\\\" # directory of test set images\n",
    "parent_dir = [train_dir, test_dir]\n",
    "\n",
    "folders_dir = getdir(train_dir) # list of folder (brand) names (same for both train_dir and test_dir)\n",
    "#print(\"folders_dir = \", folders_dir)\n",
    "\n",
    "for fold in parent_dir: # iterate through both train and test\n",
    "    for subfold in folders_dir: # iterate through each folder (brands)\n",
    "        directory = fold + f\"{subfold}\\\\\"\n",
    "        #print(\"directory = \", directory)\n",
    "        imgrename(directory)"
   ]
  },
  {
   "cell_type": "code",
   "execution_count": null,
   "metadata": {},
   "outputs": [],
   "source": []
  }
 ],
 "metadata": {
  "kernelspec": {
   "display_name": "Python 3",
   "language": "python",
   "name": "python3"
  },
  "language_info": {
   "codemirror_mode": {
    "name": "ipython",
    "version": 3
   },
   "file_extension": ".py",
   "mimetype": "text/x-python",
   "name": "python",
   "nbconvert_exporter": "python",
   "pygments_lexer": "ipython3",
   "version": "3.7.6"
  }
 },
 "nbformat": 4,
 "nbformat_minor": 5
}

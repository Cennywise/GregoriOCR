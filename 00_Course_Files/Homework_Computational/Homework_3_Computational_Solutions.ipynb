{
 "cells": [
  {
   "cell_type": "markdown",
   "id": "034abf95",
   "metadata": {},
   "source": [
    "# <center> Computational Homework 3</center>\n",
    "\n",
    "In this notebook we look at some computational problems in probability theory and optimization. Throughout the notebook, vectors and matrices should always be represented as numpy arrays."
   ]
  },
  {
   "cell_type": "code",
   "execution_count": 2,
   "id": "48add7e7",
   "metadata": {},
   "outputs": [],
   "source": [
    "# run this cell to import needed modules\n",
    "import numpy as np\n",
    "import matplotlib.pyplot as plt\n",
    "from numpy import linalg as LA\n",
    "import plotly\n",
    "import plotly.graph_objects as go\n",
    "import random, time\n",
    "from collections import Counter"
   ]
  },
  {
   "cell_type": "markdown",
   "id": "43e9e5e7",
   "metadata": {},
   "source": [
    "## Problem 1\n",
    "\n",
    "In class we proved that if $J$ is twice differentiable, convex, and has $L$ - Lipshchitz continuous gradient, then for fixed step size $\\alpha\\leq \\frac{1}{L}$ we have $$f(x_k)-f(x^*)\\leq \\frac{||x_0-x^*||_2^2}{2\\alpha k}.$$\n",
    "\n",
    "The goal of this problem is to verify this for linear regression. We will let gradient descent run for longer than one would ever need to in practice, to see how long it takes to reach the desired accuracy in approximating the global minimum. Copy the code from Homework 2 Problem 3 to complete the cell below. Now change the code as follows. First, we only want to print the cost once every 10000 iterations. \n",
    "\n",
    "We learned in class how to solve for the global minimum explicitly using \n",
    "\n",
    "$$v^* = (\\hat{\\mathbf{X}}^\\top\\hat{\\mathbf{X}})^{-1}\\hat{\\mathbf{X}}^\\top y$$\n",
    "\n",
    "Change the stopping condition so that you stop once the cost is within a distance `epsilon` from the cost of the global minimum $v^*$. You can use `LA.inv` to compute the inverse in your computation of $v^*$. \n",
    "\n",
    "Run the two cells below (the 2nd defines a randomized dataset to test on). \n",
    "\n",
    "The markdown cell after provides additional instructions."
   ]
  },
  {
   "cell_type": "code",
   "execution_count": 3,
   "id": "b6aed056",
   "metadata": {},
   "outputs": [],
   "source": [
    "# to complete problem 1, fill in the following with your code\n",
    "def J(X,y,v):\n",
    "    ######################### your code goes here ########################\n",
    "    m = X.shape[0]\n",
    "    ones = np.ones((m,1))\n",
    "    Xhat = np.concatenate((ones,X), axis = 1)\n",
    "    return ((Xhat@v - y).T@(Xhat@v - y))[0,0]/m\n",
    "    \n",
    "def DJ(X,y,v):\n",
    "    ######################### your code goes here ########################\n",
    "    m = len(X)\n",
    "    ones = np.ones((m,1))\n",
    "    Xhat = np.concatenate((ones,X), axis = 1)\n",
    "    return ((2*v.T@Xhat.T@Xhat - 2*y.T@Xhat).T)/m\n",
    "\n",
    "def GD_linreg(X,y,alpha,epsilon,max_iters = 10000): \n",
    "    ######################### your code goes here ########################\n",
    "    m = X.shape[0]\n",
    "    ones = np.ones((m,1))\n",
    "    Xhat = np.concatenate((ones,X), axis = 1)\n",
    "    global_min = LA.inv(Xhat.T@Xhat)@Xhat.T@y\n",
    "    stopping_cost = J(X,y,global_min)\n",
    "    n = Xhat.shape[1]\n",
    "    v = np.array([[0 for _ in range(n)]]).T\n",
    "    i=0\n",
    "    costs = []\n",
    "    while True:\n",
    "        costs.append(J(X,y,v))\n",
    "        if i%10000==0:\n",
    "            print(f'after {i} steps the cost is {costs[i]}')\n",
    "        prev = v\n",
    "        g = DJ(X,y,v)\n",
    "        v = v - alpha*g\n",
    "        if (abs(costs[i]-stopping_cost)<epsilon) or i>max_iters:\n",
    "            break\n",
    "        i+=1\n",
    "    print(f'after {i} steps the cost is {costs[i]}')\n",
    "    return v,costs"
   ]
  },
  {
   "cell_type": "code",
   "execution_count": 9,
   "id": "673b01d6",
   "metadata": {},
   "outputs": [],
   "source": [
    "# Defining a dataset to test the model (no input needed)\n",
    "X = np.random.normal(0, 500, size=(4000,2))\n",
    "y = np.array([[np.random.normal(3,2)*point[0]+np.random.normal(4,2)*point[1]+np.random.normal(5,5)] for point in X])\n",
    "Xhat = np.concatenate((np.ones((len(X),1)),X), axis = 1)"
   ]
  },
  {
   "cell_type": "markdown",
   "id": "2780894e",
   "metadata": {},
   "source": [
    "## Problem 1 Continued...\n",
    "\n",
    "In theoretical homework 2 you found the $L$ for which $\\nabla J$ is $L$-Lipschitz continuous. Compute this value of $L$ and save it to the variable `L`. You may use `LA.norm(MATRIX,2)` to compute the 2-norm which comes up in the formula. Compute the global minimum parameters $v^*$ and save it to a variable `global_min`, and the global minimum value $J(\\mathbf{X},\\mathbf{y},\\mathbf{v}^*)$ of the cost function and set it to a variable `gmcost`. Set `alpha` to be equal to $\\frac{1}{L}$. Set the value of `epsilon` to be the global minimum cost times `1e-7`. "
   ]
  },
  {
   "cell_type": "code",
   "execution_count": 10,
   "id": "20cf4f1a",
   "metadata": {
    "scrolled": true
   },
   "outputs": [
    {
     "name": "stdout",
     "output_type": "stream",
     "text": [
      "the gradient of J is L-Lipschitz continuous for L = 507647.79951808735\n",
      "the global minimum cost is 2022631.1413479152\n",
      "the value of the step size alpha is 1.9698696634739778e-06\n",
      "the value of epsilon is 0.2022631141347915\n"
     ]
    }
   ],
   "source": [
    "# compute L here (input needed)\n",
    "L = LA.norm(Xhat.T@Xhat,2)*2/len(Xhat)\n",
    "print(f'the gradient of J is L-Lipschitz continuous for L = {L}')\n",
    "\n",
    "# compute the global minimum cost here (input needed)\n",
    "global_min = LA.inv(Xhat.T@Xhat)@Xhat.T@y\n",
    "gmcost = J(X,y,global_min)\n",
    "print(f'the global minimum cost is {gmcost}')\n",
    "\n",
    "# Tuning parameters (input needed for alpha, epsilon)\n",
    "alpha = 1/L\n",
    "print(f'the value of the step size alpha is {alpha}')\n",
    "epsilon = gmcost*1e-7\n",
    "print(f'the value of epsilon is {epsilon}')\n",
    "max_iters = 2000000"
   ]
  },
  {
   "cell_type": "markdown",
   "id": "eb23da5a",
   "metadata": {},
   "source": [
    "## Problem 1 Continued...\n",
    "\n",
    "Then run the following cell to run gradient descent until desired convergence (it will take awhile... maybe three or four minutes). If this does not converge after 2 million iterations, you can the stopping condition parameter set previously from `1e-7` to `1e-6`. Run gradient descent and note the number of steps taken until stopping. "
   ]
  },
  {
   "cell_type": "code",
   "execution_count": 11,
   "id": "fa5d583e",
   "metadata": {
    "scrolled": true
   },
   "outputs": [
    {
     "name": "stdout",
     "output_type": "stream",
     "text": [
      "after 0 steps the cost is 8413331.363763578\n",
      "after 10000 steps the cost is 2023246.0967007817\n",
      "after 20000 steps the cost is 2023199.507022077\n",
      "after 30000 steps the cost is 2023156.447027515\n"
     ]
    },
    {
     "ename": "KeyboardInterrupt",
     "evalue": "",
     "output_type": "error",
     "traceback": [
      "\u001b[0;31m---------------------------------------------------------------------------\u001b[0m",
      "\u001b[0;31mKeyboardInterrupt\u001b[0m                         Traceback (most recent call last)",
      "Input \u001b[0;32mIn [11]\u001b[0m, in \u001b[0;36m<module>\u001b[0;34m\u001b[0m\n\u001b[1;32m      1\u001b[0m \u001b[38;5;66;03m# Run the gradient descent algorithm (no input needed)\u001b[39;00m\n\u001b[0;32m----> 2\u001b[0m v,costs \u001b[38;5;241m=\u001b[39m \u001b[43mGD_linreg\u001b[49m\u001b[43m(\u001b[49m\u001b[43mX\u001b[49m\u001b[43m,\u001b[49m\u001b[43my\u001b[49m\u001b[43m,\u001b[49m\u001b[43malpha\u001b[49m\u001b[43m,\u001b[49m\u001b[43mepsilon\u001b[49m\u001b[43m,\u001b[49m\u001b[43mmax_iters\u001b[49m\u001b[43m)\u001b[49m\n\u001b[1;32m      3\u001b[0m \u001b[38;5;28mprint\u001b[39m(\u001b[38;5;124m'\u001b[39m\u001b[38;5;124mUsing gradient descent, we have found the approximate global minimum:\u001b[39m\u001b[38;5;124m'\u001b[39m)\n\u001b[1;32m      4\u001b[0m \u001b[38;5;28mprint\u001b[39m(v)\n",
      "Input \u001b[0;32mIn [8]\u001b[0m, in \u001b[0;36mGD_linreg\u001b[0;34m(X, y, alpha, epsilon, max_iters)\u001b[0m\n\u001b[1;32m     30\u001b[0m     \u001b[38;5;28mprint\u001b[39m(\u001b[38;5;124mf\u001b[39m\u001b[38;5;124m'\u001b[39m\u001b[38;5;124mafter \u001b[39m\u001b[38;5;132;01m{\u001b[39;00mi\u001b[38;5;132;01m}\u001b[39;00m\u001b[38;5;124m steps the cost is \u001b[39m\u001b[38;5;132;01m{\u001b[39;00mcosts[i]\u001b[38;5;132;01m}\u001b[39;00m\u001b[38;5;124m'\u001b[39m)\n\u001b[1;32m     31\u001b[0m prev \u001b[38;5;241m=\u001b[39m v\n\u001b[0;32m---> 32\u001b[0m g \u001b[38;5;241m=\u001b[39m \u001b[43mDJ\u001b[49m\u001b[43m(\u001b[49m\u001b[43mX\u001b[49m\u001b[43m,\u001b[49m\u001b[43my\u001b[49m\u001b[43m,\u001b[49m\u001b[43mv\u001b[49m\u001b[43m)\u001b[49m\n\u001b[1;32m     33\u001b[0m v \u001b[38;5;241m=\u001b[39m v \u001b[38;5;241m-\u001b[39m alpha\u001b[38;5;241m*\u001b[39mg\n\u001b[1;32m     34\u001b[0m \u001b[38;5;28;01mif\u001b[39;00m (\u001b[38;5;28mabs\u001b[39m(costs[i]\u001b[38;5;241m-\u001b[39mstopping_cost)\u001b[38;5;241m<\u001b[39mepsilon) \u001b[38;5;129;01mor\u001b[39;00m i\u001b[38;5;241m>\u001b[39mmax_iters:\n",
      "Input \u001b[0;32mIn [8]\u001b[0m, in \u001b[0;36mDJ\u001b[0;34m(X, y, v)\u001b[0m\n\u001b[1;32m     12\u001b[0m ones \u001b[38;5;241m=\u001b[39m np\u001b[38;5;241m.\u001b[39mones((m,\u001b[38;5;241m1\u001b[39m))\n\u001b[1;32m     13\u001b[0m Xhat \u001b[38;5;241m=\u001b[39m np\u001b[38;5;241m.\u001b[39mconcatenate((ones,X), axis \u001b[38;5;241m=\u001b[39m \u001b[38;5;241m1\u001b[39m)\n\u001b[0;32m---> 14\u001b[0m \u001b[38;5;28;01mreturn\u001b[39;00m ((\u001b[38;5;241;43m2\u001b[39;49m\u001b[38;5;241;43m*\u001b[39;49m\u001b[43mv\u001b[49m\u001b[38;5;241;43m.\u001b[39;49m\u001b[43mT\u001b[49m\u001b[38;5;129;43m@Xhat\u001b[39;49m\u001b[38;5;241;43m.\u001b[39;49m\u001b[43mT\u001b[49m\u001b[38;5;129m@Xhat\u001b[39m \u001b[38;5;241m-\u001b[39m \u001b[38;5;241m2\u001b[39m\u001b[38;5;241m*\u001b[39my\u001b[38;5;241m.\u001b[39mT\u001b[38;5;129m@Xhat\u001b[39m)\u001b[38;5;241m.\u001b[39mT)\u001b[38;5;241m/\u001b[39mm\n",
      "\u001b[0;31mKeyboardInterrupt\u001b[0m: "
     ]
    }
   ],
   "source": [
    "# Run the gradient descent algorithm (no input needed)\n",
    "v,costs = GD_linreg(X,y,alpha,epsilon,max_iters)\n",
    "print('Using gradient descent, we have found the approximate global minimum:')\n",
    "print(v)\n",
    "# print the actual global minimum parameters\n",
    "global_min = LA.inv(Xhat.T@Xhat)@Xhat.T@y\n",
    "print('Solving analytically, we know the actual global minimum is at:')\n",
    "print(global_min)"
   ]
  },
  {
   "cell_type": "markdown",
   "id": "c86b7bb6",
   "metadata": {},
   "source": [
    "## Problem 1 Continued...\n",
    "\n",
    "In this problem we are stopping gradient descent when $f(x_k)-f(x^*)<\\epsilon$. Using the fact that $$f(x_k)-f(x^*)\\leq \\frac{||x_0-x^*||_2^2}{2\\alpha k}$$ compute the number of steps `k` needed until we are guaranteed to stop. Compute this in the code cell below and then explain in the markdown cell below whether this makes sense in the context of the previous step of this problem."
   ]
  },
  {
   "cell_type": "code",
   "execution_count": null,
   "id": "46acf806",
   "metadata": {},
   "outputs": [],
   "source": [
    "# Compute the quantity k here\n",
    "k = LA.norm(LA.inv(Xhat.T@Xhat)@Xhat.T@y)**2/(2*alpha*epsilon)\n",
    "print(f'The maximum number of steps needed for convergence is {int(np.ceil(k))}')"
   ]
  },
  {
   "cell_type": "markdown",
   "id": "ead6c083",
   "metadata": {},
   "source": [
    "## Explain the result here\n",
    "\n",
    "Replace this text with your explanation..."
   ]
  },
  {
   "cell_type": "markdown",
   "id": "5a6ed6e0",
   "metadata": {},
   "source": [
    "# Problem 2\n",
    "\n",
    "The goal of this problem is to implement regularized linear regression with polynomial terms up to degree `k`. Start by defining a function `generate_monomials_eq(n,k)` with inputs positive integers `n`,`k`, which outputs a list of all lists of length `n` whose entries are nonnegative integers that sum to `k`. Return this list sorted lexicographically bigger to smaller (the `sorted()` function can handle this with the argument `reverse = True`). I suggest doing this recursively (i.e. inside of the function `generate_monomials_eq(n,k)` call the function `generate_monomials_eq(n,k-1)` and then for each monomial in this list, add one to each component, giving you `n` new monomials of degree `k`. Add each of these to the list of monomials of degree `k` (unless it is already in the list). You'll need to program the base case where $k=0$ by hand.\n",
    "\n",
    "Also define a function `generate_monomials_leq(n,k)` which gives the list of all lists of length `n` whose entries add up to a number between `0` and `k`. You should create this list by putting together results from `generate_monomials_eq(n,i)` for $0\\leq i\\leq k$.\n",
    "\n",
    "Note: if you have a better way to implement both in a single function `generate_monomials_leq` you can do that as well, as long as the result is correct.\n",
    "\n",
    "Running the following cell will test that you are getting the correct number of polynomial terms in some special cases."
   ]
  },
  {
   "cell_type": "code",
   "execution_count": 4,
   "id": "90d3f714",
   "metadata": {},
   "outputs": [
    {
     "name": "stdout",
     "output_type": "stream",
     "text": [
      "15\n",
      "84\n",
      "330\n"
     ]
    },
    {
     "ename": "KeyboardInterrupt",
     "evalue": "",
     "output_type": "error",
     "traceback": [
      "\u001b[0;31m---------------------------------------------------------------------------\u001b[0m",
      "\u001b[0;31mKeyboardInterrupt\u001b[0m                         Traceback (most recent call last)",
      "Input \u001b[0;32mIn [4]\u001b[0m, in \u001b[0;36m<module>\u001b[0;34m\u001b[0m\n\u001b[1;32m     26\u001b[0m \u001b[38;5;28mprint\u001b[39m(\u001b[38;5;28mlen\u001b[39m(generate_monomials_leq(\u001b[38;5;241m3\u001b[39m,\u001b[38;5;241m6\u001b[39m))) \u001b[38;5;66;03m#should be 84\u001b[39;00m\n\u001b[1;32m     27\u001b[0m \u001b[38;5;28mprint\u001b[39m(\u001b[38;5;28mlen\u001b[39m(generate_monomials_leq(\u001b[38;5;241m7\u001b[39m,\u001b[38;5;241m4\u001b[39m))) \u001b[38;5;66;03m#should be 330\u001b[39;00m\n\u001b[0;32m---> 28\u001b[0m \u001b[38;5;28mprint\u001b[39m(\u001b[38;5;28mlen\u001b[39m(\u001b[43mgenerate_monomials_leq\u001b[49m\u001b[43m(\u001b[49m\u001b[38;5;241;43m9\u001b[39;49m\u001b[43m,\u001b[49m\u001b[38;5;241;43m9\u001b[39;49m\u001b[43m)\u001b[49m))\n",
      "Input \u001b[0;32mIn [4]\u001b[0m, in \u001b[0;36mgenerate_monomials_leq\u001b[0;34m(n, k)\u001b[0m\n\u001b[1;32m     20\u001b[0m mons \u001b[38;5;241m=\u001b[39m []\n\u001b[1;32m     21\u001b[0m \u001b[38;5;28;01mfor\u001b[39;00m i \u001b[38;5;129;01min\u001b[39;00m \u001b[38;5;28mrange\u001b[39m(k\u001b[38;5;241m+\u001b[39m\u001b[38;5;241m1\u001b[39m):\n\u001b[0;32m---> 22\u001b[0m     mons\u001b[38;5;241m.\u001b[39mextend(\u001b[43mgenerate_monomials_eq\u001b[49m\u001b[43m(\u001b[49m\u001b[43mn\u001b[49m\u001b[43m,\u001b[49m\u001b[43mi\u001b[49m\u001b[43m)\u001b[49m)\n\u001b[1;32m     23\u001b[0m \u001b[38;5;28;01mreturn\u001b[39;00m mons\n",
      "Input \u001b[0;32mIn [4]\u001b[0m, in \u001b[0;36mgenerate_monomials_eq\u001b[0;34m(n, k)\u001b[0m\n\u001b[1;32m      6\u001b[0m     \u001b[38;5;28;01mreturn\u001b[39;00m [[\u001b[38;5;241m0\u001b[39m \u001b[38;5;28;01mfor\u001b[39;00m _ \u001b[38;5;129;01min\u001b[39;00m \u001b[38;5;28mrange\u001b[39m(n)]]\n\u001b[1;32m      7\u001b[0m \u001b[38;5;28;01melse\u001b[39;00m:\n\u001b[0;32m----> 8\u001b[0m     oldmons \u001b[38;5;241m=\u001b[39m \u001b[43mgenerate_monomials_eq\u001b[49m\u001b[43m(\u001b[49m\u001b[43mn\u001b[49m\u001b[43m,\u001b[49m\u001b[43mk\u001b[49m\u001b[38;5;241;43m-\u001b[39;49m\u001b[38;5;241;43m1\u001b[39;49m\u001b[43m)\u001b[49m\n\u001b[1;32m      9\u001b[0m     newmons \u001b[38;5;241m=\u001b[39m []\n\u001b[1;32m     10\u001b[0m     \u001b[38;5;28;01mfor\u001b[39;00m mon \u001b[38;5;129;01min\u001b[39;00m oldmons:\n",
      "Input \u001b[0;32mIn [4]\u001b[0m, in \u001b[0;36mgenerate_monomials_eq\u001b[0;34m(n, k)\u001b[0m\n\u001b[1;32m      9\u001b[0m newmons \u001b[38;5;241m=\u001b[39m []\n\u001b[1;32m     10\u001b[0m \u001b[38;5;28;01mfor\u001b[39;00m mon \u001b[38;5;129;01min\u001b[39;00m oldmons:\n\u001b[0;32m---> 11\u001b[0m     \u001b[38;5;28;01mfor\u001b[39;00m i \u001b[38;5;129;01min\u001b[39;00m \u001b[38;5;28mrange\u001b[39m(n):\n\u001b[1;32m     12\u001b[0m         newmon \u001b[38;5;241m=\u001b[39m mon\u001b[38;5;241m.\u001b[39mcopy()\n\u001b[1;32m     13\u001b[0m         newmon[i]\u001b[38;5;241m+\u001b[39m\u001b[38;5;241m=\u001b[39m\u001b[38;5;241m1\u001b[39m\n",
      "\u001b[0;31mKeyboardInterrupt\u001b[0m: "
     ]
    }
   ],
   "source": [
    "# to complete problem 2, fill in the following with your code\n",
    "def generate_monomials_eq(n,k):\n",
    "    ######################### your code goes here ########################\n",
    "    if k==0:\n",
    "        return [[0 for _ in range(n)]]\n",
    "    else:\n",
    "        oldmons = generate_monomials_eq(n,k-1)\n",
    "        newmons = []\n",
    "        for mon in oldmons:\n",
    "            for i in range(n):\n",
    "                newmon = mon.copy()\n",
    "                newmon[i]+=1\n",
    "                if not (newmon in newmons):\n",
    "                    newmons.append(newmon)\n",
    "        return sorted(newmons, reverse = True)\n",
    "    \n",
    "def generate_monomials_leq(n,k):\n",
    "    ######################### your code goes here ########################\n",
    "    mons = []\n",
    "    for i in range(k+1):\n",
    "        mons.extend(generate_monomials_eq(n,i))\n",
    "    return mons\n",
    "    \n",
    "#print(len(generate_monomials_leq(2,4))) #should be 15\n",
    "#print(len(generate_monomials_leq(3,6))) #should be 84\n",
    "#print(len(generate_monomials_leq(7,4))) #should be 330\n",
    "#print(len(generate_monomials_leq(9,9))) #should be 48620 (should take about 25 seconds to compute)"
   ]
  },
  {
   "cell_type": "markdown",
   "id": "b322e128",
   "metadata": {},
   "source": [
    "## Problem 2 Continued...\n",
    "\n",
    "Define a function `add_poly_terms(X,k)` which adds columns to the dataset `X` corresponding to all polynomial terms up to total degree `k` (e.g. if `n==2` and `X` has two columns, you would have columns corresponding to $1,x_1,x_2,x_1^2, x_1x_2, x_2^2$). Hint: you can make a for loop over all of the monomials in `mons = generate_monomials_leq(n,k)` (i.e. `for mon in mons:`) and a for loop over the number of examples. You want to create matrix entries of the form `X[i,1]**mon[1] * X[i,2]**mon[2] * ... * X[i,n]**mon[n]` which can be accomplished with another loop.\n",
    "\n",
    "Note: You do not need to concatenate columns to `X`. Instead, create a new array with a row for each polynomial term in `generate_monomials_leq(n,k)`. Since your `generate_monomials_leq` has terms corresponding to $1,x_1,x_2,\\dots,x_n$, this will contain the old dataset, plus a bias term, plus all of the other higher order polynomial terms. Since you added these as rows (this is more natural in numpy) at the end you should return the transpose of the numpy array you created."
   ]
  },
  {
   "cell_type": "code",
   "execution_count": 9,
   "id": "b90f28fa",
   "metadata": {},
   "outputs": [],
   "source": [
    "def add_poly_terms(X,k):\n",
    "    m,n = X.shape\n",
    "    mons = generate_monomials_leq(n,k)\n",
    "    #print(mons)\n",
    "    rows = []\n",
    "    for mon in mons:\n",
    "        row = []\n",
    "        for i in range(m):\n",
    "            entry = 1\n",
    "            for j in range(n):\n",
    "                entry*=X[i,j]**mon[j]\n",
    "            row.append(entry)\n",
    "        rows.append(row)\n",
    "    return np.array(rows).T"
   ]
  },
  {
   "cell_type": "code",
   "execution_count": 5,
   "id": "a09865fb",
   "metadata": {},
   "outputs": [
    {
     "ename": "NameError",
     "evalue": "name 'add_poly_terms' is not defined",
     "output_type": "error",
     "traceback": [
      "\u001b[0;31m---------------------------------------------------------------------------\u001b[0m",
      "\u001b[0;31mNameError\u001b[0m                                 Traceback (most recent call last)",
      "Input \u001b[0;32mIn [5]\u001b[0m, in \u001b[0;36m<module>\u001b[0;34m\u001b[0m\n\u001b[1;32m      1\u001b[0m X \u001b[38;5;241m=\u001b[39m np\u001b[38;5;241m.\u001b[39marray([[\u001b[38;5;241m2\u001b[39m,\u001b[38;5;241m2\u001b[39m],[\u001b[38;5;241m0\u001b[39m,\u001b[38;5;241m1\u001b[39m],[\u001b[38;5;241m1\u001b[39m,\u001b[38;5;241m1\u001b[39m],[\u001b[38;5;241m2\u001b[39m,\u001b[38;5;241m4\u001b[39m]])\n\u001b[0;32m----> 2\u001b[0m Xhat \u001b[38;5;241m=\u001b[39m \u001b[43madd_poly_terms\u001b[49m(X,\u001b[38;5;241m2\u001b[39m)\n\u001b[1;32m      3\u001b[0m \u001b[38;5;28mprint\u001b[39m(\u001b[38;5;124m'\u001b[39m\u001b[38;5;124mthe original matrix X:\u001b[39m\u001b[38;5;124m'\u001b[39m)\n\u001b[1;32m      4\u001b[0m \u001b[38;5;28mprint\u001b[39m(X)\n",
      "\u001b[0;31mNameError\u001b[0m: name 'add_poly_terms' is not defined"
     ]
    }
   ],
   "source": [
    "X = np.array([[2,2],[0,1],[1,1],[2,4]])\n",
    "Xhat = add_poly_terms(X,2)\n",
    "print('the original matrix X:')\n",
    "print(X)\n",
    "print('the matrix X with polynomial terms up to degree 2')\n",
    "print(Xhat)"
   ]
  },
  {
   "cell_type": "markdown",
   "id": "ef745365",
   "metadata": {},
   "source": [
    "## Problem 2 Continued...\n",
    "\n",
    "Copy your code from Computational Homework 2 Problem 3 (just `J` and `DJ`) and Homework 2 Problem 4 (use the improved gradient descent using the Hessian) into the cell below. Make the following changes: \n",
    "\n",
    " - get rid of portion of code that concatenates a column of 1's on the left (our `add_poly_terms` function includes the bias term automatically)\n",
    " - add an argument `lambda_` to `J` (at the end), `DJ` (at the end) and `GD_linreg_improved` (before `max_iters`)\n",
    " - add a regularization term\n",
    " - modify the `DJ` function accordingly to account for the regularization term\n",
    " - modify the Hessian to account for the regularization term\n",
    " - print the cost every 1000 steps"
   ]
  },
  {
   "cell_type": "code",
   "execution_count": 6,
   "id": "dd10b096",
   "metadata": {},
   "outputs": [],
   "source": [
    "def J(X,y,v,lambda_):\n",
    "    ######################### your code goes here ########################\n",
    "    m = X.shape[0]\n",
    "    return ((X@v - y).T@(X@v - y))[0,0]/m + lambda_*(v.T@v)[0,0]\n",
    "    \n",
    "def DJ(X,y,v,lambda_):\n",
    "    ######################### your code goes here ########################\n",
    "    m = len(X)\n",
    "    return 2/m*(X.T@X@v - X.T@y) + lambda_ * 2 * v\n",
    "\n",
    "def GD_linreg_improved(X,y,epsilon,lambda_,max_iters = 1000000): \n",
    "    ######################### your code goes here ########################\n",
    "    m,n = X.shape\n",
    "    v = np.array([[0 for _ in range(n)]]).T\n",
    "    i=0\n",
    "    costs = []\n",
    "    while True:\n",
    "        costs.append(J(X,y,v,lambda_))\n",
    "        if i%1000==0:\n",
    "            print(f'after {i} steps the cost is {costs[i]}')\n",
    "        H = (2*X.T@X+2*lambda_*np.identity(n))/m\n",
    "        g = DJ(X,y,v,lambda_)\n",
    "        alpha = g.T@g/(g.T@H@g)\n",
    "        v = v - alpha*g\n",
    "        if (i>100 and abs(costs[i]-costs[i-100])<epsilon) or i>max_iters:\n",
    "            break\n",
    "        i+=1\n",
    "    print(f'after {i} steps the cost is {costs[i]}')\n",
    "    return v,costs"
   ]
  },
  {
   "cell_type": "code",
   "execution_count": 10,
   "id": "7e07a9d3",
   "metadata": {},
   "outputs": [
    {
     "data": {
      "application/vnd.plotly.v1+json": {
       "config": {
        "linkText": "Export to plot.ly",
        "plotlyServerURL": "https://plot.ly",
        "showLink": false
       },
       "data": [
        {
         "marker": {
          "size": 5
         },
         "mode": "markers",
         "type": "scatter3d",
         "x": [
          -3.24475518633898,
          -2.1555366343708244,
          -3.2782565706935536,
          -3.236065815952124,
          -3.097351568466069,
          -2.803497433234927,
          -1.3693105320843608,
          -1.267652932363257,
          -2.967806451442169,
          -1.3452073314601527,
          -2.799915040642268,
          -0.7578082584303716,
          -1.2052774652429517,
          -0.2877639755791378,
          -0.18830947394659592,
          -1.2890086132383831,
          -0.055228751424083566,
          -1.4138407590110311,
          1.0251144397559275,
          -0.4469759217605434,
          -0.43200889623332744,
          -0.31188434633464407,
          0.03214141860423635,
          0.0024214813950893532,
          0.8984560686609342,
          1.3579216718991138,
          1.695217140438565,
          0.8406923326883682,
          0.7737128357218674,
          1.379286198977482,
          2.3362620302159702,
          2.9699547076023967,
          1.468491282213019,
          1.5721468911270646,
          1.3438374576843852,
          2.6420104507555147
         ],
         "y": [
          -2.9409970758934527,
          -2.3468302268455163,
          -1.3091434265626931,
          -1.3262207026455377,
          0.18730538923697992,
          1.4720414540053763,
          -1.7456039978336213,
          -0.70823888388366,
          -0.16098189233664972,
          0.25436202411923703,
          1.1486380987580427,
          2.4229045420906163,
          -2.663624495201012,
          -1.8331457042346546,
          -0.9883157127228174,
          -0.4583434045962948,
          1.063275153713635,
          2.088529994299337,
          -2.939956270963015,
          -1.2845194892997012,
          -1.2387757570167595,
          -0.1537754366075051,
          0.955093587136396,
          1.274907646730333,
          -3.6503320581970007,
          -1.984029514571358,
          -1.091086850431035,
          0.307628514593688,
          0.9367356550833583,
          2.764545754701354,
          -2.733576432823027,
          -1.3231924465511928,
          -1.0171206920341327,
          -0.2842377933949847,
          1.1647185808057476,
          2.4182012080357693
         ],
         "z": [
          77.80395611544132,
          37.70789916005106,
          54.92351088110832,
          52.920847548621545,
          50.360432021740856,
          36.607745855632636,
          11.712236820703037,
          7.332862908991154,
          43.91796061021646,
          9.652261863259803,
          36.25592450034455,
          -13.6214371245785,
          24.870027215040487,
          8.748462180230458,
          -1.0393842317037918,
          8.46548912428553,
          -0.7995339861436535,
          -1.545800971023842,
          33.78808632760764,
          3.4090634763544805,
          0.13136140118299844,
          -1.5055253265213384,
          -1.4647525725578157,
          -4.561204613771762,
          51.80207547070239,
          19.50399424873958,
          17.962650985092086,
          2.6446113823134274,
          5.514471884386604,
          -10.774467975953323,
          48.258137103539106,
          47.64700781061643,
          14.254878349196385,
          13.692403338276193,
          6.414706695938465,
          21.99805420854201
         ]
        }
       ],
       "layout": {
        "template": {
         "data": {
          "bar": [
           {
            "error_x": {
             "color": "#2a3f5f"
            },
            "error_y": {
             "color": "#2a3f5f"
            },
            "marker": {
             "line": {
              "color": "#E5ECF6",
              "width": 0.5
             },
             "pattern": {
              "fillmode": "overlay",
              "size": 10,
              "solidity": 0.2
             }
            },
            "type": "bar"
           }
          ],
          "barpolar": [
           {
            "marker": {
             "line": {
              "color": "#E5ECF6",
              "width": 0.5
             },
             "pattern": {
              "fillmode": "overlay",
              "size": 10,
              "solidity": 0.2
             }
            },
            "type": "barpolar"
           }
          ],
          "carpet": [
           {
            "aaxis": {
             "endlinecolor": "#2a3f5f",
             "gridcolor": "white",
             "linecolor": "white",
             "minorgridcolor": "white",
             "startlinecolor": "#2a3f5f"
            },
            "baxis": {
             "endlinecolor": "#2a3f5f",
             "gridcolor": "white",
             "linecolor": "white",
             "minorgridcolor": "white",
             "startlinecolor": "#2a3f5f"
            },
            "type": "carpet"
           }
          ],
          "choropleth": [
           {
            "colorbar": {
             "outlinewidth": 0,
             "ticks": ""
            },
            "type": "choropleth"
           }
          ],
          "contour": [
           {
            "colorbar": {
             "outlinewidth": 0,
             "ticks": ""
            },
            "colorscale": [
             [
              0,
              "#0d0887"
             ],
             [
              0.1111111111111111,
              "#46039f"
             ],
             [
              0.2222222222222222,
              "#7201a8"
             ],
             [
              0.3333333333333333,
              "#9c179e"
             ],
             [
              0.4444444444444444,
              "#bd3786"
             ],
             [
              0.5555555555555556,
              "#d8576b"
             ],
             [
              0.6666666666666666,
              "#ed7953"
             ],
             [
              0.7777777777777778,
              "#fb9f3a"
             ],
             [
              0.8888888888888888,
              "#fdca26"
             ],
             [
              1,
              "#f0f921"
             ]
            ],
            "type": "contour"
           }
          ],
          "contourcarpet": [
           {
            "colorbar": {
             "outlinewidth": 0,
             "ticks": ""
            },
            "type": "contourcarpet"
           }
          ],
          "heatmap": [
           {
            "colorbar": {
             "outlinewidth": 0,
             "ticks": ""
            },
            "colorscale": [
             [
              0,
              "#0d0887"
             ],
             [
              0.1111111111111111,
              "#46039f"
             ],
             [
              0.2222222222222222,
              "#7201a8"
             ],
             [
              0.3333333333333333,
              "#9c179e"
             ],
             [
              0.4444444444444444,
              "#bd3786"
             ],
             [
              0.5555555555555556,
              "#d8576b"
             ],
             [
              0.6666666666666666,
              "#ed7953"
             ],
             [
              0.7777777777777778,
              "#fb9f3a"
             ],
             [
              0.8888888888888888,
              "#fdca26"
             ],
             [
              1,
              "#f0f921"
             ]
            ],
            "type": "heatmap"
           }
          ],
          "heatmapgl": [
           {
            "colorbar": {
             "outlinewidth": 0,
             "ticks": ""
            },
            "colorscale": [
             [
              0,
              "#0d0887"
             ],
             [
              0.1111111111111111,
              "#46039f"
             ],
             [
              0.2222222222222222,
              "#7201a8"
             ],
             [
              0.3333333333333333,
              "#9c179e"
             ],
             [
              0.4444444444444444,
              "#bd3786"
             ],
             [
              0.5555555555555556,
              "#d8576b"
             ],
             [
              0.6666666666666666,
              "#ed7953"
             ],
             [
              0.7777777777777778,
              "#fb9f3a"
             ],
             [
              0.8888888888888888,
              "#fdca26"
             ],
             [
              1,
              "#f0f921"
             ]
            ],
            "type": "heatmapgl"
           }
          ],
          "histogram": [
           {
            "marker": {
             "pattern": {
              "fillmode": "overlay",
              "size": 10,
              "solidity": 0.2
             }
            },
            "type": "histogram"
           }
          ],
          "histogram2d": [
           {
            "colorbar": {
             "outlinewidth": 0,
             "ticks": ""
            },
            "colorscale": [
             [
              0,
              "#0d0887"
             ],
             [
              0.1111111111111111,
              "#46039f"
             ],
             [
              0.2222222222222222,
              "#7201a8"
             ],
             [
              0.3333333333333333,
              "#9c179e"
             ],
             [
              0.4444444444444444,
              "#bd3786"
             ],
             [
              0.5555555555555556,
              "#d8576b"
             ],
             [
              0.6666666666666666,
              "#ed7953"
             ],
             [
              0.7777777777777778,
              "#fb9f3a"
             ],
             [
              0.8888888888888888,
              "#fdca26"
             ],
             [
              1,
              "#f0f921"
             ]
            ],
            "type": "histogram2d"
           }
          ],
          "histogram2dcontour": [
           {
            "colorbar": {
             "outlinewidth": 0,
             "ticks": ""
            },
            "colorscale": [
             [
              0,
              "#0d0887"
             ],
             [
              0.1111111111111111,
              "#46039f"
             ],
             [
              0.2222222222222222,
              "#7201a8"
             ],
             [
              0.3333333333333333,
              "#9c179e"
             ],
             [
              0.4444444444444444,
              "#bd3786"
             ],
             [
              0.5555555555555556,
              "#d8576b"
             ],
             [
              0.6666666666666666,
              "#ed7953"
             ],
             [
              0.7777777777777778,
              "#fb9f3a"
             ],
             [
              0.8888888888888888,
              "#fdca26"
             ],
             [
              1,
              "#f0f921"
             ]
            ],
            "type": "histogram2dcontour"
           }
          ],
          "mesh3d": [
           {
            "colorbar": {
             "outlinewidth": 0,
             "ticks": ""
            },
            "type": "mesh3d"
           }
          ],
          "parcoords": [
           {
            "line": {
             "colorbar": {
              "outlinewidth": 0,
              "ticks": ""
             }
            },
            "type": "parcoords"
           }
          ],
          "pie": [
           {
            "automargin": true,
            "type": "pie"
           }
          ],
          "scatter": [
           {
            "marker": {
             "colorbar": {
              "outlinewidth": 0,
              "ticks": ""
             }
            },
            "type": "scatter"
           }
          ],
          "scatter3d": [
           {
            "line": {
             "colorbar": {
              "outlinewidth": 0,
              "ticks": ""
             }
            },
            "marker": {
             "colorbar": {
              "outlinewidth": 0,
              "ticks": ""
             }
            },
            "type": "scatter3d"
           }
          ],
          "scattercarpet": [
           {
            "marker": {
             "colorbar": {
              "outlinewidth": 0,
              "ticks": ""
             }
            },
            "type": "scattercarpet"
           }
          ],
          "scattergeo": [
           {
            "marker": {
             "colorbar": {
              "outlinewidth": 0,
              "ticks": ""
             }
            },
            "type": "scattergeo"
           }
          ],
          "scattergl": [
           {
            "marker": {
             "colorbar": {
              "outlinewidth": 0,
              "ticks": ""
             }
            },
            "type": "scattergl"
           }
          ],
          "scattermapbox": [
           {
            "marker": {
             "colorbar": {
              "outlinewidth": 0,
              "ticks": ""
             }
            },
            "type": "scattermapbox"
           }
          ],
          "scatterpolar": [
           {
            "marker": {
             "colorbar": {
              "outlinewidth": 0,
              "ticks": ""
             }
            },
            "type": "scatterpolar"
           }
          ],
          "scatterpolargl": [
           {
            "marker": {
             "colorbar": {
              "outlinewidth": 0,
              "ticks": ""
             }
            },
            "type": "scatterpolargl"
           }
          ],
          "scatterternary": [
           {
            "marker": {
             "colorbar": {
              "outlinewidth": 0,
              "ticks": ""
             }
            },
            "type": "scatterternary"
           }
          ],
          "surface": [
           {
            "colorbar": {
             "outlinewidth": 0,
             "ticks": ""
            },
            "colorscale": [
             [
              0,
              "#0d0887"
             ],
             [
              0.1111111111111111,
              "#46039f"
             ],
             [
              0.2222222222222222,
              "#7201a8"
             ],
             [
              0.3333333333333333,
              "#9c179e"
             ],
             [
              0.4444444444444444,
              "#bd3786"
             ],
             [
              0.5555555555555556,
              "#d8576b"
             ],
             [
              0.6666666666666666,
              "#ed7953"
             ],
             [
              0.7777777777777778,
              "#fb9f3a"
             ],
             [
              0.8888888888888888,
              "#fdca26"
             ],
             [
              1,
              "#f0f921"
             ]
            ],
            "type": "surface"
           }
          ],
          "table": [
           {
            "cells": {
             "fill": {
              "color": "#EBF0F8"
             },
             "line": {
              "color": "white"
             }
            },
            "header": {
             "fill": {
              "color": "#C8D4E3"
             },
             "line": {
              "color": "white"
             }
            },
            "type": "table"
           }
          ]
         },
         "layout": {
          "annotationdefaults": {
           "arrowcolor": "#2a3f5f",
           "arrowhead": 0,
           "arrowwidth": 1
          },
          "autotypenumbers": "strict",
          "coloraxis": {
           "colorbar": {
            "outlinewidth": 0,
            "ticks": ""
           }
          },
          "colorscale": {
           "diverging": [
            [
             0,
             "#8e0152"
            ],
            [
             0.1,
             "#c51b7d"
            ],
            [
             0.2,
             "#de77ae"
            ],
            [
             0.3,
             "#f1b6da"
            ],
            [
             0.4,
             "#fde0ef"
            ],
            [
             0.5,
             "#f7f7f7"
            ],
            [
             0.6,
             "#e6f5d0"
            ],
            [
             0.7,
             "#b8e186"
            ],
            [
             0.8,
             "#7fbc41"
            ],
            [
             0.9,
             "#4d9221"
            ],
            [
             1,
             "#276419"
            ]
           ],
           "sequential": [
            [
             0,
             "#0d0887"
            ],
            [
             0.1111111111111111,
             "#46039f"
            ],
            [
             0.2222222222222222,
             "#7201a8"
            ],
            [
             0.3333333333333333,
             "#9c179e"
            ],
            [
             0.4444444444444444,
             "#bd3786"
            ],
            [
             0.5555555555555556,
             "#d8576b"
            ],
            [
             0.6666666666666666,
             "#ed7953"
            ],
            [
             0.7777777777777778,
             "#fb9f3a"
            ],
            [
             0.8888888888888888,
             "#fdca26"
            ],
            [
             1,
             "#f0f921"
            ]
           ],
           "sequentialminus": [
            [
             0,
             "#0d0887"
            ],
            [
             0.1111111111111111,
             "#46039f"
            ],
            [
             0.2222222222222222,
             "#7201a8"
            ],
            [
             0.3333333333333333,
             "#9c179e"
            ],
            [
             0.4444444444444444,
             "#bd3786"
            ],
            [
             0.5555555555555556,
             "#d8576b"
            ],
            [
             0.6666666666666666,
             "#ed7953"
            ],
            [
             0.7777777777777778,
             "#fb9f3a"
            ],
            [
             0.8888888888888888,
             "#fdca26"
            ],
            [
             1,
             "#f0f921"
            ]
           ]
          },
          "colorway": [
           "#636efa",
           "#EF553B",
           "#00cc96",
           "#ab63fa",
           "#FFA15A",
           "#19d3f3",
           "#FF6692",
           "#B6E880",
           "#FF97FF",
           "#FECB52"
          ],
          "font": {
           "color": "#2a3f5f"
          },
          "geo": {
           "bgcolor": "white",
           "lakecolor": "white",
           "landcolor": "#E5ECF6",
           "showlakes": true,
           "showland": true,
           "subunitcolor": "white"
          },
          "hoverlabel": {
           "align": "left"
          },
          "hovermode": "closest",
          "mapbox": {
           "style": "light"
          },
          "paper_bgcolor": "white",
          "plot_bgcolor": "#E5ECF6",
          "polar": {
           "angularaxis": {
            "gridcolor": "white",
            "linecolor": "white",
            "ticks": ""
           },
           "bgcolor": "#E5ECF6",
           "radialaxis": {
            "gridcolor": "white",
            "linecolor": "white",
            "ticks": ""
           }
          },
          "scene": {
           "xaxis": {
            "backgroundcolor": "#E5ECF6",
            "gridcolor": "white",
            "gridwidth": 2,
            "linecolor": "white",
            "showbackground": true,
            "ticks": "",
            "zerolinecolor": "white"
           },
           "yaxis": {
            "backgroundcolor": "#E5ECF6",
            "gridcolor": "white",
            "gridwidth": 2,
            "linecolor": "white",
            "showbackground": true,
            "ticks": "",
            "zerolinecolor": "white"
           },
           "zaxis": {
            "backgroundcolor": "#E5ECF6",
            "gridcolor": "white",
            "gridwidth": 2,
            "linecolor": "white",
            "showbackground": true,
            "ticks": "",
            "zerolinecolor": "white"
           }
          },
          "shapedefaults": {
           "line": {
            "color": "#2a3f5f"
           }
          },
          "ternary": {
           "aaxis": {
            "gridcolor": "white",
            "linecolor": "white",
            "ticks": ""
           },
           "baxis": {
            "gridcolor": "white",
            "linecolor": "white",
            "ticks": ""
           },
           "bgcolor": "#E5ECF6",
           "caxis": {
            "gridcolor": "white",
            "linecolor": "white",
            "ticks": ""
           }
          },
          "title": {
           "x": 0.05
          },
          "xaxis": {
           "automargin": true,
           "gridcolor": "white",
           "linecolor": "white",
           "ticks": "",
           "title": {
            "standoff": 15
           },
           "zerolinecolor": "white",
           "zerolinewidth": 2
          },
          "yaxis": {
           "automargin": true,
           "gridcolor": "white",
           "linecolor": "white",
           "ticks": "",
           "title": {
            "standoff": 15
           },
           "zerolinecolor": "white",
           "zerolinewidth": 2
          }
         }
        }
       }
      },
      "text/html": [
       "<div>                            <div id=\"cd9480e8-dbf9-4fd8-9c0e-76ac02c69099\" class=\"plotly-graph-div\" style=\"height:525px; width:100%;\"></div>            <script type=\"text/javascript\">                require([\"plotly\"], function(Plotly) {                    window.PLOTLYENV=window.PLOTLYENV || {};                                    if (document.getElementById(\"cd9480e8-dbf9-4fd8-9c0e-76ac02c69099\")) {                    Plotly.newPlot(                        \"cd9480e8-dbf9-4fd8-9c0e-76ac02c69099\",                        [{\"marker\":{\"size\":5},\"mode\":\"markers\",\"x\":[-3.24475518633898,-2.1555366343708244,-3.2782565706935536,-3.236065815952124,-3.097351568466069,-2.803497433234927,-1.3693105320843608,-1.267652932363257,-2.967806451442169,-1.3452073314601527,-2.799915040642268,-0.7578082584303716,-1.2052774652429517,-0.2877639755791378,-0.18830947394659592,-1.2890086132383831,-0.055228751424083566,-1.4138407590110311,1.0251144397559275,-0.4469759217605434,-0.43200889623332744,-0.31188434633464407,0.03214141860423635,0.0024214813950893532,0.8984560686609342,1.3579216718991138,1.695217140438565,0.8406923326883682,0.7737128357218674,1.379286198977482,2.3362620302159702,2.9699547076023967,1.468491282213019,1.5721468911270646,1.3438374576843852,2.6420104507555147],\"y\":[-2.9409970758934527,-2.3468302268455163,-1.3091434265626931,-1.3262207026455377,0.18730538923697992,1.4720414540053763,-1.7456039978336213,-0.70823888388366,-0.16098189233664972,0.25436202411923703,1.1486380987580427,2.4229045420906163,-2.663624495201012,-1.8331457042346546,-0.9883157127228174,-0.4583434045962948,1.063275153713635,2.088529994299337,-2.939956270963015,-1.2845194892997012,-1.2387757570167595,-0.1537754366075051,0.955093587136396,1.274907646730333,-3.6503320581970007,-1.984029514571358,-1.091086850431035,0.307628514593688,0.9367356550833583,2.764545754701354,-2.733576432823027,-1.3231924465511928,-1.0171206920341327,-0.2842377933949847,1.1647185808057476,2.4182012080357693],\"z\":[77.80395611544132,37.70789916005106,54.92351088110832,52.920847548621545,50.360432021740856,36.607745855632636,11.712236820703037,7.332862908991154,43.91796061021646,9.652261863259803,36.25592450034455,-13.6214371245785,24.870027215040487,8.748462180230458,-1.0393842317037918,8.46548912428553,-0.7995339861436535,-1.545800971023842,33.78808632760764,3.4090634763544805,0.13136140118299844,-1.5055253265213384,-1.4647525725578157,-4.561204613771762,51.80207547070239,19.50399424873958,17.962650985092086,2.6446113823134274,5.514471884386604,-10.774467975953323,48.258137103539106,47.64700781061643,14.254878349196385,13.692403338276193,6.414706695938465,21.99805420854201],\"type\":\"scatter3d\"}],                        {\"template\":{\"data\":{\"barpolar\":[{\"marker\":{\"line\":{\"color\":\"#E5ECF6\",\"width\":0.5},\"pattern\":{\"fillmode\":\"overlay\",\"size\":10,\"solidity\":0.2}},\"type\":\"barpolar\"}],\"bar\":[{\"error_x\":{\"color\":\"#2a3f5f\"},\"error_y\":{\"color\":\"#2a3f5f\"},\"marker\":{\"line\":{\"color\":\"#E5ECF6\",\"width\":0.5},\"pattern\":{\"fillmode\":\"overlay\",\"size\":10,\"solidity\":0.2}},\"type\":\"bar\"}],\"carpet\":[{\"aaxis\":{\"endlinecolor\":\"#2a3f5f\",\"gridcolor\":\"white\",\"linecolor\":\"white\",\"minorgridcolor\":\"white\",\"startlinecolor\":\"#2a3f5f\"},\"baxis\":{\"endlinecolor\":\"#2a3f5f\",\"gridcolor\":\"white\",\"linecolor\":\"white\",\"minorgridcolor\":\"white\",\"startlinecolor\":\"#2a3f5f\"},\"type\":\"carpet\"}],\"choropleth\":[{\"colorbar\":{\"outlinewidth\":0,\"ticks\":\"\"},\"type\":\"choropleth\"}],\"contourcarpet\":[{\"colorbar\":{\"outlinewidth\":0,\"ticks\":\"\"},\"type\":\"contourcarpet\"}],\"contour\":[{\"colorbar\":{\"outlinewidth\":0,\"ticks\":\"\"},\"colorscale\":[[0.0,\"#0d0887\"],[0.1111111111111111,\"#46039f\"],[0.2222222222222222,\"#7201a8\"],[0.3333333333333333,\"#9c179e\"],[0.4444444444444444,\"#bd3786\"],[0.5555555555555556,\"#d8576b\"],[0.6666666666666666,\"#ed7953\"],[0.7777777777777778,\"#fb9f3a\"],[0.8888888888888888,\"#fdca26\"],[1.0,\"#f0f921\"]],\"type\":\"contour\"}],\"heatmapgl\":[{\"colorbar\":{\"outlinewidth\":0,\"ticks\":\"\"},\"colorscale\":[[0.0,\"#0d0887\"],[0.1111111111111111,\"#46039f\"],[0.2222222222222222,\"#7201a8\"],[0.3333333333333333,\"#9c179e\"],[0.4444444444444444,\"#bd3786\"],[0.5555555555555556,\"#d8576b\"],[0.6666666666666666,\"#ed7953\"],[0.7777777777777778,\"#fb9f3a\"],[0.8888888888888888,\"#fdca26\"],[1.0,\"#f0f921\"]],\"type\":\"heatmapgl\"}],\"heatmap\":[{\"colorbar\":{\"outlinewidth\":0,\"ticks\":\"\"},\"colorscale\":[[0.0,\"#0d0887\"],[0.1111111111111111,\"#46039f\"],[0.2222222222222222,\"#7201a8\"],[0.3333333333333333,\"#9c179e\"],[0.4444444444444444,\"#bd3786\"],[0.5555555555555556,\"#d8576b\"],[0.6666666666666666,\"#ed7953\"],[0.7777777777777778,\"#fb9f3a\"],[0.8888888888888888,\"#fdca26\"],[1.0,\"#f0f921\"]],\"type\":\"heatmap\"}],\"histogram2dcontour\":[{\"colorbar\":{\"outlinewidth\":0,\"ticks\":\"\"},\"colorscale\":[[0.0,\"#0d0887\"],[0.1111111111111111,\"#46039f\"],[0.2222222222222222,\"#7201a8\"],[0.3333333333333333,\"#9c179e\"],[0.4444444444444444,\"#bd3786\"],[0.5555555555555556,\"#d8576b\"],[0.6666666666666666,\"#ed7953\"],[0.7777777777777778,\"#fb9f3a\"],[0.8888888888888888,\"#fdca26\"],[1.0,\"#f0f921\"]],\"type\":\"histogram2dcontour\"}],\"histogram2d\":[{\"colorbar\":{\"outlinewidth\":0,\"ticks\":\"\"},\"colorscale\":[[0.0,\"#0d0887\"],[0.1111111111111111,\"#46039f\"],[0.2222222222222222,\"#7201a8\"],[0.3333333333333333,\"#9c179e\"],[0.4444444444444444,\"#bd3786\"],[0.5555555555555556,\"#d8576b\"],[0.6666666666666666,\"#ed7953\"],[0.7777777777777778,\"#fb9f3a\"],[0.8888888888888888,\"#fdca26\"],[1.0,\"#f0f921\"]],\"type\":\"histogram2d\"}],\"histogram\":[{\"marker\":{\"pattern\":{\"fillmode\":\"overlay\",\"size\":10,\"solidity\":0.2}},\"type\":\"histogram\"}],\"mesh3d\":[{\"colorbar\":{\"outlinewidth\":0,\"ticks\":\"\"},\"type\":\"mesh3d\"}],\"parcoords\":[{\"line\":{\"colorbar\":{\"outlinewidth\":0,\"ticks\":\"\"}},\"type\":\"parcoords\"}],\"pie\":[{\"automargin\":true,\"type\":\"pie\"}],\"scatter3d\":[{\"line\":{\"colorbar\":{\"outlinewidth\":0,\"ticks\":\"\"}},\"marker\":{\"colorbar\":{\"outlinewidth\":0,\"ticks\":\"\"}},\"type\":\"scatter3d\"}],\"scattercarpet\":[{\"marker\":{\"colorbar\":{\"outlinewidth\":0,\"ticks\":\"\"}},\"type\":\"scattercarpet\"}],\"scattergeo\":[{\"marker\":{\"colorbar\":{\"outlinewidth\":0,\"ticks\":\"\"}},\"type\":\"scattergeo\"}],\"scattergl\":[{\"marker\":{\"colorbar\":{\"outlinewidth\":0,\"ticks\":\"\"}},\"type\":\"scattergl\"}],\"scattermapbox\":[{\"marker\":{\"colorbar\":{\"outlinewidth\":0,\"ticks\":\"\"}},\"type\":\"scattermapbox\"}],\"scatterpolargl\":[{\"marker\":{\"colorbar\":{\"outlinewidth\":0,\"ticks\":\"\"}},\"type\":\"scatterpolargl\"}],\"scatterpolar\":[{\"marker\":{\"colorbar\":{\"outlinewidth\":0,\"ticks\":\"\"}},\"type\":\"scatterpolar\"}],\"scatter\":[{\"marker\":{\"colorbar\":{\"outlinewidth\":0,\"ticks\":\"\"}},\"type\":\"scatter\"}],\"scatterternary\":[{\"marker\":{\"colorbar\":{\"outlinewidth\":0,\"ticks\":\"\"}},\"type\":\"scatterternary\"}],\"surface\":[{\"colorbar\":{\"outlinewidth\":0,\"ticks\":\"\"},\"colorscale\":[[0.0,\"#0d0887\"],[0.1111111111111111,\"#46039f\"],[0.2222222222222222,\"#7201a8\"],[0.3333333333333333,\"#9c179e\"],[0.4444444444444444,\"#bd3786\"],[0.5555555555555556,\"#d8576b\"],[0.6666666666666666,\"#ed7953\"],[0.7777777777777778,\"#fb9f3a\"],[0.8888888888888888,\"#fdca26\"],[1.0,\"#f0f921\"]],\"type\":\"surface\"}],\"table\":[{\"cells\":{\"fill\":{\"color\":\"#EBF0F8\"},\"line\":{\"color\":\"white\"}},\"header\":{\"fill\":{\"color\":\"#C8D4E3\"},\"line\":{\"color\":\"white\"}},\"type\":\"table\"}]},\"layout\":{\"annotationdefaults\":{\"arrowcolor\":\"#2a3f5f\",\"arrowhead\":0,\"arrowwidth\":1},\"autotypenumbers\":\"strict\",\"coloraxis\":{\"colorbar\":{\"outlinewidth\":0,\"ticks\":\"\"}},\"colorscale\":{\"diverging\":[[0,\"#8e0152\"],[0.1,\"#c51b7d\"],[0.2,\"#de77ae\"],[0.3,\"#f1b6da\"],[0.4,\"#fde0ef\"],[0.5,\"#f7f7f7\"],[0.6,\"#e6f5d0\"],[0.7,\"#b8e186\"],[0.8,\"#7fbc41\"],[0.9,\"#4d9221\"],[1,\"#276419\"]],\"sequential\":[[0.0,\"#0d0887\"],[0.1111111111111111,\"#46039f\"],[0.2222222222222222,\"#7201a8\"],[0.3333333333333333,\"#9c179e\"],[0.4444444444444444,\"#bd3786\"],[0.5555555555555556,\"#d8576b\"],[0.6666666666666666,\"#ed7953\"],[0.7777777777777778,\"#fb9f3a\"],[0.8888888888888888,\"#fdca26\"],[1.0,\"#f0f921\"]],\"sequentialminus\":[[0.0,\"#0d0887\"],[0.1111111111111111,\"#46039f\"],[0.2222222222222222,\"#7201a8\"],[0.3333333333333333,\"#9c179e\"],[0.4444444444444444,\"#bd3786\"],[0.5555555555555556,\"#d8576b\"],[0.6666666666666666,\"#ed7953\"],[0.7777777777777778,\"#fb9f3a\"],[0.8888888888888888,\"#fdca26\"],[1.0,\"#f0f921\"]]},\"colorway\":[\"#636efa\",\"#EF553B\",\"#00cc96\",\"#ab63fa\",\"#FFA15A\",\"#19d3f3\",\"#FF6692\",\"#B6E880\",\"#FF97FF\",\"#FECB52\"],\"font\":{\"color\":\"#2a3f5f\"},\"geo\":{\"bgcolor\":\"white\",\"lakecolor\":\"white\",\"landcolor\":\"#E5ECF6\",\"showlakes\":true,\"showland\":true,\"subunitcolor\":\"white\"},\"hoverlabel\":{\"align\":\"left\"},\"hovermode\":\"closest\",\"mapbox\":{\"style\":\"light\"},\"paper_bgcolor\":\"white\",\"plot_bgcolor\":\"#E5ECF6\",\"polar\":{\"angularaxis\":{\"gridcolor\":\"white\",\"linecolor\":\"white\",\"ticks\":\"\"},\"bgcolor\":\"#E5ECF6\",\"radialaxis\":{\"gridcolor\":\"white\",\"linecolor\":\"white\",\"ticks\":\"\"}},\"scene\":{\"xaxis\":{\"backgroundcolor\":\"#E5ECF6\",\"gridcolor\":\"white\",\"gridwidth\":2,\"linecolor\":\"white\",\"showbackground\":true,\"ticks\":\"\",\"zerolinecolor\":\"white\"},\"yaxis\":{\"backgroundcolor\":\"#E5ECF6\",\"gridcolor\":\"white\",\"gridwidth\":2,\"linecolor\":\"white\",\"showbackground\":true,\"ticks\":\"\",\"zerolinecolor\":\"white\"},\"zaxis\":{\"backgroundcolor\":\"#E5ECF6\",\"gridcolor\":\"white\",\"gridwidth\":2,\"linecolor\":\"white\",\"showbackground\":true,\"ticks\":\"\",\"zerolinecolor\":\"white\"}},\"shapedefaults\":{\"line\":{\"color\":\"#2a3f5f\"}},\"ternary\":{\"aaxis\":{\"gridcolor\":\"white\",\"linecolor\":\"white\",\"ticks\":\"\"},\"baxis\":{\"gridcolor\":\"white\",\"linecolor\":\"white\",\"ticks\":\"\"},\"bgcolor\":\"#E5ECF6\",\"caxis\":{\"gridcolor\":\"white\",\"linecolor\":\"white\",\"ticks\":\"\"}},\"title\":{\"x\":0.05},\"xaxis\":{\"automargin\":true,\"gridcolor\":\"white\",\"linecolor\":\"white\",\"ticks\":\"\",\"title\":{\"standoff\":15},\"zerolinecolor\":\"white\",\"zerolinewidth\":2},\"yaxis\":{\"automargin\":true,\"gridcolor\":\"white\",\"linecolor\":\"white\",\"ticks\":\"\",\"title\":{\"standoff\":15},\"zerolinecolor\":\"white\",\"zerolinewidth\":2}}}},                        {\"responsive\": true}                    ).then(function(){\n",
       "                            \n",
       "var gd = document.getElementById('cd9480e8-dbf9-4fd8-9c0e-76ac02c69099');\n",
       "var x = new MutationObserver(function (mutations, observer) {{\n",
       "        var display = window.getComputedStyle(gd).display;\n",
       "        if (!display || display === 'none') {{\n",
       "            console.log([gd, 'removed!']);\n",
       "            Plotly.purge(gd);\n",
       "            observer.disconnect();\n",
       "        }}\n",
       "}});\n",
       "\n",
       "// Listen for the removal of the full notebook cells\n",
       "var notebookContainer = gd.closest('#notebook-container');\n",
       "if (notebookContainer) {{\n",
       "    x.observe(notebookContainer, {childList: true});\n",
       "}}\n",
       "\n",
       "// Listen for the clearing of the current output cell\n",
       "var outputEl = gd.closest('.output');\n",
       "if (outputEl) {{\n",
       "    x.observe(outputEl, {childList: true});\n",
       "}}\n",
       "\n",
       "                        })                };                });            </script>        </div>"
      ]
     },
     "metadata": {},
     "output_type": "display_data"
    }
   ],
   "source": [
    "# Defining a dataset to test the model (no input needed)\n",
    "points = []\n",
    "points_val = []\n",
    "points_test = []\n",
    "for i in range(-3,3):\n",
    "    for j in range(-3,3):\n",
    "        points.append([i+np.random.normal(0,.5),j+np.random.normal(0,.5)])\n",
    "        points_val.append([i+np.random.normal(0,.5),j+np.random.normal(0,.5)])\n",
    "        points_test.append([i+np.random.normal(0,.5),j+np.random.normal(0,.5)])\n",
    "X = np.array(points)\n",
    "def p_data(p):\n",
    "    return 5*p[0]**2 - p[1]**3 + np.random.normal(0,2)\n",
    "y = np.array([[p_data(p)] for p in X])\n",
    "X_val = np.array(points_val)\n",
    "y_val = np.array([[p_data(p)] for p in X_val])\n",
    "X_test = np.array(points_test)\n",
    "y_test = np.array([[p_data(p)] for p in X_test])\n",
    "# plotting training set\n",
    "plot_figure = go.Figure(data=[go.Scatter3d(x=X[:,0], y=X[:,1], z=[r[0] for r in y], mode='markers',marker=dict(size=5))])\n",
    "plotly.offline.iplot(plot_figure)"
   ]
  },
  {
   "cell_type": "markdown",
   "id": "281559ee",
   "metadata": {},
   "source": [
    "## Problem 2 Continued...\n",
    "\n",
    "Next we run our gradient descent algorithm. First run the following 5 cells with `lambda_ = 0` and observe how the model performs. Adjust the value of `lambda_` until you find a good fit (not overfit, not underfit). This can be determined by comparing training set performance, validation set performance, and test set performance by following the procedure explained in lecture. Explain in the markdown cell at the end the relationship between the values of `degree` and of `lambda_` and whether the model overfits or underfits. Things to consider: \n",
    "\n",
    " - Experiment with different values of `lambda_` with the given `degree`. \n",
    " - Now experiment with the `degree`. \n",
    " - Can you find an optimal choice of both? \n",
    " - Does the effect of `lambda` change based on your choice of `degree`?"
   ]
  },
  {
   "cell_type": "code",
   "execution_count": 42,
   "id": "61de3cef",
   "metadata": {
    "scrolled": true
   },
   "outputs": [
    {
     "name": "stdout",
     "output_type": "stream",
     "text": [
      "number of features in Xhat: 21\n",
      "after 0 steps the cost is 885.7207078085747\n",
      "after 1000 steps the cost is 38.50827389445588\n",
      "after 1281 steps the cost is 38.46380834713884\n",
      "unregularized cost on training set: 26.3031951421324\n",
      "unregularized cost on validation set: 68.67962820164017\n"
     ]
    }
   ],
   "source": [
    "# this by default fits a model without regularization (lambda_ = 0)\n",
    "# INPUT NEEDED\n",
    "# pick appropriate values for degree and lambda_ (can also change epsilon if needed)\n",
    "epsilon = .01\n",
    "degree = 5\n",
    "lambda_ = 23\n",
    "Xhat = add_poly_terms(X,degree)\n",
    "print(f'number of features in Xhat: {Xhat.shape[1]}')\n",
    "v,costs = GD_linreg_improved(Xhat,y,epsilon,lambda_)\n",
    "print(f'unregularized cost on training set: {J(Xhat,y,v,0)}')\n",
    "# Computing the validation set error (no input needed)\n",
    "Xhat_val = add_poly_terms(X_val,degree)\n",
    "print(f'unregularized cost on validation set: {J(Xhat_val,y_val,v,0)}')"
   ]
  },
  {
   "cell_type": "code",
   "execution_count": 43,
   "id": "bb584958",
   "metadata": {},
   "outputs": [
    {
     "name": "stdout",
     "output_type": "stream",
     "text": [
      "unregularized cost on test set: 81.81456820427704\n"
     ]
    }
   ],
   "source": [
    "# Computing the test set error (no input needed)\n",
    "Xhat_test = add_poly_terms(X_test,degree)\n",
    "print(f'unregularized cost on test set: {J(Xhat_test,y_test,v,0)}')"
   ]
  },
  {
   "cell_type": "code",
   "execution_count": 44,
   "id": "61d83c39",
   "metadata": {},
   "outputs": [
    {
     "data": {
      "application/vnd.plotly.v1+json": {
       "config": {
        "linkText": "Export to plot.ly",
        "plotlyServerURL": "https://plot.ly",
        "showLink": false
       },
       "data": [
        {
         "marker": {
          "size": 5
         },
         "mode": "markers",
         "type": "scatter3d",
         "x": [
          -3.24475518633898,
          -2.1555366343708244,
          -3.2782565706935536,
          -3.236065815952124,
          -3.097351568466069,
          -2.803497433234927,
          -1.3693105320843608,
          -1.267652932363257,
          -2.967806451442169,
          -1.3452073314601527,
          -2.799915040642268,
          -0.7578082584303716,
          -1.2052774652429517,
          -0.2877639755791378,
          -0.18830947394659592,
          -1.2890086132383831,
          -0.055228751424083566,
          -1.4138407590110311,
          1.0251144397559275,
          -0.4469759217605434,
          -0.43200889623332744,
          -0.31188434633464407,
          0.03214141860423635,
          0.0024214813950893532,
          0.8984560686609342,
          1.3579216718991138,
          1.695217140438565,
          0.8406923326883682,
          0.7737128357218674,
          1.379286198977482,
          2.3362620302159702,
          2.9699547076023967,
          1.468491282213019,
          1.5721468911270646,
          1.3438374576843852,
          2.6420104507555147
         ],
         "y": [
          -2.9409970758934527,
          -2.3468302268455163,
          -1.3091434265626931,
          -1.3262207026455377,
          0.18730538923697992,
          1.4720414540053763,
          -1.7456039978336213,
          -0.70823888388366,
          -0.16098189233664972,
          0.25436202411923703,
          1.1486380987580427,
          2.4229045420906163,
          -2.663624495201012,
          -1.8331457042346546,
          -0.9883157127228174,
          -0.4583434045962948,
          1.063275153713635,
          2.088529994299337,
          -2.939956270963015,
          -1.2845194892997012,
          -1.2387757570167595,
          -0.1537754366075051,
          0.955093587136396,
          1.274907646730333,
          -3.6503320581970007,
          -1.984029514571358,
          -1.091086850431035,
          0.307628514593688,
          0.9367356550833583,
          2.764545754701354,
          -2.733576432823027,
          -1.3231924465511928,
          -1.0171206920341327,
          -0.2842377933949847,
          1.1647185808057476,
          2.4182012080357693
         ],
         "z": [
          77.80395611544132,
          37.70789916005106,
          54.92351088110832,
          52.920847548621545,
          50.360432021740856,
          36.607745855632636,
          11.712236820703037,
          7.332862908991154,
          43.91796061021646,
          9.652261863259803,
          36.25592450034455,
          -13.6214371245785,
          24.870027215040487,
          8.748462180230458,
          -1.0393842317037918,
          8.46548912428553,
          -0.7995339861436535,
          -1.545800971023842,
          33.78808632760764,
          3.4090634763544805,
          0.13136140118299844,
          -1.5055253265213384,
          -1.4647525725578157,
          -4.561204613771762,
          51.80207547070239,
          19.50399424873958,
          17.962650985092086,
          2.6446113823134274,
          5.514471884386604,
          -10.774467975953323,
          48.258137103539106,
          47.64700781061643,
          14.254878349196385,
          13.692403338276193,
          6.414706695938465,
          21.99805420854201
         ]
        },
        {
         "opacity": 0.5,
         "showscale": false,
         "type": "surface",
         "x": [
          [
           -3.2782565706935536,
           -3.2782565706935536,
           -3.2782565706935536,
           -3.2782565706935536,
           -3.2782565706935536,
           -3.2782565706935536,
           -3.2782565706935536,
           -3.2782565706935536,
           -3.2782565706935536,
           -3.2782565706935536,
           -3.2782565706935536,
           -3.2782565706935536,
           -3.2782565706935536,
           -3.2782565706935536,
           -3.2782565706935536,
           -3.2782565706935536,
           -3.2782565706935536,
           -3.2782565706935536,
           -3.2782565706935536,
           -3.2782565706935536,
           -3.2782565706935536,
           -3.2782565706935536,
           -3.2782565706935536,
           -3.2782565706935536,
           -3.2782565706935536,
           -3.2782565706935536,
           -3.2782565706935536,
           -3.2782565706935536,
           -3.2782565706935536,
           -3.2782565706935536
          ],
          [
           -3.0628010093730036,
           -3.0628010093730036,
           -3.0628010093730036,
           -3.0628010093730036,
           -3.0628010093730036,
           -3.0628010093730036,
           -3.0628010093730036,
           -3.0628010093730036,
           -3.0628010093730036,
           -3.0628010093730036,
           -3.0628010093730036,
           -3.0628010093730036,
           -3.0628010093730036,
           -3.0628010093730036,
           -3.0628010093730036,
           -3.0628010093730036,
           -3.0628010093730036,
           -3.0628010093730036,
           -3.0628010093730036,
           -3.0628010093730036,
           -3.0628010093730036,
           -3.0628010093730036,
           -3.0628010093730036,
           -3.0628010093730036,
           -3.0628010093730036,
           -3.0628010093730036,
           -3.0628010093730036,
           -3.0628010093730036,
           -3.0628010093730036,
           -3.0628010093730036
          ],
          [
           -2.8473454480524536,
           -2.8473454480524536,
           -2.8473454480524536,
           -2.8473454480524536,
           -2.8473454480524536,
           -2.8473454480524536,
           -2.8473454480524536,
           -2.8473454480524536,
           -2.8473454480524536,
           -2.8473454480524536,
           -2.8473454480524536,
           -2.8473454480524536,
           -2.8473454480524536,
           -2.8473454480524536,
           -2.8473454480524536,
           -2.8473454480524536,
           -2.8473454480524536,
           -2.8473454480524536,
           -2.8473454480524536,
           -2.8473454480524536,
           -2.8473454480524536,
           -2.8473454480524536,
           -2.8473454480524536,
           -2.8473454480524536,
           -2.8473454480524536,
           -2.8473454480524536,
           -2.8473454480524536,
           -2.8473454480524536,
           -2.8473454480524536,
           -2.8473454480524536
          ],
          [
           -2.6318898867319036,
           -2.6318898867319036,
           -2.6318898867319036,
           -2.6318898867319036,
           -2.6318898867319036,
           -2.6318898867319036,
           -2.6318898867319036,
           -2.6318898867319036,
           -2.6318898867319036,
           -2.6318898867319036,
           -2.6318898867319036,
           -2.6318898867319036,
           -2.6318898867319036,
           -2.6318898867319036,
           -2.6318898867319036,
           -2.6318898867319036,
           -2.6318898867319036,
           -2.6318898867319036,
           -2.6318898867319036,
           -2.6318898867319036,
           -2.6318898867319036,
           -2.6318898867319036,
           -2.6318898867319036,
           -2.6318898867319036,
           -2.6318898867319036,
           -2.6318898867319036,
           -2.6318898867319036,
           -2.6318898867319036,
           -2.6318898867319036,
           -2.6318898867319036
          ],
          [
           -2.4164343254113536,
           -2.4164343254113536,
           -2.4164343254113536,
           -2.4164343254113536,
           -2.4164343254113536,
           -2.4164343254113536,
           -2.4164343254113536,
           -2.4164343254113536,
           -2.4164343254113536,
           -2.4164343254113536,
           -2.4164343254113536,
           -2.4164343254113536,
           -2.4164343254113536,
           -2.4164343254113536,
           -2.4164343254113536,
           -2.4164343254113536,
           -2.4164343254113536,
           -2.4164343254113536,
           -2.4164343254113536,
           -2.4164343254113536,
           -2.4164343254113536,
           -2.4164343254113536,
           -2.4164343254113536,
           -2.4164343254113536,
           -2.4164343254113536,
           -2.4164343254113536,
           -2.4164343254113536,
           -2.4164343254113536,
           -2.4164343254113536,
           -2.4164343254113536
          ],
          [
           -2.200978764090803,
           -2.200978764090803,
           -2.200978764090803,
           -2.200978764090803,
           -2.200978764090803,
           -2.200978764090803,
           -2.200978764090803,
           -2.200978764090803,
           -2.200978764090803,
           -2.200978764090803,
           -2.200978764090803,
           -2.200978764090803,
           -2.200978764090803,
           -2.200978764090803,
           -2.200978764090803,
           -2.200978764090803,
           -2.200978764090803,
           -2.200978764090803,
           -2.200978764090803,
           -2.200978764090803,
           -2.200978764090803,
           -2.200978764090803,
           -2.200978764090803,
           -2.200978764090803,
           -2.200978764090803,
           -2.200978764090803,
           -2.200978764090803,
           -2.200978764090803,
           -2.200978764090803,
           -2.200978764090803
          ],
          [
           -1.9855232027702534,
           -1.9855232027702534,
           -1.9855232027702534,
           -1.9855232027702534,
           -1.9855232027702534,
           -1.9855232027702534,
           -1.9855232027702534,
           -1.9855232027702534,
           -1.9855232027702534,
           -1.9855232027702534,
           -1.9855232027702534,
           -1.9855232027702534,
           -1.9855232027702534,
           -1.9855232027702534,
           -1.9855232027702534,
           -1.9855232027702534,
           -1.9855232027702534,
           -1.9855232027702534,
           -1.9855232027702534,
           -1.9855232027702534,
           -1.9855232027702534,
           -1.9855232027702534,
           -1.9855232027702534,
           -1.9855232027702534,
           -1.9855232027702534,
           -1.9855232027702534,
           -1.9855232027702534,
           -1.9855232027702534,
           -1.9855232027702534,
           -1.9855232027702534
          ],
          [
           -1.7700676414497034,
           -1.7700676414497034,
           -1.7700676414497034,
           -1.7700676414497034,
           -1.7700676414497034,
           -1.7700676414497034,
           -1.7700676414497034,
           -1.7700676414497034,
           -1.7700676414497034,
           -1.7700676414497034,
           -1.7700676414497034,
           -1.7700676414497034,
           -1.7700676414497034,
           -1.7700676414497034,
           -1.7700676414497034,
           -1.7700676414497034,
           -1.7700676414497034,
           -1.7700676414497034,
           -1.7700676414497034,
           -1.7700676414497034,
           -1.7700676414497034,
           -1.7700676414497034,
           -1.7700676414497034,
           -1.7700676414497034,
           -1.7700676414497034,
           -1.7700676414497034,
           -1.7700676414497034,
           -1.7700676414497034,
           -1.7700676414497034,
           -1.7700676414497034
          ],
          [
           -1.5546120801291534,
           -1.5546120801291534,
           -1.5546120801291534,
           -1.5546120801291534,
           -1.5546120801291534,
           -1.5546120801291534,
           -1.5546120801291534,
           -1.5546120801291534,
           -1.5546120801291534,
           -1.5546120801291534,
           -1.5546120801291534,
           -1.5546120801291534,
           -1.5546120801291534,
           -1.5546120801291534,
           -1.5546120801291534,
           -1.5546120801291534,
           -1.5546120801291534,
           -1.5546120801291534,
           -1.5546120801291534,
           -1.5546120801291534,
           -1.5546120801291534,
           -1.5546120801291534,
           -1.5546120801291534,
           -1.5546120801291534,
           -1.5546120801291534,
           -1.5546120801291534,
           -1.5546120801291534,
           -1.5546120801291534,
           -1.5546120801291534,
           -1.5546120801291534
          ],
          [
           -1.3391565188086034,
           -1.3391565188086034,
           -1.3391565188086034,
           -1.3391565188086034,
           -1.3391565188086034,
           -1.3391565188086034,
           -1.3391565188086034,
           -1.3391565188086034,
           -1.3391565188086034,
           -1.3391565188086034,
           -1.3391565188086034,
           -1.3391565188086034,
           -1.3391565188086034,
           -1.3391565188086034,
           -1.3391565188086034,
           -1.3391565188086034,
           -1.3391565188086034,
           -1.3391565188086034,
           -1.3391565188086034,
           -1.3391565188086034,
           -1.3391565188086034,
           -1.3391565188086034,
           -1.3391565188086034,
           -1.3391565188086034,
           -1.3391565188086034,
           -1.3391565188086034,
           -1.3391565188086034,
           -1.3391565188086034,
           -1.3391565188086034,
           -1.3391565188086034
          ],
          [
           -1.1237009574880532,
           -1.1237009574880532,
           -1.1237009574880532,
           -1.1237009574880532,
           -1.1237009574880532,
           -1.1237009574880532,
           -1.1237009574880532,
           -1.1237009574880532,
           -1.1237009574880532,
           -1.1237009574880532,
           -1.1237009574880532,
           -1.1237009574880532,
           -1.1237009574880532,
           -1.1237009574880532,
           -1.1237009574880532,
           -1.1237009574880532,
           -1.1237009574880532,
           -1.1237009574880532,
           -1.1237009574880532,
           -1.1237009574880532,
           -1.1237009574880532,
           -1.1237009574880532,
           -1.1237009574880532,
           -1.1237009574880532,
           -1.1237009574880532,
           -1.1237009574880532,
           -1.1237009574880532,
           -1.1237009574880532,
           -1.1237009574880532,
           -1.1237009574880532
          ],
          [
           -0.9082453961675032,
           -0.9082453961675032,
           -0.9082453961675032,
           -0.9082453961675032,
           -0.9082453961675032,
           -0.9082453961675032,
           -0.9082453961675032,
           -0.9082453961675032,
           -0.9082453961675032,
           -0.9082453961675032,
           -0.9082453961675032,
           -0.9082453961675032,
           -0.9082453961675032,
           -0.9082453961675032,
           -0.9082453961675032,
           -0.9082453961675032,
           -0.9082453961675032,
           -0.9082453961675032,
           -0.9082453961675032,
           -0.9082453961675032,
           -0.9082453961675032,
           -0.9082453961675032,
           -0.9082453961675032,
           -0.9082453961675032,
           -0.9082453961675032,
           -0.9082453961675032,
           -0.9082453961675032,
           -0.9082453961675032,
           -0.9082453961675032,
           -0.9082453961675032
          ],
          [
           -0.6927898348469532,
           -0.6927898348469532,
           -0.6927898348469532,
           -0.6927898348469532,
           -0.6927898348469532,
           -0.6927898348469532,
           -0.6927898348469532,
           -0.6927898348469532,
           -0.6927898348469532,
           -0.6927898348469532,
           -0.6927898348469532,
           -0.6927898348469532,
           -0.6927898348469532,
           -0.6927898348469532,
           -0.6927898348469532,
           -0.6927898348469532,
           -0.6927898348469532,
           -0.6927898348469532,
           -0.6927898348469532,
           -0.6927898348469532,
           -0.6927898348469532,
           -0.6927898348469532,
           -0.6927898348469532,
           -0.6927898348469532,
           -0.6927898348469532,
           -0.6927898348469532,
           -0.6927898348469532,
           -0.6927898348469532,
           -0.6927898348469532,
           -0.6927898348469532
          ],
          [
           -0.47733427352640323,
           -0.47733427352640323,
           -0.47733427352640323,
           -0.47733427352640323,
           -0.47733427352640323,
           -0.47733427352640323,
           -0.47733427352640323,
           -0.47733427352640323,
           -0.47733427352640323,
           -0.47733427352640323,
           -0.47733427352640323,
           -0.47733427352640323,
           -0.47733427352640323,
           -0.47733427352640323,
           -0.47733427352640323,
           -0.47733427352640323,
           -0.47733427352640323,
           -0.47733427352640323,
           -0.47733427352640323,
           -0.47733427352640323,
           -0.47733427352640323,
           -0.47733427352640323,
           -0.47733427352640323,
           -0.47733427352640323,
           -0.47733427352640323,
           -0.47733427352640323,
           -0.47733427352640323,
           -0.47733427352640323,
           -0.47733427352640323,
           -0.47733427352640323
          ],
          [
           -0.26187871220585324,
           -0.26187871220585324,
           -0.26187871220585324,
           -0.26187871220585324,
           -0.26187871220585324,
           -0.26187871220585324,
           -0.26187871220585324,
           -0.26187871220585324,
           -0.26187871220585324,
           -0.26187871220585324,
           -0.26187871220585324,
           -0.26187871220585324,
           -0.26187871220585324,
           -0.26187871220585324,
           -0.26187871220585324,
           -0.26187871220585324,
           -0.26187871220585324,
           -0.26187871220585324,
           -0.26187871220585324,
           -0.26187871220585324,
           -0.26187871220585324,
           -0.26187871220585324,
           -0.26187871220585324,
           -0.26187871220585324,
           -0.26187871220585324,
           -0.26187871220585324,
           -0.26187871220585324,
           -0.26187871220585324,
           -0.26187871220585324,
           -0.26187871220585324
          ],
          [
           -0.046423150885303244,
           -0.046423150885303244,
           -0.046423150885303244,
           -0.046423150885303244,
           -0.046423150885303244,
           -0.046423150885303244,
           -0.046423150885303244,
           -0.046423150885303244,
           -0.046423150885303244,
           -0.046423150885303244,
           -0.046423150885303244,
           -0.046423150885303244,
           -0.046423150885303244,
           -0.046423150885303244,
           -0.046423150885303244,
           -0.046423150885303244,
           -0.046423150885303244,
           -0.046423150885303244,
           -0.046423150885303244,
           -0.046423150885303244,
           -0.046423150885303244,
           -0.046423150885303244,
           -0.046423150885303244,
           -0.046423150885303244,
           -0.046423150885303244,
           -0.046423150885303244,
           -0.046423150885303244,
           -0.046423150885303244,
           -0.046423150885303244,
           -0.046423150885303244
          ],
          [
           0.16903241043524675,
           0.16903241043524675,
           0.16903241043524675,
           0.16903241043524675,
           0.16903241043524675,
           0.16903241043524675,
           0.16903241043524675,
           0.16903241043524675,
           0.16903241043524675,
           0.16903241043524675,
           0.16903241043524675,
           0.16903241043524675,
           0.16903241043524675,
           0.16903241043524675,
           0.16903241043524675,
           0.16903241043524675,
           0.16903241043524675,
           0.16903241043524675,
           0.16903241043524675,
           0.16903241043524675,
           0.16903241043524675,
           0.16903241043524675,
           0.16903241043524675,
           0.16903241043524675,
           0.16903241043524675,
           0.16903241043524675,
           0.16903241043524675,
           0.16903241043524675,
           0.16903241043524675,
           0.16903241043524675
          ],
          [
           0.38448797175579674,
           0.38448797175579674,
           0.38448797175579674,
           0.38448797175579674,
           0.38448797175579674,
           0.38448797175579674,
           0.38448797175579674,
           0.38448797175579674,
           0.38448797175579674,
           0.38448797175579674,
           0.38448797175579674,
           0.38448797175579674,
           0.38448797175579674,
           0.38448797175579674,
           0.38448797175579674,
           0.38448797175579674,
           0.38448797175579674,
           0.38448797175579674,
           0.38448797175579674,
           0.38448797175579674,
           0.38448797175579674,
           0.38448797175579674,
           0.38448797175579674,
           0.38448797175579674,
           0.38448797175579674,
           0.38448797175579674,
           0.38448797175579674,
           0.38448797175579674,
           0.38448797175579674,
           0.38448797175579674
          ],
          [
           0.5999435330763467,
           0.5999435330763467,
           0.5999435330763467,
           0.5999435330763467,
           0.5999435330763467,
           0.5999435330763467,
           0.5999435330763467,
           0.5999435330763467,
           0.5999435330763467,
           0.5999435330763467,
           0.5999435330763467,
           0.5999435330763467,
           0.5999435330763467,
           0.5999435330763467,
           0.5999435330763467,
           0.5999435330763467,
           0.5999435330763467,
           0.5999435330763467,
           0.5999435330763467,
           0.5999435330763467,
           0.5999435330763467,
           0.5999435330763467,
           0.5999435330763467,
           0.5999435330763467,
           0.5999435330763467,
           0.5999435330763467,
           0.5999435330763467,
           0.5999435330763467,
           0.5999435330763467,
           0.5999435330763467
          ],
          [
           0.8153990943968967,
           0.8153990943968967,
           0.8153990943968967,
           0.8153990943968967,
           0.8153990943968967,
           0.8153990943968967,
           0.8153990943968967,
           0.8153990943968967,
           0.8153990943968967,
           0.8153990943968967,
           0.8153990943968967,
           0.8153990943968967,
           0.8153990943968967,
           0.8153990943968967,
           0.8153990943968967,
           0.8153990943968967,
           0.8153990943968967,
           0.8153990943968967,
           0.8153990943968967,
           0.8153990943968967,
           0.8153990943968967,
           0.8153990943968967,
           0.8153990943968967,
           0.8153990943968967,
           0.8153990943968967,
           0.8153990943968967,
           0.8153990943968967,
           0.8153990943968967,
           0.8153990943968967,
           0.8153990943968967
          ],
          [
           1.0308546557174472,
           1.0308546557174472,
           1.0308546557174472,
           1.0308546557174472,
           1.0308546557174472,
           1.0308546557174472,
           1.0308546557174472,
           1.0308546557174472,
           1.0308546557174472,
           1.0308546557174472,
           1.0308546557174472,
           1.0308546557174472,
           1.0308546557174472,
           1.0308546557174472,
           1.0308546557174472,
           1.0308546557174472,
           1.0308546557174472,
           1.0308546557174472,
           1.0308546557174472,
           1.0308546557174472,
           1.0308546557174472,
           1.0308546557174472,
           1.0308546557174472,
           1.0308546557174472,
           1.0308546557174472,
           1.0308546557174472,
           1.0308546557174472,
           1.0308546557174472,
           1.0308546557174472,
           1.0308546557174472
          ],
          [
           1.2463102170379967,
           1.2463102170379967,
           1.2463102170379967,
           1.2463102170379967,
           1.2463102170379967,
           1.2463102170379967,
           1.2463102170379967,
           1.2463102170379967,
           1.2463102170379967,
           1.2463102170379967,
           1.2463102170379967,
           1.2463102170379967,
           1.2463102170379967,
           1.2463102170379967,
           1.2463102170379967,
           1.2463102170379967,
           1.2463102170379967,
           1.2463102170379967,
           1.2463102170379967,
           1.2463102170379967,
           1.2463102170379967,
           1.2463102170379967,
           1.2463102170379967,
           1.2463102170379967,
           1.2463102170379967,
           1.2463102170379967,
           1.2463102170379967,
           1.2463102170379967,
           1.2463102170379967,
           1.2463102170379967
          ],
          [
           1.4617657783585472,
           1.4617657783585472,
           1.4617657783585472,
           1.4617657783585472,
           1.4617657783585472,
           1.4617657783585472,
           1.4617657783585472,
           1.4617657783585472,
           1.4617657783585472,
           1.4617657783585472,
           1.4617657783585472,
           1.4617657783585472,
           1.4617657783585472,
           1.4617657783585472,
           1.4617657783585472,
           1.4617657783585472,
           1.4617657783585472,
           1.4617657783585472,
           1.4617657783585472,
           1.4617657783585472,
           1.4617657783585472,
           1.4617657783585472,
           1.4617657783585472,
           1.4617657783585472,
           1.4617657783585472,
           1.4617657783585472,
           1.4617657783585472,
           1.4617657783585472,
           1.4617657783585472,
           1.4617657783585472
          ],
          [
           1.6772213396790967,
           1.6772213396790967,
           1.6772213396790967,
           1.6772213396790967,
           1.6772213396790967,
           1.6772213396790967,
           1.6772213396790967,
           1.6772213396790967,
           1.6772213396790967,
           1.6772213396790967,
           1.6772213396790967,
           1.6772213396790967,
           1.6772213396790967,
           1.6772213396790967,
           1.6772213396790967,
           1.6772213396790967,
           1.6772213396790967,
           1.6772213396790967,
           1.6772213396790967,
           1.6772213396790967,
           1.6772213396790967,
           1.6772213396790967,
           1.6772213396790967,
           1.6772213396790967,
           1.6772213396790967,
           1.6772213396790967,
           1.6772213396790967,
           1.6772213396790967,
           1.6772213396790967,
           1.6772213396790967
          ],
          [
           1.8926769009996471,
           1.8926769009996471,
           1.8926769009996471,
           1.8926769009996471,
           1.8926769009996471,
           1.8926769009996471,
           1.8926769009996471,
           1.8926769009996471,
           1.8926769009996471,
           1.8926769009996471,
           1.8926769009996471,
           1.8926769009996471,
           1.8926769009996471,
           1.8926769009996471,
           1.8926769009996471,
           1.8926769009996471,
           1.8926769009996471,
           1.8926769009996471,
           1.8926769009996471,
           1.8926769009996471,
           1.8926769009996471,
           1.8926769009996471,
           1.8926769009996471,
           1.8926769009996471,
           1.8926769009996471,
           1.8926769009996471,
           1.8926769009996471,
           1.8926769009996471,
           1.8926769009996471,
           1.8926769009996471
          ],
          [
           2.1081324623201967,
           2.1081324623201967,
           2.1081324623201967,
           2.1081324623201967,
           2.1081324623201967,
           2.1081324623201967,
           2.1081324623201967,
           2.1081324623201967,
           2.1081324623201967,
           2.1081324623201967,
           2.1081324623201967,
           2.1081324623201967,
           2.1081324623201967,
           2.1081324623201967,
           2.1081324623201967,
           2.1081324623201967,
           2.1081324623201967,
           2.1081324623201967,
           2.1081324623201967,
           2.1081324623201967,
           2.1081324623201967,
           2.1081324623201967,
           2.1081324623201967,
           2.1081324623201967,
           2.1081324623201967,
           2.1081324623201967,
           2.1081324623201967,
           2.1081324623201967,
           2.1081324623201967,
           2.1081324623201967
          ],
          [
           2.323588023640747,
           2.323588023640747,
           2.323588023640747,
           2.323588023640747,
           2.323588023640747,
           2.323588023640747,
           2.323588023640747,
           2.323588023640747,
           2.323588023640747,
           2.323588023640747,
           2.323588023640747,
           2.323588023640747,
           2.323588023640747,
           2.323588023640747,
           2.323588023640747,
           2.323588023640747,
           2.323588023640747,
           2.323588023640747,
           2.323588023640747,
           2.323588023640747,
           2.323588023640747,
           2.323588023640747,
           2.323588023640747,
           2.323588023640747,
           2.323588023640747,
           2.323588023640747,
           2.323588023640747,
           2.323588023640747,
           2.323588023640747,
           2.323588023640747
          ],
          [
           2.5390435849612967,
           2.5390435849612967,
           2.5390435849612967,
           2.5390435849612967,
           2.5390435849612967,
           2.5390435849612967,
           2.5390435849612967,
           2.5390435849612967,
           2.5390435849612967,
           2.5390435849612967,
           2.5390435849612967,
           2.5390435849612967,
           2.5390435849612967,
           2.5390435849612967,
           2.5390435849612967,
           2.5390435849612967,
           2.5390435849612967,
           2.5390435849612967,
           2.5390435849612967,
           2.5390435849612967,
           2.5390435849612967,
           2.5390435849612967,
           2.5390435849612967,
           2.5390435849612967,
           2.5390435849612967,
           2.5390435849612967,
           2.5390435849612967,
           2.5390435849612967,
           2.5390435849612967,
           2.5390435849612967
          ],
          [
           2.754499146281847,
           2.754499146281847,
           2.754499146281847,
           2.754499146281847,
           2.754499146281847,
           2.754499146281847,
           2.754499146281847,
           2.754499146281847,
           2.754499146281847,
           2.754499146281847,
           2.754499146281847,
           2.754499146281847,
           2.754499146281847,
           2.754499146281847,
           2.754499146281847,
           2.754499146281847,
           2.754499146281847,
           2.754499146281847,
           2.754499146281847,
           2.754499146281847,
           2.754499146281847,
           2.754499146281847,
           2.754499146281847,
           2.754499146281847,
           2.754499146281847,
           2.754499146281847,
           2.754499146281847,
           2.754499146281847,
           2.754499146281847,
           2.754499146281847
          ],
          [
           2.9699547076023967,
           2.9699547076023967,
           2.9699547076023967,
           2.9699547076023967,
           2.9699547076023967,
           2.9699547076023967,
           2.9699547076023967,
           2.9699547076023967,
           2.9699547076023967,
           2.9699547076023967,
           2.9699547076023967,
           2.9699547076023967,
           2.9699547076023967,
           2.9699547076023967,
           2.9699547076023967,
           2.9699547076023967,
           2.9699547076023967,
           2.9699547076023967,
           2.9699547076023967,
           2.9699547076023967,
           2.9699547076023967,
           2.9699547076023967,
           2.9699547076023967,
           2.9699547076023967,
           2.9699547076023967,
           2.9699547076023967,
           2.9699547076023967,
           2.9699547076023967,
           2.9699547076023967,
           2.9699547076023967
          ]
         ],
         "y": [
          [
           -3.6503320581970007,
           -3.429129374993609,
           -3.2079266917902176,
           -2.986724008586826,
           -2.7655213253834345,
           -2.544318642180043,
           -2.3231159589766515,
           -2.10191327577326,
           -1.8807105925698684,
           -1.6595079093664769,
           -1.4383052261630853,
           -1.2171025429596938,
           -0.9958998597563022,
           -0.7746971765529107,
           -0.5534944933495192,
           -0.33229181014612763,
           -0.1110891269427361,
           0.11011355626065544,
           0.331316239464047,
           0.5525189226674385,
           0.77372160587083,
           0.9949242890742216,
           1.2161269722776131,
           1.4373296554810047,
           1.6585323386843962,
           1.8797350218877877,
           2.1009377050911793,
           2.322140388294571,
           2.5433430714979623,
           2.764545754701354
          ],
          [
           -3.6503320581970007,
           -3.429129374993609,
           -3.2079266917902176,
           -2.986724008586826,
           -2.7655213253834345,
           -2.544318642180043,
           -2.3231159589766515,
           -2.10191327577326,
           -1.8807105925698684,
           -1.6595079093664769,
           -1.4383052261630853,
           -1.2171025429596938,
           -0.9958998597563022,
           -0.7746971765529107,
           -0.5534944933495192,
           -0.33229181014612763,
           -0.1110891269427361,
           0.11011355626065544,
           0.331316239464047,
           0.5525189226674385,
           0.77372160587083,
           0.9949242890742216,
           1.2161269722776131,
           1.4373296554810047,
           1.6585323386843962,
           1.8797350218877877,
           2.1009377050911793,
           2.322140388294571,
           2.5433430714979623,
           2.764545754701354
          ],
          [
           -3.6503320581970007,
           -3.429129374993609,
           -3.2079266917902176,
           -2.986724008586826,
           -2.7655213253834345,
           -2.544318642180043,
           -2.3231159589766515,
           -2.10191327577326,
           -1.8807105925698684,
           -1.6595079093664769,
           -1.4383052261630853,
           -1.2171025429596938,
           -0.9958998597563022,
           -0.7746971765529107,
           -0.5534944933495192,
           -0.33229181014612763,
           -0.1110891269427361,
           0.11011355626065544,
           0.331316239464047,
           0.5525189226674385,
           0.77372160587083,
           0.9949242890742216,
           1.2161269722776131,
           1.4373296554810047,
           1.6585323386843962,
           1.8797350218877877,
           2.1009377050911793,
           2.322140388294571,
           2.5433430714979623,
           2.764545754701354
          ],
          [
           -3.6503320581970007,
           -3.429129374993609,
           -3.2079266917902176,
           -2.986724008586826,
           -2.7655213253834345,
           -2.544318642180043,
           -2.3231159589766515,
           -2.10191327577326,
           -1.8807105925698684,
           -1.6595079093664769,
           -1.4383052261630853,
           -1.2171025429596938,
           -0.9958998597563022,
           -0.7746971765529107,
           -0.5534944933495192,
           -0.33229181014612763,
           -0.1110891269427361,
           0.11011355626065544,
           0.331316239464047,
           0.5525189226674385,
           0.77372160587083,
           0.9949242890742216,
           1.2161269722776131,
           1.4373296554810047,
           1.6585323386843962,
           1.8797350218877877,
           2.1009377050911793,
           2.322140388294571,
           2.5433430714979623,
           2.764545754701354
          ],
          [
           -3.6503320581970007,
           -3.429129374993609,
           -3.2079266917902176,
           -2.986724008586826,
           -2.7655213253834345,
           -2.544318642180043,
           -2.3231159589766515,
           -2.10191327577326,
           -1.8807105925698684,
           -1.6595079093664769,
           -1.4383052261630853,
           -1.2171025429596938,
           -0.9958998597563022,
           -0.7746971765529107,
           -0.5534944933495192,
           -0.33229181014612763,
           -0.1110891269427361,
           0.11011355626065544,
           0.331316239464047,
           0.5525189226674385,
           0.77372160587083,
           0.9949242890742216,
           1.2161269722776131,
           1.4373296554810047,
           1.6585323386843962,
           1.8797350218877877,
           2.1009377050911793,
           2.322140388294571,
           2.5433430714979623,
           2.764545754701354
          ],
          [
           -3.6503320581970007,
           -3.429129374993609,
           -3.2079266917902176,
           -2.986724008586826,
           -2.7655213253834345,
           -2.544318642180043,
           -2.3231159589766515,
           -2.10191327577326,
           -1.8807105925698684,
           -1.6595079093664769,
           -1.4383052261630853,
           -1.2171025429596938,
           -0.9958998597563022,
           -0.7746971765529107,
           -0.5534944933495192,
           -0.33229181014612763,
           -0.1110891269427361,
           0.11011355626065544,
           0.331316239464047,
           0.5525189226674385,
           0.77372160587083,
           0.9949242890742216,
           1.2161269722776131,
           1.4373296554810047,
           1.6585323386843962,
           1.8797350218877877,
           2.1009377050911793,
           2.322140388294571,
           2.5433430714979623,
           2.764545754701354
          ],
          [
           -3.6503320581970007,
           -3.429129374993609,
           -3.2079266917902176,
           -2.986724008586826,
           -2.7655213253834345,
           -2.544318642180043,
           -2.3231159589766515,
           -2.10191327577326,
           -1.8807105925698684,
           -1.6595079093664769,
           -1.4383052261630853,
           -1.2171025429596938,
           -0.9958998597563022,
           -0.7746971765529107,
           -0.5534944933495192,
           -0.33229181014612763,
           -0.1110891269427361,
           0.11011355626065544,
           0.331316239464047,
           0.5525189226674385,
           0.77372160587083,
           0.9949242890742216,
           1.2161269722776131,
           1.4373296554810047,
           1.6585323386843962,
           1.8797350218877877,
           2.1009377050911793,
           2.322140388294571,
           2.5433430714979623,
           2.764545754701354
          ],
          [
           -3.6503320581970007,
           -3.429129374993609,
           -3.2079266917902176,
           -2.986724008586826,
           -2.7655213253834345,
           -2.544318642180043,
           -2.3231159589766515,
           -2.10191327577326,
           -1.8807105925698684,
           -1.6595079093664769,
           -1.4383052261630853,
           -1.2171025429596938,
           -0.9958998597563022,
           -0.7746971765529107,
           -0.5534944933495192,
           -0.33229181014612763,
           -0.1110891269427361,
           0.11011355626065544,
           0.331316239464047,
           0.5525189226674385,
           0.77372160587083,
           0.9949242890742216,
           1.2161269722776131,
           1.4373296554810047,
           1.6585323386843962,
           1.8797350218877877,
           2.1009377050911793,
           2.322140388294571,
           2.5433430714979623,
           2.764545754701354
          ],
          [
           -3.6503320581970007,
           -3.429129374993609,
           -3.2079266917902176,
           -2.986724008586826,
           -2.7655213253834345,
           -2.544318642180043,
           -2.3231159589766515,
           -2.10191327577326,
           -1.8807105925698684,
           -1.6595079093664769,
           -1.4383052261630853,
           -1.2171025429596938,
           -0.9958998597563022,
           -0.7746971765529107,
           -0.5534944933495192,
           -0.33229181014612763,
           -0.1110891269427361,
           0.11011355626065544,
           0.331316239464047,
           0.5525189226674385,
           0.77372160587083,
           0.9949242890742216,
           1.2161269722776131,
           1.4373296554810047,
           1.6585323386843962,
           1.8797350218877877,
           2.1009377050911793,
           2.322140388294571,
           2.5433430714979623,
           2.764545754701354
          ],
          [
           -3.6503320581970007,
           -3.429129374993609,
           -3.2079266917902176,
           -2.986724008586826,
           -2.7655213253834345,
           -2.544318642180043,
           -2.3231159589766515,
           -2.10191327577326,
           -1.8807105925698684,
           -1.6595079093664769,
           -1.4383052261630853,
           -1.2171025429596938,
           -0.9958998597563022,
           -0.7746971765529107,
           -0.5534944933495192,
           -0.33229181014612763,
           -0.1110891269427361,
           0.11011355626065544,
           0.331316239464047,
           0.5525189226674385,
           0.77372160587083,
           0.9949242890742216,
           1.2161269722776131,
           1.4373296554810047,
           1.6585323386843962,
           1.8797350218877877,
           2.1009377050911793,
           2.322140388294571,
           2.5433430714979623,
           2.764545754701354
          ],
          [
           -3.6503320581970007,
           -3.429129374993609,
           -3.2079266917902176,
           -2.986724008586826,
           -2.7655213253834345,
           -2.544318642180043,
           -2.3231159589766515,
           -2.10191327577326,
           -1.8807105925698684,
           -1.6595079093664769,
           -1.4383052261630853,
           -1.2171025429596938,
           -0.9958998597563022,
           -0.7746971765529107,
           -0.5534944933495192,
           -0.33229181014612763,
           -0.1110891269427361,
           0.11011355626065544,
           0.331316239464047,
           0.5525189226674385,
           0.77372160587083,
           0.9949242890742216,
           1.2161269722776131,
           1.4373296554810047,
           1.6585323386843962,
           1.8797350218877877,
           2.1009377050911793,
           2.322140388294571,
           2.5433430714979623,
           2.764545754701354
          ],
          [
           -3.6503320581970007,
           -3.429129374993609,
           -3.2079266917902176,
           -2.986724008586826,
           -2.7655213253834345,
           -2.544318642180043,
           -2.3231159589766515,
           -2.10191327577326,
           -1.8807105925698684,
           -1.6595079093664769,
           -1.4383052261630853,
           -1.2171025429596938,
           -0.9958998597563022,
           -0.7746971765529107,
           -0.5534944933495192,
           -0.33229181014612763,
           -0.1110891269427361,
           0.11011355626065544,
           0.331316239464047,
           0.5525189226674385,
           0.77372160587083,
           0.9949242890742216,
           1.2161269722776131,
           1.4373296554810047,
           1.6585323386843962,
           1.8797350218877877,
           2.1009377050911793,
           2.322140388294571,
           2.5433430714979623,
           2.764545754701354
          ],
          [
           -3.6503320581970007,
           -3.429129374993609,
           -3.2079266917902176,
           -2.986724008586826,
           -2.7655213253834345,
           -2.544318642180043,
           -2.3231159589766515,
           -2.10191327577326,
           -1.8807105925698684,
           -1.6595079093664769,
           -1.4383052261630853,
           -1.2171025429596938,
           -0.9958998597563022,
           -0.7746971765529107,
           -0.5534944933495192,
           -0.33229181014612763,
           -0.1110891269427361,
           0.11011355626065544,
           0.331316239464047,
           0.5525189226674385,
           0.77372160587083,
           0.9949242890742216,
           1.2161269722776131,
           1.4373296554810047,
           1.6585323386843962,
           1.8797350218877877,
           2.1009377050911793,
           2.322140388294571,
           2.5433430714979623,
           2.764545754701354
          ],
          [
           -3.6503320581970007,
           -3.429129374993609,
           -3.2079266917902176,
           -2.986724008586826,
           -2.7655213253834345,
           -2.544318642180043,
           -2.3231159589766515,
           -2.10191327577326,
           -1.8807105925698684,
           -1.6595079093664769,
           -1.4383052261630853,
           -1.2171025429596938,
           -0.9958998597563022,
           -0.7746971765529107,
           -0.5534944933495192,
           -0.33229181014612763,
           -0.1110891269427361,
           0.11011355626065544,
           0.331316239464047,
           0.5525189226674385,
           0.77372160587083,
           0.9949242890742216,
           1.2161269722776131,
           1.4373296554810047,
           1.6585323386843962,
           1.8797350218877877,
           2.1009377050911793,
           2.322140388294571,
           2.5433430714979623,
           2.764545754701354
          ],
          [
           -3.6503320581970007,
           -3.429129374993609,
           -3.2079266917902176,
           -2.986724008586826,
           -2.7655213253834345,
           -2.544318642180043,
           -2.3231159589766515,
           -2.10191327577326,
           -1.8807105925698684,
           -1.6595079093664769,
           -1.4383052261630853,
           -1.2171025429596938,
           -0.9958998597563022,
           -0.7746971765529107,
           -0.5534944933495192,
           -0.33229181014612763,
           -0.1110891269427361,
           0.11011355626065544,
           0.331316239464047,
           0.5525189226674385,
           0.77372160587083,
           0.9949242890742216,
           1.2161269722776131,
           1.4373296554810047,
           1.6585323386843962,
           1.8797350218877877,
           2.1009377050911793,
           2.322140388294571,
           2.5433430714979623,
           2.764545754701354
          ],
          [
           -3.6503320581970007,
           -3.429129374993609,
           -3.2079266917902176,
           -2.986724008586826,
           -2.7655213253834345,
           -2.544318642180043,
           -2.3231159589766515,
           -2.10191327577326,
           -1.8807105925698684,
           -1.6595079093664769,
           -1.4383052261630853,
           -1.2171025429596938,
           -0.9958998597563022,
           -0.7746971765529107,
           -0.5534944933495192,
           -0.33229181014612763,
           -0.1110891269427361,
           0.11011355626065544,
           0.331316239464047,
           0.5525189226674385,
           0.77372160587083,
           0.9949242890742216,
           1.2161269722776131,
           1.4373296554810047,
           1.6585323386843962,
           1.8797350218877877,
           2.1009377050911793,
           2.322140388294571,
           2.5433430714979623,
           2.764545754701354
          ],
          [
           -3.6503320581970007,
           -3.429129374993609,
           -3.2079266917902176,
           -2.986724008586826,
           -2.7655213253834345,
           -2.544318642180043,
           -2.3231159589766515,
           -2.10191327577326,
           -1.8807105925698684,
           -1.6595079093664769,
           -1.4383052261630853,
           -1.2171025429596938,
           -0.9958998597563022,
           -0.7746971765529107,
           -0.5534944933495192,
           -0.33229181014612763,
           -0.1110891269427361,
           0.11011355626065544,
           0.331316239464047,
           0.5525189226674385,
           0.77372160587083,
           0.9949242890742216,
           1.2161269722776131,
           1.4373296554810047,
           1.6585323386843962,
           1.8797350218877877,
           2.1009377050911793,
           2.322140388294571,
           2.5433430714979623,
           2.764545754701354
          ],
          [
           -3.6503320581970007,
           -3.429129374993609,
           -3.2079266917902176,
           -2.986724008586826,
           -2.7655213253834345,
           -2.544318642180043,
           -2.3231159589766515,
           -2.10191327577326,
           -1.8807105925698684,
           -1.6595079093664769,
           -1.4383052261630853,
           -1.2171025429596938,
           -0.9958998597563022,
           -0.7746971765529107,
           -0.5534944933495192,
           -0.33229181014612763,
           -0.1110891269427361,
           0.11011355626065544,
           0.331316239464047,
           0.5525189226674385,
           0.77372160587083,
           0.9949242890742216,
           1.2161269722776131,
           1.4373296554810047,
           1.6585323386843962,
           1.8797350218877877,
           2.1009377050911793,
           2.322140388294571,
           2.5433430714979623,
           2.764545754701354
          ],
          [
           -3.6503320581970007,
           -3.429129374993609,
           -3.2079266917902176,
           -2.986724008586826,
           -2.7655213253834345,
           -2.544318642180043,
           -2.3231159589766515,
           -2.10191327577326,
           -1.8807105925698684,
           -1.6595079093664769,
           -1.4383052261630853,
           -1.2171025429596938,
           -0.9958998597563022,
           -0.7746971765529107,
           -0.5534944933495192,
           -0.33229181014612763,
           -0.1110891269427361,
           0.11011355626065544,
           0.331316239464047,
           0.5525189226674385,
           0.77372160587083,
           0.9949242890742216,
           1.2161269722776131,
           1.4373296554810047,
           1.6585323386843962,
           1.8797350218877877,
           2.1009377050911793,
           2.322140388294571,
           2.5433430714979623,
           2.764545754701354
          ],
          [
           -3.6503320581970007,
           -3.429129374993609,
           -3.2079266917902176,
           -2.986724008586826,
           -2.7655213253834345,
           -2.544318642180043,
           -2.3231159589766515,
           -2.10191327577326,
           -1.8807105925698684,
           -1.6595079093664769,
           -1.4383052261630853,
           -1.2171025429596938,
           -0.9958998597563022,
           -0.7746971765529107,
           -0.5534944933495192,
           -0.33229181014612763,
           -0.1110891269427361,
           0.11011355626065544,
           0.331316239464047,
           0.5525189226674385,
           0.77372160587083,
           0.9949242890742216,
           1.2161269722776131,
           1.4373296554810047,
           1.6585323386843962,
           1.8797350218877877,
           2.1009377050911793,
           2.322140388294571,
           2.5433430714979623,
           2.764545754701354
          ],
          [
           -3.6503320581970007,
           -3.429129374993609,
           -3.2079266917902176,
           -2.986724008586826,
           -2.7655213253834345,
           -2.544318642180043,
           -2.3231159589766515,
           -2.10191327577326,
           -1.8807105925698684,
           -1.6595079093664769,
           -1.4383052261630853,
           -1.2171025429596938,
           -0.9958998597563022,
           -0.7746971765529107,
           -0.5534944933495192,
           -0.33229181014612763,
           -0.1110891269427361,
           0.11011355626065544,
           0.331316239464047,
           0.5525189226674385,
           0.77372160587083,
           0.9949242890742216,
           1.2161269722776131,
           1.4373296554810047,
           1.6585323386843962,
           1.8797350218877877,
           2.1009377050911793,
           2.322140388294571,
           2.5433430714979623,
           2.764545754701354
          ],
          [
           -3.6503320581970007,
           -3.429129374993609,
           -3.2079266917902176,
           -2.986724008586826,
           -2.7655213253834345,
           -2.544318642180043,
           -2.3231159589766515,
           -2.10191327577326,
           -1.8807105925698684,
           -1.6595079093664769,
           -1.4383052261630853,
           -1.2171025429596938,
           -0.9958998597563022,
           -0.7746971765529107,
           -0.5534944933495192,
           -0.33229181014612763,
           -0.1110891269427361,
           0.11011355626065544,
           0.331316239464047,
           0.5525189226674385,
           0.77372160587083,
           0.9949242890742216,
           1.2161269722776131,
           1.4373296554810047,
           1.6585323386843962,
           1.8797350218877877,
           2.1009377050911793,
           2.322140388294571,
           2.5433430714979623,
           2.764545754701354
          ],
          [
           -3.6503320581970007,
           -3.429129374993609,
           -3.2079266917902176,
           -2.986724008586826,
           -2.7655213253834345,
           -2.544318642180043,
           -2.3231159589766515,
           -2.10191327577326,
           -1.8807105925698684,
           -1.6595079093664769,
           -1.4383052261630853,
           -1.2171025429596938,
           -0.9958998597563022,
           -0.7746971765529107,
           -0.5534944933495192,
           -0.33229181014612763,
           -0.1110891269427361,
           0.11011355626065544,
           0.331316239464047,
           0.5525189226674385,
           0.77372160587083,
           0.9949242890742216,
           1.2161269722776131,
           1.4373296554810047,
           1.6585323386843962,
           1.8797350218877877,
           2.1009377050911793,
           2.322140388294571,
           2.5433430714979623,
           2.764545754701354
          ],
          [
           -3.6503320581970007,
           -3.429129374993609,
           -3.2079266917902176,
           -2.986724008586826,
           -2.7655213253834345,
           -2.544318642180043,
           -2.3231159589766515,
           -2.10191327577326,
           -1.8807105925698684,
           -1.6595079093664769,
           -1.4383052261630853,
           -1.2171025429596938,
           -0.9958998597563022,
           -0.7746971765529107,
           -0.5534944933495192,
           -0.33229181014612763,
           -0.1110891269427361,
           0.11011355626065544,
           0.331316239464047,
           0.5525189226674385,
           0.77372160587083,
           0.9949242890742216,
           1.2161269722776131,
           1.4373296554810047,
           1.6585323386843962,
           1.8797350218877877,
           2.1009377050911793,
           2.322140388294571,
           2.5433430714979623,
           2.764545754701354
          ],
          [
           -3.6503320581970007,
           -3.429129374993609,
           -3.2079266917902176,
           -2.986724008586826,
           -2.7655213253834345,
           -2.544318642180043,
           -2.3231159589766515,
           -2.10191327577326,
           -1.8807105925698684,
           -1.6595079093664769,
           -1.4383052261630853,
           -1.2171025429596938,
           -0.9958998597563022,
           -0.7746971765529107,
           -0.5534944933495192,
           -0.33229181014612763,
           -0.1110891269427361,
           0.11011355626065544,
           0.331316239464047,
           0.5525189226674385,
           0.77372160587083,
           0.9949242890742216,
           1.2161269722776131,
           1.4373296554810047,
           1.6585323386843962,
           1.8797350218877877,
           2.1009377050911793,
           2.322140388294571,
           2.5433430714979623,
           2.764545754701354
          ],
          [
           -3.6503320581970007,
           -3.429129374993609,
           -3.2079266917902176,
           -2.986724008586826,
           -2.7655213253834345,
           -2.544318642180043,
           -2.3231159589766515,
           -2.10191327577326,
           -1.8807105925698684,
           -1.6595079093664769,
           -1.4383052261630853,
           -1.2171025429596938,
           -0.9958998597563022,
           -0.7746971765529107,
           -0.5534944933495192,
           -0.33229181014612763,
           -0.1110891269427361,
           0.11011355626065544,
           0.331316239464047,
           0.5525189226674385,
           0.77372160587083,
           0.9949242890742216,
           1.2161269722776131,
           1.4373296554810047,
           1.6585323386843962,
           1.8797350218877877,
           2.1009377050911793,
           2.322140388294571,
           2.5433430714979623,
           2.764545754701354
          ],
          [
           -3.6503320581970007,
           -3.429129374993609,
           -3.2079266917902176,
           -2.986724008586826,
           -2.7655213253834345,
           -2.544318642180043,
           -2.3231159589766515,
           -2.10191327577326,
           -1.8807105925698684,
           -1.6595079093664769,
           -1.4383052261630853,
           -1.2171025429596938,
           -0.9958998597563022,
           -0.7746971765529107,
           -0.5534944933495192,
           -0.33229181014612763,
           -0.1110891269427361,
           0.11011355626065544,
           0.331316239464047,
           0.5525189226674385,
           0.77372160587083,
           0.9949242890742216,
           1.2161269722776131,
           1.4373296554810047,
           1.6585323386843962,
           1.8797350218877877,
           2.1009377050911793,
           2.322140388294571,
           2.5433430714979623,
           2.764545754701354
          ],
          [
           -3.6503320581970007,
           -3.429129374993609,
           -3.2079266917902176,
           -2.986724008586826,
           -2.7655213253834345,
           -2.544318642180043,
           -2.3231159589766515,
           -2.10191327577326,
           -1.8807105925698684,
           -1.6595079093664769,
           -1.4383052261630853,
           -1.2171025429596938,
           -0.9958998597563022,
           -0.7746971765529107,
           -0.5534944933495192,
           -0.33229181014612763,
           -0.1110891269427361,
           0.11011355626065544,
           0.331316239464047,
           0.5525189226674385,
           0.77372160587083,
           0.9949242890742216,
           1.2161269722776131,
           1.4373296554810047,
           1.6585323386843962,
           1.8797350218877877,
           2.1009377050911793,
           2.322140388294571,
           2.5433430714979623,
           2.764545754701354
          ],
          [
           -3.6503320581970007,
           -3.429129374993609,
           -3.2079266917902176,
           -2.986724008586826,
           -2.7655213253834345,
           -2.544318642180043,
           -2.3231159589766515,
           -2.10191327577326,
           -1.8807105925698684,
           -1.6595079093664769,
           -1.4383052261630853,
           -1.2171025429596938,
           -0.9958998597563022,
           -0.7746971765529107,
           -0.5534944933495192,
           -0.33229181014612763,
           -0.1110891269427361,
           0.11011355626065544,
           0.331316239464047,
           0.5525189226674385,
           0.77372160587083,
           0.9949242890742216,
           1.2161269722776131,
           1.4373296554810047,
           1.6585323386843962,
           1.8797350218877877,
           2.1009377050911793,
           2.322140388294571,
           2.5433430714979623,
           2.764545754701354
          ],
          [
           -3.6503320581970007,
           -3.429129374993609,
           -3.2079266917902176,
           -2.986724008586826,
           -2.7655213253834345,
           -2.544318642180043,
           -2.3231159589766515,
           -2.10191327577326,
           -1.8807105925698684,
           -1.6595079093664769,
           -1.4383052261630853,
           -1.2171025429596938,
           -0.9958998597563022,
           -0.7746971765529107,
           -0.5534944933495192,
           -0.33229181014612763,
           -0.1110891269427361,
           0.11011355626065544,
           0.331316239464047,
           0.5525189226674385,
           0.77372160587083,
           0.9949242890742216,
           1.2161269722776131,
           1.4373296554810047,
           1.6585323386843962,
           1.8797350218877877,
           2.1009377050911793,
           2.322140388294571,
           2.5433430714979623,
           2.764545754701354
          ]
         ],
         "z": [
          [
           138.71516994593884,
           116.60099497411818,
           98.92176560434649,
           85.05224766686426,
           74.4285576059774,
           66.5445900525491,
           60.94844539649176,
           57.23885735925884,
           55.061620566336586,
           54.1060181197362,
           54.101249170485374,
           54.812856491120385,
           56.039154048177835,
           57.60765457468657,
           59.37149714265954,
           61.20587473558564,
           63.00446182092166,
           64.67584192258403,
           66.13993519344073,
           67.32442598780321,
           68.16119043391821,
           68.5827240064596,
           68.51856909902028,
           67.89174259660409,
           66.61516344811757,
           64.5880802388619,
           61.69249876302472,
           57.78960959617213,
           52.71621566774026,
           46.28115983352756
          ],
          [
           129.65364946330737,
           107.60512620391029,
           89.87568539319246,
           75.85410314326981,
           64.98999164430641,
           56.79022673700612,
           50.81537548510444,
           46.67612374786051,
           44.02970375254883,
           42.57632166695125,
           42.055585171848755,
           42.242931033513344,
           42.94605267619993,
           44.001327754638176,
           45.27024572652439,
           46.63583542501329,
           47.99909263121005,
           49.275407646661975,
           50.39099286585051,
           51.27931034868304,
           51.87749939298477,
           52.12280410699055,
           51.949000981836825,
           51.28282646405346,
           50.04040452805552,
           48.123674248635325,
           45.416817373454094,
           41.782685895534016,
           37.05922962574997,
           31.055923765321474
          ],
          [
           121.66449745455094,
           99.82170736016533,
           82.18037413411236,
           68.14293782853149,
           57.172160037592704,
           48.78755146998832,
           42.56179952142487,
           38.11719584711499,
           35.12206393426924,
           33.287186674588,
           32.36223393675337,
           32.13219013892097,
           32.41378182121179,
           33.05190521820419,
           33.916053831425636,
           34.896746001844555,
           35.901952482362304,
           36.853524010305,
           37.68361887991532,
           38.33113051484444,
           38.73811504064386,
           38.84621885725728,
           38.59310621151253,
           37.908886769613275,
           36.71254318963107,
           34.90835869399711,
           32.38234464199407,
           28.998668102248114,
           24.59607942522061,
           18.984339815700068
          ],
          [
           114.54844232283779,
           93.0333207059426,
           75.60087869097283,
           61.666873928239255,
           50.706871074065596,
           42.252669363280525,
           35.88873018170938,
           31.248604638666148,
           28.01136113944531,
           25.89801295781364,
           24.66794580850215,
           24.115345419697913,
           24.065625105535922,
           24.371853338591006,
           24.911181322369632,
           25.58127056380181,
           26.296720445732944,
           26.985495799415727,
           27.585354477001953,
           28.040274924034417,
           28.296883751938793,
           28.300883310515463,
           27.99347926043142,
           27.307808145712084,
           26.16536496623325,
           24.472430750212848,
           22.1165001267029,
           18.962708898081342,
           14.850261612543893,
           9.588859136595905
          ],
          [
           108.13426100323616,
           87.05107736361725,
           69.93125511437196,
           56.20352316213015,
           45.35590288351716,
           36.93213569764584,
           30.5281106386082,
           25.788291927967443,
           22.402146547249757,
           20.100571810436165,
           18.65232293645446,
           17.86044062167099,
           17.55867861238259,
           17.6079312773084,
           17.89266118008177,
           18.317326651742086,
           18.802809363226668,
           19.28284189786262,
           19.700435323858688,
           20.004306766797153,
           20.14530698212568,
           20.07284792764917,
           19.731330336021657,
           19.05657128723814,
           17.97223178112647,
           16.386244309839206,
           14.187240430345511,
           11.240978336922957,
           7.386770433649445,
           2.433910906895038
          ],
          [
           102.27793496852237,
           81.71377332068815,
           64.99372464744712,
           51.5591427698961,
           40.91015944311001,
           32.60211192863359,
           26.241970566973432,
           21.484766350089764,
           18.03001849388834,
           15.61816201071229,
           14.026975281833993,
           13.068007629946957,
           12.583006891657664,
           12.44034698997744,
           12.53145550681433,
           12.767241255464953,
           13.074521853106372,
           13.392451293287964,
           13.66894751842328,
           13.857119992281905,
           13.911697272481343,
           13.785454582978865,
           13.425641386563374,
           12.770408957347287,
           11.745237953258387,
           10.259365988531687,
           8.20221520620131,
           5.439819850592334,
           1.8112538398126832,
           -2.874941661755037
          ],
          [
           96.86180623498862,
           76.88704543558549,
           60.6378297316827,
           47.56779151699183,
           37.18882658318508,
           29.067521692387096,
           22.82158214966678,
           18.11625937552929,
           14.66077847840776,
           12.204765827155272,
           10.534676623536663,
           9.470222474720407,
           8.860798965770488,
           8.58191323213826,
           8.531611532154304,
           8.626906819520318,
           8.800206315800954,
           8.9957390829157,
           9.165983595630744,
           9.268095314050832,
           9.260334256111141,
           9.098492570069158,
           8.73232210699651,
           8.101961993270855,
           7.1343662030677555,
           5.739731130852515,
           3.8079231638720747,
           1.2049062546468576,
           -2.230830506537361,
           -6.6918453191375775
          ],
          [
           91.79373336825063,
           72.46252744347885,
           56.73959001271806,
           44.090485700442485,
           34.038527993069515,
           26.161206811451436,
           20.086616083367396,
           15.489881316015259,
           12.089587168503424,
           9.644205024342746,
           7.9485205639383505,
           6.830061337081544,
           6.145524335441645,
           5.777203565057877,
           5.629417618831215,
           5.624937249016255,
           5.701412939713093,
           5.807802479359167,
           5.900798533221143,
           5.941256215886775,
           5.890620663756764,
           5.707354607536634,
           5.3433659447285855,
           4.740435312123377,
           3.8266436582921703,
           2.5127998160784184,
           0.688868075089716,
           -1.7796042458103347,
           -5.055059226010247,
           -9.331500770658792
          ],
          [
           87.00624748905571,
           68.3570059620849,
           53.200658346155336,
           41.014355154651746,
           31.332481226884504,
           23.743083300581446,
           17.884297584379773,
           13.440777330317907,
           10.140120406327345,
           7.749296868724558,
           6.071076534702817,
           4.940456554824083,
           4.221088985510872,
           3.801708361538109,
           3.5925592685249956,
           3.521823915426891,
           3.5320497070271566,
           3.5765768164290352,
           3.6159657575475164,
           3.6144249576011904,
           3.5362383296041306,
           3.3421928448577445,
           2.98600610544265,
           2.4107539167105343,
           1.5452978597760203,
           0.30071286400853925,
           -1.4332852204758153,
           -3.7919120503224115,
           -6.93888721644622,
           -11.070006671539943
          ],
          [
           82.45570827909054,
           64.51157649747529,
           49.947476803367266,
           38.251799257209484,
           28.96965370935314,
           21.699297372549474,
           16.08856239444156,
           11.831283430056237,
           8.663725214295951,
           6.361010134430621,
           4.733545802589508,
           3.623452628253077,
           2.900991390744868,
           2.4609908117233577,
           2.219275127673825,
           2.1090916624002207,
           2.0775383995170245,
           2.081991554941124,
           2.086533149383667,
           2.058378580841934,
           1.9643041970912047,
           1.7670748681766193,
           1.4218715589050492,
           0.8727189013369582,
           0.04891276727826965,
           -1.1385521592277668,
           -2.80055480940871,
           -5.0734201572710615,
           -8.122491647108403,
           -12.145703621009524
          ],
          [
           78.12145998678889,
           60.89079944988455,
           46.93043267730506,
           35.73964293469966,
           26.873918741608236,
           19.941381443953198,
           14.599212786531389,
           10.550082485505898,
           7.538575800897947,
           5.3476211090787595,
           3.7949174752614203,
           2.7293622259927446,
           2.0274785216451416,
           1.58984292890848,
           1.3375129932819556,
           1.2084548115659555,
           1.1539706043539235,
           1.1351262885242273,
           1.1191790497320215,
           1.0760049149011168,
           0.9745263247158427,
           0.7791397061129137,
           0.44614304477329714,
           -0.07983654238592408,
           -0.8694152347196848,
           -2.012024935363071,
           -3.6194856987394544,
           -5.829578158068628,
           -8.80961595287494,
           -12.760018156495427
          ],
          [
           74.00498743313966,
           57.4818561195178,
           44.12301448830625,
           33.43829266850822,
           24.993211507000158,
           18.405410141023538,
           13.341073570676755,
           9.51136023140701,
           6.66882956650215,
           4.603869599582536,
           3.1411245070929272,
           2.135922190794325,
           1.4707018502558518,
           1.0514415553466128,
           0.804085818727561,
           0.6709731683433644,
           0.60726371991427,
           0.5773667494279705,
           0.5513682656314706,
           0.5014585825229502,
           0.39835989184363363,
           0.20775383556965155,
           -0.11329092159609039,
           -0.6198911197320477,
           -1.3829213312061703,
           -2.492586388184039,
           -4.061993810136995,
           -6.23072623135028,
           -9.168413828431166,
           -13.078306747817098
          ],
          [
           70.12907201749456,
           54.29370471235872,
           41.520967989902445,
           31.330892500630835,
           23.298685076904707,
           17.051156305432425,
           12.263148099761814,
           8.653961272772008,
           5.983783109165319,
           4.050114937959102,
           2.6841997049776203,
           1.7474495453439105,
           1.1278733559716494,
           0.7365043680570205,
           0.5038277195705774,
           0.3762080277491104,
           0.31231696158751276,
           0.27956081433064545,
           0.2505080759652034,
           0.19931700571158098,
           0.09816320451573748,
           -0.08633281245893683,
           -0.39667804333975565,
           -0.8880794270528702,
           -1.6320162708314045,
           -2.7198126777235885,
           -4.266209974100894,
           -6.412939137166168,
           -9.332293222461766,
           -13.230699791377688
          ],
          [
           66.53694772337607,
           51.35623634597729,
           39.141452174627275,
           29.422480039480813,
           21.783866416530923,
           15.861247000100702,
           11.337774275335253,
           7.940545090693481,
           5.4370282304400135,
           3.631491987137032,
           2.361431734136155,
           1.4939974980702915,
           0.9224215313455175,
           0.5624458846329359,
           0.3487499793605437,
           0.23137818020509637,
           0.1721673675839753,
           0.1411745101470523,
           0.11310423726855545,
           0.06373641153893511,
           -0.033646298743270846,
           -0.21183084707957117,
           -0.5132462362796558,
           -0.9935359459695297,
           -1.725130360099647,
           -2.800819194453048,
           -4.33732392415349,
           -6.4788702111735805,
           -9.40076033184292,
           -13.31294560435622
          ],
          [
           63.29145712428512,
           48.71943105533771,
           37.02219527982421,
           27.739142465696922,
           20.463812390728933,
           14.840319515005932,
           10.559780553418113,
           7.35674204815202,
           5.005607941182422,
           3.3170671467641757,
           2.1345211239240913,
           1.3305114489527985,
           0.8031473878966138,
           0.4725334690494015,
           0.2771970554444438,
           0.17051591734630445,
           0.1171458047426954,
           0.08944801983634154,
           0.06391698953684673,
           0.01760783795255966,
           -0.07543604111756094,
           -0.24775541169208012,
           -0.5420476231152217,
           -1.0147390375650018,
           -1.7395574575613644,
           -2.8111045534743138,
           -4.34842829103205,
           -6.498595358829105,
           -9.440263595834473,
           -13.387254418899747
          ],
          [
           60.47420738950912,
           46.452513798606205,
           35.22065079345434,
           26.327172537951213,
           19.374265769797812,
           14.014177372990245,
           9.945641950311654,
           6.910309395824054,
           4.6891724673602075,
           3.0989943590154843,
           1.9887362736397334,
           1.235984995329143,
           0.7433804619181114,
           0.4350433374711096,
           0.25300258477454696,
           0.15362303782863806,
           0.10403297433926728,
           0.07855168820985528,
           0.055117062033224126,
           0.0117131395834632,
           -0.07720230169220525,
           -0.2442701781815604,
           -0.5328025276155172,
           -1.0003549365762607,
           -1.722298968005381,
           -2.795394588712006,
           -4.341362596880938,
           -6.5104570495807845,
           -9.485037690272097,
           -13.483142376315504
          ],
          [
           58.18472628992969,
           44.643110462958866,
           33.8131534599043,
           25.2522245987569,
           18.5708112352934,
           13.428946335568181,
           9.532636048405173,
           6.630287277889698,
           4.509135255860354,
           2.9916711144008694,
           1.9320694583319726,
           1.2126159377032553,
           0.7401348202850404,
           0.4424165640602454,
           0.26464538971625057,
           0.16582685313676288,
           0.11521541789368257,
           0.08874202773896807,
           0.06544167909650211,
           0.023880993553957303,
           -0.061414209645338246,
           -0.2235313411105353,
           -0.5067434688113978,
           -0.9700817455864372,
           -1.6909078366510468,
           -2.768486347105637,
           -4.327557249443766,
           -6.5219083110602805,
           -9.537947521759444,
           -13.598275521263075
          ],
          [
           56.53961820383053,
           43.39640387038949,
           32.89407528579404,
           24.59847058027616,
           18.128031385836163,
           13.15023040873454,
           9.377999001983852,
           6.566154737840579,
           4.5078289802969955,
           3.0308944575730283,
           1.9943928346081292,
           1.2849622855531329,
           0.8132650662621288,
           0.5104150867843269,
           0.3244054838559194,
           0.21653619339194832,
           0.1578415229781716,
           0.1255177243629284,
           0.09935056594900431,
           0.05814290528549779,
           -0.02385773844031492,
           -0.1805316119111137,
           -0.457459155187669,
           -0.9154934292169759,
           -1.6343325433403897,
           -2.716092082801758,
           -4.288877536255558,
           -6.510356723275026,
           -9.571332221860299,
           -13.699313795946544
          ],
          [
           55.67172012270525,
           42.83428978351743,
           32.57498154578471,
           24.467756010128,
           18.138662742919013,
           13.2622678487722,
           9.558081543036607,
           6.786985724287698,
           4.7476615468192715,
           3.2730169931352986,
           2.22661444644179,
           1.4990982631386718,
           1.004622345311644,
           0.6772777132240467,
           0.4675200778087283,
           0.33859741315990816,
           0.2629775290250447,
           0.21877564329669982,
           0.18618195450440472,
           0.14388921430652585,
           0.06552029998213031,
           -0.08394421307714849,
           -0.3517384788752452,
           -0.8008838083197964,
           -1.513761096730276,
           -2.595683251346128,
           -4.178467618834903,
           -6.424008412800389,
           -9.527849141290751,
           -13.72275503430666
          ],
          [
           55.729257657065205,
           43.09453291139542,
           32.9837867883865,
           24.978756017196083,
           18.712751756715168,
           13.867087168059992,
           10.16750498706392,
           7.380605096769253,
           5.310272099919159,
           3.7941028914494836,
           2.699834230980653,
           1.921770315309519,
           1.3772103509012334,
           1.002876126381113,
           0.7513395850265028,
           0.5874503972586428,
           0.4847635331345336,
           0.42196683483880254,
           0.3793085891755689,
           0.33502510006030983,
           0.2617682610117252,
           0.12303312764360438,
           -0.13041450984330885,
           -0.5641105541694502,
           -1.2634650284845697,
           -2.3373345038758657,
           -3.9215945268761194,
           -6.182712046971828,
           -9.321317844111343,
           -13.575778956212996
          ],
          [
           56.875001042247376,
           44.32992291531747,
           34.263910841766474,
           26.266131337436597,
           19.97681081188599,
           15.083663140880512,
           11.318317238885685,
           8.4527446315585,
           6.295687028239315,
           4.689083894443716,
           3.5045000243543702,
           2.639553113312906,
           2.014341330311769,
           1.5678708904860932,
           1.2544836276055626,
           1.0402845665662805,
           0.8995694958826332,
           0.8112525401791553,
           0.7552937326823964,
           0.7091265877127865,
           0.6440856731765012,
           0.5218341830573284,
           0.2907915099085324,
           -0.11743918265527911,
           -0.79164338746629,
           -1.8445676813116103,
           -3.4164921524414105,
           -5.678802828077052,
           -8.83756410191923,
           -13.137091161656103
          ],
          [
           59.285421144222184,
           46.707430414626614,
           36.573434819556354,
           28.479684319686054,
           22.072974233388813,
           17.04707280922797,
           13.139148798449042,
           10.126199027471557,
           7.821475970380917,
           6.0709153214202685,
           4.74956356748238,
           3.7580055606014873,
           3.0187920904451775,
           2.4728674568062456,
           2.0759970420945546,
           1.795194883828914,
           1.6051512471289384,
           1.4846601972069116,
           1.4130471718596562,
           1.3665965539603984,
           1.3149792439506311,
           1.2176802323319829,
           1.0204261721580812,
           0.6516129515264203,
           0.018733266070224297,
           -0.9951958085496861,
           -2.535205244153026,
           -4.777946487548184,
           -7.935263888040356,
           -12.25776712493967
          ],
          [
           63.14984546540132,
           50.40736299252285,
           40.08425712666048,
           31.783514931469178,
           25.158154292284806,
           19.907651488616043,
           15.774368766636247,
           12.539981911675307,
           10.021907820711515,
           8.069732074863435,
           6.561636511881764,
           5.400826798641201,
           4.511960003632307,
           3.837572169453381,
           3.334505885302311,
           2.9703378594684566,
           2.7198064918244973,
           2.561239446318314,
           2.4729812234648425,
           2.4298207328379466,
           2.3994188655622812,
           2.338736066805156,
           2.190459908268407,
           1.8794326606802527,
           1.3090788662871709,
           0.3578329113457559,
           -1.1244334013854127,
           -3.319983280153904,
           -6.446787371721571,
           -10.76209618887268
          ],
          [
           68.6696141504456,
           55.62252120187087,
           44.98124946506355,
           36.355176764806686,
           29.403197211546782,
           23.83014877388569,
           19.38324085107245,
           15.84848184549516,
           13.04710673517284,
           10.832004646247318,
           9.084146425475064,
           7.70901221271907,
           6.633019013440727,
           5.799948271191672,
           5.167373440105667,
           4.703087557390454,
           4.381530815819633,
           4.180218136224512,
           4.07616673998599,
           4.042323721526412,
           4.04399362080143,
           4.035265995791885,
           3.9554429949956567,
           3.7254669299195387,
           3.2443478475710994,
           2.3855911029505483,
           0.9936249315426053,
           -1.119771978191637,
           -4.179042912322849,
           -8.448425558961596
          ],
          [
           76.05723599207278,
           62.557354571008055,
           51.461412839638534,
           42.38483304202321,
           34.9920391718671,
           28.992884545013055,
           24.13907937193363,
           20.220618330222983,
           17.062208137088724,
           14.519695121843753,
           12.476492798398166,
           10.840009437751107,
           9.53807564048262,
           8.515371909245543,
           7.729856221257332,
           7.149191600791972,
           6.7471736916718115,
           6.500158329759442,
           6.383489115449555,
           6.367924986160826,
           6.416067788827746,
           6.478789852392532,
           6.491661560296947,
           6.371378922974199,
           6.012191150340791,
           5.282328224288396,
           4.020428471175713,
           2.0319661343203332,
           -0.9143210535093784,
           -5.090004297602447
          ],
          [
           85.53554443686548,
           71.42711760955216,
           59.7330335639544,
           50.07441262155504,
           42.1208623174654,
           35.586904972917175,
           30.22840526775431,
           25.838997812924845,
           22.246514722972805,
           19.309413188530023,
           16.91320304880807,
           14.966874364090065,
           13.39932498822257,
           12.155788141107436,
           11.194259981193683,
           10.481927177969371,
           9.991594484453442,
           9.698112309687605,
           9.574804291228205,
           9.589894867638066,
           9.702936850978384,
           9.861238999300571,
           9.99629358913813,
           10.02020398799853,
           9.822112226855047,
           9.264626572638651,
           8.18024910072987,
           6.367803267450645,
           3.5888614825561946,
           -0.43582731827310184
          ],
          [
           97.33685359107895,
           82.45702581420926,
           70.01483926608415,
           59.636766003758126,
           50.99725076189661,
           43.81513852526805,
           37.85010210123557,
           32.899069692248986,
           28.792652468336534,
           25.391572139596867,
           22.583088528690837,
           20.2774271433334,
           18.404206748785466,
           16.90886694034576,
           15.749095715842698,
           14.89125704812624,
           14.306818457559785,
           13.968778584512005,
           13.848094761848722,
           13.910110587424771,
           14.110983496575875,
           14.394112334610506,
           14.686564929301742,
           14.895505663379138,
           14.904623047020607,
           14.57055729034425,
           13.719327875900262,
           12.142761131162779,
           9.594917801021726,
           5.788520620274722
          ],
          [
           111.70211422644883,
           95.88141167458147,
           82.53515489441241,
           71.29482133671557,
           61.83934659385854,
           53.891551972294174,
           47.21457206505268,
           41.60828232423345,
           36.905726633496855,
           32.969544880556114,
           29.688400529669284,
           26.97340819413096,
           24.75456120876425,
           22.977159202412594,
           21.598235670431635,
           20.582985547181114,
           19.901192778516695,
           19.52365789428186,
           19.418625580799752,
           19.54821225336507,
           19.8648336287359,
           20.30763229762561,
           20.798905297194693,
           21.24053168354265,
           21.510400104199864,
           21.45883637061941,
           20.90503103066899,
           19.633466941122776,
           17.39034684015325,
           13.880020919823101
          ],
          [
           128.88006978599932,
           111.94288067897506,
           97.53105872344356,
           85.28074042204612,
           74.87500588300006,
           66.04030639259071,
           58.542891987663175,
           52.18523902811422,
           46.8024777693842,
           42.25881993494879,
           38.443986288811026,
           35.26963420799302,
           32.665785255027906,
           30.57725275045169,
           28.9600693452951,
           27.777914593575474,
           26.998542524788594,
           26.590209216400602,
           26.5181003663398,
           26.74075886548858,
           27.20651237017525,
           27.849900874665906,
           28.588104283656318,
           29.317369984763744,
           29.909440421018896,
           30.20798066335766,
           30.02500598311311,
           29.137309424507276,
           27.282889377143047,
           24.15737714849601
          ],
          [
           149.1264123898505,
           130.89146732020785,
           115.24753835960924,
           101.83507472071112,
           90.34095468572855,
           80.49491317892702,
           72.0659693391144,
           64.85885409213274,
           58.71043772335014,
           53.48615745015264,
           49.076444994436045,
           45.39315415509787,
           42.36598838052908,
           39.93892834110613,
           38.06665950168264,
           36.710999694081394,
           35.837326689586156,
           35.411005771433516,
           35.39381730730484,
           35.740384321818034,
           36.39460006901947,
           37.286055604875806,
           38.326467359765935,
           39.40610471097275,
           40.39021755517506,
           41.11546388093948,
           41.38633734121224,
           40.971594825811096,
           39.60068403391717,
           36.96017104656683
          ]
         ]
        }
       ],
       "layout": {
        "margin": {
         "b": 10,
         "l": 10,
         "r": 20,
         "t": 10
        },
        "scene": {
         "xaxis": {
          "nticks": 4,
          "range": [
           -4,
           4
          ]
         },
         "yaxis": {
          "nticks": 4,
          "range": [
           -4,
           4
          ]
         },
         "zaxis": {
          "nticks": 4,
          "range": [
           -13.6214371245785,
           77.80395611544132
          ]
         }
        },
        "template": {
         "data": {
          "bar": [
           {
            "error_x": {
             "color": "#2a3f5f"
            },
            "error_y": {
             "color": "#2a3f5f"
            },
            "marker": {
             "line": {
              "color": "#E5ECF6",
              "width": 0.5
             },
             "pattern": {
              "fillmode": "overlay",
              "size": 10,
              "solidity": 0.2
             }
            },
            "type": "bar"
           }
          ],
          "barpolar": [
           {
            "marker": {
             "line": {
              "color": "#E5ECF6",
              "width": 0.5
             },
             "pattern": {
              "fillmode": "overlay",
              "size": 10,
              "solidity": 0.2
             }
            },
            "type": "barpolar"
           }
          ],
          "carpet": [
           {
            "aaxis": {
             "endlinecolor": "#2a3f5f",
             "gridcolor": "white",
             "linecolor": "white",
             "minorgridcolor": "white",
             "startlinecolor": "#2a3f5f"
            },
            "baxis": {
             "endlinecolor": "#2a3f5f",
             "gridcolor": "white",
             "linecolor": "white",
             "minorgridcolor": "white",
             "startlinecolor": "#2a3f5f"
            },
            "type": "carpet"
           }
          ],
          "choropleth": [
           {
            "colorbar": {
             "outlinewidth": 0,
             "ticks": ""
            },
            "type": "choropleth"
           }
          ],
          "contour": [
           {
            "colorbar": {
             "outlinewidth": 0,
             "ticks": ""
            },
            "colorscale": [
             [
              0,
              "#0d0887"
             ],
             [
              0.1111111111111111,
              "#46039f"
             ],
             [
              0.2222222222222222,
              "#7201a8"
             ],
             [
              0.3333333333333333,
              "#9c179e"
             ],
             [
              0.4444444444444444,
              "#bd3786"
             ],
             [
              0.5555555555555556,
              "#d8576b"
             ],
             [
              0.6666666666666666,
              "#ed7953"
             ],
             [
              0.7777777777777778,
              "#fb9f3a"
             ],
             [
              0.8888888888888888,
              "#fdca26"
             ],
             [
              1,
              "#f0f921"
             ]
            ],
            "type": "contour"
           }
          ],
          "contourcarpet": [
           {
            "colorbar": {
             "outlinewidth": 0,
             "ticks": ""
            },
            "type": "contourcarpet"
           }
          ],
          "heatmap": [
           {
            "colorbar": {
             "outlinewidth": 0,
             "ticks": ""
            },
            "colorscale": [
             [
              0,
              "#0d0887"
             ],
             [
              0.1111111111111111,
              "#46039f"
             ],
             [
              0.2222222222222222,
              "#7201a8"
             ],
             [
              0.3333333333333333,
              "#9c179e"
             ],
             [
              0.4444444444444444,
              "#bd3786"
             ],
             [
              0.5555555555555556,
              "#d8576b"
             ],
             [
              0.6666666666666666,
              "#ed7953"
             ],
             [
              0.7777777777777778,
              "#fb9f3a"
             ],
             [
              0.8888888888888888,
              "#fdca26"
             ],
             [
              1,
              "#f0f921"
             ]
            ],
            "type": "heatmap"
           }
          ],
          "heatmapgl": [
           {
            "colorbar": {
             "outlinewidth": 0,
             "ticks": ""
            },
            "colorscale": [
             [
              0,
              "#0d0887"
             ],
             [
              0.1111111111111111,
              "#46039f"
             ],
             [
              0.2222222222222222,
              "#7201a8"
             ],
             [
              0.3333333333333333,
              "#9c179e"
             ],
             [
              0.4444444444444444,
              "#bd3786"
             ],
             [
              0.5555555555555556,
              "#d8576b"
             ],
             [
              0.6666666666666666,
              "#ed7953"
             ],
             [
              0.7777777777777778,
              "#fb9f3a"
             ],
             [
              0.8888888888888888,
              "#fdca26"
             ],
             [
              1,
              "#f0f921"
             ]
            ],
            "type": "heatmapgl"
           }
          ],
          "histogram": [
           {
            "marker": {
             "pattern": {
              "fillmode": "overlay",
              "size": 10,
              "solidity": 0.2
             }
            },
            "type": "histogram"
           }
          ],
          "histogram2d": [
           {
            "colorbar": {
             "outlinewidth": 0,
             "ticks": ""
            },
            "colorscale": [
             [
              0,
              "#0d0887"
             ],
             [
              0.1111111111111111,
              "#46039f"
             ],
             [
              0.2222222222222222,
              "#7201a8"
             ],
             [
              0.3333333333333333,
              "#9c179e"
             ],
             [
              0.4444444444444444,
              "#bd3786"
             ],
             [
              0.5555555555555556,
              "#d8576b"
             ],
             [
              0.6666666666666666,
              "#ed7953"
             ],
             [
              0.7777777777777778,
              "#fb9f3a"
             ],
             [
              0.8888888888888888,
              "#fdca26"
             ],
             [
              1,
              "#f0f921"
             ]
            ],
            "type": "histogram2d"
           }
          ],
          "histogram2dcontour": [
           {
            "colorbar": {
             "outlinewidth": 0,
             "ticks": ""
            },
            "colorscale": [
             [
              0,
              "#0d0887"
             ],
             [
              0.1111111111111111,
              "#46039f"
             ],
             [
              0.2222222222222222,
              "#7201a8"
             ],
             [
              0.3333333333333333,
              "#9c179e"
             ],
             [
              0.4444444444444444,
              "#bd3786"
             ],
             [
              0.5555555555555556,
              "#d8576b"
             ],
             [
              0.6666666666666666,
              "#ed7953"
             ],
             [
              0.7777777777777778,
              "#fb9f3a"
             ],
             [
              0.8888888888888888,
              "#fdca26"
             ],
             [
              1,
              "#f0f921"
             ]
            ],
            "type": "histogram2dcontour"
           }
          ],
          "mesh3d": [
           {
            "colorbar": {
             "outlinewidth": 0,
             "ticks": ""
            },
            "type": "mesh3d"
           }
          ],
          "parcoords": [
           {
            "line": {
             "colorbar": {
              "outlinewidth": 0,
              "ticks": ""
             }
            },
            "type": "parcoords"
           }
          ],
          "pie": [
           {
            "automargin": true,
            "type": "pie"
           }
          ],
          "scatter": [
           {
            "marker": {
             "colorbar": {
              "outlinewidth": 0,
              "ticks": ""
             }
            },
            "type": "scatter"
           }
          ],
          "scatter3d": [
           {
            "line": {
             "colorbar": {
              "outlinewidth": 0,
              "ticks": ""
             }
            },
            "marker": {
             "colorbar": {
              "outlinewidth": 0,
              "ticks": ""
             }
            },
            "type": "scatter3d"
           }
          ],
          "scattercarpet": [
           {
            "marker": {
             "colorbar": {
              "outlinewidth": 0,
              "ticks": ""
             }
            },
            "type": "scattercarpet"
           }
          ],
          "scattergeo": [
           {
            "marker": {
             "colorbar": {
              "outlinewidth": 0,
              "ticks": ""
             }
            },
            "type": "scattergeo"
           }
          ],
          "scattergl": [
           {
            "marker": {
             "colorbar": {
              "outlinewidth": 0,
              "ticks": ""
             }
            },
            "type": "scattergl"
           }
          ],
          "scattermapbox": [
           {
            "marker": {
             "colorbar": {
              "outlinewidth": 0,
              "ticks": ""
             }
            },
            "type": "scattermapbox"
           }
          ],
          "scatterpolar": [
           {
            "marker": {
             "colorbar": {
              "outlinewidth": 0,
              "ticks": ""
             }
            },
            "type": "scatterpolar"
           }
          ],
          "scatterpolargl": [
           {
            "marker": {
             "colorbar": {
              "outlinewidth": 0,
              "ticks": ""
             }
            },
            "type": "scatterpolargl"
           }
          ],
          "scatterternary": [
           {
            "marker": {
             "colorbar": {
              "outlinewidth": 0,
              "ticks": ""
             }
            },
            "type": "scatterternary"
           }
          ],
          "surface": [
           {
            "colorbar": {
             "outlinewidth": 0,
             "ticks": ""
            },
            "colorscale": [
             [
              0,
              "#0d0887"
             ],
             [
              0.1111111111111111,
              "#46039f"
             ],
             [
              0.2222222222222222,
              "#7201a8"
             ],
             [
              0.3333333333333333,
              "#9c179e"
             ],
             [
              0.4444444444444444,
              "#bd3786"
             ],
             [
              0.5555555555555556,
              "#d8576b"
             ],
             [
              0.6666666666666666,
              "#ed7953"
             ],
             [
              0.7777777777777778,
              "#fb9f3a"
             ],
             [
              0.8888888888888888,
              "#fdca26"
             ],
             [
              1,
              "#f0f921"
             ]
            ],
            "type": "surface"
           }
          ],
          "table": [
           {
            "cells": {
             "fill": {
              "color": "#EBF0F8"
             },
             "line": {
              "color": "white"
             }
            },
            "header": {
             "fill": {
              "color": "#C8D4E3"
             },
             "line": {
              "color": "white"
             }
            },
            "type": "table"
           }
          ]
         },
         "layout": {
          "annotationdefaults": {
           "arrowcolor": "#2a3f5f",
           "arrowhead": 0,
           "arrowwidth": 1
          },
          "autotypenumbers": "strict",
          "coloraxis": {
           "colorbar": {
            "outlinewidth": 0,
            "ticks": ""
           }
          },
          "colorscale": {
           "diverging": [
            [
             0,
             "#8e0152"
            ],
            [
             0.1,
             "#c51b7d"
            ],
            [
             0.2,
             "#de77ae"
            ],
            [
             0.3,
             "#f1b6da"
            ],
            [
             0.4,
             "#fde0ef"
            ],
            [
             0.5,
             "#f7f7f7"
            ],
            [
             0.6,
             "#e6f5d0"
            ],
            [
             0.7,
             "#b8e186"
            ],
            [
             0.8,
             "#7fbc41"
            ],
            [
             0.9,
             "#4d9221"
            ],
            [
             1,
             "#276419"
            ]
           ],
           "sequential": [
            [
             0,
             "#0d0887"
            ],
            [
             0.1111111111111111,
             "#46039f"
            ],
            [
             0.2222222222222222,
             "#7201a8"
            ],
            [
             0.3333333333333333,
             "#9c179e"
            ],
            [
             0.4444444444444444,
             "#bd3786"
            ],
            [
             0.5555555555555556,
             "#d8576b"
            ],
            [
             0.6666666666666666,
             "#ed7953"
            ],
            [
             0.7777777777777778,
             "#fb9f3a"
            ],
            [
             0.8888888888888888,
             "#fdca26"
            ],
            [
             1,
             "#f0f921"
            ]
           ],
           "sequentialminus": [
            [
             0,
             "#0d0887"
            ],
            [
             0.1111111111111111,
             "#46039f"
            ],
            [
             0.2222222222222222,
             "#7201a8"
            ],
            [
             0.3333333333333333,
             "#9c179e"
            ],
            [
             0.4444444444444444,
             "#bd3786"
            ],
            [
             0.5555555555555556,
             "#d8576b"
            ],
            [
             0.6666666666666666,
             "#ed7953"
            ],
            [
             0.7777777777777778,
             "#fb9f3a"
            ],
            [
             0.8888888888888888,
             "#fdca26"
            ],
            [
             1,
             "#f0f921"
            ]
           ]
          },
          "colorway": [
           "#636efa",
           "#EF553B",
           "#00cc96",
           "#ab63fa",
           "#FFA15A",
           "#19d3f3",
           "#FF6692",
           "#B6E880",
           "#FF97FF",
           "#FECB52"
          ],
          "font": {
           "color": "#2a3f5f"
          },
          "geo": {
           "bgcolor": "white",
           "lakecolor": "white",
           "landcolor": "#E5ECF6",
           "showlakes": true,
           "showland": true,
           "subunitcolor": "white"
          },
          "hoverlabel": {
           "align": "left"
          },
          "hovermode": "closest",
          "mapbox": {
           "style": "light"
          },
          "paper_bgcolor": "white",
          "plot_bgcolor": "#E5ECF6",
          "polar": {
           "angularaxis": {
            "gridcolor": "white",
            "linecolor": "white",
            "ticks": ""
           },
           "bgcolor": "#E5ECF6",
           "radialaxis": {
            "gridcolor": "white",
            "linecolor": "white",
            "ticks": ""
           }
          },
          "scene": {
           "xaxis": {
            "backgroundcolor": "#E5ECF6",
            "gridcolor": "white",
            "gridwidth": 2,
            "linecolor": "white",
            "showbackground": true,
            "ticks": "",
            "zerolinecolor": "white"
           },
           "yaxis": {
            "backgroundcolor": "#E5ECF6",
            "gridcolor": "white",
            "gridwidth": 2,
            "linecolor": "white",
            "showbackground": true,
            "ticks": "",
            "zerolinecolor": "white"
           },
           "zaxis": {
            "backgroundcolor": "#E5ECF6",
            "gridcolor": "white",
            "gridwidth": 2,
            "linecolor": "white",
            "showbackground": true,
            "ticks": "",
            "zerolinecolor": "white"
           }
          },
          "shapedefaults": {
           "line": {
            "color": "#2a3f5f"
           }
          },
          "ternary": {
           "aaxis": {
            "gridcolor": "white",
            "linecolor": "white",
            "ticks": ""
           },
           "baxis": {
            "gridcolor": "white",
            "linecolor": "white",
            "ticks": ""
           },
           "bgcolor": "#E5ECF6",
           "caxis": {
            "gridcolor": "white",
            "linecolor": "white",
            "ticks": ""
           }
          },
          "title": {
           "x": 0.05
          },
          "xaxis": {
           "automargin": true,
           "gridcolor": "white",
           "linecolor": "white",
           "ticks": "",
           "title": {
            "standoff": 15
           },
           "zerolinecolor": "white",
           "zerolinewidth": 2
          },
          "yaxis": {
           "automargin": true,
           "gridcolor": "white",
           "linecolor": "white",
           "ticks": "",
           "title": {
            "standoff": 15
           },
           "zerolinecolor": "white",
           "zerolinewidth": 2
          }
         }
        },
        "width": 700
       }
      },
      "text/html": [
       "<div>                            <div id=\"85f71113-dfc4-4e17-8552-00d1a2c94b9f\" class=\"plotly-graph-div\" style=\"height:525px; width:700px;\"></div>            <script type=\"text/javascript\">                require([\"plotly\"], function(Plotly) {                    window.PLOTLYENV=window.PLOTLYENV || {};                                    if (document.getElementById(\"85f71113-dfc4-4e17-8552-00d1a2c94b9f\")) {                    Plotly.newPlot(                        \"85f71113-dfc4-4e17-8552-00d1a2c94b9f\",                        [{\"marker\":{\"size\":5},\"mode\":\"markers\",\"x\":[-3.24475518633898,-2.1555366343708244,-3.2782565706935536,-3.236065815952124,-3.097351568466069,-2.803497433234927,-1.3693105320843608,-1.267652932363257,-2.967806451442169,-1.3452073314601527,-2.799915040642268,-0.7578082584303716,-1.2052774652429517,-0.2877639755791378,-0.18830947394659592,-1.2890086132383831,-0.055228751424083566,-1.4138407590110311,1.0251144397559275,-0.4469759217605434,-0.43200889623332744,-0.31188434633464407,0.03214141860423635,0.0024214813950893532,0.8984560686609342,1.3579216718991138,1.695217140438565,0.8406923326883682,0.7737128357218674,1.379286198977482,2.3362620302159702,2.9699547076023967,1.468491282213019,1.5721468911270646,1.3438374576843852,2.6420104507555147],\"y\":[-2.9409970758934527,-2.3468302268455163,-1.3091434265626931,-1.3262207026455377,0.18730538923697992,1.4720414540053763,-1.7456039978336213,-0.70823888388366,-0.16098189233664972,0.25436202411923703,1.1486380987580427,2.4229045420906163,-2.663624495201012,-1.8331457042346546,-0.9883157127228174,-0.4583434045962948,1.063275153713635,2.088529994299337,-2.939956270963015,-1.2845194892997012,-1.2387757570167595,-0.1537754366075051,0.955093587136396,1.274907646730333,-3.6503320581970007,-1.984029514571358,-1.091086850431035,0.307628514593688,0.9367356550833583,2.764545754701354,-2.733576432823027,-1.3231924465511928,-1.0171206920341327,-0.2842377933949847,1.1647185808057476,2.4182012080357693],\"z\":[77.80395611544132,37.70789916005106,54.92351088110832,52.920847548621545,50.360432021740856,36.607745855632636,11.712236820703037,7.332862908991154,43.91796061021646,9.652261863259803,36.25592450034455,-13.6214371245785,24.870027215040487,8.748462180230458,-1.0393842317037918,8.46548912428553,-0.7995339861436535,-1.545800971023842,33.78808632760764,3.4090634763544805,0.13136140118299844,-1.5055253265213384,-1.4647525725578157,-4.561204613771762,51.80207547070239,19.50399424873958,17.962650985092086,2.6446113823134274,5.514471884386604,-10.774467975953323,48.258137103539106,47.64700781061643,14.254878349196385,13.692403338276193,6.414706695938465,21.99805420854201],\"type\":\"scatter3d\"},{\"opacity\":0.5,\"showscale\":false,\"x\":[[-3.2782565706935536,-3.2782565706935536,-3.2782565706935536,-3.2782565706935536,-3.2782565706935536,-3.2782565706935536,-3.2782565706935536,-3.2782565706935536,-3.2782565706935536,-3.2782565706935536,-3.2782565706935536,-3.2782565706935536,-3.2782565706935536,-3.2782565706935536,-3.2782565706935536,-3.2782565706935536,-3.2782565706935536,-3.2782565706935536,-3.2782565706935536,-3.2782565706935536,-3.2782565706935536,-3.2782565706935536,-3.2782565706935536,-3.2782565706935536,-3.2782565706935536,-3.2782565706935536,-3.2782565706935536,-3.2782565706935536,-3.2782565706935536,-3.2782565706935536],[-3.0628010093730036,-3.0628010093730036,-3.0628010093730036,-3.0628010093730036,-3.0628010093730036,-3.0628010093730036,-3.0628010093730036,-3.0628010093730036,-3.0628010093730036,-3.0628010093730036,-3.0628010093730036,-3.0628010093730036,-3.0628010093730036,-3.0628010093730036,-3.0628010093730036,-3.0628010093730036,-3.0628010093730036,-3.0628010093730036,-3.0628010093730036,-3.0628010093730036,-3.0628010093730036,-3.0628010093730036,-3.0628010093730036,-3.0628010093730036,-3.0628010093730036,-3.0628010093730036,-3.0628010093730036,-3.0628010093730036,-3.0628010093730036,-3.0628010093730036],[-2.8473454480524536,-2.8473454480524536,-2.8473454480524536,-2.8473454480524536,-2.8473454480524536,-2.8473454480524536,-2.8473454480524536,-2.8473454480524536,-2.8473454480524536,-2.8473454480524536,-2.8473454480524536,-2.8473454480524536,-2.8473454480524536,-2.8473454480524536,-2.8473454480524536,-2.8473454480524536,-2.8473454480524536,-2.8473454480524536,-2.8473454480524536,-2.8473454480524536,-2.8473454480524536,-2.8473454480524536,-2.8473454480524536,-2.8473454480524536,-2.8473454480524536,-2.8473454480524536,-2.8473454480524536,-2.8473454480524536,-2.8473454480524536,-2.8473454480524536],[-2.6318898867319036,-2.6318898867319036,-2.6318898867319036,-2.6318898867319036,-2.6318898867319036,-2.6318898867319036,-2.6318898867319036,-2.6318898867319036,-2.6318898867319036,-2.6318898867319036,-2.6318898867319036,-2.6318898867319036,-2.6318898867319036,-2.6318898867319036,-2.6318898867319036,-2.6318898867319036,-2.6318898867319036,-2.6318898867319036,-2.6318898867319036,-2.6318898867319036,-2.6318898867319036,-2.6318898867319036,-2.6318898867319036,-2.6318898867319036,-2.6318898867319036,-2.6318898867319036,-2.6318898867319036,-2.6318898867319036,-2.6318898867319036,-2.6318898867319036],[-2.4164343254113536,-2.4164343254113536,-2.4164343254113536,-2.4164343254113536,-2.4164343254113536,-2.4164343254113536,-2.4164343254113536,-2.4164343254113536,-2.4164343254113536,-2.4164343254113536,-2.4164343254113536,-2.4164343254113536,-2.4164343254113536,-2.4164343254113536,-2.4164343254113536,-2.4164343254113536,-2.4164343254113536,-2.4164343254113536,-2.4164343254113536,-2.4164343254113536,-2.4164343254113536,-2.4164343254113536,-2.4164343254113536,-2.4164343254113536,-2.4164343254113536,-2.4164343254113536,-2.4164343254113536,-2.4164343254113536,-2.4164343254113536,-2.4164343254113536],[-2.200978764090803,-2.200978764090803,-2.200978764090803,-2.200978764090803,-2.200978764090803,-2.200978764090803,-2.200978764090803,-2.200978764090803,-2.200978764090803,-2.200978764090803,-2.200978764090803,-2.200978764090803,-2.200978764090803,-2.200978764090803,-2.200978764090803,-2.200978764090803,-2.200978764090803,-2.200978764090803,-2.200978764090803,-2.200978764090803,-2.200978764090803,-2.200978764090803,-2.200978764090803,-2.200978764090803,-2.200978764090803,-2.200978764090803,-2.200978764090803,-2.200978764090803,-2.200978764090803,-2.200978764090803],[-1.9855232027702534,-1.9855232027702534,-1.9855232027702534,-1.9855232027702534,-1.9855232027702534,-1.9855232027702534,-1.9855232027702534,-1.9855232027702534,-1.9855232027702534,-1.9855232027702534,-1.9855232027702534,-1.9855232027702534,-1.9855232027702534,-1.9855232027702534,-1.9855232027702534,-1.9855232027702534,-1.9855232027702534,-1.9855232027702534,-1.9855232027702534,-1.9855232027702534,-1.9855232027702534,-1.9855232027702534,-1.9855232027702534,-1.9855232027702534,-1.9855232027702534,-1.9855232027702534,-1.9855232027702534,-1.9855232027702534,-1.9855232027702534,-1.9855232027702534],[-1.7700676414497034,-1.7700676414497034,-1.7700676414497034,-1.7700676414497034,-1.7700676414497034,-1.7700676414497034,-1.7700676414497034,-1.7700676414497034,-1.7700676414497034,-1.7700676414497034,-1.7700676414497034,-1.7700676414497034,-1.7700676414497034,-1.7700676414497034,-1.7700676414497034,-1.7700676414497034,-1.7700676414497034,-1.7700676414497034,-1.7700676414497034,-1.7700676414497034,-1.7700676414497034,-1.7700676414497034,-1.7700676414497034,-1.7700676414497034,-1.7700676414497034,-1.7700676414497034,-1.7700676414497034,-1.7700676414497034,-1.7700676414497034,-1.7700676414497034],[-1.5546120801291534,-1.5546120801291534,-1.5546120801291534,-1.5546120801291534,-1.5546120801291534,-1.5546120801291534,-1.5546120801291534,-1.5546120801291534,-1.5546120801291534,-1.5546120801291534,-1.5546120801291534,-1.5546120801291534,-1.5546120801291534,-1.5546120801291534,-1.5546120801291534,-1.5546120801291534,-1.5546120801291534,-1.5546120801291534,-1.5546120801291534,-1.5546120801291534,-1.5546120801291534,-1.5546120801291534,-1.5546120801291534,-1.5546120801291534,-1.5546120801291534,-1.5546120801291534,-1.5546120801291534,-1.5546120801291534,-1.5546120801291534,-1.5546120801291534],[-1.3391565188086034,-1.3391565188086034,-1.3391565188086034,-1.3391565188086034,-1.3391565188086034,-1.3391565188086034,-1.3391565188086034,-1.3391565188086034,-1.3391565188086034,-1.3391565188086034,-1.3391565188086034,-1.3391565188086034,-1.3391565188086034,-1.3391565188086034,-1.3391565188086034,-1.3391565188086034,-1.3391565188086034,-1.3391565188086034,-1.3391565188086034,-1.3391565188086034,-1.3391565188086034,-1.3391565188086034,-1.3391565188086034,-1.3391565188086034,-1.3391565188086034,-1.3391565188086034,-1.3391565188086034,-1.3391565188086034,-1.3391565188086034,-1.3391565188086034],[-1.1237009574880532,-1.1237009574880532,-1.1237009574880532,-1.1237009574880532,-1.1237009574880532,-1.1237009574880532,-1.1237009574880532,-1.1237009574880532,-1.1237009574880532,-1.1237009574880532,-1.1237009574880532,-1.1237009574880532,-1.1237009574880532,-1.1237009574880532,-1.1237009574880532,-1.1237009574880532,-1.1237009574880532,-1.1237009574880532,-1.1237009574880532,-1.1237009574880532,-1.1237009574880532,-1.1237009574880532,-1.1237009574880532,-1.1237009574880532,-1.1237009574880532,-1.1237009574880532,-1.1237009574880532,-1.1237009574880532,-1.1237009574880532,-1.1237009574880532],[-0.9082453961675032,-0.9082453961675032,-0.9082453961675032,-0.9082453961675032,-0.9082453961675032,-0.9082453961675032,-0.9082453961675032,-0.9082453961675032,-0.9082453961675032,-0.9082453961675032,-0.9082453961675032,-0.9082453961675032,-0.9082453961675032,-0.9082453961675032,-0.9082453961675032,-0.9082453961675032,-0.9082453961675032,-0.9082453961675032,-0.9082453961675032,-0.9082453961675032,-0.9082453961675032,-0.9082453961675032,-0.9082453961675032,-0.9082453961675032,-0.9082453961675032,-0.9082453961675032,-0.9082453961675032,-0.9082453961675032,-0.9082453961675032,-0.9082453961675032],[-0.6927898348469532,-0.6927898348469532,-0.6927898348469532,-0.6927898348469532,-0.6927898348469532,-0.6927898348469532,-0.6927898348469532,-0.6927898348469532,-0.6927898348469532,-0.6927898348469532,-0.6927898348469532,-0.6927898348469532,-0.6927898348469532,-0.6927898348469532,-0.6927898348469532,-0.6927898348469532,-0.6927898348469532,-0.6927898348469532,-0.6927898348469532,-0.6927898348469532,-0.6927898348469532,-0.6927898348469532,-0.6927898348469532,-0.6927898348469532,-0.6927898348469532,-0.6927898348469532,-0.6927898348469532,-0.6927898348469532,-0.6927898348469532,-0.6927898348469532],[-0.47733427352640323,-0.47733427352640323,-0.47733427352640323,-0.47733427352640323,-0.47733427352640323,-0.47733427352640323,-0.47733427352640323,-0.47733427352640323,-0.47733427352640323,-0.47733427352640323,-0.47733427352640323,-0.47733427352640323,-0.47733427352640323,-0.47733427352640323,-0.47733427352640323,-0.47733427352640323,-0.47733427352640323,-0.47733427352640323,-0.47733427352640323,-0.47733427352640323,-0.47733427352640323,-0.47733427352640323,-0.47733427352640323,-0.47733427352640323,-0.47733427352640323,-0.47733427352640323,-0.47733427352640323,-0.47733427352640323,-0.47733427352640323,-0.47733427352640323],[-0.26187871220585324,-0.26187871220585324,-0.26187871220585324,-0.26187871220585324,-0.26187871220585324,-0.26187871220585324,-0.26187871220585324,-0.26187871220585324,-0.26187871220585324,-0.26187871220585324,-0.26187871220585324,-0.26187871220585324,-0.26187871220585324,-0.26187871220585324,-0.26187871220585324,-0.26187871220585324,-0.26187871220585324,-0.26187871220585324,-0.26187871220585324,-0.26187871220585324,-0.26187871220585324,-0.26187871220585324,-0.26187871220585324,-0.26187871220585324,-0.26187871220585324,-0.26187871220585324,-0.26187871220585324,-0.26187871220585324,-0.26187871220585324,-0.26187871220585324],[-0.046423150885303244,-0.046423150885303244,-0.046423150885303244,-0.046423150885303244,-0.046423150885303244,-0.046423150885303244,-0.046423150885303244,-0.046423150885303244,-0.046423150885303244,-0.046423150885303244,-0.046423150885303244,-0.046423150885303244,-0.046423150885303244,-0.046423150885303244,-0.046423150885303244,-0.046423150885303244,-0.046423150885303244,-0.046423150885303244,-0.046423150885303244,-0.046423150885303244,-0.046423150885303244,-0.046423150885303244,-0.046423150885303244,-0.046423150885303244,-0.046423150885303244,-0.046423150885303244,-0.046423150885303244,-0.046423150885303244,-0.046423150885303244,-0.046423150885303244],[0.16903241043524675,0.16903241043524675,0.16903241043524675,0.16903241043524675,0.16903241043524675,0.16903241043524675,0.16903241043524675,0.16903241043524675,0.16903241043524675,0.16903241043524675,0.16903241043524675,0.16903241043524675,0.16903241043524675,0.16903241043524675,0.16903241043524675,0.16903241043524675,0.16903241043524675,0.16903241043524675,0.16903241043524675,0.16903241043524675,0.16903241043524675,0.16903241043524675,0.16903241043524675,0.16903241043524675,0.16903241043524675,0.16903241043524675,0.16903241043524675,0.16903241043524675,0.16903241043524675,0.16903241043524675],[0.38448797175579674,0.38448797175579674,0.38448797175579674,0.38448797175579674,0.38448797175579674,0.38448797175579674,0.38448797175579674,0.38448797175579674,0.38448797175579674,0.38448797175579674,0.38448797175579674,0.38448797175579674,0.38448797175579674,0.38448797175579674,0.38448797175579674,0.38448797175579674,0.38448797175579674,0.38448797175579674,0.38448797175579674,0.38448797175579674,0.38448797175579674,0.38448797175579674,0.38448797175579674,0.38448797175579674,0.38448797175579674,0.38448797175579674,0.38448797175579674,0.38448797175579674,0.38448797175579674,0.38448797175579674],[0.5999435330763467,0.5999435330763467,0.5999435330763467,0.5999435330763467,0.5999435330763467,0.5999435330763467,0.5999435330763467,0.5999435330763467,0.5999435330763467,0.5999435330763467,0.5999435330763467,0.5999435330763467,0.5999435330763467,0.5999435330763467,0.5999435330763467,0.5999435330763467,0.5999435330763467,0.5999435330763467,0.5999435330763467,0.5999435330763467,0.5999435330763467,0.5999435330763467,0.5999435330763467,0.5999435330763467,0.5999435330763467,0.5999435330763467,0.5999435330763467,0.5999435330763467,0.5999435330763467,0.5999435330763467],[0.8153990943968967,0.8153990943968967,0.8153990943968967,0.8153990943968967,0.8153990943968967,0.8153990943968967,0.8153990943968967,0.8153990943968967,0.8153990943968967,0.8153990943968967,0.8153990943968967,0.8153990943968967,0.8153990943968967,0.8153990943968967,0.8153990943968967,0.8153990943968967,0.8153990943968967,0.8153990943968967,0.8153990943968967,0.8153990943968967,0.8153990943968967,0.8153990943968967,0.8153990943968967,0.8153990943968967,0.8153990943968967,0.8153990943968967,0.8153990943968967,0.8153990943968967,0.8153990943968967,0.8153990943968967],[1.0308546557174472,1.0308546557174472,1.0308546557174472,1.0308546557174472,1.0308546557174472,1.0308546557174472,1.0308546557174472,1.0308546557174472,1.0308546557174472,1.0308546557174472,1.0308546557174472,1.0308546557174472,1.0308546557174472,1.0308546557174472,1.0308546557174472,1.0308546557174472,1.0308546557174472,1.0308546557174472,1.0308546557174472,1.0308546557174472,1.0308546557174472,1.0308546557174472,1.0308546557174472,1.0308546557174472,1.0308546557174472,1.0308546557174472,1.0308546557174472,1.0308546557174472,1.0308546557174472,1.0308546557174472],[1.2463102170379967,1.2463102170379967,1.2463102170379967,1.2463102170379967,1.2463102170379967,1.2463102170379967,1.2463102170379967,1.2463102170379967,1.2463102170379967,1.2463102170379967,1.2463102170379967,1.2463102170379967,1.2463102170379967,1.2463102170379967,1.2463102170379967,1.2463102170379967,1.2463102170379967,1.2463102170379967,1.2463102170379967,1.2463102170379967,1.2463102170379967,1.2463102170379967,1.2463102170379967,1.2463102170379967,1.2463102170379967,1.2463102170379967,1.2463102170379967,1.2463102170379967,1.2463102170379967,1.2463102170379967],[1.4617657783585472,1.4617657783585472,1.4617657783585472,1.4617657783585472,1.4617657783585472,1.4617657783585472,1.4617657783585472,1.4617657783585472,1.4617657783585472,1.4617657783585472,1.4617657783585472,1.4617657783585472,1.4617657783585472,1.4617657783585472,1.4617657783585472,1.4617657783585472,1.4617657783585472,1.4617657783585472,1.4617657783585472,1.4617657783585472,1.4617657783585472,1.4617657783585472,1.4617657783585472,1.4617657783585472,1.4617657783585472,1.4617657783585472,1.4617657783585472,1.4617657783585472,1.4617657783585472,1.4617657783585472],[1.6772213396790967,1.6772213396790967,1.6772213396790967,1.6772213396790967,1.6772213396790967,1.6772213396790967,1.6772213396790967,1.6772213396790967,1.6772213396790967,1.6772213396790967,1.6772213396790967,1.6772213396790967,1.6772213396790967,1.6772213396790967,1.6772213396790967,1.6772213396790967,1.6772213396790967,1.6772213396790967,1.6772213396790967,1.6772213396790967,1.6772213396790967,1.6772213396790967,1.6772213396790967,1.6772213396790967,1.6772213396790967,1.6772213396790967,1.6772213396790967,1.6772213396790967,1.6772213396790967,1.6772213396790967],[1.8926769009996471,1.8926769009996471,1.8926769009996471,1.8926769009996471,1.8926769009996471,1.8926769009996471,1.8926769009996471,1.8926769009996471,1.8926769009996471,1.8926769009996471,1.8926769009996471,1.8926769009996471,1.8926769009996471,1.8926769009996471,1.8926769009996471,1.8926769009996471,1.8926769009996471,1.8926769009996471,1.8926769009996471,1.8926769009996471,1.8926769009996471,1.8926769009996471,1.8926769009996471,1.8926769009996471,1.8926769009996471,1.8926769009996471,1.8926769009996471,1.8926769009996471,1.8926769009996471,1.8926769009996471],[2.1081324623201967,2.1081324623201967,2.1081324623201967,2.1081324623201967,2.1081324623201967,2.1081324623201967,2.1081324623201967,2.1081324623201967,2.1081324623201967,2.1081324623201967,2.1081324623201967,2.1081324623201967,2.1081324623201967,2.1081324623201967,2.1081324623201967,2.1081324623201967,2.1081324623201967,2.1081324623201967,2.1081324623201967,2.1081324623201967,2.1081324623201967,2.1081324623201967,2.1081324623201967,2.1081324623201967,2.1081324623201967,2.1081324623201967,2.1081324623201967,2.1081324623201967,2.1081324623201967,2.1081324623201967],[2.323588023640747,2.323588023640747,2.323588023640747,2.323588023640747,2.323588023640747,2.323588023640747,2.323588023640747,2.323588023640747,2.323588023640747,2.323588023640747,2.323588023640747,2.323588023640747,2.323588023640747,2.323588023640747,2.323588023640747,2.323588023640747,2.323588023640747,2.323588023640747,2.323588023640747,2.323588023640747,2.323588023640747,2.323588023640747,2.323588023640747,2.323588023640747,2.323588023640747,2.323588023640747,2.323588023640747,2.323588023640747,2.323588023640747,2.323588023640747],[2.5390435849612967,2.5390435849612967,2.5390435849612967,2.5390435849612967,2.5390435849612967,2.5390435849612967,2.5390435849612967,2.5390435849612967,2.5390435849612967,2.5390435849612967,2.5390435849612967,2.5390435849612967,2.5390435849612967,2.5390435849612967,2.5390435849612967,2.5390435849612967,2.5390435849612967,2.5390435849612967,2.5390435849612967,2.5390435849612967,2.5390435849612967,2.5390435849612967,2.5390435849612967,2.5390435849612967,2.5390435849612967,2.5390435849612967,2.5390435849612967,2.5390435849612967,2.5390435849612967,2.5390435849612967],[2.754499146281847,2.754499146281847,2.754499146281847,2.754499146281847,2.754499146281847,2.754499146281847,2.754499146281847,2.754499146281847,2.754499146281847,2.754499146281847,2.754499146281847,2.754499146281847,2.754499146281847,2.754499146281847,2.754499146281847,2.754499146281847,2.754499146281847,2.754499146281847,2.754499146281847,2.754499146281847,2.754499146281847,2.754499146281847,2.754499146281847,2.754499146281847,2.754499146281847,2.754499146281847,2.754499146281847,2.754499146281847,2.754499146281847,2.754499146281847],[2.9699547076023967,2.9699547076023967,2.9699547076023967,2.9699547076023967,2.9699547076023967,2.9699547076023967,2.9699547076023967,2.9699547076023967,2.9699547076023967,2.9699547076023967,2.9699547076023967,2.9699547076023967,2.9699547076023967,2.9699547076023967,2.9699547076023967,2.9699547076023967,2.9699547076023967,2.9699547076023967,2.9699547076023967,2.9699547076023967,2.9699547076023967,2.9699547076023967,2.9699547076023967,2.9699547076023967,2.9699547076023967,2.9699547076023967,2.9699547076023967,2.9699547076023967,2.9699547076023967,2.9699547076023967]],\"y\":[[-3.6503320581970007,-3.429129374993609,-3.2079266917902176,-2.986724008586826,-2.7655213253834345,-2.544318642180043,-2.3231159589766515,-2.10191327577326,-1.8807105925698684,-1.6595079093664769,-1.4383052261630853,-1.2171025429596938,-0.9958998597563022,-0.7746971765529107,-0.5534944933495192,-0.33229181014612763,-0.1110891269427361,0.11011355626065544,0.331316239464047,0.5525189226674385,0.77372160587083,0.9949242890742216,1.2161269722776131,1.4373296554810047,1.6585323386843962,1.8797350218877877,2.1009377050911793,2.322140388294571,2.5433430714979623,2.764545754701354],[-3.6503320581970007,-3.429129374993609,-3.2079266917902176,-2.986724008586826,-2.7655213253834345,-2.544318642180043,-2.3231159589766515,-2.10191327577326,-1.8807105925698684,-1.6595079093664769,-1.4383052261630853,-1.2171025429596938,-0.9958998597563022,-0.7746971765529107,-0.5534944933495192,-0.33229181014612763,-0.1110891269427361,0.11011355626065544,0.331316239464047,0.5525189226674385,0.77372160587083,0.9949242890742216,1.2161269722776131,1.4373296554810047,1.6585323386843962,1.8797350218877877,2.1009377050911793,2.322140388294571,2.5433430714979623,2.764545754701354],[-3.6503320581970007,-3.429129374993609,-3.2079266917902176,-2.986724008586826,-2.7655213253834345,-2.544318642180043,-2.3231159589766515,-2.10191327577326,-1.8807105925698684,-1.6595079093664769,-1.4383052261630853,-1.2171025429596938,-0.9958998597563022,-0.7746971765529107,-0.5534944933495192,-0.33229181014612763,-0.1110891269427361,0.11011355626065544,0.331316239464047,0.5525189226674385,0.77372160587083,0.9949242890742216,1.2161269722776131,1.4373296554810047,1.6585323386843962,1.8797350218877877,2.1009377050911793,2.322140388294571,2.5433430714979623,2.764545754701354],[-3.6503320581970007,-3.429129374993609,-3.2079266917902176,-2.986724008586826,-2.7655213253834345,-2.544318642180043,-2.3231159589766515,-2.10191327577326,-1.8807105925698684,-1.6595079093664769,-1.4383052261630853,-1.2171025429596938,-0.9958998597563022,-0.7746971765529107,-0.5534944933495192,-0.33229181014612763,-0.1110891269427361,0.11011355626065544,0.331316239464047,0.5525189226674385,0.77372160587083,0.9949242890742216,1.2161269722776131,1.4373296554810047,1.6585323386843962,1.8797350218877877,2.1009377050911793,2.322140388294571,2.5433430714979623,2.764545754701354],[-3.6503320581970007,-3.429129374993609,-3.2079266917902176,-2.986724008586826,-2.7655213253834345,-2.544318642180043,-2.3231159589766515,-2.10191327577326,-1.8807105925698684,-1.6595079093664769,-1.4383052261630853,-1.2171025429596938,-0.9958998597563022,-0.7746971765529107,-0.5534944933495192,-0.33229181014612763,-0.1110891269427361,0.11011355626065544,0.331316239464047,0.5525189226674385,0.77372160587083,0.9949242890742216,1.2161269722776131,1.4373296554810047,1.6585323386843962,1.8797350218877877,2.1009377050911793,2.322140388294571,2.5433430714979623,2.764545754701354],[-3.6503320581970007,-3.429129374993609,-3.2079266917902176,-2.986724008586826,-2.7655213253834345,-2.544318642180043,-2.3231159589766515,-2.10191327577326,-1.8807105925698684,-1.6595079093664769,-1.4383052261630853,-1.2171025429596938,-0.9958998597563022,-0.7746971765529107,-0.5534944933495192,-0.33229181014612763,-0.1110891269427361,0.11011355626065544,0.331316239464047,0.5525189226674385,0.77372160587083,0.9949242890742216,1.2161269722776131,1.4373296554810047,1.6585323386843962,1.8797350218877877,2.1009377050911793,2.322140388294571,2.5433430714979623,2.764545754701354],[-3.6503320581970007,-3.429129374993609,-3.2079266917902176,-2.986724008586826,-2.7655213253834345,-2.544318642180043,-2.3231159589766515,-2.10191327577326,-1.8807105925698684,-1.6595079093664769,-1.4383052261630853,-1.2171025429596938,-0.9958998597563022,-0.7746971765529107,-0.5534944933495192,-0.33229181014612763,-0.1110891269427361,0.11011355626065544,0.331316239464047,0.5525189226674385,0.77372160587083,0.9949242890742216,1.2161269722776131,1.4373296554810047,1.6585323386843962,1.8797350218877877,2.1009377050911793,2.322140388294571,2.5433430714979623,2.764545754701354],[-3.6503320581970007,-3.429129374993609,-3.2079266917902176,-2.986724008586826,-2.7655213253834345,-2.544318642180043,-2.3231159589766515,-2.10191327577326,-1.8807105925698684,-1.6595079093664769,-1.4383052261630853,-1.2171025429596938,-0.9958998597563022,-0.7746971765529107,-0.5534944933495192,-0.33229181014612763,-0.1110891269427361,0.11011355626065544,0.331316239464047,0.5525189226674385,0.77372160587083,0.9949242890742216,1.2161269722776131,1.4373296554810047,1.6585323386843962,1.8797350218877877,2.1009377050911793,2.322140388294571,2.5433430714979623,2.764545754701354],[-3.6503320581970007,-3.429129374993609,-3.2079266917902176,-2.986724008586826,-2.7655213253834345,-2.544318642180043,-2.3231159589766515,-2.10191327577326,-1.8807105925698684,-1.6595079093664769,-1.4383052261630853,-1.2171025429596938,-0.9958998597563022,-0.7746971765529107,-0.5534944933495192,-0.33229181014612763,-0.1110891269427361,0.11011355626065544,0.331316239464047,0.5525189226674385,0.77372160587083,0.9949242890742216,1.2161269722776131,1.4373296554810047,1.6585323386843962,1.8797350218877877,2.1009377050911793,2.322140388294571,2.5433430714979623,2.764545754701354],[-3.6503320581970007,-3.429129374993609,-3.2079266917902176,-2.986724008586826,-2.7655213253834345,-2.544318642180043,-2.3231159589766515,-2.10191327577326,-1.8807105925698684,-1.6595079093664769,-1.4383052261630853,-1.2171025429596938,-0.9958998597563022,-0.7746971765529107,-0.5534944933495192,-0.33229181014612763,-0.1110891269427361,0.11011355626065544,0.331316239464047,0.5525189226674385,0.77372160587083,0.9949242890742216,1.2161269722776131,1.4373296554810047,1.6585323386843962,1.8797350218877877,2.1009377050911793,2.322140388294571,2.5433430714979623,2.764545754701354],[-3.6503320581970007,-3.429129374993609,-3.2079266917902176,-2.986724008586826,-2.7655213253834345,-2.544318642180043,-2.3231159589766515,-2.10191327577326,-1.8807105925698684,-1.6595079093664769,-1.4383052261630853,-1.2171025429596938,-0.9958998597563022,-0.7746971765529107,-0.5534944933495192,-0.33229181014612763,-0.1110891269427361,0.11011355626065544,0.331316239464047,0.5525189226674385,0.77372160587083,0.9949242890742216,1.2161269722776131,1.4373296554810047,1.6585323386843962,1.8797350218877877,2.1009377050911793,2.322140388294571,2.5433430714979623,2.764545754701354],[-3.6503320581970007,-3.429129374993609,-3.2079266917902176,-2.986724008586826,-2.7655213253834345,-2.544318642180043,-2.3231159589766515,-2.10191327577326,-1.8807105925698684,-1.6595079093664769,-1.4383052261630853,-1.2171025429596938,-0.9958998597563022,-0.7746971765529107,-0.5534944933495192,-0.33229181014612763,-0.1110891269427361,0.11011355626065544,0.331316239464047,0.5525189226674385,0.77372160587083,0.9949242890742216,1.2161269722776131,1.4373296554810047,1.6585323386843962,1.8797350218877877,2.1009377050911793,2.322140388294571,2.5433430714979623,2.764545754701354],[-3.6503320581970007,-3.429129374993609,-3.2079266917902176,-2.986724008586826,-2.7655213253834345,-2.544318642180043,-2.3231159589766515,-2.10191327577326,-1.8807105925698684,-1.6595079093664769,-1.4383052261630853,-1.2171025429596938,-0.9958998597563022,-0.7746971765529107,-0.5534944933495192,-0.33229181014612763,-0.1110891269427361,0.11011355626065544,0.331316239464047,0.5525189226674385,0.77372160587083,0.9949242890742216,1.2161269722776131,1.4373296554810047,1.6585323386843962,1.8797350218877877,2.1009377050911793,2.322140388294571,2.5433430714979623,2.764545754701354],[-3.6503320581970007,-3.429129374993609,-3.2079266917902176,-2.986724008586826,-2.7655213253834345,-2.544318642180043,-2.3231159589766515,-2.10191327577326,-1.8807105925698684,-1.6595079093664769,-1.4383052261630853,-1.2171025429596938,-0.9958998597563022,-0.7746971765529107,-0.5534944933495192,-0.33229181014612763,-0.1110891269427361,0.11011355626065544,0.331316239464047,0.5525189226674385,0.77372160587083,0.9949242890742216,1.2161269722776131,1.4373296554810047,1.6585323386843962,1.8797350218877877,2.1009377050911793,2.322140388294571,2.5433430714979623,2.764545754701354],[-3.6503320581970007,-3.429129374993609,-3.2079266917902176,-2.986724008586826,-2.7655213253834345,-2.544318642180043,-2.3231159589766515,-2.10191327577326,-1.8807105925698684,-1.6595079093664769,-1.4383052261630853,-1.2171025429596938,-0.9958998597563022,-0.7746971765529107,-0.5534944933495192,-0.33229181014612763,-0.1110891269427361,0.11011355626065544,0.331316239464047,0.5525189226674385,0.77372160587083,0.9949242890742216,1.2161269722776131,1.4373296554810047,1.6585323386843962,1.8797350218877877,2.1009377050911793,2.322140388294571,2.5433430714979623,2.764545754701354],[-3.6503320581970007,-3.429129374993609,-3.2079266917902176,-2.986724008586826,-2.7655213253834345,-2.544318642180043,-2.3231159589766515,-2.10191327577326,-1.8807105925698684,-1.6595079093664769,-1.4383052261630853,-1.2171025429596938,-0.9958998597563022,-0.7746971765529107,-0.5534944933495192,-0.33229181014612763,-0.1110891269427361,0.11011355626065544,0.331316239464047,0.5525189226674385,0.77372160587083,0.9949242890742216,1.2161269722776131,1.4373296554810047,1.6585323386843962,1.8797350218877877,2.1009377050911793,2.322140388294571,2.5433430714979623,2.764545754701354],[-3.6503320581970007,-3.429129374993609,-3.2079266917902176,-2.986724008586826,-2.7655213253834345,-2.544318642180043,-2.3231159589766515,-2.10191327577326,-1.8807105925698684,-1.6595079093664769,-1.4383052261630853,-1.2171025429596938,-0.9958998597563022,-0.7746971765529107,-0.5534944933495192,-0.33229181014612763,-0.1110891269427361,0.11011355626065544,0.331316239464047,0.5525189226674385,0.77372160587083,0.9949242890742216,1.2161269722776131,1.4373296554810047,1.6585323386843962,1.8797350218877877,2.1009377050911793,2.322140388294571,2.5433430714979623,2.764545754701354],[-3.6503320581970007,-3.429129374993609,-3.2079266917902176,-2.986724008586826,-2.7655213253834345,-2.544318642180043,-2.3231159589766515,-2.10191327577326,-1.8807105925698684,-1.6595079093664769,-1.4383052261630853,-1.2171025429596938,-0.9958998597563022,-0.7746971765529107,-0.5534944933495192,-0.33229181014612763,-0.1110891269427361,0.11011355626065544,0.331316239464047,0.5525189226674385,0.77372160587083,0.9949242890742216,1.2161269722776131,1.4373296554810047,1.6585323386843962,1.8797350218877877,2.1009377050911793,2.322140388294571,2.5433430714979623,2.764545754701354],[-3.6503320581970007,-3.429129374993609,-3.2079266917902176,-2.986724008586826,-2.7655213253834345,-2.544318642180043,-2.3231159589766515,-2.10191327577326,-1.8807105925698684,-1.6595079093664769,-1.4383052261630853,-1.2171025429596938,-0.9958998597563022,-0.7746971765529107,-0.5534944933495192,-0.33229181014612763,-0.1110891269427361,0.11011355626065544,0.331316239464047,0.5525189226674385,0.77372160587083,0.9949242890742216,1.2161269722776131,1.4373296554810047,1.6585323386843962,1.8797350218877877,2.1009377050911793,2.322140388294571,2.5433430714979623,2.764545754701354],[-3.6503320581970007,-3.429129374993609,-3.2079266917902176,-2.986724008586826,-2.7655213253834345,-2.544318642180043,-2.3231159589766515,-2.10191327577326,-1.8807105925698684,-1.6595079093664769,-1.4383052261630853,-1.2171025429596938,-0.9958998597563022,-0.7746971765529107,-0.5534944933495192,-0.33229181014612763,-0.1110891269427361,0.11011355626065544,0.331316239464047,0.5525189226674385,0.77372160587083,0.9949242890742216,1.2161269722776131,1.4373296554810047,1.6585323386843962,1.8797350218877877,2.1009377050911793,2.322140388294571,2.5433430714979623,2.764545754701354],[-3.6503320581970007,-3.429129374993609,-3.2079266917902176,-2.986724008586826,-2.7655213253834345,-2.544318642180043,-2.3231159589766515,-2.10191327577326,-1.8807105925698684,-1.6595079093664769,-1.4383052261630853,-1.2171025429596938,-0.9958998597563022,-0.7746971765529107,-0.5534944933495192,-0.33229181014612763,-0.1110891269427361,0.11011355626065544,0.331316239464047,0.5525189226674385,0.77372160587083,0.9949242890742216,1.2161269722776131,1.4373296554810047,1.6585323386843962,1.8797350218877877,2.1009377050911793,2.322140388294571,2.5433430714979623,2.764545754701354],[-3.6503320581970007,-3.429129374993609,-3.2079266917902176,-2.986724008586826,-2.7655213253834345,-2.544318642180043,-2.3231159589766515,-2.10191327577326,-1.8807105925698684,-1.6595079093664769,-1.4383052261630853,-1.2171025429596938,-0.9958998597563022,-0.7746971765529107,-0.5534944933495192,-0.33229181014612763,-0.1110891269427361,0.11011355626065544,0.331316239464047,0.5525189226674385,0.77372160587083,0.9949242890742216,1.2161269722776131,1.4373296554810047,1.6585323386843962,1.8797350218877877,2.1009377050911793,2.322140388294571,2.5433430714979623,2.764545754701354],[-3.6503320581970007,-3.429129374993609,-3.2079266917902176,-2.986724008586826,-2.7655213253834345,-2.544318642180043,-2.3231159589766515,-2.10191327577326,-1.8807105925698684,-1.6595079093664769,-1.4383052261630853,-1.2171025429596938,-0.9958998597563022,-0.7746971765529107,-0.5534944933495192,-0.33229181014612763,-0.1110891269427361,0.11011355626065544,0.331316239464047,0.5525189226674385,0.77372160587083,0.9949242890742216,1.2161269722776131,1.4373296554810047,1.6585323386843962,1.8797350218877877,2.1009377050911793,2.322140388294571,2.5433430714979623,2.764545754701354],[-3.6503320581970007,-3.429129374993609,-3.2079266917902176,-2.986724008586826,-2.7655213253834345,-2.544318642180043,-2.3231159589766515,-2.10191327577326,-1.8807105925698684,-1.6595079093664769,-1.4383052261630853,-1.2171025429596938,-0.9958998597563022,-0.7746971765529107,-0.5534944933495192,-0.33229181014612763,-0.1110891269427361,0.11011355626065544,0.331316239464047,0.5525189226674385,0.77372160587083,0.9949242890742216,1.2161269722776131,1.4373296554810047,1.6585323386843962,1.8797350218877877,2.1009377050911793,2.322140388294571,2.5433430714979623,2.764545754701354],[-3.6503320581970007,-3.429129374993609,-3.2079266917902176,-2.986724008586826,-2.7655213253834345,-2.544318642180043,-2.3231159589766515,-2.10191327577326,-1.8807105925698684,-1.6595079093664769,-1.4383052261630853,-1.2171025429596938,-0.9958998597563022,-0.7746971765529107,-0.5534944933495192,-0.33229181014612763,-0.1110891269427361,0.11011355626065544,0.331316239464047,0.5525189226674385,0.77372160587083,0.9949242890742216,1.2161269722776131,1.4373296554810047,1.6585323386843962,1.8797350218877877,2.1009377050911793,2.322140388294571,2.5433430714979623,2.764545754701354],[-3.6503320581970007,-3.429129374993609,-3.2079266917902176,-2.986724008586826,-2.7655213253834345,-2.544318642180043,-2.3231159589766515,-2.10191327577326,-1.8807105925698684,-1.6595079093664769,-1.4383052261630853,-1.2171025429596938,-0.9958998597563022,-0.7746971765529107,-0.5534944933495192,-0.33229181014612763,-0.1110891269427361,0.11011355626065544,0.331316239464047,0.5525189226674385,0.77372160587083,0.9949242890742216,1.2161269722776131,1.4373296554810047,1.6585323386843962,1.8797350218877877,2.1009377050911793,2.322140388294571,2.5433430714979623,2.764545754701354],[-3.6503320581970007,-3.429129374993609,-3.2079266917902176,-2.986724008586826,-2.7655213253834345,-2.544318642180043,-2.3231159589766515,-2.10191327577326,-1.8807105925698684,-1.6595079093664769,-1.4383052261630853,-1.2171025429596938,-0.9958998597563022,-0.7746971765529107,-0.5534944933495192,-0.33229181014612763,-0.1110891269427361,0.11011355626065544,0.331316239464047,0.5525189226674385,0.77372160587083,0.9949242890742216,1.2161269722776131,1.4373296554810047,1.6585323386843962,1.8797350218877877,2.1009377050911793,2.322140388294571,2.5433430714979623,2.764545754701354],[-3.6503320581970007,-3.429129374993609,-3.2079266917902176,-2.986724008586826,-2.7655213253834345,-2.544318642180043,-2.3231159589766515,-2.10191327577326,-1.8807105925698684,-1.6595079093664769,-1.4383052261630853,-1.2171025429596938,-0.9958998597563022,-0.7746971765529107,-0.5534944933495192,-0.33229181014612763,-0.1110891269427361,0.11011355626065544,0.331316239464047,0.5525189226674385,0.77372160587083,0.9949242890742216,1.2161269722776131,1.4373296554810047,1.6585323386843962,1.8797350218877877,2.1009377050911793,2.322140388294571,2.5433430714979623,2.764545754701354],[-3.6503320581970007,-3.429129374993609,-3.2079266917902176,-2.986724008586826,-2.7655213253834345,-2.544318642180043,-2.3231159589766515,-2.10191327577326,-1.8807105925698684,-1.6595079093664769,-1.4383052261630853,-1.2171025429596938,-0.9958998597563022,-0.7746971765529107,-0.5534944933495192,-0.33229181014612763,-0.1110891269427361,0.11011355626065544,0.331316239464047,0.5525189226674385,0.77372160587083,0.9949242890742216,1.2161269722776131,1.4373296554810047,1.6585323386843962,1.8797350218877877,2.1009377050911793,2.322140388294571,2.5433430714979623,2.764545754701354],[-3.6503320581970007,-3.429129374993609,-3.2079266917902176,-2.986724008586826,-2.7655213253834345,-2.544318642180043,-2.3231159589766515,-2.10191327577326,-1.8807105925698684,-1.6595079093664769,-1.4383052261630853,-1.2171025429596938,-0.9958998597563022,-0.7746971765529107,-0.5534944933495192,-0.33229181014612763,-0.1110891269427361,0.11011355626065544,0.331316239464047,0.5525189226674385,0.77372160587083,0.9949242890742216,1.2161269722776131,1.4373296554810047,1.6585323386843962,1.8797350218877877,2.1009377050911793,2.322140388294571,2.5433430714979623,2.764545754701354]],\"z\":[[138.71516994593884,116.60099497411818,98.92176560434649,85.05224766686426,74.4285576059774,66.5445900525491,60.94844539649176,57.23885735925884,55.061620566336586,54.1060181197362,54.101249170485374,54.812856491120385,56.039154048177835,57.60765457468657,59.37149714265954,61.20587473558564,63.00446182092166,64.67584192258403,66.13993519344073,67.32442598780321,68.16119043391821,68.5827240064596,68.51856909902028,67.89174259660409,66.61516344811757,64.5880802388619,61.69249876302472,57.78960959617213,52.71621566774026,46.28115983352756],[129.65364946330737,107.60512620391029,89.87568539319246,75.85410314326981,64.98999164430641,56.79022673700612,50.81537548510444,46.67612374786051,44.02970375254883,42.57632166695125,42.055585171848755,42.242931033513344,42.94605267619993,44.001327754638176,45.27024572652439,46.63583542501329,47.99909263121005,49.275407646661975,50.39099286585051,51.27931034868304,51.87749939298477,52.12280410699055,51.949000981836825,51.28282646405346,50.04040452805552,48.123674248635325,45.416817373454094,41.782685895534016,37.05922962574997,31.055923765321474],[121.66449745455094,99.82170736016533,82.18037413411236,68.14293782853149,57.172160037592704,48.78755146998832,42.56179952142487,38.11719584711499,35.12206393426924,33.287186674588,32.36223393675337,32.13219013892097,32.41378182121179,33.05190521820419,33.916053831425636,34.896746001844555,35.901952482362304,36.853524010305,37.68361887991532,38.33113051484444,38.73811504064386,38.84621885725728,38.59310621151253,37.908886769613275,36.71254318963107,34.90835869399711,32.38234464199407,28.998668102248114,24.59607942522061,18.984339815700068],[114.54844232283779,93.0333207059426,75.60087869097283,61.666873928239255,50.706871074065596,42.252669363280525,35.88873018170938,31.248604638666148,28.01136113944531,25.89801295781364,24.66794580850215,24.115345419697913,24.065625105535922,24.371853338591006,24.911181322369632,25.58127056380181,26.296720445732944,26.985495799415727,27.585354477001953,28.040274924034417,28.296883751938793,28.300883310515463,27.99347926043142,27.307808145712084,26.16536496623325,24.472430750212848,22.1165001267029,18.962708898081342,14.850261612543893,9.588859136595905],[108.13426100323616,87.05107736361725,69.93125511437196,56.20352316213015,45.35590288351716,36.93213569764584,30.5281106386082,25.788291927967443,22.402146547249757,20.100571810436165,18.65232293645446,17.86044062167099,17.55867861238259,17.6079312773084,17.89266118008177,18.317326651742086,18.802809363226668,19.28284189786262,19.700435323858688,20.004306766797153,20.14530698212568,20.07284792764917,19.731330336021657,19.05657128723814,17.97223178112647,16.386244309839206,14.187240430345511,11.240978336922957,7.386770433649445,2.433910906895038],[102.27793496852237,81.71377332068815,64.99372464744712,51.5591427698961,40.91015944311001,32.60211192863359,26.241970566973432,21.484766350089764,18.03001849388834,15.61816201071229,14.026975281833993,13.068007629946957,12.583006891657664,12.44034698997744,12.53145550681433,12.767241255464953,13.074521853106372,13.392451293287964,13.66894751842328,13.857119992281905,13.911697272481343,13.785454582978865,13.425641386563374,12.770408957347287,11.745237953258387,10.259365988531687,8.20221520620131,5.439819850592334,1.8112538398126832,-2.874941661755037],[96.86180623498862,76.88704543558549,60.6378297316827,47.56779151699183,37.18882658318508,29.067521692387096,22.82158214966678,18.11625937552929,14.66077847840776,12.204765827155272,10.534676623536663,9.470222474720407,8.860798965770488,8.58191323213826,8.531611532154304,8.626906819520318,8.800206315800954,8.9957390829157,9.165983595630744,9.268095314050832,9.260334256111141,9.098492570069158,8.73232210699651,8.101961993270855,7.1343662030677555,5.739731130852515,3.8079231638720747,1.2049062546468576,-2.230830506537361,-6.6918453191375775],[91.79373336825063,72.46252744347885,56.73959001271806,44.090485700442485,34.038527993069515,26.161206811451436,20.086616083367396,15.489881316015259,12.089587168503424,9.644205024342746,7.9485205639383505,6.830061337081544,6.145524335441645,5.777203565057877,5.629417618831215,5.624937249016255,5.701412939713093,5.807802479359167,5.900798533221143,5.941256215886775,5.890620663756764,5.707354607536634,5.3433659447285855,4.740435312123377,3.8266436582921703,2.5127998160784184,0.688868075089716,-1.7796042458103347,-5.055059226010247,-9.331500770658792],[87.00624748905571,68.3570059620849,53.200658346155336,41.014355154651746,31.332481226884504,23.743083300581446,17.884297584379773,13.440777330317907,10.140120406327345,7.749296868724558,6.071076534702817,4.940456554824083,4.221088985510872,3.801708361538109,3.5925592685249956,3.521823915426891,3.5320497070271566,3.5765768164290352,3.6159657575475164,3.6144249576011904,3.5362383296041306,3.3421928448577445,2.98600610544265,2.4107539167105343,1.5452978597760203,0.30071286400853925,-1.4332852204758153,-3.7919120503224115,-6.93888721644622,-11.070006671539943],[82.45570827909054,64.51157649747529,49.947476803367266,38.251799257209484,28.96965370935314,21.699297372549474,16.08856239444156,11.831283430056237,8.663725214295951,6.361010134430621,4.733545802589508,3.623452628253077,2.900991390744868,2.4609908117233577,2.219275127673825,2.1090916624002207,2.0775383995170245,2.081991554941124,2.086533149383667,2.058378580841934,1.9643041970912047,1.7670748681766193,1.4218715589050492,0.8727189013369582,0.04891276727826965,-1.1385521592277668,-2.80055480940871,-5.0734201572710615,-8.122491647108403,-12.145703621009524],[78.12145998678889,60.89079944988455,46.93043267730506,35.73964293469966,26.873918741608236,19.941381443953198,14.599212786531389,10.550082485505898,7.538575800897947,5.3476211090787595,3.7949174752614203,2.7293622259927446,2.0274785216451416,1.58984292890848,1.3375129932819556,1.2084548115659555,1.1539706043539235,1.1351262885242273,1.1191790497320215,1.0760049149011168,0.9745263247158427,0.7791397061129137,0.44614304477329714,-0.07983654238592408,-0.8694152347196848,-2.012024935363071,-3.6194856987394544,-5.829578158068628,-8.80961595287494,-12.760018156495427],[74.00498743313966,57.4818561195178,44.12301448830625,33.43829266850822,24.993211507000158,18.405410141023538,13.341073570676755,9.51136023140701,6.66882956650215,4.603869599582536,3.1411245070929272,2.135922190794325,1.4707018502558518,1.0514415553466128,0.804085818727561,0.6709731683433644,0.60726371991427,0.5773667494279705,0.5513682656314706,0.5014585825229502,0.39835989184363363,0.20775383556965155,-0.11329092159609039,-0.6198911197320477,-1.3829213312061703,-2.492586388184039,-4.061993810136995,-6.23072623135028,-9.168413828431166,-13.078306747817098],[70.12907201749456,54.29370471235872,41.520967989902445,31.330892500630835,23.298685076904707,17.051156305432425,12.263148099761814,8.653961272772008,5.983783109165319,4.050114937959102,2.6841997049776203,1.7474495453439105,1.1278733559716494,0.7365043680570205,0.5038277195705774,0.3762080277491104,0.31231696158751276,0.27956081433064545,0.2505080759652034,0.19931700571158098,0.09816320451573748,-0.08633281245893683,-0.39667804333975565,-0.8880794270528702,-1.6320162708314045,-2.7198126777235885,-4.266209974100894,-6.412939137166168,-9.332293222461766,-13.230699791377688],[66.53694772337607,51.35623634597729,39.141452174627275,29.422480039480813,21.783866416530923,15.861247000100702,11.337774275335253,7.940545090693481,5.4370282304400135,3.631491987137032,2.361431734136155,1.4939974980702915,0.9224215313455175,0.5624458846329359,0.3487499793605437,0.23137818020509637,0.1721673675839753,0.1411745101470523,0.11310423726855545,0.06373641153893511,-0.033646298743270846,-0.21183084707957117,-0.5132462362796558,-0.9935359459695297,-1.725130360099647,-2.800819194453048,-4.33732392415349,-6.4788702111735805,-9.40076033184292,-13.31294560435622],[63.29145712428512,48.71943105533771,37.02219527982421,27.739142465696922,20.463812390728933,14.840319515005932,10.559780553418113,7.35674204815202,5.005607941182422,3.3170671467641757,2.1345211239240913,1.3305114489527985,0.8031473878966138,0.4725334690494015,0.2771970554444438,0.17051591734630445,0.1171458047426954,0.08944801983634154,0.06391698953684673,0.01760783795255966,-0.07543604111756094,-0.24775541169208012,-0.5420476231152217,-1.0147390375650018,-1.7395574575613644,-2.8111045534743138,-4.34842829103205,-6.498595358829105,-9.440263595834473,-13.387254418899747],[60.47420738950912,46.452513798606205,35.22065079345434,26.327172537951213,19.374265769797812,14.014177372990245,9.945641950311654,6.910309395824054,4.6891724673602075,3.0989943590154843,1.9887362736397334,1.235984995329143,0.7433804619181114,0.4350433374711096,0.25300258477454696,0.15362303782863806,0.10403297433926728,0.07855168820985528,0.055117062033224126,0.0117131395834632,-0.07720230169220525,-0.2442701781815604,-0.5328025276155172,-1.0003549365762607,-1.722298968005381,-2.795394588712006,-4.341362596880938,-6.5104570495807845,-9.485037690272097,-13.483142376315504],[58.18472628992969,44.643110462958866,33.8131534599043,25.2522245987569,18.5708112352934,13.428946335568181,9.532636048405173,6.630287277889698,4.509135255860354,2.9916711144008694,1.9320694583319726,1.2126159377032553,0.7401348202850404,0.4424165640602454,0.26464538971625057,0.16582685313676288,0.11521541789368257,0.08874202773896807,0.06544167909650211,0.023880993553957303,-0.061414209645338246,-0.2235313411105353,-0.5067434688113978,-0.9700817455864372,-1.6909078366510468,-2.768486347105637,-4.327557249443766,-6.5219083110602805,-9.537947521759444,-13.598275521263075],[56.53961820383053,43.39640387038949,32.89407528579404,24.59847058027616,18.128031385836163,13.15023040873454,9.377999001983852,6.566154737840579,4.5078289802969955,3.0308944575730283,1.9943928346081292,1.2849622855531329,0.8132650662621288,0.5104150867843269,0.3244054838559194,0.21653619339194832,0.1578415229781716,0.1255177243629284,0.09935056594900431,0.05814290528549779,-0.02385773844031492,-0.1805316119111137,-0.457459155187669,-0.9154934292169759,-1.6343325433403897,-2.716092082801758,-4.288877536255558,-6.510356723275026,-9.571332221860299,-13.699313795946544],[55.67172012270525,42.83428978351743,32.57498154578471,24.467756010128,18.138662742919013,13.2622678487722,9.558081543036607,6.786985724287698,4.7476615468192715,3.2730169931352986,2.22661444644179,1.4990982631386718,1.004622345311644,0.6772777132240467,0.4675200778087283,0.33859741315990816,0.2629775290250447,0.21877564329669982,0.18618195450440472,0.14388921430652585,0.06552029998213031,-0.08394421307714849,-0.3517384788752452,-0.8008838083197964,-1.513761096730276,-2.595683251346128,-4.178467618834903,-6.424008412800389,-9.527849141290751,-13.72275503430666],[55.729257657065205,43.09453291139542,32.9837867883865,24.978756017196083,18.712751756715168,13.867087168059992,10.16750498706392,7.380605096769253,5.310272099919159,3.7941028914494836,2.699834230980653,1.921770315309519,1.3772103509012334,1.002876126381113,0.7513395850265028,0.5874503972586428,0.4847635331345336,0.42196683483880254,0.3793085891755689,0.33502510006030983,0.2617682610117252,0.12303312764360438,-0.13041450984330885,-0.5641105541694502,-1.2634650284845697,-2.3373345038758657,-3.9215945268761194,-6.182712046971828,-9.321317844111343,-13.575778956212996],[56.875001042247376,44.32992291531747,34.263910841766474,26.266131337436597,19.97681081188599,15.083663140880512,11.318317238885685,8.4527446315585,6.295687028239315,4.689083894443716,3.5045000243543702,2.639553113312906,2.014341330311769,1.5678708904860932,1.2544836276055626,1.0402845665662805,0.8995694958826332,0.8112525401791553,0.7552937326823964,0.7091265877127865,0.6440856731765012,0.5218341830573284,0.2907915099085324,-0.11743918265527911,-0.79164338746629,-1.8445676813116103,-3.4164921524414105,-5.678802828077052,-8.83756410191923,-13.137091161656103],[59.285421144222184,46.707430414626614,36.573434819556354,28.479684319686054,22.072974233388813,17.04707280922797,13.139148798449042,10.126199027471557,7.821475970380917,6.0709153214202685,4.74956356748238,3.7580055606014873,3.0187920904451775,2.4728674568062456,2.0759970420945546,1.795194883828914,1.6051512471289384,1.4846601972069116,1.4130471718596562,1.3665965539603984,1.3149792439506311,1.2176802323319829,1.0204261721580812,0.6516129515264203,0.018733266070224297,-0.9951958085496861,-2.535205244153026,-4.777946487548184,-7.935263888040356,-12.25776712493967],[63.14984546540132,50.40736299252285,40.08425712666048,31.783514931469178,25.158154292284806,19.907651488616043,15.774368766636247,12.539981911675307,10.021907820711515,8.069732074863435,6.561636511881764,5.400826798641201,4.511960003632307,3.837572169453381,3.334505885302311,2.9703378594684566,2.7198064918244973,2.561239446318314,2.4729812234648425,2.4298207328379466,2.3994188655622812,2.338736066805156,2.190459908268407,1.8794326606802527,1.3090788662871709,0.3578329113457559,-1.1244334013854127,-3.319983280153904,-6.446787371721571,-10.76209618887268],[68.6696141504456,55.62252120187087,44.98124946506355,36.355176764806686,29.403197211546782,23.83014877388569,19.38324085107245,15.84848184549516,13.04710673517284,10.832004646247318,9.084146425475064,7.70901221271907,6.633019013440727,5.799948271191672,5.167373440105667,4.703087557390454,4.381530815819633,4.180218136224512,4.07616673998599,4.042323721526412,4.04399362080143,4.035265995791885,3.9554429949956567,3.7254669299195387,3.2443478475710994,2.3855911029505483,0.9936249315426053,-1.119771978191637,-4.179042912322849,-8.448425558961596],[76.05723599207278,62.557354571008055,51.461412839638534,42.38483304202321,34.9920391718671,28.992884545013055,24.13907937193363,20.220618330222983,17.062208137088724,14.519695121843753,12.476492798398166,10.840009437751107,9.53807564048262,8.515371909245543,7.729856221257332,7.149191600791972,6.7471736916718115,6.500158329759442,6.383489115449555,6.367924986160826,6.416067788827746,6.478789852392532,6.491661560296947,6.371378922974199,6.012191150340791,5.282328224288396,4.020428471175713,2.0319661343203332,-0.9143210535093784,-5.090004297602447],[85.53554443686548,71.42711760955216,59.7330335639544,50.07441262155504,42.1208623174654,35.586904972917175,30.22840526775431,25.838997812924845,22.246514722972805,19.309413188530023,16.91320304880807,14.966874364090065,13.39932498822257,12.155788141107436,11.194259981193683,10.481927177969371,9.991594484453442,9.698112309687605,9.574804291228205,9.589894867638066,9.702936850978384,9.861238999300571,9.99629358913813,10.02020398799853,9.822112226855047,9.264626572638651,8.18024910072987,6.367803267450645,3.5888614825561946,-0.43582731827310184],[97.33685359107895,82.45702581420926,70.01483926608415,59.636766003758126,50.99725076189661,43.81513852526805,37.85010210123557,32.899069692248986,28.792652468336534,25.391572139596867,22.583088528690837,20.2774271433334,18.404206748785466,16.90886694034576,15.749095715842698,14.89125704812624,14.306818457559785,13.968778584512005,13.848094761848722,13.910110587424771,14.110983496575875,14.394112334610506,14.686564929301742,14.895505663379138,14.904623047020607,14.57055729034425,13.719327875900262,12.142761131162779,9.594917801021726,5.788520620274722],[111.70211422644883,95.88141167458147,82.53515489441241,71.29482133671557,61.83934659385854,53.891551972294174,47.21457206505268,41.60828232423345,36.905726633496855,32.969544880556114,29.688400529669284,26.97340819413096,24.75456120876425,22.977159202412594,21.598235670431635,20.582985547181114,19.901192778516695,19.52365789428186,19.418625580799752,19.54821225336507,19.8648336287359,20.30763229762561,20.798905297194693,21.24053168354265,21.510400104199864,21.45883637061941,20.90503103066899,19.633466941122776,17.39034684015325,13.880020919823101],[128.88006978599932,111.94288067897506,97.53105872344356,85.28074042204612,74.87500588300006,66.04030639259071,58.542891987663175,52.18523902811422,46.8024777693842,42.25881993494879,38.443986288811026,35.26963420799302,32.665785255027906,30.57725275045169,28.9600693452951,27.777914593575474,26.998542524788594,26.590209216400602,26.5181003663398,26.74075886548858,27.20651237017525,27.849900874665906,28.588104283656318,29.317369984763744,29.909440421018896,30.20798066335766,30.02500598311311,29.137309424507276,27.282889377143047,24.15737714849601],[149.1264123898505,130.89146732020785,115.24753835960924,101.83507472071112,90.34095468572855,80.49491317892702,72.0659693391144,64.85885409213274,58.71043772335014,53.48615745015264,49.076444994436045,45.39315415509787,42.36598838052908,39.93892834110613,38.06665950168264,36.710999694081394,35.837326689586156,35.411005771433516,35.39381730730484,35.740384321818034,36.39460006901947,37.286055604875806,38.326467359765935,39.40610471097275,40.39021755517506,41.11546388093948,41.38633734121224,40.971594825811096,39.60068403391717,36.96017104656683]],\"type\":\"surface\"}],                        {\"margin\":{\"b\":10,\"l\":10,\"r\":20,\"t\":10},\"scene\":{\"xaxis\":{\"nticks\":4,\"range\":[-4,4]},\"yaxis\":{\"nticks\":4,\"range\":[-4,4]},\"zaxis\":{\"nticks\":4,\"range\":[-13.6214371245785,77.80395611544132]}},\"template\":{\"data\":{\"barpolar\":[{\"marker\":{\"line\":{\"color\":\"#E5ECF6\",\"width\":0.5},\"pattern\":{\"fillmode\":\"overlay\",\"size\":10,\"solidity\":0.2}},\"type\":\"barpolar\"}],\"bar\":[{\"error_x\":{\"color\":\"#2a3f5f\"},\"error_y\":{\"color\":\"#2a3f5f\"},\"marker\":{\"line\":{\"color\":\"#E5ECF6\",\"width\":0.5},\"pattern\":{\"fillmode\":\"overlay\",\"size\":10,\"solidity\":0.2}},\"type\":\"bar\"}],\"carpet\":[{\"aaxis\":{\"endlinecolor\":\"#2a3f5f\",\"gridcolor\":\"white\",\"linecolor\":\"white\",\"minorgridcolor\":\"white\",\"startlinecolor\":\"#2a3f5f\"},\"baxis\":{\"endlinecolor\":\"#2a3f5f\",\"gridcolor\":\"white\",\"linecolor\":\"white\",\"minorgridcolor\":\"white\",\"startlinecolor\":\"#2a3f5f\"},\"type\":\"carpet\"}],\"choropleth\":[{\"colorbar\":{\"outlinewidth\":0,\"ticks\":\"\"},\"type\":\"choropleth\"}],\"contourcarpet\":[{\"colorbar\":{\"outlinewidth\":0,\"ticks\":\"\"},\"type\":\"contourcarpet\"}],\"contour\":[{\"colorbar\":{\"outlinewidth\":0,\"ticks\":\"\"},\"colorscale\":[[0.0,\"#0d0887\"],[0.1111111111111111,\"#46039f\"],[0.2222222222222222,\"#7201a8\"],[0.3333333333333333,\"#9c179e\"],[0.4444444444444444,\"#bd3786\"],[0.5555555555555556,\"#d8576b\"],[0.6666666666666666,\"#ed7953\"],[0.7777777777777778,\"#fb9f3a\"],[0.8888888888888888,\"#fdca26\"],[1.0,\"#f0f921\"]],\"type\":\"contour\"}],\"heatmapgl\":[{\"colorbar\":{\"outlinewidth\":0,\"ticks\":\"\"},\"colorscale\":[[0.0,\"#0d0887\"],[0.1111111111111111,\"#46039f\"],[0.2222222222222222,\"#7201a8\"],[0.3333333333333333,\"#9c179e\"],[0.4444444444444444,\"#bd3786\"],[0.5555555555555556,\"#d8576b\"],[0.6666666666666666,\"#ed7953\"],[0.7777777777777778,\"#fb9f3a\"],[0.8888888888888888,\"#fdca26\"],[1.0,\"#f0f921\"]],\"type\":\"heatmapgl\"}],\"heatmap\":[{\"colorbar\":{\"outlinewidth\":0,\"ticks\":\"\"},\"colorscale\":[[0.0,\"#0d0887\"],[0.1111111111111111,\"#46039f\"],[0.2222222222222222,\"#7201a8\"],[0.3333333333333333,\"#9c179e\"],[0.4444444444444444,\"#bd3786\"],[0.5555555555555556,\"#d8576b\"],[0.6666666666666666,\"#ed7953\"],[0.7777777777777778,\"#fb9f3a\"],[0.8888888888888888,\"#fdca26\"],[1.0,\"#f0f921\"]],\"type\":\"heatmap\"}],\"histogram2dcontour\":[{\"colorbar\":{\"outlinewidth\":0,\"ticks\":\"\"},\"colorscale\":[[0.0,\"#0d0887\"],[0.1111111111111111,\"#46039f\"],[0.2222222222222222,\"#7201a8\"],[0.3333333333333333,\"#9c179e\"],[0.4444444444444444,\"#bd3786\"],[0.5555555555555556,\"#d8576b\"],[0.6666666666666666,\"#ed7953\"],[0.7777777777777778,\"#fb9f3a\"],[0.8888888888888888,\"#fdca26\"],[1.0,\"#f0f921\"]],\"type\":\"histogram2dcontour\"}],\"histogram2d\":[{\"colorbar\":{\"outlinewidth\":0,\"ticks\":\"\"},\"colorscale\":[[0.0,\"#0d0887\"],[0.1111111111111111,\"#46039f\"],[0.2222222222222222,\"#7201a8\"],[0.3333333333333333,\"#9c179e\"],[0.4444444444444444,\"#bd3786\"],[0.5555555555555556,\"#d8576b\"],[0.6666666666666666,\"#ed7953\"],[0.7777777777777778,\"#fb9f3a\"],[0.8888888888888888,\"#fdca26\"],[1.0,\"#f0f921\"]],\"type\":\"histogram2d\"}],\"histogram\":[{\"marker\":{\"pattern\":{\"fillmode\":\"overlay\",\"size\":10,\"solidity\":0.2}},\"type\":\"histogram\"}],\"mesh3d\":[{\"colorbar\":{\"outlinewidth\":0,\"ticks\":\"\"},\"type\":\"mesh3d\"}],\"parcoords\":[{\"line\":{\"colorbar\":{\"outlinewidth\":0,\"ticks\":\"\"}},\"type\":\"parcoords\"}],\"pie\":[{\"automargin\":true,\"type\":\"pie\"}],\"scatter3d\":[{\"line\":{\"colorbar\":{\"outlinewidth\":0,\"ticks\":\"\"}},\"marker\":{\"colorbar\":{\"outlinewidth\":0,\"ticks\":\"\"}},\"type\":\"scatter3d\"}],\"scattercarpet\":[{\"marker\":{\"colorbar\":{\"outlinewidth\":0,\"ticks\":\"\"}},\"type\":\"scattercarpet\"}],\"scattergeo\":[{\"marker\":{\"colorbar\":{\"outlinewidth\":0,\"ticks\":\"\"}},\"type\":\"scattergeo\"}],\"scattergl\":[{\"marker\":{\"colorbar\":{\"outlinewidth\":0,\"ticks\":\"\"}},\"type\":\"scattergl\"}],\"scattermapbox\":[{\"marker\":{\"colorbar\":{\"outlinewidth\":0,\"ticks\":\"\"}},\"type\":\"scattermapbox\"}],\"scatterpolargl\":[{\"marker\":{\"colorbar\":{\"outlinewidth\":0,\"ticks\":\"\"}},\"type\":\"scatterpolargl\"}],\"scatterpolar\":[{\"marker\":{\"colorbar\":{\"outlinewidth\":0,\"ticks\":\"\"}},\"type\":\"scatterpolar\"}],\"scatter\":[{\"marker\":{\"colorbar\":{\"outlinewidth\":0,\"ticks\":\"\"}},\"type\":\"scatter\"}],\"scatterternary\":[{\"marker\":{\"colorbar\":{\"outlinewidth\":0,\"ticks\":\"\"}},\"type\":\"scatterternary\"}],\"surface\":[{\"colorbar\":{\"outlinewidth\":0,\"ticks\":\"\"},\"colorscale\":[[0.0,\"#0d0887\"],[0.1111111111111111,\"#46039f\"],[0.2222222222222222,\"#7201a8\"],[0.3333333333333333,\"#9c179e\"],[0.4444444444444444,\"#bd3786\"],[0.5555555555555556,\"#d8576b\"],[0.6666666666666666,\"#ed7953\"],[0.7777777777777778,\"#fb9f3a\"],[0.8888888888888888,\"#fdca26\"],[1.0,\"#f0f921\"]],\"type\":\"surface\"}],\"table\":[{\"cells\":{\"fill\":{\"color\":\"#EBF0F8\"},\"line\":{\"color\":\"white\"}},\"header\":{\"fill\":{\"color\":\"#C8D4E3\"},\"line\":{\"color\":\"white\"}},\"type\":\"table\"}]},\"layout\":{\"annotationdefaults\":{\"arrowcolor\":\"#2a3f5f\",\"arrowhead\":0,\"arrowwidth\":1},\"autotypenumbers\":\"strict\",\"coloraxis\":{\"colorbar\":{\"outlinewidth\":0,\"ticks\":\"\"}},\"colorscale\":{\"diverging\":[[0,\"#8e0152\"],[0.1,\"#c51b7d\"],[0.2,\"#de77ae\"],[0.3,\"#f1b6da\"],[0.4,\"#fde0ef\"],[0.5,\"#f7f7f7\"],[0.6,\"#e6f5d0\"],[0.7,\"#b8e186\"],[0.8,\"#7fbc41\"],[0.9,\"#4d9221\"],[1,\"#276419\"]],\"sequential\":[[0.0,\"#0d0887\"],[0.1111111111111111,\"#46039f\"],[0.2222222222222222,\"#7201a8\"],[0.3333333333333333,\"#9c179e\"],[0.4444444444444444,\"#bd3786\"],[0.5555555555555556,\"#d8576b\"],[0.6666666666666666,\"#ed7953\"],[0.7777777777777778,\"#fb9f3a\"],[0.8888888888888888,\"#fdca26\"],[1.0,\"#f0f921\"]],\"sequentialminus\":[[0.0,\"#0d0887\"],[0.1111111111111111,\"#46039f\"],[0.2222222222222222,\"#7201a8\"],[0.3333333333333333,\"#9c179e\"],[0.4444444444444444,\"#bd3786\"],[0.5555555555555556,\"#d8576b\"],[0.6666666666666666,\"#ed7953\"],[0.7777777777777778,\"#fb9f3a\"],[0.8888888888888888,\"#fdca26\"],[1.0,\"#f0f921\"]]},\"colorway\":[\"#636efa\",\"#EF553B\",\"#00cc96\",\"#ab63fa\",\"#FFA15A\",\"#19d3f3\",\"#FF6692\",\"#B6E880\",\"#FF97FF\",\"#FECB52\"],\"font\":{\"color\":\"#2a3f5f\"},\"geo\":{\"bgcolor\":\"white\",\"lakecolor\":\"white\",\"landcolor\":\"#E5ECF6\",\"showlakes\":true,\"showland\":true,\"subunitcolor\":\"white\"},\"hoverlabel\":{\"align\":\"left\"},\"hovermode\":\"closest\",\"mapbox\":{\"style\":\"light\"},\"paper_bgcolor\":\"white\",\"plot_bgcolor\":\"#E5ECF6\",\"polar\":{\"angularaxis\":{\"gridcolor\":\"white\",\"linecolor\":\"white\",\"ticks\":\"\"},\"bgcolor\":\"#E5ECF6\",\"radialaxis\":{\"gridcolor\":\"white\",\"linecolor\":\"white\",\"ticks\":\"\"}},\"scene\":{\"xaxis\":{\"backgroundcolor\":\"#E5ECF6\",\"gridcolor\":\"white\",\"gridwidth\":2,\"linecolor\":\"white\",\"showbackground\":true,\"ticks\":\"\",\"zerolinecolor\":\"white\"},\"yaxis\":{\"backgroundcolor\":\"#E5ECF6\",\"gridcolor\":\"white\",\"gridwidth\":2,\"linecolor\":\"white\",\"showbackground\":true,\"ticks\":\"\",\"zerolinecolor\":\"white\"},\"zaxis\":{\"backgroundcolor\":\"#E5ECF6\",\"gridcolor\":\"white\",\"gridwidth\":2,\"linecolor\":\"white\",\"showbackground\":true,\"ticks\":\"\",\"zerolinecolor\":\"white\"}},\"shapedefaults\":{\"line\":{\"color\":\"#2a3f5f\"}},\"ternary\":{\"aaxis\":{\"gridcolor\":\"white\",\"linecolor\":\"white\",\"ticks\":\"\"},\"baxis\":{\"gridcolor\":\"white\",\"linecolor\":\"white\",\"ticks\":\"\"},\"bgcolor\":\"#E5ECF6\",\"caxis\":{\"gridcolor\":\"white\",\"linecolor\":\"white\",\"ticks\":\"\"}},\"title\":{\"x\":0.05},\"xaxis\":{\"automargin\":true,\"gridcolor\":\"white\",\"linecolor\":\"white\",\"ticks\":\"\",\"title\":{\"standoff\":15},\"zerolinecolor\":\"white\",\"zerolinewidth\":2},\"yaxis\":{\"automargin\":true,\"gridcolor\":\"white\",\"linecolor\":\"white\",\"ticks\":\"\",\"title\":{\"standoff\":15},\"zerolinecolor\":\"white\",\"zerolinewidth\":2}}},\"width\":700},                        {\"responsive\": true}                    ).then(function(){\n",
       "                            \n",
       "var gd = document.getElementById('85f71113-dfc4-4e17-8552-00d1a2c94b9f');\n",
       "var x = new MutationObserver(function (mutations, observer) {{\n",
       "        var display = window.getComputedStyle(gd).display;\n",
       "        if (!display || display === 'none') {{\n",
       "            console.log([gd, 'removed!']);\n",
       "            Plotly.purge(gd);\n",
       "            observer.disconnect();\n",
       "        }}\n",
       "}});\n",
       "\n",
       "// Listen for the removal of the full notebook cells\n",
       "var notebookContainer = gd.closest('#notebook-container');\n",
       "if (notebookContainer) {{\n",
       "    x.observe(notebookContainer, {childList: true});\n",
       "}}\n",
       "\n",
       "// Listen for the clearing of the current output cell\n",
       "var outputEl = gd.closest('.output');\n",
       "if (outputEl) {{\n",
       "    x.observe(outputEl, {childList: true});\n",
       "}}\n",
       "\n",
       "                        })                };                });            </script>        </div>"
      ]
     },
     "metadata": {},
     "output_type": "display_data"
    }
   ],
   "source": [
    "# See how well your result fits the training set (no input needed)\n",
    "zz = [r[0] for r in y]\n",
    "trace = go.Scatter3d(x=Xhat[:,1], y=Xhat[:,2], z=zz, mode='markers',marker=dict(size=5))\n",
    "xs,ys = Xhat[:,1],Xhat[:,2]\n",
    "xxx = np.outer(np.linspace(min(xs), max(xs), 30), np.ones(30))\n",
    "yyy = np.outer(np.linspace(min(ys), max(ys), 30), np.ones(30)).T\n",
    "zzz = 0\n",
    "mons = generate_monomials_leq(X.shape[1],degree)\n",
    "i=0\n",
    "for mon in mons:\n",
    "    zzz +=  v[i]*xxx**(mon[0])*yyy**(mon[1])\n",
    "    i+=1\n",
    "\n",
    "# Configure the layout.\n",
    "layout = go.Layout(margin={'l': 0, 'r': 0, 'b': 0, 't': 0})\n",
    "data = [trace,go.Surface(x=xxx, y=yyy, z=zzz, showscale=False, opacity=0.5)]\n",
    "# Render the plot.\n",
    "plot_figure = go.Figure(data=data, layout=layout)\n",
    "plot_figure.update_layout(\n",
    "    scene = dict(\n",
    "        xaxis = dict(nticks=4, range=[-4,4],),\n",
    "                     yaxis = dict(nticks=4, range=[-4,4],),\n",
    "                     zaxis = dict(nticks=4, range=[min(zz),max(zz)],),),\n",
    "    width=700,\n",
    "    margin=dict(r=20, l=10, b=10, t=10))\n",
    "plotly.offline.iplot(plot_figure)"
   ]
  },
  {
   "cell_type": "code",
   "execution_count": 45,
   "id": "a0d1ab7e",
   "metadata": {},
   "outputs": [
    {
     "data": {
      "application/vnd.plotly.v1+json": {
       "config": {
        "linkText": "Export to plot.ly",
        "plotlyServerURL": "https://plot.ly",
        "showLink": false
       },
       "data": [
        {
         "marker": {
          "size": 5
         },
         "mode": "markers",
         "type": "scatter3d",
         "x": [
          -2.6627995755702614,
          -3.1954783006737704,
          -3.595843659054997,
          -3.332000692865733,
          -3.2869268411401174,
          -2.943311761252612,
          -1.8292657625899256,
          -1.5258544690619231,
          -2.1595874181502057,
          -1.583935126306041,
          -2.4516360093743663,
          -3.138827326338167,
          -1.2350740816227364,
          -1.342196790900649,
          -1.2662817203650958,
          -0.9842833223611618,
          -0.6393666560767024,
          -2.3629042897826924,
          0.6449479398667359,
          0.079988753830895,
          0.7932291724731485,
          0.11766116125759733,
          -0.17768812026927036,
          0.7015511337493188,
          0.9728677883181542,
          1.492714695833615,
          1.1421625585668251,
          1.1482482257799735,
          1.4084265896456813,
          1.3697160747275778,
          2.428409970604761,
          1.789199559806631,
          2.3412854819874207,
          1.9042272833357432,
          1.5370631892408433,
          1.8053218589205215
         ],
         "y": [
          -3.429521053078303,
          -1.2881758426350318,
          -1.2715727207374128,
          -0.01993542476677034,
          1.5629057267390027,
          1.5995337396154092,
          -1.9910705450319053,
          -1.382371181254587,
          -0.7265095979204625,
          0.6865492478472944,
          1.1307223439703187,
          1.9839748754533242,
          -3.6572644572609456,
          -2.4835016732996196,
          -1.187549312059505,
          -0.7161729073621496,
          1.156103210243584,
          2.649628361346111,
          -2.4154480047756444,
          -1.6206141990759253,
          -1.4130348248684452,
          0.7454848186578099,
          0.8788797456233475,
          1.5704295794006626,
          -3.542405972756549,
          -2.44110384363172,
          -2.0694553668649,
          0.35676023594749007,
          0.6953057153506046,
          0.9971042020937866,
          -2.2422609332276977,
          -2.137731863509253,
          -1.2658185034801113,
          -0.21943368023242776,
          0.7324418949064059,
          2.513196021901099
         ],
         "z": [
          73.4488180758088,
          52.55409906239624,
          63.955490507378464,
          55.484028285559674,
          49.521296979651055,
          40.67691212832488,
          26.465308677961588,
          12.266315097375607,
          21.46720879535871,
          12.298927978410866,
          28.976204085535812,
          44.127250222496,
          58.578088467735164,
          27.57527657826867,
          7.498192348674755,
          10.044064614622894,
          0.6389545887549584,
          8.499358970112834,
          17.96587068239936,
          0.5758561305480261,
          6.355615899240892,
          3.428625011668126,
          -0.1498107670954092,
          -2.0525399553514254,
          51.14327644895685,
          28.72190477016929,
          18.188628456800355,
          6.249146974164893,
          12.049450105461734,
          9.13602695833485,
          40.55205341945565,
          24.495293424775877,
          25.432609851690994,
          16.332329864693982,
          9.333832896801534,
          -2.6747830615387516
         ]
        },
        {
         "opacity": 0.5,
         "showscale": false,
         "type": "surface",
         "x": [
          [
           -3.595843659054997,
           -3.595843659054997,
           -3.595843659054997,
           -3.595843659054997,
           -3.595843659054997,
           -3.595843659054997,
           -3.595843659054997,
           -3.595843659054997,
           -3.595843659054997,
           -3.595843659054997,
           -3.595843659054997,
           -3.595843659054997,
           -3.595843659054997,
           -3.595843659054997,
           -3.595843659054997,
           -3.595843659054997,
           -3.595843659054997,
           -3.595843659054997,
           -3.595843659054997,
           -3.595843659054997,
           -3.595843659054997,
           -3.595843659054997,
           -3.595843659054997,
           -3.595843659054997,
           -3.595843659054997,
           -3.595843659054997,
           -3.595843659054997,
           -3.595843659054997,
           -3.595843659054997,
           -3.595843659054997
          ],
          [
           -3.3881107752736264,
           -3.3881107752736264,
           -3.3881107752736264,
           -3.3881107752736264,
           -3.3881107752736264,
           -3.3881107752736264,
           -3.3881107752736264,
           -3.3881107752736264,
           -3.3881107752736264,
           -3.3881107752736264,
           -3.3881107752736264,
           -3.3881107752736264,
           -3.3881107752736264,
           -3.3881107752736264,
           -3.3881107752736264,
           -3.3881107752736264,
           -3.3881107752736264,
           -3.3881107752736264,
           -3.3881107752736264,
           -3.3881107752736264,
           -3.3881107752736264,
           -3.3881107752736264,
           -3.3881107752736264,
           -3.3881107752736264,
           -3.3881107752736264,
           -3.3881107752736264,
           -3.3881107752736264,
           -3.3881107752736264,
           -3.3881107752736264,
           -3.3881107752736264
          ],
          [
           -3.180377891492255,
           -3.180377891492255,
           -3.180377891492255,
           -3.180377891492255,
           -3.180377891492255,
           -3.180377891492255,
           -3.180377891492255,
           -3.180377891492255,
           -3.180377891492255,
           -3.180377891492255,
           -3.180377891492255,
           -3.180377891492255,
           -3.180377891492255,
           -3.180377891492255,
           -3.180377891492255,
           -3.180377891492255,
           -3.180377891492255,
           -3.180377891492255,
           -3.180377891492255,
           -3.180377891492255,
           -3.180377891492255,
           -3.180377891492255,
           -3.180377891492255,
           -3.180377891492255,
           -3.180377891492255,
           -3.180377891492255,
           -3.180377891492255,
           -3.180377891492255,
           -3.180377891492255,
           -3.180377891492255
          ],
          [
           -2.9726450077108844,
           -2.9726450077108844,
           -2.9726450077108844,
           -2.9726450077108844,
           -2.9726450077108844,
           -2.9726450077108844,
           -2.9726450077108844,
           -2.9726450077108844,
           -2.9726450077108844,
           -2.9726450077108844,
           -2.9726450077108844,
           -2.9726450077108844,
           -2.9726450077108844,
           -2.9726450077108844,
           -2.9726450077108844,
           -2.9726450077108844,
           -2.9726450077108844,
           -2.9726450077108844,
           -2.9726450077108844,
           -2.9726450077108844,
           -2.9726450077108844,
           -2.9726450077108844,
           -2.9726450077108844,
           -2.9726450077108844,
           -2.9726450077108844,
           -2.9726450077108844,
           -2.9726450077108844,
           -2.9726450077108844,
           -2.9726450077108844,
           -2.9726450077108844
          ],
          [
           -2.764912123929513,
           -2.764912123929513,
           -2.764912123929513,
           -2.764912123929513,
           -2.764912123929513,
           -2.764912123929513,
           -2.764912123929513,
           -2.764912123929513,
           -2.764912123929513,
           -2.764912123929513,
           -2.764912123929513,
           -2.764912123929513,
           -2.764912123929513,
           -2.764912123929513,
           -2.764912123929513,
           -2.764912123929513,
           -2.764912123929513,
           -2.764912123929513,
           -2.764912123929513,
           -2.764912123929513,
           -2.764912123929513,
           -2.764912123929513,
           -2.764912123929513,
           -2.764912123929513,
           -2.764912123929513,
           -2.764912123929513,
           -2.764912123929513,
           -2.764912123929513,
           -2.764912123929513,
           -2.764912123929513
          ],
          [
           -2.5571792401481424,
           -2.5571792401481424,
           -2.5571792401481424,
           -2.5571792401481424,
           -2.5571792401481424,
           -2.5571792401481424,
           -2.5571792401481424,
           -2.5571792401481424,
           -2.5571792401481424,
           -2.5571792401481424,
           -2.5571792401481424,
           -2.5571792401481424,
           -2.5571792401481424,
           -2.5571792401481424,
           -2.5571792401481424,
           -2.5571792401481424,
           -2.5571792401481424,
           -2.5571792401481424,
           -2.5571792401481424,
           -2.5571792401481424,
           -2.5571792401481424,
           -2.5571792401481424,
           -2.5571792401481424,
           -2.5571792401481424,
           -2.5571792401481424,
           -2.5571792401481424,
           -2.5571792401481424,
           -2.5571792401481424,
           -2.5571792401481424,
           -2.5571792401481424
          ],
          [
           -2.349446356366771,
           -2.349446356366771,
           -2.349446356366771,
           -2.349446356366771,
           -2.349446356366771,
           -2.349446356366771,
           -2.349446356366771,
           -2.349446356366771,
           -2.349446356366771,
           -2.349446356366771,
           -2.349446356366771,
           -2.349446356366771,
           -2.349446356366771,
           -2.349446356366771,
           -2.349446356366771,
           -2.349446356366771,
           -2.349446356366771,
           -2.349446356366771,
           -2.349446356366771,
           -2.349446356366771,
           -2.349446356366771,
           -2.349446356366771,
           -2.349446356366771,
           -2.349446356366771,
           -2.349446356366771,
           -2.349446356366771,
           -2.349446356366771,
           -2.349446356366771,
           -2.349446356366771,
           -2.349446356366771
          ],
          [
           -2.1417134725854003,
           -2.1417134725854003,
           -2.1417134725854003,
           -2.1417134725854003,
           -2.1417134725854003,
           -2.1417134725854003,
           -2.1417134725854003,
           -2.1417134725854003,
           -2.1417134725854003,
           -2.1417134725854003,
           -2.1417134725854003,
           -2.1417134725854003,
           -2.1417134725854003,
           -2.1417134725854003,
           -2.1417134725854003,
           -2.1417134725854003,
           -2.1417134725854003,
           -2.1417134725854003,
           -2.1417134725854003,
           -2.1417134725854003,
           -2.1417134725854003,
           -2.1417134725854003,
           -2.1417134725854003,
           -2.1417134725854003,
           -2.1417134725854003,
           -2.1417134725854003,
           -2.1417134725854003,
           -2.1417134725854003,
           -2.1417134725854003,
           -2.1417134725854003
          ],
          [
           -1.9339805888040293,
           -1.9339805888040293,
           -1.9339805888040293,
           -1.9339805888040293,
           -1.9339805888040293,
           -1.9339805888040293,
           -1.9339805888040293,
           -1.9339805888040293,
           -1.9339805888040293,
           -1.9339805888040293,
           -1.9339805888040293,
           -1.9339805888040293,
           -1.9339805888040293,
           -1.9339805888040293,
           -1.9339805888040293,
           -1.9339805888040293,
           -1.9339805888040293,
           -1.9339805888040293,
           -1.9339805888040293,
           -1.9339805888040293,
           -1.9339805888040293,
           -1.9339805888040293,
           -1.9339805888040293,
           -1.9339805888040293,
           -1.9339805888040293,
           -1.9339805888040293,
           -1.9339805888040293,
           -1.9339805888040293,
           -1.9339805888040293,
           -1.9339805888040293
          ],
          [
           -1.7262477050226583,
           -1.7262477050226583,
           -1.7262477050226583,
           -1.7262477050226583,
           -1.7262477050226583,
           -1.7262477050226583,
           -1.7262477050226583,
           -1.7262477050226583,
           -1.7262477050226583,
           -1.7262477050226583,
           -1.7262477050226583,
           -1.7262477050226583,
           -1.7262477050226583,
           -1.7262477050226583,
           -1.7262477050226583,
           -1.7262477050226583,
           -1.7262477050226583,
           -1.7262477050226583,
           -1.7262477050226583,
           -1.7262477050226583,
           -1.7262477050226583,
           -1.7262477050226583,
           -1.7262477050226583,
           -1.7262477050226583,
           -1.7262477050226583,
           -1.7262477050226583,
           -1.7262477050226583,
           -1.7262477050226583,
           -1.7262477050226583,
           -1.7262477050226583
          ],
          [
           -1.5185148212412876,
           -1.5185148212412876,
           -1.5185148212412876,
           -1.5185148212412876,
           -1.5185148212412876,
           -1.5185148212412876,
           -1.5185148212412876,
           -1.5185148212412876,
           -1.5185148212412876,
           -1.5185148212412876,
           -1.5185148212412876,
           -1.5185148212412876,
           -1.5185148212412876,
           -1.5185148212412876,
           -1.5185148212412876,
           -1.5185148212412876,
           -1.5185148212412876,
           -1.5185148212412876,
           -1.5185148212412876,
           -1.5185148212412876,
           -1.5185148212412876,
           -1.5185148212412876,
           -1.5185148212412876,
           -1.5185148212412876,
           -1.5185148212412876,
           -1.5185148212412876,
           -1.5185148212412876,
           -1.5185148212412876,
           -1.5185148212412876,
           -1.5185148212412876
          ],
          [
           -1.3107819374599163,
           -1.3107819374599163,
           -1.3107819374599163,
           -1.3107819374599163,
           -1.3107819374599163,
           -1.3107819374599163,
           -1.3107819374599163,
           -1.3107819374599163,
           -1.3107819374599163,
           -1.3107819374599163,
           -1.3107819374599163,
           -1.3107819374599163,
           -1.3107819374599163,
           -1.3107819374599163,
           -1.3107819374599163,
           -1.3107819374599163,
           -1.3107819374599163,
           -1.3107819374599163,
           -1.3107819374599163,
           -1.3107819374599163,
           -1.3107819374599163,
           -1.3107819374599163,
           -1.3107819374599163,
           -1.3107819374599163,
           -1.3107819374599163,
           -1.3107819374599163,
           -1.3107819374599163,
           -1.3107819374599163,
           -1.3107819374599163,
           -1.3107819374599163
          ],
          [
           -1.1030490536785456,
           -1.1030490536785456,
           -1.1030490536785456,
           -1.1030490536785456,
           -1.1030490536785456,
           -1.1030490536785456,
           -1.1030490536785456,
           -1.1030490536785456,
           -1.1030490536785456,
           -1.1030490536785456,
           -1.1030490536785456,
           -1.1030490536785456,
           -1.1030490536785456,
           -1.1030490536785456,
           -1.1030490536785456,
           -1.1030490536785456,
           -1.1030490536785456,
           -1.1030490536785456,
           -1.1030490536785456,
           -1.1030490536785456,
           -1.1030490536785456,
           -1.1030490536785456,
           -1.1030490536785456,
           -1.1030490536785456,
           -1.1030490536785456,
           -1.1030490536785456,
           -1.1030490536785456,
           -1.1030490536785456,
           -1.1030490536785456,
           -1.1030490536785456
          ],
          [
           -0.8953161698971743,
           -0.8953161698971743,
           -0.8953161698971743,
           -0.8953161698971743,
           -0.8953161698971743,
           -0.8953161698971743,
           -0.8953161698971743,
           -0.8953161698971743,
           -0.8953161698971743,
           -0.8953161698971743,
           -0.8953161698971743,
           -0.8953161698971743,
           -0.8953161698971743,
           -0.8953161698971743,
           -0.8953161698971743,
           -0.8953161698971743,
           -0.8953161698971743,
           -0.8953161698971743,
           -0.8953161698971743,
           -0.8953161698971743,
           -0.8953161698971743,
           -0.8953161698971743,
           -0.8953161698971743,
           -0.8953161698971743,
           -0.8953161698971743,
           -0.8953161698971743,
           -0.8953161698971743,
           -0.8953161698971743,
           -0.8953161698971743,
           -0.8953161698971743
          ],
          [
           -0.6875832861158035,
           -0.6875832861158035,
           -0.6875832861158035,
           -0.6875832861158035,
           -0.6875832861158035,
           -0.6875832861158035,
           -0.6875832861158035,
           -0.6875832861158035,
           -0.6875832861158035,
           -0.6875832861158035,
           -0.6875832861158035,
           -0.6875832861158035,
           -0.6875832861158035,
           -0.6875832861158035,
           -0.6875832861158035,
           -0.6875832861158035,
           -0.6875832861158035,
           -0.6875832861158035,
           -0.6875832861158035,
           -0.6875832861158035,
           -0.6875832861158035,
           -0.6875832861158035,
           -0.6875832861158035,
           -0.6875832861158035,
           -0.6875832861158035,
           -0.6875832861158035,
           -0.6875832861158035,
           -0.6875832861158035,
           -0.6875832861158035,
           -0.6875832861158035
          ],
          [
           -0.4798504023344323,
           -0.4798504023344323,
           -0.4798504023344323,
           -0.4798504023344323,
           -0.4798504023344323,
           -0.4798504023344323,
           -0.4798504023344323,
           -0.4798504023344323,
           -0.4798504023344323,
           -0.4798504023344323,
           -0.4798504023344323,
           -0.4798504023344323,
           -0.4798504023344323,
           -0.4798504023344323,
           -0.4798504023344323,
           -0.4798504023344323,
           -0.4798504023344323,
           -0.4798504023344323,
           -0.4798504023344323,
           -0.4798504023344323,
           -0.4798504023344323,
           -0.4798504023344323,
           -0.4798504023344323,
           -0.4798504023344323,
           -0.4798504023344323,
           -0.4798504023344323,
           -0.4798504023344323,
           -0.4798504023344323,
           -0.4798504023344323,
           -0.4798504023344323
          ],
          [
           -0.27211751855306154,
           -0.27211751855306154,
           -0.27211751855306154,
           -0.27211751855306154,
           -0.27211751855306154,
           -0.27211751855306154,
           -0.27211751855306154,
           -0.27211751855306154,
           -0.27211751855306154,
           -0.27211751855306154,
           -0.27211751855306154,
           -0.27211751855306154,
           -0.27211751855306154,
           -0.27211751855306154,
           -0.27211751855306154,
           -0.27211751855306154,
           -0.27211751855306154,
           -0.27211751855306154,
           -0.27211751855306154,
           -0.27211751855306154,
           -0.27211751855306154,
           -0.27211751855306154,
           -0.27211751855306154,
           -0.27211751855306154,
           -0.27211751855306154,
           -0.27211751855306154,
           -0.27211751855306154,
           -0.27211751855306154,
           -0.27211751855306154,
           -0.27211751855306154
          ],
          [
           -0.06438463477169076,
           -0.06438463477169076,
           -0.06438463477169076,
           -0.06438463477169076,
           -0.06438463477169076,
           -0.06438463477169076,
           -0.06438463477169076,
           -0.06438463477169076,
           -0.06438463477169076,
           -0.06438463477169076,
           -0.06438463477169076,
           -0.06438463477169076,
           -0.06438463477169076,
           -0.06438463477169076,
           -0.06438463477169076,
           -0.06438463477169076,
           -0.06438463477169076,
           -0.06438463477169076,
           -0.06438463477169076,
           -0.06438463477169076,
           -0.06438463477169076,
           -0.06438463477169076,
           -0.06438463477169076,
           -0.06438463477169076,
           -0.06438463477169076,
           -0.06438463477169076,
           -0.06438463477169076,
           -0.06438463477169076,
           -0.06438463477169076,
           -0.06438463477169076
          ],
          [
           0.14334824900968046,
           0.14334824900968046,
           0.14334824900968046,
           0.14334824900968046,
           0.14334824900968046,
           0.14334824900968046,
           0.14334824900968046,
           0.14334824900968046,
           0.14334824900968046,
           0.14334824900968046,
           0.14334824900968046,
           0.14334824900968046,
           0.14334824900968046,
           0.14334824900968046,
           0.14334824900968046,
           0.14334824900968046,
           0.14334824900968046,
           0.14334824900968046,
           0.14334824900968046,
           0.14334824900968046,
           0.14334824900968046,
           0.14334824900968046,
           0.14334824900968046,
           0.14334824900968046,
           0.14334824900968046,
           0.14334824900968046,
           0.14334824900968046,
           0.14334824900968046,
           0.14334824900968046,
           0.14334824900968046
          ],
          [
           0.35108113279105124,
           0.35108113279105124,
           0.35108113279105124,
           0.35108113279105124,
           0.35108113279105124,
           0.35108113279105124,
           0.35108113279105124,
           0.35108113279105124,
           0.35108113279105124,
           0.35108113279105124,
           0.35108113279105124,
           0.35108113279105124,
           0.35108113279105124,
           0.35108113279105124,
           0.35108113279105124,
           0.35108113279105124,
           0.35108113279105124,
           0.35108113279105124,
           0.35108113279105124,
           0.35108113279105124,
           0.35108113279105124,
           0.35108113279105124,
           0.35108113279105124,
           0.35108113279105124,
           0.35108113279105124,
           0.35108113279105124,
           0.35108113279105124,
           0.35108113279105124,
           0.35108113279105124,
           0.35108113279105124
          ],
          [
           0.558814016572422,
           0.558814016572422,
           0.558814016572422,
           0.558814016572422,
           0.558814016572422,
           0.558814016572422,
           0.558814016572422,
           0.558814016572422,
           0.558814016572422,
           0.558814016572422,
           0.558814016572422,
           0.558814016572422,
           0.558814016572422,
           0.558814016572422,
           0.558814016572422,
           0.558814016572422,
           0.558814016572422,
           0.558814016572422,
           0.558814016572422,
           0.558814016572422,
           0.558814016572422,
           0.558814016572422,
           0.558814016572422,
           0.558814016572422,
           0.558814016572422,
           0.558814016572422,
           0.558814016572422,
           0.558814016572422,
           0.558814016572422,
           0.558814016572422
          ],
          [
           0.7665469003537937,
           0.7665469003537937,
           0.7665469003537937,
           0.7665469003537937,
           0.7665469003537937,
           0.7665469003537937,
           0.7665469003537937,
           0.7665469003537937,
           0.7665469003537937,
           0.7665469003537937,
           0.7665469003537937,
           0.7665469003537937,
           0.7665469003537937,
           0.7665469003537937,
           0.7665469003537937,
           0.7665469003537937,
           0.7665469003537937,
           0.7665469003537937,
           0.7665469003537937,
           0.7665469003537937,
           0.7665469003537937,
           0.7665469003537937,
           0.7665469003537937,
           0.7665469003537937,
           0.7665469003537937,
           0.7665469003537937,
           0.7665469003537937,
           0.7665469003537937,
           0.7665469003537937,
           0.7665469003537937
          ],
          [
           0.9742797841351645,
           0.9742797841351645,
           0.9742797841351645,
           0.9742797841351645,
           0.9742797841351645,
           0.9742797841351645,
           0.9742797841351645,
           0.9742797841351645,
           0.9742797841351645,
           0.9742797841351645,
           0.9742797841351645,
           0.9742797841351645,
           0.9742797841351645,
           0.9742797841351645,
           0.9742797841351645,
           0.9742797841351645,
           0.9742797841351645,
           0.9742797841351645,
           0.9742797841351645,
           0.9742797841351645,
           0.9742797841351645,
           0.9742797841351645,
           0.9742797841351645,
           0.9742797841351645,
           0.9742797841351645,
           0.9742797841351645,
           0.9742797841351645,
           0.9742797841351645,
           0.9742797841351645,
           0.9742797841351645
          ],
          [
           1.1820126679165353,
           1.1820126679165353,
           1.1820126679165353,
           1.1820126679165353,
           1.1820126679165353,
           1.1820126679165353,
           1.1820126679165353,
           1.1820126679165353,
           1.1820126679165353,
           1.1820126679165353,
           1.1820126679165353,
           1.1820126679165353,
           1.1820126679165353,
           1.1820126679165353,
           1.1820126679165353,
           1.1820126679165353,
           1.1820126679165353,
           1.1820126679165353,
           1.1820126679165353,
           1.1820126679165353,
           1.1820126679165353,
           1.1820126679165353,
           1.1820126679165353,
           1.1820126679165353,
           1.1820126679165353,
           1.1820126679165353,
           1.1820126679165353,
           1.1820126679165353,
           1.1820126679165353,
           1.1820126679165353
          ],
          [
           1.389745551697906,
           1.389745551697906,
           1.389745551697906,
           1.389745551697906,
           1.389745551697906,
           1.389745551697906,
           1.389745551697906,
           1.389745551697906,
           1.389745551697906,
           1.389745551697906,
           1.389745551697906,
           1.389745551697906,
           1.389745551697906,
           1.389745551697906,
           1.389745551697906,
           1.389745551697906,
           1.389745551697906,
           1.389745551697906,
           1.389745551697906,
           1.389745551697906,
           1.389745551697906,
           1.389745551697906,
           1.389745551697906,
           1.389745551697906,
           1.389745551697906,
           1.389745551697906,
           1.389745551697906,
           1.389745551697906,
           1.389745551697906,
           1.389745551697906
          ],
          [
           1.5974784354792768,
           1.5974784354792768,
           1.5974784354792768,
           1.5974784354792768,
           1.5974784354792768,
           1.5974784354792768,
           1.5974784354792768,
           1.5974784354792768,
           1.5974784354792768,
           1.5974784354792768,
           1.5974784354792768,
           1.5974784354792768,
           1.5974784354792768,
           1.5974784354792768,
           1.5974784354792768,
           1.5974784354792768,
           1.5974784354792768,
           1.5974784354792768,
           1.5974784354792768,
           1.5974784354792768,
           1.5974784354792768,
           1.5974784354792768,
           1.5974784354792768,
           1.5974784354792768,
           1.5974784354792768,
           1.5974784354792768,
           1.5974784354792768,
           1.5974784354792768,
           1.5974784354792768,
           1.5974784354792768
          ],
          [
           1.8052113192606485,
           1.8052113192606485,
           1.8052113192606485,
           1.8052113192606485,
           1.8052113192606485,
           1.8052113192606485,
           1.8052113192606485,
           1.8052113192606485,
           1.8052113192606485,
           1.8052113192606485,
           1.8052113192606485,
           1.8052113192606485,
           1.8052113192606485,
           1.8052113192606485,
           1.8052113192606485,
           1.8052113192606485,
           1.8052113192606485,
           1.8052113192606485,
           1.8052113192606485,
           1.8052113192606485,
           1.8052113192606485,
           1.8052113192606485,
           1.8052113192606485,
           1.8052113192606485,
           1.8052113192606485,
           1.8052113192606485,
           1.8052113192606485,
           1.8052113192606485,
           1.8052113192606485,
           1.8052113192606485
          ],
          [
           2.0129442030420193,
           2.0129442030420193,
           2.0129442030420193,
           2.0129442030420193,
           2.0129442030420193,
           2.0129442030420193,
           2.0129442030420193,
           2.0129442030420193,
           2.0129442030420193,
           2.0129442030420193,
           2.0129442030420193,
           2.0129442030420193,
           2.0129442030420193,
           2.0129442030420193,
           2.0129442030420193,
           2.0129442030420193,
           2.0129442030420193,
           2.0129442030420193,
           2.0129442030420193,
           2.0129442030420193,
           2.0129442030420193,
           2.0129442030420193,
           2.0129442030420193,
           2.0129442030420193,
           2.0129442030420193,
           2.0129442030420193,
           2.0129442030420193,
           2.0129442030420193,
           2.0129442030420193,
           2.0129442030420193
          ],
          [
           2.22067708682339,
           2.22067708682339,
           2.22067708682339,
           2.22067708682339,
           2.22067708682339,
           2.22067708682339,
           2.22067708682339,
           2.22067708682339,
           2.22067708682339,
           2.22067708682339,
           2.22067708682339,
           2.22067708682339,
           2.22067708682339,
           2.22067708682339,
           2.22067708682339,
           2.22067708682339,
           2.22067708682339,
           2.22067708682339,
           2.22067708682339,
           2.22067708682339,
           2.22067708682339,
           2.22067708682339,
           2.22067708682339,
           2.22067708682339,
           2.22067708682339,
           2.22067708682339,
           2.22067708682339,
           2.22067708682339,
           2.22067708682339,
           2.22067708682339
          ],
          [
           2.428409970604761,
           2.428409970604761,
           2.428409970604761,
           2.428409970604761,
           2.428409970604761,
           2.428409970604761,
           2.428409970604761,
           2.428409970604761,
           2.428409970604761,
           2.428409970604761,
           2.428409970604761,
           2.428409970604761,
           2.428409970604761,
           2.428409970604761,
           2.428409970604761,
           2.428409970604761,
           2.428409970604761,
           2.428409970604761,
           2.428409970604761,
           2.428409970604761,
           2.428409970604761,
           2.428409970604761,
           2.428409970604761,
           2.428409970604761,
           2.428409970604761,
           2.428409970604761,
           2.428409970604761,
           2.428409970604761,
           2.428409970604761,
           2.428409970604761
          ]
         ],
         "y": [
          [
           -3.6572644572609456,
           -3.4397853945503574,
           -3.222306331839769,
           -3.004827269129181,
           -2.787348206418593,
           -2.569869143708005,
           -2.3523900809974165,
           -2.1349110182868287,
           -1.9174319555762402,
           -1.699952892865652,
           -1.482473830155064,
           -1.2649947674444757,
           -1.0475157047338874,
           -0.8300366420232992,
           -0.6125575793127114,
           -0.3950785166021231,
           -0.17759945389153486,
           0.03987960881905339,
           0.25735867152964165,
           0.4748377342402299,
           0.6923167969508177,
           0.9097958596614064,
           1.1272749223719942,
           1.344753985082582,
           1.5622330477931707,
           1.7797121105037585,
           1.9971911732143472,
           2.214670235924935,
           2.432149298635523,
           2.649628361346111
          ],
          [
           -3.6572644572609456,
           -3.4397853945503574,
           -3.222306331839769,
           -3.004827269129181,
           -2.787348206418593,
           -2.569869143708005,
           -2.3523900809974165,
           -2.1349110182868287,
           -1.9174319555762402,
           -1.699952892865652,
           -1.482473830155064,
           -1.2649947674444757,
           -1.0475157047338874,
           -0.8300366420232992,
           -0.6125575793127114,
           -0.3950785166021231,
           -0.17759945389153486,
           0.03987960881905339,
           0.25735867152964165,
           0.4748377342402299,
           0.6923167969508177,
           0.9097958596614064,
           1.1272749223719942,
           1.344753985082582,
           1.5622330477931707,
           1.7797121105037585,
           1.9971911732143472,
           2.214670235924935,
           2.432149298635523,
           2.649628361346111
          ],
          [
           -3.6572644572609456,
           -3.4397853945503574,
           -3.222306331839769,
           -3.004827269129181,
           -2.787348206418593,
           -2.569869143708005,
           -2.3523900809974165,
           -2.1349110182868287,
           -1.9174319555762402,
           -1.699952892865652,
           -1.482473830155064,
           -1.2649947674444757,
           -1.0475157047338874,
           -0.8300366420232992,
           -0.6125575793127114,
           -0.3950785166021231,
           -0.17759945389153486,
           0.03987960881905339,
           0.25735867152964165,
           0.4748377342402299,
           0.6923167969508177,
           0.9097958596614064,
           1.1272749223719942,
           1.344753985082582,
           1.5622330477931707,
           1.7797121105037585,
           1.9971911732143472,
           2.214670235924935,
           2.432149298635523,
           2.649628361346111
          ],
          [
           -3.6572644572609456,
           -3.4397853945503574,
           -3.222306331839769,
           -3.004827269129181,
           -2.787348206418593,
           -2.569869143708005,
           -2.3523900809974165,
           -2.1349110182868287,
           -1.9174319555762402,
           -1.699952892865652,
           -1.482473830155064,
           -1.2649947674444757,
           -1.0475157047338874,
           -0.8300366420232992,
           -0.6125575793127114,
           -0.3950785166021231,
           -0.17759945389153486,
           0.03987960881905339,
           0.25735867152964165,
           0.4748377342402299,
           0.6923167969508177,
           0.9097958596614064,
           1.1272749223719942,
           1.344753985082582,
           1.5622330477931707,
           1.7797121105037585,
           1.9971911732143472,
           2.214670235924935,
           2.432149298635523,
           2.649628361346111
          ],
          [
           -3.6572644572609456,
           -3.4397853945503574,
           -3.222306331839769,
           -3.004827269129181,
           -2.787348206418593,
           -2.569869143708005,
           -2.3523900809974165,
           -2.1349110182868287,
           -1.9174319555762402,
           -1.699952892865652,
           -1.482473830155064,
           -1.2649947674444757,
           -1.0475157047338874,
           -0.8300366420232992,
           -0.6125575793127114,
           -0.3950785166021231,
           -0.17759945389153486,
           0.03987960881905339,
           0.25735867152964165,
           0.4748377342402299,
           0.6923167969508177,
           0.9097958596614064,
           1.1272749223719942,
           1.344753985082582,
           1.5622330477931707,
           1.7797121105037585,
           1.9971911732143472,
           2.214670235924935,
           2.432149298635523,
           2.649628361346111
          ],
          [
           -3.6572644572609456,
           -3.4397853945503574,
           -3.222306331839769,
           -3.004827269129181,
           -2.787348206418593,
           -2.569869143708005,
           -2.3523900809974165,
           -2.1349110182868287,
           -1.9174319555762402,
           -1.699952892865652,
           -1.482473830155064,
           -1.2649947674444757,
           -1.0475157047338874,
           -0.8300366420232992,
           -0.6125575793127114,
           -0.3950785166021231,
           -0.17759945389153486,
           0.03987960881905339,
           0.25735867152964165,
           0.4748377342402299,
           0.6923167969508177,
           0.9097958596614064,
           1.1272749223719942,
           1.344753985082582,
           1.5622330477931707,
           1.7797121105037585,
           1.9971911732143472,
           2.214670235924935,
           2.432149298635523,
           2.649628361346111
          ],
          [
           -3.6572644572609456,
           -3.4397853945503574,
           -3.222306331839769,
           -3.004827269129181,
           -2.787348206418593,
           -2.569869143708005,
           -2.3523900809974165,
           -2.1349110182868287,
           -1.9174319555762402,
           -1.699952892865652,
           -1.482473830155064,
           -1.2649947674444757,
           -1.0475157047338874,
           -0.8300366420232992,
           -0.6125575793127114,
           -0.3950785166021231,
           -0.17759945389153486,
           0.03987960881905339,
           0.25735867152964165,
           0.4748377342402299,
           0.6923167969508177,
           0.9097958596614064,
           1.1272749223719942,
           1.344753985082582,
           1.5622330477931707,
           1.7797121105037585,
           1.9971911732143472,
           2.214670235924935,
           2.432149298635523,
           2.649628361346111
          ],
          [
           -3.6572644572609456,
           -3.4397853945503574,
           -3.222306331839769,
           -3.004827269129181,
           -2.787348206418593,
           -2.569869143708005,
           -2.3523900809974165,
           -2.1349110182868287,
           -1.9174319555762402,
           -1.699952892865652,
           -1.482473830155064,
           -1.2649947674444757,
           -1.0475157047338874,
           -0.8300366420232992,
           -0.6125575793127114,
           -0.3950785166021231,
           -0.17759945389153486,
           0.03987960881905339,
           0.25735867152964165,
           0.4748377342402299,
           0.6923167969508177,
           0.9097958596614064,
           1.1272749223719942,
           1.344753985082582,
           1.5622330477931707,
           1.7797121105037585,
           1.9971911732143472,
           2.214670235924935,
           2.432149298635523,
           2.649628361346111
          ],
          [
           -3.6572644572609456,
           -3.4397853945503574,
           -3.222306331839769,
           -3.004827269129181,
           -2.787348206418593,
           -2.569869143708005,
           -2.3523900809974165,
           -2.1349110182868287,
           -1.9174319555762402,
           -1.699952892865652,
           -1.482473830155064,
           -1.2649947674444757,
           -1.0475157047338874,
           -0.8300366420232992,
           -0.6125575793127114,
           -0.3950785166021231,
           -0.17759945389153486,
           0.03987960881905339,
           0.25735867152964165,
           0.4748377342402299,
           0.6923167969508177,
           0.9097958596614064,
           1.1272749223719942,
           1.344753985082582,
           1.5622330477931707,
           1.7797121105037585,
           1.9971911732143472,
           2.214670235924935,
           2.432149298635523,
           2.649628361346111
          ],
          [
           -3.6572644572609456,
           -3.4397853945503574,
           -3.222306331839769,
           -3.004827269129181,
           -2.787348206418593,
           -2.569869143708005,
           -2.3523900809974165,
           -2.1349110182868287,
           -1.9174319555762402,
           -1.699952892865652,
           -1.482473830155064,
           -1.2649947674444757,
           -1.0475157047338874,
           -0.8300366420232992,
           -0.6125575793127114,
           -0.3950785166021231,
           -0.17759945389153486,
           0.03987960881905339,
           0.25735867152964165,
           0.4748377342402299,
           0.6923167969508177,
           0.9097958596614064,
           1.1272749223719942,
           1.344753985082582,
           1.5622330477931707,
           1.7797121105037585,
           1.9971911732143472,
           2.214670235924935,
           2.432149298635523,
           2.649628361346111
          ],
          [
           -3.6572644572609456,
           -3.4397853945503574,
           -3.222306331839769,
           -3.004827269129181,
           -2.787348206418593,
           -2.569869143708005,
           -2.3523900809974165,
           -2.1349110182868287,
           -1.9174319555762402,
           -1.699952892865652,
           -1.482473830155064,
           -1.2649947674444757,
           -1.0475157047338874,
           -0.8300366420232992,
           -0.6125575793127114,
           -0.3950785166021231,
           -0.17759945389153486,
           0.03987960881905339,
           0.25735867152964165,
           0.4748377342402299,
           0.6923167969508177,
           0.9097958596614064,
           1.1272749223719942,
           1.344753985082582,
           1.5622330477931707,
           1.7797121105037585,
           1.9971911732143472,
           2.214670235924935,
           2.432149298635523,
           2.649628361346111
          ],
          [
           -3.6572644572609456,
           -3.4397853945503574,
           -3.222306331839769,
           -3.004827269129181,
           -2.787348206418593,
           -2.569869143708005,
           -2.3523900809974165,
           -2.1349110182868287,
           -1.9174319555762402,
           -1.699952892865652,
           -1.482473830155064,
           -1.2649947674444757,
           -1.0475157047338874,
           -0.8300366420232992,
           -0.6125575793127114,
           -0.3950785166021231,
           -0.17759945389153486,
           0.03987960881905339,
           0.25735867152964165,
           0.4748377342402299,
           0.6923167969508177,
           0.9097958596614064,
           1.1272749223719942,
           1.344753985082582,
           1.5622330477931707,
           1.7797121105037585,
           1.9971911732143472,
           2.214670235924935,
           2.432149298635523,
           2.649628361346111
          ],
          [
           -3.6572644572609456,
           -3.4397853945503574,
           -3.222306331839769,
           -3.004827269129181,
           -2.787348206418593,
           -2.569869143708005,
           -2.3523900809974165,
           -2.1349110182868287,
           -1.9174319555762402,
           -1.699952892865652,
           -1.482473830155064,
           -1.2649947674444757,
           -1.0475157047338874,
           -0.8300366420232992,
           -0.6125575793127114,
           -0.3950785166021231,
           -0.17759945389153486,
           0.03987960881905339,
           0.25735867152964165,
           0.4748377342402299,
           0.6923167969508177,
           0.9097958596614064,
           1.1272749223719942,
           1.344753985082582,
           1.5622330477931707,
           1.7797121105037585,
           1.9971911732143472,
           2.214670235924935,
           2.432149298635523,
           2.649628361346111
          ],
          [
           -3.6572644572609456,
           -3.4397853945503574,
           -3.222306331839769,
           -3.004827269129181,
           -2.787348206418593,
           -2.569869143708005,
           -2.3523900809974165,
           -2.1349110182868287,
           -1.9174319555762402,
           -1.699952892865652,
           -1.482473830155064,
           -1.2649947674444757,
           -1.0475157047338874,
           -0.8300366420232992,
           -0.6125575793127114,
           -0.3950785166021231,
           -0.17759945389153486,
           0.03987960881905339,
           0.25735867152964165,
           0.4748377342402299,
           0.6923167969508177,
           0.9097958596614064,
           1.1272749223719942,
           1.344753985082582,
           1.5622330477931707,
           1.7797121105037585,
           1.9971911732143472,
           2.214670235924935,
           2.432149298635523,
           2.649628361346111
          ],
          [
           -3.6572644572609456,
           -3.4397853945503574,
           -3.222306331839769,
           -3.004827269129181,
           -2.787348206418593,
           -2.569869143708005,
           -2.3523900809974165,
           -2.1349110182868287,
           -1.9174319555762402,
           -1.699952892865652,
           -1.482473830155064,
           -1.2649947674444757,
           -1.0475157047338874,
           -0.8300366420232992,
           -0.6125575793127114,
           -0.3950785166021231,
           -0.17759945389153486,
           0.03987960881905339,
           0.25735867152964165,
           0.4748377342402299,
           0.6923167969508177,
           0.9097958596614064,
           1.1272749223719942,
           1.344753985082582,
           1.5622330477931707,
           1.7797121105037585,
           1.9971911732143472,
           2.214670235924935,
           2.432149298635523,
           2.649628361346111
          ],
          [
           -3.6572644572609456,
           -3.4397853945503574,
           -3.222306331839769,
           -3.004827269129181,
           -2.787348206418593,
           -2.569869143708005,
           -2.3523900809974165,
           -2.1349110182868287,
           -1.9174319555762402,
           -1.699952892865652,
           -1.482473830155064,
           -1.2649947674444757,
           -1.0475157047338874,
           -0.8300366420232992,
           -0.6125575793127114,
           -0.3950785166021231,
           -0.17759945389153486,
           0.03987960881905339,
           0.25735867152964165,
           0.4748377342402299,
           0.6923167969508177,
           0.9097958596614064,
           1.1272749223719942,
           1.344753985082582,
           1.5622330477931707,
           1.7797121105037585,
           1.9971911732143472,
           2.214670235924935,
           2.432149298635523,
           2.649628361346111
          ],
          [
           -3.6572644572609456,
           -3.4397853945503574,
           -3.222306331839769,
           -3.004827269129181,
           -2.787348206418593,
           -2.569869143708005,
           -2.3523900809974165,
           -2.1349110182868287,
           -1.9174319555762402,
           -1.699952892865652,
           -1.482473830155064,
           -1.2649947674444757,
           -1.0475157047338874,
           -0.8300366420232992,
           -0.6125575793127114,
           -0.3950785166021231,
           -0.17759945389153486,
           0.03987960881905339,
           0.25735867152964165,
           0.4748377342402299,
           0.6923167969508177,
           0.9097958596614064,
           1.1272749223719942,
           1.344753985082582,
           1.5622330477931707,
           1.7797121105037585,
           1.9971911732143472,
           2.214670235924935,
           2.432149298635523,
           2.649628361346111
          ],
          [
           -3.6572644572609456,
           -3.4397853945503574,
           -3.222306331839769,
           -3.004827269129181,
           -2.787348206418593,
           -2.569869143708005,
           -2.3523900809974165,
           -2.1349110182868287,
           -1.9174319555762402,
           -1.699952892865652,
           -1.482473830155064,
           -1.2649947674444757,
           -1.0475157047338874,
           -0.8300366420232992,
           -0.6125575793127114,
           -0.3950785166021231,
           -0.17759945389153486,
           0.03987960881905339,
           0.25735867152964165,
           0.4748377342402299,
           0.6923167969508177,
           0.9097958596614064,
           1.1272749223719942,
           1.344753985082582,
           1.5622330477931707,
           1.7797121105037585,
           1.9971911732143472,
           2.214670235924935,
           2.432149298635523,
           2.649628361346111
          ],
          [
           -3.6572644572609456,
           -3.4397853945503574,
           -3.222306331839769,
           -3.004827269129181,
           -2.787348206418593,
           -2.569869143708005,
           -2.3523900809974165,
           -2.1349110182868287,
           -1.9174319555762402,
           -1.699952892865652,
           -1.482473830155064,
           -1.2649947674444757,
           -1.0475157047338874,
           -0.8300366420232992,
           -0.6125575793127114,
           -0.3950785166021231,
           -0.17759945389153486,
           0.03987960881905339,
           0.25735867152964165,
           0.4748377342402299,
           0.6923167969508177,
           0.9097958596614064,
           1.1272749223719942,
           1.344753985082582,
           1.5622330477931707,
           1.7797121105037585,
           1.9971911732143472,
           2.214670235924935,
           2.432149298635523,
           2.649628361346111
          ],
          [
           -3.6572644572609456,
           -3.4397853945503574,
           -3.222306331839769,
           -3.004827269129181,
           -2.787348206418593,
           -2.569869143708005,
           -2.3523900809974165,
           -2.1349110182868287,
           -1.9174319555762402,
           -1.699952892865652,
           -1.482473830155064,
           -1.2649947674444757,
           -1.0475157047338874,
           -0.8300366420232992,
           -0.6125575793127114,
           -0.3950785166021231,
           -0.17759945389153486,
           0.03987960881905339,
           0.25735867152964165,
           0.4748377342402299,
           0.6923167969508177,
           0.9097958596614064,
           1.1272749223719942,
           1.344753985082582,
           1.5622330477931707,
           1.7797121105037585,
           1.9971911732143472,
           2.214670235924935,
           2.432149298635523,
           2.649628361346111
          ],
          [
           -3.6572644572609456,
           -3.4397853945503574,
           -3.222306331839769,
           -3.004827269129181,
           -2.787348206418593,
           -2.569869143708005,
           -2.3523900809974165,
           -2.1349110182868287,
           -1.9174319555762402,
           -1.699952892865652,
           -1.482473830155064,
           -1.2649947674444757,
           -1.0475157047338874,
           -0.8300366420232992,
           -0.6125575793127114,
           -0.3950785166021231,
           -0.17759945389153486,
           0.03987960881905339,
           0.25735867152964165,
           0.4748377342402299,
           0.6923167969508177,
           0.9097958596614064,
           1.1272749223719942,
           1.344753985082582,
           1.5622330477931707,
           1.7797121105037585,
           1.9971911732143472,
           2.214670235924935,
           2.432149298635523,
           2.649628361346111
          ],
          [
           -3.6572644572609456,
           -3.4397853945503574,
           -3.222306331839769,
           -3.004827269129181,
           -2.787348206418593,
           -2.569869143708005,
           -2.3523900809974165,
           -2.1349110182868287,
           -1.9174319555762402,
           -1.699952892865652,
           -1.482473830155064,
           -1.2649947674444757,
           -1.0475157047338874,
           -0.8300366420232992,
           -0.6125575793127114,
           -0.3950785166021231,
           -0.17759945389153486,
           0.03987960881905339,
           0.25735867152964165,
           0.4748377342402299,
           0.6923167969508177,
           0.9097958596614064,
           1.1272749223719942,
           1.344753985082582,
           1.5622330477931707,
           1.7797121105037585,
           1.9971911732143472,
           2.214670235924935,
           2.432149298635523,
           2.649628361346111
          ],
          [
           -3.6572644572609456,
           -3.4397853945503574,
           -3.222306331839769,
           -3.004827269129181,
           -2.787348206418593,
           -2.569869143708005,
           -2.3523900809974165,
           -2.1349110182868287,
           -1.9174319555762402,
           -1.699952892865652,
           -1.482473830155064,
           -1.2649947674444757,
           -1.0475157047338874,
           -0.8300366420232992,
           -0.6125575793127114,
           -0.3950785166021231,
           -0.17759945389153486,
           0.03987960881905339,
           0.25735867152964165,
           0.4748377342402299,
           0.6923167969508177,
           0.9097958596614064,
           1.1272749223719942,
           1.344753985082582,
           1.5622330477931707,
           1.7797121105037585,
           1.9971911732143472,
           2.214670235924935,
           2.432149298635523,
           2.649628361346111
          ],
          [
           -3.6572644572609456,
           -3.4397853945503574,
           -3.222306331839769,
           -3.004827269129181,
           -2.787348206418593,
           -2.569869143708005,
           -2.3523900809974165,
           -2.1349110182868287,
           -1.9174319555762402,
           -1.699952892865652,
           -1.482473830155064,
           -1.2649947674444757,
           -1.0475157047338874,
           -0.8300366420232992,
           -0.6125575793127114,
           -0.3950785166021231,
           -0.17759945389153486,
           0.03987960881905339,
           0.25735867152964165,
           0.4748377342402299,
           0.6923167969508177,
           0.9097958596614064,
           1.1272749223719942,
           1.344753985082582,
           1.5622330477931707,
           1.7797121105037585,
           1.9971911732143472,
           2.214670235924935,
           2.432149298635523,
           2.649628361346111
          ],
          [
           -3.6572644572609456,
           -3.4397853945503574,
           -3.222306331839769,
           -3.004827269129181,
           -2.787348206418593,
           -2.569869143708005,
           -2.3523900809974165,
           -2.1349110182868287,
           -1.9174319555762402,
           -1.699952892865652,
           -1.482473830155064,
           -1.2649947674444757,
           -1.0475157047338874,
           -0.8300366420232992,
           -0.6125575793127114,
           -0.3950785166021231,
           -0.17759945389153486,
           0.03987960881905339,
           0.25735867152964165,
           0.4748377342402299,
           0.6923167969508177,
           0.9097958596614064,
           1.1272749223719942,
           1.344753985082582,
           1.5622330477931707,
           1.7797121105037585,
           1.9971911732143472,
           2.214670235924935,
           2.432149298635523,
           2.649628361346111
          ],
          [
           -3.6572644572609456,
           -3.4397853945503574,
           -3.222306331839769,
           -3.004827269129181,
           -2.787348206418593,
           -2.569869143708005,
           -2.3523900809974165,
           -2.1349110182868287,
           -1.9174319555762402,
           -1.699952892865652,
           -1.482473830155064,
           -1.2649947674444757,
           -1.0475157047338874,
           -0.8300366420232992,
           -0.6125575793127114,
           -0.3950785166021231,
           -0.17759945389153486,
           0.03987960881905339,
           0.25735867152964165,
           0.4748377342402299,
           0.6923167969508177,
           0.9097958596614064,
           1.1272749223719942,
           1.344753985082582,
           1.5622330477931707,
           1.7797121105037585,
           1.9971911732143472,
           2.214670235924935,
           2.432149298635523,
           2.649628361346111
          ],
          [
           -3.6572644572609456,
           -3.4397853945503574,
           -3.222306331839769,
           -3.004827269129181,
           -2.787348206418593,
           -2.569869143708005,
           -2.3523900809974165,
           -2.1349110182868287,
           -1.9174319555762402,
           -1.699952892865652,
           -1.482473830155064,
           -1.2649947674444757,
           -1.0475157047338874,
           -0.8300366420232992,
           -0.6125575793127114,
           -0.3950785166021231,
           -0.17759945389153486,
           0.03987960881905339,
           0.25735867152964165,
           0.4748377342402299,
           0.6923167969508177,
           0.9097958596614064,
           1.1272749223719942,
           1.344753985082582,
           1.5622330477931707,
           1.7797121105037585,
           1.9971911732143472,
           2.214670235924935,
           2.432149298635523,
           2.649628361346111
          ],
          [
           -3.6572644572609456,
           -3.4397853945503574,
           -3.222306331839769,
           -3.004827269129181,
           -2.787348206418593,
           -2.569869143708005,
           -2.3523900809974165,
           -2.1349110182868287,
           -1.9174319555762402,
           -1.699952892865652,
           -1.482473830155064,
           -1.2649947674444757,
           -1.0475157047338874,
           -0.8300366420232992,
           -0.6125575793127114,
           -0.3950785166021231,
           -0.17759945389153486,
           0.03987960881905339,
           0.25735867152964165,
           0.4748377342402299,
           0.6923167969508177,
           0.9097958596614064,
           1.1272749223719942,
           1.344753985082582,
           1.5622330477931707,
           1.7797121105037585,
           1.9971911732143472,
           2.214670235924935,
           2.432149298635523,
           2.649628361346111
          ],
          [
           -3.6572644572609456,
           -3.4397853945503574,
           -3.222306331839769,
           -3.004827269129181,
           -2.787348206418593,
           -2.569869143708005,
           -2.3523900809974165,
           -2.1349110182868287,
           -1.9174319555762402,
           -1.699952892865652,
           -1.482473830155064,
           -1.2649947674444757,
           -1.0475157047338874,
           -0.8300366420232992,
           -0.6125575793127114,
           -0.3950785166021231,
           -0.17759945389153486,
           0.03987960881905339,
           0.25735867152964165,
           0.4748377342402299,
           0.6923167969508177,
           0.9097958596614064,
           1.1272749223719942,
           1.344753985082582,
           1.5622330477931707,
           1.7797121105037585,
           1.9971911732143472,
           2.214670235924935,
           2.432149298635523,
           2.649628361346111
          ],
          [
           -3.6572644572609456,
           -3.4397853945503574,
           -3.222306331839769,
           -3.004827269129181,
           -2.787348206418593,
           -2.569869143708005,
           -2.3523900809974165,
           -2.1349110182868287,
           -1.9174319555762402,
           -1.699952892865652,
           -1.482473830155064,
           -1.2649947674444757,
           -1.0475157047338874,
           -0.8300366420232992,
           -0.6125575793127114,
           -0.3950785166021231,
           -0.17759945389153486,
           0.03987960881905339,
           0.25735867152964165,
           0.4748377342402299,
           0.6923167969508177,
           0.9097958596614064,
           1.1272749223719942,
           1.344753985082582,
           1.5622330477931707,
           1.7797121105037585,
           1.9971911732143472,
           2.214670235924935,
           2.432149298635523,
           2.649628361346111
          ]
         ],
         "z": [
          [
           155.28543273655595,
           133.5453784868021,
           116.28444921472153,
           102.88480313191117,
           92.78684684955479,
           85.48595367950034,
           80.52918193533773,
           77.51199323347575,
           76.0749707942197,
           75.90053774284878,
           76.70967541069321,
           78.25864163621186,
           80.33568906606962,
           82.75778345621453,
           85.36732197295538,
           88.02885149403909,
           90.62578690972786,
           93.0571294238768,
           95.2341848550112,
           97.07728193740375,
           98.51249062215227,
           99.46834037825673,
           99.87253849369682,
           99.64868837650924,
           98.71300785586509,
           96.97104748314729,
           94.31440883302793,
           90.61746280454557,
           85.73406792218272,
           79.49428863694314
          ],
          [
           144.59273904892072,
           122.68839569924633,
           105.1580404184543,
           91.39716891879736,
           80.85906178881503,
           73.05150279441071,
           67.53349717992954,
           63.91198996923522,
           61.83858426678785,
           61.00625955872092,
           61.14609001391903,
           62.02396278509502,
           63.43729630986735,
           65.21175861183771,
           67.19798560166807,
           69.26829937815829,
           71.31342652932342,
           73.23921643347094,
           74.96335956027846,
           76.41210577187074,
           77.51698262389722,
           78.21151366660949,
           78.42793674593847,
           78.09392230457185,
           77.12929168303157,
           75.442735420751,
           72.92853155715261,
           69.46326393272493,
           64.90254049010025,
           59.077711575131964
          ],
          [
           135.22264530579554,
           113.3080015442155,
           95.6598116792562,
           81.68660295213715,
           70.85422395706448,
           62.68256294230797,
           56.74226611127875,
           52.65145592360649,
           50.07244939621679,
           48.70847640440861,
           48.30039798293153,
           48.623424627063336,
           49.483834593687114,
           50.71569220236886,
           52.17756613643473,
           53.74924774404844,
           55.32846933928863,
           56.82762250322631,
           58.17047638500206,
           59.28889600290363,
           60.11956054544313,
           60.60068167243448,
           60.66872181607077,
           60.255112482001664,
           59.28297255041074,
           57.663826577092806,
           55.29432309453145,
           52.05295291297616,
           47.79676742151996,
           42.35809688917656
          ],
          [
           126.95722637664201,
           105.1696126406371,
           87.53905048501753,
           73.48679270828063,
           62.49094993860993,
           54.08320893495253,
           47.84555088809648,
           43.40696972174819,
           40.44019039360977,
           38.658387196456395,
           37.81190205921373,
           37.68496284803522,
           38.09240166737951,
           38.87637316108786,
           39.90307281346143,
           41.0594552503387,
           42.24995254017288,
           43.393192495109176,
           44.418716972062285,
           45.263700173793694,
           45.869666949989075,
           46.17921109833565,
           46.13271366559954,
           45.66506124870324,
           44.70236429580283,
           43.158675407365514,
           40.93270763724682,
           37.90455279376822,
           33.93239974079417,
           28.849252698809792
          ],
          [
           119.60390966824731,
           98.06440623349641,
           80.57121303841879,
           66.55800246710035,
           55.51484121001301,
           46.984908565091956,
           40.56121473881318,
           35.88331914727067,
           32.634048717253926,
           30.536216187325298,
           29.34933840889729,
           28.866354647310022,
           28.91034488290855,
           29.331248112120264,
           30.00258064853225,
           30.81815442396865,
           31.688795289568063,
           32.5390613168609,
           33.303961098846784,
           33.92567205107186,
           34.35025871270623,
           34.5243910476213,
           34.392062745467186,
           33.89130952274999,
           32.950927423909306,
           31.48719112239549,
           29.400572221747108,
           26.57245755666825,
           22.861867494105915,
           18.102174234327396
          ],
          [
           112.99477192747075,
           91.80861699658331,
           74.55722105967726,
           60.686370114738004,
           49.697780942836744,
           41.14581940920765,
           34.634218764325475,
           29.812797944982773,
           26.37417987536729,
           24.05050976813938,
           22.610173425509377,
           21.854515540314917,
           21.614557997098355,
           21.74771817318411,
           22.13452723975607,
           22.67534846293495,
           23.287095504855646,
           23.89995072474463,
           24.454083479997333,
           24.896368427255478,
           25.17710382348449,
           25.24672982705086,
           25.05254679879951,
           24.535433603131168,
           23.62656590907974,
           22.244134491389694,
           20.29006353159341,
           17.646728919088602,
           14.17367655221563,
           9.704340639334884
          ],
          [
           106.98583604398996,
           86.24283383523826,
           69.32275858929323,
           55.68320394635064,
           44.837230806391865,
           36.35008563026096,
           29.83591874074236,
           24.95450262363801,
           21.407950228844825,
           18.937433271432095,
           17.31990053271882,
           16.364796161351055,
           15.91077797437934,
           15.822435758336047,
           15.987009570312738,
           16.31110803903758,
           16.717426665952665,
           17.141466126291427,
           17.528250570155983,
           17.82904592359453,
           17.99807818967871,
           17.98925174958098,
           17.752867663651987,
           17.232341972497927,
           16.360923998057952,
           15.05841464468151,
           13.227884700205715,
           10.752393137032776,
           7.491705413207287,
           3.2790117734936732
          ],
          [
           101.45636785304761,
           81.23129668909911,
           64.71756879079665,
           51.384279468857294,
           40.75552777048342,
           32.407134780439925,
           25.963361922131746,
           21.093629258681172,
           17.50923379400516,
           14.960067773892817,
           13.231336987082694,
           12.14027906634018,
           11.532881789534885,
           11.280601380718002,
           11.277080811199689,
           11.434868100626431,
           11.682134618058424,
           11.959393383046935,
           12.216217366711692,
           12.40795779281824,
           12.492462438855318,
           12.426793937112249,
           12.163948075756286,
           11.649572099910014,
           10.818683012728682,
           9.592385876477625,
           7.8745921136095935,
           5.548737807842172,
           2.4745020052351023,
           -1.5154749847323128
          ],
          [
           96.3081729381977,
           76.66119333484738,
           60.61475075349349,
           47.649136203685295,
           37.29918090815711,
           29.150974603905517,
           22.838583843266886,
           18.040770294994708,
           14.477709045336884,
           11.907706899113224,
           10.123920680792732,
           8.951075535571013,
           8.24218323044764,
           7.87526045530353,
           7.750047123978305,
           7.784724675347682,
           7.9126343744008345,
           8.078995613317772,
           8.237624212546699,
           8.34765072188141,
           8.37023872153865,
           8.26530312323548,
           7.988228471266666,
           7.486587243582042,
           6.696858152863883,
           5.541144447604285,
           3.923892213182522,
           1.728608672942447,
           -1.1854195107301595,
           -4.98640793533022
          ],
          [
           91.46489343405202,
           72.44195618895466,
           56.910056295212144,
           44.36037448951681,
           34.33816819844578,
           26.43948983953822,
           20.307905122372844,
           15.631211349645195,
           12.138155718245052,
           9.595153620333797,
           7.803006944421791,
           6.5936223764457385,
           5.826729700846066,
           5.386600101644299,
           5.178764463520431,
           5.126731672890288,
           5.168706918982923,
           5.254309994917963,
           5.341293598783005,
           5.392261634710968,
           5.371387513957487,
           5.241132455978267,
           4.958963789506468,
           4.474073253630076,
           3.7240952988692673,
           2.6318253882538016,
           1.1019382984003612,
           -0.9822935794100287,
           -3.7622819381546764,
           -7.407404253991825
          ],
          [
           86.87130482902671,
           68.50455911042927,
           53.52118676505003,
           41.422952285035294,
           31.765233329115887,
           24.153739023684444,
           18.24122826387291,
           13.724228014629809,
           10.339751611797636,
           7.862017063190265,
           6.099165349670296,
           4.889978726226428,
           4.100599023050832,
           3.621245946616535,
           3.3629353807547844,
           3.2541976877324195,
           3.23779600932925,
           3.267444567915426,
           3.3045269675288096,
           3.3148144949523535,
           3.265184420791464,
           3.1203383005513823,
           2.8395202757145577,
           2.373235374818015,
           1.6599678145307273,
           0.6228993007310006,
           -0.8333726704161746,
           -2.826116511381719,
           -5.497748242195128,
           -9.019113189367078
          ],
          [
           82.49261276808852,
           64.80081420356248,
           50.38708984611988,
           38.76348197167186,
           29.495182499413886,
           22.19725129290295,
           16.531334461135096,
           12.202382659622726,
           8.955369391471955,
           6.572009308460033,
           4.867476512112688,
           3.6871228547815003,
           2.9031962407212863,
           2.4115589271674627,
           2.1284058254134215,
           1.9869828018879025,
           1.9343049792323719,
           1.9278750373783842,
           1.9324015146249678,
           1.9165171087159867,
           1.8494969779175223,
           1.6979770420952385,
           1.4226722837917631,
           0.9750950493040534,
           0.2942733497607688,
           -0.6965308378003428,
           -2.093103269355099,
           -4.01355913281547,
           -6.601624746952249,
           -10.029919260317653
          ],
          [
           78.31374985550154,
           61.30266862067515,
           47.46725635829628,
           36.32952715635185,
           27.464181222812783,
           20.495323186711346,
           15.093180399218575,
           10.970821234721639,
           7.880873391901156,
           5.612242194808654,
           3.986828893943878,
           2.8562489673321854,
           2.098550421601918,
           1.6149320930617779,
           1.3264619487781932,
           1.170795387652697,
           1.0988935414992973,
           1.071741576121853,
           1.0570669923914406,
           1.0260579273237358,
           0.9500814551563791,
           0.797401888426351,
           0.5298990790473478,
           0.09978671938715142,
           -0.5536693566550015,
           -1.5074328725710318,
           -2.8579788081666706,
           -4.724575098484049,
           -7.252564332724366,
           -10.616645453170493
          ],
          [
           74.33867245757335,
           58.001501364864026,
           44.74101706096212,
           34.08889947424117,
           25.629051129758487,
           18.994315450332486,
           13.8631950576201,
           9.95657007319414,
           7.034416419620635,
           4.892524121536269,
           3.3592156067257006,
           2.2920640071989506,
           1.5746114602687835,
           1.1130874096280738,
           0.8331269064271795,
           0.6764889103513156,
           0.5977745906979269,
           0.5611456274540618,
           0.5370425123737433,
           0.4989028500553432,
           0.41987965901895563,
           0.26955967278376813,
           0.010681640945437568,
           -0.40414536974654025,
           -1.0357236743114588,
           -1.9615486684600172,
           -3.279090527516969,
           -5.109075905343715,
           -7.59876963326097,
           -10.925256418971363
          ],
          [
           70.58965750540166,
           54.907420092748325,
           42.206839455755016,
           32.02895539149282,
           23.96656677041633,
           17.660949837440977,
           12.798576513020496,
           9.10783269422423,
           6.355736555814511,
           4.344656851324067,
           2.9090312141333623,
           1.9120844585479726,
           1.2425468808759748,
           0.8113725605053099,
           0.5484576609811554,
           0.3993587310832985,
           0.3220110059035124,
           0.2834467079229264,
           0.2565133480893995,
           0.21659202689489318,
           0.1383157354528453,
           -0.007712343424459065,
           -0.2582005341485112,
           -0.6604503672772095,
           -1.275638278437488,
           -2.182097307247931,
           -3.4785987962414247,
           -5.2876340897877485,
           -7.75869623301624,
           -11.071561670738397
          ],
          [
           67.1065992976207,
           52.048557917216044,
           39.88162458931376,
           30.155893007993306,
           22.47275241741746,
           16.48160591290958,
           11.87658874203108,
           8.393286605658734,
           5.805453959062058,
           3.9217323129807253,
           2.582368534701887,
           1.655933149137575,
           1.0360386399020658,
           0.6380577503892557,
           0.39584178485003374,
           0.25843890946965203,
           0.18681245344510206,
           0.15055921006248596,
           0.12462773777438929,
           0.08603666127725465,
           0.010592972588754279,
           -0.13038966787483777,
           -0.3733726302212698,
           -0.7658740140049436,
           -1.3697503471495414,
           -2.2644782848706435,
           -3.550436308598377,
           -5.352186424900008,
           -7.821755864402606,
           -11.141918780715653
          ],
          [
           63.9463063031477,
           49.47037021017059,
           37.80000385602479,
           28.494048860109103,
           21.162178868605352,
           15.461617855555701,
           11.093858423940137,
           7.801380106753765,
           5.364367668084174,
           3.597429404188866,
           2.3463154445725816,
           1.4846360530646898,
           0.9105799288965617,
           0.5436325077789419,
           0.32129426297932034,
           0.19579900639930467,
           0.1308321896519965,
           0.09824920513936154,
           0.07479368712960337,
           0.038815812834536306,
           -0.033009396513041495,
           -0.16896377458197595,
           -0.40556770886538157,
           -0.790861839603272,
           -1.3876887587051876,
           -2.276974708672813,
           -3.5610112815226236,
           -5.366737117708483,
           -7.849019605044301,
           -11.193936577626648
          ],
          [
           61.1817979639293,
           47.234931405277045,
           36.013635800768654,
           27.08519472343312,
           20.06726024978221,
           14.62457126088781,
           10.46567174345936,
           7.339629090921173,
           5.032752404489815,
           3.365310794251508,
           2.18825168023947,
           1.3799190935112995,
           0.8427719772263528,
           0.5001024877231127,
           0.292754295596562,
           0.17584088677555584,
           0.1154638636001962,
           0.08543124589920371,
           0.063975772067291,
           0.030473200142535233,
           -0.037839391116248365,
           -0.1691453011521347,
           -0.4003299065327133,
           -0.7802623598727184,
           -1.3730772887566578,
           -2.261456494661428,
           -3.549910651878964,
           -5.368061006438833,
           -7.873921075030897,
           -11.257178343927922
          ],
          [
           58.90160149768799,
           45.420231800708734,
           34.590502921666406,
           25.987834415531104,
           19.23755081745545,
           14.011599943851909,
           10.025271193470283,
           7.033913848474992,
           4.82965537552246,
           3.238119726838518,
           2.1151456412957557,
           1.343504945490893,
           0.829620854822162,
           0.5002862745666753,
           0.29938210095779944,
           0.18459552226252782,
           0.12413831985885392,
           0.09346516931314462,
           0.07199194145751252,
           0.03981400346718884,
           -0.02557548006210307,
           -0.1525672460367759,
           -0.37871763178800305,
           -0.7540302739943484,
           -1.344237807604396,
           -2.2340835647593633,
           -3.5306032737157538,
           -5.3664067577679475,
           -7.902959634170867,
           -11.333865013062583
          ],
          [
           57.209048700668674,
           44.119474361893644,
           33.61420847282612,
           25.27650059868816,
           18.739041761584126,
           13.680682741577986,
           9.823152377770771,
           6.927775869377902,
           4.79219307680655,
           3.2470768227330566,
           2.152851193180267,
           1.3964098385949153,
           0.8878342749249989,
           0.5571121846971526,
           0.3508557180940178,
           0.2290197940316163,
           0.16162040123672528,
           0.12545289932424855,
           0.1008103198745898,
           0.06820166751102548,
           0.005070220977078092,
           -0.11748816578611179,
           -0.33800676256241025,
           -0.7079296617833203,
           -1.294893477450609,
           -2.1860090440589266,
           -3.4911431155184514,
           -5.346200064077488,
           -7.916403579245126,
           -11.39957836671385
          ],
          [
           56.221572750384986,
           43.44037152426088,
           33.18327326708929,
           25.041051582655136,
           18.65345800832541,
           13.705940316126455,
           9.926360813821434,
           7.081714645987661,
           4.97484809509395,
           3.4411768825780356,
           2.3454044699239116,
           1.5782403597392172,
           1.0531183968326088,
           0.7029150692911325,
           0.47666780955759613,
           0.3362932955079414,
           0.25330575152861967,
           0.20553524959396302,
           0.1738460103435574,
           0.13885470415961537,
           0.07764875224434997,
           -0.03949537230265398,
           -0.2523938434070642,
           -0.614237180942431,
           -1.1948719496528155,
           -2.0840824580754074,
           -3.3948724574631695,
           -5.266746840707438,
           -7.868993341260581,
           -11.403964232058605
          ],
          [
           56.0700050083658,
           43.504441995987115,
           33.410432478777324,
           25.385968127395127,
           19.077555022781013,
           14.176931957234611,
           10.417788735492104,
           7.572484475803586,
           5.448765911010397,
           3.886485689622565,
           2.7543206768961257,
           1.9464902559105106,
           1.3794746286459263,
           0.9887331170607218,
           0.7254224641687617,
           0.5531151351167996,
           0.4445176182618522,
           0.37818872624857064,
           0.3352578970866139,
           0.29614349522802247,
           0.2372711126445906,
           0.1277918699052385,
           -0.07369928274661211,
           -0.42244526431566787,
           -0.9908085619773922,
           -1.8715529300006235,
           -3.1811250886702194,
           -5.062936423209655,
           -7.690644682703685,
           -11.271435679020954
          ],
          [
           56.89787182290168,
           44.446307560743016,
           34.421932446437964,
           26.429650245829876,
           20.122415611743655,
           15.197952385063084,
           11.395471895808265,
           8.49239126421296,
           6.30105170180194,
           4.665436812468403,
           3.4578908935513217,
           2.5758372369128106,
           1.9384964300155192,
           1.4836046569999894,
           1.1641319997620356,
           0.9450007390301115,
           0.7998036554426912,
           0.7075223306256364,
           0.6492454482695705,
           0.6048870952072528,
           0.5499050624909491,
           0.4520191464698069,
           0.26792944986722855,
           -0.05996531714175818,
           -0.6068495358531278,
           -1.4687723779564763,
           -2.765929504457665,
           -4.645944764601417,
           -7.287151894793983,
           -10.901876217525746
          ],
          [
           58.86069133179131,
           46.412989880439724,
           36.35682747559174,
           28.30371400658627,
           21.9127467264435,
           16.887328552942286,
           12.971886369697518,
           9.94858932723753,
           7.634067144081403,
           5.8761284078164095,
           4.550478876175343,
           3.5574397781138964,
           2.8186661148880496,
           2.273864961131428,
           1.877513765932688,
           1.5955786539128765,
           1.4022327263028136,
           1.2765743620204635,
           1.1993455187483058,
           1.1496500340107079,
           1.1016719262513,
           1.0213936959103478,
           0.8633146265021244,
           0.5671690856922839,
           0.05464482637523138,
           -0.7738987122484952,
           -2.042712103594869,
           -3.903937632618973,
           -6.5408909947376594,
           -10.171342994752163
          ],
          [
           62.12527026508801,
           49.56320729797531,
           39.36627664147845,
           31.152288336742757,
           24.586176265294633,
           19.37671645011885,
           15.273245356736023,
           12.062378194279919,
           9.564727216574834,
           7.6316200232129985,
           6.141817860631919,
           4.998233923191757,
           4.124651654252716,
           3.462443047252398,
           2.9672869467831884,
           2.605887349669621,
           2.352691706045753,
           2.1866092204325414,
           2.087729152815212,
           2.034039119720635,
           1.998143395294693,
           1.9439812123796616,
           1.8235450635915755,
           1.5735990023976074,
           1.1123969441934323,
           0.336400967380613,
           -0.8830003855560443,
           -2.7027738069710896,
           -5.311522922981088,
           -8.932769992387232
          ],
          [
           66.86900074784609,
           54.066671639981195,
           43.61284059180356,
           35.13131182457583,
           28.292549876641488,
           22.81039790450213,
           18.438795983894963,
           14.968499410870113,
           12.223797002867958,
           10.059229399796585,
           8.356307365109103,
           7.020230086881041,
           5.97660347888771,
           5.168158481681579,
           4.551469363669657,
           4.09367202219085,
           3.769182284593352,
           3.5564142093119977,
           3.4344983869456516,
           3.3800002413345767,
           3.363638330637802,
           3.347002648410502,
           3.2792729246813663,
           3.0939369270299744,
           2.705508761664164,
           2.006247174497414,
           0.8628738522261992,
           -0.8867082765926049,
           -3.436696740464386,
           -7.0166712238794045
          ],
          [
           73.27915710286737,
           60.10338501956867,
           49.269778349484746,
           40.40782952230648,
           33.19322776150531,
           27.3445773854106,
           22.620116108287007,
           18.814433341411895,
           15.755188494152632,
           13.29982927504405,
           11.332309992865758,
           9.759809857719526,
           8.509451282106673,
           7.525018182005431,
           6.76367427794832,
           6.192681396099511,
           5.786117769332219,
           5.521596338306057,
           5.376983052544413,
           5.327115171511835,
           5.340519565691391,
           5.3761310176620425,
           5.380010523176027,
           5.282063592236224,
           4.992758550173521,
           4.399844838724207,
           3.3650713171073177,
           1.7209045631020423,
           -0.7327528258749378,
           -4.23184393169206
          ],
          [
           81.55219265344759,
           67.86293663907519,
           56.52034411539818,
           47.15928974884653,
           39.46038147633058,
           33.14667880631828,
           27.980411119912677,
           23.75969597192925,
           20.315257391973255,
           17.507144185517145,
           15.221448234977931,
           13.367022800794512,
           11.872200822505114,
           10.681513219824614,
           9.75240719372193,
           9.051964527497406,
           8.553619887860158,
           8.233879126005458,
           8.069037578692129,
           8.031898369319885,
           8.088490709006724,
           8.194788197666288,
           8.293427125085252,
           8.310424772000683,
           8.15189771117742,
           7.70078010848544,
           6.813542023977237,
           5.31690771296521,
           3.004573927098992,
           -0.36607178455713285
          ],
          [
           91.8930365261229,
           77.54379959281101,
           65.55708407112513,
           55.57284089254527,
           47.276290735731514,
           40.394642327601275,
           34.69381074440691,
           29.975135712812907,
           26.07209991097327,
           22.847047269609003,
           20.187901273085387,
           18.004883260489354,
           16.22723072670691,
           14.799915623500478,
           13.68036266058628,
           12.835167606711689,
           12.236815590732636,
           11.860399402690955,
           11.680337794891772,
           11.667093782980869,
           11.78389294702206,
           11.983441732574565,
           12.204645751770386,
           12.369328084391668,
           12.378947578948086,
           12.111317153754209,
           11.417322098006872,
           10.117638372862562,
           7.999450912514789,
           4.813171925271416
          ],
          [
           104.51439045341631,
           89.35262766980557,
           76.58113318169845,
           65.84462821393583,
           56.83264021523846,
           49.27622115928419,
           42.94466584578547,
           37.64223020156672,
           33.204849581641625,
           29.49685707029058,
           26.407701782138037,
           23.84866716322986,
           21.749589292110727,
           20.055575180901503,
           18.723721076376588,
           17.71983076104129,
           17.015133854209246,
           16.583004113079735,
           16.39567773381508,
           16.420971652618025,
           16.619001846809095,
           16.93890163590397,
           17.31553998269087,
           17.66623979430791,
           17.887496223320497,
           17.851694968798682,
           17.403830577394523,
           16.35822474441952,
           14.495244614921889,
           11.558021084764029
          ]
         ]
        }
       ],
       "layout": {
        "margin": {
         "b": 10,
         "l": 10,
         "r": 20,
         "t": 10
        },
        "scene": {
         "xaxis": {
          "nticks": 4,
          "range": [
           -4,
           4
          ]
         },
         "yaxis": {
          "nticks": 4,
          "range": [
           -4,
           4
          ]
         },
         "zaxis": {
          "nticks": 4,
          "range": [
           -2.6747830615387516,
           73.4488180758088
          ]
         }
        },
        "template": {
         "data": {
          "bar": [
           {
            "error_x": {
             "color": "#2a3f5f"
            },
            "error_y": {
             "color": "#2a3f5f"
            },
            "marker": {
             "line": {
              "color": "#E5ECF6",
              "width": 0.5
             },
             "pattern": {
              "fillmode": "overlay",
              "size": 10,
              "solidity": 0.2
             }
            },
            "type": "bar"
           }
          ],
          "barpolar": [
           {
            "marker": {
             "line": {
              "color": "#E5ECF6",
              "width": 0.5
             },
             "pattern": {
              "fillmode": "overlay",
              "size": 10,
              "solidity": 0.2
             }
            },
            "type": "barpolar"
           }
          ],
          "carpet": [
           {
            "aaxis": {
             "endlinecolor": "#2a3f5f",
             "gridcolor": "white",
             "linecolor": "white",
             "minorgridcolor": "white",
             "startlinecolor": "#2a3f5f"
            },
            "baxis": {
             "endlinecolor": "#2a3f5f",
             "gridcolor": "white",
             "linecolor": "white",
             "minorgridcolor": "white",
             "startlinecolor": "#2a3f5f"
            },
            "type": "carpet"
           }
          ],
          "choropleth": [
           {
            "colorbar": {
             "outlinewidth": 0,
             "ticks": ""
            },
            "type": "choropleth"
           }
          ],
          "contour": [
           {
            "colorbar": {
             "outlinewidth": 0,
             "ticks": ""
            },
            "colorscale": [
             [
              0,
              "#0d0887"
             ],
             [
              0.1111111111111111,
              "#46039f"
             ],
             [
              0.2222222222222222,
              "#7201a8"
             ],
             [
              0.3333333333333333,
              "#9c179e"
             ],
             [
              0.4444444444444444,
              "#bd3786"
             ],
             [
              0.5555555555555556,
              "#d8576b"
             ],
             [
              0.6666666666666666,
              "#ed7953"
             ],
             [
              0.7777777777777778,
              "#fb9f3a"
             ],
             [
              0.8888888888888888,
              "#fdca26"
             ],
             [
              1,
              "#f0f921"
             ]
            ],
            "type": "contour"
           }
          ],
          "contourcarpet": [
           {
            "colorbar": {
             "outlinewidth": 0,
             "ticks": ""
            },
            "type": "contourcarpet"
           }
          ],
          "heatmap": [
           {
            "colorbar": {
             "outlinewidth": 0,
             "ticks": ""
            },
            "colorscale": [
             [
              0,
              "#0d0887"
             ],
             [
              0.1111111111111111,
              "#46039f"
             ],
             [
              0.2222222222222222,
              "#7201a8"
             ],
             [
              0.3333333333333333,
              "#9c179e"
             ],
             [
              0.4444444444444444,
              "#bd3786"
             ],
             [
              0.5555555555555556,
              "#d8576b"
             ],
             [
              0.6666666666666666,
              "#ed7953"
             ],
             [
              0.7777777777777778,
              "#fb9f3a"
             ],
             [
              0.8888888888888888,
              "#fdca26"
             ],
             [
              1,
              "#f0f921"
             ]
            ],
            "type": "heatmap"
           }
          ],
          "heatmapgl": [
           {
            "colorbar": {
             "outlinewidth": 0,
             "ticks": ""
            },
            "colorscale": [
             [
              0,
              "#0d0887"
             ],
             [
              0.1111111111111111,
              "#46039f"
             ],
             [
              0.2222222222222222,
              "#7201a8"
             ],
             [
              0.3333333333333333,
              "#9c179e"
             ],
             [
              0.4444444444444444,
              "#bd3786"
             ],
             [
              0.5555555555555556,
              "#d8576b"
             ],
             [
              0.6666666666666666,
              "#ed7953"
             ],
             [
              0.7777777777777778,
              "#fb9f3a"
             ],
             [
              0.8888888888888888,
              "#fdca26"
             ],
             [
              1,
              "#f0f921"
             ]
            ],
            "type": "heatmapgl"
           }
          ],
          "histogram": [
           {
            "marker": {
             "pattern": {
              "fillmode": "overlay",
              "size": 10,
              "solidity": 0.2
             }
            },
            "type": "histogram"
           }
          ],
          "histogram2d": [
           {
            "colorbar": {
             "outlinewidth": 0,
             "ticks": ""
            },
            "colorscale": [
             [
              0,
              "#0d0887"
             ],
             [
              0.1111111111111111,
              "#46039f"
             ],
             [
              0.2222222222222222,
              "#7201a8"
             ],
             [
              0.3333333333333333,
              "#9c179e"
             ],
             [
              0.4444444444444444,
              "#bd3786"
             ],
             [
              0.5555555555555556,
              "#d8576b"
             ],
             [
              0.6666666666666666,
              "#ed7953"
             ],
             [
              0.7777777777777778,
              "#fb9f3a"
             ],
             [
              0.8888888888888888,
              "#fdca26"
             ],
             [
              1,
              "#f0f921"
             ]
            ],
            "type": "histogram2d"
           }
          ],
          "histogram2dcontour": [
           {
            "colorbar": {
             "outlinewidth": 0,
             "ticks": ""
            },
            "colorscale": [
             [
              0,
              "#0d0887"
             ],
             [
              0.1111111111111111,
              "#46039f"
             ],
             [
              0.2222222222222222,
              "#7201a8"
             ],
             [
              0.3333333333333333,
              "#9c179e"
             ],
             [
              0.4444444444444444,
              "#bd3786"
             ],
             [
              0.5555555555555556,
              "#d8576b"
             ],
             [
              0.6666666666666666,
              "#ed7953"
             ],
             [
              0.7777777777777778,
              "#fb9f3a"
             ],
             [
              0.8888888888888888,
              "#fdca26"
             ],
             [
              1,
              "#f0f921"
             ]
            ],
            "type": "histogram2dcontour"
           }
          ],
          "mesh3d": [
           {
            "colorbar": {
             "outlinewidth": 0,
             "ticks": ""
            },
            "type": "mesh3d"
           }
          ],
          "parcoords": [
           {
            "line": {
             "colorbar": {
              "outlinewidth": 0,
              "ticks": ""
             }
            },
            "type": "parcoords"
           }
          ],
          "pie": [
           {
            "automargin": true,
            "type": "pie"
           }
          ],
          "scatter": [
           {
            "marker": {
             "colorbar": {
              "outlinewidth": 0,
              "ticks": ""
             }
            },
            "type": "scatter"
           }
          ],
          "scatter3d": [
           {
            "line": {
             "colorbar": {
              "outlinewidth": 0,
              "ticks": ""
             }
            },
            "marker": {
             "colorbar": {
              "outlinewidth": 0,
              "ticks": ""
             }
            },
            "type": "scatter3d"
           }
          ],
          "scattercarpet": [
           {
            "marker": {
             "colorbar": {
              "outlinewidth": 0,
              "ticks": ""
             }
            },
            "type": "scattercarpet"
           }
          ],
          "scattergeo": [
           {
            "marker": {
             "colorbar": {
              "outlinewidth": 0,
              "ticks": ""
             }
            },
            "type": "scattergeo"
           }
          ],
          "scattergl": [
           {
            "marker": {
             "colorbar": {
              "outlinewidth": 0,
              "ticks": ""
             }
            },
            "type": "scattergl"
           }
          ],
          "scattermapbox": [
           {
            "marker": {
             "colorbar": {
              "outlinewidth": 0,
              "ticks": ""
             }
            },
            "type": "scattermapbox"
           }
          ],
          "scatterpolar": [
           {
            "marker": {
             "colorbar": {
              "outlinewidth": 0,
              "ticks": ""
             }
            },
            "type": "scatterpolar"
           }
          ],
          "scatterpolargl": [
           {
            "marker": {
             "colorbar": {
              "outlinewidth": 0,
              "ticks": ""
             }
            },
            "type": "scatterpolargl"
           }
          ],
          "scatterternary": [
           {
            "marker": {
             "colorbar": {
              "outlinewidth": 0,
              "ticks": ""
             }
            },
            "type": "scatterternary"
           }
          ],
          "surface": [
           {
            "colorbar": {
             "outlinewidth": 0,
             "ticks": ""
            },
            "colorscale": [
             [
              0,
              "#0d0887"
             ],
             [
              0.1111111111111111,
              "#46039f"
             ],
             [
              0.2222222222222222,
              "#7201a8"
             ],
             [
              0.3333333333333333,
              "#9c179e"
             ],
             [
              0.4444444444444444,
              "#bd3786"
             ],
             [
              0.5555555555555556,
              "#d8576b"
             ],
             [
              0.6666666666666666,
              "#ed7953"
             ],
             [
              0.7777777777777778,
              "#fb9f3a"
             ],
             [
              0.8888888888888888,
              "#fdca26"
             ],
             [
              1,
              "#f0f921"
             ]
            ],
            "type": "surface"
           }
          ],
          "table": [
           {
            "cells": {
             "fill": {
              "color": "#EBF0F8"
             },
             "line": {
              "color": "white"
             }
            },
            "header": {
             "fill": {
              "color": "#C8D4E3"
             },
             "line": {
              "color": "white"
             }
            },
            "type": "table"
           }
          ]
         },
         "layout": {
          "annotationdefaults": {
           "arrowcolor": "#2a3f5f",
           "arrowhead": 0,
           "arrowwidth": 1
          },
          "autotypenumbers": "strict",
          "coloraxis": {
           "colorbar": {
            "outlinewidth": 0,
            "ticks": ""
           }
          },
          "colorscale": {
           "diverging": [
            [
             0,
             "#8e0152"
            ],
            [
             0.1,
             "#c51b7d"
            ],
            [
             0.2,
             "#de77ae"
            ],
            [
             0.3,
             "#f1b6da"
            ],
            [
             0.4,
             "#fde0ef"
            ],
            [
             0.5,
             "#f7f7f7"
            ],
            [
             0.6,
             "#e6f5d0"
            ],
            [
             0.7,
             "#b8e186"
            ],
            [
             0.8,
             "#7fbc41"
            ],
            [
             0.9,
             "#4d9221"
            ],
            [
             1,
             "#276419"
            ]
           ],
           "sequential": [
            [
             0,
             "#0d0887"
            ],
            [
             0.1111111111111111,
             "#46039f"
            ],
            [
             0.2222222222222222,
             "#7201a8"
            ],
            [
             0.3333333333333333,
             "#9c179e"
            ],
            [
             0.4444444444444444,
             "#bd3786"
            ],
            [
             0.5555555555555556,
             "#d8576b"
            ],
            [
             0.6666666666666666,
             "#ed7953"
            ],
            [
             0.7777777777777778,
             "#fb9f3a"
            ],
            [
             0.8888888888888888,
             "#fdca26"
            ],
            [
             1,
             "#f0f921"
            ]
           ],
           "sequentialminus": [
            [
             0,
             "#0d0887"
            ],
            [
             0.1111111111111111,
             "#46039f"
            ],
            [
             0.2222222222222222,
             "#7201a8"
            ],
            [
             0.3333333333333333,
             "#9c179e"
            ],
            [
             0.4444444444444444,
             "#bd3786"
            ],
            [
             0.5555555555555556,
             "#d8576b"
            ],
            [
             0.6666666666666666,
             "#ed7953"
            ],
            [
             0.7777777777777778,
             "#fb9f3a"
            ],
            [
             0.8888888888888888,
             "#fdca26"
            ],
            [
             1,
             "#f0f921"
            ]
           ]
          },
          "colorway": [
           "#636efa",
           "#EF553B",
           "#00cc96",
           "#ab63fa",
           "#FFA15A",
           "#19d3f3",
           "#FF6692",
           "#B6E880",
           "#FF97FF",
           "#FECB52"
          ],
          "font": {
           "color": "#2a3f5f"
          },
          "geo": {
           "bgcolor": "white",
           "lakecolor": "white",
           "landcolor": "#E5ECF6",
           "showlakes": true,
           "showland": true,
           "subunitcolor": "white"
          },
          "hoverlabel": {
           "align": "left"
          },
          "hovermode": "closest",
          "mapbox": {
           "style": "light"
          },
          "paper_bgcolor": "white",
          "plot_bgcolor": "#E5ECF6",
          "polar": {
           "angularaxis": {
            "gridcolor": "white",
            "linecolor": "white",
            "ticks": ""
           },
           "bgcolor": "#E5ECF6",
           "radialaxis": {
            "gridcolor": "white",
            "linecolor": "white",
            "ticks": ""
           }
          },
          "scene": {
           "xaxis": {
            "backgroundcolor": "#E5ECF6",
            "gridcolor": "white",
            "gridwidth": 2,
            "linecolor": "white",
            "showbackground": true,
            "ticks": "",
            "zerolinecolor": "white"
           },
           "yaxis": {
            "backgroundcolor": "#E5ECF6",
            "gridcolor": "white",
            "gridwidth": 2,
            "linecolor": "white",
            "showbackground": true,
            "ticks": "",
            "zerolinecolor": "white"
           },
           "zaxis": {
            "backgroundcolor": "#E5ECF6",
            "gridcolor": "white",
            "gridwidth": 2,
            "linecolor": "white",
            "showbackground": true,
            "ticks": "",
            "zerolinecolor": "white"
           }
          },
          "shapedefaults": {
           "line": {
            "color": "#2a3f5f"
           }
          },
          "ternary": {
           "aaxis": {
            "gridcolor": "white",
            "linecolor": "white",
            "ticks": ""
           },
           "baxis": {
            "gridcolor": "white",
            "linecolor": "white",
            "ticks": ""
           },
           "bgcolor": "#E5ECF6",
           "caxis": {
            "gridcolor": "white",
            "linecolor": "white",
            "ticks": ""
           }
          },
          "title": {
           "x": 0.05
          },
          "xaxis": {
           "automargin": true,
           "gridcolor": "white",
           "linecolor": "white",
           "ticks": "",
           "title": {
            "standoff": 15
           },
           "zerolinecolor": "white",
           "zerolinewidth": 2
          },
          "yaxis": {
           "automargin": true,
           "gridcolor": "white",
           "linecolor": "white",
           "ticks": "",
           "title": {
            "standoff": 15
           },
           "zerolinecolor": "white",
           "zerolinewidth": 2
          }
         }
        },
        "width": 700
       }
      },
      "text/html": [
       "<div>                            <div id=\"62710510-8083-4bdf-8d29-0888189496fd\" class=\"plotly-graph-div\" style=\"height:525px; width:700px;\"></div>            <script type=\"text/javascript\">                require([\"plotly\"], function(Plotly) {                    window.PLOTLYENV=window.PLOTLYENV || {};                                    if (document.getElementById(\"62710510-8083-4bdf-8d29-0888189496fd\")) {                    Plotly.newPlot(                        \"62710510-8083-4bdf-8d29-0888189496fd\",                        [{\"marker\":{\"size\":5},\"mode\":\"markers\",\"x\":[-2.6627995755702614,-3.1954783006737704,-3.595843659054997,-3.332000692865733,-3.2869268411401174,-2.943311761252612,-1.8292657625899256,-1.5258544690619231,-2.1595874181502057,-1.583935126306041,-2.4516360093743663,-3.138827326338167,-1.2350740816227364,-1.342196790900649,-1.2662817203650958,-0.9842833223611618,-0.6393666560767024,-2.3629042897826924,0.6449479398667359,0.079988753830895,0.7932291724731485,0.11766116125759733,-0.17768812026927036,0.7015511337493188,0.9728677883181542,1.492714695833615,1.1421625585668251,1.1482482257799735,1.4084265896456813,1.3697160747275778,2.428409970604761,1.789199559806631,2.3412854819874207,1.9042272833357432,1.5370631892408433,1.8053218589205215],\"y\":[-3.429521053078303,-1.2881758426350318,-1.2715727207374128,-0.01993542476677034,1.5629057267390027,1.5995337396154092,-1.9910705450319053,-1.382371181254587,-0.7265095979204625,0.6865492478472944,1.1307223439703187,1.9839748754533242,-3.6572644572609456,-2.4835016732996196,-1.187549312059505,-0.7161729073621496,1.156103210243584,2.649628361346111,-2.4154480047756444,-1.6206141990759253,-1.4130348248684452,0.7454848186578099,0.8788797456233475,1.5704295794006626,-3.542405972756549,-2.44110384363172,-2.0694553668649,0.35676023594749007,0.6953057153506046,0.9971042020937866,-2.2422609332276977,-2.137731863509253,-1.2658185034801113,-0.21943368023242776,0.7324418949064059,2.513196021901099],\"z\":[73.4488180758088,52.55409906239624,63.955490507378464,55.484028285559674,49.521296979651055,40.67691212832488,26.465308677961588,12.266315097375607,21.46720879535871,12.298927978410866,28.976204085535812,44.127250222496,58.578088467735164,27.57527657826867,7.498192348674755,10.044064614622894,0.6389545887549584,8.499358970112834,17.96587068239936,0.5758561305480261,6.355615899240892,3.428625011668126,-0.1498107670954092,-2.0525399553514254,51.14327644895685,28.72190477016929,18.188628456800355,6.249146974164893,12.049450105461734,9.13602695833485,40.55205341945565,24.495293424775877,25.432609851690994,16.332329864693982,9.333832896801534,-2.6747830615387516],\"type\":\"scatter3d\"},{\"opacity\":0.5,\"showscale\":false,\"x\":[[-3.595843659054997,-3.595843659054997,-3.595843659054997,-3.595843659054997,-3.595843659054997,-3.595843659054997,-3.595843659054997,-3.595843659054997,-3.595843659054997,-3.595843659054997,-3.595843659054997,-3.595843659054997,-3.595843659054997,-3.595843659054997,-3.595843659054997,-3.595843659054997,-3.595843659054997,-3.595843659054997,-3.595843659054997,-3.595843659054997,-3.595843659054997,-3.595843659054997,-3.595843659054997,-3.595843659054997,-3.595843659054997,-3.595843659054997,-3.595843659054997,-3.595843659054997,-3.595843659054997,-3.595843659054997],[-3.3881107752736264,-3.3881107752736264,-3.3881107752736264,-3.3881107752736264,-3.3881107752736264,-3.3881107752736264,-3.3881107752736264,-3.3881107752736264,-3.3881107752736264,-3.3881107752736264,-3.3881107752736264,-3.3881107752736264,-3.3881107752736264,-3.3881107752736264,-3.3881107752736264,-3.3881107752736264,-3.3881107752736264,-3.3881107752736264,-3.3881107752736264,-3.3881107752736264,-3.3881107752736264,-3.3881107752736264,-3.3881107752736264,-3.3881107752736264,-3.3881107752736264,-3.3881107752736264,-3.3881107752736264,-3.3881107752736264,-3.3881107752736264,-3.3881107752736264],[-3.180377891492255,-3.180377891492255,-3.180377891492255,-3.180377891492255,-3.180377891492255,-3.180377891492255,-3.180377891492255,-3.180377891492255,-3.180377891492255,-3.180377891492255,-3.180377891492255,-3.180377891492255,-3.180377891492255,-3.180377891492255,-3.180377891492255,-3.180377891492255,-3.180377891492255,-3.180377891492255,-3.180377891492255,-3.180377891492255,-3.180377891492255,-3.180377891492255,-3.180377891492255,-3.180377891492255,-3.180377891492255,-3.180377891492255,-3.180377891492255,-3.180377891492255,-3.180377891492255,-3.180377891492255],[-2.9726450077108844,-2.9726450077108844,-2.9726450077108844,-2.9726450077108844,-2.9726450077108844,-2.9726450077108844,-2.9726450077108844,-2.9726450077108844,-2.9726450077108844,-2.9726450077108844,-2.9726450077108844,-2.9726450077108844,-2.9726450077108844,-2.9726450077108844,-2.9726450077108844,-2.9726450077108844,-2.9726450077108844,-2.9726450077108844,-2.9726450077108844,-2.9726450077108844,-2.9726450077108844,-2.9726450077108844,-2.9726450077108844,-2.9726450077108844,-2.9726450077108844,-2.9726450077108844,-2.9726450077108844,-2.9726450077108844,-2.9726450077108844,-2.9726450077108844],[-2.764912123929513,-2.764912123929513,-2.764912123929513,-2.764912123929513,-2.764912123929513,-2.764912123929513,-2.764912123929513,-2.764912123929513,-2.764912123929513,-2.764912123929513,-2.764912123929513,-2.764912123929513,-2.764912123929513,-2.764912123929513,-2.764912123929513,-2.764912123929513,-2.764912123929513,-2.764912123929513,-2.764912123929513,-2.764912123929513,-2.764912123929513,-2.764912123929513,-2.764912123929513,-2.764912123929513,-2.764912123929513,-2.764912123929513,-2.764912123929513,-2.764912123929513,-2.764912123929513,-2.764912123929513],[-2.5571792401481424,-2.5571792401481424,-2.5571792401481424,-2.5571792401481424,-2.5571792401481424,-2.5571792401481424,-2.5571792401481424,-2.5571792401481424,-2.5571792401481424,-2.5571792401481424,-2.5571792401481424,-2.5571792401481424,-2.5571792401481424,-2.5571792401481424,-2.5571792401481424,-2.5571792401481424,-2.5571792401481424,-2.5571792401481424,-2.5571792401481424,-2.5571792401481424,-2.5571792401481424,-2.5571792401481424,-2.5571792401481424,-2.5571792401481424,-2.5571792401481424,-2.5571792401481424,-2.5571792401481424,-2.5571792401481424,-2.5571792401481424,-2.5571792401481424],[-2.349446356366771,-2.349446356366771,-2.349446356366771,-2.349446356366771,-2.349446356366771,-2.349446356366771,-2.349446356366771,-2.349446356366771,-2.349446356366771,-2.349446356366771,-2.349446356366771,-2.349446356366771,-2.349446356366771,-2.349446356366771,-2.349446356366771,-2.349446356366771,-2.349446356366771,-2.349446356366771,-2.349446356366771,-2.349446356366771,-2.349446356366771,-2.349446356366771,-2.349446356366771,-2.349446356366771,-2.349446356366771,-2.349446356366771,-2.349446356366771,-2.349446356366771,-2.349446356366771,-2.349446356366771],[-2.1417134725854003,-2.1417134725854003,-2.1417134725854003,-2.1417134725854003,-2.1417134725854003,-2.1417134725854003,-2.1417134725854003,-2.1417134725854003,-2.1417134725854003,-2.1417134725854003,-2.1417134725854003,-2.1417134725854003,-2.1417134725854003,-2.1417134725854003,-2.1417134725854003,-2.1417134725854003,-2.1417134725854003,-2.1417134725854003,-2.1417134725854003,-2.1417134725854003,-2.1417134725854003,-2.1417134725854003,-2.1417134725854003,-2.1417134725854003,-2.1417134725854003,-2.1417134725854003,-2.1417134725854003,-2.1417134725854003,-2.1417134725854003,-2.1417134725854003],[-1.9339805888040293,-1.9339805888040293,-1.9339805888040293,-1.9339805888040293,-1.9339805888040293,-1.9339805888040293,-1.9339805888040293,-1.9339805888040293,-1.9339805888040293,-1.9339805888040293,-1.9339805888040293,-1.9339805888040293,-1.9339805888040293,-1.9339805888040293,-1.9339805888040293,-1.9339805888040293,-1.9339805888040293,-1.9339805888040293,-1.9339805888040293,-1.9339805888040293,-1.9339805888040293,-1.9339805888040293,-1.9339805888040293,-1.9339805888040293,-1.9339805888040293,-1.9339805888040293,-1.9339805888040293,-1.9339805888040293,-1.9339805888040293,-1.9339805888040293],[-1.7262477050226583,-1.7262477050226583,-1.7262477050226583,-1.7262477050226583,-1.7262477050226583,-1.7262477050226583,-1.7262477050226583,-1.7262477050226583,-1.7262477050226583,-1.7262477050226583,-1.7262477050226583,-1.7262477050226583,-1.7262477050226583,-1.7262477050226583,-1.7262477050226583,-1.7262477050226583,-1.7262477050226583,-1.7262477050226583,-1.7262477050226583,-1.7262477050226583,-1.7262477050226583,-1.7262477050226583,-1.7262477050226583,-1.7262477050226583,-1.7262477050226583,-1.7262477050226583,-1.7262477050226583,-1.7262477050226583,-1.7262477050226583,-1.7262477050226583],[-1.5185148212412876,-1.5185148212412876,-1.5185148212412876,-1.5185148212412876,-1.5185148212412876,-1.5185148212412876,-1.5185148212412876,-1.5185148212412876,-1.5185148212412876,-1.5185148212412876,-1.5185148212412876,-1.5185148212412876,-1.5185148212412876,-1.5185148212412876,-1.5185148212412876,-1.5185148212412876,-1.5185148212412876,-1.5185148212412876,-1.5185148212412876,-1.5185148212412876,-1.5185148212412876,-1.5185148212412876,-1.5185148212412876,-1.5185148212412876,-1.5185148212412876,-1.5185148212412876,-1.5185148212412876,-1.5185148212412876,-1.5185148212412876,-1.5185148212412876],[-1.3107819374599163,-1.3107819374599163,-1.3107819374599163,-1.3107819374599163,-1.3107819374599163,-1.3107819374599163,-1.3107819374599163,-1.3107819374599163,-1.3107819374599163,-1.3107819374599163,-1.3107819374599163,-1.3107819374599163,-1.3107819374599163,-1.3107819374599163,-1.3107819374599163,-1.3107819374599163,-1.3107819374599163,-1.3107819374599163,-1.3107819374599163,-1.3107819374599163,-1.3107819374599163,-1.3107819374599163,-1.3107819374599163,-1.3107819374599163,-1.3107819374599163,-1.3107819374599163,-1.3107819374599163,-1.3107819374599163,-1.3107819374599163,-1.3107819374599163],[-1.1030490536785456,-1.1030490536785456,-1.1030490536785456,-1.1030490536785456,-1.1030490536785456,-1.1030490536785456,-1.1030490536785456,-1.1030490536785456,-1.1030490536785456,-1.1030490536785456,-1.1030490536785456,-1.1030490536785456,-1.1030490536785456,-1.1030490536785456,-1.1030490536785456,-1.1030490536785456,-1.1030490536785456,-1.1030490536785456,-1.1030490536785456,-1.1030490536785456,-1.1030490536785456,-1.1030490536785456,-1.1030490536785456,-1.1030490536785456,-1.1030490536785456,-1.1030490536785456,-1.1030490536785456,-1.1030490536785456,-1.1030490536785456,-1.1030490536785456],[-0.8953161698971743,-0.8953161698971743,-0.8953161698971743,-0.8953161698971743,-0.8953161698971743,-0.8953161698971743,-0.8953161698971743,-0.8953161698971743,-0.8953161698971743,-0.8953161698971743,-0.8953161698971743,-0.8953161698971743,-0.8953161698971743,-0.8953161698971743,-0.8953161698971743,-0.8953161698971743,-0.8953161698971743,-0.8953161698971743,-0.8953161698971743,-0.8953161698971743,-0.8953161698971743,-0.8953161698971743,-0.8953161698971743,-0.8953161698971743,-0.8953161698971743,-0.8953161698971743,-0.8953161698971743,-0.8953161698971743,-0.8953161698971743,-0.8953161698971743],[-0.6875832861158035,-0.6875832861158035,-0.6875832861158035,-0.6875832861158035,-0.6875832861158035,-0.6875832861158035,-0.6875832861158035,-0.6875832861158035,-0.6875832861158035,-0.6875832861158035,-0.6875832861158035,-0.6875832861158035,-0.6875832861158035,-0.6875832861158035,-0.6875832861158035,-0.6875832861158035,-0.6875832861158035,-0.6875832861158035,-0.6875832861158035,-0.6875832861158035,-0.6875832861158035,-0.6875832861158035,-0.6875832861158035,-0.6875832861158035,-0.6875832861158035,-0.6875832861158035,-0.6875832861158035,-0.6875832861158035,-0.6875832861158035,-0.6875832861158035],[-0.4798504023344323,-0.4798504023344323,-0.4798504023344323,-0.4798504023344323,-0.4798504023344323,-0.4798504023344323,-0.4798504023344323,-0.4798504023344323,-0.4798504023344323,-0.4798504023344323,-0.4798504023344323,-0.4798504023344323,-0.4798504023344323,-0.4798504023344323,-0.4798504023344323,-0.4798504023344323,-0.4798504023344323,-0.4798504023344323,-0.4798504023344323,-0.4798504023344323,-0.4798504023344323,-0.4798504023344323,-0.4798504023344323,-0.4798504023344323,-0.4798504023344323,-0.4798504023344323,-0.4798504023344323,-0.4798504023344323,-0.4798504023344323,-0.4798504023344323],[-0.27211751855306154,-0.27211751855306154,-0.27211751855306154,-0.27211751855306154,-0.27211751855306154,-0.27211751855306154,-0.27211751855306154,-0.27211751855306154,-0.27211751855306154,-0.27211751855306154,-0.27211751855306154,-0.27211751855306154,-0.27211751855306154,-0.27211751855306154,-0.27211751855306154,-0.27211751855306154,-0.27211751855306154,-0.27211751855306154,-0.27211751855306154,-0.27211751855306154,-0.27211751855306154,-0.27211751855306154,-0.27211751855306154,-0.27211751855306154,-0.27211751855306154,-0.27211751855306154,-0.27211751855306154,-0.27211751855306154,-0.27211751855306154,-0.27211751855306154],[-0.06438463477169076,-0.06438463477169076,-0.06438463477169076,-0.06438463477169076,-0.06438463477169076,-0.06438463477169076,-0.06438463477169076,-0.06438463477169076,-0.06438463477169076,-0.06438463477169076,-0.06438463477169076,-0.06438463477169076,-0.06438463477169076,-0.06438463477169076,-0.06438463477169076,-0.06438463477169076,-0.06438463477169076,-0.06438463477169076,-0.06438463477169076,-0.06438463477169076,-0.06438463477169076,-0.06438463477169076,-0.06438463477169076,-0.06438463477169076,-0.06438463477169076,-0.06438463477169076,-0.06438463477169076,-0.06438463477169076,-0.06438463477169076,-0.06438463477169076],[0.14334824900968046,0.14334824900968046,0.14334824900968046,0.14334824900968046,0.14334824900968046,0.14334824900968046,0.14334824900968046,0.14334824900968046,0.14334824900968046,0.14334824900968046,0.14334824900968046,0.14334824900968046,0.14334824900968046,0.14334824900968046,0.14334824900968046,0.14334824900968046,0.14334824900968046,0.14334824900968046,0.14334824900968046,0.14334824900968046,0.14334824900968046,0.14334824900968046,0.14334824900968046,0.14334824900968046,0.14334824900968046,0.14334824900968046,0.14334824900968046,0.14334824900968046,0.14334824900968046,0.14334824900968046],[0.35108113279105124,0.35108113279105124,0.35108113279105124,0.35108113279105124,0.35108113279105124,0.35108113279105124,0.35108113279105124,0.35108113279105124,0.35108113279105124,0.35108113279105124,0.35108113279105124,0.35108113279105124,0.35108113279105124,0.35108113279105124,0.35108113279105124,0.35108113279105124,0.35108113279105124,0.35108113279105124,0.35108113279105124,0.35108113279105124,0.35108113279105124,0.35108113279105124,0.35108113279105124,0.35108113279105124,0.35108113279105124,0.35108113279105124,0.35108113279105124,0.35108113279105124,0.35108113279105124,0.35108113279105124],[0.558814016572422,0.558814016572422,0.558814016572422,0.558814016572422,0.558814016572422,0.558814016572422,0.558814016572422,0.558814016572422,0.558814016572422,0.558814016572422,0.558814016572422,0.558814016572422,0.558814016572422,0.558814016572422,0.558814016572422,0.558814016572422,0.558814016572422,0.558814016572422,0.558814016572422,0.558814016572422,0.558814016572422,0.558814016572422,0.558814016572422,0.558814016572422,0.558814016572422,0.558814016572422,0.558814016572422,0.558814016572422,0.558814016572422,0.558814016572422],[0.7665469003537937,0.7665469003537937,0.7665469003537937,0.7665469003537937,0.7665469003537937,0.7665469003537937,0.7665469003537937,0.7665469003537937,0.7665469003537937,0.7665469003537937,0.7665469003537937,0.7665469003537937,0.7665469003537937,0.7665469003537937,0.7665469003537937,0.7665469003537937,0.7665469003537937,0.7665469003537937,0.7665469003537937,0.7665469003537937,0.7665469003537937,0.7665469003537937,0.7665469003537937,0.7665469003537937,0.7665469003537937,0.7665469003537937,0.7665469003537937,0.7665469003537937,0.7665469003537937,0.7665469003537937],[0.9742797841351645,0.9742797841351645,0.9742797841351645,0.9742797841351645,0.9742797841351645,0.9742797841351645,0.9742797841351645,0.9742797841351645,0.9742797841351645,0.9742797841351645,0.9742797841351645,0.9742797841351645,0.9742797841351645,0.9742797841351645,0.9742797841351645,0.9742797841351645,0.9742797841351645,0.9742797841351645,0.9742797841351645,0.9742797841351645,0.9742797841351645,0.9742797841351645,0.9742797841351645,0.9742797841351645,0.9742797841351645,0.9742797841351645,0.9742797841351645,0.9742797841351645,0.9742797841351645,0.9742797841351645],[1.1820126679165353,1.1820126679165353,1.1820126679165353,1.1820126679165353,1.1820126679165353,1.1820126679165353,1.1820126679165353,1.1820126679165353,1.1820126679165353,1.1820126679165353,1.1820126679165353,1.1820126679165353,1.1820126679165353,1.1820126679165353,1.1820126679165353,1.1820126679165353,1.1820126679165353,1.1820126679165353,1.1820126679165353,1.1820126679165353,1.1820126679165353,1.1820126679165353,1.1820126679165353,1.1820126679165353,1.1820126679165353,1.1820126679165353,1.1820126679165353,1.1820126679165353,1.1820126679165353,1.1820126679165353],[1.389745551697906,1.389745551697906,1.389745551697906,1.389745551697906,1.389745551697906,1.389745551697906,1.389745551697906,1.389745551697906,1.389745551697906,1.389745551697906,1.389745551697906,1.389745551697906,1.389745551697906,1.389745551697906,1.389745551697906,1.389745551697906,1.389745551697906,1.389745551697906,1.389745551697906,1.389745551697906,1.389745551697906,1.389745551697906,1.389745551697906,1.389745551697906,1.389745551697906,1.389745551697906,1.389745551697906,1.389745551697906,1.389745551697906,1.389745551697906],[1.5974784354792768,1.5974784354792768,1.5974784354792768,1.5974784354792768,1.5974784354792768,1.5974784354792768,1.5974784354792768,1.5974784354792768,1.5974784354792768,1.5974784354792768,1.5974784354792768,1.5974784354792768,1.5974784354792768,1.5974784354792768,1.5974784354792768,1.5974784354792768,1.5974784354792768,1.5974784354792768,1.5974784354792768,1.5974784354792768,1.5974784354792768,1.5974784354792768,1.5974784354792768,1.5974784354792768,1.5974784354792768,1.5974784354792768,1.5974784354792768,1.5974784354792768,1.5974784354792768,1.5974784354792768],[1.8052113192606485,1.8052113192606485,1.8052113192606485,1.8052113192606485,1.8052113192606485,1.8052113192606485,1.8052113192606485,1.8052113192606485,1.8052113192606485,1.8052113192606485,1.8052113192606485,1.8052113192606485,1.8052113192606485,1.8052113192606485,1.8052113192606485,1.8052113192606485,1.8052113192606485,1.8052113192606485,1.8052113192606485,1.8052113192606485,1.8052113192606485,1.8052113192606485,1.8052113192606485,1.8052113192606485,1.8052113192606485,1.8052113192606485,1.8052113192606485,1.8052113192606485,1.8052113192606485,1.8052113192606485],[2.0129442030420193,2.0129442030420193,2.0129442030420193,2.0129442030420193,2.0129442030420193,2.0129442030420193,2.0129442030420193,2.0129442030420193,2.0129442030420193,2.0129442030420193,2.0129442030420193,2.0129442030420193,2.0129442030420193,2.0129442030420193,2.0129442030420193,2.0129442030420193,2.0129442030420193,2.0129442030420193,2.0129442030420193,2.0129442030420193,2.0129442030420193,2.0129442030420193,2.0129442030420193,2.0129442030420193,2.0129442030420193,2.0129442030420193,2.0129442030420193,2.0129442030420193,2.0129442030420193,2.0129442030420193],[2.22067708682339,2.22067708682339,2.22067708682339,2.22067708682339,2.22067708682339,2.22067708682339,2.22067708682339,2.22067708682339,2.22067708682339,2.22067708682339,2.22067708682339,2.22067708682339,2.22067708682339,2.22067708682339,2.22067708682339,2.22067708682339,2.22067708682339,2.22067708682339,2.22067708682339,2.22067708682339,2.22067708682339,2.22067708682339,2.22067708682339,2.22067708682339,2.22067708682339,2.22067708682339,2.22067708682339,2.22067708682339,2.22067708682339,2.22067708682339],[2.428409970604761,2.428409970604761,2.428409970604761,2.428409970604761,2.428409970604761,2.428409970604761,2.428409970604761,2.428409970604761,2.428409970604761,2.428409970604761,2.428409970604761,2.428409970604761,2.428409970604761,2.428409970604761,2.428409970604761,2.428409970604761,2.428409970604761,2.428409970604761,2.428409970604761,2.428409970604761,2.428409970604761,2.428409970604761,2.428409970604761,2.428409970604761,2.428409970604761,2.428409970604761,2.428409970604761,2.428409970604761,2.428409970604761,2.428409970604761]],\"y\":[[-3.6572644572609456,-3.4397853945503574,-3.222306331839769,-3.004827269129181,-2.787348206418593,-2.569869143708005,-2.3523900809974165,-2.1349110182868287,-1.9174319555762402,-1.699952892865652,-1.482473830155064,-1.2649947674444757,-1.0475157047338874,-0.8300366420232992,-0.6125575793127114,-0.3950785166021231,-0.17759945389153486,0.03987960881905339,0.25735867152964165,0.4748377342402299,0.6923167969508177,0.9097958596614064,1.1272749223719942,1.344753985082582,1.5622330477931707,1.7797121105037585,1.9971911732143472,2.214670235924935,2.432149298635523,2.649628361346111],[-3.6572644572609456,-3.4397853945503574,-3.222306331839769,-3.004827269129181,-2.787348206418593,-2.569869143708005,-2.3523900809974165,-2.1349110182868287,-1.9174319555762402,-1.699952892865652,-1.482473830155064,-1.2649947674444757,-1.0475157047338874,-0.8300366420232992,-0.6125575793127114,-0.3950785166021231,-0.17759945389153486,0.03987960881905339,0.25735867152964165,0.4748377342402299,0.6923167969508177,0.9097958596614064,1.1272749223719942,1.344753985082582,1.5622330477931707,1.7797121105037585,1.9971911732143472,2.214670235924935,2.432149298635523,2.649628361346111],[-3.6572644572609456,-3.4397853945503574,-3.222306331839769,-3.004827269129181,-2.787348206418593,-2.569869143708005,-2.3523900809974165,-2.1349110182868287,-1.9174319555762402,-1.699952892865652,-1.482473830155064,-1.2649947674444757,-1.0475157047338874,-0.8300366420232992,-0.6125575793127114,-0.3950785166021231,-0.17759945389153486,0.03987960881905339,0.25735867152964165,0.4748377342402299,0.6923167969508177,0.9097958596614064,1.1272749223719942,1.344753985082582,1.5622330477931707,1.7797121105037585,1.9971911732143472,2.214670235924935,2.432149298635523,2.649628361346111],[-3.6572644572609456,-3.4397853945503574,-3.222306331839769,-3.004827269129181,-2.787348206418593,-2.569869143708005,-2.3523900809974165,-2.1349110182868287,-1.9174319555762402,-1.699952892865652,-1.482473830155064,-1.2649947674444757,-1.0475157047338874,-0.8300366420232992,-0.6125575793127114,-0.3950785166021231,-0.17759945389153486,0.03987960881905339,0.25735867152964165,0.4748377342402299,0.6923167969508177,0.9097958596614064,1.1272749223719942,1.344753985082582,1.5622330477931707,1.7797121105037585,1.9971911732143472,2.214670235924935,2.432149298635523,2.649628361346111],[-3.6572644572609456,-3.4397853945503574,-3.222306331839769,-3.004827269129181,-2.787348206418593,-2.569869143708005,-2.3523900809974165,-2.1349110182868287,-1.9174319555762402,-1.699952892865652,-1.482473830155064,-1.2649947674444757,-1.0475157047338874,-0.8300366420232992,-0.6125575793127114,-0.3950785166021231,-0.17759945389153486,0.03987960881905339,0.25735867152964165,0.4748377342402299,0.6923167969508177,0.9097958596614064,1.1272749223719942,1.344753985082582,1.5622330477931707,1.7797121105037585,1.9971911732143472,2.214670235924935,2.432149298635523,2.649628361346111],[-3.6572644572609456,-3.4397853945503574,-3.222306331839769,-3.004827269129181,-2.787348206418593,-2.569869143708005,-2.3523900809974165,-2.1349110182868287,-1.9174319555762402,-1.699952892865652,-1.482473830155064,-1.2649947674444757,-1.0475157047338874,-0.8300366420232992,-0.6125575793127114,-0.3950785166021231,-0.17759945389153486,0.03987960881905339,0.25735867152964165,0.4748377342402299,0.6923167969508177,0.9097958596614064,1.1272749223719942,1.344753985082582,1.5622330477931707,1.7797121105037585,1.9971911732143472,2.214670235924935,2.432149298635523,2.649628361346111],[-3.6572644572609456,-3.4397853945503574,-3.222306331839769,-3.004827269129181,-2.787348206418593,-2.569869143708005,-2.3523900809974165,-2.1349110182868287,-1.9174319555762402,-1.699952892865652,-1.482473830155064,-1.2649947674444757,-1.0475157047338874,-0.8300366420232992,-0.6125575793127114,-0.3950785166021231,-0.17759945389153486,0.03987960881905339,0.25735867152964165,0.4748377342402299,0.6923167969508177,0.9097958596614064,1.1272749223719942,1.344753985082582,1.5622330477931707,1.7797121105037585,1.9971911732143472,2.214670235924935,2.432149298635523,2.649628361346111],[-3.6572644572609456,-3.4397853945503574,-3.222306331839769,-3.004827269129181,-2.787348206418593,-2.569869143708005,-2.3523900809974165,-2.1349110182868287,-1.9174319555762402,-1.699952892865652,-1.482473830155064,-1.2649947674444757,-1.0475157047338874,-0.8300366420232992,-0.6125575793127114,-0.3950785166021231,-0.17759945389153486,0.03987960881905339,0.25735867152964165,0.4748377342402299,0.6923167969508177,0.9097958596614064,1.1272749223719942,1.344753985082582,1.5622330477931707,1.7797121105037585,1.9971911732143472,2.214670235924935,2.432149298635523,2.649628361346111],[-3.6572644572609456,-3.4397853945503574,-3.222306331839769,-3.004827269129181,-2.787348206418593,-2.569869143708005,-2.3523900809974165,-2.1349110182868287,-1.9174319555762402,-1.699952892865652,-1.482473830155064,-1.2649947674444757,-1.0475157047338874,-0.8300366420232992,-0.6125575793127114,-0.3950785166021231,-0.17759945389153486,0.03987960881905339,0.25735867152964165,0.4748377342402299,0.6923167969508177,0.9097958596614064,1.1272749223719942,1.344753985082582,1.5622330477931707,1.7797121105037585,1.9971911732143472,2.214670235924935,2.432149298635523,2.649628361346111],[-3.6572644572609456,-3.4397853945503574,-3.222306331839769,-3.004827269129181,-2.787348206418593,-2.569869143708005,-2.3523900809974165,-2.1349110182868287,-1.9174319555762402,-1.699952892865652,-1.482473830155064,-1.2649947674444757,-1.0475157047338874,-0.8300366420232992,-0.6125575793127114,-0.3950785166021231,-0.17759945389153486,0.03987960881905339,0.25735867152964165,0.4748377342402299,0.6923167969508177,0.9097958596614064,1.1272749223719942,1.344753985082582,1.5622330477931707,1.7797121105037585,1.9971911732143472,2.214670235924935,2.432149298635523,2.649628361346111],[-3.6572644572609456,-3.4397853945503574,-3.222306331839769,-3.004827269129181,-2.787348206418593,-2.569869143708005,-2.3523900809974165,-2.1349110182868287,-1.9174319555762402,-1.699952892865652,-1.482473830155064,-1.2649947674444757,-1.0475157047338874,-0.8300366420232992,-0.6125575793127114,-0.3950785166021231,-0.17759945389153486,0.03987960881905339,0.25735867152964165,0.4748377342402299,0.6923167969508177,0.9097958596614064,1.1272749223719942,1.344753985082582,1.5622330477931707,1.7797121105037585,1.9971911732143472,2.214670235924935,2.432149298635523,2.649628361346111],[-3.6572644572609456,-3.4397853945503574,-3.222306331839769,-3.004827269129181,-2.787348206418593,-2.569869143708005,-2.3523900809974165,-2.1349110182868287,-1.9174319555762402,-1.699952892865652,-1.482473830155064,-1.2649947674444757,-1.0475157047338874,-0.8300366420232992,-0.6125575793127114,-0.3950785166021231,-0.17759945389153486,0.03987960881905339,0.25735867152964165,0.4748377342402299,0.6923167969508177,0.9097958596614064,1.1272749223719942,1.344753985082582,1.5622330477931707,1.7797121105037585,1.9971911732143472,2.214670235924935,2.432149298635523,2.649628361346111],[-3.6572644572609456,-3.4397853945503574,-3.222306331839769,-3.004827269129181,-2.787348206418593,-2.569869143708005,-2.3523900809974165,-2.1349110182868287,-1.9174319555762402,-1.699952892865652,-1.482473830155064,-1.2649947674444757,-1.0475157047338874,-0.8300366420232992,-0.6125575793127114,-0.3950785166021231,-0.17759945389153486,0.03987960881905339,0.25735867152964165,0.4748377342402299,0.6923167969508177,0.9097958596614064,1.1272749223719942,1.344753985082582,1.5622330477931707,1.7797121105037585,1.9971911732143472,2.214670235924935,2.432149298635523,2.649628361346111],[-3.6572644572609456,-3.4397853945503574,-3.222306331839769,-3.004827269129181,-2.787348206418593,-2.569869143708005,-2.3523900809974165,-2.1349110182868287,-1.9174319555762402,-1.699952892865652,-1.482473830155064,-1.2649947674444757,-1.0475157047338874,-0.8300366420232992,-0.6125575793127114,-0.3950785166021231,-0.17759945389153486,0.03987960881905339,0.25735867152964165,0.4748377342402299,0.6923167969508177,0.9097958596614064,1.1272749223719942,1.344753985082582,1.5622330477931707,1.7797121105037585,1.9971911732143472,2.214670235924935,2.432149298635523,2.649628361346111],[-3.6572644572609456,-3.4397853945503574,-3.222306331839769,-3.004827269129181,-2.787348206418593,-2.569869143708005,-2.3523900809974165,-2.1349110182868287,-1.9174319555762402,-1.699952892865652,-1.482473830155064,-1.2649947674444757,-1.0475157047338874,-0.8300366420232992,-0.6125575793127114,-0.3950785166021231,-0.17759945389153486,0.03987960881905339,0.25735867152964165,0.4748377342402299,0.6923167969508177,0.9097958596614064,1.1272749223719942,1.344753985082582,1.5622330477931707,1.7797121105037585,1.9971911732143472,2.214670235924935,2.432149298635523,2.649628361346111],[-3.6572644572609456,-3.4397853945503574,-3.222306331839769,-3.004827269129181,-2.787348206418593,-2.569869143708005,-2.3523900809974165,-2.1349110182868287,-1.9174319555762402,-1.699952892865652,-1.482473830155064,-1.2649947674444757,-1.0475157047338874,-0.8300366420232992,-0.6125575793127114,-0.3950785166021231,-0.17759945389153486,0.03987960881905339,0.25735867152964165,0.4748377342402299,0.6923167969508177,0.9097958596614064,1.1272749223719942,1.344753985082582,1.5622330477931707,1.7797121105037585,1.9971911732143472,2.214670235924935,2.432149298635523,2.649628361346111],[-3.6572644572609456,-3.4397853945503574,-3.222306331839769,-3.004827269129181,-2.787348206418593,-2.569869143708005,-2.3523900809974165,-2.1349110182868287,-1.9174319555762402,-1.699952892865652,-1.482473830155064,-1.2649947674444757,-1.0475157047338874,-0.8300366420232992,-0.6125575793127114,-0.3950785166021231,-0.17759945389153486,0.03987960881905339,0.25735867152964165,0.4748377342402299,0.6923167969508177,0.9097958596614064,1.1272749223719942,1.344753985082582,1.5622330477931707,1.7797121105037585,1.9971911732143472,2.214670235924935,2.432149298635523,2.649628361346111],[-3.6572644572609456,-3.4397853945503574,-3.222306331839769,-3.004827269129181,-2.787348206418593,-2.569869143708005,-2.3523900809974165,-2.1349110182868287,-1.9174319555762402,-1.699952892865652,-1.482473830155064,-1.2649947674444757,-1.0475157047338874,-0.8300366420232992,-0.6125575793127114,-0.3950785166021231,-0.17759945389153486,0.03987960881905339,0.25735867152964165,0.4748377342402299,0.6923167969508177,0.9097958596614064,1.1272749223719942,1.344753985082582,1.5622330477931707,1.7797121105037585,1.9971911732143472,2.214670235924935,2.432149298635523,2.649628361346111],[-3.6572644572609456,-3.4397853945503574,-3.222306331839769,-3.004827269129181,-2.787348206418593,-2.569869143708005,-2.3523900809974165,-2.1349110182868287,-1.9174319555762402,-1.699952892865652,-1.482473830155064,-1.2649947674444757,-1.0475157047338874,-0.8300366420232992,-0.6125575793127114,-0.3950785166021231,-0.17759945389153486,0.03987960881905339,0.25735867152964165,0.4748377342402299,0.6923167969508177,0.9097958596614064,1.1272749223719942,1.344753985082582,1.5622330477931707,1.7797121105037585,1.9971911732143472,2.214670235924935,2.432149298635523,2.649628361346111],[-3.6572644572609456,-3.4397853945503574,-3.222306331839769,-3.004827269129181,-2.787348206418593,-2.569869143708005,-2.3523900809974165,-2.1349110182868287,-1.9174319555762402,-1.699952892865652,-1.482473830155064,-1.2649947674444757,-1.0475157047338874,-0.8300366420232992,-0.6125575793127114,-0.3950785166021231,-0.17759945389153486,0.03987960881905339,0.25735867152964165,0.4748377342402299,0.6923167969508177,0.9097958596614064,1.1272749223719942,1.344753985082582,1.5622330477931707,1.7797121105037585,1.9971911732143472,2.214670235924935,2.432149298635523,2.649628361346111],[-3.6572644572609456,-3.4397853945503574,-3.222306331839769,-3.004827269129181,-2.787348206418593,-2.569869143708005,-2.3523900809974165,-2.1349110182868287,-1.9174319555762402,-1.699952892865652,-1.482473830155064,-1.2649947674444757,-1.0475157047338874,-0.8300366420232992,-0.6125575793127114,-0.3950785166021231,-0.17759945389153486,0.03987960881905339,0.25735867152964165,0.4748377342402299,0.6923167969508177,0.9097958596614064,1.1272749223719942,1.344753985082582,1.5622330477931707,1.7797121105037585,1.9971911732143472,2.214670235924935,2.432149298635523,2.649628361346111],[-3.6572644572609456,-3.4397853945503574,-3.222306331839769,-3.004827269129181,-2.787348206418593,-2.569869143708005,-2.3523900809974165,-2.1349110182868287,-1.9174319555762402,-1.699952892865652,-1.482473830155064,-1.2649947674444757,-1.0475157047338874,-0.8300366420232992,-0.6125575793127114,-0.3950785166021231,-0.17759945389153486,0.03987960881905339,0.25735867152964165,0.4748377342402299,0.6923167969508177,0.9097958596614064,1.1272749223719942,1.344753985082582,1.5622330477931707,1.7797121105037585,1.9971911732143472,2.214670235924935,2.432149298635523,2.649628361346111],[-3.6572644572609456,-3.4397853945503574,-3.222306331839769,-3.004827269129181,-2.787348206418593,-2.569869143708005,-2.3523900809974165,-2.1349110182868287,-1.9174319555762402,-1.699952892865652,-1.482473830155064,-1.2649947674444757,-1.0475157047338874,-0.8300366420232992,-0.6125575793127114,-0.3950785166021231,-0.17759945389153486,0.03987960881905339,0.25735867152964165,0.4748377342402299,0.6923167969508177,0.9097958596614064,1.1272749223719942,1.344753985082582,1.5622330477931707,1.7797121105037585,1.9971911732143472,2.214670235924935,2.432149298635523,2.649628361346111],[-3.6572644572609456,-3.4397853945503574,-3.222306331839769,-3.004827269129181,-2.787348206418593,-2.569869143708005,-2.3523900809974165,-2.1349110182868287,-1.9174319555762402,-1.699952892865652,-1.482473830155064,-1.2649947674444757,-1.0475157047338874,-0.8300366420232992,-0.6125575793127114,-0.3950785166021231,-0.17759945389153486,0.03987960881905339,0.25735867152964165,0.4748377342402299,0.6923167969508177,0.9097958596614064,1.1272749223719942,1.344753985082582,1.5622330477931707,1.7797121105037585,1.9971911732143472,2.214670235924935,2.432149298635523,2.649628361346111],[-3.6572644572609456,-3.4397853945503574,-3.222306331839769,-3.004827269129181,-2.787348206418593,-2.569869143708005,-2.3523900809974165,-2.1349110182868287,-1.9174319555762402,-1.699952892865652,-1.482473830155064,-1.2649947674444757,-1.0475157047338874,-0.8300366420232992,-0.6125575793127114,-0.3950785166021231,-0.17759945389153486,0.03987960881905339,0.25735867152964165,0.4748377342402299,0.6923167969508177,0.9097958596614064,1.1272749223719942,1.344753985082582,1.5622330477931707,1.7797121105037585,1.9971911732143472,2.214670235924935,2.432149298635523,2.649628361346111],[-3.6572644572609456,-3.4397853945503574,-3.222306331839769,-3.004827269129181,-2.787348206418593,-2.569869143708005,-2.3523900809974165,-2.1349110182868287,-1.9174319555762402,-1.699952892865652,-1.482473830155064,-1.2649947674444757,-1.0475157047338874,-0.8300366420232992,-0.6125575793127114,-0.3950785166021231,-0.17759945389153486,0.03987960881905339,0.25735867152964165,0.4748377342402299,0.6923167969508177,0.9097958596614064,1.1272749223719942,1.344753985082582,1.5622330477931707,1.7797121105037585,1.9971911732143472,2.214670235924935,2.432149298635523,2.649628361346111],[-3.6572644572609456,-3.4397853945503574,-3.222306331839769,-3.004827269129181,-2.787348206418593,-2.569869143708005,-2.3523900809974165,-2.1349110182868287,-1.9174319555762402,-1.699952892865652,-1.482473830155064,-1.2649947674444757,-1.0475157047338874,-0.8300366420232992,-0.6125575793127114,-0.3950785166021231,-0.17759945389153486,0.03987960881905339,0.25735867152964165,0.4748377342402299,0.6923167969508177,0.9097958596614064,1.1272749223719942,1.344753985082582,1.5622330477931707,1.7797121105037585,1.9971911732143472,2.214670235924935,2.432149298635523,2.649628361346111],[-3.6572644572609456,-3.4397853945503574,-3.222306331839769,-3.004827269129181,-2.787348206418593,-2.569869143708005,-2.3523900809974165,-2.1349110182868287,-1.9174319555762402,-1.699952892865652,-1.482473830155064,-1.2649947674444757,-1.0475157047338874,-0.8300366420232992,-0.6125575793127114,-0.3950785166021231,-0.17759945389153486,0.03987960881905339,0.25735867152964165,0.4748377342402299,0.6923167969508177,0.9097958596614064,1.1272749223719942,1.344753985082582,1.5622330477931707,1.7797121105037585,1.9971911732143472,2.214670235924935,2.432149298635523,2.649628361346111],[-3.6572644572609456,-3.4397853945503574,-3.222306331839769,-3.004827269129181,-2.787348206418593,-2.569869143708005,-2.3523900809974165,-2.1349110182868287,-1.9174319555762402,-1.699952892865652,-1.482473830155064,-1.2649947674444757,-1.0475157047338874,-0.8300366420232992,-0.6125575793127114,-0.3950785166021231,-0.17759945389153486,0.03987960881905339,0.25735867152964165,0.4748377342402299,0.6923167969508177,0.9097958596614064,1.1272749223719942,1.344753985082582,1.5622330477931707,1.7797121105037585,1.9971911732143472,2.214670235924935,2.432149298635523,2.649628361346111],[-3.6572644572609456,-3.4397853945503574,-3.222306331839769,-3.004827269129181,-2.787348206418593,-2.569869143708005,-2.3523900809974165,-2.1349110182868287,-1.9174319555762402,-1.699952892865652,-1.482473830155064,-1.2649947674444757,-1.0475157047338874,-0.8300366420232992,-0.6125575793127114,-0.3950785166021231,-0.17759945389153486,0.03987960881905339,0.25735867152964165,0.4748377342402299,0.6923167969508177,0.9097958596614064,1.1272749223719942,1.344753985082582,1.5622330477931707,1.7797121105037585,1.9971911732143472,2.214670235924935,2.432149298635523,2.649628361346111]],\"z\":[[155.28543273655595,133.5453784868021,116.28444921472153,102.88480313191117,92.78684684955479,85.48595367950034,80.52918193533773,77.51199323347575,76.0749707942197,75.90053774284878,76.70967541069321,78.25864163621186,80.33568906606962,82.75778345621453,85.36732197295538,88.02885149403909,90.62578690972786,93.0571294238768,95.2341848550112,97.07728193740375,98.51249062215227,99.46834037825673,99.87253849369682,99.64868837650924,98.71300785586509,96.97104748314729,94.31440883302793,90.61746280454557,85.73406792218272,79.49428863694314],[144.59273904892072,122.68839569924633,105.1580404184543,91.39716891879736,80.85906178881503,73.05150279441071,67.53349717992954,63.91198996923522,61.83858426678785,61.00625955872092,61.14609001391903,62.02396278509502,63.43729630986735,65.21175861183771,67.19798560166807,69.26829937815829,71.31342652932342,73.23921643347094,74.96335956027846,76.41210577187074,77.51698262389722,78.21151366660949,78.42793674593847,78.09392230457185,77.12929168303157,75.442735420751,72.92853155715261,69.46326393272493,64.90254049010025,59.077711575131964],[135.22264530579554,113.3080015442155,95.6598116792562,81.68660295213715,70.85422395706448,62.68256294230797,56.74226611127875,52.65145592360649,50.07244939621679,48.70847640440861,48.30039798293153,48.623424627063336,49.483834593687114,50.71569220236886,52.17756613643473,53.74924774404844,55.32846933928863,56.82762250322631,58.17047638500206,59.28889600290363,60.11956054544313,60.60068167243448,60.66872181607077,60.255112482001664,59.28297255041074,57.663826577092806,55.29432309453145,52.05295291297616,47.79676742151996,42.35809688917656],[126.95722637664201,105.1696126406371,87.53905048501753,73.48679270828063,62.49094993860993,54.08320893495253,47.84555088809648,43.40696972174819,40.44019039360977,38.658387196456395,37.81190205921373,37.68496284803522,38.09240166737951,38.87637316108786,39.90307281346143,41.0594552503387,42.24995254017288,43.393192495109176,44.418716972062285,45.263700173793694,45.869666949989075,46.17921109833565,46.13271366559954,45.66506124870324,44.70236429580283,43.158675407365514,40.93270763724682,37.90455279376822,33.93239974079417,28.849252698809792],[119.60390966824731,98.06440623349641,80.57121303841879,66.55800246710035,55.51484121001301,46.984908565091956,40.56121473881318,35.88331914727067,32.634048717253926,30.536216187325298,29.34933840889729,28.866354647310022,28.91034488290855,29.331248112120264,30.00258064853225,30.81815442396865,31.688795289568063,32.5390613168609,33.303961098846784,33.92567205107186,34.35025871270623,34.5243910476213,34.392062745467186,33.89130952274999,32.950927423909306,31.48719112239549,29.400572221747108,26.57245755666825,22.861867494105915,18.102174234327396],[112.99477192747075,91.80861699658331,74.55722105967726,60.686370114738004,49.697780942836744,41.14581940920765,34.634218764325475,29.812797944982773,26.37417987536729,24.05050976813938,22.610173425509377,21.854515540314917,21.614557997098355,21.74771817318411,22.13452723975607,22.67534846293495,23.287095504855646,23.89995072474463,24.454083479997333,24.896368427255478,25.17710382348449,25.24672982705086,25.05254679879951,24.535433603131168,23.62656590907974,22.244134491389694,20.29006353159341,17.646728919088602,14.17367655221563,9.704340639334884],[106.98583604398996,86.24283383523826,69.32275858929323,55.68320394635064,44.837230806391865,36.35008563026096,29.83591874074236,24.95450262363801,21.407950228844825,18.937433271432095,17.31990053271882,16.364796161351055,15.91077797437934,15.822435758336047,15.987009570312738,16.31110803903758,16.717426665952665,17.141466126291427,17.528250570155983,17.82904592359453,17.99807818967871,17.98925174958098,17.752867663651987,17.232341972497927,16.360923998057952,15.05841464468151,13.227884700205715,10.752393137032776,7.491705413207287,3.2790117734936732],[101.45636785304761,81.23129668909911,64.71756879079665,51.384279468857294,40.75552777048342,32.407134780439925,25.963361922131746,21.093629258681172,17.50923379400516,14.960067773892817,13.231336987082694,12.14027906634018,11.532881789534885,11.280601380718002,11.277080811199689,11.434868100626431,11.682134618058424,11.959393383046935,12.216217366711692,12.40795779281824,12.492462438855318,12.426793937112249,12.163948075756286,11.649572099910014,10.818683012728682,9.592385876477625,7.8745921136095935,5.548737807842172,2.4745020052351023,-1.5154749847323128],[96.3081729381977,76.66119333484738,60.61475075349349,47.649136203685295,37.29918090815711,29.150974603905517,22.838583843266886,18.040770294994708,14.477709045336884,11.907706899113224,10.123920680792732,8.951075535571013,8.24218323044764,7.87526045530353,7.750047123978305,7.784724675347682,7.9126343744008345,8.078995613317772,8.237624212546699,8.34765072188141,8.37023872153865,8.26530312323548,7.988228471266666,7.486587243582042,6.696858152863883,5.541144447604285,3.923892213182522,1.728608672942447,-1.1854195107301595,-4.98640793533022],[91.46489343405202,72.44195618895466,56.910056295212144,44.36037448951681,34.33816819844578,26.43948983953822,20.307905122372844,15.631211349645195,12.138155718245052,9.595153620333797,7.803006944421791,6.5936223764457385,5.826729700846066,5.386600101644299,5.178764463520431,5.126731672890288,5.168706918982923,5.254309994917963,5.341293598783005,5.392261634710968,5.371387513957487,5.241132455978267,4.958963789506468,4.474073253630076,3.7240952988692673,2.6318253882538016,1.1019382984003612,-0.9822935794100287,-3.7622819381546764,-7.407404253991825],[86.87130482902671,68.50455911042927,53.52118676505003,41.422952285035294,31.765233329115887,24.153739023684444,18.24122826387291,13.724228014629809,10.339751611797636,7.862017063190265,6.099165349670296,4.889978726226428,4.100599023050832,3.621245946616535,3.3629353807547844,3.2541976877324195,3.23779600932925,3.267444567915426,3.3045269675288096,3.3148144949523535,3.265184420791464,3.1203383005513823,2.8395202757145577,2.373235374818015,1.6599678145307273,0.6228993007310006,-0.8333726704161746,-2.826116511381719,-5.497748242195128,-9.019113189367078],[82.49261276808852,64.80081420356248,50.38708984611988,38.76348197167186,29.495182499413886,22.19725129290295,16.531334461135096,12.202382659622726,8.955369391471955,6.572009308460033,4.867476512112688,3.6871228547815003,2.9031962407212863,2.4115589271674627,2.1284058254134215,1.9869828018879025,1.9343049792323719,1.9278750373783842,1.9324015146249678,1.9165171087159867,1.8494969779175223,1.6979770420952385,1.4226722837917631,0.9750950493040534,0.2942733497607688,-0.6965308378003428,-2.093103269355099,-4.01355913281547,-6.601624746952249,-10.029919260317653],[78.31374985550154,61.30266862067515,47.46725635829628,36.32952715635185,27.464181222812783,20.495323186711346,15.093180399218575,10.970821234721639,7.880873391901156,5.612242194808654,3.986828893943878,2.8562489673321854,2.098550421601918,1.6149320930617779,1.3264619487781932,1.170795387652697,1.0988935414992973,1.071741576121853,1.0570669923914406,1.0260579273237358,0.9500814551563791,0.797401888426351,0.5298990790473478,0.09978671938715142,-0.5536693566550015,-1.5074328725710318,-2.8579788081666706,-4.724575098484049,-7.252564332724366,-10.616645453170493],[74.33867245757335,58.001501364864026,44.74101706096212,34.08889947424117,25.629051129758487,18.994315450332486,13.8631950576201,9.95657007319414,7.034416419620635,4.892524121536269,3.3592156067257006,2.2920640071989506,1.5746114602687835,1.1130874096280738,0.8331269064271795,0.6764889103513156,0.5977745906979269,0.5611456274540618,0.5370425123737433,0.4989028500553432,0.41987965901895563,0.26955967278376813,0.010681640945437568,-0.40414536974654025,-1.0357236743114588,-1.9615486684600172,-3.279090527516969,-5.109075905343715,-7.59876963326097,-10.925256418971363],[70.58965750540166,54.907420092748325,42.206839455755016,32.02895539149282,23.96656677041633,17.660949837440977,12.798576513020496,9.10783269422423,6.355736555814511,4.344656851324067,2.9090312141333623,1.9120844585479726,1.2425468808759748,0.8113725605053099,0.5484576609811554,0.3993587310832985,0.3220110059035124,0.2834467079229264,0.2565133480893995,0.21659202689489318,0.1383157354528453,-0.007712343424459065,-0.2582005341485112,-0.6604503672772095,-1.275638278437488,-2.182097307247931,-3.4785987962414247,-5.2876340897877485,-7.75869623301624,-11.071561670738397],[67.1065992976207,52.048557917216044,39.88162458931376,30.155893007993306,22.47275241741746,16.48160591290958,11.87658874203108,8.393286605658734,5.805453959062058,3.9217323129807253,2.582368534701887,1.655933149137575,1.0360386399020658,0.6380577503892557,0.39584178485003374,0.25843890946965203,0.18681245344510206,0.15055921006248596,0.12462773777438929,0.08603666127725465,0.010592972588754279,-0.13038966787483777,-0.3733726302212698,-0.7658740140049436,-1.3697503471495414,-2.2644782848706435,-3.550436308598377,-5.352186424900008,-7.821755864402606,-11.141918780715653],[63.9463063031477,49.47037021017059,37.80000385602479,28.494048860109103,21.162178868605352,15.461617855555701,11.093858423940137,7.801380106753765,5.364367668084174,3.597429404188866,2.3463154445725816,1.4846360530646898,0.9105799288965617,0.5436325077789419,0.32129426297932034,0.19579900639930467,0.1308321896519965,0.09824920513936154,0.07479368712960337,0.038815812834536306,-0.033009396513041495,-0.16896377458197595,-0.40556770886538157,-0.790861839603272,-1.3876887587051876,-2.276974708672813,-3.5610112815226236,-5.366737117708483,-7.849019605044301,-11.193936577626648],[61.1817979639293,47.234931405277045,36.013635800768654,27.08519472343312,20.06726024978221,14.62457126088781,10.46567174345936,7.339629090921173,5.032752404489815,3.365310794251508,2.18825168023947,1.3799190935112995,0.8427719772263528,0.5001024877231127,0.292754295596562,0.17584088677555584,0.1154638636001962,0.08543124589920371,0.063975772067291,0.030473200142535233,-0.037839391116248365,-0.1691453011521347,-0.4003299065327133,-0.7802623598727184,-1.3730772887566578,-2.261456494661428,-3.549910651878964,-5.368061006438833,-7.873921075030897,-11.257178343927922],[58.90160149768799,45.420231800708734,34.590502921666406,25.987834415531104,19.23755081745545,14.011599943851909,10.025271193470283,7.033913848474992,4.82965537552246,3.238119726838518,2.1151456412957557,1.343504945490893,0.829620854822162,0.5002862745666753,0.29938210095779944,0.18459552226252782,0.12413831985885392,0.09346516931314462,0.07199194145751252,0.03981400346718884,-0.02557548006210307,-0.1525672460367759,-0.37871763178800305,-0.7540302739943484,-1.344237807604396,-2.2340835647593633,-3.5306032737157538,-5.3664067577679475,-7.902959634170867,-11.333865013062583],[57.209048700668674,44.119474361893644,33.61420847282612,25.27650059868816,18.739041761584126,13.680682741577986,9.823152377770771,6.927775869377902,4.79219307680655,3.2470768227330566,2.152851193180267,1.3964098385949153,0.8878342749249989,0.5571121846971526,0.3508557180940178,0.2290197940316163,0.16162040123672528,0.12545289932424855,0.1008103198745898,0.06820166751102548,0.005070220977078092,-0.11748816578611179,-0.33800676256241025,-0.7079296617833203,-1.294893477450609,-2.1860090440589266,-3.4911431155184514,-5.346200064077488,-7.916403579245126,-11.39957836671385],[56.221572750384986,43.44037152426088,33.18327326708929,25.041051582655136,18.65345800832541,13.705940316126455,9.926360813821434,7.081714645987661,4.97484809509395,3.4411768825780356,2.3454044699239116,1.5782403597392172,1.0531183968326088,0.7029150692911325,0.47666780955759613,0.3362932955079414,0.25330575152861967,0.20553524959396302,0.1738460103435574,0.13885470415961537,0.07764875224434997,-0.03949537230265398,-0.2523938434070642,-0.614237180942431,-1.1948719496528155,-2.0840824580754074,-3.3948724574631695,-5.266746840707438,-7.868993341260581,-11.403964232058605],[56.0700050083658,43.504441995987115,33.410432478777324,25.385968127395127,19.077555022781013,14.176931957234611,10.417788735492104,7.572484475803586,5.448765911010397,3.886485689622565,2.7543206768961257,1.9464902559105106,1.3794746286459263,0.9887331170607218,0.7254224641687617,0.5531151351167996,0.4445176182618522,0.37818872624857064,0.3352578970866139,0.29614349522802247,0.2372711126445906,0.1277918699052385,-0.07369928274661211,-0.42244526431566787,-0.9908085619773922,-1.8715529300006235,-3.1811250886702194,-5.062936423209655,-7.690644682703685,-11.271435679020954],[56.89787182290168,44.446307560743016,34.421932446437964,26.429650245829876,20.122415611743655,15.197952385063084,11.395471895808265,8.49239126421296,6.30105170180194,4.665436812468403,3.4578908935513217,2.5758372369128106,1.9384964300155192,1.4836046569999894,1.1641319997620356,0.9450007390301115,0.7998036554426912,0.7075223306256364,0.6492454482695705,0.6048870952072528,0.5499050624909491,0.4520191464698069,0.26792944986722855,-0.05996531714175818,-0.6068495358531278,-1.4687723779564763,-2.765929504457665,-4.645944764601417,-7.287151894793983,-10.901876217525746],[58.86069133179131,46.412989880439724,36.35682747559174,28.30371400658627,21.9127467264435,16.887328552942286,12.971886369697518,9.94858932723753,7.634067144081403,5.8761284078164095,4.550478876175343,3.5574397781138964,2.8186661148880496,2.273864961131428,1.877513765932688,1.5955786539128765,1.4022327263028136,1.2765743620204635,1.1993455187483058,1.1496500340107079,1.1016719262513,1.0213936959103478,0.8633146265021244,0.5671690856922839,0.05464482637523138,-0.7738987122484952,-2.042712103594869,-3.903937632618973,-6.5408909947376594,-10.171342994752163],[62.12527026508801,49.56320729797531,39.36627664147845,31.152288336742757,24.586176265294633,19.37671645011885,15.273245356736023,12.062378194279919,9.564727216574834,7.6316200232129985,6.141817860631919,4.998233923191757,4.124651654252716,3.462443047252398,2.9672869467831884,2.605887349669621,2.352691706045753,2.1866092204325414,2.087729152815212,2.034039119720635,1.998143395294693,1.9439812123796616,1.8235450635915755,1.5735990023976074,1.1123969441934323,0.336400967380613,-0.8830003855560443,-2.7027738069710896,-5.311522922981088,-8.932769992387232],[66.86900074784609,54.066671639981195,43.61284059180356,35.13131182457583,28.292549876641488,22.81039790450213,18.438795983894963,14.968499410870113,12.223797002867958,10.059229399796585,8.356307365109103,7.020230086881041,5.97660347888771,5.168158481681579,4.551469363669657,4.09367202219085,3.769182284593352,3.5564142093119977,3.4344983869456516,3.3800002413345767,3.363638330637802,3.347002648410502,3.2792729246813663,3.0939369270299744,2.705508761664164,2.006247174497414,0.8628738522261992,-0.8867082765926049,-3.436696740464386,-7.0166712238794045],[73.27915710286737,60.10338501956867,49.269778349484746,40.40782952230648,33.19322776150531,27.3445773854106,22.620116108287007,18.814433341411895,15.755188494152632,13.29982927504405,11.332309992865758,9.759809857719526,8.509451282106673,7.525018182005431,6.76367427794832,6.192681396099511,5.786117769332219,5.521596338306057,5.376983052544413,5.327115171511835,5.340519565691391,5.3761310176620425,5.380010523176027,5.282063592236224,4.992758550173521,4.399844838724207,3.3650713171073177,1.7209045631020423,-0.7327528258749378,-4.23184393169206],[81.55219265344759,67.86293663907519,56.52034411539818,47.15928974884653,39.46038147633058,33.14667880631828,27.980411119912677,23.75969597192925,20.315257391973255,17.507144185517145,15.221448234977931,13.367022800794512,11.872200822505114,10.681513219824614,9.75240719372193,9.051964527497406,8.553619887860158,8.233879126005458,8.069037578692129,8.031898369319885,8.088490709006724,8.194788197666288,8.293427125085252,8.310424772000683,8.15189771117742,7.70078010848544,6.813542023977237,5.31690771296521,3.004573927098992,-0.36607178455713285],[91.8930365261229,77.54379959281101,65.55708407112513,55.57284089254527,47.276290735731514,40.394642327601275,34.69381074440691,29.975135712812907,26.07209991097327,22.847047269609003,20.187901273085387,18.004883260489354,16.22723072670691,14.799915623500478,13.68036266058628,12.835167606711689,12.236815590732636,11.860399402690955,11.680337794891772,11.667093782980869,11.78389294702206,11.983441732574565,12.204645751770386,12.369328084391668,12.378947578948086,12.111317153754209,11.417322098006872,10.117638372862562,7.999450912514789,4.813171925271416],[104.51439045341631,89.35262766980557,76.58113318169845,65.84462821393583,56.83264021523846,49.27622115928419,42.94466584578547,37.64223020156672,33.204849581641625,29.49685707029058,26.407701782138037,23.84866716322986,21.749589292110727,20.055575180901503,18.723721076376588,17.71983076104129,17.015133854209246,16.583004113079735,16.39567773381508,16.420971652618025,16.619001846809095,16.93890163590397,17.31553998269087,17.66623979430791,17.887496223320497,17.851694968798682,17.403830577394523,16.35822474441952,14.495244614921889,11.558021084764029]],\"type\":\"surface\"}],                        {\"margin\":{\"b\":10,\"l\":10,\"r\":20,\"t\":10},\"scene\":{\"xaxis\":{\"nticks\":4,\"range\":[-4,4]},\"yaxis\":{\"nticks\":4,\"range\":[-4,4]},\"zaxis\":{\"nticks\":4,\"range\":[-2.6747830615387516,73.4488180758088]}},\"template\":{\"data\":{\"barpolar\":[{\"marker\":{\"line\":{\"color\":\"#E5ECF6\",\"width\":0.5},\"pattern\":{\"fillmode\":\"overlay\",\"size\":10,\"solidity\":0.2}},\"type\":\"barpolar\"}],\"bar\":[{\"error_x\":{\"color\":\"#2a3f5f\"},\"error_y\":{\"color\":\"#2a3f5f\"},\"marker\":{\"line\":{\"color\":\"#E5ECF6\",\"width\":0.5},\"pattern\":{\"fillmode\":\"overlay\",\"size\":10,\"solidity\":0.2}},\"type\":\"bar\"}],\"carpet\":[{\"aaxis\":{\"endlinecolor\":\"#2a3f5f\",\"gridcolor\":\"white\",\"linecolor\":\"white\",\"minorgridcolor\":\"white\",\"startlinecolor\":\"#2a3f5f\"},\"baxis\":{\"endlinecolor\":\"#2a3f5f\",\"gridcolor\":\"white\",\"linecolor\":\"white\",\"minorgridcolor\":\"white\",\"startlinecolor\":\"#2a3f5f\"},\"type\":\"carpet\"}],\"choropleth\":[{\"colorbar\":{\"outlinewidth\":0,\"ticks\":\"\"},\"type\":\"choropleth\"}],\"contourcarpet\":[{\"colorbar\":{\"outlinewidth\":0,\"ticks\":\"\"},\"type\":\"contourcarpet\"}],\"contour\":[{\"colorbar\":{\"outlinewidth\":0,\"ticks\":\"\"},\"colorscale\":[[0.0,\"#0d0887\"],[0.1111111111111111,\"#46039f\"],[0.2222222222222222,\"#7201a8\"],[0.3333333333333333,\"#9c179e\"],[0.4444444444444444,\"#bd3786\"],[0.5555555555555556,\"#d8576b\"],[0.6666666666666666,\"#ed7953\"],[0.7777777777777778,\"#fb9f3a\"],[0.8888888888888888,\"#fdca26\"],[1.0,\"#f0f921\"]],\"type\":\"contour\"}],\"heatmapgl\":[{\"colorbar\":{\"outlinewidth\":0,\"ticks\":\"\"},\"colorscale\":[[0.0,\"#0d0887\"],[0.1111111111111111,\"#46039f\"],[0.2222222222222222,\"#7201a8\"],[0.3333333333333333,\"#9c179e\"],[0.4444444444444444,\"#bd3786\"],[0.5555555555555556,\"#d8576b\"],[0.6666666666666666,\"#ed7953\"],[0.7777777777777778,\"#fb9f3a\"],[0.8888888888888888,\"#fdca26\"],[1.0,\"#f0f921\"]],\"type\":\"heatmapgl\"}],\"heatmap\":[{\"colorbar\":{\"outlinewidth\":0,\"ticks\":\"\"},\"colorscale\":[[0.0,\"#0d0887\"],[0.1111111111111111,\"#46039f\"],[0.2222222222222222,\"#7201a8\"],[0.3333333333333333,\"#9c179e\"],[0.4444444444444444,\"#bd3786\"],[0.5555555555555556,\"#d8576b\"],[0.6666666666666666,\"#ed7953\"],[0.7777777777777778,\"#fb9f3a\"],[0.8888888888888888,\"#fdca26\"],[1.0,\"#f0f921\"]],\"type\":\"heatmap\"}],\"histogram2dcontour\":[{\"colorbar\":{\"outlinewidth\":0,\"ticks\":\"\"},\"colorscale\":[[0.0,\"#0d0887\"],[0.1111111111111111,\"#46039f\"],[0.2222222222222222,\"#7201a8\"],[0.3333333333333333,\"#9c179e\"],[0.4444444444444444,\"#bd3786\"],[0.5555555555555556,\"#d8576b\"],[0.6666666666666666,\"#ed7953\"],[0.7777777777777778,\"#fb9f3a\"],[0.8888888888888888,\"#fdca26\"],[1.0,\"#f0f921\"]],\"type\":\"histogram2dcontour\"}],\"histogram2d\":[{\"colorbar\":{\"outlinewidth\":0,\"ticks\":\"\"},\"colorscale\":[[0.0,\"#0d0887\"],[0.1111111111111111,\"#46039f\"],[0.2222222222222222,\"#7201a8\"],[0.3333333333333333,\"#9c179e\"],[0.4444444444444444,\"#bd3786\"],[0.5555555555555556,\"#d8576b\"],[0.6666666666666666,\"#ed7953\"],[0.7777777777777778,\"#fb9f3a\"],[0.8888888888888888,\"#fdca26\"],[1.0,\"#f0f921\"]],\"type\":\"histogram2d\"}],\"histogram\":[{\"marker\":{\"pattern\":{\"fillmode\":\"overlay\",\"size\":10,\"solidity\":0.2}},\"type\":\"histogram\"}],\"mesh3d\":[{\"colorbar\":{\"outlinewidth\":0,\"ticks\":\"\"},\"type\":\"mesh3d\"}],\"parcoords\":[{\"line\":{\"colorbar\":{\"outlinewidth\":0,\"ticks\":\"\"}},\"type\":\"parcoords\"}],\"pie\":[{\"automargin\":true,\"type\":\"pie\"}],\"scatter3d\":[{\"line\":{\"colorbar\":{\"outlinewidth\":0,\"ticks\":\"\"}},\"marker\":{\"colorbar\":{\"outlinewidth\":0,\"ticks\":\"\"}},\"type\":\"scatter3d\"}],\"scattercarpet\":[{\"marker\":{\"colorbar\":{\"outlinewidth\":0,\"ticks\":\"\"}},\"type\":\"scattercarpet\"}],\"scattergeo\":[{\"marker\":{\"colorbar\":{\"outlinewidth\":0,\"ticks\":\"\"}},\"type\":\"scattergeo\"}],\"scattergl\":[{\"marker\":{\"colorbar\":{\"outlinewidth\":0,\"ticks\":\"\"}},\"type\":\"scattergl\"}],\"scattermapbox\":[{\"marker\":{\"colorbar\":{\"outlinewidth\":0,\"ticks\":\"\"}},\"type\":\"scattermapbox\"}],\"scatterpolargl\":[{\"marker\":{\"colorbar\":{\"outlinewidth\":0,\"ticks\":\"\"}},\"type\":\"scatterpolargl\"}],\"scatterpolar\":[{\"marker\":{\"colorbar\":{\"outlinewidth\":0,\"ticks\":\"\"}},\"type\":\"scatterpolar\"}],\"scatter\":[{\"marker\":{\"colorbar\":{\"outlinewidth\":0,\"ticks\":\"\"}},\"type\":\"scatter\"}],\"scatterternary\":[{\"marker\":{\"colorbar\":{\"outlinewidth\":0,\"ticks\":\"\"}},\"type\":\"scatterternary\"}],\"surface\":[{\"colorbar\":{\"outlinewidth\":0,\"ticks\":\"\"},\"colorscale\":[[0.0,\"#0d0887\"],[0.1111111111111111,\"#46039f\"],[0.2222222222222222,\"#7201a8\"],[0.3333333333333333,\"#9c179e\"],[0.4444444444444444,\"#bd3786\"],[0.5555555555555556,\"#d8576b\"],[0.6666666666666666,\"#ed7953\"],[0.7777777777777778,\"#fb9f3a\"],[0.8888888888888888,\"#fdca26\"],[1.0,\"#f0f921\"]],\"type\":\"surface\"}],\"table\":[{\"cells\":{\"fill\":{\"color\":\"#EBF0F8\"},\"line\":{\"color\":\"white\"}},\"header\":{\"fill\":{\"color\":\"#C8D4E3\"},\"line\":{\"color\":\"white\"}},\"type\":\"table\"}]},\"layout\":{\"annotationdefaults\":{\"arrowcolor\":\"#2a3f5f\",\"arrowhead\":0,\"arrowwidth\":1},\"autotypenumbers\":\"strict\",\"coloraxis\":{\"colorbar\":{\"outlinewidth\":0,\"ticks\":\"\"}},\"colorscale\":{\"diverging\":[[0,\"#8e0152\"],[0.1,\"#c51b7d\"],[0.2,\"#de77ae\"],[0.3,\"#f1b6da\"],[0.4,\"#fde0ef\"],[0.5,\"#f7f7f7\"],[0.6,\"#e6f5d0\"],[0.7,\"#b8e186\"],[0.8,\"#7fbc41\"],[0.9,\"#4d9221\"],[1,\"#276419\"]],\"sequential\":[[0.0,\"#0d0887\"],[0.1111111111111111,\"#46039f\"],[0.2222222222222222,\"#7201a8\"],[0.3333333333333333,\"#9c179e\"],[0.4444444444444444,\"#bd3786\"],[0.5555555555555556,\"#d8576b\"],[0.6666666666666666,\"#ed7953\"],[0.7777777777777778,\"#fb9f3a\"],[0.8888888888888888,\"#fdca26\"],[1.0,\"#f0f921\"]],\"sequentialminus\":[[0.0,\"#0d0887\"],[0.1111111111111111,\"#46039f\"],[0.2222222222222222,\"#7201a8\"],[0.3333333333333333,\"#9c179e\"],[0.4444444444444444,\"#bd3786\"],[0.5555555555555556,\"#d8576b\"],[0.6666666666666666,\"#ed7953\"],[0.7777777777777778,\"#fb9f3a\"],[0.8888888888888888,\"#fdca26\"],[1.0,\"#f0f921\"]]},\"colorway\":[\"#636efa\",\"#EF553B\",\"#00cc96\",\"#ab63fa\",\"#FFA15A\",\"#19d3f3\",\"#FF6692\",\"#B6E880\",\"#FF97FF\",\"#FECB52\"],\"font\":{\"color\":\"#2a3f5f\"},\"geo\":{\"bgcolor\":\"white\",\"lakecolor\":\"white\",\"landcolor\":\"#E5ECF6\",\"showlakes\":true,\"showland\":true,\"subunitcolor\":\"white\"},\"hoverlabel\":{\"align\":\"left\"},\"hovermode\":\"closest\",\"mapbox\":{\"style\":\"light\"},\"paper_bgcolor\":\"white\",\"plot_bgcolor\":\"#E5ECF6\",\"polar\":{\"angularaxis\":{\"gridcolor\":\"white\",\"linecolor\":\"white\",\"ticks\":\"\"},\"bgcolor\":\"#E5ECF6\",\"radialaxis\":{\"gridcolor\":\"white\",\"linecolor\":\"white\",\"ticks\":\"\"}},\"scene\":{\"xaxis\":{\"backgroundcolor\":\"#E5ECF6\",\"gridcolor\":\"white\",\"gridwidth\":2,\"linecolor\":\"white\",\"showbackground\":true,\"ticks\":\"\",\"zerolinecolor\":\"white\"},\"yaxis\":{\"backgroundcolor\":\"#E5ECF6\",\"gridcolor\":\"white\",\"gridwidth\":2,\"linecolor\":\"white\",\"showbackground\":true,\"ticks\":\"\",\"zerolinecolor\":\"white\"},\"zaxis\":{\"backgroundcolor\":\"#E5ECF6\",\"gridcolor\":\"white\",\"gridwidth\":2,\"linecolor\":\"white\",\"showbackground\":true,\"ticks\":\"\",\"zerolinecolor\":\"white\"}},\"shapedefaults\":{\"line\":{\"color\":\"#2a3f5f\"}},\"ternary\":{\"aaxis\":{\"gridcolor\":\"white\",\"linecolor\":\"white\",\"ticks\":\"\"},\"baxis\":{\"gridcolor\":\"white\",\"linecolor\":\"white\",\"ticks\":\"\"},\"bgcolor\":\"#E5ECF6\",\"caxis\":{\"gridcolor\":\"white\",\"linecolor\":\"white\",\"ticks\":\"\"}},\"title\":{\"x\":0.05},\"xaxis\":{\"automargin\":true,\"gridcolor\":\"white\",\"linecolor\":\"white\",\"ticks\":\"\",\"title\":{\"standoff\":15},\"zerolinecolor\":\"white\",\"zerolinewidth\":2},\"yaxis\":{\"automargin\":true,\"gridcolor\":\"white\",\"linecolor\":\"white\",\"ticks\":\"\",\"title\":{\"standoff\":15},\"zerolinecolor\":\"white\",\"zerolinewidth\":2}}},\"width\":700},                        {\"responsive\": true}                    ).then(function(){\n",
       "                            \n",
       "var gd = document.getElementById('62710510-8083-4bdf-8d29-0888189496fd');\n",
       "var x = new MutationObserver(function (mutations, observer) {{\n",
       "        var display = window.getComputedStyle(gd).display;\n",
       "        if (!display || display === 'none') {{\n",
       "            console.log([gd, 'removed!']);\n",
       "            Plotly.purge(gd);\n",
       "            observer.disconnect();\n",
       "        }}\n",
       "}});\n",
       "\n",
       "// Listen for the removal of the full notebook cells\n",
       "var notebookContainer = gd.closest('#notebook-container');\n",
       "if (notebookContainer) {{\n",
       "    x.observe(notebookContainer, {childList: true});\n",
       "}}\n",
       "\n",
       "// Listen for the clearing of the current output cell\n",
       "var outputEl = gd.closest('.output');\n",
       "if (outputEl) {{\n",
       "    x.observe(outputEl, {childList: true});\n",
       "}}\n",
       "\n",
       "                        })                };                });            </script>        </div>"
      ]
     },
     "metadata": {},
     "output_type": "display_data"
    }
   ],
   "source": [
    "# See how well your result fits the test set (no input needed)\n",
    "zz_test = [r[0] for r in y_test]\n",
    "trace = go.Scatter3d(x=Xhat_test[:,1], y=Xhat_test[:,2], z=zz_test, mode='markers',marker=dict(size=5))\n",
    "xs,ys = Xhat_test[:,1],Xhat_test[:,2]\n",
    "xxx = np.outer(np.linspace(min(xs), max(xs), 30), np.ones(30))\n",
    "yyy = np.outer(np.linspace(min(ys), max(ys), 30), np.ones(30)).T\n",
    "zzz = 0\n",
    "mons = generate_monomials_leq(X.shape[1],degree)\n",
    "i=0\n",
    "for mon in mons:\n",
    "    zzz +=  v[i]*xxx**(mon[0])*yyy**(mon[1])\n",
    "    i+=1\n",
    "# Configure the layout.\n",
    "layout = go.Layout(margin={'l': 0, 'r': 0, 'b': 0, 't': 0})\n",
    "data = [trace,go.Surface(x=xxx, y=yyy, z=zzz, showscale=False, opacity=0.5)]\n",
    "# Render the plot.\n",
    "plot_figure = go.Figure(data=data, layout=layout)\n",
    "plot_figure.update_layout(\n",
    "    scene = dict(\n",
    "        xaxis = dict(nticks=4, range=[-4,4],),\n",
    "                     yaxis = dict(nticks=4, range=[-4,4],),\n",
    "                     zaxis = dict(nticks=4, range=[min(zz_test),max(zz_test)],),),\n",
    "    width=700,\n",
    "    margin=dict(r=20, l=10, b=10, t=10))\n",
    "plotly.offline.iplot(plot_figure)"
   ]
  },
  {
   "cell_type": "markdown",
   "id": "10c9d770",
   "metadata": {},
   "source": [
    "## Explain the result here\n",
    "\n",
    "Replace this text with your explanation..."
   ]
  },
  {
   "cell_type": "markdown",
   "id": "85ed9999",
   "metadata": {},
   "source": [
    "## Problem 3\n",
    "\n",
    "In this problem our goal is to implement the Gaussian Naive Bayes Classification algorithm. We test it on handwritten digits. Recall, in naive Bayes, our goal is to find a maximum likelihood estimator for the following approximate conditional probability distribution:\n",
    "\n",
    "$p(y=j|\\vec{x}) = p(y=j)\\prod_{i=1}^n p(x_i|y=j)$\n",
    "\n",
    "Model $p(y)$ as a categorical distribution and $p(x_i|y=j)$ as a Gaussian as described in the lecture. Careful though, if the variance is computed to be 0, you can not use the Gaussian formula (you decide how to handle this). \n",
    "\n",
    "You are given a supervised learning dataset `X,y` where `X` is a 2-dimensional numpy array and `y` is a 1-dimensional numpy array. You will complete functions `p(j,X,y)` which models the distribution $p(y=j)$, a function `p_cond(x,i,j,X,y)` which models $p(x_i|y=j)$, and a function `bayes_prediction(x,X,y)` which returns the corresponding class prediction. The inputs are\n",
    "\n",
    "- `x` an example which we can run prediction on (like a row of `X`)\n",
    "- `i` a feature index (so `i` ranges from `0` to `X.shape[1]`)\n",
    "- `j` a target label (so `j` takes any possible value one sees in the dataset `y`)\n",
    "- `X` a matrix of examples\n",
    "- `y` a vector of labels"
   ]
  },
  {
   "cell_type": "code",
   "execution_count": 23,
   "id": "c51c88fe",
   "metadata": {},
   "outputs": [],
   "source": [
    "# to complete problem 3, fill in the following with your code\n",
    "def p(j,X,y): \n",
    "    ######################### your code goes here ########################\n",
    "    return len([k for k in range(len(y)) if y[k]==j])/len(y)\n",
    "\n",
    "def p_cond(x,i,j,X,y):\n",
    "    ######################### your code goes here ########################\n",
    "    filter_j = [k for k in range(len(y)) if y[k]==j]\n",
    "    mi = len(filter_j)\n",
    "    mean_i = sum([X[k][i] for k in filter_j])/mi\n",
    "    var_i = sum([(X[k][i] - mean_i)**2 for k in filter_j])/mi\n",
    "    if var_i == 0 and x==mean_i:\n",
    "        return 1\n",
    "    elif var_i == 0 and not (x==mean_i):\n",
    "        return 0\n",
    "    return 1/np.sqrt(2*np.pi*var_i)*np.exp(-(x-mean_i)**2/(2*var_i))\n",
    "    \n",
    "def bayes_prediction(x,X,y):\n",
    "    ######################### your code goes here ########################\n",
    "    predictions = []\n",
    "    for j in range(max(y)+1):\n",
    "        prob = p(j,X,y)\n",
    "        for i in range(len(X[0])):\n",
    "            prob *= p_cond(x[i],i,j,X,y)\n",
    "        predictions.append(prob)\n",
    "    return np.argmax(predictions)"
   ]
  },
  {
   "cell_type": "markdown",
   "id": "a7999dee",
   "metadata": {},
   "source": [
    "## Test your model on the handwritten digit recognition problem"
   ]
  },
  {
   "cell_type": "code",
   "execution_count": 24,
   "id": "3e5a8e1e",
   "metadata": {},
   "outputs": [
    {
     "data": {
      "image/png": "[encoded data removed]",
      "text/plain": [
       "<Figure size 1440x720 with 10 Axes>"
      ]
     },
     "metadata": {
      "needs_background": "light"
     },
     "output_type": "display_data"
    }
   ],
   "source": [
    "# no input needed\n",
    "# run this cell to load images of digits \n",
    "# showing some examples of typical images in the dataset\n",
    "from sklearn import datasets\n",
    "digits = datasets.load_digits()\n",
    "X,y = digits.data, digits.target\n",
    "fig, axes = plt.subplots(nrows=1, ncols=10, figsize=(20, 10))\n",
    "for ax, image, label in zip(axes, digits.images, digits.target):\n",
    "    ax.set_axis_off()\n",
    "    ax.imshow(image, cmap=plt.cm.gray_r, interpolation=\"nearest\")\n",
    "    ax.set_title(\"Label: %i\" % label)"
   ]
  },
  {
   "cell_type": "code",
   "execution_count": 25,
   "id": "a682b010",
   "metadata": {},
   "outputs": [
    {
     "name": "stdout",
     "output_type": "stream",
     "text": [
      "predicting: 0, true value: 0\n",
      "predicting: 1, true value: 1\n",
      "predicting: 8, true value: 2\n",
      "predicting: 3, true value: 3\n",
      "predicting: 4, true value: 4\n",
      "predicting: 9, true value: 5\n",
      "predicting: 6, true value: 6\n",
      "predicting: 7, true value: 7\n",
      "predicting: 8, true value: 8\n",
      "predicting: 9, true value: 9\n",
      "predicting: 0, true value: 0\n",
      "predicting: 1, true value: 1\n",
      "predicting: 2, true value: 2\n",
      "predicting: 3, true value: 3\n",
      "predicting: 4, true value: 4\n",
      "predicting: 5, true value: 5\n",
      "predicting: 6, true value: 6\n",
      "predicting: 7, true value: 7\n",
      "predicting: 8, true value: 8\n",
      "predicting: 3, true value: 9\n"
     ]
    }
   ],
   "source": [
    "# (no input needed)\n",
    "# using the bayes_prediction function to predict the digits\n",
    "# you should get most correct\n",
    "for i in range(20):\n",
    "    pred = bayes_prediction(X[i,:],X,y)\n",
    "    target = y[i]\n",
    "    print(f'predicting: {pred}, true value: {target}')"
   ]
  },
  {
   "cell_type": "code",
   "execution_count": 34,
   "id": "c605918e",
   "metadata": {},
   "outputs": [
    {
     "data": {
      "text/plain": [
       "0.9154145798552902"
      ]
     },
     "execution_count": 34,
     "metadata": {},
     "output_type": "execute_result"
    }
   ],
   "source": [
    "# training set accuracy\n",
    "# (no input needed)\n",
    "test = len(X)\n",
    "acc_train = 0\n",
    "for i in range(test):\n",
    "    pred = bayes_prediction(X[i,:],X,y)\n",
    "    target = y[i]\n",
    "    if pred==target:\n",
    "        acc_train+=1/test\n",
    "acc_train"
   ]
  },
  {
   "cell_type": "markdown",
   "id": "5fc8cc4c",
   "metadata": {},
   "source": [
    "## Step 4: Check your own handwritten digits\n",
    "\n",
    "Get a piece of paper and a pen. Write down four digits of your choice, preferably legibly. Take pictures of each digit, and crop them to nearly square and tightly centered windows around the digit. Move the image files (preferably as `.jpg` files) to the same folder on your computer which contains this notebook. Save them as `a.jpg`, `b.jpg`, `c.jpg`, `d.jpg`. Use the following to check how the model classifies them. Make sure to change `r` to the optimal value found in the previous step."
   ]
  },
  {
   "cell_type": "code",
   "execution_count": 23,
   "id": "e3a9e894",
   "metadata": {},
   "outputs": [
    {
     "data": {
      "image/png": "[encoded data removed]",
      "text/plain": [
       "<Figure size 1080x720 with 4 Axes>"
      ]
     },
     "metadata": {
      "needs_background": "light"
     },
     "output_type": "display_data"
    }
   ],
   "source": [
    "# before running, make sure you have files a.jpg, b.jpg, c.jpg, d.jpg in the folder containing this notebook\n",
    "# check: you should see the converted images of your files plotted below\n",
    "from PIL import Image, ImageEnhance # importing some packages to handle images\n",
    "from matplotlib import image\n",
    "digit_images, digit_arrays = {}, {}\n",
    "for i in ['a','b','c','d']: #for each i this converts the image to an 8 by 8 matrix with values from 0 to 16\n",
    "    digit_image = Image.open(f\"{i}.jpg\") # opening your image\n",
    "    digit_image = digit_image.resize((8,8)) # resize to 8 by 8 pixels\n",
    "    digit_image = ImageEnhance.Contrast(digit_image).enhance(10).convert('LA') # preprocess (contrast & grayscale)\n",
    "    digit_images[i] = digit_image\n",
    "    digit_arr = np.asarray(digit_images[i])[:,:,0] # create as 3-tensor but only need 0 slice matrix\n",
    "    digit_arr = (255 - digit_arr) # had opposite grayscale convention, need to correct it\n",
    "    digit_arr = digit_arr/255*16 # had entries up to 255 but we only want it up to 16 \n",
    "    digit_arr = np.rint(digit_arr-3) # rounding to integer values\n",
    "    digit_arr = digit_arr.clip(min = 0) # attempting to get rid of background darkness\n",
    "    digit_arrays[i] = digit_arr\n",
    "_, axes = plt.subplots(nrows=1, ncols=4, figsize=(15, 10))\n",
    "for ax, image, label in zip(axes, digit_images.values(), digit_images.keys()):\n",
    "    ax.set_axis_off()\n",
    "    ax.imshow(image, cmap=plt.cm.gray_r, interpolation=\"nearest\")\n",
    "    ax.set_title(f\"{label}.jpg\")"
   ]
  },
  {
   "cell_type": "code",
   "execution_count": 24,
   "id": "a6ff9bf5",
   "metadata": {},
   "outputs": [
    {
     "name": "stdout",
     "output_type": "stream",
     "text": [
      "predicted digit for a.jpg with Naive Bayes: 0\n",
      "predicted digit for b.jpg with Naive Bayes: 2\n",
      "predicted digit for c.jpg with Naive Bayes: 3\n",
      "predicted digit for d.jpg with Naive Bayes: 0\n"
     ]
    }
   ],
   "source": [
    "# check: seeing if your model reads the digits correctly\n",
    "for i in ['a','b','c','d']:\n",
    "    x = np.reshape(digit_arrays[i],64)\n",
    "    prediction = bayes_prediction(x,X,y)\n",
    "    print(f'predicted digit for {i}.jpg with Naive Bayes: {prediction}')"
   ]
  },
  {
   "cell_type": "code",
   "execution_count": null,
   "id": "7622fb24",
   "metadata": {},
   "outputs": [],
   "source": [
    "# Accuracy\n"
   ]
  }
 ],
 "metadata": {
  "kernelspec": {
   "display_name": "Python 3 (ipykernel)",
   "language": "python",
   "name": "python3"
  },
  "language_info": {
   "codemirror_mode": {
    "name": "ipython",
    "version": 3
   },
   "file_extension": ".py",
   "mimetype": "text/x-python",
   "name": "python",
   "nbconvert_exporter": "python",
   "pygments_lexer": "ipython3",
   "version": "3.9.10"
  }
 },
 "nbformat": 4,
 "nbformat_minor": 5
}

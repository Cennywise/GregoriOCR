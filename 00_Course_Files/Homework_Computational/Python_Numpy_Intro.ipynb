{
 "cells": [
  {
   "cell_type": "markdown",
   "id": "ce1e2d2c",
   "metadata": {},
   "source": [
    "# <center> Python/Numpy Introduction</center>\n",
    "\n",
    "Note: you can learn much more than is offered in this gentle introduction by clicking the `help` tab above and reading through the documentation for Python and Numpy.\n",
    "\n",
    "In this notebook, we will explore basic operations in python and then introduce matrices as arrays using the library numpy. Run the code cell by cell by clicking in the interior of the cell and pressing `shift`+`return`. "
   ]
  },
  {
   "cell_type": "markdown",
   "id": "77786b95",
   "metadata": {},
   "source": [
    "# Numbers, Functions, Strings, Lists"
   ]
  },
  {
   "cell_type": "markdown",
   "id": "045354ec",
   "metadata": {},
   "source": [
    "The equal sign in python acts as variable assignment, so for example the following code block assigns the value `5` to the variable `n`"
   ]
  },
  {
   "cell_type": "code",
   "execution_count": 9,
   "id": "28ec506c",
   "metadata": {},
   "outputs": [],
   "source": [
    "n = 5"
   ]
  },
  {
   "cell_type": "markdown",
   "id": "362cd589",
   "metadata": {},
   "source": [
    "Calling the variable `n` will print its value"
   ]
  },
  {
   "cell_type": "code",
   "execution_count": 10,
   "id": "600e3278",
   "metadata": {},
   "outputs": [
    {
     "data": {
      "text/plain": [
       "5"
      ]
     },
     "execution_count": 10,
     "metadata": {},
     "output_type": "execute_result"
    }
   ],
   "source": [
    "n"
   ]
  },
  {
   "cell_type": "markdown",
   "id": "c44289b7",
   "metadata": {},
   "source": [
    "We can reassign the current value plus one by calling the following"
   ]
  },
  {
   "cell_type": "code",
   "execution_count": 11,
   "id": "42745f1b",
   "metadata": {},
   "outputs": [
    {
     "data": {
      "text/plain": [
       "6"
      ]
     },
     "execution_count": 11,
     "metadata": {},
     "output_type": "execute_result"
    }
   ],
   "source": [
    "n = n + 1\n",
    "n"
   ]
  },
  {
   "cell_type": "markdown",
   "id": "821b68a5",
   "metadata": {},
   "source": [
    "Alternatively we can use the shorthand `n += 1` to increment the value of `n` by `1` so after calling this cell the value should be `7`."
   ]
  },
  {
   "cell_type": "code",
   "execution_count": 12,
   "id": "a82d9d8a",
   "metadata": {},
   "outputs": [
    {
     "data": {
      "text/plain": [
       "7"
      ]
     },
     "execution_count": 12,
     "metadata": {},
     "output_type": "execute_result"
    }
   ],
   "source": [
    "n+=1\n",
    "n"
   ]
  },
  {
   "cell_type": "markdown",
   "id": "f678b86e",
   "metadata": {},
   "source": [
    "To check if two values are equal, one can use the `==` command:"
   ]
  },
  {
   "cell_type": "code",
   "execution_count": 29,
   "id": "09a2cc7a",
   "metadata": {},
   "outputs": [
    {
     "data": {
      "text/plain": [
       "True"
      ]
     },
     "execution_count": 29,
     "metadata": {},
     "output_type": "execute_result"
    }
   ],
   "source": [
    "n==7"
   ]
  },
  {
   "cell_type": "code",
   "execution_count": 30,
   "id": "ac65af9d",
   "metadata": {},
   "outputs": [
    {
     "data": {
      "text/plain": [
       "False"
      ]
     },
     "execution_count": 30,
     "metadata": {},
     "output_type": "execute_result"
    }
   ],
   "source": [
    "n==8"
   ]
  },
  {
   "cell_type": "markdown",
   "id": "756c3ae1",
   "metadata": {},
   "source": [
    "Define a function in Python using the `def` keyword as follows. We will add one to the input and square it. Note that in Python, exponentiation is done using `**`. If an output is desired, it should be written after the keyword `return`."
   ]
  },
  {
   "cell_type": "code",
   "execution_count": 16,
   "id": "8a040ea5",
   "metadata": {},
   "outputs": [],
   "source": [
    "def function_name(input_name):\n",
    "    result = (input_name + 1)**2\n",
    "    return result"
   ]
  },
  {
   "cell_type": "markdown",
   "id": "183704ab",
   "metadata": {},
   "source": [
    "Let us now call our function on the input `7`, so we expect an output of $(7+1)^2 = 8 ^2 = 64$"
   ]
  },
  {
   "cell_type": "code",
   "execution_count": 17,
   "id": "c228c4ca",
   "metadata": {},
   "outputs": [
    {
     "data": {
      "text/plain": [
       "64"
      ]
     },
     "execution_count": 17,
     "metadata": {},
     "output_type": "execute_result"
    }
   ],
   "source": [
    "function_name(7)"
   ]
  },
  {
   "cell_type": "markdown",
   "id": "ffd9927e",
   "metadata": {},
   "source": [
    "Python `strings` are created by using either single quotes or double quotes (these are treated identically)"
   ]
  },
  {
   "cell_type": "code",
   "execution_count": 18,
   "id": "88f74f58",
   "metadata": {},
   "outputs": [],
   "source": [
    "string1 = 'this is a string'\n",
    "string2 = \"let's use double quotes so we can use apostrophes in our strings\""
   ]
  },
  {
   "cell_type": "markdown",
   "id": "7d5f02b8",
   "metadata": {},
   "source": [
    "Strings can be printed using the print function"
   ]
  },
  {
   "cell_type": "code",
   "execution_count": 19,
   "id": "0454c78a",
   "metadata": {},
   "outputs": [
    {
     "name": "stdout",
     "output_type": "stream",
     "text": [
      "this is a string\n",
      "let's use double quotes so we can use apostrophes in our strings\n"
     ]
    }
   ],
   "source": [
    "print(string1)\n",
    "print(string2)"
   ]
  },
  {
   "cell_type": "markdown",
   "id": "f63f2216",
   "metadata": {},
   "source": [
    "We can use `f-strings` to embed variables in strings as follows:"
   ]
  },
  {
   "cell_type": "code",
   "execution_count": 23,
   "id": "964a4c8f",
   "metadata": {},
   "outputs": [
    {
     "name": "stdout",
     "output_type": "stream",
     "text": [
      "the number is 18\n"
     ]
    }
   ],
   "source": [
    "number = 18\n",
    "print(f\"the number is {number}\")"
   ]
  },
  {
   "cell_type": "code",
   "execution_count": 24,
   "id": "6074b467",
   "metadata": {},
   "outputs": [
    {
     "name": "stdout",
     "output_type": "stream",
     "text": [
      "the number is 19\n"
     ]
    }
   ],
   "source": [
    "number += 1\n",
    "print(f\"the number is {number}\")"
   ]
  },
  {
   "cell_type": "markdown",
   "id": "aeae28a6",
   "metadata": {},
   "source": [
    "Python `lists` can be created by entering Python objects separated by commas between square brackets"
   ]
  },
  {
   "cell_type": "code",
   "execution_count": 25,
   "id": "98a6c46a",
   "metadata": {},
   "outputs": [],
   "source": [
    "list1 = [1,2,3,4,5]"
   ]
  },
  {
   "cell_type": "markdown",
   "id": "b59d0179",
   "metadata": {},
   "source": [
    "Python lists are 0-indexed so on can access the first element by calling:"
   ]
  },
  {
   "cell_type": "code",
   "execution_count": 26,
   "id": "60fab381",
   "metadata": {},
   "outputs": [
    {
     "data": {
      "text/plain": [
       "1"
      ]
     },
     "execution_count": 26,
     "metadata": {},
     "output_type": "execute_result"
    }
   ],
   "source": [
    "list1[0]"
   ]
  },
  {
   "cell_type": "code",
   "execution_count": 27,
   "id": "1321a508",
   "metadata": {},
   "outputs": [
    {
     "data": {
      "text/plain": [
       "2"
      ]
     },
     "execution_count": 27,
     "metadata": {},
     "output_type": "execute_result"
    }
   ],
   "source": [
    "list1[1]"
   ]
  },
  {
   "cell_type": "markdown",
   "id": "baa4734c",
   "metadata": {},
   "source": [
    "The last element can be called using the argument `-1`"
   ]
  },
  {
   "cell_type": "code",
   "execution_count": 28,
   "id": "57bcb477",
   "metadata": {},
   "outputs": [
    {
     "data": {
      "text/plain": [
       "5"
      ]
     },
     "execution_count": 28,
     "metadata": {},
     "output_type": "execute_result"
    }
   ],
   "source": [
    "list1[-1]"
   ]
  },
  {
   "cell_type": "markdown",
   "id": "f00cd411",
   "metadata": {},
   "source": [
    "A common list we will use is created using the range function. `range(n)` returns the list with `n` elements `0,1,...,n-1`"
   ]
  },
  {
   "cell_type": "code",
   "execution_count": 33,
   "id": "cabd84cf",
   "metadata": {},
   "outputs": [],
   "source": [
    "l = range(5)"
   ]
  },
  {
   "cell_type": "code",
   "execution_count": 34,
   "id": "ebdbaeda",
   "metadata": {},
   "outputs": [
    {
     "data": {
      "text/plain": [
       "0"
      ]
     },
     "execution_count": 34,
     "metadata": {},
     "output_type": "execute_result"
    }
   ],
   "source": [
    "l[0]"
   ]
  },
  {
   "cell_type": "code",
   "execution_count": 35,
   "id": "e59f306e",
   "metadata": {},
   "outputs": [
    {
     "data": {
      "text/plain": [
       "4"
      ]
     },
     "execution_count": 35,
     "metadata": {},
     "output_type": "execute_result"
    }
   ],
   "source": [
    "l[-1]"
   ]
  },
  {
   "cell_type": "markdown",
   "id": "e95117b9",
   "metadata": {},
   "source": [
    "To iterate over the elements of a list, use a `for loop`:"
   ]
  },
  {
   "cell_type": "code",
   "execution_count": 36,
   "id": "00522926",
   "metadata": {},
   "outputs": [
    {
     "name": "stdout",
     "output_type": "stream",
     "text": [
      "0\n",
      "1\n",
      "2\n",
      "3\n",
      "4\n",
      "5\n",
      "6\n"
     ]
    }
   ],
   "source": [
    "for i in range(7):\n",
    "    print(i)"
   ]
  },
  {
   "cell_type": "markdown",
   "id": "59bfdc56",
   "metadata": {},
   "source": [
    "We can use `range(a,b)` to start the range at `a`"
   ]
  },
  {
   "cell_type": "code",
   "execution_count": 37,
   "id": "ea9ed4ac",
   "metadata": {},
   "outputs": [
    {
     "name": "stdout",
     "output_type": "stream",
     "text": [
      "3\n",
      "4\n",
      "5\n",
      "6\n",
      "7\n",
      "8\n",
      "9\n"
     ]
    }
   ],
   "source": [
    "for i in range(3,10):\n",
    "    print(i)"
   ]
  },
  {
   "cell_type": "markdown",
   "id": "775c1544",
   "metadata": {},
   "source": [
    "We can use `range(a,b,s)` to skip by units of `s`"
   ]
  },
  {
   "cell_type": "code",
   "execution_count": 38,
   "id": "30ed7122",
   "metadata": {},
   "outputs": [
    {
     "name": "stdout",
     "output_type": "stream",
     "text": [
      "3\n",
      "5\n",
      "7\n",
      "9\n"
     ]
    }
   ],
   "source": [
    "for i in range(3,10,2):\n",
    "    print(i)"
   ]
  },
  {
   "cell_type": "markdown",
   "id": "6f1e02e4",
   "metadata": {},
   "source": [
    "Recall the formula $$\\sum_{i=1}^n i = \\frac{n(n+1)}{2}$$\n",
    "Let's check that this holds true"
   ]
  },
  {
   "cell_type": "code",
   "execution_count": 47,
   "id": "b9d09eb2",
   "metadata": {},
   "outputs": [],
   "source": [
    "def left_side(n):\n",
    "    result = 0\n",
    "    for i in range(n+1): #using n+1 because the range ends at n\n",
    "        result += i\n",
    "    return result\n",
    "\n",
    "def right_side(n):\n",
    "    return n*(n+1)//2 #we can use / or // for division. / returns a float and // return an integer (we want an integer)"
   ]
  },
  {
   "cell_type": "code",
   "execution_count": 52,
   "id": "ed8f2f50",
   "metadata": {},
   "outputs": [
    {
     "data": {
      "text/plain": [
       "11476"
      ]
     },
     "execution_count": 52,
     "metadata": {},
     "output_type": "execute_result"
    }
   ],
   "source": [
    "left_side(151)"
   ]
  },
  {
   "cell_type": "code",
   "execution_count": 51,
   "id": "140f227a",
   "metadata": {},
   "outputs": [
    {
     "data": {
      "text/plain": [
       "11476"
      ]
     },
     "execution_count": 51,
     "metadata": {},
     "output_type": "execute_result"
    }
   ],
   "source": [
    "right_side(151)"
   ]
  },
  {
   "cell_type": "markdown",
   "id": "02d73f32",
   "metadata": {},
   "source": [
    "# Numpy Arrays"
   ]
  },
  {
   "cell_type": "markdown",
   "id": "2429ea88",
   "metadata": {},
   "source": [
    "We will often be using the numpy library (imported as np meaning we use np in our code blocks instead of numpy). The most important numpy object for us is the `array` object. We will mostly use arrays to represent vectors and matrices. These are 1 and 2 dimensional numpy arrays respectively. Recursively defined, an `n` dimensional numpy array is constructed as a list of `n-1` dimensional numpy arrays. Let us start with `n=1`, that is, with vectors."
   ]
  },
  {
   "cell_type": "code",
   "execution_count": 53,
   "id": "e10cddad",
   "metadata": {},
   "outputs": [],
   "source": [
    "# run this cell to import numpy as the shorthand np\n",
    "import numpy as np"
   ]
  },
  {
   "cell_type": "markdown",
   "id": "8f4f409e",
   "metadata": {},
   "source": [
    "To construct a 1 dimensional numpy array, simply call `np.array` on a list of numbers."
   ]
  },
  {
   "cell_type": "code",
   "execution_count": 60,
   "id": "04d06c8d",
   "metadata": {},
   "outputs": [],
   "source": [
    "v = np.array([1,2,3,4])\n",
    "w = np.array([1,0,1,3])"
   ]
  },
  {
   "cell_type": "code",
   "execution_count": 61,
   "id": "c9eba1bb",
   "metadata": {},
   "outputs": [
    {
     "data": {
      "text/plain": [
       "array([1, 2, 3, 4])"
      ]
     },
     "execution_count": 61,
     "metadata": {},
     "output_type": "execute_result"
    }
   ],
   "source": [
    "v"
   ]
  },
  {
   "cell_type": "code",
   "execution_count": 62,
   "id": "b603d40b",
   "metadata": {},
   "outputs": [
    {
     "data": {
      "text/plain": [
       "array([1, 0, 1, 3])"
      ]
     },
     "execution_count": 62,
     "metadata": {},
     "output_type": "execute_result"
    }
   ],
   "source": [
    "w"
   ]
  },
  {
   "cell_type": "markdown",
   "id": "7bdeb0f6",
   "metadata": {},
   "source": [
    "numpy arrays can be added componentwise as vectors using the `+` command and scalar multiplied using the `*` command:"
   ]
  },
  {
   "cell_type": "code",
   "execution_count": 63,
   "id": "0a2b0190",
   "metadata": {},
   "outputs": [
    {
     "data": {
      "text/plain": [
       "array([2, 2, 4, 7])"
      ]
     },
     "execution_count": 63,
     "metadata": {},
     "output_type": "execute_result"
    }
   ],
   "source": [
    "v+w"
   ]
  },
  {
   "cell_type": "code",
   "execution_count": 64,
   "id": "d2142cc8",
   "metadata": {},
   "outputs": [
    {
     "data": {
      "text/plain": [
       "array([2, 4, 6, 8])"
      ]
     },
     "execution_count": 64,
     "metadata": {},
     "output_type": "execute_result"
    }
   ],
   "source": [
    "2*v"
   ]
  },
  {
   "cell_type": "markdown",
   "id": "da26268f",
   "metadata": {},
   "source": [
    "Matrices are represented as 2-dimensional numpy arrays. By our previous definition, that means they should be constructed as lists of 1-dimensional numpy arrays. Each list in the list is treated as a row of the matrix."
   ]
  },
  {
   "cell_type": "code",
   "execution_count": 67,
   "id": "d9779bad",
   "metadata": {},
   "outputs": [
    {
     "data": {
      "text/plain": [
       "array([[1, 2, 3],\n",
       "       [2, 3, 4],\n",
       "       [4, 5, 6]])"
      ]
     },
     "execution_count": 67,
     "metadata": {},
     "output_type": "execute_result"
    }
   ],
   "source": [
    "A = np.array([[1,2,3],[2,3,4],[4,5,6]])\n",
    "A"
   ]
  },
  {
   "cell_type": "markdown",
   "id": "506e2823",
   "metadata": {},
   "source": [
    "Matrices of the same size can be added and scalar multiplied componentwise just like 1-dimensional arrays:"
   ]
  },
  {
   "cell_type": "code",
   "execution_count": 81,
   "id": "adb72198",
   "metadata": {},
   "outputs": [
    {
     "data": {
      "text/plain": [
       "array([[1, 0, 1],\n",
       "       [2, 1, 3],\n",
       "       [0, 3, 6]])"
      ]
     },
     "execution_count": 81,
     "metadata": {},
     "output_type": "execute_result"
    }
   ],
   "source": [
    "B = np.array([[1,0,1],[2,1,3],[0,3,6]])\n",
    "B"
   ]
  },
  {
   "cell_type": "code",
   "execution_count": 69,
   "id": "6e8c9469",
   "metadata": {},
   "outputs": [
    {
     "data": {
      "text/plain": [
       "array([[ 2,  2,  4],\n",
       "       [ 4,  4,  7],\n",
       "       [ 4,  8, 12]])"
      ]
     },
     "execution_count": 69,
     "metadata": {},
     "output_type": "execute_result"
    }
   ],
   "source": [
    "A+B"
   ]
  },
  {
   "cell_type": "code",
   "execution_count": 70,
   "id": "65210d2c",
   "metadata": {},
   "outputs": [
    {
     "data": {
      "text/plain": [
       "array([[ 2,  4,  6],\n",
       "       [ 4,  6,  8],\n",
       "       [ 8, 10, 12]])"
      ]
     },
     "execution_count": 70,
     "metadata": {},
     "output_type": "execute_result"
    }
   ],
   "source": [
    "2*A"
   ]
  },
  {
   "cell_type": "markdown",
   "id": "ede0acf5",
   "metadata": {},
   "source": [
    "Matrices can be multiplied with the `@` command:"
   ]
  },
  {
   "cell_type": "code",
   "execution_count": 80,
   "id": "5b5b63cc",
   "metadata": {},
   "outputs": [
    {
     "data": {
      "text/plain": [
       "array([[ 5, 11, 25],\n",
       "       [ 8, 15, 35],\n",
       "       [14, 23, 55]])"
      ]
     },
     "execution_count": 80,
     "metadata": {},
     "output_type": "execute_result"
    }
   ],
   "source": [
    "A@B"
   ]
  },
  {
   "cell_type": "markdown",
   "id": "86ebc3df",
   "metadata": {},
   "source": [
    "One can use `*` but this will give a different multiplication (pointwise)"
   ]
  },
  {
   "cell_type": "code",
   "execution_count": 82,
   "id": "6eae76e3",
   "metadata": {},
   "outputs": [
    {
     "data": {
      "text/plain": [
       "array([[ 1,  0,  3],\n",
       "       [ 4,  3, 12],\n",
       "       [ 0, 15, 36]])"
      ]
     },
     "execution_count": 82,
     "metadata": {},
     "output_type": "execute_result"
    }
   ],
   "source": [
    "A*B"
   ]
  },
  {
   "cell_type": "markdown",
   "id": "97ab4190",
   "metadata": {},
   "source": [
    "From a 2-dimensional array, one can obtain its rows and columns as 1-dimensional arrays using `A[i,:]` and `A[:,j]` which are treated as we treat $a_{i,*}$ and $a_{*,j}$ as we defined in class. Recall that python is a 0-indexed language, so the first row is `A[0,:]` and the first column is `A[:,0]`."
   ]
  },
  {
   "cell_type": "code",
   "execution_count": 71,
   "id": "85a2dfdf",
   "metadata": {},
   "outputs": [
    {
     "data": {
      "text/plain": [
       "array([2, 3, 4])"
      ]
     },
     "execution_count": 71,
     "metadata": {},
     "output_type": "execute_result"
    }
   ],
   "source": [
    "A[1,:]"
   ]
  },
  {
   "cell_type": "code",
   "execution_count": 72,
   "id": "52d25021",
   "metadata": {},
   "outputs": [
    {
     "data": {
      "text/plain": [
       "array([1, 2, 3])"
      ]
     },
     "execution_count": 72,
     "metadata": {},
     "output_type": "execute_result"
    }
   ],
   "source": [
    "A[0,:]"
   ]
  },
  {
   "cell_type": "markdown",
   "id": "962ff478",
   "metadata": {},
   "source": [
    "Another way to view vectors would be as either $n\\times 1$ or $1\\times n$ matrices. This may be preferable if we wish to distinguish between row and column vectors"
   ]
  },
  {
   "cell_type": "code",
   "execution_count": 85,
   "id": "f0cfdd74",
   "metadata": {},
   "outputs": [
    {
     "data": {
      "text/plain": [
       "array([[1, 2, 3]])"
      ]
     },
     "execution_count": 85,
     "metadata": {},
     "output_type": "execute_result"
    }
   ],
   "source": [
    "v1 = np.array([[1,2,3]])\n",
    "v1"
   ]
  },
  {
   "cell_type": "code",
   "execution_count": 99,
   "id": "bcddcc22",
   "metadata": {},
   "outputs": [
    {
     "data": {
      "text/plain": [
       "array([[1],\n",
       "       [2],\n",
       "       [3]])"
      ]
     },
     "execution_count": 99,
     "metadata": {},
     "output_type": "execute_result"
    }
   ],
   "source": [
    "v2 = np.array([[1],[2],[3]])\n",
    "v2"
   ]
  },
  {
   "cell_type": "markdown",
   "id": "154201c8",
   "metadata": {},
   "source": [
    "We can try multiplying vectors by matrices in both forms and see if they agree"
   ]
  },
  {
   "cell_type": "code",
   "execution_count": 100,
   "id": "2aa66047",
   "metadata": {},
   "outputs": [
    {
     "data": {
      "text/plain": [
       "array([1, 2, 3])"
      ]
     },
     "execution_count": 100,
     "metadata": {},
     "output_type": "execute_result"
    }
   ],
   "source": [
    "v3 = np.array([1,2,3])\n",
    "v3"
   ]
  },
  {
   "cell_type": "markdown",
   "id": "085ec1c6",
   "metadata": {},
   "source": [
    "First we multiply the $3\\times 3$ matrix `A` by `v1`:"
   ]
  },
  {
   "cell_type": "code",
   "execution_count": 101,
   "id": "bee9a0eb",
   "metadata": {},
   "outputs": [
    {
     "ename": "ValueError",
     "evalue": "matmul: Input operand 1 has a mismatch in its core dimension 0, with gufunc signature (n?,k),(k,m?)->(n?,m?) (size 1 is different from 3)",
     "output_type": "error",
     "traceback": [
      "\u001b[0;31m---------------------------------------------------------------------------\u001b[0m",
      "\u001b[0;31mValueError\u001b[0m                                Traceback (most recent call last)",
      "Input \u001b[0;32mIn [101]\u001b[0m, in \u001b[0;36m<module>\u001b[0;34m\u001b[0m\n\u001b[0;32m----> 1\u001b[0m \u001b[43mA\u001b[49m\u001b[38;5;129;43m@v1\u001b[39;49m\n",
      "\u001b[0;31mValueError\u001b[0m: matmul: Input operand 1 has a mismatch in its core dimension 0, with gufunc signature (n?,k),(k,m?)->(n?,m?) (size 1 is different from 3)"
     ]
    }
   ],
   "source": [
    "A@v1"
   ]
  },
  {
   "cell_type": "markdown",
   "id": "1aebc0cf",
   "metadata": {},
   "source": [
    "This throws an error message because $A\\in\\mathbb{R}^{3\\times 3}$ and $v_1\\in\\mathbb{R}^{1\\times 3}$."
   ]
  },
  {
   "cell_type": "markdown",
   "id": "3dfb8c8f",
   "metadata": {},
   "source": [
    "Now we try multiplying `A` by `v2` which should work because the dimensions match"
   ]
  },
  {
   "cell_type": "code",
   "execution_count": 102,
   "id": "66e11b2b",
   "metadata": {},
   "outputs": [
    {
     "data": {
      "text/plain": [
       "array([[14],\n",
       "       [20],\n",
       "       [32]])"
      ]
     },
     "execution_count": 102,
     "metadata": {},
     "output_type": "execute_result"
    }
   ],
   "source": [
    "A@v2"
   ]
  },
  {
   "cell_type": "markdown",
   "id": "88407eba",
   "metadata": {},
   "source": [
    "Next we see how python interprets a product of a 2-dimensional array with a 1-dimensional array of appropriate dimension"
   ]
  },
  {
   "cell_type": "code",
   "execution_count": 103,
   "id": "0061ceeb",
   "metadata": {},
   "outputs": [
    {
     "data": {
      "text/plain": [
       "array([14, 20, 32])"
      ]
     },
     "execution_count": 103,
     "metadata": {},
     "output_type": "execute_result"
    }
   ],
   "source": [
    "A@v3"
   ]
  },
  {
   "cell_type": "markdown",
   "id": "43f3d39e",
   "metadata": {},
   "source": [
    "The product is computed correctly and output as a 1-dimensional numpy array"
   ]
  },
  {
   "cell_type": "markdown",
   "id": "20025558",
   "metadata": {},
   "source": [
    "What about multiplying the vector on the left? Explain the following results."
   ]
  },
  {
   "cell_type": "code",
   "execution_count": 104,
   "id": "f4322645",
   "metadata": {},
   "outputs": [
    {
     "data": {
      "text/plain": [
       "array([[17, 23, 29]])"
      ]
     },
     "execution_count": 104,
     "metadata": {},
     "output_type": "execute_result"
    }
   ],
   "source": [
    "v1@A"
   ]
  },
  {
   "cell_type": "code",
   "execution_count": 105,
   "id": "7c073c39",
   "metadata": {},
   "outputs": [
    {
     "ename": "ValueError",
     "evalue": "matmul: Input operand 1 has a mismatch in its core dimension 0, with gufunc signature (n?,k),(k,m?)->(n?,m?) (size 3 is different from 1)",
     "output_type": "error",
     "traceback": [
      "\u001b[0;31m---------------------------------------------------------------------------\u001b[0m",
      "\u001b[0;31mValueError\u001b[0m                                Traceback (most recent call last)",
      "Input \u001b[0;32mIn [105]\u001b[0m, in \u001b[0;36m<module>\u001b[0;34m\u001b[0m\n\u001b[0;32m----> 1\u001b[0m \u001b[43mv2\u001b[49m\u001b[38;5;129;43m@A\u001b[39;49m\n",
      "\u001b[0;31mValueError\u001b[0m: matmul: Input operand 1 has a mismatch in its core dimension 0, with gufunc signature (n?,k),(k,m?)->(n?,m?) (size 3 is different from 1)"
     ]
    }
   ],
   "source": [
    "v2@A"
   ]
  },
  {
   "cell_type": "code",
   "execution_count": 106,
   "id": "d7874cdf",
   "metadata": {},
   "outputs": [
    {
     "data": {
      "text/plain": [
       "array([17, 23, 29])"
      ]
     },
     "execution_count": 106,
     "metadata": {},
     "output_type": "execute_result"
    }
   ],
   "source": [
    "v3@A"
   ]
  },
  {
   "cell_type": "markdown",
   "id": "778e3a45",
   "metadata": {},
   "source": [
    "We see that python interprets the 1-dimensional array as either a row vector or as a column vector. It chooses whatever makes sense in the current situation."
   ]
  },
  {
   "cell_type": "code",
   "execution_count": null,
   "id": "360777ed",
   "metadata": {},
   "outputs": [],
   "source": []
  }
 ],
 "metadata": {
  "kernelspec": {
   "display_name": "Python 3 (ipykernel)",
   "language": "python",
   "name": "python3"
  },
  "language_info": {
   "codemirror_mode": {
    "name": "ipython",
    "version": 3
   },
   "file_extension": ".py",
   "mimetype": "text/x-python",
   "name": "python",
   "nbconvert_exporter": "python",
   "pygments_lexer": "ipython3",
   "version": "3.9.10"
  }
 },
 "nbformat": 4,
 "nbformat_minor": 5
}

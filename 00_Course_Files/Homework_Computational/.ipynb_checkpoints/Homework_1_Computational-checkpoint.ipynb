{
 "cells": [
  {
   "cell_type": "markdown",
   "id": "034abf95",
   "metadata": {},
   "source": [
    "# <center> Computational Homework 1 (due 10/3)</center>\n",
    "\n",
    "In this notebook, we will explore basic linear algebra operations in python using the library numpy. Complete the code as instructed to finish each problem. Start by running the following cell to import needed libraries. It may be useful to take some time and look through the documentation in the help tab above, particularly \"Notebook help\", \"Python Reference\" and \"Numpy Reference\"."
   ]
  },
  {
   "cell_type": "code",
   "execution_count": 61,
   "id": "48add7e7",
   "metadata": {},
   "outputs": [],
   "source": [
    "# run this cell to import numpy as the shorthand np\n",
    "import numpy as np\n",
    "# also import random and matlib as we will use some functions from here\n",
    "import random, time, numpy.matlib\n",
    "from numpy import linalg as LA"
   ]
  },
  {
   "cell_type": "markdown",
   "id": "43e9e5e7",
   "metadata": {},
   "source": [
    "## Problem 1\n",
    "\n",
    "Look at the documentation [here](https://numpy.org/doc/stable/reference/generated/numpy.array.html) for the `numpy.array` object. In particular, see how you can use `np.array` to create both vectors and matrices.\n",
    "\n",
    "Define a function `to_matrix` which takes inputs:\n",
    "\n",
    "<ul>\n",
    "  <li>vec: a vector</li>\n",
    "  <li>shape: a tuple of the form (r,c) where r is the number of rows and c is the number of columns in the output</li>\n",
    "  <li>axis: takes values 'v' or 'h' where 'v' stands for vertical meaning entries get placed consecutively in the vertical direction (and h for horizontal)</li>\n",
    "</ul>\n",
    "\n",
    "The output should be a matrix of the appropriate shape where its entries are the entries of `vec` arranged according to the given axis. Use the `assert` keyword to check if the inputs are of appropriate size, and if not, print `'output array is of incompatible size'`.\n",
    "\n",
    "Remark: you may not use any built-in function which already accomplishes this task. You must program it from scratch. E.g. you may not use `np.reshape`, (though after this problem, you are encouraged to use it)."
   ]
  },
  {
   "cell_type": "code",
   "execution_count": 87,
   "id": "815293cd",
   "metadata": {},
   "outputs": [],
   "source": [
    "# to complete problem 1, fill in the following with your code\n",
    "def to_matrix(vec,shape,axis): \n",
    "    ######################### your code goes here ########################\n",
    "    m,n = shape\n",
    "    assert len(vec)==m*n, 'output array is of incompatible size'\n",
    "    res = np.zeros(shape)\n",
    "    if axis=='v':\n",
    "        s,i,j=0,0,0\n",
    "        while True:\n",
    "            res[i,j]=vec[s]\n",
    "            i+=1\n",
    "            s+=1\n",
    "            if i==m:\n",
    "                i=0\n",
    "                j+=1\n",
    "            if j==n:\n",
    "                return res\n",
    "    elif axis=='h':\n",
    "        s,i,j=0,0,0\n",
    "        while True:\n",
    "            res[i,j]=vec[s]\n",
    "            j+=1\n",
    "            s+=1\n",
    "            if j==n:\n",
    "                j=0\n",
    "                i+=1\n",
    "            if i==m:\n",
    "                return res"
   ]
  },
  {
   "cell_type": "code",
   "execution_count": 88,
   "id": "32480438",
   "metadata": {},
   "outputs": [
    {
     "data": {
      "text/plain": [
       "True"
      ]
     },
     "execution_count": 88,
     "metadata": {},
     "output_type": "execute_result"
    }
   ],
   "source": [
    "# run the following test cell to check your answer for problem 1 \n",
    "vec = np.array([1,2,3,4,5,6])\n",
    "shape = (2,3)\n",
    "axis = 'h'\n",
    "m1 = to_matrix(vec,shape,axis)\n",
    "m2 = np.reshape(vec,shape,'C') # np.reshape uses 'C','F','A' for the axis parameter (see documentation)\n",
    "np.array_equal(m1,m2)"
   ]
  },
  {
   "cell_type": "code",
   "execution_count": 89,
   "id": "f03e74f4",
   "metadata": {},
   "outputs": [
    {
     "data": {
      "text/plain": [
       "True"
      ]
     },
     "execution_count": 89,
     "metadata": {},
     "output_type": "execute_result"
    }
   ],
   "source": [
    "# run the following test cell to check your answer for problem 1 \n",
    "vec = np.array([1,2,3,4,5,6,7,8,9,0])\n",
    "shape = (5,2)\n",
    "axis = 'v'\n",
    "m1 = to_matrix(vec,shape,axis)\n",
    "m2 = np.reshape(vec,shape,'F') # np.reshape uses 'C','F','A' for the axis parameter (see documentation)\n",
    "np.array_equal(m1,m2)"
   ]
  },
  {
   "cell_type": "code",
   "execution_count": 90,
   "id": "dd10b096",
   "metadata": {},
   "outputs": [
    {
     "ename": "AssertionError",
     "evalue": "output array is of incompatible size",
     "output_type": "error",
     "traceback": [
      "\u001b[0;31m---------------------------------------------------------------------------\u001b[0m",
      "\u001b[0;31mAssertionError\u001b[0m                            Traceback (most recent call last)",
      "Input \u001b[0;32mIn [90]\u001b[0m, in \u001b[0;36m<module>\u001b[0;34m\u001b[0m\n\u001b[1;32m      3\u001b[0m shape \u001b[38;5;241m=\u001b[39m (\u001b[38;5;241m5\u001b[39m,\u001b[38;5;241m2\u001b[39m)\n\u001b[1;32m      4\u001b[0m axis \u001b[38;5;241m=\u001b[39m \u001b[38;5;124m'\u001b[39m\u001b[38;5;124mv\u001b[39m\u001b[38;5;124m'\u001b[39m\n\u001b[0;32m----> 5\u001b[0m m1 \u001b[38;5;241m=\u001b[39m \u001b[43mto_matrix\u001b[49m\u001b[43m(\u001b[49m\u001b[43mvec\u001b[49m\u001b[43m,\u001b[49m\u001b[43mshape\u001b[49m\u001b[43m,\u001b[49m\u001b[43maxis\u001b[49m\u001b[43m)\u001b[49m\n",
      "Input \u001b[0;32mIn [87]\u001b[0m, in \u001b[0;36mto_matrix\u001b[0;34m(vec, shape, axis)\u001b[0m\n\u001b[1;32m      2\u001b[0m \u001b[38;5;28;01mdef\u001b[39;00m \u001b[38;5;21mto_matrix\u001b[39m(vec,shape,axis): \n\u001b[1;32m      3\u001b[0m     \u001b[38;5;66;03m######################### your code goes here ########################\u001b[39;00m\n\u001b[1;32m      4\u001b[0m     m,n \u001b[38;5;241m=\u001b[39m shape\n\u001b[0;32m----> 5\u001b[0m     \u001b[38;5;28;01massert\u001b[39;00m \u001b[38;5;28mlen\u001b[39m(vec)\u001b[38;5;241m==\u001b[39mm\u001b[38;5;241m*\u001b[39mn, \u001b[38;5;124m'\u001b[39m\u001b[38;5;124moutput array is of incompatible size\u001b[39m\u001b[38;5;124m'\u001b[39m\n\u001b[1;32m      6\u001b[0m     res \u001b[38;5;241m=\u001b[39m np\u001b[38;5;241m.\u001b[39mzeros(shape)\n\u001b[1;32m      7\u001b[0m     \u001b[38;5;28;01mif\u001b[39;00m axis\u001b[38;5;241m==\u001b[39m\u001b[38;5;124m'\u001b[39m\u001b[38;5;124mv\u001b[39m\u001b[38;5;124m'\u001b[39m:\n",
      "\u001b[0;31mAssertionError\u001b[0m: output array is of incompatible size"
     ]
    }
   ],
   "source": [
    "# should give assertion error\n",
    "vec = np.array([1,2,3,4,5,6,7,8,9])\n",
    "shape = (5,2)\n",
    "axis = 'v'\n",
    "m1 = to_matrix(vec,shape,axis)"
   ]
  },
  {
   "cell_type": "markdown",
   "id": "85ed9999",
   "metadata": {},
   "source": [
    "## Problem 2\n",
    "\n",
    "Without using any built-in functions (e.g. the @ operator or `np.matmul`) write a function `matmul` which computes returns the product of two matrices of appropriate sizes. The inputs `A`,`B` are 2-dimensional numpy arrays. The output `matmul(A,B)` is a 2-dimensional numpy array equal to `AB`. Use the `assert` keyword to check that the inputs are of compatible size, and otherwise, print `inputs are of incompatible size`.\n",
    "\n",
    "Remark: after doing the problem, you should use either `@` or `np.matmul` to do your matrix multiplication.\n",
    "\n",
    "Challenge: try and beat the time test (hint: use the outer product form of matrix multiplication to decrease time complexity of the algorithm)"
   ]
  },
  {
   "cell_type": "code",
   "execution_count": 84,
   "id": "c51c88fe",
   "metadata": {},
   "outputs": [],
   "source": [
    "# to complete problem 2, fill in the following with your code\n",
    "def matmul(A,B): \n",
    "    ######################### your code goes here ########################\n",
    "    ma,na = A.shape\n",
    "    mb,nb = B.shape\n",
    "    assert na==mb,'inputs are of incompatible size'\n",
    "        #print('Value Error')\n",
    "        #return False\n",
    "    res = np.zeros((ma,nb))\n",
    "    for j in range(na):\n",
    "        col = A[:,j]\n",
    "        row = B[j,:]\n",
    "        seq = list(row*col[i] for i in range(len(col)))\n",
    "        outer = np.vstack(seq)\n",
    "        res += outer\n",
    "    return res"
   ]
  },
  {
   "cell_type": "code",
   "execution_count": 85,
   "id": "e9e139bc",
   "metadata": {},
   "outputs": [
    {
     "data": {
      "text/plain": [
       "array([[ 8., 10., 12.],\n",
       "       [ 4.,  5.,  6.]])"
      ]
     },
     "execution_count": 85,
     "metadata": {},
     "output_type": "execute_result"
    }
   ],
   "source": [
    "# run the following test cell to check your answer for problem 2 (should get array([[8,10,12],[4,5,6]]))\n",
    "A = np.array([[1,0,1],[0,1,0]])\n",
    "B = np.array([[1,2,3],[4,5,6],[7,8,9]])\n",
    "matmul(A,B)"
   ]
  },
  {
   "cell_type": "code",
   "execution_count": 86,
   "id": "7d436714",
   "metadata": {},
   "outputs": [
    {
     "ename": "AssertionError",
     "evalue": "inputs are of incompatible size",
     "output_type": "error",
     "traceback": [
      "\u001b[0;31m---------------------------------------------------------------------------\u001b[0m",
      "\u001b[0;31mAssertionError\u001b[0m                            Traceback (most recent call last)",
      "Input \u001b[0;32mIn [86]\u001b[0m, in \u001b[0;36m<module>\u001b[0;34m\u001b[0m\n\u001b[1;32m      2\u001b[0m A \u001b[38;5;241m=\u001b[39m np\u001b[38;5;241m.\u001b[39marray([[\u001b[38;5;241m1\u001b[39m,\u001b[38;5;241m0\u001b[39m],[\u001b[38;5;241m0\u001b[39m,\u001b[38;5;241m1\u001b[39m]])\n\u001b[1;32m      3\u001b[0m B \u001b[38;5;241m=\u001b[39m np\u001b[38;5;241m.\u001b[39marray([[\u001b[38;5;241m1\u001b[39m,\u001b[38;5;241m2\u001b[39m,\u001b[38;5;241m3\u001b[39m],[\u001b[38;5;241m4\u001b[39m,\u001b[38;5;241m5\u001b[39m,\u001b[38;5;241m6\u001b[39m],[\u001b[38;5;241m7\u001b[39m,\u001b[38;5;241m8\u001b[39m,\u001b[38;5;241m9\u001b[39m]])\n\u001b[0;32m----> 4\u001b[0m \u001b[43mmatmul\u001b[49m\u001b[43m(\u001b[49m\u001b[43mA\u001b[49m\u001b[43m,\u001b[49m\u001b[43mB\u001b[49m\u001b[43m)\u001b[49m\n",
      "Input \u001b[0;32mIn [84]\u001b[0m, in \u001b[0;36mmatmul\u001b[0;34m(A, B)\u001b[0m\n\u001b[1;32m      4\u001b[0m ma,na \u001b[38;5;241m=\u001b[39m A\u001b[38;5;241m.\u001b[39mshape\n\u001b[1;32m      5\u001b[0m mb,nb \u001b[38;5;241m=\u001b[39m B\u001b[38;5;241m.\u001b[39mshape\n\u001b[0;32m----> 6\u001b[0m \u001b[38;5;28;01massert\u001b[39;00m na\u001b[38;5;241m==\u001b[39mmb,\u001b[38;5;124m'\u001b[39m\u001b[38;5;124minputs are of incompatible size\u001b[39m\u001b[38;5;124m'\u001b[39m\n\u001b[1;32m      7\u001b[0m     \u001b[38;5;66;03m#print('Value Error')\u001b[39;00m\n\u001b[1;32m      8\u001b[0m     \u001b[38;5;66;03m#return False\u001b[39;00m\n\u001b[1;32m      9\u001b[0m res \u001b[38;5;241m=\u001b[39m np\u001b[38;5;241m.\u001b[39mzeros((ma,nb))\n",
      "\u001b[0;31mAssertionError\u001b[0m: inputs are of incompatible size"
     ]
    }
   ],
   "source": [
    "# should get an assertion error\n",
    "A = np.array([[1,0],[0,1]])\n",
    "B = np.array([[1,2,3],[4,5,6],[7,8,9]])\n",
    "matmul(A,B)"
   ]
  },
  {
   "cell_type": "code",
   "execution_count": 72,
   "id": "37876043",
   "metadata": {},
   "outputs": [
    {
     "name": "stdout",
     "output_type": "stream",
     "text": [
      "\n",
      "your matmul method took 0.960 seconds\n",
      "\n",
      "@ method took 0.012 seconds\n",
      "\n",
      "np.matmul method took 0.010 seconds\n"
     ]
    }
   ],
   "source": [
    "# time test (Goal: 1 second)\n",
    "A = np.random.rand(600,800) # creates random 600 by 800 matrix\n",
    "B = np.random.rand(800,700) # creates random 800 by 700 matrix\n",
    "start = time.time()\n",
    "matmul(A,B)\n",
    "end = time.time()\n",
    "total_time = end - start\n",
    "print(\"\\n\"+ \"your matmul method took \" + str(total_time)[:5] +\" seconds\")\n",
    "#testing the @ method\n",
    "A = np.random.rand(600,800) # creates random 600 by 800 matrix\n",
    "B = np.random.rand(800,700) # creates random 800 by 700 matrix\n",
    "start = time.time()\n",
    "A@B\n",
    "end = time.time()\n",
    "total_time = end - start\n",
    "print(\"\\n\"+ \"@ method took \" + str(total_time)[:5] +\" seconds\")\n",
    "#testing the np.matmul method\n",
    "A = np.random.rand(600,800) # creates random 600 by 800 matrix\n",
    "B = np.random.rand(800,700) # creates random 800 by 700 matrix\n",
    "start = time.time()\n",
    "np.matmul(A,B)\n",
    "end = time.time()\n",
    "total_time = end - start\n",
    "print(\"\\n\"+ \"np.matmul method took \" + str(total_time)[:5] +\" seconds\")"
   ]
  },
  {
   "cell_type": "markdown",
   "id": "af37ec45",
   "metadata": {},
   "source": [
    "# Problem 3\n",
    "\n",
    "Write a function `svd` which takes an input `A` and outputs the SVD of `A` as a list `[U,Sigma,VT]` where `U` and `VT` are orthogonal matrices ($U$ and $V^T$ in the SVD), and `Sigma` is a 1-dimensional numpy array of the singular values of `A`. You may use `l, v = LA.eig(M)` to get the eigenvalues `l` and eigenvectors `v` (the eigenvectors are the columns of `v`) of a matrix `M` (recall from lecture you want `M = A.T@A`). Since `M` is positive definite, we know the eigenvalues and eigenvectors are real so be sure to call `l,v = l.real,v.real` since `LA.eig` outputs complex value types.\n",
    "\n",
    "The eigenvalues may possibly be out of order, so we must sort `l` in decreasing order. You must also sort the columns of `v` in the same way you sorted `l`. To accomplish this, call the following (using the `perm_matrix` function defined in the previous cell):\n",
    "\n",
    "`\n",
    "reorder = perm_matrix(np.argsort(list(-l)))\n",
    "v,l = v@reorder, l@reorder\n",
    "`\n",
    "\n",
    "Now redefine `l` to be the list of positive entries in `l` (make sure the ordering is preserved). A nice way to do this is to call `l = l[l>1e-8]` (using slightly positive value to account for floating point errors in the eigenvalue computation).\n",
    "\n",
    "To build the `U` matrix, you could start with an empty list, and for each `i` from `0` to the length of `l`, append `A@v[:,i]` divided by its 2-norm (recall you can use `LA.norm(u,2)`). After the final iteration, create a numpy array from this list of lists and take its transpose (we added row vectors but they should be columns). Now we extend this to an orthonormal basis of $\\mathbb{R}^m$. To accomplish this, we apply the Gram-Schmidt process: create a random vector `ui = random_matrix(m,1,1)`. This is guaranteed to be orthogonal to the span of the columns of `U` with probability 1. Subtract from `ui` the projections to each of the columns of `U`. Recall the projection of a vector `v` onto a vector `u` is:\n",
    "$$\\text{proj}_u v = \\frac{v\\cdot u}{u\\cdot u}u.$$\n",
    "After all projections have been subtracted, divide the resulting `ui` by its 2-norm `LA.norm(ui,2)`. Now add `ui` as a new column to the matrix `U` by calling `np.concatenate((U,ui),axis=1)`. Repeat this process until `U` has `m` orthonormal columns. \n",
    "\n",
    "Return `[U,Sigma,VT]` where `Sigma` consists of the square roots of values in `l` in decreasing order, and `VT` is the transpose of `v`."
   ]
  },
  {
   "cell_type": "code",
   "execution_count": 59,
   "id": "1680cf7a",
   "metadata": {},
   "outputs": [],
   "source": [
    "#provided for your convenience\n",
    "def perm_matrix(perm):\n",
    "    result = np.zeros([len(perm),len(perm)])\n",
    "    for j in range(len(perm)):\n",
    "        result[perm[j],j]=1\n",
    "    return result"
   ]
  },
  {
   "cell_type": "code",
   "execution_count": 57,
   "id": "2f9d582c",
   "metadata": {},
   "outputs": [],
   "source": [
    "# to complete problem 3, fill in the following with your code\n",
    "def svd(A):\n",
    "    ################################## your code goes here ##########################################\n",
    "    m, n = A.shape\n",
    "    l, v = LA.eig(A.T@A)\n",
    "    l,v = l.real,v.real\n",
    "    reorder = perm_matrix(np.argsort(list(-l)))\n",
    "    v,l = v@reorder, l@reorder\n",
    "    l = l[l>1e-8]\n",
    "    U = []\n",
    "    for i in range(len(l)):\n",
    "        ui = A@v[:,i]\n",
    "        U.append(ui/LA.norm(ui,2))\n",
    "    U = np.array(U).T #added what were supposed to be columns as rows so we take transpose\n",
    "    for i in range(len(l),m):\n",
    "        ui = random_matrix(m,1,1) # random vector is not in span of first i vectors\n",
    "        for j in range(i):\n",
    "            ui = ui - np.inner(ui.T,U[:,j])/np.inner(U[:,j],U[:,j])*U[:,j].reshape(-1,1)\n",
    "        ui = ui/LA.norm(ui,2)\n",
    "        U = np.concatenate((U,ui), axis = 1)\n",
    "    Sigma = abs(l)**(1/2)\n",
    "    VT = v.T\n",
    "    return [U,Sigma,VT]"
   ]
  },
  {
   "cell_type": "code",
   "execution_count": 62,
   "id": "ea41129f",
   "metadata": {},
   "outputs": [
    {
     "name": "stdout",
     "output_type": "stream",
     "text": [
      "Your svd method took 16.974910020828247 seconds to compute\n",
      "LA.svd method took 0.32848501205444336 seconds to compute\n",
      "Your method gives the same singular values as LA.svd: True\n",
      "The LA.svd methods product u@s@vt is within distance 1.1592451479550905e-12 of the matrix A\n",
      "your svd methods product u@s@vt is within distance 3.805658681590508e-10 of the matrix A\n"
     ]
    }
   ],
   "source": [
    "# check: (expect about 20 seconds of computing. Compares running time and accuracy to the built-in LA.svd method)\n",
    "m,n = 2000,300\n",
    "A = np.random.rand(m,n)\n",
    "start_time = time.time()\n",
    "u2,s2,vt2 = svd(A)\n",
    "end_time = time.time()\n",
    "print(f'Your svd method took {end_time - start_time} seconds to compute')\n",
    "start_time = time.time()\n",
    "u1,s1,vt1 = LA.svd(A)\n",
    "end_time = time.time()\n",
    "print(f'LA.svd method took {end_time - start_time} seconds to compute')\n",
    "print(f'Your method gives the same singular values as LA.svd: {LA.norm(s1-s2,2)<10e-10}')\n",
    "s1=np.concatenate((np.diag(s1), np.zeros([m-n,n])),axis = 0)\n",
    "print(f'The LA.svd methods product u@s@vt is within distance {LA.norm(u1@s1@vt1-A)} of the matrix A')\n",
    "s2=np.concatenate((np.diag(s2), np.zeros([m-n,n])),axis = 0)\n",
    "print(f'your svd methods product u@s@vt is within distance {LA.norm(u2@s2@vt2-A)} of the matrix A')"
   ]
  },
  {
   "cell_type": "code",
   "execution_count": 63,
   "id": "9267308b",
   "metadata": {},
   "outputs": [
    {
     "data": {
      "image/png": "[encoded data removed]",
      "text/plain": [
       "<Figure size 432x288 with 1 Axes>"
      ]
     },
     "metadata": {
      "needs_background": "light"
     },
     "output_type": "display_data"
    }
   ],
   "source": [
    "# check: plots the singular values for a random matrix of rank r plus noise on log scale\n",
    "# (should have a noticeable cutoff at rank r)\n",
    "m,n,r,delta=70,30,20,.01\n",
    "A0 = np.random.rand(m,r)*r \n",
    "z = np.zeros([m,n-r])\n",
    "A0 = np.concatenate((A0,z),axis = 1)\n",
    "N = np.random.rand(m,n)*delta\n",
    "A = A0 + N #gives a matrix with numerical rank r (plus noise to make it full rank)\n",
    "u,s,v = svd(A)\n",
    "from matplotlib import pyplot\n",
    "xs = range(len(s))\n",
    "ys = [s[i] for i in xs]\n",
    "pyplot.scatter(xs, ys, color='blue', lw=2)\n",
    "pyplot.yscale('log')\n",
    "pyplot.xlabel('j')\n",
    "pyplot.ylabel('singular values (log scale)')\n",
    "pyplot.show()"
   ]
  },
  {
   "cell_type": "code",
   "execution_count": null,
   "id": "6f199a40",
   "metadata": {},
   "outputs": [],
   "source": []
  }
 ],
 "metadata": {
  "kernelspec": {
   "display_name": "Python 3 (ipykernel)",
   "language": "python",
   "name": "python3"
  },
  "language_info": {
   "codemirror_mode": {
    "name": "ipython",
    "version": 3
   },
   "file_extension": ".py",
   "mimetype": "text/x-python",
   "name": "python",
   "nbconvert_exporter": "python",
   "pygments_lexer": "ipython3",
   "version": "3.9.10"
  }
 },
 "nbformat": 4,
 "nbformat_minor": 5
}

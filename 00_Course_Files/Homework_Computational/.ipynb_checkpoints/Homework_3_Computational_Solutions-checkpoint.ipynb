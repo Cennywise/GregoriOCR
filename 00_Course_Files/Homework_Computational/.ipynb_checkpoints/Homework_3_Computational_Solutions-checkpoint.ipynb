{
 "cells": [
  {
   "cell_type": "markdown",
   "id": "034abf95",
   "metadata": {},
   "source": [
    "# <center> Computational Homework 3</center>\n",
    "\n",
    "In this notebook we look at some computational problems in probability theory and optimization. Throughout the notebook, vectors and matrices should always be represented as numpy arrays."
   ]
  },
  {
   "cell_type": "code",
   "execution_count": 3,
   "id": "48add7e7",
   "metadata": {},
   "outputs": [],
   "source": [
    "# run this cell to import needed modules\n",
    "import numpy as np\n",
    "import matplotlib.pyplot as plt\n",
    "from numpy import linalg as LA\n",
    "import plotly\n",
    "import plotly.graph_objects as go\n",
    "import random, time\n",
    "from collections import Counter"
   ]
  },
  {
   "cell_type": "markdown",
   "id": "43e9e5e7",
   "metadata": {},
   "source": [
    "## Problem 1\n",
    "\n",
    "In class we proved that if $J$ is twice differentiable, convex, and has $L$ - Lipshchitz continuous gradient, then for fixed step size $\\alpha\\leq \\frac{1}{L}$ we have $$f(x_k)-f(x^*)\\leq \\frac{||x_0-x^*||_2^2}{2\\alpha k}.$$\n",
    "\n",
    "The goal of this problem is to verify this for linear regression. We will let gradient descent run for longer than one would ever need to in practice, to see how long it takes to reach the desired accuracy in approximating the global minimum. Copy the code from Homework 2 Problem 3 to complete the cell below. Now change the code as follows. First, we only want to print the cost once every 10000 iterations. \n",
    "\n",
    "We learned in class how to solve for the global minimum explicitly using \n",
    "\n",
    "$$v^* = (\\hat{\\mathbf{X}}^\\top\\hat{\\mathbf{X}})^{-1}\\hat{\\mathbf{X}}^\\top y$$\n",
    "\n",
    "Change the stopping condition so that you stop once the cost is within a distance `epsilon` from the cost of the global minimum $v^*$. You can use `LA.inv` to compute the inverse in your computation of $v^*$. \n",
    "\n",
    "Run the two cells below (the 2nd defines a randomized dataset to test on). \n",
    "\n",
    "The markdown cell after provides additional instructions."
   ]
  },
  {
   "cell_type": "code",
   "execution_count": null,
   "id": "b6aed056",
   "metadata": {},
   "outputs": [],
   "source": [
    "# to complete problem 1, fill in the following with your code\n",
    "def J(X,y,v):\n",
    "    ######################### your code goes here ########################\n",
    "    m = X.shape[0]\n",
    "    ones = np.ones((m,1))\n",
    "    Xhat = np.concatenate((ones,X), axis = 1)\n",
    "    return ((Xhat@v - y).T@(Xhat@v - y))[0,0]/m\n",
    "    \n",
    "def DJ(X,y,v):\n",
    "    ######################### your code goes here ########################\n",
    "    m = len(X)\n",
    "    ones = np.ones((m,1))\n",
    "    Xhat = np.concatenate((ones,X), axis = 1)\n",
    "    return ((2*v.T@Xhat.T@Xhat - 2*y.T@Xhat).T)/m\n",
    "\n",
    "def GD_linreg(X,y,alpha,epsilon,max_iters = 10000): \n",
    "    ######################### your code goes here ########################\n",
    "    m = X.shape[0]\n",
    "    ones = np.ones((m,1))\n",
    "    Xhat = np.concatenate((ones,X), axis = 1)\n",
    "    global_min = LA.inv(Xhat.T@Xhat)@Xhat.T@y\n",
    "    stopping_cost = J(X,y,global_min)\n",
    "    n = Xhat.shape[1]\n",
    "    v = np.array([[0 for _ in range(n)]]).T\n",
    "    i=0\n",
    "    costs = []\n",
    "    while True:\n",
    "        costs.append(J(X,y,v))\n",
    "        if i%10000==0:\n",
    "            print(f'after {i} steps the cost is {costs[i]}')\n",
    "        prev = v\n",
    "        g = DJ(X,y,v)\n",
    "        v = v - alpha*g\n",
    "        if (abs(costs[i]-stopping_cost)<epsilon) or i>max_iters:\n",
    "            break\n",
    "        i+=1\n",
    "    print(f'after {i} steps the cost is {costs[i]}')\n",
    "    return v,costs"
   ]
  },
  {
   "cell_type": "code",
   "execution_count": null,
   "id": "673b01d6",
   "metadata": {},
   "outputs": [],
   "source": [
    "# Defining a dataset to test the model (no input needed)\n",
    "X = np.random.normal(0, 500, size=(4000,2))\n",
    "y = np.array([[np.random.normal(3,2)*point[0]+np.random.normal(4,2)*point[1]+np.random.normal(5,5)] for point in X])\n",
    "Xhat = np.concatenate((np.ones((len(X),1)),X), axis = 1)"
   ]
  },
  {
   "cell_type": "markdown",
   "id": "2780894e",
   "metadata": {},
   "source": [
    "## Problem 1 Continued...\n",
    "\n",
    "In theoretical homework 2 you found the $L$ for which $\\nabla J$ is $L$-Lipschitz continuous. Compute this value of $L$ and save it to the variable `L`. You may use `LA.norm(MATRIX,2)` to compute the 2-norm which comes up in the formula. Compute the global minimum parameters $v^*$ and save it to a variable `global_min`, and the global minimum value $J(\\mathbf{X},\\mathbf{y},\\mathbf{v}^*)$ of the cost function and set it to a variable `gmcost`. Set `alpha` to be equal to $\\frac{1}{L}$. Set the value of `epsilon` to be the global minimum cost times `1e-7`. "
   ]
  },
  {
   "cell_type": "code",
   "execution_count": null,
   "id": "20cf4f1a",
   "metadata": {
    "scrolled": true
   },
   "outputs": [],
   "source": [
    "# compute L here (input needed)\n",
    "L = LA.norm(Xhat.T@Xhat,2)*2/len(Xhat)\n",
    "print(f'the gradient of J is L-Lipschitz continuous for L = {L}')\n",
    "\n",
    "# compute the global minimum cost here (input needed)\n",
    "global_min = LA.inv(Xhat.T@Xhat)@Xhat.T@y\n",
    "gmcost = J(X,y,global_min)\n",
    "print(f'the global minimum cost is {gmcost}')\n",
    "\n",
    "# Tuning parameters (input needed for alpha, epsilon)\n",
    "alpha = 1/L\n",
    "print(f'the value of the step size alpha is {alpha}')\n",
    "epsilon = gmcost*1e-7\n",
    "print(f'the value of epsilon is {epsilon}')\n",
    "max_iters = 2000000"
   ]
  },
  {
   "cell_type": "markdown",
   "id": "eb23da5a",
   "metadata": {},
   "source": [
    "## Problem 1 Continued...\n",
    "\n",
    "Then run the following cell to run gradient descent until desired convergence (it will take awhile... maybe three or four minutes). If this does not converge after 2 million iterations, you can the stopping condition parameter set previously from `1e-7` to `1e-6`. Run gradient descent and note the number of steps taken until stopping. "
   ]
  },
  {
   "cell_type": "code",
   "execution_count": null,
   "id": "fa5d583e",
   "metadata": {
    "scrolled": true
   },
   "outputs": [],
   "source": [
    "# Run the gradient descent algorithm (no input needed)\n",
    "v,costs = GD_linreg(X,y,alpha,epsilon,max_iters)\n",
    "print('Using gradient descent, we have found the approximate global minimum:')\n",
    "print(v)\n",
    "# print the actual global minimum parameters\n",
    "global_min = LA.inv(Xhat.T@Xhat)@Xhat.T@y\n",
    "print('Solving analytically, we know the actual global minimum is at:')\n",
    "print(global_min)"
   ]
  },
  {
   "cell_type": "markdown",
   "id": "c86b7bb6",
   "metadata": {},
   "source": [
    "## Problem 1 Continued...\n",
    "\n",
    "In this problem we are stopping gradient descent when $f(x_k)-f(x^*)<\\epsilon$. Using the fact that $$f(x_k)-f(x^*)\\leq \\frac{||x_0-x^*||_2^2}{2\\alpha k}$$ compute the number of steps `k` needed until we are guaranteed to stop. Compute this in the code cell below and then explain in the markdown cell below whether this makes sense in the context of the previous step of this problem."
   ]
  },
  {
   "cell_type": "code",
   "execution_count": null,
   "id": "46acf806",
   "metadata": {},
   "outputs": [],
   "source": [
    "# Compute the quantity k here\n",
    "k = LA.norm(LA.inv(Xhat.T@Xhat)@Xhat.T@y)**2/(2*alpha*epsilon)\n",
    "print(f'The maximum number of steps needed for convergence is {int(np.ceil(k))}')"
   ]
  },
  {
   "cell_type": "markdown",
   "id": "ead6c083",
   "metadata": {},
   "source": [
    "## Explain the result here\n",
    "\n",
    "Replace this text with your explanation..."
   ]
  },
  {
   "cell_type": "markdown",
   "id": "5a6ed6e0",
   "metadata": {},
   "source": [
    "# Problem 2\n",
    "\n",
    "The goal of this problem is to implement regularized linear regression with polynomial terms up to degree `k`. Start by defining a function `generate_monomials_eq(n,k)` with inputs positive integers `n`,`k`, which outputs a list of all lists of length `n` whose entries are nonnegative integers that sum to `k`. Return this list sorted lexicographically bigger to smaller (the `sorted()` function can handle this with the argument `reverse = True`). I suggest doing this recursively (i.e. inside of the function `generate_monomials_eq(n,k)` call the function `generate_monomials_eq(n,k-1)` and then for each monomial in this list, add one to each component, giving you `n` new monomials of degree `k`. Add each of these to the list of monomials of degree `k` (unless it is already in the list). You'll need to program the base case where $k=0$ by hand.\n",
    "\n",
    "Also define a function `generate_monomials_leq(n,k)` which gives the list of all lists of length `n` whose entries add up to a number between `0` and `k`. You should create this list by putting together results from `generate_monomials_eq(n,i)` for $0\\leq i\\leq k$.\n",
    "\n",
    "Note: if you have a better way to implement both in a single function `generate_monomials_leq` you can do that as well, as long as the result is correct.\n",
    "\n",
    "Running the following cell will test that you are getting the correct number of polynomial terms in some special cases."
   ]
  },
  {
   "cell_type": "code",
   "execution_count": 25,
   "id": "90d3f714",
   "metadata": {},
   "outputs": [
    {
     "name": "stdout",
     "output_type": "stream",
     "text": [
      "15\n",
      "84\n",
      "330\n",
      "48620\n"
     ]
    }
   ],
   "source": [
    "# to complete problem 2, fill in the following with your code\n",
    "\n",
    "def generate_monomials_eq(n,k):\n",
    "    ######################### your code goes here ########################\n",
    "    if k==0:\n",
    "        return [[0 for _ in range(n)]]\n",
    "    else:\n",
    "        oldmons = generate_monomials_eq(n,k-1)\n",
    "        newmons = []\n",
    "        for mon in oldmons:\n",
    "            for i in range(n):\n",
    "                newmon = mon.copy()\n",
    "                newmon[i]+=1\n",
    "                if not (newmon in newmons):\n",
    "                    newmons.append(newmon)\n",
    "        return sorted(newmons, reverse = True)\n",
    "    \n",
    "def generate_monomials_leq(n,k):\n",
    "    ######################### your code goes here ########################\n",
    "    mons = []\n",
    "    for i in range(k+1):\n",
    "        mons.extend(generate_monomials_eq(n,i))\n",
    "    return mons\n",
    "    \n",
    "print(len(generate_monomials_leq(2,4))) #should be 15\n",
    "print(len(generate_monomials_leq(3,6))) #should be 84\n",
    "print(len(generate_monomials_leq(7,4))) #should be 330\n",
    "print(len(generate_monomials_leq(9,9))) #should be 48620 (should take about 25 seconds to compute)"
   ]
  },
  {
   "cell_type": "markdown",
   "id": "b322e128",
   "metadata": {},
   "source": [
    "## Problem 2 Continued...\n",
    "\n",
    "Define a function `add_poly_terms(X,k)` which adds columns to the dataset `X` corresponding to all polynomial terms up to total degree `k` (e.g. if `n==2` and `X` has two columns, you would have columns corresponding to $1,x_1,x_2,x_1^2, x_1x_2, x_2^2$). Hint: you can make a for loop over all of the monomials in `mons = generate_monomials_leq(n,k)` (i.e. `for mon in mons:`) and a for loop over the number of examples. You want to create matrix entries of the form `X[i,1]**mon[1] * X[i,2]**mon[2] * ... * X[i,n]**mon[n]` which can be accomplished with another loop.\n",
    "\n",
    "Note: You do not need to concatenate columns to `X`. Instead, create a new array with a row for each polynomial term in `generate_monomials_leq(n,k)`. Since your `generate_monomials_leq` has terms corresponding to $1,x_1,x_2,\\dots,x_n$, this will contain the old dataset, plus a bias term, plus all of the other higher order polynomial terms. Since you added these as rows (this is more natural in numpy) at the end you should return the transpose of the numpy array you created."
   ]
  },
  {
   "cell_type": "code",
   "execution_count": 26,
   "id": "b90f28fa",
   "metadata": {},
   "outputs": [],
   "source": [
    "def add_poly_terms(X,k):\n",
    "    m,n = X.shape\n",
    "    mons = generate_monomials_leq(n,k)\n",
    "    #print(mons)\n",
    "    rows = []\n",
    "    for mon in mons:\n",
    "        row = []\n",
    "        for i in range(m):\n",
    "            entry = 1\n",
    "            for j in range(n):\n",
    "                entry*=X[i,j]**mon[j]\n",
    "            row.append(entry)\n",
    "        rows.append(row)\n",
    "    return np.array(rows).T"
   ]
  },
  {
   "cell_type": "code",
   "execution_count": 27,
   "id": "a09865fb",
   "metadata": {},
   "outputs": [
    {
     "name": "stdout",
     "output_type": "stream",
     "text": [
      "the original matrix X:\n",
      "[[2 2]\n",
      " [0 1]\n",
      " [1 1]\n",
      " [2 4]]\n",
      "the matrix X with polynomial terms up to degree 2\n",
      "[[ 1  2  2  4  4  4]\n",
      " [ 1  0  1  0  0  1]\n",
      " [ 1  1  1  1  1  1]\n",
      " [ 1  2  4  4  8 16]]\n"
     ]
    }
   ],
   "source": [
    "X = np.array([[2,2],[0,1],[1,1],[2,4]])\n",
    "Xhat = add_poly_terms(X,2)\n",
    "print('the original matrix X:')\n",
    "print(X)\n",
    "print('the matrix X with polynomial terms up to degree 2')\n",
    "print(Xhat)"
   ]
  },
  {
   "cell_type": "markdown",
   "id": "ef745365",
   "metadata": {},
   "source": [
    "## Problem 2 Continued...\n",
    "\n",
    "Copy your code from Computational Homework 2 Problem 3 (just `J` and `DJ`) and Homework 2 Problem 4 (use the improved gradient descent using the Hessian) into the cell below. Make the following changes: \n",
    "\n",
    " - get rid of portion of code that concatenates a column of 1's on the left (our `add_poly_terms` function includes the bias term automatically)\n",
    " - add an argument `lambda_` to `J` (at the end), `DJ` (at the end) and `GD_linreg_improved` (before `max_iters`)\n",
    " - add a regularization term\n",
    " - modify the `DJ` function accordingly to account for the regularization term\n",
    " - modify the Hessian to account for the regularization term\n",
    " - print the cost every 1000 steps"
   ]
  },
  {
   "cell_type": "code",
   "execution_count": 153,
   "id": "dd10b096",
   "metadata": {},
   "outputs": [],
   "source": [
    "def J(X,y,v,lambda_):\n",
    "    ######################### your code goes here ########################\n",
    "    m = X.shape[0]\n",
    "    return ((X@v - y).T@(X@v - y))[0,0]/m + lambda_*(v.T@v)[0,0]\n",
    "    \n",
    "def DJ(X,y,v,lambda_):\n",
    "    ######################### your code goes here ########################\n",
    "    m = len(X)\n",
    "    return 2/m*(X.T@X@v - X.T@y) + lambda_ * 2 * v\n",
    "\n",
    "def GD_linreg_improved(X,y,epsilon,lambda_,max_iters = 1000000): \n",
    "    ######################### your code goes here ########################\n",
    "    m,n = X.shape\n",
    "    v = np.array([[0 for _ in range(n)]]).T\n",
    "    i=0\n",
    "    costs = []\n",
    "    while True:\n",
    "        costs.append(J(X,y,v,lambda_))\n",
    "        if i%1000==0:\n",
    "            print(f'after {i} steps the cost is {costs[i]}')\n",
    "        H = (2*X.T@X+2*lambda_*np.identity(n))/m\n",
    "        g = DJ(X,y,v,lambda_)\n",
    "        alpha = g.T@g/(g.T@H@g)\n",
    "        v = v - alpha*g\n",
    "        if (i>100 and abs(costs[i]-costs[i-100])<epsilon) or i>max_iters:\n",
    "            break\n",
    "        i+=1\n",
    "    print(f'after {i} steps the cost is {costs[i]}')\n",
    "    return v,costs"
   ]
  },
  {
   "cell_type": "code",
   "execution_count": 480,
   "id": "7e07a9d3",
   "metadata": {},
   "outputs": [
    {
     "data": {
      "application/vnd.plotly.v1+json": {
       "config": {
        "linkText": "Export to plot.ly",
        "plotlyServerURL": "https://plot.ly",
        "showLink": false
       },
       "data": [
        {
         "marker": {
          "size": 5
         },
         "mode": "markers",
         "type": "scatter3d",
         "x": [
          -3.2086823823179325,
          -3.1687613464804936,
          -3.214255628531649,
          -2.657026165844902,
          -3.8309706673875916,
          -1.664343561722083,
          -0.9178945242831558,
          -1.981035002825788,
          -1.7937113151946888,
          -1.9260441710897602,
          -1.5053754543668434,
          -2.9759004875604638,
          -1.0877202363532472,
          -1.6477394742833336,
          -0.18801192523673882,
          -1.3884718926218838,
          -0.26251030991006286,
          -1.359262469993773,
          0.5236681510388402,
          -0.25889447163995205,
          0.429577860281386,
          -0.6047651732937148,
          0.3867712704399705,
          -0.48702681057879843,
          2.212267823076846,
          0.244732666128048,
          0.6702227745512799,
          1.510563313469187,
          0.9152784296982819,
          0.25201598323328733,
          2.4534925373456273,
          2.388369937592006,
          1.9820680627123402,
          2.4126854443319905,
          2.110464198714606,
          1.6133533297365785
         ],
         "y": [
          -2.644518199913065,
          -1.5382899085360267,
          -1.2085035395414139,
          0.8752084626653813,
          1.0523031832965084,
          1.6876760194662637,
          -3.386477527179501,
          -1.981530886300722,
          -1.2340587405496317,
          -0.4786370284376456,
          1.4285790074417788,
          2.222768410469307,
          -3.294234575756981,
          -2.2664752471635885,
          -1.3814087497039502,
          -0.8053577350031791,
          0.626393791331738,
          1.5205821973918812,
          -2.485742245003116,
          -2.4212037767994614,
          -1.724802769489963,
          0.49932410868195026,
          0.8544510445159714,
          2.0624795723293707,
          -2.8499984235854945,
          -1.5204791439303902,
          -1.633110636657276,
          -0.20950947494777897,
          2.5022596181922303,
          2.0372361570544735,
          -2.480281001669092,
          -1.0986227738900753,
          -1.537159872559561,
          0.3615074960204158,
          1.7393295056070408,
          1.5890077459647562
         ],
         "z": [
          66.55935719128513,
          53.078087670704676,
          52.38884697078182,
          34.334949581111324,
          71.08169328189483,
          7.16732001037676,
          40.98711938857622,
          27.113653359066564,
          15.497443578892868,
          19.32688892433834,
          8.477750991229568,
          34.059877256768395,
          42.83131318162893,
          20.474146847987218,
          2.9763373496276886,
          12.98733469906429,
          -0.1320513916486758,
          4.868830458263838,
          12.466246256490425,
          10.481683682909132,
          5.863801719270033,
          0.9252759313131027,
          -4.8670814640658335,
          -10.044616163431314,
          51.08266301031584,
          1.5811476690822985,
          3.9146218003488498,
          10.299391434955815,
          -9.856035739096928,
          -8.792025119081181,
          50.3338895295989,
          27.282544219407058,
          19.613363864064738,
          29.51338121001575,
          21.7874802249028,
          6.977161519457205
         ]
        }
       ],
       "layout": {
        "template": {
         "data": {
          "bar": [
           {
            "error_x": {
             "color": "#2a3f5f"
            },
            "error_y": {
             "color": "#2a3f5f"
            },
            "marker": {
             "line": {
              "color": "#E5ECF6",
              "width": 0.5
             },
             "pattern": {
              "fillmode": "overlay",
              "size": 10,
              "solidity": 0.2
             }
            },
            "type": "bar"
           }
          ],
          "barpolar": [
           {
            "marker": {
             "line": {
              "color": "#E5ECF6",
              "width": 0.5
             },
             "pattern": {
              "fillmode": "overlay",
              "size": 10,
              "solidity": 0.2
             }
            },
            "type": "barpolar"
           }
          ],
          "carpet": [
           {
            "aaxis": {
             "endlinecolor": "#2a3f5f",
             "gridcolor": "white",
             "linecolor": "white",
             "minorgridcolor": "white",
             "startlinecolor": "#2a3f5f"
            },
            "baxis": {
             "endlinecolor": "#2a3f5f",
             "gridcolor": "white",
             "linecolor": "white",
             "minorgridcolor": "white",
             "startlinecolor": "#2a3f5f"
            },
            "type": "carpet"
           }
          ],
          "choropleth": [
           {
            "colorbar": {
             "outlinewidth": 0,
             "ticks": ""
            },
            "type": "choropleth"
           }
          ],
          "contour": [
           {
            "colorbar": {
             "outlinewidth": 0,
             "ticks": ""
            },
            "colorscale": [
             [
              0,
              "#0d0887"
             ],
             [
              0.1111111111111111,
              "#46039f"
             ],
             [
              0.2222222222222222,
              "#7201a8"
             ],
             [
              0.3333333333333333,
              "#9c179e"
             ],
             [
              0.4444444444444444,
              "#bd3786"
             ],
             [
              0.5555555555555556,
              "#d8576b"
             ],
             [
              0.6666666666666666,
              "#ed7953"
             ],
             [
              0.7777777777777778,
              "#fb9f3a"
             ],
             [
              0.8888888888888888,
              "#fdca26"
             ],
             [
              1,
              "#f0f921"
             ]
            ],
            "type": "contour"
           }
          ],
          "contourcarpet": [
           {
            "colorbar": {
             "outlinewidth": 0,
             "ticks": ""
            },
            "type": "contourcarpet"
           }
          ],
          "heatmap": [
           {
            "colorbar": {
             "outlinewidth": 0,
             "ticks": ""
            },
            "colorscale": [
             [
              0,
              "#0d0887"
             ],
             [
              0.1111111111111111,
              "#46039f"
             ],
             [
              0.2222222222222222,
              "#7201a8"
             ],
             [
              0.3333333333333333,
              "#9c179e"
             ],
             [
              0.4444444444444444,
              "#bd3786"
             ],
             [
              0.5555555555555556,
              "#d8576b"
             ],
             [
              0.6666666666666666,
              "#ed7953"
             ],
             [
              0.7777777777777778,
              "#fb9f3a"
             ],
             [
              0.8888888888888888,
              "#fdca26"
             ],
             [
              1,
              "#f0f921"
             ]
            ],
            "type": "heatmap"
           }
          ],
          "heatmapgl": [
           {
            "colorbar": {
             "outlinewidth": 0,
             "ticks": ""
            },
            "colorscale": [
             [
              0,
              "#0d0887"
             ],
             [
              0.1111111111111111,
              "#46039f"
             ],
             [
              0.2222222222222222,
              "#7201a8"
             ],
             [
              0.3333333333333333,
              "#9c179e"
             ],
             [
              0.4444444444444444,
              "#bd3786"
             ],
             [
              0.5555555555555556,
              "#d8576b"
             ],
             [
              0.6666666666666666,
              "#ed7953"
             ],
             [
              0.7777777777777778,
              "#fb9f3a"
             ],
             [
              0.8888888888888888,
              "#fdca26"
             ],
             [
              1,
              "#f0f921"
             ]
            ],
            "type": "heatmapgl"
           }
          ],
          "histogram": [
           {
            "marker": {
             "pattern": {
              "fillmode": "overlay",
              "size": 10,
              "solidity": 0.2
             }
            },
            "type": "histogram"
           }
          ],
          "histogram2d": [
           {
            "colorbar": {
             "outlinewidth": 0,
             "ticks": ""
            },
            "colorscale": [
             [
              0,
              "#0d0887"
             ],
             [
              0.1111111111111111,
              "#46039f"
             ],
             [
              0.2222222222222222,
              "#7201a8"
             ],
             [
              0.3333333333333333,
              "#9c179e"
             ],
             [
              0.4444444444444444,
              "#bd3786"
             ],
             [
              0.5555555555555556,
              "#d8576b"
             ],
             [
              0.6666666666666666,
              "#ed7953"
             ],
             [
              0.7777777777777778,
              "#fb9f3a"
             ],
             [
              0.8888888888888888,
              "#fdca26"
             ],
             [
              1,
              "#f0f921"
             ]
            ],
            "type": "histogram2d"
           }
          ],
          "histogram2dcontour": [
           {
            "colorbar": {
             "outlinewidth": 0,
             "ticks": ""
            },
            "colorscale": [
             [
              0,
              "#0d0887"
             ],
             [
              0.1111111111111111,
              "#46039f"
             ],
             [
              0.2222222222222222,
              "#7201a8"
             ],
             [
              0.3333333333333333,
              "#9c179e"
             ],
             [
              0.4444444444444444,
              "#bd3786"
             ],
             [
              0.5555555555555556,
              "#d8576b"
             ],
             [
              0.6666666666666666,
              "#ed7953"
             ],
             [
              0.7777777777777778,
              "#fb9f3a"
             ],
             [
              0.8888888888888888,
              "#fdca26"
             ],
             [
              1,
              "#f0f921"
             ]
            ],
            "type": "histogram2dcontour"
           }
          ],
          "mesh3d": [
           {
            "colorbar": {
             "outlinewidth": 0,
             "ticks": ""
            },
            "type": "mesh3d"
           }
          ],
          "parcoords": [
           {
            "line": {
             "colorbar": {
              "outlinewidth": 0,
              "ticks": ""
             }
            },
            "type": "parcoords"
           }
          ],
          "pie": [
           {
            "automargin": true,
            "type": "pie"
           }
          ],
          "scatter": [
           {
            "marker": {
             "colorbar": {
              "outlinewidth": 0,
              "ticks": ""
             }
            },
            "type": "scatter"
           }
          ],
          "scatter3d": [
           {
            "line": {
             "colorbar": {
              "outlinewidth": 0,
              "ticks": ""
             }
            },
            "marker": {
             "colorbar": {
              "outlinewidth": 0,
              "ticks": ""
             }
            },
            "type": "scatter3d"
           }
          ],
          "scattercarpet": [
           {
            "marker": {
             "colorbar": {
              "outlinewidth": 0,
              "ticks": ""
             }
            },
            "type": "scattercarpet"
           }
          ],
          "scattergeo": [
           {
            "marker": {
             "colorbar": {
              "outlinewidth": 0,
              "ticks": ""
             }
            },
            "type": "scattergeo"
           }
          ],
          "scattergl": [
           {
            "marker": {
             "colorbar": {
              "outlinewidth": 0,
              "ticks": ""
             }
            },
            "type": "scattergl"
           }
          ],
          "scattermapbox": [
           {
            "marker": {
             "colorbar": {
              "outlinewidth": 0,
              "ticks": ""
             }
            },
            "type": "scattermapbox"
           }
          ],
          "scatterpolar": [
           {
            "marker": {
             "colorbar": {
              "outlinewidth": 0,
              "ticks": ""
             }
            },
            "type": "scatterpolar"
           }
          ],
          "scatterpolargl": [
           {
            "marker": {
             "colorbar": {
              "outlinewidth": 0,
              "ticks": ""
             }
            },
            "type": "scatterpolargl"
           }
          ],
          "scatterternary": [
           {
            "marker": {
             "colorbar": {
              "outlinewidth": 0,
              "ticks": ""
             }
            },
            "type": "scatterternary"
           }
          ],
          "surface": [
           {
            "colorbar": {
             "outlinewidth": 0,
             "ticks": ""
            },
            "colorscale": [
             [
              0,
              "#0d0887"
             ],
             [
              0.1111111111111111,
              "#46039f"
             ],
             [
              0.2222222222222222,
              "#7201a8"
             ],
             [
              0.3333333333333333,
              "#9c179e"
             ],
             [
              0.4444444444444444,
              "#bd3786"
             ],
             [
              0.5555555555555556,
              "#d8576b"
             ],
             [
              0.6666666666666666,
              "#ed7953"
             ],
             [
              0.7777777777777778,
              "#fb9f3a"
             ],
             [
              0.8888888888888888,
              "#fdca26"
             ],
             [
              1,
              "#f0f921"
             ]
            ],
            "type": "surface"
           }
          ],
          "table": [
           {
            "cells": {
             "fill": {
              "color": "#EBF0F8"
             },
             "line": {
              "color": "white"
             }
            },
            "header": {
             "fill": {
              "color": "#C8D4E3"
             },
             "line": {
              "color": "white"
             }
            },
            "type": "table"
           }
          ]
         },
         "layout": {
          "annotationdefaults": {
           "arrowcolor": "#2a3f5f",
           "arrowhead": 0,
           "arrowwidth": 1
          },
          "autotypenumbers": "strict",
          "coloraxis": {
           "colorbar": {
            "outlinewidth": 0,
            "ticks": ""
           }
          },
          "colorscale": {
           "diverging": [
            [
             0,
             "#8e0152"
            ],
            [
             0.1,
             "#c51b7d"
            ],
            [
             0.2,
             "#de77ae"
            ],
            [
             0.3,
             "#f1b6da"
            ],
            [
             0.4,
             "#fde0ef"
            ],
            [
             0.5,
             "#f7f7f7"
            ],
            [
             0.6,
             "#e6f5d0"
            ],
            [
             0.7,
             "#b8e186"
            ],
            [
             0.8,
             "#7fbc41"
            ],
            [
             0.9,
             "#4d9221"
            ],
            [
             1,
             "#276419"
            ]
           ],
           "sequential": [
            [
             0,
             "#0d0887"
            ],
            [
             0.1111111111111111,
             "#46039f"
            ],
            [
             0.2222222222222222,
             "#7201a8"
            ],
            [
             0.3333333333333333,
             "#9c179e"
            ],
            [
             0.4444444444444444,
             "#bd3786"
            ],
            [
             0.5555555555555556,
             "#d8576b"
            ],
            [
             0.6666666666666666,
             "#ed7953"
            ],
            [
             0.7777777777777778,
             "#fb9f3a"
            ],
            [
             0.8888888888888888,
             "#fdca26"
            ],
            [
             1,
             "#f0f921"
            ]
           ],
           "sequentialminus": [
            [
             0,
             "#0d0887"
            ],
            [
             0.1111111111111111,
             "#46039f"
            ],
            [
             0.2222222222222222,
             "#7201a8"
            ],
            [
             0.3333333333333333,
             "#9c179e"
            ],
            [
             0.4444444444444444,
             "#bd3786"
            ],
            [
             0.5555555555555556,
             "#d8576b"
            ],
            [
             0.6666666666666666,
             "#ed7953"
            ],
            [
             0.7777777777777778,
             "#fb9f3a"
            ],
            [
             0.8888888888888888,
             "#fdca26"
            ],
            [
             1,
             "#f0f921"
            ]
           ]
          },
          "colorway": [
           "#636efa",
           "#EF553B",
           "#00cc96",
           "#ab63fa",
           "#FFA15A",
           "#19d3f3",
           "#FF6692",
           "#B6E880",
           "#FF97FF",
           "#FECB52"
          ],
          "font": {
           "color": "#2a3f5f"
          },
          "geo": {
           "bgcolor": "white",
           "lakecolor": "white",
           "landcolor": "#E5ECF6",
           "showlakes": true,
           "showland": true,
           "subunitcolor": "white"
          },
          "hoverlabel": {
           "align": "left"
          },
          "hovermode": "closest",
          "mapbox": {
           "style": "light"
          },
          "paper_bgcolor": "white",
          "plot_bgcolor": "#E5ECF6",
          "polar": {
           "angularaxis": {
            "gridcolor": "white",
            "linecolor": "white",
            "ticks": ""
           },
           "bgcolor": "#E5ECF6",
           "radialaxis": {
            "gridcolor": "white",
            "linecolor": "white",
            "ticks": ""
           }
          },
          "scene": {
           "xaxis": {
            "backgroundcolor": "#E5ECF6",
            "gridcolor": "white",
            "gridwidth": 2,
            "linecolor": "white",
            "showbackground": true,
            "ticks": "",
            "zerolinecolor": "white"
           },
           "yaxis": {
            "backgroundcolor": "#E5ECF6",
            "gridcolor": "white",
            "gridwidth": 2,
            "linecolor": "white",
            "showbackground": true,
            "ticks": "",
            "zerolinecolor": "white"
           },
           "zaxis": {
            "backgroundcolor": "#E5ECF6",
            "gridcolor": "white",
            "gridwidth": 2,
            "linecolor": "white",
            "showbackground": true,
            "ticks": "",
            "zerolinecolor": "white"
           }
          },
          "shapedefaults": {
           "line": {
            "color": "#2a3f5f"
           }
          },
          "ternary": {
           "aaxis": {
            "gridcolor": "white",
            "linecolor": "white",
            "ticks": ""
           },
           "baxis": {
            "gridcolor": "white",
            "linecolor": "white",
            "ticks": ""
           },
           "bgcolor": "#E5ECF6",
           "caxis": {
            "gridcolor": "white",
            "linecolor": "white",
            "ticks": ""
           }
          },
          "title": {
           "x": 0.05
          },
          "xaxis": {
           "automargin": true,
           "gridcolor": "white",
           "linecolor": "white",
           "ticks": "",
           "title": {
            "standoff": 15
           },
           "zerolinecolor": "white",
           "zerolinewidth": 2
          },
          "yaxis": {
           "automargin": true,
           "gridcolor": "white",
           "linecolor": "white",
           "ticks": "",
           "title": {
            "standoff": 15
           },
           "zerolinecolor": "white",
           "zerolinewidth": 2
          }
         }
        }
       }
      },
      "text/html": [
       "<div>                            <div id=\"45c707f2-9731-4872-a07b-36dd7d3c170a\" class=\"plotly-graph-div\" style=\"height:525px; width:100%;\"></div>            <script type=\"text/javascript\">                require([\"plotly\"], function(Plotly) {                    window.PLOTLYENV=window.PLOTLYENV || {};                                    if (document.getElementById(\"45c707f2-9731-4872-a07b-36dd7d3c170a\")) {                    Plotly.newPlot(                        \"45c707f2-9731-4872-a07b-36dd7d3c170a\",                        [{\"marker\":{\"size\":5},\"mode\":\"markers\",\"x\":[-3.2086823823179325,-3.1687613464804936,-3.214255628531649,-2.657026165844902,-3.8309706673875916,-1.664343561722083,-0.9178945242831558,-1.981035002825788,-1.7937113151946888,-1.9260441710897602,-1.5053754543668434,-2.9759004875604638,-1.0877202363532472,-1.6477394742833336,-0.18801192523673882,-1.3884718926218838,-0.26251030991006286,-1.359262469993773,0.5236681510388402,-0.25889447163995205,0.429577860281386,-0.6047651732937148,0.3867712704399705,-0.48702681057879843,2.212267823076846,0.244732666128048,0.6702227745512799,1.510563313469187,0.9152784296982819,0.25201598323328733,2.4534925373456273,2.388369937592006,1.9820680627123402,2.4126854443319905,2.110464198714606,1.6133533297365785],\"y\":[-2.644518199913065,-1.5382899085360267,-1.2085035395414139,0.8752084626653813,1.0523031832965084,1.6876760194662637,-3.386477527179501,-1.981530886300722,-1.2340587405496317,-0.4786370284376456,1.4285790074417788,2.222768410469307,-3.294234575756981,-2.2664752471635885,-1.3814087497039502,-0.8053577350031791,0.626393791331738,1.5205821973918812,-2.485742245003116,-2.4212037767994614,-1.724802769489963,0.49932410868195026,0.8544510445159714,2.0624795723293707,-2.8499984235854945,-1.5204791439303902,-1.633110636657276,-0.20950947494777897,2.5022596181922303,2.0372361570544735,-2.480281001669092,-1.0986227738900753,-1.537159872559561,0.3615074960204158,1.7393295056070408,1.5890077459647562],\"z\":[66.55935719128513,53.078087670704676,52.38884697078182,34.334949581111324,71.08169328189483,7.16732001037676,40.98711938857622,27.113653359066564,15.497443578892868,19.32688892433834,8.477750991229568,34.059877256768395,42.83131318162893,20.474146847987218,2.9763373496276886,12.98733469906429,-0.1320513916486758,4.868830458263838,12.466246256490425,10.481683682909132,5.863801719270033,0.9252759313131027,-4.8670814640658335,-10.044616163431314,51.08266301031584,1.5811476690822985,3.9146218003488498,10.299391434955815,-9.856035739096928,-8.792025119081181,50.3338895295989,27.282544219407058,19.613363864064738,29.51338121001575,21.7874802249028,6.977161519457205],\"type\":\"scatter3d\"}],                        {\"template\":{\"data\":{\"barpolar\":[{\"marker\":{\"line\":{\"color\":\"#E5ECF6\",\"width\":0.5},\"pattern\":{\"fillmode\":\"overlay\",\"size\":10,\"solidity\":0.2}},\"type\":\"barpolar\"}],\"bar\":[{\"error_x\":{\"color\":\"#2a3f5f\"},\"error_y\":{\"color\":\"#2a3f5f\"},\"marker\":{\"line\":{\"color\":\"#E5ECF6\",\"width\":0.5},\"pattern\":{\"fillmode\":\"overlay\",\"size\":10,\"solidity\":0.2}},\"type\":\"bar\"}],\"carpet\":[{\"aaxis\":{\"endlinecolor\":\"#2a3f5f\",\"gridcolor\":\"white\",\"linecolor\":\"white\",\"minorgridcolor\":\"white\",\"startlinecolor\":\"#2a3f5f\"},\"baxis\":{\"endlinecolor\":\"#2a3f5f\",\"gridcolor\":\"white\",\"linecolor\":\"white\",\"minorgridcolor\":\"white\",\"startlinecolor\":\"#2a3f5f\"},\"type\":\"carpet\"}],\"choropleth\":[{\"colorbar\":{\"outlinewidth\":0,\"ticks\":\"\"},\"type\":\"choropleth\"}],\"contourcarpet\":[{\"colorbar\":{\"outlinewidth\":0,\"ticks\":\"\"},\"type\":\"contourcarpet\"}],\"contour\":[{\"colorbar\":{\"outlinewidth\":0,\"ticks\":\"\"},\"colorscale\":[[0.0,\"#0d0887\"],[0.1111111111111111,\"#46039f\"],[0.2222222222222222,\"#7201a8\"],[0.3333333333333333,\"#9c179e\"],[0.4444444444444444,\"#bd3786\"],[0.5555555555555556,\"#d8576b\"],[0.6666666666666666,\"#ed7953\"],[0.7777777777777778,\"#fb9f3a\"],[0.8888888888888888,\"#fdca26\"],[1.0,\"#f0f921\"]],\"type\":\"contour\"}],\"heatmapgl\":[{\"colorbar\":{\"outlinewidth\":0,\"ticks\":\"\"},\"colorscale\":[[0.0,\"#0d0887\"],[0.1111111111111111,\"#46039f\"],[0.2222222222222222,\"#7201a8\"],[0.3333333333333333,\"#9c179e\"],[0.4444444444444444,\"#bd3786\"],[0.5555555555555556,\"#d8576b\"],[0.6666666666666666,\"#ed7953\"],[0.7777777777777778,\"#fb9f3a\"],[0.8888888888888888,\"#fdca26\"],[1.0,\"#f0f921\"]],\"type\":\"heatmapgl\"}],\"heatmap\":[{\"colorbar\":{\"outlinewidth\":0,\"ticks\":\"\"},\"colorscale\":[[0.0,\"#0d0887\"],[0.1111111111111111,\"#46039f\"],[0.2222222222222222,\"#7201a8\"],[0.3333333333333333,\"#9c179e\"],[0.4444444444444444,\"#bd3786\"],[0.5555555555555556,\"#d8576b\"],[0.6666666666666666,\"#ed7953\"],[0.7777777777777778,\"#fb9f3a\"],[0.8888888888888888,\"#fdca26\"],[1.0,\"#f0f921\"]],\"type\":\"heatmap\"}],\"histogram2dcontour\":[{\"colorbar\":{\"outlinewidth\":0,\"ticks\":\"\"},\"colorscale\":[[0.0,\"#0d0887\"],[0.1111111111111111,\"#46039f\"],[0.2222222222222222,\"#7201a8\"],[0.3333333333333333,\"#9c179e\"],[0.4444444444444444,\"#bd3786\"],[0.5555555555555556,\"#d8576b\"],[0.6666666666666666,\"#ed7953\"],[0.7777777777777778,\"#fb9f3a\"],[0.8888888888888888,\"#fdca26\"],[1.0,\"#f0f921\"]],\"type\":\"histogram2dcontour\"}],\"histogram2d\":[{\"colorbar\":{\"outlinewidth\":0,\"ticks\":\"\"},\"colorscale\":[[0.0,\"#0d0887\"],[0.1111111111111111,\"#46039f\"],[0.2222222222222222,\"#7201a8\"],[0.3333333333333333,\"#9c179e\"],[0.4444444444444444,\"#bd3786\"],[0.5555555555555556,\"#d8576b\"],[0.6666666666666666,\"#ed7953\"],[0.7777777777777778,\"#fb9f3a\"],[0.8888888888888888,\"#fdca26\"],[1.0,\"#f0f921\"]],\"type\":\"histogram2d\"}],\"histogram\":[{\"marker\":{\"pattern\":{\"fillmode\":\"overlay\",\"size\":10,\"solidity\":0.2}},\"type\":\"histogram\"}],\"mesh3d\":[{\"colorbar\":{\"outlinewidth\":0,\"ticks\":\"\"},\"type\":\"mesh3d\"}],\"parcoords\":[{\"line\":{\"colorbar\":{\"outlinewidth\":0,\"ticks\":\"\"}},\"type\":\"parcoords\"}],\"pie\":[{\"automargin\":true,\"type\":\"pie\"}],\"scatter3d\":[{\"line\":{\"colorbar\":{\"outlinewidth\":0,\"ticks\":\"\"}},\"marker\":{\"colorbar\":{\"outlinewidth\":0,\"ticks\":\"\"}},\"type\":\"scatter3d\"}],\"scattercarpet\":[{\"marker\":{\"colorbar\":{\"outlinewidth\":0,\"ticks\":\"\"}},\"type\":\"scattercarpet\"}],\"scattergeo\":[{\"marker\":{\"colorbar\":{\"outlinewidth\":0,\"ticks\":\"\"}},\"type\":\"scattergeo\"}],\"scattergl\":[{\"marker\":{\"colorbar\":{\"outlinewidth\":0,\"ticks\":\"\"}},\"type\":\"scattergl\"}],\"scattermapbox\":[{\"marker\":{\"colorbar\":{\"outlinewidth\":0,\"ticks\":\"\"}},\"type\":\"scattermapbox\"}],\"scatterpolargl\":[{\"marker\":{\"colorbar\":{\"outlinewidth\":0,\"ticks\":\"\"}},\"type\":\"scatterpolargl\"}],\"scatterpolar\":[{\"marker\":{\"colorbar\":{\"outlinewidth\":0,\"ticks\":\"\"}},\"type\":\"scatterpolar\"}],\"scatter\":[{\"marker\":{\"colorbar\":{\"outlinewidth\":0,\"ticks\":\"\"}},\"type\":\"scatter\"}],\"scatterternary\":[{\"marker\":{\"colorbar\":{\"outlinewidth\":0,\"ticks\":\"\"}},\"type\":\"scatterternary\"}],\"surface\":[{\"colorbar\":{\"outlinewidth\":0,\"ticks\":\"\"},\"colorscale\":[[0.0,\"#0d0887\"],[0.1111111111111111,\"#46039f\"],[0.2222222222222222,\"#7201a8\"],[0.3333333333333333,\"#9c179e\"],[0.4444444444444444,\"#bd3786\"],[0.5555555555555556,\"#d8576b\"],[0.6666666666666666,\"#ed7953\"],[0.7777777777777778,\"#fb9f3a\"],[0.8888888888888888,\"#fdca26\"],[1.0,\"#f0f921\"]],\"type\":\"surface\"}],\"table\":[{\"cells\":{\"fill\":{\"color\":\"#EBF0F8\"},\"line\":{\"color\":\"white\"}},\"header\":{\"fill\":{\"color\":\"#C8D4E3\"},\"line\":{\"color\":\"white\"}},\"type\":\"table\"}]},\"layout\":{\"annotationdefaults\":{\"arrowcolor\":\"#2a3f5f\",\"arrowhead\":0,\"arrowwidth\":1},\"autotypenumbers\":\"strict\",\"coloraxis\":{\"colorbar\":{\"outlinewidth\":0,\"ticks\":\"\"}},\"colorscale\":{\"diverging\":[[0,\"#8e0152\"],[0.1,\"#c51b7d\"],[0.2,\"#de77ae\"],[0.3,\"#f1b6da\"],[0.4,\"#fde0ef\"],[0.5,\"#f7f7f7\"],[0.6,\"#e6f5d0\"],[0.7,\"#b8e186\"],[0.8,\"#7fbc41\"],[0.9,\"#4d9221\"],[1,\"#276419\"]],\"sequential\":[[0.0,\"#0d0887\"],[0.1111111111111111,\"#46039f\"],[0.2222222222222222,\"#7201a8\"],[0.3333333333333333,\"#9c179e\"],[0.4444444444444444,\"#bd3786\"],[0.5555555555555556,\"#d8576b\"],[0.6666666666666666,\"#ed7953\"],[0.7777777777777778,\"#fb9f3a\"],[0.8888888888888888,\"#fdca26\"],[1.0,\"#f0f921\"]],\"sequentialminus\":[[0.0,\"#0d0887\"],[0.1111111111111111,\"#46039f\"],[0.2222222222222222,\"#7201a8\"],[0.3333333333333333,\"#9c179e\"],[0.4444444444444444,\"#bd3786\"],[0.5555555555555556,\"#d8576b\"],[0.6666666666666666,\"#ed7953\"],[0.7777777777777778,\"#fb9f3a\"],[0.8888888888888888,\"#fdca26\"],[1.0,\"#f0f921\"]]},\"colorway\":[\"#636efa\",\"#EF553B\",\"#00cc96\",\"#ab63fa\",\"#FFA15A\",\"#19d3f3\",\"#FF6692\",\"#B6E880\",\"#FF97FF\",\"#FECB52\"],\"font\":{\"color\":\"#2a3f5f\"},\"geo\":{\"bgcolor\":\"white\",\"lakecolor\":\"white\",\"landcolor\":\"#E5ECF6\",\"showlakes\":true,\"showland\":true,\"subunitcolor\":\"white\"},\"hoverlabel\":{\"align\":\"left\"},\"hovermode\":\"closest\",\"mapbox\":{\"style\":\"light\"},\"paper_bgcolor\":\"white\",\"plot_bgcolor\":\"#E5ECF6\",\"polar\":{\"angularaxis\":{\"gridcolor\":\"white\",\"linecolor\":\"white\",\"ticks\":\"\"},\"bgcolor\":\"#E5ECF6\",\"radialaxis\":{\"gridcolor\":\"white\",\"linecolor\":\"white\",\"ticks\":\"\"}},\"scene\":{\"xaxis\":{\"backgroundcolor\":\"#E5ECF6\",\"gridcolor\":\"white\",\"gridwidth\":2,\"linecolor\":\"white\",\"showbackground\":true,\"ticks\":\"\",\"zerolinecolor\":\"white\"},\"yaxis\":{\"backgroundcolor\":\"#E5ECF6\",\"gridcolor\":\"white\",\"gridwidth\":2,\"linecolor\":\"white\",\"showbackground\":true,\"ticks\":\"\",\"zerolinecolor\":\"white\"},\"zaxis\":{\"backgroundcolor\":\"#E5ECF6\",\"gridcolor\":\"white\",\"gridwidth\":2,\"linecolor\":\"white\",\"showbackground\":true,\"ticks\":\"\",\"zerolinecolor\":\"white\"}},\"shapedefaults\":{\"line\":{\"color\":\"#2a3f5f\"}},\"ternary\":{\"aaxis\":{\"gridcolor\":\"white\",\"linecolor\":\"white\",\"ticks\":\"\"},\"baxis\":{\"gridcolor\":\"white\",\"linecolor\":\"white\",\"ticks\":\"\"},\"bgcolor\":\"#E5ECF6\",\"caxis\":{\"gridcolor\":\"white\",\"linecolor\":\"white\",\"ticks\":\"\"}},\"title\":{\"x\":0.05},\"xaxis\":{\"automargin\":true,\"gridcolor\":\"white\",\"linecolor\":\"white\",\"ticks\":\"\",\"title\":{\"standoff\":15},\"zerolinecolor\":\"white\",\"zerolinewidth\":2},\"yaxis\":{\"automargin\":true,\"gridcolor\":\"white\",\"linecolor\":\"white\",\"ticks\":\"\",\"title\":{\"standoff\":15},\"zerolinecolor\":\"white\",\"zerolinewidth\":2}}}},                        {\"responsive\": true}                    ).then(function(){\n",
       "                            \n",
       "var gd = document.getElementById('45c707f2-9731-4872-a07b-36dd7d3c170a');\n",
       "var x = new MutationObserver(function (mutations, observer) {{\n",
       "        var display = window.getComputedStyle(gd).display;\n",
       "        if (!display || display === 'none') {{\n",
       "            console.log([gd, 'removed!']);\n",
       "            Plotly.purge(gd);\n",
       "            observer.disconnect();\n",
       "        }}\n",
       "}});\n",
       "\n",
       "// Listen for the removal of the full notebook cells\n",
       "var notebookContainer = gd.closest('#notebook-container');\n",
       "if (notebookContainer) {{\n",
       "    x.observe(notebookContainer, {childList: true});\n",
       "}}\n",
       "\n",
       "// Listen for the clearing of the current output cell\n",
       "var outputEl = gd.closest('.output');\n",
       "if (outputEl) {{\n",
       "    x.observe(outputEl, {childList: true});\n",
       "}}\n",
       "\n",
       "                        })                };                });            </script>        </div>"
      ]
     },
     "metadata": {},
     "output_type": "display_data"
    }
   ],
   "source": [
    "# Defining a dataset to test the model (no input needed)\n",
    "points = []\n",
    "points_val = []\n",
    "points_test = []\n",
    "for i in range(-3,3):\n",
    "    for j in range(-3,3):\n",
    "        points.append([i+np.random.normal(0,.5),j+np.random.normal(0,.5)])\n",
    "        points_val.append([i+np.random.normal(0,.5),j+np.random.normal(0,.5)])\n",
    "        points_test.append([i+np.random.normal(0,.5),j+np.random.normal(0,.5)])\n",
    "X = np.array(points)\n",
    "def p_data(p):\n",
    "    return 5*p[0]**2 - p[1]**3 + np.random.normal(0,2)\n",
    "y = np.array([[p_data(p)] for p in X])\n",
    "X_val = np.array(points_val)\n",
    "y_val = np.array([[p_data(p)] for p in X_val])\n",
    "X_test = np.array(points_test)\n",
    "y_test = np.array([[p_data(p)] for p in X_test])\n",
    "# plotting training set\n",
    "plot_figure = go.Figure(data=[go.Scatter3d(x=X[:,0], y=X[:,1], z=[r[0] for r in y], mode='markers',marker=dict(size=5))])\n",
    "plotly.offline.iplot(plot_figure)"
   ]
  },
  {
   "cell_type": "markdown",
   "id": "281559ee",
   "metadata": {},
   "source": [
    "## Problem 2 Continued...\n",
    "\n",
    "Next we run our gradient descent algorithm. First run the following 5 cells with `lambda_ = 0` and observe how the model performs. Adjust the value of `lambda_` until you find a good fit (not overfit, not underfit). This can be determined by comparing training set performance, validation set performance, and test set performance by following the procedure explained in lecture. Explain in the markdown cell at the end the relationship between the values of `degree` and of `lambda_` and whether the model overfits or underfits. Things to consider: \n",
    "\n",
    " - Experiment with different values of `lambda_` with the given `degree`. \n",
    " - Now experiment with the `degree`. \n",
    " - Can you find an optimal choice of both? \n",
    " - Does the effect of `lambda` change based on your choice of `degree`?"
   ]
  },
  {
   "cell_type": "code",
   "execution_count": 561,
   "id": "61de3cef",
   "metadata": {
    "scrolled": true
   },
   "outputs": [
    {
     "name": "stdout",
     "output_type": "stream",
     "text": [
      "number of features in Xhat: 66\n",
      "after 0 steps the cost is 871.6780134182211\n",
      "after 1000 steps the cost is 146.31393274653445\n",
      "after 2000 steps the cost is 133.54920190116607\n",
      "after 3000 steps the cost is 126.4112786256797\n",
      "after 4000 steps the cost is 121.09650667170892\n",
      "after 5000 steps the cost is 116.7267595813808\n",
      "after 6000 steps the cost is 112.96786558368802\n",
      "after 7000 steps the cost is 109.64074015369351\n",
      "after 8000 steps the cost is 106.6346290907977\n",
      "after 9000 steps the cost is 103.87668873313883\n",
      "after 10000 steps the cost is 101.31720163731572\n",
      "after 11000 steps the cost is 98.92124800334584\n",
      "after 12000 steps the cost is 96.66368706979071\n",
      "after 13000 steps the cost is 94.52600377949317\n",
      "after 14000 steps the cost is 92.49426263893318\n",
      "after 15000 steps the cost is 90.55774505390552\n",
      "after 16000 steps the cost is 88.70802288061336\n",
      "after 17000 steps the cost is 86.93831835857489\n",
      "after 18000 steps the cost is 85.24305643243969\n",
      "after 19000 steps the cost is 83.6175486682201\n",
      "after 20000 steps the cost is 82.05776841815711\n",
      "after 21000 steps the cost is 80.56018990395296\n",
      "after 22000 steps the cost is 79.12167240912868\n",
      "after 23000 steps the cost is 77.73937648011784\n",
      "after 24000 steps the cost is 76.41070293735476\n",
      "after 25000 steps the cost is 75.13324819220037\n",
      "after 26000 steps the cost is 73.9047712536937\n",
      "after 27000 steps the cost is 72.72316913789193\n",
      "after 28000 steps the cost is 71.58645833177374\n",
      "after 29000 steps the cost is 70.49276063314187\n",
      "after 30000 steps the cost is 69.44029216486541\n",
      "after 31000 steps the cost is 68.4273547005184\n",
      "after 32000 steps the cost is 67.45232868228085\n",
      "after 33000 steps the cost is 66.51366748578039\n",
      "after 34000 steps the cost is 65.60989261192866\n",
      "after 35000 steps the cost is 64.73958957305558\n",
      "after 36000 steps the cost is 63.901404307727084\n",
      "after 37000 steps the cost is 63.094040001649596\n",
      "after 38000 steps the cost is 62.31625422627534\n",
      "after 39000 steps the cost is 61.56685633142529\n",
      "after 40000 steps the cost is 60.84470504323058\n",
      "after 41000 steps the cost is 60.148706232974455\n",
      "after 42000 steps the cost is 59.477810830532775\n",
      "after 43000 steps the cost is 58.83101286171413\n",
      "after 44000 steps the cost is 58.20734759500111\n",
      "after 45000 steps the cost is 57.6058897851875\n",
      "after 46000 steps the cost is 57.025752004949936\n",
      "after 47000 steps the cost is 56.46608305745236\n",
      "after 48000 steps the cost is 55.926066462234125\n",
      "after 49000 steps the cost is 55.404919010095405\n",
      "after 50000 steps the cost is 54.90188938312885\n",
      "after 51000 steps the cost is 54.41625683528191\n",
      "after 52000 steps the cost is 53.94732992963696\n",
      "after 53000 steps the cost is 53.49444533072002\n",
      "after 54000 steps the cost is 53.056966647878866\n",
      "after 55000 steps the cost is 52.634283328000265\n",
      "after 56000 steps the cost is 52.225809594698866\n",
      "after 57000 steps the cost is 51.830983431882686\n",
      "after 58000 steps the cost is 51.44926561051627\n",
      "after 59000 steps the cost is 51.080138755305\n",
      "after 60000 steps the cost is 50.72310645058253\n",
      "after 61000 steps the cost is 50.37769238323392\n",
      "after 62000 steps the cost is 50.0434395210352\n",
      "after 63000 steps the cost is 49.71990932522915\n",
      "after 64000 steps the cost is 49.406680995479896\n",
      "after 65000 steps the cost is 49.10335074558936\n",
      "after 66000 steps the cost is 48.80953110985404\n",
      "after 67000 steps the cost is 48.52485027759706\n",
      "after 68000 steps the cost is 48.248951454897615\n",
      "after 69000 steps the cost is 47.981492252814434\n",
      "after 70000 steps the cost is 47.72214410052257\n",
      "after 71000 steps the cost is 47.4705916828875\n",
      "after 72000 steps the cost is 47.22653240048183\n",
      "after 73000 steps the cost is 46.98967585235043\n",
      "after 74000 steps the cost is 46.75974333980345\n",
      "after 75000 steps the cost is 46.536467390528664\n",
      "after 76000 steps the cost is 46.319591301750464\n",
      "after 77000 steps the cost is 46.10886870269452\n",
      "after 78000 steps the cost is 45.904063134472395\n",
      "after 79000 steps the cost is 45.70494764775309\n",
      "after 80000 steps the cost is 45.511304416011704\n",
      "after 81000 steps the cost is 45.322924365176945\n",
      "after 82000 steps the cost is 45.13960681844593\n",
      "after 83000 steps the cost is 44.96115915510937\n",
      "after 84000 steps the cost is 44.78739648370825\n",
      "after 85000 steps the cost is 44.61814132857569\n",
      "after 86000 steps the cost is 44.45322332887805\n",
      "after 87000 steps the cost is 44.292478949906936\n",
      "after 88000 steps the cost is 44.13575120642296\n",
      "after 89000 steps the cost is 43.98288939707197\n",
      "after 90000 steps the cost is 43.83374884975008\n",
      "after 91000 steps the cost is 43.68819067734359\n",
      "after 92000 steps the cost is 43.54608154307837\n",
      "after 93000 steps the cost is 43.40729343582268\n",
      "after 94000 steps the cost is 43.271703454515965\n",
      "after 95000 steps the cost is 43.139193601252934\n",
      "after 96000 steps the cost is 43.00965058270804\n",
      "after 97000 steps the cost is 42.88296561968242\n",
      "after 98000 steps the cost is 42.75903426462736\n",
      "after 99000 steps the cost is 42.63775622632134\n",
      "after 100000 steps the cost is 42.519035201715525\n",
      "after 101000 steps the cost is 42.40277871472728\n",
      "after 102000 steps the cost is 42.28889796162999\n",
      "after 103000 steps the cost is 42.17730766239895\n",
      "after 104000 steps the cost is 42.06792591865747\n",
      "after 105000 steps the cost is 41.96067407690933\n",
      "after 106000 steps the cost is 41.85547659740739\n",
      "after 107000 steps the cost is 41.7522609284307\n",
      "after 108000 steps the cost is 41.65095738580523\n",
      "after 108252 steps the cost is 41.62572254941477\n",
      "unregularized cost on training set: 41.62562264317307\n",
      "unregularized cost on validation set: 929.4741102177427\n"
     ]
    }
   ],
   "source": [
    "# this by default fits a model without regularization (lambda_ = 0)\n",
    "# INPUT NEEDED\n",
    "# pick appropriate values for degree and lambda_ (can also change epsilon if needed)\n",
    "epsilon = .01\n",
    "degree = 10\n",
    "lambda_ = 0\n",
    "Xhat = add_poly_terms(X,degree)\n",
    "print(f'number of features in Xhat: {Xhat.shape[1]}')\n",
    "v,costs = GD_linreg_improved(Xhat,y,epsilon,lambda_)\n",
    "print(f'unregularized cost on training set: {J(Xhat,y,v,0)}')\n",
    "# Computing the validation set error (no input needed)\n",
    "Xhat_val = add_poly_terms(X_val,degree)\n",
    "print(f'unregularized cost on validation set: {J(Xhat_val,y_val,v,0)}')"
   ]
  },
  {
   "cell_type": "code",
   "execution_count": 562,
   "id": "bb584958",
   "metadata": {},
   "outputs": [
    {
     "name": "stdout",
     "output_type": "stream",
     "text": [
      "unregularized cost on test set: 9977.927591467722\n"
     ]
    }
   ],
   "source": [
    "# Computing the test set error (no input needed)\n",
    "Xhat_test = add_poly_terms(X_test,degree)\n",
    "print(f'unregularized cost on test set: {J(Xhat_test,y_test,v,0)}')"
   ]
  },
  {
   "cell_type": "code",
   "execution_count": 563,
   "id": "61d83c39",
   "metadata": {},
   "outputs": [
    {
     "data": {
      "application/vnd.plotly.v1+json": {
       "config": {
        "linkText": "Export to plot.ly",
        "plotlyServerURL": "https://plot.ly",
        "showLink": false
       },
       "data": [
        {
         "marker": {
          "size": 5
         },
         "mode": "markers",
         "type": "scatter3d",
         "x": [
          -3.2086823823179325,
          -3.1687613464804936,
          -3.214255628531649,
          -2.657026165844902,
          -3.8309706673875916,
          -1.664343561722083,
          -0.9178945242831558,
          -1.981035002825788,
          -1.7937113151946888,
          -1.9260441710897602,
          -1.5053754543668434,
          -2.9759004875604638,
          -1.0877202363532472,
          -1.6477394742833336,
          -0.18801192523673882,
          -1.3884718926218838,
          -0.26251030991006286,
          -1.359262469993773,
          0.5236681510388402,
          -0.25889447163995205,
          0.429577860281386,
          -0.6047651732937148,
          0.3867712704399705,
          -0.48702681057879843,
          2.212267823076846,
          0.244732666128048,
          0.6702227745512799,
          1.510563313469187,
          0.9152784296982819,
          0.25201598323328733,
          2.4534925373456273,
          2.388369937592006,
          1.9820680627123402,
          2.4126854443319905,
          2.110464198714606,
          1.6133533297365785
         ],
         "y": [
          -2.644518199913065,
          -1.5382899085360267,
          -1.2085035395414139,
          0.8752084626653813,
          1.0523031832965084,
          1.6876760194662637,
          -3.386477527179501,
          -1.981530886300722,
          -1.2340587405496317,
          -0.4786370284376456,
          1.4285790074417788,
          2.222768410469307,
          -3.294234575756981,
          -2.2664752471635885,
          -1.3814087497039502,
          -0.8053577350031791,
          0.626393791331738,
          1.5205821973918812,
          -2.485742245003116,
          -2.4212037767994614,
          -1.724802769489963,
          0.49932410868195026,
          0.8544510445159714,
          2.0624795723293707,
          -2.8499984235854945,
          -1.5204791439303902,
          -1.633110636657276,
          -0.20950947494777897,
          2.5022596181922303,
          2.0372361570544735,
          -2.480281001669092,
          -1.0986227738900753,
          -1.537159872559561,
          0.3615074960204158,
          1.7393295056070408,
          1.5890077459647562
         ],
         "z": [
          66.55935719128513,
          53.078087670704676,
          52.38884697078182,
          34.334949581111324,
          71.08169328189483,
          7.16732001037676,
          40.98711938857622,
          27.113653359066564,
          15.497443578892868,
          19.32688892433834,
          8.477750991229568,
          34.059877256768395,
          42.83131318162893,
          20.474146847987218,
          2.9763373496276886,
          12.98733469906429,
          -0.1320513916486758,
          4.868830458263838,
          12.466246256490425,
          10.481683682909132,
          5.863801719270033,
          0.9252759313131027,
          -4.8670814640658335,
          -10.044616163431314,
          51.08266301031584,
          1.5811476690822985,
          3.9146218003488498,
          10.299391434955815,
          -9.856035739096928,
          -8.792025119081181,
          50.3338895295989,
          27.282544219407058,
          19.613363864064738,
          29.51338121001575,
          21.7874802249028,
          6.977161519457205
         ]
        },
        {
         "opacity": 0.5,
         "showscale": false,
         "type": "surface",
         "x": [
          [
           -3.8309706673875916,
           -3.8309706673875916,
           -3.8309706673875916,
           -3.8309706673875916,
           -3.8309706673875916,
           -3.8309706673875916,
           -3.8309706673875916,
           -3.8309706673875916,
           -3.8309706673875916,
           -3.8309706673875916,
           -3.8309706673875916,
           -3.8309706673875916,
           -3.8309706673875916,
           -3.8309706673875916,
           -3.8309706673875916,
           -3.8309706673875916,
           -3.8309706673875916,
           -3.8309706673875916,
           -3.8309706673875916,
           -3.8309706673875916,
           -3.8309706673875916,
           -3.8309706673875916,
           -3.8309706673875916,
           -3.8309706673875916,
           -3.8309706673875916,
           -3.8309706673875916,
           -3.8309706673875916,
           -3.8309706673875916,
           -3.8309706673875916,
           -3.8309706673875916
          ],
          [
           -3.61426503963817,
           -3.61426503963817,
           -3.61426503963817,
           -3.61426503963817,
           -3.61426503963817,
           -3.61426503963817,
           -3.61426503963817,
           -3.61426503963817,
           -3.61426503963817,
           -3.61426503963817,
           -3.61426503963817,
           -3.61426503963817,
           -3.61426503963817,
           -3.61426503963817,
           -3.61426503963817,
           -3.61426503963817,
           -3.61426503963817,
           -3.61426503963817,
           -3.61426503963817,
           -3.61426503963817,
           -3.61426503963817,
           -3.61426503963817,
           -3.61426503963817,
           -3.61426503963817,
           -3.61426503963817,
           -3.61426503963817,
           -3.61426503963817,
           -3.61426503963817,
           -3.61426503963817,
           -3.61426503963817
          ],
          [
           -3.397559411888749,
           -3.397559411888749,
           -3.397559411888749,
           -3.397559411888749,
           -3.397559411888749,
           -3.397559411888749,
           -3.397559411888749,
           -3.397559411888749,
           -3.397559411888749,
           -3.397559411888749,
           -3.397559411888749,
           -3.397559411888749,
           -3.397559411888749,
           -3.397559411888749,
           -3.397559411888749,
           -3.397559411888749,
           -3.397559411888749,
           -3.397559411888749,
           -3.397559411888749,
           -3.397559411888749,
           -3.397559411888749,
           -3.397559411888749,
           -3.397559411888749,
           -3.397559411888749,
           -3.397559411888749,
           -3.397559411888749,
           -3.397559411888749,
           -3.397559411888749,
           -3.397559411888749,
           -3.397559411888749
          ],
          [
           -3.1808537841393276,
           -3.1808537841393276,
           -3.1808537841393276,
           -3.1808537841393276,
           -3.1808537841393276,
           -3.1808537841393276,
           -3.1808537841393276,
           -3.1808537841393276,
           -3.1808537841393276,
           -3.1808537841393276,
           -3.1808537841393276,
           -3.1808537841393276,
           -3.1808537841393276,
           -3.1808537841393276,
           -3.1808537841393276,
           -3.1808537841393276,
           -3.1808537841393276,
           -3.1808537841393276,
           -3.1808537841393276,
           -3.1808537841393276,
           -3.1808537841393276,
           -3.1808537841393276,
           -3.1808537841393276,
           -3.1808537841393276,
           -3.1808537841393276,
           -3.1808537841393276,
           -3.1808537841393276,
           -3.1808537841393276,
           -3.1808537841393276,
           -3.1808537841393276
          ],
          [
           -2.964148156389906,
           -2.964148156389906,
           -2.964148156389906,
           -2.964148156389906,
           -2.964148156389906,
           -2.964148156389906,
           -2.964148156389906,
           -2.964148156389906,
           -2.964148156389906,
           -2.964148156389906,
           -2.964148156389906,
           -2.964148156389906,
           -2.964148156389906,
           -2.964148156389906,
           -2.964148156389906,
           -2.964148156389906,
           -2.964148156389906,
           -2.964148156389906,
           -2.964148156389906,
           -2.964148156389906,
           -2.964148156389906,
           -2.964148156389906,
           -2.964148156389906,
           -2.964148156389906,
           -2.964148156389906,
           -2.964148156389906,
           -2.964148156389906,
           -2.964148156389906,
           -2.964148156389906,
           -2.964148156389906
          ],
          [
           -2.7474425286404847,
           -2.7474425286404847,
           -2.7474425286404847,
           -2.7474425286404847,
           -2.7474425286404847,
           -2.7474425286404847,
           -2.7474425286404847,
           -2.7474425286404847,
           -2.7474425286404847,
           -2.7474425286404847,
           -2.7474425286404847,
           -2.7474425286404847,
           -2.7474425286404847,
           -2.7474425286404847,
           -2.7474425286404847,
           -2.7474425286404847,
           -2.7474425286404847,
           -2.7474425286404847,
           -2.7474425286404847,
           -2.7474425286404847,
           -2.7474425286404847,
           -2.7474425286404847,
           -2.7474425286404847,
           -2.7474425286404847,
           -2.7474425286404847,
           -2.7474425286404847,
           -2.7474425286404847,
           -2.7474425286404847,
           -2.7474425286404847,
           -2.7474425286404847
          ],
          [
           -2.530736900891063,
           -2.530736900891063,
           -2.530736900891063,
           -2.530736900891063,
           -2.530736900891063,
           -2.530736900891063,
           -2.530736900891063,
           -2.530736900891063,
           -2.530736900891063,
           -2.530736900891063,
           -2.530736900891063,
           -2.530736900891063,
           -2.530736900891063,
           -2.530736900891063,
           -2.530736900891063,
           -2.530736900891063,
           -2.530736900891063,
           -2.530736900891063,
           -2.530736900891063,
           -2.530736900891063,
           -2.530736900891063,
           -2.530736900891063,
           -2.530736900891063,
           -2.530736900891063,
           -2.530736900891063,
           -2.530736900891063,
           -2.530736900891063,
           -2.530736900891063,
           -2.530736900891063,
           -2.530736900891063
          ],
          [
           -2.314031273141642,
           -2.314031273141642,
           -2.314031273141642,
           -2.314031273141642,
           -2.314031273141642,
           -2.314031273141642,
           -2.314031273141642,
           -2.314031273141642,
           -2.314031273141642,
           -2.314031273141642,
           -2.314031273141642,
           -2.314031273141642,
           -2.314031273141642,
           -2.314031273141642,
           -2.314031273141642,
           -2.314031273141642,
           -2.314031273141642,
           -2.314031273141642,
           -2.314031273141642,
           -2.314031273141642,
           -2.314031273141642,
           -2.314031273141642,
           -2.314031273141642,
           -2.314031273141642,
           -2.314031273141642,
           -2.314031273141642,
           -2.314031273141642,
           -2.314031273141642,
           -2.314031273141642,
           -2.314031273141642
          ],
          [
           -2.0973256453922207,
           -2.0973256453922207,
           -2.0973256453922207,
           -2.0973256453922207,
           -2.0973256453922207,
           -2.0973256453922207,
           -2.0973256453922207,
           -2.0973256453922207,
           -2.0973256453922207,
           -2.0973256453922207,
           -2.0973256453922207,
           -2.0973256453922207,
           -2.0973256453922207,
           -2.0973256453922207,
           -2.0973256453922207,
           -2.0973256453922207,
           -2.0973256453922207,
           -2.0973256453922207,
           -2.0973256453922207,
           -2.0973256453922207,
           -2.0973256453922207,
           -2.0973256453922207,
           -2.0973256453922207,
           -2.0973256453922207,
           -2.0973256453922207,
           -2.0973256453922207,
           -2.0973256453922207,
           -2.0973256453922207,
           -2.0973256453922207,
           -2.0973256453922207
          ],
          [
           -1.8806200176427992,
           -1.8806200176427992,
           -1.8806200176427992,
           -1.8806200176427992,
           -1.8806200176427992,
           -1.8806200176427992,
           -1.8806200176427992,
           -1.8806200176427992,
           -1.8806200176427992,
           -1.8806200176427992,
           -1.8806200176427992,
           -1.8806200176427992,
           -1.8806200176427992,
           -1.8806200176427992,
           -1.8806200176427992,
           -1.8806200176427992,
           -1.8806200176427992,
           -1.8806200176427992,
           -1.8806200176427992,
           -1.8806200176427992,
           -1.8806200176427992,
           -1.8806200176427992,
           -1.8806200176427992,
           -1.8806200176427992,
           -1.8806200176427992,
           -1.8806200176427992,
           -1.8806200176427992,
           -1.8806200176427992,
           -1.8806200176427992,
           -1.8806200176427992
          ],
          [
           -1.6639143898933777,
           -1.6639143898933777,
           -1.6639143898933777,
           -1.6639143898933777,
           -1.6639143898933777,
           -1.6639143898933777,
           -1.6639143898933777,
           -1.6639143898933777,
           -1.6639143898933777,
           -1.6639143898933777,
           -1.6639143898933777,
           -1.6639143898933777,
           -1.6639143898933777,
           -1.6639143898933777,
           -1.6639143898933777,
           -1.6639143898933777,
           -1.6639143898933777,
           -1.6639143898933777,
           -1.6639143898933777,
           -1.6639143898933777,
           -1.6639143898933777,
           -1.6639143898933777,
           -1.6639143898933777,
           -1.6639143898933777,
           -1.6639143898933777,
           -1.6639143898933777,
           -1.6639143898933777,
           -1.6639143898933777,
           -1.6639143898933777,
           -1.6639143898933777
          ],
          [
           -1.4472087621439567,
           -1.4472087621439567,
           -1.4472087621439567,
           -1.4472087621439567,
           -1.4472087621439567,
           -1.4472087621439567,
           -1.4472087621439567,
           -1.4472087621439567,
           -1.4472087621439567,
           -1.4472087621439567,
           -1.4472087621439567,
           -1.4472087621439567,
           -1.4472087621439567,
           -1.4472087621439567,
           -1.4472087621439567,
           -1.4472087621439567,
           -1.4472087621439567,
           -1.4472087621439567,
           -1.4472087621439567,
           -1.4472087621439567,
           -1.4472087621439567,
           -1.4472087621439567,
           -1.4472087621439567,
           -1.4472087621439567,
           -1.4472087621439567,
           -1.4472087621439567,
           -1.4472087621439567,
           -1.4472087621439567,
           -1.4472087621439567,
           -1.4472087621439567
          ],
          [
           -1.2305031343945352,
           -1.2305031343945352,
           -1.2305031343945352,
           -1.2305031343945352,
           -1.2305031343945352,
           -1.2305031343945352,
           -1.2305031343945352,
           -1.2305031343945352,
           -1.2305031343945352,
           -1.2305031343945352,
           -1.2305031343945352,
           -1.2305031343945352,
           -1.2305031343945352,
           -1.2305031343945352,
           -1.2305031343945352,
           -1.2305031343945352,
           -1.2305031343945352,
           -1.2305031343945352,
           -1.2305031343945352,
           -1.2305031343945352,
           -1.2305031343945352,
           -1.2305031343945352,
           -1.2305031343945352,
           -1.2305031343945352,
           -1.2305031343945352,
           -1.2305031343945352,
           -1.2305031343945352,
           -1.2305031343945352,
           -1.2305031343945352,
           -1.2305031343945352
          ],
          [
           -1.0137975066451137,
           -1.0137975066451137,
           -1.0137975066451137,
           -1.0137975066451137,
           -1.0137975066451137,
           -1.0137975066451137,
           -1.0137975066451137,
           -1.0137975066451137,
           -1.0137975066451137,
           -1.0137975066451137,
           -1.0137975066451137,
           -1.0137975066451137,
           -1.0137975066451137,
           -1.0137975066451137,
           -1.0137975066451137,
           -1.0137975066451137,
           -1.0137975066451137,
           -1.0137975066451137,
           -1.0137975066451137,
           -1.0137975066451137,
           -1.0137975066451137,
           -1.0137975066451137,
           -1.0137975066451137,
           -1.0137975066451137,
           -1.0137975066451137,
           -1.0137975066451137,
           -1.0137975066451137,
           -1.0137975066451137,
           -1.0137975066451137,
           -1.0137975066451137
          ],
          [
           -0.7970918788956927,
           -0.7970918788956927,
           -0.7970918788956927,
           -0.7970918788956927,
           -0.7970918788956927,
           -0.7970918788956927,
           -0.7970918788956927,
           -0.7970918788956927,
           -0.7970918788956927,
           -0.7970918788956927,
           -0.7970918788956927,
           -0.7970918788956927,
           -0.7970918788956927,
           -0.7970918788956927,
           -0.7970918788956927,
           -0.7970918788956927,
           -0.7970918788956927,
           -0.7970918788956927,
           -0.7970918788956927,
           -0.7970918788956927,
           -0.7970918788956927,
           -0.7970918788956927,
           -0.7970918788956927,
           -0.7970918788956927,
           -0.7970918788956927,
           -0.7970918788956927,
           -0.7970918788956927,
           -0.7970918788956927,
           -0.7970918788956927,
           -0.7970918788956927
          ],
          [
           -0.5803862511462712,
           -0.5803862511462712,
           -0.5803862511462712,
           -0.5803862511462712,
           -0.5803862511462712,
           -0.5803862511462712,
           -0.5803862511462712,
           -0.5803862511462712,
           -0.5803862511462712,
           -0.5803862511462712,
           -0.5803862511462712,
           -0.5803862511462712,
           -0.5803862511462712,
           -0.5803862511462712,
           -0.5803862511462712,
           -0.5803862511462712,
           -0.5803862511462712,
           -0.5803862511462712,
           -0.5803862511462712,
           -0.5803862511462712,
           -0.5803862511462712,
           -0.5803862511462712,
           -0.5803862511462712,
           -0.5803862511462712,
           -0.5803862511462712,
           -0.5803862511462712,
           -0.5803862511462712,
           -0.5803862511462712,
           -0.5803862511462712,
           -0.5803862511462712
          ],
          [
           -0.3636806233968497,
           -0.3636806233968497,
           -0.3636806233968497,
           -0.3636806233968497,
           -0.3636806233968497,
           -0.3636806233968497,
           -0.3636806233968497,
           -0.3636806233968497,
           -0.3636806233968497,
           -0.3636806233968497,
           -0.3636806233968497,
           -0.3636806233968497,
           -0.3636806233968497,
           -0.3636806233968497,
           -0.3636806233968497,
           -0.3636806233968497,
           -0.3636806233968497,
           -0.3636806233968497,
           -0.3636806233968497,
           -0.3636806233968497,
           -0.3636806233968497,
           -0.3636806233968497,
           -0.3636806233968497,
           -0.3636806233968497,
           -0.3636806233968497,
           -0.3636806233968497,
           -0.3636806233968497,
           -0.3636806233968497,
           -0.3636806233968497,
           -0.3636806233968497
          ],
          [
           -0.14697499564742822,
           -0.14697499564742822,
           -0.14697499564742822,
           -0.14697499564742822,
           -0.14697499564742822,
           -0.14697499564742822,
           -0.14697499564742822,
           -0.14697499564742822,
           -0.14697499564742822,
           -0.14697499564742822,
           -0.14697499564742822,
           -0.14697499564742822,
           -0.14697499564742822,
           -0.14697499564742822,
           -0.14697499564742822,
           -0.14697499564742822,
           -0.14697499564742822,
           -0.14697499564742822,
           -0.14697499564742822,
           -0.14697499564742822,
           -0.14697499564742822,
           -0.14697499564742822,
           -0.14697499564742822,
           -0.14697499564742822,
           -0.14697499564742822,
           -0.14697499564742822,
           -0.14697499564742822,
           -0.14697499564742822,
           -0.14697499564742822,
           -0.14697499564742822
          ],
          [
           0.06973063210199326,
           0.06973063210199326,
           0.06973063210199326,
           0.06973063210199326,
           0.06973063210199326,
           0.06973063210199326,
           0.06973063210199326,
           0.06973063210199326,
           0.06973063210199326,
           0.06973063210199326,
           0.06973063210199326,
           0.06973063210199326,
           0.06973063210199326,
           0.06973063210199326,
           0.06973063210199326,
           0.06973063210199326,
           0.06973063210199326,
           0.06973063210199326,
           0.06973063210199326,
           0.06973063210199326,
           0.06973063210199326,
           0.06973063210199326,
           0.06973063210199326,
           0.06973063210199326,
           0.06973063210199326,
           0.06973063210199326,
           0.06973063210199326,
           0.06973063210199326,
           0.06973063210199326,
           0.06973063210199326
          ],
          [
           0.28643625985141474,
           0.28643625985141474,
           0.28643625985141474,
           0.28643625985141474,
           0.28643625985141474,
           0.28643625985141474,
           0.28643625985141474,
           0.28643625985141474,
           0.28643625985141474,
           0.28643625985141474,
           0.28643625985141474,
           0.28643625985141474,
           0.28643625985141474,
           0.28643625985141474,
           0.28643625985141474,
           0.28643625985141474,
           0.28643625985141474,
           0.28643625985141474,
           0.28643625985141474,
           0.28643625985141474,
           0.28643625985141474,
           0.28643625985141474,
           0.28643625985141474,
           0.28643625985141474,
           0.28643625985141474,
           0.28643625985141474,
           0.28643625985141474,
           0.28643625985141474,
           0.28643625985141474,
           0.28643625985141474
          ],
          [
           0.5031418876008362,
           0.5031418876008362,
           0.5031418876008362,
           0.5031418876008362,
           0.5031418876008362,
           0.5031418876008362,
           0.5031418876008362,
           0.5031418876008362,
           0.5031418876008362,
           0.5031418876008362,
           0.5031418876008362,
           0.5031418876008362,
           0.5031418876008362,
           0.5031418876008362,
           0.5031418876008362,
           0.5031418876008362,
           0.5031418876008362,
           0.5031418876008362,
           0.5031418876008362,
           0.5031418876008362,
           0.5031418876008362,
           0.5031418876008362,
           0.5031418876008362,
           0.5031418876008362,
           0.5031418876008362,
           0.5031418876008362,
           0.5031418876008362,
           0.5031418876008362,
           0.5031418876008362,
           0.5031418876008362
          ],
          [
           0.7198475153502568,
           0.7198475153502568,
           0.7198475153502568,
           0.7198475153502568,
           0.7198475153502568,
           0.7198475153502568,
           0.7198475153502568,
           0.7198475153502568,
           0.7198475153502568,
           0.7198475153502568,
           0.7198475153502568,
           0.7198475153502568,
           0.7198475153502568,
           0.7198475153502568,
           0.7198475153502568,
           0.7198475153502568,
           0.7198475153502568,
           0.7198475153502568,
           0.7198475153502568,
           0.7198475153502568,
           0.7198475153502568,
           0.7198475153502568,
           0.7198475153502568,
           0.7198475153502568,
           0.7198475153502568,
           0.7198475153502568,
           0.7198475153502568,
           0.7198475153502568,
           0.7198475153502568,
           0.7198475153502568
          ],
          [
           0.9365531430996783,
           0.9365531430996783,
           0.9365531430996783,
           0.9365531430996783,
           0.9365531430996783,
           0.9365531430996783,
           0.9365531430996783,
           0.9365531430996783,
           0.9365531430996783,
           0.9365531430996783,
           0.9365531430996783,
           0.9365531430996783,
           0.9365531430996783,
           0.9365531430996783,
           0.9365531430996783,
           0.9365531430996783,
           0.9365531430996783,
           0.9365531430996783,
           0.9365531430996783,
           0.9365531430996783,
           0.9365531430996783,
           0.9365531430996783,
           0.9365531430996783,
           0.9365531430996783,
           0.9365531430996783,
           0.9365531430996783,
           0.9365531430996783,
           0.9365531430996783,
           0.9365531430996783,
           0.9365531430996783
          ],
          [
           1.1532587708490998,
           1.1532587708490998,
           1.1532587708490998,
           1.1532587708490998,
           1.1532587708490998,
           1.1532587708490998,
           1.1532587708490998,
           1.1532587708490998,
           1.1532587708490998,
           1.1532587708490998,
           1.1532587708490998,
           1.1532587708490998,
           1.1532587708490998,
           1.1532587708490998,
           1.1532587708490998,
           1.1532587708490998,
           1.1532587708490998,
           1.1532587708490998,
           1.1532587708490998,
           1.1532587708490998,
           1.1532587708490998,
           1.1532587708490998,
           1.1532587708490998,
           1.1532587708490998,
           1.1532587708490998,
           1.1532587708490998,
           1.1532587708490998,
           1.1532587708490998,
           1.1532587708490998,
           1.1532587708490998
          ],
          [
           1.3699643985985213,
           1.3699643985985213,
           1.3699643985985213,
           1.3699643985985213,
           1.3699643985985213,
           1.3699643985985213,
           1.3699643985985213,
           1.3699643985985213,
           1.3699643985985213,
           1.3699643985985213,
           1.3699643985985213,
           1.3699643985985213,
           1.3699643985985213,
           1.3699643985985213,
           1.3699643985985213,
           1.3699643985985213,
           1.3699643985985213,
           1.3699643985985213,
           1.3699643985985213,
           1.3699643985985213,
           1.3699643985985213,
           1.3699643985985213,
           1.3699643985985213,
           1.3699643985985213,
           1.3699643985985213,
           1.3699643985985213,
           1.3699643985985213,
           1.3699643985985213,
           1.3699643985985213,
           1.3699643985985213
          ],
          [
           1.5866700263479427,
           1.5866700263479427,
           1.5866700263479427,
           1.5866700263479427,
           1.5866700263479427,
           1.5866700263479427,
           1.5866700263479427,
           1.5866700263479427,
           1.5866700263479427,
           1.5866700263479427,
           1.5866700263479427,
           1.5866700263479427,
           1.5866700263479427,
           1.5866700263479427,
           1.5866700263479427,
           1.5866700263479427,
           1.5866700263479427,
           1.5866700263479427,
           1.5866700263479427,
           1.5866700263479427,
           1.5866700263479427,
           1.5866700263479427,
           1.5866700263479427,
           1.5866700263479427,
           1.5866700263479427,
           1.5866700263479427,
           1.5866700263479427,
           1.5866700263479427,
           1.5866700263479427,
           1.5866700263479427
          ],
          [
           1.8033756540973642,
           1.8033756540973642,
           1.8033756540973642,
           1.8033756540973642,
           1.8033756540973642,
           1.8033756540973642,
           1.8033756540973642,
           1.8033756540973642,
           1.8033756540973642,
           1.8033756540973642,
           1.8033756540973642,
           1.8033756540973642,
           1.8033756540973642,
           1.8033756540973642,
           1.8033756540973642,
           1.8033756540973642,
           1.8033756540973642,
           1.8033756540973642,
           1.8033756540973642,
           1.8033756540973642,
           1.8033756540973642,
           1.8033756540973642,
           1.8033756540973642,
           1.8033756540973642,
           1.8033756540973642,
           1.8033756540973642,
           1.8033756540973642,
           1.8033756540973642,
           1.8033756540973642,
           1.8033756540973642
          ],
          [
           2.0200812818467857,
           2.0200812818467857,
           2.0200812818467857,
           2.0200812818467857,
           2.0200812818467857,
           2.0200812818467857,
           2.0200812818467857,
           2.0200812818467857,
           2.0200812818467857,
           2.0200812818467857,
           2.0200812818467857,
           2.0200812818467857,
           2.0200812818467857,
           2.0200812818467857,
           2.0200812818467857,
           2.0200812818467857,
           2.0200812818467857,
           2.0200812818467857,
           2.0200812818467857,
           2.0200812818467857,
           2.0200812818467857,
           2.0200812818467857,
           2.0200812818467857,
           2.0200812818467857,
           2.0200812818467857,
           2.0200812818467857,
           2.0200812818467857,
           2.0200812818467857,
           2.0200812818467857,
           2.0200812818467857
          ],
          [
           2.2367869095962063,
           2.2367869095962063,
           2.2367869095962063,
           2.2367869095962063,
           2.2367869095962063,
           2.2367869095962063,
           2.2367869095962063,
           2.2367869095962063,
           2.2367869095962063,
           2.2367869095962063,
           2.2367869095962063,
           2.2367869095962063,
           2.2367869095962063,
           2.2367869095962063,
           2.2367869095962063,
           2.2367869095962063,
           2.2367869095962063,
           2.2367869095962063,
           2.2367869095962063,
           2.2367869095962063,
           2.2367869095962063,
           2.2367869095962063,
           2.2367869095962063,
           2.2367869095962063,
           2.2367869095962063,
           2.2367869095962063,
           2.2367869095962063,
           2.2367869095962063,
           2.2367869095962063,
           2.2367869095962063
          ],
          [
           2.4534925373456273,
           2.4534925373456273,
           2.4534925373456273,
           2.4534925373456273,
           2.4534925373456273,
           2.4534925373456273,
           2.4534925373456273,
           2.4534925373456273,
           2.4534925373456273,
           2.4534925373456273,
           2.4534925373456273,
           2.4534925373456273,
           2.4534925373456273,
           2.4534925373456273,
           2.4534925373456273,
           2.4534925373456273,
           2.4534925373456273,
           2.4534925373456273,
           2.4534925373456273,
           2.4534925373456273,
           2.4534925373456273,
           2.4534925373456273,
           2.4534925373456273,
           2.4534925373456273,
           2.4534925373456273,
           2.4534925373456273,
           2.4534925373456273,
           2.4534925373456273,
           2.4534925373456273,
           2.4534925373456273
          ]
         ],
         "y": [
          [
           -3.386477527179501,
           -3.1834176256149584,
           -2.980357724050416,
           -2.777297822485874,
           -2.5742379209213313,
           -2.3711780193567886,
           -2.1681181177922464,
           -1.965058216227704,
           -1.7619983146631615,
           -1.558938413098619,
           -1.3558785115340766,
           -1.1528186099695343,
           -0.9497587084049917,
           -0.746698806840449,
           -0.5436389052759067,
           -0.3405790037113645,
           -0.13751910214682184,
           0.06554079941772084,
           0.2686007009822631,
           0.4716606025468053,
           0.674720504111348,
           0.8777804056758907,
           1.0808403072404325,
           1.2839002088049751,
           1.4869601103695178,
           1.6900200119340605,
           1.8930799134986032,
           2.096139815063145,
           2.2991997166276876,
           2.5022596181922303
          ],
          [
           -3.386477527179501,
           -3.1834176256149584,
           -2.980357724050416,
           -2.777297822485874,
           -2.5742379209213313,
           -2.3711780193567886,
           -2.1681181177922464,
           -1.965058216227704,
           -1.7619983146631615,
           -1.558938413098619,
           -1.3558785115340766,
           -1.1528186099695343,
           -0.9497587084049917,
           -0.746698806840449,
           -0.5436389052759067,
           -0.3405790037113645,
           -0.13751910214682184,
           0.06554079941772084,
           0.2686007009822631,
           0.4716606025468053,
           0.674720504111348,
           0.8777804056758907,
           1.0808403072404325,
           1.2839002088049751,
           1.4869601103695178,
           1.6900200119340605,
           1.8930799134986032,
           2.096139815063145,
           2.2991997166276876,
           2.5022596181922303
          ],
          [
           -3.386477527179501,
           -3.1834176256149584,
           -2.980357724050416,
           -2.777297822485874,
           -2.5742379209213313,
           -2.3711780193567886,
           -2.1681181177922464,
           -1.965058216227704,
           -1.7619983146631615,
           -1.558938413098619,
           -1.3558785115340766,
           -1.1528186099695343,
           -0.9497587084049917,
           -0.746698806840449,
           -0.5436389052759067,
           -0.3405790037113645,
           -0.13751910214682184,
           0.06554079941772084,
           0.2686007009822631,
           0.4716606025468053,
           0.674720504111348,
           0.8777804056758907,
           1.0808403072404325,
           1.2839002088049751,
           1.4869601103695178,
           1.6900200119340605,
           1.8930799134986032,
           2.096139815063145,
           2.2991997166276876,
           2.5022596181922303
          ],
          [
           -3.386477527179501,
           -3.1834176256149584,
           -2.980357724050416,
           -2.777297822485874,
           -2.5742379209213313,
           -2.3711780193567886,
           -2.1681181177922464,
           -1.965058216227704,
           -1.7619983146631615,
           -1.558938413098619,
           -1.3558785115340766,
           -1.1528186099695343,
           -0.9497587084049917,
           -0.746698806840449,
           -0.5436389052759067,
           -0.3405790037113645,
           -0.13751910214682184,
           0.06554079941772084,
           0.2686007009822631,
           0.4716606025468053,
           0.674720504111348,
           0.8777804056758907,
           1.0808403072404325,
           1.2839002088049751,
           1.4869601103695178,
           1.6900200119340605,
           1.8930799134986032,
           2.096139815063145,
           2.2991997166276876,
           2.5022596181922303
          ],
          [
           -3.386477527179501,
           -3.1834176256149584,
           -2.980357724050416,
           -2.777297822485874,
           -2.5742379209213313,
           -2.3711780193567886,
           -2.1681181177922464,
           -1.965058216227704,
           -1.7619983146631615,
           -1.558938413098619,
           -1.3558785115340766,
           -1.1528186099695343,
           -0.9497587084049917,
           -0.746698806840449,
           -0.5436389052759067,
           -0.3405790037113645,
           -0.13751910214682184,
           0.06554079941772084,
           0.2686007009822631,
           0.4716606025468053,
           0.674720504111348,
           0.8777804056758907,
           1.0808403072404325,
           1.2839002088049751,
           1.4869601103695178,
           1.6900200119340605,
           1.8930799134986032,
           2.096139815063145,
           2.2991997166276876,
           2.5022596181922303
          ],
          [
           -3.386477527179501,
           -3.1834176256149584,
           -2.980357724050416,
           -2.777297822485874,
           -2.5742379209213313,
           -2.3711780193567886,
           -2.1681181177922464,
           -1.965058216227704,
           -1.7619983146631615,
           -1.558938413098619,
           -1.3558785115340766,
           -1.1528186099695343,
           -0.9497587084049917,
           -0.746698806840449,
           -0.5436389052759067,
           -0.3405790037113645,
           -0.13751910214682184,
           0.06554079941772084,
           0.2686007009822631,
           0.4716606025468053,
           0.674720504111348,
           0.8777804056758907,
           1.0808403072404325,
           1.2839002088049751,
           1.4869601103695178,
           1.6900200119340605,
           1.8930799134986032,
           2.096139815063145,
           2.2991997166276876,
           2.5022596181922303
          ],
          [
           -3.386477527179501,
           -3.1834176256149584,
           -2.980357724050416,
           -2.777297822485874,
           -2.5742379209213313,
           -2.3711780193567886,
           -2.1681181177922464,
           -1.965058216227704,
           -1.7619983146631615,
           -1.558938413098619,
           -1.3558785115340766,
           -1.1528186099695343,
           -0.9497587084049917,
           -0.746698806840449,
           -0.5436389052759067,
           -0.3405790037113645,
           -0.13751910214682184,
           0.06554079941772084,
           0.2686007009822631,
           0.4716606025468053,
           0.674720504111348,
           0.8777804056758907,
           1.0808403072404325,
           1.2839002088049751,
           1.4869601103695178,
           1.6900200119340605,
           1.8930799134986032,
           2.096139815063145,
           2.2991997166276876,
           2.5022596181922303
          ],
          [
           -3.386477527179501,
           -3.1834176256149584,
           -2.980357724050416,
           -2.777297822485874,
           -2.5742379209213313,
           -2.3711780193567886,
           -2.1681181177922464,
           -1.965058216227704,
           -1.7619983146631615,
           -1.558938413098619,
           -1.3558785115340766,
           -1.1528186099695343,
           -0.9497587084049917,
           -0.746698806840449,
           -0.5436389052759067,
           -0.3405790037113645,
           -0.13751910214682184,
           0.06554079941772084,
           0.2686007009822631,
           0.4716606025468053,
           0.674720504111348,
           0.8777804056758907,
           1.0808403072404325,
           1.2839002088049751,
           1.4869601103695178,
           1.6900200119340605,
           1.8930799134986032,
           2.096139815063145,
           2.2991997166276876,
           2.5022596181922303
          ],
          [
           -3.386477527179501,
           -3.1834176256149584,
           -2.980357724050416,
           -2.777297822485874,
           -2.5742379209213313,
           -2.3711780193567886,
           -2.1681181177922464,
           -1.965058216227704,
           -1.7619983146631615,
           -1.558938413098619,
           -1.3558785115340766,
           -1.1528186099695343,
           -0.9497587084049917,
           -0.746698806840449,
           -0.5436389052759067,
           -0.3405790037113645,
           -0.13751910214682184,
           0.06554079941772084,
           0.2686007009822631,
           0.4716606025468053,
           0.674720504111348,
           0.8777804056758907,
           1.0808403072404325,
           1.2839002088049751,
           1.4869601103695178,
           1.6900200119340605,
           1.8930799134986032,
           2.096139815063145,
           2.2991997166276876,
           2.5022596181922303
          ],
          [
           -3.386477527179501,
           -3.1834176256149584,
           -2.980357724050416,
           -2.777297822485874,
           -2.5742379209213313,
           -2.3711780193567886,
           -2.1681181177922464,
           -1.965058216227704,
           -1.7619983146631615,
           -1.558938413098619,
           -1.3558785115340766,
           -1.1528186099695343,
           -0.9497587084049917,
           -0.746698806840449,
           -0.5436389052759067,
           -0.3405790037113645,
           -0.13751910214682184,
           0.06554079941772084,
           0.2686007009822631,
           0.4716606025468053,
           0.674720504111348,
           0.8777804056758907,
           1.0808403072404325,
           1.2839002088049751,
           1.4869601103695178,
           1.6900200119340605,
           1.8930799134986032,
           2.096139815063145,
           2.2991997166276876,
           2.5022596181922303
          ],
          [
           -3.386477527179501,
           -3.1834176256149584,
           -2.980357724050416,
           -2.777297822485874,
           -2.5742379209213313,
           -2.3711780193567886,
           -2.1681181177922464,
           -1.965058216227704,
           -1.7619983146631615,
           -1.558938413098619,
           -1.3558785115340766,
           -1.1528186099695343,
           -0.9497587084049917,
           -0.746698806840449,
           -0.5436389052759067,
           -0.3405790037113645,
           -0.13751910214682184,
           0.06554079941772084,
           0.2686007009822631,
           0.4716606025468053,
           0.674720504111348,
           0.8777804056758907,
           1.0808403072404325,
           1.2839002088049751,
           1.4869601103695178,
           1.6900200119340605,
           1.8930799134986032,
           2.096139815063145,
           2.2991997166276876,
           2.5022596181922303
          ],
          [
           -3.386477527179501,
           -3.1834176256149584,
           -2.980357724050416,
           -2.777297822485874,
           -2.5742379209213313,
           -2.3711780193567886,
           -2.1681181177922464,
           -1.965058216227704,
           -1.7619983146631615,
           -1.558938413098619,
           -1.3558785115340766,
           -1.1528186099695343,
           -0.9497587084049917,
           -0.746698806840449,
           -0.5436389052759067,
           -0.3405790037113645,
           -0.13751910214682184,
           0.06554079941772084,
           0.2686007009822631,
           0.4716606025468053,
           0.674720504111348,
           0.8777804056758907,
           1.0808403072404325,
           1.2839002088049751,
           1.4869601103695178,
           1.6900200119340605,
           1.8930799134986032,
           2.096139815063145,
           2.2991997166276876,
           2.5022596181922303
          ],
          [
           -3.386477527179501,
           -3.1834176256149584,
           -2.980357724050416,
           -2.777297822485874,
           -2.5742379209213313,
           -2.3711780193567886,
           -2.1681181177922464,
           -1.965058216227704,
           -1.7619983146631615,
           -1.558938413098619,
           -1.3558785115340766,
           -1.1528186099695343,
           -0.9497587084049917,
           -0.746698806840449,
           -0.5436389052759067,
           -0.3405790037113645,
           -0.13751910214682184,
           0.06554079941772084,
           0.2686007009822631,
           0.4716606025468053,
           0.674720504111348,
           0.8777804056758907,
           1.0808403072404325,
           1.2839002088049751,
           1.4869601103695178,
           1.6900200119340605,
           1.8930799134986032,
           2.096139815063145,
           2.2991997166276876,
           2.5022596181922303
          ],
          [
           -3.386477527179501,
           -3.1834176256149584,
           -2.980357724050416,
           -2.777297822485874,
           -2.5742379209213313,
           -2.3711780193567886,
           -2.1681181177922464,
           -1.965058216227704,
           -1.7619983146631615,
           -1.558938413098619,
           -1.3558785115340766,
           -1.1528186099695343,
           -0.9497587084049917,
           -0.746698806840449,
           -0.5436389052759067,
           -0.3405790037113645,
           -0.13751910214682184,
           0.06554079941772084,
           0.2686007009822631,
           0.4716606025468053,
           0.674720504111348,
           0.8777804056758907,
           1.0808403072404325,
           1.2839002088049751,
           1.4869601103695178,
           1.6900200119340605,
           1.8930799134986032,
           2.096139815063145,
           2.2991997166276876,
           2.5022596181922303
          ],
          [
           -3.386477527179501,
           -3.1834176256149584,
           -2.980357724050416,
           -2.777297822485874,
           -2.5742379209213313,
           -2.3711780193567886,
           -2.1681181177922464,
           -1.965058216227704,
           -1.7619983146631615,
           -1.558938413098619,
           -1.3558785115340766,
           -1.1528186099695343,
           -0.9497587084049917,
           -0.746698806840449,
           -0.5436389052759067,
           -0.3405790037113645,
           -0.13751910214682184,
           0.06554079941772084,
           0.2686007009822631,
           0.4716606025468053,
           0.674720504111348,
           0.8777804056758907,
           1.0808403072404325,
           1.2839002088049751,
           1.4869601103695178,
           1.6900200119340605,
           1.8930799134986032,
           2.096139815063145,
           2.2991997166276876,
           2.5022596181922303
          ],
          [
           -3.386477527179501,
           -3.1834176256149584,
           -2.980357724050416,
           -2.777297822485874,
           -2.5742379209213313,
           -2.3711780193567886,
           -2.1681181177922464,
           -1.965058216227704,
           -1.7619983146631615,
           -1.558938413098619,
           -1.3558785115340766,
           -1.1528186099695343,
           -0.9497587084049917,
           -0.746698806840449,
           -0.5436389052759067,
           -0.3405790037113645,
           -0.13751910214682184,
           0.06554079941772084,
           0.2686007009822631,
           0.4716606025468053,
           0.674720504111348,
           0.8777804056758907,
           1.0808403072404325,
           1.2839002088049751,
           1.4869601103695178,
           1.6900200119340605,
           1.8930799134986032,
           2.096139815063145,
           2.2991997166276876,
           2.5022596181922303
          ],
          [
           -3.386477527179501,
           -3.1834176256149584,
           -2.980357724050416,
           -2.777297822485874,
           -2.5742379209213313,
           -2.3711780193567886,
           -2.1681181177922464,
           -1.965058216227704,
           -1.7619983146631615,
           -1.558938413098619,
           -1.3558785115340766,
           -1.1528186099695343,
           -0.9497587084049917,
           -0.746698806840449,
           -0.5436389052759067,
           -0.3405790037113645,
           -0.13751910214682184,
           0.06554079941772084,
           0.2686007009822631,
           0.4716606025468053,
           0.674720504111348,
           0.8777804056758907,
           1.0808403072404325,
           1.2839002088049751,
           1.4869601103695178,
           1.6900200119340605,
           1.8930799134986032,
           2.096139815063145,
           2.2991997166276876,
           2.5022596181922303
          ],
          [
           -3.386477527179501,
           -3.1834176256149584,
           -2.980357724050416,
           -2.777297822485874,
           -2.5742379209213313,
           -2.3711780193567886,
           -2.1681181177922464,
           -1.965058216227704,
           -1.7619983146631615,
           -1.558938413098619,
           -1.3558785115340766,
           -1.1528186099695343,
           -0.9497587084049917,
           -0.746698806840449,
           -0.5436389052759067,
           -0.3405790037113645,
           -0.13751910214682184,
           0.06554079941772084,
           0.2686007009822631,
           0.4716606025468053,
           0.674720504111348,
           0.8777804056758907,
           1.0808403072404325,
           1.2839002088049751,
           1.4869601103695178,
           1.6900200119340605,
           1.8930799134986032,
           2.096139815063145,
           2.2991997166276876,
           2.5022596181922303
          ],
          [
           -3.386477527179501,
           -3.1834176256149584,
           -2.980357724050416,
           -2.777297822485874,
           -2.5742379209213313,
           -2.3711780193567886,
           -2.1681181177922464,
           -1.965058216227704,
           -1.7619983146631615,
           -1.558938413098619,
           -1.3558785115340766,
           -1.1528186099695343,
           -0.9497587084049917,
           -0.746698806840449,
           -0.5436389052759067,
           -0.3405790037113645,
           -0.13751910214682184,
           0.06554079941772084,
           0.2686007009822631,
           0.4716606025468053,
           0.674720504111348,
           0.8777804056758907,
           1.0808403072404325,
           1.2839002088049751,
           1.4869601103695178,
           1.6900200119340605,
           1.8930799134986032,
           2.096139815063145,
           2.2991997166276876,
           2.5022596181922303
          ],
          [
           -3.386477527179501,
           -3.1834176256149584,
           -2.980357724050416,
           -2.777297822485874,
           -2.5742379209213313,
           -2.3711780193567886,
           -2.1681181177922464,
           -1.965058216227704,
           -1.7619983146631615,
           -1.558938413098619,
           -1.3558785115340766,
           -1.1528186099695343,
           -0.9497587084049917,
           -0.746698806840449,
           -0.5436389052759067,
           -0.3405790037113645,
           -0.13751910214682184,
           0.06554079941772084,
           0.2686007009822631,
           0.4716606025468053,
           0.674720504111348,
           0.8777804056758907,
           1.0808403072404325,
           1.2839002088049751,
           1.4869601103695178,
           1.6900200119340605,
           1.8930799134986032,
           2.096139815063145,
           2.2991997166276876,
           2.5022596181922303
          ],
          [
           -3.386477527179501,
           -3.1834176256149584,
           -2.980357724050416,
           -2.777297822485874,
           -2.5742379209213313,
           -2.3711780193567886,
           -2.1681181177922464,
           -1.965058216227704,
           -1.7619983146631615,
           -1.558938413098619,
           -1.3558785115340766,
           -1.1528186099695343,
           -0.9497587084049917,
           -0.746698806840449,
           -0.5436389052759067,
           -0.3405790037113645,
           -0.13751910214682184,
           0.06554079941772084,
           0.2686007009822631,
           0.4716606025468053,
           0.674720504111348,
           0.8777804056758907,
           1.0808403072404325,
           1.2839002088049751,
           1.4869601103695178,
           1.6900200119340605,
           1.8930799134986032,
           2.096139815063145,
           2.2991997166276876,
           2.5022596181922303
          ],
          [
           -3.386477527179501,
           -3.1834176256149584,
           -2.980357724050416,
           -2.777297822485874,
           -2.5742379209213313,
           -2.3711780193567886,
           -2.1681181177922464,
           -1.965058216227704,
           -1.7619983146631615,
           -1.558938413098619,
           -1.3558785115340766,
           -1.1528186099695343,
           -0.9497587084049917,
           -0.746698806840449,
           -0.5436389052759067,
           -0.3405790037113645,
           -0.13751910214682184,
           0.06554079941772084,
           0.2686007009822631,
           0.4716606025468053,
           0.674720504111348,
           0.8777804056758907,
           1.0808403072404325,
           1.2839002088049751,
           1.4869601103695178,
           1.6900200119340605,
           1.8930799134986032,
           2.096139815063145,
           2.2991997166276876,
           2.5022596181922303
          ],
          [
           -3.386477527179501,
           -3.1834176256149584,
           -2.980357724050416,
           -2.777297822485874,
           -2.5742379209213313,
           -2.3711780193567886,
           -2.1681181177922464,
           -1.965058216227704,
           -1.7619983146631615,
           -1.558938413098619,
           -1.3558785115340766,
           -1.1528186099695343,
           -0.9497587084049917,
           -0.746698806840449,
           -0.5436389052759067,
           -0.3405790037113645,
           -0.13751910214682184,
           0.06554079941772084,
           0.2686007009822631,
           0.4716606025468053,
           0.674720504111348,
           0.8777804056758907,
           1.0808403072404325,
           1.2839002088049751,
           1.4869601103695178,
           1.6900200119340605,
           1.8930799134986032,
           2.096139815063145,
           2.2991997166276876,
           2.5022596181922303
          ],
          [
           -3.386477527179501,
           -3.1834176256149584,
           -2.980357724050416,
           -2.777297822485874,
           -2.5742379209213313,
           -2.3711780193567886,
           -2.1681181177922464,
           -1.965058216227704,
           -1.7619983146631615,
           -1.558938413098619,
           -1.3558785115340766,
           -1.1528186099695343,
           -0.9497587084049917,
           -0.746698806840449,
           -0.5436389052759067,
           -0.3405790037113645,
           -0.13751910214682184,
           0.06554079941772084,
           0.2686007009822631,
           0.4716606025468053,
           0.674720504111348,
           0.8777804056758907,
           1.0808403072404325,
           1.2839002088049751,
           1.4869601103695178,
           1.6900200119340605,
           1.8930799134986032,
           2.096139815063145,
           2.2991997166276876,
           2.5022596181922303
          ],
          [
           -3.386477527179501,
           -3.1834176256149584,
           -2.980357724050416,
           -2.777297822485874,
           -2.5742379209213313,
           -2.3711780193567886,
           -2.1681181177922464,
           -1.965058216227704,
           -1.7619983146631615,
           -1.558938413098619,
           -1.3558785115340766,
           -1.1528186099695343,
           -0.9497587084049917,
           -0.746698806840449,
           -0.5436389052759067,
           -0.3405790037113645,
           -0.13751910214682184,
           0.06554079941772084,
           0.2686007009822631,
           0.4716606025468053,
           0.674720504111348,
           0.8777804056758907,
           1.0808403072404325,
           1.2839002088049751,
           1.4869601103695178,
           1.6900200119340605,
           1.8930799134986032,
           2.096139815063145,
           2.2991997166276876,
           2.5022596181922303
          ],
          [
           -3.386477527179501,
           -3.1834176256149584,
           -2.980357724050416,
           -2.777297822485874,
           -2.5742379209213313,
           -2.3711780193567886,
           -2.1681181177922464,
           -1.965058216227704,
           -1.7619983146631615,
           -1.558938413098619,
           -1.3558785115340766,
           -1.1528186099695343,
           -0.9497587084049917,
           -0.746698806840449,
           -0.5436389052759067,
           -0.3405790037113645,
           -0.13751910214682184,
           0.06554079941772084,
           0.2686007009822631,
           0.4716606025468053,
           0.674720504111348,
           0.8777804056758907,
           1.0808403072404325,
           1.2839002088049751,
           1.4869601103695178,
           1.6900200119340605,
           1.8930799134986032,
           2.096139815063145,
           2.2991997166276876,
           2.5022596181922303
          ],
          [
           -3.386477527179501,
           -3.1834176256149584,
           -2.980357724050416,
           -2.777297822485874,
           -2.5742379209213313,
           -2.3711780193567886,
           -2.1681181177922464,
           -1.965058216227704,
           -1.7619983146631615,
           -1.558938413098619,
           -1.3558785115340766,
           -1.1528186099695343,
           -0.9497587084049917,
           -0.746698806840449,
           -0.5436389052759067,
           -0.3405790037113645,
           -0.13751910214682184,
           0.06554079941772084,
           0.2686007009822631,
           0.4716606025468053,
           0.674720504111348,
           0.8777804056758907,
           1.0808403072404325,
           1.2839002088049751,
           1.4869601103695178,
           1.6900200119340605,
           1.8930799134986032,
           2.096139815063145,
           2.2991997166276876,
           2.5022596181922303
          ],
          [
           -3.386477527179501,
           -3.1834176256149584,
           -2.980357724050416,
           -2.777297822485874,
           -2.5742379209213313,
           -2.3711780193567886,
           -2.1681181177922464,
           -1.965058216227704,
           -1.7619983146631615,
           -1.558938413098619,
           -1.3558785115340766,
           -1.1528186099695343,
           -0.9497587084049917,
           -0.746698806840449,
           -0.5436389052759067,
           -0.3405790037113645,
           -0.13751910214682184,
           0.06554079941772084,
           0.2686007009822631,
           0.4716606025468053,
           0.674720504111348,
           0.8777804056758907,
           1.0808403072404325,
           1.2839002088049751,
           1.4869601103695178,
           1.6900200119340605,
           1.8930799134986032,
           2.096139815063145,
           2.2991997166276876,
           2.5022596181922303
          ],
          [
           -3.386477527179501,
           -3.1834176256149584,
           -2.980357724050416,
           -2.777297822485874,
           -2.5742379209213313,
           -2.3711780193567886,
           -2.1681181177922464,
           -1.965058216227704,
           -1.7619983146631615,
           -1.558938413098619,
           -1.3558785115340766,
           -1.1528186099695343,
           -0.9497587084049917,
           -0.746698806840449,
           -0.5436389052759067,
           -0.3405790037113645,
           -0.13751910214682184,
           0.06554079941772084,
           0.2686007009822631,
           0.4716606025468053,
           0.674720504111348,
           0.8777804056758907,
           1.0808403072404325,
           1.2839002088049751,
           1.4869601103695178,
           1.6900200119340605,
           1.8930799134986032,
           2.096139815063145,
           2.2991997166276876,
           2.5022596181922303
          ],
          [
           -3.386477527179501,
           -3.1834176256149584,
           -2.980357724050416,
           -2.777297822485874,
           -2.5742379209213313,
           -2.3711780193567886,
           -2.1681181177922464,
           -1.965058216227704,
           -1.7619983146631615,
           -1.558938413098619,
           -1.3558785115340766,
           -1.1528186099695343,
           -0.9497587084049917,
           -0.746698806840449,
           -0.5436389052759067,
           -0.3405790037113645,
           -0.13751910214682184,
           0.06554079941772084,
           0.2686007009822631,
           0.4716606025468053,
           0.674720504111348,
           0.8777804056758907,
           1.0808403072404325,
           1.2839002088049751,
           1.4869601103695178,
           1.6900200119340605,
           1.8930799134986032,
           2.096139815063145,
           2.2991997166276876,
           2.5022596181922303
          ]
         ],
         "z": [
          [
           -11.770964018539729,
           -155.8470119029503,
           -220.21300347299308,
           -231.79200276367808,
           -212.41192805563682,
           -178.69942300808896,
           -142.41906228419847,
           -111.0819330812522,
           -88.68922492565672,
           -76.51186285026319,
           -73.8369231797237,
           -78.63606614898139,
           -88.13099501117685,
           -99.24649669483017,
           -108.9534239867097,
           -114.51253318690743,
           -113.6358837468589,
           -104.58602710006697,
           -86.23495026951893,
           -58.10518542603201,
           -20.415138918390387,
           25.84997806007925,
           78.82073052248236,
           135.55849595117218,
           191.78057448827138,
           241.47002253183197,
           276.3397559776863,
           285.11274256856814,
           252.56926295240086,
           158.29777757027415
          ],
          [
           255.28997862912846,
           87.54784419670048,
           -6.199069446524575,
           -48.02260400934256,
           -56.47012394430986,
           -46.16126208053092,
           -27.861138467371134,
           -8.854257911565629,
           6.515712157255768,
           16.240219616998118,
           20.044879634482495,
           18.83995591414292,
           14.249528681864955,
           8.231384872794557,
           2.7881302018824825,
           -0.23831632575793407,
           0.6976830984648793,
           6.762915759307739,
           18.697202046021587,
           36.78071197847803,
           60.79799568455149,
           89.98056941837092,
           122.91022912946187,
           157.36487435687786,
           190.08702678958912,
           216.45193066406583,
           230.0066367215612,
           221.8433081805222,
           179.7586565531928,
           87.13642760929238
          ],
          [
           390.8619121820532,
           217.547529917099,
           109.84925055685052,
           50.3764004413042,
           23.872488398295577,
           17.873248985241258,
           22.862954733628833,
           32.1041325484562,
           41.275427989028096,
           48.018049365557296,
           51.46250188723236,
           51.783700951261174,
           49.813543528269754,
           46.72512793675941,
           43.79155556750381,
           42.2141337772224,
           43.0093376790092,
           46.94059037424067,
           54.47929675644886,
           65.77912583133742,
           80.64779099815208,
           98.50103738542113,
           118.28372058803664,
           138.34226247221574,
           156.23090755942744,
           168.43058832934716,
           169.95335005470312,
           153.79669595691377,
           110.20040201013087,
           25.642828082062024
          ],
          [
           440.32506000712476,
           274.627378814459,
           164.640349712535,
           97.36040301819055,
           60.705324293794106,
           44.38699708581764,
           40.26275208485383,
           42.33932468338102,
           46.563646140288505,
           50.50094214961189,
           52.972397014468484,
           53.70147230526461,
           52.99935629326979,
           51.50547505604358,
           49.9880284093634,
           49.20163419065047,
           49.79388336085259,
           52.249436364712864,
           56.85873865275886,
           63.69801068160317,
           72.60738553164828,
           83.154435972487,
           94.57036282555218,
           105.64531828035405,
           114.56722187432997,
           118.68450360636011,
           114.16698857976496,
           95.5301311215342,
           54.97552396002547,
           -18.515439777130688
          ],
          [
           435.17591663765677,
           285.98205049842284,
           181.9825422881749,
           114.17521586970831,
           73.43941689310479,
           51.58560124933496,
           41.86917622771266,
           39.14101085176006,
           39.767879690998576,
           41.42292334675929,
           42.81850924772171,
           43.43116882495061,
           43.25008202612367,
           42.566387933848006,
           41.809931432850156,
           41.43242088482616,
           41.83088107725034,
           43.30224977289295,
           46.01849545959087,
           50.01123884437612,
           55.155051711794684,
           61.138894432576784,
           67.41504812513992,
           73.1139096981535,
           76.91065819696716,
           76.82557949952634,
           69.93326391788192,
           51.94647811895146,
           16.627769442239337,
           -45.03470237783731
          ],
          [
           397.33346395568014,
           269.8844737972215,
           177.21888532016897,
           113.8864700696826,
           73.44584105648342,
           49.655258220929966,
           37.11835479163015,
           31.55518467027933,
           29.830473319352286,
           29.83835377375785,
           30.315695800990177,
           30.633900356102107,
           30.60124377739594,
           30.29402710548607,
           29.92442594175726,
           29.745555851628296,
           29.989377922853354,
           30.830179168763227,
           32.36498348028175,
           34.60189123816243,
           37.44751995758991,
           40.68493491049585,
           43.93322801606515,
           46.57873586636112,
           47.66529402120751,
           45.726415123826875,
           38.53536341567728,
           22.73928832486032,
           -6.6696145731956396,
           -57.110015311916996
          ],
          [
           342.10398966857394,
           238.66175200194348,
           160.23737010067487,
           104.44321757280638,
           67.18796148793801,
           43.975171839230846,
           30.652254429339195,
           23.777681612689175,
           20.736622125186994,
           19.70306055256201,
           19.519859289537425,
           19.546461583287464,
           19.506573895599463,
           19.354709818226834,
           19.170436594507365,
           19.08204939684522,
           19.216718343529642,
           19.671419269001014,
           20.49768194849009,
           21.692879280365293,
           23.190948306935244,
           24.845589366289218,
           26.398643573426067,
           27.425011687838733,
           27.242659696301263,
           24.77146858326137,
           18.317438236387574,
           5.248558700872031,
           -18.4849734875397,
           -59.05107993471678
          ],
          [
           280.1794002229709,
           200.6721294123018,
           137.44937316531087,
           90.67698799890066,
           58.25668005092054,
           37.20121296769761,
           24.45978789992312,
           17.358756468345003,
           13.785608744863339,
           12.21276772213714,
           11.631629875106125,
           11.446028710317524,
           11.357375113045547,
           11.260655297310196,
           11.160754699458474,
           11.111734691378684,
           11.17722898409044,
           11.407558505805156,
           11.827997829996303,
           12.432373357971361,
           13.17634388631072,
           13.964818371748972,
           14.627514104031881,
           14.875161570406519,
           14.225830503101603,
           11.88579540284855,
           6.561788686592253,
           -3.8290840245407542,
           -22.599558620795413,
           -54.948398594839475
          ],
          [
           218.961499205639,
           161.58375638687502,
           113.04499778191636,
           75.55244122189934,
           48.6319379288833,
           30.550773578246904,
           19.194647511071757,
           12.560811000035795,
           8.99279097370686,
           7.251325070776334,
           6.490597787118667,
           6.188106254018697,
           6.060008304888066,
           5.981125409710473,
           5.919399240725381,
           5.888043538896787,
           5.914403037930359,
           6.022138930414367,
           6.222316188479633,
           6.508782438617252,
           6.853411496372306,
           7.196847550963116,
           7.429838811871,
           7.35860264852099,
           6.644428329742029,
           4.7024088611708,
           0.5363105855605917,
           -7.524351387510855,
           -22.233451760358584,
           -48.05055222290993
          ],
          [
           163.4343971611519,
           125.18476682786803,
           89.76183977058155,
           60.912829927853366,
           39.420016097014724,
           24.544325257451433,
           14.930968030775196,
           9.13558232123216,
           5.893460930033368,
           4.224258374825767,
           3.439601729666704,
           3.1007804910348358,
           2.95767173101945,
           2.8877795792931025,
           2.845242840202895,
           2.8234017597277736,
           2.8305250685573604,
           2.8760919015655477,
           2.9641104898942037,
           3.0898470991421796,
           3.236545005187244,
           3.368744817367042,
           3.418184636524214,
           3.2564718321943453,
           2.6452880983974265,
           1.1493263604985149,
           -2.0110274841552274,
           -8.201552642221316,
           -19.759775184415336,
           -40.59244769863662
          ],
          [
           116.74817215013971,
           93.89424004460463,
           69.34291837526403,
           47.9018863280934,
           31.253814980839753,
           19.39611145827514,
           11.554167130438433,
           6.722717619516788,
           3.954726312069728,
           2.4876524134608626,
           1.772569790052411,
           1.4518743813473383,
           1.3157662882489507,
           1.2558282143617017,
           1.2253552141935913,
           1.2101321446546085,
           1.2096152837906453,
           1.226463732662771,
           1.2615949120914778,
           1.3119171650487977,
           1.3681316372120482,
           1.4100056920054527,
           1.3958115817642562,
           1.2407074028740919,
           0.775222969280573,
           -0.3307883949556942,
           -2.701849557951036,
           -7.4829729270312235,
           -16.708250188419314,
           -33.881427188119545
          ],
          [
           80.62825482038258,
           69.09410078177171,
           52.80916639826158,
           37.192616609562236,
           24.491423733942536,
           15.193836793369492,
           8.931094066740071,
           5.017836426358675,
           2.747177056323474,
           1.527472326022907,
           0.9240293569249519,
           0.6497886356779348,
           0.5339453506486257,
           0.48603142181439285,
           0.46468191481559684,
           0.45466513837632744,
           0.45227567962999643,
           0.45738439355543126,
           0.4698193901529484,
           0.48782781558262045,
           0.5066501606626073,
           0.51523741129813,
           0.48836703999554826,
           0.36937708502509803,
           0.03494883344431823,
           -0.7726616245039183,
           -2.5693040097353954,
           -6.343869584676109,
           -13.915516994140205,
           -28.504114939196143
          ],
          [
           55.685909806527974,
           51.36205940849513,
           40.631116441187984,
           29.111968014808678,
           19.306053811441533,
           11.964308100000093,
           6.960080189058182,
           3.8140602141352895,
           1.9834392437239166,
           0.9992716290070263,
           0.5127937752319284,
           0.2927975374960893,
           0.20156869967540342,
           0.16589194179996328,
           0.15170379777064041,
           0.1456548113259075,
           0.14363187302635058,
           0.1447020241383789,
           0.1484803040828165,
           0.1541069559824549,
           0.15935394920936508,
           0.15837778811189612,
           0.13580541170694438,
           0.052693109469329466,
           -0.18405475714890177,
           -0.7834693697666438,
           -2.18719981593408,
           -5.277099757600187,
           -11.725797527721713,
           -24.56265630106157
          ],
          [
           41.674769453374125,
           40.65445138321121,
           32.85239441048098,
           23.717569209807532,
           15.72695298859086,
           9.68787344227546,
           5.566770513531814,
           2.985713229978195,
           1.4949249587396096,
           0.7019690546697199,
           0.31563855186323775,
           0.14448871457461027,
           0.07586038324806402,
           0.050675583468358126,
           0.041755269674945555,
           0.03842281085880443,
           0.037226351595041896,
           0.03724895806961188,
           0.03818794464921626,
           0.03968443143377151,
           0.04078146653482221,
           0.038394417955067726,
           0.022801258317832557,
           -0.03408670927504297,
           -0.20602074487868943,
           -0.6700819288719699,
           -1.8188218252112374,
           -4.463605047532239,
           -10.182327375340408,
           -21.885436454867907
          ],
          [
           37.71578871304607,
           36.46444367757468,
           29.193479982448068,
           20.85787735921625,
           13.665377215585565,
           8.298339194094225,
           4.68486657439664,
           2.455610693198098,
           1.1903045272526815,
           0.5311438529794014,
           0.21814142058370312,
           0.08403582050469961,
           0.032752634958502724,
           0.015301516728169727,
           0.009859480575478868,
           0.008148389132983335,
           0.007573824290686094,
           0.007463716334333756,
           0.007638715835836852,
           0.007972796954786868,
           0.008072434797556677,
           0.006226363211136592,
           -0.004134147723226146,
           -0.04456189377225535,
           -0.17665676803970434,
           -0.5570712748489577,
           -1.5470149753479965,
           -3.9137481442798983,
           -9.178361721834673,
           -20.185309963914552
          ],
          [
           42.497374138575225,
           37.96467840092771,
           29.14705902299802,
           20.229237626480707,
           12.941221250890738,
           7.68596440669478,
           4.241269588711225,
           2.167193329317973,
           1.0185986818219894,
           0.4362428538483039,
           0.16842101821395103,
           0.05821457387722436,
           0.01832477160934212,
           0.00582111743799134,
           0.002408781074453467,
           0.001530825872165542,
           0.0012799007887480491,
           0.0012105527498344224,
           0.0012279891555620982,
           0.001292404443430598,
           0.001230341038496775,
           -3.5569023409672907e-06,
           -0.007209159396820484,
           -0.03798026900429627,
           -0.14630003492703983,
           -0.47593694726884517,
           -1.368679558294084,
           -3.5656793518073897,
           -8.557329708494091,
           -19.158684234809822
          ],
          [
           54.4479377259631,
           44.133162955687254,
           32.065317561106454,
           21.431715190940405,
           13.313637416778228,
           7.708278348464982,
           4.151722192557816,
           2.0688832296886446,
           0.9454552686760875,
           0.39135495784076746,
           0.144410856607709,
           0.04665835254235866,
           0.013059809876434795,
           0.0032902147506376172,
           0.0009214992472491199,
           0.0004141402209609139,
           0.0002929993749570602,
           0.0002561573854654164,
           0.0002511565657640954,
           0.0002630629940903404,
           0.000203549623145396,
           -0.0006197539439810719,
           -0.005928642171531386,
           -0.030757512405317412,
           -0.12406884801297641,
           -0.4211998594760994,
           -1.2516659338120624,
           -3.3413653293968855,
           -8.16572987048145,
           -18.53233778402746
          ],
          [
           71.87388048435011,
           53.85623421400817,
           37.233853363294685,
           24.019238866342125,
           14.512047612821295,
           8.205983952329813,
           4.3250491658401256,
           2.109567751862757,
           0.9422806599255371,
           0.3799323514331507,
           0.1356912373701395,
           0.04194209305687823,
           0.010984941677140618,
           0.0024780899812968655,
           0.0005839508452119537,
           0.00022545764559896457,
           0.00014872411202046743,
           0.00012458984803142228,
           0.0001182754932113927,
           0.00012301193814235156,
           0.00010066451984904204,
           -0.0003894948700701016,
           -0.004253147924333764,
           -0.02454224124009611,
           -0.10630925279744671,
           -0.3783817894707509,
           -1.161054990784853,
           -3.1694955814918746,
           -7.870483591520205,
           -18.072475287020822
          ],
          [
           93.0561635799937,
           66.0018639778018,
           43.92565198955411,
           27.53774155552944,
           16.26151944644999,
           9.01823945816492,
           4.670635199492798,
           2.2402081529417526,
           0.9835826076541407,
           0.3891651679863897,
           0.13591428904784927,
           0.04082514169917972,
           0.010277523365334506,
           0.0021899669645422345,
           0.000482117706956783,
           0.0001803058889425958,
           0.00011850251538333343,
           9.896303704913227e-05,
           9.430210702614219e-05,
           0.00010595845360104125,
           0.00015346315090109295,
           6.507615711516106e-05,
           -0.002216335602638762,
           -0.0176973806916804,
           -0.08738438795128378,
           -0.3332884800722836,
           -1.0658176125736283,
           -2.9880517311004313,
           -7.5555513029385555,
           -17.57308320890958
          ],
          [
           116.30231924497738,
           79.45957690823016,
           51.43093196979463,
           31.54673862511748,
           18.297675534889496,
           9.992295334864838,
           5.103993413844453,
           2.4163604165685584,
           1.0472914143220307,
           0.4087900784654061,
           0.1406389502787364,
           0.041517483858461754,
           0.010248406753817014,
           0.0021505549827075124,
           0.000483154441748181,
           0.00019299893530544198,
           0.00013257550801313198,
           0.00011436988846203538,
           0.00011480805267747942,
           0.00015101360870181614,
           0.0003352443021864326,
           0.000875973861469357,
           0.0008515670532678616,
           -0.008057184379051067,
           -0.061515279859547745,
           -0.27230372283157095,
           -0.9367198782128772,
           -2.738737857814931,
           -7.1115249153341775,
           -16.839009836136913
          ],
          [
           139.95713190650864,
           93.14896272773794,
           59.06375096462824,
           35.62429337226966,
           20.37027824047104,
           10.98594614950887,
           5.5483145506205975,
           2.599029834698019,
           1.1151025368722025,
           0.4310759371821216,
           0.1470860177007831,
           0.043301983768364236,
           0.010901810766083299,
           0.0025469975713511093,
           0.0007853528781990676,
           0.00044067036121246895,
           0.00035402262027381,
           0.0003335813814621971,
           0.0003588119605493414,
           0.0004810529337810732,
           0.0009763367201338384,
           0.002648292774086396,
           0.006259561732246237,
           0.00739979556501643,
           -0.021812515030020775,
           -0.18043799967909188,
           -0.7429381841306062,
           -2.3615846320008993,
           -6.42749716343035,
           -15.674209206827495
          ],
          [
           162.38342471787442,
           106.00632434809498,
           66.15322400568947,
           39.36172162384594,
           22.240522862005047,
           11.866679960096427,
           5.934886074216161,
           2.7559008783193972,
           1.1741686306579424,
           0.45272366803263736,
           0.15607086486518304,
           0.0483904370386285,
           0.01465804182416709,
           0.005602884418299257,
           0.003358948072810283,
           0.0027079779245559803,
           0.0024779278368046004,
           0.0024576842629704613,
           0.0026284707510812544,
           0.003104870637348306,
           0.0044343431438550835,
           0.0083339089127421,
           0.018056804391444362,
           0.03489080984462935,
           0.04230410252258537,
           -0.03851566592297476,
           -0.44902736090231155,
           -1.7917130909391341,
           -5.387631627551957,
           -13.878117233276363
          ],
          [
           181.9335603982428,
           116.96755520240461,
           72.03517868933416,
           42.361827696775435,
           23.6840231592175,
           12.51791358414976,
           6.211375370991766,
           2.8707322775127677,
           1.2269051143835075,
           0.4845855964261219,
           0.18131565856272394,
           0.07065591482292774,
           0.034454759469431884,
           0.02309333975299305,
           0.01899172942769708,
           0.017128560358521346,
           0.016360585749851587,
           0.016440612129980305,
           0.017332407656766347,
           0.01922003097767367,
           0.023016987197431504,
           0.031708164892666375,
           0.052015099979145295,
           0.09317320799784018,
           0.1545586854549689,
           0.18601326264259685,
           -0.006502645705624421,
           -0.9523331400903142,
           -3.8663736279771603,
           -11.244027682483583
          ],
          [
           196.94155055603753,
           124.9740249981476,
           76.06820306401907,
           44.26208399809899,
           24.518626575757043,
           12.86943327868644,
           6.373324369035277,
           2.9747265711754975,
           1.3214031392564376,
           0.5805939519450295,
           0.27662639243504134,
           0.16101060132884257,
           0.1174566917706448,
           0.09865714965447776,
           0.08857536625712314,
           0.0828815256701032,
           0.08059035433962874,
           0.0813919942832923,
           0.08513794455131649,
           0.09195908665245443,
           0.10306272838427408,
           0.12289082620864092,
           0.16253253840985055,
           0.2415814791791434,
           0.38052194689935304,
           0.567729447671318,
           0.673789486943487,
           0.27058531739201164,
           -1.7070094306354333,
           -7.543463089338539
          ],
          [
           205.77420702023252,
           129.03621590267952,
           77.70547244654152,
           44.81110899431266,
           24.682695189564594,
           12.975259498229821,
           6.539946755662061,
           3.2191162210381847,
           1.6201099150687515,
           0.9022318273153592,
           0.5961853650861346,
           0.46382963630893104,
           0.39814527338035643,
           0.3582579731712824,
           0.3317632095501056,
           0.31593912837791827,
           0.31023692034892514,
           0.31420944370907133,
           0.32728999619998506,
           0.34907437295809124,
           0.38050115396424783,
           0.4270780004015307,
           0.5045760633520231,
           0.6449208800616805,
           0.8948568119396754,
           1.2918636239491794,
           1.7902686765043874,
           2.09503685782785,
           1.3408432863569546,
           -2.4707485813672747
          ],
          [
           206.9867046761215,
           128.3962333627483,
           76.65961406617627,
           44.0322056730038,
           24.394474798037553,
           13.166764017233248,
           7.099596086486319,
           4.012197253783536,
           2.5281812235380374,
           1.8384250210836675,
           1.5065993917163076,
           1.322099911751889,
           1.1977711482384366,
           1.1053354386265566,
           1.0393406312832774,
           1.0002378916422627,
           0.9884018964332414,
           1.003021869239062,
           1.0423334140042881,
           1.1041384384787136,
           1.1874840863367293,
           1.2972519742832171,
           1.4527566182526608,
           1.698777190244572,
           2.112260133829202,
           2.789742141316961,
           3.7888640184271307,
           4.981686492430271,
           5.75738951658865,
           4.486847546693566
          ],
          [
           199.6324004375479,
           122.83425988613422,
           73.20132580918671,
           42.51073749588768,
           24.425791180004506,
           14.311130352126767,
           8.952225998763225,
           6.24572883976828,
           4.904377175530004,
           4.202022455076399,
           3.7705005951523725,
           3.4500408778018117,
           3.1881763894724906,
           2.9782108975590806,
           2.826717250026315,
           2.7398022897238645,
           2.7194833566311463,
           2.763992167968112,
           2.8686636772911034,
           3.0267908787752575,
           3.2319419012808694,
           3.4842535879244534,
           3.802646540140389,
           4.242260780039792,
           4.911199210663892,
           5.972398389903893,
           7.604633239831796,
           9.880814648371553,
           12.50136694405089,
           14.295086396425464
          ],
          [
           183.77790982679815,
           113.16466871703088,
           68.63264995977441,
           41.841883741807166,
           26.522702007630304,
           18.204306636734106,
           13.874935003459479,
           11.634145777609614,
           10.375702384333197,
           9.522208783838696,
           8.81956261462646,
           8.189944727553499,
           7.635972181590739,
           7.185314335007037,
           6.864019207333488,
           6.687530267238485,
           6.660402678794197,
           6.778563272950796,
           7.03111056177225,
           7.40163043953855,
           7.8713202765999934,
           8.427379368292343,
           9.07964761170198,
           9.885867307021755,
           10.980715577074681,
           12.595417527718942,
           15.042813392696601,
           18.626726978465733,
           23.413878207073925,
           28.78090990760529
          ],
          [
           161.27142371693216,
           101.9640099578362,
           65.97185724785668,
           45.27097360163435,
           34.00103764958024,
           28.122596433635074,
           25.03142047574039,
           23.18454307131539,
           21.771328272546413,
           20.44639794239606,
           19.128913039342997,
           17.864058394384447,
           16.737134125185605,
           15.827920956858659,
           15.192471544111038,
           14.860695874834267,
           14.840566440023583,
           15.122978538639275,
           15.68477330805807,
           16.490676290529272,
           17.497433022962102,
           18.66474573083979,
           19.977242176497935,
           21.479149516833125,
           23.318113125136268,
           25.786203185589276,
           29.334100936435735,
           34.518262178351065,
           41.82002853751113,
           51.24970743769968
          ],
          [
           136.8041956598628,
           94.56456686922783,
           70.87796325970784,
           58.54929095488809,
           52.53512675266832,
           49.54710994374646,
           47.63600203284648,
           45.80503020129397,
           43.680820745951905,
           41.25453325143534,
           38.69423535935148,
           36.221622149471735,
           34.04139380264804,
           32.30947083335414,
           31.12625822037368,
           30.542878686789763,
           30.571191644463777,
           31.192008383044342,
           32.359716408629474,
           34.00504688193439,
           36.04046932960523,
           38.374187664580674,
           40.93845151155343,
           43.7353973510348,
           46.89840552969258,
           50.758512194930866,
           55.89326015752051,
           63.119020026890325,
           73.36677315886041,
           87.35513146455696
          ]
         ]
        }
       ],
       "layout": {
        "margin": {
         "b": 10,
         "l": 10,
         "r": 20,
         "t": 10
        },
        "scene": {
         "xaxis": {
          "nticks": 4,
          "range": [
           -4,
           4
          ]
         },
         "yaxis": {
          "nticks": 4,
          "range": [
           -4,
           4
          ]
         },
         "zaxis": {
          "nticks": 4,
          "range": [
           -10.044616163431314,
           71.08169328189483
          ]
         }
        },
        "template": {
         "data": {
          "bar": [
           {
            "error_x": {
             "color": "#2a3f5f"
            },
            "error_y": {
             "color": "#2a3f5f"
            },
            "marker": {
             "line": {
              "color": "#E5ECF6",
              "width": 0.5
             },
             "pattern": {
              "fillmode": "overlay",
              "size": 10,
              "solidity": 0.2
             }
            },
            "type": "bar"
           }
          ],
          "barpolar": [
           {
            "marker": {
             "line": {
              "color": "#E5ECF6",
              "width": 0.5
             },
             "pattern": {
              "fillmode": "overlay",
              "size": 10,
              "solidity": 0.2
             }
            },
            "type": "barpolar"
           }
          ],
          "carpet": [
           {
            "aaxis": {
             "endlinecolor": "#2a3f5f",
             "gridcolor": "white",
             "linecolor": "white",
             "minorgridcolor": "white",
             "startlinecolor": "#2a3f5f"
            },
            "baxis": {
             "endlinecolor": "#2a3f5f",
             "gridcolor": "white",
             "linecolor": "white",
             "minorgridcolor": "white",
             "startlinecolor": "#2a3f5f"
            },
            "type": "carpet"
           }
          ],
          "choropleth": [
           {
            "colorbar": {
             "outlinewidth": 0,
             "ticks": ""
            },
            "type": "choropleth"
           }
          ],
          "contour": [
           {
            "colorbar": {
             "outlinewidth": 0,
             "ticks": ""
            },
            "colorscale": [
             [
              0,
              "#0d0887"
             ],
             [
              0.1111111111111111,
              "#46039f"
             ],
             [
              0.2222222222222222,
              "#7201a8"
             ],
             [
              0.3333333333333333,
              "#9c179e"
             ],
             [
              0.4444444444444444,
              "#bd3786"
             ],
             [
              0.5555555555555556,
              "#d8576b"
             ],
             [
              0.6666666666666666,
              "#ed7953"
             ],
             [
              0.7777777777777778,
              "#fb9f3a"
             ],
             [
              0.8888888888888888,
              "#fdca26"
             ],
             [
              1,
              "#f0f921"
             ]
            ],
            "type": "contour"
           }
          ],
          "contourcarpet": [
           {
            "colorbar": {
             "outlinewidth": 0,
             "ticks": ""
            },
            "type": "contourcarpet"
           }
          ],
          "heatmap": [
           {
            "colorbar": {
             "outlinewidth": 0,
             "ticks": ""
            },
            "colorscale": [
             [
              0,
              "#0d0887"
             ],
             [
              0.1111111111111111,
              "#46039f"
             ],
             [
              0.2222222222222222,
              "#7201a8"
             ],
             [
              0.3333333333333333,
              "#9c179e"
             ],
             [
              0.4444444444444444,
              "#bd3786"
             ],
             [
              0.5555555555555556,
              "#d8576b"
             ],
             [
              0.6666666666666666,
              "#ed7953"
             ],
             [
              0.7777777777777778,
              "#fb9f3a"
             ],
             [
              0.8888888888888888,
              "#fdca26"
             ],
             [
              1,
              "#f0f921"
             ]
            ],
            "type": "heatmap"
           }
          ],
          "heatmapgl": [
           {
            "colorbar": {
             "outlinewidth": 0,
             "ticks": ""
            },
            "colorscale": [
             [
              0,
              "#0d0887"
             ],
             [
              0.1111111111111111,
              "#46039f"
             ],
             [
              0.2222222222222222,
              "#7201a8"
             ],
             [
              0.3333333333333333,
              "#9c179e"
             ],
             [
              0.4444444444444444,
              "#bd3786"
             ],
             [
              0.5555555555555556,
              "#d8576b"
             ],
             [
              0.6666666666666666,
              "#ed7953"
             ],
             [
              0.7777777777777778,
              "#fb9f3a"
             ],
             [
              0.8888888888888888,
              "#fdca26"
             ],
             [
              1,
              "#f0f921"
             ]
            ],
            "type": "heatmapgl"
           }
          ],
          "histogram": [
           {
            "marker": {
             "pattern": {
              "fillmode": "overlay",
              "size": 10,
              "solidity": 0.2
             }
            },
            "type": "histogram"
           }
          ],
          "histogram2d": [
           {
            "colorbar": {
             "outlinewidth": 0,
             "ticks": ""
            },
            "colorscale": [
             [
              0,
              "#0d0887"
             ],
             [
              0.1111111111111111,
              "#46039f"
             ],
             [
              0.2222222222222222,
              "#7201a8"
             ],
             [
              0.3333333333333333,
              "#9c179e"
             ],
             [
              0.4444444444444444,
              "#bd3786"
             ],
             [
              0.5555555555555556,
              "#d8576b"
             ],
             [
              0.6666666666666666,
              "#ed7953"
             ],
             [
              0.7777777777777778,
              "#fb9f3a"
             ],
             [
              0.8888888888888888,
              "#fdca26"
             ],
             [
              1,
              "#f0f921"
             ]
            ],
            "type": "histogram2d"
           }
          ],
          "histogram2dcontour": [
           {
            "colorbar": {
             "outlinewidth": 0,
             "ticks": ""
            },
            "colorscale": [
             [
              0,
              "#0d0887"
             ],
             [
              0.1111111111111111,
              "#46039f"
             ],
             [
              0.2222222222222222,
              "#7201a8"
             ],
             [
              0.3333333333333333,
              "#9c179e"
             ],
             [
              0.4444444444444444,
              "#bd3786"
             ],
             [
              0.5555555555555556,
              "#d8576b"
             ],
             [
              0.6666666666666666,
              "#ed7953"
             ],
             [
              0.7777777777777778,
              "#fb9f3a"
             ],
             [
              0.8888888888888888,
              "#fdca26"
             ],
             [
              1,
              "#f0f921"
             ]
            ],
            "type": "histogram2dcontour"
           }
          ],
          "mesh3d": [
           {
            "colorbar": {
             "outlinewidth": 0,
             "ticks": ""
            },
            "type": "mesh3d"
           }
          ],
          "parcoords": [
           {
            "line": {
             "colorbar": {
              "outlinewidth": 0,
              "ticks": ""
             }
            },
            "type": "parcoords"
           }
          ],
          "pie": [
           {
            "automargin": true,
            "type": "pie"
           }
          ],
          "scatter": [
           {
            "marker": {
             "colorbar": {
              "outlinewidth": 0,
              "ticks": ""
             }
            },
            "type": "scatter"
           }
          ],
          "scatter3d": [
           {
            "line": {
             "colorbar": {
              "outlinewidth": 0,
              "ticks": ""
             }
            },
            "marker": {
             "colorbar": {
              "outlinewidth": 0,
              "ticks": ""
             }
            },
            "type": "scatter3d"
           }
          ],
          "scattercarpet": [
           {
            "marker": {
             "colorbar": {
              "outlinewidth": 0,
              "ticks": ""
             }
            },
            "type": "scattercarpet"
           }
          ],
          "scattergeo": [
           {
            "marker": {
             "colorbar": {
              "outlinewidth": 0,
              "ticks": ""
             }
            },
            "type": "scattergeo"
           }
          ],
          "scattergl": [
           {
            "marker": {
             "colorbar": {
              "outlinewidth": 0,
              "ticks": ""
             }
            },
            "type": "scattergl"
           }
          ],
          "scattermapbox": [
           {
            "marker": {
             "colorbar": {
              "outlinewidth": 0,
              "ticks": ""
             }
            },
            "type": "scattermapbox"
           }
          ],
          "scatterpolar": [
           {
            "marker": {
             "colorbar": {
              "outlinewidth": 0,
              "ticks": ""
             }
            },
            "type": "scatterpolar"
           }
          ],
          "scatterpolargl": [
           {
            "marker": {
             "colorbar": {
              "outlinewidth": 0,
              "ticks": ""
             }
            },
            "type": "scatterpolargl"
           }
          ],
          "scatterternary": [
           {
            "marker": {
             "colorbar": {
              "outlinewidth": 0,
              "ticks": ""
             }
            },
            "type": "scatterternary"
           }
          ],
          "surface": [
           {
            "colorbar": {
             "outlinewidth": 0,
             "ticks": ""
            },
            "colorscale": [
             [
              0,
              "#0d0887"
             ],
             [
              0.1111111111111111,
              "#46039f"
             ],
             [
              0.2222222222222222,
              "#7201a8"
             ],
             [
              0.3333333333333333,
              "#9c179e"
             ],
             [
              0.4444444444444444,
              "#bd3786"
             ],
             [
              0.5555555555555556,
              "#d8576b"
             ],
             [
              0.6666666666666666,
              "#ed7953"
             ],
             [
              0.7777777777777778,
              "#fb9f3a"
             ],
             [
              0.8888888888888888,
              "#fdca26"
             ],
             [
              1,
              "#f0f921"
             ]
            ],
            "type": "surface"
           }
          ],
          "table": [
           {
            "cells": {
             "fill": {
              "color": "#EBF0F8"
             },
             "line": {
              "color": "white"
             }
            },
            "header": {
             "fill": {
              "color": "#C8D4E3"
             },
             "line": {
              "color": "white"
             }
            },
            "type": "table"
           }
          ]
         },
         "layout": {
          "annotationdefaults": {
           "arrowcolor": "#2a3f5f",
           "arrowhead": 0,
           "arrowwidth": 1
          },
          "autotypenumbers": "strict",
          "coloraxis": {
           "colorbar": {
            "outlinewidth": 0,
            "ticks": ""
           }
          },
          "colorscale": {
           "diverging": [
            [
             0,
             "#8e0152"
            ],
            [
             0.1,
             "#c51b7d"
            ],
            [
             0.2,
             "#de77ae"
            ],
            [
             0.3,
             "#f1b6da"
            ],
            [
             0.4,
             "#fde0ef"
            ],
            [
             0.5,
             "#f7f7f7"
            ],
            [
             0.6,
             "#e6f5d0"
            ],
            [
             0.7,
             "#b8e186"
            ],
            [
             0.8,
             "#7fbc41"
            ],
            [
             0.9,
             "#4d9221"
            ],
            [
             1,
             "#276419"
            ]
           ],
           "sequential": [
            [
             0,
             "#0d0887"
            ],
            [
             0.1111111111111111,
             "#46039f"
            ],
            [
             0.2222222222222222,
             "#7201a8"
            ],
            [
             0.3333333333333333,
             "#9c179e"
            ],
            [
             0.4444444444444444,
             "#bd3786"
            ],
            [
             0.5555555555555556,
             "#d8576b"
            ],
            [
             0.6666666666666666,
             "#ed7953"
            ],
            [
             0.7777777777777778,
             "#fb9f3a"
            ],
            [
             0.8888888888888888,
             "#fdca26"
            ],
            [
             1,
             "#f0f921"
            ]
           ],
           "sequentialminus": [
            [
             0,
             "#0d0887"
            ],
            [
             0.1111111111111111,
             "#46039f"
            ],
            [
             0.2222222222222222,
             "#7201a8"
            ],
            [
             0.3333333333333333,
             "#9c179e"
            ],
            [
             0.4444444444444444,
             "#bd3786"
            ],
            [
             0.5555555555555556,
             "#d8576b"
            ],
            [
             0.6666666666666666,
             "#ed7953"
            ],
            [
             0.7777777777777778,
             "#fb9f3a"
            ],
            [
             0.8888888888888888,
             "#fdca26"
            ],
            [
             1,
             "#f0f921"
            ]
           ]
          },
          "colorway": [
           "#636efa",
           "#EF553B",
           "#00cc96",
           "#ab63fa",
           "#FFA15A",
           "#19d3f3",
           "#FF6692",
           "#B6E880",
           "#FF97FF",
           "#FECB52"
          ],
          "font": {
           "color": "#2a3f5f"
          },
          "geo": {
           "bgcolor": "white",
           "lakecolor": "white",
           "landcolor": "#E5ECF6",
           "showlakes": true,
           "showland": true,
           "subunitcolor": "white"
          },
          "hoverlabel": {
           "align": "left"
          },
          "hovermode": "closest",
          "mapbox": {
           "style": "light"
          },
          "paper_bgcolor": "white",
          "plot_bgcolor": "#E5ECF6",
          "polar": {
           "angularaxis": {
            "gridcolor": "white",
            "linecolor": "white",
            "ticks": ""
           },
           "bgcolor": "#E5ECF6",
           "radialaxis": {
            "gridcolor": "white",
            "linecolor": "white",
            "ticks": ""
           }
          },
          "scene": {
           "xaxis": {
            "backgroundcolor": "#E5ECF6",
            "gridcolor": "white",
            "gridwidth": 2,
            "linecolor": "white",
            "showbackground": true,
            "ticks": "",
            "zerolinecolor": "white"
           },
           "yaxis": {
            "backgroundcolor": "#E5ECF6",
            "gridcolor": "white",
            "gridwidth": 2,
            "linecolor": "white",
            "showbackground": true,
            "ticks": "",
            "zerolinecolor": "white"
           },
           "zaxis": {
            "backgroundcolor": "#E5ECF6",
            "gridcolor": "white",
            "gridwidth": 2,
            "linecolor": "white",
            "showbackground": true,
            "ticks": "",
            "zerolinecolor": "white"
           }
          },
          "shapedefaults": {
           "line": {
            "color": "#2a3f5f"
           }
          },
          "ternary": {
           "aaxis": {
            "gridcolor": "white",
            "linecolor": "white",
            "ticks": ""
           },
           "baxis": {
            "gridcolor": "white",
            "linecolor": "white",
            "ticks": ""
           },
           "bgcolor": "#E5ECF6",
           "caxis": {
            "gridcolor": "white",
            "linecolor": "white",
            "ticks": ""
           }
          },
          "title": {
           "x": 0.05
          },
          "xaxis": {
           "automargin": true,
           "gridcolor": "white",
           "linecolor": "white",
           "ticks": "",
           "title": {
            "standoff": 15
           },
           "zerolinecolor": "white",
           "zerolinewidth": 2
          },
          "yaxis": {
           "automargin": true,
           "gridcolor": "white",
           "linecolor": "white",
           "ticks": "",
           "title": {
            "standoff": 15
           },
           "zerolinecolor": "white",
           "zerolinewidth": 2
          }
         }
        },
        "width": 700
       }
      },
      "text/html": [
       "<div>                            <div id=\"790a0487-926a-405f-a883-a700501b0563\" class=\"plotly-graph-div\" style=\"height:525px; width:700px;\"></div>            <script type=\"text/javascript\">                require([\"plotly\"], function(Plotly) {                    window.PLOTLYENV=window.PLOTLYENV || {};                                    if (document.getElementById(\"790a0487-926a-405f-a883-a700501b0563\")) {                    Plotly.newPlot(                        \"790a0487-926a-405f-a883-a700501b0563\",                        [{\"marker\":{\"size\":5},\"mode\":\"markers\",\"x\":[-3.2086823823179325,-3.1687613464804936,-3.214255628531649,-2.657026165844902,-3.8309706673875916,-1.664343561722083,-0.9178945242831558,-1.981035002825788,-1.7937113151946888,-1.9260441710897602,-1.5053754543668434,-2.9759004875604638,-1.0877202363532472,-1.6477394742833336,-0.18801192523673882,-1.3884718926218838,-0.26251030991006286,-1.359262469993773,0.5236681510388402,-0.25889447163995205,0.429577860281386,-0.6047651732937148,0.3867712704399705,-0.48702681057879843,2.212267823076846,0.244732666128048,0.6702227745512799,1.510563313469187,0.9152784296982819,0.25201598323328733,2.4534925373456273,2.388369937592006,1.9820680627123402,2.4126854443319905,2.110464198714606,1.6133533297365785],\"y\":[-2.644518199913065,-1.5382899085360267,-1.2085035395414139,0.8752084626653813,1.0523031832965084,1.6876760194662637,-3.386477527179501,-1.981530886300722,-1.2340587405496317,-0.4786370284376456,1.4285790074417788,2.222768410469307,-3.294234575756981,-2.2664752471635885,-1.3814087497039502,-0.8053577350031791,0.626393791331738,1.5205821973918812,-2.485742245003116,-2.4212037767994614,-1.724802769489963,0.49932410868195026,0.8544510445159714,2.0624795723293707,-2.8499984235854945,-1.5204791439303902,-1.633110636657276,-0.20950947494777897,2.5022596181922303,2.0372361570544735,-2.480281001669092,-1.0986227738900753,-1.537159872559561,0.3615074960204158,1.7393295056070408,1.5890077459647562],\"z\":[66.55935719128513,53.078087670704676,52.38884697078182,34.334949581111324,71.08169328189483,7.16732001037676,40.98711938857622,27.113653359066564,15.497443578892868,19.32688892433834,8.477750991229568,34.059877256768395,42.83131318162893,20.474146847987218,2.9763373496276886,12.98733469906429,-0.1320513916486758,4.868830458263838,12.466246256490425,10.481683682909132,5.863801719270033,0.9252759313131027,-4.8670814640658335,-10.044616163431314,51.08266301031584,1.5811476690822985,3.9146218003488498,10.299391434955815,-9.856035739096928,-8.792025119081181,50.3338895295989,27.282544219407058,19.613363864064738,29.51338121001575,21.7874802249028,6.977161519457205],\"type\":\"scatter3d\"},{\"opacity\":0.5,\"showscale\":false,\"x\":[[-3.8309706673875916,-3.8309706673875916,-3.8309706673875916,-3.8309706673875916,-3.8309706673875916,-3.8309706673875916,-3.8309706673875916,-3.8309706673875916,-3.8309706673875916,-3.8309706673875916,-3.8309706673875916,-3.8309706673875916,-3.8309706673875916,-3.8309706673875916,-3.8309706673875916,-3.8309706673875916,-3.8309706673875916,-3.8309706673875916,-3.8309706673875916,-3.8309706673875916,-3.8309706673875916,-3.8309706673875916,-3.8309706673875916,-3.8309706673875916,-3.8309706673875916,-3.8309706673875916,-3.8309706673875916,-3.8309706673875916,-3.8309706673875916,-3.8309706673875916],[-3.61426503963817,-3.61426503963817,-3.61426503963817,-3.61426503963817,-3.61426503963817,-3.61426503963817,-3.61426503963817,-3.61426503963817,-3.61426503963817,-3.61426503963817,-3.61426503963817,-3.61426503963817,-3.61426503963817,-3.61426503963817,-3.61426503963817,-3.61426503963817,-3.61426503963817,-3.61426503963817,-3.61426503963817,-3.61426503963817,-3.61426503963817,-3.61426503963817,-3.61426503963817,-3.61426503963817,-3.61426503963817,-3.61426503963817,-3.61426503963817,-3.61426503963817,-3.61426503963817,-3.61426503963817],[-3.397559411888749,-3.397559411888749,-3.397559411888749,-3.397559411888749,-3.397559411888749,-3.397559411888749,-3.397559411888749,-3.397559411888749,-3.397559411888749,-3.397559411888749,-3.397559411888749,-3.397559411888749,-3.397559411888749,-3.397559411888749,-3.397559411888749,-3.397559411888749,-3.397559411888749,-3.397559411888749,-3.397559411888749,-3.397559411888749,-3.397559411888749,-3.397559411888749,-3.397559411888749,-3.397559411888749,-3.397559411888749,-3.397559411888749,-3.397559411888749,-3.397559411888749,-3.397559411888749,-3.397559411888749],[-3.1808537841393276,-3.1808537841393276,-3.1808537841393276,-3.1808537841393276,-3.1808537841393276,-3.1808537841393276,-3.1808537841393276,-3.1808537841393276,-3.1808537841393276,-3.1808537841393276,-3.1808537841393276,-3.1808537841393276,-3.1808537841393276,-3.1808537841393276,-3.1808537841393276,-3.1808537841393276,-3.1808537841393276,-3.1808537841393276,-3.1808537841393276,-3.1808537841393276,-3.1808537841393276,-3.1808537841393276,-3.1808537841393276,-3.1808537841393276,-3.1808537841393276,-3.1808537841393276,-3.1808537841393276,-3.1808537841393276,-3.1808537841393276,-3.1808537841393276],[-2.964148156389906,-2.964148156389906,-2.964148156389906,-2.964148156389906,-2.964148156389906,-2.964148156389906,-2.964148156389906,-2.964148156389906,-2.964148156389906,-2.964148156389906,-2.964148156389906,-2.964148156389906,-2.964148156389906,-2.964148156389906,-2.964148156389906,-2.964148156389906,-2.964148156389906,-2.964148156389906,-2.964148156389906,-2.964148156389906,-2.964148156389906,-2.964148156389906,-2.964148156389906,-2.964148156389906,-2.964148156389906,-2.964148156389906,-2.964148156389906,-2.964148156389906,-2.964148156389906,-2.964148156389906],[-2.7474425286404847,-2.7474425286404847,-2.7474425286404847,-2.7474425286404847,-2.7474425286404847,-2.7474425286404847,-2.7474425286404847,-2.7474425286404847,-2.7474425286404847,-2.7474425286404847,-2.7474425286404847,-2.7474425286404847,-2.7474425286404847,-2.7474425286404847,-2.7474425286404847,-2.7474425286404847,-2.7474425286404847,-2.7474425286404847,-2.7474425286404847,-2.7474425286404847,-2.7474425286404847,-2.7474425286404847,-2.7474425286404847,-2.7474425286404847,-2.7474425286404847,-2.7474425286404847,-2.7474425286404847,-2.7474425286404847,-2.7474425286404847,-2.7474425286404847],[-2.530736900891063,-2.530736900891063,-2.530736900891063,-2.530736900891063,-2.530736900891063,-2.530736900891063,-2.530736900891063,-2.530736900891063,-2.530736900891063,-2.530736900891063,-2.530736900891063,-2.530736900891063,-2.530736900891063,-2.530736900891063,-2.530736900891063,-2.530736900891063,-2.530736900891063,-2.530736900891063,-2.530736900891063,-2.530736900891063,-2.530736900891063,-2.530736900891063,-2.530736900891063,-2.530736900891063,-2.530736900891063,-2.530736900891063,-2.530736900891063,-2.530736900891063,-2.530736900891063,-2.530736900891063],[-2.314031273141642,-2.314031273141642,-2.314031273141642,-2.314031273141642,-2.314031273141642,-2.314031273141642,-2.314031273141642,-2.314031273141642,-2.314031273141642,-2.314031273141642,-2.314031273141642,-2.314031273141642,-2.314031273141642,-2.314031273141642,-2.314031273141642,-2.314031273141642,-2.314031273141642,-2.314031273141642,-2.314031273141642,-2.314031273141642,-2.314031273141642,-2.314031273141642,-2.314031273141642,-2.314031273141642,-2.314031273141642,-2.314031273141642,-2.314031273141642,-2.314031273141642,-2.314031273141642,-2.314031273141642],[-2.0973256453922207,-2.0973256453922207,-2.0973256453922207,-2.0973256453922207,-2.0973256453922207,-2.0973256453922207,-2.0973256453922207,-2.0973256453922207,-2.0973256453922207,-2.0973256453922207,-2.0973256453922207,-2.0973256453922207,-2.0973256453922207,-2.0973256453922207,-2.0973256453922207,-2.0973256453922207,-2.0973256453922207,-2.0973256453922207,-2.0973256453922207,-2.0973256453922207,-2.0973256453922207,-2.0973256453922207,-2.0973256453922207,-2.0973256453922207,-2.0973256453922207,-2.0973256453922207,-2.0973256453922207,-2.0973256453922207,-2.0973256453922207,-2.0973256453922207],[-1.8806200176427992,-1.8806200176427992,-1.8806200176427992,-1.8806200176427992,-1.8806200176427992,-1.8806200176427992,-1.8806200176427992,-1.8806200176427992,-1.8806200176427992,-1.8806200176427992,-1.8806200176427992,-1.8806200176427992,-1.8806200176427992,-1.8806200176427992,-1.8806200176427992,-1.8806200176427992,-1.8806200176427992,-1.8806200176427992,-1.8806200176427992,-1.8806200176427992,-1.8806200176427992,-1.8806200176427992,-1.8806200176427992,-1.8806200176427992,-1.8806200176427992,-1.8806200176427992,-1.8806200176427992,-1.8806200176427992,-1.8806200176427992,-1.8806200176427992],[-1.6639143898933777,-1.6639143898933777,-1.6639143898933777,-1.6639143898933777,-1.6639143898933777,-1.6639143898933777,-1.6639143898933777,-1.6639143898933777,-1.6639143898933777,-1.6639143898933777,-1.6639143898933777,-1.6639143898933777,-1.6639143898933777,-1.6639143898933777,-1.6639143898933777,-1.6639143898933777,-1.6639143898933777,-1.6639143898933777,-1.6639143898933777,-1.6639143898933777,-1.6639143898933777,-1.6639143898933777,-1.6639143898933777,-1.6639143898933777,-1.6639143898933777,-1.6639143898933777,-1.6639143898933777,-1.6639143898933777,-1.6639143898933777,-1.6639143898933777],[-1.4472087621439567,-1.4472087621439567,-1.4472087621439567,-1.4472087621439567,-1.4472087621439567,-1.4472087621439567,-1.4472087621439567,-1.4472087621439567,-1.4472087621439567,-1.4472087621439567,-1.4472087621439567,-1.4472087621439567,-1.4472087621439567,-1.4472087621439567,-1.4472087621439567,-1.4472087621439567,-1.4472087621439567,-1.4472087621439567,-1.4472087621439567,-1.4472087621439567,-1.4472087621439567,-1.4472087621439567,-1.4472087621439567,-1.4472087621439567,-1.4472087621439567,-1.4472087621439567,-1.4472087621439567,-1.4472087621439567,-1.4472087621439567,-1.4472087621439567],[-1.2305031343945352,-1.2305031343945352,-1.2305031343945352,-1.2305031343945352,-1.2305031343945352,-1.2305031343945352,-1.2305031343945352,-1.2305031343945352,-1.2305031343945352,-1.2305031343945352,-1.2305031343945352,-1.2305031343945352,-1.2305031343945352,-1.2305031343945352,-1.2305031343945352,-1.2305031343945352,-1.2305031343945352,-1.2305031343945352,-1.2305031343945352,-1.2305031343945352,-1.2305031343945352,-1.2305031343945352,-1.2305031343945352,-1.2305031343945352,-1.2305031343945352,-1.2305031343945352,-1.2305031343945352,-1.2305031343945352,-1.2305031343945352,-1.2305031343945352],[-1.0137975066451137,-1.0137975066451137,-1.0137975066451137,-1.0137975066451137,-1.0137975066451137,-1.0137975066451137,-1.0137975066451137,-1.0137975066451137,-1.0137975066451137,-1.0137975066451137,-1.0137975066451137,-1.0137975066451137,-1.0137975066451137,-1.0137975066451137,-1.0137975066451137,-1.0137975066451137,-1.0137975066451137,-1.0137975066451137,-1.0137975066451137,-1.0137975066451137,-1.0137975066451137,-1.0137975066451137,-1.0137975066451137,-1.0137975066451137,-1.0137975066451137,-1.0137975066451137,-1.0137975066451137,-1.0137975066451137,-1.0137975066451137,-1.0137975066451137],[-0.7970918788956927,-0.7970918788956927,-0.7970918788956927,-0.7970918788956927,-0.7970918788956927,-0.7970918788956927,-0.7970918788956927,-0.7970918788956927,-0.7970918788956927,-0.7970918788956927,-0.7970918788956927,-0.7970918788956927,-0.7970918788956927,-0.7970918788956927,-0.7970918788956927,-0.7970918788956927,-0.7970918788956927,-0.7970918788956927,-0.7970918788956927,-0.7970918788956927,-0.7970918788956927,-0.7970918788956927,-0.7970918788956927,-0.7970918788956927,-0.7970918788956927,-0.7970918788956927,-0.7970918788956927,-0.7970918788956927,-0.7970918788956927,-0.7970918788956927],[-0.5803862511462712,-0.5803862511462712,-0.5803862511462712,-0.5803862511462712,-0.5803862511462712,-0.5803862511462712,-0.5803862511462712,-0.5803862511462712,-0.5803862511462712,-0.5803862511462712,-0.5803862511462712,-0.5803862511462712,-0.5803862511462712,-0.5803862511462712,-0.5803862511462712,-0.5803862511462712,-0.5803862511462712,-0.5803862511462712,-0.5803862511462712,-0.5803862511462712,-0.5803862511462712,-0.5803862511462712,-0.5803862511462712,-0.5803862511462712,-0.5803862511462712,-0.5803862511462712,-0.5803862511462712,-0.5803862511462712,-0.5803862511462712,-0.5803862511462712],[-0.3636806233968497,-0.3636806233968497,-0.3636806233968497,-0.3636806233968497,-0.3636806233968497,-0.3636806233968497,-0.3636806233968497,-0.3636806233968497,-0.3636806233968497,-0.3636806233968497,-0.3636806233968497,-0.3636806233968497,-0.3636806233968497,-0.3636806233968497,-0.3636806233968497,-0.3636806233968497,-0.3636806233968497,-0.3636806233968497,-0.3636806233968497,-0.3636806233968497,-0.3636806233968497,-0.3636806233968497,-0.3636806233968497,-0.3636806233968497,-0.3636806233968497,-0.3636806233968497,-0.3636806233968497,-0.3636806233968497,-0.3636806233968497,-0.3636806233968497],[-0.14697499564742822,-0.14697499564742822,-0.14697499564742822,-0.14697499564742822,-0.14697499564742822,-0.14697499564742822,-0.14697499564742822,-0.14697499564742822,-0.14697499564742822,-0.14697499564742822,-0.14697499564742822,-0.14697499564742822,-0.14697499564742822,-0.14697499564742822,-0.14697499564742822,-0.14697499564742822,-0.14697499564742822,-0.14697499564742822,-0.14697499564742822,-0.14697499564742822,-0.14697499564742822,-0.14697499564742822,-0.14697499564742822,-0.14697499564742822,-0.14697499564742822,-0.14697499564742822,-0.14697499564742822,-0.14697499564742822,-0.14697499564742822,-0.14697499564742822],[0.06973063210199326,0.06973063210199326,0.06973063210199326,0.06973063210199326,0.06973063210199326,0.06973063210199326,0.06973063210199326,0.06973063210199326,0.06973063210199326,0.06973063210199326,0.06973063210199326,0.06973063210199326,0.06973063210199326,0.06973063210199326,0.06973063210199326,0.06973063210199326,0.06973063210199326,0.06973063210199326,0.06973063210199326,0.06973063210199326,0.06973063210199326,0.06973063210199326,0.06973063210199326,0.06973063210199326,0.06973063210199326,0.06973063210199326,0.06973063210199326,0.06973063210199326,0.06973063210199326,0.06973063210199326],[0.28643625985141474,0.28643625985141474,0.28643625985141474,0.28643625985141474,0.28643625985141474,0.28643625985141474,0.28643625985141474,0.28643625985141474,0.28643625985141474,0.28643625985141474,0.28643625985141474,0.28643625985141474,0.28643625985141474,0.28643625985141474,0.28643625985141474,0.28643625985141474,0.28643625985141474,0.28643625985141474,0.28643625985141474,0.28643625985141474,0.28643625985141474,0.28643625985141474,0.28643625985141474,0.28643625985141474,0.28643625985141474,0.28643625985141474,0.28643625985141474,0.28643625985141474,0.28643625985141474,0.28643625985141474],[0.5031418876008362,0.5031418876008362,0.5031418876008362,0.5031418876008362,0.5031418876008362,0.5031418876008362,0.5031418876008362,0.5031418876008362,0.5031418876008362,0.5031418876008362,0.5031418876008362,0.5031418876008362,0.5031418876008362,0.5031418876008362,0.5031418876008362,0.5031418876008362,0.5031418876008362,0.5031418876008362,0.5031418876008362,0.5031418876008362,0.5031418876008362,0.5031418876008362,0.5031418876008362,0.5031418876008362,0.5031418876008362,0.5031418876008362,0.5031418876008362,0.5031418876008362,0.5031418876008362,0.5031418876008362],[0.7198475153502568,0.7198475153502568,0.7198475153502568,0.7198475153502568,0.7198475153502568,0.7198475153502568,0.7198475153502568,0.7198475153502568,0.7198475153502568,0.7198475153502568,0.7198475153502568,0.7198475153502568,0.7198475153502568,0.7198475153502568,0.7198475153502568,0.7198475153502568,0.7198475153502568,0.7198475153502568,0.7198475153502568,0.7198475153502568,0.7198475153502568,0.7198475153502568,0.7198475153502568,0.7198475153502568,0.7198475153502568,0.7198475153502568,0.7198475153502568,0.7198475153502568,0.7198475153502568,0.7198475153502568],[0.9365531430996783,0.9365531430996783,0.9365531430996783,0.9365531430996783,0.9365531430996783,0.9365531430996783,0.9365531430996783,0.9365531430996783,0.9365531430996783,0.9365531430996783,0.9365531430996783,0.9365531430996783,0.9365531430996783,0.9365531430996783,0.9365531430996783,0.9365531430996783,0.9365531430996783,0.9365531430996783,0.9365531430996783,0.9365531430996783,0.9365531430996783,0.9365531430996783,0.9365531430996783,0.9365531430996783,0.9365531430996783,0.9365531430996783,0.9365531430996783,0.9365531430996783,0.9365531430996783,0.9365531430996783],[1.1532587708490998,1.1532587708490998,1.1532587708490998,1.1532587708490998,1.1532587708490998,1.1532587708490998,1.1532587708490998,1.1532587708490998,1.1532587708490998,1.1532587708490998,1.1532587708490998,1.1532587708490998,1.1532587708490998,1.1532587708490998,1.1532587708490998,1.1532587708490998,1.1532587708490998,1.1532587708490998,1.1532587708490998,1.1532587708490998,1.1532587708490998,1.1532587708490998,1.1532587708490998,1.1532587708490998,1.1532587708490998,1.1532587708490998,1.1532587708490998,1.1532587708490998,1.1532587708490998,1.1532587708490998],[1.3699643985985213,1.3699643985985213,1.3699643985985213,1.3699643985985213,1.3699643985985213,1.3699643985985213,1.3699643985985213,1.3699643985985213,1.3699643985985213,1.3699643985985213,1.3699643985985213,1.3699643985985213,1.3699643985985213,1.3699643985985213,1.3699643985985213,1.3699643985985213,1.3699643985985213,1.3699643985985213,1.3699643985985213,1.3699643985985213,1.3699643985985213,1.3699643985985213,1.3699643985985213,1.3699643985985213,1.3699643985985213,1.3699643985985213,1.3699643985985213,1.3699643985985213,1.3699643985985213,1.3699643985985213],[1.5866700263479427,1.5866700263479427,1.5866700263479427,1.5866700263479427,1.5866700263479427,1.5866700263479427,1.5866700263479427,1.5866700263479427,1.5866700263479427,1.5866700263479427,1.5866700263479427,1.5866700263479427,1.5866700263479427,1.5866700263479427,1.5866700263479427,1.5866700263479427,1.5866700263479427,1.5866700263479427,1.5866700263479427,1.5866700263479427,1.5866700263479427,1.5866700263479427,1.5866700263479427,1.5866700263479427,1.5866700263479427,1.5866700263479427,1.5866700263479427,1.5866700263479427,1.5866700263479427,1.5866700263479427],[1.8033756540973642,1.8033756540973642,1.8033756540973642,1.8033756540973642,1.8033756540973642,1.8033756540973642,1.8033756540973642,1.8033756540973642,1.8033756540973642,1.8033756540973642,1.8033756540973642,1.8033756540973642,1.8033756540973642,1.8033756540973642,1.8033756540973642,1.8033756540973642,1.8033756540973642,1.8033756540973642,1.8033756540973642,1.8033756540973642,1.8033756540973642,1.8033756540973642,1.8033756540973642,1.8033756540973642,1.8033756540973642,1.8033756540973642,1.8033756540973642,1.8033756540973642,1.8033756540973642,1.8033756540973642],[2.0200812818467857,2.0200812818467857,2.0200812818467857,2.0200812818467857,2.0200812818467857,2.0200812818467857,2.0200812818467857,2.0200812818467857,2.0200812818467857,2.0200812818467857,2.0200812818467857,2.0200812818467857,2.0200812818467857,2.0200812818467857,2.0200812818467857,2.0200812818467857,2.0200812818467857,2.0200812818467857,2.0200812818467857,2.0200812818467857,2.0200812818467857,2.0200812818467857,2.0200812818467857,2.0200812818467857,2.0200812818467857,2.0200812818467857,2.0200812818467857,2.0200812818467857,2.0200812818467857,2.0200812818467857],[2.2367869095962063,2.2367869095962063,2.2367869095962063,2.2367869095962063,2.2367869095962063,2.2367869095962063,2.2367869095962063,2.2367869095962063,2.2367869095962063,2.2367869095962063,2.2367869095962063,2.2367869095962063,2.2367869095962063,2.2367869095962063,2.2367869095962063,2.2367869095962063,2.2367869095962063,2.2367869095962063,2.2367869095962063,2.2367869095962063,2.2367869095962063,2.2367869095962063,2.2367869095962063,2.2367869095962063,2.2367869095962063,2.2367869095962063,2.2367869095962063,2.2367869095962063,2.2367869095962063,2.2367869095962063],[2.4534925373456273,2.4534925373456273,2.4534925373456273,2.4534925373456273,2.4534925373456273,2.4534925373456273,2.4534925373456273,2.4534925373456273,2.4534925373456273,2.4534925373456273,2.4534925373456273,2.4534925373456273,2.4534925373456273,2.4534925373456273,2.4534925373456273,2.4534925373456273,2.4534925373456273,2.4534925373456273,2.4534925373456273,2.4534925373456273,2.4534925373456273,2.4534925373456273,2.4534925373456273,2.4534925373456273,2.4534925373456273,2.4534925373456273,2.4534925373456273,2.4534925373456273,2.4534925373456273,2.4534925373456273]],\"y\":[[-3.386477527179501,-3.1834176256149584,-2.980357724050416,-2.777297822485874,-2.5742379209213313,-2.3711780193567886,-2.1681181177922464,-1.965058216227704,-1.7619983146631615,-1.558938413098619,-1.3558785115340766,-1.1528186099695343,-0.9497587084049917,-0.746698806840449,-0.5436389052759067,-0.3405790037113645,-0.13751910214682184,0.06554079941772084,0.2686007009822631,0.4716606025468053,0.674720504111348,0.8777804056758907,1.0808403072404325,1.2839002088049751,1.4869601103695178,1.6900200119340605,1.8930799134986032,2.096139815063145,2.2991997166276876,2.5022596181922303],[-3.386477527179501,-3.1834176256149584,-2.980357724050416,-2.777297822485874,-2.5742379209213313,-2.3711780193567886,-2.1681181177922464,-1.965058216227704,-1.7619983146631615,-1.558938413098619,-1.3558785115340766,-1.1528186099695343,-0.9497587084049917,-0.746698806840449,-0.5436389052759067,-0.3405790037113645,-0.13751910214682184,0.06554079941772084,0.2686007009822631,0.4716606025468053,0.674720504111348,0.8777804056758907,1.0808403072404325,1.2839002088049751,1.4869601103695178,1.6900200119340605,1.8930799134986032,2.096139815063145,2.2991997166276876,2.5022596181922303],[-3.386477527179501,-3.1834176256149584,-2.980357724050416,-2.777297822485874,-2.5742379209213313,-2.3711780193567886,-2.1681181177922464,-1.965058216227704,-1.7619983146631615,-1.558938413098619,-1.3558785115340766,-1.1528186099695343,-0.9497587084049917,-0.746698806840449,-0.5436389052759067,-0.3405790037113645,-0.13751910214682184,0.06554079941772084,0.2686007009822631,0.4716606025468053,0.674720504111348,0.8777804056758907,1.0808403072404325,1.2839002088049751,1.4869601103695178,1.6900200119340605,1.8930799134986032,2.096139815063145,2.2991997166276876,2.5022596181922303],[-3.386477527179501,-3.1834176256149584,-2.980357724050416,-2.777297822485874,-2.5742379209213313,-2.3711780193567886,-2.1681181177922464,-1.965058216227704,-1.7619983146631615,-1.558938413098619,-1.3558785115340766,-1.1528186099695343,-0.9497587084049917,-0.746698806840449,-0.5436389052759067,-0.3405790037113645,-0.13751910214682184,0.06554079941772084,0.2686007009822631,0.4716606025468053,0.674720504111348,0.8777804056758907,1.0808403072404325,1.2839002088049751,1.4869601103695178,1.6900200119340605,1.8930799134986032,2.096139815063145,2.2991997166276876,2.5022596181922303],[-3.386477527179501,-3.1834176256149584,-2.980357724050416,-2.777297822485874,-2.5742379209213313,-2.3711780193567886,-2.1681181177922464,-1.965058216227704,-1.7619983146631615,-1.558938413098619,-1.3558785115340766,-1.1528186099695343,-0.9497587084049917,-0.746698806840449,-0.5436389052759067,-0.3405790037113645,-0.13751910214682184,0.06554079941772084,0.2686007009822631,0.4716606025468053,0.674720504111348,0.8777804056758907,1.0808403072404325,1.2839002088049751,1.4869601103695178,1.6900200119340605,1.8930799134986032,2.096139815063145,2.2991997166276876,2.5022596181922303],[-3.386477527179501,-3.1834176256149584,-2.980357724050416,-2.777297822485874,-2.5742379209213313,-2.3711780193567886,-2.1681181177922464,-1.965058216227704,-1.7619983146631615,-1.558938413098619,-1.3558785115340766,-1.1528186099695343,-0.9497587084049917,-0.746698806840449,-0.5436389052759067,-0.3405790037113645,-0.13751910214682184,0.06554079941772084,0.2686007009822631,0.4716606025468053,0.674720504111348,0.8777804056758907,1.0808403072404325,1.2839002088049751,1.4869601103695178,1.6900200119340605,1.8930799134986032,2.096139815063145,2.2991997166276876,2.5022596181922303],[-3.386477527179501,-3.1834176256149584,-2.980357724050416,-2.777297822485874,-2.5742379209213313,-2.3711780193567886,-2.1681181177922464,-1.965058216227704,-1.7619983146631615,-1.558938413098619,-1.3558785115340766,-1.1528186099695343,-0.9497587084049917,-0.746698806840449,-0.5436389052759067,-0.3405790037113645,-0.13751910214682184,0.06554079941772084,0.2686007009822631,0.4716606025468053,0.674720504111348,0.8777804056758907,1.0808403072404325,1.2839002088049751,1.4869601103695178,1.6900200119340605,1.8930799134986032,2.096139815063145,2.2991997166276876,2.5022596181922303],[-3.386477527179501,-3.1834176256149584,-2.980357724050416,-2.777297822485874,-2.5742379209213313,-2.3711780193567886,-2.1681181177922464,-1.965058216227704,-1.7619983146631615,-1.558938413098619,-1.3558785115340766,-1.1528186099695343,-0.9497587084049917,-0.746698806840449,-0.5436389052759067,-0.3405790037113645,-0.13751910214682184,0.06554079941772084,0.2686007009822631,0.4716606025468053,0.674720504111348,0.8777804056758907,1.0808403072404325,1.2839002088049751,1.4869601103695178,1.6900200119340605,1.8930799134986032,2.096139815063145,2.2991997166276876,2.5022596181922303],[-3.386477527179501,-3.1834176256149584,-2.980357724050416,-2.777297822485874,-2.5742379209213313,-2.3711780193567886,-2.1681181177922464,-1.965058216227704,-1.7619983146631615,-1.558938413098619,-1.3558785115340766,-1.1528186099695343,-0.9497587084049917,-0.746698806840449,-0.5436389052759067,-0.3405790037113645,-0.13751910214682184,0.06554079941772084,0.2686007009822631,0.4716606025468053,0.674720504111348,0.8777804056758907,1.0808403072404325,1.2839002088049751,1.4869601103695178,1.6900200119340605,1.8930799134986032,2.096139815063145,2.2991997166276876,2.5022596181922303],[-3.386477527179501,-3.1834176256149584,-2.980357724050416,-2.777297822485874,-2.5742379209213313,-2.3711780193567886,-2.1681181177922464,-1.965058216227704,-1.7619983146631615,-1.558938413098619,-1.3558785115340766,-1.1528186099695343,-0.9497587084049917,-0.746698806840449,-0.5436389052759067,-0.3405790037113645,-0.13751910214682184,0.06554079941772084,0.2686007009822631,0.4716606025468053,0.674720504111348,0.8777804056758907,1.0808403072404325,1.2839002088049751,1.4869601103695178,1.6900200119340605,1.8930799134986032,2.096139815063145,2.2991997166276876,2.5022596181922303],[-3.386477527179501,-3.1834176256149584,-2.980357724050416,-2.777297822485874,-2.5742379209213313,-2.3711780193567886,-2.1681181177922464,-1.965058216227704,-1.7619983146631615,-1.558938413098619,-1.3558785115340766,-1.1528186099695343,-0.9497587084049917,-0.746698806840449,-0.5436389052759067,-0.3405790037113645,-0.13751910214682184,0.06554079941772084,0.2686007009822631,0.4716606025468053,0.674720504111348,0.8777804056758907,1.0808403072404325,1.2839002088049751,1.4869601103695178,1.6900200119340605,1.8930799134986032,2.096139815063145,2.2991997166276876,2.5022596181922303],[-3.386477527179501,-3.1834176256149584,-2.980357724050416,-2.777297822485874,-2.5742379209213313,-2.3711780193567886,-2.1681181177922464,-1.965058216227704,-1.7619983146631615,-1.558938413098619,-1.3558785115340766,-1.1528186099695343,-0.9497587084049917,-0.746698806840449,-0.5436389052759067,-0.3405790037113645,-0.13751910214682184,0.06554079941772084,0.2686007009822631,0.4716606025468053,0.674720504111348,0.8777804056758907,1.0808403072404325,1.2839002088049751,1.4869601103695178,1.6900200119340605,1.8930799134986032,2.096139815063145,2.2991997166276876,2.5022596181922303],[-3.386477527179501,-3.1834176256149584,-2.980357724050416,-2.777297822485874,-2.5742379209213313,-2.3711780193567886,-2.1681181177922464,-1.965058216227704,-1.7619983146631615,-1.558938413098619,-1.3558785115340766,-1.1528186099695343,-0.9497587084049917,-0.746698806840449,-0.5436389052759067,-0.3405790037113645,-0.13751910214682184,0.06554079941772084,0.2686007009822631,0.4716606025468053,0.674720504111348,0.8777804056758907,1.0808403072404325,1.2839002088049751,1.4869601103695178,1.6900200119340605,1.8930799134986032,2.096139815063145,2.2991997166276876,2.5022596181922303],[-3.386477527179501,-3.1834176256149584,-2.980357724050416,-2.777297822485874,-2.5742379209213313,-2.3711780193567886,-2.1681181177922464,-1.965058216227704,-1.7619983146631615,-1.558938413098619,-1.3558785115340766,-1.1528186099695343,-0.9497587084049917,-0.746698806840449,-0.5436389052759067,-0.3405790037113645,-0.13751910214682184,0.06554079941772084,0.2686007009822631,0.4716606025468053,0.674720504111348,0.8777804056758907,1.0808403072404325,1.2839002088049751,1.4869601103695178,1.6900200119340605,1.8930799134986032,2.096139815063145,2.2991997166276876,2.5022596181922303],[-3.386477527179501,-3.1834176256149584,-2.980357724050416,-2.777297822485874,-2.5742379209213313,-2.3711780193567886,-2.1681181177922464,-1.965058216227704,-1.7619983146631615,-1.558938413098619,-1.3558785115340766,-1.1528186099695343,-0.9497587084049917,-0.746698806840449,-0.5436389052759067,-0.3405790037113645,-0.13751910214682184,0.06554079941772084,0.2686007009822631,0.4716606025468053,0.674720504111348,0.8777804056758907,1.0808403072404325,1.2839002088049751,1.4869601103695178,1.6900200119340605,1.8930799134986032,2.096139815063145,2.2991997166276876,2.5022596181922303],[-3.386477527179501,-3.1834176256149584,-2.980357724050416,-2.777297822485874,-2.5742379209213313,-2.3711780193567886,-2.1681181177922464,-1.965058216227704,-1.7619983146631615,-1.558938413098619,-1.3558785115340766,-1.1528186099695343,-0.9497587084049917,-0.746698806840449,-0.5436389052759067,-0.3405790037113645,-0.13751910214682184,0.06554079941772084,0.2686007009822631,0.4716606025468053,0.674720504111348,0.8777804056758907,1.0808403072404325,1.2839002088049751,1.4869601103695178,1.6900200119340605,1.8930799134986032,2.096139815063145,2.2991997166276876,2.5022596181922303],[-3.386477527179501,-3.1834176256149584,-2.980357724050416,-2.777297822485874,-2.5742379209213313,-2.3711780193567886,-2.1681181177922464,-1.965058216227704,-1.7619983146631615,-1.558938413098619,-1.3558785115340766,-1.1528186099695343,-0.9497587084049917,-0.746698806840449,-0.5436389052759067,-0.3405790037113645,-0.13751910214682184,0.06554079941772084,0.2686007009822631,0.4716606025468053,0.674720504111348,0.8777804056758907,1.0808403072404325,1.2839002088049751,1.4869601103695178,1.6900200119340605,1.8930799134986032,2.096139815063145,2.2991997166276876,2.5022596181922303],[-3.386477527179501,-3.1834176256149584,-2.980357724050416,-2.777297822485874,-2.5742379209213313,-2.3711780193567886,-2.1681181177922464,-1.965058216227704,-1.7619983146631615,-1.558938413098619,-1.3558785115340766,-1.1528186099695343,-0.9497587084049917,-0.746698806840449,-0.5436389052759067,-0.3405790037113645,-0.13751910214682184,0.06554079941772084,0.2686007009822631,0.4716606025468053,0.674720504111348,0.8777804056758907,1.0808403072404325,1.2839002088049751,1.4869601103695178,1.6900200119340605,1.8930799134986032,2.096139815063145,2.2991997166276876,2.5022596181922303],[-3.386477527179501,-3.1834176256149584,-2.980357724050416,-2.777297822485874,-2.5742379209213313,-2.3711780193567886,-2.1681181177922464,-1.965058216227704,-1.7619983146631615,-1.558938413098619,-1.3558785115340766,-1.1528186099695343,-0.9497587084049917,-0.746698806840449,-0.5436389052759067,-0.3405790037113645,-0.13751910214682184,0.06554079941772084,0.2686007009822631,0.4716606025468053,0.674720504111348,0.8777804056758907,1.0808403072404325,1.2839002088049751,1.4869601103695178,1.6900200119340605,1.8930799134986032,2.096139815063145,2.2991997166276876,2.5022596181922303],[-3.386477527179501,-3.1834176256149584,-2.980357724050416,-2.777297822485874,-2.5742379209213313,-2.3711780193567886,-2.1681181177922464,-1.965058216227704,-1.7619983146631615,-1.558938413098619,-1.3558785115340766,-1.1528186099695343,-0.9497587084049917,-0.746698806840449,-0.5436389052759067,-0.3405790037113645,-0.13751910214682184,0.06554079941772084,0.2686007009822631,0.4716606025468053,0.674720504111348,0.8777804056758907,1.0808403072404325,1.2839002088049751,1.4869601103695178,1.6900200119340605,1.8930799134986032,2.096139815063145,2.2991997166276876,2.5022596181922303],[-3.386477527179501,-3.1834176256149584,-2.980357724050416,-2.777297822485874,-2.5742379209213313,-2.3711780193567886,-2.1681181177922464,-1.965058216227704,-1.7619983146631615,-1.558938413098619,-1.3558785115340766,-1.1528186099695343,-0.9497587084049917,-0.746698806840449,-0.5436389052759067,-0.3405790037113645,-0.13751910214682184,0.06554079941772084,0.2686007009822631,0.4716606025468053,0.674720504111348,0.8777804056758907,1.0808403072404325,1.2839002088049751,1.4869601103695178,1.6900200119340605,1.8930799134986032,2.096139815063145,2.2991997166276876,2.5022596181922303],[-3.386477527179501,-3.1834176256149584,-2.980357724050416,-2.777297822485874,-2.5742379209213313,-2.3711780193567886,-2.1681181177922464,-1.965058216227704,-1.7619983146631615,-1.558938413098619,-1.3558785115340766,-1.1528186099695343,-0.9497587084049917,-0.746698806840449,-0.5436389052759067,-0.3405790037113645,-0.13751910214682184,0.06554079941772084,0.2686007009822631,0.4716606025468053,0.674720504111348,0.8777804056758907,1.0808403072404325,1.2839002088049751,1.4869601103695178,1.6900200119340605,1.8930799134986032,2.096139815063145,2.2991997166276876,2.5022596181922303],[-3.386477527179501,-3.1834176256149584,-2.980357724050416,-2.777297822485874,-2.5742379209213313,-2.3711780193567886,-2.1681181177922464,-1.965058216227704,-1.7619983146631615,-1.558938413098619,-1.3558785115340766,-1.1528186099695343,-0.9497587084049917,-0.746698806840449,-0.5436389052759067,-0.3405790037113645,-0.13751910214682184,0.06554079941772084,0.2686007009822631,0.4716606025468053,0.674720504111348,0.8777804056758907,1.0808403072404325,1.2839002088049751,1.4869601103695178,1.6900200119340605,1.8930799134986032,2.096139815063145,2.2991997166276876,2.5022596181922303],[-3.386477527179501,-3.1834176256149584,-2.980357724050416,-2.777297822485874,-2.5742379209213313,-2.3711780193567886,-2.1681181177922464,-1.965058216227704,-1.7619983146631615,-1.558938413098619,-1.3558785115340766,-1.1528186099695343,-0.9497587084049917,-0.746698806840449,-0.5436389052759067,-0.3405790037113645,-0.13751910214682184,0.06554079941772084,0.2686007009822631,0.4716606025468053,0.674720504111348,0.8777804056758907,1.0808403072404325,1.2839002088049751,1.4869601103695178,1.6900200119340605,1.8930799134986032,2.096139815063145,2.2991997166276876,2.5022596181922303],[-3.386477527179501,-3.1834176256149584,-2.980357724050416,-2.777297822485874,-2.5742379209213313,-2.3711780193567886,-2.1681181177922464,-1.965058216227704,-1.7619983146631615,-1.558938413098619,-1.3558785115340766,-1.1528186099695343,-0.9497587084049917,-0.746698806840449,-0.5436389052759067,-0.3405790037113645,-0.13751910214682184,0.06554079941772084,0.2686007009822631,0.4716606025468053,0.674720504111348,0.8777804056758907,1.0808403072404325,1.2839002088049751,1.4869601103695178,1.6900200119340605,1.8930799134986032,2.096139815063145,2.2991997166276876,2.5022596181922303],[-3.386477527179501,-3.1834176256149584,-2.980357724050416,-2.777297822485874,-2.5742379209213313,-2.3711780193567886,-2.1681181177922464,-1.965058216227704,-1.7619983146631615,-1.558938413098619,-1.3558785115340766,-1.1528186099695343,-0.9497587084049917,-0.746698806840449,-0.5436389052759067,-0.3405790037113645,-0.13751910214682184,0.06554079941772084,0.2686007009822631,0.4716606025468053,0.674720504111348,0.8777804056758907,1.0808403072404325,1.2839002088049751,1.4869601103695178,1.6900200119340605,1.8930799134986032,2.096139815063145,2.2991997166276876,2.5022596181922303],[-3.386477527179501,-3.1834176256149584,-2.980357724050416,-2.777297822485874,-2.5742379209213313,-2.3711780193567886,-2.1681181177922464,-1.965058216227704,-1.7619983146631615,-1.558938413098619,-1.3558785115340766,-1.1528186099695343,-0.9497587084049917,-0.746698806840449,-0.5436389052759067,-0.3405790037113645,-0.13751910214682184,0.06554079941772084,0.2686007009822631,0.4716606025468053,0.674720504111348,0.8777804056758907,1.0808403072404325,1.2839002088049751,1.4869601103695178,1.6900200119340605,1.8930799134986032,2.096139815063145,2.2991997166276876,2.5022596181922303],[-3.386477527179501,-3.1834176256149584,-2.980357724050416,-2.777297822485874,-2.5742379209213313,-2.3711780193567886,-2.1681181177922464,-1.965058216227704,-1.7619983146631615,-1.558938413098619,-1.3558785115340766,-1.1528186099695343,-0.9497587084049917,-0.746698806840449,-0.5436389052759067,-0.3405790037113645,-0.13751910214682184,0.06554079941772084,0.2686007009822631,0.4716606025468053,0.674720504111348,0.8777804056758907,1.0808403072404325,1.2839002088049751,1.4869601103695178,1.6900200119340605,1.8930799134986032,2.096139815063145,2.2991997166276876,2.5022596181922303],[-3.386477527179501,-3.1834176256149584,-2.980357724050416,-2.777297822485874,-2.5742379209213313,-2.3711780193567886,-2.1681181177922464,-1.965058216227704,-1.7619983146631615,-1.558938413098619,-1.3558785115340766,-1.1528186099695343,-0.9497587084049917,-0.746698806840449,-0.5436389052759067,-0.3405790037113645,-0.13751910214682184,0.06554079941772084,0.2686007009822631,0.4716606025468053,0.674720504111348,0.8777804056758907,1.0808403072404325,1.2839002088049751,1.4869601103695178,1.6900200119340605,1.8930799134986032,2.096139815063145,2.2991997166276876,2.5022596181922303],[-3.386477527179501,-3.1834176256149584,-2.980357724050416,-2.777297822485874,-2.5742379209213313,-2.3711780193567886,-2.1681181177922464,-1.965058216227704,-1.7619983146631615,-1.558938413098619,-1.3558785115340766,-1.1528186099695343,-0.9497587084049917,-0.746698806840449,-0.5436389052759067,-0.3405790037113645,-0.13751910214682184,0.06554079941772084,0.2686007009822631,0.4716606025468053,0.674720504111348,0.8777804056758907,1.0808403072404325,1.2839002088049751,1.4869601103695178,1.6900200119340605,1.8930799134986032,2.096139815063145,2.2991997166276876,2.5022596181922303]],\"z\":[[-11.770964018539729,-155.8470119029503,-220.21300347299308,-231.79200276367808,-212.41192805563682,-178.69942300808896,-142.41906228419847,-111.0819330812522,-88.68922492565672,-76.51186285026319,-73.8369231797237,-78.63606614898139,-88.13099501117685,-99.24649669483017,-108.9534239867097,-114.51253318690743,-113.6358837468589,-104.58602710006697,-86.23495026951893,-58.10518542603201,-20.415138918390387,25.84997806007925,78.82073052248236,135.55849595117218,191.78057448827138,241.47002253183197,276.3397559776863,285.11274256856814,252.56926295240086,158.29777757027415],[255.28997862912846,87.54784419670048,-6.199069446524575,-48.02260400934256,-56.47012394430986,-46.16126208053092,-27.861138467371134,-8.854257911565629,6.515712157255768,16.240219616998118,20.044879634482495,18.83995591414292,14.249528681864955,8.231384872794557,2.7881302018824825,-0.23831632575793407,0.6976830984648793,6.762915759307739,18.697202046021587,36.78071197847803,60.79799568455149,89.98056941837092,122.91022912946187,157.36487435687786,190.08702678958912,216.45193066406583,230.0066367215612,221.8433081805222,179.7586565531928,87.13642760929238],[390.8619121820532,217.547529917099,109.84925055685052,50.3764004413042,23.872488398295577,17.873248985241258,22.862954733628833,32.1041325484562,41.275427989028096,48.018049365557296,51.46250188723236,51.783700951261174,49.813543528269754,46.72512793675941,43.79155556750381,42.2141337772224,43.0093376790092,46.94059037424067,54.47929675644886,65.77912583133742,80.64779099815208,98.50103738542113,118.28372058803664,138.34226247221574,156.23090755942744,168.43058832934716,169.95335005470312,153.79669595691377,110.20040201013087,25.642828082062024],[440.32506000712476,274.627378814459,164.640349712535,97.36040301819055,60.705324293794106,44.38699708581764,40.26275208485383,42.33932468338102,46.563646140288505,50.50094214961189,52.972397014468484,53.70147230526461,52.99935629326979,51.50547505604358,49.9880284093634,49.20163419065047,49.79388336085259,52.249436364712864,56.85873865275886,63.69801068160317,72.60738553164828,83.154435972487,94.57036282555218,105.64531828035405,114.56722187432997,118.68450360636011,114.16698857976496,95.5301311215342,54.97552396002547,-18.515439777130688],[435.17591663765677,285.98205049842284,181.9825422881749,114.17521586970831,73.43941689310479,51.58560124933496,41.86917622771266,39.14101085176006,39.767879690998576,41.42292334675929,42.81850924772171,43.43116882495061,43.25008202612367,42.566387933848006,41.809931432850156,41.43242088482616,41.83088107725034,43.30224977289295,46.01849545959087,50.01123884437612,55.155051711794684,61.138894432576784,67.41504812513992,73.1139096981535,76.91065819696716,76.82557949952634,69.93326391788192,51.94647811895146,16.627769442239337,-45.03470237783731],[397.33346395568014,269.8844737972215,177.21888532016897,113.8864700696826,73.44584105648342,49.655258220929966,37.11835479163015,31.55518467027933,29.830473319352286,29.83835377375785,30.315695800990177,30.633900356102107,30.60124377739594,30.29402710548607,29.92442594175726,29.745555851628296,29.989377922853354,30.830179168763227,32.36498348028175,34.60189123816243,37.44751995758991,40.68493491049585,43.93322801606515,46.57873586636112,47.66529402120751,45.726415123826875,38.53536341567728,22.73928832486032,-6.6696145731956396,-57.110015311916996],[342.10398966857394,238.66175200194348,160.23737010067487,104.44321757280638,67.18796148793801,43.975171839230846,30.652254429339195,23.777681612689175,20.736622125186994,19.70306055256201,19.519859289537425,19.546461583287464,19.506573895599463,19.354709818226834,19.170436594507365,19.08204939684522,19.216718343529642,19.671419269001014,20.49768194849009,21.692879280365293,23.190948306935244,24.845589366289218,26.398643573426067,27.425011687838733,27.242659696301263,24.77146858326137,18.317438236387574,5.248558700872031,-18.4849734875397,-59.05107993471678],[280.1794002229709,200.6721294123018,137.44937316531087,90.67698799890066,58.25668005092054,37.20121296769761,24.45978789992312,17.358756468345003,13.785608744863339,12.21276772213714,11.631629875106125,11.446028710317524,11.357375113045547,11.260655297310196,11.160754699458474,11.111734691378684,11.17722898409044,11.407558505805156,11.827997829996303,12.432373357971361,13.17634388631072,13.964818371748972,14.627514104031881,14.875161570406519,14.225830503101603,11.88579540284855,6.561788686592253,-3.8290840245407542,-22.599558620795413,-54.948398594839475],[218.961499205639,161.58375638687502,113.04499778191636,75.55244122189934,48.6319379288833,30.550773578246904,19.194647511071757,12.560811000035795,8.99279097370686,7.251325070776334,6.490597787118667,6.188106254018697,6.060008304888066,5.981125409710473,5.919399240725381,5.888043538896787,5.914403037930359,6.022138930414367,6.222316188479633,6.508782438617252,6.853411496372306,7.196847550963116,7.429838811871,7.35860264852099,6.644428329742029,4.7024088611708,0.5363105855605917,-7.524351387510855,-22.233451760358584,-48.05055222290993],[163.4343971611519,125.18476682786803,89.76183977058155,60.912829927853366,39.420016097014724,24.544325257451433,14.930968030775196,9.13558232123216,5.893460930033368,4.224258374825767,3.439601729666704,3.1007804910348358,2.95767173101945,2.8877795792931025,2.845242840202895,2.8234017597277736,2.8305250685573604,2.8760919015655477,2.9641104898942037,3.0898470991421796,3.236545005187244,3.368744817367042,3.418184636524214,3.2564718321943453,2.6452880983974265,1.1493263604985149,-2.0110274841552274,-8.201552642221316,-19.759775184415336,-40.59244769863662],[116.74817215013971,93.89424004460463,69.34291837526403,47.9018863280934,31.253814980839753,19.39611145827514,11.554167130438433,6.722717619516788,3.954726312069728,2.4876524134608626,1.772569790052411,1.4518743813473383,1.3157662882489507,1.2558282143617017,1.2253552141935913,1.2101321446546085,1.2096152837906453,1.226463732662771,1.2615949120914778,1.3119171650487977,1.3681316372120482,1.4100056920054527,1.3958115817642562,1.2407074028740919,0.775222969280573,-0.3307883949556942,-2.701849557951036,-7.4829729270312235,-16.708250188419314,-33.881427188119545],[80.62825482038258,69.09410078177171,52.80916639826158,37.192616609562236,24.491423733942536,15.193836793369492,8.931094066740071,5.017836426358675,2.747177056323474,1.527472326022907,0.9240293569249519,0.6497886356779348,0.5339453506486257,0.48603142181439285,0.46468191481559684,0.45466513837632744,0.45227567962999643,0.45738439355543126,0.4698193901529484,0.48782781558262045,0.5066501606626073,0.51523741129813,0.48836703999554826,0.36937708502509803,0.03494883344431823,-0.7726616245039183,-2.5693040097353954,-6.343869584676109,-13.915516994140205,-28.504114939196143],[55.685909806527974,51.36205940849513,40.631116441187984,29.111968014808678,19.306053811441533,11.964308100000093,6.960080189058182,3.8140602141352895,1.9834392437239166,0.9992716290070263,0.5127937752319284,0.2927975374960893,0.20156869967540342,0.16589194179996328,0.15170379777064041,0.1456548113259075,0.14363187302635058,0.1447020241383789,0.1484803040828165,0.1541069559824549,0.15935394920936508,0.15837778811189612,0.13580541170694438,0.052693109469329466,-0.18405475714890177,-0.7834693697666438,-2.18719981593408,-5.277099757600187,-11.725797527721713,-24.56265630106157],[41.674769453374125,40.65445138321121,32.85239441048098,23.717569209807532,15.72695298859086,9.68787344227546,5.566770513531814,2.985713229978195,1.4949249587396096,0.7019690546697199,0.31563855186323775,0.14448871457461027,0.07586038324806402,0.050675583468358126,0.041755269674945555,0.03842281085880443,0.037226351595041896,0.03724895806961188,0.03818794464921626,0.03968443143377151,0.04078146653482221,0.038394417955067726,0.022801258317832557,-0.03408670927504297,-0.20602074487868943,-0.6700819288719699,-1.8188218252112374,-4.463605047532239,-10.182327375340408,-21.885436454867907],[37.71578871304607,36.46444367757468,29.193479982448068,20.85787735921625,13.665377215585565,8.298339194094225,4.68486657439664,2.455610693198098,1.1903045272526815,0.5311438529794014,0.21814142058370312,0.08403582050469961,0.032752634958502724,0.015301516728169727,0.009859480575478868,0.008148389132983335,0.007573824290686094,0.007463716334333756,0.007638715835836852,0.007972796954786868,0.008072434797556677,0.006226363211136592,-0.004134147723226146,-0.04456189377225535,-0.17665676803970434,-0.5570712748489577,-1.5470149753479965,-3.9137481442798983,-9.178361721834673,-20.185309963914552],[42.497374138575225,37.96467840092771,29.14705902299802,20.229237626480707,12.941221250890738,7.68596440669478,4.241269588711225,2.167193329317973,1.0185986818219894,0.4362428538483039,0.16842101821395103,0.05821457387722436,0.01832477160934212,0.00582111743799134,0.002408781074453467,0.001530825872165542,0.0012799007887480491,0.0012105527498344224,0.0012279891555620982,0.001292404443430598,0.001230341038496775,-3.5569023409672907e-06,-0.007209159396820484,-0.03798026900429627,-0.14630003492703983,-0.47593694726884517,-1.368679558294084,-3.5656793518073897,-8.557329708494091,-19.158684234809822],[54.4479377259631,44.133162955687254,32.065317561106454,21.431715190940405,13.313637416778228,7.708278348464982,4.151722192557816,2.0688832296886446,0.9454552686760875,0.39135495784076746,0.144410856607709,0.04665835254235866,0.013059809876434795,0.0032902147506376172,0.0009214992472491199,0.0004141402209609139,0.0002929993749570602,0.0002561573854654164,0.0002511565657640954,0.0002630629940903404,0.000203549623145396,-0.0006197539439810719,-0.005928642171531386,-0.030757512405317412,-0.12406884801297641,-0.4211998594760994,-1.2516659338120624,-3.3413653293968855,-8.16572987048145,-18.53233778402746],[71.87388048435011,53.85623421400817,37.233853363294685,24.019238866342125,14.512047612821295,8.205983952329813,4.3250491658401256,2.109567751862757,0.9422806599255371,0.3799323514331507,0.1356912373701395,0.04194209305687823,0.010984941677140618,0.0024780899812968655,0.0005839508452119537,0.00022545764559896457,0.00014872411202046743,0.00012458984803142228,0.0001182754932113927,0.00012301193814235156,0.00010066451984904204,-0.0003894948700701016,-0.004253147924333764,-0.02454224124009611,-0.10630925279744671,-0.3783817894707509,-1.161054990784853,-3.1694955814918746,-7.870483591520205,-18.072475287020822],[93.0561635799937,66.0018639778018,43.92565198955411,27.53774155552944,16.26151944644999,9.01823945816492,4.670635199492798,2.2402081529417526,0.9835826076541407,0.3891651679863897,0.13591428904784927,0.04082514169917972,0.010277523365334506,0.0021899669645422345,0.000482117706956783,0.0001803058889425958,0.00011850251538333343,9.896303704913227e-05,9.430210702614219e-05,0.00010595845360104125,0.00015346315090109295,6.507615711516106e-05,-0.002216335602638762,-0.0176973806916804,-0.08738438795128378,-0.3332884800722836,-1.0658176125736283,-2.9880517311004313,-7.5555513029385555,-17.57308320890958],[116.30231924497738,79.45957690823016,51.43093196979463,31.54673862511748,18.297675534889496,9.992295334864838,5.103993413844453,2.4163604165685584,1.0472914143220307,0.4087900784654061,0.1406389502787364,0.041517483858461754,0.010248406753817014,0.0021505549827075124,0.000483154441748181,0.00019299893530544198,0.00013257550801313198,0.00011436988846203538,0.00011480805267747942,0.00015101360870181614,0.0003352443021864326,0.000875973861469357,0.0008515670532678616,-0.008057184379051067,-0.061515279859547745,-0.27230372283157095,-0.9367198782128772,-2.738737857814931,-7.1115249153341775,-16.839009836136913],[139.95713190650864,93.14896272773794,59.06375096462824,35.62429337226966,20.37027824047104,10.98594614950887,5.5483145506205975,2.599029834698019,1.1151025368722025,0.4310759371821216,0.1470860177007831,0.043301983768364236,0.010901810766083299,0.0025469975713511093,0.0007853528781990676,0.00044067036121246895,0.00035402262027381,0.0003335813814621971,0.0003588119605493414,0.0004810529337810732,0.0009763367201338384,0.002648292774086396,0.006259561732246237,0.00739979556501643,-0.021812515030020775,-0.18043799967909188,-0.7429381841306062,-2.3615846320008993,-6.42749716343035,-15.674209206827495],[162.38342471787442,106.00632434809498,66.15322400568947,39.36172162384594,22.240522862005047,11.866679960096427,5.934886074216161,2.7559008783193972,1.1741686306579424,0.45272366803263736,0.15607086486518304,0.0483904370386285,0.01465804182416709,0.005602884418299257,0.003358948072810283,0.0027079779245559803,0.0024779278368046004,0.0024576842629704613,0.0026284707510812544,0.003104870637348306,0.0044343431438550835,0.0083339089127421,0.018056804391444362,0.03489080984462935,0.04230410252258537,-0.03851566592297476,-0.44902736090231155,-1.7917130909391341,-5.387631627551957,-13.878117233276363],[181.9335603982428,116.96755520240461,72.03517868933416,42.361827696775435,23.6840231592175,12.51791358414976,6.211375370991766,2.8707322775127677,1.2269051143835075,0.4845855964261219,0.18131565856272394,0.07065591482292774,0.034454759469431884,0.02309333975299305,0.01899172942769708,0.017128560358521346,0.016360585749851587,0.016440612129980305,0.017332407656766347,0.01922003097767367,0.023016987197431504,0.031708164892666375,0.052015099979145295,0.09317320799784018,0.1545586854549689,0.18601326264259685,-0.006502645705624421,-0.9523331400903142,-3.8663736279771603,-11.244027682483583],[196.94155055603753,124.9740249981476,76.06820306401907,44.26208399809899,24.518626575757043,12.86943327868644,6.373324369035277,2.9747265711754975,1.3214031392564376,0.5805939519450295,0.27662639243504134,0.16101060132884257,0.1174566917706448,0.09865714965447776,0.08857536625712314,0.0828815256701032,0.08059035433962874,0.0813919942832923,0.08513794455131649,0.09195908665245443,0.10306272838427408,0.12289082620864092,0.16253253840985055,0.2415814791791434,0.38052194689935304,0.567729447671318,0.673789486943487,0.27058531739201164,-1.7070094306354333,-7.543463089338539],[205.77420702023252,129.03621590267952,77.70547244654152,44.81110899431266,24.682695189564594,12.975259498229821,6.539946755662061,3.2191162210381847,1.6201099150687515,0.9022318273153592,0.5961853650861346,0.46382963630893104,0.39814527338035643,0.3582579731712824,0.3317632095501056,0.31593912837791827,0.31023692034892514,0.31420944370907133,0.32728999619998506,0.34907437295809124,0.38050115396424783,0.4270780004015307,0.5045760633520231,0.6449208800616805,0.8948568119396754,1.2918636239491794,1.7902686765043874,2.09503685782785,1.3408432863569546,-2.4707485813672747],[206.9867046761215,128.3962333627483,76.65961406617627,44.0322056730038,24.394474798037553,13.166764017233248,7.099596086486319,4.012197253783536,2.5281812235380374,1.8384250210836675,1.5065993917163076,1.322099911751889,1.1977711482384366,1.1053354386265566,1.0393406312832774,1.0002378916422627,0.9884018964332414,1.003021869239062,1.0423334140042881,1.1041384384787136,1.1874840863367293,1.2972519742832171,1.4527566182526608,1.698777190244572,2.112260133829202,2.789742141316961,3.7888640184271307,4.981686492430271,5.75738951658865,4.486847546693566],[199.6324004375479,122.83425988613422,73.20132580918671,42.51073749588768,24.425791180004506,14.311130352126767,8.952225998763225,6.24572883976828,4.904377175530004,4.202022455076399,3.7705005951523725,3.4500408778018117,3.1881763894724906,2.9782108975590806,2.826717250026315,2.7398022897238645,2.7194833566311463,2.763992167968112,2.8686636772911034,3.0267908787752575,3.2319419012808694,3.4842535879244534,3.802646540140389,4.242260780039792,4.911199210663892,5.972398389903893,7.604633239831796,9.880814648371553,12.50136694405089,14.295086396425464],[183.77790982679815,113.16466871703088,68.63264995977441,41.841883741807166,26.522702007630304,18.204306636734106,13.874935003459479,11.634145777609614,10.375702384333197,9.522208783838696,8.81956261462646,8.189944727553499,7.635972181590739,7.185314335007037,6.864019207333488,6.687530267238485,6.660402678794197,6.778563272950796,7.03111056177225,7.40163043953855,7.8713202765999934,8.427379368292343,9.07964761170198,9.885867307021755,10.980715577074681,12.595417527718942,15.042813392696601,18.626726978465733,23.413878207073925,28.78090990760529],[161.27142371693216,101.9640099578362,65.97185724785668,45.27097360163435,34.00103764958024,28.122596433635074,25.03142047574039,23.18454307131539,21.771328272546413,20.44639794239606,19.128913039342997,17.864058394384447,16.737134125185605,15.827920956858659,15.192471544111038,14.860695874834267,14.840566440023583,15.122978538639275,15.68477330805807,16.490676290529272,17.497433022962102,18.66474573083979,19.977242176497935,21.479149516833125,23.318113125136268,25.786203185589276,29.334100936435735,34.518262178351065,41.82002853751113,51.24970743769968],[136.8041956598628,94.56456686922783,70.87796325970784,58.54929095488809,52.53512675266832,49.54710994374646,47.63600203284648,45.80503020129397,43.680820745951905,41.25453325143534,38.69423535935148,36.221622149471735,34.04139380264804,32.30947083335414,31.12625822037368,30.542878686789763,30.571191644463777,31.192008383044342,32.359716408629474,34.00504688193439,36.04046932960523,38.374187664580674,40.93845151155343,43.7353973510348,46.89840552969258,50.758512194930866,55.89326015752051,63.119020026890325,73.36677315886041,87.35513146455696]],\"type\":\"surface\"}],                        {\"margin\":{\"b\":10,\"l\":10,\"r\":20,\"t\":10},\"scene\":{\"xaxis\":{\"nticks\":4,\"range\":[-4,4]},\"yaxis\":{\"nticks\":4,\"range\":[-4,4]},\"zaxis\":{\"nticks\":4,\"range\":[-10.044616163431314,71.08169328189483]}},\"template\":{\"data\":{\"barpolar\":[{\"marker\":{\"line\":{\"color\":\"#E5ECF6\",\"width\":0.5},\"pattern\":{\"fillmode\":\"overlay\",\"size\":10,\"solidity\":0.2}},\"type\":\"barpolar\"}],\"bar\":[{\"error_x\":{\"color\":\"#2a3f5f\"},\"error_y\":{\"color\":\"#2a3f5f\"},\"marker\":{\"line\":{\"color\":\"#E5ECF6\",\"width\":0.5},\"pattern\":{\"fillmode\":\"overlay\",\"size\":10,\"solidity\":0.2}},\"type\":\"bar\"}],\"carpet\":[{\"aaxis\":{\"endlinecolor\":\"#2a3f5f\",\"gridcolor\":\"white\",\"linecolor\":\"white\",\"minorgridcolor\":\"white\",\"startlinecolor\":\"#2a3f5f\"},\"baxis\":{\"endlinecolor\":\"#2a3f5f\",\"gridcolor\":\"white\",\"linecolor\":\"white\",\"minorgridcolor\":\"white\",\"startlinecolor\":\"#2a3f5f\"},\"type\":\"carpet\"}],\"choropleth\":[{\"colorbar\":{\"outlinewidth\":0,\"ticks\":\"\"},\"type\":\"choropleth\"}],\"contourcarpet\":[{\"colorbar\":{\"outlinewidth\":0,\"ticks\":\"\"},\"type\":\"contourcarpet\"}],\"contour\":[{\"colorbar\":{\"outlinewidth\":0,\"ticks\":\"\"},\"colorscale\":[[0.0,\"#0d0887\"],[0.1111111111111111,\"#46039f\"],[0.2222222222222222,\"#7201a8\"],[0.3333333333333333,\"#9c179e\"],[0.4444444444444444,\"#bd3786\"],[0.5555555555555556,\"#d8576b\"],[0.6666666666666666,\"#ed7953\"],[0.7777777777777778,\"#fb9f3a\"],[0.8888888888888888,\"#fdca26\"],[1.0,\"#f0f921\"]],\"type\":\"contour\"}],\"heatmapgl\":[{\"colorbar\":{\"outlinewidth\":0,\"ticks\":\"\"},\"colorscale\":[[0.0,\"#0d0887\"],[0.1111111111111111,\"#46039f\"],[0.2222222222222222,\"#7201a8\"],[0.3333333333333333,\"#9c179e\"],[0.4444444444444444,\"#bd3786\"],[0.5555555555555556,\"#d8576b\"],[0.6666666666666666,\"#ed7953\"],[0.7777777777777778,\"#fb9f3a\"],[0.8888888888888888,\"#fdca26\"],[1.0,\"#f0f921\"]],\"type\":\"heatmapgl\"}],\"heatmap\":[{\"colorbar\":{\"outlinewidth\":0,\"ticks\":\"\"},\"colorscale\":[[0.0,\"#0d0887\"],[0.1111111111111111,\"#46039f\"],[0.2222222222222222,\"#7201a8\"],[0.3333333333333333,\"#9c179e\"],[0.4444444444444444,\"#bd3786\"],[0.5555555555555556,\"#d8576b\"],[0.6666666666666666,\"#ed7953\"],[0.7777777777777778,\"#fb9f3a\"],[0.8888888888888888,\"#fdca26\"],[1.0,\"#f0f921\"]],\"type\":\"heatmap\"}],\"histogram2dcontour\":[{\"colorbar\":{\"outlinewidth\":0,\"ticks\":\"\"},\"colorscale\":[[0.0,\"#0d0887\"],[0.1111111111111111,\"#46039f\"],[0.2222222222222222,\"#7201a8\"],[0.3333333333333333,\"#9c179e\"],[0.4444444444444444,\"#bd3786\"],[0.5555555555555556,\"#d8576b\"],[0.6666666666666666,\"#ed7953\"],[0.7777777777777778,\"#fb9f3a\"],[0.8888888888888888,\"#fdca26\"],[1.0,\"#f0f921\"]],\"type\":\"histogram2dcontour\"}],\"histogram2d\":[{\"colorbar\":{\"outlinewidth\":0,\"ticks\":\"\"},\"colorscale\":[[0.0,\"#0d0887\"],[0.1111111111111111,\"#46039f\"],[0.2222222222222222,\"#7201a8\"],[0.3333333333333333,\"#9c179e\"],[0.4444444444444444,\"#bd3786\"],[0.5555555555555556,\"#d8576b\"],[0.6666666666666666,\"#ed7953\"],[0.7777777777777778,\"#fb9f3a\"],[0.8888888888888888,\"#fdca26\"],[1.0,\"#f0f921\"]],\"type\":\"histogram2d\"}],\"histogram\":[{\"marker\":{\"pattern\":{\"fillmode\":\"overlay\",\"size\":10,\"solidity\":0.2}},\"type\":\"histogram\"}],\"mesh3d\":[{\"colorbar\":{\"outlinewidth\":0,\"ticks\":\"\"},\"type\":\"mesh3d\"}],\"parcoords\":[{\"line\":{\"colorbar\":{\"outlinewidth\":0,\"ticks\":\"\"}},\"type\":\"parcoords\"}],\"pie\":[{\"automargin\":true,\"type\":\"pie\"}],\"scatter3d\":[{\"line\":{\"colorbar\":{\"outlinewidth\":0,\"ticks\":\"\"}},\"marker\":{\"colorbar\":{\"outlinewidth\":0,\"ticks\":\"\"}},\"type\":\"scatter3d\"}],\"scattercarpet\":[{\"marker\":{\"colorbar\":{\"outlinewidth\":0,\"ticks\":\"\"}},\"type\":\"scattercarpet\"}],\"scattergeo\":[{\"marker\":{\"colorbar\":{\"outlinewidth\":0,\"ticks\":\"\"}},\"type\":\"scattergeo\"}],\"scattergl\":[{\"marker\":{\"colorbar\":{\"outlinewidth\":0,\"ticks\":\"\"}},\"type\":\"scattergl\"}],\"scattermapbox\":[{\"marker\":{\"colorbar\":{\"outlinewidth\":0,\"ticks\":\"\"}},\"type\":\"scattermapbox\"}],\"scatterpolargl\":[{\"marker\":{\"colorbar\":{\"outlinewidth\":0,\"ticks\":\"\"}},\"type\":\"scatterpolargl\"}],\"scatterpolar\":[{\"marker\":{\"colorbar\":{\"outlinewidth\":0,\"ticks\":\"\"}},\"type\":\"scatterpolar\"}],\"scatter\":[{\"marker\":{\"colorbar\":{\"outlinewidth\":0,\"ticks\":\"\"}},\"type\":\"scatter\"}],\"scatterternary\":[{\"marker\":{\"colorbar\":{\"outlinewidth\":0,\"ticks\":\"\"}},\"type\":\"scatterternary\"}],\"surface\":[{\"colorbar\":{\"outlinewidth\":0,\"ticks\":\"\"},\"colorscale\":[[0.0,\"#0d0887\"],[0.1111111111111111,\"#46039f\"],[0.2222222222222222,\"#7201a8\"],[0.3333333333333333,\"#9c179e\"],[0.4444444444444444,\"#bd3786\"],[0.5555555555555556,\"#d8576b\"],[0.6666666666666666,\"#ed7953\"],[0.7777777777777778,\"#fb9f3a\"],[0.8888888888888888,\"#fdca26\"],[1.0,\"#f0f921\"]],\"type\":\"surface\"}],\"table\":[{\"cells\":{\"fill\":{\"color\":\"#EBF0F8\"},\"line\":{\"color\":\"white\"}},\"header\":{\"fill\":{\"color\":\"#C8D4E3\"},\"line\":{\"color\":\"white\"}},\"type\":\"table\"}]},\"layout\":{\"annotationdefaults\":{\"arrowcolor\":\"#2a3f5f\",\"arrowhead\":0,\"arrowwidth\":1},\"autotypenumbers\":\"strict\",\"coloraxis\":{\"colorbar\":{\"outlinewidth\":0,\"ticks\":\"\"}},\"colorscale\":{\"diverging\":[[0,\"#8e0152\"],[0.1,\"#c51b7d\"],[0.2,\"#de77ae\"],[0.3,\"#f1b6da\"],[0.4,\"#fde0ef\"],[0.5,\"#f7f7f7\"],[0.6,\"#e6f5d0\"],[0.7,\"#b8e186\"],[0.8,\"#7fbc41\"],[0.9,\"#4d9221\"],[1,\"#276419\"]],\"sequential\":[[0.0,\"#0d0887\"],[0.1111111111111111,\"#46039f\"],[0.2222222222222222,\"#7201a8\"],[0.3333333333333333,\"#9c179e\"],[0.4444444444444444,\"#bd3786\"],[0.5555555555555556,\"#d8576b\"],[0.6666666666666666,\"#ed7953\"],[0.7777777777777778,\"#fb9f3a\"],[0.8888888888888888,\"#fdca26\"],[1.0,\"#f0f921\"]],\"sequentialminus\":[[0.0,\"#0d0887\"],[0.1111111111111111,\"#46039f\"],[0.2222222222222222,\"#7201a8\"],[0.3333333333333333,\"#9c179e\"],[0.4444444444444444,\"#bd3786\"],[0.5555555555555556,\"#d8576b\"],[0.6666666666666666,\"#ed7953\"],[0.7777777777777778,\"#fb9f3a\"],[0.8888888888888888,\"#fdca26\"],[1.0,\"#f0f921\"]]},\"colorway\":[\"#636efa\",\"#EF553B\",\"#00cc96\",\"#ab63fa\",\"#FFA15A\",\"#19d3f3\",\"#FF6692\",\"#B6E880\",\"#FF97FF\",\"#FECB52\"],\"font\":{\"color\":\"#2a3f5f\"},\"geo\":{\"bgcolor\":\"white\",\"lakecolor\":\"white\",\"landcolor\":\"#E5ECF6\",\"showlakes\":true,\"showland\":true,\"subunitcolor\":\"white\"},\"hoverlabel\":{\"align\":\"left\"},\"hovermode\":\"closest\",\"mapbox\":{\"style\":\"light\"},\"paper_bgcolor\":\"white\",\"plot_bgcolor\":\"#E5ECF6\",\"polar\":{\"angularaxis\":{\"gridcolor\":\"white\",\"linecolor\":\"white\",\"ticks\":\"\"},\"bgcolor\":\"#E5ECF6\",\"radialaxis\":{\"gridcolor\":\"white\",\"linecolor\":\"white\",\"ticks\":\"\"}},\"scene\":{\"xaxis\":{\"backgroundcolor\":\"#E5ECF6\",\"gridcolor\":\"white\",\"gridwidth\":2,\"linecolor\":\"white\",\"showbackground\":true,\"ticks\":\"\",\"zerolinecolor\":\"white\"},\"yaxis\":{\"backgroundcolor\":\"#E5ECF6\",\"gridcolor\":\"white\",\"gridwidth\":2,\"linecolor\":\"white\",\"showbackground\":true,\"ticks\":\"\",\"zerolinecolor\":\"white\"},\"zaxis\":{\"backgroundcolor\":\"#E5ECF6\",\"gridcolor\":\"white\",\"gridwidth\":2,\"linecolor\":\"white\",\"showbackground\":true,\"ticks\":\"\",\"zerolinecolor\":\"white\"}},\"shapedefaults\":{\"line\":{\"color\":\"#2a3f5f\"}},\"ternary\":{\"aaxis\":{\"gridcolor\":\"white\",\"linecolor\":\"white\",\"ticks\":\"\"},\"baxis\":{\"gridcolor\":\"white\",\"linecolor\":\"white\",\"ticks\":\"\"},\"bgcolor\":\"#E5ECF6\",\"caxis\":{\"gridcolor\":\"white\",\"linecolor\":\"white\",\"ticks\":\"\"}},\"title\":{\"x\":0.05},\"xaxis\":{\"automargin\":true,\"gridcolor\":\"white\",\"linecolor\":\"white\",\"ticks\":\"\",\"title\":{\"standoff\":15},\"zerolinecolor\":\"white\",\"zerolinewidth\":2},\"yaxis\":{\"automargin\":true,\"gridcolor\":\"white\",\"linecolor\":\"white\",\"ticks\":\"\",\"title\":{\"standoff\":15},\"zerolinecolor\":\"white\",\"zerolinewidth\":2}}},\"width\":700},                        {\"responsive\": true}                    ).then(function(){\n",
       "                            \n",
       "var gd = document.getElementById('790a0487-926a-405f-a883-a700501b0563');\n",
       "var x = new MutationObserver(function (mutations, observer) {{\n",
       "        var display = window.getComputedStyle(gd).display;\n",
       "        if (!display || display === 'none') {{\n",
       "            console.log([gd, 'removed!']);\n",
       "            Plotly.purge(gd);\n",
       "            observer.disconnect();\n",
       "        }}\n",
       "}});\n",
       "\n",
       "// Listen for the removal of the full notebook cells\n",
       "var notebookContainer = gd.closest('#notebook-container');\n",
       "if (notebookContainer) {{\n",
       "    x.observe(notebookContainer, {childList: true});\n",
       "}}\n",
       "\n",
       "// Listen for the clearing of the current output cell\n",
       "var outputEl = gd.closest('.output');\n",
       "if (outputEl) {{\n",
       "    x.observe(outputEl, {childList: true});\n",
       "}}\n",
       "\n",
       "                        })                };                });            </script>        </div>"
      ]
     },
     "metadata": {},
     "output_type": "display_data"
    }
   ],
   "source": [
    "# See how well your result fits the training set (no input needed)\n",
    "zz = [r[0] for r in y]\n",
    "trace = go.Scatter3d(x=Xhat[:,1], y=Xhat[:,2], z=zz, mode='markers',marker=dict(size=5))\n",
    "xs,ys = Xhat[:,1],Xhat[:,2]\n",
    "xxx = np.outer(np.linspace(min(xs), max(xs), 30), np.ones(30))\n",
    "yyy = np.outer(np.linspace(min(ys), max(ys), 30), np.ones(30)).T\n",
    "zzz = 0\n",
    "mons = generate_monomials_leq(X.shape[1],degree)\n",
    "i=0\n",
    "for mon in mons:\n",
    "    zzz +=  v[i]*xxx**(mon[0])*yyy**(mon[1])\n",
    "    i+=1\n",
    "\n",
    "# Configure the layout.\n",
    "layout = go.Layout(margin={'l': 0, 'r': 0, 'b': 0, 't': 0})\n",
    "data = [trace,go.Surface(x=xxx, y=yyy, z=zzz, showscale=False, opacity=0.5)]\n",
    "# Render the plot.\n",
    "plot_figure = go.Figure(data=data, layout=layout)\n",
    "plot_figure.update_layout(\n",
    "    scene = dict(\n",
    "        xaxis = dict(nticks=4, range=[-4,4],),\n",
    "                     yaxis = dict(nticks=4, range=[-4,4],),\n",
    "                     zaxis = dict(nticks=4, range=[min(zz),max(zz)],),),\n",
    "    width=700,\n",
    "    margin=dict(r=20, l=10, b=10, t=10))\n",
    "plotly.offline.iplot(plot_figure)"
   ]
  },
  {
   "cell_type": "code",
   "execution_count": 560,
   "id": "a0d1ab7e",
   "metadata": {},
   "outputs": [
    {
     "data": {
      "application/vnd.plotly.v1+json": {
       "config": {
        "linkText": "Export to plot.ly",
        "plotlyServerURL": "https://plot.ly",
        "showLink": false
       },
       "data": [
        {
         "marker": {
          "size": 5
         },
         "mode": "markers",
         "type": "scatter3d",
         "x": [
          -3.669781478204325,
          -2.3604459897110974,
          -2.731292022502823,
          -4.121834869817263,
          -3.4616012629392623,
          -2.7510321941918923,
          -1.5281710886720932,
          -1.5533696710653546,
          -1.4589353261368299,
          -1.8225297007622208,
          -2.4280832150573755,
          -0.8837407502693273,
          -0.6447635564031844,
          -1.235482253824054,
          -0.5661473528068743,
          -0.8130091557994401,
          -1.7693199211094122,
          -0.17151596487843357,
          -0.8910255092644273,
          -0.5140616420771864,
          -0.5086051347373672,
          0.00683861099028984,
          -0.16907985856317376,
          0.03189461280011052,
          0.6661079388972506,
          0.8862639535131205,
          1.1090412715393547,
          1.3394251953782044,
          1.5352134988690445,
          1.3548124519526712,
          1.973847495820743,
          2.252219462068387,
          2.564456348283629,
          2.078374760162086,
          2.12912964557383,
          2.295392913737434
         ],
         "y": [
          -2.4638827555529694,
          -1.6389261130282702,
          -1.1629806164506056,
          0.10229096058219886,
          1.0749223065871623,
          1.3495607054902115,
          -2.832425415477006,
          -2.4817693728718044,
          -0.8307261610020684,
          -0.08794240708172334,
          1.3129919828303158,
          2.0566189671617177,
          -3.2164494707026345,
          -1.4914419632062563,
          -0.4187935427486805,
          -0.09518387636139398,
          0.9557931274221214,
          1.7428820657814024,
          -3.1531613824734497,
          -2.5922670251735473,
          -1.255199281129741,
          0.3582194966684652,
          1.4875480629775923,
          1.9595969024064963,
          -3.4589688085018775,
          -2.4463768895982,
          -0.7117688911280053,
          0.06198316934091673,
          1.0254649817589554,
          2.7394223655553507,
          -2.3858573553008533,
          -2.0070933245599667,
          -0.13094692498678706,
          0.5237420067740867,
          0.6090119378914086,
          1.6895603992731614
         ],
         "z": [
          82.37136925594334,
          28.94908417380191,
          37.933707965040995,
          83.07283761623299,
          58.72482232829104,
          39.82455874642652,
          35.174954303104805,
          28.477770721525427,
          12.3563861558233,
          18.12239111541446,
          25.548219302330466,
          -4.220320877399162,
          37.30633312816249,
          10.1068118375742,
          4.447667191799317,
          1.2604396354565752,
          13.391739595797262,
          -4.547988999521097,
          34.82405055959519,
          20.413919623784114,
          4.946411718424525,
          2.2984504604446165,
          -5.072604716438798,
          -3.141989220675363,
          44.772350293841164,
          17.610259915766797,
          4.884026244498943,
          7.235157110707797,
          14.853461152687089,
          -12.408048594813438,
          29.502416775475346,
          34.78867279011388,
          35.14141277262344,
          23.729678678758862,
          21.33722461317665,
          22.6916452443668
         ]
        },
        {
         "opacity": 0.5,
         "showscale": false,
         "type": "surface",
         "x": [
          [
           -4.121834869817263,
           -4.121834869817263,
           -4.121834869817263,
           -4.121834869817263,
           -4.121834869817263,
           -4.121834869817263,
           -4.121834869817263,
           -4.121834869817263,
           -4.121834869817263,
           -4.121834869817263,
           -4.121834869817263,
           -4.121834869817263,
           -4.121834869817263,
           -4.121834869817263,
           -4.121834869817263,
           -4.121834869817263,
           -4.121834869817263,
           -4.121834869817263,
           -4.121834869817263,
           -4.121834869817263,
           -4.121834869817263,
           -4.121834869817263,
           -4.121834869817263,
           -4.121834869817263,
           -4.121834869817263,
           -4.121834869817263,
           -4.121834869817263,
           -4.121834869817263,
           -4.121834869817263,
           -4.121834869817263
          ],
          [
           -3.891273103675853,
           -3.891273103675853,
           -3.891273103675853,
           -3.891273103675853,
           -3.891273103675853,
           -3.891273103675853,
           -3.891273103675853,
           -3.891273103675853,
           -3.891273103675853,
           -3.891273103675853,
           -3.891273103675853,
           -3.891273103675853,
           -3.891273103675853,
           -3.891273103675853,
           -3.891273103675853,
           -3.891273103675853,
           -3.891273103675853,
           -3.891273103675853,
           -3.891273103675853,
           -3.891273103675853,
           -3.891273103675853,
           -3.891273103675853,
           -3.891273103675853,
           -3.891273103675853,
           -3.891273103675853,
           -3.891273103675853,
           -3.891273103675853,
           -3.891273103675853,
           -3.891273103675853,
           -3.891273103675853
          ],
          [
           -3.660711337534443,
           -3.660711337534443,
           -3.660711337534443,
           -3.660711337534443,
           -3.660711337534443,
           -3.660711337534443,
           -3.660711337534443,
           -3.660711337534443,
           -3.660711337534443,
           -3.660711337534443,
           -3.660711337534443,
           -3.660711337534443,
           -3.660711337534443,
           -3.660711337534443,
           -3.660711337534443,
           -3.660711337534443,
           -3.660711337534443,
           -3.660711337534443,
           -3.660711337534443,
           -3.660711337534443,
           -3.660711337534443,
           -3.660711337534443,
           -3.660711337534443,
           -3.660711337534443,
           -3.660711337534443,
           -3.660711337534443,
           -3.660711337534443,
           -3.660711337534443,
           -3.660711337534443,
           -3.660711337534443
          ],
          [
           -3.430149571393033,
           -3.430149571393033,
           -3.430149571393033,
           -3.430149571393033,
           -3.430149571393033,
           -3.430149571393033,
           -3.430149571393033,
           -3.430149571393033,
           -3.430149571393033,
           -3.430149571393033,
           -3.430149571393033,
           -3.430149571393033,
           -3.430149571393033,
           -3.430149571393033,
           -3.430149571393033,
           -3.430149571393033,
           -3.430149571393033,
           -3.430149571393033,
           -3.430149571393033,
           -3.430149571393033,
           -3.430149571393033,
           -3.430149571393033,
           -3.430149571393033,
           -3.430149571393033,
           -3.430149571393033,
           -3.430149571393033,
           -3.430149571393033,
           -3.430149571393033,
           -3.430149571393033,
           -3.430149571393033
          ],
          [
           -3.199587805251623,
           -3.199587805251623,
           -3.199587805251623,
           -3.199587805251623,
           -3.199587805251623,
           -3.199587805251623,
           -3.199587805251623,
           -3.199587805251623,
           -3.199587805251623,
           -3.199587805251623,
           -3.199587805251623,
           -3.199587805251623,
           -3.199587805251623,
           -3.199587805251623,
           -3.199587805251623,
           -3.199587805251623,
           -3.199587805251623,
           -3.199587805251623,
           -3.199587805251623,
           -3.199587805251623,
           -3.199587805251623,
           -3.199587805251623,
           -3.199587805251623,
           -3.199587805251623,
           -3.199587805251623,
           -3.199587805251623,
           -3.199587805251623,
           -3.199587805251623,
           -3.199587805251623,
           -3.199587805251623
          ],
          [
           -2.9690260391102132,
           -2.9690260391102132,
           -2.9690260391102132,
           -2.9690260391102132,
           -2.9690260391102132,
           -2.9690260391102132,
           -2.9690260391102132,
           -2.9690260391102132,
           -2.9690260391102132,
           -2.9690260391102132,
           -2.9690260391102132,
           -2.9690260391102132,
           -2.9690260391102132,
           -2.9690260391102132,
           -2.9690260391102132,
           -2.9690260391102132,
           -2.9690260391102132,
           -2.9690260391102132,
           -2.9690260391102132,
           -2.9690260391102132,
           -2.9690260391102132,
           -2.9690260391102132,
           -2.9690260391102132,
           -2.9690260391102132,
           -2.9690260391102132,
           -2.9690260391102132,
           -2.9690260391102132,
           -2.9690260391102132,
           -2.9690260391102132,
           -2.9690260391102132
          ],
          [
           -2.7384642729688027,
           -2.7384642729688027,
           -2.7384642729688027,
           -2.7384642729688027,
           -2.7384642729688027,
           -2.7384642729688027,
           -2.7384642729688027,
           -2.7384642729688027,
           -2.7384642729688027,
           -2.7384642729688027,
           -2.7384642729688027,
           -2.7384642729688027,
           -2.7384642729688027,
           -2.7384642729688027,
           -2.7384642729688027,
           -2.7384642729688027,
           -2.7384642729688027,
           -2.7384642729688027,
           -2.7384642729688027,
           -2.7384642729688027,
           -2.7384642729688027,
           -2.7384642729688027,
           -2.7384642729688027,
           -2.7384642729688027,
           -2.7384642729688027,
           -2.7384642729688027,
           -2.7384642729688027,
           -2.7384642729688027,
           -2.7384642729688027,
           -2.7384642729688027
          ],
          [
           -2.507902506827393,
           -2.507902506827393,
           -2.507902506827393,
           -2.507902506827393,
           -2.507902506827393,
           -2.507902506827393,
           -2.507902506827393,
           -2.507902506827393,
           -2.507902506827393,
           -2.507902506827393,
           -2.507902506827393,
           -2.507902506827393,
           -2.507902506827393,
           -2.507902506827393,
           -2.507902506827393,
           -2.507902506827393,
           -2.507902506827393,
           -2.507902506827393,
           -2.507902506827393,
           -2.507902506827393,
           -2.507902506827393,
           -2.507902506827393,
           -2.507902506827393,
           -2.507902506827393,
           -2.507902506827393,
           -2.507902506827393,
           -2.507902506827393,
           -2.507902506827393,
           -2.507902506827393,
           -2.507902506827393
          ],
          [
           -2.2773407406859825,
           -2.2773407406859825,
           -2.2773407406859825,
           -2.2773407406859825,
           -2.2773407406859825,
           -2.2773407406859825,
           -2.2773407406859825,
           -2.2773407406859825,
           -2.2773407406859825,
           -2.2773407406859825,
           -2.2773407406859825,
           -2.2773407406859825,
           -2.2773407406859825,
           -2.2773407406859825,
           -2.2773407406859825,
           -2.2773407406859825,
           -2.2773407406859825,
           -2.2773407406859825,
           -2.2773407406859825,
           -2.2773407406859825,
           -2.2773407406859825,
           -2.2773407406859825,
           -2.2773407406859825,
           -2.2773407406859825,
           -2.2773407406859825,
           -2.2773407406859825,
           -2.2773407406859825,
           -2.2773407406859825,
           -2.2773407406859825,
           -2.2773407406859825
          ],
          [
           -2.046778974544573,
           -2.046778974544573,
           -2.046778974544573,
           -2.046778974544573,
           -2.046778974544573,
           -2.046778974544573,
           -2.046778974544573,
           -2.046778974544573,
           -2.046778974544573,
           -2.046778974544573,
           -2.046778974544573,
           -2.046778974544573,
           -2.046778974544573,
           -2.046778974544573,
           -2.046778974544573,
           -2.046778974544573,
           -2.046778974544573,
           -2.046778974544573,
           -2.046778974544573,
           -2.046778974544573,
           -2.046778974544573,
           -2.046778974544573,
           -2.046778974544573,
           -2.046778974544573,
           -2.046778974544573,
           -2.046778974544573,
           -2.046778974544573,
           -2.046778974544573,
           -2.046778974544573,
           -2.046778974544573
          ],
          [
           -1.8162172084031627,
           -1.8162172084031627,
           -1.8162172084031627,
           -1.8162172084031627,
           -1.8162172084031627,
           -1.8162172084031627,
           -1.8162172084031627,
           -1.8162172084031627,
           -1.8162172084031627,
           -1.8162172084031627,
           -1.8162172084031627,
           -1.8162172084031627,
           -1.8162172084031627,
           -1.8162172084031627,
           -1.8162172084031627,
           -1.8162172084031627,
           -1.8162172084031627,
           -1.8162172084031627,
           -1.8162172084031627,
           -1.8162172084031627,
           -1.8162172084031627,
           -1.8162172084031627,
           -1.8162172084031627,
           -1.8162172084031627,
           -1.8162172084031627,
           -1.8162172084031627,
           -1.8162172084031627,
           -1.8162172084031627,
           -1.8162172084031627,
           -1.8162172084031627
          ],
          [
           -1.5856554422617526,
           -1.5856554422617526,
           -1.5856554422617526,
           -1.5856554422617526,
           -1.5856554422617526,
           -1.5856554422617526,
           -1.5856554422617526,
           -1.5856554422617526,
           -1.5856554422617526,
           -1.5856554422617526,
           -1.5856554422617526,
           -1.5856554422617526,
           -1.5856554422617526,
           -1.5856554422617526,
           -1.5856554422617526,
           -1.5856554422617526,
           -1.5856554422617526,
           -1.5856554422617526,
           -1.5856554422617526,
           -1.5856554422617526,
           -1.5856554422617526,
           -1.5856554422617526,
           -1.5856554422617526,
           -1.5856554422617526,
           -1.5856554422617526,
           -1.5856554422617526,
           -1.5856554422617526,
           -1.5856554422617526,
           -1.5856554422617526,
           -1.5856554422617526
          ],
          [
           -1.3550936761203425,
           -1.3550936761203425,
           -1.3550936761203425,
           -1.3550936761203425,
           -1.3550936761203425,
           -1.3550936761203425,
           -1.3550936761203425,
           -1.3550936761203425,
           -1.3550936761203425,
           -1.3550936761203425,
           -1.3550936761203425,
           -1.3550936761203425,
           -1.3550936761203425,
           -1.3550936761203425,
           -1.3550936761203425,
           -1.3550936761203425,
           -1.3550936761203425,
           -1.3550936761203425,
           -1.3550936761203425,
           -1.3550936761203425,
           -1.3550936761203425,
           -1.3550936761203425,
           -1.3550936761203425,
           -1.3550936761203425,
           -1.3550936761203425,
           -1.3550936761203425,
           -1.3550936761203425,
           -1.3550936761203425,
           -1.3550936761203425,
           -1.3550936761203425
          ],
          [
           -1.1245319099789324,
           -1.1245319099789324,
           -1.1245319099789324,
           -1.1245319099789324,
           -1.1245319099789324,
           -1.1245319099789324,
           -1.1245319099789324,
           -1.1245319099789324,
           -1.1245319099789324,
           -1.1245319099789324,
           -1.1245319099789324,
           -1.1245319099789324,
           -1.1245319099789324,
           -1.1245319099789324,
           -1.1245319099789324,
           -1.1245319099789324,
           -1.1245319099789324,
           -1.1245319099789324,
           -1.1245319099789324,
           -1.1245319099789324,
           -1.1245319099789324,
           -1.1245319099789324,
           -1.1245319099789324,
           -1.1245319099789324,
           -1.1245319099789324,
           -1.1245319099789324,
           -1.1245319099789324,
           -1.1245319099789324,
           -1.1245319099789324,
           -1.1245319099789324
          ],
          [
           -0.8939701438375223,
           -0.8939701438375223,
           -0.8939701438375223,
           -0.8939701438375223,
           -0.8939701438375223,
           -0.8939701438375223,
           -0.8939701438375223,
           -0.8939701438375223,
           -0.8939701438375223,
           -0.8939701438375223,
           -0.8939701438375223,
           -0.8939701438375223,
           -0.8939701438375223,
           -0.8939701438375223,
           -0.8939701438375223,
           -0.8939701438375223,
           -0.8939701438375223,
           -0.8939701438375223,
           -0.8939701438375223,
           -0.8939701438375223,
           -0.8939701438375223,
           -0.8939701438375223,
           -0.8939701438375223,
           -0.8939701438375223,
           -0.8939701438375223,
           -0.8939701438375223,
           -0.8939701438375223,
           -0.8939701438375223,
           -0.8939701438375223,
           -0.8939701438375223
          ],
          [
           -0.6634083776961122,
           -0.6634083776961122,
           -0.6634083776961122,
           -0.6634083776961122,
           -0.6634083776961122,
           -0.6634083776961122,
           -0.6634083776961122,
           -0.6634083776961122,
           -0.6634083776961122,
           -0.6634083776961122,
           -0.6634083776961122,
           -0.6634083776961122,
           -0.6634083776961122,
           -0.6634083776961122,
           -0.6634083776961122,
           -0.6634083776961122,
           -0.6634083776961122,
           -0.6634083776961122,
           -0.6634083776961122,
           -0.6634083776961122,
           -0.6634083776961122,
           -0.6634083776961122,
           -0.6634083776961122,
           -0.6634083776961122,
           -0.6634083776961122,
           -0.6634083776961122,
           -0.6634083776961122,
           -0.6634083776961122,
           -0.6634083776961122,
           -0.6634083776961122
          ],
          [
           -0.43284661155470205,
           -0.43284661155470205,
           -0.43284661155470205,
           -0.43284661155470205,
           -0.43284661155470205,
           -0.43284661155470205,
           -0.43284661155470205,
           -0.43284661155470205,
           -0.43284661155470205,
           -0.43284661155470205,
           -0.43284661155470205,
           -0.43284661155470205,
           -0.43284661155470205,
           -0.43284661155470205,
           -0.43284661155470205,
           -0.43284661155470205,
           -0.43284661155470205,
           -0.43284661155470205,
           -0.43284661155470205,
           -0.43284661155470205,
           -0.43284661155470205,
           -0.43284661155470205,
           -0.43284661155470205,
           -0.43284661155470205,
           -0.43284661155470205,
           -0.43284661155470205,
           -0.43284661155470205,
           -0.43284661155470205,
           -0.43284661155470205,
           -0.43284661155470205
          ],
          [
           -0.20228484541329195,
           -0.20228484541329195,
           -0.20228484541329195,
           -0.20228484541329195,
           -0.20228484541329195,
           -0.20228484541329195,
           -0.20228484541329195,
           -0.20228484541329195,
           -0.20228484541329195,
           -0.20228484541329195,
           -0.20228484541329195,
           -0.20228484541329195,
           -0.20228484541329195,
           -0.20228484541329195,
           -0.20228484541329195,
           -0.20228484541329195,
           -0.20228484541329195,
           -0.20228484541329195,
           -0.20228484541329195,
           -0.20228484541329195,
           -0.20228484541329195,
           -0.20228484541329195,
           -0.20228484541329195,
           -0.20228484541329195,
           -0.20228484541329195,
           -0.20228484541329195,
           -0.20228484541329195,
           -0.20228484541329195,
           -0.20228484541329195,
           -0.20228484541329195
          ],
          [
           0.028276920728117716,
           0.028276920728117716,
           0.028276920728117716,
           0.028276920728117716,
           0.028276920728117716,
           0.028276920728117716,
           0.028276920728117716,
           0.028276920728117716,
           0.028276920728117716,
           0.028276920728117716,
           0.028276920728117716,
           0.028276920728117716,
           0.028276920728117716,
           0.028276920728117716,
           0.028276920728117716,
           0.028276920728117716,
           0.028276920728117716,
           0.028276920728117716,
           0.028276920728117716,
           0.028276920728117716,
           0.028276920728117716,
           0.028276920728117716,
           0.028276920728117716,
           0.028276920728117716,
           0.028276920728117716,
           0.028276920728117716,
           0.028276920728117716,
           0.028276920728117716,
           0.028276920728117716,
           0.028276920728117716
          ],
          [
           0.25883868686952827,
           0.25883868686952827,
           0.25883868686952827,
           0.25883868686952827,
           0.25883868686952827,
           0.25883868686952827,
           0.25883868686952827,
           0.25883868686952827,
           0.25883868686952827,
           0.25883868686952827,
           0.25883868686952827,
           0.25883868686952827,
           0.25883868686952827,
           0.25883868686952827,
           0.25883868686952827,
           0.25883868686952827,
           0.25883868686952827,
           0.25883868686952827,
           0.25883868686952827,
           0.25883868686952827,
           0.25883868686952827,
           0.25883868686952827,
           0.25883868686952827,
           0.25883868686952827,
           0.25883868686952827,
           0.25883868686952827,
           0.25883868686952827,
           0.25883868686952827,
           0.25883868686952827,
           0.25883868686952827
          ],
          [
           0.48940045301093793,
           0.48940045301093793,
           0.48940045301093793,
           0.48940045301093793,
           0.48940045301093793,
           0.48940045301093793,
           0.48940045301093793,
           0.48940045301093793,
           0.48940045301093793,
           0.48940045301093793,
           0.48940045301093793,
           0.48940045301093793,
           0.48940045301093793,
           0.48940045301093793,
           0.48940045301093793,
           0.48940045301093793,
           0.48940045301093793,
           0.48940045301093793,
           0.48940045301093793,
           0.48940045301093793,
           0.48940045301093793,
           0.48940045301093793,
           0.48940045301093793,
           0.48940045301093793,
           0.48940045301093793,
           0.48940045301093793,
           0.48940045301093793,
           0.48940045301093793,
           0.48940045301093793,
           0.48940045301093793
          ],
          [
           0.7199622191523485,
           0.7199622191523485,
           0.7199622191523485,
           0.7199622191523485,
           0.7199622191523485,
           0.7199622191523485,
           0.7199622191523485,
           0.7199622191523485,
           0.7199622191523485,
           0.7199622191523485,
           0.7199622191523485,
           0.7199622191523485,
           0.7199622191523485,
           0.7199622191523485,
           0.7199622191523485,
           0.7199622191523485,
           0.7199622191523485,
           0.7199622191523485,
           0.7199622191523485,
           0.7199622191523485,
           0.7199622191523485,
           0.7199622191523485,
           0.7199622191523485,
           0.7199622191523485,
           0.7199622191523485,
           0.7199622191523485,
           0.7199622191523485,
           0.7199622191523485,
           0.7199622191523485,
           0.7199622191523485
          ],
          [
           0.9505239852937581,
           0.9505239852937581,
           0.9505239852937581,
           0.9505239852937581,
           0.9505239852937581,
           0.9505239852937581,
           0.9505239852937581,
           0.9505239852937581,
           0.9505239852937581,
           0.9505239852937581,
           0.9505239852937581,
           0.9505239852937581,
           0.9505239852937581,
           0.9505239852937581,
           0.9505239852937581,
           0.9505239852937581,
           0.9505239852937581,
           0.9505239852937581,
           0.9505239852937581,
           0.9505239852937581,
           0.9505239852937581,
           0.9505239852937581,
           0.9505239852937581,
           0.9505239852937581,
           0.9505239852937581,
           0.9505239852937581,
           0.9505239852937581,
           0.9505239852937581,
           0.9505239852937581,
           0.9505239852937581
          ],
          [
           1.1810857514351687,
           1.1810857514351687,
           1.1810857514351687,
           1.1810857514351687,
           1.1810857514351687,
           1.1810857514351687,
           1.1810857514351687,
           1.1810857514351687,
           1.1810857514351687,
           1.1810857514351687,
           1.1810857514351687,
           1.1810857514351687,
           1.1810857514351687,
           1.1810857514351687,
           1.1810857514351687,
           1.1810857514351687,
           1.1810857514351687,
           1.1810857514351687,
           1.1810857514351687,
           1.1810857514351687,
           1.1810857514351687,
           1.1810857514351687,
           1.1810857514351687,
           1.1810857514351687,
           1.1810857514351687,
           1.1810857514351687,
           1.1810857514351687,
           1.1810857514351687,
           1.1810857514351687,
           1.1810857514351687
          ],
          [
           1.4116475175765784,
           1.4116475175765784,
           1.4116475175765784,
           1.4116475175765784,
           1.4116475175765784,
           1.4116475175765784,
           1.4116475175765784,
           1.4116475175765784,
           1.4116475175765784,
           1.4116475175765784,
           1.4116475175765784,
           1.4116475175765784,
           1.4116475175765784,
           1.4116475175765784,
           1.4116475175765784,
           1.4116475175765784,
           1.4116475175765784,
           1.4116475175765784,
           1.4116475175765784,
           1.4116475175765784,
           1.4116475175765784,
           1.4116475175765784,
           1.4116475175765784,
           1.4116475175765784,
           1.4116475175765784,
           1.4116475175765784,
           1.4116475175765784,
           1.4116475175765784,
           1.4116475175765784,
           1.4116475175765784
          ],
          [
           1.642209283717989,
           1.642209283717989,
           1.642209283717989,
           1.642209283717989,
           1.642209283717989,
           1.642209283717989,
           1.642209283717989,
           1.642209283717989,
           1.642209283717989,
           1.642209283717989,
           1.642209283717989,
           1.642209283717989,
           1.642209283717989,
           1.642209283717989,
           1.642209283717989,
           1.642209283717989,
           1.642209283717989,
           1.642209283717989,
           1.642209283717989,
           1.642209283717989,
           1.642209283717989,
           1.642209283717989,
           1.642209283717989,
           1.642209283717989,
           1.642209283717989,
           1.642209283717989,
           1.642209283717989,
           1.642209283717989,
           1.642209283717989,
           1.642209283717989
          ],
          [
           1.8727710498593986,
           1.8727710498593986,
           1.8727710498593986,
           1.8727710498593986,
           1.8727710498593986,
           1.8727710498593986,
           1.8727710498593986,
           1.8727710498593986,
           1.8727710498593986,
           1.8727710498593986,
           1.8727710498593986,
           1.8727710498593986,
           1.8727710498593986,
           1.8727710498593986,
           1.8727710498593986,
           1.8727710498593986,
           1.8727710498593986,
           1.8727710498593986,
           1.8727710498593986,
           1.8727710498593986,
           1.8727710498593986,
           1.8727710498593986,
           1.8727710498593986,
           1.8727710498593986,
           1.8727710498593986,
           1.8727710498593986,
           1.8727710498593986,
           1.8727710498593986,
           1.8727710498593986,
           1.8727710498593986
          ],
          [
           2.103332816000809,
           2.103332816000809,
           2.103332816000809,
           2.103332816000809,
           2.103332816000809,
           2.103332816000809,
           2.103332816000809,
           2.103332816000809,
           2.103332816000809,
           2.103332816000809,
           2.103332816000809,
           2.103332816000809,
           2.103332816000809,
           2.103332816000809,
           2.103332816000809,
           2.103332816000809,
           2.103332816000809,
           2.103332816000809,
           2.103332816000809,
           2.103332816000809,
           2.103332816000809,
           2.103332816000809,
           2.103332816000809,
           2.103332816000809,
           2.103332816000809,
           2.103332816000809,
           2.103332816000809,
           2.103332816000809,
           2.103332816000809,
           2.103332816000809
          ],
          [
           2.333894582142219,
           2.333894582142219,
           2.333894582142219,
           2.333894582142219,
           2.333894582142219,
           2.333894582142219,
           2.333894582142219,
           2.333894582142219,
           2.333894582142219,
           2.333894582142219,
           2.333894582142219,
           2.333894582142219,
           2.333894582142219,
           2.333894582142219,
           2.333894582142219,
           2.333894582142219,
           2.333894582142219,
           2.333894582142219,
           2.333894582142219,
           2.333894582142219,
           2.333894582142219,
           2.333894582142219,
           2.333894582142219,
           2.333894582142219,
           2.333894582142219,
           2.333894582142219,
           2.333894582142219,
           2.333894582142219,
           2.333894582142219,
           2.333894582142219
          ],
          [
           2.564456348283629,
           2.564456348283629,
           2.564456348283629,
           2.564456348283629,
           2.564456348283629,
           2.564456348283629,
           2.564456348283629,
           2.564456348283629,
           2.564456348283629,
           2.564456348283629,
           2.564456348283629,
           2.564456348283629,
           2.564456348283629,
           2.564456348283629,
           2.564456348283629,
           2.564456348283629,
           2.564456348283629,
           2.564456348283629,
           2.564456348283629,
           2.564456348283629,
           2.564456348283629,
           2.564456348283629,
           2.564456348283629,
           2.564456348283629,
           2.564456348283629,
           2.564456348283629,
           2.564456348283629,
           2.564456348283629,
           2.564456348283629,
           2.564456348283629
          ]
         ],
         "y": [
          [
           -3.4589688085018775,
           -3.245231181810249,
           -3.0314935551186206,
           -2.8177559284269917,
           -2.6040183017353633,
           -2.390280675043735,
           -2.176543048352106,
           -1.9628054216604776,
           -1.7490677949688491,
           -1.5353301682772207,
           -1.3215925415855923,
           -1.1078549148939634,
           -0.8941172882023349,
           -0.6803796615107065,
           -0.4666420348190776,
           -0.2529044081274492,
           -0.03916678143582075,
           0.17457084525580768,
           0.3883084719474361,
           0.6020460986390646,
           0.815783725330693,
           1.0295213520223223,
           1.2432589787139507,
           1.4569966054055792,
           1.6707342320972076,
           1.884471858788836,
           2.0982094854804645,
           2.311947112172093,
           2.5256847388637222,
           2.7394223655553507
          ],
          [
           -3.4589688085018775,
           -3.245231181810249,
           -3.0314935551186206,
           -2.8177559284269917,
           -2.6040183017353633,
           -2.390280675043735,
           -2.176543048352106,
           -1.9628054216604776,
           -1.7490677949688491,
           -1.5353301682772207,
           -1.3215925415855923,
           -1.1078549148939634,
           -0.8941172882023349,
           -0.6803796615107065,
           -0.4666420348190776,
           -0.2529044081274492,
           -0.03916678143582075,
           0.17457084525580768,
           0.3883084719474361,
           0.6020460986390646,
           0.815783725330693,
           1.0295213520223223,
           1.2432589787139507,
           1.4569966054055792,
           1.6707342320972076,
           1.884471858788836,
           2.0982094854804645,
           2.311947112172093,
           2.5256847388637222,
           2.7394223655553507
          ],
          [
           -3.4589688085018775,
           -3.245231181810249,
           -3.0314935551186206,
           -2.8177559284269917,
           -2.6040183017353633,
           -2.390280675043735,
           -2.176543048352106,
           -1.9628054216604776,
           -1.7490677949688491,
           -1.5353301682772207,
           -1.3215925415855923,
           -1.1078549148939634,
           -0.8941172882023349,
           -0.6803796615107065,
           -0.4666420348190776,
           -0.2529044081274492,
           -0.03916678143582075,
           0.17457084525580768,
           0.3883084719474361,
           0.6020460986390646,
           0.815783725330693,
           1.0295213520223223,
           1.2432589787139507,
           1.4569966054055792,
           1.6707342320972076,
           1.884471858788836,
           2.0982094854804645,
           2.311947112172093,
           2.5256847388637222,
           2.7394223655553507
          ],
          [
           -3.4589688085018775,
           -3.245231181810249,
           -3.0314935551186206,
           -2.8177559284269917,
           -2.6040183017353633,
           -2.390280675043735,
           -2.176543048352106,
           -1.9628054216604776,
           -1.7490677949688491,
           -1.5353301682772207,
           -1.3215925415855923,
           -1.1078549148939634,
           -0.8941172882023349,
           -0.6803796615107065,
           -0.4666420348190776,
           -0.2529044081274492,
           -0.03916678143582075,
           0.17457084525580768,
           0.3883084719474361,
           0.6020460986390646,
           0.815783725330693,
           1.0295213520223223,
           1.2432589787139507,
           1.4569966054055792,
           1.6707342320972076,
           1.884471858788836,
           2.0982094854804645,
           2.311947112172093,
           2.5256847388637222,
           2.7394223655553507
          ],
          [
           -3.4589688085018775,
           -3.245231181810249,
           -3.0314935551186206,
           -2.8177559284269917,
           -2.6040183017353633,
           -2.390280675043735,
           -2.176543048352106,
           -1.9628054216604776,
           -1.7490677949688491,
           -1.5353301682772207,
           -1.3215925415855923,
           -1.1078549148939634,
           -0.8941172882023349,
           -0.6803796615107065,
           -0.4666420348190776,
           -0.2529044081274492,
           -0.03916678143582075,
           0.17457084525580768,
           0.3883084719474361,
           0.6020460986390646,
           0.815783725330693,
           1.0295213520223223,
           1.2432589787139507,
           1.4569966054055792,
           1.6707342320972076,
           1.884471858788836,
           2.0982094854804645,
           2.311947112172093,
           2.5256847388637222,
           2.7394223655553507
          ],
          [
           -3.4589688085018775,
           -3.245231181810249,
           -3.0314935551186206,
           -2.8177559284269917,
           -2.6040183017353633,
           -2.390280675043735,
           -2.176543048352106,
           -1.9628054216604776,
           -1.7490677949688491,
           -1.5353301682772207,
           -1.3215925415855923,
           -1.1078549148939634,
           -0.8941172882023349,
           -0.6803796615107065,
           -0.4666420348190776,
           -0.2529044081274492,
           -0.03916678143582075,
           0.17457084525580768,
           0.3883084719474361,
           0.6020460986390646,
           0.815783725330693,
           1.0295213520223223,
           1.2432589787139507,
           1.4569966054055792,
           1.6707342320972076,
           1.884471858788836,
           2.0982094854804645,
           2.311947112172093,
           2.5256847388637222,
           2.7394223655553507
          ],
          [
           -3.4589688085018775,
           -3.245231181810249,
           -3.0314935551186206,
           -2.8177559284269917,
           -2.6040183017353633,
           -2.390280675043735,
           -2.176543048352106,
           -1.9628054216604776,
           -1.7490677949688491,
           -1.5353301682772207,
           -1.3215925415855923,
           -1.1078549148939634,
           -0.8941172882023349,
           -0.6803796615107065,
           -0.4666420348190776,
           -0.2529044081274492,
           -0.03916678143582075,
           0.17457084525580768,
           0.3883084719474361,
           0.6020460986390646,
           0.815783725330693,
           1.0295213520223223,
           1.2432589787139507,
           1.4569966054055792,
           1.6707342320972076,
           1.884471858788836,
           2.0982094854804645,
           2.311947112172093,
           2.5256847388637222,
           2.7394223655553507
          ],
          [
           -3.4589688085018775,
           -3.245231181810249,
           -3.0314935551186206,
           -2.8177559284269917,
           -2.6040183017353633,
           -2.390280675043735,
           -2.176543048352106,
           -1.9628054216604776,
           -1.7490677949688491,
           -1.5353301682772207,
           -1.3215925415855923,
           -1.1078549148939634,
           -0.8941172882023349,
           -0.6803796615107065,
           -0.4666420348190776,
           -0.2529044081274492,
           -0.03916678143582075,
           0.17457084525580768,
           0.3883084719474361,
           0.6020460986390646,
           0.815783725330693,
           1.0295213520223223,
           1.2432589787139507,
           1.4569966054055792,
           1.6707342320972076,
           1.884471858788836,
           2.0982094854804645,
           2.311947112172093,
           2.5256847388637222,
           2.7394223655553507
          ],
          [
           -3.4589688085018775,
           -3.245231181810249,
           -3.0314935551186206,
           -2.8177559284269917,
           -2.6040183017353633,
           -2.390280675043735,
           -2.176543048352106,
           -1.9628054216604776,
           -1.7490677949688491,
           -1.5353301682772207,
           -1.3215925415855923,
           -1.1078549148939634,
           -0.8941172882023349,
           -0.6803796615107065,
           -0.4666420348190776,
           -0.2529044081274492,
           -0.03916678143582075,
           0.17457084525580768,
           0.3883084719474361,
           0.6020460986390646,
           0.815783725330693,
           1.0295213520223223,
           1.2432589787139507,
           1.4569966054055792,
           1.6707342320972076,
           1.884471858788836,
           2.0982094854804645,
           2.311947112172093,
           2.5256847388637222,
           2.7394223655553507
          ],
          [
           -3.4589688085018775,
           -3.245231181810249,
           -3.0314935551186206,
           -2.8177559284269917,
           -2.6040183017353633,
           -2.390280675043735,
           -2.176543048352106,
           -1.9628054216604776,
           -1.7490677949688491,
           -1.5353301682772207,
           -1.3215925415855923,
           -1.1078549148939634,
           -0.8941172882023349,
           -0.6803796615107065,
           -0.4666420348190776,
           -0.2529044081274492,
           -0.03916678143582075,
           0.17457084525580768,
           0.3883084719474361,
           0.6020460986390646,
           0.815783725330693,
           1.0295213520223223,
           1.2432589787139507,
           1.4569966054055792,
           1.6707342320972076,
           1.884471858788836,
           2.0982094854804645,
           2.311947112172093,
           2.5256847388637222,
           2.7394223655553507
          ],
          [
           -3.4589688085018775,
           -3.245231181810249,
           -3.0314935551186206,
           -2.8177559284269917,
           -2.6040183017353633,
           -2.390280675043735,
           -2.176543048352106,
           -1.9628054216604776,
           -1.7490677949688491,
           -1.5353301682772207,
           -1.3215925415855923,
           -1.1078549148939634,
           -0.8941172882023349,
           -0.6803796615107065,
           -0.4666420348190776,
           -0.2529044081274492,
           -0.03916678143582075,
           0.17457084525580768,
           0.3883084719474361,
           0.6020460986390646,
           0.815783725330693,
           1.0295213520223223,
           1.2432589787139507,
           1.4569966054055792,
           1.6707342320972076,
           1.884471858788836,
           2.0982094854804645,
           2.311947112172093,
           2.5256847388637222,
           2.7394223655553507
          ],
          [
           -3.4589688085018775,
           -3.245231181810249,
           -3.0314935551186206,
           -2.8177559284269917,
           -2.6040183017353633,
           -2.390280675043735,
           -2.176543048352106,
           -1.9628054216604776,
           -1.7490677949688491,
           -1.5353301682772207,
           -1.3215925415855923,
           -1.1078549148939634,
           -0.8941172882023349,
           -0.6803796615107065,
           -0.4666420348190776,
           -0.2529044081274492,
           -0.03916678143582075,
           0.17457084525580768,
           0.3883084719474361,
           0.6020460986390646,
           0.815783725330693,
           1.0295213520223223,
           1.2432589787139507,
           1.4569966054055792,
           1.6707342320972076,
           1.884471858788836,
           2.0982094854804645,
           2.311947112172093,
           2.5256847388637222,
           2.7394223655553507
          ],
          [
           -3.4589688085018775,
           -3.245231181810249,
           -3.0314935551186206,
           -2.8177559284269917,
           -2.6040183017353633,
           -2.390280675043735,
           -2.176543048352106,
           -1.9628054216604776,
           -1.7490677949688491,
           -1.5353301682772207,
           -1.3215925415855923,
           -1.1078549148939634,
           -0.8941172882023349,
           -0.6803796615107065,
           -0.4666420348190776,
           -0.2529044081274492,
           -0.03916678143582075,
           0.17457084525580768,
           0.3883084719474361,
           0.6020460986390646,
           0.815783725330693,
           1.0295213520223223,
           1.2432589787139507,
           1.4569966054055792,
           1.6707342320972076,
           1.884471858788836,
           2.0982094854804645,
           2.311947112172093,
           2.5256847388637222,
           2.7394223655553507
          ],
          [
           -3.4589688085018775,
           -3.245231181810249,
           -3.0314935551186206,
           -2.8177559284269917,
           -2.6040183017353633,
           -2.390280675043735,
           -2.176543048352106,
           -1.9628054216604776,
           -1.7490677949688491,
           -1.5353301682772207,
           -1.3215925415855923,
           -1.1078549148939634,
           -0.8941172882023349,
           -0.6803796615107065,
           -0.4666420348190776,
           -0.2529044081274492,
           -0.03916678143582075,
           0.17457084525580768,
           0.3883084719474361,
           0.6020460986390646,
           0.815783725330693,
           1.0295213520223223,
           1.2432589787139507,
           1.4569966054055792,
           1.6707342320972076,
           1.884471858788836,
           2.0982094854804645,
           2.311947112172093,
           2.5256847388637222,
           2.7394223655553507
          ],
          [
           -3.4589688085018775,
           -3.245231181810249,
           -3.0314935551186206,
           -2.8177559284269917,
           -2.6040183017353633,
           -2.390280675043735,
           -2.176543048352106,
           -1.9628054216604776,
           -1.7490677949688491,
           -1.5353301682772207,
           -1.3215925415855923,
           -1.1078549148939634,
           -0.8941172882023349,
           -0.6803796615107065,
           -0.4666420348190776,
           -0.2529044081274492,
           -0.03916678143582075,
           0.17457084525580768,
           0.3883084719474361,
           0.6020460986390646,
           0.815783725330693,
           1.0295213520223223,
           1.2432589787139507,
           1.4569966054055792,
           1.6707342320972076,
           1.884471858788836,
           2.0982094854804645,
           2.311947112172093,
           2.5256847388637222,
           2.7394223655553507
          ],
          [
           -3.4589688085018775,
           -3.245231181810249,
           -3.0314935551186206,
           -2.8177559284269917,
           -2.6040183017353633,
           -2.390280675043735,
           -2.176543048352106,
           -1.9628054216604776,
           -1.7490677949688491,
           -1.5353301682772207,
           -1.3215925415855923,
           -1.1078549148939634,
           -0.8941172882023349,
           -0.6803796615107065,
           -0.4666420348190776,
           -0.2529044081274492,
           -0.03916678143582075,
           0.17457084525580768,
           0.3883084719474361,
           0.6020460986390646,
           0.815783725330693,
           1.0295213520223223,
           1.2432589787139507,
           1.4569966054055792,
           1.6707342320972076,
           1.884471858788836,
           2.0982094854804645,
           2.311947112172093,
           2.5256847388637222,
           2.7394223655553507
          ],
          [
           -3.4589688085018775,
           -3.245231181810249,
           -3.0314935551186206,
           -2.8177559284269917,
           -2.6040183017353633,
           -2.390280675043735,
           -2.176543048352106,
           -1.9628054216604776,
           -1.7490677949688491,
           -1.5353301682772207,
           -1.3215925415855923,
           -1.1078549148939634,
           -0.8941172882023349,
           -0.6803796615107065,
           -0.4666420348190776,
           -0.2529044081274492,
           -0.03916678143582075,
           0.17457084525580768,
           0.3883084719474361,
           0.6020460986390646,
           0.815783725330693,
           1.0295213520223223,
           1.2432589787139507,
           1.4569966054055792,
           1.6707342320972076,
           1.884471858788836,
           2.0982094854804645,
           2.311947112172093,
           2.5256847388637222,
           2.7394223655553507
          ],
          [
           -3.4589688085018775,
           -3.245231181810249,
           -3.0314935551186206,
           -2.8177559284269917,
           -2.6040183017353633,
           -2.390280675043735,
           -2.176543048352106,
           -1.9628054216604776,
           -1.7490677949688491,
           -1.5353301682772207,
           -1.3215925415855923,
           -1.1078549148939634,
           -0.8941172882023349,
           -0.6803796615107065,
           -0.4666420348190776,
           -0.2529044081274492,
           -0.03916678143582075,
           0.17457084525580768,
           0.3883084719474361,
           0.6020460986390646,
           0.815783725330693,
           1.0295213520223223,
           1.2432589787139507,
           1.4569966054055792,
           1.6707342320972076,
           1.884471858788836,
           2.0982094854804645,
           2.311947112172093,
           2.5256847388637222,
           2.7394223655553507
          ],
          [
           -3.4589688085018775,
           -3.245231181810249,
           -3.0314935551186206,
           -2.8177559284269917,
           -2.6040183017353633,
           -2.390280675043735,
           -2.176543048352106,
           -1.9628054216604776,
           -1.7490677949688491,
           -1.5353301682772207,
           -1.3215925415855923,
           -1.1078549148939634,
           -0.8941172882023349,
           -0.6803796615107065,
           -0.4666420348190776,
           -0.2529044081274492,
           -0.03916678143582075,
           0.17457084525580768,
           0.3883084719474361,
           0.6020460986390646,
           0.815783725330693,
           1.0295213520223223,
           1.2432589787139507,
           1.4569966054055792,
           1.6707342320972076,
           1.884471858788836,
           2.0982094854804645,
           2.311947112172093,
           2.5256847388637222,
           2.7394223655553507
          ],
          [
           -3.4589688085018775,
           -3.245231181810249,
           -3.0314935551186206,
           -2.8177559284269917,
           -2.6040183017353633,
           -2.390280675043735,
           -2.176543048352106,
           -1.9628054216604776,
           -1.7490677949688491,
           -1.5353301682772207,
           -1.3215925415855923,
           -1.1078549148939634,
           -0.8941172882023349,
           -0.6803796615107065,
           -0.4666420348190776,
           -0.2529044081274492,
           -0.03916678143582075,
           0.17457084525580768,
           0.3883084719474361,
           0.6020460986390646,
           0.815783725330693,
           1.0295213520223223,
           1.2432589787139507,
           1.4569966054055792,
           1.6707342320972076,
           1.884471858788836,
           2.0982094854804645,
           2.311947112172093,
           2.5256847388637222,
           2.7394223655553507
          ],
          [
           -3.4589688085018775,
           -3.245231181810249,
           -3.0314935551186206,
           -2.8177559284269917,
           -2.6040183017353633,
           -2.390280675043735,
           -2.176543048352106,
           -1.9628054216604776,
           -1.7490677949688491,
           -1.5353301682772207,
           -1.3215925415855923,
           -1.1078549148939634,
           -0.8941172882023349,
           -0.6803796615107065,
           -0.4666420348190776,
           -0.2529044081274492,
           -0.03916678143582075,
           0.17457084525580768,
           0.3883084719474361,
           0.6020460986390646,
           0.815783725330693,
           1.0295213520223223,
           1.2432589787139507,
           1.4569966054055792,
           1.6707342320972076,
           1.884471858788836,
           2.0982094854804645,
           2.311947112172093,
           2.5256847388637222,
           2.7394223655553507
          ],
          [
           -3.4589688085018775,
           -3.245231181810249,
           -3.0314935551186206,
           -2.8177559284269917,
           -2.6040183017353633,
           -2.390280675043735,
           -2.176543048352106,
           -1.9628054216604776,
           -1.7490677949688491,
           -1.5353301682772207,
           -1.3215925415855923,
           -1.1078549148939634,
           -0.8941172882023349,
           -0.6803796615107065,
           -0.4666420348190776,
           -0.2529044081274492,
           -0.03916678143582075,
           0.17457084525580768,
           0.3883084719474361,
           0.6020460986390646,
           0.815783725330693,
           1.0295213520223223,
           1.2432589787139507,
           1.4569966054055792,
           1.6707342320972076,
           1.884471858788836,
           2.0982094854804645,
           2.311947112172093,
           2.5256847388637222,
           2.7394223655553507
          ],
          [
           -3.4589688085018775,
           -3.245231181810249,
           -3.0314935551186206,
           -2.8177559284269917,
           -2.6040183017353633,
           -2.390280675043735,
           -2.176543048352106,
           -1.9628054216604776,
           -1.7490677949688491,
           -1.5353301682772207,
           -1.3215925415855923,
           -1.1078549148939634,
           -0.8941172882023349,
           -0.6803796615107065,
           -0.4666420348190776,
           -0.2529044081274492,
           -0.03916678143582075,
           0.17457084525580768,
           0.3883084719474361,
           0.6020460986390646,
           0.815783725330693,
           1.0295213520223223,
           1.2432589787139507,
           1.4569966054055792,
           1.6707342320972076,
           1.884471858788836,
           2.0982094854804645,
           2.311947112172093,
           2.5256847388637222,
           2.7394223655553507
          ],
          [
           -3.4589688085018775,
           -3.245231181810249,
           -3.0314935551186206,
           -2.8177559284269917,
           -2.6040183017353633,
           -2.390280675043735,
           -2.176543048352106,
           -1.9628054216604776,
           -1.7490677949688491,
           -1.5353301682772207,
           -1.3215925415855923,
           -1.1078549148939634,
           -0.8941172882023349,
           -0.6803796615107065,
           -0.4666420348190776,
           -0.2529044081274492,
           -0.03916678143582075,
           0.17457084525580768,
           0.3883084719474361,
           0.6020460986390646,
           0.815783725330693,
           1.0295213520223223,
           1.2432589787139507,
           1.4569966054055792,
           1.6707342320972076,
           1.884471858788836,
           2.0982094854804645,
           2.311947112172093,
           2.5256847388637222,
           2.7394223655553507
          ],
          [
           -3.4589688085018775,
           -3.245231181810249,
           -3.0314935551186206,
           -2.8177559284269917,
           -2.6040183017353633,
           -2.390280675043735,
           -2.176543048352106,
           -1.9628054216604776,
           -1.7490677949688491,
           -1.5353301682772207,
           -1.3215925415855923,
           -1.1078549148939634,
           -0.8941172882023349,
           -0.6803796615107065,
           -0.4666420348190776,
           -0.2529044081274492,
           -0.03916678143582075,
           0.17457084525580768,
           0.3883084719474361,
           0.6020460986390646,
           0.815783725330693,
           1.0295213520223223,
           1.2432589787139507,
           1.4569966054055792,
           1.6707342320972076,
           1.884471858788836,
           2.0982094854804645,
           2.311947112172093,
           2.5256847388637222,
           2.7394223655553507
          ],
          [
           -3.4589688085018775,
           -3.245231181810249,
           -3.0314935551186206,
           -2.8177559284269917,
           -2.6040183017353633,
           -2.390280675043735,
           -2.176543048352106,
           -1.9628054216604776,
           -1.7490677949688491,
           -1.5353301682772207,
           -1.3215925415855923,
           -1.1078549148939634,
           -0.8941172882023349,
           -0.6803796615107065,
           -0.4666420348190776,
           -0.2529044081274492,
           -0.03916678143582075,
           0.17457084525580768,
           0.3883084719474361,
           0.6020460986390646,
           0.815783725330693,
           1.0295213520223223,
           1.2432589787139507,
           1.4569966054055792,
           1.6707342320972076,
           1.884471858788836,
           2.0982094854804645,
           2.311947112172093,
           2.5256847388637222,
           2.7394223655553507
          ],
          [
           -3.4589688085018775,
           -3.245231181810249,
           -3.0314935551186206,
           -2.8177559284269917,
           -2.6040183017353633,
           -2.390280675043735,
           -2.176543048352106,
           -1.9628054216604776,
           -1.7490677949688491,
           -1.5353301682772207,
           -1.3215925415855923,
           -1.1078549148939634,
           -0.8941172882023349,
           -0.6803796615107065,
           -0.4666420348190776,
           -0.2529044081274492,
           -0.03916678143582075,
           0.17457084525580768,
           0.3883084719474361,
           0.6020460986390646,
           0.815783725330693,
           1.0295213520223223,
           1.2432589787139507,
           1.4569966054055792,
           1.6707342320972076,
           1.884471858788836,
           2.0982094854804645,
           2.311947112172093,
           2.5256847388637222,
           2.7394223655553507
          ],
          [
           -3.4589688085018775,
           -3.245231181810249,
           -3.0314935551186206,
           -2.8177559284269917,
           -2.6040183017353633,
           -2.390280675043735,
           -2.176543048352106,
           -1.9628054216604776,
           -1.7490677949688491,
           -1.5353301682772207,
           -1.3215925415855923,
           -1.1078549148939634,
           -0.8941172882023349,
           -0.6803796615107065,
           -0.4666420348190776,
           -0.2529044081274492,
           -0.03916678143582075,
           0.17457084525580768,
           0.3883084719474361,
           0.6020460986390646,
           0.815783725330693,
           1.0295213520223223,
           1.2432589787139507,
           1.4569966054055792,
           1.6707342320972076,
           1.884471858788836,
           2.0982094854804645,
           2.311947112172093,
           2.5256847388637222,
           2.7394223655553507
          ],
          [
           -3.4589688085018775,
           -3.245231181810249,
           -3.0314935551186206,
           -2.8177559284269917,
           -2.6040183017353633,
           -2.390280675043735,
           -2.176543048352106,
           -1.9628054216604776,
           -1.7490677949688491,
           -1.5353301682772207,
           -1.3215925415855923,
           -1.1078549148939634,
           -0.8941172882023349,
           -0.6803796615107065,
           -0.4666420348190776,
           -0.2529044081274492,
           -0.03916678143582075,
           0.17457084525580768,
           0.3883084719474361,
           0.6020460986390646,
           0.815783725330693,
           1.0295213520223223,
           1.2432589787139507,
           1.4569966054055792,
           1.6707342320972076,
           1.884471858788836,
           2.0982094854804645,
           2.311947112172093,
           2.5256847388637222,
           2.7394223655553507
          ],
          [
           -3.4589688085018775,
           -3.245231181810249,
           -3.0314935551186206,
           -2.8177559284269917,
           -2.6040183017353633,
           -2.390280675043735,
           -2.176543048352106,
           -1.9628054216604776,
           -1.7490677949688491,
           -1.5353301682772207,
           -1.3215925415855923,
           -1.1078549148939634,
           -0.8941172882023349,
           -0.6803796615107065,
           -0.4666420348190776,
           -0.2529044081274492,
           -0.03916678143582075,
           0.17457084525580768,
           0.3883084719474361,
           0.6020460986390646,
           0.815783725330693,
           1.0295213520223223,
           1.2432589787139507,
           1.4569966054055792,
           1.6707342320972076,
           1.884471858788836,
           2.0982094854804645,
           2.311947112172093,
           2.5256847388637222,
           2.7394223655553507
          ]
         ],
         "z": [
          [
           118.53321555225403,
           112.15316789536683,
           106.63096320954295,
           101.90553626335354,
           97.91582182536963,
           94.60075466416227,
           91.89926954830258,
           89.7503012463616,
           88.09278452691039,
           86.8656541585201,
           86.00784490976173,
           85.45829154920635,
           85.15592884542511,
           85.039691566989,
           85.04851448246912,
           85.12133236043655,
           85.19707996946237,
           85.21469207811764,
           85.11310345497341,
           84.83124886860081,
           84.30806308757089,
           83.48248088045469,
           82.29343701582332,
           80.67986626224783,
           78.58070338829933,
           75.93488316254884,
           72.68134035356748,
           68.7590097299263,
           64.10682606019634,
           58.663724112948756
          ],
          [
           109.74369394072446,
           103.30312319551166,
           97.72446459546974,
           92.94665290916983,
           88.90862290518295,
           85.54930935208021,
           82.80764701843268,
           80.62257067281139,
           78.93301508378747,
           77.67791501993194,
           76.79620524981593,
           76.22682054201044,
           75.90869566508663,
           75.78076538761552,
           75.78196447816815,
           75.85122770531568,
           75.92748983762914,
           75.94968564367959,
           75.8567498920381,
           75.58761735127575,
           75.08122278996368,
           74.27650097667282,
           73.11238667997438,
           71.52781466843938,
           69.46171971063886,
           66.85303657514396,
           63.64070003052571,
           59.763644845355174,
           55.16080578820343,
           49.771117627641615
          ],
          [
           101.48694150929805,
           94.98573268417067,
           89.35050517832173,
           84.52019376032231,
           80.43373319874351,
           77.03005826215637,
           74.24810371913198,
           72.02680433824138,
           70.30509488805569,
           69.021910137146,
           68.1161848540833,
           67.52685380743873,
           67.19285176578335,
           67.05311349768823,
           67.0465737717244,
           67.11216735646302,
           67.18882902047508,
           67.2154935323317,
           67.13109566060395,
           66.8745701738629,
           66.38485184067963,
           65.60087542962516,
           64.46157570927063,
           62.9058874481871,
           60.8727454149456,
           58.30108437811727,
           55.12983910627314,
           51.29794436798424,
           46.744334931821726,
           41.40794556635666
          ],
          [
           93.76283240249077,
           87.2008705058598,
           81.50895910261481,
           76.6260329613269,
           72.49102685056714,
           69.04287553890661,
           66.22051379491636,
           63.96287638716748,
           62.20889808423105,
           60.89751365467812,
           59.96765786707978,
           59.35826549000709,
           59.008271292031154,
           58.856610041723,
           58.84221650765374,
           58.90402545839442,
           58.98097166251613,
           59.011989888589945,
           58.936014905186916,
           58.691981480878134,
           58.218824384234665,
           57.4554783838276,
           56.34087824822799,
           54.81395874600691,
           52.81365464573544,
           50.27890071598466,
           47.14863172532563,
           43.36178244232943,
           38.857287635567104,
           33.57408207360977
          ],
          [
           86.57124076481841,
           79.94841080509485,
           74.19970051286482,
           69.26404465669941,
           65.08037800516972,
           61.587635326846794,
           58.7247513903017,
           56.43066096410551,
           54.64429881682933,
           53.3045997170442,
           52.3504984333212,
           51.72092973423141,
           51.354828388345894,
           51.19112916423575,
           51.16876683047201,
           51.22667615562578,
           51.303791908268124,
           51.33904885697011,
           51.27138177030282,
           51.03972541683731,
           50.58301456514468,
           49.84018398379597,
           48.75016844136227,
           47.25190270641467,
           45.28432154752422,
           42.786359733261996,
           39.69695203219908,
           35.95503321290654,
           31.49953804395543,
           26.269401293916854
          ],
          [
           79.91204074079693,
           73.22822772639178,
           67.4226035535877,
           62.43410299095582,
           58.20166080706717,
           54.66421177049285,
           51.7606906498039,
           49.430032213571415,
           47.61117123036647,
           46.24304246876015,
           45.26458069732348,
           44.61472068462759,
           44.23239719924352,
           44.05654500974236,
           44.02609888469515,
           44.079993592673006,
           44.157163902246985,
           44.19654458198815,
           44.13707040046758,
           43.91767612625635,
           43.47729652792553,
           42.75486637404621,
           41.68932043318942,
           40.219593473926295,
           38.28462026482786,
           35.823335574465204,
           32.7746741714094,
           29.07757082423152,
           24.670960301502614,
           19.4937773717938
          ],
          [
           73.78510647494217,
           67.04019541426642,
           61.17754236929932,
           56.13608210861192,
           51.85474940077533,
           48.27247901436061,
           45.32820571793882,
           42.96086428008104,
           41.10938946935834,
           39.712716054341804,
           38.70977880360249,
           38.03951248571149,
           37.64085186923986,
           37.45273172275867,
           37.41408681483901,
           37.46385191405195,
           37.54096178896856,
           37.58435120815991,
           37.53295494019706,
           37.32570775365111,
           36.90154441709311,
           36.199399699094165,
           35.1582083682253,
           33.71690519305763,
           31.81442494216222,
           29.38970238411013,
           26.38167228747243,
           22.729269420820213,
           18.371428552724513,
           13.24708445175646
          ],
          [
           68.19031211177004,
           61.38418801323472,
           55.46439110451557,
           50.36985615418368,
           46.03951793081015,
           42.41231120296602,
           39.427170739222376,
           37.0230313081503,
           35.13882767832085,
           33.713494618305106,
           32.68596689667414,
           31.99517928199903,
           31.580066542850833,
           31.37956344780064,
           31.332604765419518,
           31.378125264278534,
           31.45505971294877,
           31.502342880001297,
           31.45890953400718,
           31.263694443537506,
           30.855632377163342,
           30.17365810345575,
           29.15670639098582,
           27.743712008324625,
           25.87360972404322,
           23.485334306712694,
           20.517820524904106,
           16.91000314718855,
           12.600816942137065,
           7.529196678320755
          ],
          [
           63.1275317957964,
           56.26007966781249,
           50.2830239037523,
           45.13529927218693,
           40.75584054168745,
           37.083582480824916,
           34.057459858170425,
           31.61640744229505,
           29.699360001769843,
           28.2452523051659,
           27.193019121054274,
           26.481595218006046,
           26.049915364592295,
           25.836914329384086,
           25.781526880952505,
           25.822687787868606,
           25.89933181870347,
           25.950393742028172,
           25.91480832641379,
           25.73151034043139,
           25.339434552652044,
           24.677515731646828,
           23.684688645986817,
           22.299888064243078,
           20.462048754986693,
           18.110105486788733,
           15.18299302822026,
           11.619646147852361,
           7.358999614256085,
           2.3399881960025475
          ],
          [
           58.59663967153718,
           51.66774452251568,
           45.633314911525446,
           40.43228560713758,
           36.00359137792315,
           32.28616699245323,
           29.21894721929889,
           26.74086682703121,
           24.79086058422125,
           23.307863259440097,
           22.23080962125882,
           21.498634438248484,
           21.05027247898017,
           20.824658512024953,
           20.760727305953896,
           20.797413629338084,
           20.873652250748584,
           20.928377938756466,
           20.90052546193281,
           20.729029588848682,
           20.352825088075164,
           19.710846728183316,
           18.742029277744226,
           17.385307505328957,
           15.579616179508587,
           13.263890068854188,
           10.377063941936825,
           6.858072567327593,
           2.6458507135975218,
           -2.320666850682258
          ],
          [
           54.59750988350823,
           47.60705672186013,
           41.51513827235087,
           36.260689303551494,
           31.782644584033125,
           28.01993888236681,
           24.911506967123614,
           22.396283606874636,
           20.413203570190927,
           18.901201625643566,
           17.79921254180363,
           17.046171087242183,
           16.58101203053031,
           16.342670140239075,
           16.27008018493956,
           16.30217693320283,
           16.377895153599958,
           16.43616961470202,
           16.41593508508009,
           16.25612633330524,
           15.895678127948546,
           15.273525237581067,
           14.328602430773893,
           12.999844476098097,
           11.226186142124739,
           8.946562197424903,
           6.09990741056966,
           2.625156550130079,
           -1.5387556153227813,
           -6.45289431721781
          ],
          [
           51.13001657622544,
           44.077890410361746,
           37.92836813074444,
           32.62038450594458,
           28.09287430453326,
           24.284772295081545,
           21.135013246160504,
           18.582531926341222,
           16.566263104194757,
           15.025141548292195,
           13.898102027204601,
           13.124079309503049,
           12.64200816375861,
           12.390823358542365,
           12.309459662425382,
           12.336851843978735,
           12.411934671773492,
           12.473642914380738,
           12.460911340371535,
           12.312674718316961,
           11.967867816788086,
           11.365425404355982,
           10.44428224959173,
           9.1433731210664,
           7.4016327873510575,
           5.157996017016785,
           2.35139757863465,
           -1.079227759224267,
           -5.194945227988921,
           -10.056820059088198
          ],
          [
           48.19403389420469,
           41.08011973253642,
           34.872878631222065,
           29.51124535883271,
           24.93415468393945,
           21.080541375113338,
           17.889340200925442,
           15.299485929946858,
           13.249913330748644,
           11.679557171901873,
           10.527352221977623,
           9.73223324954696,
           9.233135023180965,
           8.968992311450704,
           8.878739882927254,
           8.90131250618169,
           8.975644949785082,
           9.040671982308504,
           9.035328372323029,
           8.898548888399727,
           8.569268299109677,
           7.986421373023946,
           7.08894287871361,
           5.815767584749747,
           4.105830259703423,
           1.8980656721457123,
           -0.8685914093523088,
           -4.255206216219571,
           -8.322843979885015,
           -13.132569931777535
          ],
          [
           45.78943598196189,
           38.61361883290002,
           32.348543918299626,
           26.93314600673178,
           22.30635986676757,
           18.407120266978062,
           15.174361975934321,
           12.547019762207432,
           10.464028394368462,
           8.864322640988487,
           7.686837270638578,
           6.870507051889806,
           6.354266753313249,
           6.077051143479975,
           5.977794990961061,
           5.995433064327578,
           6.068900132150601,
           6.137130963001201,
           6.139060325450452,
           6.013622988069428,
           5.6997537194292,
           5.13638728810084,
           4.262458462655426,
           3.016902011664028,
           1.3386527036977185,
           -0.833354692672426,
           -3.560185408875337,
           -6.902904676339939,
           -10.922577726495177,
           -15.680269790769941
          ],
          [
           43.9160969840129,
           36.678261855968444,
           30.355238136493007,
           24.885960594157666,
           20.20936399753351,
           16.264383115191606,
           12.989952715703012,
           10.325007567638824,
           8.208482439570101,
           6.579312100067919,
           5.376431317703352,
           4.53877486104747,
           4.005277498671351,
           3.7148739991460653,
           3.6064991310426855,
           3.619087662932286,
           3.6915743633859393,
           3.762894000974718,
           3.7719813442696966,
           3.6577711618419464,
           3.359198222262541,
           2.8151972941025516,
           1.9647031459330564,
           0.7466505463251245,
           -0.9000257361501682,
           -3.0363909329217513,
           -5.723510275418549,
           -9.022448995069492,
           -12.994272323303521,
           -17.70004549154953
          ],
          [
           42.57389104487362,
           35.27392294625757,
           28.89283543031809,
           23.369563265626255,
           18.643041220753158,
           14.652204064269851,
           11.33598656474741,
           8.633323490756919,
           6.483149610869442,
           4.824399693656055,
           3.59600850768783,
           2.7369108215358384,
           2.1860414037711577,
           1.8823350229648588,
           1.7647264476880136,
           1.7721504465116964,
           1.8435417880069802,
           1.9178352407449377,
           1.9339655732966419,
           1.830867554233167,
           1.5474759521255856,
           1.0227255355449671,
           0.1955510730623904,
           -0.9951126667510737,
           -2.6103309153243526,
           -4.711168904086371,
           -7.358691864466059,
           -10.613965027892341,
           -14.538053625794163,
           -19.192022889600416
          ],
          [
           41.76269230905993,
           34.40047624828329,
           27.961209944290765,
           22.383828165653437,
           17.60726568094239,
           13.570457258728688,
           10.212337667583396,
           7.471841676077602,
           5.287904052782372,
           3.59945956626878,
           2.345442985107897,
           1.464789077870796,
           0.8964326131285534,
           0.5793083594522402,
           0.4523510854129297,
           0.4544955595816952,
           0.5246765505296094,
           0.6018288268277454,
           0.6248871570471768,
           0.5327863097589762,
           0.26446105353421745,
           -0.24115384305602983,
           -1.0451236114406877,
           -2.2085134830486846,
           -3.792388689308949,
           -5.857814461650404,
           -8.465856031501982,
           -11.677578630292604,
           -15.55404748945122,
           -20.156327840406718
          ],
          [
           41.48237492108771,
           34.05779590656149,
           27.560235822926916,
           21.928629438755095,
           17.1019115226171,
           13.019016843084001,
           9.618880168726859,
           6.840436268116763,
           4.622619909824778,
           2.90436586242198,
           1.624608894479439,
           0.7222837745682282,
           0.13632527125942395,
           -0.1943318468759031,
           -0.3307528112666792,
           -0.3340028533418315,
           -0.26514720453028684,
           -0.18525109626097216,
           -0.15537975996281433,
           -0.23659842706474019,
           -0.48997232899567644,
           -0.9765666971845529,
           -1.7574467630602921,
           -2.8936777580518225,
           -4.446324913588072,
           -6.4764534610979645,
           -9.04512863201043,
           -12.213415657754394,
           -16.042379769758803,
           -20.593086199452546
          ],
          [
           41.73281302547286,
           34.245756065608035,
           27.68978721074243,
           22.00384122944711,
           17.126852890293172,
           12.997756961851673,
           9.555488212693682,
           6.7389814113902835,
           4.487171326512545,
           2.7389927266315395,
           1.4333803803183411,
           0.5092690561440204,
           -0.0944064773203459,
           -0.4387114515036865,
           -0.5847110978349288,
           -0.5934706477429987,
           -0.5260553326568236,
           -0.44353038400533057,
           -0.40696103321744637,
           -0.47741251172209775,
           -0.7159500509482115,
           -1.1836388823247173,
           -1.941544237280538,
           -3.050731347244602,
           -4.572265443645836,
           -6.567211757913166,
           -9.096635521475521,
           -12.221601965761828,
           -16.00317632220103,
           -20.502423822222013
          ],
          [
           42.51388076673125,
           34.96423086993884,
           28.34973825225319,
           22.609337682245375,
           17.681963928486493,
           13.506551759547593,
           10.02203594399975,
           7.16735125041405,
           4.881432447361558,
           3.1032143034133464,
           1.7716315871404893,
           0.8256190671140585,
           0.2041115119051301,
           -0.15395630991522452,
           -0.3096496297759327,
           -0.3240336791059204,
           -0.2581736893341152,
           -0.17313489188944406,
           -0.1299825182008335,
           -0.18978179969721054,
           -0.41359796780750185,
           -0.8624962539606371,
           -1.597541889585539,
           -2.679800106111136,
           -4.170336134966356,
           -6.1302152075801235,
           -8.620502555381368,
           -11.702263409799015,
           -15.436563002262007,
           -19.88446656419924
          ],
          [
           43.82545228937877,
           36.21309446406977,
           29.539963091975075,
           23.744992941665767,
           18.767118781712938,
           14.545275380687642,
           11.018397507160948,
           8.125419929703945,
           5.805277416887699,
           3.9969047372832813,
           2.639236659461766,
           1.6712079519942247,
           1.0317533834517345,
           0.6598077224053657,
           0.49430573742619155,
           0.4741821970852857,
           0.5383718699537211,
           0.6258095246025703,
           0.675429929602907,
           0.6261678535258044,
           0.4169580649423352,
           -0.013264667576429634,
           -0.725565575459413,
           -1.781009890135544,
           -3.240662843033749,
           -5.165589665582954,
           -7.616855589212088,
           -10.655525845350075,
           -14.342665665425862,
           -18.73934028086834
          ],
          [
           45.667401737931314,
           37.99222099251672,
           31.260335874423987,
           25.410681152224186,
           20.382191594488408,
           16.113801969787712,
           12.544447046693168,
           9.613061593775862,
           7.258580379606862,
           5.419938172757237,
           4.036069741798063,
           3.045909855300412,
           2.3883932818353593,
           2.0024547899739766,
           1.827029148287336,
           1.8010511253465122,
           1.8634554897225775,
           1.9531770099866048,
           2.0091504547096677,
           1.9703105924628392,
           1.7755921918171922,
           1.363930021343798,
           0.6742588496137327,
           -0.3544865548019316,
           -1.783371423332123,
           -3.6734609874057647,
           -6.0858204784517875,
           -9.081515127899117,
           -12.721610167176696,
           -17.06717082771342
          ],
          [
           48.039603256904755,
           40.30148459979557,
           33.51073074411579,
           27.606276458436497,
           22.527056511328773,
           18.212005671363677,
           14.600058707112282,
           11.630150387145674,
           9.241215480034919,
           7.372188754351088,
           5.962004978665256,
           4.949598921548494,
           4.273905351571878,
           3.8738590373064814,
           3.6883947473233754,
           3.6564472501936334,
           3.7169513144883286,
           3.8088417087785333,
           3.8710532016353225,
           3.842520561629768,
           3.6621785573329433,
           3.268961957315919,
           2.6018055301497713,
           1.599644044405574,
           0.20141226865439776,
           -1.6539550285326827,
           -4.027523078584595,
           -6.980357112930267,
           -10.57352236299864,
           -14.868084060218607
          ],
          [
           50.941930990814996,
           43.14075943042222,
           36.2910218455664,
           30.331653004818605,
           25.201587676749934,
           20.83976062993144,
           17.185106632934193,
           14.176560454329282,
           11.753056862687771,
           9.853530626580735,
           8.416916514579246,
           7.382149295254371,
           6.688163737177195,
           6.273894608918783,
           6.0782766790502105,
           6.040244716142549,
           6.098733488766875,
           6.192677765494258,
           6.261012314895772,
           6.242671905542491,
           6.076591306005489,
           5.701705284855834,
           5.056948610664607,
           4.081256052002874,
           2.713562377441712,
           0.8928023555521936,
           -1.442089245094607,
           -4.352177655927621,
           -7.898528108375787,
           -12.142205833868001
          ],
          [
           54.37425908417789,
           46.50991962891253,
           39.60108332329166,
           33.586684935886375,
           28.405659235267755,
           23.996940990006863,
           20.299464968674762,
           17.252165939842552,
           14.793978672081284,
           12.863837933962044,
           11.400678494055896,
           10.343435120933911,
           9.631042583167172,
           9.202435649326743,
           8.996549087983706,
           8.952317667709126,
           9.00867615707408,
           9.104559324649644,
           9.178901939006883,
           9.170638768716877,
           9.018704582350697,
           8.66203414847941,
           8.039562235674099,
           7.090223612505835,
           5.752953047545685,
           3.966685309364731,
           1.670355166534037,
           -1.197102612375316,
           -4.696753258792274,
           -8.889662004145736
          ],
          [
           58.33646168150936,
           50.4088393397824,
           43.4407893218075,
           37.37124639615571,
           32.13914533139815,
           27.683420896105858,
           23.94300785884991,
           20.856840988201395,
           18.363855052731374,
           16.40298482101092,
           14.913165061611117,
           13.83333054310302,
           13.102416034057718,
           12.659356303046277,
           12.443086118639771,
           12.392540249409274,
           12.446653463925857,
           12.544360530760597,
           12.624596218484564,
           12.626295295668829,
           12.488392530884472,
           12.149822692702555,
           11.549520549694162,
           10.626420870430362,
           9.319458423482228,
           7.567567977420834,
           5.309684300817251,
           2.484742162242558,
           -0.9683236697321949,
           -5.110578426535902
          ],
          [
           62.82841292732526,
           54.837392707547714,
           47.810013985629766,
           41.68521153014248,
           36.40192010965697,
           31.899074492744283,
           28.11560944797548,
           24.99045974392166,
           22.462560149153887,
           20.47084543224323,
           18.954250361760764,
           17.851709706277557,
           17.102158234364694,
           16.644530714593234,
           16.417761915534268,
           16.360786605758847,
           16.412539553838062,
           16.511955528342977,
           16.597969297844667,
           16.609515630914213,
           16.485529296122674,
           16.16494506204113,
           15.586697697240654,
           14.689721970292318,
           13.412952649767195,
           11.695324504236368,
           9.475772302270894,
           6.693230812441858,
           3.286634803320311,
           -0.8050809565226409
          ],
          [
           67.84998696614151,
           59.79545387672437,
           52.70863145927438,
           46.528454482362605,
           41.193857714560146,
           36.643775924438046,
           32.8171438805674,
           29.65289635151928,
           27.08996810586475,
           25.067293912174886,
           23.52380853902076,
           22.398446754973442,
           21.630143328604014,
           21.157833028483545,
           20.92045062318311,
           20.856930881273772,
           20.906208571326612,
           21.007218461912704,
           21.098895321603123,
           21.120173918968938,
           21.009989022581223,
           20.707275401011046,
           20.15096782282949,
           19.28000105660762,
           18.033309870916515,
           16.349829034327247,
           14.168493315410878,
           11.428237482738503,
           8.067996304881163,
           4.0267045504099706
          ],
          [
           73.40105794247395,
           65.28289699182822,
           58.13651588725719,
           51.90084939733191,
           46.5148322906235,
           41.91739933570302,
           38.04748530114151,
           34.844024955510086,
           32.2459530673798,
           30.19220440532173,
           28.621713737906948,
           27.47341583370652,
           26.686245461291527,
           26.199137389233037,
           25.951026386102136,
           25.880847220469885,
           25.92753466090735,
           26.030023475985622,
           26.127248434275767,
           26.158144304348856,
           26.06164585477596,
           25.776687854128156,
           25.242205070976514,
           24.39713227389211,
           23.18040423144602,
           21.53095571220931,
           19.387721484753058,
           16.689636317648336,
           13.375634979466206,
           9.384652238777758
          ],
          [
           79.48150000083851,
           71.29959619737518,
           64.09354141409409,
           57.802270419566334,
           52.364717982362976,
           47.71981887105509,
           43.80650785421374,
           40.563719700410005,
           37.930389178214966,
           35.845451056199686,
           34.24784010293524,
           33.07649108699271,
           32.27033877694315,
           31.76831794135765,
           31.50936334880728,
           31.432409767863106,
           31.47639196709621,
           31.58024471507765,
           31.682902780378523,
           31.723300931569884,
           31.64037393722281,
           31.373056565908378,
           30.86028358619765,
           30.04098976666172,
           28.854109875871636,
           27.23857868239849,
           25.133330954813356,
           22.477301461687272,
           19.20942497159135,
           15.268636253096656
          ]
         ]
        }
       ],
       "layout": {
        "margin": {
         "b": 10,
         "l": 10,
         "r": 20,
         "t": 10
        },
        "scene": {
         "xaxis": {
          "nticks": 4,
          "range": [
           -4,
           4
          ]
         },
         "yaxis": {
          "nticks": 4,
          "range": [
           -4,
           4
          ]
         },
         "zaxis": {
          "nticks": 4,
          "range": [
           -12.408048594813438,
           83.07283761623299
          ]
         }
        },
        "template": {
         "data": {
          "bar": [
           {
            "error_x": {
             "color": "#2a3f5f"
            },
            "error_y": {
             "color": "#2a3f5f"
            },
            "marker": {
             "line": {
              "color": "#E5ECF6",
              "width": 0.5
             },
             "pattern": {
              "fillmode": "overlay",
              "size": 10,
              "solidity": 0.2
             }
            },
            "type": "bar"
           }
          ],
          "barpolar": [
           {
            "marker": {
             "line": {
              "color": "#E5ECF6",
              "width": 0.5
             },
             "pattern": {
              "fillmode": "overlay",
              "size": 10,
              "solidity": 0.2
             }
            },
            "type": "barpolar"
           }
          ],
          "carpet": [
           {
            "aaxis": {
             "endlinecolor": "#2a3f5f",
             "gridcolor": "white",
             "linecolor": "white",
             "minorgridcolor": "white",
             "startlinecolor": "#2a3f5f"
            },
            "baxis": {
             "endlinecolor": "#2a3f5f",
             "gridcolor": "white",
             "linecolor": "white",
             "minorgridcolor": "white",
             "startlinecolor": "#2a3f5f"
            },
            "type": "carpet"
           }
          ],
          "choropleth": [
           {
            "colorbar": {
             "outlinewidth": 0,
             "ticks": ""
            },
            "type": "choropleth"
           }
          ],
          "contour": [
           {
            "colorbar": {
             "outlinewidth": 0,
             "ticks": ""
            },
            "colorscale": [
             [
              0,
              "#0d0887"
             ],
             [
              0.1111111111111111,
              "#46039f"
             ],
             [
              0.2222222222222222,
              "#7201a8"
             ],
             [
              0.3333333333333333,
              "#9c179e"
             ],
             [
              0.4444444444444444,
              "#bd3786"
             ],
             [
              0.5555555555555556,
              "#d8576b"
             ],
             [
              0.6666666666666666,
              "#ed7953"
             ],
             [
              0.7777777777777778,
              "#fb9f3a"
             ],
             [
              0.8888888888888888,
              "#fdca26"
             ],
             [
              1,
              "#f0f921"
             ]
            ],
            "type": "contour"
           }
          ],
          "contourcarpet": [
           {
            "colorbar": {
             "outlinewidth": 0,
             "ticks": ""
            },
            "type": "contourcarpet"
           }
          ],
          "heatmap": [
           {
            "colorbar": {
             "outlinewidth": 0,
             "ticks": ""
            },
            "colorscale": [
             [
              0,
              "#0d0887"
             ],
             [
              0.1111111111111111,
              "#46039f"
             ],
             [
              0.2222222222222222,
              "#7201a8"
             ],
             [
              0.3333333333333333,
              "#9c179e"
             ],
             [
              0.4444444444444444,
              "#bd3786"
             ],
             [
              0.5555555555555556,
              "#d8576b"
             ],
             [
              0.6666666666666666,
              "#ed7953"
             ],
             [
              0.7777777777777778,
              "#fb9f3a"
             ],
             [
              0.8888888888888888,
              "#fdca26"
             ],
             [
              1,
              "#f0f921"
             ]
            ],
            "type": "heatmap"
           }
          ],
          "heatmapgl": [
           {
            "colorbar": {
             "outlinewidth": 0,
             "ticks": ""
            },
            "colorscale": [
             [
              0,
              "#0d0887"
             ],
             [
              0.1111111111111111,
              "#46039f"
             ],
             [
              0.2222222222222222,
              "#7201a8"
             ],
             [
              0.3333333333333333,
              "#9c179e"
             ],
             [
              0.4444444444444444,
              "#bd3786"
             ],
             [
              0.5555555555555556,
              "#d8576b"
             ],
             [
              0.6666666666666666,
              "#ed7953"
             ],
             [
              0.7777777777777778,
              "#fb9f3a"
             ],
             [
              0.8888888888888888,
              "#fdca26"
             ],
             [
              1,
              "#f0f921"
             ]
            ],
            "type": "heatmapgl"
           }
          ],
          "histogram": [
           {
            "marker": {
             "pattern": {
              "fillmode": "overlay",
              "size": 10,
              "solidity": 0.2
             }
            },
            "type": "histogram"
           }
          ],
          "histogram2d": [
           {
            "colorbar": {
             "outlinewidth": 0,
             "ticks": ""
            },
            "colorscale": [
             [
              0,
              "#0d0887"
             ],
             [
              0.1111111111111111,
              "#46039f"
             ],
             [
              0.2222222222222222,
              "#7201a8"
             ],
             [
              0.3333333333333333,
              "#9c179e"
             ],
             [
              0.4444444444444444,
              "#bd3786"
             ],
             [
              0.5555555555555556,
              "#d8576b"
             ],
             [
              0.6666666666666666,
              "#ed7953"
             ],
             [
              0.7777777777777778,
              "#fb9f3a"
             ],
             [
              0.8888888888888888,
              "#fdca26"
             ],
             [
              1,
              "#f0f921"
             ]
            ],
            "type": "histogram2d"
           }
          ],
          "histogram2dcontour": [
           {
            "colorbar": {
             "outlinewidth": 0,
             "ticks": ""
            },
            "colorscale": [
             [
              0,
              "#0d0887"
             ],
             [
              0.1111111111111111,
              "#46039f"
             ],
             [
              0.2222222222222222,
              "#7201a8"
             ],
             [
              0.3333333333333333,
              "#9c179e"
             ],
             [
              0.4444444444444444,
              "#bd3786"
             ],
             [
              0.5555555555555556,
              "#d8576b"
             ],
             [
              0.6666666666666666,
              "#ed7953"
             ],
             [
              0.7777777777777778,
              "#fb9f3a"
             ],
             [
              0.8888888888888888,
              "#fdca26"
             ],
             [
              1,
              "#f0f921"
             ]
            ],
            "type": "histogram2dcontour"
           }
          ],
          "mesh3d": [
           {
            "colorbar": {
             "outlinewidth": 0,
             "ticks": ""
            },
            "type": "mesh3d"
           }
          ],
          "parcoords": [
           {
            "line": {
             "colorbar": {
              "outlinewidth": 0,
              "ticks": ""
             }
            },
            "type": "parcoords"
           }
          ],
          "pie": [
           {
            "automargin": true,
            "type": "pie"
           }
          ],
          "scatter": [
           {
            "marker": {
             "colorbar": {
              "outlinewidth": 0,
              "ticks": ""
             }
            },
            "type": "scatter"
           }
          ],
          "scatter3d": [
           {
            "line": {
             "colorbar": {
              "outlinewidth": 0,
              "ticks": ""
             }
            },
            "marker": {
             "colorbar": {
              "outlinewidth": 0,
              "ticks": ""
             }
            },
            "type": "scatter3d"
           }
          ],
          "scattercarpet": [
           {
            "marker": {
             "colorbar": {
              "outlinewidth": 0,
              "ticks": ""
             }
            },
            "type": "scattercarpet"
           }
          ],
          "scattergeo": [
           {
            "marker": {
             "colorbar": {
              "outlinewidth": 0,
              "ticks": ""
             }
            },
            "type": "scattergeo"
           }
          ],
          "scattergl": [
           {
            "marker": {
             "colorbar": {
              "outlinewidth": 0,
              "ticks": ""
             }
            },
            "type": "scattergl"
           }
          ],
          "scattermapbox": [
           {
            "marker": {
             "colorbar": {
              "outlinewidth": 0,
              "ticks": ""
             }
            },
            "type": "scattermapbox"
           }
          ],
          "scatterpolar": [
           {
            "marker": {
             "colorbar": {
              "outlinewidth": 0,
              "ticks": ""
             }
            },
            "type": "scatterpolar"
           }
          ],
          "scatterpolargl": [
           {
            "marker": {
             "colorbar": {
              "outlinewidth": 0,
              "ticks": ""
             }
            },
            "type": "scatterpolargl"
           }
          ],
          "scatterternary": [
           {
            "marker": {
             "colorbar": {
              "outlinewidth": 0,
              "ticks": ""
             }
            },
            "type": "scatterternary"
           }
          ],
          "surface": [
           {
            "colorbar": {
             "outlinewidth": 0,
             "ticks": ""
            },
            "colorscale": [
             [
              0,
              "#0d0887"
             ],
             [
              0.1111111111111111,
              "#46039f"
             ],
             [
              0.2222222222222222,
              "#7201a8"
             ],
             [
              0.3333333333333333,
              "#9c179e"
             ],
             [
              0.4444444444444444,
              "#bd3786"
             ],
             [
              0.5555555555555556,
              "#d8576b"
             ],
             [
              0.6666666666666666,
              "#ed7953"
             ],
             [
              0.7777777777777778,
              "#fb9f3a"
             ],
             [
              0.8888888888888888,
              "#fdca26"
             ],
             [
              1,
              "#f0f921"
             ]
            ],
            "type": "surface"
           }
          ],
          "table": [
           {
            "cells": {
             "fill": {
              "color": "#EBF0F8"
             },
             "line": {
              "color": "white"
             }
            },
            "header": {
             "fill": {
              "color": "#C8D4E3"
             },
             "line": {
              "color": "white"
             }
            },
            "type": "table"
           }
          ]
         },
         "layout": {
          "annotationdefaults": {
           "arrowcolor": "#2a3f5f",
           "arrowhead": 0,
           "arrowwidth": 1
          },
          "autotypenumbers": "strict",
          "coloraxis": {
           "colorbar": {
            "outlinewidth": 0,
            "ticks": ""
           }
          },
          "colorscale": {
           "diverging": [
            [
             0,
             "#8e0152"
            ],
            [
             0.1,
             "#c51b7d"
            ],
            [
             0.2,
             "#de77ae"
            ],
            [
             0.3,
             "#f1b6da"
            ],
            [
             0.4,
             "#fde0ef"
            ],
            [
             0.5,
             "#f7f7f7"
            ],
            [
             0.6,
             "#e6f5d0"
            ],
            [
             0.7,
             "#b8e186"
            ],
            [
             0.8,
             "#7fbc41"
            ],
            [
             0.9,
             "#4d9221"
            ],
            [
             1,
             "#276419"
            ]
           ],
           "sequential": [
            [
             0,
             "#0d0887"
            ],
            [
             0.1111111111111111,
             "#46039f"
            ],
            [
             0.2222222222222222,
             "#7201a8"
            ],
            [
             0.3333333333333333,
             "#9c179e"
            ],
            [
             0.4444444444444444,
             "#bd3786"
            ],
            [
             0.5555555555555556,
             "#d8576b"
            ],
            [
             0.6666666666666666,
             "#ed7953"
            ],
            [
             0.7777777777777778,
             "#fb9f3a"
            ],
            [
             0.8888888888888888,
             "#fdca26"
            ],
            [
             1,
             "#f0f921"
            ]
           ],
           "sequentialminus": [
            [
             0,
             "#0d0887"
            ],
            [
             0.1111111111111111,
             "#46039f"
            ],
            [
             0.2222222222222222,
             "#7201a8"
            ],
            [
             0.3333333333333333,
             "#9c179e"
            ],
            [
             0.4444444444444444,
             "#bd3786"
            ],
            [
             0.5555555555555556,
             "#d8576b"
            ],
            [
             0.6666666666666666,
             "#ed7953"
            ],
            [
             0.7777777777777778,
             "#fb9f3a"
            ],
            [
             0.8888888888888888,
             "#fdca26"
            ],
            [
             1,
             "#f0f921"
            ]
           ]
          },
          "colorway": [
           "#636efa",
           "#EF553B",
           "#00cc96",
           "#ab63fa",
           "#FFA15A",
           "#19d3f3",
           "#FF6692",
           "#B6E880",
           "#FF97FF",
           "#FECB52"
          ],
          "font": {
           "color": "#2a3f5f"
          },
          "geo": {
           "bgcolor": "white",
           "lakecolor": "white",
           "landcolor": "#E5ECF6",
           "showlakes": true,
           "showland": true,
           "subunitcolor": "white"
          },
          "hoverlabel": {
           "align": "left"
          },
          "hovermode": "closest",
          "mapbox": {
           "style": "light"
          },
          "paper_bgcolor": "white",
          "plot_bgcolor": "#E5ECF6",
          "polar": {
           "angularaxis": {
            "gridcolor": "white",
            "linecolor": "white",
            "ticks": ""
           },
           "bgcolor": "#E5ECF6",
           "radialaxis": {
            "gridcolor": "white",
            "linecolor": "white",
            "ticks": ""
           }
          },
          "scene": {
           "xaxis": {
            "backgroundcolor": "#E5ECF6",
            "gridcolor": "white",
            "gridwidth": 2,
            "linecolor": "white",
            "showbackground": true,
            "ticks": "",
            "zerolinecolor": "white"
           },
           "yaxis": {
            "backgroundcolor": "#E5ECF6",
            "gridcolor": "white",
            "gridwidth": 2,
            "linecolor": "white",
            "showbackground": true,
            "ticks": "",
            "zerolinecolor": "white"
           },
           "zaxis": {
            "backgroundcolor": "#E5ECF6",
            "gridcolor": "white",
            "gridwidth": 2,
            "linecolor": "white",
            "showbackground": true,
            "ticks": "",
            "zerolinecolor": "white"
           }
          },
          "shapedefaults": {
           "line": {
            "color": "#2a3f5f"
           }
          },
          "ternary": {
           "aaxis": {
            "gridcolor": "white",
            "linecolor": "white",
            "ticks": ""
           },
           "baxis": {
            "gridcolor": "white",
            "linecolor": "white",
            "ticks": ""
           },
           "bgcolor": "#E5ECF6",
           "caxis": {
            "gridcolor": "white",
            "linecolor": "white",
            "ticks": ""
           }
          },
          "title": {
           "x": 0.05
          },
          "xaxis": {
           "automargin": true,
           "gridcolor": "white",
           "linecolor": "white",
           "ticks": "",
           "title": {
            "standoff": 15
           },
           "zerolinecolor": "white",
           "zerolinewidth": 2
          },
          "yaxis": {
           "automargin": true,
           "gridcolor": "white",
           "linecolor": "white",
           "ticks": "",
           "title": {
            "standoff": 15
           },
           "zerolinecolor": "white",
           "zerolinewidth": 2
          }
         }
        },
        "width": 700
       }
      },
      "text/html": [
       "<div>                            <div id=\"c150f6d3-aeda-4154-98b8-6e4037f31135\" class=\"plotly-graph-div\" style=\"height:525px; width:700px;\"></div>            <script type=\"text/javascript\">                require([\"plotly\"], function(Plotly) {                    window.PLOTLYENV=window.PLOTLYENV || {};                                    if (document.getElementById(\"c150f6d3-aeda-4154-98b8-6e4037f31135\")) {                    Plotly.newPlot(                        \"c150f6d3-aeda-4154-98b8-6e4037f31135\",                        [{\"marker\":{\"size\":5},\"mode\":\"markers\",\"x\":[-3.669781478204325,-2.3604459897110974,-2.731292022502823,-4.121834869817263,-3.4616012629392623,-2.7510321941918923,-1.5281710886720932,-1.5533696710653546,-1.4589353261368299,-1.8225297007622208,-2.4280832150573755,-0.8837407502693273,-0.6447635564031844,-1.235482253824054,-0.5661473528068743,-0.8130091557994401,-1.7693199211094122,-0.17151596487843357,-0.8910255092644273,-0.5140616420771864,-0.5086051347373672,0.00683861099028984,-0.16907985856317376,0.03189461280011052,0.6661079388972506,0.8862639535131205,1.1090412715393547,1.3394251953782044,1.5352134988690445,1.3548124519526712,1.973847495820743,2.252219462068387,2.564456348283629,2.078374760162086,2.12912964557383,2.295392913737434],\"y\":[-2.4638827555529694,-1.6389261130282702,-1.1629806164506056,0.10229096058219886,1.0749223065871623,1.3495607054902115,-2.832425415477006,-2.4817693728718044,-0.8307261610020684,-0.08794240708172334,1.3129919828303158,2.0566189671617177,-3.2164494707026345,-1.4914419632062563,-0.4187935427486805,-0.09518387636139398,0.9557931274221214,1.7428820657814024,-3.1531613824734497,-2.5922670251735473,-1.255199281129741,0.3582194966684652,1.4875480629775923,1.9595969024064963,-3.4589688085018775,-2.4463768895982,-0.7117688911280053,0.06198316934091673,1.0254649817589554,2.7394223655553507,-2.3858573553008533,-2.0070933245599667,-0.13094692498678706,0.5237420067740867,0.6090119378914086,1.6895603992731614],\"z\":[82.37136925594334,28.94908417380191,37.933707965040995,83.07283761623299,58.72482232829104,39.82455874642652,35.174954303104805,28.477770721525427,12.3563861558233,18.12239111541446,25.548219302330466,-4.220320877399162,37.30633312816249,10.1068118375742,4.447667191799317,1.2604396354565752,13.391739595797262,-4.547988999521097,34.82405055959519,20.413919623784114,4.946411718424525,2.2984504604446165,-5.072604716438798,-3.141989220675363,44.772350293841164,17.610259915766797,4.884026244498943,7.235157110707797,14.853461152687089,-12.408048594813438,29.502416775475346,34.78867279011388,35.14141277262344,23.729678678758862,21.33722461317665,22.6916452443668],\"type\":\"scatter3d\"},{\"opacity\":0.5,\"showscale\":false,\"x\":[[-4.121834869817263,-4.121834869817263,-4.121834869817263,-4.121834869817263,-4.121834869817263,-4.121834869817263,-4.121834869817263,-4.121834869817263,-4.121834869817263,-4.121834869817263,-4.121834869817263,-4.121834869817263,-4.121834869817263,-4.121834869817263,-4.121834869817263,-4.121834869817263,-4.121834869817263,-4.121834869817263,-4.121834869817263,-4.121834869817263,-4.121834869817263,-4.121834869817263,-4.121834869817263,-4.121834869817263,-4.121834869817263,-4.121834869817263,-4.121834869817263,-4.121834869817263,-4.121834869817263,-4.121834869817263],[-3.891273103675853,-3.891273103675853,-3.891273103675853,-3.891273103675853,-3.891273103675853,-3.891273103675853,-3.891273103675853,-3.891273103675853,-3.891273103675853,-3.891273103675853,-3.891273103675853,-3.891273103675853,-3.891273103675853,-3.891273103675853,-3.891273103675853,-3.891273103675853,-3.891273103675853,-3.891273103675853,-3.891273103675853,-3.891273103675853,-3.891273103675853,-3.891273103675853,-3.891273103675853,-3.891273103675853,-3.891273103675853,-3.891273103675853,-3.891273103675853,-3.891273103675853,-3.891273103675853,-3.891273103675853],[-3.660711337534443,-3.660711337534443,-3.660711337534443,-3.660711337534443,-3.660711337534443,-3.660711337534443,-3.660711337534443,-3.660711337534443,-3.660711337534443,-3.660711337534443,-3.660711337534443,-3.660711337534443,-3.660711337534443,-3.660711337534443,-3.660711337534443,-3.660711337534443,-3.660711337534443,-3.660711337534443,-3.660711337534443,-3.660711337534443,-3.660711337534443,-3.660711337534443,-3.660711337534443,-3.660711337534443,-3.660711337534443,-3.660711337534443,-3.660711337534443,-3.660711337534443,-3.660711337534443,-3.660711337534443],[-3.430149571393033,-3.430149571393033,-3.430149571393033,-3.430149571393033,-3.430149571393033,-3.430149571393033,-3.430149571393033,-3.430149571393033,-3.430149571393033,-3.430149571393033,-3.430149571393033,-3.430149571393033,-3.430149571393033,-3.430149571393033,-3.430149571393033,-3.430149571393033,-3.430149571393033,-3.430149571393033,-3.430149571393033,-3.430149571393033,-3.430149571393033,-3.430149571393033,-3.430149571393033,-3.430149571393033,-3.430149571393033,-3.430149571393033,-3.430149571393033,-3.430149571393033,-3.430149571393033,-3.430149571393033],[-3.199587805251623,-3.199587805251623,-3.199587805251623,-3.199587805251623,-3.199587805251623,-3.199587805251623,-3.199587805251623,-3.199587805251623,-3.199587805251623,-3.199587805251623,-3.199587805251623,-3.199587805251623,-3.199587805251623,-3.199587805251623,-3.199587805251623,-3.199587805251623,-3.199587805251623,-3.199587805251623,-3.199587805251623,-3.199587805251623,-3.199587805251623,-3.199587805251623,-3.199587805251623,-3.199587805251623,-3.199587805251623,-3.199587805251623,-3.199587805251623,-3.199587805251623,-3.199587805251623,-3.199587805251623],[-2.9690260391102132,-2.9690260391102132,-2.9690260391102132,-2.9690260391102132,-2.9690260391102132,-2.9690260391102132,-2.9690260391102132,-2.9690260391102132,-2.9690260391102132,-2.9690260391102132,-2.9690260391102132,-2.9690260391102132,-2.9690260391102132,-2.9690260391102132,-2.9690260391102132,-2.9690260391102132,-2.9690260391102132,-2.9690260391102132,-2.9690260391102132,-2.9690260391102132,-2.9690260391102132,-2.9690260391102132,-2.9690260391102132,-2.9690260391102132,-2.9690260391102132,-2.9690260391102132,-2.9690260391102132,-2.9690260391102132,-2.9690260391102132,-2.9690260391102132],[-2.7384642729688027,-2.7384642729688027,-2.7384642729688027,-2.7384642729688027,-2.7384642729688027,-2.7384642729688027,-2.7384642729688027,-2.7384642729688027,-2.7384642729688027,-2.7384642729688027,-2.7384642729688027,-2.7384642729688027,-2.7384642729688027,-2.7384642729688027,-2.7384642729688027,-2.7384642729688027,-2.7384642729688027,-2.7384642729688027,-2.7384642729688027,-2.7384642729688027,-2.7384642729688027,-2.7384642729688027,-2.7384642729688027,-2.7384642729688027,-2.7384642729688027,-2.7384642729688027,-2.7384642729688027,-2.7384642729688027,-2.7384642729688027,-2.7384642729688027],[-2.507902506827393,-2.507902506827393,-2.507902506827393,-2.507902506827393,-2.507902506827393,-2.507902506827393,-2.507902506827393,-2.507902506827393,-2.507902506827393,-2.507902506827393,-2.507902506827393,-2.507902506827393,-2.507902506827393,-2.507902506827393,-2.507902506827393,-2.507902506827393,-2.507902506827393,-2.507902506827393,-2.507902506827393,-2.507902506827393,-2.507902506827393,-2.507902506827393,-2.507902506827393,-2.507902506827393,-2.507902506827393,-2.507902506827393,-2.507902506827393,-2.507902506827393,-2.507902506827393,-2.507902506827393],[-2.2773407406859825,-2.2773407406859825,-2.2773407406859825,-2.2773407406859825,-2.2773407406859825,-2.2773407406859825,-2.2773407406859825,-2.2773407406859825,-2.2773407406859825,-2.2773407406859825,-2.2773407406859825,-2.2773407406859825,-2.2773407406859825,-2.2773407406859825,-2.2773407406859825,-2.2773407406859825,-2.2773407406859825,-2.2773407406859825,-2.2773407406859825,-2.2773407406859825,-2.2773407406859825,-2.2773407406859825,-2.2773407406859825,-2.2773407406859825,-2.2773407406859825,-2.2773407406859825,-2.2773407406859825,-2.2773407406859825,-2.2773407406859825,-2.2773407406859825],[-2.046778974544573,-2.046778974544573,-2.046778974544573,-2.046778974544573,-2.046778974544573,-2.046778974544573,-2.046778974544573,-2.046778974544573,-2.046778974544573,-2.046778974544573,-2.046778974544573,-2.046778974544573,-2.046778974544573,-2.046778974544573,-2.046778974544573,-2.046778974544573,-2.046778974544573,-2.046778974544573,-2.046778974544573,-2.046778974544573,-2.046778974544573,-2.046778974544573,-2.046778974544573,-2.046778974544573,-2.046778974544573,-2.046778974544573,-2.046778974544573,-2.046778974544573,-2.046778974544573,-2.046778974544573],[-1.8162172084031627,-1.8162172084031627,-1.8162172084031627,-1.8162172084031627,-1.8162172084031627,-1.8162172084031627,-1.8162172084031627,-1.8162172084031627,-1.8162172084031627,-1.8162172084031627,-1.8162172084031627,-1.8162172084031627,-1.8162172084031627,-1.8162172084031627,-1.8162172084031627,-1.8162172084031627,-1.8162172084031627,-1.8162172084031627,-1.8162172084031627,-1.8162172084031627,-1.8162172084031627,-1.8162172084031627,-1.8162172084031627,-1.8162172084031627,-1.8162172084031627,-1.8162172084031627,-1.8162172084031627,-1.8162172084031627,-1.8162172084031627,-1.8162172084031627],[-1.5856554422617526,-1.5856554422617526,-1.5856554422617526,-1.5856554422617526,-1.5856554422617526,-1.5856554422617526,-1.5856554422617526,-1.5856554422617526,-1.5856554422617526,-1.5856554422617526,-1.5856554422617526,-1.5856554422617526,-1.5856554422617526,-1.5856554422617526,-1.5856554422617526,-1.5856554422617526,-1.5856554422617526,-1.5856554422617526,-1.5856554422617526,-1.5856554422617526,-1.5856554422617526,-1.5856554422617526,-1.5856554422617526,-1.5856554422617526,-1.5856554422617526,-1.5856554422617526,-1.5856554422617526,-1.5856554422617526,-1.5856554422617526,-1.5856554422617526],[-1.3550936761203425,-1.3550936761203425,-1.3550936761203425,-1.3550936761203425,-1.3550936761203425,-1.3550936761203425,-1.3550936761203425,-1.3550936761203425,-1.3550936761203425,-1.3550936761203425,-1.3550936761203425,-1.3550936761203425,-1.3550936761203425,-1.3550936761203425,-1.3550936761203425,-1.3550936761203425,-1.3550936761203425,-1.3550936761203425,-1.3550936761203425,-1.3550936761203425,-1.3550936761203425,-1.3550936761203425,-1.3550936761203425,-1.3550936761203425,-1.3550936761203425,-1.3550936761203425,-1.3550936761203425,-1.3550936761203425,-1.3550936761203425,-1.3550936761203425],[-1.1245319099789324,-1.1245319099789324,-1.1245319099789324,-1.1245319099789324,-1.1245319099789324,-1.1245319099789324,-1.1245319099789324,-1.1245319099789324,-1.1245319099789324,-1.1245319099789324,-1.1245319099789324,-1.1245319099789324,-1.1245319099789324,-1.1245319099789324,-1.1245319099789324,-1.1245319099789324,-1.1245319099789324,-1.1245319099789324,-1.1245319099789324,-1.1245319099789324,-1.1245319099789324,-1.1245319099789324,-1.1245319099789324,-1.1245319099789324,-1.1245319099789324,-1.1245319099789324,-1.1245319099789324,-1.1245319099789324,-1.1245319099789324,-1.1245319099789324],[-0.8939701438375223,-0.8939701438375223,-0.8939701438375223,-0.8939701438375223,-0.8939701438375223,-0.8939701438375223,-0.8939701438375223,-0.8939701438375223,-0.8939701438375223,-0.8939701438375223,-0.8939701438375223,-0.8939701438375223,-0.8939701438375223,-0.8939701438375223,-0.8939701438375223,-0.8939701438375223,-0.8939701438375223,-0.8939701438375223,-0.8939701438375223,-0.8939701438375223,-0.8939701438375223,-0.8939701438375223,-0.8939701438375223,-0.8939701438375223,-0.8939701438375223,-0.8939701438375223,-0.8939701438375223,-0.8939701438375223,-0.8939701438375223,-0.8939701438375223],[-0.6634083776961122,-0.6634083776961122,-0.6634083776961122,-0.6634083776961122,-0.6634083776961122,-0.6634083776961122,-0.6634083776961122,-0.6634083776961122,-0.6634083776961122,-0.6634083776961122,-0.6634083776961122,-0.6634083776961122,-0.6634083776961122,-0.6634083776961122,-0.6634083776961122,-0.6634083776961122,-0.6634083776961122,-0.6634083776961122,-0.6634083776961122,-0.6634083776961122,-0.6634083776961122,-0.6634083776961122,-0.6634083776961122,-0.6634083776961122,-0.6634083776961122,-0.6634083776961122,-0.6634083776961122,-0.6634083776961122,-0.6634083776961122,-0.6634083776961122],[-0.43284661155470205,-0.43284661155470205,-0.43284661155470205,-0.43284661155470205,-0.43284661155470205,-0.43284661155470205,-0.43284661155470205,-0.43284661155470205,-0.43284661155470205,-0.43284661155470205,-0.43284661155470205,-0.43284661155470205,-0.43284661155470205,-0.43284661155470205,-0.43284661155470205,-0.43284661155470205,-0.43284661155470205,-0.43284661155470205,-0.43284661155470205,-0.43284661155470205,-0.43284661155470205,-0.43284661155470205,-0.43284661155470205,-0.43284661155470205,-0.43284661155470205,-0.43284661155470205,-0.43284661155470205,-0.43284661155470205,-0.43284661155470205,-0.43284661155470205],[-0.20228484541329195,-0.20228484541329195,-0.20228484541329195,-0.20228484541329195,-0.20228484541329195,-0.20228484541329195,-0.20228484541329195,-0.20228484541329195,-0.20228484541329195,-0.20228484541329195,-0.20228484541329195,-0.20228484541329195,-0.20228484541329195,-0.20228484541329195,-0.20228484541329195,-0.20228484541329195,-0.20228484541329195,-0.20228484541329195,-0.20228484541329195,-0.20228484541329195,-0.20228484541329195,-0.20228484541329195,-0.20228484541329195,-0.20228484541329195,-0.20228484541329195,-0.20228484541329195,-0.20228484541329195,-0.20228484541329195,-0.20228484541329195,-0.20228484541329195],[0.028276920728117716,0.028276920728117716,0.028276920728117716,0.028276920728117716,0.028276920728117716,0.028276920728117716,0.028276920728117716,0.028276920728117716,0.028276920728117716,0.028276920728117716,0.028276920728117716,0.028276920728117716,0.028276920728117716,0.028276920728117716,0.028276920728117716,0.028276920728117716,0.028276920728117716,0.028276920728117716,0.028276920728117716,0.028276920728117716,0.028276920728117716,0.028276920728117716,0.028276920728117716,0.028276920728117716,0.028276920728117716,0.028276920728117716,0.028276920728117716,0.028276920728117716,0.028276920728117716,0.028276920728117716],[0.25883868686952827,0.25883868686952827,0.25883868686952827,0.25883868686952827,0.25883868686952827,0.25883868686952827,0.25883868686952827,0.25883868686952827,0.25883868686952827,0.25883868686952827,0.25883868686952827,0.25883868686952827,0.25883868686952827,0.25883868686952827,0.25883868686952827,0.25883868686952827,0.25883868686952827,0.25883868686952827,0.25883868686952827,0.25883868686952827,0.25883868686952827,0.25883868686952827,0.25883868686952827,0.25883868686952827,0.25883868686952827,0.25883868686952827,0.25883868686952827,0.25883868686952827,0.25883868686952827,0.25883868686952827],[0.48940045301093793,0.48940045301093793,0.48940045301093793,0.48940045301093793,0.48940045301093793,0.48940045301093793,0.48940045301093793,0.48940045301093793,0.48940045301093793,0.48940045301093793,0.48940045301093793,0.48940045301093793,0.48940045301093793,0.48940045301093793,0.48940045301093793,0.48940045301093793,0.48940045301093793,0.48940045301093793,0.48940045301093793,0.48940045301093793,0.48940045301093793,0.48940045301093793,0.48940045301093793,0.48940045301093793,0.48940045301093793,0.48940045301093793,0.48940045301093793,0.48940045301093793,0.48940045301093793,0.48940045301093793],[0.7199622191523485,0.7199622191523485,0.7199622191523485,0.7199622191523485,0.7199622191523485,0.7199622191523485,0.7199622191523485,0.7199622191523485,0.7199622191523485,0.7199622191523485,0.7199622191523485,0.7199622191523485,0.7199622191523485,0.7199622191523485,0.7199622191523485,0.7199622191523485,0.7199622191523485,0.7199622191523485,0.7199622191523485,0.7199622191523485,0.7199622191523485,0.7199622191523485,0.7199622191523485,0.7199622191523485,0.7199622191523485,0.7199622191523485,0.7199622191523485,0.7199622191523485,0.7199622191523485,0.7199622191523485],[0.9505239852937581,0.9505239852937581,0.9505239852937581,0.9505239852937581,0.9505239852937581,0.9505239852937581,0.9505239852937581,0.9505239852937581,0.9505239852937581,0.9505239852937581,0.9505239852937581,0.9505239852937581,0.9505239852937581,0.9505239852937581,0.9505239852937581,0.9505239852937581,0.9505239852937581,0.9505239852937581,0.9505239852937581,0.9505239852937581,0.9505239852937581,0.9505239852937581,0.9505239852937581,0.9505239852937581,0.9505239852937581,0.9505239852937581,0.9505239852937581,0.9505239852937581,0.9505239852937581,0.9505239852937581],[1.1810857514351687,1.1810857514351687,1.1810857514351687,1.1810857514351687,1.1810857514351687,1.1810857514351687,1.1810857514351687,1.1810857514351687,1.1810857514351687,1.1810857514351687,1.1810857514351687,1.1810857514351687,1.1810857514351687,1.1810857514351687,1.1810857514351687,1.1810857514351687,1.1810857514351687,1.1810857514351687,1.1810857514351687,1.1810857514351687,1.1810857514351687,1.1810857514351687,1.1810857514351687,1.1810857514351687,1.1810857514351687,1.1810857514351687,1.1810857514351687,1.1810857514351687,1.1810857514351687,1.1810857514351687],[1.4116475175765784,1.4116475175765784,1.4116475175765784,1.4116475175765784,1.4116475175765784,1.4116475175765784,1.4116475175765784,1.4116475175765784,1.4116475175765784,1.4116475175765784,1.4116475175765784,1.4116475175765784,1.4116475175765784,1.4116475175765784,1.4116475175765784,1.4116475175765784,1.4116475175765784,1.4116475175765784,1.4116475175765784,1.4116475175765784,1.4116475175765784,1.4116475175765784,1.4116475175765784,1.4116475175765784,1.4116475175765784,1.4116475175765784,1.4116475175765784,1.4116475175765784,1.4116475175765784,1.4116475175765784],[1.642209283717989,1.642209283717989,1.642209283717989,1.642209283717989,1.642209283717989,1.642209283717989,1.642209283717989,1.642209283717989,1.642209283717989,1.642209283717989,1.642209283717989,1.642209283717989,1.642209283717989,1.642209283717989,1.642209283717989,1.642209283717989,1.642209283717989,1.642209283717989,1.642209283717989,1.642209283717989,1.642209283717989,1.642209283717989,1.642209283717989,1.642209283717989,1.642209283717989,1.642209283717989,1.642209283717989,1.642209283717989,1.642209283717989,1.642209283717989],[1.8727710498593986,1.8727710498593986,1.8727710498593986,1.8727710498593986,1.8727710498593986,1.8727710498593986,1.8727710498593986,1.8727710498593986,1.8727710498593986,1.8727710498593986,1.8727710498593986,1.8727710498593986,1.8727710498593986,1.8727710498593986,1.8727710498593986,1.8727710498593986,1.8727710498593986,1.8727710498593986,1.8727710498593986,1.8727710498593986,1.8727710498593986,1.8727710498593986,1.8727710498593986,1.8727710498593986,1.8727710498593986,1.8727710498593986,1.8727710498593986,1.8727710498593986,1.8727710498593986,1.8727710498593986],[2.103332816000809,2.103332816000809,2.103332816000809,2.103332816000809,2.103332816000809,2.103332816000809,2.103332816000809,2.103332816000809,2.103332816000809,2.103332816000809,2.103332816000809,2.103332816000809,2.103332816000809,2.103332816000809,2.103332816000809,2.103332816000809,2.103332816000809,2.103332816000809,2.103332816000809,2.103332816000809,2.103332816000809,2.103332816000809,2.103332816000809,2.103332816000809,2.103332816000809,2.103332816000809,2.103332816000809,2.103332816000809,2.103332816000809,2.103332816000809],[2.333894582142219,2.333894582142219,2.333894582142219,2.333894582142219,2.333894582142219,2.333894582142219,2.333894582142219,2.333894582142219,2.333894582142219,2.333894582142219,2.333894582142219,2.333894582142219,2.333894582142219,2.333894582142219,2.333894582142219,2.333894582142219,2.333894582142219,2.333894582142219,2.333894582142219,2.333894582142219,2.333894582142219,2.333894582142219,2.333894582142219,2.333894582142219,2.333894582142219,2.333894582142219,2.333894582142219,2.333894582142219,2.333894582142219,2.333894582142219],[2.564456348283629,2.564456348283629,2.564456348283629,2.564456348283629,2.564456348283629,2.564456348283629,2.564456348283629,2.564456348283629,2.564456348283629,2.564456348283629,2.564456348283629,2.564456348283629,2.564456348283629,2.564456348283629,2.564456348283629,2.564456348283629,2.564456348283629,2.564456348283629,2.564456348283629,2.564456348283629,2.564456348283629,2.564456348283629,2.564456348283629,2.564456348283629,2.564456348283629,2.564456348283629,2.564456348283629,2.564456348283629,2.564456348283629,2.564456348283629]],\"y\":[[-3.4589688085018775,-3.245231181810249,-3.0314935551186206,-2.8177559284269917,-2.6040183017353633,-2.390280675043735,-2.176543048352106,-1.9628054216604776,-1.7490677949688491,-1.5353301682772207,-1.3215925415855923,-1.1078549148939634,-0.8941172882023349,-0.6803796615107065,-0.4666420348190776,-0.2529044081274492,-0.03916678143582075,0.17457084525580768,0.3883084719474361,0.6020460986390646,0.815783725330693,1.0295213520223223,1.2432589787139507,1.4569966054055792,1.6707342320972076,1.884471858788836,2.0982094854804645,2.311947112172093,2.5256847388637222,2.7394223655553507],[-3.4589688085018775,-3.245231181810249,-3.0314935551186206,-2.8177559284269917,-2.6040183017353633,-2.390280675043735,-2.176543048352106,-1.9628054216604776,-1.7490677949688491,-1.5353301682772207,-1.3215925415855923,-1.1078549148939634,-0.8941172882023349,-0.6803796615107065,-0.4666420348190776,-0.2529044081274492,-0.03916678143582075,0.17457084525580768,0.3883084719474361,0.6020460986390646,0.815783725330693,1.0295213520223223,1.2432589787139507,1.4569966054055792,1.6707342320972076,1.884471858788836,2.0982094854804645,2.311947112172093,2.5256847388637222,2.7394223655553507],[-3.4589688085018775,-3.245231181810249,-3.0314935551186206,-2.8177559284269917,-2.6040183017353633,-2.390280675043735,-2.176543048352106,-1.9628054216604776,-1.7490677949688491,-1.5353301682772207,-1.3215925415855923,-1.1078549148939634,-0.8941172882023349,-0.6803796615107065,-0.4666420348190776,-0.2529044081274492,-0.03916678143582075,0.17457084525580768,0.3883084719474361,0.6020460986390646,0.815783725330693,1.0295213520223223,1.2432589787139507,1.4569966054055792,1.6707342320972076,1.884471858788836,2.0982094854804645,2.311947112172093,2.5256847388637222,2.7394223655553507],[-3.4589688085018775,-3.245231181810249,-3.0314935551186206,-2.8177559284269917,-2.6040183017353633,-2.390280675043735,-2.176543048352106,-1.9628054216604776,-1.7490677949688491,-1.5353301682772207,-1.3215925415855923,-1.1078549148939634,-0.8941172882023349,-0.6803796615107065,-0.4666420348190776,-0.2529044081274492,-0.03916678143582075,0.17457084525580768,0.3883084719474361,0.6020460986390646,0.815783725330693,1.0295213520223223,1.2432589787139507,1.4569966054055792,1.6707342320972076,1.884471858788836,2.0982094854804645,2.311947112172093,2.5256847388637222,2.7394223655553507],[-3.4589688085018775,-3.245231181810249,-3.0314935551186206,-2.8177559284269917,-2.6040183017353633,-2.390280675043735,-2.176543048352106,-1.9628054216604776,-1.7490677949688491,-1.5353301682772207,-1.3215925415855923,-1.1078549148939634,-0.8941172882023349,-0.6803796615107065,-0.4666420348190776,-0.2529044081274492,-0.03916678143582075,0.17457084525580768,0.3883084719474361,0.6020460986390646,0.815783725330693,1.0295213520223223,1.2432589787139507,1.4569966054055792,1.6707342320972076,1.884471858788836,2.0982094854804645,2.311947112172093,2.5256847388637222,2.7394223655553507],[-3.4589688085018775,-3.245231181810249,-3.0314935551186206,-2.8177559284269917,-2.6040183017353633,-2.390280675043735,-2.176543048352106,-1.9628054216604776,-1.7490677949688491,-1.5353301682772207,-1.3215925415855923,-1.1078549148939634,-0.8941172882023349,-0.6803796615107065,-0.4666420348190776,-0.2529044081274492,-0.03916678143582075,0.17457084525580768,0.3883084719474361,0.6020460986390646,0.815783725330693,1.0295213520223223,1.2432589787139507,1.4569966054055792,1.6707342320972076,1.884471858788836,2.0982094854804645,2.311947112172093,2.5256847388637222,2.7394223655553507],[-3.4589688085018775,-3.245231181810249,-3.0314935551186206,-2.8177559284269917,-2.6040183017353633,-2.390280675043735,-2.176543048352106,-1.9628054216604776,-1.7490677949688491,-1.5353301682772207,-1.3215925415855923,-1.1078549148939634,-0.8941172882023349,-0.6803796615107065,-0.4666420348190776,-0.2529044081274492,-0.03916678143582075,0.17457084525580768,0.3883084719474361,0.6020460986390646,0.815783725330693,1.0295213520223223,1.2432589787139507,1.4569966054055792,1.6707342320972076,1.884471858788836,2.0982094854804645,2.311947112172093,2.5256847388637222,2.7394223655553507],[-3.4589688085018775,-3.245231181810249,-3.0314935551186206,-2.8177559284269917,-2.6040183017353633,-2.390280675043735,-2.176543048352106,-1.9628054216604776,-1.7490677949688491,-1.5353301682772207,-1.3215925415855923,-1.1078549148939634,-0.8941172882023349,-0.6803796615107065,-0.4666420348190776,-0.2529044081274492,-0.03916678143582075,0.17457084525580768,0.3883084719474361,0.6020460986390646,0.815783725330693,1.0295213520223223,1.2432589787139507,1.4569966054055792,1.6707342320972076,1.884471858788836,2.0982094854804645,2.311947112172093,2.5256847388637222,2.7394223655553507],[-3.4589688085018775,-3.245231181810249,-3.0314935551186206,-2.8177559284269917,-2.6040183017353633,-2.390280675043735,-2.176543048352106,-1.9628054216604776,-1.7490677949688491,-1.5353301682772207,-1.3215925415855923,-1.1078549148939634,-0.8941172882023349,-0.6803796615107065,-0.4666420348190776,-0.2529044081274492,-0.03916678143582075,0.17457084525580768,0.3883084719474361,0.6020460986390646,0.815783725330693,1.0295213520223223,1.2432589787139507,1.4569966054055792,1.6707342320972076,1.884471858788836,2.0982094854804645,2.311947112172093,2.5256847388637222,2.7394223655553507],[-3.4589688085018775,-3.245231181810249,-3.0314935551186206,-2.8177559284269917,-2.6040183017353633,-2.390280675043735,-2.176543048352106,-1.9628054216604776,-1.7490677949688491,-1.5353301682772207,-1.3215925415855923,-1.1078549148939634,-0.8941172882023349,-0.6803796615107065,-0.4666420348190776,-0.2529044081274492,-0.03916678143582075,0.17457084525580768,0.3883084719474361,0.6020460986390646,0.815783725330693,1.0295213520223223,1.2432589787139507,1.4569966054055792,1.6707342320972076,1.884471858788836,2.0982094854804645,2.311947112172093,2.5256847388637222,2.7394223655553507],[-3.4589688085018775,-3.245231181810249,-3.0314935551186206,-2.8177559284269917,-2.6040183017353633,-2.390280675043735,-2.176543048352106,-1.9628054216604776,-1.7490677949688491,-1.5353301682772207,-1.3215925415855923,-1.1078549148939634,-0.8941172882023349,-0.6803796615107065,-0.4666420348190776,-0.2529044081274492,-0.03916678143582075,0.17457084525580768,0.3883084719474361,0.6020460986390646,0.815783725330693,1.0295213520223223,1.2432589787139507,1.4569966054055792,1.6707342320972076,1.884471858788836,2.0982094854804645,2.311947112172093,2.5256847388637222,2.7394223655553507],[-3.4589688085018775,-3.245231181810249,-3.0314935551186206,-2.8177559284269917,-2.6040183017353633,-2.390280675043735,-2.176543048352106,-1.9628054216604776,-1.7490677949688491,-1.5353301682772207,-1.3215925415855923,-1.1078549148939634,-0.8941172882023349,-0.6803796615107065,-0.4666420348190776,-0.2529044081274492,-0.03916678143582075,0.17457084525580768,0.3883084719474361,0.6020460986390646,0.815783725330693,1.0295213520223223,1.2432589787139507,1.4569966054055792,1.6707342320972076,1.884471858788836,2.0982094854804645,2.311947112172093,2.5256847388637222,2.7394223655553507],[-3.4589688085018775,-3.245231181810249,-3.0314935551186206,-2.8177559284269917,-2.6040183017353633,-2.390280675043735,-2.176543048352106,-1.9628054216604776,-1.7490677949688491,-1.5353301682772207,-1.3215925415855923,-1.1078549148939634,-0.8941172882023349,-0.6803796615107065,-0.4666420348190776,-0.2529044081274492,-0.03916678143582075,0.17457084525580768,0.3883084719474361,0.6020460986390646,0.815783725330693,1.0295213520223223,1.2432589787139507,1.4569966054055792,1.6707342320972076,1.884471858788836,2.0982094854804645,2.311947112172093,2.5256847388637222,2.7394223655553507],[-3.4589688085018775,-3.245231181810249,-3.0314935551186206,-2.8177559284269917,-2.6040183017353633,-2.390280675043735,-2.176543048352106,-1.9628054216604776,-1.7490677949688491,-1.5353301682772207,-1.3215925415855923,-1.1078549148939634,-0.8941172882023349,-0.6803796615107065,-0.4666420348190776,-0.2529044081274492,-0.03916678143582075,0.17457084525580768,0.3883084719474361,0.6020460986390646,0.815783725330693,1.0295213520223223,1.2432589787139507,1.4569966054055792,1.6707342320972076,1.884471858788836,2.0982094854804645,2.311947112172093,2.5256847388637222,2.7394223655553507],[-3.4589688085018775,-3.245231181810249,-3.0314935551186206,-2.8177559284269917,-2.6040183017353633,-2.390280675043735,-2.176543048352106,-1.9628054216604776,-1.7490677949688491,-1.5353301682772207,-1.3215925415855923,-1.1078549148939634,-0.8941172882023349,-0.6803796615107065,-0.4666420348190776,-0.2529044081274492,-0.03916678143582075,0.17457084525580768,0.3883084719474361,0.6020460986390646,0.815783725330693,1.0295213520223223,1.2432589787139507,1.4569966054055792,1.6707342320972076,1.884471858788836,2.0982094854804645,2.311947112172093,2.5256847388637222,2.7394223655553507],[-3.4589688085018775,-3.245231181810249,-3.0314935551186206,-2.8177559284269917,-2.6040183017353633,-2.390280675043735,-2.176543048352106,-1.9628054216604776,-1.7490677949688491,-1.5353301682772207,-1.3215925415855923,-1.1078549148939634,-0.8941172882023349,-0.6803796615107065,-0.4666420348190776,-0.2529044081274492,-0.03916678143582075,0.17457084525580768,0.3883084719474361,0.6020460986390646,0.815783725330693,1.0295213520223223,1.2432589787139507,1.4569966054055792,1.6707342320972076,1.884471858788836,2.0982094854804645,2.311947112172093,2.5256847388637222,2.7394223655553507],[-3.4589688085018775,-3.245231181810249,-3.0314935551186206,-2.8177559284269917,-2.6040183017353633,-2.390280675043735,-2.176543048352106,-1.9628054216604776,-1.7490677949688491,-1.5353301682772207,-1.3215925415855923,-1.1078549148939634,-0.8941172882023349,-0.6803796615107065,-0.4666420348190776,-0.2529044081274492,-0.03916678143582075,0.17457084525580768,0.3883084719474361,0.6020460986390646,0.815783725330693,1.0295213520223223,1.2432589787139507,1.4569966054055792,1.6707342320972076,1.884471858788836,2.0982094854804645,2.311947112172093,2.5256847388637222,2.7394223655553507],[-3.4589688085018775,-3.245231181810249,-3.0314935551186206,-2.8177559284269917,-2.6040183017353633,-2.390280675043735,-2.176543048352106,-1.9628054216604776,-1.7490677949688491,-1.5353301682772207,-1.3215925415855923,-1.1078549148939634,-0.8941172882023349,-0.6803796615107065,-0.4666420348190776,-0.2529044081274492,-0.03916678143582075,0.17457084525580768,0.3883084719474361,0.6020460986390646,0.815783725330693,1.0295213520223223,1.2432589787139507,1.4569966054055792,1.6707342320972076,1.884471858788836,2.0982094854804645,2.311947112172093,2.5256847388637222,2.7394223655553507],[-3.4589688085018775,-3.245231181810249,-3.0314935551186206,-2.8177559284269917,-2.6040183017353633,-2.390280675043735,-2.176543048352106,-1.9628054216604776,-1.7490677949688491,-1.5353301682772207,-1.3215925415855923,-1.1078549148939634,-0.8941172882023349,-0.6803796615107065,-0.4666420348190776,-0.2529044081274492,-0.03916678143582075,0.17457084525580768,0.3883084719474361,0.6020460986390646,0.815783725330693,1.0295213520223223,1.2432589787139507,1.4569966054055792,1.6707342320972076,1.884471858788836,2.0982094854804645,2.311947112172093,2.5256847388637222,2.7394223655553507],[-3.4589688085018775,-3.245231181810249,-3.0314935551186206,-2.8177559284269917,-2.6040183017353633,-2.390280675043735,-2.176543048352106,-1.9628054216604776,-1.7490677949688491,-1.5353301682772207,-1.3215925415855923,-1.1078549148939634,-0.8941172882023349,-0.6803796615107065,-0.4666420348190776,-0.2529044081274492,-0.03916678143582075,0.17457084525580768,0.3883084719474361,0.6020460986390646,0.815783725330693,1.0295213520223223,1.2432589787139507,1.4569966054055792,1.6707342320972076,1.884471858788836,2.0982094854804645,2.311947112172093,2.5256847388637222,2.7394223655553507],[-3.4589688085018775,-3.245231181810249,-3.0314935551186206,-2.8177559284269917,-2.6040183017353633,-2.390280675043735,-2.176543048352106,-1.9628054216604776,-1.7490677949688491,-1.5353301682772207,-1.3215925415855923,-1.1078549148939634,-0.8941172882023349,-0.6803796615107065,-0.4666420348190776,-0.2529044081274492,-0.03916678143582075,0.17457084525580768,0.3883084719474361,0.6020460986390646,0.815783725330693,1.0295213520223223,1.2432589787139507,1.4569966054055792,1.6707342320972076,1.884471858788836,2.0982094854804645,2.311947112172093,2.5256847388637222,2.7394223655553507],[-3.4589688085018775,-3.245231181810249,-3.0314935551186206,-2.8177559284269917,-2.6040183017353633,-2.390280675043735,-2.176543048352106,-1.9628054216604776,-1.7490677949688491,-1.5353301682772207,-1.3215925415855923,-1.1078549148939634,-0.8941172882023349,-0.6803796615107065,-0.4666420348190776,-0.2529044081274492,-0.03916678143582075,0.17457084525580768,0.3883084719474361,0.6020460986390646,0.815783725330693,1.0295213520223223,1.2432589787139507,1.4569966054055792,1.6707342320972076,1.884471858788836,2.0982094854804645,2.311947112172093,2.5256847388637222,2.7394223655553507],[-3.4589688085018775,-3.245231181810249,-3.0314935551186206,-2.8177559284269917,-2.6040183017353633,-2.390280675043735,-2.176543048352106,-1.9628054216604776,-1.7490677949688491,-1.5353301682772207,-1.3215925415855923,-1.1078549148939634,-0.8941172882023349,-0.6803796615107065,-0.4666420348190776,-0.2529044081274492,-0.03916678143582075,0.17457084525580768,0.3883084719474361,0.6020460986390646,0.815783725330693,1.0295213520223223,1.2432589787139507,1.4569966054055792,1.6707342320972076,1.884471858788836,2.0982094854804645,2.311947112172093,2.5256847388637222,2.7394223655553507],[-3.4589688085018775,-3.245231181810249,-3.0314935551186206,-2.8177559284269917,-2.6040183017353633,-2.390280675043735,-2.176543048352106,-1.9628054216604776,-1.7490677949688491,-1.5353301682772207,-1.3215925415855923,-1.1078549148939634,-0.8941172882023349,-0.6803796615107065,-0.4666420348190776,-0.2529044081274492,-0.03916678143582075,0.17457084525580768,0.3883084719474361,0.6020460986390646,0.815783725330693,1.0295213520223223,1.2432589787139507,1.4569966054055792,1.6707342320972076,1.884471858788836,2.0982094854804645,2.311947112172093,2.5256847388637222,2.7394223655553507],[-3.4589688085018775,-3.245231181810249,-3.0314935551186206,-2.8177559284269917,-2.6040183017353633,-2.390280675043735,-2.176543048352106,-1.9628054216604776,-1.7490677949688491,-1.5353301682772207,-1.3215925415855923,-1.1078549148939634,-0.8941172882023349,-0.6803796615107065,-0.4666420348190776,-0.2529044081274492,-0.03916678143582075,0.17457084525580768,0.3883084719474361,0.6020460986390646,0.815783725330693,1.0295213520223223,1.2432589787139507,1.4569966054055792,1.6707342320972076,1.884471858788836,2.0982094854804645,2.311947112172093,2.5256847388637222,2.7394223655553507],[-3.4589688085018775,-3.245231181810249,-3.0314935551186206,-2.8177559284269917,-2.6040183017353633,-2.390280675043735,-2.176543048352106,-1.9628054216604776,-1.7490677949688491,-1.5353301682772207,-1.3215925415855923,-1.1078549148939634,-0.8941172882023349,-0.6803796615107065,-0.4666420348190776,-0.2529044081274492,-0.03916678143582075,0.17457084525580768,0.3883084719474361,0.6020460986390646,0.815783725330693,1.0295213520223223,1.2432589787139507,1.4569966054055792,1.6707342320972076,1.884471858788836,2.0982094854804645,2.311947112172093,2.5256847388637222,2.7394223655553507],[-3.4589688085018775,-3.245231181810249,-3.0314935551186206,-2.8177559284269917,-2.6040183017353633,-2.390280675043735,-2.176543048352106,-1.9628054216604776,-1.7490677949688491,-1.5353301682772207,-1.3215925415855923,-1.1078549148939634,-0.8941172882023349,-0.6803796615107065,-0.4666420348190776,-0.2529044081274492,-0.03916678143582075,0.17457084525580768,0.3883084719474361,0.6020460986390646,0.815783725330693,1.0295213520223223,1.2432589787139507,1.4569966054055792,1.6707342320972076,1.884471858788836,2.0982094854804645,2.311947112172093,2.5256847388637222,2.7394223655553507],[-3.4589688085018775,-3.245231181810249,-3.0314935551186206,-2.8177559284269917,-2.6040183017353633,-2.390280675043735,-2.176543048352106,-1.9628054216604776,-1.7490677949688491,-1.5353301682772207,-1.3215925415855923,-1.1078549148939634,-0.8941172882023349,-0.6803796615107065,-0.4666420348190776,-0.2529044081274492,-0.03916678143582075,0.17457084525580768,0.3883084719474361,0.6020460986390646,0.815783725330693,1.0295213520223223,1.2432589787139507,1.4569966054055792,1.6707342320972076,1.884471858788836,2.0982094854804645,2.311947112172093,2.5256847388637222,2.7394223655553507],[-3.4589688085018775,-3.245231181810249,-3.0314935551186206,-2.8177559284269917,-2.6040183017353633,-2.390280675043735,-2.176543048352106,-1.9628054216604776,-1.7490677949688491,-1.5353301682772207,-1.3215925415855923,-1.1078549148939634,-0.8941172882023349,-0.6803796615107065,-0.4666420348190776,-0.2529044081274492,-0.03916678143582075,0.17457084525580768,0.3883084719474361,0.6020460986390646,0.815783725330693,1.0295213520223223,1.2432589787139507,1.4569966054055792,1.6707342320972076,1.884471858788836,2.0982094854804645,2.311947112172093,2.5256847388637222,2.7394223655553507],[-3.4589688085018775,-3.245231181810249,-3.0314935551186206,-2.8177559284269917,-2.6040183017353633,-2.390280675043735,-2.176543048352106,-1.9628054216604776,-1.7490677949688491,-1.5353301682772207,-1.3215925415855923,-1.1078549148939634,-0.8941172882023349,-0.6803796615107065,-0.4666420348190776,-0.2529044081274492,-0.03916678143582075,0.17457084525580768,0.3883084719474361,0.6020460986390646,0.815783725330693,1.0295213520223223,1.2432589787139507,1.4569966054055792,1.6707342320972076,1.884471858788836,2.0982094854804645,2.311947112172093,2.5256847388637222,2.7394223655553507]],\"z\":[[118.53321555225403,112.15316789536683,106.63096320954295,101.90553626335354,97.91582182536963,94.60075466416227,91.89926954830258,89.7503012463616,88.09278452691039,86.8656541585201,86.00784490976173,85.45829154920635,85.15592884542511,85.039691566989,85.04851448246912,85.12133236043655,85.19707996946237,85.21469207811764,85.11310345497341,84.83124886860081,84.30806308757089,83.48248088045469,82.29343701582332,80.67986626224783,78.58070338829933,75.93488316254884,72.68134035356748,68.7590097299263,64.10682606019634,58.663724112948756],[109.74369394072446,103.30312319551166,97.72446459546974,92.94665290916983,88.90862290518295,85.54930935208021,82.80764701843268,80.62257067281139,78.93301508378747,77.67791501993194,76.79620524981593,76.22682054201044,75.90869566508663,75.78076538761552,75.78196447816815,75.85122770531568,75.92748983762914,75.94968564367959,75.8567498920381,75.58761735127575,75.08122278996368,74.27650097667282,73.11238667997438,71.52781466843938,69.46171971063886,66.85303657514396,63.64070003052571,59.763644845355174,55.16080578820343,49.771117627641615],[101.48694150929805,94.98573268417067,89.35050517832173,84.52019376032231,80.43373319874351,77.03005826215637,74.24810371913198,72.02680433824138,70.30509488805569,69.021910137146,68.1161848540833,67.52685380743873,67.19285176578335,67.05311349768823,67.0465737717244,67.11216735646302,67.18882902047508,67.2154935323317,67.13109566060395,66.8745701738629,66.38485184067963,65.60087542962516,64.46157570927063,62.9058874481871,60.8727454149456,58.30108437811727,55.12983910627314,51.29794436798424,46.744334931821726,41.40794556635666],[93.76283240249077,87.2008705058598,81.50895910261481,76.6260329613269,72.49102685056714,69.04287553890661,66.22051379491636,63.96287638716748,62.20889808423105,60.89751365467812,59.96765786707978,59.35826549000709,59.008271292031154,58.856610041723,58.84221650765374,58.90402545839442,58.98097166251613,59.011989888589945,58.936014905186916,58.691981480878134,58.218824384234665,57.4554783838276,56.34087824822799,54.81395874600691,52.81365464573544,50.27890071598466,47.14863172532563,43.36178244232943,38.857287635567104,33.57408207360977],[86.57124076481841,79.94841080509485,74.19970051286482,69.26404465669941,65.08037800516972,61.587635326846794,58.7247513903017,56.43066096410551,54.64429881682933,53.3045997170442,52.3504984333212,51.72092973423141,51.354828388345894,51.19112916423575,51.16876683047201,51.22667615562578,51.303791908268124,51.33904885697011,51.27138177030282,51.03972541683731,50.58301456514468,49.84018398379597,48.75016844136227,47.25190270641467,45.28432154752422,42.786359733261996,39.69695203219908,35.95503321290654,31.49953804395543,26.269401293916854],[79.91204074079693,73.22822772639178,67.4226035535877,62.43410299095582,58.20166080706717,54.66421177049285,51.7606906498039,49.430032213571415,47.61117123036647,46.24304246876015,45.26458069732348,44.61472068462759,44.23239719924352,44.05654500974236,44.02609888469515,44.079993592673006,44.157163902246985,44.19654458198815,44.13707040046758,43.91767612625635,43.47729652792553,42.75486637404621,41.68932043318942,40.219593473926295,38.28462026482786,35.823335574465204,32.7746741714094,29.07757082423152,24.670960301502614,19.4937773717938],[73.78510647494217,67.04019541426642,61.17754236929932,56.13608210861192,51.85474940077533,48.27247901436061,45.32820571793882,42.96086428008104,41.10938946935834,39.712716054341804,38.70977880360249,38.03951248571149,37.64085186923986,37.45273172275867,37.41408681483901,37.46385191405195,37.54096178896856,37.58435120815991,37.53295494019706,37.32570775365111,36.90154441709311,36.199399699094165,35.1582083682253,33.71690519305763,31.81442494216222,29.38970238411013,26.38167228747243,22.729269420820213,18.371428552724513,13.24708445175646],[68.19031211177004,61.38418801323472,55.46439110451557,50.36985615418368,46.03951793081015,42.41231120296602,39.427170739222376,37.0230313081503,35.13882767832085,33.713494618305106,32.68596689667414,31.99517928199903,31.580066542850833,31.37956344780064,31.332604765419518,31.378125264278534,31.45505971294877,31.502342880001297,31.45890953400718,31.263694443537506,30.855632377163342,30.17365810345575,29.15670639098582,27.743712008324625,25.87360972404322,23.485334306712694,20.517820524904106,16.91000314718855,12.600816942137065,7.529196678320755],[63.1275317957964,56.26007966781249,50.2830239037523,45.13529927218693,40.75584054168745,37.083582480824916,34.057459858170425,31.61640744229505,29.699360001769843,28.2452523051659,27.193019121054274,26.481595218006046,26.049915364592295,25.836914329384086,25.781526880952505,25.822687787868606,25.89933181870347,25.950393742028172,25.91480832641379,25.73151034043139,25.339434552652044,24.677515731646828,23.684688645986817,22.299888064243078,20.462048754986693,18.110105486788733,15.18299302822026,11.619646147852361,7.358999614256085,2.3399881960025475],[58.59663967153718,51.66774452251568,45.633314911525446,40.43228560713758,36.00359137792315,32.28616699245323,29.21894721929889,26.74086682703121,24.79086058422125,23.307863259440097,22.23080962125882,21.498634438248484,21.05027247898017,20.824658512024953,20.760727305953896,20.797413629338084,20.873652250748584,20.928377938756466,20.90052546193281,20.729029588848682,20.352825088075164,19.710846728183316,18.742029277744226,17.385307505328957,15.579616179508587,13.263890068854188,10.377063941936825,6.858072567327593,2.6458507135975218,-2.320666850682258],[54.59750988350823,47.60705672186013,41.51513827235087,36.260689303551494,31.782644584033125,28.01993888236681,24.911506967123614,22.396283606874636,20.413203570190927,18.901201625643566,17.79921254180363,17.046171087242183,16.58101203053031,16.342670140239075,16.27008018493956,16.30217693320283,16.377895153599958,16.43616961470202,16.41593508508009,16.25612633330524,15.895678127948546,15.273525237581067,14.328602430773893,12.999844476098097,11.226186142124739,8.946562197424903,6.09990741056966,2.625156550130079,-1.5387556153227813,-6.45289431721781],[51.13001657622544,44.077890410361746,37.92836813074444,32.62038450594458,28.09287430453326,24.284772295081545,21.135013246160504,18.582531926341222,16.566263104194757,15.025141548292195,13.898102027204601,13.124079309503049,12.64200816375861,12.390823358542365,12.309459662425382,12.336851843978735,12.411934671773492,12.473642914380738,12.460911340371535,12.312674718316961,11.967867816788086,11.365425404355982,10.44428224959173,9.1433731210664,7.4016327873510575,5.157996017016785,2.35139757863465,-1.079227759224267,-5.194945227988921,-10.056820059088198],[48.19403389420469,41.08011973253642,34.872878631222065,29.51124535883271,24.93415468393945,21.080541375113338,17.889340200925442,15.299485929946858,13.249913330748644,11.679557171901873,10.527352221977623,9.73223324954696,9.233135023180965,8.968992311450704,8.878739882927254,8.90131250618169,8.975644949785082,9.040671982308504,9.035328372323029,8.898548888399727,8.569268299109677,7.986421373023946,7.08894287871361,5.815767584749747,4.105830259703423,1.8980656721457123,-0.8685914093523088,-4.255206216219571,-8.322843979885015,-13.132569931777535],[45.78943598196189,38.61361883290002,32.348543918299626,26.93314600673178,22.30635986676757,18.407120266978062,15.174361975934321,12.547019762207432,10.464028394368462,8.864322640988487,7.686837270638578,6.870507051889806,6.354266753313249,6.077051143479975,5.977794990961061,5.995433064327578,6.068900132150601,6.137130963001201,6.139060325450452,6.013622988069428,5.6997537194292,5.13638728810084,4.262458462655426,3.016902011664028,1.3386527036977185,-0.833354692672426,-3.560185408875337,-6.902904676339939,-10.922577726495177,-15.680269790769941],[43.9160969840129,36.678261855968444,30.355238136493007,24.885960594157666,20.20936399753351,16.264383115191606,12.989952715703012,10.325007567638824,8.208482439570101,6.579312100067919,5.376431317703352,4.53877486104747,4.005277498671351,3.7148739991460653,3.6064991310426855,3.619087662932286,3.6915743633859393,3.762894000974718,3.7719813442696966,3.6577711618419464,3.359198222262541,2.8151972941025516,1.9647031459330564,0.7466505463251245,-0.9000257361501682,-3.0363909329217513,-5.723510275418549,-9.022448995069492,-12.994272323303521,-17.70004549154953],[42.57389104487362,35.27392294625757,28.89283543031809,23.369563265626255,18.643041220753158,14.652204064269851,11.33598656474741,8.633323490756919,6.483149610869442,4.824399693656055,3.59600850768783,2.7369108215358384,2.1860414037711577,1.8823350229648588,1.7647264476880136,1.7721504465116964,1.8435417880069802,1.9178352407449377,1.9339655732966419,1.830867554233167,1.5474759521255856,1.0227255355449671,0.1955510730623904,-0.9951126667510737,-2.6103309153243526,-4.711168904086371,-7.358691864466059,-10.613965027892341,-14.538053625794163,-19.192022889600416],[41.76269230905993,34.40047624828329,27.961209944290765,22.383828165653437,17.60726568094239,13.570457258728688,10.212337667583396,7.471841676077602,5.287904052782372,3.59945956626878,2.345442985107897,1.464789077870796,0.8964326131285534,0.5793083594522402,0.4523510854129297,0.4544955595816952,0.5246765505296094,0.6018288268277454,0.6248871570471768,0.5327863097589762,0.26446105353421745,-0.24115384305602983,-1.0451236114406877,-2.2085134830486846,-3.792388689308949,-5.857814461650404,-8.465856031501982,-11.677578630292604,-15.55404748945122,-20.156327840406718],[41.48237492108771,34.05779590656149,27.560235822926916,21.928629438755095,17.1019115226171,13.019016843084001,9.618880168726859,6.840436268116763,4.622619909824778,2.90436586242198,1.624608894479439,0.7222837745682282,0.13632527125942395,-0.1943318468759031,-0.3307528112666792,-0.3340028533418315,-0.26514720453028684,-0.18525109626097216,-0.15537975996281433,-0.23659842706474019,-0.48997232899567644,-0.9765666971845529,-1.7574467630602921,-2.8936777580518225,-4.446324913588072,-6.4764534610979645,-9.04512863201043,-12.213415657754394,-16.042379769758803,-20.593086199452546],[41.73281302547286,34.245756065608035,27.68978721074243,22.00384122944711,17.126852890293172,12.997756961851673,9.555488212693682,6.7389814113902835,4.487171326512545,2.7389927266315395,1.4333803803183411,0.5092690561440204,-0.0944064773203459,-0.4387114515036865,-0.5847110978349288,-0.5934706477429987,-0.5260553326568236,-0.44353038400533057,-0.40696103321744637,-0.47741251172209775,-0.7159500509482115,-1.1836388823247173,-1.941544237280538,-3.050731347244602,-4.572265443645836,-6.567211757913166,-9.096635521475521,-12.221601965761828,-16.00317632220103,-20.502423822222013],[42.51388076673125,34.96423086993884,28.34973825225319,22.609337682245375,17.681963928486493,13.506551759547593,10.02203594399975,7.16735125041405,4.881432447361558,3.1032143034133464,1.7716315871404893,0.8256190671140585,0.2041115119051301,-0.15395630991522452,-0.3096496297759327,-0.3240336791059204,-0.2581736893341152,-0.17313489188944406,-0.1299825182008335,-0.18978179969721054,-0.41359796780750185,-0.8624962539606371,-1.597541889585539,-2.679800106111136,-4.170336134966356,-6.1302152075801235,-8.620502555381368,-11.702263409799015,-15.436563002262007,-19.88446656419924],[43.82545228937877,36.21309446406977,29.539963091975075,23.744992941665767,18.767118781712938,14.545275380687642,11.018397507160948,8.125419929703945,5.805277416887699,3.9969047372832813,2.639236659461766,1.6712079519942247,1.0317533834517345,0.6598077224053657,0.49430573742619155,0.4741821970852857,0.5383718699537211,0.6258095246025703,0.675429929602907,0.6261678535258044,0.4169580649423352,-0.013264667576429634,-0.725565575459413,-1.781009890135544,-3.240662843033749,-5.165589665582954,-7.616855589212088,-10.655525845350075,-14.342665665425862,-18.73934028086834],[45.667401737931314,37.99222099251672,31.260335874423987,25.410681152224186,20.382191594488408,16.113801969787712,12.544447046693168,9.613061593775862,7.258580379606862,5.419938172757237,4.036069741798063,3.045909855300412,2.3883932818353593,2.0024547899739766,1.827029148287336,1.8010511253465122,1.8634554897225775,1.9531770099866048,2.0091504547096677,1.9703105924628392,1.7755921918171922,1.363930021343798,0.6742588496137327,-0.3544865548019316,-1.783371423332123,-3.6734609874057647,-6.0858204784517875,-9.081515127899117,-12.721610167176696,-17.06717082771342],[48.039603256904755,40.30148459979557,33.51073074411579,27.606276458436497,22.527056511328773,18.212005671363677,14.600058707112282,11.630150387145674,9.241215480034919,7.372188754351088,5.962004978665256,4.949598921548494,4.273905351571878,3.8738590373064814,3.6883947473233754,3.6564472501936334,3.7169513144883286,3.8088417087785333,3.8710532016353225,3.842520561629768,3.6621785573329433,3.268961957315919,2.6018055301497713,1.599644044405574,0.20141226865439776,-1.6539550285326827,-4.027523078584595,-6.980357112930267,-10.57352236299864,-14.868084060218607],[50.941930990814996,43.14075943042222,36.2910218455664,30.331653004818605,25.201587676749934,20.83976062993144,17.185106632934193,14.176560454329282,11.753056862687771,9.853530626580735,8.416916514579246,7.382149295254371,6.688163737177195,6.273894608918783,6.0782766790502105,6.040244716142549,6.098733488766875,6.192677765494258,6.261012314895772,6.242671905542491,6.076591306005489,5.701705284855834,5.056948610664607,4.081256052002874,2.713562377441712,0.8928023555521936,-1.442089245094607,-4.352177655927621,-7.898528108375787,-12.142205833868001],[54.37425908417789,46.50991962891253,39.60108332329166,33.586684935886375,28.405659235267755,23.996940990006863,20.299464968674762,17.252165939842552,14.793978672081284,12.863837933962044,11.400678494055896,10.343435120933911,9.631042583167172,9.202435649326743,8.996549087983706,8.952317667709126,9.00867615707408,9.104559324649644,9.178901939006883,9.170638768716877,9.018704582350697,8.66203414847941,8.039562235674099,7.090223612505835,5.752953047545685,3.966685309364731,1.670355166534037,-1.197102612375316,-4.696753258792274,-8.889662004145736],[58.33646168150936,50.4088393397824,43.4407893218075,37.37124639615571,32.13914533139815,27.683420896105858,23.94300785884991,20.856840988201395,18.363855052731374,16.40298482101092,14.913165061611117,13.83333054310302,13.102416034057718,12.659356303046277,12.443086118639771,12.392540249409274,12.446653463925857,12.544360530760597,12.624596218484564,12.626295295668829,12.488392530884472,12.149822692702555,11.549520549694162,10.626420870430362,9.319458423482228,7.567567977420834,5.309684300817251,2.484742162242558,-0.9683236697321949,-5.110578426535902],[62.82841292732526,54.837392707547714,47.810013985629766,41.68521153014248,36.40192010965697,31.899074492744283,28.11560944797548,24.99045974392166,22.462560149153887,20.47084543224323,18.954250361760764,17.851709706277557,17.102158234364694,16.644530714593234,16.417761915534268,16.360786605758847,16.412539553838062,16.511955528342977,16.597969297844667,16.609515630914213,16.485529296122674,16.16494506204113,15.586697697240654,14.689721970292318,13.412952649767195,11.695324504236368,9.475772302270894,6.693230812441858,3.286634803320311,-0.8050809565226409],[67.84998696614151,59.79545387672437,52.70863145927438,46.528454482362605,41.193857714560146,36.643775924438046,32.8171438805674,29.65289635151928,27.08996810586475,25.067293912174886,23.52380853902076,22.398446754973442,21.630143328604014,21.157833028483545,20.92045062318311,20.856930881273772,20.906208571326612,21.007218461912704,21.098895321603123,21.120173918968938,21.009989022581223,20.707275401011046,20.15096782282949,19.28000105660762,18.033309870916515,16.349829034327247,14.168493315410878,11.428237482738503,8.067996304881163,4.0267045504099706],[73.40105794247395,65.28289699182822,58.13651588725719,51.90084939733191,46.5148322906235,41.91739933570302,38.04748530114151,34.844024955510086,32.2459530673798,30.19220440532173,28.621713737906948,27.47341583370652,26.686245461291527,26.199137389233037,25.951026386102136,25.880847220469885,25.92753466090735,26.030023475985622,26.127248434275767,26.158144304348856,26.06164585477596,25.776687854128156,25.242205070976514,24.39713227389211,23.18040423144602,21.53095571220931,19.387721484753058,16.689636317648336,13.375634979466206,9.384652238777758],[79.48150000083851,71.29959619737518,64.09354141409409,57.802270419566334,52.364717982362976,47.71981887105509,43.80650785421374,40.563719700410005,37.930389178214966,35.845451056199686,34.24784010293524,33.07649108699271,32.27033877694315,31.76831794135765,31.50936334880728,31.432409767863106,31.47639196709621,31.58024471507765,31.682902780378523,31.723300931569884,31.64037393722281,31.373056565908378,30.86028358619765,30.04098976666172,28.854109875871636,27.23857868239849,25.133330954813356,22.477301461687272,19.20942497159135,15.268636253096656]],\"type\":\"surface\"}],                        {\"margin\":{\"b\":10,\"l\":10,\"r\":20,\"t\":10},\"scene\":{\"xaxis\":{\"nticks\":4,\"range\":[-4,4]},\"yaxis\":{\"nticks\":4,\"range\":[-4,4]},\"zaxis\":{\"nticks\":4,\"range\":[-12.408048594813438,83.07283761623299]}},\"template\":{\"data\":{\"barpolar\":[{\"marker\":{\"line\":{\"color\":\"#E5ECF6\",\"width\":0.5},\"pattern\":{\"fillmode\":\"overlay\",\"size\":10,\"solidity\":0.2}},\"type\":\"barpolar\"}],\"bar\":[{\"error_x\":{\"color\":\"#2a3f5f\"},\"error_y\":{\"color\":\"#2a3f5f\"},\"marker\":{\"line\":{\"color\":\"#E5ECF6\",\"width\":0.5},\"pattern\":{\"fillmode\":\"overlay\",\"size\":10,\"solidity\":0.2}},\"type\":\"bar\"}],\"carpet\":[{\"aaxis\":{\"endlinecolor\":\"#2a3f5f\",\"gridcolor\":\"white\",\"linecolor\":\"white\",\"minorgridcolor\":\"white\",\"startlinecolor\":\"#2a3f5f\"},\"baxis\":{\"endlinecolor\":\"#2a3f5f\",\"gridcolor\":\"white\",\"linecolor\":\"white\",\"minorgridcolor\":\"white\",\"startlinecolor\":\"#2a3f5f\"},\"type\":\"carpet\"}],\"choropleth\":[{\"colorbar\":{\"outlinewidth\":0,\"ticks\":\"\"},\"type\":\"choropleth\"}],\"contourcarpet\":[{\"colorbar\":{\"outlinewidth\":0,\"ticks\":\"\"},\"type\":\"contourcarpet\"}],\"contour\":[{\"colorbar\":{\"outlinewidth\":0,\"ticks\":\"\"},\"colorscale\":[[0.0,\"#0d0887\"],[0.1111111111111111,\"#46039f\"],[0.2222222222222222,\"#7201a8\"],[0.3333333333333333,\"#9c179e\"],[0.4444444444444444,\"#bd3786\"],[0.5555555555555556,\"#d8576b\"],[0.6666666666666666,\"#ed7953\"],[0.7777777777777778,\"#fb9f3a\"],[0.8888888888888888,\"#fdca26\"],[1.0,\"#f0f921\"]],\"type\":\"contour\"}],\"heatmapgl\":[{\"colorbar\":{\"outlinewidth\":0,\"ticks\":\"\"},\"colorscale\":[[0.0,\"#0d0887\"],[0.1111111111111111,\"#46039f\"],[0.2222222222222222,\"#7201a8\"],[0.3333333333333333,\"#9c179e\"],[0.4444444444444444,\"#bd3786\"],[0.5555555555555556,\"#d8576b\"],[0.6666666666666666,\"#ed7953\"],[0.7777777777777778,\"#fb9f3a\"],[0.8888888888888888,\"#fdca26\"],[1.0,\"#f0f921\"]],\"type\":\"heatmapgl\"}],\"heatmap\":[{\"colorbar\":{\"outlinewidth\":0,\"ticks\":\"\"},\"colorscale\":[[0.0,\"#0d0887\"],[0.1111111111111111,\"#46039f\"],[0.2222222222222222,\"#7201a8\"],[0.3333333333333333,\"#9c179e\"],[0.4444444444444444,\"#bd3786\"],[0.5555555555555556,\"#d8576b\"],[0.6666666666666666,\"#ed7953\"],[0.7777777777777778,\"#fb9f3a\"],[0.8888888888888888,\"#fdca26\"],[1.0,\"#f0f921\"]],\"type\":\"heatmap\"}],\"histogram2dcontour\":[{\"colorbar\":{\"outlinewidth\":0,\"ticks\":\"\"},\"colorscale\":[[0.0,\"#0d0887\"],[0.1111111111111111,\"#46039f\"],[0.2222222222222222,\"#7201a8\"],[0.3333333333333333,\"#9c179e\"],[0.4444444444444444,\"#bd3786\"],[0.5555555555555556,\"#d8576b\"],[0.6666666666666666,\"#ed7953\"],[0.7777777777777778,\"#fb9f3a\"],[0.8888888888888888,\"#fdca26\"],[1.0,\"#f0f921\"]],\"type\":\"histogram2dcontour\"}],\"histogram2d\":[{\"colorbar\":{\"outlinewidth\":0,\"ticks\":\"\"},\"colorscale\":[[0.0,\"#0d0887\"],[0.1111111111111111,\"#46039f\"],[0.2222222222222222,\"#7201a8\"],[0.3333333333333333,\"#9c179e\"],[0.4444444444444444,\"#bd3786\"],[0.5555555555555556,\"#d8576b\"],[0.6666666666666666,\"#ed7953\"],[0.7777777777777778,\"#fb9f3a\"],[0.8888888888888888,\"#fdca26\"],[1.0,\"#f0f921\"]],\"type\":\"histogram2d\"}],\"histogram\":[{\"marker\":{\"pattern\":{\"fillmode\":\"overlay\",\"size\":10,\"solidity\":0.2}},\"type\":\"histogram\"}],\"mesh3d\":[{\"colorbar\":{\"outlinewidth\":0,\"ticks\":\"\"},\"type\":\"mesh3d\"}],\"parcoords\":[{\"line\":{\"colorbar\":{\"outlinewidth\":0,\"ticks\":\"\"}},\"type\":\"parcoords\"}],\"pie\":[{\"automargin\":true,\"type\":\"pie\"}],\"scatter3d\":[{\"line\":{\"colorbar\":{\"outlinewidth\":0,\"ticks\":\"\"}},\"marker\":{\"colorbar\":{\"outlinewidth\":0,\"ticks\":\"\"}},\"type\":\"scatter3d\"}],\"scattercarpet\":[{\"marker\":{\"colorbar\":{\"outlinewidth\":0,\"ticks\":\"\"}},\"type\":\"scattercarpet\"}],\"scattergeo\":[{\"marker\":{\"colorbar\":{\"outlinewidth\":0,\"ticks\":\"\"}},\"type\":\"scattergeo\"}],\"scattergl\":[{\"marker\":{\"colorbar\":{\"outlinewidth\":0,\"ticks\":\"\"}},\"type\":\"scattergl\"}],\"scattermapbox\":[{\"marker\":{\"colorbar\":{\"outlinewidth\":0,\"ticks\":\"\"}},\"type\":\"scattermapbox\"}],\"scatterpolargl\":[{\"marker\":{\"colorbar\":{\"outlinewidth\":0,\"ticks\":\"\"}},\"type\":\"scatterpolargl\"}],\"scatterpolar\":[{\"marker\":{\"colorbar\":{\"outlinewidth\":0,\"ticks\":\"\"}},\"type\":\"scatterpolar\"}],\"scatter\":[{\"marker\":{\"colorbar\":{\"outlinewidth\":0,\"ticks\":\"\"}},\"type\":\"scatter\"}],\"scatterternary\":[{\"marker\":{\"colorbar\":{\"outlinewidth\":0,\"ticks\":\"\"}},\"type\":\"scatterternary\"}],\"surface\":[{\"colorbar\":{\"outlinewidth\":0,\"ticks\":\"\"},\"colorscale\":[[0.0,\"#0d0887\"],[0.1111111111111111,\"#46039f\"],[0.2222222222222222,\"#7201a8\"],[0.3333333333333333,\"#9c179e\"],[0.4444444444444444,\"#bd3786\"],[0.5555555555555556,\"#d8576b\"],[0.6666666666666666,\"#ed7953\"],[0.7777777777777778,\"#fb9f3a\"],[0.8888888888888888,\"#fdca26\"],[1.0,\"#f0f921\"]],\"type\":\"surface\"}],\"table\":[{\"cells\":{\"fill\":{\"color\":\"#EBF0F8\"},\"line\":{\"color\":\"white\"}},\"header\":{\"fill\":{\"color\":\"#C8D4E3\"},\"line\":{\"color\":\"white\"}},\"type\":\"table\"}]},\"layout\":{\"annotationdefaults\":{\"arrowcolor\":\"#2a3f5f\",\"arrowhead\":0,\"arrowwidth\":1},\"autotypenumbers\":\"strict\",\"coloraxis\":{\"colorbar\":{\"outlinewidth\":0,\"ticks\":\"\"}},\"colorscale\":{\"diverging\":[[0,\"#8e0152\"],[0.1,\"#c51b7d\"],[0.2,\"#de77ae\"],[0.3,\"#f1b6da\"],[0.4,\"#fde0ef\"],[0.5,\"#f7f7f7\"],[0.6,\"#e6f5d0\"],[0.7,\"#b8e186\"],[0.8,\"#7fbc41\"],[0.9,\"#4d9221\"],[1,\"#276419\"]],\"sequential\":[[0.0,\"#0d0887\"],[0.1111111111111111,\"#46039f\"],[0.2222222222222222,\"#7201a8\"],[0.3333333333333333,\"#9c179e\"],[0.4444444444444444,\"#bd3786\"],[0.5555555555555556,\"#d8576b\"],[0.6666666666666666,\"#ed7953\"],[0.7777777777777778,\"#fb9f3a\"],[0.8888888888888888,\"#fdca26\"],[1.0,\"#f0f921\"]],\"sequentialminus\":[[0.0,\"#0d0887\"],[0.1111111111111111,\"#46039f\"],[0.2222222222222222,\"#7201a8\"],[0.3333333333333333,\"#9c179e\"],[0.4444444444444444,\"#bd3786\"],[0.5555555555555556,\"#d8576b\"],[0.6666666666666666,\"#ed7953\"],[0.7777777777777778,\"#fb9f3a\"],[0.8888888888888888,\"#fdca26\"],[1.0,\"#f0f921\"]]},\"colorway\":[\"#636efa\",\"#EF553B\",\"#00cc96\",\"#ab63fa\",\"#FFA15A\",\"#19d3f3\",\"#FF6692\",\"#B6E880\",\"#FF97FF\",\"#FECB52\"],\"font\":{\"color\":\"#2a3f5f\"},\"geo\":{\"bgcolor\":\"white\",\"lakecolor\":\"white\",\"landcolor\":\"#E5ECF6\",\"showlakes\":true,\"showland\":true,\"subunitcolor\":\"white\"},\"hoverlabel\":{\"align\":\"left\"},\"hovermode\":\"closest\",\"mapbox\":{\"style\":\"light\"},\"paper_bgcolor\":\"white\",\"plot_bgcolor\":\"#E5ECF6\",\"polar\":{\"angularaxis\":{\"gridcolor\":\"white\",\"linecolor\":\"white\",\"ticks\":\"\"},\"bgcolor\":\"#E5ECF6\",\"radialaxis\":{\"gridcolor\":\"white\",\"linecolor\":\"white\",\"ticks\":\"\"}},\"scene\":{\"xaxis\":{\"backgroundcolor\":\"#E5ECF6\",\"gridcolor\":\"white\",\"gridwidth\":2,\"linecolor\":\"white\",\"showbackground\":true,\"ticks\":\"\",\"zerolinecolor\":\"white\"},\"yaxis\":{\"backgroundcolor\":\"#E5ECF6\",\"gridcolor\":\"white\",\"gridwidth\":2,\"linecolor\":\"white\",\"showbackground\":true,\"ticks\":\"\",\"zerolinecolor\":\"white\"},\"zaxis\":{\"backgroundcolor\":\"#E5ECF6\",\"gridcolor\":\"white\",\"gridwidth\":2,\"linecolor\":\"white\",\"showbackground\":true,\"ticks\":\"\",\"zerolinecolor\":\"white\"}},\"shapedefaults\":{\"line\":{\"color\":\"#2a3f5f\"}},\"ternary\":{\"aaxis\":{\"gridcolor\":\"white\",\"linecolor\":\"white\",\"ticks\":\"\"},\"baxis\":{\"gridcolor\":\"white\",\"linecolor\":\"white\",\"ticks\":\"\"},\"bgcolor\":\"#E5ECF6\",\"caxis\":{\"gridcolor\":\"white\",\"linecolor\":\"white\",\"ticks\":\"\"}},\"title\":{\"x\":0.05},\"xaxis\":{\"automargin\":true,\"gridcolor\":\"white\",\"linecolor\":\"white\",\"ticks\":\"\",\"title\":{\"standoff\":15},\"zerolinecolor\":\"white\",\"zerolinewidth\":2},\"yaxis\":{\"automargin\":true,\"gridcolor\":\"white\",\"linecolor\":\"white\",\"ticks\":\"\",\"title\":{\"standoff\":15},\"zerolinecolor\":\"white\",\"zerolinewidth\":2}}},\"width\":700},                        {\"responsive\": true}                    ).then(function(){\n",
       "                            \n",
       "var gd = document.getElementById('c150f6d3-aeda-4154-98b8-6e4037f31135');\n",
       "var x = new MutationObserver(function (mutations, observer) {{\n",
       "        var display = window.getComputedStyle(gd).display;\n",
       "        if (!display || display === 'none') {{\n",
       "            console.log([gd, 'removed!']);\n",
       "            Plotly.purge(gd);\n",
       "            observer.disconnect();\n",
       "        }}\n",
       "}});\n",
       "\n",
       "// Listen for the removal of the full notebook cells\n",
       "var notebookContainer = gd.closest('#notebook-container');\n",
       "if (notebookContainer) {{\n",
       "    x.observe(notebookContainer, {childList: true});\n",
       "}}\n",
       "\n",
       "// Listen for the clearing of the current output cell\n",
       "var outputEl = gd.closest('.output');\n",
       "if (outputEl) {{\n",
       "    x.observe(outputEl, {childList: true});\n",
       "}}\n",
       "\n",
       "                        })                };                });            </script>        </div>"
      ]
     },
     "metadata": {},
     "output_type": "display_data"
    }
   ],
   "source": [
    "# See how well your result fits the test set (no input needed)\n",
    "zz_test = [r[0] for r in y_test]\n",
    "trace = go.Scatter3d(x=Xhat_test[:,1], y=Xhat_test[:,2], z=zz_test, mode='markers',marker=dict(size=5))\n",
    "xs,ys = Xhat_test[:,1],Xhat_test[:,2]\n",
    "xxx = np.outer(np.linspace(min(xs), max(xs), 30), np.ones(30))\n",
    "yyy = np.outer(np.linspace(min(ys), max(ys), 30), np.ones(30)).T\n",
    "zzz = 0\n",
    "mons = generate_monomials_leq(X.shape[1],degree)\n",
    "i=0\n",
    "for mon in mons:\n",
    "    zzz +=  v[i]*xxx**(mon[0])*yyy**(mon[1])\n",
    "    i+=1\n",
    "# Configure the layout.\n",
    "layout = go.Layout(margin={'l': 0, 'r': 0, 'b': 0, 't': 0})\n",
    "data = [trace,go.Surface(x=xxx, y=yyy, z=zzz, showscale=False, opacity=0.5)]\n",
    "# Render the plot.\n",
    "plot_figure = go.Figure(data=data, layout=layout)\n",
    "plot_figure.update_layout(\n",
    "    scene = dict(\n",
    "        xaxis = dict(nticks=4, range=[-4,4],),\n",
    "                     yaxis = dict(nticks=4, range=[-4,4],),\n",
    "                     zaxis = dict(nticks=4, range=[min(zz_test),max(zz_test)],),),\n",
    "    width=700,\n",
    "    margin=dict(r=20, l=10, b=10, t=10))\n",
    "plotly.offline.iplot(plot_figure)"
   ]
  },
  {
   "cell_type": "markdown",
   "id": "10c9d770",
   "metadata": {},
   "source": [
    "## Explain the result here\n",
    "\n",
    "Replace this text with your explanation..."
   ]
  },
  {
   "cell_type": "markdown",
   "id": "85ed9999",
   "metadata": {},
   "source": [
    "## Problem 3\n",
    "\n",
    "In this problem our goal is to implement the Gaussian Naive Bayes Classification algorithm. We test it on handwritten digits. Recall, in naive Bayes, our goal is to find a maximum likelihood estimator for the following approximate conditional probability distribution:\n",
    "\n",
    "$p(y=j|\\vec{x}) = p(y=j)\\prod_{i=1}^n p(x_i|y=j)$\n",
    "\n",
    "Model $p(y)$ as a categorical distribution and $p(x_i|y=j)$ as a Gaussian as described in the lecture. Careful though, if the variance is computed to be 0, you can not use the Gaussian formula (you decide how to handle this). \n",
    "\n",
    "You are given a supervised learning dataset `X,y` where `X` is a 2-dimensional numpy array and `y` is a 1-dimensional numpy array. You will complete functions `p(j,X,y)` which models the distribution $p(y=j)$, a function `p_cond(x,i,j,X,y)` which models $p(x_i|y=j)$, and a function `bayes_prediction(x,X,y)` which returns the corresponding class prediction. The inputs are\n",
    "\n",
    "- `x` an example which we can run prediction on (like a row of `X`)\n",
    "- `i` a feature index (so `i` ranges from `0` to `X.shape[1]`)\n",
    "- `j` a target label (so `j` takes any possible value one sees in the dataset `y`)\n",
    "- `X` a matrix of examples\n",
    "- `y` a vector of labels"
   ]
  },
  {
   "cell_type": "code",
   "execution_count": 122,
   "id": "c51c88fe",
   "metadata": {},
   "outputs": [],
   "source": [
    "# to complete problem 3, fill in the following with your code\n",
    "def p(j,X,y): \n",
    "    ######################### your code goes here ########################\n",
    "    return len([k for k in range(len(y)) if y[k]==j])/len(y)\n",
    "\n",
    "def p_cond(x,i,j,X,y):\n",
    "    ######################### your code goes here ########################\n",
    "    filter_j = [k for k in range(len(y)) if y[k]==j]\n",
    "    mi = len(filter_j)\n",
    "    mean_i = sum([X[k][i] for k in filter_j])/mi\n",
    "    var_i = sum([(X[k][i] - mean_i)**2 for k in filter_j])/mi\n",
    "    if var_i == 0 and x==mean_i:\n",
    "        return 1\n",
    "    elif var_i == 0 and not (x==mean_i):\n",
    "        return 0\n",
    "    return 1/np.sqrt(2*np.pi*var_i)*np.exp(-(x-mean_i)**2/(2*var_i))\n",
    "    \n",
    "def bayes_prediction(x,X,y):\n",
    "    ######################### your code goes here ########################\n",
    "    predictions = []\n",
    "    for j in range(max(y)+1):\n",
    "        prob = p(j,X,y)\n",
    "        for i in range(len(X[0])):\n",
    "            prob *= p_cond(x[i],i,j,X,y)\n",
    "        predictions.append(prob)\n",
    "    return np.argmax(predictions)"
   ]
  },
  {
   "cell_type": "markdown",
   "id": "a7999dee",
   "metadata": {},
   "source": [
    "## Test your model on the handwritten digit recognition problem"
   ]
  },
  {
   "cell_type": "code",
   "execution_count": 123,
   "id": "3e5a8e1e",
   "metadata": {},
   "outputs": [
    {
     "data": {
      "image/png": "[encoded data removed]",
      "text/plain": [
       "<Figure size 1440x720 with 10 Axes>"
      ]
     },
     "metadata": {
      "needs_background": "light"
     },
     "output_type": "display_data"
    }
   ],
   "source": [
    "# no input needed\n",
    "# run this cell to load images of digits \n",
    "# showing some examples of typical images in the dataset\n",
    "from sklearn import datasets\n",
    "digits = datasets.load_digits()\n",
    "X,y = digits.data, digits.target\n",
    "fig, axes = plt.subplots(nrows=1, ncols=10, figsize=(20, 10))\n",
    "for ax, image, label in zip(axes, digits.images, digits.target):\n",
    "    ax.set_axis_off()\n",
    "    ax.imshow(image, cmap=plt.cm.gray_r, interpolation=\"nearest\")\n",
    "    ax.set_title(\"Label: %i\" % label)"
   ]
  },
  {
   "cell_type": "code",
   "execution_count": 22,
   "id": "a682b010",
   "metadata": {},
   "outputs": [
    {
     "name": "stdout",
     "output_type": "stream",
     "text": [
      "predicting: 0, true value: 0\n",
      "predicting: 1, true value: 1\n",
      "predicting: 8, true value: 2\n",
      "predicting: 3, true value: 3\n",
      "predicting: 4, true value: 4\n",
      "predicting: 9, true value: 5\n",
      "predicting: 6, true value: 6\n",
      "predicting: 7, true value: 7\n",
      "predicting: 8, true value: 8\n",
      "predicting: 9, true value: 9\n",
      "predicting: 0, true value: 0\n",
      "predicting: 1, true value: 1\n",
      "predicting: 2, true value: 2\n",
      "predicting: 3, true value: 3\n",
      "predicting: 4, true value: 4\n",
      "predicting: 5, true value: 5\n",
      "predicting: 6, true value: 6\n",
      "predicting: 7, true value: 7\n",
      "predicting: 8, true value: 8\n",
      "predicting: 3, true value: 9\n"
     ]
    }
   ],
   "source": [
    "# (no input needed)\n",
    "# using the bayes_prediction function to predict the digits\n",
    "# you should get most correct\n",
    "for i in range(20):\n",
    "    pred = bayes_prediction(X[i,:],X,y)\n",
    "    target = y[i]\n",
    "    print(f'predicting: {pred}, true value: {target}')"
   ]
  },
  {
   "cell_type": "markdown",
   "id": "5fc8cc4c",
   "metadata": {},
   "source": [
    "## Step 4: Check your own handwritten digits\n",
    "\n",
    "Get a piece of paper and a pen. Write down four digits of your choice, preferably legibly. Take pictures of each digit, and crop them to nearly square and tightly centered windows around the digit. Move the image files (preferably as `.jpg` files) to the same folder on your computer which contains this notebook. Save them as `a.jpg`, `b.jpg`, `c.jpg`, `d.jpg`. Use the following to check how the model classifies them. Make sure to change `r` to the optimal value found in the previous step."
   ]
  },
  {
   "cell_type": "code",
   "execution_count": 23,
   "id": "e3a9e894",
   "metadata": {},
   "outputs": [
    {
     "data": {
      "image/png": "[encoded data removed]",
      "text/plain": [
       "<Figure size 1080x720 with 4 Axes>"
      ]
     },
     "metadata": {
      "needs_background": "light"
     },
     "output_type": "display_data"
    }
   ],
   "source": [
    "# before running, make sure you have files a.jpg, b.jpg, c.jpg, d.jpg in the folder containing this notebook\n",
    "# check: you should see the converted images of your files plotted below\n",
    "from PIL import Image, ImageEnhance # importing some packages to handle images\n",
    "from matplotlib import image\n",
    "digit_images, digit_arrays = {}, {}\n",
    "for i in ['a','b','c','d']: #for each i this converts the image to an 8 by 8 matrix with values from 0 to 16\n",
    "    digit_image = Image.open(f\"{i}.jpg\") # opening your image\n",
    "    digit_image = digit_image.resize((8,8)) # resize to 8 by 8 pixels\n",
    "    digit_image = ImageEnhance.Contrast(digit_image).enhance(10).convert('LA') # preprocess (contrast & grayscale)\n",
    "    digit_images[i] = digit_image\n",
    "    digit_arr = np.asarray(digit_images[i])[:,:,0] # create as 3-tensor but only need 0 slice matrix\n",
    "    digit_arr = (255 - digit_arr) # had opposite grayscale convention, need to correct it\n",
    "    digit_arr = digit_arr/255*16 # had entries up to 255 but we only want it up to 16 \n",
    "    digit_arr = np.rint(digit_arr-3) # rounding to integer values\n",
    "    digit_arr = digit_arr.clip(min = 0) # attempting to get rid of background darkness\n",
    "    digit_arrays[i] = digit_arr\n",
    "_, axes = plt.subplots(nrows=1, ncols=4, figsize=(15, 10))\n",
    "for ax, image, label in zip(axes, digit_images.values(), digit_images.keys()):\n",
    "    ax.set_axis_off()\n",
    "    ax.imshow(image, cmap=plt.cm.gray_r, interpolation=\"nearest\")\n",
    "    ax.set_title(f\"{label}.jpg\")"
   ]
  },
  {
   "cell_type": "code",
   "execution_count": 24,
   "id": "a6ff9bf5",
   "metadata": {},
   "outputs": [
    {
     "name": "stdout",
     "output_type": "stream",
     "text": [
      "predicted digit for a.jpg with Naive Bayes: 0\n",
      "predicted digit for b.jpg with Naive Bayes: 2\n",
      "predicted digit for c.jpg with Naive Bayes: 3\n",
      "predicted digit for d.jpg with Naive Bayes: 0\n"
     ]
    }
   ],
   "source": [
    "# check: seeing if your model reads the digits correctly\n",
    "for i in ['a','b','c','d']:\n",
    "    x = np.reshape(digit_arrays[i],64)\n",
    "    prediction = bayes_prediction(x,X,y)\n",
    "    print(f'predicted digit for {i}.jpg with Naive Bayes: {prediction}')"
   ]
  },
  {
   "cell_type": "code",
   "execution_count": 565,
   "id": "08bafcd9",
   "metadata": {},
   "outputs": [
    {
     "data": {
      "text/plain": [
       "86876.68965517242"
      ]
     },
     "execution_count": 565,
     "metadata": {},
     "output_type": "execute_result"
    }
   ],
   "source": [
    "6**9/116"
   ]
  },
  {
   "cell_type": "code",
   "execution_count": 2,
   "id": "4c21244c",
   "metadata": {},
   "outputs": [
    {
     "data": {
      "text/plain": [
       "6"
      ]
     },
     "execution_count": 2,
     "metadata": {},
     "output_type": "execute_result"
    }
   ],
   "source": [
    "dc = {1:2,3:4}\n",
    "sum([dc[i] for i in dc.keys()])"
   ]
  },
  {
   "cell_type": "code",
   "execution_count": 3,
   "id": "231c701a",
   "metadata": {},
   "outputs": [
    {
     "data": {
      "text/plain": [
       "'{1: 2, 3: 4}'"
      ]
     },
     "execution_count": 3,
     "metadata": {},
     "output_type": "execute_result"
    }
   ],
   "source": [
    "str(dc)"
   ]
  },
  {
   "cell_type": "code",
   "execution_count": 5,
   "id": "aec7e4da",
   "metadata": {},
   "outputs": [
    {
     "data": {
      "text/plain": [
       "{1: 2, 3: 4}"
      ]
     },
     "execution_count": 5,
     "metadata": {},
     "output_type": "execute_result"
    }
   ],
   "source": [
    "eval(str(dc))"
   ]
  },
  {
   "cell_type": "code",
   "execution_count": null,
   "id": "7cb2d28d",
   "metadata": {},
   "outputs": [],
   "source": []
  }
 ],
 "metadata": {
  "kernelspec": {
   "display_name": "Python 3 (ipykernel)",
   "language": "python",
   "name": "python3"
  },
  "language_info": {
   "codemirror_mode": {
    "name": "ipython",
    "version": 3
   },
   "file_extension": ".py",
   "mimetype": "text/x-python",
   "name": "python",
   "nbconvert_exporter": "python",
   "pygments_lexer": "ipython3",
   "version": "3.9.10"
  }
 },
 "nbformat": 4,
 "nbformat_minor": 5
}

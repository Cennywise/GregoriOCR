{
 "cells": [
  {
   "cell_type": "markdown",
   "source": [
    "# The Training Process\n",
    "\n",
    "The training process consists of two files located in Network, Evaluate.py and Train.py, each of which will be discussed in their respective sections."
   ],
   "metadata": {
    "collapsed": false
   }
  },
  {
   "cell_type": "markdown",
   "source": [
    " ### The Evaluate Function\n",
    "\n",
    "The Evaluate.py file contains a function called evaluate. It takes in a neural network, a boolean variable called draw, and the max steps the evaluation will run. It then runs the game one time step at a time, at each time step giving the neural network the required inputs and moving the paddle down if it outputs a 0 or up if it outputs a 1.\n",
    "\n",
    "As an output it returns the fitness value of the neural network and a boolean value finished which is true if the evaluation reached max steps."
   ],
   "metadata": {
    "collapsed": false
   }
  },
  {
   "cell_type": "code",
   "execution_count": 1,
   "outputs": [],
   "source": [
    "from Pong.Game import Game\n",
    "\n",
    "\n",
    "def evaluate(nn, draw, max_steps = 100000):\n",
    "    finished = False\n",
    "    offset = 10e+10\n",
    "    outputs = []\n",
    "    game = Game((1000, 600), draw=draw)\n",
    "    running = 0\n",
    "    time_steps = 0\n",
    "    while running == 0:\n",
    "        time_steps += 1\n",
    "        inputs = game.getCords()\n",
    "        output = nn.calc(inputs=[inputs[0], inputs[2], inputs[3]])[0]\n",
    "        # print(output, nn.calc(inputs=[inputs[0], inputs[2], inputs[3]]))\n",
    "        if output == 0:\n",
    "            game.left_paddle.paddleMoveUp(-1)\n",
    "        else:\n",
    "            game.left_paddle.paddleMoveDown(1)\n",
    "        game.gameStep()\n",
    "        running = game.right_player\n",
    "        outputs.append(output)\n",
    "        if inputs[1] == -360:\n",
    "            offset = abs(inputs[0] - inputs[2])\n",
    "        if time_steps == max_steps:\n",
    "            finished = True\n",
    "            break\n",
    "    if draw:\n",
    "        for turtle in game.sc.turtles():\n",
    "            turtle.reset()\n",
    "            turtle.clear()\n",
    "        game.sc.clear()\n",
    "        game.sc.reset()\n",
    "        game.sc.bye()\n",
    "        del game\n",
    "    return time_steps - offset, finished"
   ],
   "metadata": {
    "collapsed": false
   }
  },
  {
   "cell_type": "code",
   "execution_count": 10,
   "outputs": [],
   "source": [
    "from Network import Network"
   ],
   "metadata": {
    "collapsed": false
   }
  },
  {
   "cell_type": "code",
   "execution_count": 18,
   "outputs": [
    {
     "name": "stdout",
     "output_type": "stream",
     "text": [
      "(344.0, False)\n"
     ]
    }
   ],
   "source": [
    "# Try playing around with different networks, they won't be very good, but maybe you will get lucky\n",
    "layers = [8, 8, 1]\n",
    "net = Network.Network(3, layers)\n",
    "print(evaluate(net, False, 10000))\n"
   ],
   "metadata": {
    "collapsed": false
   }
  },
  {
   "cell_type": "markdown",
   "source": [
    "### The Train Class\n",
    "\n",
    "The Train.py file consists of a helper function evalGen which takes a list of neural networks, runs evaluate on all of them and returns the network, score pair as a tuple, and a main class, Train.\n",
    "\n",
    "The Train class takes in the number of generations, the size of each generation, and the shape of the network. It automatically adds the last layer so no need to add a 1 layer at the end.\n",
    "\n",
    "The only function of the Train class is called train. It takes in 3 optional variables of slice_size, mutation_rate, change_value, and draw_frequency. The slize_size tells the function how many models to create the new generation from, while the mutation_rate and change_value are the same ones used in the update function in the Network class. Finally, the draw_frequency tell the function how often to display the best individual of the generation.\n",
    "\n",
    "The function generates an initial generation and takes the best performing individuals and replicates them, calling update on all of these replicates. The process is repeated till a neural network reaches max_steps, or it does the max number of generations. It then displays the best performing model and writes the weights and biases to a file."
   ],
   "metadata": {
    "collapsed": false
   }
  },
  {
   "cell_type": "code",
   "execution_count": 2,
   "outputs": [],
   "source": [
    "from Network.Network import Network\n",
    "from operator import itemgetter\n",
    "import numpy as np\n",
    "\n",
    "\n",
    "def evalGen(gen, max_steps):\n",
    "    scores = []\n",
    "    for nn in gen:\n",
    "        evaled = evaluate(nn, max_steps=max_steps, draw=False)\n",
    "        scores.append((evaled[0], nn, evaled[1]))\n",
    "    return scores\n",
    "\n",
    "\n",
    "class Train:\n",
    "    def __init__(self, generations, size=100, shape=None):\n",
    "        if shape is None:\n",
    "            shape = [8, 8, 8]\n",
    "        self.generations = generations\n",
    "        self.size = size\n",
    "        shape.append(1)\n",
    "        self.shape = (3, shape)\n",
    "\n",
    "    def train(self, slice_size=10, draw_frequency=10, mutation_rate=0.5, change_value=5, max_steps=100000):\n",
    "        gen = []\n",
    "        best = []\n",
    "\n",
    "        for i in range(self.size):\n",
    "            gen.append(Network(self.shape[0], self.shape[1]))\n",
    "\n",
    "        for i in range(self.generations):\n",
    "\n",
    "            scores = evalGen(gen, max_steps=max_steps)\n",
    "            scores = sorted(scores, key=itemgetter(0), reverse=True)\n",
    "            best = scores[0:self.size // slice_size]\n",
    "\n",
    "            newGen = []\n",
    "\n",
    "            for nn in best:\n",
    "                network = nn[1]\n",
    "                weights, biases = network.getWeights()\n",
    "\n",
    "                for j in range(len(weights)):\n",
    "                    weights[j] = np.copy(weights[j])\n",
    "\n",
    "                for j in range(slice_size-1):\n",
    "                    net = Network(self.shape[0], self.shape[1], weights=weights, bias=np.copy(biases))\n",
    "                    net.update(mutation_rate=mutation_rate, change_value=change_value)\n",
    "                    newGen.append(net)\n",
    "\n",
    "                newGen.append(network)\n",
    "\n",
    "            gen = newGen\n",
    "\n",
    "            # Run some inference type things\n",
    "\n",
    "            unique = []\n",
    "\n",
    "            for network in scores:\n",
    "                if network[0] not in unique:\n",
    "                    unique.append(network[0])\n",
    "            print(best)\n",
    "            print(unique)\n",
    "\n",
    "            if best[0][2]:\n",
    "                break\n",
    "\n",
    "            if i % draw_frequency == 0 and i > 0:\n",
    "                evaluate(best[0][1], draw=True)\n",
    "\n",
    "        w, b = best[0][1].getWeights()\n",
    "        with open('best.txt', 'w') as f:\n",
    "            f.write('weights='+str(w)+'\\n'+'bias='+str(b)+'\\n')\n",
    "        print(\"weights=\" + str(w), \"bias=\" + str(b))\n",
    "        evaluate(best[0][1], draw=True)"
   ],
   "metadata": {
    "collapsed": false
   }
  },
  {
   "cell_type": "code",
   "execution_count": 3,
   "outputs": [
    {
     "name": "stderr",
     "output_type": "stream",
     "text": [
      "C:\\Users\\blant\\AppData\\Local\\Programs\\Python\\Python310\\lib\\site-packages\\numpy\\lib\\function_base.py:959: VisibleDeprecationWarning: Creating an ndarray from ragged nested sequences (which is a list-or-tuple of lists-or-tuples-or ndarrays with different lengths or shapes) is deprecated. If you meant to do this, you must specify 'dtype=object' when creating the ndarray.\n",
      "  return array(a, order=order, subok=subok, copy=True)\n"
     ]
    },
    {
     "name": "stdout",
     "output_type": "stream",
     "text": [
      "[(1852.0, <Network.Network.Network object at 0x0000011032549D50>, False), (582.0, <Network.Network.Network object at 0x00000110340CB010>, False), (426.0, <Network.Network.Network object at 0x00000110340F4400>, False), (416.0, <Network.Network.Network object at 0x0000011032554310>, False), (412.0, <Network.Network.Network object at 0x00000110325488B0>, False), (406.0, <Network.Network.Network object at 0x00000110340F4640>, False), (402.0, <Network.Network.Network object at 0x000001103254B010>, False), (390.0, <Network.Network.Network object at 0x00000110325555D0>, False), (390.0, <Network.Network.Network object at 0x0000011032556C50>, False), (378.0, <Network.Network.Network object at 0x0000011032549990>, False)]\n",
      "[1852.0, 582.0, 426.0, 416.0, 412.0, 406.0, 402.0, 390.0, 378.0, 370.0, 364.0, 356.0, 344.0, 286.0, 278.0, 260.0, 246.0, 188.0, 184.0, -60.0]\n",
      "[(398.0, <Network.Network.Network object at 0x00000110325D0AC0>, False), (398.0, <Network.Network.Network object at 0x00000110325D0CA0>, False), (398.0, <Network.Network.Network object at 0x00000110325D0E80>, False), (398.0, <Network.Network.Network object at 0x00000110325D1060>, False), (398.0, <Network.Network.Network object at 0x00000110325D1240>, False), (398.0, <Network.Network.Network object at 0x00000110325D1420>, False), (398.0, <Network.Network.Network object at 0x00000110325D1600>, False), (398.0, <Network.Network.Network object at 0x00000110325D17E0>, False), (398.0, <Network.Network.Network object at 0x00000110325D19C0>, False), (342.0, <Network.Network.Network object at 0x00000110340CB010>, False)]\n",
      "[398.0, 342.0, 62.0, -56.0, -60.0]\n",
      "[(7642.0, <Network.Network.Network object at 0x0000011032548C70>, False), (7642.0, <Network.Network.Network object at 0x0000011032548E50>, False), (7642.0, <Network.Network.Network object at 0x00000110325490C0>, False), (7642.0, <Network.Network.Network object at 0x0000011032549B70>, False), (7642.0, <Network.Network.Network object at 0x0000011032549FC0>, False), (7642.0, <Network.Network.Network object at 0x000001103254A4D0>, False), (7642.0, <Network.Network.Network object at 0x000001103254AB00>, False), (7642.0, <Network.Network.Network object at 0x000001103254BA00>, False), (7642.0, <Network.Network.Network object at 0x000001103254BB50>, False), (1704.0, <Network.Network.Network object at 0x00000110340F7100>, False)]\n",
      "[7642.0, 1704.0, 1696.0, 440.0, 430.0, 342.0]\n",
      "[(4787.0, <Network.Network.Network object at 0x00000110325DD990>, False), (4787.0, <Network.Network.Network object at 0x00000110325DDB70>, False), (4787.0, <Network.Network.Network object at 0x00000110325DDD50>, False), (4787.0, <Network.Network.Network object at 0x00000110325DDF30>, False), (4787.0, <Network.Network.Network object at 0x00000110325DE410>, False), (4787.0, <Network.Network.Network object at 0x00000110325DE4D0>, False), (4787.0, <Network.Network.Network object at 0x00000110325DE6B0>, False), (4787.0, <Network.Network.Network object at 0x00000110325DE890>, False), (4787.0, <Network.Network.Network object at 0x00000110325DEA70>, False), (1702.0, <Network.Network.Network object at 0x00000110340F7100>, False)]\n",
      "[4787.0, 1702.0, 446.0, 370.0, 342.0, 252.0, 208.0, -60.0]\n",
      "[(99988.0, <Network.Network.Network object at 0x00000110325DD990>, True), (99988.0, <Network.Network.Network object at 0x00000110325DDB70>, True), (99988.0, <Network.Network.Network object at 0x00000110325DDD50>, True), (99988.0, <Network.Network.Network object at 0x00000110325DDF30>, True), (99988.0, <Network.Network.Network object at 0x00000110325DE410>, True), (99988.0, <Network.Network.Network object at 0x00000110325DE4D0>, True), (99988.0, <Network.Network.Network object at 0x00000110325DE6B0>, True), (99988.0, <Network.Network.Network object at 0x00000110325DE890>, True), (99988.0, <Network.Network.Network object at 0x00000110325DEA70>, True), (7620.0, <Network.Network.Network object at 0x00000110340CA8F0>, False)]\n",
      "[99988.0, 7620.0, 3127.0, 1732.0, 1704.0, 372.0, 354.0, 342.0, 332.0, -20.0]\n",
      "weights=[array([[ -2.61435477, -25.83524595,   1.66139249],\n",
      "       [ -8.23761576,   1.53302074,   0.70175405],\n",
      "       [  1.94395271,   5.36880666, -18.40843247],\n",
      "       [ 10.40007561,  -5.99262734,   3.69851485],\n",
      "       [ -5.145272  ,  -5.62939068,   2.11647811],\n",
      "       [  8.51252931, -13.11609843,   0.46986631],\n",
      "       [ -1.88011698, -15.52936732, -25.1617903 ],\n",
      "       [ -1.30847055,   4.60534152,  -4.89212267]]), array([[ -0.93413583,   0.32355786, -11.44036918,   1.90135623,\n",
      "          2.39859643,  -3.57724668, -22.66084425,  13.19941981],\n",
      "       [ 14.16613095,  -2.94767828, -12.00710907,   0.58402257,\n",
      "         -4.39115889, -10.40926627,  -2.51515398,  19.98316666],\n",
      "       [  7.09999469,  -6.88083355,   4.14762774,  11.79235546,\n",
      "          6.40209026,  17.38243908,  -9.06780308, -14.24090405],\n",
      "       [-13.70040994,  -8.90149274,  -3.60007735,  -6.63959991,\n",
      "         -2.29177202,   0.35229657,  10.24368669,  -1.39473998],\n",
      "       [  1.06126445,   5.00401669,  -7.84711159,   4.98463839,\n",
      "        -18.84549442,   2.95879026,   1.4816134 ,   3.02534462],\n",
      "       [  5.53648451,  -6.20101918,   4.37898193,   7.50488079,\n",
      "         -2.89107011,   6.26511998,  -3.23191532,   4.4319731 ],\n",
      "       [  2.367463  ,  17.35941098,  16.74262057,  17.49250781,\n",
      "          0.27916491,  -2.37550449,  -2.18506395,  11.15890609],\n",
      "       [ -4.66370501,  -1.93863956,  11.39831091,   8.59353624,\n",
      "         15.08643374,  -4.68301837,   0.36168484,  -3.9996942 ]]), array([[ -7.44407496,   0.05850281,  -5.12010805,  -0.97261902,\n",
      "          3.41927496,  -8.70057948,   9.80503166,  -7.84714658],\n",
      "       [ -6.93902369,   8.65199724,  -1.18826362,  -3.10285302,\n",
      "         33.14456955,  18.60023679,  -8.30094508,   9.74211225],\n",
      "       [  2.25146503,   4.40740028,  19.53122404, -11.04721154,\n",
      "        -13.04803536, -17.16117971,  -5.2175381 ,  -8.76058995],\n",
      "       [ -2.62524488,  10.47897652,  -1.98448916,  -0.24423311,\n",
      "        -20.35487289,  -1.00984641,  -0.14133445,  14.58302289],\n",
      "       [ -7.15645112,   6.99218617,   0.0711116 ,   7.94896292,\n",
      "         -9.61650578,  -0.27739728, -17.88991544,   9.2475798 ],\n",
      "       [ 23.74790183,  11.53258267,  -3.24794854,   4.42524206,\n",
      "          1.96040068,  -2.32649553,   6.45042528,   8.70103376],\n",
      "       [ 33.74724036,  -6.62681951,   3.50610733,  -7.62122123,\n",
      "          0.23704551,   0.16749473,   9.63508345,  -4.35155712],\n",
      "       [  1.20201275,   8.0699013 ,  -5.30798435,  -3.84623802,\n",
      "          8.90986772,   9.46398887, -10.12293966,  -2.11412446]]), array([[  3.42910373,  -6.01573858,  -2.47240533,   7.92284473,\n",
      "         15.32440767,   5.80885127, -10.95504319,  -7.97804059]])] bias=[array([-25.4969771 ,  -9.31553179,  -3.26363246,  49.4621126 ,\n",
      "        32.10873968, -24.88016597,  24.17801943,  56.5346271 ]), array([ 38.60707658,  10.04852939,  27.22097525,  15.4310637 ,\n",
      "         4.9688146 , -11.36257281,   7.89999814, -63.77030338]), array([ 86.37402311,   6.21276302,  11.35369997,  -9.06471109,\n",
      "       -52.49585461, -68.72062256,  57.98400786,  -5.36927102]), array([29.56839194])]\n"
     ]
    }
   ],
   "source": [
    "# Try playing around with various generation count, sizes, and neutral network architecture\n",
    "# You can also change the mutation_rate, change_value, and slice_size, try to find the fewest amount of gnerations you can max out in.\n",
    "t = Train(50, size=100, shape=[8, 8, 8])\n",
    "t.train(slice_size=10, draw_frequency=100, mutation_rate=0.5, change_value=5, max_steps=100000)"
   ],
   "metadata": {
    "collapsed": false
   }
  }
 ],
 "metadata": {
  "kernelspec": {
   "display_name": "Python 3",
   "language": "python",
   "name": "python3"
  },
  "language_info": {
   "codemirror_mode": {
    "name": "ipython",
    "version": 2
   },
   "file_extension": ".py",
   "mimetype": "text/x-python",
   "name": "python",
   "nbconvert_exporter": "python",
   "pygments_lexer": "ipython2",
   "version": "2.7.6"
  }
 },
 "nbformat": 4,
 "nbformat_minor": 0
}

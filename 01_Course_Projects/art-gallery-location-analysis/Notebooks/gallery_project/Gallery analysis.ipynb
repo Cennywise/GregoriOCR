{
 "cells": [
  {
   "cell_type": "code",
   "execution_count": 37,
   "metadata": {},
   "outputs": [
    {
     "name": "stdout",
     "output_type": "stream",
     "text": [
      "{'results': [{'fsq_id': '4aff400ef964a520733622e3', 'categories': [{'id': 10004, 'name': 'Art Gallery', 'icon': {'prefix': 'https://ss3.4sqi.net/img/categories_v2/arts_entertainment/artgallery_', 'suffix': '.png'}}], 'chains': [], 'distance': 38, 'geocodes': {'main': {'latitude': 36.554919, 'longitude': -121.922864}, 'roof': {'latitude': 36.554919, 'longitude': -121.922864}}, 'link': '/v3/places/4aff400ef964a520733622e3', 'location': {'address': '200 Ocean Blvd', 'census_block': '060530118022015', 'country': 'US', 'dma': 'Monterey-Salinas', 'formatted_address': '200 Ocean Blvd, Carmel, CA 93921', 'locality': 'Carmel', 'postcode': '93921', 'region': 'CA'}, 'name': 'Gallerie Rue Royale', 'related_places': {}, 'timezone': 'America/Los_Angeles'}, {'fsq_id': '4c6d7093d5c3a1cd6a79c52b', 'categories': [{'id': 10004, 'name': 'Art Gallery', 'icon': {'prefix': 'https://ss3.4sqi.net/img/categories_v2/arts_entertainment/artgallery_', 'suffix': '.png'}}], 'chains': [], 'distance': 39, 'geocodes': {'main': {'latitude': 36.555547, 'longitude': -121.923323}, 'roof': {'latitude': 36.555547, 'longitude': -121.923323}}, 'link': '/v3/places/4c6d7093d5c3a1cd6a79c52b', 'location': {'address': 'Lincoln St', 'census_block': '060530118011041', 'country': 'US', 'cross_street': '', 'dma': 'Monterey-Salinas', 'formatted_address': 'Lincoln St, Carmel, CA 93921', 'locality': 'Carmel', 'postcode': '93921', 'region': 'CA'}, 'name': 'Dawson Cole Fine Art', 'related_places': {}, 'timezone': 'America/Los_Angeles'}, {'fsq_id': '4feb5ceae4b0a4b22accc4da', 'categories': [{'id': 10004, 'name': 'Art Gallery', 'icon': {'prefix': 'https://ss3.4sqi.net/img/categories_v2/arts_entertainment/artgallery_', 'suffix': '.png'}}], 'chains': [], 'distance': 44, 'geocodes': {'main': {'latitude': 36.555501, 'longitude': -121.923037}, 'roof': {'latitude': 36.555501, 'longitude': -121.923037}}, 'link': '/v3/places/4feb5ceae4b0a4b22accc4da', 'location': {'address': '2 Dolores St', 'census_block': '060530118011041', 'country': 'US', 'cross_street': '', 'dma': 'Monterey-Salinas', 'formatted_address': '2 Dolores St, Carmel, CA 93921', 'locality': 'Carmel', 'postcode': '93921', 'region': 'CA'}, 'name': 'Gallery Sur', 'related_places': {}, 'timezone': 'America/Los_Angeles'}, {'fsq_id': '4c5218caf31a9c74887c76ea', 'categories': [{'id': 10004, 'name': 'Art Gallery', 'icon': {'prefix': 'https://ss3.4sqi.net/img/categories_v2/arts_entertainment/artgallery_', 'suffix': '.png'}}], 'chains': [], 'distance': 64, 'geocodes': {'main': {'latitude': 36.555797, 'longitude': -121.921632}, 'roof': {'latitude': 36.555797, 'longitude': -121.921632}}, 'link': '/v3/places/4c5218caf31a9c74887c76ea', 'location': {'address': 'Ocean Ave', 'census_block': '060530118011024', 'country': 'US', 'cross_street': '6th', 'dma': 'Monterey-Salinas', 'formatted_address': 'Ocean Ave (6th), Carmel, CA 93921', 'locality': 'Carmel', 'postcode': '93921', 'region': 'CA'}, 'name': 'Classic Art Gallery', 'related_places': {}, 'timezone': 'America/Los_Angeles'}, {'fsq_id': '4c27c417ce3fc928b8306c88', 'categories': [{'id': 10004, 'name': 'Art Gallery', 'icon': {'prefix': 'https://ss3.4sqi.net/img/categories_v2/arts_entertainment/artgallery_', 'suffix': '.png'}}], 'chains': [], 'distance': 69, 'geocodes': {'main': {'latitude': 36.554938, 'longitude': -121.922581}, 'roof': {'latitude': 36.554938, 'longitude': -121.922581}}, 'link': '/v3/places/4c27c417ce3fc928b8306c88', 'location': {'address': 'Dolores St', 'census_block': '060530118022014', 'country': 'US', 'cross_street': 'Ocean', 'dma': 'Monterey-Salinas', 'formatted_address': 'Dolores St (Ocean), Carmel, CA 93921', 'locality': 'Carmel', 'postcode': '93921', 'region': 'CA'}, 'name': 'Photography West Gallery', 'related_places': {}, 'timezone': 'America/Los_Angeles'}, {'fsq_id': '4bd878b9dc4b9521f53a7988', 'categories': [{'id': 10004, 'name': 'Art Gallery', 'icon': {'prefix': 'https://ss3.4sqi.net/img/categories_v2/arts_entertainment/artgallery_', 'suffix': '.png'}}], 'chains': [], 'distance': 73, 'geocodes': {'main': {'latitude': 36.554845, 'longitude': -121.922505}, 'roof': {'latitude': 36.554845, 'longitude': -121.922505}}, 'link': '/v3/places/4bd878b9dc4b9521f53a7988', 'location': {'address': 'Dolores St', 'census_block': '060530118022014', 'country': 'US', 'cross_street': 'btw Ocean Ave and 7th Ave', 'dma': 'Monterey-Salinas', 'formatted_address': 'Dolores St (btw Ocean Ave and 7th Ave), Carmel, CA 93921', 'locality': 'Carmel', 'postcode': '93921', 'region': 'CA'}, 'name': 'Balyon Gallery', 'related_places': {}, 'timezone': 'America/Los_Angeles'}, {'fsq_id': '4c33520166e40f47ffc5c78b', 'categories': [{'id': 10004, 'name': 'Art Gallery', 'icon': {'prefix': 'https://ss3.4sqi.net/img/categories_v2/arts_entertainment/artgallery_', 'suffix': '.png'}}], 'chains': [], 'distance': 90, 'geocodes': {'main': {'latitude': 36.555774, 'longitude': -121.922909}, 'roof': {'latitude': 36.555774, 'longitude': -121.922909}}, 'link': '/v3/places/4c33520166e40f47ffc5c78b', 'location': {'address': 'Dolores St', 'census_block': '060530118011022', 'country': 'US', 'cross_street': 'Sixth St', 'dma': 'Monterey-Salinas', 'formatted_address': 'Dolores St (Sixth St), Carmel, CA 93921', 'locality': 'Carmel', 'postcode': '93921', 'region': 'CA'}, 'name': \"Steven Whyte's Sculpture Studio and Gallery\", 'related_places': {}, 'timezone': 'America/Los_Angeles'}, {'fsq_id': '51c77096498e8dcdaf96381a', 'categories': [{'id': 10004, 'name': 'Art Gallery', 'icon': {'prefix': 'https://ss3.4sqi.net/img/categories_v2/arts_entertainment/artgallery_', 'suffix': '.png'}}], 'chains': [], 'distance': 99, 'geocodes': {'main': {'latitude': 36.55453, 'longitude': -121.923696}, 'roof': {'latitude': 36.55453, 'longitude': -121.923696}}, 'link': '/v3/places/51c77096498e8dcdaf96381a', 'location': {'address': '2 Lincoln St', 'census_block': '060530118022016', 'country': 'US', 'cross_street': '', 'dma': 'Monterey-Salinas', 'formatted_address': '2 Lincoln St, Carmel, CA 93921', 'locality': 'Carmel', 'postcode': '93921', 'region': 'CA'}, 'name': 'Kevin Milligan Gallery', 'related_places': {}, 'timezone': 'America/Los_Angeles'}, {'fsq_id': '4f25e527e4b0e120832520be', 'categories': [{'id': 10004, 'name': 'Art Gallery', 'icon': {'prefix': 'https://ss3.4sqi.net/img/categories_v2/arts_entertainment/artgallery_', 'suffix': '.png'}}], 'chains': [], 'distance': 102, 'geocodes': {'main': {'latitude': 36.555279, 'longitude': -121.921959}, 'roof': {'latitude': 36.555279, 'longitude': -121.921959}}, 'link': '/v3/places/4f25e527e4b0e120832520be', 'location': {'address': 'Ocean Ave', 'census_block': '060530118011040', 'country': 'US', 'cross_street': 'San Carlos', 'dma': 'Monterey-Salinas', 'formatted_address': 'Ocean Ave (San Carlos), Carmel, CA 93923', 'locality': 'Carmel', 'postcode': '93923', 'region': 'CA'}, 'name': 'Galerie Rue Toulouse', 'related_places': {}, 'timezone': 'America/Los_Angeles'}, {'fsq_id': '57658ba2498e5cb901db81a9', 'categories': [{'id': 10004, 'name': 'Art Gallery', 'icon': {'prefix': 'https://ss3.4sqi.net/img/categories_v2/arts_entertainment/artgallery_', 'suffix': '.png'}}], 'chains': [], 'distance': 109, 'geocodes': {'main': {'latitude': 36.555945, 'longitude': -121.92235}, 'roof': {'latitude': 36.555945, 'longitude': -121.92235}}, 'link': '/v3/places/57658ba2498e5cb901db81a9', 'location': {'address': '[1 - 26399] Dolores St', 'census_block': '060530118011023', 'country': 'US', 'cross_street': '', 'dma': 'Monterey-Salinas', 'formatted_address': '[1 - 26399] Dolores St, Carmel, CA 93923', 'locality': 'Carmel', 'postcode': '93923', 'region': 'CA'}, 'name': 'Ex-Tempore', 'related_places': {}, 'timezone': 'America/Los_Angeles'}], 'context': {'geo_bounds': {'circle': {'center': {'latitude': 36.55524, 'longitude': -121.92329}, 'radius': 1108}}}}\n",
      " \n",
      "[[36.554919, -121.922864, '200 Ocean Blvd, Carmel, CA 93921', 'Gallerie Rue Royale'], [36.555547, -121.923323, 'Lincoln St, Carmel, CA 93921', 'Dawson Cole Fine Art'], [36.555501, -121.923037, '2 Dolores St, Carmel, CA 93921', 'Gallery Sur'], [36.555797, -121.921632, 'Ocean Ave (6th), Carmel, CA 93921', 'Classic Art Gallery'], [36.554938, -121.922581, 'Dolores St (Ocean), Carmel, CA 93921', 'Photography West Gallery'], [36.554845, -121.922505, 'Dolores St (btw Ocean Ave and 7th Ave), Carmel, CA 93921', 'Balyon Gallery'], [36.555774, -121.922909, 'Dolores St (Sixth St), Carmel, CA 93921', \"Steven Whyte's Sculpture Studio and Gallery\"], [36.55453, -121.923696, '2 Lincoln St, Carmel, CA 93921', 'Kevin Milligan Gallery'], [36.555279, -121.921959, 'Ocean Ave (San Carlos), Carmel, CA 93923', 'Galerie Rue Toulouse'], [36.555945, -121.92235, '[1 - 26399] Dolores St, Carmel, CA 93923', 'Ex-Tempore']]\n"
     ]
    }
   ],
   "source": [
    "import requests\n",
    "import csv\n",
    "\n",
    "# This program gets location data on businesses requested using the Foursquare API\n",
    "\n",
    "url = \"https://api.foursquare.com/v3/places/search\"\n",
    "params = {\n",
    "  \"query\": \"art gallery\",      #name/category\n",
    "  \"near\": \"Carmel, CA\",\n",
    "  \"open_now\": \"False\",\n",
    "  \"sort\":\"DISTANCE\"\n",
    "}\n",
    "headers = {\n",
    "    \"Accept\": \"application/json\",\n",
    "    \"Authorization\": \"fsq3h6yOj5hMFwW/HHuY5RY78TxsLFCL7GQ3J/t8auNT2YE=\"\n",
    "}\n",
    "response = requests.request(\"GET\", url, params=params, headers=headers)\n",
    "\n",
    "gallery_json = response.json() #converts to dictionary type\n",
    "print(gallery_json)\n",
    "\n",
    "new_data = []\n",
    "\n",
    "for item in gallery_json['results']:\n",
    "    \n",
    "    listing = [item['geocodes']['main']['latitude'],item['geocodes']['main']['longitude'],\n",
    "               item['location']['formatted_address'],item['name']]\n",
    "    new_data.append(listing)\n",
    "    \n",
    "print(' ')\n",
    "print(new_data)\n",
    "\n",
    "\n",
    "\n",
    "with open(\"Sac_galleries.csv\", \"w\", newline ='') as f: \n",
    "    thewriter = csv.writer(f, delimiter=',')\n",
    "    thewriter.writerows(new_data)    \n",
    "\n"
   ]
  },
  {
   "cell_type": "code",
   "execution_count": null,
   "metadata": {},
   "outputs": [],
   "source": []
  },
  {
   "cell_type": "code",
   "execution_count": null,
   "metadata": {},
   "outputs": [],
   "source": []
  }
 ],
 "metadata": {
  "kernelspec": {
   "display_name": "Python 3 (ipykernel)",
   "language": "python",
   "name": "python3"
  },
  "language_info": {
   "codemirror_mode": {
    "name": "ipython",
    "version": 3
   },
   "file_extension": ".py",
   "mimetype": "text/x-python",
   "name": "python",
   "nbconvert_exporter": "python",
   "pygments_lexer": "ipython3",
   "version": "3.9.12"
  }
 },
 "nbformat": 4,
 "nbformat_minor": 4
}

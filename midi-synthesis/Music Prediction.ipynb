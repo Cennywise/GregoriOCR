{
 "cells": [
  {
   "cell_type": "markdown",
   "id": "034abf95",
   "metadata": {},
   "source": [
    "# <center>Music Prediction</center>\n",
    "\n",
    "\n",
    "In this file, we use a neural network to predict the genre of music from 8 bars.\n",
    "\n",
    "We copied a lot from Homework 4 because we have already done the work of creating neural networks."
   ]
  },
  {
   "cell_type": "markdown",
   "id": "c22bc9fe",
   "metadata": {},
   "source": [
    "# Essential imports and ground constants\n",
    "Run everything in the following cells to get basic data and imports."
   ]
  },
  {
   "cell_type": "code",
   "execution_count": 1,
   "id": "1d989dbc",
   "metadata": {},
   "outputs": [],
   "source": [
    "import os\n",
    "import json\n",
    "import mido\n",
    "from mido import MidiFile\n",
    "import numpy as np\n",
    "import matplotlib.pyplot as plt\n",
    "from numpy import linalg as LA\n",
    "import plotly\n",
    "import plotly.graph_objects as go\n",
    "import random, time\n",
    "from collections import Counter\n",
    "from sklearn.model_selection import train_test_split\n",
    "import json\n",
    "import math\n",
    "from sklearn.datasets import fetch_openml"
   ]
  },
  {
   "cell_type": "code",
   "execution_count": 2,
   "id": "6bfb3a1b",
   "metadata": {},
   "outputs": [],
   "source": [
    "##make sure to set WORKING_DIRECTORY to where the 'Data' folder is at\n",
    "WORKING_DIRECTORY = r\"C:\\Users\\timot\\Documents\\GitHub\\MAT_180_ML_Projects\\midi-synthesis\\Data\"\n",
    "\n",
    "##this specifies how deep to search every folder in 'Data'.\n",
    "FILE_DEPTH = 3\n",
    "\n",
    "##this specifies how many notes we want to compute later, quantized to sixteenth notes\n",
    "##so 8 bars in common time is equal to a capacity of 128\n",
    "CAPACITY = 256\n",
    "\n",
    "##if our dataset grows, change this to reflect new genres added\n",
    "##alternatively, we can use the number of keys in genres_dict instead.\n",
    "UNIQUE_GENRES = 18"
   ]
  },
  {
   "cell_type": "markdown",
   "id": "06b1d671",
   "metadata": {},
   "source": [
    "# Forming genres_dict\n",
    "From the folder 'Data', we create a dictionary `genres_dict` which contains keys as genres and elements of that key as lists of music associated with that genre. If you want to load the entire set which contains corrupted data as well, run the following cell. If not, skip to <b>Load Uncorrupted Genres_Dict</b>"
   ]
  },
  {
   "cell_type": "code",
   "execution_count": 4,
   "id": "249cb79f",
   "metadata": {},
   "outputs": [
    {
     "name": "stdout",
     "output_type": "stream",
     "text": [
      "18 genres found\n",
      "Genres: dict_keys(['Ambient', 'Blues', 'Children', 'Classical', 'Country', 'Electronic', 'Folk', 'Jazz', 'Latin', 'Pop', 'Rap', 'Reggae', 'Religious', 'Rock', 'Soul', 'Soundtracks', 'Unknown', 'World'])\n",
      "\n",
      "genres_dict has 11075 elements\n"
     ]
    }
   ],
   "source": [
    "# collects midi files from a given folder\n",
    "def collect_midi_files(midi_files):\n",
    "    for element in os.listdir():\n",
    "        if os.path.isdir(os.getcwd() + \"/\" + element):\n",
    "            # print(f'folder: {element}')\n",
    "            os.chdir(os.getcwd() + \"/\" + element)\n",
    "            midi_files = collect_midi_files(midi_files)\n",
    "            os.chdir(\"..\")\n",
    "        elif element.endswith(\".mid\"): # change to .mid\n",
    "            # print(f'file: {element}')\n",
    "            midi_files.append(element)\n",
    "    return midi_files\n",
    "\n",
    "os.chdir(WORKING_DIRECTORY)\n",
    "\n",
    "genres_dict = {}\n",
    "\n",
    "for element in os.listdir():\n",
    "    if os.path.isdir(os.getcwd() + \"/\" + element):\n",
    "        os.chdir(os.getcwd() + \"/\" + element)\n",
    "        midi_names = []\n",
    "        midi_names = collect_midi_files(midi_names)\n",
    "        if midi_names != []:\n",
    "            genres_dict[element] = midi_names\n",
    "        os.chdir(\"..\")\n",
    "\n",
    "print(f'{len(genres_dict)} genres found')\n",
    "print(f'Genres: {genres_dict.keys()}')\n",
    "\n",
    "count = 0\n",
    "for keys in genres_dict.keys():\n",
    "    for list in genres_dict[keys]:\n",
    "        count += 1\n",
    "        \n",
    "print(\"\\ngenres_dict has\",count,\"elements\")"
   ]
  },
  {
   "cell_type": "markdown",
   "id": "8b3be3ed",
   "metadata": {},
   "source": [
    "Like many massive datasets uncautiously curated, there are corrupted data. Below is an example"
   ]
  },
  {
   "cell_type": "code",
   "execution_count": 7,
   "id": "62003353",
   "metadata": {},
   "outputs": [],
   "source": [
    "# #example corrupted Midi file\n",
    "# mid = getMidiFile('Fig Leaf Rag.mid')"
   ]
  },
  {
   "cell_type": "markdown",
   "id": "81efe3b1",
   "metadata": {},
   "source": [
    "This method below removes all corrupted data from genres_dict. Running cleanData() will take approximately an hour."
   ]
  },
  {
   "cell_type": "code",
   "execution_count": 13,
   "id": "e79143d0",
   "metadata": {},
   "outputs": [],
   "source": [
    "def memoize(f):\n",
    "    Cache = {}\n",
    "    \n",
    "    def f_memoized(*args):\n",
    "        if (f, args) in Cache:\n",
    "            return Cache[(f, args)]\n",
    "        result = f(*args)\n",
    "        Cache[(f, args)] = result\n",
    "        return result\n",
    "    \n",
    "    return f_memoized\n",
    "\n",
    "# # genres_dict = {'Ambient':['Fig Leaf Rag.mid','Edvard Grieg Ich liebe dich.mid']}\n",
    "# @memoize\n",
    "# def cleanData():\n",
    "#     errorCount = 0\n",
    "#     count = 0\n",
    "#     for keys in genres_dict.keys():\n",
    "#         for item in genres_dict[keys]:\n",
    "#             if count%100 == 0 and count > 1:\n",
    "#                 print(\"Went through\",count,\"files so far.\")\n",
    "#             try:\n",
    "#                 getMidiFile(item)\n",
    "#             except:\n",
    "#                 genres_dict[keys].remove(item)\n",
    "#                 errorCount += 1\n",
    "#             count += 1\n",
    "\n",
    "#     count = 0\n",
    "#     for keys in genres_dict.keys():\n",
    "#         for list in genres_dict[keys]:\n",
    "#             count += 1\n",
    "#     print(\"There were\",errorCount,\"corrupted files.\")\n",
    "#     print(\"Uncorrupted genres_dict has\",count,\"files.\")"
   ]
  },
  {
   "cell_type": "code",
   "execution_count": 9,
   "id": "67944391",
   "metadata": {},
   "outputs": [],
   "source": [
    "# ##takes approximately an hour\n",
    "# cleanData()"
   ]
  },
  {
   "cell_type": "markdown",
   "id": "bbc29646",
   "metadata": {},
   "source": [
    "# Load Uncorrupted genres_dict\n",
    "This cell below returns `genres_dict` just like above, but without corrupted files and is much faster."
   ]
  },
  {
   "cell_type": "code",
   "execution_count": 11,
   "id": "ebd0cc61",
   "metadata": {},
   "outputs": [
    {
     "name": "stdout",
     "output_type": "stream",
     "text": [
      "18 genres found\n",
      "Genres: dict_keys(['Ambient', 'Blues', 'Children', 'Classical', 'Country', 'Electronic', 'Folk', 'Jazz', 'Latin', 'Pop', 'Rap', 'Reggae', 'Religious', 'Rock', 'Soul', 'Soundtracks', 'Unknown', 'World'])\n",
      "\n",
      "Uncorrupted genres_dict has 11000 elements\n"
     ]
    }
   ],
   "source": [
    "os.chdir(WORKING_DIRECTORY)\n",
    "os.chdir(\"..\")\n",
    "\n",
    "with open('uncorrupted.txt') as f:\n",
    "    data = f.read()\n",
    "\n",
    "genres_dict = json.loads(data)\n",
    "\n",
    "print(f'{len(genres_dict)} genres found')\n",
    "print(f'Genres: {genres_dict.keys()}')\n",
    "\n",
    "count = 0\n",
    "for keys in genres_dict.keys():\n",
    "    for list in genres_dict[keys]:\n",
    "        count += 1\n",
    "\n",
    "print(\"\\nUncorrupted genres_dict has\",count,\"elements\")"
   ]
  },
  {
   "cell_type": "markdown",
   "id": "99bffeeb",
   "metadata": {},
   "source": [
    "# Important methods\n",
    "Run everything below to get necessary methods for the neural network"
   ]
  },
  {
   "cell_type": "code",
   "execution_count": 14,
   "id": "572ec5f8",
   "metadata": {},
   "outputs": [],
   "source": [
    "def getNotes(mid,trackNo):\n",
    "    notes = []\n",
    "    for msg in mid.tracks[trackNo]:\n",
    "        if msg.type == 'note_on':\n",
    "            notes.append(msg)\n",
    "    return notes  \n",
    "\n",
    "def getNotesTrack(track):\n",
    "    notes = []\n",
    "    for msg in track:\n",
    "        if msg.type == 'note_on':\n",
    "            notes.append(msg)\n",
    "    return notes\n",
    "\n",
    "def quantize16(notes):\n",
    "    for i in range(len(notes)):\n",
    "        if notes[i].velocity == 0 and notes[i].time > 50 and notes[i].time <= 60:\n",
    "            notes[i] = notes[i].copy(time = 113)\n",
    "    return notes\n",
    "\n",
    "def absolutize(notes):\n",
    "    #this methods returns a dictionary with notes matching the exact time\n",
    "    for i in range(1,len(notes)):\n",
    "        notes[i] = notes[i].copy(time = notes[i].time + notes[i-1].time)\n",
    "    return notes\n",
    "\n",
    "def trim(notes,capacity, pad = True):\n",
    "    trimmed = []\n",
    "    count = 0\n",
    "    while count < capacity and count < len(notes):\n",
    "        trimmed.append(notes[count])\n",
    "        count += 1\n",
    "    if pad == True:\n",
    "        emptyNote = mido.Message('note_on', velocity = 0)\n",
    "        while len(trimmed) < capacity:\n",
    "            trimmed.append(emptyNote)\n",
    "    return trimmed\n",
    "\n",
    "@memoize\n",
    "def getMidiFile(name):\n",
    "    os.chdir(WORKING_DIRECTORY)\n",
    "    found = False\n",
    "    depth = FILE_DEPTH\n",
    "    ##should never return \"File not found!\" if you are using genres_dict\n",
    "    return getMidiFileRecur(name,found,depth)\n",
    "\n",
    "getMidiFile = memoize(getMidiFile)\n",
    "    \n",
    "def getMidiFileRecur(name,found,depth):\n",
    "    if depth >= 1:\n",
    "        for element in os.listdir():\n",
    "            if os.path.isdir(os.getcwd() + \"/\" + element):\n",
    "                os.chdir(os.getcwd() + \"/\" + element)\n",
    "                midi_names = []\n",
    "                midi_names = collect_midi_files(midi_names)\n",
    "                if name in midi_names:\n",
    "                    found = True\n",
    "                    return getMidiFileRecur(name,found,depth-1)\n",
    "                    break\n",
    "                os.chdir(\"..\")\n",
    "    else:\n",
    "        if found == True:\n",
    "            return MidiFile(name, clip = True)\n",
    "        else:\n",
    "            return \"File not found!\"\n",
    "    return \"File not found!\"\n",
    "\n",
    "#takes a MidiFile and returns only the trimmed notes\n",
    "def compress(midiFile, pad = True):\n",
    "    list = []\n",
    "    for tracks in midiFile.tracks:\n",
    "        list.append(tracks)\n",
    "    \n",
    "    merged = mido.merge_tracks(list)\n",
    "    merged = getNotesTrack(merged)\n",
    "    merged = trim(merged, CAPACITY, pad)\n",
    "    \n",
    "    return merged\n",
    "\n",
    "def decoder(array):\n",
    "    list = []\n",
    "    for keys in genres_dict.keys():\n",
    "        list.append(keys)\n",
    "    index = np.argmax(array)\n",
    "\n",
    "    return list[index]\n"
   ]
  },
  {
   "cell_type": "code",
   "execution_count": 15,
   "id": "cc5ecc61",
   "metadata": {},
   "outputs": [
    {
     "name": "stdout",
     "output_type": "stream",
     "text": [
      "Country , Still Crazy After All These Years.mid\n"
     ]
    }
   ],
   "source": [
    "##create the dataset and associated labels\n",
    "##first pick random genre, and then pick a random song from that genre\n",
    "genre = random.sample(sorted(genres_dict),1)[0]\n",
    "music = random.sample(genres_dict[genre],1)[0]\n",
    "\n",
    "print(genre,\",\",music)"
   ]
  },
  {
   "cell_type": "code",
   "execution_count": 16,
   "id": "c61a4088",
   "metadata": {},
   "outputs": [],
   "source": [
    "#this returns a dictionary \n",
    "def genADLData(size):\n",
    "    list = []\n",
    "    for key in genres_dict.keys():\n",
    "        list.append(key)\n",
    "    genres = []\n",
    "     \n",
    "    for i in range(size):\n",
    "        r = random.randint(0,len(list)-1)\n",
    "        genres.append(list[r])\n",
    "    \n",
    "    music = []\n",
    "    for item in genres:\n",
    "        music = music + random.sample(genres_dict[item],1)    \n",
    "    return genres,music\n",
    "\n",
    "#gets MidiFiles from a list with str music entires\n",
    "def getMidiList(musicList):\n",
    "    for i in range(len(musicList)):\n",
    "        musicList[i] = getMidiFile(musicList[i])\n",
    "    return musicList\n",
    "        \n",
    "#gets only notes from a list with str music entries\n",
    "def getNotesFromList(musicList):\n",
    "    for i in range(len(musicList)):\n",
    "        try:\n",
    "            musicList[i] = compress(getMidiFile(musicList[i]))\n",
    "        except:\n",
    "            print(musicList[i],\"causes error\")\n",
    "    return musicList\n",
    "        \n",
    "# print(music)\n",
    "# print(len(getNotesFromList(music)[1]))"
   ]
  },
  {
   "cell_type": "code",
   "execution_count": 31,
   "id": "48add7e7",
   "metadata": {},
   "outputs": [],
   "source": [
    "# run this cell to import needed modules and define plotting functions (no input needed)\n",
    "# function to plot costs\n",
    "def plot_costs(costs):\n",
    "    plt.plot(costs)\n",
    "    plt.xlabel(\"iterations\")\n",
    "    plt.ylabel(\"cost\")\n",
    "    plt.show()\n",
    "    \n",
    "# function to plot costs\n",
    "def plot_grads(grads):\n",
    "    plt.plot(grads)\n",
    "    plt.xlabel(\"iterations\")\n",
    "    plt.ylabel(\"gradient norm\")\n",
    "    plt.show()\n",
    "\n",
    "# defining a function to plot data\n",
    "def plot_data(X,Y,size_ = 2):\n",
    "    m = len(X)\n",
    "    plot_figure = go.Figure(data=[go.Scatter3d(x=X[:,0], y=X[:,1], z=[r[0] for r in Y], mode='markers',marker=dict(size=size_))])\n",
    "    plotly.offline.iplot(plot_figure)\n",
    "\n",
    "# defining a function to plot models fit\n",
    "def plot_fit(X,Y,W,B,G,size_ = 2):\n",
    "    trace = go.Scatter3d(x=X[:,0], y=X[:,1], z=[r[0] for r in Y], mode='markers',marker=dict(size=size_))\n",
    "    xs,ys = X[:,0],X[:,1]\n",
    "    xxx = np.outer(np.linspace(min(xs), max(xs), 30), np.ones(30))\n",
    "    yyy = np.outer(np.linspace(min(ys), max(ys), 30), np.ones(30)).T\n",
    "    zzz = np.zeros([30,30])\n",
    "    D = len(G)-1\n",
    "    for i in range(30):\n",
    "        for j in range(30):\n",
    "            zzz[i,j] = feedforward(W,B,G,np.array([xxx[i,j],yyy[i,j]]))[D][0]\n",
    "    # Configure the layout.\n",
    "    layout = go.Layout(margin={'l': 0, 'r': 0, 'b': 0, 't': 0})\n",
    "    data = [trace,go.Surface(x=xxx, y=yyy, z=zzz, showscale=False, opacity=0.5)]\n",
    "    # Render the plot.\n",
    "    plot_figure = go.Figure(data=data, layout=layout)\n",
    "    plot_figure.update_layout(\n",
    "        scene = dict(\n",
    "            xaxis = dict(nticks=4, range=[min(X[:,0]),max(X[:,0])],),\n",
    "            yaxis = dict(nticks=4, range=[min(X[:,1]),max(X[:,1])],),\n",
    "            zaxis = dict(nticks=4, range=[min(Y),max(Y)],),),\n",
    "        width=700,\n",
    "        margin=dict(r=20, l=10, b=10, t=10))\n",
    "    plotly.offline.iplot(plot_figure)"
   ]
  },
  {
   "cell_type": "markdown",
   "id": "43e9e5e7",
   "metadata": {},
   "source": [
    "## Activation Functions\n",
    "\n",
    "Here we define the functions `ReLU`, `Linear`, `Sigmoid`, `Squared`, and `Softmax`. They return the derivative or the correct output vector, depending on how they are called.\n",
    "\n",
    "We also define the `loss` function with inputs `Nx`, `y`, `cost_type='se'`, and `deriv=False`, which will return the per-example loss function when `deriv=False` and returns the derivative when `deriv=True`. We will only use squared error cost, but `ce` and `bce` are defined here because it does not hurt to have."
   ]
  },
  {
   "cell_type": "code",
   "execution_count": 17,
   "id": "b6aed056",
   "metadata": {},
   "outputs": [],
   "source": [
    "def ReLU(x,deriv = False):\n",
    "    if deriv == True:\n",
    "        Hx = []\n",
    "        for element in x:\n",
    "            if element >= 0:\n",
    "                Hx = Hx + [1]\n",
    "            else:\n",
    "                Hx = Hx + [0]\n",
    "        return np.diag(np.array(Hx)) \n",
    "    else:\n",
    "        Hx = []\n",
    "        for element in x:\n",
    "            if element >= 0:\n",
    "                Hx = Hx + [element]\n",
    "            else:\n",
    "                Hx = Hx + [0]\n",
    "        return np.array(Hx)\n",
    "\n",
    "def Linear(x,deriv = False):\n",
    "    if deriv == True:\n",
    "        if type(x) != np.ndarray:\n",
    "            return np.array([1])\n",
    "        else:\n",
    "            return np.eye(x.shape[0])\n",
    "    else:\n",
    "        Lx = []\n",
    "        for element in x:\n",
    "            Lx = Lx + [element]\n",
    "        return np.array(Lx)\n",
    "\n",
    "def Sigmoid(x,deriv = False):\n",
    "    if deriv == True:\n",
    "        y = Sigmoid(x,deriv = False)\n",
    "        ones = np.ones(y.shape)\n",
    "        return np.diag( y*(ones - y) )  \n",
    "    else:\n",
    "        Sgx = []\n",
    "        for element in x:\n",
    "            Sgx = Sgx + [1/(1+math.e**(-element))]\n",
    "        return np.array(Sgx)\n",
    "\n",
    "def Squared(x,deriv = False):\n",
    "    if deriv == True:\n",
    "        return np.diag( 2*x)  \n",
    "    else:\n",
    "        Sqx = []\n",
    "        for element in x:\n",
    "            Sqx = Sqx + [element**2]\n",
    "        return np.array(Sqx)\n",
    "\n",
    "def Softmax(x,deriv = False):\n",
    "    if deriv == True:\n",
    "        G = Softmax(x,deriv = False)\n",
    "        return np.diag(G) - G@G.T\n",
    "    else:\n",
    "        SoftmaxList = []\n",
    "        denom = []\n",
    "        \n",
    "        for i in range(0,len(x)):\n",
    "            denom = denom + [math.e**x[i]]\n",
    "        denom = sum(denom)\n",
    "        \n",
    "        for element in x:\n",
    "                SoftmaxList = SoftmaxList + [math.e**element/denom]\n",
    "        return np.array(SoftmaxList)\n",
    "\n",
    "def loss(Nx,y,cost_type,deriv = False):\n",
    "    if deriv == True:\n",
    "        if cost_type == 'ce':\n",
    "            return -1*y.T*(1/Nx)    \n",
    "        elif cost_type == 'bce': \n",
    "            return -y/Nx + (1-y)/(1-Nx)  \n",
    "        else: \n",
    "            return 2*(Nx-y).T    \n",
    "    else:\n",
    "        if cost_type == 'ce':\n",
    "            return -1*y.T@np.log(Nx)\n",
    "        if cost_type == 'bce':\n",
    "            return -y.T@np.log(Nx) -(1-y).T@np.log(1-Nx)\n",
    "        \n",
    "        else:\n",
    "            return LA.norm(Nx-y,2)**2"
   ]
  },
  {
   "cell_type": "markdown",
   "id": "2780894e",
   "metadata": {},
   "source": [
    "# Feedforward\n",
    "\n",
    "Here, we define a function `feedforward(W,B,G,x)` where \n",
    "\n",
    "- `W` is a list of matrices with the property that `W[i+1].shape[1] == W[i].shape[0]` for all `i`\n",
    "- `B` is a list of vectors with the property that `B[i].shape == W[i].shape[0]` for all `i`\n",
    "- `G` is a list of activations with length `len(W)+1` where `G[i]` is a function which takes a numpy array of dimension `W[i].shape[0]` as input and gives a numpy array of the same dimension as output. We always take `g[0] = Linear` (usually we would not have an activation here at all but it is convenient to use `Linear` here just as a place holder. Think of it as being the same as not having an activation function at layer 0.)\n",
    "- `x` is an input vector of dimension `W[0].shape[1]`\n",
    "\n",
    "the output is a list `feeds` where `feeds[i]` is the pair `[xi,si]` where `x0 = x`, `s0 = W[0]@x+B[0]`, and for `i>0` we have `x(i+1) = G[i+1](si)` and `si = W[i]@xi+B[i]`. The last entry only has an `x` and no signal (this is the feedforward `Nx` of the network)."
   ]
  },
  {
   "cell_type": "code",
   "execution_count": 18,
   "id": "63a05452",
   "metadata": {},
   "outputs": [],
   "source": [
    "def feedforward(W,B,G,x):\n",
    "    x0 = G[0](x)\n",
    "    s0 = W[0]@x0+B[0]\n",
    "    feeds = [ [x0,s0] ]    \n",
    "    depth = len(W)\n",
    "    for i in range(1,depth):\n",
    "        xi = G[i](feeds[i-1][1])\n",
    "        si = W[i]@xi+B[i]\n",
    "        feeds = feeds + [ [xi,si] ]   \n",
    "    xfinal = G[depth](feeds[depth-1][1])\n",
    "    feeds = feeds + [ xfinal ]\n",
    "    return feeds"
   ]
  },
  {
   "cell_type": "markdown",
   "id": "30305909",
   "metadata": {},
   "source": [
    "# Deltas\n",
    "\n",
    "Here we define a function that computes the deltas as we have defined in class."
   ]
  },
  {
   "cell_type": "code",
   "execution_count": 19,
   "id": "20cf4f1a",
   "metadata": {
    "scrolled": true
   },
   "outputs": [],
   "source": [
    "def deltas(X_feeds,Y,W,B,G,verbose = False, cost_type = 'se'):\n",
    "    depth = len(W)\n",
    "    deltas_dict = {}\n",
    "    deltas_list = []\n",
    "    for key in X_feeds.keys():\n",
    "        Nx = X_feeds[key][-1]\n",
    "        y = Y[key]\n",
    "        sd_1 = X_feeds[key][-2][1]\n",
    "        delta_d_1 = loss(Nx, y, cost_type,deriv = True)@G[depth](sd_1,deriv = True)\n",
    "        deltas_list = deltas_list + [delta_d_1]\n",
    "        for l in range(depth-1,0,-1):\n",
    "            sl = X_feeds[key][l-1][1]\n",
    "            delta = deltas_list[-1]@W[l]@G[l](sl,deriv=True)\n",
    "            deltas_list = deltas_list + [delta]\n",
    "        deltas_list.reverse()\n",
    "        deltas_dict.update({key:deltas_list})\n",
    "    return deltas_dict"
   ]
  },
  {
   "cell_type": "markdown",
   "id": "7d0f462c",
   "metadata": {},
   "source": [
    "# Gradients\n",
    "\n",
    "Here we approximate the gradient of the cost function with respect to the $W^{(l)}$s and $b^{(l)}$s, then return the feedforwards for each row of the data matrix (or the batches that we are using)."
   ]
  },
  {
   "cell_type": "code",
   "execution_count": 20,
   "id": "80f20f5f",
   "metadata": {},
   "outputs": [],
   "source": [
    "def grads(X,Y,W,B,G,batch, lambda_ = 0, verbose = False,cost_type = 'se'):\n",
    "    X_feeds = {}\n",
    "    for i in batch:\n",
    "        xi = X[i,:]\n",
    "        X_feeds.update({i:feedforward(W,B,G,xi)})\n",
    "    depth = len(W)\n",
    "    dWs,dBs = [],[]\n",
    "    X_deltas = deltas(X_feeds,Y,W,B,G,verbose, cost_type)\n",
    "    for l in range(depth):\n",
    "        dWsum = 0\n",
    "        dBsum = 0\n",
    "        for i in batch:\n",
    "            x_l = X_feeds[i][l][0]\n",
    "            x_delta_l = X_deltas[i][l]\n",
    "            dWsum = dWsum + np.outer(x_delta_l,x_l) + 2*lambda_*W[l]\n",
    "            dBsum = dBsum + x_delta_l\n",
    "        dWs = dWs + [1/len(batch)*dWsum]\n",
    "        dBs = dBs + [1/len(batch)*dBsum]\n",
    "    return dWs,dBs,X_feeds"
   ]
  },
  {
   "cell_type": "markdown",
   "id": "c8df5b6d",
   "metadata": {},
   "source": [
    "# Neural Network implementation\n",
    "\n",
    "And this is the fit function, which runs the neural network and prints out the cost 30 times, spread out evenly along `max_iters`."
   ]
  },
  {
   "cell_type": "code",
   "execution_count": 21,
   "id": "67b5e4ae",
   "metadata": {},
   "outputs": [],
   "source": [
    "#max_iters should be a multiple of 100\n",
    "def fit(X,Y,arch,G,alpha = 1e-9, momentum = .01, batch_size = 100, \n",
    "        lambda_ = 0, max_iters = 100,verbose = False, cost_type = 'se',print_costs = True):\n",
    "    W,B,VW,VB = [],[],[],[]\n",
    "    D,m = len(G)-1,len(X)\n",
    "    for l in range(D):\n",
    "        W = W + [ np.random.normal( 0, 2/(arch[l]+arch[l+1]), (arch[l+1],arch[l]) ) ]\n",
    "        B = B + [ np.zeros(arch[l+1])]\n",
    "        VW = VW + [np.zeros(W[l].shape)]\n",
    "        VB = VB + [np.zeros(B[l].shape)]\n",
    "    epochs = 0\n",
    "    costs = []\n",
    "    tempcosts = []\n",
    "    grad_norms = []\n",
    "    while epochs <= max_iters:\n",
    "        if epochs%(np.floor(max_iters/30))==0 and print_costs == True and costs != []:\n",
    "            print(f'epoch: {epochs}')\n",
    "            print(f'           cost: {costs[-1]}')\n",
    "        batch = random.sample(range(m),batch_size)\n",
    "        dWs,dBs,feeds = grads(X,Y,W,B,G,batch,lambda_,verbose,cost_type)\n",
    "        for i in range(len(dWs)):\n",
    "            norm = LA.norm(dWs[i],2) + LA.norm(dBs[i],2)\n",
    "            grad_norms = grad_norms + [ norm ]\n",
    "        tempCosts = 0\n",
    "        for i in batch:\n",
    "            Nx = feeds[i][D]\n",
    "            y = Y[i]\n",
    "            J = loss(Nx,y,cost_type)\n",
    "            tempCosts = tempCosts + J/len(batch)\n",
    "        costs = costs + [tempCosts]\n",
    "        for l in range(D):\n",
    "            VW[l] = momentum*VW[l] - alpha*dWs[l]\n",
    "            VB[l] = momentum*VB[l] - alpha*dBs[l]\n",
    "            W[l] = W[l] + VW[l]\n",
    "            B[l] = B[l] + VB[l]\n",
    "        epochs = epochs + 1\n",
    "    return W,B,costs,grad_norms"
   ]
  },
  {
   "cell_type": "markdown",
   "id": "e9997d4f",
   "metadata": {},
   "source": [
    "# Music Prediction\n",
    "\n",
    "The goal of this problem is the classify the music samples correctly. This is similar to the multiclass classifier used for the iris dataset, and our accuracy functions will actually be exactly the same."
   ]
  },
  {
   "cell_type": "code",
   "execution_count": 22,
   "id": "086c06e4",
   "metadata": {},
   "outputs": [],
   "source": [
    "def predict(W,B,G,x,output_type = 'vector'):\n",
    "    prediction = feedforward(W,B,G,x)[-1]\n",
    "    out = np.zeros(prediction.shape[0])\n",
    "    out[np.argmax(prediction)] = 1\n",
    "    \n",
    "    if output_type == 'vector':\n",
    "        return out\n",
    "    \n",
    "    elif output_type == 'genre':\n",
    "        return decoder(out)"
   ]
  },
  {
   "cell_type": "code",
   "execution_count": 23,
   "id": "99158daa",
   "metadata": {},
   "outputs": [
    {
     "name": "stdout",
     "output_type": "stream",
     "text": [
      "Input size is 256\n",
      "Current directory is pointed to C:\\Users\\timot\\Documents\\GitHub\\MAT_180_ML_Projects\\midi-synthesis\\Data\n",
      "Output size (number of genres) is 18\n"
     ]
    }
   ],
   "source": [
    "#run this cell to get critical information about how our architecture should be, among other info\n",
    "print(\"Input size is\",CAPACITY)\n",
    "print(\"Current directory is pointed to\",WORKING_DIRECTORY)\n",
    "print(\"Output size (number of genres) is\",len(genres_dict.keys()))"
   ]
  },
  {
   "cell_type": "markdown",
   "id": "ff81c9fd",
   "metadata": {},
   "source": [
    "# Forming the dataset\n",
    "\n",
    "Now, we form a dataset from the ADL files. The cell below will generate three copies of the data, one for pitch, velocity and time deltas. Feel free to change value for `size`."
   ]
  },
  {
   "cell_type": "code",
   "execution_count": 24,
   "id": "27b632b5",
   "metadata": {},
   "outputs": [],
   "source": [
    "#shape data into readable form by NN:\n",
    "size = 100 #must be at least 1!\n",
    "\n",
    "#list of genres and names of the music randomly sampled:\n",
    "genres, music = genADLData(size)\n",
    "#since we are not interested in other midi metadata, and we are collapsing all tracks into one (chordizing), we\n",
    "#extract only the notes from the midi file associated with its name.\n",
    "notesList = getNotesFromList(music)\n",
    "\n",
    "#initialize and fill X\n",
    "X = np.atleast_2d(np.array(notesList[0]))\n",
    "for i in range(1,len(notesList)):\n",
    "    X_row = np.atleast_2d(np.array(notesList[i]))\n",
    "    X = np.concatenate((X,X_row),axis = 0)\n",
    "\n",
    "#fill Y, our labels\n",
    "Y = np.atleast_2d(np.array(genres)).T\n",
    "\n",
    "#generate dataset of pitches only:\n",
    "def get_notes_from_dataset(X):\n",
    "    A = np.copy(X)\n",
    "    for example in A:\n",
    "        for i in range(len(example)):\n",
    "            example[i] = example[i].note\n",
    "    return A\n",
    "\n",
    "#generate dataset of velocities only:\n",
    "def get_velocities_from_dataset(X):\n",
    "    A = np.copy(X)\n",
    "    for example in A:\n",
    "        for i in range(len(example)):\n",
    "            example[i] = example[i].velocity\n",
    "    return A\n",
    "\n",
    "#generate dataset of time deltas only:\n",
    "def get_times_from_dataset(X):\n",
    "    A = np.copy(X)\n",
    "    for example in A:\n",
    "        for i in range(len(example)):\n",
    "            example[i] = example[i].time\n",
    "    return A\n",
    "\n",
    "X_pitches = get_notes_from_dataset(X)\n",
    "X_velocities = get_velocities_from_dataset(X)\n",
    "X_times = get_times_from_dataset(X)"
   ]
  },
  {
   "cell_type": "markdown",
   "id": "2d181b88",
   "metadata": {},
   "source": [
    "Now, let's encode `Y` with one-hot encoding. <b>Run this only once after running the previous cell.</b> (For some reason, I keep getting a FutureWarning error; this arises when using == to compare two different object types. But in the code below, everything is a string! I dont know how to solve this)"
   ]
  },
  {
   "cell_type": "code",
   "execution_count": 25,
   "id": "5e8c2a76",
   "metadata": {},
   "outputs": [
    {
     "name": "stderr",
     "output_type": "stream",
     "text": [
      "C:\\Users\\timot\\AppData\\Local\\Temp/ipykernel_13600/992675469.py:14: FutureWarning: elementwise comparison failed; returning scalar instead, but in the future will perform elementwise comparison\n",
      "  if A[i] == list[j]:\n"
     ]
    },
    {
     "data": {
      "text/plain": [
       "'Classical'"
      ]
     },
     "execution_count": 25,
     "metadata": {},
     "output_type": "execute_result"
    }
   ],
   "source": [
    "A = np.copy(Y)\n",
    "\n",
    "length = len(genres_dict.keys())\n",
    "\n",
    "list = []\n",
    "A = A.flatten()\n",
    "A = A.tolist()\n",
    "\n",
    "for keys in genres_dict.keys():\n",
    "    list.append(keys)\n",
    "    \n",
    "for i in range(len(A)):\n",
    "    for j in range(len(list)):\n",
    "        if A[i] == list[j]:\n",
    "            A[i] = np.zeros(len(list))\n",
    "            A[i][j] = 1\n",
    "    \n",
    "decoder(A[0])"
   ]
  },
  {
   "cell_type": "code",
   "execution_count": 26,
   "id": "07e74811",
   "metadata": {},
   "outputs": [
    {
     "name": "stdout",
     "output_type": "stream",
     "text": [
      "[array([0., 0., 0., 1., 0., 0., 0., 0., 0., 0., 0., 0., 0., 0., 0., 0., 0.,\n",
      "       0.]), array([1., 0., 0., 0., 0., 0., 0., 0., 0., 0., 0., 0., 0., 0., 0., 0., 0.,\n",
      "       0.]), array([0., 0., 0., 0., 0., 0., 0., 0., 0., 1., 0., 0., 0., 0., 0., 0., 0.,\n",
      "       0.]), array([0., 0., 0., 0., 1., 0., 0., 0., 0., 0., 0., 0., 0., 0., 0., 0., 0.,\n",
      "       0.]), array([0., 0., 0., 0., 0., 0., 0., 0., 0., 0., 0., 1., 0., 0., 0., 0., 0.,\n",
      "       0.]), array([0., 0., 0., 0., 0., 0., 0., 0., 0., 0., 0., 0., 0., 0., 0., 0., 0.,\n",
      "       1.]), array([0., 0., 0., 0., 0., 0., 0., 0., 1., 0., 0., 0., 0., 0., 0., 0., 0.,\n",
      "       0.]), array([0., 0., 0., 0., 0., 0., 0., 0., 0., 0., 0., 0., 0., 0., 0., 1., 0.,\n",
      "       0.]), array([0., 0., 0., 0., 0., 0., 0., 0., 0., 0., 0., 1., 0., 0., 0., 0., 0.,\n",
      "       0.]), array([0., 0., 0., 0., 0., 0., 0., 0., 0., 0., 0., 0., 0., 0., 0., 1., 0.,\n",
      "       0.]), array([0., 0., 0., 0., 0., 0., 0., 0., 0., 0., 1., 0., 0., 0., 0., 0., 0.,\n",
      "       0.]), array([1., 0., 0., 0., 0., 0., 0., 0., 0., 0., 0., 0., 0., 0., 0., 0., 0.,\n",
      "       0.]), array([0., 0., 0., 0., 1., 0., 0., 0., 0., 0., 0., 0., 0., 0., 0., 0., 0.,\n",
      "       0.]), array([0., 0., 0., 0., 0., 0., 0., 0., 0., 1., 0., 0., 0., 0., 0., 0., 0.,\n",
      "       0.]), array([0., 0., 0., 0., 0., 0., 0., 0., 0., 0., 0., 0., 0., 0., 0., 0., 0.,\n",
      "       1.]), array([0., 0., 0., 0., 0., 0., 0., 0., 0., 0., 0., 0., 0., 0., 0., 0., 1.,\n",
      "       0.]), array([0., 0., 0., 0., 0., 0., 0., 0., 1., 0., 0., 0., 0., 0., 0., 0., 0.,\n",
      "       0.]), array([0., 0., 0., 1., 0., 0., 0., 0., 0., 0., 0., 0., 0., 0., 0., 0., 0.,\n",
      "       0.]), array([0., 0., 0., 0., 0., 0., 0., 1., 0., 0., 0., 0., 0., 0., 0., 0., 0.,\n",
      "       0.]), array([0., 0., 0., 0., 0., 0., 0., 0., 0., 1., 0., 0., 0., 0., 0., 0., 0.,\n",
      "       0.]), array([0., 0., 0., 0., 1., 0., 0., 0., 0., 0., 0., 0., 0., 0., 0., 0., 0.,\n",
      "       0.]), array([0., 0., 0., 0., 0., 0., 0., 0., 0., 0., 0., 0., 0., 0., 1., 0., 0.,\n",
      "       0.]), array([0., 0., 0., 0., 0., 1., 0., 0., 0., 0., 0., 0., 0., 0., 0., 0., 0.,\n",
      "       0.]), array([0., 0., 0., 0., 0., 0., 0., 0., 0., 0., 1., 0., 0., 0., 0., 0., 0.,\n",
      "       0.]), array([0., 0., 0., 0., 1., 0., 0., 0., 0., 0., 0., 0., 0., 0., 0., 0., 0.,\n",
      "       0.]), array([0., 0., 0., 0., 0., 0., 0., 0., 1., 0., 0., 0., 0., 0., 0., 0., 0.,\n",
      "       0.]), array([1., 0., 0., 0., 0., 0., 0., 0., 0., 0., 0., 0., 0., 0., 0., 0., 0.,\n",
      "       0.]), array([0., 0., 0., 0., 0., 0., 0., 0., 0., 0., 0., 0., 0., 0., 0., 0., 1.,\n",
      "       0.]), array([0., 0., 1., 0., 0., 0., 0., 0., 0., 0., 0., 0., 0., 0., 0., 0., 0.,\n",
      "       0.]), array([0., 0., 0., 0., 0., 0., 0., 0., 1., 0., 0., 0., 0., 0., 0., 0., 0.,\n",
      "       0.]), array([1., 0., 0., 0., 0., 0., 0., 0., 0., 0., 0., 0., 0., 0., 0., 0., 0.,\n",
      "       0.]), array([0., 0., 0., 0., 0., 0., 0., 0., 1., 0., 0., 0., 0., 0., 0., 0., 0.,\n",
      "       0.]), array([0., 0., 0., 0., 0., 1., 0., 0., 0., 0., 0., 0., 0., 0., 0., 0., 0.,\n",
      "       0.]), array([0., 0., 0., 0., 0., 0., 1., 0., 0., 0., 0., 0., 0., 0., 0., 0., 0.,\n",
      "       0.]), array([0., 0., 0., 0., 0., 0., 0., 0., 0., 0., 1., 0., 0., 0., 0., 0., 0.,\n",
      "       0.]), array([0., 0., 0., 1., 0., 0., 0., 0., 0., 0., 0., 0., 0., 0., 0., 0., 0.,\n",
      "       0.]), array([0., 0., 0., 0., 0., 0., 0., 1., 0., 0., 0., 0., 0., 0., 0., 0., 0.,\n",
      "       0.]), array([0., 0., 0., 0., 0., 0., 0., 0., 0., 0., 0., 0., 0., 0., 1., 0., 0.,\n",
      "       0.]), array([0., 0., 0., 0., 0., 0., 0., 0., 0., 0., 1., 0., 0., 0., 0., 0., 0.,\n",
      "       0.]), array([0., 0., 0., 0., 0., 0., 0., 1., 0., 0., 0., 0., 0., 0., 0., 0., 0.,\n",
      "       0.]), array([0., 0., 0., 1., 0., 0., 0., 0., 0., 0., 0., 0., 0., 0., 0., 0., 0.,\n",
      "       0.]), array([0., 0., 0., 0., 0., 0., 0., 0., 0., 0., 0., 1., 0., 0., 0., 0., 0.,\n",
      "       0.]), array([0., 0., 0., 0., 0., 0., 0., 0., 0., 0., 0., 0., 0., 0., 0., 0., 0.,\n",
      "       1.]), array([0., 0., 0., 0., 0., 0., 0., 0., 0., 0., 0., 0., 0., 1., 0., 0., 0.,\n",
      "       0.]), array([0., 0., 0., 0., 0., 0., 1., 0., 0., 0., 0., 0., 0., 0., 0., 0., 0.,\n",
      "       0.]), array([0., 0., 0., 0., 0., 0., 0., 0., 0., 0., 0., 0., 1., 0., 0., 0., 0.,\n",
      "       0.]), array([0., 0., 0., 0., 0., 0., 0., 0., 0., 0., 0., 0., 0., 1., 0., 0., 0.,\n",
      "       0.]), array([0., 0., 0., 0., 0., 0., 0., 0., 0., 0., 0., 0., 0., 1., 0., 0., 0.,\n",
      "       0.]), array([0., 0., 0., 0., 0., 0., 0., 0., 0., 0., 0., 0., 0., 0., 1., 0., 0.,\n",
      "       0.]), array([0., 0., 0., 0., 0., 0., 0., 0., 0., 0., 0., 0., 0., 0., 1., 0., 0.,\n",
      "       0.]), array([0., 0., 0., 0., 0., 0., 0., 0., 0., 0., 0., 1., 0., 0., 0., 0., 0.,\n",
      "       0.]), array([0., 1., 0., 0., 0., 0., 0., 0., 0., 0., 0., 0., 0., 0., 0., 0., 0.,\n",
      "       0.]), array([0., 0., 0., 0., 0., 0., 0., 0., 0., 0., 0., 1., 0., 0., 0., 0., 0.,\n",
      "       0.]), array([0., 0., 0., 0., 0., 0., 0., 0., 0., 0., 0., 0., 0., 0., 0., 0., 1.,\n",
      "       0.]), array([1., 0., 0., 0., 0., 0., 0., 0., 0., 0., 0., 0., 0., 0., 0., 0., 0.,\n",
      "       0.]), array([0., 0., 0., 0., 0., 0., 0., 0., 0., 0., 1., 0., 0., 0., 0., 0., 0.,\n",
      "       0.]), array([0., 0., 0., 0., 1., 0., 0., 0., 0., 0., 0., 0., 0., 0., 0., 0., 0.,\n",
      "       0.]), array([0., 0., 0., 0., 0., 0., 0., 1., 0., 0., 0., 0., 0., 0., 0., 0., 0.,\n",
      "       0.]), array([0., 0., 0., 0., 0., 0., 0., 0., 0., 0., 0., 0., 0., 0., 0., 0., 1.,\n",
      "       0.]), array([0., 0., 0., 0., 0., 0., 1., 0., 0., 0., 0., 0., 0., 0., 0., 0., 0.,\n",
      "       0.]), array([0., 1., 0., 0., 0., 0., 0., 0., 0., 0., 0., 0., 0., 0., 0., 0., 0.,\n",
      "       0.]), array([0., 0., 0., 1., 0., 0., 0., 0., 0., 0., 0., 0., 0., 0., 0., 0., 0.,\n",
      "       0.]), array([0., 0., 0., 1., 0., 0., 0., 0., 0., 0., 0., 0., 0., 0., 0., 0., 0.,\n",
      "       0.]), array([0., 0., 1., 0., 0., 0., 0., 0., 0., 0., 0., 0., 0., 0., 0., 0., 0.,\n",
      "       0.]), array([1., 0., 0., 0., 0., 0., 0., 0., 0., 0., 0., 0., 0., 0., 0., 0., 0.,\n",
      "       0.]), array([0., 1., 0., 0., 0., 0., 0., 0., 0., 0., 0., 0., 0., 0., 0., 0., 0.,\n",
      "       0.]), array([0., 0., 0., 0., 0., 0., 0., 0., 0., 0., 0., 1., 0., 0., 0., 0., 0.,\n",
      "       0.]), array([0., 0., 0., 0., 1., 0., 0., 0., 0., 0., 0., 0., 0., 0., 0., 0., 0.,\n",
      "       0.]), array([0., 0., 0., 0., 0., 0., 0., 1., 0., 0., 0., 0., 0., 0., 0., 0., 0.,\n",
      "       0.]), array([0., 1., 0., 0., 0., 0., 0., 0., 0., 0., 0., 0., 0., 0., 0., 0., 0.,\n",
      "       0.]), array([1., 0., 0., 0., 0., 0., 0., 0., 0., 0., 0., 0., 0., 0., 0., 0., 0.,\n",
      "       0.]), array([0., 0., 0., 0., 0., 0., 0., 0., 1., 0., 0., 0., 0., 0., 0., 0., 0.,\n",
      "       0.]), array([0., 0., 0., 0., 0., 0., 0., 0., 0., 0., 0., 0., 0., 0., 1., 0., 0.,\n",
      "       0.]), array([0., 0., 0., 0., 1., 0., 0., 0., 0., 0., 0., 0., 0., 0., 0., 0., 0.,\n",
      "       0.]), array([0., 0., 0., 0., 0., 0., 0., 0., 0., 0., 1., 0., 0., 0., 0., 0., 0.,\n",
      "       0.]), array([0., 0., 0., 0., 0., 0., 0., 0., 0., 0., 0., 0., 0., 0., 0., 1., 0.,\n",
      "       0.]), array([0., 0., 0., 0., 0., 0., 0., 1., 0., 0., 0., 0., 0., 0., 0., 0., 0.,\n",
      "       0.]), array([0., 0., 0., 0., 0., 0., 0., 0., 0., 0., 0., 0., 0., 1., 0., 0., 0.,\n",
      "       0.]), array([0., 0., 0., 0., 0., 1., 0., 0., 0., 0., 0., 0., 0., 0., 0., 0., 0.,\n",
      "       0.]), array([0., 0., 0., 0., 0., 0., 0., 0., 0., 0., 0., 0., 0., 1., 0., 0., 0.,\n",
      "       0.]), array([0., 0., 0., 0., 0., 0., 1., 0., 0., 0., 0., 0., 0., 0., 0., 0., 0.,\n",
      "       0.]), array([0., 0., 0., 0., 0., 0., 0., 0., 0., 0., 0., 0., 1., 0., 0., 0., 0.,\n",
      "       0.]), array([0., 0., 0., 0., 0., 0., 0., 0., 0., 0., 0., 0., 1., 0., 0., 0., 0.,\n",
      "       0.]), array([0., 0., 0., 1., 0., 0., 0., 0., 0., 0., 0., 0., 0., 0., 0., 0., 0.,\n",
      "       0.]), array([0., 0., 0., 0., 0., 0., 0., 0., 0., 0., 0., 0., 0., 0., 1., 0., 0.,\n",
      "       0.]), array([0., 0., 0., 0., 0., 0., 0., 0., 0., 0., 0., 0., 1., 0., 0., 0., 0.,\n",
      "       0.]), array([0., 0., 0., 0., 0., 1., 0., 0., 0., 0., 0., 0., 0., 0., 0., 0., 0.,\n",
      "       0.]), array([0., 0., 0., 0., 1., 0., 0., 0., 0., 0., 0., 0., 0., 0., 0., 0., 0.,\n",
      "       0.]), array([0., 0., 0., 0., 0., 0., 0., 0., 0., 0., 0., 0., 0., 0., 0., 1., 0.,\n",
      "       0.]), array([0., 0., 0., 0., 0., 1., 0., 0., 0., 0., 0., 0., 0., 0., 0., 0., 0.,\n",
      "       0.]), array([0., 0., 0., 0., 0., 0., 0., 0., 0., 0., 0., 0., 0., 0., 0., 0., 0.,\n",
      "       1.]), array([0., 0., 0., 1., 0., 0., 0., 0., 0., 0., 0., 0., 0., 0., 0., 0., 0.,\n",
      "       0.]), array([0., 1., 0., 0., 0., 0., 0., 0., 0., 0., 0., 0., 0., 0., 0., 0., 0.,\n",
      "       0.]), array([0., 0., 0., 0., 0., 0., 0., 0., 0., 1., 0., 0., 0., 0., 0., 0., 0.,\n",
      "       0.]), array([1., 0., 0., 0., 0., 0., 0., 0., 0., 0., 0., 0., 0., 0., 0., 0., 0.,\n",
      "       0.]), array([0., 0., 1., 0., 0., 0., 0., 0., 0., 0., 0., 0., 0., 0., 0., 0., 0.,\n",
      "       0.]), array([0., 1., 0., 0., 0., 0., 0., 0., 0., 0., 0., 0., 0., 0., 0., 0., 0.,\n",
      "       0.]), array([0., 1., 0., 0., 0., 0., 0., 0., 0., 0., 0., 0., 0., 0., 0., 0., 0.,\n",
      "       0.]), array([0., 0., 0., 0., 0., 0., 0., 0., 0., 1., 0., 0., 0., 0., 0., 0., 0.,\n",
      "       0.]), array([0., 0., 0., 0., 1., 0., 0., 0., 0., 0., 0., 0., 0., 0., 0., 0., 0.,\n",
      "       0.])]\n"
     ]
    }
   ],
   "source": [
    "Y = A\n",
    "print(Y)"
   ]
  },
  {
   "cell_type": "markdown",
   "id": "8767cd05",
   "metadata": {},
   "source": [
    "This means there will be 9 split sets; one for train, test and validation for each."
   ]
  },
  {
   "cell_type": "code",
   "execution_count": 27,
   "id": "41b17063",
   "metadata": {},
   "outputs": [],
   "source": [
    "#creating validation and test set for pitches\n",
    "X_pitches_train, X_pitches_test, y_pitches_train, y_pitches_test = train_test_split(X_pitches, Y, test_size=0.2, random_state=3)\n",
    "X_pitches_train, X_pitches_val, y_pitches_train, y_pitches_val = train_test_split(X_pitches_train, y_pitches_train, test_size=0.25, random_state=4)\n",
    "\n",
    "#creating validation and test set for velocities\n",
    "X_velocities_train, X_velocities_test, y_velocities_train, y_velocities_test = train_test_split(X_velocities, Y, test_size=0.2, random_state=3)\n",
    "X_velocities_train, X_velocities_val, y_velocities_train, y_velocities_val = train_test_split(X_velocities_train, y_velocities_train, test_size=0.25, random_state=4)\n",
    "\n",
    "#creating validation and test set for times\n",
    "X_times_train, X_times_test, y_times_train, y_times_test = train_test_split(X_times, Y, test_size=0.2, random_state=3)\n",
    "X_times_train, X_times_val, y_times_train, y_times_val = train_test_split(X_times_train, y_times_train, test_size=0.25, random_state=4)\n",
    "\n",
    "# # creating validation and test set\n",
    "# X_train, X_test, y_train, y_test = train_test_split(X, Y, test_size=0.2, random_state=3)\n",
    "# X_train, X_val, y_train, y_val = train_test_split(X_train, y_train, test_size=0.25, random_state=4) # 0.25 x 0.8 = 0.2\n",
    "\n"
   ]
  },
  {
   "cell_type": "code",
   "execution_count": 28,
   "id": "b2b0d79a",
   "metadata": {
    "scrolled": true
   },
   "outputs": [
    {
     "name": "stdout",
     "output_type": "stream",
     "text": [
      "[array([1., 0., 0., 0., 0., 0., 0., 0., 0., 0., 0., 0., 0., 0., 0., 0., 0.,\n",
      "       0.]), array([0., 0., 0., 0., 0., 0., 0., 0., 1., 0., 0., 0., 0., 0., 0., 0., 0.,\n",
      "       0.]), array([0., 1., 0., 0., 0., 0., 0., 0., 0., 0., 0., 0., 0., 0., 0., 0., 0.,\n",
      "       0.]), array([0., 0., 0., 1., 0., 0., 0., 0., 0., 0., 0., 0., 0., 0., 0., 0., 0.,\n",
      "       0.]), array([1., 0., 0., 0., 0., 0., 0., 0., 0., 0., 0., 0., 0., 0., 0., 0., 0.,\n",
      "       0.]), array([0., 1., 0., 0., 0., 0., 0., 0., 0., 0., 0., 0., 0., 0., 0., 0., 0.,\n",
      "       0.]), array([0., 0., 0., 0., 0., 1., 0., 0., 0., 0., 0., 0., 0., 0., 0., 0., 0.,\n",
      "       0.]), array([0., 0., 0., 0., 0., 0., 0., 0., 0., 0., 0., 0., 0., 0., 0., 0., 0.,\n",
      "       1.]), array([0., 0., 0., 0., 0., 0., 0., 0., 0., 0., 0., 1., 0., 0., 0., 0., 0.,\n",
      "       0.]), array([0., 0., 0., 1., 0., 0., 0., 0., 0., 0., 0., 0., 0., 0., 0., 0., 0.,\n",
      "       0.]), array([0., 0., 0., 0., 0., 0., 0., 0., 0., 0., 0., 0., 0., 0., 0., 0., 0.,\n",
      "       1.]), array([0., 0., 0., 0., 0., 1., 0., 0., 0., 0., 0., 0., 0., 0., 0., 0., 0.,\n",
      "       0.]), array([0., 0., 0., 0., 0., 0., 1., 0., 0., 0., 0., 0., 0., 0., 0., 0., 0.,\n",
      "       0.]), array([0., 0., 0., 0., 0., 0., 0., 0., 0., 1., 0., 0., 0., 0., 0., 0., 0.,\n",
      "       0.]), array([0., 0., 0., 1., 0., 0., 0., 0., 0., 0., 0., 0., 0., 0., 0., 0., 0.,\n",
      "       0.]), array([0., 0., 0., 0., 0., 0., 0., 0., 0., 0., 0., 0., 0., 0., 0., 0., 0.,\n",
      "       1.]), array([0., 0., 1., 0., 0., 0., 0., 0., 0., 0., 0., 0., 0., 0., 0., 0., 0.,\n",
      "       0.]), array([0., 0., 0., 0., 0., 0., 0., 0., 0., 0., 0., 0., 1., 0., 0., 0., 0.,\n",
      "       0.]), array([1., 0., 0., 0., 0., 0., 0., 0., 0., 0., 0., 0., 0., 0., 0., 0., 0.,\n",
      "       0.]), array([0., 0., 0., 0., 0., 0., 0., 1., 0., 0., 0., 0., 0., 0., 0., 0., 0.,\n",
      "       0.]), array([1., 0., 0., 0., 0., 0., 0., 0., 0., 0., 0., 0., 0., 0., 0., 0., 0.,\n",
      "       0.]), array([1., 0., 0., 0., 0., 0., 0., 0., 0., 0., 0., 0., 0., 0., 0., 0., 0.,\n",
      "       0.]), array([0., 0., 0., 0., 0., 0., 0., 1., 0., 0., 0., 0., 0., 0., 0., 0., 0.,\n",
      "       0.]), array([0., 0., 0., 0., 0., 0., 0., 0., 0., 0., 0., 0., 0., 0., 1., 0., 0.,\n",
      "       0.]), array([0., 0., 0., 1., 0., 0., 0., 0., 0., 0., 0., 0., 0., 0., 0., 0., 0.,\n",
      "       0.]), array([0., 0., 0., 0., 0., 0., 0., 0., 0., 0., 0., 0., 0., 0., 1., 0., 0.,\n",
      "       0.]), array([0., 0., 1., 0., 0., 0., 0., 0., 0., 0., 0., 0., 0., 0., 0., 0., 0.,\n",
      "       0.]), array([0., 0., 0., 0., 0., 0., 1., 0., 0., 0., 0., 0., 0., 0., 0., 0., 0.,\n",
      "       0.]), array([0., 0., 0., 0., 0., 0., 0., 1., 0., 0., 0., 0., 0., 0., 0., 0., 0.,\n",
      "       0.]), array([0., 0., 0., 0., 0., 1., 0., 0., 0., 0., 0., 0., 0., 0., 0., 0., 0.,\n",
      "       0.]), array([0., 0., 0., 0., 0., 0., 0., 0., 0., 0., 0., 0., 0., 1., 0., 0., 0.,\n",
      "       0.]), array([0., 0., 0., 0., 0., 0., 0., 0., 0., 0., 0., 0., 0., 1., 0., 0., 0.,\n",
      "       0.]), array([0., 0., 0., 0., 0., 0., 0., 0., 0., 0., 0., 0., 0., 0., 0., 0., 1.,\n",
      "       0.]), array([0., 0., 0., 0., 0., 0., 0., 0., 1., 0., 0., 0., 0., 0., 0., 0., 0.,\n",
      "       0.]), array([0., 0., 0., 0., 1., 0., 0., 0., 0., 0., 0., 0., 0., 0., 0., 0., 0.,\n",
      "       0.]), array([0., 0., 0., 0., 0., 0., 0., 0., 0., 0., 0., 1., 0., 0., 0., 0., 0.,\n",
      "       0.]), array([0., 0., 0., 0., 1., 0., 0., 0., 0., 0., 0., 0., 0., 0., 0., 0., 0.,\n",
      "       0.]), array([0., 0., 0., 0., 0., 0., 0., 1., 0., 0., 0., 0., 0., 0., 0., 0., 0.,\n",
      "       0.]), array([0., 0., 0., 0., 0., 0., 0., 0., 0., 1., 0., 0., 0., 0., 0., 0., 0.,\n",
      "       0.]), array([0., 0., 0., 0., 0., 0., 0., 0., 0., 0., 0., 1., 0., 0., 0., 0., 0.,\n",
      "       0.]), array([0., 0., 0., 0., 0., 0., 0., 0., 0., 0., 0., 0., 0., 0., 0., 0., 1.,\n",
      "       0.]), array([0., 0., 0., 0., 0., 0., 0., 0., 0., 0., 1., 0., 0., 0., 0., 0., 0.,\n",
      "       0.]), array([0., 0., 0., 0., 1., 0., 0., 0., 0., 0., 0., 0., 0., 0., 0., 0., 0.,\n",
      "       0.]), array([0., 0., 0., 0., 0., 0., 0., 0., 0., 0., 0., 1., 0., 0., 0., 0., 0.,\n",
      "       0.]), array([0., 0., 0., 0., 1., 0., 0., 0., 0., 0., 0., 0., 0., 0., 0., 0., 0.,\n",
      "       0.]), array([1., 0., 0., 0., 0., 0., 0., 0., 0., 0., 0., 0., 0., 0., 0., 0., 0.,\n",
      "       0.]), array([0., 0., 0., 0., 0., 0., 0., 0., 0., 0., 0., 0., 0., 0., 1., 0., 0.,\n",
      "       0.]), array([0., 0., 0., 0., 0., 0., 0., 0., 0., 0., 0., 0., 0., 0., 1., 0., 0.,\n",
      "       0.]), array([0., 0., 0., 0., 0., 0., 0., 1., 0., 0., 0., 0., 0., 0., 0., 0., 0.,\n",
      "       0.]), array([0., 1., 0., 0., 0., 0., 0., 0., 0., 0., 0., 0., 0., 0., 0., 0., 0.,\n",
      "       0.]), array([0., 0., 0., 0., 0., 0., 0., 0., 0., 0., 0., 1., 0., 0., 0., 0., 0.,\n",
      "       0.]), array([0., 0., 0., 0., 1., 0., 0., 0., 0., 0., 0., 0., 0., 0., 0., 0., 0.,\n",
      "       0.]), array([0., 0., 1., 0., 0., 0., 0., 0., 0., 0., 0., 0., 0., 0., 0., 0., 0.,\n",
      "       0.]), array([0., 0., 0., 0., 0., 0., 0., 0., 0., 0., 0., 1., 0., 0., 0., 0., 0.,\n",
      "       0.]), array([0., 0., 0., 0., 0., 0., 0., 0., 0., 0., 0., 0., 0., 0., 0., 1., 0.,\n",
      "       0.]), array([0., 0., 0., 0., 0., 0., 0., 0., 0., 0., 1., 0., 0., 0., 0., 0., 0.,\n",
      "       0.]), array([0., 0., 0., 0., 1., 0., 0., 0., 0., 0., 0., 0., 0., 0., 0., 0., 0.,\n",
      "       0.]), array([1., 0., 0., 0., 0., 0., 0., 0., 0., 0., 0., 0., 0., 0., 0., 0., 0.,\n",
      "       0.]), array([0., 1., 0., 0., 0., 0., 0., 0., 0., 0., 0., 0., 0., 0., 0., 0., 0.,\n",
      "       0.]), array([0., 0., 0., 0., 0., 0., 0., 0., 0., 0., 0., 0., 0., 0., 1., 0., 0.,\n",
      "       0.])]\n"
     ]
    }
   ],
   "source": [
    "print(y_pitches_train)"
   ]
  },
  {
   "cell_type": "markdown",
   "id": "ff219907",
   "metadata": {},
   "source": [
    "And here we pick our architecture for our prediction model. We know that the last layer should have `Softmax` activation with (some number) of choices. We will use our prediction function to determine the accuracy later with `output_type = 'number'`."
   ]
  },
  {
   "cell_type": "code",
   "execution_count": 54,
   "id": "f4ee574a",
   "metadata": {
    "scrolled": true
   },
   "outputs": [
    {
     "name": "stdout",
     "output_type": "stream",
     "text": [
      "epoch: 100\n",
      "           cost: 0.9545162672491113\n",
      "epoch: 200\n",
      "           cost: 0.9512384956641432\n",
      "epoch: 300\n",
      "           cost: 0.9562724986972373\n",
      "epoch: 400\n",
      "           cost: 0.9477389478734775\n",
      "epoch: 500\n",
      "           cost: 0.9472658350348115\n",
      "epoch: 600\n",
      "           cost: 0.9449657667592422\n",
      "epoch: 700\n",
      "           cost: 0.942453907328992\n",
      "epoch: 800\n",
      "           cost: 0.9426903053975355\n",
      "epoch: 900\n",
      "           cost: 0.9451826084674514\n",
      "epoch: 1000\n",
      "           cost: 0.9459252166741681\n",
      "epoch: 1100\n",
      "           cost: 0.9403830123463351\n",
      "epoch: 1200\n",
      "           cost: 0.9451195797578238\n",
      "epoch: 1300\n",
      "           cost: 0.939710083346757\n",
      "epoch: 1400\n",
      "           cost: 0.9390326566076147\n",
      "epoch: 1500\n",
      "           cost: 0.9313120250572132\n",
      "epoch: 1600\n",
      "           cost: 0.946761537944014\n",
      "epoch: 1700\n",
      "           cost: 0.935325386463936\n",
      "epoch: 1800\n",
      "           cost: 0.9391426421801103\n",
      "epoch: 1900\n",
      "           cost: 0.9305567072078367\n",
      "epoch: 2000\n",
      "           cost: 0.9363080160972886\n",
      "epoch: 2100\n",
      "           cost: 0.939477604760419\n",
      "epoch: 2200\n",
      "           cost: 0.936761935086186\n",
      "epoch: 2300\n",
      "           cost: 0.9313443864916552\n",
      "epoch: 2400\n",
      "           cost: 0.9257046509545164\n",
      "epoch: 2500\n",
      "           cost: 0.9202756180439982\n",
      "epoch: 2600\n",
      "           cost: 0.9191982519412902\n",
      "epoch: 2700\n",
      "           cost: 0.9244950796496082\n",
      "epoch: 2800\n",
      "           cost: 0.9440779319935713\n",
      "epoch: 2900\n",
      "           cost: 0.9256038733926151\n",
      "epoch: 3000\n",
      "           cost: 0.9370950693809356\n"
     ]
    }
   ],
   "source": [
    "arch = [256, 4, 3, 8, 18]\n",
    "G = [Linear, Squared, Linear, Linear, Softmax]\n",
    "W,B,costs,grad_norms = fit(X_pitches_train,y_pitches_train,arch,G,alpha = 1e-7, \n",
    "                                momentum = .99,batch_size=40,lambda_=0,max_iters=3000,cost_type='se')"
   ]
  },
  {
   "cell_type": "code",
   "execution_count": 55,
   "id": "dd0a1aed",
   "metadata": {},
   "outputs": [
    {
     "data": {
      "image/png": "[encoded data removed]",
      "text/plain": [
       "<Figure size 432x288 with 1 Axes>"
      ]
     },
     "metadata": {
      "needs_background": "light"
     },
     "output_type": "display_data"
    }
   ],
   "source": [
    "# plot the costs\n",
    "plot_costs(costs)"
   ]
  },
  {
   "cell_type": "code",
   "execution_count": 56,
   "id": "cb290c62",
   "metadata": {},
   "outputs": [
    {
     "data": {
      "image/png": "[encoded data removed]",
      "text/plain": [
       "<Figure size 432x288 with 1 Axes>"
      ]
     },
     "metadata": {
      "needs_background": "light"
     },
     "output_type": "display_data"
    }
   ],
   "source": [
    "# plot the gradient norms\n",
    "plot_grads(grad_norms)"
   ]
  },
  {
   "cell_type": "markdown",
   "id": "c6e39599",
   "metadata": {},
   "source": [
    "## Measuring performance\n",
    "\n",
    "Here we compute the accuracy of our model. We want high, and relatively the same values on training, validation, and test accuracy to know we have chosen a good architecture and dealt with regularization."
   ]
  },
  {
   "cell_type": "code",
   "execution_count": 57,
   "id": "48ea5704",
   "metadata": {},
   "outputs": [
    {
     "name": "stdout",
     "output_type": "stream",
     "text": [
      "Training Accuracy:     0.08333333333333333\n",
      "Validation Accuracy:   0.05\n",
      "Test Accuracy:         0.0\n"
     ]
    }
   ],
   "source": [
    "# compute training accuracy (write code to compute the accuracy of predictions on the training set)\n",
    "predictions = []\n",
    "for examples in X_pitches_train:\n",
    "    predictions.append(predict(W,B,G,examples,output_type = 'genre'))\n",
    "    \n",
    "correct = 0\n",
    "for i in range(len(y_pitches_train)):\n",
    "    if predictions[i] == decoder(y_pitches_train[i]):\n",
    "        correct += 1\n",
    "train_accuracy = correct/X_pitches_train.shape[0]\n",
    "\n",
    "correct_val = 0\n",
    "for i in range(X_pitches_val.shape[0]):\n",
    "    if all(predict(W,B,G,X_pitches_val[i]) == y_pitches_val[i]):\n",
    "        correct_val += 1\n",
    "val_accuracy = correct_val/X_pitches_val.shape[0]\n",
    "\n",
    "correct_test = 0\n",
    "for i in range(X_pitches_test.shape[0]):\n",
    "    if all(predict(W,B,G,X_pitches_test[i]) == y_pitches_test[i]):\n",
    "        correct_test += 1\n",
    "test_accuracy = correct_test/X_pitches_test.shape[0]\n",
    "\n",
    "print(f'Training Accuracy:     {train_accuracy}')\n",
    "print(f'Validation Accuracy:   {val_accuracy}')\n",
    "print(f'Test Accuracy:         {test_accuracy}')"
   ]
  },
  {
   "cell_type": "code",
   "execution_count": null,
   "id": "2ba771e9",
   "metadata": {},
   "outputs": [],
   "source": []
  }
 ],
 "metadata": {
  "kernelspec": {
   "display_name": "Python 3 (ipykernel)",
   "language": "python",
   "name": "python3"
  },
  "language_info": {
   "codemirror_mode": {
    "name": "ipython",
    "version": 3
   },
   "file_extension": ".py",
   "mimetype": "text/x-python",
   "name": "python",
   "nbconvert_exporter": "python",
   "pygments_lexer": "ipython3",
   "version": "3.9.7"
  }
 },
 "nbformat": 4,
 "nbformat_minor": 5
}

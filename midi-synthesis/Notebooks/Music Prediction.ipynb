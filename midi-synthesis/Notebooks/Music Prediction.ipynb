{
 "cells": [
  {
   "cell_type": "markdown",
   "id": "034abf95",
   "metadata": {},
   "source": [
    "# <center>Music Prediction</center>\n",
    "\n",
    "\n",
    "In this file, we use a neural network to predict the genre of music from 8 bars.\n",
    "\n",
    "We copied a lot from Homework 4 because we have already done the work of creating neural networks."
   ]
  },
  {
   "cell_type": "code",
   "execution_count": 2,
   "id": "48add7e7",
   "metadata": {},
   "outputs": [],
   "source": [
    "# run this cell to import needed modules and define plotting functions (no input needed)\n",
    "import numpy as np\n",
    "import matplotlib.pyplot as plt\n",
    "from numpy import linalg as LA\n",
    "import plotly\n",
    "import plotly.graph_objects as go\n",
    "import random, time\n",
    "from collections import Counter\n",
    "from sklearn.model_selection import train_test_split\n",
    "import json\n",
    "from sklearn.datasets import fetch_openml\n",
    "\n",
    "# function to plot costs\n",
    "def plot_costs(costs):\n",
    "    plt.plot(costs)\n",
    "    plt.xlabel(\"iterations\")\n",
    "    plt.ylabel(\"cost\")\n",
    "    plt.show()\n",
    "    \n",
    "# function to plot costs\n",
    "def plot_grads(grads):\n",
    "    plt.plot(grads)\n",
    "    plt.xlabel(\"iterations\")\n",
    "    plt.ylabel(\"gradient norm\")\n",
    "    plt.show()\n",
    "\n",
    "# defining a function to plot data\n",
    "def plot_data(X,Y,size_ = 2):\n",
    "    m = len(X)\n",
    "    plot_figure = go.Figure(data=[go.Scatter3d(x=X[:,0], y=X[:,1], z=[r[0] for r in Y], mode='markers',marker=dict(size=size_))])\n",
    "    plotly.offline.iplot(plot_figure)\n",
    "\n",
    "# defining a function to plot models fit\n",
    "def plot_fit(X,Y,W,B,G,size_ = 2):\n",
    "    trace = go.Scatter3d(x=X[:,0], y=X[:,1], z=[r[0] for r in Y], mode='markers',marker=dict(size=size_))\n",
    "    xs,ys = X[:,0],X[:,1]\n",
    "    xxx = np.outer(np.linspace(min(xs), max(xs), 30), np.ones(30))\n",
    "    yyy = np.outer(np.linspace(min(ys), max(ys), 30), np.ones(30)).T\n",
    "    zzz = np.zeros([30,30])\n",
    "    D = len(G)-1\n",
    "    for i in range(30):\n",
    "        for j in range(30):\n",
    "            zzz[i,j] = feedforward(W,B,G,np.array([xxx[i,j],yyy[i,j]]))[D][0]\n",
    "    # Configure the layout.\n",
    "    layout = go.Layout(margin={'l': 0, 'r': 0, 'b': 0, 't': 0})\n",
    "    data = [trace,go.Surface(x=xxx, y=yyy, z=zzz, showscale=False, opacity=0.5)]\n",
    "    # Render the plot.\n",
    "    plot_figure = go.Figure(data=data, layout=layout)\n",
    "    plot_figure.update_layout(\n",
    "        scene = dict(\n",
    "            xaxis = dict(nticks=4, range=[min(X[:,0]),max(X[:,0])],),\n",
    "            yaxis = dict(nticks=4, range=[min(X[:,1]),max(X[:,1])],),\n",
    "            zaxis = dict(nticks=4, range=[min(Y),max(Y)],),),\n",
    "        width=700,\n",
    "        margin=dict(r=20, l=10, b=10, t=10))\n",
    "    plotly.offline.iplot(plot_figure)"
   ]
  },
  {
   "cell_type": "markdown",
   "id": "43e9e5e7",
   "metadata": {},
   "source": [
    "## Activation Functions\n",
    "\n",
    "Here we define the functions `ReLU`, `Linear`, `Sigmoid`, `Squared`, and `Softmax`. They return the derivative or the correct output vector, depending on how they are called.\n",
    "\n",
    "We also define the `loss` function with inputs `Nx`, `y`, `cost_type='se'`, and `deriv=False`, which will return the per-example loss function when `deriv=False` and returns the derivative when `deriv=True`. We will only use squared error cost, but `ce` and `bce` are defined here because it does not hurt to have."
   ]
  },
  {
   "cell_type": "code",
   "execution_count": 3,
   "id": "b6aed056",
   "metadata": {},
   "outputs": [],
   "source": [
    "def ReLU(x,deriv = False):\n",
    "    if deriv:\n",
    "        out = np.zeros(len(x))\n",
    "        for i in range(len(x)):\n",
    "            if x[i] >= 0:\n",
    "                out[i] = 1\n",
    "            else:\n",
    "                out[i] = 0\n",
    "        return np.diagflat(out)\n",
    "    else:\n",
    "        return np.maximum(np.zeros(len(x)), x)\n",
    "\n",
    "def Linear(x,deriv = False):\n",
    "    if deriv:\n",
    "        return np.diagflat(np.ones(len(x)))\n",
    "    else:\n",
    "        return x\n",
    "\n",
    "def Sigmoid(x,deriv = False):\n",
    "    if deriv:\n",
    "        y=Sigmoid(x,deriv=False)\n",
    "        return np.diagflat(y*(np.ones(y.shape) - y))\n",
    "    else:\n",
    "        out = np.zeros(len(x))\n",
    "        for i in range(len(x)):\n",
    "            out[i] = 1 / (1 + np.exp(-1 * x[i]))\n",
    "        return np.array(out)\n",
    "\n",
    "def Squared(x,deriv = False):\n",
    "    if deriv:\n",
    "        return np.diagflat(2 * x)\n",
    "    else:\n",
    "        out = np.zeros(len(x))\n",
    "        for i in range(len(x)):\n",
    "            out[i] = x[i] ** 2\n",
    "        return out\n",
    "\n",
    "def Softmax(x,deriv = False):\n",
    "    totalSum = np.sum(np.exp(x))\n",
    "    out = np.zeros(len(x))\n",
    "    for i in range(len(x)):\n",
    "        out[i] = np.exp(x[i]) / totalSum\n",
    "    \n",
    "    if deriv:\n",
    "        return np.diagflat(out) - np.outer(out, out)\n",
    "    else:\n",
    "        return out\n",
    "\n",
    "# Note: Nx and y are always numpy arrays (for 'bce' they always have only one entry)\n",
    "# when deriv = False the output must be a number and when deriv = True the output must be a vector\n",
    "def loss(Nx,y,cost_type,deriv = False):\n",
    "    #print(f'Nx.shape={Nx.shape}, y.shape={y.shape}')\n",
    "    if cost_type == \"se\":\n",
    "        if deriv:\n",
    "            return 2 * (Nx - y).T\n",
    "        else:\n",
    "            return (LA.norm(Nx-y,2))**2\n",
    "    elif cost_type == \"ce\":\n",
    "        if deriv:\n",
    "            out = np.zeros(len(Nx))\n",
    "            for i in range(len(Nx)):\n",
    "                out[i] = 1/Nx[i]\n",
    "            return np.array(-y).T @ np.diagflat(out)\n",
    "        else:\n",
    "            return np.array(-y).T @ np.log(Nx)\n",
    "    elif cost_type == \"bce\":\n",
    "        yVal = y[0]\n",
    "        NxVal = Nx[0]\n",
    "        if deriv:\n",
    "            return (-yVal/NxVal) + (1-yVal)/(1-NxVal)\n",
    "        else:\n",
    "            return -yVal * np.log(NxVal) - (1-yVal) * np.log(1 - NxVal)"
   ]
  },
  {
   "cell_type": "markdown",
   "id": "2780894e",
   "metadata": {},
   "source": [
    "# Feedforward\n",
    "\n",
    "Here, we define a function `feedforward(W,B,G,x)` where \n",
    "\n",
    "- `W` is a list of matrices with the property that `W[i+1].shape[1] == W[i].shape[0]` for all `i`\n",
    "- `B` is a list of vectors with the property that `B[i].shape == W[i].shape[0]` for all `i`\n",
    "- `G` is a list of activations with length `len(W)+1` where `G[i]` is a function which takes a numpy array of dimension `W[i].shape[0]` as input and gives a numpy array of the same dimension as output. We always take `g[0] = Linear` (usually we would not have an activation here at all but it is convenient to use `Linear` here just as a place holder. Think of it as being the same as not having an activation function at layer 0.)\n",
    "- `x` is an input vector of dimension `W[0].shape[1]`\n",
    "\n",
    "the output is a list `feeds` where `feeds[i]` is the pair `[xi,si]` where `x0 = x`, `s0 = W[0]@x+B[0]`, and for `i>0` we have `x(i+1) = G[i+1](si)` and `si = W[i]@xi+B[i]`. The last entry only has an `x` and no signal (this is the feedforward `Nx` of the network)."
   ]
  },
  {
   "cell_type": "code",
   "execution_count": 4,
   "id": "63a05452",
   "metadata": {},
   "outputs": [],
   "source": [
    "def feedforward(W,B,G,x):\n",
    "    feeds = []\n",
    "    feeds.append([G[0](x), W[0]@G[0](x) + B[0]])\n",
    "    for i in range(1,len(W)):\n",
    "        xi = G[i](feeds[i-1][1])\n",
    "        si = W[i]@xi + B[i]\n",
    "        feeds.append([xi,si])\n",
    "        \n",
    "    feeds.append(G[len(W)](feeds[len(W)-1][1]))\n",
    "    return feeds"
   ]
  },
  {
   "cell_type": "markdown",
   "id": "30305909",
   "metadata": {},
   "source": [
    "# Deltas\n",
    "\n",
    "Here we define a function that computes the deltas as we have defined in class."
   ]
  },
  {
   "cell_type": "code",
   "execution_count": 5,
   "id": "20cf4f1a",
   "metadata": {
    "scrolled": true
   },
   "outputs": [],
   "source": [
    "def deltas(X_feeds,Y,W,B,G,verbose = False, cost_type = 'se'):\n",
    "    delta = {}\n",
    "    D = len(W)\n",
    "    for key in X_feeds.keys():\n",
    "        y = Y[key]\n",
    "        X = X_feeds[key]\n",
    "        Nx = X[-1]\n",
    "        delta[key] = [(loss(Nx, y, cost_type, deriv=True)) @ G[-1](X[D-1][1], deriv=True)]\n",
    "        for j in range(D-1, 0, -1):\n",
    "            delta[key].insert(0, delta[key][0] @ W[j] @ G[j](X[j-1][1], deriv=True))\n",
    "    return delta"
   ]
  },
  {
   "cell_type": "markdown",
   "id": "7d0f462c",
   "metadata": {},
   "source": [
    "# Gradients\n",
    "\n",
    "Here we approximate the gradient of the cost function with respect to the $W^{(l)}$s and $b^{(l)}$s, then return the feedforwards for each row of the data matrix (or the batches that we are using)."
   ]
  },
  {
   "cell_type": "code",
   "execution_count": 6,
   "id": "80f20f5f",
   "metadata": {},
   "outputs": [],
   "source": [
    "def grads(X,Y,W,B,G,batch, lambda_ = 0, verbose = False,cost_type = 'se'):\n",
    "    dWs = []\n",
    "    dBs = []\n",
    "    batch_size = len(batch)\n",
    "    \n",
    "    X_feeds = {}\n",
    "    for i in batch:\n",
    "        X_feeds[i] = feedforward(W,B,G,X[i])\n",
    "    \n",
    "    X_deltas = deltas(X_feeds, Y, W, B, G, verbose, cost_type)\n",
    "    \n",
    "    for l in range(len(W)):\n",
    "        dW = sum( [np.outer(X_deltas[i][l], X_feeds[i][l][0]) for i in batch] ) / batch_size + 2 * lambda_ * W[l]\n",
    "        dB = sum( [X_deltas[i][l] for i in batch ]) / batch_size\n",
    "        dWs.append(dW)\n",
    "        dBs.append(dB)\n",
    "    return dWs, dBs, X_feeds"
   ]
  },
  {
   "cell_type": "markdown",
   "id": "c8df5b6d",
   "metadata": {},
   "source": [
    "# Neural Network implementation\n",
    "\n",
    "And this is the fit function, which runs the neural network and prints out the cost 30 times, spread out evenly along `max_iters`."
   ]
  },
  {
   "cell_type": "code",
   "execution_count": 7,
   "id": "67b5e4ae",
   "metadata": {},
   "outputs": [],
   "source": [
    "#max_iters should be a multiple of 100\n",
    "def fit(X,Y,arch,G,alpha = 1e-9, momentum = .01, batch_size = 100, \n",
    "        lambda_ = 0, max_iters = 100,verbose = False, cost_type = 'se',print_costs = True):\n",
    "    W,B,VW,VB = [],[],[],[]\n",
    "    D,m = len(G)-1,len(X)\n",
    "    \n",
    "    last = X.shape[1]\n",
    "    if verbose:\n",
    "        print(f'X.shape[1]={X.shape[1]}')\n",
    "        print(f'Y.shape[1]={Y.shape[1]}')\n",
    "        \n",
    "    for l in range(D):\n",
    "        # append initializations to W, B, VW, VB\n",
    "        W.append(np.random.default_rng().normal(loc=0,scale=2/(last+arch[l]), size=(arch[l],last)))\n",
    "        VW.append(np.zeros(W[l].shape))\n",
    "        B.append(np.zeros(arch[l]))\n",
    "        VB.append(np.zeros(B[l].shape))\n",
    "        last = arch[l]\n",
    "    epochs, costs, grad_norms = 0,[],[]\n",
    "    \n",
    "    while epochs <= max_iters:\n",
    "        batch = random.sample(range(m),batch_size)\n",
    "        dWs,dBs,feeds = grads(X,Y,W,B,G,batch,lambda_,verbose,cost_type)\n",
    "        grad_norms.append(sum( [LA.norm(W[l],2) for l in range(D)] ) + sum( [LA.norm(B[l],2) for l in range(D)]))\n",
    "        \n",
    "        costs.append(sum( [loss(feeds[i][D][0],Y[i],cost_type) for i in batch] ))\n",
    "        \n",
    "        if epochs%(np.floor(max_iters/30))==0 and print_costs:\n",
    "            print(f'epoch: {epochs}')\n",
    "            print(f'           cost: {costs[-1]}')\n",
    "\n",
    "        for l in range(D):\n",
    "            VW[l] = momentum*VW[l] - alpha * dWs[l]\n",
    "            VB[l] = momentum*VB[l] - alpha * dBs[l]\n",
    "            W[l] = W[l] + VW[l]\n",
    "            B[l] = B[l] + VB[l]\n",
    "        \n",
    "        epochs += 1\n",
    "    return W,B,costs,grad_norms"
   ]
  },
  {
   "cell_type": "markdown",
   "id": "e9997d4f",
   "metadata": {},
   "source": [
    "# Music Prediction\n",
    "\n",
    "The goal of this problem is the classify the music samples correctly. This is similar to the multiclass classifier used for the iris dataset, and our accuracy functions will actually be exactly the same."
   ]
  },
  {
   "cell_type": "code",
   "execution_count": 8,
   "id": "086c06e4",
   "metadata": {},
   "outputs": [],
   "source": [
    "def predict(W,B,G,x,output_type = 'number'):\n",
    "    prediction = feedforward(W,B,G,x)[-1]\n",
    "    if output_type == 'vector':\n",
    "        out = np.zeros(prediction.shape[0])\n",
    "        out[np.argmax(prediction)] = 1\n",
    "        return out\n",
    "    \n",
    "    elif output_type == 'number':\n",
    "        return np.argmax(prediction)\n",
    "    \n",
    "    elif output_type == 'probability':\n",
    "        if prediction <0.5:\n",
    "            return 0\n",
    "        else:\n",
    "            return 1"
   ]
  },
  {
   "cell_type": "code",
   "execution_count": 20,
   "id": "99158daa",
   "metadata": {},
   "outputs": [],
   "source": [
    "# grabs data from midi-synthesis/Data\n",
    "\n",
    "# from sklearn.datasets import load_iris,load_digits\n",
    "# data = load_iris()\n",
    "# X = data.data\n",
    "# Y = np.zeros((data.target.shape[0],3))\n",
    "# for i in range(data.target.shape[0]):\n",
    "#     Y[i] = np.zeros(3)\n",
    "#     Y[i][data.target[i]]=1\n",
    "X = np.array([[1], [2], [3]]) # data\n",
    "Y = np.array([[0], [1], [2]]) # labels"
   ]
  },
  {
   "cell_type": "markdown",
   "id": "ff81c9fd",
   "metadata": {},
   "source": [
    "Here we create validation and test sets using `sklearn`."
   ]
  },
  {
   "cell_type": "code",
   "execution_count": 21,
   "id": "41b17063",
   "metadata": {},
   "outputs": [],
   "source": [
    "# creating validation and test set\n",
    "X_train, X_test, y_train, y_test = train_test_split(X, Y, test_size=0.2, random_state=3)\n",
    "X_train, X_val, y_train, y_val = train_test_split(X_train, y_train, test_size=0.25, random_state=4) # 0.25 x 0.8 = 0.2"
   ]
  },
  {
   "cell_type": "markdown",
   "id": "ff219907",
   "metadata": {},
   "source": [
    "And here we pick our architecture for our prediction model. We know that the last layer should have `Softmax` activation with (some number) of choices. We will use our prediction function to determine the accuracy later with `output_type = 'number'`."
   ]
  },
  {
   "cell_type": "code",
   "execution_count": 23,
   "id": "f4ee574a",
   "metadata": {
    "scrolled": true
   },
   "outputs": [
    {
     "name": "stdout",
     "output_type": "stream",
     "text": [
      "epoch: 0\n",
      "           cost: 0.0002451157969899821\n",
      "epoch: 3\n",
      "           cost: 3.8396338699806276e-05\n",
      "epoch: 6\n",
      "           cost: 7.534418707194934e-05\n",
      "epoch: 9\n",
      "           cost: 0.0002289262394582043\n",
      "epoch: 12\n",
      "           cost: 5.603775998549896e-05\n",
      "epoch: 15\n",
      "           cost: 4.6448228172608574e-05\n",
      "epoch: 18\n",
      "           cost: 0.00020804489809152018\n",
      "epoch: 21\n",
      "           cost: 7.278347569815102e-05\n",
      "epoch: 24\n",
      "           cost: 2.5280960352165286e-05\n",
      "epoch: 27\n",
      "           cost: 0.00018385201442815718\n",
      "epoch: 30\n",
      "           cost: 8.816597899680575e-05\n",
      "epoch: 33\n",
      "           cost: 1.072802226402266e-05\n",
      "epoch: 36\n",
      "           cost: 0.0001576743764809932\n",
      "epoch: 39\n",
      "           cost: 0.00010050338302494494\n",
      "epoch: 42\n",
      "           cost: 2.6698304568812596e-06\n",
      "epoch: 45\n",
      "           cost: 0.00013089772139227812\n",
      "epoch: 48\n",
      "           cost: 0.00010963313073459456\n",
      "epoch: 51\n",
      "           cost: 3.878090589246824e-09\n",
      "epoch: 54\n",
      "           cost: 0.00010455307506893096\n",
      "epoch: 57\n",
      "           cost: 0.00011475165172829465\n",
      "epoch: 60\n",
      "           cost: 1.8797307316037225e-06\n",
      "epoch: 63\n",
      "           cost: 7.994496762387564e-05\n",
      "epoch: 66\n",
      "           cost: 0.00011594462838200387\n",
      "epoch: 69\n",
      "           cost: 7.2890364215496565e-06\n",
      "epoch: 72\n",
      "           cost: 5.7690098414145e-05\n",
      "epoch: 75\n",
      "           cost: 0.00011320170220162672\n",
      "epoch: 78\n",
      "           cost: 1.4969709802313192e-05\n",
      "epoch: 81\n",
      "           cost: 3.8793250936920514e-05\n",
      "epoch: 84\n",
      "           cost: 0.00010690769180258359\n",
      "epoch: 87\n",
      "           cost: 2.4036139262780945e-05\n",
      "epoch: 90\n",
      "           cost: 2.343340137445627e-05\n",
      "epoch: 93\n",
      "           cost: 9.761856461082969e-05\n",
      "epoch: 96\n",
      "           cost: 3.32071924360633e-05\n",
      "epoch: 99\n",
      "           cost: 1.210063798632304e-05\n"
     ]
    }
   ],
   "source": [
    "arch = [1, 1, 1]\n",
    "G = [Linear, Linear, Linear, Linear]\n",
    "W,B,costs,grad_norms = fit(X_train,y_train,arch,G,alpha = 5e-2, \n",
    "                                momentum = .99,batch_size=1,lambda_=0,max_iters=100,cost_type='se')"
   ]
  },
  {
   "cell_type": "code",
   "execution_count": 24,
   "id": "dd0a1aed",
   "metadata": {},
   "outputs": [
    {
     "data": {
      "image/png": "[encoded data removed]",
      "text/plain": [
       "<Figure size 432x288 with 1 Axes>"
      ]
     },
     "metadata": {
      "needs_background": "light"
     },
     "output_type": "display_data"
    }
   ],
   "source": [
    "# plot the costs\n",
    "plot_costs(costs)"
   ]
  },
  {
   "cell_type": "code",
   "execution_count": 25,
   "id": "cb290c62",
   "metadata": {},
   "outputs": [
    {
     "data": {
      "image/png": "[encoded data removed]",
      "text/plain": [
       "<Figure size 432x288 with 1 Axes>"
      ]
     },
     "metadata": {
      "needs_background": "light"
     },
     "output_type": "display_data"
    }
   ],
   "source": [
    "# plot the gradient norms\n",
    "plot_grads(grad_norms)"
   ]
  },
  {
   "cell_type": "markdown",
   "id": "c6e39599",
   "metadata": {},
   "source": [
    "## Measuring performance\n",
    "\n",
    "Here we compute the accuracy of our model. We want high, and relatively the same values on training, validation, and test accuracy to know we have chosen a good architecture and dealt with regularization."
   ]
  },
  {
   "cell_type": "code",
   "execution_count": 26,
   "id": "48ea5704",
   "metadata": {},
   "outputs": [],
   "source": [
    "# compute training accuracy (write code to compute the accuracy of predictions on the training set)\n",
    "correct_train = 0\n",
    "for i in range(X_train.shape[0]):\n",
    "    if all(predict(W,B,G,X_train[i]) == y_train[i]):\n",
    "        correct_train += 1\n",
    "        \n",
    "train_accuracy = correct_train/X_train.shape[0]"
   ]
  },
  {
   "cell_type": "code",
   "execution_count": 27,
   "id": "e96eef87",
   "metadata": {},
   "outputs": [],
   "source": [
    "# compute validation accuracy (write code to compute the accuracy of predictions on the validation set)\n",
    "correct_val = 0\n",
    "for i in range(X_val.shape[0]):\n",
    "    if all(predict(W,B,G,X_val[i]) == y_val[i]):\n",
    "        correct_val += 1\n",
    "        \n",
    "val_accuracy = correct_val/X_val.shape[0]"
   ]
  },
  {
   "cell_type": "code",
   "execution_count": 28,
   "id": "a4a89e43",
   "metadata": {},
   "outputs": [
    {
     "name": "stdout",
     "output_type": "stream",
     "text": [
      "Training Accuracy:     0.0\n",
      "Validation Accuracy:   0.0\n",
      "Test Accuracy:         1.0\n"
     ]
    }
   ],
   "source": [
    "# compute test accuracy (write code to compute the accuracy of predictions on the test set)\n",
    "correct_test = 0\n",
    "for i in range(X_test.shape[0]):\n",
    "    #print(predict(W,B,G,X[i]))\n",
    "    if all(predict(W,B,G,X_test[i]) == y_test[i]):\n",
    "        correct_test += 1\n",
    "        \n",
    "test_accuracy = correct_test/X_test.shape[0]\n",
    "\n",
    "print(f'Training Accuracy:     {train_accuracy}')\n",
    "print(f'Validation Accuracy:   {val_accuracy}')\n",
    "print(f'Test Accuracy:         {test_accuracy}')"
   ]
  },
  {
   "cell_type": "code",
   "execution_count": null,
   "id": "3956848d",
   "metadata": {},
   "outputs": [],
   "source": []
  }
 ],
 "metadata": {
  "kernelspec": {
   "display_name": "Python 3 (ipykernel)",
   "language": "python",
   "name": "python3"
  },
  "language_info": {
   "codemirror_mode": {
    "name": "ipython",
    "version": 3
   },
   "file_extension": ".py",
   "mimetype": "text/x-python",
   "name": "python",
   "nbconvert_exporter": "python",
   "pygments_lexer": "ipython3",
   "version": "3.9.7"
  }
 },
 "nbformat": 4,
 "nbformat_minor": 5
}

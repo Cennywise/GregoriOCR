{
 "cells": [
  {
   "cell_type": "markdown",
   "source": [
    "# The Game\n",
    "\n",
    "This notebook contains explanations about the classes related to running pong.\n",
    "\n",
    "The pong game consists of three classes, located in the Pong directory in the Game.py file. These classes are Game, Paddle, and Pong, each of which will be explained in detail in their own section."
   ],
   "metadata": {
    "collapsed": false
   }
  },
  {
   "cell_type": "markdown",
   "source": [
    "### Pong Class\n",
    "\n",
    "The pong class is the ball that the paddles bounce back and forth. It consists of an x coordinate, y coordinate, velocity, and if it should be drawn. If the game is being drawn it also consists of a turtle that is used to draw the ball.\n",
    "\n",
    "Let's define the class and talk about its specific functions."
   ],
   "metadata": {
    "collapsed": false
   }
  },
  {
   "cell_type": "code",
   "execution_count": 1,
   "outputs": [],
   "source": [
    "class Pong:\n",
    "    def __init__(self, draw, speed=None):\n",
    "        if speed is None:\n",
    "            speed = [-1, -1]\n",
    "        self.x = 0\n",
    "        self.y = 0\n",
    "        self.velocity = speed\n",
    "        self.draw = draw\n",
    "\n",
    "        if draw:\n",
    "            import turtle\n",
    "            turtle.TurtleScreen._RUNNING = True\n",
    "            ball = turtle.Turtle()\n",
    "            ball.shape(\"circle\")\n",
    "            ball.color(\"blue\")\n",
    "            ball.penup()\n",
    "            ball.goto(self.x, self.y)\n",
    "            ball.speed(40)\n",
    "            self.ball = ball\n",
    "\n",
    "    # Moves the pong by velocity every game step\n",
    "    def move(self):\n",
    "        v = self.velocity\n",
    "        self.x += v[0]\n",
    "        self.y += v[1]\n",
    "        if self.draw:\n",
    "            self.ball.setx(self.x), self.ball.sety(self.y)\n",
    "\n",
    "    # Returns the x,y coordinate pair of the ball.\n",
    "    def getCords(self):\n",
    "        return self.x, self.y\n",
    "\n",
    "    # Sets the y coordinate of the ball\n",
    "    def setY(self, y):\n",
    "        self.y = y\n",
    "        if self.draw:\n",
    "            self.ball.sety(y)\n",
    "\n",
    "    # Sets the x coordinate of the ball\n",
    "    def setX(self, x):\n",
    "        self.x = x\n",
    "        if self.draw:\n",
    "            self.ball.setx(x)\n",
    "\n",
    "    # Scales the velocity by the inputted vector\n",
    "    def scaleVelocity(self, v):\n",
    "        self.velocity[0] *= v[0]\n",
    "        self.velocity[1] *= v[1]"
   ],
   "metadata": {
    "collapsed": false
   }
  },
  {
   "cell_type": "markdown",
   "source": [
    "### Functions of Pong Class\n",
    "\n",
    "The Pong class has 5 functions:\n",
    "\n",
    "- The move function changes the x and y coordinates of the pong by the velocity of the pong.\n",
    "- The getCords function returns the current x and y coordinates of the pong.\n",
    "- The setY and setX functions set their respective coordinate to the provided value.\n",
    "- The scaleVelocity function multiplies the velocity of the pong by the provided vector."
   ],
   "metadata": {
    "collapsed": false
   }
  },
  {
   "cell_type": "markdown",
   "source": [
    "### Paddle Class\n",
    "\n",
    "The paddle class is the basis for the two paddles that pass the pong back and forth. It consists of an x and y coordinate. If the game is being drawn it also consists of a turtle to display the paddle.\n",
    "\n",
    "Let's define the class and talk about its functions."
   ],
   "metadata": {
    "collapsed": false
   }
  },
  {
   "cell_type": "code",
   "execution_count": 3,
   "outputs": [],
   "source": [
    "class Paddle:\n",
    "    def __init__(self, place, draw):\n",
    "        self.y = place[1]\n",
    "        self.x = place[0]\n",
    "        self.draw = draw\n",
    "        if draw:\n",
    "            import turtle\n",
    "            turtle.TurtleScreen._RUNNING = True\n",
    "            pad = turtle.Turtle()\n",
    "            pad.shape(\"square\")\n",
    "            pad.color(\"white\")\n",
    "            pad.shapesize(stretch_wid=6, stretch_len=2)\n",
    "            pad.penup()\n",
    "            pad.goto(place[0], place[1])\n",
    "            self.pad = pad\n",
    "\n",
    "    # This could be done with 1 function, but in order for the game to work in manual mode it needs to be called like this\n",
    "    # Moves the paddle by v, positive v move the paddle up, negative move it down.\n",
    "    def paddleMoveUp(self, v=5):\n",
    "        self.y += v\n",
    "        if self.draw:\n",
    "            self.pad.sety(self.y)\n",
    "\n",
    "    def paddleMoveDown(self, v=-5):\n",
    "        self.y += v\n",
    "        if self.draw:\n",
    "            self.pad.sety(self.y)\n",
    "\n",
    "    # Returns the y coordinate of the paddle\n",
    "    def getY(self):\n",
    "        return self.y"
   ],
   "metadata": {
    "collapsed": false
   }
  },
  {
   "cell_type": "markdown",
   "source": [
    "### Functions of the Paddle Class\n",
    "\n",
    "The paddle class has 3 functions, 2 of which are duplicates needed for the human input version:\n",
    "\n",
    "- The paddleMoveUp/Down functions are used to move the paddle by giving it a value to move it by. This value can be negative to move the paddle down or positive to move the paddle up.\n",
    "- The getY function returns the y coordinate of the paddle."
   ],
   "metadata": {
    "collapsed": false
   }
  },
  {
   "cell_type": "markdown",
   "source": [
    "### Game Class\n",
    "\n",
    "The game class is responsible for running the game. It consists of two paddle objects, called left_paddle and right_paddle, and a pong object. It also has a number of variables such as:\n",
    "- left_player/right_player: Two variables representing the score of each player\n",
    "- draw: If the game should be displayed\n",
    "- size: Dimensions of the game\n",
    "- AI: The type of AI the right player will use. Can be any of the following: \"match\", \"constant\", None\n",
    "\n",
    "If the game is being drawn it has two additional variables, sc which is a turtle screen that everything is drawn in, and score which is a visual representation of the players scores.\n",
    "\n",
    "Let's define the game class and then talk about its functions."
   ],
   "metadata": {
    "collapsed": false
   }
  },
  {
   "cell_type": "code",
   "execution_count": 16,
   "outputs": [],
   "source": [
    "class Game:\n",
    "    def __init__(self, size, AI=\"match\", draw=True):\n",
    "        self.draw = draw\n",
    "        self.size = size\n",
    "        self.AI = AI\n",
    "        self.vel = 1\n",
    "\n",
    "        # Create Paddles and ball\n",
    "        self.left_paddle = Paddle((-size[0] / 2 + 100, 0), draw)\n",
    "        self.right_paddle = Paddle((size[0] / 2 - 100, 0), draw)\n",
    "        self.pong = Pong(draw=draw)\n",
    "\n",
    "        # Create Scores\n",
    "        self.left_player = 0\n",
    "        self.right_player = 0\n",
    "\n",
    "        if draw:\n",
    "            import turtle\n",
    "            turtle.TurtleScreen._RUNNING = True\n",
    "            sc = turtle.Screen()\n",
    "            sc.title(\"Pong\")\n",
    "            sc.bgcolor(\"black\")\n",
    "            sc.setup(width=size[0], height=size[1])\n",
    "            score = turtle.Turtle()\n",
    "            score.speed(0)\n",
    "            score.color(\"blue\")\n",
    "            score.penup()\n",
    "            score.hideturtle()\n",
    "            score.goto(0, size[1] / 2 - 40)\n",
    "            score.write(\"Left_player : 0    Right_player: 0\", align=\"center\", font=(\"Courier\", 24, \"normal\"))\n",
    "            self.score = score\n",
    "            sc.onkeypress(self.left_paddle.paddleMoveUp, \"e\")\n",
    "            sc.onkeypress(self.left_paddle.paddleMoveDown, \"x\")\n",
    "            sc.onkeypress(self.right_paddle.paddleMoveUp, \"Up\")\n",
    "            sc.onkeypress(self.right_paddle.paddleMoveDown, \"Down\")\n",
    "            sc.listen()\n",
    "            self.sc = sc\n",
    "\n",
    "    def gameStep(self):\n",
    "        draw = self.draw\n",
    "        if draw:\n",
    "            self.sc.update()\n",
    "        self.pong.move()\n",
    "        x, y = self.pong.getCords()\n",
    "        w, h = self.size\n",
    "\n",
    "        if self.AI == \"match\":\n",
    "            self.right_paddle.paddleMoveUp(self.pong.velocity[1])\n",
    "        elif self.AI == \"constant\":\n",
    "            self.right_paddle.paddleMoveUp(self.vel)\n",
    "            if self.right_paddle.getY() < -h / 2 or self.right_paddle.getY() > h / 2:\n",
    "                self.vel *= -1\n",
    "\n",
    "        # Ball hits top or bottom\n",
    "\n",
    "        if y > h / 2 - 20:\n",
    "            self.pong.setY(h / 2 - 20)\n",
    "            self.pong.scaleVelocity([1, -1])\n",
    "        if y < - h / 2 + 20:\n",
    "            self.pong.setY(- h / 2 + 20)\n",
    "            self.pong.scaleVelocity([1, -1])\n",
    "\n",
    "        # Ball is scored\n",
    "\n",
    "        if x > w / 2:\n",
    "            self.pong.setX(0), self.pong.setY(0)\n",
    "            self.pong.scaleVelocity([-1, -1])\n",
    "            self.left_player += 1\n",
    "            if draw:\n",
    "                self.score.clear()\n",
    "                self.score.write(\"Left_player : {}    Right_player: {}\".format(self.left_player, self.right_player),\n",
    "                                 align=\"center\", font=(\"Courier\", 24, \"normal\"))\n",
    "        if x < -w / 2:\n",
    "            self.pong.setX(0), self.pong.setY(0)\n",
    "            self.pong.scaleVelocity([-1, -1])\n",
    "            self.right_player += 1\n",
    "            if draw:\n",
    "                self.score.clear()\n",
    "                self.score.write(\"Left_player : {}    Right_player: {}\".format(self.left_player, self.right_player),\n",
    "                                 align=\"center\", font=(\"Courier\", 24, \"normal\"))\n",
    "\n",
    "        # Ball hits Paddle\n",
    "        ly, ry = self.left_paddle.getY(), self.right_paddle.getY()\n",
    "        # if -w / 2 + 100 < x < -w / 2 + 140:\n",
    "        #     print(ly, y)\n",
    "        if w / 2 - 100 > x > w / 2 - 140 and ry + 40 > y > ry - 40:\n",
    "            self.pong.setX(w / 2 - 140)\n",
    "            self.pong.scaleVelocity([-1, 1])\n",
    "        if -w / 2 + 100 < x < -w / 2 + 140 and ly + 40 > y > ly - 40:\n",
    "            self.pong.setX(-w / 2 + 140)\n",
    "            self.pong.scaleVelocity([-1, 1])\n",
    "\n",
    "    def play(self):\n",
    "        while True:\n",
    "            self.gameStep()\n",
    "\n",
    "    def getCords(self):\n",
    "        ball = self.pong.getCords()\n",
    "        return self.left_paddle.getY(), ball[0], ball[1], self.left_paddle.getY() - ball[1]"
   ],
   "metadata": {
    "collapsed": false
   }
  },
  {
   "cell_type": "markdown",
   "source": [
    "### Functions of the Game Class\n",
    "\n",
    "The game class has 3 functions, 2 of which are used for machine learning while 1 of them is used for player interaction:\n",
    "\n",
    "- The gameStep function performs a game step this consists of calling the move function on the pong and checking to see if the pong is colliding with a paddle, or has moved outside the play area. If the pong collided with a paddle it inverts the x velocity. If the pong collided with the top or bottom wall it inverts the y velocity. If the pong was scored it increments the appropriate player's score and resets the pong. If there is an AI selected it also performs the appropriate action on the right paddle.\n",
    "- The getCords function returns the left paddle y coordinate, the coordinates of the pong, and the difference between the left paddle y coordinate and the pong's y coordinate.\n",
    "- The play function is meant for use in player only games and just endlessly performs the gameStep function."
   ],
   "metadata": {
    "collapsed": false
   }
  },
  {
   "cell_type": "markdown",
   "source": [
    "## Using the Classes\n",
    "\n",
    "In order to create a game you call the game class and pass in the size of the game screen you want as a tuple. If there is less than one player you can select the type of AI you want the opponent to use. From there you can call game.play() in order to play the game.\n",
    "\n",
    "The controls for the left paddle are \"e\" to move the paddle up and \"x\" to move the paddle down. The controls for the right paddle are \"Up arrow\" to move the paddle up and \"Down arrow\" to move the paddle down."
   ],
   "metadata": {
    "collapsed": false
   }
  },
  {
   "cell_type": "code",
   "execution_count": 19,
   "outputs": [
    {
     "ename": "TclError",
     "evalue": "invalid command name \".!canvas\"",
     "output_type": "error",
     "traceback": [
      "\u001B[1;31m---------------------------------------------------------------------------\u001B[0m",
      "\u001B[1;31mTclError\u001B[0m                                  Traceback (most recent call last)",
      "Cell \u001B[1;32mIn [19], line 3\u001B[0m\n\u001B[0;32m      1\u001B[0m \u001B[38;5;66;03m# Try different AI's. You can choose from: [\"constant\", \"match\", None]\u001B[39;00m\n\u001B[0;32m      2\u001B[0m game \u001B[38;5;241m=\u001B[39m Game((\u001B[38;5;241m1000\u001B[39m, \u001B[38;5;241m500\u001B[39m), AI\u001B[38;5;241m=\u001B[39m\u001B[38;5;28;01mNone\u001B[39;00m)\n\u001B[1;32m----> 3\u001B[0m \u001B[43mgame\u001B[49m\u001B[38;5;241;43m.\u001B[39;49m\u001B[43mplay\u001B[49m\u001B[43m(\u001B[49m\u001B[43m)\u001B[49m\n",
      "Cell \u001B[1;32mIn [16], line 95\u001B[0m, in \u001B[0;36mGame.play\u001B[1;34m(self)\u001B[0m\n\u001B[0;32m     93\u001B[0m \u001B[38;5;28;01mdef\u001B[39;00m \u001B[38;5;21mplay\u001B[39m(\u001B[38;5;28mself\u001B[39m):\n\u001B[0;32m     94\u001B[0m     \u001B[38;5;28;01mwhile\u001B[39;00m \u001B[38;5;28;01mTrue\u001B[39;00m:\n\u001B[1;32m---> 95\u001B[0m         \u001B[38;5;28;43mself\u001B[39;49m\u001B[38;5;241;43m.\u001B[39;49m\u001B[43mgameStep\u001B[49m\u001B[43m(\u001B[49m\u001B[43m)\u001B[49m\n",
      "Cell \u001B[1;32mIn [16], line 43\u001B[0m, in \u001B[0;36mGame.gameStep\u001B[1;34m(self)\u001B[0m\n\u001B[0;32m     41\u001B[0m \u001B[38;5;28;01mif\u001B[39;00m draw:\n\u001B[0;32m     42\u001B[0m     \u001B[38;5;28mself\u001B[39m\u001B[38;5;241m.\u001B[39msc\u001B[38;5;241m.\u001B[39mupdate()\n\u001B[1;32m---> 43\u001B[0m \u001B[38;5;28;43mself\u001B[39;49m\u001B[38;5;241;43m.\u001B[39;49m\u001B[43mpong\u001B[49m\u001B[38;5;241;43m.\u001B[39;49m\u001B[43mmove\u001B[49m\u001B[43m(\u001B[49m\u001B[43m)\u001B[49m\n\u001B[0;32m     44\u001B[0m x, y \u001B[38;5;241m=\u001B[39m \u001B[38;5;28mself\u001B[39m\u001B[38;5;241m.\u001B[39mpong\u001B[38;5;241m.\u001B[39mgetCords()\n\u001B[0;32m     45\u001B[0m w, h \u001B[38;5;241m=\u001B[39m \u001B[38;5;28mself\u001B[39m\u001B[38;5;241m.\u001B[39msize\n",
      "Cell \u001B[1;32mIn [1], line 27\u001B[0m, in \u001B[0;36mPong.move\u001B[1;34m(self)\u001B[0m\n\u001B[0;32m     25\u001B[0m \u001B[38;5;28mself\u001B[39m\u001B[38;5;241m.\u001B[39my \u001B[38;5;241m+\u001B[39m\u001B[38;5;241m=\u001B[39m v[\u001B[38;5;241m1\u001B[39m]\n\u001B[0;32m     26\u001B[0m \u001B[38;5;28;01mif\u001B[39;00m \u001B[38;5;28mself\u001B[39m\u001B[38;5;241m.\u001B[39mdraw:\n\u001B[1;32m---> 27\u001B[0m     \u001B[38;5;28;43mself\u001B[39;49m\u001B[38;5;241;43m.\u001B[39;49m\u001B[43mball\u001B[49m\u001B[38;5;241;43m.\u001B[39;49m\u001B[43msetx\u001B[49m\u001B[43m(\u001B[49m\u001B[38;5;28;43mself\u001B[39;49m\u001B[38;5;241;43m.\u001B[39;49m\u001B[43mx\u001B[49m\u001B[43m)\u001B[49m, \u001B[38;5;28mself\u001B[39m\u001B[38;5;241m.\u001B[39mball\u001B[38;5;241m.\u001B[39msety(\u001B[38;5;28mself\u001B[39m\u001B[38;5;241m.\u001B[39my)\n",
      "File \u001B[1;32m~\\AppData\\Local\\Programs\\Python\\Python310\\lib\\turtle.py:1808\u001B[0m, in \u001B[0;36mTNavigator.setx\u001B[1;34m(self, x)\u001B[0m\n\u001B[0;32m   1792\u001B[0m \u001B[38;5;28;01mdef\u001B[39;00m \u001B[38;5;21msetx\u001B[39m(\u001B[38;5;28mself\u001B[39m, x):\n\u001B[0;32m   1793\u001B[0m     \u001B[38;5;124;03m\"\"\"Set the turtle's first coordinate to x\u001B[39;00m\n\u001B[0;32m   1794\u001B[0m \n\u001B[0;32m   1795\u001B[0m \u001B[38;5;124;03m    Argument:\u001B[39;00m\n\u001B[1;32m   (...)\u001B[0m\n\u001B[0;32m   1806\u001B[0m \u001B[38;5;124;03m    (10.00, 240.00)\u001B[39;00m\n\u001B[0;32m   1807\u001B[0m \u001B[38;5;124;03m    \"\"\"\u001B[39;00m\n\u001B[1;32m-> 1808\u001B[0m     \u001B[38;5;28;43mself\u001B[39;49m\u001B[38;5;241;43m.\u001B[39;49m\u001B[43m_goto\u001B[49m\u001B[43m(\u001B[49m\u001B[43mVec2D\u001B[49m\u001B[43m(\u001B[49m\u001B[43mx\u001B[49m\u001B[43m,\u001B[49m\u001B[43m \u001B[49m\u001B[38;5;28;43mself\u001B[39;49m\u001B[38;5;241;43m.\u001B[39;49m\u001B[43m_position\u001B[49m\u001B[43m[\u001B[49m\u001B[38;5;241;43m1\u001B[39;49m\u001B[43m]\u001B[49m\u001B[43m)\u001B[49m\u001B[43m)\u001B[49m\n",
      "File \u001B[1;32m~\\AppData\\Local\\Programs\\Python\\Python310\\lib\\turtle.py:3159\u001B[0m, in \u001B[0;36mRawTurtle._goto\u001B[1;34m(self, end)\u001B[0m\n\u001B[0;32m   3151\u001B[0m go_modes \u001B[38;5;241m=\u001B[39m ( \u001B[38;5;28mself\u001B[39m\u001B[38;5;241m.\u001B[39m_drawing,\n\u001B[0;32m   3152\u001B[0m              \u001B[38;5;28mself\u001B[39m\u001B[38;5;241m.\u001B[39m_pencolor,\n\u001B[0;32m   3153\u001B[0m              \u001B[38;5;28mself\u001B[39m\u001B[38;5;241m.\u001B[39m_pensize,\n\u001B[0;32m   3154\u001B[0m              \u001B[38;5;28misinstance\u001B[39m(\u001B[38;5;28mself\u001B[39m\u001B[38;5;241m.\u001B[39m_fillpath, \u001B[38;5;28mlist\u001B[39m))\n\u001B[0;32m   3155\u001B[0m screen \u001B[38;5;241m=\u001B[39m \u001B[38;5;28mself\u001B[39m\u001B[38;5;241m.\u001B[39mscreen\n\u001B[0;32m   3156\u001B[0m undo_entry \u001B[38;5;241m=\u001B[39m (\u001B[38;5;124m\"\u001B[39m\u001B[38;5;124mgo\u001B[39m\u001B[38;5;124m\"\u001B[39m, \u001B[38;5;28mself\u001B[39m\u001B[38;5;241m.\u001B[39m_position, end, go_modes,\n\u001B[0;32m   3157\u001B[0m               (\u001B[38;5;28mself\u001B[39m\u001B[38;5;241m.\u001B[39mcurrentLineItem,\n\u001B[0;32m   3158\u001B[0m               \u001B[38;5;28mself\u001B[39m\u001B[38;5;241m.\u001B[39mcurrentLine[:],\n\u001B[1;32m-> 3159\u001B[0m               \u001B[43mscreen\u001B[49m\u001B[38;5;241;43m.\u001B[39;49m\u001B[43m_pointlist\u001B[49m\u001B[43m(\u001B[49m\u001B[38;5;28;43mself\u001B[39;49m\u001B[38;5;241;43m.\u001B[39;49m\u001B[43mcurrentLineItem\u001B[49m\u001B[43m)\u001B[49m,\n\u001B[0;32m   3160\u001B[0m               \u001B[38;5;28mself\u001B[39m\u001B[38;5;241m.\u001B[39mitems[:])\n\u001B[0;32m   3161\u001B[0m               )\n\u001B[0;32m   3162\u001B[0m \u001B[38;5;28;01mif\u001B[39;00m \u001B[38;5;28mself\u001B[39m\u001B[38;5;241m.\u001B[39mundobuffer:\n\u001B[0;32m   3163\u001B[0m     \u001B[38;5;28mself\u001B[39m\u001B[38;5;241m.\u001B[39mundobuffer\u001B[38;5;241m.\u001B[39mpush(undo_entry)\n",
      "File \u001B[1;32m~\\AppData\\Local\\Programs\\Python\\Python310\\lib\\turtle.py:753\u001B[0m, in \u001B[0;36mTurtleScreenBase._pointlist\u001B[1;34m(self, item)\u001B[0m\n\u001B[0;32m    745\u001B[0m \u001B[38;5;28;01mdef\u001B[39;00m \u001B[38;5;21m_pointlist\u001B[39m(\u001B[38;5;28mself\u001B[39m, item):\n\u001B[0;32m    746\u001B[0m     \u001B[38;5;124;03m\"\"\"returns list of coordinate-pairs of points of item\u001B[39;00m\n\u001B[0;32m    747\u001B[0m \u001B[38;5;124;03m    Example (for insiders):\u001B[39;00m\n\u001B[0;32m    748\u001B[0m \u001B[38;5;124;03m    >>> from turtle import *\u001B[39;00m\n\u001B[1;32m   (...)\u001B[0m\n\u001B[0;32m    751\u001B[0m \u001B[38;5;124;03m    (9.9999999999999982, 0.0)]\u001B[39;00m\n\u001B[0;32m    752\u001B[0m \u001B[38;5;124;03m    >>> \"\"\"\u001B[39;00m\n\u001B[1;32m--> 753\u001B[0m     cl \u001B[38;5;241m=\u001B[39m \u001B[38;5;28;43mself\u001B[39;49m\u001B[38;5;241;43m.\u001B[39;49m\u001B[43mcv\u001B[49m\u001B[38;5;241;43m.\u001B[39;49m\u001B[43mcoords\u001B[49m\u001B[43m(\u001B[49m\u001B[43mitem\u001B[49m\u001B[43m)\u001B[49m\n\u001B[0;32m    754\u001B[0m     pl \u001B[38;5;241m=\u001B[39m [(cl[i], \u001B[38;5;241m-\u001B[39mcl[i\u001B[38;5;241m+\u001B[39m\u001B[38;5;241m1\u001B[39m]) \u001B[38;5;28;01mfor\u001B[39;00m i \u001B[38;5;129;01min\u001B[39;00m \u001B[38;5;28mrange\u001B[39m(\u001B[38;5;241m0\u001B[39m, \u001B[38;5;28mlen\u001B[39m(cl), \u001B[38;5;241m2\u001B[39m)]\n\u001B[0;32m    755\u001B[0m     \u001B[38;5;28;01mreturn\u001B[39;00m  pl\n",
      "File \u001B[1;32m<string>:1\u001B[0m, in \u001B[0;36mcoords\u001B[1;34m(self, *args, **kw)\u001B[0m\n",
      "File \u001B[1;32m~\\AppData\\Local\\Programs\\Python\\Python310\\lib\\tkinter\\__init__.py:2795\u001B[0m, in \u001B[0;36mCanvas.coords\u001B[1;34m(self, *args)\u001B[0m\n\u001B[0;32m   2791\u001B[0m \u001B[38;5;124;03m\"\"\"Return a list of coordinates for the item given in ARGS.\"\"\"\u001B[39;00m\n\u001B[0;32m   2792\u001B[0m \u001B[38;5;66;03m# XXX Should use _flatten on args\u001B[39;00m\n\u001B[0;32m   2793\u001B[0m \u001B[38;5;28;01mreturn\u001B[39;00m [\u001B[38;5;28mself\u001B[39m\u001B[38;5;241m.\u001B[39mtk\u001B[38;5;241m.\u001B[39mgetdouble(x) \u001B[38;5;28;01mfor\u001B[39;00m x \u001B[38;5;129;01min\u001B[39;00m\n\u001B[0;32m   2794\u001B[0m                    \u001B[38;5;28mself\u001B[39m\u001B[38;5;241m.\u001B[39mtk\u001B[38;5;241m.\u001B[39msplitlist(\n\u001B[1;32m-> 2795\u001B[0m            \u001B[38;5;28;43mself\u001B[39;49m\u001B[38;5;241;43m.\u001B[39;49m\u001B[43mtk\u001B[49m\u001B[38;5;241;43m.\u001B[39;49m\u001B[43mcall\u001B[49m\u001B[43m(\u001B[49m\u001B[43m(\u001B[49m\u001B[38;5;28;43mself\u001B[39;49m\u001B[38;5;241;43m.\u001B[39;49m\u001B[43m_w\u001B[49m\u001B[43m,\u001B[49m\u001B[43m \u001B[49m\u001B[38;5;124;43m'\u001B[39;49m\u001B[38;5;124;43mcoords\u001B[39;49m\u001B[38;5;124;43m'\u001B[39;49m\u001B[43m)\u001B[49m\u001B[43m \u001B[49m\u001B[38;5;241;43m+\u001B[39;49m\u001B[43m \u001B[49m\u001B[43margs\u001B[49m\u001B[43m)\u001B[49m)]\n",
      "\u001B[1;31mTclError\u001B[0m: invalid command name \".!canvas\""
     ]
    }
   ],
   "source": [
    "# Try different AI's. You can choose from: [\"constant\", \"match\", None]\n",
    "game = Game((1000, 500), AI=None)\n",
    "game.play()"
   ],
   "metadata": {
    "collapsed": false
   }
  }
 ],
 "metadata": {
  "kernelspec": {
   "display_name": "Python 3",
   "language": "python",
   "name": "python3"
  },
  "language_info": {
   "codemirror_mode": {
    "name": "ipython",
    "version": 2
   },
   "file_extension": ".py",
   "mimetype": "text/x-python",
   "name": "python",
   "nbconvert_exporter": "python",
   "pygments_lexer": "ipython2",
   "version": "2.7.6"
  }
 },
 "nbformat": 4,
 "nbformat_minor": 0
}

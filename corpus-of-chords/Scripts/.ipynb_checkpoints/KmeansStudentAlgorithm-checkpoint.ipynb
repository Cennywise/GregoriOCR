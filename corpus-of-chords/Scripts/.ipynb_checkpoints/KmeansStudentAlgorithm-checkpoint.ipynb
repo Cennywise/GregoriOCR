{
 "cells": [
  {
   "cell_type": "code",
   "execution_count": 2,
   "id": "adaf9cfd",
   "metadata": {},
   "outputs": [],
   "source": [
    "import dataProsessing as dp\n",
    "import numpy as np\n",
    "import os\n",
    "import io\n",
    "import json\n",
    "import math, random, time\n",
    "from numpy import linalg as LA\n",
    "import music21  \n",
    "from tabulate import tabulate\n",
    "import collections as coll"
   ]
  },
  {
   "cell_type": "code",
   "execution_count": 3,
   "id": "bc93b0c5",
   "metadata": {},
   "outputs": [],
   "source": [
    "#RUN THIS ONCE\n",
    "os.chdir(\"../\")"
   ]
  },
  {
   "cell_type": "markdown",
   "id": "1403b2a8",
   "metadata": {},
   "source": [
    "This is the k_means algorithm written in Chandler's class MAT167 HW4 summer 2022. We will run it on our weights output from word2vec, then view information about the various clusters."
   ]
  },
  {
   "cell_type": "code",
   "execution_count": 4,
   "id": "bb283e44",
   "metadata": {},
   "outputs": [],
   "source": [
    "def k_means(M,k,tol = .01, max_iters = 100):\n",
    "    ################################## your code goes here ##########################################\n",
    "\n",
    "    #inits\n",
    "    steps = 0\n",
    "    prev = tol+1\n",
    "    current = 0\n",
    "    m = len(M)\n",
    "    n = len(M[0,:])\n",
    "    initialize = random.sample(range(n),k)\n",
    "    KM = M[:,initialize].astype(np.float32) \n",
    "    partition = [0] * n\n",
    "    \n",
    "    while (abs(prev-current) > tol) and (steps < max_iters):\n",
    "        steps += 1\n",
    "        for i in range(n):\n",
    "            # find closest column of KM\n",
    "            prev_diff = -1\n",
    "            for j in range(k):\n",
    "                diff = LA.norm(M[:,i]-KM[:,j],2)\n",
    "                if prev_diff <0 or diff<prev_diff:\n",
    "                    prev_diff = diff\n",
    "                    partition[i] = j\n",
    "        \n",
    "        for j in range(k):\n",
    "            # KM[:,j] = take mean of cols such that partition[s] == j\n",
    "            s_indices = [ s for s in range(n) if partition[s] == j]\n",
    "            S = M[:,s_indices]\n",
    "            KM[:,j] = S.sum(axis = 1) / len(s_indices)\n",
    "        \n",
    "        prev = current\n",
    "        current = sum([LA.norm(M[:,i]-KM[:,partition[i]]) for i in range(n)])\n",
    "        \n",
    "        print(f'after {steps} steps the residue is {current}')\n",
    "        \n",
    "    return(KM, partition)\n"
   ]
  },
  {
   "cell_type": "markdown",
   "id": "14c48fd2",
   "metadata": {},
   "source": [
    "Load corpi of chords:\n",
    "Input needed: set model_name manually from available files in weights folder\n",
    "- vocab: dictionary with key:value as (chord vector in midi format):index\n",
    "- inv_vocab: chords as vector using midi numbers\n",
    "- weights: weight vectors outputted from word2vec\n",
    "\n",
    "inv_vocab and weights indexing are such that the ith entry in inv_vocab corresponds with the ith entry in weights"
   ]
  },
  {
   "cell_type": "code",
   "execution_count": 5,
   "id": "eae363b7",
   "metadata": {},
   "outputs": [],
   "source": [
    "#set model_name manually\n",
    "model_name = \"d_128 n_15\"\n",
    "\n",
    "datasetName = \"Jsb16thSeparated(t_60_rr_re)\"\n",
    "\n",
    "#add option for / vs \\ check TODO\n",
    "vocab = dataset = json.load(open(\"Data/Corpi/\" + datasetName + \"/\" + datasetName +\"_vocab.json\"))\n",
    "inv_vocab = vocab[\"inv_vocab\"]\n",
    "vocab = vocab[\"vocab\"]\n",
    "weights = json.load(open(\"Data/Corpi/\" + datasetName + \"/weights/\" + model_name))\n",
    "weights_km = np.array(weights).T"
   ]
  },
  {
   "cell_type": "markdown",
   "id": "45136032",
   "metadata": {},
   "source": [
    "Gather chord information and format ...\n",
    "\n",
    "- labels_km: [ [chord name, chord root tone, chord quality] ] as determined by music21. "
   ]
  },
  {
   "cell_type": "code",
   "execution_count": 6,
   "id": "b6e8b7c7",
   "metadata": {
    "scrolled": true
   },
   "outputs": [
    {
     "name": "stdout",
     "output_type": "stream",
     "text": [
      "0th step\n",
      "300th step\n",
      "600th step\n",
      "900th step\n",
      "1200th step\n",
      "1500th step\n",
      "1800th step\n",
      "2100th step\n",
      "2400th step\n",
      "2700th step\n",
      "3000th step\n",
      "3300th step\n",
      "3600th step\n",
      "3900th step\n",
      "4200th step\n",
      "4500th step\n",
      "4800th step\n",
      "5100th step\n",
      "5400th step\n",
      "5700th step\n",
      "6000th step\n",
      "6300th step\n",
      "6600th step\n",
      "6900th step\n"
     ]
    }
   ],
   "source": [
    "labels_km = dp.getChordLabels(inv_vocab,True,True) #gets (chord name, chord root, chord quality)"
   ]
  },
  {
   "cell_type": "markdown",
   "id": "bc1fce54",
   "metadata": {},
   "source": [
    "Now we run k_means! Here we use 24 clusters."
   ]
  },
  {
   "cell_type": "code",
   "execution_count": 7,
   "id": "f3ac9408",
   "metadata": {},
   "outputs": [
    {
     "name": "stdout",
     "output_type": "stream",
     "text": [
      "after 1 steps the residue is 14793.458108388599\n",
      "after 2 steps the residue is 14239.719070242985\n",
      "after 3 steps the residue is 14086.602399871306\n",
      "after 4 steps the residue is 14008.581960300393\n",
      "after 5 steps the residue is 13961.326297995241\n",
      "after 6 steps the residue is 13937.170031525256\n",
      "after 7 steps the residue is 13922.892710652168\n",
      "after 8 steps the residue is 13914.207886890725\n",
      "after 9 steps the residue is 13909.567558036013\n",
      "after 10 steps the residue is 13907.164252426543\n",
      "after 11 steps the residue is 13905.706482696674\n",
      "after 12 steps the residue is 13904.517541402492\n",
      "after 13 steps the residue is 13903.52679466695\n",
      "after 14 steps the residue is 13902.661885584688\n",
      "after 15 steps the residue is 13901.797071394929\n",
      "after 16 steps the residue is 13901.386474403402\n",
      "after 17 steps the residue is 13900.90835750141\n",
      "after 18 steps the residue is 13900.452432891068\n",
      "after 19 steps the residue is 13899.85611496451\n",
      "after 20 steps the residue is 13899.30309927734\n",
      "after 21 steps the residue is 13898.805217848829\n",
      "after 22 steps the residue is 13898.439977677172\n",
      "after 23 steps the residue is 13898.22137445648\n",
      "after 24 steps the residue is 13898.003322865778\n",
      "after 25 steps the residue is 13897.843438879381\n",
      "after 26 steps the residue is 13897.710717055705\n",
      "after 27 steps the residue is 13897.601510033666\n",
      "after 28 steps the residue is 13897.484876161538\n",
      "after 29 steps the residue is 13897.364242766003\n",
      "after 30 steps the residue is 13897.252241061484\n",
      "after 31 steps the residue is 13897.076131655307\n",
      "after 32 steps the residue is 13896.912767994696\n",
      "after 33 steps the residue is 13896.728455056198\n",
      "after 34 steps the residue is 13896.556095924569\n",
      "after 35 steps the residue is 13896.304730250582\n",
      "after 36 steps the residue is 13896.06309107722\n",
      "after 37 steps the residue is 13895.757451529287\n",
      "after 38 steps the residue is 13895.611122483702\n",
      "after 39 steps the residue is 13895.500386079475\n",
      "after 40 steps the residue is 13895.455146132163\n",
      "after 41 steps the residue is 13895.418482750953\n",
      "after 42 steps the residue is 13895.399637686969\n",
      "after 43 steps the residue is 13895.332963611621\n",
      "after 44 steps the residue is 13895.301167177724\n",
      "after 45 steps the residue is 13895.22476010045\n",
      "after 46 steps the residue is 13895.024584580338\n",
      "after 47 steps the residue is 13894.872867064121\n",
      "after 48 steps the residue is 13894.767709200782\n",
      "after 49 steps the residue is 13894.59101089881\n",
      "after 50 steps the residue is 13894.512833941199\n",
      "after 51 steps the residue is 13894.354173712161\n",
      "after 52 steps the residue is 13894.286066274752\n",
      "after 53 steps the residue is 13894.169350714461\n",
      "after 54 steps the residue is 13893.993193388693\n",
      "after 55 steps the residue is 13893.854404778613\n",
      "after 56 steps the residue is 13893.634561324874\n",
      "after 57 steps the residue is 13893.501230413654\n",
      "after 58 steps the residue is 13893.349953934408\n",
      "after 59 steps the residue is 13893.202790991061\n",
      "after 60 steps the residue is 13892.939989822822\n",
      "after 61 steps the residue is 13892.470730195524\n",
      "after 62 steps the residue is 13892.028226470482\n",
      "after 63 steps the residue is 13891.89686428129\n",
      "after 64 steps the residue is 13891.844083036243\n",
      "after 65 steps the residue is 13891.851225159628\n",
      "after 66 steps the residue is 13891.846031657082\n",
      "after 67 steps the residue is 13891.787773057968\n",
      "after 68 steps the residue is 13891.787773057968\n"
     ]
    }
   ],
   "source": [
    "k = 24\n",
    "KM,partition = k_means(weights_km,k,.0001,100)"
   ]
  },
  {
   "cell_type": "markdown",
   "id": "d203301a",
   "metadata": {},
   "source": [
    "Now we print a table containing some information about the clustering. \n"
   ]
  },
  {
   "cell_type": "code",
   "execution_count": 18,
   "id": "6b4ddeb0",
   "metadata": {},
   "outputs": [
    {
     "name": "stdout",
     "output_type": "stream",
     "text": [
      "Partitions, ChordName\n",
      "  Partition    part. size  0 most common    1 most common    2 most common    3 most common\n",
      "-----------  ------------  ---------------  ---------------  ---------------  ---------------\n",
      "          0        0.0796  ['C', 0.1676]    ['C', 0.1676]    ['C', 0.1676]    ['C', 0.1676]\n",
      "          1        0.0253  ['C', 0.1629]    ['C', 0.1629]    ['C', 0.1629]    ['C', 0.1629]\n",
      "          2        0.0295  ['E-', 0.2019]   ['E-', 0.2019]   ['E-', 0.2019]   ['E-', 0.2019]\n",
      "          3        0.0426  ['C', 0.1933]    ['C', 0.1933]    ['C', 0.1933]    ['C', 0.1933]\n",
      "          4        0.0263  ['F', 0.1676]    ['F', 0.1676]    ['F', 0.1676]    ['F', 0.1676]\n",
      "          5        0.0329  ['D', 0.2026]    ['D', 0.2026]    ['D', 0.2026]    ['D', 0.2026]\n",
      "          6        0.0368  ['E-', 0.2239]   ['E-', 0.2239]   ['E-', 0.2239]   ['E-', 0.2239]\n",
      "          7        0.0095  ['E-', 0.1791]   ['B-', 0.1791]   ['B-', 0.1791]   ['E-', 0.1791]\n",
      "          8        0.0663  ['C', 0.2612]    ['C', 0.2612]    ['C', 0.2612]    ['C', 0.2612]\n",
      "          9        0.1072  ['C', 0.1325]    ['C', 0.1325]    ['C', 0.1325]    ['C', 0.1325]\n",
      "         10        0.0476  ['E-', 0.2]      ['E-', 0.2]      ['E-', 0.2]      ['E-', 0.2]\n",
      "         11        0.0449  ['A', 0.2247]    ['A', 0.2247]    ['A', 0.2247]    ['A', 0.2247]\n",
      "         12        0.0248  ['G', 0.2457]    ['G', 0.2457]    ['G', 0.2457]    ['G', 0.2457]\n",
      "         13        0.0376  ['C', 0.1925]    ['C', 0.1925]    ['C', 0.1925]    ['C', 0.1925]\n",
      "         14        0.016   ['G', 0.2301]    ['G', 0.2301]    ['G', 0.2301]    ['G', 0.2301]\n",
      "         15        0.0485  ['D', 0.1784]    ['D', 0.1784]    ['D', 0.1784]    ['D', 0.1784]\n",
      "         16        0.0314  ['C', 0.1584]    ['C', 0.1584]    ['C', 0.1584]    ['C', 0.1584]\n",
      "         17        0.0446  ['F', 0.1274]    ['F', 0.1274]    ['F', 0.1274]    ['F', 0.1274]\n",
      "         18        0.0314  ['C', 0.2941]    ['C', 0.2941]    ['C', 0.2941]    ['C', 0.2941]\n",
      "         19        0.0345  ['C', 0.2387]    ['C', 0.2387]    ['C', 0.2387]    ['C', 0.2387]\n",
      "         20        0.047   ['C', 0.1843]    ['C', 0.1843]    ['C', 0.1843]    ['C', 0.1843]\n",
      "         21        0.0639  ['F', 0.14]      ['F', 0.14]      ['F', 0.14]      ['F', 0.14]\n",
      "         22        0.0247  ['E-', 0.2011]   ['E-', 0.2011]   ['E-', 0.2011]   ['E-', 0.2011]\n",
      "         23        0.0473  ['C', 0.1772]    ['C', 0.1772]    ['C', 0.1772]    ['C', 0.1772]\n"
     ]
    }
   ],
   "source": [
    "namefreqs,rootfreqs,qualfreaks,partsizes =  partitionFreqs(partition,labels_km)\n",
    "title,tabledata,headers = tabulate_partitions(\"ChordName\",rootfreqs,4,k) #buggie doesn't handle well when n > #eles in partition\n",
    "print(title)\n",
    "print(tabulate(tabledata,headers))"
   ]
  }
 ],
 "metadata": {
  "kernelspec": {
   "display_name": "Python 3 (ipykernel)",
   "language": "python",
   "name": "python3"
  },
  "language_info": {
   "codemirror_mode": {
    "name": "ipython",
    "version": 3
   },
   "file_extension": ".py",
   "mimetype": "text/x-python",
   "name": "python",
   "nbconvert_exporter": "python",
   "pygments_lexer": "ipython3",
   "version": "3.9.15"
  },
  "vscode": {
   "interpreter": {
    "hash": "26de051ba29f2982a8de78e945f0abaf191376122a1563185a90213a26c5da77"
   }
  }
 },
 "nbformat": 4,
 "nbformat_minor": 5
}

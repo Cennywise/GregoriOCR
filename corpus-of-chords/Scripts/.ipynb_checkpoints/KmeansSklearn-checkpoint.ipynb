{
 "cells": [
  {
   "cell_type": "code",
   "execution_count": 8,
   "id": "9ea0eb3c-1e61-47df-bffb-f8f80d6f527f",
   "metadata": {},
   "outputs": [
    {
     "ename": "ModuleNotFoundError",
     "evalue": "No module named 'sklearn'",
     "output_type": "error",
     "traceback": [
      "\u001b[0;31m---------------------------------------------------------------------------\u001b[0m",
      "\u001b[0;31mModuleNotFoundError\u001b[0m                       Traceback (most recent call last)",
      "Input \u001b[0;32mIn [8]\u001b[0m, in \u001b[0;36m<cell line: 9>\u001b[0;34m()\u001b[0m\n\u001b[1;32m      7\u001b[0m \u001b[38;5;28;01mfrom\u001b[39;00m \u001b[38;5;21;01mnumpy\u001b[39;00m \u001b[38;5;28;01mimport\u001b[39;00m linalg \u001b[38;5;28;01mas\u001b[39;00m LA\n\u001b[1;32m      8\u001b[0m \u001b[38;5;28;01mimport\u001b[39;00m \u001b[38;5;21;01mmusic21\u001b[39;00m\n\u001b[0;32m----> 9\u001b[0m \u001b[38;5;28;01mfrom\u001b[39;00m \u001b[38;5;21;01msklearn\u001b[39;00m\u001b[38;5;21;01m.\u001b[39;00m\u001b[38;5;21;01mcluster\u001b[39;00m \u001b[38;5;28;01mimport\u001b[39;00m KMeans\n\u001b[1;32m     10\u001b[0m get_ipython()\u001b[38;5;241m.\u001b[39mrun_line_magic(\u001b[38;5;124m'\u001b[39m\u001b[38;5;124mmatplotlib\u001b[39m\u001b[38;5;124m'\u001b[39m, \u001b[38;5;124m'\u001b[39m\u001b[38;5;124minline\u001b[39m\u001b[38;5;124m'\u001b[39m)\n",
      "\u001b[0;31mModuleNotFoundError\u001b[0m: No module named 'sklearn'"
     ]
    }
   ],
   "source": [
    "import numpy as np\n",
    "import matplotlib.pyplot as plt\n",
    "import os\n",
    "import io\n",
    "import json\n",
    "import math, random, time\n",
    "from numpy import linalg as LA\n",
    "import music21\n",
    "from sklearn.cluster import KMeans\n",
    "%matplotlib inline\n"
   ]
  },
  {
   "cell_type": "code",
   "execution_count": 5,
   "id": "9c23af29",
   "metadata": {},
   "outputs": [
    {
     "ename": "NameError",
     "evalue": "name 'os' is not defined",
     "output_type": "error",
     "traceback": [
      "\u001b[0;31m---------------------------------------------------------------------------\u001b[0m",
      "\u001b[0;31mNameError\u001b[0m                                 Traceback (most recent call last)",
      "Input \u001b[0;32mIn [5]\u001b[0m, in \u001b[0;36m<cell line: 2>\u001b[0;34m()\u001b[0m\n\u001b[1;32m      1\u001b[0m \u001b[38;5;66;03m#RUN THIS ONCE\u001b[39;00m\n\u001b[0;32m----> 2\u001b[0m \u001b[43mos\u001b[49m\u001b[38;5;241m.\u001b[39mchdir(\u001b[38;5;124m\"\u001b[39m\u001b[38;5;124m../\u001b[39m\u001b[38;5;124m\"\u001b[39m)\n",
      "\u001b[0;31mNameError\u001b[0m: name 'os' is not defined"
     ]
    }
   ],
   "source": [
    "#RUN THIS ONCE\n",
    "os.chdir(\"../\")"
   ]
  },
  {
   "cell_type": "markdown",
   "id": "36c46b82",
   "metadata": {},
   "source": [
    "Load corpi of chords:\n",
    "Input needed: set model_name manually from available files in weights folder\n",
    "- vocab: dictionary with key:value as (chord vector in midi format):index\n",
    "- inv_vocab: chords as vector using midi numbers\n",
    "- weights: weight vectors outputted from word2vec\n",
    "\n",
    "inv_vocab and weights indexing are such that the ith entry in inv_vocab corresponds with the ith entry in weights"
   ]
  },
  {
   "cell_type": "code",
   "execution_count": 2,
   "id": "d7519988",
   "metadata": {},
   "outputs": [
    {
     "ename": "NameError",
     "evalue": "name 'json' is not defined",
     "output_type": "error",
     "traceback": [
      "\u001b[0;31m---------------------------------------------------------------------------\u001b[0m",
      "\u001b[0;31mNameError\u001b[0m                                 Traceback (most recent call last)",
      "Input \u001b[0;32mIn [2]\u001b[0m, in \u001b[0;36m<cell line: 5>\u001b[0;34m()\u001b[0m\n\u001b[1;32m      1\u001b[0m model_name \u001b[38;5;241m=\u001b[39m \u001b[38;5;124m\"\u001b[39m\u001b[38;5;124md_128 n_15.json\u001b[39m\u001b[38;5;124m\"\u001b[39m\n\u001b[1;32m      3\u001b[0m datasetName \u001b[38;5;241m=\u001b[39m \u001b[38;5;124m\"\u001b[39m\u001b[38;5;124mJsb16thSeparated(t_60_rr_re)\u001b[39m\u001b[38;5;124m\"\u001b[39m\n\u001b[0;32m----> 5\u001b[0m vocab \u001b[38;5;241m=\u001b[39m \u001b[43mjson\u001b[49m\u001b[38;5;241m.\u001b[39mload(\u001b[38;5;28mopen\u001b[39m(\u001b[38;5;124m\"\u001b[39m\u001b[38;5;124mJsb16thSeparated(t_60_rr_re)_vocab.json\u001b[39m\u001b[38;5;124m\"\u001b[39m))\n\u001b[1;32m      6\u001b[0m inv_vocab \u001b[38;5;241m=\u001b[39m vocab[\u001b[38;5;124m\"\u001b[39m\u001b[38;5;124minv_vocab\u001b[39m\u001b[38;5;124m\"\u001b[39m]\n\u001b[1;32m      7\u001b[0m vocab \u001b[38;5;241m=\u001b[39m vocab[\u001b[38;5;124m\"\u001b[39m\u001b[38;5;124mvocab\u001b[39m\u001b[38;5;124m\"\u001b[39m]\n",
      "\u001b[0;31mNameError\u001b[0m: name 'json' is not defined"
     ]
    }
   ],
   "source": [
    "model_name = \"d_128 n_15.json\"\n",
    "\n",
    "datasetName = \"Jsb16thSeparated(t_60_rr_re)\"\n",
    "\n",
    "vocab = json.load(open(\"Jsb16thSeparated(t_60_rr_re)_vocab.json\"))\n",
    "inv_vocab = vocab[\"inv_vocab\"]\n",
    "vocab = vocab[\"vocab\"]\n",
    "weights = json.load(open(\"d_128 n_15.json\"))"
   ]
  },
  {
   "cell_type": "markdown",
   "id": "e14635a9",
   "metadata": {},
   "source": [
    "Gather chord information and format ...\n",
    "\n",
    "- chord_info: [ [chord name, chord root tone, chord quality] ] as determined by music21. \n",
    "- chord_names: [ chord name ] as determined by music21. "
   ]
  },
  {
   "cell_type": "code",
   "execution_count": null,
   "id": "7d6af50d",
   "metadata": {},
   "outputs": [],
   "source": [
    "chord_info = dp.getChordLabels(inv_vocab,False,True) #gets (chord name)"
   ]
  },
  {
   "cell_type": "code",
   "execution_count": 7,
   "id": "b6f35038",
   "metadata": {},
   "outputs": [
    {
     "ename": "NameError",
     "evalue": "name 'chord_info' is not defined",
     "output_type": "error",
     "traceback": [
      "\u001b[0;31m---------------------------------------------------------------------------\u001b[0m",
      "\u001b[0;31mNameError\u001b[0m                                 Traceback (most recent call last)",
      "Input \u001b[0;32mIn [7]\u001b[0m, in \u001b[0;36m<cell line: 1>\u001b[0;34m()\u001b[0m\n\u001b[0;32m----> 1\u001b[0m chord_names \u001b[38;5;241m=\u001b[39m \u001b[43mchord_info\u001b[49m[:,\u001b[38;5;241m0\u001b[39m]\n",
      "\u001b[0;31mNameError\u001b[0m: name 'chord_info' is not defined"
     ]
    }
   ],
   "source": [
    "chord_names = chord_info[:,0]"
   ]
  },
  {
   "cell_type": "code",
   "execution_count": null,
   "id": "60512a55",
   "metadata": {},
   "outputs": [],
   "source": [
    "Now we the sklearn KMeans implementation. Here we use 15 clusters."
   ]
  },
  {
   "cell_type": "code",
   "execution_count": 16,
   "id": "4bd9971e-65e2-4398-ab07-6acc10bf3b3f",
   "metadata": {},
   "outputs": [
    {
     "data": {
      "text/plain": [
       "array([ 5,  6,  6, ...,  1, 13, 13], dtype=int32)"
      ]
     },
     "execution_count": 16,
     "metadata": {},
     "output_type": "execute_result"
    }
   ],
   "source": [
    "k = 15\n",
    "Kmean = KMeans(n_clusters=k).fit(weights)\n",
    "Kmean.labels_"
   ]
  },
  {
   "cell_type": "code",
   "execution_count": 13,
   "id": "34b4fa87-b4cd-4b40-87c3-0567b3e42fdc",
   "metadata": {},
   "outputs": [
    {
     "name": "stdout",
     "output_type": "stream",
     "text": [
      "[[ 0.02618854 -0.00925054 -0.02828456 ... -0.01917189  0.00385908\n",
      "  -0.00470159]\n",
      " [ 0.01165911  0.05641233  0.06139154 ... -0.11249883  0.11943597\n",
      "  -0.08641931]\n",
      " [ 0.0246615  -0.02662733 -0.18327091 ...  0.0044632  -0.12379376\n",
      "   0.08295758]\n",
      " ...\n",
      " [-0.15513612  0.00868227  0.06414043 ...  0.14769297 -0.13468615\n",
      "   0.12073855]\n",
      " [ 0.0682684  -0.17632349 -0.11229209 ...  0.0210897  -0.17692856\n",
      "   0.06646143]\n",
      " [-0.16305642  0.05299465 -0.16100021 ...  0.14099233 -0.17210558\n",
      "   0.05827448]]\n"
     ]
    }
   ],
   "source": [
    "#Find the cluster centroids.\n",
    "Centroids = Kmean.cluster_centers_\n",
    "print(Centroids)"
   ]
  },
  {
   "cell_type": "markdown",
   "id": "4f0135d9",
   "metadata": {},
   "source": [
    "Now we print a table containing some information about the clustering. \n"
   ]
  },
  {
   "cell_type": "code",
   "execution_count": null,
   "id": "b3cc9cb0-2f30-43f7-a87c-c605499ca02b",
   "metadata": {},
   "outputs": [],
   "source": [
    "namefreqs,rootfreqs,qualfreaks,partsizes =  partitionFreqs(partition,labels_km)\n",
    "title,tabledata,headers = tabulate_partitions(\"ChordName\",rootfreqs,4,k) #buggie doesn't handle well when n > #eles in partition\n",
    "print(title)\n",
    "print(tabulate(tabledata,headers))"
   ]
  },
  {
   "cell_type": "markdown",
   "id": "7cf1d730",
   "metadata": {},
   "source": [
    "This will list the chords by cluster using chord names. "
   ]
  },
  {
   "cell_type": "code",
   "execution_count": 49,
   "id": "91b1875c-452f-4a65-9202-8937a194a358",
   "metadata": {},
   "outputs": [
    {
     "name": "stdout",
     "output_type": "stream",
     "text": [
      "The 3 cluster has these chords: ['C-major triad', 'F-major-second major tetrachord', 'F-major-second major tetrachord', 'A-minor seventh chord', 'F-major triad', 'F-all-interval tetrachord', 'C-major triad', 'A-minor seventh chord', 'B-minor triad', 'C-major triad', 'D-minor seventh chord', 'Major Sixth with octave doublings above B', 'A-minor triad', 'D-dominant seventh chord', 'Minor Sixth with octave doublings above G', 'F-major triad', 'F-major seventh chord', 'G-major triad', 'B-diminished triad', 'B-perfect-fourth diminished tetrachord', 'G#-diminished seventh chord', 'G#-major triad']\n",
      "The 4 cluster has these chords: ['F-all-interval tetrachord', 'C-perfect-fourth major tetrachord', 'C-quartal trichord', 'G-major triad', 'Perfect Fourth with octave doublings above C', 'C-major triad', 'C-major-second major tetrachord', 'C-major triad', 'G-quartal trichord', 'G-major triad', 'G-major triad', 'D-minor seventh chord', 'D-incomplete dominant-seventh chord', 'G-dominant seventh chord', 'Minor Sixth with octave doublings above C', 'A-minor triad', 'D-quartal trichord', 'C-minor triad']\n",
      "The 5 cluster has these chords: ['Eb-major triad', 'C-minor seventh chord']\n",
      "The 6 cluster has these chords: ['G-major triad', 'G-dominant seventh chord', 'C-major triad', 'G-major triad', 'G-incomplete dominant-seventh chord', 'C-major triad', 'E-minor tetramirror', 'F-major triad', 'B-half-diminished seventh chord', 'Major Sixth with octave doublings above E', 'Perfect Fifth with octave doublings above G']\n",
      "The 7 cluster has these chords: ['F-major triad']\n",
      "The 8 cluster has these chords: ['C-major triad']\n",
      "The 9 cluster has these chords: ['Ab-major triad', 'G#-quartal trichord', 'Eb-major triad', 'F-incomplete dominant-seventh chord', 'Db-augmented triad', 'G-diminished triad', 'G#-major triad', 'Eb-major triad', 'Ab-major triad', 'F-dominant seventh chord', 'C-quartal tetramirror', 'G-minor triad', 'Bb-major triad', 'Bb-major triad']\n",
      "The 11 cluster has these chords: ['A-minor triad', 'F-phrygian tetrachord', 'D-minor triad', 'D-minor triad']\n",
      "The 12 cluster has these chords: ['C-minor seventh chord', 'Bb-dominant seventh chord', 'Eb-major triad', 'Bb-major triad', 'Ab-incomplete major-seventh chord', 'Bb-major triad', 'Bb-dominant seventh chord', 'Bb-major-second major tetrachord', 'Minor Sixth with octave doublings above Bb', 'C-quartal tetramirror']\n",
      "The 14 cluster has these chords: ['G-major triad', 'Major Sixth with octave doublings above A', 'C-major triad', 'F-major triad', 'G-dominant seventh chord', 'C-major triad', 'Perfect Fourth with octave doublings above G', 'Major Sixth with octave doublings above E', 'G-dominant seventh chord', 'E-minor seventh chord', 'G-major triad', 'C-major seventh chord', 'A-minor triad', 'A-minor seventh chord']\n"
     ]
    }
   ],
   "source": [
    "#j will iterate through all the n clusters.\n",
    "for j in range(1,16):\n",
    "    #Create a list of chords in each cluster.\n",
    "    chords_list = []\n",
    "    for i in range(len(Kmean.labels_)):\n",
    "        if Kmean.labels_[i] == j:\n",
    "            chords_list.append(chord_names[i])\n",
    "    if chords_list != []:\n",
    "        print(f'The {j} cluster has these chords:', chords_list)\n",
    "        \n",
    "    "
   ]
  }
 ],
 "metadata": {
  "kernelspec": {
   "display_name": "Python 3 (ipykernel)",
   "language": "python",
   "name": "python3"
  },
  "language_info": {
   "codemirror_mode": {
    "name": "ipython",
    "version": 3
   },
   "file_extension": ".py",
   "mimetype": "text/x-python",
   "name": "python",
   "nbconvert_exporter": "python",
   "pygments_lexer": "ipython3",
   "version": "3.9.15"
  }
 },
 "nbformat": 4,
 "nbformat_minor": 5
}

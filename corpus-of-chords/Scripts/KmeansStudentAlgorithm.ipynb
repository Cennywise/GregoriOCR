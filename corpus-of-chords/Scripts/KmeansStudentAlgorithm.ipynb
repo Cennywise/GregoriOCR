{
 "cells": [
  {
   "cell_type": "code",
   "execution_count": 11,
   "id": "adaf9cfd",
   "metadata": {},
   "outputs": [],
   "source": [
    "#import tensorflow as tf\n",
    "#from keras import layers\n",
    "#from keras import preprocessing\n",
    "#import tensorFlowTutorial as t\n",
    "#from tensorboard.plugins import projector\n",
    "import dataProsessing as dp\n",
    "import numpy as np\n",
    "import os\n",
    "import io\n",
    "import json\n",
    "import math, random, time\n",
    "from numpy import linalg as LA\n",
    "import music21  \n",
    "np.set_printoptions(suppress=True)\n",
    "from tabulate import tabulate\n",
    "import collections as coll\n",
    "#import inflect"
   ]
  },
  {
   "cell_type": "code",
   "execution_count": 2,
   "id": "bc93b0c5",
   "metadata": {},
   "outputs": [],
   "source": [
    "home_dir = os.environ['HOME']\n",
    "path_dir: str = home_dir + r\"/MAT180/MAT_180_ML_Projects/corpus-of-chords\"\n",
    "os.chdir(path_dir)"
   ]
  },
  {
   "cell_type": "code",
   "execution_count": 3,
   "id": "bb283e44",
   "metadata": {},
   "outputs": [],
   "source": [
    "def k_means(M,k,tol = .01, max_iters = 100):\n",
    "    ################################## your code goes here ##########################################\n",
    "\n",
    "    #inits\n",
    "    steps = 0\n",
    "    prev = tol+1\n",
    "    current = 0\n",
    "    m = len(M)\n",
    "    n = len(M[0,:])\n",
    "    initialize = random.sample(range(n),k)\n",
    "    KM = M[:,initialize].astype(np.float32) \n",
    "    partition = [0] * n\n",
    "    \n",
    "    while (abs(prev-current) > tol) and (steps < max_iters):\n",
    "        steps += 1\n",
    "        for i in range(n):\n",
    "            # find closest column of KM\n",
    "            prev_diff = -1\n",
    "            for j in range(k):\n",
    "                diff = LA.norm(M[:,i]-KM[:,j],2)\n",
    "                if prev_diff <0 or diff<prev_diff:\n",
    "                    prev_diff = diff\n",
    "                    partition[i] = j\n",
    "        \n",
    "        for j in range(k):\n",
    "            # KM[:,j] = take mean of cols such that partition[s] == j\n",
    "            s_indices = [ s for s in range(n) if partition[s] == j]\n",
    "            S = M[:,s_indices]\n",
    "            KM[:,j] = S.sum(axis = 1) / len(s_indices)\n",
    "        \n",
    "        prev = current\n",
    "        current = sum([LA.norm(M[:,i]-KM[:,partition[i]]) for i in range(n)])\n",
    "        \n",
    "        print(f'after {steps} steps the residue is {current}')\n",
    "        \n",
    "    return(KM, partition)\n"
   ]
  },
  {
   "cell_type": "markdown",
   "id": "14c48fd2",
   "metadata": {},
   "source": [
    "Load corpi of chords:\n",
    "- vocab: dictionary with key:value as (chord vector in midi format):index\n",
    "- inv_vocab: chords as vector using midi numbers\n",
    "- weights: weight vectors outputted from word2vec, ordered corresponding to inv_vocab"
   ]
  },
  {
   "cell_type": "code",
   "execution_count": 4,
   "id": "eae363b7",
   "metadata": {},
   "outputs": [],
   "source": [
    "#set model_name manually\n",
    "model_name = \"d_128 n_15\"\n",
    "\n",
    "datasetName = \"Jsb16thSeparated(t_60_rr_re)\"\n",
    "\n",
    "#add option for / vs \\ check TODO\n",
    "vocab = dataset = json.load(open(\"Data/Corpi/\" + datasetName + \"/\" + datasetName +\"_vocab.json\"))\n",
    "inv_vocab = vocab[\"inv_vocab\"]\n",
    "vocab = vocab[\"vocab\"]\n",
    "weights = json.load(open(\"Data/Corpi/\" + datasetName + \"/weights/\" + model_name))\n",
    "weights_km = np.array(weights).T"
   ]
  },
  {
   "cell_type": "markdown",
   "id": "45136032",
   "metadata": {},
   "source": [
    "Gather chord labels and format ...\n",
    "\n",
    "- weights: np array with weights as np array listed by inv_vocab index\n",
    "- labels_km: dictionary with chord:label"
   ]
  },
  {
   "cell_type": "code",
   "execution_count": 5,
   "id": "b6e8b7c7",
   "metadata": {},
   "outputs": [
    {
     "name": "stdout",
     "output_type": "stream",
     "text": [
      "0th step\n",
      "300th step\n",
      "600th step\n",
      "900th step\n",
      "1200th step\n",
      "1500th step\n",
      "1800th step\n",
      "2100th step\n",
      "2400th step\n",
      "2700th step\n",
      "3000th step\n",
      "3300th step\n",
      "3600th step\n",
      "3900th step\n",
      "4200th step\n",
      "4500th step\n",
      "4800th step\n",
      "5100th step\n",
      "5400th step\n",
      "5700th step\n",
      "6000th step\n",
      "6300th step\n",
      "6600th step\n",
      "6900th step\n"
     ]
    }
   ],
   "source": [
    "labels_km = dp.getChordLabels(inv_vocab,True,True) #gets (chord name, chord root, chord quality)"
   ]
  },
  {
   "cell_type": "code",
   "execution_count": 6,
   "id": "f3ac9408",
   "metadata": {},
   "outputs": [
    {
     "name": "stdout",
     "output_type": "stream",
     "text": [
      "after 1 steps the residue is 14610.99219383493\n",
      "after 2 steps the residue is 14227.813035734067\n",
      "after 3 steps the residue is 14069.09418348907\n",
      "after 4 steps the residue is 13988.83562713949\n",
      "after 5 steps the residue is 13948.696061098548\n",
      "after 6 steps the residue is 13906.227350064597\n",
      "after 7 steps the residue is 13888.0882680225\n",
      "after 8 steps the residue is 13875.540147936248\n",
      "after 9 steps the residue is 13864.859167671468\n",
      "after 10 steps the residue is 13855.903847232805\n",
      "after 11 steps the residue is 13848.579103021193\n",
      "after 12 steps the residue is 13844.134047593003\n",
      "after 13 steps the residue is 13841.210326606559\n",
      "after 14 steps the residue is 13839.47262341342\n",
      "after 15 steps the residue is 13838.49124642667\n",
      "after 16 steps the residue is 13837.800073966664\n",
      "after 17 steps the residue is 13837.33000981476\n",
      "after 18 steps the residue is 13836.906161895675\n",
      "after 19 steps the residue is 13836.695198637992\n",
      "after 20 steps the residue is 13836.444536962683\n",
      "after 21 steps the residue is 13836.286812726083\n",
      "after 22 steps the residue is 13836.078839696038\n",
      "after 23 steps the residue is 13835.938390561832\n",
      "after 24 steps the residue is 13835.892030957299\n",
      "after 25 steps the residue is 13835.866609934423\n",
      "after 26 steps the residue is 13835.850283255899\n",
      "after 27 steps the residue is 13835.807919346611\n",
      "after 28 steps the residue is 13835.814324706525\n",
      "after 29 steps the residue is 13835.817080331186\n",
      "after 30 steps the residue is 13835.817080331186\n"
     ]
    }
   ],
   "source": [
    "# input needed (choose the most appropriate value for k)\n",
    "# may have to run this a few times until it gets a good enough initialization\n",
    "\n",
    "k = 24\n",
    "KM,partition = k_means(weights_km,k,.0001,100)"
   ]
  },
  {
   "cell_type": "code",
   "execution_count": 144,
   "id": "68b18be1",
   "metadata": {},
   "outputs": [],
   "source": [
    "def getFreqs(indices, data):\n",
    "    datacount = coll.Counter([data[i] for i in indices])\n",
    "    total = sum(datacount.values())\n",
    "    ## TODO check duplicates here?\n",
    "    freq = [[data[i],round(datacount[data[i]]/total,4)] for i in indices]\n",
    "    return freq"
   ]
  },
  {
   "cell_type": "code",
   "execution_count": 134,
   "id": "377d5442",
   "metadata": {},
   "outputs": [],
   "source": [
    "def mostcommon(n,freq):\n",
    "    order = np.argsort(np.array(freq)[:,1])\n",
    "    this = [freq[o] for o in order[len(order)-n:len(order)]]\n",
    "    return this"
   ]
  },
  {
   "cell_type": "code",
   "execution_count": 135,
   "id": "39d96aa3",
   "metadata": {},
   "outputs": [],
   "source": [
    "def tabulate_partitions(feature,freqs,n,k):\n",
    "    title = f'Partitions, {feature}'\n",
    "    tabledata = []\n",
    "    for p in range(k):\n",
    "        tabledata += [[p] + [partsizes[p]] + mostcommon(n,freqs[p])]\n",
    "    headers = ['Partition','part. size']\n",
    "    for i in range(n): #TODO: format\n",
    "        headers += [f'{i} most common']\n",
    "    return (title,tabledata,headers)"
   ]
  },
  {
   "cell_type": "code",
   "execution_count": 145,
   "id": "894d9583",
   "metadata": {},
   "outputs": [],
   "source": [
    "#sets per partition information\n",
    "\n",
    "namefreqs = []\n",
    "rootfreqs = []\n",
    "qualfreqs = []\n",
    "partsizes = []\n",
    "for p in range(k):\n",
    "    p_indices = [i for i in range(len(partition)) if partition[i]==p]\n",
    "    namefreqs += [getFreqs(p_indices,labels_km[:,0])]\n",
    "    rootfreqs += [getFreqs(p_indices,labels_km[:,1])]\n",
    "    qualfreqs += [getFreqs(p_indices,labels_km[:,2])]\n",
    "    partsizes += [round(len(p_indices)/len(weights),4)]\n",
    "\n"
   ]
  },
  {
   "cell_type": "code",
   "execution_count": 149,
   "id": "4dc67a14",
   "metadata": {
    "scrolled": true
   },
   "outputs": [],
   "source": []
  },
  {
   "cell_type": "code",
   "execution_count": 148,
   "id": "ee067ed0",
   "metadata": {},
   "outputs": [
    {
     "name": "stdout",
     "output_type": "stream",
     "text": [
      "Partitions, ChordName\n",
      "  Partition    part. size  0 most common    1 most common    2 most common    3 most common\n",
      "-----------  ------------  ---------------  ---------------  ---------------  ---------------\n",
      "          0        0.0006  ['F', 0.25]      ['E', 0.25]      ['D', 0.25]      ['B-', 0.25]\n",
      "          1        0.0407  ['E-', 0.2439]   ['E-', 0.2439]   ['E-', 0.2439]   ['E-', 0.2439]\n",
      "          2        0.0378  ['G', 0.188]     ['G', 0.188]     ['G', 0.188]     ['G', 0.188]\n",
      "          3        0.0836  ['F', 0.1409]    ['F', 0.1409]    ['F', 0.1409]    ['F', 0.1409]\n",
      "          4        0.0319  ['F', 0.1733]    ['F', 0.1733]    ['F', 0.1733]    ['F', 0.1733]\n",
      "          5        0.1154  ['C', 0.1378]    ['C', 0.1378]    ['C', 0.1378]    ['C', 0.1378]\n",
      "          6        0.0256  ['B-', 0.2167]   ['B-', 0.2167]   ['B-', 0.2167]   ['B-', 0.2167]\n",
      "          7        0.0302  ['C', 0.2535]    ['C', 0.2535]    ['C', 0.2535]    ['C', 0.2535]\n",
      "          8        0.0434  ['A', 0.1797]    ['A', 0.1797]    ['A', 0.1797]    ['A', 0.1797]\n",
      "          9        0.0348  ['B-', 0.2041]   ['B-', 0.2041]   ['B-', 0.2041]   ['B-', 0.2041]\n",
      "         10        0.0488  ['F', 0.1424]    ['F', 0.1424]    ['F', 0.1424]    ['F', 0.1424]\n",
      "         11        0.074   ['C', 0.1555]    ['C', 0.1555]    ['C', 0.1555]    ['C', 0.1555]\n",
      "         12        0.0172  ['G', 0.2397]    ['G', 0.2397]    ['G', 0.2397]    ['G', 0.2397]\n",
      "         13        0.0562  ['C', 0.1616]    ['C', 0.1616]    ['C', 0.1616]    ['C', 0.1616]\n",
      "         14        0.0558  ['C', 0.2443]    ['C', 0.2443]    ['C', 0.2443]    ['C', 0.2443]\n",
      "         15        0.0376  ['C', 0.1925]    ['C', 0.1925]    ['C', 0.1925]    ['C', 0.1925]\n",
      "         16        0.0246  ['C', 0.2543]    ['C', 0.2543]    ['C', 0.2543]    ['C', 0.2543]\n",
      "         17        0.0352  ['C', 0.1895]    ['C', 0.1895]    ['C', 0.1895]    ['C', 0.1895]\n",
      "         18        0.0341  ['G', 0.15]      ['G', 0.15]      ['G', 0.15]      ['G', 0.15]\n",
      "         19        0.0257  ['C', 0.2818]    ['C', 0.2818]    ['C', 0.2818]    ['C', 0.2818]\n",
      "         20        0.0273  ['E-', 0.2448]   ['E-', 0.2448]   ['E-', 0.2448]   ['E-', 0.2448]\n",
      "         21        0.0416  ['G', 0.215]     ['G', 0.215]     ['G', 0.215]     ['G', 0.215]\n",
      "         22        0.0379  ['D', 0.191]     ['D', 0.191]     ['D', 0.191]     ['D', 0.191]\n",
      "         23        0.0402  ['G', 0.1837]    ['G', 0.1837]    ['G', 0.1837]    ['G', 0.1837]\n"
     ]
    }
   ],
   "source": [
    "title,tabledata,headers = tabulate_partitions(\"ChordName\",rootfreqs,4,k) #buggie doesn't handle well when n > #eles in partition\n",
    "print(title)\n",
    "print(tabulate(tabledata,headers))"
   ]
  },
  {
   "cell_type": "code",
   "execution_count": null,
   "id": "4f84b7a3",
   "metadata": {},
   "outputs": [],
   "source": []
  },
  {
   "cell_type": "code",
   "execution_count": null,
   "id": "66b005da",
   "metadata": {},
   "outputs": [],
   "source": []
  },
  {
   "cell_type": "code",
   "execution_count": null,
   "id": "499b4cb0",
   "metadata": {},
   "outputs": [],
   "source": []
  },
  {
   "cell_type": "code",
   "execution_count": null,
   "id": "8b97cf7a",
   "metadata": {},
   "outputs": [],
   "source": []
  },
  {
   "cell_type": "code",
   "execution_count": null,
   "id": "f0870ae2",
   "metadata": {},
   "outputs": [],
   "source": []
  }
 ],
 "metadata": {
  "kernelspec": {
   "display_name": "Python 3 (ipykernel)",
   "language": "python",
   "name": "python3"
  },
  "language_info": {
   "codemirror_mode": {
    "name": "ipython",
    "version": 3
   },
   "file_extension": ".py",
   "mimetype": "text/x-python",
   "name": "python",
   "nbconvert_exporter": "python",
   "pygments_lexer": "ipython3",
   "version": "3.9.15"
  }
 },
 "nbformat": 4,
 "nbformat_minor": 5
}

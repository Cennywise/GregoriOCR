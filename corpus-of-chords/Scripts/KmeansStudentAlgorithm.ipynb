{
 "cells": [
  {
   "cell_type": "code",
   "execution_count": 1,
   "id": "adaf9cfd",
   "metadata": {},
   "outputs": [],
   "source": [
    "import dataProsessing as dp\n",
    "import numpy as np\n",
    "import os\n",
    "import io\n",
    "import json\n",
    "import math, random, time\n",
    "from numpy import linalg as LA\n",
    "import music21  \n",
    "from tabulate import tabulate\n",
    "import collections as coll"
   ]
  },
  {
   "attachments": {},
   "cell_type": "markdown",
   "id": "0d160676",
   "metadata": {},
   "source": [
    "Because I have no real idea how to handle filesystems and importing across a branched structure everything is in scripts. I do not apologise.\n",
    "Furthermore since jupyter notebooks run from their own directory (in this case, Scripts) we run os.chdir(\"../\") to get to the projects root directory (corpus-of-chords). Running this call multiple times without resetting the kernal will continue to crawl up the tree, so do not do that."
   ]
  },
  {
   "cell_type": "code",
   "execution_count": 2,
   "id": "bc93b0c5",
   "metadata": {},
   "outputs": [],
   "source": [
    "#RUN THIS ONCE\n",
    "os.chdir(\"../\")"
   ]
  },
  {
   "cell_type": "markdown",
   "id": "1403b2a8",
   "metadata": {},
   "source": [
    "This is the k_means algorithm written in Chandler's class MAT167 HW4 summer 2022. We will run it on our weights output from word2vec, then view information about the various clusters."
   ]
  },
  {
   "cell_type": "code",
   "execution_count": 3,
   "id": "bb283e44",
   "metadata": {},
   "outputs": [],
   "source": [
    "def k_means(M,k,tol = .01, max_iters = 100):\n",
    "    ################################## your code goes here ##########################################\n",
    "\n",
    "    #inits\n",
    "    steps = 0\n",
    "    prev = tol+1\n",
    "    current = 0\n",
    "    m = len(M)\n",
    "    n = len(M[0,:])\n",
    "    initialize = random.sample(range(n),k)\n",
    "    KM = M[:,initialize].astype(np.float32) \n",
    "    partition = [0] * n\n",
    "    \n",
    "    while (abs(prev-current) > tol) and (steps < max_iters):\n",
    "        steps += 1\n",
    "        for i in range(n):\n",
    "            # find closest column of KM\n",
    "            prev_diff = -1\n",
    "            for j in range(k):\n",
    "                diff = LA.norm(M[:,i]-KM[:,j],2)\n",
    "                if prev_diff <0 or diff<prev_diff:\n",
    "                    prev_diff = diff\n",
    "                    partition[i] = j\n",
    "        \n",
    "        for j in range(k):\n",
    "            # KM[:,j] = take mean of cols such that partition[s] == j\n",
    "            s_indices = [ s for s in range(n) if partition[s] == j]\n",
    "            S = M[:,s_indices]\n",
    "            KM[:,j] = S.sum(axis = 1) / len(s_indices)\n",
    "        \n",
    "        prev = current\n",
    "        current = sum([LA.norm(M[:,i]-KM[:,partition[i]]) for i in range(n)])\n",
    "        \n",
    "        print(f'after {steps} steps the residue is {current}')\n",
    "        \n",
    "    return(KM, partition)\n"
   ]
  },
  {
   "cell_type": "markdown",
   "id": "14c48fd2",
   "metadata": {},
   "source": [
    "Load corpi of chords:\n",
    "\n",
    "Input needed: set model_name manually from available files in weights folder.\n",
    "- vocab: dictionary with key:value as (chord vector in midi format):index\n",
    "- inv_vocab: chords as vector using midi numbers\n",
    "- weights: weight vectors outputted from word2vec\n",
    "\n",
    "inv_vocab and weights indexing are such that the ith entry in inv_vocab corresponds with the ith entry in weights"
   ]
  },
  {
   "cell_type": "code",
   "execution_count": 4,
   "id": "eae363b7",
   "metadata": {},
   "outputs": [],
   "source": [
    "#set model_name manually\n",
    "model_name = \"d_128 n_15\"\n",
    "\n",
    "datasetName = \"Jsb16thSeparated(t_60_rr_re)\"\n",
    "\n",
    "#add option for / vs \\ check TODO\n",
    "vocab = dataset = json.load(open(\"Data/Corpi/\" + datasetName + \"/\" + datasetName +\"_vocab.json\"))\n",
    "inv_vocab = vocab[\"inv_vocab\"]\n",
    "vocab = vocab[\"vocab\"]\n",
    "weights = json.load(open(\"Data/Corpi/\" + datasetName + \"/weights/\" + model_name))\n",
    "weights_km = np.array(weights).T"
   ]
  },
  {
   "cell_type": "markdown",
   "id": "45136032",
   "metadata": {},
   "source": [
    "Gather chord information and format ...\n",
    "\n",
    "- labels_km: [ [chord name, chord root tone, chord quality] ] as determined by music21. "
   ]
  },
  {
   "cell_type": "code",
   "execution_count": 5,
   "id": "b6e8b7c7",
   "metadata": {
    "scrolled": true
   },
   "outputs": [
    {
     "name": "stdout",
     "output_type": "stream",
     "text": [
      "0th step\n",
      "300th step\n",
      "600th step\n",
      "900th step\n",
      "1200th step\n",
      "1500th step\n",
      "1800th step\n",
      "2100th step\n",
      "2400th step\n",
      "2700th step\n",
      "3000th step\n",
      "3300th step\n",
      "3600th step\n",
      "3900th step\n",
      "4200th step\n",
      "4500th step\n",
      "4800th step\n",
      "5100th step\n",
      "5400th step\n",
      "5700th step\n",
      "6000th step\n",
      "6300th step\n",
      "6600th step\n",
      "6900th step\n"
     ]
    }
   ],
   "source": [
    "labels_km = dp.getChordLabels(inv_vocab,True,True) #gets (chord name, chord root, chord quality)"
   ]
  },
  {
   "cell_type": "markdown",
   "id": "bc1fce54",
   "metadata": {},
   "source": [
    "Now we run k_means! Here we use 24 clusters."
   ]
  },
  {
   "cell_type": "code",
   "execution_count": 6,
   "id": "f3ac9408",
   "metadata": {},
   "outputs": [
    {
     "name": "stdout",
     "output_type": "stream",
     "text": [
      "after 1 steps the residue is 14787.943567769675\n",
      "after 2 steps the residue is 14206.325539537305\n",
      "after 3 steps the residue is 14049.04831444525\n",
      "after 4 steps the residue is 13999.48478580884\n",
      "after 5 steps the residue is 13976.67267949948\n",
      "after 6 steps the residue is 13959.491910052968\n",
      "after 7 steps the residue is 13948.905981412672\n",
      "after 8 steps the residue is 13940.848643981913\n",
      "after 9 steps the residue is 13934.177114017504\n",
      "after 10 steps the residue is 13928.373365097888\n",
      "after 11 steps the residue is 13922.722951906353\n",
      "after 12 steps the residue is 13917.36369683208\n",
      "after 13 steps the residue is 13912.11743229594\n",
      "after 14 steps the residue is 13907.176969093482\n",
      "after 15 steps the residue is 13901.818610377308\n",
      "after 16 steps the residue is 13897.418531176785\n",
      "after 17 steps the residue is 13894.35485566651\n",
      "after 18 steps the residue is 13892.438833658452\n",
      "after 19 steps the residue is 13891.22305146804\n",
      "after 20 steps the residue is 13890.533280455084\n",
      "after 21 steps the residue is 13890.250985807106\n",
      "after 22 steps the residue is 13889.982780166698\n",
      "after 23 steps the residue is 13889.663782762918\n",
      "after 24 steps the residue is 13889.398326405635\n",
      "after 25 steps the residue is 13889.196671343892\n",
      "after 26 steps the residue is 13889.075481297454\n",
      "after 27 steps the residue is 13888.975915076146\n",
      "after 28 steps the residue is 13888.844972873818\n",
      "after 29 steps the residue is 13888.733367959596\n",
      "after 30 steps the residue is 13888.662489946037\n",
      "after 31 steps the residue is 13888.575723895698\n",
      "after 32 steps the residue is 13888.519413209566\n",
      "after 33 steps the residue is 13888.504077178393\n",
      "after 34 steps the residue is 13888.462586176116\n",
      "after 35 steps the residue is 13888.41664297427\n",
      "after 36 steps the residue is 13888.32824594048\n",
      "after 37 steps the residue is 13888.319970539713\n",
      "after 38 steps the residue is 13888.314103562627\n",
      "after 39 steps the residue is 13888.30137995882\n",
      "after 40 steps the residue is 13888.277861838013\n",
      "after 41 steps the residue is 13888.259764720786\n",
      "after 42 steps the residue is 13888.228127374952\n",
      "after 43 steps the residue is 13888.22066376465\n",
      "after 44 steps the residue is 13888.20205627328\n",
      "after 45 steps the residue is 13888.20205627328\n"
     ]
    }
   ],
   "source": [
    "k = 24\n",
    "KM,partition = k_means(weights_km,k,.001,100)"
   ]
  },
  {
   "cell_type": "markdown",
   "id": "d203301a",
   "metadata": {},
   "source": [
    "Now we print a table containing some information about the clustering. Currently it is set to list the partitions with the top n most frequent chords. See the text files in OutputAnalysis folder for more examples and analysis.\n"
   ]
  },
  {
   "cell_type": "code",
   "execution_count": 9,
   "id": "6b4ddeb0",
   "metadata": {},
   "outputs": [
    {
     "name": "stdout",
     "output_type": "stream",
     "text": [
      "Partitions, ChordNames\n",
      "  Partition    part. size  #1 most common              #2 most common                                #3 most common                                #4 most common                               #5 most common\n",
      "-----------  ------------  --------------------------  --------------------------------------------  --------------------------------------------  -------------------------------------------  ----------------------------------------------\n",
      "          0        0.0288  ['Eb-major triad', 0.0394]  ['Bb-major triad', 0.0296]                    ['C#-major triad', 0.0246]                    ['Bb-dominant seventh chord', 0.0246]        ['Bb-minor triad', 0.0246]\n",
      "          1        0.0904  ['F-major triad', 0.0298]   ['Eb-major triad', 0.0235]                    ['C-minor triad', 0.0204]                     ['G-major triad', 0.0173]                    ['A-half-diminished seventh chord', 0.0157]\n",
      "          2        0.0433  ['C-major triad', 0.0361]   ['C-major seventh chord', 0.0295]             ['F-major triad', 0.0295]                     ['D-minor triad', 0.0295]                    ['C-dominant seventh chord', 0.0262]\n",
      "          3        0.0555  ['A-minor triad', 0.046]    ['C-major triad', 0.0384]                     ['D-minor triad', 0.0307]                     ['E-minor triad', 0.0281]                    ['E-major triad', 0.0281]\n",
      "          4        0.0612  ['Eb-major triad', 0.0441]  ['C-minor triad', 0.0394]                     ['C-major triad', 0.0278]                     ['G-dominant seventh chord', 0.0255]         ['Bb-major triad', 0.0255]\n",
      "          5        0.0426  ['G-minor triad', 0.03]     ['G-major triad', 0.03]                       ['D-major triad', 0.0267]                     ['C-major triad', 0.0267]                    ['F-major triad', 0.0233]\n",
      "          6        0.0345  ['C-major triad', 0.0453]   ['G-major triad', 0.0288]                     ['A-incomplete minor-seventh chord', 0.0288]  ['G-dominant seventh chord', 0.0247]         ['D-minor triad', 0.0247]\n",
      "          7        0.0224  ['G-major triad', 0.0506]   ['A-minor seventh chord', 0.0443]             ['A-minor triad', 0.038]                      ['G-major-second major tetrachord', 0.0316]  ['C-major triad', 0.0316]\n",
      "          8        0.0268  ['C-major triad', 0.0317]   ['F-major-second minor tetrachord', 0.0265]   ['A-minor triad', 0.0265]                     ['E#-minor triad', 0.0265]                   ['G-half-diminished seventh chord', 0.0265]\n",
      "          9        0.0443  ['G-major triad', 0.0481]   ['A-minor triad', 0.0256]                     ['C-major triad', 0.0256]                     ['F-minor triad', 0.0224]                    ['C-minor triad', 0.0224]\n",
      "         10        0.0395  ['C-major triad', 0.0324]   ['C-quartal trichord', 0.0288]                ['B-diminished triad', 0.0252]                ['Eb-major triad', 0.0216]                   ['C-minor triad', 0.0216]\n",
      "         11        0.0278  ['G-major triad', 0.0561]   ['C-major triad', 0.0459]                     ['G-dominant seventh chord', 0.0357]          ['C-minor triad', 0.0357]                    ['D-dominant seventh chord', 0.0255]\n",
      "         12        0.1004  ['C-major triad', 0.0438]   ['F-major triad', 0.0354]                     ['Eb-major triad', 0.0283]                    ['G-major triad', 0.024]                     ['D-minor triad', 0.024]\n",
      "         13        0.0409  ['C-minor triad', 0.0486]   ['Bb-major triad', 0.0417]                    ['Eb-major triad', 0.0382]                    ['F-dominant seventh chord', 0.0312]         ['Ab-major triad', 0.0243]\n",
      "         14        0.0322  ['Eb-major triad', 0.0661]  ['G-minor triad', 0.0352]                     ['Bb-major triad', 0.0308]                    ['F-dominant seventh chord', 0.0308]         ['G#-major triad', 0.0308]\n",
      "         15        0.0319  ['Eb-major triad', 0.0578]  ['Bb-major triad', 0.0489]                    ['Ab-major triad', 0.0311]                    ['Bb-dominant seventh chord', 0.0267]        ['C-incomplete minor-seventh chord', 0.0222]\n",
      "         16        0.0311  ['C-major triad', 0.0548]   ['G-major triad', 0.0365]                     ['C-minor triad', 0.032]                      ['C-quartal trichord', 0.032]                ['F-major triad', 0.0274]\n",
      "         17        0.0301  ['D-minor triad', 0.0377]   ['D-dominant seventh chord', 0.033]           ['C-major triad', 0.033]                      ['F-major triad', 0.033]                     ['G-incomplete dominant-seventh chord', 0.033]\n",
      "         18        0.0278  ['Eb-major triad', 0.051]   ['Bb-major triad', 0.051]                     ['G-minor seventh chord', 0.0306]             ['D-diminished triad', 0.0306]               ['Eb-major seventh chord', 0.0306]\n",
      "         19        0.0436  ['C-minor triad', 0.0554]   ['G-major triad', 0.0358]                     ['C-major triad', 0.0358]                     ['C-quartal trichord', 0.0293]               ['G-minor triad', 0.0293]\n",
      "         20        0.0439  ['C-major triad', 0.055]    ['D-minor triad', 0.0421]                     ['F-major triad', 0.0388]                     ['G-dominant seventh chord', 0.0324]         ['A-minor triad', 0.0291]\n",
      "         21        0.0047  ['G-major triad', 0.0909]   ['C-minor triad', 0.0909]                     ['F-major seventh chord', 0.0909]             ['C-major triad', 0.0606]                    ['C-quartal trichord', 0.0606]\n",
      "         22        0.0556  ['C-minor triad', 0.0408]   ['D-incomplete minor-seventh chord', 0.0383]  ['G-major triad', 0.0332]                     ['C-quartal trichord', 0.0306]               ['C-major triad', 0.0306]\n",
      "         23        0.0407  ['Eb-major triad', 0.0418]  ['Bb-major triad', 0.0314]                    ['Bb-quartal trichord', 0.0279]               ['G-minor triad', 0.0244]                    ['Eb-major seventh chord', 0.0244]\n"
     ]
    }
   ],
   "source": [
    "namefreqs,rootfreqs,qualfreqs,partsizes =  dp.partitionFreqs(partition,labels_km,weights,k)\n",
    "title,tabledata,headers = dp.tabulate_partitions(\"ChordNames\",namefreqs,partsizes,5,k) \n",
    "print(title)\n",
    "print(tabulate(tabledata,headers))"
   ]
  },
  {
   "cell_type": "code",
   "execution_count": null,
   "id": "57642d7d",
   "metadata": {},
   "outputs": [],
   "source": []
  }
 ],
 "metadata": {
  "kernelspec": {
   "display_name": "Python 3 (ipykernel)",
   "language": "python",
   "name": "python3"
  },
  "language_info": {
   "codemirror_mode": {
    "name": "ipython",
    "version": 3
   },
   "file_extension": ".py",
   "mimetype": "text/x-python",
   "name": "python",
   "nbconvert_exporter": "python",
   "pygments_lexer": "ipython3",
   "version": "3.9.15"
  },
  "vscode": {
   "interpreter": {
    "hash": "26de051ba29f2982a8de78e945f0abaf191376122a1563185a90213a26c5da77"
   }
  }
 },
 "nbformat": 4,
 "nbformat_minor": 5
}

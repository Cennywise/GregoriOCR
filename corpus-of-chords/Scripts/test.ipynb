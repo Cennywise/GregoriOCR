{
 "cells": [
  {
   "cell_type": "code",
   "execution_count": 1,
   "metadata": {},
   "outputs": [],
   "source": [
    "import tensorflow as tf\n",
    "from keras import layers\n",
    "from keras import preprocessing\n",
    "import word2vec as w2v\n",
    "import dataProsessing as dp\n",
    "import numpy as np\n",
    "from tensorboard.plugins import projector\n",
    "import os\n",
    "import io\n",
    "import json"
   ]
  },
  {
   "cell_type": "markdown",
   "metadata": {},
   "source": []
  },
  {
   "cell_type": "code",
   "execution_count": 2,
   "metadata": {},
   "outputs": [
    {
     "name": "stdout",
     "output_type": "stream",
     "text": [
      "d:\\desktop\\MAT_180_ML_Projects\\corpus-of-chords\n"
     ]
    }
   ],
   "source": [
    "\n",
    "#run this once and only once\n",
    "os.chdir(\"../\")\n",
    "print(os.getcwd())"
   ]
  },
  {
   "cell_type": "code",
   "execution_count": 16,
   "metadata": {},
   "outputs": [],
   "source": [
    "datasetName = \"Jsb16thSeparated(t_60_rr_re)\"\n",
    "\n",
    "corpus = dp.loadDataset(\"Data\\\\Corpi\\\\\" + datasetName + \"\\\\\" + datasetName +\".json\")\n",
    "vocab = dataset = json.load(open(\"Data\\\\Corpi\\\\\" + datasetName + \"\\\\\" + datasetName +\"_vocab.json\"))\n",
    "inv_vocab = vocab[\"inv_vocab\"]\n",
    "vocab = vocab[\"vocab\"]\n",
    "\n"
   ]
  },
  {
   "cell_type": "code",
   "execution_count": 17,
   "metadata": {},
   "outputs": [
    {
     "name": "stdout",
     "output_type": "stream",
     "text": [
      "Epoch 1/20\n",
      "64/64 [==============================] - 4s 47ms/step - loss: 2.7594 - accuracy: 0.2803\n",
      "Epoch 2/20\n",
      "64/64 [==============================] - 3s 47ms/step - loss: 2.6617 - accuracy: 0.7898\n",
      "Epoch 3/20\n",
      "64/64 [==============================] - 3s 47ms/step - loss: 2.3866 - accuracy: 0.8750\n",
      "Epoch 4/20\n",
      "64/64 [==============================] - 3s 48ms/step - loss: 1.9862 - accuracy: 0.8477\n",
      "Epoch 5/20\n",
      "64/64 [==============================] - 3s 48ms/step - loss: 1.6279 - accuracy: 0.8365\n",
      "Epoch 6/20\n",
      "64/64 [==============================] - 3s 47ms/step - loss: 1.3547 - accuracy: 0.8447\n",
      "Epoch 7/20\n",
      "64/64 [==============================] - 3s 45ms/step - loss: 1.1383 - accuracy: 0.8634\n",
      "Epoch 8/20\n",
      "64/64 [==============================] - 3s 48ms/step - loss: 0.9588 - accuracy: 0.8855\n",
      "Epoch 9/20\n",
      "64/64 [==============================] - 3s 45ms/step - loss: 0.8062 - accuracy: 0.9055\n",
      "Epoch 10/20\n",
      "64/64 [==============================] - 3s 49ms/step - loss: 0.6771 - accuracy: 0.9240\n",
      "Epoch 11/20\n",
      "64/64 [==============================] - 3s 46ms/step - loss: 0.5672 - accuracy: 0.9390\n",
      "Epoch 12/20\n",
      "64/64 [==============================] - 3s 49ms/step - loss: 0.4746 - accuracy: 0.9523\n",
      "Epoch 13/20\n",
      "64/64 [==============================] - 3s 51ms/step - loss: 0.3970 - accuracy: 0.9621\n",
      "Epoch 14/20\n",
      "64/64 [==============================] - 3s 47ms/step - loss: 0.3322 - accuracy: 0.9705\n",
      "Epoch 15/20\n",
      "64/64 [==============================] - 3s 46ms/step - loss: 0.2786 - accuracy: 0.9771\n",
      "Epoch 16/20\n",
      "64/64 [==============================] - 3s 45ms/step - loss: 0.2342 - accuracy: 0.9826\n",
      "Epoch 17/20\n",
      "64/64 [==============================] - 3s 47ms/step - loss: 0.1979 - accuracy: 0.9864\n",
      "Epoch 18/20\n",
      "64/64 [==============================] - 3s 46ms/step - loss: 0.1680 - accuracy: 0.9894\n",
      "Epoch 19/20\n",
      "64/64 [==============================] - 3s 47ms/step - loss: 0.1436 - accuracy: 0.9913\n",
      "Epoch 20/20\n",
      "64/64 [==============================] - 3s 48ms/step - loss: 0.1235 - accuracy: 0.9931\n"
     ]
    },
    {
     "data": {
      "text/plain": [
       "'data\\\\corpi\\\\Jsb16thSeparated(t_60_rr_re)\\\\tensorboard data\\\\d_128 n_15\\\\embedding.ckpt-1'"
      ]
     },
     "execution_count": 17,
     "metadata": {},
     "output_type": "execute_result"
    }
   ],
   "source": [
    "BATCH_SIZE = 1024\n",
    "BUFFER_SIZE = 10000\n",
    "embedding_dim = 128\n",
    "negative_samples = 15\n",
    "log_dir = \"logs\\embeddings\"\n",
    "model_name =  \"d_\" + str(embedding_dim) + \" n_\" + str(negative_samples)\n",
    "\n",
    "vectorizedSequences = dp.vectorizeDataset(corpus,vocab)\n",
    "targets,contexts,labels = [],[],[]\n",
    "for s in vectorizedSequences:\n",
    "    tmp = w2v.generateTrainingData(s,vocab_size=len(vocab),window_size=1,negative_samples=negative_samples)\n",
    "    targets += tmp[0]\n",
    "    contexts += tmp[1]\n",
    "    labels += tmp[2]\n",
    "    \n",
    "targets = np.array(targets)\n",
    "contexts = np.array(contexts)\n",
    "labels = np.array(labels)\n",
    "\n",
    "dataset = tf.data.Dataset.from_tensor_slices(((targets,contexts),labels))\n",
    "dataset = dataset.shuffle(BUFFER_SIZE).batch(BATCH_SIZE, drop_remainder=True)\n",
    "\n",
    "\n",
    "word2vec = w2v.Word2Vec(len(vocab), embedding_dim,4)\n",
    "word2vec.compile(optimizer='adam', loss=tf.keras.losses.CategoricalCrossentropy(from_logits=True), metrics=['accuracy'])\n",
    "tensorboard_callback = tf.keras.callbacks.TensorBoard(log_dir=\"logs\")\n",
    "word2vec.fit(dataset, epochs=20, callbacks=[tensorboard_callback])\n",
    "\n",
    "weights = tf.Variable(word2vec.get_layer('w2v_embedding').get_weights()[0])\n",
    "\n",
    "\n",
    "checkpoint = tf.train.Checkpoint(embedding=weights)\n",
    "checkpoint.save(os.path.join(\"data\\\\corpi\\\\\" + datasetName + \"\\\\tensorboard data\\\\\" + model_name, \"embedding.ckpt\"))\n",
    "\n",
    "\n",
    "\n",
    "\n"
   ]
  },
  {
   "cell_type": "code",
   "execution_count": 18,
   "metadata": {},
   "outputs": [
    {
     "name": "stdout",
     "output_type": "stream",
     "text": [
      "<class 'list'>\n"
     ]
    }
   ],
   "source": [
    "\n",
    "\n",
    "weights = np.array(weights).tolist()\n",
    "print(type(weights))\n",
    "\n",
    "with open(\"data\\\\corpi\\\\\" + datasetName + \"\\\\weights\" + model_name, \"w\") as outfile:\n",
    "    json.dump(weights, outfile)\n",
    "\n"
   ]
  },
  {
   "cell_type": "code",
   "execution_count": null,
   "metadata": {},
   "outputs": [],
   "source": []
  },
  {
   "cell_type": "code",
   "execution_count": 9,
   "metadata": {},
   "outputs": [],
   "source": [
    "config = projector.ProjectorConfig()\n",
    "embedding = config.embeddings.add()\n",
    "# The name of the tensor will be suffixed by `/.ATTRIBUTES/VARIABLE_VALUE`.\n",
    "embedding.tensor_name = \"embedding/.ATTRIBUTES/VARIABLE_VALUE\"\n",
    "embedding.metadata_path = 'metadata.tsv'\n",
    "projector.visualize_embeddings(\"data\\\\corpi\\\\\" + datasetName  + \"\\\\tensorboard data\\\\\" + model_name, config)"
   ]
  },
  {
   "cell_type": "code",
   "execution_count": null,
   "metadata": {},
   "outputs": [],
   "source": [
    "\n",
    "%tensorboard --logdir logs\\embeddings\n"
   ]
  }
 ],
 "metadata": {
  "kernelspec": {
   "display_name": "Python 3 (ipykernel)",
   "language": "python",
   "name": "python3"
  },
  "language_info": {
   "codemirror_mode": {
    "name": "ipython",
    "version": 3
   },
   "file_extension": ".py",
   "mimetype": "text/x-python",
   "name": "python",
   "nbconvert_exporter": "python",
   "pygments_lexer": "ipython3",
   "version": "3.8.10"
  },
  "vscode": {
   "interpreter": {
    "hash": "e9182a18d8f297c53bcdab227f4fc71216de472f53b01b0613c56eabc08d23b1"
   }
  }
 },
 "nbformat": 4,
 "nbformat_minor": 4
}

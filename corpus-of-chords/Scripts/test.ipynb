{
 "cells": [
  {
   "cell_type": "code",
   "execution_count": 1,
   "metadata": {},
   "outputs": [],
   "source": [
    "import tensorflow as tf\n",
    "from keras import layers\n",
    "from keras import preprocessing\n",
    "import word2vec as w2v\n",
    "import dataProsessing as dp\n",
    "import numpy as np\n",
    "from tensorboard.plugins import projector\n",
    "import os\n",
    "import io"
   ]
  },
  {
   "cell_type": "markdown",
   "metadata": {},
   "source": []
  },
  {
   "cell_type": "code",
   "execution_count": 2,
   "metadata": {},
   "outputs": [],
   "source": [
    "\n",
    "#run this once and only once\n",
    "os.chdir(\"../\")"
   ]
  },
  {
   "cell_type": "code",
   "execution_count": 15,
   "metadata": {},
   "outputs": [
    {
     "name": "stderr",
     "output_type": "stream",
     "text": [
      "UsageError: Line magic function `%tensorboard` not found.\n"
     ]
    }
   ],
   "source": [
    "\n",
    "%tensorboard --logdir logs\\embeddings\n"
   ]
  },
  {
   "cell_type": "code",
   "execution_count": null,
   "metadata": {},
   "outputs": [],
   "source": [
    "corpus = dp.loadDataset(\"Jsb16thSeparated(t_60_rr).json\")"
   ]
  },
  {
   "cell_type": "code",
   "execution_count": 3,
   "metadata": {},
   "outputs": [
    {
     "name": "stdout",
     "output_type": "stream",
     "text": [
      "(38424,)\n",
      "(38424, 5)\n",
      "(38424, 5)\n",
      "Epoch 1/20\n",
      "37/37 [==============================] - 1s 14ms/step - loss: 1.6042 - accuracy: 0.3514\n",
      "Epoch 2/20\n",
      "37/37 [==============================] - 1s 14ms/step - loss: 1.5722 - accuracy: 0.8647\n",
      "Epoch 3/20\n",
      "37/37 [==============================] - 1s 14ms/step - loss: 1.5115 - accuracy: 0.9696\n",
      "Epoch 4/20\n",
      "37/37 [==============================] - 1s 14ms/step - loss: 1.4039 - accuracy: 0.9856\n",
      "Epoch 5/20\n",
      "37/37 [==============================] - 1s 14ms/step - loss: 1.2531 - accuracy: 0.9861\n",
      "Epoch 6/20\n",
      "37/37 [==============================] - 1s 14ms/step - loss: 1.0832 - accuracy: 0.9846\n",
      "Epoch 7/20\n",
      "37/37 [==============================] - 1s 14ms/step - loss: 0.9180 - accuracy: 0.9835\n",
      "Epoch 8/20\n",
      "37/37 [==============================] - 1s 14ms/step - loss: 0.7718 - accuracy: 0.9837\n",
      "Epoch 9/20\n",
      "37/37 [==============================] - 1s 14ms/step - loss: 0.6471 - accuracy: 0.9847\n",
      "Epoch 10/20\n",
      "37/37 [==============================] - 1s 14ms/step - loss: 0.5428 - accuracy: 0.9864\n",
      "Epoch 11/20\n",
      "37/37 [==============================] - 1s 14ms/step - loss: 0.4547 - accuracy: 0.9887\n",
      "Epoch 12/20\n",
      "37/37 [==============================] - 1s 14ms/step - loss: 0.3816 - accuracy: 0.9904\n",
      "Epoch 13/20\n",
      "37/37 [==============================] - 1s 14ms/step - loss: 0.3205 - accuracy: 0.9925\n",
      "Epoch 14/20\n",
      "37/37 [==============================] - 1s 15ms/step - loss: 0.2692 - accuracy: 0.9940\n",
      "Epoch 15/20\n",
      "37/37 [==============================] - 1s 14ms/step - loss: 0.2262 - accuracy: 0.9959\n",
      "Epoch 16/20\n",
      "37/37 [==============================] - 1s 14ms/step - loss: 0.1915 - accuracy: 0.9969\n",
      "Epoch 17/20\n",
      "37/37 [==============================] - 1s 14ms/step - loss: 0.1620 - accuracy: 0.9979\n",
      "Epoch 18/20\n",
      "37/37 [==============================] - 1s 14ms/step - loss: 0.1378 - accuracy: 0.9985\n",
      "Epoch 19/20\n",
      "37/37 [==============================] - 1s 15ms/step - loss: 0.1180 - accuracy: 0.9989\n",
      "Epoch 20/20\n",
      "37/37 [==============================] - 1s 14ms/step - loss: 0.1019 - accuracy: 0.9992\n"
     ]
    },
    {
     "ename": "TypeError",
     "evalue": "can only concatenate tuple (not \"str\") to tuple",
     "output_type": "error",
     "traceback": [
      "\u001b[1;31m---------------------------------------------------------------------------\u001b[0m",
      "\u001b[1;31mTypeError\u001b[0m                                 Traceback (most recent call last)",
      "Cell \u001b[1;32mIn [3], line 45\u001b[0m\n\u001b[0;32m     42\u001b[0m out_m \u001b[39m=\u001b[39m io\u001b[39m.\u001b[39mopen(os\u001b[39m.\u001b[39mpath\u001b[39m.\u001b[39mjoin(log_dir, \u001b[39m'\u001b[39m\u001b[39mmetadata.tsv\u001b[39m\u001b[39m'\u001b[39m), \u001b[39m'\u001b[39m\u001b[39mw\u001b[39m\u001b[39m'\u001b[39m, encoding\u001b[39m=\u001b[39m\u001b[39m'\u001b[39m\u001b[39mutf-8\u001b[39m\u001b[39m'\u001b[39m)\n\u001b[0;32m     44\u001b[0m \u001b[39mfor\u001b[39;00m i \u001b[39min\u001b[39;00m \u001b[39mrange\u001b[39m(\u001b[39mlen\u001b[39m(inv_vocab\u001b[39m.\u001b[39mitems())):\n\u001b[1;32m---> 45\u001b[0m     out_m\u001b[39m.\u001b[39mwrite(inv_vocab[i] \u001b[39m+\u001b[39m \u001b[39m\"\u001b[39m\u001b[39m\\n\u001b[39;00m\u001b[39m\"\u001b[39m)\n\u001b[0;32m     47\u001b[0m out_m\u001b[39m.\u001b[39mclose()\n\u001b[0;32m     50\u001b[0m config \u001b[39m=\u001b[39m projector\u001b[39m.\u001b[39mProjectorConfig()\n",
      "\u001b[1;31mTypeError\u001b[0m: can only concatenate tuple (not \"str\") to tuple"
     ]
    }
   ],
   "source": [
    "BATCH_SIZE = 1024\n",
    "BUFFER_SIZE = 10000\n",
    "embedding_dim = 128\n",
    "negative_samples = 4\n",
    "log_dir = \"logs\\embeddings\"\n",
    "\n",
    "corpus = dp.loadDataset(\"Jsb16thSeparated(t_60_rr).json\")\n",
    "vocab, inv_vocab = dp.generateVocab(corpus[\"train\"] + corpus[\"test\"]+ corpus[\"valid\"])\n",
    "\n",
    "vectorizedSequences = dp.vectorizeDataset(corpus[\"train\"],vocab)\n",
    "targets,contexts,labels = [],[],[]\n",
    "for s in vectorizedSequences:\n",
    "    tmp = w2v.generateTrainingData(s,vocab_size=len(vocab),window_size=1,negative_samples=negative_samples)\n",
    "    targets += tmp[0]\n",
    "    contexts += tmp[1]\n",
    "    labels += tmp[2]\n",
    "    \n",
    "targets = np.array(targets)\n",
    "contexts = np.array(contexts)\n",
    "labels = np.array(labels)\n",
    "\n",
    "dataset = tf.data.Dataset.from_tensor_slices(((targets,contexts),labels))\n",
    "dataset = dataset.shuffle(BUFFER_SIZE).batch(BATCH_SIZE, drop_remainder=True)\n",
    "\n",
    "\n",
    "word2vec = w2v.Word2Vec(len(vocab), embedding_dim,4)\n",
    "word2vec.compile(optimizer='adam', loss=tf.keras.losses.CategoricalCrossentropy(from_logits=True), metrics=['accuracy'])\n",
    "tensorboard_callback = tf.keras.callbacks.TensorBoard(log_dir=\"logs\")\n",
    "word2vec.fit(dataset, epochs=20, callbacks=[tensorboard_callback])\n",
    "\n",
    "weights = tf.Variable(word2vec.get_layer('w2v_embedding').get_weights()[0])\n",
    "\n",
    "checkpoint = tf.train.Checkpoint(embedding=weights)\n",
    "checkpoint.save(os.path.join(log_dir, \"embedding.ckpt\"))\n",
    "\n",
    "dp.generateMetadata(dir = log_dir, inv_vocab = inv_vocab)\n",
    "\n",
    "out_m = io.open(os.path.join(log_dir, 'metadata.tsv'), 'w', encoding='utf-8')\n",
    "\n",
    "for i in range(len(inv_vocab.items())):\n",
    "    out_m.write(str(inv_vocab[i]) + \"\\n\")\n",
    "\n",
    "out_m.close()\n",
    "\n",
    "\n",
    "config = projector.ProjectorConfig()\n",
    "embedding = config.embeddings.add()\n",
    "# The name of the tensor will be suffixed by `/.ATTRIBUTES/VARIABLE_VALUE`.\n",
    "embedding.tensor_name = \"embedding/.ATTRIBUTES/VARIABLE_VALUE\"\n",
    "embedding.metadata_path = 'metadata.tsv'\n",
    "projector.visualize_embeddings(log_dir, config)\n",
    "\n",
    "\n"
   ]
  }
 ],
 "metadata": {
  "kernelspec": {
   "display_name": "Python 3.8.10 64-bit (microsoft store)",
   "language": "python",
   "name": "python3"
  },
  "language_info": {
   "codemirror_mode": {
    "name": "ipython",
    "version": 3
   },
   "file_extension": ".py",
   "mimetype": "text/x-python",
   "name": "python",
   "nbconvert_exporter": "python",
   "pygments_lexer": "ipython3",
   "version": "3.8.10"
  },
  "orig_nbformat": 4,
  "vscode": {
   "interpreter": {
    "hash": "e9182a18d8f297c53bcdab227f4fc71216de472f53b01b0613c56eabc08d23b1"
   }
  }
 },
 "nbformat": 4,
 "nbformat_minor": 2
}

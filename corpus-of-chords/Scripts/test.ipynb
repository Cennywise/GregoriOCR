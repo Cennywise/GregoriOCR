{
 "cells": [
  {
   "cell_type": "code",
   "execution_count": 1,
   "metadata": {},
   "outputs": [],
   "source": [
    "import tensorflow as tf\n",
    "from keras import layers\n",
    "from keras import preprocessing\n",
    "import word2vec as w2v\n",
    "import dataProsessing as dp\n",
    "import numpy as np\n",
    "from tensorboard.plugins import projector\n",
    "import os\n",
    "import io\n",
    "import json"
   ]
  },
  {
   "cell_type": "markdown",
   "metadata": {},
   "source": []
  },
  {
   "cell_type": "code",
   "execution_count": 4,
   "metadata": {},
   "outputs": [
    {
     "name": "stdout",
     "output_type": "stream",
     "text": [
      "C:\\Users\\Starapter\\GitBash\\MAT_180_ML_Projects\\corpus-of-chords\n"
     ]
    }
   ],
   "source": [
    "\n",
    "#run this once and only once\n",
    "#os.chdir(\"../\")\n",
    "print(os.getcwd())"
   ]
  },
  {
   "cell_type": "code",
   "execution_count": 15,
   "metadata": {},
   "outputs": [
    {
     "name": "stderr",
     "output_type": "stream",
     "text": [
      "UsageError: Line magic function `%tensorboard` not found.\n"
     ]
    }
   ],
   "source": [
    "\n",
    "%tensorboard --logdir logs\\embeddings\n"
   ]
  },
  {
   "cell_type": "code",
   "execution_count": 12,
   "metadata": {},
   "outputs": [],
   "source": [
    "datasetName = \"Jsb16thSeparated(t_60_rr_re)\"\n",
    "\n",
    "corpus = dp.loadDataset(\"Data\\\\Corpi\\\\\" + datasetName + \"\\\\\" + datasetName +\".json\")\n",
    "vocab = dataset = json.load(open(\"Data\\\\Corpi\\\\\" + datasetName + \"\\\\\" + datasetName +\"_vocab.json\"))\n",
    "inv_vocab = vocab[\"inv_vocab\"]\n",
    "vocab = vocab[\"vocab\"]"
   ]
  },
  {
   "cell_type": "code",
   "execution_count": 14,
   "metadata": {},
   "outputs": [
    {
     "ename": "KeyError",
     "evalue": "(60, 55, 52, 48)",
     "output_type": "error",
     "traceback": [
      "\u001b[1;31m---------------------------------------------------------------------------\u001b[0m",
      "\u001b[1;31mKeyError\u001b[0m                                  Traceback (most recent call last)",
      "Cell \u001b[1;32mIn [14], line 7\u001b[0m\n\u001b[0;32m      4\u001b[0m negative_samples \u001b[38;5;241m=\u001b[39m \u001b[38;5;241m4\u001b[39m\n\u001b[0;32m      5\u001b[0m log_dir \u001b[38;5;241m=\u001b[39m \u001b[38;5;124m\"\u001b[39m\u001b[38;5;124mlogs\u001b[39m\u001b[38;5;124m\\\u001b[39m\u001b[38;5;124membeddings\u001b[39m\u001b[38;5;124m\"\u001b[39m\n\u001b[1;32m----> 7\u001b[0m vectorizedSequences \u001b[38;5;241m=\u001b[39m dp\u001b[38;5;241m.\u001b[39mvectorizeDataset(corpus,vocab)\n\u001b[0;32m      8\u001b[0m targets,contexts,labels \u001b[38;5;241m=\u001b[39m [],[],[]\n\u001b[0;32m      9\u001b[0m \u001b[38;5;28;01mfor\u001b[39;00m s \u001b[38;5;129;01min\u001b[39;00m vectorizedSequences:\n",
      "File \u001b[1;32m~\\GitBash\\MAT_180_ML_Projects\\corpus-of-chords\\Scripts\\dataProsessing.py:81\u001b[0m, in \u001b[0;36mvectorizeDataset\u001b[1;34m(dataset, vocab)\u001b[0m\n\u001b[0;32m     79\u001b[0m vectorizedDataset \u001b[38;5;241m=\u001b[39m []\n\u001b[0;32m     80\u001b[0m \u001b[38;5;28;01mfor\u001b[39;00m sequence \u001b[38;5;129;01min\u001b[39;00m dataset:\n\u001b[1;32m---> 81\u001b[0m     vectorizedDataset\u001b[38;5;241m.\u001b[39mappend([vocab[chord] \u001b[38;5;28;01mfor\u001b[39;00m chord \u001b[38;5;129;01min\u001b[39;00m sequence])\n\u001b[0;32m     82\u001b[0m \u001b[38;5;28;01mreturn\u001b[39;00m vectorizedDataset\n",
      "File \u001b[1;32m~\\GitBash\\MAT_180_ML_Projects\\corpus-of-chords\\Scripts\\dataProsessing.py:81\u001b[0m, in \u001b[0;36m<listcomp>\u001b[1;34m(.0)\u001b[0m\n\u001b[0;32m     79\u001b[0m vectorizedDataset \u001b[38;5;241m=\u001b[39m []\n\u001b[0;32m     80\u001b[0m \u001b[38;5;28;01mfor\u001b[39;00m sequence \u001b[38;5;129;01min\u001b[39;00m dataset:\n\u001b[1;32m---> 81\u001b[0m     vectorizedDataset\u001b[38;5;241m.\u001b[39mappend([\u001b[43mvocab\u001b[49m\u001b[43m[\u001b[49m\u001b[43mchord\u001b[49m\u001b[43m]\u001b[49m \u001b[38;5;28;01mfor\u001b[39;00m chord \u001b[38;5;129;01min\u001b[39;00m sequence])\n\u001b[0;32m     82\u001b[0m \u001b[38;5;28;01mreturn\u001b[39;00m vectorizedDataset\n",
      "\u001b[1;31mKeyError\u001b[0m: (60, 55, 52, 48)"
     ]
    }
   ],
   "source": [
    "BATCH_SIZE = 1024\n",
    "BUFFER_SIZE = 10000\n",
    "embedding_dim = 128\n",
    "negative_samples = 4\n",
    "log_dir = \"logs\\embeddings\"\n",
    "\n",
    "vectorizedSequences = dp.vectorizeDataset(corpus,vocab)\n",
    "targets,contexts,labels = [],[],[]\n",
    "for s in vectorizedSequences:\n",
    "    tmp = w2v.generateTrainingData(s,vocab_size=len(vocab),window_size=1,negative_samples=negative_samples)\n",
    "    targets += tmp[0]\n",
    "    contexts += tmp[1]\n",
    "    labels += tmp[2]\n",
    "    \n",
    "targets = np.array(targets)\n",
    "contexts = np.array(contexts)\n",
    "labels = np.array(labels)\n",
    "\n",
    "dataset = tf.data.Dataset.from_tensor_slices(((targets,contexts),labels))\n",
    "dataset = dataset.shuffle(BUFFER_SIZE).batch(BATCH_SIZE, drop_remainder=True)\n",
    "\n",
    "\n",
    "word2vec = w2v.Word2Vec(len(vocab), embedding_dim,4)\n",
    "word2vec.compile(optimizer='adam', loss=tf.keras.losses.CategoricalCrossentropy(from_logits=True), metrics=['accuracy'])\n",
    "tensorboard_callback = tf.keras.callbacks.TensorBoard(log_dir=\"logs\")\n",
    "word2vec.fit(dataset, epochs=20, callbacks=[tensorboard_callback])\n",
    "\n",
    "weights = tf.Variable(word2vec.get_layer('w2v_embedding').get_weights()[0])\n",
    "\n",
    "checkpoint = tf.train.Checkpoint(embedding=weights)\n",
    "checkpoint.save(os.path.join(log_dir, \"embedding.ckpt\"))\n",
    "\n",
    "dp.generateMetadata(dir = log_dir, inv_vocab = inv_vocab)\n",
    "\n",
    "out_m = io.open(os.path.join(log_dir, 'metadata.tsv'), 'w', encoding='utf-8')\n",
    "\n",
    "for i in range(len(inv_vocab.items())):\n",
    "    out_m.write(str(inv_vocab[i]) + \"\\n\")\n",
    "\n",
    "out_m.close()\n",
    "\n",
    "\n",
    "config = projector.ProjectorConfig()\n",
    "embedding = config.embeddings.add()\n",
    "# The name of the tensor will be suffixed by `/.ATTRIBUTES/VARIABLE_VALUE`.\n",
    "embedding.tensor_name = \"embedding/.ATTRIBUTES/VARIABLE_VALUE\"\n",
    "embedding.metadata_path = 'metadata.tsv'\n",
    "projector.visualize_embeddings(log_dir, config)\n",
    "\n",
    "\n"
   ]
  },
  {
   "cell_type": "code",
   "execution_count": null,
   "metadata": {},
   "outputs": [],
   "source": []
  }
 ],
 "metadata": {
  "kernelspec": {
   "display_name": "Python 3 (ipykernel)",
   "language": "python",
   "name": "python3"
  },
  "language_info": {
   "codemirror_mode": {
    "name": "ipython",
    "version": 3
   },
   "file_extension": ".py",
   "mimetype": "text/x-python",
   "name": "python",
   "nbconvert_exporter": "python",
   "pygments_lexer": "ipython3",
   "version": "3.9.10"
  },
  "vscode": {
   "interpreter": {
    "hash": "e9182a18d8f297c53bcdab227f4fc71216de472f53b01b0613c56eabc08d23b1"
   }
  }
 },
 "nbformat": 4,
 "nbformat_minor": 4
}

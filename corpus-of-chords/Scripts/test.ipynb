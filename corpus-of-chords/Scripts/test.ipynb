{
 "cells": [
  {
   "cell_type": "code",
   "execution_count": 1,
   "metadata": {},
   "outputs": [],
   "source": [
    "import tensorflow as tf\n",
    "from keras import layers\n",
    "from keras import preprocessing\n",
    "import word2vec as w2v\n",
    "import dataProsessing as dp\n",
    "import numpy as np\n",
    "from tensorboard.plugins import projector\n",
    "import os\n",
    "import io\n",
    "import json"
   ]
  },
  {
   "cell_type": "markdown",
   "metadata": {},
   "source": []
  },
  {
   "cell_type": "code",
   "execution_count": 2,
   "metadata": {},
   "outputs": [
    {
     "name": "stdout",
     "output_type": "stream",
     "text": [
      "d:\\desktop\\MAT_180_ML_Projects\\corpus-of-chords\n"
     ]
    }
   ],
   "source": [
    "\n",
    "#run this once and only once\n",
    "os.chdir(\"../\")\n",
    "print(os.getcwd())"
   ]
  },
  {
   "cell_type": "code",
   "execution_count": 4,
   "metadata": {},
   "outputs": [],
   "source": [
    "datasetName = \"Jsb16thSeparated(t_60_rr_re)\"\n",
    "\n",
    "corpus = dp.loadDataset(\"Data\\\\Corpi\\\\\" + datasetName + \"\\\\\" + datasetName +\".json\")\n",
    "vocab = dataset = json.load(open(\"Data\\\\Corpi\\\\\" + datasetName + \"\\\\\" + datasetName +\"_vocab.json\"))\n",
    "inv_vocab = vocab[\"inv_vocab\"]\n",
    "vocab = vocab[\"vocab\"]\n",
    "\n"
   ]
  },
  {
   "cell_type": "code",
   "execution_count": 7,
   "metadata": {},
   "outputs": [
    {
     "name": "stdout",
     "output_type": "stream",
     "text": [
      "Epoch 1/20\n",
      "64/64 [==============================] - 3s 42ms/step - loss: 1.5987 - accuracy: 0.4154\n",
      "Epoch 2/20\n",
      "64/64 [==============================] - 2s 38ms/step - loss: 1.5221 - accuracy: 0.9004\n",
      "Epoch 3/20\n",
      "64/64 [==============================] - 3s 42ms/step - loss: 1.3400 - accuracy: 0.9601\n",
      "Epoch 4/20\n",
      "64/64 [==============================] - 2s 38ms/step - loss: 1.1000 - accuracy: 0.9574\n",
      "Epoch 5/20\n",
      "64/64 [==============================] - 3s 42ms/step - loss: 0.8843 - accuracy: 0.9548\n",
      "Epoch 6/20\n",
      "64/64 [==============================] - 2s 38ms/step - loss: 0.7143 - accuracy: 0.9576\n",
      "Epoch 7/20\n",
      "64/64 [==============================] - 2s 38ms/step - loss: 0.5805 - accuracy: 0.9633\n",
      "Epoch 8/20\n",
      "64/64 [==============================] - 3s 39ms/step - loss: 0.4727 - accuracy: 0.9701\n",
      "Epoch 9/20\n",
      "64/64 [==============================] - 3s 39ms/step - loss: 0.3852 - accuracy: 0.9768\n",
      "Epoch 10/20\n",
      "64/64 [==============================] - 3s 41ms/step - loss: 0.3135 - accuracy: 0.9823\n",
      "Epoch 11/20\n",
      "64/64 [==============================] - 2s 38ms/step - loss: 0.2553 - accuracy: 0.9870\n",
      "Epoch 12/20\n",
      "64/64 [==============================] - 3s 40ms/step - loss: 0.2081 - accuracy: 0.9910\n",
      "Epoch 13/20\n",
      "64/64 [==============================] - 2s 39ms/step - loss: 0.1701 - accuracy: 0.9940\n",
      "Epoch 14/20\n",
      "64/64 [==============================] - 3s 43ms/step - loss: 0.1397 - accuracy: 0.9958\n",
      "Epoch 15/20\n",
      "64/64 [==============================] - 2s 38ms/step - loss: 0.1153 - accuracy: 0.9974\n",
      "Epoch 16/20\n",
      "64/64 [==============================] - 2s 38ms/step - loss: 0.0959 - accuracy: 0.9983\n",
      "Epoch 17/20\n",
      "64/64 [==============================] - 3s 40ms/step - loss: 0.0804 - accuracy: 0.9987\n",
      "Epoch 18/20\n",
      "64/64 [==============================] - 2s 39ms/step - loss: 0.0680 - accuracy: 0.9991\n",
      "Epoch 19/20\n",
      "64/64 [==============================] - 3s 40ms/step - loss: 0.0580 - accuracy: 0.9994\n",
      "Epoch 20/20\n",
      "64/64 [==============================] - 3s 39ms/step - loss: 0.0498 - accuracy: 0.9996\n"
     ]
    }
   ],
   "source": [
    "BATCH_SIZE = 1024\n",
    "BUFFER_SIZE = 10000\n",
    "embedding_dim = 128\n",
    "negative_samples = 4\n",
    "log_dir = \"logs\\embeddings\"\n",
    "\n",
    "vectorizedSequences = dp.vectorizeDataset(corpus,vocab)\n",
    "targets,contexts,labels = [],[],[]\n",
    "for s in vectorizedSequences:\n",
    "    tmp = w2v.generateTrainingData(s,vocab_size=len(vocab),window_size=1,negative_samples=negative_samples)\n",
    "    targets += tmp[0]\n",
    "    contexts += tmp[1]\n",
    "    labels += tmp[2]\n",
    "    \n",
    "targets = np.array(targets)\n",
    "contexts = np.array(contexts)\n",
    "labels = np.array(labels)\n",
    "\n",
    "dataset = tf.data.Dataset.from_tensor_slices(((targets,contexts),labels))\n",
    "dataset = dataset.shuffle(BUFFER_SIZE).batch(BATCH_SIZE, drop_remainder=True)\n",
    "\n",
    "\n",
    "word2vec = w2v.Word2Vec(len(vocab), embedding_dim,4)\n",
    "word2vec.compile(optimizer='adam', loss=tf.keras.losses.CategoricalCrossentropy(from_logits=True), metrics=['accuracy'])\n",
    "tensorboard_callback = tf.keras.callbacks.TensorBoard(log_dir=\"logs\")\n",
    "word2vec.fit(dataset, epochs=20, callbacks=[tensorboard_callback])\n",
    "\n",
    "weights = tf.Variable(word2vec.get_layer('w2v_embedding').get_weights()[0])\n",
    "\n",
    "\n",
    "checkpoint = tf.train.Checkpoint(embedding=weights)\n",
    "checkpoint.save(os.path.join(\"data\\\\corpi\\\\\" + datasetName, \"embedding.ckpt\"))\n",
    "\n",
    "\n",
    "\n",
    "\n"
   ]
  },
  {
   "cell_type": "code",
   "execution_count": 15,
   "metadata": {},
   "outputs": [
    {
     "name": "stdout",
     "output_type": "stream",
     "text": [
      "<class 'list'>\n"
     ]
    }
   ],
   "source": [
    "weights = np.array(weights).tolist()\n",
    "print(type(weights))\n",
    "\n",
    "with open(\"data\\\\corpi\\\\\" + datasetName + \"\\\\weights\", \"w\") as outfile:\n",
    "    json.dump(weights, outfile)\n",
    "\n"
   ]
  },
  {
   "cell_type": "code",
   "execution_count": 9,
   "metadata": {},
   "outputs": [],
   "source": [
    "config = projector.ProjectorConfig()\n",
    "embedding = config.embeddings.add()\n",
    "# The name of the tensor will be suffixed by `/.ATTRIBUTES/VARIABLE_VALUE`.\n",
    "embedding.tensor_name = \"embedding/.ATTRIBUTES/VARIABLE_VALUE\"\n",
    "embedding.metadata_path = 'metadata.tsv'\n",
    "projector.visualize_embeddings(\"data\\\\corpi\\\\\" + datasetName, config)"
   ]
  },
  {
   "cell_type": "code",
   "execution_count": null,
   "metadata": {},
   "outputs": [],
   "source": [
    "\n",
    "%tensorboard --logdir logs\\embeddings\n"
   ]
  }
 ],
 "metadata": {
  "kernelspec": {
   "display_name": "Python 3 (ipykernel)",
   "language": "python",
   "name": "python3"
  },
  "language_info": {
   "codemirror_mode": {
    "name": "ipython",
    "version": 3
   },
   "file_extension": ".py",
   "mimetype": "text/x-python",
   "name": "python",
   "nbconvert_exporter": "python",
   "pygments_lexer": "ipython3",
   "version": "3.8.10"
  },
  "vscode": {
   "interpreter": {
    "hash": "e9182a18d8f297c53bcdab227f4fc71216de472f53b01b0613c56eabc08d23b1"
   }
  }
 },
 "nbformat": 4,
 "nbformat_minor": 4
}

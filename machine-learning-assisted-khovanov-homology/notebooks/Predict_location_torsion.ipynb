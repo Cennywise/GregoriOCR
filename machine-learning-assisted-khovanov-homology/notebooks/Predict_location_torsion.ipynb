{
 "cells": [
  {
   "cell_type": "code",
   "execution_count": 2,
   "id": "1f52a1be",
   "metadata": {},
   "outputs": [],
   "source": [
    "import numpy as np\n",
    "import matplotlib.pyplot as plt\n",
    "from numpy import linalg as LA\n",
    "import plotly\n",
    "import plotly.graph_objects as go\n",
    "import random, time\n",
    "from collections import Counter\n",
    "import os\n",
    "from sklearn.model_selection import train_test_split\n",
    "import pandas as pd\n",
    "def plot_costs(costs):\n",
    "    plt.plot(costs)\n",
    "    plt.xlabel(\"iterations\")\n",
    "    plt.ylabel(\"cost\")\n",
    "    plt.show()\n",
    "    \n",
    "# function to plot costs\n",
    "def plot_grads(grads):\n",
    "    plt.plot(grads)\n",
    "    plt.xlabel(\"iterations\")\n",
    "    plt.ylabel(\"gradient norm\")\n",
    "    plt.show()\n",
    "\n",
    "# defining a function to plot data\n",
    "def plot_data(X,Y,size_ = 2):\n",
    "    m = len(X)\n",
    "    plot_figure = go.Figure(data=[go.Scatter3d(x=X[:,0], y=X[:,1], z=[r[0] for r in Y], mode='markers',marker=dict(size=size_))])\n",
    "    plotly.offline.iplot(plot_figure)\n",
    "\n",
    "# defining a function to plot models fit\n",
    "def plot_fit(X,Y,W,B,G,size_ = 2):\n",
    "    trace = go.Scatter3d(x=X[:,0], y=X[:,1], z=[r[0] for r in Y], mode='markers',marker=dict(size=size_))\n",
    "    xs,ys = X[:,0],X[:,1]\n",
    "    xxx = np.outer(np.linspace(min(xs), max(xs), 30), np.ones(30))\n",
    "    yyy = np.outer(np.linspace(min(ys), max(ys), 30), np.ones(30)).T\n",
    "    zzz = np.zeros([30,30])\n",
    "    D = len(G)-1\n",
    "    for i in range(30):\n",
    "        for j in range(30):\n",
    "            zzz[i,j] = feedforward(W,B,G,np.array([xxx[i,j],yyy[i,j]]))[D][0]\n",
    "    # Configure the layout.\n",
    "    layout = go.Layout(margin={'l': 0, 'r': 0, 'b': 0, 't': 0})\n",
    "    data = [trace,go.Surface(x=xxx, y=yyy, z=zzz, showscale=False, opacity=0.5)]\n",
    "    # Render the plot.\n",
    "    plot_figure = go.Figure(data=data, layout=layout)\n",
    "    plot_figure.update_layout(\n",
    "        scene = dict(\n",
    "            xaxis = dict(nticks=4, range=[min(X[:,0]),max(X[:,0])],),\n",
    "            yaxis = dict(nticks=4, range=[min(X[:,1]),max(X[:,1])],),\n",
    "            zaxis = dict(nticks=4, range=[min(Y),max(Y)],),),\n",
    "        width=700,\n",
    "        margin=dict(r=20, l=10, b=10, t=10))\n",
    "    plotly.offline.iplot(plot_figure)\n"
   ]
  },
  {
   "cell_type": "code",
   "execution_count": 3,
   "id": "15a79fb6",
   "metadata": {},
   "outputs": [
    {
     "data": {
      "text/plain": [
       "'/Users/guoyihan/Documents/GitHub/MAT_180_ML_Projects/machine-learning-assisted-khovanov-homology/notebooks'"
      ]
     },
     "execution_count": 3,
     "metadata": {},
     "output_type": "execute_result"
    }
   ],
   "source": [
    "os.getcwd()"
   ]
  },
  {
   "cell_type": "code",
   "execution_count": 4,
   "id": "0d9a91ea",
   "metadata": {},
   "outputs": [],
   "source": [
    "os.chdir(\"../\")"
   ]
  },
  {
   "cell_type": "code",
   "execution_count": 5,
   "id": "c6e5f16d",
   "metadata": {},
   "outputs": [],
   "source": [
    "df = pd.read_csv(\"data/50000_9_clean.csv\")"
   ]
  },
  {
   "cell_type": "code",
   "execution_count": 220,
   "id": "e9e2d7b1",
   "metadata": {},
   "outputs": [],
   "source": [
    "import math\n",
    "def ReLU(x,deriv = False):\n",
    "    ######################### your code goes here ########################\n",
    "    if deriv == True:\n",
    "        r = len(x)\n",
    "        x1 = np.zeros([r,r])\n",
    "        for i in range(len(x1)):\n",
    "            if x[i] > 0:\n",
    "                x1[i,i] = 1\n",
    "    else:\n",
    "        x1 = []\n",
    "        for i in range(len(x)):\n",
    "                if x[i] > 0: \n",
    "                    x1.append(x[i])\n",
    "                else:\n",
    "                    x1.append(0)\n",
    "    return x1\n",
    "def Linear(x,deriv = False):\n",
    "    ######################### your code goes here ########################\n",
    "    row = len(x)\n",
    "    if deriv == True:\n",
    "        m = np.identity(row)\n",
    "    else:\n",
    "        m = x\n",
    "    return m\n",
    "def Sigmoid(x,deriv = False):\n",
    "    ######################### your code goes here ########################\n",
    "    s = np.empty(x.shape)\n",
    "    r = len(x)\n",
    "    for i in range(len(x)):\n",
    "        s[i] = 1/(1+math.exp(-x[i]))\n",
    "    if deriv == True:\n",
    "        S = np.empty([r,r])\n",
    "        for i in range(len(S)):\n",
    "            for j in range(len(S[0])):\n",
    "                if i == j:\n",
    "                    S[i,j] = math.exp(-x[i])/(1/s[i])**2\n",
    "                else:\n",
    "                    S[i,j] = 0\n",
    "    else:\n",
    "        S = s\n",
    "    return S\n",
    "def Squared(x,deriv = False):\n",
    "    ######################### your code goes here ########################\n",
    "    if deriv == True:\n",
    "        X = np.diag(2*x)\n",
    "    else:\n",
    "        X = x**2\n",
    "    return X\n",
    "def Softmax(x,deriv = False):\n",
    "    ######################### your code goes here ########################\n",
    "    G = np.exp(x)/sum(np.exp(x))      \n",
    "    if deriv == True:\n",
    "        G1 = np.diag(G) - np.outer(G,G)\n",
    "    else:\n",
    "        G1 = G\n",
    "    return G1\n",
    "# Note: Nx and y are always numpy arrays (for 'bce' they always have only one entry)\n",
    "# when deriv = False the output must be a number and when deriv = True the output must be a vector\n",
    "def loss(Nx,y,cost_type,deriv = False):\n",
    "    if cost_type == 'se' and deriv == False:\n",
    "        L = (Nx - y).T @ (Nx - y)\n",
    "    if cost_type == 'se' and deriv == True:\n",
    "        L = 2 * (Nx - y)\n",
    "    if cost_type == 'ce' and deriv == False:\n",
    "        L = - y.T @ np.log(Nx)\n",
    "    if cost_type == 'ce' and deriv == True:\n",
    "        L = - y.T @ np.diag(1 / Nx)\n",
    "    if cost_type == 'bce' and deriv == False:\n",
    "        L = (y - 1) * np.log(1 - Nx) - y * np.log(Nx) \n",
    "    if cost_type == 'bce' and deriv == True:\n",
    "        L = (1 - y) / (1 - Nx) - y / Nx\n",
    "    return L"
   ]
  },
  {
   "cell_type": "code",
   "execution_count": 221,
   "id": "1d6773e6",
   "metadata": {},
   "outputs": [],
   "source": [
    "def feedforward(W,B,G,x):\n",
    "    ######################### your code goes here ########################\n",
    "    feeds = []\n",
    "    for i in range(len(G)-1):\n",
    "        if i == 0:\n",
    "            feeds.append([G[0](x),W[0]@x+B[0]])\n",
    "        else:\n",
    "            xi =G[i](feeds[i-1][1])\n",
    "            feeds.append([xi,W[i]@xi+B[i]])\n",
    "    xl = G[-1](feeds[-1][1])\n",
    "    feeds.append(xl)\n",
    "    return feeds"
   ]
  },
  {
   "cell_type": "code",
   "execution_count": 222,
   "id": "973a834e",
   "metadata": {},
   "outputs": [],
   "source": [
    "def deltas(X_feeds,Y,W,B,G,verbose = False, cost_type = 'se'):\n",
    "    ######################### your code goes here ########################\n",
    "    D = len(G)-1\n",
    "    deltas_dict = {}\n",
    "    for i in X_feeds.keys():\n",
    "        deltas_dict[i] = [loss(X_feeds[i][-1],Y[i],cost_type,deriv = True) @ G[D](X_feeds[i][D-1][1],deriv = True)]\n",
    "        for j in range(D-1,0,-1):\n",
    "                deltas_dict[i].append(deltas_dict[i][-1]@W[j]@G[j](X_feeds[i][j-1][1],deriv = True))\n",
    "        deltas_dict[i].reverse()\n",
    "    return deltas_dict"
   ]
  },
  {
   "cell_type": "code",
   "execution_count": 223,
   "id": "a10043aa",
   "metadata": {},
   "outputs": [],
   "source": [
    "def grads(X,Y,W,B,G,batch, lambda_ = 0, verbose = False,cost_type = 'se'):\n",
    "    ######################### your code goes here ########################\n",
    "    D = len(W)\n",
    "    Ba = len(batch)\n",
    "    dWs = []\n",
    "    dBs = []\n",
    "    X_feeds = {}\n",
    "    for i in batch:\n",
    "        X_feeds[i] = feedforward(W,B,G,X[i])\n",
    "    X_deltas = deltas(X_feeds,Y,W,B,G,verbose,cost_type)\n",
    "    for l in range(D):\n",
    "        dw = sum([np.outer(X_deltas[i][l],X_feeds[i][l][0]) for i in batch])\n",
    "        db = sum([X_deltas[i][l] for i in batch])\n",
    "        dBs.append(db/Ba)\n",
    "        dWs.append(dw/Ba+2*lambda_*W[l])\n",
    "    return dWs,dBs,X_feeds"
   ]
  },
  {
   "cell_type": "code",
   "execution_count": 224,
   "id": "143cf770",
   "metadata": {},
   "outputs": [],
   "source": [
    "def fit(X,Y,arch,G,alpha = 1e-9, momentum = .01, batch_size = 100, \n",
    "        lambda_ = 0, max_iters = 100,verbose = False, cost_type = 'se',print_costs = True):\n",
    "    ######################### your code goes here ########################\n",
    "    W, B, VW, VB = [], [], [], []\n",
    "    costs, grad_norms = [], []\n",
    "    D,m = len(G)-1,len(X)\n",
    "    epochs = 0  \n",
    "    prev = X.shape[1]\n",
    "    for l in range(D):\n",
    "        W.append(np.random.default_rng().normal(loc=0, scale = 2 / (prev + arch[l]), size = (arch[l],prev)))\n",
    "        r,c = W[l].shape\n",
    "        B.append(np.zeros(arch[l]))\n",
    "        VW.append(np.zeros([r,c]))\n",
    "        VB.append(np.zeros(B[l].shape))\n",
    "        prev = arch[l]\n",
    "\n",
    "    while epochs<=max_iters:\n",
    "        batch = random.sample(range(m),batch_size)\n",
    "        dWs,dBs,feeds = grads(X,Y,W,B,G,batch, lambda_ , verbose,cost_type)\n",
    "        grad_norms.append(sum([ LA.norm(dw) for dw in dWs]) + sum([ LA.norm(db) for db in dBs ]))\n",
    "        costs.append(sum([ loss( feeds[i][D][0], Y[i], cost_type ) for i in batch]) / batch_size)\n",
    "        if epochs%(np.floor(max_iters/30))==0 and print_costs:\n",
    "            print(f'epoch: {epochs}')\n",
    "            print(f'           cost: {costs[-1]}')\n",
    "        for l in range(D):\n",
    "            VW[l] = momentum*VW[l]-alpha*dWs[l]\n",
    "            VB[l] = momentum*VB[l]-alpha*dBs[l]\n",
    "            W[l] = W[l]+VW[l]\n",
    "            B[l] = B[l]+VB[l]\n",
    "        epochs += 1\n",
    "    return W,B,costs,grad_norms"
   ]
  },
  {
   "cell_type": "code",
   "execution_count": 7,
   "id": "6706a19f",
   "metadata": {},
   "outputs": [],
   "source": [
    "def predict(W,B,G,x,output_type = 'vector'):\n",
    "    ######################### your code goes here ########################\n",
    "    if output_type == 'vector':\n",
    "        p = np.argmax(feedforward(W,B,G,x)[-1])\n",
    "        y = np.zeros(feedforward(W,B,G,x)[-1].shape)\n",
    "        y[p] = 1\n",
    "    else:\n",
    "        y = np.argmax(feedforward(W,B,G,x)[-1])\n",
    "    return y"
   ]
  },
  {
   "cell_type": "code",
   "execution_count": 7,
   "id": "a99afe64",
   "metadata": {},
   "outputs": [],
   "source": [
    "df = df.drop(\"Unnamed: 0\", axis = 'columns')"
   ]
  },
  {
   "cell_type": "code",
   "execution_count": 11,
   "id": "4d5c0e62",
   "metadata": {},
   "outputs": [
    {
     "data": {
      "text/plain": [
       "(9, -9)"
      ]
     },
     "execution_count": 11,
     "metadata": {},
     "output_type": "execute_result"
    }
   ],
   "source": [
    "find_max_column = float('-inf')\n",
    "find_min_column = float('inf')\n",
    "for index, row in df.iterrows():\n",
    "    #print(a_row.free_part)\n",
    "    for key in eval(row.free_part):\n",
    "       #print(a_key[0])\n",
    "        if key[1] < find_min_column:\n",
    "            find_min_column = key[1]\n",
    "        if key[1] > find_max_column:\n",
    "            find_max_column = key[1]\n",
    "\n",
    "find_max_column, find_min_column"
   ]
  },
  {
   "cell_type": "code",
   "execution_count": 12,
   "id": "db2339e9",
   "metadata": {},
   "outputs": [
    {
     "data": {
      "text/plain": [
       "(25, -25)"
      ]
     },
     "execution_count": 12,
     "metadata": {},
     "output_type": "execute_result"
    }
   ],
   "source": [
    "find_max_row = float('-inf')\n",
    "find_min_row = float('inf')\n",
    "for index, row in df.iterrows():\n",
    "    #print(a_row.free_part)\n",
    "    for key in eval(row.free_part):\n",
    "        #print(a_key[0])\n",
    "        if key[0] < find_min_row:\n",
    "            find_min_row = key[0]\n",
    "        if key[0] > find_max_row:\n",
    "            find_max_row = key[0]\n",
    "\n",
    "find_max_row, find_min_row"
   ]
  },
  {
   "cell_type": "code",
   "execution_count": 13,
   "id": "0ec0919c",
   "metadata": {},
   "outputs": [
    {
     "data": {
      "text/plain": [
       "(9, -8)"
      ]
     },
     "execution_count": 13,
     "metadata": {},
     "output_type": "execute_result"
    }
   ],
   "source": [
    "find_max_column = float('-inf')\n",
    "find_min_column = float('inf')\n",
    "for index, row in df.iterrows():\n",
    "    #print(a_row.free_part)\n",
    "    for key in eval(row.torsion_part):\n",
    "       #print(a_key[0])\n",
    "        if key[1] < find_min_column:\n",
    "            find_min_column = key[1]\n",
    "        if key[1] > find_max_column:\n",
    "            find_max_column = key[1]\n",
    "\n",
    "find_max_column, find_min_column"
   ]
  },
  {
   "cell_type": "code",
   "execution_count": 14,
   "id": "2faf9b7e",
   "metadata": {},
   "outputs": [
    {
     "data": {
      "text/plain": [
       "(23, -23)"
      ]
     },
     "execution_count": 14,
     "metadata": {},
     "output_type": "execute_result"
    }
   ],
   "source": [
    "find_max_row = float('-inf')\n",
    "find_min_row = float('inf')\n",
    "for index, row in df.iterrows():\n",
    "    #print(a_row.free_part)\n",
    "    for key in eval(row.torsion_part):\n",
    "        #print(a_key[0])\n",
    "        if key[0] < find_min_row:\n",
    "            find_min_row = key[0]\n",
    "        if key[0] > find_max_row:\n",
    "            find_max_row = key[0]\n",
    "\n",
    "find_max_row, find_min_row"
   ]
  },
  {
   "cell_type": "code",
   "execution_count": 37,
   "id": "1ee8e3b2",
   "metadata": {},
   "outputs": [],
   "source": [
    "def gen_matrix_FP(X,col, row):\n",
    "    row_m = len(X)\n",
    "    col_m = col*row\n",
    "    m = np.zeros([row_m,col_m])\n",
    "    for i in range(len(X)):\n",
    "        b = []\n",
    "        c = []\n",
    "        a = np.zeros([row,col])\n",
    "        for key,value in eval(X[i]).items():\n",
    "            b.append(key[0])\n",
    "            c.append(key[1])\n",
    "            a[b[-1],c[-1]] =  value\n",
    "        a = a.flatten()\n",
    "        m[i,:] = a\n",
    "    return m"
   ]
  },
  {
   "cell_type": "code",
   "execution_count": 48,
   "id": "680ad79f",
   "metadata": {},
   "outputs": [],
   "source": [
    "def gen_matrix_TP(X,col, row):\n",
    "    row_m = len(X)\n",
    "    col_m = col*row\n",
    "    m = np.zeros([row_m,col_m])\n",
    "    for i in range(len(X)):\n",
    "        b = []\n",
    "        c = []\n",
    "        a = np.zeros([row,col])\n",
    "        for key,value in eval(X[i]).items():\n",
    "            b.append(key[0])\n",
    "            c.append(key[1])\n",
    "            a[b[-1],c[-1]] =  value[2]\n",
    "        a = a.flatten()\n",
    "        m[i,:] = a\n",
    "    return m"
   ]
  },
  {
   "cell_type": "code",
   "execution_count": 35,
   "id": "8327d8ea",
   "metadata": {},
   "outputs": [
    {
     "data": {
      "text/plain": [
       "(1081, 969)"
      ]
     },
     "execution_count": 35,
     "metadata": {},
     "output_type": "execute_result"
    }
   ],
   "source": [
    "matrix_free_part = gen_matrix_FP(df.free_part,19,51)\n",
    "len(matrix_free_part),len(matrix_free_part[0])"
   ]
  },
  {
   "cell_type": "code",
   "execution_count": 49,
   "id": "cbbe2b30",
   "metadata": {},
   "outputs": [
    {
     "data": {
      "text/plain": [
       "(1081, 846)"
      ]
     },
     "execution_count": 49,
     "metadata": {},
     "output_type": "execute_result"
    }
   ],
   "source": [
    "matrix_free_torsion = gen_matrix_TP(df.torsion_part,18,47)\n",
    "len(matrix_free_torsion),len(matrix_free_torsion[0])"
   ]
  },
  {
   "cell_type": "code",
   "execution_count": null,
   "id": "a2d47e85",
   "metadata": {},
   "outputs": [],
   "source": []
  }
 ],
 "metadata": {
  "kernelspec": {
   "display_name": "Python [conda env:root] *",
   "language": "python",
   "name": "conda-root-py"
  },
  "language_info": {
   "codemirror_mode": {
    "name": "ipython",
    "version": 3
   },
   "file_extension": ".py",
   "mimetype": "text/x-python",
   "name": "python",
   "nbconvert_exporter": "python",
   "pygments_lexer": "ipython3",
   "version": "3.9.12"
  }
 },
 "nbformat": 4,
 "nbformat_minor": 5
}

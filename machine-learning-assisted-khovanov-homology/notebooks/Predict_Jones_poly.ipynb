{
 "cells": [
  {
   "cell_type": "code",
   "execution_count": 6,
   "id": "4cea46eb",
   "metadata": {},
   "outputs": [],
   "source": [
    "import numpy as np\n",
    "import pandas as pd\n",
    "from numpy import linalg as LA\n",
    "import os\n",
    "from sklearn.model_selection import train_test_split"
   ]
  },
  {
   "cell_type": "code",
   "execution_count": 7,
   "id": "10ad9e9c",
   "metadata": {},
   "outputs": [
    {
     "data": {
      "text/plain": [
       "'/Users/guoyihan/Documents/GitHub/MAT_180_ML_Projects/machine-learning-assisted-khovanov-homology'"
      ]
     },
     "execution_count": 7,
     "metadata": {},
     "output_type": "execute_result"
    }
   ],
   "source": [
    "os.getcwd()"
   ]
  },
  {
   "cell_type": "code",
   "execution_count": 8,
   "id": "6daf66cd",
   "metadata": {},
   "outputs": [],
   "source": [
    "os.chdir(\"..\")"
   ]
  },
  {
   "cell_type": "markdown",
   "id": "7a6e926a",
   "metadata": {},
   "source": [
    "# Read Dataset"
   ]
  },
  {
   "cell_type": "code",
   "execution_count": 9,
   "id": "35d5f2c4",
   "metadata": {},
   "outputs": [
    {
     "ename": "FileNotFoundError",
     "evalue": "[Errno 2] No such file or directory: 'data/dataset_no_repeats.csv'",
     "output_type": "error",
     "traceback": [
      "\u001b[0;31m---------------------------------------------------------------------------\u001b[0m",
      "\u001b[0;31mFileNotFoundError\u001b[0m                         Traceback (most recent call last)",
      "Input \u001b[0;32mIn [9]\u001b[0m, in \u001b[0;36m<cell line: 1>\u001b[0;34m()\u001b[0m\n\u001b[0;32m----> 1\u001b[0m df_1 \u001b[38;5;241m=\u001b[39m \u001b[43mpd\u001b[49m\u001b[38;5;241;43m.\u001b[39;49m\u001b[43mread_csv\u001b[49m\u001b[43m(\u001b[49m\u001b[38;5;124;43m'\u001b[39;49m\u001b[38;5;124;43mdata/dataset_no_repeats.csv\u001b[39;49m\u001b[38;5;124;43m'\u001b[39;49m\u001b[43m)\u001b[49m\n",
      "File \u001b[0;32m/opt/anaconda3/lib/python3.9/site-packages/pandas/util/_decorators.py:311\u001b[0m, in \u001b[0;36mdeprecate_nonkeyword_arguments.<locals>.decorate.<locals>.wrapper\u001b[0;34m(*args, **kwargs)\u001b[0m\n\u001b[1;32m    305\u001b[0m \u001b[38;5;28;01mif\u001b[39;00m \u001b[38;5;28mlen\u001b[39m(args) \u001b[38;5;241m>\u001b[39m num_allow_args:\n\u001b[1;32m    306\u001b[0m     warnings\u001b[38;5;241m.\u001b[39mwarn(\n\u001b[1;32m    307\u001b[0m         msg\u001b[38;5;241m.\u001b[39mformat(arguments\u001b[38;5;241m=\u001b[39marguments),\n\u001b[1;32m    308\u001b[0m         \u001b[38;5;167;01mFutureWarning\u001b[39;00m,\n\u001b[1;32m    309\u001b[0m         stacklevel\u001b[38;5;241m=\u001b[39mstacklevel,\n\u001b[1;32m    310\u001b[0m     )\n\u001b[0;32m--> 311\u001b[0m \u001b[38;5;28;01mreturn\u001b[39;00m \u001b[43mfunc\u001b[49m\u001b[43m(\u001b[49m\u001b[38;5;241;43m*\u001b[39;49m\u001b[43margs\u001b[49m\u001b[43m,\u001b[49m\u001b[43m \u001b[49m\u001b[38;5;241;43m*\u001b[39;49m\u001b[38;5;241;43m*\u001b[39;49m\u001b[43mkwargs\u001b[49m\u001b[43m)\u001b[49m\n",
      "File \u001b[0;32m/opt/anaconda3/lib/python3.9/site-packages/pandas/io/parsers/readers.py:680\u001b[0m, in \u001b[0;36mread_csv\u001b[0;34m(filepath_or_buffer, sep, delimiter, header, names, index_col, usecols, squeeze, prefix, mangle_dupe_cols, dtype, engine, converters, true_values, false_values, skipinitialspace, skiprows, skipfooter, nrows, na_values, keep_default_na, na_filter, verbose, skip_blank_lines, parse_dates, infer_datetime_format, keep_date_col, date_parser, dayfirst, cache_dates, iterator, chunksize, compression, thousands, decimal, lineterminator, quotechar, quoting, doublequote, escapechar, comment, encoding, encoding_errors, dialect, error_bad_lines, warn_bad_lines, on_bad_lines, delim_whitespace, low_memory, memory_map, float_precision, storage_options)\u001b[0m\n\u001b[1;32m    665\u001b[0m kwds_defaults \u001b[38;5;241m=\u001b[39m _refine_defaults_read(\n\u001b[1;32m    666\u001b[0m     dialect,\n\u001b[1;32m    667\u001b[0m     delimiter,\n\u001b[0;32m   (...)\u001b[0m\n\u001b[1;32m    676\u001b[0m     defaults\u001b[38;5;241m=\u001b[39m{\u001b[38;5;124m\"\u001b[39m\u001b[38;5;124mdelimiter\u001b[39m\u001b[38;5;124m\"\u001b[39m: \u001b[38;5;124m\"\u001b[39m\u001b[38;5;124m,\u001b[39m\u001b[38;5;124m\"\u001b[39m},\n\u001b[1;32m    677\u001b[0m )\n\u001b[1;32m    678\u001b[0m kwds\u001b[38;5;241m.\u001b[39mupdate(kwds_defaults)\n\u001b[0;32m--> 680\u001b[0m \u001b[38;5;28;01mreturn\u001b[39;00m \u001b[43m_read\u001b[49m\u001b[43m(\u001b[49m\u001b[43mfilepath_or_buffer\u001b[49m\u001b[43m,\u001b[49m\u001b[43m \u001b[49m\u001b[43mkwds\u001b[49m\u001b[43m)\u001b[49m\n",
      "File \u001b[0;32m/opt/anaconda3/lib/python3.9/site-packages/pandas/io/parsers/readers.py:575\u001b[0m, in \u001b[0;36m_read\u001b[0;34m(filepath_or_buffer, kwds)\u001b[0m\n\u001b[1;32m    572\u001b[0m _validate_names(kwds\u001b[38;5;241m.\u001b[39mget(\u001b[38;5;124m\"\u001b[39m\u001b[38;5;124mnames\u001b[39m\u001b[38;5;124m\"\u001b[39m, \u001b[38;5;28;01mNone\u001b[39;00m))\n\u001b[1;32m    574\u001b[0m \u001b[38;5;66;03m# Create the parser.\u001b[39;00m\n\u001b[0;32m--> 575\u001b[0m parser \u001b[38;5;241m=\u001b[39m \u001b[43mTextFileReader\u001b[49m\u001b[43m(\u001b[49m\u001b[43mfilepath_or_buffer\u001b[49m\u001b[43m,\u001b[49m\u001b[43m \u001b[49m\u001b[38;5;241;43m*\u001b[39;49m\u001b[38;5;241;43m*\u001b[39;49m\u001b[43mkwds\u001b[49m\u001b[43m)\u001b[49m\n\u001b[1;32m    577\u001b[0m \u001b[38;5;28;01mif\u001b[39;00m chunksize \u001b[38;5;129;01mor\u001b[39;00m iterator:\n\u001b[1;32m    578\u001b[0m     \u001b[38;5;28;01mreturn\u001b[39;00m parser\n",
      "File \u001b[0;32m/opt/anaconda3/lib/python3.9/site-packages/pandas/io/parsers/readers.py:933\u001b[0m, in \u001b[0;36mTextFileReader.__init__\u001b[0;34m(self, f, engine, **kwds)\u001b[0m\n\u001b[1;32m    930\u001b[0m     \u001b[38;5;28mself\u001b[39m\u001b[38;5;241m.\u001b[39moptions[\u001b[38;5;124m\"\u001b[39m\u001b[38;5;124mhas_index_names\u001b[39m\u001b[38;5;124m\"\u001b[39m] \u001b[38;5;241m=\u001b[39m kwds[\u001b[38;5;124m\"\u001b[39m\u001b[38;5;124mhas_index_names\u001b[39m\u001b[38;5;124m\"\u001b[39m]\n\u001b[1;32m    932\u001b[0m \u001b[38;5;28mself\u001b[39m\u001b[38;5;241m.\u001b[39mhandles: IOHandles \u001b[38;5;241m|\u001b[39m \u001b[38;5;28;01mNone\u001b[39;00m \u001b[38;5;241m=\u001b[39m \u001b[38;5;28;01mNone\u001b[39;00m\n\u001b[0;32m--> 933\u001b[0m \u001b[38;5;28mself\u001b[39m\u001b[38;5;241m.\u001b[39m_engine \u001b[38;5;241m=\u001b[39m \u001b[38;5;28;43mself\u001b[39;49m\u001b[38;5;241;43m.\u001b[39;49m\u001b[43m_make_engine\u001b[49m\u001b[43m(\u001b[49m\u001b[43mf\u001b[49m\u001b[43m,\u001b[49m\u001b[43m \u001b[49m\u001b[38;5;28;43mself\u001b[39;49m\u001b[38;5;241;43m.\u001b[39;49m\u001b[43mengine\u001b[49m\u001b[43m)\u001b[49m\n",
      "File \u001b[0;32m/opt/anaconda3/lib/python3.9/site-packages/pandas/io/parsers/readers.py:1217\u001b[0m, in \u001b[0;36mTextFileReader._make_engine\u001b[0;34m(self, f, engine)\u001b[0m\n\u001b[1;32m   1213\u001b[0m     mode \u001b[38;5;241m=\u001b[39m \u001b[38;5;124m\"\u001b[39m\u001b[38;5;124mrb\u001b[39m\u001b[38;5;124m\"\u001b[39m\n\u001b[1;32m   1214\u001b[0m \u001b[38;5;66;03m# error: No overload variant of \"get_handle\" matches argument types\u001b[39;00m\n\u001b[1;32m   1215\u001b[0m \u001b[38;5;66;03m# \"Union[str, PathLike[str], ReadCsvBuffer[bytes], ReadCsvBuffer[str]]\"\u001b[39;00m\n\u001b[1;32m   1216\u001b[0m \u001b[38;5;66;03m# , \"str\", \"bool\", \"Any\", \"Any\", \"Any\", \"Any\", \"Any\"\u001b[39;00m\n\u001b[0;32m-> 1217\u001b[0m \u001b[38;5;28mself\u001b[39m\u001b[38;5;241m.\u001b[39mhandles \u001b[38;5;241m=\u001b[39m \u001b[43mget_handle\u001b[49m\u001b[43m(\u001b[49m\u001b[43m  \u001b[49m\u001b[38;5;66;43;03m# type: ignore[call-overload]\u001b[39;49;00m\n\u001b[1;32m   1218\u001b[0m \u001b[43m    \u001b[49m\u001b[43mf\u001b[49m\u001b[43m,\u001b[49m\n\u001b[1;32m   1219\u001b[0m \u001b[43m    \u001b[49m\u001b[43mmode\u001b[49m\u001b[43m,\u001b[49m\n\u001b[1;32m   1220\u001b[0m \u001b[43m    \u001b[49m\u001b[43mencoding\u001b[49m\u001b[38;5;241;43m=\u001b[39;49m\u001b[38;5;28;43mself\u001b[39;49m\u001b[38;5;241;43m.\u001b[39;49m\u001b[43moptions\u001b[49m\u001b[38;5;241;43m.\u001b[39;49m\u001b[43mget\u001b[49m\u001b[43m(\u001b[49m\u001b[38;5;124;43m\"\u001b[39;49m\u001b[38;5;124;43mencoding\u001b[39;49m\u001b[38;5;124;43m\"\u001b[39;49m\u001b[43m,\u001b[49m\u001b[43m \u001b[49m\u001b[38;5;28;43;01mNone\u001b[39;49;00m\u001b[43m)\u001b[49m\u001b[43m,\u001b[49m\n\u001b[1;32m   1221\u001b[0m \u001b[43m    \u001b[49m\u001b[43mcompression\u001b[49m\u001b[38;5;241;43m=\u001b[39;49m\u001b[38;5;28;43mself\u001b[39;49m\u001b[38;5;241;43m.\u001b[39;49m\u001b[43moptions\u001b[49m\u001b[38;5;241;43m.\u001b[39;49m\u001b[43mget\u001b[49m\u001b[43m(\u001b[49m\u001b[38;5;124;43m\"\u001b[39;49m\u001b[38;5;124;43mcompression\u001b[39;49m\u001b[38;5;124;43m\"\u001b[39;49m\u001b[43m,\u001b[49m\u001b[43m \u001b[49m\u001b[38;5;28;43;01mNone\u001b[39;49;00m\u001b[43m)\u001b[49m\u001b[43m,\u001b[49m\n\u001b[1;32m   1222\u001b[0m \u001b[43m    \u001b[49m\u001b[43mmemory_map\u001b[49m\u001b[38;5;241;43m=\u001b[39;49m\u001b[38;5;28;43mself\u001b[39;49m\u001b[38;5;241;43m.\u001b[39;49m\u001b[43moptions\u001b[49m\u001b[38;5;241;43m.\u001b[39;49m\u001b[43mget\u001b[49m\u001b[43m(\u001b[49m\u001b[38;5;124;43m\"\u001b[39;49m\u001b[38;5;124;43mmemory_map\u001b[39;49m\u001b[38;5;124;43m\"\u001b[39;49m\u001b[43m,\u001b[49m\u001b[43m \u001b[49m\u001b[38;5;28;43;01mFalse\u001b[39;49;00m\u001b[43m)\u001b[49m\u001b[43m,\u001b[49m\n\u001b[1;32m   1223\u001b[0m \u001b[43m    \u001b[49m\u001b[43mis_text\u001b[49m\u001b[38;5;241;43m=\u001b[39;49m\u001b[43mis_text\u001b[49m\u001b[43m,\u001b[49m\n\u001b[1;32m   1224\u001b[0m \u001b[43m    \u001b[49m\u001b[43merrors\u001b[49m\u001b[38;5;241;43m=\u001b[39;49m\u001b[38;5;28;43mself\u001b[39;49m\u001b[38;5;241;43m.\u001b[39;49m\u001b[43moptions\u001b[49m\u001b[38;5;241;43m.\u001b[39;49m\u001b[43mget\u001b[49m\u001b[43m(\u001b[49m\u001b[38;5;124;43m\"\u001b[39;49m\u001b[38;5;124;43mencoding_errors\u001b[39;49m\u001b[38;5;124;43m\"\u001b[39;49m\u001b[43m,\u001b[49m\u001b[43m \u001b[49m\u001b[38;5;124;43m\"\u001b[39;49m\u001b[38;5;124;43mstrict\u001b[39;49m\u001b[38;5;124;43m\"\u001b[39;49m\u001b[43m)\u001b[49m\u001b[43m,\u001b[49m\n\u001b[1;32m   1225\u001b[0m \u001b[43m    \u001b[49m\u001b[43mstorage_options\u001b[49m\u001b[38;5;241;43m=\u001b[39;49m\u001b[38;5;28;43mself\u001b[39;49m\u001b[38;5;241;43m.\u001b[39;49m\u001b[43moptions\u001b[49m\u001b[38;5;241;43m.\u001b[39;49m\u001b[43mget\u001b[49m\u001b[43m(\u001b[49m\u001b[38;5;124;43m\"\u001b[39;49m\u001b[38;5;124;43mstorage_options\u001b[39;49m\u001b[38;5;124;43m\"\u001b[39;49m\u001b[43m,\u001b[49m\u001b[43m \u001b[49m\u001b[38;5;28;43;01mNone\u001b[39;49;00m\u001b[43m)\u001b[49m\u001b[43m,\u001b[49m\n\u001b[1;32m   1226\u001b[0m \u001b[43m\u001b[49m\u001b[43m)\u001b[49m\n\u001b[1;32m   1227\u001b[0m \u001b[38;5;28;01massert\u001b[39;00m \u001b[38;5;28mself\u001b[39m\u001b[38;5;241m.\u001b[39mhandles \u001b[38;5;129;01mis\u001b[39;00m \u001b[38;5;129;01mnot\u001b[39;00m \u001b[38;5;28;01mNone\u001b[39;00m\n\u001b[1;32m   1228\u001b[0m f \u001b[38;5;241m=\u001b[39m \u001b[38;5;28mself\u001b[39m\u001b[38;5;241m.\u001b[39mhandles\u001b[38;5;241m.\u001b[39mhandle\n",
      "File \u001b[0;32m/opt/anaconda3/lib/python3.9/site-packages/pandas/io/common.py:789\u001b[0m, in \u001b[0;36mget_handle\u001b[0;34m(path_or_buf, mode, encoding, compression, memory_map, is_text, errors, storage_options)\u001b[0m\n\u001b[1;32m    784\u001b[0m \u001b[38;5;28;01melif\u001b[39;00m \u001b[38;5;28misinstance\u001b[39m(handle, \u001b[38;5;28mstr\u001b[39m):\n\u001b[1;32m    785\u001b[0m     \u001b[38;5;66;03m# Check whether the filename is to be opened in binary mode.\u001b[39;00m\n\u001b[1;32m    786\u001b[0m     \u001b[38;5;66;03m# Binary mode does not support 'encoding' and 'newline'.\u001b[39;00m\n\u001b[1;32m    787\u001b[0m     \u001b[38;5;28;01mif\u001b[39;00m ioargs\u001b[38;5;241m.\u001b[39mencoding \u001b[38;5;129;01mand\u001b[39;00m \u001b[38;5;124m\"\u001b[39m\u001b[38;5;124mb\u001b[39m\u001b[38;5;124m\"\u001b[39m \u001b[38;5;129;01mnot\u001b[39;00m \u001b[38;5;129;01min\u001b[39;00m ioargs\u001b[38;5;241m.\u001b[39mmode:\n\u001b[1;32m    788\u001b[0m         \u001b[38;5;66;03m# Encoding\u001b[39;00m\n\u001b[0;32m--> 789\u001b[0m         handle \u001b[38;5;241m=\u001b[39m \u001b[38;5;28;43mopen\u001b[39;49m\u001b[43m(\u001b[49m\n\u001b[1;32m    790\u001b[0m \u001b[43m            \u001b[49m\u001b[43mhandle\u001b[49m\u001b[43m,\u001b[49m\n\u001b[1;32m    791\u001b[0m \u001b[43m            \u001b[49m\u001b[43mioargs\u001b[49m\u001b[38;5;241;43m.\u001b[39;49m\u001b[43mmode\u001b[49m\u001b[43m,\u001b[49m\n\u001b[1;32m    792\u001b[0m \u001b[43m            \u001b[49m\u001b[43mencoding\u001b[49m\u001b[38;5;241;43m=\u001b[39;49m\u001b[43mioargs\u001b[49m\u001b[38;5;241;43m.\u001b[39;49m\u001b[43mencoding\u001b[49m\u001b[43m,\u001b[49m\n\u001b[1;32m    793\u001b[0m \u001b[43m            \u001b[49m\u001b[43merrors\u001b[49m\u001b[38;5;241;43m=\u001b[39;49m\u001b[43merrors\u001b[49m\u001b[43m,\u001b[49m\n\u001b[1;32m    794\u001b[0m \u001b[43m            \u001b[49m\u001b[43mnewline\u001b[49m\u001b[38;5;241;43m=\u001b[39;49m\u001b[38;5;124;43m\"\u001b[39;49m\u001b[38;5;124;43m\"\u001b[39;49m\u001b[43m,\u001b[49m\n\u001b[1;32m    795\u001b[0m \u001b[43m        \u001b[49m\u001b[43m)\u001b[49m\n\u001b[1;32m    796\u001b[0m     \u001b[38;5;28;01melse\u001b[39;00m:\n\u001b[1;32m    797\u001b[0m         \u001b[38;5;66;03m# Binary mode\u001b[39;00m\n\u001b[1;32m    798\u001b[0m         handle \u001b[38;5;241m=\u001b[39m \u001b[38;5;28mopen\u001b[39m(handle, ioargs\u001b[38;5;241m.\u001b[39mmode)\n",
      "\u001b[0;31mFileNotFoundError\u001b[0m: [Errno 2] No such file or directory: 'data/dataset_no_repeats.csv'"
     ]
    }
   ],
   "source": [
    "\n",
    "df_1 = pd.read_csv('data/dataset_no_repeats.csv')"
   ]
  },
  {
   "cell_type": "code",
   "execution_count": null,
   "id": "765bd54d",
   "metadata": {},
   "outputs": [],
   "source": [
    "df_1"
   ]
  },
  {
   "cell_type": "code",
   "execution_count": 5,
   "id": "56f5d04d",
   "metadata": {},
   "outputs": [
    {
     "ename": "FileNotFoundError",
     "evalue": "[Errno 2] No such file or directory: 'data/test.csv'",
     "output_type": "error",
     "traceback": [
      "\u001b[0;31m---------------------------------------------------------------------------\u001b[0m",
      "\u001b[0;31mFileNotFoundError\u001b[0m                         Traceback (most recent call last)",
      "Input \u001b[0;32mIn [5]\u001b[0m, in \u001b[0;36m<cell line: 1>\u001b[0;34m()\u001b[0m\n\u001b[0;32m----> 1\u001b[0m df \u001b[38;5;241m=\u001b[39m \u001b[43mpd\u001b[49m\u001b[38;5;241;43m.\u001b[39;49m\u001b[43mread_csv\u001b[49m\u001b[43m(\u001b[49m\u001b[38;5;124;43m'\u001b[39;49m\u001b[38;5;124;43mdata/test.csv\u001b[39;49m\u001b[38;5;124;43m'\u001b[39;49m\u001b[43m)\u001b[49m\n",
      "File \u001b[0;32m/opt/anaconda3/lib/python3.9/site-packages/pandas/util/_decorators.py:311\u001b[0m, in \u001b[0;36mdeprecate_nonkeyword_arguments.<locals>.decorate.<locals>.wrapper\u001b[0;34m(*args, **kwargs)\u001b[0m\n\u001b[1;32m    305\u001b[0m \u001b[38;5;28;01mif\u001b[39;00m \u001b[38;5;28mlen\u001b[39m(args) \u001b[38;5;241m>\u001b[39m num_allow_args:\n\u001b[1;32m    306\u001b[0m     warnings\u001b[38;5;241m.\u001b[39mwarn(\n\u001b[1;32m    307\u001b[0m         msg\u001b[38;5;241m.\u001b[39mformat(arguments\u001b[38;5;241m=\u001b[39marguments),\n\u001b[1;32m    308\u001b[0m         \u001b[38;5;167;01mFutureWarning\u001b[39;00m,\n\u001b[1;32m    309\u001b[0m         stacklevel\u001b[38;5;241m=\u001b[39mstacklevel,\n\u001b[1;32m    310\u001b[0m     )\n\u001b[0;32m--> 311\u001b[0m \u001b[38;5;28;01mreturn\u001b[39;00m \u001b[43mfunc\u001b[49m\u001b[43m(\u001b[49m\u001b[38;5;241;43m*\u001b[39;49m\u001b[43margs\u001b[49m\u001b[43m,\u001b[49m\u001b[43m \u001b[49m\u001b[38;5;241;43m*\u001b[39;49m\u001b[38;5;241;43m*\u001b[39;49m\u001b[43mkwargs\u001b[49m\u001b[43m)\u001b[49m\n",
      "File \u001b[0;32m/opt/anaconda3/lib/python3.9/site-packages/pandas/io/parsers/readers.py:680\u001b[0m, in \u001b[0;36mread_csv\u001b[0;34m(filepath_or_buffer, sep, delimiter, header, names, index_col, usecols, squeeze, prefix, mangle_dupe_cols, dtype, engine, converters, true_values, false_values, skipinitialspace, skiprows, skipfooter, nrows, na_values, keep_default_na, na_filter, verbose, skip_blank_lines, parse_dates, infer_datetime_format, keep_date_col, date_parser, dayfirst, cache_dates, iterator, chunksize, compression, thousands, decimal, lineterminator, quotechar, quoting, doublequote, escapechar, comment, encoding, encoding_errors, dialect, error_bad_lines, warn_bad_lines, on_bad_lines, delim_whitespace, low_memory, memory_map, float_precision, storage_options)\u001b[0m\n\u001b[1;32m    665\u001b[0m kwds_defaults \u001b[38;5;241m=\u001b[39m _refine_defaults_read(\n\u001b[1;32m    666\u001b[0m     dialect,\n\u001b[1;32m    667\u001b[0m     delimiter,\n\u001b[0;32m   (...)\u001b[0m\n\u001b[1;32m    676\u001b[0m     defaults\u001b[38;5;241m=\u001b[39m{\u001b[38;5;124m\"\u001b[39m\u001b[38;5;124mdelimiter\u001b[39m\u001b[38;5;124m\"\u001b[39m: \u001b[38;5;124m\"\u001b[39m\u001b[38;5;124m,\u001b[39m\u001b[38;5;124m\"\u001b[39m},\n\u001b[1;32m    677\u001b[0m )\n\u001b[1;32m    678\u001b[0m kwds\u001b[38;5;241m.\u001b[39mupdate(kwds_defaults)\n\u001b[0;32m--> 680\u001b[0m \u001b[38;5;28;01mreturn\u001b[39;00m \u001b[43m_read\u001b[49m\u001b[43m(\u001b[49m\u001b[43mfilepath_or_buffer\u001b[49m\u001b[43m,\u001b[49m\u001b[43m \u001b[49m\u001b[43mkwds\u001b[49m\u001b[43m)\u001b[49m\n",
      "File \u001b[0;32m/opt/anaconda3/lib/python3.9/site-packages/pandas/io/parsers/readers.py:575\u001b[0m, in \u001b[0;36m_read\u001b[0;34m(filepath_or_buffer, kwds)\u001b[0m\n\u001b[1;32m    572\u001b[0m _validate_names(kwds\u001b[38;5;241m.\u001b[39mget(\u001b[38;5;124m\"\u001b[39m\u001b[38;5;124mnames\u001b[39m\u001b[38;5;124m\"\u001b[39m, \u001b[38;5;28;01mNone\u001b[39;00m))\n\u001b[1;32m    574\u001b[0m \u001b[38;5;66;03m# Create the parser.\u001b[39;00m\n\u001b[0;32m--> 575\u001b[0m parser \u001b[38;5;241m=\u001b[39m \u001b[43mTextFileReader\u001b[49m\u001b[43m(\u001b[49m\u001b[43mfilepath_or_buffer\u001b[49m\u001b[43m,\u001b[49m\u001b[43m \u001b[49m\u001b[38;5;241;43m*\u001b[39;49m\u001b[38;5;241;43m*\u001b[39;49m\u001b[43mkwds\u001b[49m\u001b[43m)\u001b[49m\n\u001b[1;32m    577\u001b[0m \u001b[38;5;28;01mif\u001b[39;00m chunksize \u001b[38;5;129;01mor\u001b[39;00m iterator:\n\u001b[1;32m    578\u001b[0m     \u001b[38;5;28;01mreturn\u001b[39;00m parser\n",
      "File \u001b[0;32m/opt/anaconda3/lib/python3.9/site-packages/pandas/io/parsers/readers.py:933\u001b[0m, in \u001b[0;36mTextFileReader.__init__\u001b[0;34m(self, f, engine, **kwds)\u001b[0m\n\u001b[1;32m    930\u001b[0m     \u001b[38;5;28mself\u001b[39m\u001b[38;5;241m.\u001b[39moptions[\u001b[38;5;124m\"\u001b[39m\u001b[38;5;124mhas_index_names\u001b[39m\u001b[38;5;124m\"\u001b[39m] \u001b[38;5;241m=\u001b[39m kwds[\u001b[38;5;124m\"\u001b[39m\u001b[38;5;124mhas_index_names\u001b[39m\u001b[38;5;124m\"\u001b[39m]\n\u001b[1;32m    932\u001b[0m \u001b[38;5;28mself\u001b[39m\u001b[38;5;241m.\u001b[39mhandles: IOHandles \u001b[38;5;241m|\u001b[39m \u001b[38;5;28;01mNone\u001b[39;00m \u001b[38;5;241m=\u001b[39m \u001b[38;5;28;01mNone\u001b[39;00m\n\u001b[0;32m--> 933\u001b[0m \u001b[38;5;28mself\u001b[39m\u001b[38;5;241m.\u001b[39m_engine \u001b[38;5;241m=\u001b[39m \u001b[38;5;28;43mself\u001b[39;49m\u001b[38;5;241;43m.\u001b[39;49m\u001b[43m_make_engine\u001b[49m\u001b[43m(\u001b[49m\u001b[43mf\u001b[49m\u001b[43m,\u001b[49m\u001b[43m \u001b[49m\u001b[38;5;28;43mself\u001b[39;49m\u001b[38;5;241;43m.\u001b[39;49m\u001b[43mengine\u001b[49m\u001b[43m)\u001b[49m\n",
      "File \u001b[0;32m/opt/anaconda3/lib/python3.9/site-packages/pandas/io/parsers/readers.py:1217\u001b[0m, in \u001b[0;36mTextFileReader._make_engine\u001b[0;34m(self, f, engine)\u001b[0m\n\u001b[1;32m   1213\u001b[0m     mode \u001b[38;5;241m=\u001b[39m \u001b[38;5;124m\"\u001b[39m\u001b[38;5;124mrb\u001b[39m\u001b[38;5;124m\"\u001b[39m\n\u001b[1;32m   1214\u001b[0m \u001b[38;5;66;03m# error: No overload variant of \"get_handle\" matches argument types\u001b[39;00m\n\u001b[1;32m   1215\u001b[0m \u001b[38;5;66;03m# \"Union[str, PathLike[str], ReadCsvBuffer[bytes], ReadCsvBuffer[str]]\"\u001b[39;00m\n\u001b[1;32m   1216\u001b[0m \u001b[38;5;66;03m# , \"str\", \"bool\", \"Any\", \"Any\", \"Any\", \"Any\", \"Any\"\u001b[39;00m\n\u001b[0;32m-> 1217\u001b[0m \u001b[38;5;28mself\u001b[39m\u001b[38;5;241m.\u001b[39mhandles \u001b[38;5;241m=\u001b[39m \u001b[43mget_handle\u001b[49m\u001b[43m(\u001b[49m\u001b[43m  \u001b[49m\u001b[38;5;66;43;03m# type: ignore[call-overload]\u001b[39;49;00m\n\u001b[1;32m   1218\u001b[0m \u001b[43m    \u001b[49m\u001b[43mf\u001b[49m\u001b[43m,\u001b[49m\n\u001b[1;32m   1219\u001b[0m \u001b[43m    \u001b[49m\u001b[43mmode\u001b[49m\u001b[43m,\u001b[49m\n\u001b[1;32m   1220\u001b[0m \u001b[43m    \u001b[49m\u001b[43mencoding\u001b[49m\u001b[38;5;241;43m=\u001b[39;49m\u001b[38;5;28;43mself\u001b[39;49m\u001b[38;5;241;43m.\u001b[39;49m\u001b[43moptions\u001b[49m\u001b[38;5;241;43m.\u001b[39;49m\u001b[43mget\u001b[49m\u001b[43m(\u001b[49m\u001b[38;5;124;43m\"\u001b[39;49m\u001b[38;5;124;43mencoding\u001b[39;49m\u001b[38;5;124;43m\"\u001b[39;49m\u001b[43m,\u001b[49m\u001b[43m \u001b[49m\u001b[38;5;28;43;01mNone\u001b[39;49;00m\u001b[43m)\u001b[49m\u001b[43m,\u001b[49m\n\u001b[1;32m   1221\u001b[0m \u001b[43m    \u001b[49m\u001b[43mcompression\u001b[49m\u001b[38;5;241;43m=\u001b[39;49m\u001b[38;5;28;43mself\u001b[39;49m\u001b[38;5;241;43m.\u001b[39;49m\u001b[43moptions\u001b[49m\u001b[38;5;241;43m.\u001b[39;49m\u001b[43mget\u001b[49m\u001b[43m(\u001b[49m\u001b[38;5;124;43m\"\u001b[39;49m\u001b[38;5;124;43mcompression\u001b[39;49m\u001b[38;5;124;43m\"\u001b[39;49m\u001b[43m,\u001b[49m\u001b[43m \u001b[49m\u001b[38;5;28;43;01mNone\u001b[39;49;00m\u001b[43m)\u001b[49m\u001b[43m,\u001b[49m\n\u001b[1;32m   1222\u001b[0m \u001b[43m    \u001b[49m\u001b[43mmemory_map\u001b[49m\u001b[38;5;241;43m=\u001b[39;49m\u001b[38;5;28;43mself\u001b[39;49m\u001b[38;5;241;43m.\u001b[39;49m\u001b[43moptions\u001b[49m\u001b[38;5;241;43m.\u001b[39;49m\u001b[43mget\u001b[49m\u001b[43m(\u001b[49m\u001b[38;5;124;43m\"\u001b[39;49m\u001b[38;5;124;43mmemory_map\u001b[39;49m\u001b[38;5;124;43m\"\u001b[39;49m\u001b[43m,\u001b[49m\u001b[43m \u001b[49m\u001b[38;5;28;43;01mFalse\u001b[39;49;00m\u001b[43m)\u001b[49m\u001b[43m,\u001b[49m\n\u001b[1;32m   1223\u001b[0m \u001b[43m    \u001b[49m\u001b[43mis_text\u001b[49m\u001b[38;5;241;43m=\u001b[39;49m\u001b[43mis_text\u001b[49m\u001b[43m,\u001b[49m\n\u001b[1;32m   1224\u001b[0m \u001b[43m    \u001b[49m\u001b[43merrors\u001b[49m\u001b[38;5;241;43m=\u001b[39;49m\u001b[38;5;28;43mself\u001b[39;49m\u001b[38;5;241;43m.\u001b[39;49m\u001b[43moptions\u001b[49m\u001b[38;5;241;43m.\u001b[39;49m\u001b[43mget\u001b[49m\u001b[43m(\u001b[49m\u001b[38;5;124;43m\"\u001b[39;49m\u001b[38;5;124;43mencoding_errors\u001b[39;49m\u001b[38;5;124;43m\"\u001b[39;49m\u001b[43m,\u001b[49m\u001b[43m \u001b[49m\u001b[38;5;124;43m\"\u001b[39;49m\u001b[38;5;124;43mstrict\u001b[39;49m\u001b[38;5;124;43m\"\u001b[39;49m\u001b[43m)\u001b[49m\u001b[43m,\u001b[49m\n\u001b[1;32m   1225\u001b[0m \u001b[43m    \u001b[49m\u001b[43mstorage_options\u001b[49m\u001b[38;5;241;43m=\u001b[39;49m\u001b[38;5;28;43mself\u001b[39;49m\u001b[38;5;241;43m.\u001b[39;49m\u001b[43moptions\u001b[49m\u001b[38;5;241;43m.\u001b[39;49m\u001b[43mget\u001b[49m\u001b[43m(\u001b[49m\u001b[38;5;124;43m\"\u001b[39;49m\u001b[38;5;124;43mstorage_options\u001b[39;49m\u001b[38;5;124;43m\"\u001b[39;49m\u001b[43m,\u001b[49m\u001b[43m \u001b[49m\u001b[38;5;28;43;01mNone\u001b[39;49;00m\u001b[43m)\u001b[49m\u001b[43m,\u001b[49m\n\u001b[1;32m   1226\u001b[0m \u001b[43m\u001b[49m\u001b[43m)\u001b[49m\n\u001b[1;32m   1227\u001b[0m \u001b[38;5;28;01massert\u001b[39;00m \u001b[38;5;28mself\u001b[39m\u001b[38;5;241m.\u001b[39mhandles \u001b[38;5;129;01mis\u001b[39;00m \u001b[38;5;129;01mnot\u001b[39;00m \u001b[38;5;28;01mNone\u001b[39;00m\n\u001b[1;32m   1228\u001b[0m f \u001b[38;5;241m=\u001b[39m \u001b[38;5;28mself\u001b[39m\u001b[38;5;241m.\u001b[39mhandles\u001b[38;5;241m.\u001b[39mhandle\n",
      "File \u001b[0;32m/opt/anaconda3/lib/python3.9/site-packages/pandas/io/common.py:789\u001b[0m, in \u001b[0;36mget_handle\u001b[0;34m(path_or_buf, mode, encoding, compression, memory_map, is_text, errors, storage_options)\u001b[0m\n\u001b[1;32m    784\u001b[0m \u001b[38;5;28;01melif\u001b[39;00m \u001b[38;5;28misinstance\u001b[39m(handle, \u001b[38;5;28mstr\u001b[39m):\n\u001b[1;32m    785\u001b[0m     \u001b[38;5;66;03m# Check whether the filename is to be opened in binary mode.\u001b[39;00m\n\u001b[1;32m    786\u001b[0m     \u001b[38;5;66;03m# Binary mode does not support 'encoding' and 'newline'.\u001b[39;00m\n\u001b[1;32m    787\u001b[0m     \u001b[38;5;28;01mif\u001b[39;00m ioargs\u001b[38;5;241m.\u001b[39mencoding \u001b[38;5;129;01mand\u001b[39;00m \u001b[38;5;124m\"\u001b[39m\u001b[38;5;124mb\u001b[39m\u001b[38;5;124m\"\u001b[39m \u001b[38;5;129;01mnot\u001b[39;00m \u001b[38;5;129;01min\u001b[39;00m ioargs\u001b[38;5;241m.\u001b[39mmode:\n\u001b[1;32m    788\u001b[0m         \u001b[38;5;66;03m# Encoding\u001b[39;00m\n\u001b[0;32m--> 789\u001b[0m         handle \u001b[38;5;241m=\u001b[39m \u001b[38;5;28;43mopen\u001b[39;49m\u001b[43m(\u001b[49m\n\u001b[1;32m    790\u001b[0m \u001b[43m            \u001b[49m\u001b[43mhandle\u001b[49m\u001b[43m,\u001b[49m\n\u001b[1;32m    791\u001b[0m \u001b[43m            \u001b[49m\u001b[43mioargs\u001b[49m\u001b[38;5;241;43m.\u001b[39;49m\u001b[43mmode\u001b[49m\u001b[43m,\u001b[49m\n\u001b[1;32m    792\u001b[0m \u001b[43m            \u001b[49m\u001b[43mencoding\u001b[49m\u001b[38;5;241;43m=\u001b[39;49m\u001b[43mioargs\u001b[49m\u001b[38;5;241;43m.\u001b[39;49m\u001b[43mencoding\u001b[49m\u001b[43m,\u001b[49m\n\u001b[1;32m    793\u001b[0m \u001b[43m            \u001b[49m\u001b[43merrors\u001b[49m\u001b[38;5;241;43m=\u001b[39;49m\u001b[43merrors\u001b[49m\u001b[43m,\u001b[49m\n\u001b[1;32m    794\u001b[0m \u001b[43m            \u001b[49m\u001b[43mnewline\u001b[49m\u001b[38;5;241;43m=\u001b[39;49m\u001b[38;5;124;43m\"\u001b[39;49m\u001b[38;5;124;43m\"\u001b[39;49m\u001b[43m,\u001b[49m\n\u001b[1;32m    795\u001b[0m \u001b[43m        \u001b[49m\u001b[43m)\u001b[49m\n\u001b[1;32m    796\u001b[0m     \u001b[38;5;28;01melse\u001b[39;00m:\n\u001b[1;32m    797\u001b[0m         \u001b[38;5;66;03m# Binary mode\u001b[39;00m\n\u001b[1;32m    798\u001b[0m         handle \u001b[38;5;241m=\u001b[39m \u001b[38;5;28mopen\u001b[39m(handle, ioargs\u001b[38;5;241m.\u001b[39mmode)\n",
      "\u001b[0;31mFileNotFoundError\u001b[0m: [Errno 2] No such file or directory: 'data/test.csv'"
     ]
    }
   ],
   "source": [
    "df = pd.read_csv('data/test.csv')"
   ]
  },
  {
   "cell_type": "code",
   "execution_count": 91,
   "id": "9fb460f7",
   "metadata": {},
   "outputs": [],
   "source": [
    "for i in range(len(df.torsion_part_count)):\n",
    "    if df.torsion_part_count[i] == 0:\n",
    "        df = df.drop(index = i, axis = 0)"
   ]
  },
  {
   "cell_type": "code",
   "execution_count": 175,
   "id": "dc0a13eb",
   "metadata": {},
   "outputs": [
    {
     "data": {
      "text/html": [
       "<div>\n",
       "<style scoped>\n",
       "    .dataframe tbody tr th:only-of-type {\n",
       "        vertical-align: middle;\n",
       "    }\n",
       "\n",
       "    .dataframe tbody tr th {\n",
       "        vertical-align: top;\n",
       "    }\n",
       "\n",
       "    .dataframe thead th {\n",
       "        text-align: right;\n",
       "    }\n",
       "</style>\n",
       "<table border=\"1\" class=\"dataframe\">\n",
       "  <thead>\n",
       "    <tr style=\"text-align: right;\">\n",
       "      <th></th>\n",
       "      <th>braid</th>\n",
       "      <th>components</th>\n",
       "      <th>khovanov_homology</th>\n",
       "      <th>free_part</th>\n",
       "      <th>torsion_part</th>\n",
       "      <th>free_part_count</th>\n",
       "      <th>torsion_part_count</th>\n",
       "      <th>total_num_FP_per_row</th>\n",
       "      <th>total_num_FP_per_column</th>\n",
       "      <th>jones_polynomial</th>\n",
       "    </tr>\n",
       "  </thead>\n",
       "  <tbody>\n",
       "    <tr>\n",
       "      <th>1</th>\n",
       "      <td>[2, 3, -3, 2, 2, -3, -3, -1, -1]</td>\n",
       "      <td>3</td>\n",
       "      <td>{-9: {-4: Z}, -7: {-4: Z, -3: 0, -2: 0, -1: 0}...</td>\n",
       "      <td>{(-9, -4): 1, (-7, -4): 1, (-5, -2): 3, (-3, -...</td>\n",
       "      <td>{(-3, -1): {2: 1}, (1, 1): {2: 2}, (5, 3): {2:...</td>\n",
       "      <td>16</td>\n",
       "      <td>4</td>\n",
       "      <td>{-9: 1, -7: 1, -5: 3, -3: 2, -1: 4, 1: 1, 3: 3...</td>\n",
       "      <td>{-4: 2, -2: 5, -1: 1, 0: 4, 1: 2, 2: 1, 3: 1}</td>\n",
       "      <td>{-4: 1, -2: 3, -1: -1, 0: 3, 1: -2, 2: 1, 3: -1}</td>\n",
       "    </tr>\n",
       "    <tr>\n",
       "      <th>4</th>\n",
       "      <td>[1, -1, 2, -3, 1, 3, 1, 1, -3]</td>\n",
       "      <td>1</td>\n",
       "      <td>{-3: {-2: 0, -1: 0}, -1: {-2: 0, -1: 0, 0: 0, ...</td>\n",
       "      <td>{(1, 0): 1, (3, 0): 1, (5, 2): 1, (9, 3): 1}</td>\n",
       "      <td>{(7, 3): {2: 1}}</td>\n",
       "      <td>4</td>\n",
       "      <td>1</td>\n",
       "      <td>{1: 1, 3: 1, 5: 1, 9: 1}</td>\n",
       "      <td>{0: 2, 2: 1, 3: 1}</td>\n",
       "      <td>{1: 1, 3: 1, 4: -1}</td>\n",
       "    </tr>\n",
       "    <tr>\n",
       "      <th>6</th>\n",
       "      <td>[-3, 2, -3, -2, -2, -3, 1, 1, 2]</td>\n",
       "      <td>3</td>\n",
       "      <td>{-11: {-5: Z}, -9: {-5: 0, -4: C2, -3: 0}, -7:...</td>\n",
       "      <td>{(-11, -5): 1, (-7, -4): 1, (-7, -3): 2, (-5, ...</td>\n",
       "      <td>{(-9, -4): {2: 1}, (-5, -2): {2: 2}, (-3, -1):...</td>\n",
       "      <td>20</td>\n",
       "      <td>6</td>\n",
       "      <td>{-11: 1, -7: 3, -5: 1, -3: 3, -1: 4, 1: 3, 3: ...</td>\n",
       "      <td>{-5: 1, -4: 1, -3: 2, -2: 3, -1: 2, 0: 6, 1: 1...</td>\n",
       "      <td>{-5: -1, -4: 1, -3: -2, -2: 3, -1: -2, 0: 4, 1...</td>\n",
       "    </tr>\n",
       "    <tr>\n",
       "      <th>11</th>\n",
       "      <td>[-3, -3, 1, 2, -3, 2, 1, 3, -1]</td>\n",
       "      <td>1</td>\n",
       "      <td>{-7: {-4: 0, -3: 0, -2: 0, -1: 0}, -5: {-4: 0,...</td>\n",
       "      <td>{(-5, -2): 1, (-1, -1): 1, (-1, 0): 1, (1, 0):...</td>\n",
       "      <td>{(-3, -1): {2: 1}, (3, 2): {2: 1}}</td>\n",
       "      <td>6</td>\n",
       "      <td>2</td>\n",
       "      <td>{-5: 1, -1: 2, 1: 2, 5: 1}</td>\n",
       "      <td>{-2: 1, -1: 1, 0: 2, 1: 1, 2: 1}</td>\n",
       "      <td>{-2: 1, -1: -1, 0: 1, 1: -1, 2: 1}</td>\n",
       "    </tr>\n",
       "    <tr>\n",
       "      <th>12</th>\n",
       "      <td>[1, 3, -3, -1, -2, -3, -3, -2, 3]</td>\n",
       "      <td>2</td>\n",
       "      <td>{-10: {-4: Z}, -8: {-4: Z, -3: 0, -2: 0, -1: 0...</td>\n",
       "      <td>{(-10, -4): 1, (-8, -4): 1, (-6, -2): 1, (-2, ...</td>\n",
       "      <td>{(-4, -1): {2: 1}}</td>\n",
       "      <td>6</td>\n",
       "      <td>1</td>\n",
       "      <td>{-10: 1, -8: 1, -6: 1, -2: 2, 0: 1}</td>\n",
       "      <td>{-4: 2, -2: 1, -1: 1, 0: 2}</td>\n",
       "      <td>{-9/2: -1, -5/2: -1, -3/2: 1, -1/2: -1}</td>\n",
       "    </tr>\n",
       "    <tr>\n",
       "      <th>...</th>\n",
       "      <td>...</td>\n",
       "      <td>...</td>\n",
       "      <td>...</td>\n",
       "      <td>...</td>\n",
       "      <td>...</td>\n",
       "      <td>...</td>\n",
       "      <td>...</td>\n",
       "      <td>...</td>\n",
       "      <td>...</td>\n",
       "      <td>...</td>\n",
       "    </tr>\n",
       "    <tr>\n",
       "      <th>518</th>\n",
       "      <td>[2, 2, -2, -1, 1, 2, -1, -1, 2]</td>\n",
       "      <td>2</td>\n",
       "      <td>{-4: {-2: Z}, -2: {-2: Z, -1: 0, 0: 0, 1: 0}, ...</td>\n",
       "      <td>{(-4, -2): 1, (-2, -2): 1, (0, 0): 2, (2, 0): ...</td>\n",
       "      <td>{(2, 1): {2: 1}, (6, 3): {2: 1}}</td>\n",
       "      <td>8</td>\n",
       "      <td>2</td>\n",
       "      <td>{-4: 1, -2: 1, 0: 2, 2: 1, 4: 2, 8: 1}</td>\n",
       "      <td>{-2: 2, 0: 3, 1: 1, 2: 1, 3: 1}</td>\n",
       "      <td>{-3/2: -1, 1/2: -2, 3/2: 1, 5/2: -1, 7/2: 1}</td>\n",
       "    </tr>\n",
       "    <tr>\n",
       "      <th>519</th>\n",
       "      <td>[-1, -2, -2, -2, 3, 3, -2, -1, -1]</td>\n",
       "      <td>3</td>\n",
       "      <td>{-19: {-7: Z}, -17: {-7: 0, -6: Z x C2, -5: 0}...</td>\n",
       "      <td>{(-19, -7): 1, (-17, -6): 1, (-15, -6): 1, (-1...</td>\n",
       "      <td>{(-17, -6): {2: 1}, (-15, -5): {2: 1}, (-13, -...</td>\n",
       "      <td>28</td>\n",
       "      <td>10</td>\n",
       "      <td>{-19: 1, -17: 1, -15: 3, -13: 3, -11: 6, -9: 2...</td>\n",
       "      <td>{-7: 1, -6: 2, -5: 3, -4: 5, -3: 4, -2: 5, -1:...</td>\n",
       "      <td>{-9: -1, -8: 2, -7: -3, -6: 4, -5: -4, -4: 4, ...</td>\n",
       "    </tr>\n",
       "    <tr>\n",
       "      <th>521</th>\n",
       "      <td>[-3, 1, 3, 1, -3, 3, -3, -3, 1]</td>\n",
       "      <td>3</td>\n",
       "      <td>{-7: {-3: 0, -2: 0}, -5: {-3: 0, -2: Z, -1: 0,...</td>\n",
       "      <td>{(-5, -2): 1, (-3, -2): 2, (-1, -2): 1, (-1, 0...</td>\n",
       "      <td>{(1, 1): {2: 1}, (3, 1): {2: 1}, (5, 3): {2: 1...</td>\n",
       "      <td>16</td>\n",
       "      <td>4</td>\n",
       "      <td>{-5: 1, -3: 2, -1: 3, 1: 3, 3: 3, 5: 2, 7: 1, ...</td>\n",
       "      <td>{-2: 4, 0: 6, 1: 2, 2: 2, 3: 2}</td>\n",
       "      <td>{-2: 1, -1: 1, 0: 2, 1: 1, 4: -1}</td>\n",
       "    </tr>\n",
       "    <tr>\n",
       "      <th>522</th>\n",
       "      <td>[-1, -1, 1, -2, -2, -1, -3, -3, 2]</td>\n",
       "      <td>3</td>\n",
       "      <td>{-15: {-6: Z}, -13: {-6: Z, -5: 0, -4: 0, -3: ...</td>\n",
       "      <td>{(-15, -6): 1, (-13, -6): 1, (-11, -4): 2, (-9...</td>\n",
       "      <td>{(-9, -3): {2: 1}, (-5, -1): {2: 1}}</td>\n",
       "      <td>12</td>\n",
       "      <td>2</td>\n",
       "      <td>{-15: 1, -13: 1, -11: 2, -9: 1, -7: 3, -5: 1, ...</td>\n",
       "      <td>{-6: 2, -4: 3, -3: 1, -2: 3, -1: 1, 0: 2}</td>\n",
       "      <td>{-7: 1, -5: 2, -4: -1, -3: 2, -2: -1, -1: 1}</td>\n",
       "    </tr>\n",
       "    <tr>\n",
       "      <th>523</th>\n",
       "      <td>[1, -2, 2, 1, 2, -3, -3, 1, 2]</td>\n",
       "      <td>3</td>\n",
       "      <td>{-3: {-2: Z}, -1: {-2: Z, -1: 0, 0: 0, 1: 0}, ...</td>\n",
       "      <td>{(-3, -2): 1, (-1, -2): 1, (1, 0): 2, (3, 0): ...</td>\n",
       "      <td>{(3, 1): {2: 1}, (7, 3): {2: 1}}</td>\n",
       "      <td>12</td>\n",
       "      <td>2</td>\n",
       "      <td>{-3: 1, -1: 1, 1: 2, 3: 1, 5: 3, 7: 1, 9: 2, 1...</td>\n",
       "      <td>{-2: 2, 0: 3, 1: 1, 2: 3, 3: 1, 4: 2}</td>\n",
       "      <td>{-1: 1, 1: 2, 2: -1, 3: 2, 4: -1, 5: 1}</td>\n",
       "    </tr>\n",
       "  </tbody>\n",
       "</table>\n",
       "<p>293 rows × 10 columns</p>\n",
       "</div>"
      ],
      "text/plain": [
       "                                  braid  components  \\\n",
       "1      [2, 3, -3, 2, 2, -3, -3, -1, -1]           3   \n",
       "4        [1, -1, 2, -3, 1, 3, 1, 1, -3]           1   \n",
       "6      [-3, 2, -3, -2, -2, -3, 1, 1, 2]           3   \n",
       "11      [-3, -3, 1, 2, -3, 2, 1, 3, -1]           1   \n",
       "12    [1, 3, -3, -1, -2, -3, -3, -2, 3]           2   \n",
       "..                                  ...         ...   \n",
       "518     [2, 2, -2, -1, 1, 2, -1, -1, 2]           2   \n",
       "519  [-1, -2, -2, -2, 3, 3, -2, -1, -1]           3   \n",
       "521     [-3, 1, 3, 1, -3, 3, -3, -3, 1]           3   \n",
       "522  [-1, -1, 1, -2, -2, -1, -3, -3, 2]           3   \n",
       "523      [1, -2, 2, 1, 2, -3, -3, 1, 2]           3   \n",
       "\n",
       "                                     khovanov_homology  \\\n",
       "1    {-9: {-4: Z}, -7: {-4: Z, -3: 0, -2: 0, -1: 0}...   \n",
       "4    {-3: {-2: 0, -1: 0}, -1: {-2: 0, -1: 0, 0: 0, ...   \n",
       "6    {-11: {-5: Z}, -9: {-5: 0, -4: C2, -3: 0}, -7:...   \n",
       "11   {-7: {-4: 0, -3: 0, -2: 0, -1: 0}, -5: {-4: 0,...   \n",
       "12   {-10: {-4: Z}, -8: {-4: Z, -3: 0, -2: 0, -1: 0...   \n",
       "..                                                 ...   \n",
       "518  {-4: {-2: Z}, -2: {-2: Z, -1: 0, 0: 0, 1: 0}, ...   \n",
       "519  {-19: {-7: Z}, -17: {-7: 0, -6: Z x C2, -5: 0}...   \n",
       "521  {-7: {-3: 0, -2: 0}, -5: {-3: 0, -2: Z, -1: 0,...   \n",
       "522  {-15: {-6: Z}, -13: {-6: Z, -5: 0, -4: 0, -3: ...   \n",
       "523  {-3: {-2: Z}, -1: {-2: Z, -1: 0, 0: 0, 1: 0}, ...   \n",
       "\n",
       "                                             free_part  \\\n",
       "1    {(-9, -4): 1, (-7, -4): 1, (-5, -2): 3, (-3, -...   \n",
       "4         {(1, 0): 1, (3, 0): 1, (5, 2): 1, (9, 3): 1}   \n",
       "6    {(-11, -5): 1, (-7, -4): 1, (-7, -3): 2, (-5, ...   \n",
       "11   {(-5, -2): 1, (-1, -1): 1, (-1, 0): 1, (1, 0):...   \n",
       "12   {(-10, -4): 1, (-8, -4): 1, (-6, -2): 1, (-2, ...   \n",
       "..                                                 ...   \n",
       "518  {(-4, -2): 1, (-2, -2): 1, (0, 0): 2, (2, 0): ...   \n",
       "519  {(-19, -7): 1, (-17, -6): 1, (-15, -6): 1, (-1...   \n",
       "521  {(-5, -2): 1, (-3, -2): 2, (-1, -2): 1, (-1, 0...   \n",
       "522  {(-15, -6): 1, (-13, -6): 1, (-11, -4): 2, (-9...   \n",
       "523  {(-3, -2): 1, (-1, -2): 1, (1, 0): 2, (3, 0): ...   \n",
       "\n",
       "                                          torsion_part  free_part_count  \\\n",
       "1    {(-3, -1): {2: 1}, (1, 1): {2: 2}, (5, 3): {2:...               16   \n",
       "4                                     {(7, 3): {2: 1}}                4   \n",
       "6    {(-9, -4): {2: 1}, (-5, -2): {2: 2}, (-3, -1):...               20   \n",
       "11                  {(-3, -1): {2: 1}, (3, 2): {2: 1}}                6   \n",
       "12                                  {(-4, -1): {2: 1}}                6   \n",
       "..                                                 ...              ...   \n",
       "518                   {(2, 1): {2: 1}, (6, 3): {2: 1}}                8   \n",
       "519  {(-17, -6): {2: 1}, (-15, -5): {2: 1}, (-13, -...               28   \n",
       "521  {(1, 1): {2: 1}, (3, 1): {2: 1}, (5, 3): {2: 1...               16   \n",
       "522               {(-9, -3): {2: 1}, (-5, -1): {2: 1}}               12   \n",
       "523                   {(3, 1): {2: 1}, (7, 3): {2: 1}}               12   \n",
       "\n",
       "     torsion_part_count                               total_num_FP_per_row  \\\n",
       "1                     4  {-9: 1, -7: 1, -5: 3, -3: 2, -1: 4, 1: 1, 3: 3...   \n",
       "4                     1                           {1: 1, 3: 1, 5: 1, 9: 1}   \n",
       "6                     6  {-11: 1, -7: 3, -5: 1, -3: 3, -1: 4, 1: 3, 3: ...   \n",
       "11                    2                         {-5: 1, -1: 2, 1: 2, 5: 1}   \n",
       "12                    1                {-10: 1, -8: 1, -6: 1, -2: 2, 0: 1}   \n",
       "..                  ...                                                ...   \n",
       "518                   2             {-4: 1, -2: 1, 0: 2, 2: 1, 4: 2, 8: 1}   \n",
       "519                  10  {-19: 1, -17: 1, -15: 3, -13: 3, -11: 6, -9: 2...   \n",
       "521                   4  {-5: 1, -3: 2, -1: 3, 1: 3, 3: 3, 5: 2, 7: 1, ...   \n",
       "522                   2  {-15: 1, -13: 1, -11: 2, -9: 1, -7: 3, -5: 1, ...   \n",
       "523                   2  {-3: 1, -1: 1, 1: 2, 3: 1, 5: 3, 7: 1, 9: 2, 1...   \n",
       "\n",
       "                               total_num_FP_per_column  \\\n",
       "1        {-4: 2, -2: 5, -1: 1, 0: 4, 1: 2, 2: 1, 3: 1}   \n",
       "4                                   {0: 2, 2: 1, 3: 1}   \n",
       "6    {-5: 1, -4: 1, -3: 2, -2: 3, -1: 2, 0: 6, 1: 1...   \n",
       "11                    {-2: 1, -1: 1, 0: 2, 1: 1, 2: 1}   \n",
       "12                         {-4: 2, -2: 1, -1: 1, 0: 2}   \n",
       "..                                                 ...   \n",
       "518                    {-2: 2, 0: 3, 1: 1, 2: 1, 3: 1}   \n",
       "519  {-7: 1, -6: 2, -5: 3, -4: 5, -3: 4, -2: 5, -1:...   \n",
       "521                    {-2: 4, 0: 6, 1: 2, 2: 2, 3: 2}   \n",
       "522          {-6: 2, -4: 3, -3: 1, -2: 3, -1: 1, 0: 2}   \n",
       "523              {-2: 2, 0: 3, 1: 1, 2: 3, 3: 1, 4: 2}   \n",
       "\n",
       "                                      jones_polynomial  \n",
       "1     {-4: 1, -2: 3, -1: -1, 0: 3, 1: -2, 2: 1, 3: -1}  \n",
       "4                                  {1: 1, 3: 1, 4: -1}  \n",
       "6    {-5: -1, -4: 1, -3: -2, -2: 3, -1: -2, 0: 4, 1...  \n",
       "11                  {-2: 1, -1: -1, 0: 1, 1: -1, 2: 1}  \n",
       "12             {-9/2: -1, -5/2: -1, -3/2: 1, -1/2: -1}  \n",
       "..                                                 ...  \n",
       "518       {-3/2: -1, 1/2: -2, 3/2: 1, 5/2: -1, 7/2: 1}  \n",
       "519  {-9: -1, -8: 2, -7: -3, -6: 4, -5: -4, -4: 4, ...  \n",
       "521                  {-2: 1, -1: 1, 0: 2, 1: 1, 4: -1}  \n",
       "522       {-7: 1, -5: 2, -4: -1, -3: 2, -2: -1, -1: 1}  \n",
       "523            {-1: 1, 1: 2, 2: -1, 3: 2, 4: -1, 5: 1}  \n",
       "\n",
       "[293 rows x 10 columns]"
      ]
     },
     "execution_count": 175,
     "metadata": {},
     "output_type": "execute_result"
    }
   ],
   "source": [
    "df"
   ]
  },
  {
   "cell_type": "code",
   "execution_count": 12,
   "id": "be292a0c",
   "metadata": {},
   "outputs": [
    {
     "ename": "ModuleNotFoundError",
     "evalue": "No module named 'scripts'",
     "output_type": "error",
     "traceback": [
      "\u001b[0;31m---------------------------------------------------------------------------\u001b[0m",
      "\u001b[0;31mModuleNotFoundError\u001b[0m                       Traceback (most recent call last)",
      "Input \u001b[0;32mIn [12]\u001b[0m, in \u001b[0;36m<cell line: 1>\u001b[0;34m()\u001b[0m\n\u001b[0;32m----> 1\u001b[0m \u001b[38;5;28;01mfrom\u001b[39;00m \u001b[38;5;21;01mscripts\u001b[39;00m\u001b[38;5;21;01m.\u001b[39;00m\u001b[38;5;21;01mpolynomial\u001b[39;00m \u001b[38;5;28;01mimport\u001b[39;00m add_poly_terms\n\u001b[1;32m      2\u001b[0m \u001b[38;5;28;01mfrom\u001b[39;00m \u001b[38;5;21;01mscripts\u001b[39;00m\u001b[38;5;21;01m.\u001b[39;00m\u001b[38;5;21;01mGDLinearReg\u001b[39;00m \u001b[38;5;28;01mimport\u001b[39;00m J, DJ, GD_linreg_improved\n",
      "\u001b[0;31mModuleNotFoundError\u001b[0m: No module named 'scripts'"
     ]
    }
   ],
   "source": [
    "from scripts.polynomial import add_poly_terms\n",
    "from scripts.GDLinearReg import J, DJ, GD_linreg_improved"
   ]
  },
  {
   "cell_type": "code",
   "execution_count": 13,
   "id": "4c082450",
   "metadata": {},
   "outputs": [],
   "source": [
    "def prediction(x,v):\n",
    "    return round((x@v)[0])\n",
    "\n",
    "def accuracy(X,v,y):\n",
    "    count = 0\n",
    "    for i,x in enumerate(X):\n",
    "        if prediction(x,v) == y[i][0]:\n",
    "            count += 1\n",
    "    return count / len(X)\n",
    "def fit(X, y, epsilon, lambda_, max_iters = 10000, poly_terms = 1):\n",
    "    print(f'Running polynomial regression of degree {poly_terms} \\n')\n",
    "    \n",
    "    v, costs =  GD_linreg_improved(add_poly_terms(X, poly_terms), y, epsilon, lambda_, max_iters) \n",
    "    \n",
    "    print(f'\\nFinal cost is {costs[-1]}\\n')\n",
    "    return v, costs"
   ]
  },
  {
   "cell_type": "code",
   "execution_count": 215,
   "id": "61f24e2c",
   "metadata": {},
   "outputs": [
    {
     "data": {
      "text/plain": [
       "(12, -12)"
      ]
     },
     "execution_count": 215,
     "metadata": {},
     "output_type": "execute_result"
    }
   ],
   "source": [
    "find_max_column = float('-inf')\n",
    "find_min_column = float('inf')\n",
    "for index, row in df_1.iterrows():\n",
    "    #print(a_row.free_part)\n",
    "    for key in eval(row.jones_polynomial).keys():\n",
    "       #print(a_key[0])\n",
    "        if key < find_min_column:\n",
    "            find_min_column = key\n",
    "        if key > find_max_column:\n",
    "            find_max_column = key\n",
    "\n",
    "find_max_column, find_min_column"
   ]
  },
  {
   "cell_type": "code",
   "execution_count": 93,
   "id": "fbd06742",
   "metadata": {},
   "outputs": [
    {
     "data": {
      "text/plain": [
       "(12, -11)"
      ]
     },
     "execution_count": 93,
     "metadata": {},
     "output_type": "execute_result"
    }
   ],
   "source": [
    "find_max_column = float('-inf')\n",
    "find_min_column = float('inf')\n",
    "for index, row in df.iterrows():\n",
    "    #print(a_row.free_part)\n",
    "    for key in eval(row.jones_polynomial).keys():\n",
    "       #print(a_key[0])\n",
    "        if key < find_min_column:\n",
    "            find_min_column = key\n",
    "        if key > find_max_column:\n",
    "            find_max_column = key\n",
    "\n",
    "find_max_column, find_min_column"
   ]
  },
  {
   "cell_type": "code",
   "execution_count": 216,
   "id": "d9878666",
   "metadata": {},
   "outputs": [],
   "source": [
    "def gen_matrix(Jones,col):\n",
    "    row = len(Jones)\n",
    "    a = np.empty([row,col])\n",
    "    for i in range(row):\n",
    "        for key in Jones[i].keys():\n",
    "            a[i,key] =  Jones[i][key]\n",
    "        if key == \"\":\n",
    "            a[i,key] = 0\n",
    "    return a"
   ]
  },
  {
   "cell_type": "code",
   "execution_count": 212,
   "id": "3e08b351",
   "metadata": {},
   "outputs": [],
   "source": [
    "def gen_all_keys(jones,col):\n",
    "    row = len(jones)\n",
    "    a = []\n",
    "    for i in range(row):\n",
    "        for key in jones[i].keys():\n",
    "            if key not in a:\n",
    "                a.append(key)\n",
    "    return a"
   ]
  },
  {
   "cell_type": "code",
   "execution_count": 217,
   "id": "83e2e271",
   "metadata": {},
   "outputs": [],
   "source": [
    "#prediciton with 1-component link\n",
    "Jones = ev(df_1[\"jones_polynomial\"])"
   ]
  },
  {
   "cell_type": "code",
   "execution_count": 218,
   "id": "6dc01441",
   "metadata": {},
   "outputs": [],
   "source": [
    "X = gen_matrix(Jones,25)\n",
    "y = np.array(df_1['torsion_part_count']).reshape(-1,1)"
   ]
  },
  {
   "cell_type": "code",
   "execution_count": 219,
   "id": "8248b39a",
   "metadata": {},
   "outputs": [],
   "source": [
    "X_train, X_test, y_train, y_test = train_test_split(X, y, test_size=0.2, random_state=1)\n",
    "X_train, X_val, y_train, y_val = train_test_split(X_train, y_train, test_size=0.25, random_state=1)"
   ]
  },
  {
   "cell_type": "code",
   "execution_count": 220,
   "id": "19c60e30",
   "metadata": {},
   "outputs": [
    {
     "name": "stdout",
     "output_type": "stream",
     "text": [
      "Running polynomial regression of degree 1 \n",
      "\n",
      "After 0 steps the cost is 38.27777777777778\n",
      "After 999 steps the cost is 36.9003591138816\n",
      "\n",
      "Final cost is 36.90035875122786\n",
      "\n",
      "Accuracy of training set is: 0.012345679012345678\n",
      "Accuracy of validation set is: 0.004629629629629629\n",
      "Accuracy of test set is: 0.013824884792626729\n"
     ]
    }
   ],
   "source": [
    "degree = 1\n",
    "\n",
    "v, costs = fit(X_train, y_train, epsilon = 1e-10, lambda_ = 0, max_iters = 1000, poly_terms = degree)\n",
    "\n",
    "print(f'Accuracy of training set is: {accuracy(add_poly_terms(X_train, degree),v,y_train)}')\n",
    "print(f'Accuracy of validation set is: {accuracy(add_poly_terms(X_val, degree),v,y_val)}')\n",
    "print(f'Accuracy of test set is: {accuracy(add_poly_terms(X_test, degree),v,y_test)}')"
   ]
  },
  {
   "cell_type": "code",
   "execution_count": 196,
   "id": "3e2d1ea5",
   "metadata": {},
   "outputs": [],
   "source": [
    "#prediction with multiple components links\n",
    "jones = ev(df[\"jones_polynomial\"])"
   ]
  },
  {
   "cell_type": "code",
   "execution_count": 177,
   "id": "ff410574",
   "metadata": {},
   "outputs": [],
   "source": [
    "keys = gen_all_keys(jones,24)"
   ]
  },
  {
   "cell_type": "code",
   "execution_count": 178,
   "id": "8b9b45e3",
   "metadata": {},
   "outputs": [],
   "source": [
    "keys.sort()"
   ]
  },
  {
   "cell_type": "code",
   "execution_count": 179,
   "id": "dfb8d035",
   "metadata": {},
   "outputs": [
    {
     "data": {
      "text/plain": [
       "[-11,\n",
       " -10,\n",
       " -9,\n",
       " -8.5,\n",
       " -8,\n",
       " -7.5,\n",
       " -7,\n",
       " -6.5,\n",
       " -6,\n",
       " -5.5,\n",
       " -5,\n",
       " -4.5,\n",
       " -4,\n",
       " -3.5,\n",
       " -3,\n",
       " -2.5,\n",
       " -2,\n",
       " -1.5,\n",
       " -1,\n",
       " -0.5,\n",
       " 0,\n",
       " 0.5,\n",
       " 1,\n",
       " 1.5,\n",
       " 2,\n",
       " 2.5,\n",
       " 3,\n",
       " 3.5,\n",
       " 4,\n",
       " 4.5,\n",
       " 5,\n",
       " 5.5,\n",
       " 6,\n",
       " 6.5,\n",
       " 7,\n",
       " 7.5,\n",
       " 8,\n",
       " 8.5,\n",
       " 9,\n",
       " 10,\n",
       " 11,\n",
       " 12]"
      ]
     },
     "execution_count": 179,
     "metadata": {},
     "output_type": "execute_result"
    }
   ],
   "source": [
    "keys"
   ]
  },
  {
   "cell_type": "code",
   "execution_count": 197,
   "id": "7a7ca755",
   "metadata": {},
   "outputs": [],
   "source": [
    "def gen_matrix_jones(jones,keys):\n",
    "    row = len(jones)\n",
    "    col = len(keys)\n",
    "    m = np.zeros([row,col])\n",
    "    print(m.shape)\n",
    "    for i in range(col):\n",
    "        for j in range(len(jones)):\n",
    "            for key,degree in jones[j].items():\n",
    "                if key == keys[i]:\n",
    "                    m[j,i] = degree\n",
    "    return m"
   ]
  },
  {
   "cell_type": "code",
   "execution_count": 203,
   "id": "6953fa84",
   "metadata": {},
   "outputs": [
    {
     "name": "stdout",
     "output_type": "stream",
     "text": [
      "(293, 42)\n"
     ]
    }
   ],
   "source": [
    "X = gen_matrix_jones(jones,keys)\n",
    "y = np.array(df['torsion_part_count']).reshape(-1,1)"
   ]
  },
  {
   "cell_type": "code",
   "execution_count": 204,
   "id": "fe6f44e1",
   "metadata": {},
   "outputs": [],
   "source": [
    "X_train, X_test, y_train, y_test = train_test_split(X, y, test_size=0.2, random_state=1)\n",
    "X_train, X_val, y_train, y_val = train_test_split(X_train, y_train, test_size=0.25, random_state=1)"
   ]
  },
  {
   "cell_type": "code",
   "execution_count": 205,
   "id": "e09b627f",
   "metadata": {},
   "outputs": [
    {
     "name": "stdout",
     "output_type": "stream",
     "text": [
      "Running polynomial regression of degree 1 \n",
      "\n",
      "After 0 steps the cost is 19.262857142857143\n",
      "After 999 steps the cost is 3.3616222326681937\n",
      "\n",
      "Final cost is 3.3615351831873044\n",
      "\n",
      "Accuracy of training set is: 0.32571428571428573\n",
      "Accuracy of validation set is: 0.13559322033898305\n",
      "Accuracy of test set is: 0.2033898305084746\n"
     ]
    }
   ],
   "source": [
    "degree = 1\n",
    "\n",
    "v, costs = fit(X_train, y_train, epsilon = 1e-10, lambda_ = 0, max_iters = 1000, poly_terms = degree)\n",
    "\n",
    "print(f'Accuracy of training set is: {accuracy(add_poly_terms(X_train, degree),v,y_train)}')\n",
    "print(f'Accuracy of validation set is: {accuracy(add_poly_terms(X_val, degree),v,y_val)}')\n",
    "print(f'Accuracy of test set is: {accuracy(add_poly_terms(X_test, degree),v,y_test)}')"
   ]
  },
  {
   "cell_type": "code",
   "execution_count": null,
   "id": "c52c55bf",
   "metadata": {},
   "outputs": [],
   "source": []
  }
 ],
 "metadata": {
  "kernelspec": {
   "display_name": "Python [conda env:root] *",
   "language": "python",
   "name": "conda-root-py"
  },
  "language_info": {
   "codemirror_mode": {
    "name": "ipython",
    "version": 3
   },
   "file_extension": ".py",
   "mimetype": "text/x-python",
   "name": "python",
   "nbconvert_exporter": "python",
   "pygments_lexer": "ipython3",
   "version": "3.9.12"
  }
 },
 "nbformat": 4,
 "nbformat_minor": 5
}

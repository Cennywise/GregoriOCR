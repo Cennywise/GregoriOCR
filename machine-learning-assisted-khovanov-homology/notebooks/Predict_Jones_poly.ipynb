{
 "cells": [
  {
   "cell_type": "code",
   "execution_count": 1,
   "id": "4cea46eb",
   "metadata": {},
   "outputs": [],
   "source": [
    "import numpy as np\n",
    "import pandas as pd\n",
    "from numpy import linalg as LA\n",
    "import os\n",
    "from sklearn.model_selection import train_test_split"
   ]
  },
  {
   "cell_type": "code",
   "execution_count": 2,
   "id": "10ad9e9c",
   "metadata": {},
   "outputs": [
    {
     "data": {
      "text/plain": [
       "'/Users/guoyihan/Documents/GitHub/MAT_180_ML_Projects/machine-learning-assisted-khovanov-homology/notebooks'"
      ]
     },
     "execution_count": 2,
     "metadata": {},
     "output_type": "execute_result"
    }
   ],
   "source": [
    "os.getcwd()"
   ]
  },
  {
   "cell_type": "code",
   "execution_count": 3,
   "id": "6daf66cd",
   "metadata": {},
   "outputs": [],
   "source": [
    "os.chdir(\"..\")"
   ]
  },
  {
   "cell_type": "markdown",
   "id": "7a6e926a",
   "metadata": {},
   "source": [
    "# Read Dataset"
   ]
  },
  {
   "cell_type": "code",
   "execution_count": 5,
   "id": "35d5f2c4",
   "metadata": {},
   "outputs": [],
   "source": [
    "\n",
    "df = pd.read_csv('data/dataset_C.csv')"
   ]
  },
  {
   "cell_type": "code",
   "execution_count": 6,
   "id": "765bd54d",
   "metadata": {},
   "outputs": [
    {
     "data": {
      "text/html": [
       "<div>\n",
       "<style scoped>\n",
       "    .dataframe tbody tr th:only-of-type {\n",
       "        vertical-align: middle;\n",
       "    }\n",
       "\n",
       "    .dataframe tbody tr th {\n",
       "        vertical-align: top;\n",
       "    }\n",
       "\n",
       "    .dataframe thead th {\n",
       "        text-align: right;\n",
       "    }\n",
       "</style>\n",
       "<table border=\"1\" class=\"dataframe\">\n",
       "  <thead>\n",
       "    <tr style=\"text-align: right;\">\n",
       "      <th></th>\n",
       "      <th>braid</th>\n",
       "      <th>components</th>\n",
       "      <th>khovanov_homology</th>\n",
       "      <th>free_part</th>\n",
       "      <th>torsion_part</th>\n",
       "      <th>free_part_count</th>\n",
       "      <th>torsion_part_count</th>\n",
       "      <th>total_num_FP_per_row</th>\n",
       "      <th>total_num_FP_per_column</th>\n",
       "      <th>jones_polynomial</th>\n",
       "    </tr>\n",
       "  </thead>\n",
       "  <tbody>\n",
       "    <tr>\n",
       "      <th>0</th>\n",
       "      <td>[2, 2, 1, -2, 2, 1, -1, -1, 2]</td>\n",
       "      <td>1</td>\n",
       "      <td>{1: {0: Z}, 3: {0: Z, 1: 0, 2: 0, 3: 0}, 5: {0...</td>\n",
       "      <td>{(1, 0): 1, (3, 0): 1, (5, 2): 1, (9, 3): 1}</td>\n",
       "      <td>{(7, 3): {2: 1}}</td>\n",
       "      <td>4</td>\n",
       "      <td>1</td>\n",
       "      <td>{1: 1, 3: 1, 5: 1, 9: 1}</td>\n",
       "      <td>{0: 2, 2: 1, 3: 1}</td>\n",
       "      <td>{1: 1, 3: 1, 4: -1}</td>\n",
       "    </tr>\n",
       "    <tr>\n",
       "      <th>1</th>\n",
       "      <td>[-2, -1, 1, -3, -1, 2, -3, -2, -1]</td>\n",
       "      <td>1</td>\n",
       "      <td>{-13: {-6: 0, -5: Z, -4: 0}, -11: {-6: 0, -5: ...</td>\n",
       "      <td>{(-13, -5): 1, (-9, -4): 1, (-9, -3): 1, (-7, ...</td>\n",
       "      <td>{(-11, -4): {2: 1}, (-7, -2): {2: 1}, (-5, -1)...</td>\n",
       "      <td>8</td>\n",
       "      <td>3</td>\n",
       "      <td>{-13: 1, -9: 2, -7: 1, -5: 1, -3: 2, -1: 1}</td>\n",
       "      <td>{-5: 1, -4: 1, -3: 1, -2: 2, -1: 1, 0: 2}</td>\n",
       "      <td>{-6: -1, -5: 1, -4: -1, -3: 2, -2: -1, -1: 1}</td>\n",
       "    </tr>\n",
       "    <tr>\n",
       "      <th>2</th>\n",
       "      <td>[-3, -2, 3, -2, -1, -1, 1, -3, -1]</td>\n",
       "      <td>3</td>\n",
       "      <td>{-15: {-6: Z}, -13: {-6: Z, -5: 0, -4: 0, -3: ...</td>\n",
       "      <td>{(-15, -6): 1, (-13, -6): 1, (-11, -4): 2, (-9...</td>\n",
       "      <td>{(-9, -3): {2: 1}, (-5, -1): {2: 1}}</td>\n",
       "      <td>12</td>\n",
       "      <td>2</td>\n",
       "      <td>{-15: 1, -13: 1, -11: 2, -9: 1, -7: 3, -5: 1, ...</td>\n",
       "      <td>{-6: 2, -4: 3, -3: 1, -2: 3, -1: 1, 0: 2}</td>\n",
       "      <td>{-7: 1, -5: 2, -4: -1, -3: 2, -2: -1, -1: 1}</td>\n",
       "    </tr>\n",
       "    <tr>\n",
       "      <th>3</th>\n",
       "      <td>[3, 3, 2, 3, -1, -2, 2, 3, 3]</td>\n",
       "      <td>1</td>\n",
       "      <td>{1: {-1: 0, 0: 0}, 3: {-1: 0, 0: Z, 1: 0, 2: 0...</td>\n",
       "      <td>{(3, 0): 1, (5, 0): 1, (7, 2): 1, (11, 3): 1, ...</td>\n",
       "      <td>{(9, 3): {2: 1}, (13, 5): {2: 1}}</td>\n",
       "      <td>6</td>\n",
       "      <td>2</td>\n",
       "      <td>{3: 1, 5: 1, 7: 1, 11: 2, 15: 1}</td>\n",
       "      <td>{0: 2, 2: 1, 3: 1, 4: 1, 5: 1}</td>\n",
       "      <td>{2: 1, 4: 1, 5: -1, 6: 1, 7: -1}</td>\n",
       "    </tr>\n",
       "    <tr>\n",
       "      <th>4</th>\n",
       "      <td>[-3, -3, 2, -2, 2, 1, -3, -3, -3]</td>\n",
       "      <td>1</td>\n",
       "      <td>{-15: {-5: Z}, -13: {-5: 0, -4: C2}, -11: {-5:...</td>\n",
       "      <td>{(-15, -5): 1, (-11, -4): 1, (-11, -3): 1, (-7...</td>\n",
       "      <td>{(-13, -4): {2: 1}, (-9, -2): {2: 1}}</td>\n",
       "      <td>6</td>\n",
       "      <td>2</td>\n",
       "      <td>{-15: 1, -11: 2, -7: 1, -5: 1, -3: 1}</td>\n",
       "      <td>{-5: 1, -4: 1, -3: 1, -2: 1, 0: 2}</td>\n",
       "      <td>{-7: -1, -6: 1, -5: -1, -4: 1, -2: 1}</td>\n",
       "    </tr>\n",
       "    <tr>\n",
       "      <th>...</th>\n",
       "      <td>...</td>\n",
       "      <td>...</td>\n",
       "      <td>...</td>\n",
       "      <td>...</td>\n",
       "      <td>...</td>\n",
       "      <td>...</td>\n",
       "      <td>...</td>\n",
       "      <td>...</td>\n",
       "      <td>...</td>\n",
       "      <td>...</td>\n",
       "    </tr>\n",
       "    <tr>\n",
       "      <th>2526</th>\n",
       "      <td>[3, 1, 3, -1, -1, -1, -1, -1, -1]</td>\n",
       "      <td>3</td>\n",
       "      <td>{-17: {-6: 0, -5: 0}, -15: {-6: 0, -5: Z, -4: ...</td>\n",
       "      <td>{(-15, -5): 1, (-13, -5): 1, (-11, -4): 1, (-1...</td>\n",
       "      <td>{(-13, -4): {2: 1}, (-11, -4): {2: 1}, (-9, -2...</td>\n",
       "      <td>24</td>\n",
       "      <td>8</td>\n",
       "      <td>{-15: 1, -13: 1, -11: 3, -9: 3, -7: 3, -5: 4, ...</td>\n",
       "      <td>{-5: 2, -4: 2, -3: 4, -2: 4, -1: 2, 0: 6, 2: 4}</td>\n",
       "      <td>{-7: -1, -5: -1, -3: 1, -2: 1, -1: 2, 0: 1, 1: 1}</td>\n",
       "    </tr>\n",
       "    <tr>\n",
       "      <th>2527</th>\n",
       "      <td>[2, 2, 2, -1, -2, -3, -2, -1, -3]</td>\n",
       "      <td>1</td>\n",
       "      <td>{-11: {-6: 0, -5: Z, -4: 0}, -9: {-6: 0, -5: 0...</td>\n",
       "      <td>{(-11, -5): 1, (-7, -4): 1, (-7, -3): 1, (-5, ...</td>\n",
       "      <td>{(-9, -4): {2: 1}, (-5, -2): {2: 1}, (-3, -1):...</td>\n",
       "      <td>10</td>\n",
       "      <td>4</td>\n",
       "      <td>{-11: 1, -7: 2, -5: 1, -3: 1, -1: 3, 1: 1, 3: 1}</td>\n",
       "      <td>{-5: 1, -4: 1, -3: 1, -2: 2, -1: 1, 0: 3, 1: 1}</td>\n",
       "      <td>{-5: -1, -4: 1, -3: -1, -2: 2, -1: -1, 0: 2, 1...</td>\n",
       "    </tr>\n",
       "    <tr>\n",
       "      <th>2528</th>\n",
       "      <td>[2, 2, -1, 3, -1, -2, -2, -1, -1]</td>\n",
       "      <td>3</td>\n",
       "      <td>{-15: {-6: Z}, -13: {-6: 0, -5: Z x C2, -4: 0}...</td>\n",
       "      <td>{(-15, -6): 1, (-13, -5): 1, (-11, -5): 1, (-1...</td>\n",
       "      <td>{(-13, -5): {2: 1}, (-11, -4): {2: 1}, (-7, -2...</td>\n",
       "      <td>20</td>\n",
       "      <td>6</td>\n",
       "      <td>{-15: 1, -13: 1, -11: 3, -9: 5, -7: 2, -5: 2, ...</td>\n",
       "      <td>{-6: 1, -5: 2, -4: 5, -3: 2, -2: 4, -1: 2, 0: 4}</td>\n",
       "      <td>{-7: 1, -6: -2, -5: 3, -4: -2, -3: 4, -2: -2, ...</td>\n",
       "    </tr>\n",
       "    <tr>\n",
       "      <th>2529</th>\n",
       "      <td>[2, -3, -3, 2, -3, -1, -2, -1, 2]</td>\n",
       "      <td>1</td>\n",
       "      <td>{-13: {-6: 0, -5: 0}, -11: {-6: 0, -5: 0, -4: ...</td>\n",
       "      <td>{(-9, -3): 1, (-5, -2): 1, (-3, 0): 1, (-1, 0)...</td>\n",
       "      <td>{(-7, -2): {2: 1}}</td>\n",
       "      <td>4</td>\n",
       "      <td>1</td>\n",
       "      <td>{-9: 1, -5: 1, -3: 1, -1: 1}</td>\n",
       "      <td>{-3: 1, -2: 1, 0: 2}</td>\n",
       "      <td>{-4: -1, -3: 1, -1: 1}</td>\n",
       "    </tr>\n",
       "    <tr>\n",
       "      <th>2530</th>\n",
       "      <td>[-1, 2, -3, -1, -2, -2, -1, 3, 2]</td>\n",
       "      <td>3</td>\n",
       "      <td>{-13: {-6: 0, -5: Z}, -11: {-6: 0, -5: 0, -4: ...</td>\n",
       "      <td>{(-13, -5): 1, (-11, -4): 1, (-9, -4): 1, (-9,...</td>\n",
       "      <td>{(-11, -4): {2: 1}, (-9, -3): {2: 1}, (-7, -2)...</td>\n",
       "      <td>20</td>\n",
       "      <td>6</td>\n",
       "      <td>{-13: 1, -11: 1, -9: 2, -7: 4, -5: 4, -3: 3, -...</td>\n",
       "      <td>{-5: 1, -4: 2, -3: 2, -2: 6, -1: 2, 0: 5, 1: 1...</td>\n",
       "      <td>{-6: -1, -5: 2, -4: -2, -3: 4, -2: -2, -1: 3, ...</td>\n",
       "    </tr>\n",
       "  </tbody>\n",
       "</table>\n",
       "<p>2531 rows × 10 columns</p>\n",
       "</div>"
      ],
      "text/plain": [
       "                                   braid  components  \\\n",
       "0         [2, 2, 1, -2, 2, 1, -1, -1, 2]           1   \n",
       "1     [-2, -1, 1, -3, -1, 2, -3, -2, -1]           1   \n",
       "2     [-3, -2, 3, -2, -1, -1, 1, -3, -1]           3   \n",
       "3          [3, 3, 2, 3, -1, -2, 2, 3, 3]           1   \n",
       "4      [-3, -3, 2, -2, 2, 1, -3, -3, -3]           1   \n",
       "...                                  ...         ...   \n",
       "2526   [3, 1, 3, -1, -1, -1, -1, -1, -1]           3   \n",
       "2527   [2, 2, 2, -1, -2, -3, -2, -1, -3]           1   \n",
       "2528   [2, 2, -1, 3, -1, -2, -2, -1, -1]           3   \n",
       "2529   [2, -3, -3, 2, -3, -1, -2, -1, 2]           1   \n",
       "2530   [-1, 2, -3, -1, -2, -2, -1, 3, 2]           3   \n",
       "\n",
       "                                      khovanov_homology  \\\n",
       "0     {1: {0: Z}, 3: {0: Z, 1: 0, 2: 0, 3: 0}, 5: {0...   \n",
       "1     {-13: {-6: 0, -5: Z, -4: 0}, -11: {-6: 0, -5: ...   \n",
       "2     {-15: {-6: Z}, -13: {-6: Z, -5: 0, -4: 0, -3: ...   \n",
       "3     {1: {-1: 0, 0: 0}, 3: {-1: 0, 0: Z, 1: 0, 2: 0...   \n",
       "4     {-15: {-5: Z}, -13: {-5: 0, -4: C2}, -11: {-5:...   \n",
       "...                                                 ...   \n",
       "2526  {-17: {-6: 0, -5: 0}, -15: {-6: 0, -5: Z, -4: ...   \n",
       "2527  {-11: {-6: 0, -5: Z, -4: 0}, -9: {-6: 0, -5: 0...   \n",
       "2528  {-15: {-6: Z}, -13: {-6: 0, -5: Z x C2, -4: 0}...   \n",
       "2529  {-13: {-6: 0, -5: 0}, -11: {-6: 0, -5: 0, -4: ...   \n",
       "2530  {-13: {-6: 0, -5: Z}, -11: {-6: 0, -5: 0, -4: ...   \n",
       "\n",
       "                                              free_part  \\\n",
       "0          {(1, 0): 1, (3, 0): 1, (5, 2): 1, (9, 3): 1}   \n",
       "1     {(-13, -5): 1, (-9, -4): 1, (-9, -3): 1, (-7, ...   \n",
       "2     {(-15, -6): 1, (-13, -6): 1, (-11, -4): 2, (-9...   \n",
       "3     {(3, 0): 1, (5, 0): 1, (7, 2): 1, (11, 3): 1, ...   \n",
       "4     {(-15, -5): 1, (-11, -4): 1, (-11, -3): 1, (-7...   \n",
       "...                                                 ...   \n",
       "2526  {(-15, -5): 1, (-13, -5): 1, (-11, -4): 1, (-1...   \n",
       "2527  {(-11, -5): 1, (-7, -4): 1, (-7, -3): 1, (-5, ...   \n",
       "2528  {(-15, -6): 1, (-13, -5): 1, (-11, -5): 1, (-1...   \n",
       "2529  {(-9, -3): 1, (-5, -2): 1, (-3, 0): 1, (-1, 0)...   \n",
       "2530  {(-13, -5): 1, (-11, -4): 1, (-9, -4): 1, (-9,...   \n",
       "\n",
       "                                           torsion_part  free_part_count  \\\n",
       "0                                      {(7, 3): {2: 1}}                4   \n",
       "1     {(-11, -4): {2: 1}, (-7, -2): {2: 1}, (-5, -1)...                8   \n",
       "2                  {(-9, -3): {2: 1}, (-5, -1): {2: 1}}               12   \n",
       "3                     {(9, 3): {2: 1}, (13, 5): {2: 1}}                6   \n",
       "4                 {(-13, -4): {2: 1}, (-9, -2): {2: 1}}                6   \n",
       "...                                                 ...              ...   \n",
       "2526  {(-13, -4): {2: 1}, (-11, -4): {2: 1}, (-9, -2...               24   \n",
       "2527  {(-9, -4): {2: 1}, (-5, -2): {2: 1}, (-3, -1):...               10   \n",
       "2528  {(-13, -5): {2: 1}, (-11, -4): {2: 1}, (-7, -2...               20   \n",
       "2529                                 {(-7, -2): {2: 1}}                4   \n",
       "2530  {(-11, -4): {2: 1}, (-9, -3): {2: 1}, (-7, -2)...               20   \n",
       "\n",
       "      torsion_part_count                               total_num_FP_per_row  \\\n",
       "0                      1                           {1: 1, 3: 1, 5: 1, 9: 1}   \n",
       "1                      3        {-13: 1, -9: 2, -7: 1, -5: 1, -3: 2, -1: 1}   \n",
       "2                      2  {-15: 1, -13: 1, -11: 2, -9: 1, -7: 3, -5: 1, ...   \n",
       "3                      2                   {3: 1, 5: 1, 7: 1, 11: 2, 15: 1}   \n",
       "4                      2              {-15: 1, -11: 2, -7: 1, -5: 1, -3: 1}   \n",
       "...                  ...                                                ...   \n",
       "2526                   8  {-15: 1, -13: 1, -11: 3, -9: 3, -7: 3, -5: 4, ...   \n",
       "2527                   4   {-11: 1, -7: 2, -5: 1, -3: 1, -1: 3, 1: 1, 3: 1}   \n",
       "2528                   6  {-15: 1, -13: 1, -11: 3, -9: 5, -7: 2, -5: 2, ...   \n",
       "2529                   1                       {-9: 1, -5: 1, -3: 1, -1: 1}   \n",
       "2530                   6  {-13: 1, -11: 1, -9: 2, -7: 4, -5: 4, -3: 3, -...   \n",
       "\n",
       "                                total_num_FP_per_column  \\\n",
       "0                                    {0: 2, 2: 1, 3: 1}   \n",
       "1             {-5: 1, -4: 1, -3: 1, -2: 2, -1: 1, 0: 2}   \n",
       "2             {-6: 2, -4: 3, -3: 1, -2: 3, -1: 1, 0: 2}   \n",
       "3                        {0: 2, 2: 1, 3: 1, 4: 1, 5: 1}   \n",
       "4                    {-5: 1, -4: 1, -3: 1, -2: 1, 0: 2}   \n",
       "...                                                 ...   \n",
       "2526    {-5: 2, -4: 2, -3: 4, -2: 4, -1: 2, 0: 6, 2: 4}   \n",
       "2527    {-5: 1, -4: 1, -3: 1, -2: 2, -1: 1, 0: 3, 1: 1}   \n",
       "2528   {-6: 1, -5: 2, -4: 5, -3: 2, -2: 4, -1: 2, 0: 4}   \n",
       "2529                               {-3: 1, -2: 1, 0: 2}   \n",
       "2530  {-5: 1, -4: 2, -3: 2, -2: 6, -1: 2, 0: 5, 1: 1...   \n",
       "\n",
       "                                       jones_polynomial  \n",
       "0                                   {1: 1, 3: 1, 4: -1}  \n",
       "1         {-6: -1, -5: 1, -4: -1, -3: 2, -2: -1, -1: 1}  \n",
       "2          {-7: 1, -5: 2, -4: -1, -3: 2, -2: -1, -1: 1}  \n",
       "3                      {2: 1, 4: 1, 5: -1, 6: 1, 7: -1}  \n",
       "4                 {-7: -1, -6: 1, -5: -1, -4: 1, -2: 1}  \n",
       "...                                                 ...  \n",
       "2526  {-7: -1, -5: -1, -3: 1, -2: 1, -1: 2, 0: 1, 1: 1}  \n",
       "2527  {-5: -1, -4: 1, -3: -1, -2: 2, -1: -1, 0: 2, 1...  \n",
       "2528  {-7: 1, -6: -2, -5: 3, -4: -2, -3: 4, -2: -2, ...  \n",
       "2529                             {-4: -1, -3: 1, -1: 1}  \n",
       "2530  {-6: -1, -5: 2, -4: -2, -3: 4, -2: -2, -1: 3, ...  \n",
       "\n",
       "[2531 rows x 10 columns]"
      ]
     },
     "execution_count": 6,
     "metadata": {},
     "output_type": "execute_result"
    }
   ],
   "source": [
    "df"
   ]
  },
  {
   "cell_type": "code",
   "execution_count": 11,
   "id": "be292a0c",
   "metadata": {},
   "outputs": [],
   "source": [
    "from scripts.polynomial import add_poly_terms\n",
    "from scripts.GDLinearReg import J, DJ, GD_linreg_improved,fit\n",
    "from scripts.predict_accuracy import prediction, accuracy"
   ]
  },
  {
   "cell_type": "code",
   "execution_count": 12,
   "id": "61f24e2c",
   "metadata": {},
   "outputs": [
    {
     "data": {
      "text/plain": [
       "(13, -13)"
      ]
     },
     "execution_count": 12,
     "metadata": {},
     "output_type": "execute_result"
    }
   ],
   "source": [
    "find_max_column = float('-inf')\n",
    "find_min_column = float('inf')\n",
    "for index, row in df_1.iterrows():\n",
    "    #print(a_row.free_part)\n",
    "    for key in eval(row.jones_polynomial).keys():\n",
    "       #print(a_key[0])\n",
    "        if key < find_min_column:\n",
    "            find_min_column = key\n",
    "        if key > find_max_column:\n",
    "            find_max_column = key\n",
    "\n",
    "find_max_column, find_min_column"
   ]
  },
  {
   "cell_type": "code",
   "execution_count": 13,
   "id": "fbd06742",
   "metadata": {},
   "outputs": [
    {
     "data": {
      "text/plain": [
       "(13, -13)"
      ]
     },
     "execution_count": 13,
     "metadata": {},
     "output_type": "execute_result"
    }
   ],
   "source": [
    "find_max_column = float('-inf')\n",
    "find_min_column = float('inf')\n",
    "for index, row in df.iterrows():\n",
    "    #print(a_row.free_part)\n",
    "    for key in eval(row.jones_polynomial).keys():\n",
    "       #print(a_key[0])\n",
    "        if key < find_min_column:\n",
    "            find_min_column = key\n",
    "        if key > find_max_column:\n",
    "            find_max_column = key\n",
    "\n",
    "find_max_column, find_min_column"
   ]
  },
  {
   "cell_type": "code",
   "execution_count": 14,
   "id": "d9878666",
   "metadata": {},
   "outputs": [],
   "source": [
    "def gen_matrix(Jones,col):\n",
    "    row = len(Jones)\n",
    "    a = np.empty([row,col])\n",
    "    for i in range(row):\n",
    "        for key in Jones[i].keys():\n",
    "            a[i,key] =  Jones[i][key]\n",
    "        if key == \"\":\n",
    "            a[i,key] = 0\n",
    "    return a"
   ]
  },
  {
   "cell_type": "code",
   "execution_count": 15,
   "id": "3e08b351",
   "metadata": {},
   "outputs": [],
   "source": [
    "def gen_all_keys(jones,col):\n",
    "    row = len(jones)\n",
    "    a = []\n",
    "    for i in range(row):\n",
    "        for key in jones[i].keys():\n",
    "            if key not in a:\n",
    "                a.append(key)\n",
    "    return a"
   ]
  },
  {
   "cell_type": "code",
   "execution_count": 16,
   "id": "83e2e271",
   "metadata": {},
   "outputs": [
    {
     "ename": "NameError",
     "evalue": "name 'ev' is not defined",
     "output_type": "error",
     "traceback": [
      "\u001b[0;31m---------------------------------------------------------------------------\u001b[0m",
      "\u001b[0;31mNameError\u001b[0m                                 Traceback (most recent call last)",
      "Input \u001b[0;32mIn [16]\u001b[0m, in \u001b[0;36m<cell line: 2>\u001b[0;34m()\u001b[0m\n\u001b[1;32m      1\u001b[0m \u001b[38;5;66;03m#prediciton with 1-component link\u001b[39;00m\n\u001b[0;32m----> 2\u001b[0m Jones \u001b[38;5;241m=\u001b[39m \u001b[43mev\u001b[49m(df_1[\u001b[38;5;124m\"\u001b[39m\u001b[38;5;124mjones_polynomial\u001b[39m\u001b[38;5;124m\"\u001b[39m])\n",
      "\u001b[0;31mNameError\u001b[0m: name 'ev' is not defined"
     ]
    }
   ],
   "source": [
    "#prediciton with 1-component link\n",
    "ev = eval(np.)\n",
    "Jones = ev(df_1[\"jones_polynomial\"])"
   ]
  },
  {
   "cell_type": "code",
   "execution_count": 218,
   "id": "6dc01441",
   "metadata": {},
   "outputs": [],
   "source": [
    "X = gen_matrix(Jones,25)\n",
    "y = np.array(df_1['torsion_part_count']).reshape(-1,1)"
   ]
  },
  {
   "cell_type": "code",
   "execution_count": 219,
   "id": "8248b39a",
   "metadata": {},
   "outputs": [],
   "source": [
    "X_train, X_test, y_train, y_test = train_test_split(X, y, test_size=0.2, random_state=1)\n",
    "X_train, X_val, y_train, y_val = train_test_split(X_train, y_train, test_size=0.25, random_state=1)"
   ]
  },
  {
   "cell_type": "code",
   "execution_count": 220,
   "id": "19c60e30",
   "metadata": {},
   "outputs": [
    {
     "name": "stdout",
     "output_type": "stream",
     "text": [
      "Running polynomial regression of degree 1 \n",
      "\n",
      "After 0 steps the cost is 38.27777777777778\n",
      "After 999 steps the cost is 36.9003591138816\n",
      "\n",
      "Final cost is 36.90035875122786\n",
      "\n",
      "Accuracy of training set is: 0.012345679012345678\n",
      "Accuracy of validation set is: 0.004629629629629629\n",
      "Accuracy of test set is: 0.013824884792626729\n"
     ]
    }
   ],
   "source": [
    "degree = 1\n",
    "\n",
    "v, costs = fit(X_train, y_train, epsilon = 1e-10, lambda_ = 0, max_iters = 1000, poly_terms = degree)\n",
    "\n",
    "print(f'Accuracy of training set is: {accuracy(add_poly_terms(X_train, degree),v,y_train)}')\n",
    "print(f'Accuracy of validation set is: {accuracy(add_poly_terms(X_val, degree),v,y_val)}')\n",
    "print(f'Accuracy of test set is: {accuracy(add_poly_terms(X_test, degree),v,y_test)}')"
   ]
  },
  {
   "cell_type": "code",
   "execution_count": 196,
   "id": "3e2d1ea5",
   "metadata": {},
   "outputs": [],
   "source": [
    "#prediction with multiple components links\n",
    "jones = ev(df[\"jones_polynomial\"])"
   ]
  },
  {
   "cell_type": "code",
   "execution_count": 177,
   "id": "ff410574",
   "metadata": {},
   "outputs": [],
   "source": [
    "keys = gen_all_keys(jones,24)"
   ]
  },
  {
   "cell_type": "code",
   "execution_count": 178,
   "id": "8b9b45e3",
   "metadata": {},
   "outputs": [],
   "source": [
    "keys.sort()"
   ]
  },
  {
   "cell_type": "code",
   "execution_count": 179,
   "id": "dfb8d035",
   "metadata": {},
   "outputs": [
    {
     "data": {
      "text/plain": [
       "[-11,\n",
       " -10,\n",
       " -9,\n",
       " -8.5,\n",
       " -8,\n",
       " -7.5,\n",
       " -7,\n",
       " -6.5,\n",
       " -6,\n",
       " -5.5,\n",
       " -5,\n",
       " -4.5,\n",
       " -4,\n",
       " -3.5,\n",
       " -3,\n",
       " -2.5,\n",
       " -2,\n",
       " -1.5,\n",
       " -1,\n",
       " -0.5,\n",
       " 0,\n",
       " 0.5,\n",
       " 1,\n",
       " 1.5,\n",
       " 2,\n",
       " 2.5,\n",
       " 3,\n",
       " 3.5,\n",
       " 4,\n",
       " 4.5,\n",
       " 5,\n",
       " 5.5,\n",
       " 6,\n",
       " 6.5,\n",
       " 7,\n",
       " 7.5,\n",
       " 8,\n",
       " 8.5,\n",
       " 9,\n",
       " 10,\n",
       " 11,\n",
       " 12]"
      ]
     },
     "execution_count": 179,
     "metadata": {},
     "output_type": "execute_result"
    }
   ],
   "source": [
    "keys"
   ]
  },
  {
   "cell_type": "code",
   "execution_count": 197,
   "id": "7a7ca755",
   "metadata": {},
   "outputs": [],
   "source": [
    "def gen_matrix_jones(jones,keys):\n",
    "    row = len(jones)\n",
    "    col = len(keys)\n",
    "    m = np.zeros([row,col])\n",
    "    print(m.shape)\n",
    "    for i in range(col):\n",
    "        for j in range(len(jones)):\n",
    "            for key,degree in jones[j].items():\n",
    "                if key == keys[i]:\n",
    "                    m[j,i] = degree\n",
    "    return m"
   ]
  },
  {
   "cell_type": "code",
   "execution_count": 203,
   "id": "6953fa84",
   "metadata": {},
   "outputs": [
    {
     "name": "stdout",
     "output_type": "stream",
     "text": [
      "(293, 42)\n"
     ]
    }
   ],
   "source": [
    "X = gen_matrix_jones(jones,keys)\n",
    "y = np.array(df['torsion_part_count']).reshape(-1,1)"
   ]
  },
  {
   "cell_type": "code",
   "execution_count": 204,
   "id": "fe6f44e1",
   "metadata": {},
   "outputs": [],
   "source": [
    "X_train, X_test, y_train, y_test = train_test_split(X, y, test_size=0.2, random_state=1)\n",
    "X_train, X_val, y_train, y_val = train_test_split(X_train, y_train, test_size=0.25, random_state=1)"
   ]
  },
  {
   "cell_type": "code",
   "execution_count": 205,
   "id": "e09b627f",
   "metadata": {},
   "outputs": [
    {
     "name": "stdout",
     "output_type": "stream",
     "text": [
      "Running polynomial regression of degree 1 \n",
      "\n",
      "After 0 steps the cost is 19.262857142857143\n",
      "After 999 steps the cost is 3.3616222326681937\n",
      "\n",
      "Final cost is 3.3615351831873044\n",
      "\n",
      "Accuracy of training set is: 0.32571428571428573\n",
      "Accuracy of validation set is: 0.13559322033898305\n",
      "Accuracy of test set is: 0.2033898305084746\n"
     ]
    }
   ],
   "source": [
    "degree = 1\n",
    "\n",
    "v, costs = fit(X_train, y_train, epsilon = 1e-10, lambda_ = 0, max_iters = 1000, poly_terms = degree)\n",
    "\n",
    "print(f'Accuracy of training set is: {accuracy(add_poly_terms(X_train, degree),v,y_train)}')\n",
    "print(f'Accuracy of validation set is: {accuracy(add_poly_terms(X_val, degree),v,y_val)}')\n",
    "print(f'Accuracy of test set is: {accuracy(add_poly_terms(X_test, degree),v,y_test)}')"
   ]
  },
  {
   "cell_type": "code",
   "execution_count": null,
   "id": "c52c55bf",
   "metadata": {},
   "outputs": [],
   "source": []
  }
 ],
 "metadata": {
  "kernelspec": {
   "display_name": "Python [conda env:root] *",
   "language": "python",
   "name": "conda-root-py"
  },
  "language_info": {
   "codemirror_mode": {
    "name": "ipython",
    "version": 3
   },
   "file_extension": ".py",
   "mimetype": "text/x-python",
   "name": "python",
   "nbconvert_exporter": "python",
   "pygments_lexer": "ipython3",
   "version": "3.9.12"
  }
 },
 "nbformat": 4,
 "nbformat_minor": 5
}

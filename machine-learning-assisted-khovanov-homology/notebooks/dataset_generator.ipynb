{
 "cells": [
  {
   "cell_type": "code",
   "execution_count": 1,
   "id": "396a63b2",
   "metadata": {
    "ExecuteTime": {
     "end_time": "2022-12-05T00:39:16.529409Z",
     "start_time": "2022-12-05T00:39:16.220518Z"
    }
   },
   "outputs": [],
   "source": [
    "import numpy as np\n",
    "import pandas as pd\n",
    "import os"
   ]
  },
  {
   "cell_type": "markdown",
   "id": "1a1455a8",
   "metadata": {},
   "source": [
    "Run this cell to check your current working directory. It should return the top folder \"machine-learning-assisted-khovanov-homology\""
   ]
  },
  {
   "cell_type": "code",
   "execution_count": 2,
   "id": "67794789",
   "metadata": {
    "ExecuteTime": {
     "end_time": "2022-12-05T00:39:18.360326Z",
     "start_time": "2022-12-05T00:39:18.352244Z"
    }
   },
   "outputs": [
    {
     "data": {
      "text/plain": [
       "'/mnt/c/Users/wuwj2/Desktop/jupyter/MAT_180_ML_Projects/machine-learning-assisted-khovanov-homology/notebooks'"
      ]
     },
     "execution_count": 2,
     "metadata": {},
     "output_type": "execute_result"
    }
   ],
   "source": [
    "os.getcwd()"
   ]
  },
  {
   "cell_type": "code",
   "execution_count": 3,
   "id": "cc5ce87f",
   "metadata": {
    "ExecuteTime": {
     "end_time": "2022-12-05T00:39:19.460043Z",
     "start_time": "2022-12-05T00:39:19.456064Z"
    }
   },
   "outputs": [],
   "source": [
    "#Run this cell once if still in the notebooks folder.\n",
    "#Note that running this command multiple times might get you too high in the directory tree so be \n",
    "#cautious running this cell\n",
    "os.chdir(\"../\")"
   ]
  },
  {
   "cell_type": "code",
   "execution_count": 4,
   "id": "867fdd88",
   "metadata": {
    "ExecuteTime": {
     "end_time": "2022-12-05T00:39:22.839499Z",
     "start_time": "2022-12-05T00:39:22.833800Z"
    }
   },
   "outputs": [],
   "source": [
    "def free_part(kh):\n",
    "    res = {}\n",
    "    # Not the optimal way; while also not the bottleneck for computation\n",
    "    # The size of kh is not big\n",
    "    # TODO: improve this function\n",
    "    for key1 in kh.keys():\n",
    "        for key2 in kh[key1].keys():\n",
    "            a = kh[key1][key2]\n",
    "            gens = a.gens()\n",
    "            n = len([gen for gen in gens if gen.additive_order() == +Infinity])\n",
    "            if n>0:\n",
    "                res[(key1, key2)] = n \n",
    "    return res"
   ]
  },
  {
   "cell_type": "code",
   "execution_count": 5,
   "id": "4dec5afd",
   "metadata": {
    "ExecuteTime": {
     "end_time": "2022-12-05T00:39:23.529387Z",
     "start_time": "2022-12-05T00:39:23.523440Z"
    }
   },
   "outputs": [],
   "source": [
    "def torsion_part(kh): # key - orders of the generator; value - number of generator with that order\n",
    "    res = {}\n",
    "    # Not the optimal way; while also not the bottleneck for computation\n",
    "    # The size of kh is not big\n",
    "    # TODO: improve this function\n",
    "    for key1 in kh.keys():\n",
    "        for key2 in kh[key1].keys():\n",
    "            val = {}\n",
    "            a = kh[key1][key2]\n",
    "            gens = a.gens()\n",
    "            for gen in gens:\n",
    "                b = gen.additive_order()\n",
    "                if b == +Infinity:\n",
    "                    continue\n",
    "                elif b in val.keys():\n",
    "                    val[b] += 1\n",
    "                else:\n",
    "                    val[b] = 1   \n",
    "            if len(list(val.keys()))>0:\n",
    "                res[(key1, key2)] = val\n",
    "    return res"
   ]
  },
  {
   "cell_type": "code",
   "execution_count": 14,
   "id": "5453c0bc",
   "metadata": {
    "ExecuteTime": {
     "end_time": "2022-12-05T00:45:27.775333Z",
     "start_time": "2022-12-05T00:45:27.371805Z"
    }
   },
   "outputs": [],
   "source": [
    "from scripts.dataGeneration import getRandomWord, count_FP, count_TP\n",
    "\n",
    "S = [-3, -2, -1, 1, 2, 3]\n",
    "\n",
    "B = BraidGroup(4)"
   ]
  },
  {
   "cell_type": "code",
   "execution_count": 6,
   "id": "c32e39ff",
   "metadata": {
    "ExecuteTime": {
     "end_time": "2022-12-05T00:43:18.728612Z",
     "start_time": "2022-12-05T00:43:18.721439Z"
    }
   },
   "outputs": [],
   "source": [
    "def generate_dataset(n,m):\n",
    "\n",
    "# n is the desired size of the dataset\n",
    "# m determines how long the words used to generate the links are going to be\n",
    "# WARNING: m >= 9 will make the khovanov homology very long so be careful.\n",
    "# I am personally using m = 8\n",
    "    \n",
    "    data = {\n",
    "        'braid': [],\n",
    "        'khovanov_homology': [],\n",
    "        'free_part': [],\n",
    "        'torsion_part': [],\n",
    "        'free_part_count': [],\n",
    "        'torsion_part_count': [],\n",
    "        'total_num_FP_per_row': [],\n",
    "        'total_num_FP_per_column': []\n",
    "        \n",
    "    }\n",
    "\n",
    "    while range(n):\n",
    "        W = getRandomWord(m, S)\n",
    "        link = Link(B(W))\n",
    "        \n",
    "        if link.number_of_components() != 1:\n",
    "            continue\n",
    "        \n",
    "        kh = link.khovanov_homology()\n",
    "        \n",
    "        if kh in data[\"khovanov_homology\"]:\n",
    "            continue\n",
    "            \n",
    "        FP = free_part(kh)\n",
    "        TP = torsion_part(kh)\n",
    "        \n",
    "        data[\"braid\"].append(W)\n",
    "        data[\"khovanov_homology\"].append(kh)\n",
    "        data[\"free_part\"].append(FP)\n",
    "        data[\"torsion_part\"].append(TP)\n",
    "        data[\"free_part_count\"].append(count_FP(FP))\n",
    "        data[\"torsion_part_count\"].append(count_TP(TP))\n",
    "        data[\"total_num_FP_per_row\"].append(count_FP_per_row(FP))\n",
    "        data[\"total_num_FP_per_column\"].append(count_FP_per_col(FP))\n",
    "\n",
    "    df = pd.DataFrame(data)\n",
    "    \n",
    "    df.to_csv(f'data/{n}_{m}_dataset_new.csv')"
   ]
  },
  {
   "cell_type": "code",
   "execution_count": null,
   "id": "dbc1ced1",
   "metadata": {},
   "outputs": [],
   "source": [
    "generate_dataset(10000, 9)"
   ]
  },
  {
   "cell_type": "code",
   "execution_count": 38,
   "id": "9c828776",
   "metadata": {
    "ExecuteTime": {
     "end_time": "2022-12-05T00:53:57.493407Z",
     "start_time": "2022-12-05T00:53:53.469264Z"
    }
   },
   "outputs": [],
   "source": [
    "df = pd.read_csv(\"data/10000_9_parsed.csv\")\n",
    "df = df[df.torsion_part != '{}']\n",
    "\n",
    "braids = df['braid'].to_dict()\n",
    "\n",
    "for index, braid in braids.items():\n",
    "    if Link(B(eval(braid))).number_of_components() != 1:\n",
    "        df = df.drop(index, axis=0)\n",
    "        \n",
    "df = df.drop('Unnamed: 0', axis=1)"
   ]
  },
  {
   "cell_type": "code",
   "execution_count": 42,
   "id": "344f1811",
   "metadata": {
    "ExecuteTime": {
     "end_time": "2022-12-05T00:55:01.358138Z",
     "start_time": "2022-12-05T00:55:01.282348Z"
    }
   },
   "outputs": [],
   "source": [
    "df.to_csv('10000_9_cleaned.csv', index=False)"
   ]
  }
 ],
 "metadata": {
  "kernelspec": {
   "display_name": "SageMath 9.6",
   "language": "sage",
   "name": "sagemath"
  },
  "language_info": {
   "codemirror_mode": {
    "name": "ipython",
    "version": 3
   },
   "file_extension": ".py",
   "mimetype": "text/x-python",
   "name": "python",
   "nbconvert_exporter": "python",
   "pygments_lexer": "ipython3",
   "version": "3.8.10"
  }
 },
 "nbformat": 4,
 "nbformat_minor": 5
}

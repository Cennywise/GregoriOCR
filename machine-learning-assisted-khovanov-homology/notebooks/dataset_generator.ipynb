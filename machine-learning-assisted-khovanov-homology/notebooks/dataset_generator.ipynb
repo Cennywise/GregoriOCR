{
 "cells": [
  {
   "cell_type": "code",
   "execution_count": 3,
   "id": "396a63b2",
   "metadata": {
    "ExecuteTime": {
     "end_time": "2022-12-06T03:22:44.816505Z",
     "start_time": "2022-12-06T03:22:44.565889Z"
    }
   },
   "outputs": [],
   "source": [
    "import numpy as np\n",
    "import pandas as pd\n",
    "import os"
   ]
  },
  {
   "cell_type": "markdown",
   "id": "1a1455a8",
   "metadata": {},
   "source": [
    "Run this cell to check your current working directory. It should return the top folder \"machine-learning-assisted-khovanov-homology\""
   ]
  },
  {
   "cell_type": "code",
   "execution_count": 4,
   "id": "67794789",
   "metadata": {
    "ExecuteTime": {
     "end_time": "2022-12-06T03:22:46.113088Z",
     "start_time": "2022-12-06T03:22:46.105677Z"
    }
   },
   "outputs": [
    {
     "data": {
      "text/plain": [
       "'/mnt/c/Users/wuwj2/Desktop/jupyter/MAT_180_ML_Projects/machine-learning-assisted-khovanov-homology/notebooks'"
      ]
     },
     "execution_count": 4,
     "metadata": {},
     "output_type": "execute_result"
    }
   ],
   "source": [
    "os.getcwd()"
   ]
  },
  {
   "cell_type": "code",
   "execution_count": 5,
   "id": "cc5ce87f",
   "metadata": {
    "ExecuteTime": {
     "end_time": "2022-12-06T03:22:46.818142Z",
     "start_time": "2022-12-06T03:22:46.813437Z"
    }
   },
   "outputs": [],
   "source": [
    "#Run this cell once if still in the notebooks folder.\n",
    "#Note that running this command multiple times might get you too high in the directory tree so be \n",
    "#cautious running this cell\n",
    "os.chdir(\"../\")"
   ]
  },
  {
   "cell_type": "code",
   "execution_count": 6,
   "id": "867fdd88",
   "metadata": {
    "ExecuteTime": {
     "end_time": "2022-12-06T03:22:47.537756Z",
     "start_time": "2022-12-06T03:22:47.529641Z"
    }
   },
   "outputs": [],
   "source": [
    "# The following functions cannot be put into .py script files because they\n",
    "# contain SageMath language that cannot be run outside of the SageMath kernel\n",
    "\n",
    "def free_part(kh):\n",
    "    res = {}\n",
    "    # Not the optimal way; while also not the bottleneck for computation\n",
    "    # The size of kh is not big\n",
    "    # TODO: improve this function\n",
    "    for key1 in kh.keys():\n",
    "        for key2 in kh[key1].keys():\n",
    "            a = kh[key1][key2]\n",
    "            gens = a.gens()\n",
    "            n = len([gen for gen in gens if gen.additive_order() == +Infinity])\n",
    "            if n>0:\n",
    "                res[(key1, key2)] = n \n",
    "    return res\n",
    "\n",
    "def torsion_part(kh): # key - orders of the generator; value - number of generator with that order\n",
    "    res = {}\n",
    "    # Not the optimal way; while also not the bottleneck for computation\n",
    "    # The size of kh is not big\n",
    "    # TODO: improve this function\n",
    "    for key1 in kh.keys():\n",
    "        for key2 in kh[key1].keys():\n",
    "            val = {}\n",
    "            a = kh[key1][key2]\n",
    "            gens = a.gens()\n",
    "            for gen in gens:\n",
    "                b = gen.additive_order()\n",
    "                if b == +Infinity:\n",
    "                    continue\n",
    "                elif b in val.keys():\n",
    "                    val[b] += 1\n",
    "                else:\n",
    "                    val[b] = 1   \n",
    "            if len(list(val.keys()))>0:\n",
    "                res[(key1, key2)] = val\n",
    "    return res"
   ]
  },
  {
   "cell_type": "code",
   "execution_count": 7,
   "id": "5453c0bc",
   "metadata": {
    "ExecuteTime": {
     "end_time": "2022-12-06T03:22:48.941673Z",
     "start_time": "2022-12-06T03:22:48.454486Z"
    }
   },
   "outputs": [],
   "source": [
    "# import functions built for generating and parsing data to a standard form\n",
    "from scripts.dataGeneration import getRandomWord, count_FP, count_TP, count_FP_per_col, count_FP_per_row\n",
    "\n",
    "S = [-3, -2, -1, 1, 2, 3]\n",
    "B = BraidGroup(4)"
   ]
  },
  {
   "cell_type": "code",
   "execution_count": 25,
   "id": "c32e39ff",
   "metadata": {
    "ExecuteTime": {
     "end_time": "2022-12-06T03:43:42.771460Z",
     "start_time": "2022-12-06T03:43:42.756391Z"
    }
   },
   "outputs": [],
   "source": [
    "def generate_dataset(n,m,name):\n",
    "# n is the desired size of the dataset\n",
    "# m determines how long the words used to generate the links are going to be\n",
    "# WARNING: m >= 9 will make the khovanov homology very long so be careful.\n",
    "# I am personally using m = 8\n",
    "    \n",
    "    # desired features\n",
    "    data = {\n",
    "        'braid': [],\n",
    "        'components': [],\n",
    "        'khovanov_homology': [],\n",
    "        'free_part': [],\n",
    "        'torsion_part': [],\n",
    "        'free_part_count': [],\n",
    "        'torsion_part_count': [],\n",
    "        'total_num_FP_per_row': [],\n",
    "        'total_num_FP_per_column': [],\n",
    "        'jones_polynomial': []\n",
    "        \n",
    "    }\n",
    "    k = n // 100\n",
    "    if k == 0:\n",
    "        k = 1\n",
    "    for i in range(n):\n",
    "        if i%k == 0:\n",
    "            # Print every ~1% of progress\n",
    "            print(f'Currently on iteration {i+1}')\n",
    "            \n",
    "        W = getRandomWord(m, S)\n",
    "        link = Link(B(W))\n",
    "        components = link.number_of_components()\n",
    "        \n",
    "        if components > 3:\n",
    "            continue\n",
    "        \n",
    "        kh = link.khovanov_homology()\n",
    "        \n",
    "        if kh in data[\"khovanov_homology\"]:\n",
    "            continue\n",
    "            \n",
    "        FP = free_part(kh)\n",
    "        TP = torsion_part(kh)\n",
    "        \n",
    "        if TP == {}:\n",
    "            continue\n",
    "\n",
    "        data[\"braid\"].append(W)\n",
    "        data['components'].append(components)\n",
    "        data[\"khovanov_homology\"].append(kh)\n",
    "        data[\"free_part\"].append(FP)\n",
    "        data[\"torsion_part\"].append(TP)\n",
    "        data[\"free_part_count\"].append(count_FP(FP))\n",
    "        data[\"torsion_part_count\"].append(count_TP(TP))\n",
    "        data[\"total_num_FP_per_row\"].append(count_FP_per_row(FP))\n",
    "        data[\"total_num_FP_per_column\"].append(count_FP_per_col(FP))\n",
    "        \n",
    "        jp = {}\n",
    "        # parse and append jones_polynomial dictionary: index = degree of t, val = coefficient\n",
    "        for term in link.jones_polynomial().coefficients():\n",
    "            jp[term[1]] = term[0]\n",
    "        data['jones_polynomial'].append(jp)\n",
    "\n",
    "    df = pd.DataFrame(data)\n",
    "    \n",
    "    df.to_csv(f'data/{name}.csv', index=False)"
   ]
  },
  {
   "cell_type": "code",
   "execution_count": 26,
   "id": "dbc1ced1",
   "metadata": {
    "ExecuteTime": {
     "end_time": "2022-12-06T03:51:00.022715Z",
     "start_time": "2022-12-06T03:43:43.345765Z"
    },
    "scrolled": true
   },
   "outputs": [
    {
     "name": "stdout",
     "output_type": "stream",
     "text": [
      "Currently on iteration 1\n",
      "Currently on iteration 2\n",
      "Currently on iteration 3\n",
      "Currently on iteration 4\n",
      "Currently on iteration 5\n",
      "Currently on iteration 6\n",
      "Currently on iteration 7\n",
      "Currently on iteration 8\n",
      "Currently on iteration 9\n",
      "Currently on iteration 10\n",
      "Currently on iteration 11\n",
      "Currently on iteration 12\n",
      "Currently on iteration 13\n",
      "Currently on iteration 14\n",
      "Currently on iteration 15\n",
      "Currently on iteration 16\n",
      "Currently on iteration 17\n",
      "Currently on iteration 18\n",
      "Currently on iteration 19\n",
      "Currently on iteration 20\n",
      "Currently on iteration 21\n",
      "Currently on iteration 22\n",
      "Currently on iteration 23\n",
      "Currently on iteration 24\n",
      "Currently on iteration 25\n",
      "Currently on iteration 26\n",
      "Currently on iteration 27\n",
      "Currently on iteration 28\n",
      "Currently on iteration 29\n",
      "Currently on iteration 30\n",
      "Currently on iteration 31\n",
      "Currently on iteration 32\n",
      "Currently on iteration 33\n",
      "Currently on iteration 34\n",
      "Currently on iteration 35\n",
      "Currently on iteration 36\n",
      "Currently on iteration 37\n",
      "Currently on iteration 38\n",
      "Currently on iteration 39\n",
      "Currently on iteration 40\n",
      "Currently on iteration 41\n",
      "Currently on iteration 42\n",
      "Currently on iteration 43\n",
      "Currently on iteration 44\n",
      "Currently on iteration 45\n",
      "Currently on iteration 46\n",
      "Currently on iteration 47\n",
      "Currently on iteration 48\n",
      "Currently on iteration 49\n",
      "Currently on iteration 50\n"
     ]
    },
    {
     "ename": "PermissionError",
     "evalue": "[Errno 13] Permission denied: 'data/today.csv'",
     "output_type": "error",
     "traceback": [
      "\u001b[0;31m---------------------------------------------------------------------------\u001b[0m",
      "\u001b[0;31mPermissionError\u001b[0m                           Traceback (most recent call last)",
      "\u001b[0;32m/tmp/ipykernel_2872/3946090116.py\u001b[0m in \u001b[0;36m<module>\u001b[0;34m\u001b[0m\n\u001b[0;32m----> 1\u001b[0;31m \u001b[0mgenerate_dataset\u001b[0m\u001b[0;34m(\u001b[0m\u001b[0mInteger\u001b[0m\u001b[0;34m(\u001b[0m\u001b[0;36m50\u001b[0m\u001b[0;34m)\u001b[0m\u001b[0;34m,\u001b[0m \u001b[0mInteger\u001b[0m\u001b[0;34m(\u001b[0m\u001b[0;36m9\u001b[0m\u001b[0;34m)\u001b[0m\u001b[0;34m,\u001b[0m \u001b[0;34m\"today\"\u001b[0m\u001b[0;34m)\u001b[0m\u001b[0;34m\u001b[0m\u001b[0;34m\u001b[0m\u001b[0m\n\u001b[0m",
      "\u001b[0;32m/tmp/ipykernel_2872/698640068.py\u001b[0m in \u001b[0;36mgenerate_dataset\u001b[0;34m(n, m, name)\u001b[0m\n\u001b[1;32m     63\u001b[0m     \u001b[0mdf\u001b[0m \u001b[0;34m=\u001b[0m \u001b[0mpd\u001b[0m\u001b[0;34m.\u001b[0m\u001b[0mDataFrame\u001b[0m\u001b[0;34m(\u001b[0m\u001b[0mdata\u001b[0m\u001b[0;34m)\u001b[0m\u001b[0;34m\u001b[0m\u001b[0;34m\u001b[0m\u001b[0m\n\u001b[1;32m     64\u001b[0m \u001b[0;34m\u001b[0m\u001b[0m\n\u001b[0;32m---> 65\u001b[0;31m     \u001b[0mdf\u001b[0m\u001b[0;34m.\u001b[0m\u001b[0mto_csv\u001b[0m\u001b[0;34m(\u001b[0m\u001b[0;34mf'data/{name}.csv'\u001b[0m\u001b[0;34m,\u001b[0m \u001b[0mindex\u001b[0m\u001b[0;34m=\u001b[0m\u001b[0;32mFalse\u001b[0m\u001b[0;34m)\u001b[0m\u001b[0;34m\u001b[0m\u001b[0;34m\u001b[0m\u001b[0m\n\u001b[0m",
      "\u001b[0;32m~/sage/sage-9.6/local/var/lib/sage/venv-python3.8/lib/python3.8/site-packages/pandas/core/generic.py\u001b[0m in \u001b[0;36mto_csv\u001b[0;34m(self, path_or_buf, sep, na_rep, float_format, columns, header, index, index_label, mode, encoding, compression, quoting, quotechar, line_terminator, chunksize, date_format, doublequote, escapechar, decimal, errors, storage_options)\u001b[0m\n\u001b[1;32m   3549\u001b[0m         )\n\u001b[1;32m   3550\u001b[0m \u001b[0;34m\u001b[0m\u001b[0m\n\u001b[0;32m-> 3551\u001b[0;31m         return DataFrameRenderer(formatter).to_csv(\n\u001b[0m\u001b[1;32m   3552\u001b[0m             \u001b[0mpath_or_buf\u001b[0m\u001b[0;34m,\u001b[0m\u001b[0;34m\u001b[0m\u001b[0;34m\u001b[0m\u001b[0m\n\u001b[1;32m   3553\u001b[0m             \u001b[0mline_terminator\u001b[0m\u001b[0;34m=\u001b[0m\u001b[0mline_terminator\u001b[0m\u001b[0;34m,\u001b[0m\u001b[0;34m\u001b[0m\u001b[0;34m\u001b[0m\u001b[0m\n",
      "\u001b[0;32m~/sage/sage-9.6/local/var/lib/sage/venv-python3.8/lib/python3.8/site-packages/pandas/io/formats/format.py\u001b[0m in \u001b[0;36mto_csv\u001b[0;34m(self, path_or_buf, encoding, sep, columns, index_label, mode, compression, quoting, quotechar, line_terminator, chunksize, date_format, doublequote, escapechar, errors, storage_options)\u001b[0m\n\u001b[1;32m   1178\u001b[0m             \u001b[0mformatter\u001b[0m\u001b[0;34m=\u001b[0m\u001b[0mself\u001b[0m\u001b[0;34m.\u001b[0m\u001b[0mfmt\u001b[0m\u001b[0;34m,\u001b[0m\u001b[0;34m\u001b[0m\u001b[0;34m\u001b[0m\u001b[0m\n\u001b[1;32m   1179\u001b[0m         )\n\u001b[0;32m-> 1180\u001b[0;31m         \u001b[0mcsv_formatter\u001b[0m\u001b[0;34m.\u001b[0m\u001b[0msave\u001b[0m\u001b[0;34m(\u001b[0m\u001b[0;34m)\u001b[0m\u001b[0;34m\u001b[0m\u001b[0;34m\u001b[0m\u001b[0m\n\u001b[0m\u001b[1;32m   1181\u001b[0m \u001b[0;34m\u001b[0m\u001b[0m\n\u001b[1;32m   1182\u001b[0m         \u001b[0;32mif\u001b[0m \u001b[0mcreated_buffer\u001b[0m\u001b[0;34m:\u001b[0m\u001b[0;34m\u001b[0m\u001b[0;34m\u001b[0m\u001b[0m\n",
      "\u001b[0;32m~/sage/sage-9.6/local/var/lib/sage/venv-python3.8/lib/python3.8/site-packages/pandas/io/formats/csvs.py\u001b[0m in \u001b[0;36msave\u001b[0;34m(self)\u001b[0m\n\u001b[1;32m    239\u001b[0m         \"\"\"\n\u001b[1;32m    240\u001b[0m         \u001b[0;31m# apply compression and byte/text conversion\u001b[0m\u001b[0;34m\u001b[0m\u001b[0;34m\u001b[0m\u001b[0;34m\u001b[0m\u001b[0m\n\u001b[0;32m--> 241\u001b[0;31m         with get_handle(\n\u001b[0m\u001b[1;32m    242\u001b[0m             \u001b[0mself\u001b[0m\u001b[0;34m.\u001b[0m\u001b[0mfilepath_or_buffer\u001b[0m\u001b[0;34m,\u001b[0m\u001b[0;34m\u001b[0m\u001b[0;34m\u001b[0m\u001b[0m\n\u001b[1;32m    243\u001b[0m             \u001b[0mself\u001b[0m\u001b[0;34m.\u001b[0m\u001b[0mmode\u001b[0m\u001b[0;34m,\u001b[0m\u001b[0;34m\u001b[0m\u001b[0;34m\u001b[0m\u001b[0m\n",
      "\u001b[0;32m~/sage/sage-9.6/local/var/lib/sage/venv-python3.8/lib/python3.8/site-packages/pandas/io/common.py\u001b[0m in \u001b[0;36mget_handle\u001b[0;34m(path_or_buf, mode, encoding, compression, memory_map, is_text, errors, storage_options)\u001b[0m\n\u001b[1;32m    784\u001b[0m         \u001b[0;32mif\u001b[0m \u001b[0mioargs\u001b[0m\u001b[0;34m.\u001b[0m\u001b[0mencoding\u001b[0m \u001b[0;32mand\u001b[0m \u001b[0;34m\"b\"\u001b[0m \u001b[0;32mnot\u001b[0m \u001b[0;32min\u001b[0m \u001b[0mioargs\u001b[0m\u001b[0;34m.\u001b[0m\u001b[0mmode\u001b[0m\u001b[0;34m:\u001b[0m\u001b[0;34m\u001b[0m\u001b[0;34m\u001b[0m\u001b[0m\n\u001b[1;32m    785\u001b[0m             \u001b[0;31m# Encoding\u001b[0m\u001b[0;34m\u001b[0m\u001b[0;34m\u001b[0m\u001b[0;34m\u001b[0m\u001b[0m\n\u001b[0;32m--> 786\u001b[0;31m             handle = open(\n\u001b[0m\u001b[1;32m    787\u001b[0m                 \u001b[0mhandle\u001b[0m\u001b[0;34m,\u001b[0m\u001b[0;34m\u001b[0m\u001b[0;34m\u001b[0m\u001b[0m\n\u001b[1;32m    788\u001b[0m                 \u001b[0mioargs\u001b[0m\u001b[0;34m.\u001b[0m\u001b[0mmode\u001b[0m\u001b[0;34m,\u001b[0m\u001b[0;34m\u001b[0m\u001b[0;34m\u001b[0m\u001b[0m\n",
      "\u001b[0;31mPermissionError\u001b[0m: [Errno 13] Permission denied: 'data/today.csv'"
     ]
    }
   ],
   "source": [
    "generate_dataset(50, 9, \"today\")"
   ]
  }
 ],
 "metadata": {
  "kernelspec": {
   "display_name": "SageMath 9.0",
   "language": "sage",
   "name": "sagemath"
  },
  "language_info": {
   "codemirror_mode": {
    "name": "ipython",
    "version": 3
   },
   "file_extension": ".py",
   "mimetype": "text/x-python",
   "name": "python",
   "nbconvert_exporter": "python",
   "pygments_lexer": "ipython3",
   "version": "3.8.10"
  }
 },
 "nbformat": 4,
 "nbformat_minor": 5
}

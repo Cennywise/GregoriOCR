{
 "cells": [
  {
   "cell_type": "code",
   "execution_count": null,
   "id": "396a63b2",
   "metadata": {
    "ExecuteTime": {
     "end_time": "2022-11-17T04:20:20.726826Z",
     "start_time": "2022-11-17T04:20:17.556711Z"
    }
   },
   "outputs": [],
   "source": [
    "import numpy as np\n",
    "import pandas as pd"
   ]
  },
  {
   "cell_type": "code",
   "execution_count": 6,
   "id": "867fdd88",
   "metadata": {
    "ExecuteTime": {
     "end_time": "2022-11-17T04:25:40.479485Z",
     "start_time": "2022-11-17T04:25:40.472793Z"
    }
   },
   "outputs": [],
   "source": [
    "def free_part(kh):\n",
    "    res = {}\n",
    "    # Not the optimal way; while also not the bottleneck for computation\n",
    "    # The size of kh is not big\n",
    "    # TODO: improve this function\n",
    "    for key1 in kh.keys():\n",
    "        for key2 in kh[key1].keys():\n",
    "            a = kh[key1][key2]\n",
    "            gens = a.gens()\n",
    "            n = len([gen for gen in gens if gen.additive_order() == +Infinity])\n",
    "            if n>0:\n",
    "                res[(key1, key2)] = n \n",
    "    return res"
   ]
  },
  {
   "cell_type": "code",
   "execution_count": 7,
   "id": "4dec5afd",
   "metadata": {
    "ExecuteTime": {
     "end_time": "2022-11-17T04:25:41.961512Z",
     "start_time": "2022-11-17T04:25:41.883954Z"
    }
   },
   "outputs": [],
   "source": [
    "def torsion_part(kh): # key - orders of the generator; value - number of generator with that order\n",
    "    res = {}\n",
    "    # Not the optimal way; while also not the bottleneck for computation\n",
    "    # The size of kh is not big\n",
    "    # TODO: improve this function\n",
    "    for key1 in kh.keys():\n",
    "        for key2 in kh[key1].keys():\n",
    "            val = {}\n",
    "            a = kh[key1][key2]\n",
    "            gens = a.gens()\n",
    "            for gen in gens:\n",
    "                b = gen.additive_order()\n",
    "                if b == +Infinity:\n",
    "                    continue\n",
    "                elif b in val.keys():\n",
    "                    val[b] += 1\n",
    "                else:\n",
    "                    val[b] = 1   \n",
    "            if len(list(val.keys()))>0:\n",
    "                res[(key1, key2)] = val\n",
    "    return res"
   ]
  },
  {
   "cell_type": "code",
   "execution_count": 13,
   "id": "5453c0bc",
   "metadata": {
    "ExecuteTime": {
     "end_time": "2022-11-17T04:27:20.524394Z",
     "start_time": "2022-11-17T04:27:17.018144Z"
    }
   },
   "outputs": [],
   "source": [
    "import sys\n",
    "sys.path.append('../')\n",
    "\n",
    "from scripts.dataGeneration import getRandomWord, count_FP, count_TP\n",
    "\n",
    "S = [-3, -2, -1, 1, 2, 3]\n",
    "\n",
    "B = BraidGroup(4)"
   ]
  },
  {
   "cell_type": "code",
   "execution_count": 9,
   "id": "c32e39ff",
   "metadata": {
    "ExecuteTime": {
     "end_time": "2022-11-06T03:02:53.065085Z",
     "start_time": "2022-11-06T03:02:53.057697Z"
    }
   },
   "outputs": [],
   "source": [
    "def generate_dataset(n,m):\n",
    "\n",
    "# n is the desired size of the dataset\n",
    "# m determines how long the words used to generate the links are going to be\n",
    "# WARNING: m >= 9 will make the khovanov homology very long so be careful.\n",
    "# I am personally using m = 8\n",
    "    \n",
    "    data = {\n",
    "        'braid': [],\n",
    "        'khovanov_homology': []\n",
    "        'free_part': [],\n",
    "        'torsion_part': [],\n",
    "        'free_part_count': [],\n",
    "        'torsion_part_count': []\n",
    "    }\n",
    "\n",
    "    for i in range(n):\n",
    "        W = getRandomWord(m, S)\n",
    "        kh = Link(B(W)).khovanov_homology()\n",
    "        \n",
    "        if kh in data[\"khovanov_homology\"]:\n",
    "            continue\n",
    "        data[\"braid\"].append(W)\n",
    "        data[\"khovanov_homology\"].append(kh)\n",
    "        data[\"free_part\"].append(free_part(kh))\n",
    "        data[\"torsion_part\"].append(torsion_part(kh))\n",
    "        data[\"free_part_count\"].append(count_FP(kh))\n",
    "        data[\"torsion_part_count\"].append(count_TP(kh))\n",
    "\n",
    "    df = pd.DataFrame(data)\n",
    "    \n",
    "    df.to_csv(f'{n}_{m}_dataset.csv')\n"
   ]
  }
 ],
 "metadata": {
  "kernelspec": {
   "display_name": "SageMath 9.0",
   "language": "sage",
   "name": "sagemath"
  },
  "language_info": {
   "codemirror_mode": {
    "name": "ipython",
    "version": 3
   },
   "file_extension": ".py",
   "mimetype": "text/x-python",
   "name": "python",
   "nbconvert_exporter": "python",
   "pygments_lexer": "ipython3",
   "version": "3.8.10"
  }
 },
 "nbformat": 4,
 "nbformat_minor": 5
}

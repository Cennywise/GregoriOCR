{
 "cells": [
  {
   "cell_type": "code",
   "execution_count": 1,
   "id": "396a63b2",
   "metadata": {
    "ExecuteTime": {
     "end_time": "2022-12-06T06:58:29.579590Z",
     "start_time": "2022-12-06T06:58:26.187811Z"
    }
   },
   "outputs": [],
   "source": [
    "import numpy as np\n",
    "import pandas as pd\n",
    "import os"
   ]
  },
  {
   "cell_type": "markdown",
   "id": "1a1455a8",
   "metadata": {},
   "source": [
    "Run this cell to check your current working directory. It should return the top folder \"machine-learning-assisted-khovanov-homology\""
   ]
  },
  {
   "cell_type": "code",
   "execution_count": 2,
   "id": "67794789",
   "metadata": {
    "ExecuteTime": {
     "end_time": "2022-12-06T06:58:29.591214Z",
     "start_time": "2022-12-06T06:58:29.582626Z"
    }
   },
   "outputs": [
    {
     "data": {
      "text/plain": [
       "'/mnt/c/Users/wuwj2/Desktop/jupyter/MAT_180_ML_Projects/machine-learning-assisted-khovanov-homology/notebooks'"
      ]
     },
     "execution_count": 2,
     "metadata": {},
     "output_type": "execute_result"
    }
   ],
   "source": [
    "os.getcwd()"
   ]
  },
  {
   "cell_type": "code",
   "execution_count": 3,
   "id": "cc5ce87f",
   "metadata": {
    "ExecuteTime": {
     "end_time": "2022-12-06T06:58:29.857188Z",
     "start_time": "2022-12-06T06:58:29.596250Z"
    }
   },
   "outputs": [],
   "source": [
    "#Run this cell once if still in the notebooks folder.\n",
    "#Note that running this command multiple times might get you too high in the directory tree so be \n",
    "#cautious running this cell\n",
    "os.chdir(\"../\")"
   ]
  },
  {
   "cell_type": "code",
   "execution_count": 4,
   "id": "867fdd88",
   "metadata": {
    "ExecuteTime": {
     "end_time": "2022-12-06T06:58:30.138576Z",
     "start_time": "2022-12-06T06:58:29.860963Z"
    }
   },
   "outputs": [],
   "source": [
    "# The following functions cannot be put into .py script files because they\n",
    "# contain SageMath language that cannot be run outside of the SageMath kernel\n",
    "\n",
    "def free_part(kh):\n",
    "    res = {}\n",
    "    # Not the optimal way; while also not the bottleneck for computation\n",
    "    # The size of kh is not big\n",
    "    # TODO: improve this function\n",
    "    for key1 in kh.keys():\n",
    "        for key2 in kh[key1].keys():\n",
    "            a = kh[key1][key2]\n",
    "            gens = a.gens()\n",
    "            n = len([gen for gen in gens if gen.additive_order() == +Infinity])\n",
    "            if n>0:\n",
    "                res[(key1, key2)] = n \n",
    "    return res\n",
    "\n",
    "def torsion_part(kh): # key - orders of the generator; value - number of generator with that order\n",
    "    res = {}\n",
    "    # Not the optimal way; while also not the bottleneck for computation\n",
    "    # The size of kh is not big\n",
    "    # TODO: improve this function\n",
    "    for key1 in kh.keys():\n",
    "        for key2 in kh[key1].keys():\n",
    "            val = {}\n",
    "            a = kh[key1][key2]\n",
    "            gens = a.gens()\n",
    "            for gen in gens:\n",
    "                b = gen.additive_order()\n",
    "                if b == +Infinity:\n",
    "                    continue\n",
    "                elif b in val.keys():\n",
    "                    val[b] += 1\n",
    "                else:\n",
    "                    val[b] = 1   \n",
    "            if len(list(val.keys()))>0:\n",
    "                res[(key1, key2)] = val\n",
    "    return res"
   ]
  },
  {
   "cell_type": "code",
   "execution_count": 5,
   "id": "5453c0bc",
   "metadata": {
    "ExecuteTime": {
     "end_time": "2022-12-06T06:58:31.968525Z",
     "start_time": "2022-12-06T06:58:30.144671Z"
    }
   },
   "outputs": [],
   "source": [
    "# import functions built for generating and parsing data to a standard form\n",
    "from scripts.dataGeneration import getRandomWord, count_FP, count_TP, count_FP_per_col, count_FP_per_row\n",
    "\n",
    "S = [-3, -2, -1, 1, 2, 3]\n",
    "B = BraidGroup(4)"
   ]
  },
  {
   "cell_type": "code",
   "execution_count": 6,
   "id": "c32e39ff",
   "metadata": {
    "ExecuteTime": {
     "end_time": "2022-12-06T06:58:31.987540Z",
     "start_time": "2022-12-06T06:58:31.972274Z"
    }
   },
   "outputs": [],
   "source": [
    "def generate_dataset(n,m,name):\n",
    "# n is the desired size of the dataset\n",
    "# m determines how long the words used to generate the links are going to be\n",
    "# WARNING: m >= 9 will make the khovanov homology very long so be careful.\n",
    "# I am personally using m = 8\n",
    "    \n",
    "    # desired features\n",
    "    data = {\n",
    "        'braid': [],\n",
    "        'components': [],\n",
    "        'khovanov_homology': [],\n",
    "        'free_part': [],\n",
    "        'torsion_part': [],\n",
    "        'free_part_count': [],\n",
    "        'torsion_part_count': [],\n",
    "        'total_num_FP_per_row': [],\n",
    "        'total_num_FP_per_column': [],\n",
    "        'jones_polynomial': []\n",
    "        \n",
    "    }\n",
    "    k = n // 100\n",
    "    if k == 0:\n",
    "        k = 1\n",
    "    for i in range(n):\n",
    "        if i%k == 0:\n",
    "            # Print every ~1% of progress\n",
    "            print(f'Currently on iteration {i+1}')\n",
    "            \n",
    "        W = getRandomWord(m, S)\n",
    "        link = Link(B(W))\n",
    "        components = link.number_of_components()\n",
    "        \n",
    "        if components > 3:\n",
    "            continue\n",
    "        \n",
    "        kh = link.khovanov_homology()\n",
    "        \n",
    "        if kh in data[\"khovanov_homology\"]:\n",
    "            continue\n",
    "            \n",
    "        FP = free_part(kh)\n",
    "        TP = torsion_part(kh)\n",
    "        \n",
    "        if TP == {}:\n",
    "            continue\n",
    "\n",
    "        data[\"braid\"].append(W)\n",
    "        data['components'].append(components)\n",
    "        data[\"khovanov_homology\"].append(kh)\n",
    "        data[\"free_part\"].append(FP)\n",
    "        data[\"torsion_part\"].append(TP)\n",
    "        data[\"free_part_count\"].append(count_FP(FP))\n",
    "        data[\"torsion_part_count\"].append(count_TP(TP))\n",
    "        data[\"total_num_FP_per_row\"].append(count_FP_per_row(FP))\n",
    "        data[\"total_num_FP_per_column\"].append(count_FP_per_col(FP))\n",
    "        \n",
    "        jp = {}\n",
    "        # parse and append jones_polynomial dictionary: index = degree of t, val = coefficient\n",
    "        for term in link.jones_polynomial().coefficients():\n",
    "            jp[term[1]] = term[0]\n",
    "        data['jones_polynomial'].append(jp)\n",
    "\n",
    "    df = pd.DataFrame(data)\n",
    "    \n",
    "    df.to_csv(f'data/{name}.csv', index=False)"
   ]
  },
  {
   "cell_type": "code",
   "execution_count": 7,
   "id": "dbc1ced1",
   "metadata": {
    "ExecuteTime": {
     "end_time": "2022-12-07T13:58:27.316150Z",
     "start_time": "2022-12-06T06:58:49.531586Z"
    },
    "scrolled": true
   },
   "outputs": [
    {
     "name": "stdout",
     "output_type": "stream",
     "text": [
      "Currently on iteration 1\n",
      "Currently on iteration 501\n",
      "Currently on iteration 1001\n",
      "Currently on iteration 1501\n",
      "Currently on iteration 2001\n",
      "Currently on iteration 2501\n",
      "Currently on iteration 3001\n",
      "Currently on iteration 3501\n",
      "Currently on iteration 4001\n",
      "Currently on iteration 4501\n",
      "Currently on iteration 5001\n",
      "Currently on iteration 5501\n",
      "Currently on iteration 6001\n",
      "Currently on iteration 6501\n",
      "Currently on iteration 7001\n",
      "Currently on iteration 7501\n",
      "Currently on iteration 8001\n",
      "Currently on iteration 8501\n",
      "Currently on iteration 9001\n",
      "Currently on iteration 9501\n",
      "Currently on iteration 10001\n",
      "Currently on iteration 10501\n",
      "Currently on iteration 11001\n",
      "Currently on iteration 11501\n",
      "Currently on iteration 12001\n",
      "Currently on iteration 12501\n",
      "Currently on iteration 13001\n",
      "Currently on iteration 13501\n",
      "Currently on iteration 14001\n",
      "Currently on iteration 14501\n",
      "Currently on iteration 15001\n",
      "Currently on iteration 15501\n",
      "Currently on iteration 16001\n",
      "Currently on iteration 16501\n",
      "Currently on iteration 17001\n",
      "Currently on iteration 17501\n",
      "Currently on iteration 18001\n",
      "Currently on iteration 18501\n",
      "Currently on iteration 19001\n",
      "Currently on iteration 19501\n",
      "Currently on iteration 20001\n",
      "Currently on iteration 20501\n",
      "Currently on iteration 21001\n",
      "Currently on iteration 21501\n",
      "Currently on iteration 22001\n",
      "Currently on iteration 22501\n",
      "Currently on iteration 23001\n",
      "Currently on iteration 23501\n",
      "Currently on iteration 24001\n",
      "Currently on iteration 24501\n",
      "Currently on iteration 25001\n",
      "Currently on iteration 25501\n",
      "Currently on iteration 26001\n",
      "Currently on iteration 26501\n",
      "Currently on iteration 27001\n",
      "Currently on iteration 27501\n",
      "Currently on iteration 28001\n",
      "Currently on iteration 28501\n",
      "Currently on iteration 29001\n",
      "Currently on iteration 29501\n",
      "Currently on iteration 30001\n",
      "Currently on iteration 30501\n",
      "Currently on iteration 31001\n",
      "Currently on iteration 31501\n",
      "Currently on iteration 32001\n",
      "Currently on iteration 32501\n",
      "Currently on iteration 33001\n",
      "Currently on iteration 33501\n",
      "Currently on iteration 34001\n",
      "Currently on iteration 34501\n",
      "Currently on iteration 35001\n",
      "Currently on iteration 35501\n",
      "Currently on iteration 36001\n",
      "Currently on iteration 36501\n",
      "Currently on iteration 37001\n",
      "Currently on iteration 37501\n",
      "Currently on iteration 38001\n",
      "Currently on iteration 38501\n",
      "Currently on iteration 39001\n",
      "Currently on iteration 39501\n",
      "Currently on iteration 40001\n",
      "Currently on iteration 40501\n",
      "Currently on iteration 41001\n",
      "Currently on iteration 41501\n",
      "Currently on iteration 42001\n",
      "Currently on iteration 42501\n",
      "Currently on iteration 43001\n",
      "Currently on iteration 43501\n",
      "Currently on iteration 44001\n",
      "Currently on iteration 44501\n",
      "Currently on iteration 45001\n",
      "Currently on iteration 45501\n",
      "Currently on iteration 46001\n",
      "Currently on iteration 46501\n",
      "Currently on iteration 47001\n",
      "Currently on iteration 47501\n",
      "Currently on iteration 48001\n",
      "Currently on iteration 48501\n",
      "Currently on iteration 49001\n",
      "Currently on iteration 49501\n"
     ]
    }
   ],
   "source": [
    "generate_dataset(50000, 9, \"new50000\")"
   ]
  }
 ],
 "metadata": {
  "kernelspec": {
   "display_name": "SageMath 9.6",
   "language": "sage",
   "name": "sagemath"
  },
  "language_info": {
   "codemirror_mode": {
    "name": "ipython",
    "version": 3
   },
   "file_extension": ".py",
   "mimetype": "text/x-python",
   "name": "python",
   "nbconvert_exporter": "python",
   "pygments_lexer": "ipython3",
   "version": "3.8.10"
  }
 },
 "nbformat": 4,
 "nbformat_minor": 5
}

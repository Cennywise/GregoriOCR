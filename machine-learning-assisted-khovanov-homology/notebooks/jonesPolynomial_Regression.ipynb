{
 "cells": [
  {
   "cell_type": "code",
   "execution_count": 97,
   "id": "4cea46eb",
   "metadata": {},
   "outputs": [],
   "source": [
    "import numpy as np\n",
    "import pandas as pd\n",
    "from numpy import linalg as LA\n",
    "import seaborn as sns\n",
    "import math\n",
    "import os\n",
    "from sklearn.model_selection import train_test_split"
   ]
  },
  {
   "cell_type": "code",
   "execution_count": 98,
   "id": "10ad9e9c",
   "metadata": {},
   "outputs": [
    {
     "data": {
      "text/plain": [
       "'/mnt/c/Users/12428/Documents/GitHub/MAT_180_ML_Projects/machine-learning-assisted-khovanov-homology'"
      ]
     },
     "execution_count": 98,
     "metadata": {},
     "output_type": "execute_result"
    }
   ],
   "source": [
    "os.getcwd()"
   ]
  },
  {
   "cell_type": "code",
   "execution_count": 3,
   "id": "6daf66cd",
   "metadata": {},
   "outputs": [],
   "source": [
    "os.chdir(\"..\")"
   ]
  },
  {
   "cell_type": "code",
   "execution_count": 100,
   "id": "39e8050b",
   "metadata": {},
   "outputs": [],
   "source": [
    "from scripts.polynomial import add_poly_terms\n",
    "from scripts.GDLinearReg import J, DJ, GD_linreg_improved\n",
    "from scripts.predictAccuracy import prediction, accuracy\n",
    "from scripts.getGridsDimensions import find_max_min_jones"
   ]
  },
  {
   "cell_type": "markdown",
   "id": "7a6e926a",
   "metadata": {},
   "source": [
    "# Step1. Read Dataset"
   ]
  },
  {
   "cell_type": "code",
   "execution_count": 101,
   "id": "35d5f2c4",
   "metadata": {},
   "outputs": [],
   "source": [
    "df = pd.read_csv('data/dataset_C.csv')"
   ]
  },
  {
   "cell_type": "code",
   "execution_count": 102,
   "id": "765bd54d",
   "metadata": {},
   "outputs": [
    {
     "data": {
      "text/html": [
       "<div>\n",
       "<style scoped>\n",
       "    .dataframe tbody tr th:only-of-type {\n",
       "        vertical-align: middle;\n",
       "    }\n",
       "\n",
       "    .dataframe tbody tr th {\n",
       "        vertical-align: top;\n",
       "    }\n",
       "\n",
       "    .dataframe thead th {\n",
       "        text-align: right;\n",
       "    }\n",
       "</style>\n",
       "<table border=\"1\" class=\"dataframe\">\n",
       "  <thead>\n",
       "    <tr style=\"text-align: right;\">\n",
       "      <th></th>\n",
       "      <th>braid</th>\n",
       "      <th>components</th>\n",
       "      <th>khovanov_homology</th>\n",
       "      <th>free_part</th>\n",
       "      <th>torsion_part</th>\n",
       "      <th>free_part_count</th>\n",
       "      <th>torsion_part_count</th>\n",
       "      <th>total_num_FP_per_row</th>\n",
       "      <th>total_num_FP_per_column</th>\n",
       "      <th>jones_polynomial</th>\n",
       "    </tr>\n",
       "  </thead>\n",
       "  <tbody>\n",
       "    <tr>\n",
       "      <th>0</th>\n",
       "      <td>[2, 2, 1, -2, 2, 1, -1, -1, 2]</td>\n",
       "      <td>1</td>\n",
       "      <td>{1: {0: Z}, 3: {0: Z, 1: 0, 2: 0, 3: 0}, 5: {0...</td>\n",
       "      <td>{(1, 0): 1, (3, 0): 1, (5, 2): 1, (9, 3): 1}</td>\n",
       "      <td>{(7, 3): {2: 1}}</td>\n",
       "      <td>4</td>\n",
       "      <td>1</td>\n",
       "      <td>{1: 1, 3: 1, 5: 1, 9: 1}</td>\n",
       "      <td>{0: 2, 2: 1, 3: 1}</td>\n",
       "      <td>{1: 1, 3: 1, 4: -1}</td>\n",
       "    </tr>\n",
       "    <tr>\n",
       "      <th>1</th>\n",
       "      <td>[-2, -1, 1, -3, -1, 2, -3, -2, -1]</td>\n",
       "      <td>1</td>\n",
       "      <td>{-13: {-6: 0, -5: Z, -4: 0}, -11: {-6: 0, -5: ...</td>\n",
       "      <td>{(-13, -5): 1, (-9, -4): 1, (-9, -3): 1, (-7, ...</td>\n",
       "      <td>{(-11, -4): {2: 1}, (-7, -2): {2: 1}, (-5, -1)...</td>\n",
       "      <td>8</td>\n",
       "      <td>3</td>\n",
       "      <td>{-13: 1, -9: 2, -7: 1, -5: 1, -3: 2, -1: 1}</td>\n",
       "      <td>{-5: 1, -4: 1, -3: 1, -2: 2, -1: 1, 0: 2}</td>\n",
       "      <td>{-6: -1, -5: 1, -4: -1, -3: 2, -2: -1, -1: 1}</td>\n",
       "    </tr>\n",
       "    <tr>\n",
       "      <th>2</th>\n",
       "      <td>[-3, -2, 3, -2, -1, -1, 1, -3, -1]</td>\n",
       "      <td>3</td>\n",
       "      <td>{-15: {-6: Z}, -13: {-6: Z, -5: 0, -4: 0, -3: ...</td>\n",
       "      <td>{(-15, -6): 1, (-13, -6): 1, (-11, -4): 2, (-9...</td>\n",
       "      <td>{(-9, -3): {2: 1}, (-5, -1): {2: 1}}</td>\n",
       "      <td>12</td>\n",
       "      <td>2</td>\n",
       "      <td>{-15: 1, -13: 1, -11: 2, -9: 1, -7: 3, -5: 1, ...</td>\n",
       "      <td>{-6: 2, -4: 3, -3: 1, -2: 3, -1: 1, 0: 2}</td>\n",
       "      <td>{-7: 1, -5: 2, -4: -1, -3: 2, -2: -1, -1: 1}</td>\n",
       "    </tr>\n",
       "    <tr>\n",
       "      <th>3</th>\n",
       "      <td>[3, 3, 2, 3, -1, -2, 2, 3, 3]</td>\n",
       "      <td>1</td>\n",
       "      <td>{1: {-1: 0, 0: 0}, 3: {-1: 0, 0: Z, 1: 0, 2: 0...</td>\n",
       "      <td>{(3, 0): 1, (5, 0): 1, (7, 2): 1, (11, 3): 1, ...</td>\n",
       "      <td>{(9, 3): {2: 1}, (13, 5): {2: 1}}</td>\n",
       "      <td>6</td>\n",
       "      <td>2</td>\n",
       "      <td>{3: 1, 5: 1, 7: 1, 11: 2, 15: 1}</td>\n",
       "      <td>{0: 2, 2: 1, 3: 1, 4: 1, 5: 1}</td>\n",
       "      <td>{2: 1, 4: 1, 5: -1, 6: 1, 7: -1}</td>\n",
       "    </tr>\n",
       "    <tr>\n",
       "      <th>4</th>\n",
       "      <td>[-3, -3, 2, -2, 2, 1, -3, -3, -3]</td>\n",
       "      <td>1</td>\n",
       "      <td>{-15: {-5: Z}, -13: {-5: 0, -4: C2}, -11: {-5:...</td>\n",
       "      <td>{(-15, -5): 1, (-11, -4): 1, (-11, -3): 1, (-7...</td>\n",
       "      <td>{(-13, -4): {2: 1}, (-9, -2): {2: 1}}</td>\n",
       "      <td>6</td>\n",
       "      <td>2</td>\n",
       "      <td>{-15: 1, -11: 2, -7: 1, -5: 1, -3: 1}</td>\n",
       "      <td>{-5: 1, -4: 1, -3: 1, -2: 1, 0: 2}</td>\n",
       "      <td>{-7: -1, -6: 1, -5: -1, -4: 1, -2: 1}</td>\n",
       "    </tr>\n",
       "    <tr>\n",
       "      <th>...</th>\n",
       "      <td>...</td>\n",
       "      <td>...</td>\n",
       "      <td>...</td>\n",
       "      <td>...</td>\n",
       "      <td>...</td>\n",
       "      <td>...</td>\n",
       "      <td>...</td>\n",
       "      <td>...</td>\n",
       "      <td>...</td>\n",
       "      <td>...</td>\n",
       "    </tr>\n",
       "    <tr>\n",
       "      <th>2526</th>\n",
       "      <td>[3, 1, 3, -1, -1, -1, -1, -1, -1]</td>\n",
       "      <td>3</td>\n",
       "      <td>{-17: {-6: 0, -5: 0}, -15: {-6: 0, -5: Z, -4: ...</td>\n",
       "      <td>{(-15, -5): 1, (-13, -5): 1, (-11, -4): 1, (-1...</td>\n",
       "      <td>{(-13, -4): {2: 1}, (-11, -4): {2: 1}, (-9, -2...</td>\n",
       "      <td>24</td>\n",
       "      <td>8</td>\n",
       "      <td>{-15: 1, -13: 1, -11: 3, -9: 3, -7: 3, -5: 4, ...</td>\n",
       "      <td>{-5: 2, -4: 2, -3: 4, -2: 4, -1: 2, 0: 6, 2: 4}</td>\n",
       "      <td>{-7: -1, -5: -1, -3: 1, -2: 1, -1: 2, 0: 1, 1: 1}</td>\n",
       "    </tr>\n",
       "    <tr>\n",
       "      <th>2527</th>\n",
       "      <td>[2, 2, 2, -1, -2, -3, -2, -1, -3]</td>\n",
       "      <td>1</td>\n",
       "      <td>{-11: {-6: 0, -5: Z, -4: 0}, -9: {-6: 0, -5: 0...</td>\n",
       "      <td>{(-11, -5): 1, (-7, -4): 1, (-7, -3): 1, (-5, ...</td>\n",
       "      <td>{(-9, -4): {2: 1}, (-5, -2): {2: 1}, (-3, -1):...</td>\n",
       "      <td>10</td>\n",
       "      <td>4</td>\n",
       "      <td>{-11: 1, -7: 2, -5: 1, -3: 1, -1: 3, 1: 1, 3: 1}</td>\n",
       "      <td>{-5: 1, -4: 1, -3: 1, -2: 2, -1: 1, 0: 3, 1: 1}</td>\n",
       "      <td>{-5: -1, -4: 1, -3: -1, -2: 2, -1: -1, 0: 2, 1...</td>\n",
       "    </tr>\n",
       "    <tr>\n",
       "      <th>2528</th>\n",
       "      <td>[2, 2, -1, 3, -1, -2, -2, -1, -1]</td>\n",
       "      <td>3</td>\n",
       "      <td>{-15: {-6: Z}, -13: {-6: 0, -5: Z x C2, -4: 0}...</td>\n",
       "      <td>{(-15, -6): 1, (-13, -5): 1, (-11, -5): 1, (-1...</td>\n",
       "      <td>{(-13, -5): {2: 1}, (-11, -4): {2: 1}, (-7, -2...</td>\n",
       "      <td>20</td>\n",
       "      <td>6</td>\n",
       "      <td>{-15: 1, -13: 1, -11: 3, -9: 5, -7: 2, -5: 2, ...</td>\n",
       "      <td>{-6: 1, -5: 2, -4: 5, -3: 2, -2: 4, -1: 2, 0: 4}</td>\n",
       "      <td>{-7: 1, -6: -2, -5: 3, -4: -2, -3: 4, -2: -2, ...</td>\n",
       "    </tr>\n",
       "    <tr>\n",
       "      <th>2529</th>\n",
       "      <td>[2, -3, -3, 2, -3, -1, -2, -1, 2]</td>\n",
       "      <td>1</td>\n",
       "      <td>{-13: {-6: 0, -5: 0}, -11: {-6: 0, -5: 0, -4: ...</td>\n",
       "      <td>{(-9, -3): 1, (-5, -2): 1, (-3, 0): 1, (-1, 0)...</td>\n",
       "      <td>{(-7, -2): {2: 1}}</td>\n",
       "      <td>4</td>\n",
       "      <td>1</td>\n",
       "      <td>{-9: 1, -5: 1, -3: 1, -1: 1}</td>\n",
       "      <td>{-3: 1, -2: 1, 0: 2}</td>\n",
       "      <td>{-4: -1, -3: 1, -1: 1}</td>\n",
       "    </tr>\n",
       "    <tr>\n",
       "      <th>2530</th>\n",
       "      <td>[-1, 2, -3, -1, -2, -2, -1, 3, 2]</td>\n",
       "      <td>3</td>\n",
       "      <td>{-13: {-6: 0, -5: Z}, -11: {-6: 0, -5: 0, -4: ...</td>\n",
       "      <td>{(-13, -5): 1, (-11, -4): 1, (-9, -4): 1, (-9,...</td>\n",
       "      <td>{(-11, -4): {2: 1}, (-9, -3): {2: 1}, (-7, -2)...</td>\n",
       "      <td>20</td>\n",
       "      <td>6</td>\n",
       "      <td>{-13: 1, -11: 1, -9: 2, -7: 4, -5: 4, -3: 3, -...</td>\n",
       "      <td>{-5: 1, -4: 2, -3: 2, -2: 6, -1: 2, 0: 5, 1: 1...</td>\n",
       "      <td>{-6: -1, -5: 2, -4: -2, -3: 4, -2: -2, -1: 3, ...</td>\n",
       "    </tr>\n",
       "  </tbody>\n",
       "</table>\n",
       "<p>2531 rows × 10 columns</p>\n",
       "</div>"
      ],
      "text/plain": [
       "                                   braid  components  \\\n",
       "0         [2, 2, 1, -2, 2, 1, -1, -1, 2]           1   \n",
       "1     [-2, -1, 1, -3, -1, 2, -3, -2, -1]           1   \n",
       "2     [-3, -2, 3, -2, -1, -1, 1, -3, -1]           3   \n",
       "3          [3, 3, 2, 3, -1, -2, 2, 3, 3]           1   \n",
       "4      [-3, -3, 2, -2, 2, 1, -3, -3, -3]           1   \n",
       "...                                  ...         ...   \n",
       "2526   [3, 1, 3, -1, -1, -1, -1, -1, -1]           3   \n",
       "2527   [2, 2, 2, -1, -2, -3, -2, -1, -3]           1   \n",
       "2528   [2, 2, -1, 3, -1, -2, -2, -1, -1]           3   \n",
       "2529   [2, -3, -3, 2, -3, -1, -2, -1, 2]           1   \n",
       "2530   [-1, 2, -3, -1, -2, -2, -1, 3, 2]           3   \n",
       "\n",
       "                                      khovanov_homology  \\\n",
       "0     {1: {0: Z}, 3: {0: Z, 1: 0, 2: 0, 3: 0}, 5: {0...   \n",
       "1     {-13: {-6: 0, -5: Z, -4: 0}, -11: {-6: 0, -5: ...   \n",
       "2     {-15: {-6: Z}, -13: {-6: Z, -5: 0, -4: 0, -3: ...   \n",
       "3     {1: {-1: 0, 0: 0}, 3: {-1: 0, 0: Z, 1: 0, 2: 0...   \n",
       "4     {-15: {-5: Z}, -13: {-5: 0, -4: C2}, -11: {-5:...   \n",
       "...                                                 ...   \n",
       "2526  {-17: {-6: 0, -5: 0}, -15: {-6: 0, -5: Z, -4: ...   \n",
       "2527  {-11: {-6: 0, -5: Z, -4: 0}, -9: {-6: 0, -5: 0...   \n",
       "2528  {-15: {-6: Z}, -13: {-6: 0, -5: Z x C2, -4: 0}...   \n",
       "2529  {-13: {-6: 0, -5: 0}, -11: {-6: 0, -5: 0, -4: ...   \n",
       "2530  {-13: {-6: 0, -5: Z}, -11: {-6: 0, -5: 0, -4: ...   \n",
       "\n",
       "                                              free_part  \\\n",
       "0          {(1, 0): 1, (3, 0): 1, (5, 2): 1, (9, 3): 1}   \n",
       "1     {(-13, -5): 1, (-9, -4): 1, (-9, -3): 1, (-7, ...   \n",
       "2     {(-15, -6): 1, (-13, -6): 1, (-11, -4): 2, (-9...   \n",
       "3     {(3, 0): 1, (5, 0): 1, (7, 2): 1, (11, 3): 1, ...   \n",
       "4     {(-15, -5): 1, (-11, -4): 1, (-11, -3): 1, (-7...   \n",
       "...                                                 ...   \n",
       "2526  {(-15, -5): 1, (-13, -5): 1, (-11, -4): 1, (-1...   \n",
       "2527  {(-11, -5): 1, (-7, -4): 1, (-7, -3): 1, (-5, ...   \n",
       "2528  {(-15, -6): 1, (-13, -5): 1, (-11, -5): 1, (-1...   \n",
       "2529  {(-9, -3): 1, (-5, -2): 1, (-3, 0): 1, (-1, 0)...   \n",
       "2530  {(-13, -5): 1, (-11, -4): 1, (-9, -4): 1, (-9,...   \n",
       "\n",
       "                                           torsion_part  free_part_count  \\\n",
       "0                                      {(7, 3): {2: 1}}                4   \n",
       "1     {(-11, -4): {2: 1}, (-7, -2): {2: 1}, (-5, -1)...                8   \n",
       "2                  {(-9, -3): {2: 1}, (-5, -1): {2: 1}}               12   \n",
       "3                     {(9, 3): {2: 1}, (13, 5): {2: 1}}                6   \n",
       "4                 {(-13, -4): {2: 1}, (-9, -2): {2: 1}}                6   \n",
       "...                                                 ...              ...   \n",
       "2526  {(-13, -4): {2: 1}, (-11, -4): {2: 1}, (-9, -2...               24   \n",
       "2527  {(-9, -4): {2: 1}, (-5, -2): {2: 1}, (-3, -1):...               10   \n",
       "2528  {(-13, -5): {2: 1}, (-11, -4): {2: 1}, (-7, -2...               20   \n",
       "2529                                 {(-7, -2): {2: 1}}                4   \n",
       "2530  {(-11, -4): {2: 1}, (-9, -3): {2: 1}, (-7, -2)...               20   \n",
       "\n",
       "      torsion_part_count                               total_num_FP_per_row  \\\n",
       "0                      1                           {1: 1, 3: 1, 5: 1, 9: 1}   \n",
       "1                      3        {-13: 1, -9: 2, -7: 1, -5: 1, -3: 2, -1: 1}   \n",
       "2                      2  {-15: 1, -13: 1, -11: 2, -9: 1, -7: 3, -5: 1, ...   \n",
       "3                      2                   {3: 1, 5: 1, 7: 1, 11: 2, 15: 1}   \n",
       "4                      2              {-15: 1, -11: 2, -7: 1, -5: 1, -3: 1}   \n",
       "...                  ...                                                ...   \n",
       "2526                   8  {-15: 1, -13: 1, -11: 3, -9: 3, -7: 3, -5: 4, ...   \n",
       "2527                   4   {-11: 1, -7: 2, -5: 1, -3: 1, -1: 3, 1: 1, 3: 1}   \n",
       "2528                   6  {-15: 1, -13: 1, -11: 3, -9: 5, -7: 2, -5: 2, ...   \n",
       "2529                   1                       {-9: 1, -5: 1, -3: 1, -1: 1}   \n",
       "2530                   6  {-13: 1, -11: 1, -9: 2, -7: 4, -5: 4, -3: 3, -...   \n",
       "\n",
       "                                total_num_FP_per_column  \\\n",
       "0                                    {0: 2, 2: 1, 3: 1}   \n",
       "1             {-5: 1, -4: 1, -3: 1, -2: 2, -1: 1, 0: 2}   \n",
       "2             {-6: 2, -4: 3, -3: 1, -2: 3, -1: 1, 0: 2}   \n",
       "3                        {0: 2, 2: 1, 3: 1, 4: 1, 5: 1}   \n",
       "4                    {-5: 1, -4: 1, -3: 1, -2: 1, 0: 2}   \n",
       "...                                                 ...   \n",
       "2526    {-5: 2, -4: 2, -3: 4, -2: 4, -1: 2, 0: 6, 2: 4}   \n",
       "2527    {-5: 1, -4: 1, -3: 1, -2: 2, -1: 1, 0: 3, 1: 1}   \n",
       "2528   {-6: 1, -5: 2, -4: 5, -3: 2, -2: 4, -1: 2, 0: 4}   \n",
       "2529                               {-3: 1, -2: 1, 0: 2}   \n",
       "2530  {-5: 1, -4: 2, -3: 2, -2: 6, -1: 2, 0: 5, 1: 1...   \n",
       "\n",
       "                                       jones_polynomial  \n",
       "0                                   {1: 1, 3: 1, 4: -1}  \n",
       "1         {-6: -1, -5: 1, -4: -1, -3: 2, -2: -1, -1: 1}  \n",
       "2          {-7: 1, -5: 2, -4: -1, -3: 2, -2: -1, -1: 1}  \n",
       "3                      {2: 1, 4: 1, 5: -1, 6: 1, 7: -1}  \n",
       "4                 {-7: -1, -6: 1, -5: -1, -4: 1, -2: 1}  \n",
       "...                                                 ...  \n",
       "2526  {-7: -1, -5: -1, -3: 1, -2: 1, -1: 2, 0: 1, 1: 1}  \n",
       "2527  {-5: -1, -4: 1, -3: -1, -2: 2, -1: -1, 0: 2, 1...  \n",
       "2528  {-7: 1, -6: -2, -5: 3, -4: -2, -3: 4, -2: -2, ...  \n",
       "2529                             {-4: -1, -3: 1, -1: 1}  \n",
       "2530  {-6: -1, -5: 2, -4: -2, -3: 4, -2: -2, -1: 3, ...  \n",
       "\n",
       "[2531 rows x 10 columns]"
      ]
     },
     "execution_count": 102,
     "metadata": {},
     "output_type": "execute_result"
    }
   ],
   "source": [
    "df"
   ]
  },
  {
   "cell_type": "code",
   "execution_count": 103,
   "id": "4c082450",
   "metadata": {},
   "outputs": [],
   "source": [
    "def fit(X, y, epsilon, lambda_, max_iters = 10000, poly_terms = 1):\n",
    "    print(f'Running polynomial regression of degree {poly_terms} \\n')\n",
    "    \n",
    "    v, costs =  GD_linreg_improved(add_poly_terms(X, poly_terms), y, epsilon, lambda_, max_iters) \n",
    "    \n",
    "    print(f'\\nFinal cost is {costs[-1]}\\n')\n",
    "    return v, costs"
   ]
  },
  {
   "cell_type": "code",
   "execution_count": 104,
   "id": "61f24e2c",
   "metadata": {},
   "outputs": [
    {
     "data": {
      "text/plain": [
       "(13, -13)"
      ]
     },
     "execution_count": 104,
     "metadata": {},
     "output_type": "execute_result"
    }
   ],
   "source": [
    "find_max, find_min = find_max_min_jones(df)\n",
    "(find_max, find_min)"
   ]
  },
  {
   "cell_type": "code",
   "execution_count": 105,
   "id": "d9878666",
   "metadata": {},
   "outputs": [],
   "source": [
    "# # only use this for 1-component links\n",
    "# def gen_matrix(Jones,col):\n",
    "#     row = len(Jones)\n",
    "#     a = np.empty([row,col])\n",
    "#     for i in range(row):\n",
    "#         for key in Jones[i].keys():\n",
    "#             a[i,key] =  Jones[i][key]\n",
    "#         if key == \"\":\n",
    "#             a[i,key] = 0\n",
    "#     return a\n",
    "\n",
    "# \n",
    "def gen_all_keys(jones,col):\n",
    "    row = len(jones)\n",
    "    a = []\n",
    "    for i in range(row):\n",
    "        for key in jones[i].keys():\n",
    "            if key not in a:\n",
    "                a.append(key)\n",
    "    return a\n",
    "\n",
    "# use this for multiple-components links\n",
    "def gen_matrix_jones(jones,keys):\n",
    "    row = len(jones)\n",
    "    col = len(keys)\n",
    "    m = np.zeros([row,col])\n",
    "    for i in range(col):\n",
    "        for j in range(len(jones)):\n",
    "            for key,degree in jones[j].items():\n",
    "                if key == keys[i]:\n",
    "                    m[j,i] = degree\n",
    "    return m\n",
    "\n",
    "# vectorize the eval function\n",
    "ev = np.vectorize(eval)"
   ]
  },
  {
   "cell_type": "markdown",
   "id": "4c6afdd7",
   "metadata": {},
   "source": [
    "# Step2. Train model and make prediction using links with multiple-components"
   ]
  },
  {
   "cell_type": "code",
   "execution_count": 106,
   "id": "83e2e271",
   "metadata": {},
   "outputs": [],
   "source": [
    "# prediciton with multiple-component link\n",
    "Jones = ev(df[\"jones_polynomial\"])\n",
    "\n",
    "# get all the features\n",
    "keys = gen_all_keys(Jones,find_max-find_min+1)\n",
    "keys.sort()"
   ]
  },
  {
   "cell_type": "code",
   "execution_count": 107,
   "id": "6dc01441",
   "metadata": {},
   "outputs": [],
   "source": [
    "X = gen_matrix_jones(Jones,keys)\n",
    "y = np.array(df['torsion_part_count']).reshape(-1,1)"
   ]
  },
  {
   "cell_type": "code",
   "execution_count": 108,
   "id": "8248b39a",
   "metadata": {},
   "outputs": [],
   "source": [
    "X_train, X_test, y_train, y_test = train_test_split(X, y, test_size=0.2, random_state=1)\n",
    "X_train, X_val, y_train, y_val = train_test_split(X_train, y_train, test_size=0.25, random_state=1)"
   ]
  },
  {
   "cell_type": "code",
   "execution_count": 109,
   "id": "19c60e30",
   "metadata": {},
   "outputs": [
    {
     "name": "stdout",
     "output_type": "stream",
     "text": [
      "Running polynomial regression of degree 1 \n",
      "\n",
      "After 0 steps the cost is 37.69038208168644\n",
      "After 999 steps the cost is 9.710083778338808\n",
      "\n",
      "Final cost is 9.709620385051792\n",
      "\n",
      "Accuracy of training set is: 0.1251646903820817\n",
      "Accuracy of validation set is: 0.15612648221343872\n",
      "Accuracy of test set is: 0.1341222879684418\n"
     ]
    }
   ],
   "source": [
    "degree = 1\n",
    "\n",
    "v, costs = fit(X_train, y_train, epsilon = 1e-10, lambda_ = 0, max_iters = 1000, poly_terms = degree)\n",
    "\n",
    "print(f'Accuracy of training set is: {accuracy(add_poly_terms(X_train, degree),v,y_train)}')\n",
    "print(f'Accuracy of validation set is: {accuracy(add_poly_terms(X_val, degree),v,y_val)}')\n",
    "print(f'Accuracy of test set is: {accuracy(add_poly_terms(X_test, degree),v,y_test)}')"
   ]
  },
  {
   "cell_type": "code",
   "execution_count": 45,
   "id": "3f0b2b84",
   "metadata": {},
   "outputs": [],
   "source": [
    "# #try to get a dataframe and plot to see the relationships of features\n",
    "# X_df = pd.DataFrame(X)\n",
    "# X_df['torsion_part_count'] = df['torsion_part_count']\n",
    "# X_df"
   ]
  },
  {
   "cell_type": "code",
   "execution_count": 46,
   "id": "2a72351d",
   "metadata": {},
   "outputs": [],
   "source": [
    "# # took too long to generate the image\n",
    "# sns.pairplot(X_df)"
   ]
  },
  {
   "cell_type": "code",
   "execution_count": 47,
   "id": "aa54515c",
   "metadata": {},
   "outputs": [
    {
     "name": "stdout",
     "output_type": "stream",
     "text": [
      "Running polynomial regression of degree 2 \n",
      "\n",
      "After 0 steps the cost is 37.69038208168644\n",
      "After 999 steps the cost is 3.111102935776602\n",
      "\n",
      "Final cost is 3.1105636008279047\n",
      "\n",
      "Accuracy of training set is: 0.3188405797101449\n",
      "Accuracy of validation set is: 0.31225296442687744\n",
      "Accuracy of test set is: 0.3431952662721893\n"
     ]
    }
   ],
   "source": [
    "degree = 2\n",
    "\n",
    "v, costs = fit(X_train, y_train, epsilon = 1e-10, lambda_ = 0, max_iters = 1000, poly_terms = degree)\n",
    "\n",
    "print(f'Accuracy of training set is: {accuracy(add_poly_terms(X_train, degree),v,y_train)}')\n",
    "print(f'Accuracy of validation set is: {accuracy(add_poly_terms(X_val, degree),v,y_val)}')\n",
    "print(f'Accuracy of test set is: {accuracy(add_poly_terms(X_test, degree),v,y_test)}')"
   ]
  },
  {
   "cell_type": "markdown",
   "id": "55212bf0",
   "metadata": {},
   "source": [
    "# Step3. Train model and make prediction using links with 1-component only"
   ]
  },
  {
   "cell_type": "code",
   "execution_count": 114,
   "id": "7ad07d50",
   "metadata": {},
   "outputs": [],
   "source": [
    "# prediciton with 1-component link\n",
    "Jones = ev(df[df.components == 1][\"jones_polynomial\"])\n",
    "\n",
    "# get all the features\n",
    "keys = gen_all_keys(Jones,find_max-find_min+1)\n",
    "keys.sort()"
   ]
  },
  {
   "cell_type": "code",
   "execution_count": 115,
   "id": "eb928f92",
   "metadata": {},
   "outputs": [],
   "source": [
    "X = gen_matrix_jones(Jones,keys)\n",
    "y = np.array(df[df.components == 1]['torsion_part_count']).reshape(-1,1)"
   ]
  },
  {
   "cell_type": "code",
   "execution_count": 116,
   "id": "5050a585",
   "metadata": {},
   "outputs": [],
   "source": [
    "X_train, X_test, y_train, y_test = train_test_split(X, y, test_size=0.2, random_state=1)\n",
    "X_train, X_val, y_train, y_val = train_test_split(X_train, y_train, test_size=0.25, random_state=1)"
   ]
  },
  {
   "cell_type": "code",
   "execution_count": 117,
   "id": "6651ce00",
   "metadata": {},
   "outputs": [
    {
     "name": "stdout",
     "output_type": "stream",
     "text": [
      "Running polynomial regression of degree 1 \n",
      "\n",
      "After 0 steps the cost is 34.95317220543806\n",
      "After 999 steps the cost is 7.918113981433843\n",
      "\n",
      "Final cost is 7.918055053643977\n",
      "\n",
      "Accuracy of training set is: 0.12084592145015106\n",
      "Accuracy of validation set is: 0.13122171945701358\n",
      "Accuracy of test set is: 0.08597285067873303\n"
     ]
    }
   ],
   "source": [
    "degree = 1\n",
    "\n",
    "v, costs = fit(X_train, y_train, epsilon = 1e-10, lambda_ = 0, max_iters = 1000, poly_terms = degree)\n",
    "\n",
    "print(f'Accuracy of training set is: {accuracy(add_poly_terms(X_train, degree),v,y_train)}')\n",
    "print(f'Accuracy of validation set is: {accuracy(add_poly_terms(X_val, degree),v,y_val)}')\n",
    "print(f'Accuracy of test set is: {accuracy(add_poly_terms(X_test, degree),v,y_test)}')"
   ]
  },
  {
   "cell_type": "markdown",
   "id": "4c8301f2",
   "metadata": {},
   "source": [
    "# Step4. Train model and make prediction using links with 2-components only"
   ]
  },
  {
   "cell_type": "code",
   "execution_count": 118,
   "id": "79ea4c97",
   "metadata": {},
   "outputs": [],
   "source": [
    "# prediciton with 2-components link\n",
    "Jones = ev(df[df.components == 2][\"jones_polynomial\"])\n",
    "\n",
    "# get all the features\n",
    "keys = gen_all_keys(Jones,find_max-find_min+1)\n",
    "keys.sort()"
   ]
  },
  {
   "cell_type": "code",
   "execution_count": 119,
   "id": "3b559e9e",
   "metadata": {},
   "outputs": [],
   "source": [
    "X = gen_matrix_jones(Jones,keys)\n",
    "y = np.array(df[df.components == 2]['torsion_part_count']).reshape(-1,1)"
   ]
  },
  {
   "cell_type": "code",
   "execution_count": 120,
   "id": "5a97f228",
   "metadata": {},
   "outputs": [],
   "source": [
    "X_train, X_test, y_train, y_test = train_test_split(X, y, test_size=0.2, random_state=1)\n",
    "X_train, X_val, y_train, y_val = train_test_split(X_train, y_train, test_size=0.25, random_state=1)"
   ]
  },
  {
   "cell_type": "code",
   "execution_count": 121,
   "id": "3197f27b",
   "metadata": {},
   "outputs": [
    {
     "name": "stdout",
     "output_type": "stream",
     "text": [
      "Running polynomial regression of degree 1 \n",
      "\n",
      "After 0 steps the cost is 27.086956521739136\n",
      "After 999 steps the cost is 7.317935403175287\n",
      "\n",
      "Final cost is 7.317850215663211\n",
      "\n",
      "Accuracy of training set is: 0.20652173913043478\n",
      "Accuracy of validation set is: 0.16129032258064516\n",
      "Accuracy of test set is: 0.1774193548387097\n"
     ]
    }
   ],
   "source": [
    "degree = 1\n",
    "\n",
    "v, costs = fit(X_train, y_train, epsilon = 1e-10, lambda_ = 0, max_iters = 1000, poly_terms = degree)\n",
    "\n",
    "print(f'Accuracy of training set is: {accuracy(add_poly_terms(X_train, degree),v,y_train)}')\n",
    "print(f'Accuracy of validation set is: {accuracy(add_poly_terms(X_val, degree),v,y_val)}')\n",
    "print(f'Accuracy of test set is: {accuracy(add_poly_terms(X_test, degree),v,y_test)}')"
   ]
  },
  {
   "cell_type": "markdown",
   "id": "b75889fc",
   "metadata": {},
   "source": [
    "# Step5. Train model and make prediction using links with 3-components only"
   ]
  },
  {
   "cell_type": "code",
   "execution_count": 122,
   "id": "cd098cd7",
   "metadata": {},
   "outputs": [],
   "source": [
    "# prediciton with 3-components link\n",
    "Jones = ev(df[df.components == 3][\"jones_polynomial\"])\n",
    "\n",
    "# get all the features\n",
    "keys = gen_all_keys(Jones,find_max-find_min+1)\n",
    "keys.sort()"
   ]
  },
  {
   "cell_type": "code",
   "execution_count": 123,
   "id": "02bc53a2",
   "metadata": {},
   "outputs": [],
   "source": [
    "X = gen_matrix_jones(Jones,keys)\n",
    "y = np.array(df[df.components == 3]['torsion_part_count']).reshape(-1,1)"
   ]
  },
  {
   "cell_type": "code",
   "execution_count": 124,
   "id": "8d0a6629",
   "metadata": {},
   "outputs": [],
   "source": [
    "X_train, X_test, y_train, y_test = train_test_split(X, y, test_size=0.2, random_state=1)\n",
    "X_train, X_val, y_train, y_val = train_test_split(X_train, y_train, test_size=0.25, random_state=1)"
   ]
  },
  {
   "cell_type": "code",
   "execution_count": 125,
   "id": "28702704",
   "metadata": {},
   "outputs": [
    {
     "name": "stdout",
     "output_type": "stream",
     "text": [
      "Running polynomial regression of degree 1 \n",
      "\n",
      "After 0 steps the cost is 38.46795827123695\n",
      "After 999 steps the cost is 9.970865349347234\n",
      "\n",
      "Final cost is 9.970569137043912\n",
      "\n",
      "Accuracy of training set is: 0.18777943368107303\n",
      "Accuracy of validation set is: 0.21875\n",
      "Accuracy of test set is: 0.19196428571428573\n"
     ]
    }
   ],
   "source": [
    "degree = 1\n",
    "\n",
    "v, costs = fit(X_train, y_train, epsilon = 1e-10, lambda_ = 0, max_iters = 1000, poly_terms = degree)\n",
    "\n",
    "print(f'Accuracy of training set is: {accuracy(add_poly_terms(X_train, degree),v,y_train)}')\n",
    "print(f'Accuracy of validation set is: {accuracy(add_poly_terms(X_val, degree),v,y_val)}')\n",
    "print(f'Accuracy of test set is: {accuracy(add_poly_terms(X_test, degree),v,y_test)}')"
   ]
  },
  {
   "cell_type": "markdown",
   "id": "f84a8043",
   "metadata": {},
   "source": [
    "# Step6. Train the Regression model from Scikit-Learn and make prediction using links with multiple-components"
   ]
  },
  {
   "cell_type": "code",
   "execution_count": 75,
   "id": "1fe9c7f5",
   "metadata": {},
   "outputs": [],
   "source": [
    "# try to make prediction using LinearRegression and libraries from sklearn\n",
    "from sklearn.linear_model import LinearRegression\n",
    "from sklearn.metrics import classification_report\n",
    "\n",
    "# import libraries for Polynomial Regression\n",
    "from sklearn.preprocessing import PolynomialFeatures"
   ]
  },
  {
   "cell_type": "code",
   "execution_count": 76,
   "id": "eb352f0b",
   "metadata": {},
   "outputs": [],
   "source": [
    "# function to compute accuracy\n",
    "def find_accuracy(y_pred, y_true):\n",
    "    accur_count = 0\n",
    "    for index,y in enumerate(y_pred):\n",
    "        if y == math.ceil(y_true[index]):\n",
    "            accur_count += 1\n",
    "    return accur_count/len(y_true)"
   ]
  },
  {
   "cell_type": "code",
   "execution_count": 77,
   "id": "7f97560e",
   "metadata": {},
   "outputs": [
    {
     "name": "stdout",
     "output_type": "stream",
     "text": [
      "Polynomial Features: [1,x,x**2,...,x**1]\n",
      "[ 1.  0.  0.  0.  0.  0.  0.  0.  0.  0.  0.  0. -1.  0.  2.  0. -2.  0.\n",
      "  2.  0. -2.  0.  2.  0. -1.  0.  1.  0.  0.  0.  0.  0.  0.  0.  0.  0.\n",
      "  0.  0.  0.  0.  0.  0.  0.  0.  0.  0.  0.  0.  0.  0.  0.  0.]\n",
      "Polynomial Features: [1,x,x**2,...,x**1]\n",
      "[ 1.  0.  0.  0.  0.  0.  0.  0.  0.  0.  0.  0.  0.  0.  0.  0.  0.  0.\n",
      "  0.  0.  0.  0.  0.  0.  0.  0.  0.  0.  1.  0.  0.  0.  1.  0. -1.  0.\n",
      "  0.  0.  0.  0.  0.  0.  0.  0.  0.  0.  0.  0.  0.  0.  0.  0.]\n",
      "Polynomial Features: [1,x,x**2,...,x**1]\n",
      "[ 1.  0.  0.  0.  0.  0.  0.  0.  0.  0.  0.  0.  0.  1.  0. -1.  0.  1.\n",
      "  0. -2.  0.  0.  0. -1.  0.  0.  0.  0.  0.  0.  0.  0.  0.  0.  0.  0.\n",
      "  0.  0.  0.  0.  0.  0.  0.  0.  0.  0.  0.  0.  0.  0.  0.  0.]\n",
      "Polynomial Features: [1,x,x**2,...,x**2]\n",
      "[1. 0. 0. ... 0. 0. 0.]\n",
      "Polynomial Features: [1,x,x**2,...,x**2]\n",
      "[1. 0. 0. ... 0. 0. 0.]\n",
      "Polynomial Features: [1,x,x**2,...,x**2]\n",
      "[1. 0. 0. ... 0. 0. 0.]\n",
      "Polynomial Features: [1,x,x**2,...,x**3]\n",
      "[1. 0. 0. ... 0. 0. 0.]\n",
      "Polynomial Features: [1,x,x**2,...,x**3]\n",
      "[1. 0. 0. ... 0. 0. 0.]\n",
      "Polynomial Features: [1,x,x**2,...,x**3]\n",
      "[1. 0. 0. ... 0. 0. 0.]\n"
     ]
    }
   ],
   "source": [
    "# Find the degree of Polynomial Regression that gives the best prediction accuracy\n",
    "model_degrees_and_scores = {}\n",
    "model_degrees_and_accuracy = {}\n",
    "for current_degree in range(1,4):\n",
    "    polynomial_features= PolynomialFeatures(degree=current_degree)\n",
    "    X_poly_train_deg = polynomial_features.fit_transform(X_train)\n",
    "    print(f'Polynomial Features: [1,x,x**2,...,x**{current_degree}]')\n",
    "    print(X_poly_train_deg[0])\n",
    "    \n",
    "    X_poly_val_deg = polynomial_features.fit_transform(X_val)\n",
    "    print(f'Polynomial Features: [1,x,x**2,...,x**{current_degree}]')\n",
    "    print(X_poly_val_deg[0])\n",
    "    \n",
    "\n",
    "    X_poly_test_deg = polynomial_features.fit_transform(X_test)\n",
    "    print(f'Polynomial Features: [1,x,x**2,...,x**{current_degree}]')\n",
    "    print(X_poly_test_deg[0])\n",
    "\n",
    "    polyreg = LinearRegression().fit(X_poly_train_deg, y_train)\n",
    "    \n",
    "    train_score = polyreg.score(X_poly_train_deg,y_train)\n",
    "    val_score = polyreg.score(X_poly_val_deg,y_val)\n",
    "    test_score = polyreg.score(X_poly_test_deg,y_test)\n",
    "        \n",
    "    y_train_pred = polyreg.predict(X_poly_train_deg)\n",
    "    y_val_pred = polyreg.predict(X_poly_val_deg)\n",
    "    y_test_pred = polyreg.predict(X_poly_test_deg)\n",
    "    train_accuracy = find_accuracy(y_train, y_train_pred)\n",
    "    val_accuracy = find_accuracy(y_val, y_val_pred)\n",
    "    test_accuracy = find_accuracy(y_test, y_test_pred)\n",
    "    \n",
    "    model_degrees_and_scores[current_degree] = (train_score, val_score, test_score)\n",
    "    model_degrees_and_accuracy[current_degree] = (train_accuracy, val_accuracy, test_accuracy)"
   ]
  },
  {
   "cell_type": "code",
   "execution_count": 78,
   "id": "4f6863ec",
   "metadata": {},
   "outputs": [
    {
     "name": "stdout",
     "output_type": "stream",
     "text": [
      "Degree 1 scores: (0.1080368906455863, 0.13043478260869565, 0.126232741617357)\n",
      "Degree 2 scores: (0.20619235836627142, 0.22727272727272727, 0.22682445759368836)\n",
      "Degree 3 scores: (0.2635046113306983, 0.23517786561264822, 0.20118343195266272)\n"
     ]
    }
   ],
   "source": [
    "for i, accuracy in model_degrees_and_accuracy.items():\n",
    "    print(f'Degree {i} scores: {accuracy}')"
   ]
  }
 ],
 "metadata": {
  "kernelspec": {
   "display_name": "Python 3 (ipykernel)",
   "language": "python",
   "name": "python3"
  },
  "language_info": {
   "codemirror_mode": {
    "name": "ipython",
    "version": 3
   },
   "file_extension": ".py",
   "mimetype": "text/x-python",
   "name": "python",
   "nbconvert_exporter": "python",
   "pygments_lexer": "ipython3",
   "version": "3.9.12"
  }
 },
 "nbformat": 4,
 "nbformat_minor": 5
}

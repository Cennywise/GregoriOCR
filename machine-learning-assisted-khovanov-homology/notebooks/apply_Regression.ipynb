{
 "cells": [
  {
   "cell_type": "markdown",
   "id": "29374061",
   "metadata": {},
   "source": [
    "# Step1. Read in the parsed dataset"
   ]
  },
  {
   "cell_type": "code",
   "execution_count": 26,
   "id": "583f84b7",
   "metadata": {
    "ExecuteTime": {
     "end_time": "2022-12-05T00:13:27.807043Z",
     "start_time": "2022-12-05T00:13:27.803166Z"
    }
   },
   "outputs": [],
   "source": [
    "# import useful libraries for data preprocessing\n",
    "import math\n",
    "import numpy as np\n",
    "import pandas as pd\n",
    "from numpy import linalg as LA\n",
    "import seaborn as sns\n",
    "import os\n",
    "from sklearn.model_selection import train_test_split"
   ]
  },
  {
   "cell_type": "markdown",
   "id": "cc193f59",
   "metadata": {},
   "source": [
    "Run this cell to check your current working directory. It should return the top folder \"machine-learning-assisted-khovanov-homology\""
   ]
  },
  {
   "cell_type": "code",
   "execution_count": 5,
   "id": "05997dd1",
   "metadata": {
    "ExecuteTime": {
     "end_time": "2022-12-04T23:34:02.772222Z",
     "start_time": "2022-12-04T23:34:02.765240Z"
    }
   },
   "outputs": [
    {
     "data": {
      "text/plain": [
       "'/mnt/c/Users/12428/Documents/GitHub/MAT_180_ML_Projects/machine-learning-assisted-khovanov-homology'"
      ]
     },
     "execution_count": 5,
     "metadata": {},
     "output_type": "execute_result"
    }
   ],
   "source": [
    "os.getcwd()"
   ]
  },
  {
   "cell_type": "code",
   "execution_count": 3,
   "id": "01c1cdda",
   "metadata": {
    "ExecuteTime": {
     "end_time": "2022-12-04T23:34:04.106057Z",
     "start_time": "2022-12-04T23:34:04.102389Z"
    }
   },
   "outputs": [],
   "source": [
    "#Run this cell once if still in the notebooks folder.\n",
    "#Note that running this command multiple times might get you too high in the directory tree so be \n",
    "#cautious running this cell\n",
    "os.chdir(\"../\")"
   ]
  },
  {
   "cell_type": "code",
   "execution_count": 4,
   "id": "9c18954a",
   "metadata": {
    "ExecuteTime": {
     "end_time": "2022-12-04T23:34:04.775078Z",
     "start_time": "2022-12-04T23:34:04.746286Z"
    }
   },
   "outputs": [],
   "source": [
    "# read the new 10000_9.csv file\n",
    "df_10000_9_new = pd.read_csv(\"data/10000_9_cleaned.csv\")"
   ]
  },
  {
   "cell_type": "code",
   "execution_count": 6,
   "id": "03901b1a",
   "metadata": {
    "ExecuteTime": {
     "end_time": "2022-12-04T23:34:05.677448Z",
     "start_time": "2022-12-04T23:34:05.663940Z"
    }
   },
   "outputs": [
    {
     "data": {
      "text/html": [
       "<div>\n",
       "<style scoped>\n",
       "    .dataframe tbody tr th:only-of-type {\n",
       "        vertical-align: middle;\n",
       "    }\n",
       "\n",
       "    .dataframe tbody tr th {\n",
       "        vertical-align: top;\n",
       "    }\n",
       "\n",
       "    .dataframe thead th {\n",
       "        text-align: right;\n",
       "    }\n",
       "</style>\n",
       "<table border=\"1\" class=\"dataframe\">\n",
       "  <thead>\n",
       "    <tr style=\"text-align: right;\">\n",
       "      <th></th>\n",
       "      <th>braid</th>\n",
       "      <th>free_part</th>\n",
       "      <th>torsion_part</th>\n",
       "      <th>total_num_FP</th>\n",
       "      <th>total_num_TP</th>\n",
       "    </tr>\n",
       "  </thead>\n",
       "  <tbody>\n",
       "    <tr>\n",
       "      <th>0</th>\n",
       "      <td>[1, -3, 2, 3, 2, 2, 1, 2, -1]</td>\n",
       "      <td>{(1, 0): 1, (3, 0): 1, (5, 2): 1, (9, 3): 1}</td>\n",
       "      <td>{(7, 3): {2: 1}}</td>\n",
       "      <td>4</td>\n",
       "      <td>1</td>\n",
       "    </tr>\n",
       "    <tr>\n",
       "      <th>1</th>\n",
       "      <td>[-1, -1, 1, -1, 3, -2, -1, 3, -2]</td>\n",
       "      <td>{(-11, -4): 1, (-9, -3): 1, (-7, -3): 1, (-7, ...</td>\n",
       "      <td>{(-9, -3): {2: 1}, (-7, -2): {2: 1}, (-5, -1):...</td>\n",
       "      <td>12</td>\n",
       "      <td>5</td>\n",
       "    </tr>\n",
       "    <tr>\n",
       "      <th>2</th>\n",
       "      <td>[-2, -1, 1, 1, 2, 1, 1, -3, 1]</td>\n",
       "      <td>{(1, 0): 1, (3, 0): 1, (5, 2): 1, (9, 3): 1}</td>\n",
       "      <td>{(7, 3): {2: 1}}</td>\n",
       "      <td>4</td>\n",
       "      <td>1</td>\n",
       "    </tr>\n",
       "    <tr>\n",
       "      <th>3</th>\n",
       "      <td>[-1, 3, -3, -3, 3, 2, -1, -3, 2]</td>\n",
       "      <td>{(-5, -2): 1, (-1, -1): 1, (-1, 0): 1, (1, 0):...</td>\n",
       "      <td>{(-3, -1): {2: 1}, (3, 2): {2: 1}}</td>\n",
       "      <td>6</td>\n",
       "      <td>2</td>\n",
       "    </tr>\n",
       "    <tr>\n",
       "      <th>4</th>\n",
       "      <td>[3, 1, -1, 1, 2, 3, 2, 2, 2]</td>\n",
       "      <td>{(3, 0): 1, (5, 0): 1, (7, 2): 1, (11, 3): 1, ...</td>\n",
       "      <td>{(9, 3): {2: 1}, (13, 5): {2: 1}}</td>\n",
       "      <td>6</td>\n",
       "      <td>2</td>\n",
       "    </tr>\n",
       "    <tr>\n",
       "      <th>...</th>\n",
       "      <td>...</td>\n",
       "      <td>...</td>\n",
       "      <td>...</td>\n",
       "      <td>...</td>\n",
       "      <td>...</td>\n",
       "    </tr>\n",
       "    <tr>\n",
       "      <th>2426</th>\n",
       "      <td>[3, -1, 3, -2, 1, -2, 2, 3, 1]</td>\n",
       "      <td>{(1, 0): 1, (3, 0): 1, (5, 2): 1, (9, 3): 1}</td>\n",
       "      <td>{(7, 3): {2: 1}}</td>\n",
       "      <td>4</td>\n",
       "      <td>1</td>\n",
       "    </tr>\n",
       "    <tr>\n",
       "      <th>2427</th>\n",
       "      <td>[3, -2, 2, 2, 1, 2, 2, 3, 3]</td>\n",
       "      <td>{(3, 0): 1, (5, 0): 1, (7, 2): 2, (11, 3): 2, ...</td>\n",
       "      <td>{(9, 3): {2: 2}, (13, 5): {2: 1}, (15, 6): {2:...</td>\n",
       "      <td>10</td>\n",
       "      <td>4</td>\n",
       "    </tr>\n",
       "    <tr>\n",
       "      <th>2428</th>\n",
       "      <td>[-2, -2, -1, -3, -3, 2, -3, -3, 3]</td>\n",
       "      <td>{(-13, -5): 1, (-9, -4): 1, (-9, -3): 1, (-7, ...</td>\n",
       "      <td>{(-11, -4): {2: 1}, (-7, -2): {2: 1}, (-5, -1)...</td>\n",
       "      <td>8</td>\n",
       "      <td>3</td>\n",
       "    </tr>\n",
       "    <tr>\n",
       "      <th>2429</th>\n",
       "      <td>[1, 3, 1, 3, -2, -1, -3, 2, 2]</td>\n",
       "      <td>{(1, 0): 1, (3, 0): 1, (3, 1): 1, (5, 2): 1, (...</td>\n",
       "      <td>{(5, 2): {2: 1}, (7, 3): {2: 1}, (11, 5): {2: 1}}</td>\n",
       "      <td>8</td>\n",
       "      <td>3</td>\n",
       "    </tr>\n",
       "    <tr>\n",
       "      <th>2430</th>\n",
       "      <td>[-2, -1, -2, -2, 2, -3, -1, -1, -2]</td>\n",
       "      <td>{(-15, -5): 1, (-11, -4): 1, (-11, -3): 1, (-7...</td>\n",
       "      <td>{(-13, -4): {2: 1}, (-9, -2): {2: 1}}</td>\n",
       "      <td>6</td>\n",
       "      <td>2</td>\n",
       "    </tr>\n",
       "  </tbody>\n",
       "</table>\n",
       "<p>2431 rows × 5 columns</p>\n",
       "</div>"
      ],
      "text/plain": [
       "                                    braid  \\\n",
       "0           [1, -3, 2, 3, 2, 2, 1, 2, -1]   \n",
       "1       [-1, -1, 1, -1, 3, -2, -1, 3, -2]   \n",
       "2          [-2, -1, 1, 1, 2, 1, 1, -3, 1]   \n",
       "3        [-1, 3, -3, -3, 3, 2, -1, -3, 2]   \n",
       "4            [3, 1, -1, 1, 2, 3, 2, 2, 2]   \n",
       "...                                   ...   \n",
       "2426       [3, -1, 3, -2, 1, -2, 2, 3, 1]   \n",
       "2427         [3, -2, 2, 2, 1, 2, 2, 3, 3]   \n",
       "2428   [-2, -2, -1, -3, -3, 2, -3, -3, 3]   \n",
       "2429       [1, 3, 1, 3, -2, -1, -3, 2, 2]   \n",
       "2430  [-2, -1, -2, -2, 2, -3, -1, -1, -2]   \n",
       "\n",
       "                                              free_part  \\\n",
       "0          {(1, 0): 1, (3, 0): 1, (5, 2): 1, (9, 3): 1}   \n",
       "1     {(-11, -4): 1, (-9, -3): 1, (-7, -3): 1, (-7, ...   \n",
       "2          {(1, 0): 1, (3, 0): 1, (5, 2): 1, (9, 3): 1}   \n",
       "3     {(-5, -2): 1, (-1, -1): 1, (-1, 0): 1, (1, 0):...   \n",
       "4     {(3, 0): 1, (5, 0): 1, (7, 2): 1, (11, 3): 1, ...   \n",
       "...                                                 ...   \n",
       "2426       {(1, 0): 1, (3, 0): 1, (5, 2): 1, (9, 3): 1}   \n",
       "2427  {(3, 0): 1, (5, 0): 1, (7, 2): 2, (11, 3): 2, ...   \n",
       "2428  {(-13, -5): 1, (-9, -4): 1, (-9, -3): 1, (-7, ...   \n",
       "2429  {(1, 0): 1, (3, 0): 1, (3, 1): 1, (5, 2): 1, (...   \n",
       "2430  {(-15, -5): 1, (-11, -4): 1, (-11, -3): 1, (-7...   \n",
       "\n",
       "                                           torsion_part  total_num_FP  \\\n",
       "0                                      {(7, 3): {2: 1}}             4   \n",
       "1     {(-9, -3): {2: 1}, (-7, -2): {2: 1}, (-5, -1):...            12   \n",
       "2                                      {(7, 3): {2: 1}}             4   \n",
       "3                    {(-3, -1): {2: 1}, (3, 2): {2: 1}}             6   \n",
       "4                     {(9, 3): {2: 1}, (13, 5): {2: 1}}             6   \n",
       "...                                                 ...           ...   \n",
       "2426                                   {(7, 3): {2: 1}}             4   \n",
       "2427  {(9, 3): {2: 2}, (13, 5): {2: 1}, (15, 6): {2:...            10   \n",
       "2428  {(-11, -4): {2: 1}, (-7, -2): {2: 1}, (-5, -1)...             8   \n",
       "2429  {(5, 2): {2: 1}, (7, 3): {2: 1}, (11, 5): {2: 1}}             8   \n",
       "2430              {(-13, -4): {2: 1}, (-9, -2): {2: 1}}             6   \n",
       "\n",
       "      total_num_TP  \n",
       "0                1  \n",
       "1                5  \n",
       "2                1  \n",
       "3                2  \n",
       "4                2  \n",
       "...            ...  \n",
       "2426             1  \n",
       "2427             4  \n",
       "2428             3  \n",
       "2429             3  \n",
       "2430             2  \n",
       "\n",
       "[2431 rows x 5 columns]"
      ]
     },
     "execution_count": 6,
     "metadata": {},
     "output_type": "execute_result"
    }
   ],
   "source": [
    "df_10000_9_new"
   ]
  },
  {
   "cell_type": "code",
   "execution_count": 10,
   "id": "560b59f6",
   "metadata": {
    "ExecuteTime": {
     "end_time": "2022-12-04T23:35:06.437060Z",
     "start_time": "2022-12-04T23:35:05.724136Z"
    }
   },
   "outputs": [
    {
     "data": {
      "text/plain": [
       "<seaborn.axisgrid.PairGrid at 0x7f44ee27c6a0>"
      ]
     },
     "execution_count": 10,
     "metadata": {},
     "output_type": "execute_result"
    },
    {
     "data": {
      "image/png": "[encoded data removed]",
      "text/plain": [
       "<Figure size 360x360 with 6 Axes>"
      ]
     },
     "metadata": {
      "needs_background": "light"
     },
     "output_type": "display_data"
    }
   ],
   "source": [
    "# look at data distribution using seaborn plot\n",
    "sns.pairplot(df_10000_9_new[['total_num_FP','total_num_TP']])"
   ]
  },
  {
   "cell_type": "markdown",
   "id": "df0eaad1",
   "metadata": {},
   "source": [
    "# Step2. Trian the LinearRegression Model and find the parameters using the function we built ourselves"
   ]
  },
  {
   "cell_type": "code",
   "execution_count": 122,
   "id": "3fe527da",
   "metadata": {
    "ExecuteTime": {
     "end_time": "2022-12-05T00:26:25.507037Z",
     "start_time": "2022-12-05T00:26:25.502756Z"
    }
   },
   "outputs": [],
   "source": [
    "#Import functions built in class\n",
    "\n",
    "from scripts.polynomial import add_poly_terms\n",
    "from scripts.GDLinearReg import J, DJ, GD_linreg_improved"
   ]
  },
  {
   "cell_type": "code",
   "execution_count": 123,
   "id": "1cce861b",
   "metadata": {
    "ExecuteTime": {
     "end_time": "2022-12-05T00:26:26.147870Z",
     "start_time": "2022-12-05T00:26:26.143322Z"
    }
   },
   "outputs": [],
   "source": [
    "def prediction(x,v):\n",
    "    return round((x@v)[0])\n",
    "\n",
    "def accuracy(X,v,y):\n",
    "    count = 0\n",
    "    for i,x in enumerate(X):\n",
    "        if prediction(x,v) == y[i][0]:\n",
    "            count += 1\n",
    "    return count / len(X)"
   ]
  },
  {
   "cell_type": "code",
   "execution_count": 124,
   "id": "488c78e2",
   "metadata": {
    "ExecuteTime": {
     "end_time": "2022-12-05T00:26:26.752380Z",
     "start_time": "2022-12-05T00:26:26.743545Z"
    }
   },
   "outputs": [],
   "source": [
    "X = (np.array(df_10000_9_new.total_num_FP)).reshape(-1, 1)\n",
    "y = (np.array(df_10000_9_new.total_num_TP)).reshape(-1,1)\n",
    "\n",
    "X_train, X_test, y_train, y_test = train_test_split(X, y, test_size=0.2, random_state=1)\n",
    "X_train, X_val, y_train, y_val = train_test_split(X_train, y_train, test_size=0.25, random_state=1)"
   ]
  },
  {
   "cell_type": "code",
   "execution_count": 125,
   "id": "7246a8b0",
   "metadata": {
    "ExecuteTime": {
     "end_time": "2022-12-05T00:26:27.501140Z",
     "start_time": "2022-12-05T00:26:27.495115Z"
    }
   },
   "outputs": [
    {
     "name": "stdout",
     "output_type": "stream",
     "text": [
      "Size of training set: 1458\n",
      "Size of validation set: 486\n",
      "Size of testing set: 487\n"
     ]
    }
   ],
   "source": [
    "print(f'Size of training set: {len(X_train)}')\n",
    "print(f'Size of validation set: {len(X_val)}')\n",
    "print(f'Size of testing set: {len(X_test)}')"
   ]
  },
  {
   "cell_type": "code",
   "execution_count": 126,
   "id": "fb122f01",
   "metadata": {
    "ExecuteTime": {
     "end_time": "2022-12-05T00:26:28.351046Z",
     "start_time": "2022-12-05T00:26:28.347128Z"
    }
   },
   "outputs": [],
   "source": [
    "def fit(X, y, epsilon, lambda_, max_iters = 10000, poly_terms = 1):\n",
    "    print(f'Running polynomial regression of degree {poly_terms} \\n')\n",
    "    \n",
    "    v, costs =  GD_linreg_improved(add_poly_terms(X, poly_terms), y, epsilon, lambda_, max_iters) \n",
    "    \n",
    "    print(f'\\nFinal cost is {costs[-1]}\\n')\n",
    "    return v, costs"
   ]
  },
  {
   "cell_type": "code",
   "execution_count": 129,
   "id": "9998bd13",
   "metadata": {
    "ExecuteTime": {
     "end_time": "2022-12-05T00:26:40.146433Z",
     "start_time": "2022-12-05T00:26:39.723041Z"
    }
   },
   "outputs": [
    {
     "name": "stdout",
     "output_type": "stream",
     "text": [
      "Running polynomial regression of degree 2 \n",
      "\n",
      "after 0 steps the cost is 11.844307270233198\n",
      "after 1000 steps the cost is 0.016737627119538894\n",
      "after 2000 steps the cost is 0.016366408239156645\n",
      "after 2648 steps the cost is 0.0163655803738109\n",
      "\n",
      "Final cost is 0.016365580274681376\n",
      "\n",
      "Accuracy of training set is: 0.9958847736625515\n",
      "Accuracy of validation set is: 0.9917695473251029\n",
      "Accuracy of test set is: 0.9958932238193019\n"
     ]
    }
   ],
   "source": [
    "degree = 2\n",
    "\n",
    "v, costs = fit(X_train, y_train, epsilon = 1e-10, lambda_ = 0, max_iters = 10000, poly_terms = degree)\n",
    "\n",
    "print(f'Accuracy of training set is: {accuracy(add_poly_terms(X_train, degree),v,y_train)}')\n",
    "print(f'Accuracy of validation set is: {accuracy(add_poly_terms(X_val, degree),v,y_val)}')\n",
    "print(f'Accuracy of test set is: {accuracy(add_poly_terms(X_test, degree),v,y_test)}')"
   ]
  },
  {
   "cell_type": "code",
   "execution_count": null,
   "id": "d44cd27c",
   "metadata": {},
   "outputs": [],
   "source": []
  },
  {
   "cell_type": "markdown",
   "id": "a7a4c460",
   "metadata": {},
   "source": [
    "# Step3. Train the LinearRegression model from Scikit-Learn"
   ]
  },
  {
   "cell_type": "code",
   "execution_count": 6,
   "id": "35cf7bea",
   "metadata": {
    "ExecuteTime": {
     "end_time": "2022-12-05T00:14:22.790272Z",
     "start_time": "2022-12-05T00:14:22.781443Z"
    }
   },
   "outputs": [],
   "source": [
    "# try to make prediction using LinearRegression and libraries from sklearn\n",
    "from sklearn.linear_model import LinearRegression\n",
    "from sklearn.metrics import classification_report\n",
    "\n",
    "# need to reshape X because there is only one feature in X (i.e. X is currently a row vector, need to convert it to a column vector)\n",
    "X = (np.array(df_10000_9_new.total_num_FP)).reshape(-1, 1)\n",
    "y = (np.array(df_10000_9_new.total_num_TP))\n",
    "\n",
    "# split X and y into training and testing sets\n",
    "X_train, X_test, y_train, y_test = train_test_split(X, y, test_size=0.2, random_state=42)\n",
    "X_train, X_val, y_train, y_val = train_test_split(X_train, y_train, test_size=0.25, random_state=1)"
   ]
  },
  {
   "cell_type": "code",
   "execution_count": 7,
   "id": "e5993a08",
   "metadata": {
    "ExecuteTime": {
     "end_time": "2022-12-05T00:07:09.899898Z",
     "start_time": "2022-12-05T00:07:09.896042Z"
    }
   },
   "outputs": [],
   "source": [
    "# import libraries for Polynomial Regression\n",
    "from sklearn.preprocessing import PolynomialFeatures"
   ]
  },
  {
   "cell_type": "code",
   "execution_count": 27,
   "id": "d31bdbb2",
   "metadata": {},
   "outputs": [],
   "source": [
    "# function to compute accuracy\n",
    "def find_accuracy(y_pred, y_true):\n",
    "    accur_count = 0\n",
    "    for index,y in enumerate(y_pred):\n",
    "        if y == math.ceil(y_true[index]):\n",
    "            accur_count += 1\n",
    "    return accur_count/len(y_true)"
   ]
  },
  {
   "cell_type": "code",
   "execution_count": 28,
   "id": "727551fc",
   "metadata": {
    "ExecuteTime": {
     "end_time": "2022-12-05T00:17:05.383237Z",
     "start_time": "2022-12-05T00:17:05.312434Z"
    }
   },
   "outputs": [
    {
     "name": "stdout",
     "output_type": "stream",
     "text": [
      "Polynomial Features: [1,x,x**2,...,x**1]\n",
      "[1. 4.]\n",
      "Polynomial Features: [1,x,x**2,...,x**1]\n",
      "[1. 4.]\n",
      "Polynomial Features: [1,x,x**2,...,x**1]\n",
      "[1. 4.]\n",
      "[0.98951245 1.98817724 1.98817724 ... 2.98684202 0.98951245 1.98817724]\n",
      "Polynomial Features: [1,x,x**2,...,x**2]\n",
      "[ 1.  4. 16.]\n",
      "Polynomial Features: [1,x,x**2,...,x**2]\n",
      "[ 1.  4. 16.]\n",
      "Polynomial Features: [1,x,x**2,...,x**2]\n",
      "[ 1.  4. 16.]\n",
      "[0.98951245 1.98817724 1.98817724 ... 2.98684202 0.98951245 1.98817724]\n",
      "Polynomial Features: [1,x,x**2,...,x**3]\n",
      "[ 1.  4. 16. 64.]\n",
      "Polynomial Features: [1,x,x**2,...,x**3]\n",
      "[ 1.  4. 16. 64.]\n",
      "Polynomial Features: [1,x,x**2,...,x**3]\n",
      "[ 1.  4. 16. 64.]\n",
      "[0.99358183 1.98645749 1.98645749 ... 2.9806255  0.99358183 1.98645749]\n",
      "Polynomial Features: [1,x,x**2,...,x**4]\n",
      "[  1.   4.  16.  64. 256.]\n",
      "Polynomial Features: [1,x,x**2,...,x**4]\n",
      "[  1.   4.  16.  64. 256.]\n",
      "Polynomial Features: [1,x,x**2,...,x**4]\n",
      "[  1.   4.  16.  64. 256.]\n",
      "[0.99764135 1.98129326 1.98129326 ... 2.97085867 0.99764135 1.98129326]\n",
      "Polynomial Features: [1,x,x**2,...,x**5]\n",
      "[1.000e+00 4.000e+00 1.600e+01 6.400e+01 2.560e+02 1.024e+03]\n",
      "Polynomial Features: [1,x,x**2,...,x**5]\n",
      "[1.000e+00 4.000e+00 1.600e+01 6.400e+01 2.560e+02 1.024e+03]\n",
      "Polynomial Features: [1,x,x**2,...,x**5]\n",
      "[1.000e+00 4.000e+00 1.600e+01 6.400e+01 2.560e+02 1.024e+03]\n",
      "[1.00192633 1.97111691 1.97111691 ... 2.95837882 1.00192633 1.97111691]\n",
      "Polynomial Features: [1,x,x**2,...,x**6]\n",
      "[1.000e+00 4.000e+00 1.600e+01 6.400e+01 2.560e+02 1.024e+03 4.096e+03]\n",
      "Polynomial Features: [1,x,x**2,...,x**6]\n",
      "[1.000e+00 4.000e+00 1.600e+01 6.400e+01 2.560e+02 1.024e+03 4.096e+03]\n",
      "Polynomial Features: [1,x,x**2,...,x**6]\n",
      "[1.000e+00 4.000e+00 1.600e+01 6.400e+01 2.560e+02 1.024e+03 4.096e+03]\n",
      "[1.00353069 1.96494053 1.96494053 ... 2.95505165 1.00353069 1.96494053]\n",
      "Polynomial Features: [1,x,x**2,...,x**7]\n",
      "[1.0000e+00 4.0000e+00 1.6000e+01 6.4000e+01 2.5600e+02 1.0240e+03\n",
      " 4.0960e+03 1.6384e+04]\n",
      "Polynomial Features: [1,x,x**2,...,x**7]\n",
      "[1.0000e+00 4.0000e+00 1.6000e+01 6.4000e+01 2.5600e+02 1.0240e+03\n",
      " 4.0960e+03 1.6384e+04]\n",
      "Polynomial Features: [1,x,x**2,...,x**7]\n",
      "[1.0000e+00 4.0000e+00 1.6000e+01 6.4000e+01 2.5600e+02 1.0240e+03\n",
      " 4.0960e+03 1.6384e+04]\n",
      "[1.00298265 1.96810562 1.96810562 ... 2.95422585 1.00298265 1.96810562]\n",
      "Polynomial Features: [1,x,x**2,...,x**8]\n",
      "[1.0000e+00 4.0000e+00 1.6000e+01 6.4000e+01 2.5600e+02 1.0240e+03\n",
      " 4.0960e+03 1.6384e+04 6.5536e+04]\n",
      "Polynomial Features: [1,x,x**2,...,x**8]\n",
      "[1.0000e+00 4.0000e+00 1.6000e+01 6.4000e+01 2.5600e+02 1.0240e+03\n",
      " 4.0960e+03 1.6384e+04 6.5536e+04]\n",
      "Polynomial Features: [1,x,x**2,...,x**8]\n",
      "[1.0000e+00 4.0000e+00 1.6000e+01 6.4000e+01 2.5600e+02 1.0240e+03\n",
      " 4.0960e+03 1.6384e+04 6.5536e+04]\n",
      "[1.0018441  1.97700768 1.97700768 ... 2.94433926 1.0018441  1.97700768]\n",
      "Polynomial Features: [1,x,x**2,...,x**9]\n",
      "[1.00000e+00 4.00000e+00 1.60000e+01 6.40000e+01 2.56000e+02 1.02400e+03\n",
      " 4.09600e+03 1.63840e+04 6.55360e+04 2.62144e+05]\n",
      "Polynomial Features: [1,x,x**2,...,x**9]\n",
      "[1.00000e+00 4.00000e+00 1.60000e+01 6.40000e+01 2.56000e+02 1.02400e+03\n",
      " 4.09600e+03 1.63840e+04 6.55360e+04 2.62144e+05]\n",
      "Polynomial Features: [1,x,x**2,...,x**9]\n",
      "[1.00000e+00 4.00000e+00 1.60000e+01 6.40000e+01 2.56000e+02 1.02400e+03\n",
      " 4.09600e+03 1.63840e+04 6.55360e+04 2.62144e+05]\n",
      "[1.00108882 1.98545252 1.98545252 ... 2.9262202  1.00108882 1.98545252]\n",
      "Polynomial Features: [1,x,x**2,...,x**10]\n",
      "[1.000000e+00 4.000000e+00 1.600000e+01 6.400000e+01 2.560000e+02\n",
      " 1.024000e+03 4.096000e+03 1.638400e+04 6.553600e+04 2.621440e+05\n",
      " 1.048576e+06]\n",
      "Polynomial Features: [1,x,x**2,...,x**10]\n",
      "[1.000000e+00 4.000000e+00 1.600000e+01 6.400000e+01 2.560000e+02\n",
      " 1.024000e+03 4.096000e+03 1.638400e+04 6.553600e+04 2.621440e+05\n",
      " 1.048576e+06]\n",
      "Polynomial Features: [1,x,x**2,...,x**10]\n",
      "[1.000000e+00 4.000000e+00 1.600000e+01 6.400000e+01 2.560000e+02\n",
      " 1.024000e+03 4.096000e+03 1.638400e+04 6.553600e+04 2.621440e+05\n",
      " 1.048576e+06]\n",
      "[1.00249088 1.97384646 1.97384646 ... 2.94621499 1.00249088 1.97384646]\n",
      "Polynomial Features: [1,x,x**2,...,x**11]\n",
      "[1.000000e+00 4.000000e+00 1.600000e+01 6.400000e+01 2.560000e+02\n",
      " 1.024000e+03 4.096000e+03 1.638400e+04 6.553600e+04 2.621440e+05\n",
      " 1.048576e+06 4.194304e+06]\n",
      "Polynomial Features: [1,x,x**2,...,x**11]\n",
      "[1.000000e+00 4.000000e+00 1.600000e+01 6.400000e+01 2.560000e+02\n",
      " 1.024000e+03 4.096000e+03 1.638400e+04 6.553600e+04 2.621440e+05\n",
      " 1.048576e+06 4.194304e+06]\n",
      "Polynomial Features: [1,x,x**2,...,x**11]\n",
      "[1.000000e+00 4.000000e+00 1.600000e+01 6.400000e+01 2.560000e+02\n",
      " 1.024000e+03 4.096000e+03 1.638400e+04 6.553600e+04 2.621440e+05\n",
      " 1.048576e+06 4.194304e+06]\n",
      "[1.00619018 1.95200648 1.95200648 ... 2.96633183 1.00619018 1.95200648]\n",
      "Polynomial Features: [1,x,x**2,...,x**12]\n",
      "[1.0000000e+00 4.0000000e+00 1.6000000e+01 6.4000000e+01 2.5600000e+02\n",
      " 1.0240000e+03 4.0960000e+03 1.6384000e+04 6.5536000e+04 2.6214400e+05\n",
      " 1.0485760e+06 4.1943040e+06 1.6777216e+07]\n",
      "Polynomial Features: [1,x,x**2,...,x**12]\n",
      "[1.0000000e+00 4.0000000e+00 1.6000000e+01 6.4000000e+01 2.5600000e+02\n",
      " 1.0240000e+03 4.0960000e+03 1.6384000e+04 6.5536000e+04 2.6214400e+05\n",
      " 1.0485760e+06 4.1943040e+06 1.6777216e+07]\n",
      "Polynomial Features: [1,x,x**2,...,x**12]\n",
      "[1.0000000e+00 4.0000000e+00 1.6000000e+01 6.4000000e+01 2.5600000e+02\n",
      " 1.0240000e+03 4.0960000e+03 1.6384000e+04 6.5536000e+04 2.6214400e+05\n",
      " 1.0485760e+06 4.1943040e+06 1.6777216e+07]\n",
      "[1.020625   1.8925103  1.8925103  ... 2.97913054 1.020625   1.8925103 ]\n",
      "Polynomial Features: [1,x,x**2,...,x**13]\n",
      "[1.0000000e+00 4.0000000e+00 1.6000000e+01 6.4000000e+01 2.5600000e+02\n",
      " 1.0240000e+03 4.0960000e+03 1.6384000e+04 6.5536000e+04 2.6214400e+05\n",
      " 1.0485760e+06 4.1943040e+06 1.6777216e+07 6.7108864e+07]\n",
      "Polynomial Features: [1,x,x**2,...,x**13]\n",
      "[1.0000000e+00 4.0000000e+00 1.6000000e+01 6.4000000e+01 2.5600000e+02\n",
      " 1.0240000e+03 4.0960000e+03 1.6384000e+04 6.5536000e+04 2.6214400e+05\n",
      " 1.0485760e+06 4.1943040e+06 1.6777216e+07 6.7108864e+07]\n",
      "Polynomial Features: [1,x,x**2,...,x**13]\n",
      "[1.0000000e+00 4.0000000e+00 1.6000000e+01 6.4000000e+01 2.5600000e+02\n",
      " 1.0240000e+03 4.0960000e+03 1.6384000e+04 6.5536000e+04 2.6214400e+05\n",
      " 1.0485760e+06 4.1943040e+06 1.6777216e+07 6.7108864e+07]\n",
      "[1.23614283 1.55376665 1.55376665 ... 2.39960744 1.23614283 1.55376665]\n",
      "Polynomial Features: [1,x,x**2,...,x**14]\n",
      "[1.00000000e+00 4.00000000e+00 1.60000000e+01 6.40000000e+01\n",
      " 2.56000000e+02 1.02400000e+03 4.09600000e+03 1.63840000e+04\n",
      " 6.55360000e+04 2.62144000e+05 1.04857600e+06 4.19430400e+06\n",
      " 1.67772160e+07 6.71088640e+07 2.68435456e+08]\n",
      "Polynomial Features: [1,x,x**2,...,x**14]\n",
      "[1.00000000e+00 4.00000000e+00 1.60000000e+01 6.40000000e+01\n",
      " 2.56000000e+02 1.02400000e+03 4.09600000e+03 1.63840000e+04\n",
      " 6.55360000e+04 2.62144000e+05 1.04857600e+06 4.19430400e+06\n",
      " 1.67772160e+07 6.71088640e+07 2.68435456e+08]\n",
      "Polynomial Features: [1,x,x**2,...,x**14]\n",
      "[1.00000000e+00 4.00000000e+00 1.60000000e+01 6.40000000e+01\n",
      " 2.56000000e+02 1.02400000e+03 4.09600000e+03 1.63840000e+04\n",
      " 6.55360000e+04 2.62144000e+05 1.04857600e+06 4.19430400e+06\n",
      " 1.67772160e+07 6.71088640e+07 2.68435456e+08]\n",
      "[1.36977571 1.51742372 1.51742372 ... 2.07058716 1.36977571 1.51742372]\n"
     ]
    }
   ],
   "source": [
    "# Find the degree of Polynomial Regression that gives the best prediction accuracy\n",
    "model_degrees_and_scores = {}\n",
    "model_degrees_and_accuracy = {}\n",
    "for current_degree in range(1,15):\n",
    "    polynomial_features= PolynomialFeatures(degree=current_degree)\n",
    "    X_poly_train_deg = polynomial_features.fit_transform(X_train)\n",
    "    print(f'Polynomial Features: [1,x,x**2,...,x**{current_degree}]')\n",
    "    print(X_poly_train_deg[0])\n",
    "    \n",
    "    X_poly_val_deg = polynomial_features.fit_transform(X_val)\n",
    "    print(f'Polynomial Features: [1,x,x**2,...,x**{current_degree}]')\n",
    "    print(X_poly_val_deg[0])\n",
    "    \n",
    "\n",
    "    X_poly_test_deg = polynomial_features.fit_transform(X_test)\n",
    "    print(f'Polynomial Features: [1,x,x**2,...,x**{current_degree}]')\n",
    "    print(X_poly_test_deg[0])\n",
    "\n",
    "    polyreg = LinearRegression().fit(X_poly_train_deg, y_train)\n",
    "    \n",
    "    train_score = polyreg.score(X_poly_train_deg,y_train)\n",
    "    val_score = polyreg.score(X_poly_val_deg,y_val)\n",
    "    test_score = polyreg.score(X_poly_test_deg,y_test)\n",
    "    \n",
    "    print(y_train_pred)\n",
    "    \n",
    "    y_train_pred = polyreg.predict(X_poly_train_deg)\n",
    "    y_val_pred = polyreg.predict(X_poly_val_deg)\n",
    "    y_test_pred = polyreg.predict(X_poly_test_deg)\n",
    "    train_accuracy = find_accuracy(y_train, y_train_pred)\n",
    "    val_accuracy = find_accuracy(y_val, y_val_pred)\n",
    "    test_accuracy = find_accuracy(y_test, y_test_pred)\n",
    "    \n",
    "    model_degrees_and_scores[current_degree] = (train_score, val_score, test_score)\n",
    "    model_degrees_and_accuracy[current_degree] = (train_accuracy, val_accuracy, test_accuracy)"
   ]
  },
  {
   "cell_type": "code",
   "execution_count": 29,
   "id": "8a5de91b",
   "metadata": {
    "ExecuteTime": {
     "end_time": "2022-12-05T00:22:44.760390Z",
     "start_time": "2022-12-05T00:22:44.753551Z"
    }
   },
   "outputs": [
    {
     "name": "stdout",
     "output_type": "stream",
     "text": [
      "Degree 1 scores: (0.9956467378445633, 0.9999743671865878, 0.995790347679741)\n",
      "Degree 2 scores: (0.9956603585298254, 0.9999597770551141, 0.9957896743978586)\n",
      "Degree 3 scores: (0.9956817581054522, 0.9999435679507281, 0.9958007269243456)\n",
      "Degree 4 scores: (0.9957091020221227, 0.9999067060623636, 0.9958225290737045)\n",
      "Degree 5 scores: (0.9957163920082628, 0.9999079890692176, 0.9958149716208362)\n",
      "Degree 6 scores: (0.9957182013891834, 0.9998254161883368, 0.9949184180186575)\n",
      "Degree 7 scores: (0.9957398617119599, 0.9973770126983614, 0.8902706929242002)\n",
      "Degree 8 scores: (0.9957790455824084, 0.985417570189281, -1.2112540391157411)\n",
      "Degree 9 scores: (0.9957288788963706, 0.9778392424115501, -6.886471168465579)\n",
      "Degree 10 scores: (0.9956236420147867, 0.8592301893021413, -133.8174699410963)\n",
      "Degree 11 scores: (0.9951278318722796, -2.2333894451833274, -6954.598696309282)\n",
      "Degree 12 scores: (0.9737111002527487, -160.58617331061507, -485038.0921095352)\n",
      "Degree 13 scores: (0.9487665371690763, -897.7607752031678, -5170457.701797855)\n",
      "Degree 14 scores: (0.9176693134261213, -4136.6688754850375, -44537119.68197984)\n"
     ]
    }
   ],
   "source": [
    "for i, scores in model_degrees_and_scores.items():\n",
    "    print(f'Degree {i} scores: {scores}')"
   ]
  },
  {
   "cell_type": "code",
   "execution_count": 30,
   "id": "e13db6a5",
   "metadata": {},
   "outputs": [
    {
     "name": "stdout",
     "output_type": "stream",
     "text": [
      "Degree 1 scores: (0.9938271604938271, 1.0, 0.9938398357289527)\n",
      "Degree 2 scores: (0.9862825788751715, 0.9897119341563786, 0.9876796714579056)\n",
      "Degree 3 scores: (0.9725651577503429, 0.9711934156378601, 0.9774127310061602)\n",
      "Degree 4 scores: (0.44238683127572015, 0.4547325102880658, 0.44763860369609854)\n",
      "Degree 5 scores: (0.43004115226337447, 0.4403292181069959, 0.43121149897330596)\n",
      "Degree 6 scores: (0.42661179698216734, 0.4403292181069959, 0.42505133470225875)\n",
      "Degree 7 scores: (0.39574759945130317, 0.4094650205761317, 0.3860369609856263)\n",
      "Degree 8 scores: (0.406721536351166, 0.411522633744856, 0.39835728952772076)\n",
      "Degree 9 scores: (0.40397805212620025, 0.4074074074074074, 0.3921971252566735)\n",
      "Degree 10 scores: (0.4327846364883402, 0.44650205761316875, 0.43737166324435317)\n",
      "Degree 11 scores: (0.38477366255144035, 0.39711934156378603, 0.3839835728952772)\n",
      "Degree 12 scores: (0.3669410150891632, 0.35185185185185186, 0.34496919917864477)\n",
      "Degree 13 scores: (0.38820301783264743, 0.3950617283950617, 0.3798767967145791)\n",
      "Degree 14 scores: (0.23868312757201646, 0.2242798353909465, 0.22792607802874743)\n"
     ]
    }
   ],
   "source": [
    "for i, accuracy in model_degrees_and_accuracy.items():\n",
    "    print(f'Degree {i} scores: {accuracy}')"
   ]
  }
 ],
 "metadata": {
  "kernelspec": {
   "display_name": "Python 3 (ipykernel)",
   "language": "python",
   "name": "python3"
  },
  "language_info": {
   "codemirror_mode": {
    "name": "ipython",
    "version": 3
   },
   "file_extension": ".py",
   "mimetype": "text/x-python",
   "name": "python",
   "nbconvert_exporter": "python",
   "pygments_lexer": "ipython3",
   "version": "3.9.12"
  }
 },
 "nbformat": 4,
 "nbformat_minor": 5
}

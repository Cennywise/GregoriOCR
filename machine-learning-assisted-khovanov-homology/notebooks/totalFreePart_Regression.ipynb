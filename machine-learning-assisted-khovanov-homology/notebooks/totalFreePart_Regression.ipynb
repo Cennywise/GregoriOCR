{
 "cells": [
  {
   "cell_type": "markdown",
   "id": "29374061",
   "metadata": {},
   "source": [
    "# Step1. Read in the parsed dataset"
   ]
  },
  {
   "cell_type": "code",
   "execution_count": 1,
   "id": "583f84b7",
   "metadata": {
    "ExecuteTime": {
     "end_time": "2022-12-05T00:13:27.807043Z",
     "start_time": "2022-12-05T00:13:27.803166Z"
    }
   },
   "outputs": [],
   "source": [
    "# import useful libraries for data preprocessing\n",
    "import math\n",
    "import numpy as np\n",
    "import pandas as pd\n",
    "from numpy import linalg as LA\n",
    "import seaborn as sns\n",
    "import os\n",
    "from sklearn.model_selection import train_test_split"
   ]
  },
  {
   "cell_type": "markdown",
   "id": "cc193f59",
   "metadata": {},
   "source": [
    "Run this cell to check your current working directory. It should return the top folder \"machine-learning-assisted-khovanov-homology\""
   ]
  },
  {
   "cell_type": "code",
   "execution_count": 2,
   "id": "05997dd1",
   "metadata": {
    "ExecuteTime": {
     "end_time": "2022-12-04T23:34:02.772222Z",
     "start_time": "2022-12-04T23:34:02.765240Z"
    }
   },
   "outputs": [
    {
     "data": {
      "text/plain": [
       "'/Users/guoyihan/Documents/GitHub/MAT_180_ML_Projects/machine-learning-assisted-khovanov-homology/notebooks'"
      ]
     },
     "execution_count": 2,
     "metadata": {},
     "output_type": "execute_result"
    }
   ],
   "source": [
    "os.getcwd()"
   ]
  },
  {
   "cell_type": "code",
   "execution_count": 3,
   "id": "01c1cdda",
   "metadata": {
    "ExecuteTime": {
     "end_time": "2022-12-04T23:34:04.106057Z",
     "start_time": "2022-12-04T23:34:04.102389Z"
    }
   },
   "outputs": [],
   "source": [
    "#Run this cell once if still in the notebooks folder.\n",
    "#Note that running this command multiple times might get you too high in the directory tree so be \n",
    "#cautious running this cell\n",
    "os.chdir(\"../\")"
   ]
  },
  {
   "cell_type": "code",
   "execution_count": 68,
   "id": "c451adc3",
   "metadata": {},
   "outputs": [],
   "source": [
    "# regression with dataset_no_repeats.csv dataset.\n",
    "# change the dataset to get new report for prediction using total free part\n",
    "df = pd.read_csv(\"data/dataset_C.csv\")"
   ]
  },
  {
   "cell_type": "code",
   "execution_count": 69,
   "id": "a01f4d57",
   "metadata": {
    "scrolled": false
   },
   "outputs": [
    {
     "data": {
      "text/html": [
       "<div>\n",
       "<style scoped>\n",
       "    .dataframe tbody tr th:only-of-type {\n",
       "        vertical-align: middle;\n",
       "    }\n",
       "\n",
       "    .dataframe tbody tr th {\n",
       "        vertical-align: top;\n",
       "    }\n",
       "\n",
       "    .dataframe thead th {\n",
       "        text-align: right;\n",
       "    }\n",
       "</style>\n",
       "<table border=\"1\" class=\"dataframe\">\n",
       "  <thead>\n",
       "    <tr style=\"text-align: right;\">\n",
       "      <th></th>\n",
       "      <th>braid</th>\n",
       "      <th>components</th>\n",
       "      <th>khovanov_homology</th>\n",
       "      <th>free_part</th>\n",
       "      <th>torsion_part</th>\n",
       "      <th>free_part_count</th>\n",
       "      <th>torsion_part_count</th>\n",
       "      <th>total_num_FP_per_row</th>\n",
       "      <th>total_num_FP_per_column</th>\n",
       "      <th>jones_polynomial</th>\n",
       "    </tr>\n",
       "  </thead>\n",
       "  <tbody>\n",
       "    <tr>\n",
       "      <th>0</th>\n",
       "      <td>[2, 2, 1, -2, 2, 1, -1, -1, 2]</td>\n",
       "      <td>1</td>\n",
       "      <td>{1: {0: Z}, 3: {0: Z, 1: 0, 2: 0, 3: 0}, 5: {0...</td>\n",
       "      <td>{(1, 0): 1, (3, 0): 1, (5, 2): 1, (9, 3): 1}</td>\n",
       "      <td>{(7, 3): {2: 1}}</td>\n",
       "      <td>4</td>\n",
       "      <td>1</td>\n",
       "      <td>{1: 1, 3: 1, 5: 1, 9: 1}</td>\n",
       "      <td>{0: 2, 2: 1, 3: 1}</td>\n",
       "      <td>{1: 1, 3: 1, 4: -1}</td>\n",
       "    </tr>\n",
       "    <tr>\n",
       "      <th>1</th>\n",
       "      <td>[-2, -1, 1, -3, -1, 2, -3, -2, -1]</td>\n",
       "      <td>1</td>\n",
       "      <td>{-13: {-6: 0, -5: Z, -4: 0}, -11: {-6: 0, -5: ...</td>\n",
       "      <td>{(-13, -5): 1, (-9, -4): 1, (-9, -3): 1, (-7, ...</td>\n",
       "      <td>{(-11, -4): {2: 1}, (-7, -2): {2: 1}, (-5, -1)...</td>\n",
       "      <td>8</td>\n",
       "      <td>3</td>\n",
       "      <td>{-13: 1, -9: 2, -7: 1, -5: 1, -3: 2, -1: 1}</td>\n",
       "      <td>{-5: 1, -4: 1, -3: 1, -2: 2, -1: 1, 0: 2}</td>\n",
       "      <td>{-6: -1, -5: 1, -4: -1, -3: 2, -2: -1, -1: 1}</td>\n",
       "    </tr>\n",
       "    <tr>\n",
       "      <th>2</th>\n",
       "      <td>[-3, -2, 3, -2, -1, -1, 1, -3, -1]</td>\n",
       "      <td>3</td>\n",
       "      <td>{-15: {-6: Z}, -13: {-6: Z, -5: 0, -4: 0, -3: ...</td>\n",
       "      <td>{(-15, -6): 1, (-13, -6): 1, (-11, -4): 2, (-9...</td>\n",
       "      <td>{(-9, -3): {2: 1}, (-5, -1): {2: 1}}</td>\n",
       "      <td>12</td>\n",
       "      <td>2</td>\n",
       "      <td>{-15: 1, -13: 1, -11: 2, -9: 1, -7: 3, -5: 1, ...</td>\n",
       "      <td>{-6: 2, -4: 3, -3: 1, -2: 3, -1: 1, 0: 2}</td>\n",
       "      <td>{-7: 1, -5: 2, -4: -1, -3: 2, -2: -1, -1: 1}</td>\n",
       "    </tr>\n",
       "    <tr>\n",
       "      <th>3</th>\n",
       "      <td>[3, 3, 2, 3, -1, -2, 2, 3, 3]</td>\n",
       "      <td>1</td>\n",
       "      <td>{1: {-1: 0, 0: 0}, 3: {-1: 0, 0: Z, 1: 0, 2: 0...</td>\n",
       "      <td>{(3, 0): 1, (5, 0): 1, (7, 2): 1, (11, 3): 1, ...</td>\n",
       "      <td>{(9, 3): {2: 1}, (13, 5): {2: 1}}</td>\n",
       "      <td>6</td>\n",
       "      <td>2</td>\n",
       "      <td>{3: 1, 5: 1, 7: 1, 11: 2, 15: 1}</td>\n",
       "      <td>{0: 2, 2: 1, 3: 1, 4: 1, 5: 1}</td>\n",
       "      <td>{2: 1, 4: 1, 5: -1, 6: 1, 7: -1}</td>\n",
       "    </tr>\n",
       "    <tr>\n",
       "      <th>4</th>\n",
       "      <td>[-3, -3, 2, -2, 2, 1, -3, -3, -3]</td>\n",
       "      <td>1</td>\n",
       "      <td>{-15: {-5: Z}, -13: {-5: 0, -4: C2}, -11: {-5:...</td>\n",
       "      <td>{(-15, -5): 1, (-11, -4): 1, (-11, -3): 1, (-7...</td>\n",
       "      <td>{(-13, -4): {2: 1}, (-9, -2): {2: 1}}</td>\n",
       "      <td>6</td>\n",
       "      <td>2</td>\n",
       "      <td>{-15: 1, -11: 2, -7: 1, -5: 1, -3: 1}</td>\n",
       "      <td>{-5: 1, -4: 1, -3: 1, -2: 1, 0: 2}</td>\n",
       "      <td>{-7: -1, -6: 1, -5: -1, -4: 1, -2: 1}</td>\n",
       "    </tr>\n",
       "    <tr>\n",
       "      <th>...</th>\n",
       "      <td>...</td>\n",
       "      <td>...</td>\n",
       "      <td>...</td>\n",
       "      <td>...</td>\n",
       "      <td>...</td>\n",
       "      <td>...</td>\n",
       "      <td>...</td>\n",
       "      <td>...</td>\n",
       "      <td>...</td>\n",
       "      <td>...</td>\n",
       "    </tr>\n",
       "    <tr>\n",
       "      <th>2526</th>\n",
       "      <td>[3, 1, 3, -1, -1, -1, -1, -1, -1]</td>\n",
       "      <td>3</td>\n",
       "      <td>{-17: {-6: 0, -5: 0}, -15: {-6: 0, -5: Z, -4: ...</td>\n",
       "      <td>{(-15, -5): 1, (-13, -5): 1, (-11, -4): 1, (-1...</td>\n",
       "      <td>{(-13, -4): {2: 1}, (-11, -4): {2: 1}, (-9, -2...</td>\n",
       "      <td>24</td>\n",
       "      <td>8</td>\n",
       "      <td>{-15: 1, -13: 1, -11: 3, -9: 3, -7: 3, -5: 4, ...</td>\n",
       "      <td>{-5: 2, -4: 2, -3: 4, -2: 4, -1: 2, 0: 6, 2: 4}</td>\n",
       "      <td>{-7: -1, -5: -1, -3: 1, -2: 1, -1: 2, 0: 1, 1: 1}</td>\n",
       "    </tr>\n",
       "    <tr>\n",
       "      <th>2527</th>\n",
       "      <td>[2, 2, 2, -1, -2, -3, -2, -1, -3]</td>\n",
       "      <td>1</td>\n",
       "      <td>{-11: {-6: 0, -5: Z, -4: 0}, -9: {-6: 0, -5: 0...</td>\n",
       "      <td>{(-11, -5): 1, (-7, -4): 1, (-7, -3): 1, (-5, ...</td>\n",
       "      <td>{(-9, -4): {2: 1}, (-5, -2): {2: 1}, (-3, -1):...</td>\n",
       "      <td>10</td>\n",
       "      <td>4</td>\n",
       "      <td>{-11: 1, -7: 2, -5: 1, -3: 1, -1: 3, 1: 1, 3: 1}</td>\n",
       "      <td>{-5: 1, -4: 1, -3: 1, -2: 2, -1: 1, 0: 3, 1: 1}</td>\n",
       "      <td>{-5: -1, -4: 1, -3: -1, -2: 2, -1: -1, 0: 2, 1...</td>\n",
       "    </tr>\n",
       "    <tr>\n",
       "      <th>2528</th>\n",
       "      <td>[2, 2, -1, 3, -1, -2, -2, -1, -1]</td>\n",
       "      <td>3</td>\n",
       "      <td>{-15: {-6: Z}, -13: {-6: 0, -5: Z x C2, -4: 0}...</td>\n",
       "      <td>{(-15, -6): 1, (-13, -5): 1, (-11, -5): 1, (-1...</td>\n",
       "      <td>{(-13, -5): {2: 1}, (-11, -4): {2: 1}, (-7, -2...</td>\n",
       "      <td>20</td>\n",
       "      <td>6</td>\n",
       "      <td>{-15: 1, -13: 1, -11: 3, -9: 5, -7: 2, -5: 2, ...</td>\n",
       "      <td>{-6: 1, -5: 2, -4: 5, -3: 2, -2: 4, -1: 2, 0: 4}</td>\n",
       "      <td>{-7: 1, -6: -2, -5: 3, -4: -2, -3: 4, -2: -2, ...</td>\n",
       "    </tr>\n",
       "    <tr>\n",
       "      <th>2529</th>\n",
       "      <td>[2, -3, -3, 2, -3, -1, -2, -1, 2]</td>\n",
       "      <td>1</td>\n",
       "      <td>{-13: {-6: 0, -5: 0}, -11: {-6: 0, -5: 0, -4: ...</td>\n",
       "      <td>{(-9, -3): 1, (-5, -2): 1, (-3, 0): 1, (-1, 0)...</td>\n",
       "      <td>{(-7, -2): {2: 1}}</td>\n",
       "      <td>4</td>\n",
       "      <td>1</td>\n",
       "      <td>{-9: 1, -5: 1, -3: 1, -1: 1}</td>\n",
       "      <td>{-3: 1, -2: 1, 0: 2}</td>\n",
       "      <td>{-4: -1, -3: 1, -1: 1}</td>\n",
       "    </tr>\n",
       "    <tr>\n",
       "      <th>2530</th>\n",
       "      <td>[-1, 2, -3, -1, -2, -2, -1, 3, 2]</td>\n",
       "      <td>3</td>\n",
       "      <td>{-13: {-6: 0, -5: Z}, -11: {-6: 0, -5: 0, -4: ...</td>\n",
       "      <td>{(-13, -5): 1, (-11, -4): 1, (-9, -4): 1, (-9,...</td>\n",
       "      <td>{(-11, -4): {2: 1}, (-9, -3): {2: 1}, (-7, -2)...</td>\n",
       "      <td>20</td>\n",
       "      <td>6</td>\n",
       "      <td>{-13: 1, -11: 1, -9: 2, -7: 4, -5: 4, -3: 3, -...</td>\n",
       "      <td>{-5: 1, -4: 2, -3: 2, -2: 6, -1: 2, 0: 5, 1: 1...</td>\n",
       "      <td>{-6: -1, -5: 2, -4: -2, -3: 4, -2: -2, -1: 3, ...</td>\n",
       "    </tr>\n",
       "  </tbody>\n",
       "</table>\n",
       "<p>2531 rows × 10 columns</p>\n",
       "</div>"
      ],
      "text/plain": [
       "                                   braid  components  \\\n",
       "0         [2, 2, 1, -2, 2, 1, -1, -1, 2]           1   \n",
       "1     [-2, -1, 1, -3, -1, 2, -3, -2, -1]           1   \n",
       "2     [-3, -2, 3, -2, -1, -1, 1, -3, -1]           3   \n",
       "3          [3, 3, 2, 3, -1, -2, 2, 3, 3]           1   \n",
       "4      [-3, -3, 2, -2, 2, 1, -3, -3, -3]           1   \n",
       "...                                  ...         ...   \n",
       "2526   [3, 1, 3, -1, -1, -1, -1, -1, -1]           3   \n",
       "2527   [2, 2, 2, -1, -2, -3, -2, -1, -3]           1   \n",
       "2528   [2, 2, -1, 3, -1, -2, -2, -1, -1]           3   \n",
       "2529   [2, -3, -3, 2, -3, -1, -2, -1, 2]           1   \n",
       "2530   [-1, 2, -3, -1, -2, -2, -1, 3, 2]           3   \n",
       "\n",
       "                                      khovanov_homology  \\\n",
       "0     {1: {0: Z}, 3: {0: Z, 1: 0, 2: 0, 3: 0}, 5: {0...   \n",
       "1     {-13: {-6: 0, -5: Z, -4: 0}, -11: {-6: 0, -5: ...   \n",
       "2     {-15: {-6: Z}, -13: {-6: Z, -5: 0, -4: 0, -3: ...   \n",
       "3     {1: {-1: 0, 0: 0}, 3: {-1: 0, 0: Z, 1: 0, 2: 0...   \n",
       "4     {-15: {-5: Z}, -13: {-5: 0, -4: C2}, -11: {-5:...   \n",
       "...                                                 ...   \n",
       "2526  {-17: {-6: 0, -5: 0}, -15: {-6: 0, -5: Z, -4: ...   \n",
       "2527  {-11: {-6: 0, -5: Z, -4: 0}, -9: {-6: 0, -5: 0...   \n",
       "2528  {-15: {-6: Z}, -13: {-6: 0, -5: Z x C2, -4: 0}...   \n",
       "2529  {-13: {-6: 0, -5: 0}, -11: {-6: 0, -5: 0, -4: ...   \n",
       "2530  {-13: {-6: 0, -5: Z}, -11: {-6: 0, -5: 0, -4: ...   \n",
       "\n",
       "                                              free_part  \\\n",
       "0          {(1, 0): 1, (3, 0): 1, (5, 2): 1, (9, 3): 1}   \n",
       "1     {(-13, -5): 1, (-9, -4): 1, (-9, -3): 1, (-7, ...   \n",
       "2     {(-15, -6): 1, (-13, -6): 1, (-11, -4): 2, (-9...   \n",
       "3     {(3, 0): 1, (5, 0): 1, (7, 2): 1, (11, 3): 1, ...   \n",
       "4     {(-15, -5): 1, (-11, -4): 1, (-11, -3): 1, (-7...   \n",
       "...                                                 ...   \n",
       "2526  {(-15, -5): 1, (-13, -5): 1, (-11, -4): 1, (-1...   \n",
       "2527  {(-11, -5): 1, (-7, -4): 1, (-7, -3): 1, (-5, ...   \n",
       "2528  {(-15, -6): 1, (-13, -5): 1, (-11, -5): 1, (-1...   \n",
       "2529  {(-9, -3): 1, (-5, -2): 1, (-3, 0): 1, (-1, 0)...   \n",
       "2530  {(-13, -5): 1, (-11, -4): 1, (-9, -4): 1, (-9,...   \n",
       "\n",
       "                                           torsion_part  free_part_count  \\\n",
       "0                                      {(7, 3): {2: 1}}                4   \n",
       "1     {(-11, -4): {2: 1}, (-7, -2): {2: 1}, (-5, -1)...                8   \n",
       "2                  {(-9, -3): {2: 1}, (-5, -1): {2: 1}}               12   \n",
       "3                     {(9, 3): {2: 1}, (13, 5): {2: 1}}                6   \n",
       "4                 {(-13, -4): {2: 1}, (-9, -2): {2: 1}}                6   \n",
       "...                                                 ...              ...   \n",
       "2526  {(-13, -4): {2: 1}, (-11, -4): {2: 1}, (-9, -2...               24   \n",
       "2527  {(-9, -4): {2: 1}, (-5, -2): {2: 1}, (-3, -1):...               10   \n",
       "2528  {(-13, -5): {2: 1}, (-11, -4): {2: 1}, (-7, -2...               20   \n",
       "2529                                 {(-7, -2): {2: 1}}                4   \n",
       "2530  {(-11, -4): {2: 1}, (-9, -3): {2: 1}, (-7, -2)...               20   \n",
       "\n",
       "      torsion_part_count                               total_num_FP_per_row  \\\n",
       "0                      1                           {1: 1, 3: 1, 5: 1, 9: 1}   \n",
       "1                      3        {-13: 1, -9: 2, -7: 1, -5: 1, -3: 2, -1: 1}   \n",
       "2                      2  {-15: 1, -13: 1, -11: 2, -9: 1, -7: 3, -5: 1, ...   \n",
       "3                      2                   {3: 1, 5: 1, 7: 1, 11: 2, 15: 1}   \n",
       "4                      2              {-15: 1, -11: 2, -7: 1, -5: 1, -3: 1}   \n",
       "...                  ...                                                ...   \n",
       "2526                   8  {-15: 1, -13: 1, -11: 3, -9: 3, -7: 3, -5: 4, ...   \n",
       "2527                   4   {-11: 1, -7: 2, -5: 1, -3: 1, -1: 3, 1: 1, 3: 1}   \n",
       "2528                   6  {-15: 1, -13: 1, -11: 3, -9: 5, -7: 2, -5: 2, ...   \n",
       "2529                   1                       {-9: 1, -5: 1, -3: 1, -1: 1}   \n",
       "2530                   6  {-13: 1, -11: 1, -9: 2, -7: 4, -5: 4, -3: 3, -...   \n",
       "\n",
       "                                total_num_FP_per_column  \\\n",
       "0                                    {0: 2, 2: 1, 3: 1}   \n",
       "1             {-5: 1, -4: 1, -3: 1, -2: 2, -1: 1, 0: 2}   \n",
       "2             {-6: 2, -4: 3, -3: 1, -2: 3, -1: 1, 0: 2}   \n",
       "3                        {0: 2, 2: 1, 3: 1, 4: 1, 5: 1}   \n",
       "4                    {-5: 1, -4: 1, -3: 1, -2: 1, 0: 2}   \n",
       "...                                                 ...   \n",
       "2526    {-5: 2, -4: 2, -3: 4, -2: 4, -1: 2, 0: 6, 2: 4}   \n",
       "2527    {-5: 1, -4: 1, -3: 1, -2: 2, -1: 1, 0: 3, 1: 1}   \n",
       "2528   {-6: 1, -5: 2, -4: 5, -3: 2, -2: 4, -1: 2, 0: 4}   \n",
       "2529                               {-3: 1, -2: 1, 0: 2}   \n",
       "2530  {-5: 1, -4: 2, -3: 2, -2: 6, -1: 2, 0: 5, 1: 1...   \n",
       "\n",
       "                                       jones_polynomial  \n",
       "0                                   {1: 1, 3: 1, 4: -1}  \n",
       "1         {-6: -1, -5: 1, -4: -1, -3: 2, -2: -1, -1: 1}  \n",
       "2          {-7: 1, -5: 2, -4: -1, -3: 2, -2: -1, -1: 1}  \n",
       "3                      {2: 1, 4: 1, 5: -1, 6: 1, 7: -1}  \n",
       "4                 {-7: -1, -6: 1, -5: -1, -4: 1, -2: 1}  \n",
       "...                                                 ...  \n",
       "2526  {-7: -1, -5: -1, -3: 1, -2: 1, -1: 2, 0: 1, 1: 1}  \n",
       "2527  {-5: -1, -4: 1, -3: -1, -2: 2, -1: -1, 0: 2, 1...  \n",
       "2528  {-7: 1, -6: -2, -5: 3, -4: -2, -3: 4, -2: -2, ...  \n",
       "2529                             {-4: -1, -3: 1, -1: 1}  \n",
       "2530  {-6: -1, -5: 2, -4: -2, -3: 4, -2: -2, -1: 3, ...  \n",
       "\n",
       "[2531 rows x 10 columns]"
      ]
     },
     "execution_count": 69,
     "metadata": {},
     "output_type": "execute_result"
    }
   ],
   "source": [
    "df"
   ]
  },
  {
   "cell_type": "code",
   "execution_count": 40,
   "id": "9621150e",
   "metadata": {},
   "outputs": [
    {
     "data": {
      "text/plain": [
       "<seaborn.axisgrid.PairGrid at 0x7fa750a11ac0>"
      ]
     },
     "execution_count": 40,
     "metadata": {},
     "output_type": "execute_result"
    },
    {
     "data": {
      "image/png": "[encoded data removed]",
      "text/plain": [
       "<Figure size 360x360 with 6 Axes>"
      ]
     },
     "metadata": {
      "needs_background": "light"
     },
     "output_type": "display_data"
    }
   ],
   "source": [
    "# look at data distribution using seaborn plot\n",
    "sns.pairplot(df[['free_part_count','torsion_part_count']])"
   ]
  },
  {
   "cell_type": "markdown",
   "id": "df0eaad1",
   "metadata": {},
   "source": [
    "# Step2. Trian the LinearRegression Model&PolynomialRegression Model and find the parameters using the function we built ourselves"
   ]
  },
  {
   "cell_type": "code",
   "execution_count": 74,
   "id": "3fe527da",
   "metadata": {
    "ExecuteTime": {
     "end_time": "2022-12-05T00:26:25.507037Z",
     "start_time": "2022-12-05T00:26:25.502756Z"
    }
   },
   "outputs": [],
   "source": [
    "#Import functions built in class\n",
    "from scripts.predict_accuracy import prediction, accuracy\n",
    "from scripts.GDLinearReg import J, DJ, GD_linreg_improved,fit,add_poly_terms"
   ]
  },
  {
   "cell_type": "code",
   "execution_count": 75,
   "id": "488c78e2",
   "metadata": {
    "ExecuteTime": {
     "end_time": "2022-12-05T00:26:26.752380Z",
     "start_time": "2022-12-05T00:26:26.743545Z"
    }
   },
   "outputs": [],
   "source": [
    "X = (np.array(df.free_part_count)).reshape(-1, 1)\n",
    "y = (np.array(df.torsion_part_count)).reshape(-1,1)\n",
    "\n",
    "X_train, X_test, y_train, y_test = train_test_split(X, y, test_size=0.2, random_state=1)\n",
    "X_train, X_val, y_train, y_val = train_test_split(X_train, y_train, test_size=0.25, random_state=1)"
   ]
  },
  {
   "cell_type": "code",
   "execution_count": 76,
   "id": "7246a8b0",
   "metadata": {
    "ExecuteTime": {
     "end_time": "2022-12-05T00:26:27.501140Z",
     "start_time": "2022-12-05T00:26:27.495115Z"
    }
   },
   "outputs": [
    {
     "name": "stdout",
     "output_type": "stream",
     "text": [
      "Size of training set: 1518\n",
      "Size of validation set: 506\n",
      "Size of testing set: 507\n"
     ]
    }
   ],
   "source": [
    "print(f'Size of training set: {len(X_train)}')\n",
    "print(f'Size of validation set: {len(X_val)}')\n",
    "print(f'Size of testing set: {len(X_test)}')"
   ]
  },
  {
   "cell_type": "code",
   "execution_count": 77,
   "id": "db8bba7a",
   "metadata": {},
   "outputs": [
    {
     "name": "stdout",
     "output_type": "stream",
     "text": [
      "Running polynomial regression of degree 1 \n",
      "\n",
      "After 0 steps the cost is 37.69038208168644\n",
      "After 9 steps the cost is 1.915558034227914\n",
      "\n",
      "Final cost is 1.915558034227833\n",
      "\n",
      "Accuracy of training set is: 0.11725955204216074\n",
      "Accuracy of validation set is: 0.12450592885375494\n",
      "Accuracy of test set is: 0.11637080867850098\n",
      "[[-1.73216406]\n",
      " [ 0.45056383]]\n"
     ]
    }
   ],
   "source": [
    "# predict with 1,2,3 components link Linear Regression\n",
    "degree = 1\n",
    "\n",
    "v, costs = fit(X_train, y_train, epsilon = 1e-10, lambda_ = 0, max_iters = 10000, poly_terms = degree)\n",
    "\n",
    "print(f'Accuracy of training set is: {accuracy(add_poly_terms(X_train, degree),v,y_train)}')\n",
    "print(f'Accuracy of validation set is: {accuracy(add_poly_terms(X_val, degree),v,y_val)}')\n",
    "print(f'Accuracy of test set is: {accuracy(add_poly_terms(X_test, degree),v,y_test)}')\n",
    "print(v)"
   ]
  },
  {
   "cell_type": "code",
   "execution_count": 78,
   "id": "9998bd13",
   "metadata": {
    "ExecuteTime": {
     "end_time": "2022-12-05T00:26:40.146433Z",
     "start_time": "2022-12-05T00:26:39.723041Z"
    }
   },
   "outputs": [
    {
     "name": "stdout",
     "output_type": "stream",
     "text": [
      "Running polynomial regression of degree 2 \n",
      "\n",
      "After 0 steps the cost is 37.69038208168644\n",
      "After 1000 steps the cost is 1.7294262169070482\n",
      "After 2000 steps the cost is 1.7223811562315872\n",
      "After 3000 steps the cost is 1.7215426863722545\n",
      "After 4000 steps the cost is 1.7214428956397885\n",
      "After 5000 steps the cost is 1.721431019010098\n",
      "After 6000 steps the cost is 1.721429605510707\n",
      "After 6660 steps the cost is 1.7214294614185082\n",
      "\n",
      "Final cost is 1.7214294613188657\n",
      "\n",
      "Accuracy of training set is: 0.19696969696969696\n",
      "Accuracy of validation set is: 0.16996047430830039\n",
      "Accuracy of test set is: 0.17751479289940827\n",
      "[[-0.7375422 ]\n",
      " [ 0.32638822]\n",
      " [ 0.0027388 ]]\n"
     ]
    }
   ],
   "source": [
    "# predict with 1,2,3 components Polynomial Regression\n",
    "degree = 2\n",
    "\n",
    "v, costs = fit(X_train, y_train, epsilon = 1e-10, lambda_ = 0, max_iters = 10000, poly_terms = degree)\n",
    "\n",
    "print(f'Accuracy of training set is: {accuracy(add_poly_terms(X_train, degree),v,y_train)}')\n",
    "print(f'Accuracy of validation set is: {accuracy(add_poly_terms(X_val, degree),v,y_val)}')\n",
    "print(f'Accuracy of test set is: {accuracy(add_poly_terms(X_test, degree),v,y_test)}')\n",
    "print(v)"
   ]
  },
  {
   "cell_type": "code",
   "execution_count": 89,
   "id": "484f92f3",
   "metadata": {},
   "outputs": [],
   "source": [
    "X1 = df[df.components == 1][\"free_part_count\"].to_numpy().reshape(-1,1)\n",
    "Y1 = df[df.components == 1][\"torsion_part_count\"].to_numpy().reshape(-1,1)\n",
    "X2 = df[df.components == 2][\"free_part_count\"].to_numpy().reshape(-1,1)\n",
    "Y2 = df[df.components == 2][\"torsion_part_count\"].to_numpy().reshape(-1,1)\n",
    "X3 = df[df.components == 3][\"free_part_count\"].to_numpy().reshape(-1,1)\n",
    "Y3 = df[df.components == 3][\"torsion_part_count\"].to_numpy().reshape(-1,1)"
   ]
  },
  {
   "cell_type": "code",
   "execution_count": 90,
   "id": "e0e52231",
   "metadata": {},
   "outputs": [],
   "source": [
    "# predict with 1 component link\n",
    "X_train, X_test, y_train, y_test = train_test_split(X1, Y1, test_size=0.2, random_state=1)\n",
    "X_train, X_val, y_train, y_val = train_test_split(X_train, y_train, test_size=0.25, random_state=1)"
   ]
  },
  {
   "cell_type": "code",
   "execution_count": 91,
   "id": "d8ae7b53",
   "metadata": {},
   "outputs": [
    {
     "name": "stdout",
     "output_type": "stream",
     "text": [
      "Running polynomial regression of degree 1 \n",
      "\n",
      "After 0 steps the cost is 34.95317220543806\n",
      "After 7 steps the cost is 0.0593826548764601\n",
      "\n",
      "Final cost is 0.059382654875744276\n",
      "\n",
      "Accuracy of training set is: 0.9848942598187311\n",
      "Accuracy of validation set is: 0.9864253393665159\n",
      "Accuracy of test set is: 0.9683257918552036\n",
      "[[-1.04602122]\n",
      " [ 0.50144838]]\n"
     ]
    }
   ],
   "source": [
    "degree = 1\n",
    "\n",
    "v, costs = fit(X_train, y_train, epsilon = 1e-10, lambda_ = 0, max_iters = 10000, poly_terms = degree)\n",
    "\n",
    "print(f'Accuracy of training set is: {accuracy(add_poly_terms(X_train, degree),v,y_train)}')\n",
    "print(f'Accuracy of validation set is: {accuracy(add_poly_terms(X_val, degree),v,y_val)}')\n",
    "print(f'Accuracy of test set is: {accuracy(add_poly_terms(X_test, degree),v,y_test)}')\n",
    "print(v)"
   ]
  },
  {
   "cell_type": "code",
   "execution_count": 97,
   "id": "2b2865e4",
   "metadata": {},
   "outputs": [],
   "source": [
    "# predict with 2 component link\n",
    "X_train, X_test, y_train, y_test = train_test_split(X2, Y2, test_size=0.2, random_state=1)\n",
    "X_train, X_val, y_train, y_val = train_test_split(X_train, y_train, test_size=0.25, random_state=1)"
   ]
  },
  {
   "cell_type": "code",
   "execution_count": 98,
   "id": "b178fbdd",
   "metadata": {},
   "outputs": [
    {
     "name": "stdout",
     "output_type": "stream",
     "text": [
      "Running polynomial regression of degree 1 \n",
      "\n",
      "After 0 steps the cost is 27.086956521739136\n",
      "After 10 steps the cost is 0.04298997741997323\n",
      "\n",
      "Final cost is 0.042989977418824106\n",
      "\n",
      "Accuracy of training set is: 0.9891304347826086\n",
      "Accuracy of validation set is: 0.9838709677419355\n",
      "Accuracy of test set is: 0.9838709677419355\n",
      "[[-2.0278167 ]\n",
      " [ 0.50053558]]\n"
     ]
    }
   ],
   "source": [
    "degree = 1\n",
    "\n",
    "v, costs = fit(X_train, y_train, epsilon = 1e-10, lambda_ = 0, max_iters = 10000, poly_terms = degree)\n",
    "\n",
    "print(f'Accuracy of training set is: {accuracy(add_poly_terms(X_train, degree),v,y_train)}')\n",
    "print(f'Accuracy of validation set is: {accuracy(add_poly_terms(X_val, degree),v,y_val)}')\n",
    "print(f'Accuracy of test set is: {accuracy(add_poly_terms(X_test, degree),v,y_test)}')\n",
    "print(v)"
   ]
  },
  {
   "cell_type": "code",
   "execution_count": 99,
   "id": "a340cddd",
   "metadata": {},
   "outputs": [],
   "source": [
    "# predict with 3 component link\n",
    "X_train, X_test, y_train, y_test = train_test_split(X3, Y3, test_size=0.2, random_state=1)\n",
    "X_train, X_val, y_train, y_val = train_test_split(X_train, y_train, test_size=0.25, random_state=1)"
   ]
  },
  {
   "cell_type": "code",
   "execution_count": 103,
   "id": "f36dcfb2",
   "metadata": {},
   "outputs": [
    {
     "name": "stdout",
     "output_type": "stream",
     "text": [
      "Running polynomial regression of degree 1 \n",
      "\n",
      "After 0 steps the cost is 38.46795827123695\n",
      "After 12 steps the cost is 0.4742676222943943\n",
      "\n",
      "Final cost is 0.47426762229265484\n",
      "\n",
      "Accuracy of training set is: 0.9597615499254843\n",
      "Accuracy of validation set is: 0.9508928571428571\n",
      "Accuracy of test set is: 0.9508928571428571\n",
      "[[-4.24670737]\n",
      " [ 0.51874705]]\n"
     ]
    }
   ],
   "source": [
    "degree = 1\n",
    "\n",
    "v, costs = fit(X_train, y_train, epsilon = 1e-10, lambda_ = 0, max_iters = 10000, poly_terms = degree)\n",
    "\n",
    "print(f'Accuracy of training set is: {accuracy(add_poly_terms(X_train, degree),v,y_train)}')\n",
    "print(f'Accuracy of validation set is: {accuracy(add_poly_terms(X_val, degree),v,y_val)}')\n",
    "print(f'Accuracy of test set is: {accuracy(add_poly_terms(X_test, degree),v,y_test)}')\n",
    "print(v)"
   ]
  },
  {
   "cell_type": "code",
   "execution_count": 12,
   "id": "ed0e93f4",
   "metadata": {},
   "outputs": [],
   "source": [
    "# we need to test with the dataset that has 2_component link or 3-componet link.\n",
    "# also a dataset combined them together"
   ]
  },
  {
   "cell_type": "markdown",
   "id": "a7a4c460",
   "metadata": {},
   "source": [
    "# Step3. Train the LinearRegression model from Scikit-Learn"
   ]
  },
  {
   "cell_type": "code",
   "execution_count": 16,
   "id": "35cf7bea",
   "metadata": {
    "ExecuteTime": {
     "end_time": "2022-12-05T00:14:22.790272Z",
     "start_time": "2022-12-05T00:14:22.781443Z"
    }
   },
   "outputs": [],
   "source": [
    "# try to make prediction using LinearRegression and libraries from sklearn\n",
    "from sklearn.linear_model import LinearRegression\n",
    "from sklearn.metrics import classification_report\n",
    "\n",
    "# need to reshape X because there is only one feature in X (i.e. X is currently a row vector, need to convert it to a column vector)\n",
    "X = (np.array(df.free_part_count)).reshape(-1, 1)\n",
    "y = (np.array(df.torsion_part_count))\n",
    "\n",
    "# split X and y into training and testing sets\n",
    "X_train, X_test, y_train, y_test = train_test_split(X, y, test_size=0.2, random_state=42)\n",
    "X_train, X_val, y_train, y_val = train_test_split(X_train, y_train, test_size=0.25, random_state=1)"
   ]
  },
  {
   "cell_type": "code",
   "execution_count": 17,
   "id": "e5993a08",
   "metadata": {
    "ExecuteTime": {
     "end_time": "2022-12-05T00:07:09.899898Z",
     "start_time": "2022-12-05T00:07:09.896042Z"
    }
   },
   "outputs": [],
   "source": [
    "# import libraries for Polynomial Regression\n",
    "from sklearn.preprocessing import PolynomialFeatures"
   ]
  },
  {
   "cell_type": "code",
   "execution_count": 18,
   "id": "d31bdbb2",
   "metadata": {},
   "outputs": [],
   "source": [
    "# function to compute accuracy\n",
    "def find_accuracy(y_pred, y_true):\n",
    "    accur_count = 0\n",
    "    for index,y in enumerate(y_pred):\n",
    "        if y == math.ceil(y_true[index]):\n",
    "            accur_count += 1\n",
    "    return accur_count/len(y_true)"
   ]
  },
  {
   "cell_type": "code",
   "execution_count": 19,
   "id": "727551fc",
   "metadata": {
    "ExecuteTime": {
     "end_time": "2022-12-05T00:17:05.383237Z",
     "start_time": "2022-12-05T00:17:05.312434Z"
    }
   },
   "outputs": [
    {
     "name": "stdout",
     "output_type": "stream",
     "text": [
      "Polynomial Features: [1,x,x**2,...,x**1]\n",
      "[ 1. 10.]\n",
      "Polynomial Features: [1,x,x**2,...,x**1]\n",
      "[1. 4.]\n",
      "Polynomial Features: [1,x,x**2,...,x**1]\n",
      "[ 1. 14.]\n",
      "Polynomial Features: [1,x,x**2,...,x**2]\n",
      "[  1.  10. 100.]\n",
      "Polynomial Features: [1,x,x**2,...,x**2]\n",
      "[ 1.  4. 16.]\n",
      "Polynomial Features: [1,x,x**2,...,x**2]\n",
      "[  1.  14. 196.]\n",
      "Polynomial Features: [1,x,x**2,...,x**3]\n",
      "[   1.   10.  100. 1000.]\n",
      "Polynomial Features: [1,x,x**2,...,x**3]\n",
      "[ 1.  4. 16. 64.]\n",
      "Polynomial Features: [1,x,x**2,...,x**3]\n",
      "[1.000e+00 1.400e+01 1.960e+02 2.744e+03]\n",
      "Polynomial Features: [1,x,x**2,...,x**4]\n",
      "[1.e+00 1.e+01 1.e+02 1.e+03 1.e+04]\n",
      "Polynomial Features: [1,x,x**2,...,x**4]\n",
      "[  1.   4.  16.  64. 256.]\n",
      "Polynomial Features: [1,x,x**2,...,x**4]\n",
      "[1.0000e+00 1.4000e+01 1.9600e+02 2.7440e+03 3.8416e+04]\n",
      "Polynomial Features: [1,x,x**2,...,x**5]\n",
      "[1.e+00 1.e+01 1.e+02 1.e+03 1.e+04 1.e+05]\n",
      "Polynomial Features: [1,x,x**2,...,x**5]\n",
      "[1.000e+00 4.000e+00 1.600e+01 6.400e+01 2.560e+02 1.024e+03]\n",
      "Polynomial Features: [1,x,x**2,...,x**5]\n",
      "[1.00000e+00 1.40000e+01 1.96000e+02 2.74400e+03 3.84160e+04 5.37824e+05]\n",
      "Polynomial Features: [1,x,x**2,...,x**6]\n",
      "[1.e+00 1.e+01 1.e+02 1.e+03 1.e+04 1.e+05 1.e+06]\n",
      "Polynomial Features: [1,x,x**2,...,x**6]\n",
      "[1.000e+00 4.000e+00 1.600e+01 6.400e+01 2.560e+02 1.024e+03 4.096e+03]\n",
      "Polynomial Features: [1,x,x**2,...,x**6]\n",
      "[1.000000e+00 1.400000e+01 1.960000e+02 2.744000e+03 3.841600e+04\n",
      " 5.378240e+05 7.529536e+06]\n",
      "Polynomial Features: [1,x,x**2,...,x**7]\n",
      "[1.e+00 1.e+01 1.e+02 1.e+03 1.e+04 1.e+05 1.e+06 1.e+07]\n",
      "Polynomial Features: [1,x,x**2,...,x**7]\n",
      "[1.0000e+00 4.0000e+00 1.6000e+01 6.4000e+01 2.5600e+02 1.0240e+03\n",
      " 4.0960e+03 1.6384e+04]\n",
      "Polynomial Features: [1,x,x**2,...,x**7]\n",
      "[1.00000000e+00 1.40000000e+01 1.96000000e+02 2.74400000e+03\n",
      " 3.84160000e+04 5.37824000e+05 7.52953600e+06 1.05413504e+08]\n",
      "Polynomial Features: [1,x,x**2,...,x**8]\n",
      "[1.e+00 1.e+01 1.e+02 1.e+03 1.e+04 1.e+05 1.e+06 1.e+07 1.e+08]\n",
      "Polynomial Features: [1,x,x**2,...,x**8]\n",
      "[1.0000e+00 4.0000e+00 1.6000e+01 6.4000e+01 2.5600e+02 1.0240e+03\n",
      " 4.0960e+03 1.6384e+04 6.5536e+04]\n",
      "Polynomial Features: [1,x,x**2,...,x**8]\n",
      "[1.00000000e+00 1.40000000e+01 1.96000000e+02 2.74400000e+03\n",
      " 3.84160000e+04 5.37824000e+05 7.52953600e+06 1.05413504e+08\n",
      " 1.47578906e+09]\n",
      "Polynomial Features: [1,x,x**2,...,x**9]\n",
      "[1.e+00 1.e+01 1.e+02 1.e+03 1.e+04 1.e+05 1.e+06 1.e+07 1.e+08 1.e+09]\n",
      "Polynomial Features: [1,x,x**2,...,x**9]\n",
      "[1.00000e+00 4.00000e+00 1.60000e+01 6.40000e+01 2.56000e+02 1.02400e+03\n",
      " 4.09600e+03 1.63840e+04 6.55360e+04 2.62144e+05]\n",
      "Polynomial Features: [1,x,x**2,...,x**9]\n",
      "[1.00000000e+00 1.40000000e+01 1.96000000e+02 2.74400000e+03\n",
      " 3.84160000e+04 5.37824000e+05 7.52953600e+06 1.05413504e+08\n",
      " 1.47578906e+09 2.06610468e+10]\n",
      "Polynomial Features: [1,x,x**2,...,x**10]\n",
      "[1.e+00 1.e+01 1.e+02 1.e+03 1.e+04 1.e+05 1.e+06 1.e+07 1.e+08 1.e+09\n",
      " 1.e+10]\n",
      "Polynomial Features: [1,x,x**2,...,x**10]\n",
      "[1.000000e+00 4.000000e+00 1.600000e+01 6.400000e+01 2.560000e+02\n",
      " 1.024000e+03 4.096000e+03 1.638400e+04 6.553600e+04 2.621440e+05\n",
      " 1.048576e+06]\n",
      "Polynomial Features: [1,x,x**2,...,x**10]\n",
      "[1.00000000e+00 1.40000000e+01 1.96000000e+02 2.74400000e+03\n",
      " 3.84160000e+04 5.37824000e+05 7.52953600e+06 1.05413504e+08\n",
      " 1.47578906e+09 2.06610468e+10 2.89254655e+11]\n",
      "Polynomial Features: [1,x,x**2,...,x**11]\n",
      "[1.e+00 1.e+01 1.e+02 1.e+03 1.e+04 1.e+05 1.e+06 1.e+07 1.e+08 1.e+09\n",
      " 1.e+10 1.e+11]\n",
      "Polynomial Features: [1,x,x**2,...,x**11]\n",
      "[1.000000e+00 4.000000e+00 1.600000e+01 6.400000e+01 2.560000e+02\n",
      " 1.024000e+03 4.096000e+03 1.638400e+04 6.553600e+04 2.621440e+05\n",
      " 1.048576e+06 4.194304e+06]\n",
      "Polynomial Features: [1,x,x**2,...,x**11]\n",
      "[1.00000000e+00 1.40000000e+01 1.96000000e+02 2.74400000e+03\n",
      " 3.84160000e+04 5.37824000e+05 7.52953600e+06 1.05413504e+08\n",
      " 1.47578906e+09 2.06610468e+10 2.89254655e+11 4.04956517e+12]\n",
      "Polynomial Features: [1,x,x**2,...,x**12]\n",
      "[1.e+00 1.e+01 1.e+02 1.e+03 1.e+04 1.e+05 1.e+06 1.e+07 1.e+08 1.e+09\n",
      " 1.e+10 1.e+11 1.e+12]\n",
      "Polynomial Features: [1,x,x**2,...,x**12]\n",
      "[1.0000000e+00 4.0000000e+00 1.6000000e+01 6.4000000e+01 2.5600000e+02\n",
      " 1.0240000e+03 4.0960000e+03 1.6384000e+04 6.5536000e+04 2.6214400e+05\n",
      " 1.0485760e+06 4.1943040e+06 1.6777216e+07]\n",
      "Polynomial Features: [1,x,x**2,...,x**12]\n",
      "[1.00000000e+00 1.40000000e+01 1.96000000e+02 2.74400000e+03\n",
      " 3.84160000e+04 5.37824000e+05 7.52953600e+06 1.05413504e+08\n",
      " 1.47578906e+09 2.06610468e+10 2.89254655e+11 4.04956517e+12\n",
      " 5.66939124e+13]\n",
      "Polynomial Features: [1,x,x**2,...,x**13]\n",
      "[1.e+00 1.e+01 1.e+02 1.e+03 1.e+04 1.e+05 1.e+06 1.e+07 1.e+08 1.e+09\n",
      " 1.e+10 1.e+11 1.e+12 1.e+13]\n",
      "Polynomial Features: [1,x,x**2,...,x**13]\n",
      "[1.0000000e+00 4.0000000e+00 1.6000000e+01 6.4000000e+01 2.5600000e+02\n",
      " 1.0240000e+03 4.0960000e+03 1.6384000e+04 6.5536000e+04 2.6214400e+05\n",
      " 1.0485760e+06 4.1943040e+06 1.6777216e+07 6.7108864e+07]\n",
      "Polynomial Features: [1,x,x**2,...,x**13]\n",
      "[1.00000000e+00 1.40000000e+01 1.96000000e+02 2.74400000e+03\n",
      " 3.84160000e+04 5.37824000e+05 7.52953600e+06 1.05413504e+08\n",
      " 1.47578906e+09 2.06610468e+10 2.89254655e+11 4.04956517e+12\n",
      " 5.66939124e+13 7.93714773e+14]\n",
      "Polynomial Features: [1,x,x**2,...,x**14]\n",
      "[1.e+00 1.e+01 1.e+02 1.e+03 1.e+04 1.e+05 1.e+06 1.e+07 1.e+08 1.e+09\n",
      " 1.e+10 1.e+11 1.e+12 1.e+13 1.e+14]\n",
      "Polynomial Features: [1,x,x**2,...,x**14]\n",
      "[1.00000000e+00 4.00000000e+00 1.60000000e+01 6.40000000e+01\n",
      " 2.56000000e+02 1.02400000e+03 4.09600000e+03 1.63840000e+04\n",
      " 6.55360000e+04 2.62144000e+05 1.04857600e+06 4.19430400e+06\n",
      " 1.67772160e+07 6.71088640e+07 2.68435456e+08]\n",
      "Polynomial Features: [1,x,x**2,...,x**14]\n",
      "[1.00000000e+00 1.40000000e+01 1.96000000e+02 2.74400000e+03\n",
      " 3.84160000e+04 5.37824000e+05 7.52953600e+06 1.05413504e+08\n",
      " 1.47578906e+09 2.06610468e+10 2.89254655e+11 4.04956517e+12\n",
      " 5.66939124e+13 7.93714773e+14 1.11120068e+16]\n"
     ]
    }
   ],
   "source": [
    "# Find the degree of Polynomial Regression that gives the best prediction accuracy\n",
    "model_degrees_and_scores = {}\n",
    "model_degrees_and_accuracy = {}\n",
    "for current_degree in range(1,15):\n",
    "    polynomial_features= PolynomialFeatures(degree=current_degree)\n",
    "    X_poly_train_deg = polynomial_features.fit_transform(X_train)\n",
    "    print(f'Polynomial Features: [1,x,x**2,...,x**{current_degree}]')\n",
    "    print(X_poly_train_deg[0])\n",
    "    \n",
    "    X_poly_val_deg = polynomial_features.fit_transform(X_val)\n",
    "    print(f'Polynomial Features: [1,x,x**2,...,x**{current_degree}]')\n",
    "    print(X_poly_val_deg[0])\n",
    "    \n",
    "\n",
    "    X_poly_test_deg = polynomial_features.fit_transform(X_test)\n",
    "    print(f'Polynomial Features: [1,x,x**2,...,x**{current_degree}]')\n",
    "    print(X_poly_test_deg[0])\n",
    "\n",
    "    polyreg = LinearRegression().fit(X_poly_train_deg, y_train)\n",
    "    \n",
    "    train_score = polyreg.score(X_poly_train_deg,y_train)\n",
    "    val_score = polyreg.score(X_poly_val_deg,y_val)\n",
    "    test_score = polyreg.score(X_poly_test_deg,y_test)\n",
    "        \n",
    "    y_train_pred = polyreg.predict(X_poly_train_deg)\n",
    "    y_val_pred = polyreg.predict(X_poly_val_deg)\n",
    "    y_test_pred = polyreg.predict(X_poly_test_deg)\n",
    "    train_accuracy = find_accuracy(y_train, y_train_pred)\n",
    "    val_accuracy = find_accuracy(y_val, y_val_pred)\n",
    "    test_accuracy = find_accuracy(y_test, y_test_pred)\n",
    "    \n",
    "    model_degrees_and_scores[current_degree] = (train_score, val_score, test_score)\n",
    "    model_degrees_and_accuracy[current_degree] = (train_accuracy, val_accuracy, test_accuracy)"
   ]
  },
  {
   "cell_type": "code",
   "execution_count": 20,
   "id": "8a5de91b",
   "metadata": {
    "ExecuteTime": {
     "end_time": "2022-12-05T00:22:44.760390Z",
     "start_time": "2022-12-05T00:22:44.753551Z"
    }
   },
   "outputs": [
    {
     "name": "stdout",
     "output_type": "stream",
     "text": [
      "Degree 1 scores: (0.9961854542032902, 0.996689906167883, 0.9986253583557888)\n",
      "Degree 2 scores: (0.9961855431112161, 0.9966895074290567, 0.9986249143257563)\n",
      "Degree 3 scores: (0.9961932965785659, 0.9966981368106852, 0.9986212759008535)\n",
      "Degree 4 scores: (0.996219219700024, 0.9967179279103181, 0.998606321386437)\n",
      "Degree 5 scores: (0.9962596431360705, 0.9967519307061131, 0.998581222802471)\n",
      "Degree 6 scores: (0.9962954369649488, 0.996767244909191, 0.998557268965047)\n",
      "Degree 7 scores: (0.9963098365320182, 0.9967699981628567, 0.9985500241346432)\n",
      "Degree 8 scores: (0.9963105464454888, 0.9967680059963694, 0.9985490659396984)\n",
      "Degree 9 scores: (0.9963072188838022, 0.9967600761688417, 0.9985332524282866)\n",
      "Degree 10 scores: (0.9914089185049131, 0.9905652177069153, 0.9915613731545233)\n",
      "Degree 11 scores: (0.9768961727036134, 0.9755531682353894, 0.9735762151174491)\n",
      "Degree 12 scores: (0.9509284710094854, 0.948162826290044, 0.9365058987896278)\n",
      "Degree 13 scores: (0.9122816148839594, 0.9053223194910859, 0.8848826725937541)\n",
      "Degree 14 scores: (0.7593371541072363, 0.7303381104310236, 0.6943945842316875)\n"
     ]
    }
   ],
   "source": [
    "for i, scores in model_degrees_and_scores.items():\n",
    "    print(f'Degree {i} scores: {scores}')"
   ]
  },
  {
   "cell_type": "code",
   "execution_count": 21,
   "id": "e13db6a5",
   "metadata": {},
   "outputs": [
    {
     "name": "stdout",
     "output_type": "stream",
     "text": [
      "Degree 1 scores: (0.9567901234567902, 0.9537037037037037, 0.9631336405529954)\n",
      "Degree 2 scores: (0.9567901234567902, 0.9537037037037037, 0.9631336405529954)\n",
      "Degree 3 scores: (0.9290123456790124, 0.9166666666666666, 0.9447004608294931)\n",
      "Degree 4 scores: (0.8981481481481481, 0.9120370370370371, 0.8940092165898618)\n",
      "Degree 5 scores: (0.8472222222222222, 0.875, 0.8663594470046083)\n",
      "Degree 6 scores: (0.5817901234567902, 0.5925925925925926, 0.6129032258064516)\n",
      "Degree 7 scores: (0.5987654320987654, 0.5879629629629629, 0.6267281105990783)\n",
      "Degree 8 scores: (0.5416666666666666, 0.5277777777777778, 0.5391705069124424)\n",
      "Degree 9 scores: (0.5555555555555556, 0.5138888888888888, 0.5483870967741935)\n",
      "Degree 10 scores: (0.558641975308642, 0.5092592592592593, 0.543778801843318)\n",
      "Degree 11 scores: (0.5740740740740741, 0.5787037037037037, 0.6036866359447005)\n",
      "Degree 12 scores: (0.24228395061728394, 0.25, 0.2764976958525346)\n",
      "Degree 13 scores: (0.14351851851851852, 0.12037037037037036, 0.1889400921658986)\n",
      "Degree 14 scores: (0.1388888888888889, 0.13425925925925927, 0.1152073732718894)\n"
     ]
    }
   ],
   "source": [
    "for i, accuracy in model_degrees_and_accuracy.items():\n",
    "    print(f'Degree {i} scores: {accuracy}')"
   ]
  }
 ],
 "metadata": {
  "kernelspec": {
   "display_name": "Python 3 (ipykernel)",
   "language": "python",
   "name": "python3"
  },
  "language_info": {
   "codemirror_mode": {
    "name": "ipython",
    "version": 3
   },
   "file_extension": ".py",
   "mimetype": "text/x-python",
   "name": "python",
   "nbconvert_exporter": "python",
   "pygments_lexer": "ipython3",
   "version": "3.9.12"
  }
 },
 "nbformat": 4,
 "nbformat_minor": 5
}

{
 "cells": [
  {
   "cell_type": "markdown",
   "id": "3b66f3f9",
   "metadata": {
    "ExecuteTime": {
     "end_time": "2022-12-06T02:46:23.693447Z",
     "start_time": "2022-12-06T02:46:23.689555Z"
    }
   },
   "source": [
    "# Step 1 Import needed libraries and scripts\n",
    "\n",
    "This also requires setting up the correct working directory to be the top folder 'machine-learning-assisted-khovanov-homology'"
   ]
  },
  {
   "cell_type": "code",
   "execution_count": 244,
   "id": "f247bcb7",
   "metadata": {
    "ExecuteTime": {
     "end_time": "2022-12-06T02:47:38.950869Z",
     "start_time": "2022-12-06T02:47:38.945773Z"
    }
   },
   "outputs": [],
   "source": [
    "# import useful libraries for data preprocessing\n",
    "import math\n",
    "import numpy as np\n",
    "import pandas as pd\n",
    "from numpy import linalg as LA\n",
    "import seaborn as sns\n",
    "import os\n",
    "from sklearn.model_selection import train_test_split\n",
    "from collections import Counter"
   ]
  },
  {
   "cell_type": "code",
   "execution_count": 245,
   "id": "4a4c1f94",
   "metadata": {
    "ExecuteTime": {
     "end_time": "2022-12-06T02:47:39.588170Z",
     "start_time": "2022-12-06T02:47:39.583812Z"
    }
   },
   "outputs": [],
   "source": [
    "#Import functions built in class\n",
    "\n",
    "from scripts.polynomial import add_poly_terms\n",
    "from scripts.GDLinearReg import J, DJ, GD_linreg_improved"
   ]
  },
  {
   "cell_type": "markdown",
   "id": "9c463cbe",
   "metadata": {},
   "source": [
    "Run this cell to check your current working directory. It should return the top folder \"machine-learning-assisted-khovanov-homology\""
   ]
  },
  {
   "cell_type": "code",
   "execution_count": 287,
   "id": "aaf80f75",
   "metadata": {
    "ExecuteTime": {
     "end_time": "2022-12-06T03:02:28.453770Z",
     "start_time": "2022-12-06T03:02:28.443433Z"
    }
   },
   "outputs": [
    {
     "data": {
      "text/plain": [
       "'/mnt/c/Users/wuwj2/Desktop/jupyter/MAT_180_ML_Projects/machine-learning-assisted-khovanov-homology'"
      ]
     },
     "execution_count": 287,
     "metadata": {},
     "output_type": "execute_result"
    }
   ],
   "source": [
    "os.getcwd()"
   ]
  },
  {
   "cell_type": "code",
   "execution_count": 139,
   "id": "dff05a75",
   "metadata": {
    "ExecuteTime": {
     "end_time": "2022-12-06T02:12:04.485339Z",
     "start_time": "2022-12-06T02:12:04.481408Z"
    }
   },
   "outputs": [],
   "source": [
    "#Run this cell once if still in the notebooks folder.\n",
    "#Note that running this command multiple times might get you too high in the directory tree so be \n",
    "#cautious running this cell\n",
    "os.chdir(\"../\")"
   ]
  },
  {
   "cell_type": "markdown",
   "id": "68b264c6",
   "metadata": {},
   "source": [
    "# Step 2 Data Parsing\n",
    "\n",
    "Parse the data from a .csv file containing the free parts and torsion count"
   ]
  },
  {
   "cell_type": "code",
   "execution_count": 288,
   "id": "7a46f740",
   "metadata": {
    "ExecuteTime": {
     "end_time": "2022-12-06T03:02:31.892359Z",
     "start_time": "2022-12-06T03:02:31.816074Z"
    },
    "code_folding": []
   },
   "outputs": [],
   "source": [
    "df = pd.read_csv('data/dataset_no_repeats.csv')\n",
    "\n",
    "# Obtain the list of free_part dictionaries.\n",
    "# They are in the form {bigrading: value}\n",
    "fp_list = df['free_part'].to_list()\n",
    "fp_list = list(map(eval, fp_list))\n",
    "\n",
    "# Obtain lsit of all bigradings that occur in the dataset in order\n",
    "# Sorted using dictionary order\n",
    "bigrading = []\n",
    "for fp in fp_list:\n",
    "    for key in fp.keys():\n",
    "        bigrading.append(key)\n",
    "bigrading_list = sorted(list(Counter(bigrading).keys()))"
   ]
  },
  {
   "cell_type": "code",
   "execution_count": 253,
   "id": "d7a7f76b",
   "metadata": {
    "ExecuteTime": {
     "end_time": "2022-12-06T02:52:56.981224Z",
     "start_time": "2022-12-06T02:52:56.964101Z"
    }
   },
   "outputs": [],
   "source": [
    "# Create the matrix X, where each column represents the bigrading\n",
    "# in dictionary order \n",
    "\n",
    "m, n = len(fp_list), len(bigrading_list)\n",
    "X = np.zeros([m,n])\n",
    "\n",
    "for i, fp in enumerate(fp_list):\n",
    "    for key, val in fp.items():\n",
    "        X[i,bigrading_list.index(key)] = val"
   ]
  },
  {
   "cell_type": "code",
   "execution_count": 255,
   "id": "da513d6c",
   "metadata": {
    "ExecuteTime": {
     "end_time": "2022-12-06T02:53:22.812297Z",
     "start_time": "2022-12-06T02:53:22.808892Z"
    }
   },
   "outputs": [],
   "source": [
    "# Labels of the data set\n",
    "y = df['torsion_part_count'].to_numpy().reshape(-1,1)"
   ]
  },
  {
   "cell_type": "code",
   "execution_count": 283,
   "id": "1567ab0f",
   "metadata": {
    "ExecuteTime": {
     "end_time": "2022-12-06T02:59:09.536907Z",
     "start_time": "2022-12-06T02:59:09.528612Z"
    }
   },
   "outputs": [
    {
     "name": "stdout",
     "output_type": "stream",
     "text": [
      "Size of training set: 432\n",
      "Size of validation set: 108\n",
      "Size of testing set: 541\n"
     ]
    }
   ],
   "source": [
    "# Splitting data into training, validation, and testing sets.\n",
    "\n",
    "X_train, X_test, y_train, y_test = train_test_split(X, y, test_size=0.5, random_state=1)\n",
    "X_train, X_val, y_train, y_val = train_test_split(X_train, y_train, test_size=0.2, random_state=1)\n",
    "\n",
    "print(f'Size of training set: {len(X_train)}')\n",
    "print(f'Size of validation set: {len(X_val)}')\n",
    "print(f'Size of testing set: {len(X_test)}')"
   ]
  },
  {
   "cell_type": "code",
   "execution_count": 284,
   "id": "16d176f5",
   "metadata": {
    "ExecuteTime": {
     "end_time": "2022-12-06T02:59:11.311530Z",
     "start_time": "2022-12-06T02:59:11.306659Z"
    }
   },
   "outputs": [],
   "source": [
    "def prediction(x,v):\n",
    "    return round((x@v)[0])\n",
    "\n",
    "def accuracy(X,v,y):\n",
    "    count = 0\n",
    "    for i,x in enumerate(X):\n",
    "        if prediction(x,v) == y[i][0]:\n",
    "            count += 1\n",
    "    return count / len(X)\n",
    "\n",
    "def fit(X, y, epsilon, lambda_, max_iters = 10000, poly_terms = 1):\n",
    "    print(f'Running polynomial regression of degree {poly_terms} \\n')\n",
    "    \n",
    "    v, costs =  GD_linreg_improved(add_poly_terms(X, poly_terms), y, epsilon, lambda_, max_iters) \n",
    "    \n",
    "    print(f'\\nFinal cost is {costs[-1]}\\n')\n",
    "    return v, costs"
   ]
  },
  {
   "cell_type": "code",
   "execution_count": 285,
   "id": "0321faf1",
   "metadata": {
    "ExecuteTime": {
     "end_time": "2022-12-06T02:59:19.474132Z",
     "start_time": "2022-12-06T02:59:12.655237Z"
    }
   },
   "outputs": [
    {
     "name": "stdout",
     "output_type": "stream",
     "text": [
      "Running polynomial regression of degree 1 \n",
      "\n",
      "After 0 steps the cost is 34.35648148148148\n",
      "After 1000 steps the cost is 0.002707408596290094\n",
      "After 2000 steps the cost is 0.0005345475763770855\n",
      "After 3000 steps the cost is 0.000167915735706277\n",
      "After 4000 steps the cost is 7.158472693385065e-05\n",
      "After 5000 steps the cost is 3.6843536467093885e-05\n",
      "After 6000 steps the cost is 2.127459822182962e-05\n",
      "After 7000 steps the cost is 1.3193059355040984e-05\n",
      "After 8000 steps the cost is 8.55737754635532e-06\n",
      "After 9000 steps the cost is 5.713723623941485e-06\n",
      "After 9999 steps the cost is 3.890854183807217e-06\n",
      "\n",
      "Final cost is 3.889386876403748e-06\n",
      "\n",
      "Accuracy of training set is: 1.0\n",
      "Accuracy of validation set is: 1.0\n",
      "Accuracy of test set is: 1.0\n"
     ]
    }
   ],
   "source": [
    "degree = 1\n",
    "\n",
    "v, costs = fit(X_train, y_train, epsilon = 1e-10, lambda_ = 0, max_iters = 10000, poly_terms = degree)\n",
    "\n",
    "print(f'Accuracy of training set is: {accuracy(add_poly_terms(X_train, degree),v,y_train)}')\n",
    "print(f'Accuracy of validation set is: {accuracy(add_poly_terms(X_val, degree),v,y_val)}')\n",
    "print(f'Accuracy of test set is: {accuracy(add_poly_terms(X_test, degree),v,y_test)}')"
   ]
  },
  {
   "cell_type": "code",
   "execution_count": 286,
   "id": "1dc289dd",
   "metadata": {
    "ExecuteTime": {
     "end_time": "2022-12-06T02:59:58.701552Z",
     "start_time": "2022-12-06T02:59:58.696471Z"
    }
   },
   "outputs": [
    {
     "name": "stdout",
     "output_type": "stream",
     "text": [
      "[[-7.92165961e-01]\n",
      " [ 6.52440136e-02]\n",
      " [ 6.97436545e-01]\n",
      " [ 8.15772175e-01]\n",
      " [ 1.50366297e+00]\n",
      " [ 6.04112866e-01]\n",
      " [ 7.62680558e-01]\n",
      " [ 8.12478832e-01]\n",
      " [ 8.60260067e-01]\n",
      " [ 1.52159391e-01]\n",
      " [ 6.23490836e-01]\n",
      " [ 4.35173533e-01]\n",
      " [ 4.61647394e-01]\n",
      " [-9.48977880e-02]\n",
      " [ 5.15354934e-01]\n",
      " [ 1.52159391e-01]\n",
      " [ 6.16633602e-01]\n",
      " [-7.66923393e-02]\n",
      " [ 4.20825713e-01]\n",
      " [ 3.99696724e-01]\n",
      " [ 5.85825357e-01]\n",
      " [ 3.40080363e-01]\n",
      " [ 6.43142623e-01]\n",
      " [ 2.92090208e-01]\n",
      " [ 8.04771718e-01]\n",
      " [ 8.14606330e-01]\n",
      " [ 4.56519221e-01]\n",
      " [-5.45277154e-01]\n",
      " [ 3.45857800e-01]\n",
      " [ 3.56775166e-01]\n",
      " [ 9.17490063e-01]\n",
      " [ 5.18951462e-01]\n",
      " [ 3.92271120e-01]\n",
      " [ 3.25957609e-01]\n",
      " [ 6.94033909e-01]\n",
      " [ 6.78581158e-01]\n",
      " [ 1.08843925e-01]\n",
      " [ 3.72913178e-01]\n",
      " [ 5.87447594e-01]\n",
      " [ 4.16784393e-01]\n",
      " [ 3.20738487e-01]\n",
      " [ 3.16218211e-01]\n",
      " [ 3.76854153e-01]\n",
      " [ 6.28118048e-01]\n",
      " [ 3.46486741e-01]\n",
      " [ 6.43756201e-02]\n",
      " [ 6.76647521e-01]\n",
      " [ 5.98330413e-01]\n",
      " [ 1.08208553e-01]\n",
      " [ 3.73226002e-01]\n",
      " [ 5.27844878e-01]\n",
      " [ 8.98854259e-01]\n",
      " [ 4.26111732e-01]\n",
      " [ 3.13847394e-01]\n",
      " [-5.90001003e-01]\n",
      " [ 4.74556382e-01]\n",
      " [ 8.09337606e-01]\n",
      " [ 6.74192651e-01]\n",
      " [ 3.81717831e-01]\n",
      " [ 6.67594351e-01]\n",
      " [ 3.12742144e-01]\n",
      " [ 6.72069528e-01]\n",
      " [ 4.41472079e-01]\n",
      " [-2.25897419e-04]\n",
      " [ 7.09848703e-01]\n",
      " [ 1.58363980e-01]\n",
      " [ 5.33557479e-01]\n",
      " [-8.05088519e-02]\n",
      " [ 3.30173271e-01]\n",
      " [ 3.36879484e-01]\n",
      " [ 6.01993990e-01]\n",
      " [ 1.58363980e-01]\n",
      " [ 8.29895638e-01]\n",
      " [ 9.96475218e-01]\n",
      " [ 7.48364983e-01]\n",
      " [ 6.49002100e-01]\n",
      " [ 1.50626944e+00]\n",
      " [ 6.66301946e-01]\n",
      " [ 7.48364983e-01]\n",
      " [ 0.00000000e+00]]\n"
     ]
    }
   ],
   "source": [
    "print(v)"
   ]
  }
 ],
 "metadata": {
  "kernelspec": {
   "display_name": "Python 3 (ipykernel)",
   "language": "python",
   "name": "python3"
  },
  "language_info": {
   "codemirror_mode": {
    "name": "ipython",
    "version": 3
   },
   "file_extension": ".py",
   "mimetype": "text/x-python",
   "name": "python",
   "nbconvert_exporter": "python",
   "pygments_lexer": "ipython3",
   "version": "3.8.10"
  }
 },
 "nbformat": 4,
 "nbformat_minor": 5
}

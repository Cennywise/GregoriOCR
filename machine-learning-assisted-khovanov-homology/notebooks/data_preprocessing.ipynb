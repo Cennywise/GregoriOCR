{
 "cells": [
  {
   "cell_type": "code",
   "execution_count": 10,
   "id": "3cd56ce5",
   "metadata": {},
   "outputs": [],
   "source": [
    "# import useful libraries for data preprocessing\n",
    "import numpy as np\n",
    "import pandas as pd\n",
    "import seaborn as sns"
   ]
  },
  {
   "cell_type": "code",
   "execution_count": 11,
   "id": "7afde8de",
   "metadata": {},
   "outputs": [],
   "source": [
    "# change the current path for referencing\n",
    "import sys\n",
    "sys.path.append('../')\n",
    "\n",
    "# import functions from python(.py) files\n",
    "from scripts.dataGeneration import getRandomWord, count_FP, count_TP"
   ]
  },
  {
   "cell_type": "code",
   "execution_count": 12,
   "id": "161c76d8",
   "metadata": {},
   "outputs": [
    {
     "data": {
      "text/plain": [
       "'/mnt/c/Users/12428/Documents/GitHub/MAT_180_ML_Projects/cecilia_nicole_wei/notebooks'"
      ]
     },
     "execution_count": 12,
     "metadata": {},
     "output_type": "execute_result"
    }
   ],
   "source": [
    "import os\n",
    "os.path.abspath(os.getcwd())"
   ]
  },
  {
   "cell_type": "code",
   "execution_count": 13,
   "id": "46a64229",
   "metadata": {},
   "outputs": [
    {
     "data": {
      "text/html": [
       "<div>\n",
       "<style scoped>\n",
       "    .dataframe tbody tr th:only-of-type {\n",
       "        vertical-align: middle;\n",
       "    }\n",
       "\n",
       "    .dataframe tbody tr th {\n",
       "        vertical-align: top;\n",
       "    }\n",
       "\n",
       "    .dataframe thead th {\n",
       "        text-align: right;\n",
       "    }\n",
       "</style>\n",
       "<table border=\"1\" class=\"dataframe\">\n",
       "  <thead>\n",
       "    <tr style=\"text-align: right;\">\n",
       "      <th></th>\n",
       "      <th>Unnamed: 0</th>\n",
       "      <th>braid</th>\n",
       "      <th>free_part</th>\n",
       "      <th>torsion_part</th>\n",
       "    </tr>\n",
       "  </thead>\n",
       "  <tbody>\n",
       "    <tr>\n",
       "      <th>0</th>\n",
       "      <td>0</td>\n",
       "      <td>[-2, 2, -3, 3, -2, -2, 1, -3, -3]</td>\n",
       "      <td>{(-11, -4): 1, (-9, -4): 1, (-7, -2): 2, (-5, ...</td>\n",
       "      <td>{}</td>\n",
       "    </tr>\n",
       "    <tr>\n",
       "      <th>1</th>\n",
       "      <td>1</td>\n",
       "      <td>[3, -1, -2, 2, -2, -2, -3, 3, -1]</td>\n",
       "      <td>{(-11, -4): 1, (-9, -4): 1, (-7, -2): 2, (-5, ...</td>\n",
       "      <td>{}</td>\n",
       "    </tr>\n",
       "    <tr>\n",
       "      <th>2</th>\n",
       "      <td>2</td>\n",
       "      <td>[1, -3, 2, 3, 2, 2, 1, 2, -1]</td>\n",
       "      <td>{(1, 0): 1, (3, 0): 1, (5, 2): 1, (9, 3): 1}</td>\n",
       "      <td>{(7, 3): {2: 1}}</td>\n",
       "    </tr>\n",
       "    <tr>\n",
       "      <th>3</th>\n",
       "      <td>3</td>\n",
       "      <td>[-1, -1, 1, -1, 3, -2, -1, 3, -2]</td>\n",
       "      <td>{(-11, -4): 1, (-9, -3): 1, (-7, -3): 1, (-7, ...</td>\n",
       "      <td>{(-9, -3): {2: 1}, (-7, -2): {2: 1}, (-5, -1):...</td>\n",
       "    </tr>\n",
       "    <tr>\n",
       "      <th>4</th>\n",
       "      <td>4</td>\n",
       "      <td>[1, -3, -2, 3, 1, 1, 2, -1, -3]</td>\n",
       "      <td>{(-5, -2): 1, (-3, -2): 1, (-1, 0): 2, (1, 0):...</td>\n",
       "      <td>{}</td>\n",
       "    </tr>\n",
       "    <tr>\n",
       "      <th>...</th>\n",
       "      <td>...</td>\n",
       "      <td>...</td>\n",
       "      <td>...</td>\n",
       "      <td>...</td>\n",
       "    </tr>\n",
       "    <tr>\n",
       "      <th>9995</th>\n",
       "      <td>9995</td>\n",
       "      <td>[2, 1, -1, 2, -3, 1, -3, 1, -3]</td>\n",
       "      <td>{(-7, -3): 1, (-3, -2): 1, (-3, -1): 2, (-1, 0...</td>\n",
       "      <td>{(-5, -2): {2: 1}, (-1, 0): {2: 2}, (3, 2): {2...</td>\n",
       "    </tr>\n",
       "    <tr>\n",
       "      <th>9996</th>\n",
       "      <td>9996</td>\n",
       "      <td>[-1, 2, -1, 1, -1, 1, -1, -2, -1]</td>\n",
       "      <td>{(-6, -2): 1, (-4, -2): 1, (-2, 0): 1, (0, 0): 1}</td>\n",
       "      <td>{}</td>\n",
       "    </tr>\n",
       "    <tr>\n",
       "      <th>9997</th>\n",
       "      <td>9997</td>\n",
       "      <td>[1, -3, -1, -3, -2, -3, 2, 2, 3]</td>\n",
       "      <td>{(-3, 0): 1, (-1, 0): 3, (1, 0): 3, (3, 0): 1}</td>\n",
       "      <td>{}</td>\n",
       "    </tr>\n",
       "    <tr>\n",
       "      <th>9998</th>\n",
       "      <td>9998</td>\n",
       "      <td>[-2, 2, 3, -2, 3, 2, -1, -2, -3]</td>\n",
       "      <td>{(-1, 0): 1, (1, 0): 1}</td>\n",
       "      <td>{}</td>\n",
       "    </tr>\n",
       "    <tr>\n",
       "      <th>9999</th>\n",
       "      <td>9999</td>\n",
       "      <td>[-2, -1, -2, -2, 2, -3, -1, -1, -2]</td>\n",
       "      <td>{(-15, -5): 1, (-11, -4): 1, (-11, -3): 1, (-7...</td>\n",
       "      <td>{(-13, -4): {2: 1}, (-9, -2): {2: 1}}</td>\n",
       "    </tr>\n",
       "  </tbody>\n",
       "</table>\n",
       "<p>10000 rows × 4 columns</p>\n",
       "</div>"
      ],
      "text/plain": [
       "      Unnamed: 0                                braid  \\\n",
       "0              0    [-2, 2, -3, 3, -2, -2, 1, -3, -3]   \n",
       "1              1    [3, -1, -2, 2, -2, -2, -3, 3, -1]   \n",
       "2              2        [1, -3, 2, 3, 2, 2, 1, 2, -1]   \n",
       "3              3    [-1, -1, 1, -1, 3, -2, -1, 3, -2]   \n",
       "4              4      [1, -3, -2, 3, 1, 1, 2, -1, -3]   \n",
       "...          ...                                  ...   \n",
       "9995        9995      [2, 1, -1, 2, -3, 1, -3, 1, -3]   \n",
       "9996        9996    [-1, 2, -1, 1, -1, 1, -1, -2, -1]   \n",
       "9997        9997     [1, -3, -1, -3, -2, -3, 2, 2, 3]   \n",
       "9998        9998     [-2, 2, 3, -2, 3, 2, -1, -2, -3]   \n",
       "9999        9999  [-2, -1, -2, -2, 2, -3, -1, -1, -2]   \n",
       "\n",
       "                                              free_part  \\\n",
       "0     {(-11, -4): 1, (-9, -4): 1, (-7, -2): 2, (-5, ...   \n",
       "1     {(-11, -4): 1, (-9, -4): 1, (-7, -2): 2, (-5, ...   \n",
       "2          {(1, 0): 1, (3, 0): 1, (5, 2): 1, (9, 3): 1}   \n",
       "3     {(-11, -4): 1, (-9, -3): 1, (-7, -3): 1, (-7, ...   \n",
       "4     {(-5, -2): 1, (-3, -2): 1, (-1, 0): 2, (1, 0):...   \n",
       "...                                                 ...   \n",
       "9995  {(-7, -3): 1, (-3, -2): 1, (-3, -1): 2, (-1, 0...   \n",
       "9996  {(-6, -2): 1, (-4, -2): 1, (-2, 0): 1, (0, 0): 1}   \n",
       "9997     {(-3, 0): 1, (-1, 0): 3, (1, 0): 3, (3, 0): 1}   \n",
       "9998                            {(-1, 0): 1, (1, 0): 1}   \n",
       "9999  {(-15, -5): 1, (-11, -4): 1, (-11, -3): 1, (-7...   \n",
       "\n",
       "                                           torsion_part  \n",
       "0                                                    {}  \n",
       "1                                                    {}  \n",
       "2                                      {(7, 3): {2: 1}}  \n",
       "3     {(-9, -3): {2: 1}, (-7, -2): {2: 1}, (-5, -1):...  \n",
       "4                                                    {}  \n",
       "...                                                 ...  \n",
       "9995  {(-5, -2): {2: 1}, (-1, 0): {2: 2}, (3, 2): {2...  \n",
       "9996                                                 {}  \n",
       "9997                                                 {}  \n",
       "9998                                                 {}  \n",
       "9999              {(-13, -4): {2: 1}, (-9, -2): {2: 1}}  \n",
       "\n",
       "[10000 rows x 4 columns]"
      ]
     },
     "execution_count": 13,
     "metadata": {},
     "output_type": "execute_result"
    }
   ],
   "source": [
    "# read in data from the dataset\n",
    "df_10000_9 = pd.read_excel(r\"../data/10000_9_dataset.xlsx\")\n",
    "\n",
    "df_10000_9"
   ]
  },
  {
   "cell_type": "code",
   "execution_count": 14,
   "id": "767ed8b6",
   "metadata": {},
   "outputs": [],
   "source": [
    "# vectorize the eval function\n",
    "ev = np.vectorize(eval)\n",
    "\n",
    "# count free_part of the dataset\n",
    "ff = np.vectorize(count_FP)\n",
    "df_10000_9['total_num_FP'] = ff(ev(df_10000_9['free_part']))\n",
    "\n",
    "# count torsion_part of the dataset\n",
    "ft = np.vectorize(count_TP)\n",
    "df_10000_9['total_num_TP'] = ft(ev(df_10000_9['torsion_part']))"
   ]
  },
  {
   "cell_type": "code",
   "execution_count": 15,
   "id": "4826ee29",
   "metadata": {},
   "outputs": [
    {
     "data": {
      "text/html": [
       "<div>\n",
       "<style scoped>\n",
       "    .dataframe tbody tr th:only-of-type {\n",
       "        vertical-align: middle;\n",
       "    }\n",
       "\n",
       "    .dataframe tbody tr th {\n",
       "        vertical-align: top;\n",
       "    }\n",
       "\n",
       "    .dataframe thead th {\n",
       "        text-align: right;\n",
       "    }\n",
       "</style>\n",
       "<table border=\"1\" class=\"dataframe\">\n",
       "  <thead>\n",
       "    <tr style=\"text-align: right;\">\n",
       "      <th></th>\n",
       "      <th>Unnamed: 0</th>\n",
       "      <th>braid</th>\n",
       "      <th>free_part</th>\n",
       "      <th>torsion_part</th>\n",
       "      <th>total_num_FP</th>\n",
       "      <th>total_num_TP</th>\n",
       "    </tr>\n",
       "  </thead>\n",
       "  <tbody>\n",
       "    <tr>\n",
       "      <th>0</th>\n",
       "      <td>0</td>\n",
       "      <td>[-2, 2, -3, 3, -2, -2, 1, -3, -3]</td>\n",
       "      <td>{(-11, -4): 1, (-9, -4): 1, (-7, -2): 2, (-5, ...</td>\n",
       "      <td>{}</td>\n",
       "      <td>8</td>\n",
       "      <td>0</td>\n",
       "    </tr>\n",
       "    <tr>\n",
       "      <th>1</th>\n",
       "      <td>1</td>\n",
       "      <td>[3, -1, -2, 2, -2, -2, -3, 3, -1]</td>\n",
       "      <td>{(-11, -4): 1, (-9, -4): 1, (-7, -2): 2, (-5, ...</td>\n",
       "      <td>{}</td>\n",
       "      <td>8</td>\n",
       "      <td>0</td>\n",
       "    </tr>\n",
       "    <tr>\n",
       "      <th>2</th>\n",
       "      <td>2</td>\n",
       "      <td>[1, -3, 2, 3, 2, 2, 1, 2, -1]</td>\n",
       "      <td>{(1, 0): 1, (3, 0): 1, (5, 2): 1, (9, 3): 1}</td>\n",
       "      <td>{(7, 3): {2: 1}}</td>\n",
       "      <td>4</td>\n",
       "      <td>1</td>\n",
       "    </tr>\n",
       "    <tr>\n",
       "      <th>3</th>\n",
       "      <td>3</td>\n",
       "      <td>[-1, -1, 1, -1, 3, -2, -1, 3, -2]</td>\n",
       "      <td>{(-11, -4): 1, (-9, -3): 1, (-7, -3): 1, (-7, ...</td>\n",
       "      <td>{(-9, -3): {2: 1}, (-7, -2): {2: 1}, (-5, -1):...</td>\n",
       "      <td>12</td>\n",
       "      <td>5</td>\n",
       "    </tr>\n",
       "    <tr>\n",
       "      <th>4</th>\n",
       "      <td>4</td>\n",
       "      <td>[1, -3, -2, 3, 1, 1, 2, -1, -3]</td>\n",
       "      <td>{(-5, -2): 1, (-3, -2): 1, (-1, 0): 2, (1, 0):...</td>\n",
       "      <td>{}</td>\n",
       "      <td>8</td>\n",
       "      <td>0</td>\n",
       "    </tr>\n",
       "    <tr>\n",
       "      <th>...</th>\n",
       "      <td>...</td>\n",
       "      <td>...</td>\n",
       "      <td>...</td>\n",
       "      <td>...</td>\n",
       "      <td>...</td>\n",
       "      <td>...</td>\n",
       "    </tr>\n",
       "    <tr>\n",
       "      <th>9995</th>\n",
       "      <td>9995</td>\n",
       "      <td>[2, 1, -1, 2, -3, 1, -3, 1, -3]</td>\n",
       "      <td>{(-7, -3): 1, (-3, -2): 1, (-3, -1): 2, (-1, 0...</td>\n",
       "      <td>{(-5, -2): {2: 1}, (-1, 0): {2: 2}, (3, 2): {2...</td>\n",
       "      <td>16</td>\n",
       "      <td>4</td>\n",
       "    </tr>\n",
       "    <tr>\n",
       "      <th>9996</th>\n",
       "      <td>9996</td>\n",
       "      <td>[-1, 2, -1, 1, -1, 1, -1, -2, -1]</td>\n",
       "      <td>{(-6, -2): 1, (-4, -2): 1, (-2, 0): 1, (0, 0): 1}</td>\n",
       "      <td>{}</td>\n",
       "      <td>4</td>\n",
       "      <td>0</td>\n",
       "    </tr>\n",
       "    <tr>\n",
       "      <th>9997</th>\n",
       "      <td>9997</td>\n",
       "      <td>[1, -3, -1, -3, -2, -3, 2, 2, 3]</td>\n",
       "      <td>{(-3, 0): 1, (-1, 0): 3, (1, 0): 3, (3, 0): 1}</td>\n",
       "      <td>{}</td>\n",
       "      <td>8</td>\n",
       "      <td>0</td>\n",
       "    </tr>\n",
       "    <tr>\n",
       "      <th>9998</th>\n",
       "      <td>9998</td>\n",
       "      <td>[-2, 2, 3, -2, 3, 2, -1, -2, -3]</td>\n",
       "      <td>{(-1, 0): 1, (1, 0): 1}</td>\n",
       "      <td>{}</td>\n",
       "      <td>2</td>\n",
       "      <td>0</td>\n",
       "    </tr>\n",
       "    <tr>\n",
       "      <th>9999</th>\n",
       "      <td>9999</td>\n",
       "      <td>[-2, -1, -2, -2, 2, -3, -1, -1, -2]</td>\n",
       "      <td>{(-15, -5): 1, (-11, -4): 1, (-11, -3): 1, (-7...</td>\n",
       "      <td>{(-13, -4): {2: 1}, (-9, -2): {2: 1}}</td>\n",
       "      <td>6</td>\n",
       "      <td>2</td>\n",
       "    </tr>\n",
       "  </tbody>\n",
       "</table>\n",
       "<p>10000 rows × 6 columns</p>\n",
       "</div>"
      ],
      "text/plain": [
       "      Unnamed: 0                                braid  \\\n",
       "0              0    [-2, 2, -3, 3, -2, -2, 1, -3, -3]   \n",
       "1              1    [3, -1, -2, 2, -2, -2, -3, 3, -1]   \n",
       "2              2        [1, -3, 2, 3, 2, 2, 1, 2, -1]   \n",
       "3              3    [-1, -1, 1, -1, 3, -2, -1, 3, -2]   \n",
       "4              4      [1, -3, -2, 3, 1, 1, 2, -1, -3]   \n",
       "...          ...                                  ...   \n",
       "9995        9995      [2, 1, -1, 2, -3, 1, -3, 1, -3]   \n",
       "9996        9996    [-1, 2, -1, 1, -1, 1, -1, -2, -1]   \n",
       "9997        9997     [1, -3, -1, -3, -2, -3, 2, 2, 3]   \n",
       "9998        9998     [-2, 2, 3, -2, 3, 2, -1, -2, -3]   \n",
       "9999        9999  [-2, -1, -2, -2, 2, -3, -1, -1, -2]   \n",
       "\n",
       "                                              free_part  \\\n",
       "0     {(-11, -4): 1, (-9, -4): 1, (-7, -2): 2, (-5, ...   \n",
       "1     {(-11, -4): 1, (-9, -4): 1, (-7, -2): 2, (-5, ...   \n",
       "2          {(1, 0): 1, (3, 0): 1, (5, 2): 1, (9, 3): 1}   \n",
       "3     {(-11, -4): 1, (-9, -3): 1, (-7, -3): 1, (-7, ...   \n",
       "4     {(-5, -2): 1, (-3, -2): 1, (-1, 0): 2, (1, 0):...   \n",
       "...                                                 ...   \n",
       "9995  {(-7, -3): 1, (-3, -2): 1, (-3, -1): 2, (-1, 0...   \n",
       "9996  {(-6, -2): 1, (-4, -2): 1, (-2, 0): 1, (0, 0): 1}   \n",
       "9997     {(-3, 0): 1, (-1, 0): 3, (1, 0): 3, (3, 0): 1}   \n",
       "9998                            {(-1, 0): 1, (1, 0): 1}   \n",
       "9999  {(-15, -5): 1, (-11, -4): 1, (-11, -3): 1, (-7...   \n",
       "\n",
       "                                           torsion_part  total_num_FP  \\\n",
       "0                                                    {}             8   \n",
       "1                                                    {}             8   \n",
       "2                                      {(7, 3): {2: 1}}             4   \n",
       "3     {(-9, -3): {2: 1}, (-7, -2): {2: 1}, (-5, -1):...            12   \n",
       "4                                                    {}             8   \n",
       "...                                                 ...           ...   \n",
       "9995  {(-5, -2): {2: 1}, (-1, 0): {2: 2}, (3, 2): {2...            16   \n",
       "9996                                                 {}             4   \n",
       "9997                                                 {}             8   \n",
       "9998                                                 {}             2   \n",
       "9999              {(-13, -4): {2: 1}, (-9, -2): {2: 1}}             6   \n",
       "\n",
       "      total_num_TP  \n",
       "0                0  \n",
       "1                0  \n",
       "2                1  \n",
       "3                5  \n",
       "4                0  \n",
       "...            ...  \n",
       "9995             4  \n",
       "9996             0  \n",
       "9997             0  \n",
       "9998             0  \n",
       "9999             2  \n",
       "\n",
       "[10000 rows x 6 columns]"
      ]
     },
     "execution_count": 15,
     "metadata": {},
     "output_type": "execute_result"
    }
   ],
   "source": [
    "# view the dataset with added columns of total_num_FP and total_num_TP\n",
    "df_10000_9"
   ]
  },
  {
   "cell_type": "code",
   "execution_count": 16,
   "id": "398e7806",
   "metadata": {},
   "outputs": [],
   "source": [
    "# drop the Unnamed: 0 column\n",
    "df_10000_9 = df_10000_9.drop(columns=['Unnamed: 0'])\n",
    "\n",
    "# store the dataset wtih total number of free_group and torsion_group\n",
    "df_10000_9.to_csv(r'../data/10000_9.csv')"
   ]
  },
  {
   "cell_type": "code",
   "execution_count": null,
   "id": "1c72c80c",
   "metadata": {},
   "outputs": [],
   "source": []
  },
  {
   "cell_type": "code",
   "execution_count": 89,
   "id": "df7a3a38",
   "metadata": {},
   "outputs": [
    {
     "name": "stdout",
     "output_type": "stream",
     "text": [
      "Polynomial Features: [1,x,x**2]\n",
      "[ 1.  8. 64.]\n",
      "Polynomial Features: [1,x,x**2]\n",
      "[ 1.  4. 16.]\n"
     ]
    },
    {
     "data": {
      "text/plain": [
       "(0.7760218826695919, 0.7733002448256452)"
      ]
     },
     "execution_count": 89,
     "metadata": {},
     "output_type": "execute_result"
    }
   ],
   "source": [
    "\n",
    "\n"
   ]
  },
  {
   "cell_type": "code",
   "execution_count": 93,
   "id": "fbe5272d",
   "metadata": {},
   "outputs": [
    {
     "name": "stdout",
     "output_type": "stream",
     "text": [
      "Polynomial Features: [1,x,x**2,x**3]\n",
      "[  1.   8.  64. 512.]\n",
      "Polynomial Features: [1,x,x**2,x**3]\n",
      "[ 1.  4. 16. 64.]\n"
     ]
    },
    {
     "data": {
      "text/plain": [
       "(0.8087584562425066, 0.8108776478818277)"
      ]
     },
     "execution_count": 93,
     "metadata": {},
     "output_type": "execute_result"
    }
   ],
   "source": [
    "# degree=3 Polynomial Regression\n",
    "polynomial_features= PolynomialFeatures(degree=3)\n",
    "X_poly_train_deg3 = polynomial_features.fit_transform(X_train)\n",
    "print('Polynomial Features: [1,x,x**2,x**3]')\n",
    "print(X_poly_train_deg3[0])\n",
    "\n",
    "X_poly_test_deg3 = polynomial_features.fit_transform(X_test)\n",
    "print('Polynomial Features: [1,x,x**2,x**3]')\n",
    "print(X_poly_test_deg3[0])\n",
    "\n",
    "polyreg = LinearRegression().fit(X_poly_train_deg3, y_train)\n",
    "polyreg.score(X_poly_train_deg3,y_train), polyreg.score(X_poly_test_deg3,y_test)"
   ]
  },
  {
   "cell_type": "code",
   "execution_count": 94,
   "id": "4d838ba2",
   "metadata": {},
   "outputs": [
    {
     "name": "stdout",
     "output_type": "stream",
     "text": [
      "Polynomial Features: [1,x,x**2,x**3,x**4]\n",
      "[1.000e+00 8.000e+00 6.400e+01 5.120e+02 4.096e+03]\n",
      "Polynomial Features: [1,x,x**2,x**3,x**4]\n",
      "[  1.   4.  16.  64. 256.]\n"
     ]
    },
    {
     "data": {
      "text/plain": [
       "(0.8156807700699248, 0.8122638927953894)"
      ]
     },
     "execution_count": 94,
     "metadata": {},
     "output_type": "execute_result"
    }
   ],
   "source": [
    "# degree=4 Polynomial Regression\n",
    "polynomial_features= PolynomialFeatures(degree=4)\n",
    "X_poly_train_deg4 = polynomial_features.fit_transform(X_train)\n",
    "print('Polynomial Features: [1,x,x**2,x**3,x**4]')\n",
    "print(X_poly_train_deg4[0])\n",
    "\n",
    "X_poly_test_deg4 = polynomial_features.fit_transform(X_test)\n",
    "print('Polynomial Features: [1,x,x**2,x**3,x**4]')\n",
    "print(X_poly_test_deg4[0])\n",
    "\n",
    "polyreg = LinearRegression().fit(X_poly_train_deg4, y_train)\n",
    "polyreg.score(X_poly_train_deg4,y_train), polyreg.score(X_poly_test_deg4,y_test)"
   ]
  },
  {
   "cell_type": "code",
   "execution_count": 106,
   "id": "ab72d74d",
   "metadata": {},
   "outputs": [
    {
     "name": "stdout",
     "output_type": "stream",
     "text": [
      "Polynomial Features: [1,x,x**2,x**3,x**4,...]\n",
      "[1.0000000e+00 8.0000000e+00 6.4000000e+01 5.1200000e+02 4.0960000e+03\n",
      " 3.2768000e+04 2.6214400e+05 2.0971520e+06 1.6777216e+07]\n",
      "Polynomial Features: [1,x,x**2,x**3,x**4,...]\n",
      "[1.0000e+00 4.0000e+00 1.6000e+01 6.4000e+01 2.5600e+02 1.0240e+03\n",
      " 4.0960e+03 1.6384e+04 6.5536e+04]\n"
     ]
    },
    {
     "data": {
      "text/plain": [
       "(0.834907426770338, 0.8293480049628128)"
      ]
     },
     "execution_count": 106,
     "metadata": {},
     "output_type": "execute_result"
    }
   ],
   "source": [
    "# degree=8 Polynomial Regression\n",
    "polynomial_features= PolynomialFeatures(degree=8)\n",
    "X_poly_train_deg8 = polynomial_features.fit_transform(X_train)\n",
    "print('Polynomial Features: [1,x,x**2,x**3,x**4,...]')\n",
    "print(X_poly_train_deg8[0])\n",
    "\n",
    "X_poly_test_deg8 = polynomial_features.fit_transform(X_test)\n",
    "print('Polynomial Features: [1,x,x**2,x**3,x**4,...]')\n",
    "print(X_poly_test_deg8[0])\n",
    "\n",
    "polyreg = LinearRegression().fit(X_poly_train_deg8, y_train)\n",
    "polyreg.score(X_poly_train_deg8,y_train), polyreg.score(X_poly_test_deg8,y_test)"
   ]
  },
  {
   "cell_type": "code",
   "execution_count": 105,
   "id": "1e1b138e",
   "metadata": {},
   "outputs": [
    {
     "name": "stdout",
     "output_type": "stream",
     "text": [
      "Polynomial Features: [1,x,x**2,x**3,x**4,...]\n",
      "[1.00000000e+00 8.00000000e+00 6.40000000e+01 5.12000000e+02\n",
      " 4.09600000e+03 3.27680000e+04 2.62144000e+05 2.09715200e+06\n",
      " 1.67772160e+07 1.34217728e+08]\n",
      "Polynomial Features: [1,x,x**2,x**3,x**4,...]\n",
      "[1.00000e+00 4.00000e+00 1.60000e+01 6.40000e+01 2.56000e+02 1.02400e+03\n",
      " 4.09600e+03 1.63840e+04 6.55360e+04 2.62144e+05]\n"
     ]
    },
    {
     "data": {
      "text/plain": [
       "(0.8382640243793316, 0.8334184865907028)"
      ]
     },
     "execution_count": 105,
     "metadata": {},
     "output_type": "execute_result"
    }
   ],
   "source": [
    "# degree=9 Polynomial Regression (BEST DEGREE TO STOP AT)\n",
    "polynomial_features= PolynomialFeatures(degree=9)\n",
    "X_poly_train_deg9 = polynomial_features.fit_transform(X_train)\n",
    "print('Polynomial Features: [1,x,x**2,x**3,x**4,...]')\n",
    "print(X_poly_train_deg9[0])\n",
    "\n",
    "X_poly_test_deg9 = polynomial_features.fit_transform(X_test)\n",
    "print('Polynomial Features: [1,x,x**2,x**3,x**4,...]')\n",
    "print(X_poly_test_deg9[0])\n",
    "\n",
    "polyreg = LinearRegression().fit(X_poly_train_deg9, y_train)\n",
    "polyreg.score(X_poly_train_deg9,y_train), polyreg.score(X_poly_test_deg9,y_test)"
   ]
  },
  {
   "cell_type": "code",
   "execution_count": 95,
   "id": "2a082c9d",
   "metadata": {},
   "outputs": [
    {
     "name": "stdout",
     "output_type": "stream",
     "text": [
      "Polynomial Features: [1,x,x**2,x**3,x**4,...]\n",
      "[1.00000000e+00 8.00000000e+00 6.40000000e+01 5.12000000e+02\n",
      " 4.09600000e+03 3.27680000e+04 2.62144000e+05 2.09715200e+06\n",
      " 1.67772160e+07 1.34217728e+08 1.07374182e+09]\n",
      "Polynomial Features: [1,x,x**2,x**3,x**4,...]\n",
      "[1.000000e+00 4.000000e+00 1.600000e+01 6.400000e+01 2.560000e+02\n",
      " 1.024000e+03 4.096000e+03 1.638400e+04 6.553600e+04 2.621440e+05\n",
      " 1.048576e+06]\n"
     ]
    },
    {
     "data": {
      "text/plain": [
       "(0.8233658926809484, 0.8170114959997536)"
      ]
     },
     "execution_count": 95,
     "metadata": {},
     "output_type": "execute_result"
    }
   ],
   "source": [
    "# degree=10 Polynomial Regression\n",
    "polynomial_features= PolynomialFeatures(degree=10)\n",
    "X_poly_train_deg10 = polynomial_features.fit_transform(X_train)\n",
    "print('Polynomial Features: [1,x,x**2,x**3,x**4,...]')\n",
    "print(X_poly_train_deg10[0])\n",
    "\n",
    "X_poly_test_deg10 = polynomial_features.fit_transform(X_test)\n",
    "print('Polynomial Features: [1,x,x**2,x**3,x**4,...]')\n",
    "print(X_poly_test_deg10[0])\n",
    "\n",
    "polyreg = LinearRegression().fit(X_poly_train_deg10, y_train)\n",
    "polyreg.score(X_poly_train_deg10,y_train), polyreg.score(X_poly_test_deg10,y_test)"
   ]
  },
  {
   "cell_type": "code",
   "execution_count": 104,
   "id": "088e765a",
   "metadata": {},
   "outputs": [
    {
     "name": "stdout",
     "output_type": "stream",
     "text": [
      "Polynomial Features: [1,x,x**2,x**3,x**4,...]\n",
      "[1.00000000e+00 8.00000000e+00 6.40000000e+01 5.12000000e+02\n",
      " 4.09600000e+03 3.27680000e+04 2.62144000e+05 2.09715200e+06\n",
      " 1.67772160e+07 1.34217728e+08 1.07374182e+09 8.58993459e+09]\n",
      "Polynomial Features: [1,x,x**2,x**3,x**4,...]\n",
      "[1.000000e+00 4.000000e+00 1.600000e+01 6.400000e+01 2.560000e+02\n",
      " 1.024000e+03 4.096000e+03 1.638400e+04 6.553600e+04 2.621440e+05\n",
      " 1.048576e+06 4.194304e+06]\n"
     ]
    },
    {
     "data": {
      "text/plain": [
       "(0.823383248806407, 0.8163111119283295)"
      ]
     },
     "execution_count": 104,
     "metadata": {},
     "output_type": "execute_result"
    }
   ],
   "source": [
    "# degree=11 Polynomial Regression\n",
    "polynomial_features= PolynomialFeatures(degree=11)\n",
    "X_poly_train_deg11 = polynomial_features.fit_transform(X_train)\n",
    "print('Polynomial Features: [1,x,x**2,x**3,x**4,...]')\n",
    "print(X_poly_train_deg11[0])\n",
    "\n",
    "X_poly_test_deg11 = polynomial_features.fit_transform(X_test)\n",
    "print('Polynomial Features: [1,x,x**2,x**3,x**4,...]')\n",
    "print(X_poly_test_deg11[0])\n",
    "\n",
    "polyreg = LinearRegression().fit(X_poly_train_deg11, y_train)\n",
    "polyreg.score(X_poly_train_deg11,y_train), polyreg.score(X_poly_test_deg11,y_test)"
   ]
  },
  {
   "cell_type": "code",
   "execution_count": 103,
   "id": "b7475f7e",
   "metadata": {},
   "outputs": [
    {
     "name": "stdout",
     "output_type": "stream",
     "text": [
      "Polynomial Features: [1,x,x**2,x**3,x**4,...]\n",
      "[1.00000000e+00 8.00000000e+00 6.40000000e+01 5.12000000e+02\n",
      " 4.09600000e+03 3.27680000e+04 2.62144000e+05 2.09715200e+06\n",
      " 1.67772160e+07 1.34217728e+08 1.07374182e+09 8.58993459e+09\n",
      " 6.87194767e+10]\n",
      "Polynomial Features: [1,x,x**2,x**3,x**4,...]\n",
      "[1.0000000e+00 4.0000000e+00 1.6000000e+01 6.4000000e+01 2.5600000e+02\n",
      " 1.0240000e+03 4.0960000e+03 1.6384000e+04 6.5536000e+04 2.6214400e+05\n",
      " 1.0485760e+06 4.1943040e+06 1.6777216e+07]\n"
     ]
    },
    {
     "data": {
      "text/plain": [
       "(0.8156448070779628, 0.8077636025920225)"
      ]
     },
     "execution_count": 103,
     "metadata": {},
     "output_type": "execute_result"
    }
   ],
   "source": [
    "# degree=12 Polynomial Regression\n",
    "polynomial_features= PolynomialFeatures(degree=12)\n",
    "X_poly_train_deg12 = polynomial_features.fit_transform(X_train)\n",
    "print('Polynomial Features: [1,x,x**2,x**3,x**4,...]')\n",
    "print(X_poly_train_deg12[0])\n",
    "\n",
    "X_poly_test_deg12 = polynomial_features.fit_transform(X_test)\n",
    "print('Polynomial Features: [1,x,x**2,x**3,x**4,...]')\n",
    "print(X_poly_test_deg12[0])\n",
    "\n",
    "polyreg = LinearRegression().fit(X_poly_train_deg12, y_train)\n",
    "polyreg.score(X_poly_train_deg12,y_train), polyreg.score(X_poly_test_deg12,y_test)"
   ]
  },
  {
   "cell_type": "code",
   "execution_count": 102,
   "id": "b2db5801",
   "metadata": {},
   "outputs": [
    {
     "name": "stdout",
     "output_type": "stream",
     "text": [
      "Polynomial Features: [1,x,x**2,x**3,x**4,...]\n",
      "[1.00000000e+00 8.00000000e+00 6.40000000e+01 5.12000000e+02\n",
      " 4.09600000e+03 3.27680000e+04 2.62144000e+05 2.09715200e+06\n",
      " 1.67772160e+07 1.34217728e+08 1.07374182e+09 8.58993459e+09\n",
      " 6.87194767e+10 5.49755814e+11 4.39804651e+12 3.51843721e+13]\n",
      "Polynomial Features: [1,x,x**2,x**3,x**4,...]\n",
      "[1.00000000e+00 4.00000000e+00 1.60000000e+01 6.40000000e+01\n",
      " 2.56000000e+02 1.02400000e+03 4.09600000e+03 1.63840000e+04\n",
      " 6.55360000e+04 2.62144000e+05 1.04857600e+06 4.19430400e+06\n",
      " 1.67772160e+07 6.71088640e+07 2.68435456e+08 1.07374182e+09]\n"
     ]
    },
    {
     "data": {
      "text/plain": [
       "(0.5561200693352634, 0.5640550656689641)"
      ]
     },
     "execution_count": 102,
     "metadata": {},
     "output_type": "execute_result"
    }
   ],
   "source": [
    "# degree=15 Polynomial Regression\n",
    "polynomial_features= PolynomialFeatures(degree=15)\n",
    "X_poly_train_deg15 = polynomial_features.fit_transform(X_train)\n",
    "print('Polynomial Features: [1,x,x**2,x**3,x**4,...]')\n",
    "print(X_poly_train_deg15[0])\n",
    "\n",
    "X_poly_test_deg15 = polynomial_features.fit_transform(X_test)\n",
    "print('Polynomial Features: [1,x,x**2,x**3,x**4,...]')\n",
    "print(X_poly_test_deg15[0])\n",
    "\n",
    "polyreg = LinearRegression().fit(X_poly_train_deg15, y_train)\n",
    "polyreg.score(X_poly_train_deg15,y_train), polyreg.score(X_poly_test_deg15,y_test)"
   ]
  },
  {
   "cell_type": "code",
   "execution_count": 101,
   "id": "cf00b967",
   "metadata": {},
   "outputs": [
    {
     "name": "stdout",
     "output_type": "stream",
     "text": [
      "Polynomial Features: [1,x,x**2,x**3,x**4,...]\n",
      "[1.00000000e+00 8.00000000e+00 6.40000000e+01 5.12000000e+02\n",
      " 4.09600000e+03 3.27680000e+04 2.62144000e+05 2.09715200e+06\n",
      " 1.67772160e+07 1.34217728e+08 1.07374182e+09 8.58993459e+09\n",
      " 6.87194767e+10 5.49755814e+11 4.39804651e+12 3.51843721e+13\n",
      " 2.81474977e+14 2.25179981e+15 1.80143985e+16 1.44115188e+17\n",
      " 1.15292150e+18]\n",
      "Polynomial Features: [1,x,x**2,x**3,x**4,...]\n",
      "[1.00000000e+00 4.00000000e+00 1.60000000e+01 6.40000000e+01\n",
      " 2.56000000e+02 1.02400000e+03 4.09600000e+03 1.63840000e+04\n",
      " 6.55360000e+04 2.62144000e+05 1.04857600e+06 4.19430400e+06\n",
      " 1.67772160e+07 6.71088640e+07 2.68435456e+08 1.07374182e+09\n",
      " 4.29496730e+09 1.71798692e+10 6.87194767e+10 2.74877907e+11\n",
      " 1.09951163e+12]\n"
     ]
    },
    {
     "data": {
      "text/plain": [
       "(0.3445403734540968, 0.3186285939212903)"
      ]
     },
     "execution_count": 101,
     "metadata": {},
     "output_type": "execute_result"
    }
   ],
   "source": [
    "# degree=20 Polynomial Regression\n",
    "polynomial_features= PolynomialFeatures(degree=20)\n",
    "X_poly_train_deg20 = polynomial_features.fit_transform(X_train)\n",
    "print('Polynomial Features: [1,x,x**2,x**3,x**4,...]')\n",
    "print(X_poly_train_deg20[0])\n",
    "\n",
    "X_poly_test_deg20 = polynomial_features.fit_transform(X_test)\n",
    "print('Polynomial Features: [1,x,x**2,x**3,x**4,...]')\n",
    "print(X_poly_test_deg20[0])\n",
    "\n",
    "polyreg = LinearRegression().fit(X_poly_train_deg20, y_train)\n",
    "polyreg.score(X_poly_train_deg20,y_train), polyreg.score(X_poly_test_deg20,y_test)"
   ]
  },
  {
   "cell_type": "code",
   "execution_count": 96,
   "id": "b24c16d0",
   "metadata": {},
   "outputs": [
    {
     "name": "stdout",
     "output_type": "stream",
     "text": [
      "Polynomial Features: [1,x,x**2,x**3,x**4,...]\n",
      "[1.00000000e+00 8.00000000e+00 6.40000000e+01 5.12000000e+02\n",
      " 4.09600000e+03 3.27680000e+04 2.62144000e+05 2.09715200e+06\n",
      " 1.67772160e+07 1.34217728e+08 1.07374182e+09 8.58993459e+09\n",
      " 6.87194767e+10 5.49755814e+11 4.39804651e+12 3.51843721e+13\n",
      " 2.81474977e+14 2.25179981e+15 1.80143985e+16 1.44115188e+17\n",
      " 1.15292150e+18 9.22337204e+18 7.37869763e+19 5.90295810e+20\n",
      " 4.72236648e+21 3.77789319e+22 3.02231455e+23 2.41785164e+24\n",
      " 1.93428131e+25 1.54742505e+26 1.23794004e+27 9.90352031e+27\n",
      " 7.92281625e+28 6.33825300e+29 5.07060240e+30 4.05648192e+31\n",
      " 3.24518554e+32 2.59614843e+33 2.07691874e+34 1.66153499e+35\n",
      " 1.32922800e+36 1.06338240e+37 8.50705917e+37 6.80564734e+38\n",
      " 5.44451787e+39 4.35561430e+40 3.48449144e+41 2.78759315e+42\n",
      " 2.23007452e+43 1.78405962e+44 1.42724769e+45 1.14179815e+46\n",
      " 9.13438523e+46 7.30750819e+47 5.84600655e+48 4.67680524e+49\n",
      " 3.74144419e+50 2.99315535e+51 2.39452428e+52 1.91561943e+53\n",
      " 1.53249554e+54 1.22599643e+55 9.80797146e+55 7.84637717e+56\n",
      " 6.27710174e+57 5.02168139e+58 4.01734511e+59 3.21387609e+60\n",
      " 2.57110087e+61 2.05688070e+62 1.64550456e+63 1.31640365e+64\n",
      " 1.05312292e+65 8.42498333e+65 6.73998667e+66 5.39198933e+67\n",
      " 4.31359147e+68 3.45087317e+69 2.76069854e+70 2.20855883e+71\n",
      " 1.76684706e+72 1.41347765e+73 1.13078212e+74 9.04625697e+74\n",
      " 7.23700558e+75 5.78960446e+76 4.63168357e+77 3.70534686e+78\n",
      " 2.96427748e+79 2.37142199e+80 1.89713759e+81 1.51771007e+82\n",
      " 1.21416806e+83 9.71334446e+83 7.77067557e+84 6.21654046e+85\n",
      " 4.97323236e+86 3.97858589e+87 3.18286871e+88 2.54629497e+89\n",
      " 2.03703598e+90]\n",
      "Polynomial Features: [1,x,x**2,x**3,x**4,...]\n",
      "[1.00000000e+00 4.00000000e+00 1.60000000e+01 6.40000000e+01\n",
      " 2.56000000e+02 1.02400000e+03 4.09600000e+03 1.63840000e+04\n",
      " 6.55360000e+04 2.62144000e+05 1.04857600e+06 4.19430400e+06\n",
      " 1.67772160e+07 6.71088640e+07 2.68435456e+08 1.07374182e+09\n",
      " 4.29496730e+09 1.71798692e+10 6.87194767e+10 2.74877907e+11\n",
      " 1.09951163e+12 4.39804651e+12 1.75921860e+13 7.03687442e+13\n",
      " 2.81474977e+14 1.12589991e+15 4.50359963e+15 1.80143985e+16\n",
      " 7.20575940e+16 2.88230376e+17 1.15292150e+18 4.61168602e+18\n",
      " 1.84467441e+19 7.37869763e+19 2.95147905e+20 1.18059162e+21\n",
      " 4.72236648e+21 1.88894659e+22 7.55578637e+22 3.02231455e+23\n",
      " 1.20892582e+24 4.83570328e+24 1.93428131e+25 7.73712525e+25\n",
      " 3.09485010e+26 1.23794004e+27 4.95176016e+27 1.98070406e+28\n",
      " 7.92281625e+28 3.16912650e+29 1.26765060e+30 5.07060240e+30\n",
      " 2.02824096e+31 8.11296384e+31 3.24518554e+32 1.29807421e+33\n",
      " 5.19229686e+33 2.07691874e+34 8.30767497e+34 3.32306999e+35\n",
      " 1.32922800e+36 5.31691198e+36 2.12676479e+37 8.50705917e+37\n",
      " 3.40282367e+38 1.36112947e+39 5.44451787e+39 2.17780715e+40\n",
      " 8.71122859e+40 3.48449144e+41 1.39379657e+42 5.57518630e+42\n",
      " 2.23007452e+43 8.92029808e+43 3.56811923e+44 1.42724769e+45\n",
      " 5.70899077e+45 2.28359631e+46 9.13438523e+46 3.65375409e+47\n",
      " 1.46150164e+48 5.84600655e+48 2.33840262e+49 9.35361048e+49\n",
      " 3.74144419e+50 1.49657768e+51 5.98631071e+51 2.39452428e+52\n",
      " 9.57809713e+52 3.83123885e+53 1.53249554e+54 6.12998216e+54\n",
      " 2.45199287e+55 9.80797146e+55 3.92318858e+56 1.56927543e+57\n",
      " 6.27710174e+57 2.51084069e+58 1.00433628e+59 4.01734511e+59\n",
      " 1.60693804e+60]\n"
     ]
    },
    {
     "data": {
      "text/plain": [
       "(0.0383740841347292, 0.009173822876757609)"
      ]
     },
     "execution_count": 96,
     "metadata": {},
     "output_type": "execute_result"
    }
   ],
   "source": [
    "# degree=100 Polynomial Regression\n",
    "polynomial_features= PolynomialFeatures(degree=100)\n",
    "X_poly_train_deg100 = polynomial_features.fit_transform(X_train)\n",
    "print('Polynomial Features: [1,x,x**2,x**3,x**4,...]')\n",
    "print(X_poly_train_deg100[0])\n",
    "\n",
    "X_poly_test_deg100 = polynomial_features.fit_transform(X_test)\n",
    "print('Polynomial Features: [1,x,x**2,x**3,x**4,...]')\n",
    "print(X_poly_test_deg100[0])\n",
    "\n",
    "polyreg = LinearRegression().fit(X_poly_train_deg100, y_train)\n",
    "polyreg.score(X_poly_train_deg100,y_train), polyreg.score(X_poly_test_deg100,y_test)"
   ]
  },
  {
   "cell_type": "code",
   "execution_count": null,
   "id": "600b0581",
   "metadata": {},
   "outputs": [],
   "source": []
  },
  {
   "cell_type": "code",
   "execution_count": null,
   "id": "799ddb03",
   "metadata": {},
   "outputs": [],
   "source": [
    "braid\tfree_part\ttorsion_part\trow_1_num_FP\trow_2_num_FP\trow_3_num_FP\t/.../\trow_n_num_FP\ttotal_num_TP"
   ]
  },
  {
   "cell_type": "code",
   "execution_count": null,
   "id": "5f33f09c",
   "metadata": {},
   "outputs": [],
   "source": []
  },
  {
   "cell_type": "code",
   "execution_count": 9,
   "id": "b2f4dda5",
   "metadata": {},
   "outputs": [
    {
     "name": "stdout",
     "output_type": "stream",
     "text": [
      "(1000, 2)\n",
      "(2, 1)\n",
      "(1000,)\n",
      "(1000, 2)\n",
      "(2, 2)\n",
      "(1000,)\n"
     ]
    },
    {
     "ename": "ValueError",
     "evalue": "operands could not be broadcast together with shapes (1000,2) (1000,) ",
     "output_type": "error",
     "traceback": [
      "\u001b[0;31m---------------------------------------------------------------------------\u001b[0m",
      "\u001b[0;31mValueError\u001b[0m                                Traceback (most recent call last)",
      "Input \u001b[0;32mIn [9]\u001b[0m, in \u001b[0;36m<cell line: 55>\u001b[0;34m()\u001b[0m\n\u001b[1;32m     51\u001b[0m y_hw_test \u001b[38;5;241m=\u001b[39m y[\u001b[38;5;241m0\u001b[39m:\u001b[38;5;241m1000\u001b[39m]\n\u001b[1;32m     53\u001b[0m \u001b[38;5;66;03m# Run the second order gradient descent algorithm (no input needed)\u001b[39;00m\n\u001b[1;32m     54\u001b[0m \u001b[38;5;66;03m# You should find a similar value of v and cost (hopefully improved)\u001b[39;00m\n\u001b[0;32m---> 55\u001b[0m v,costs \u001b[38;5;241m=\u001b[39m \u001b[43mGD_linreg_improved\u001b[49m\u001b[43m(\u001b[49m\u001b[43mX_hw_test\u001b[49m\u001b[43m,\u001b[49m\u001b[43my_hw_test\u001b[49m\u001b[43m,\u001b[49m\u001b[43mepsilon\u001b[49m\u001b[43m)\u001b[49m\n\u001b[1;32m     56\u001b[0m \u001b[38;5;28mprint\u001b[39m(v)\n\u001b[1;32m     58\u001b[0m \u001b[38;5;66;03m# plot for fun (test and compare with graph in problem5)\u001b[39;00m\n",
      "Input \u001b[0;32mIn [9]\u001b[0m, in \u001b[0;36mGD_linreg_improved\u001b[0;34m(X, y, epsilon, max_iters)\u001b[0m\n\u001b[1;32m     35\u001b[0m alpha \u001b[38;5;241m=\u001b[39m (DJ(X,y,v)\u001b[38;5;241m.\u001b[39mT\u001b[38;5;129m@DJ\u001b[39m(X,y,v))\u001b[38;5;241m/\u001b[39m(DJ(X,y,v)\u001b[38;5;241m.\u001b[39mT\u001b[38;5;129m@H\u001b[39m\u001b[38;5;129m@DJ\u001b[39m(X,y,v))\n\u001b[1;32m     36\u001b[0m v \u001b[38;5;241m=\u001b[39m v\u001b[38;5;241m-\u001b[39malpha\u001b[38;5;241m*\u001b[39mDJ(X,y,v)\n\u001b[0;32m---> 37\u001b[0m costs\u001b[38;5;241m.\u001b[39mappend(\u001b[43mJ\u001b[49m\u001b[43m(\u001b[49m\u001b[43mX\u001b[49m\u001b[43m,\u001b[49m\u001b[43my\u001b[49m\u001b[43m,\u001b[49m\u001b[43mv\u001b[49m\u001b[43m)\u001b[49m)\n\u001b[1;32m     38\u001b[0m \u001b[38;5;28;01mif\u001b[39;00m i \u001b[38;5;241m%\u001b[39m \u001b[38;5;241m100\u001b[39m \u001b[38;5;241m==\u001b[39m \u001b[38;5;241m0\u001b[39m:\n\u001b[1;32m     39\u001b[0m     \u001b[38;5;28mprint\u001b[39m(\u001b[38;5;124mf\u001b[39m\u001b[38;5;124m'\u001b[39m\u001b[38;5;124mafter \u001b[39m\u001b[38;5;132;01m{\u001b[39;00mi\u001b[38;5;132;01m}\u001b[39;00m\u001b[38;5;124m steps the cost is \u001b[39m\u001b[38;5;132;01m{\u001b[39;00mcosts[i]\u001b[38;5;132;01m}\u001b[39;00m\u001b[38;5;124m'\u001b[39m)\n",
      "Input \u001b[0;32mIn [9]\u001b[0m, in \u001b[0;36mJ\u001b[0;34m(X, y, v)\u001b[0m\n\u001b[1;32m     11\u001b[0m \u001b[38;5;28mprint\u001b[39m(v\u001b[38;5;241m.\u001b[39mshape)\n\u001b[1;32m     12\u001b[0m \u001b[38;5;28mprint\u001b[39m(y\u001b[38;5;241m.\u001b[39mshape)\n\u001b[0;32m---> 13\u001b[0m J \u001b[38;5;241m=\u001b[39m LA\u001b[38;5;241m.\u001b[39mnorm(\u001b[43mx_hat\u001b[49m\u001b[38;5;129;43m@v\u001b[39;49m\u001b[38;5;241;43m-\u001b[39;49m\u001b[43my\u001b[49m)\u001b[38;5;241m*\u001b[39m\u001b[38;5;241m*\u001b[39m\u001b[38;5;241m2\u001b[39m\n\u001b[1;32m     14\u001b[0m \u001b[38;5;28;01mreturn\u001b[39;00m (\u001b[38;5;241m1\u001b[39m\u001b[38;5;241m/\u001b[39mrowx)\u001b[38;5;241m*\u001b[39mJ\n",
      "\u001b[0;31mValueError\u001b[0m: operands could not be broadcast together with shapes (1000,2) (1000,) "
     ]
    }
   ],
   "source": [
    "# using what we wrote from Homework_2_Computational\n",
    "from numpy import linalg as LA\n",
    "\n",
    "# to complete problem 3, fill in the following with your code\n",
    "def J(X,y,v):\n",
    "    ######################### your code goes here ########################\n",
    "    rowx = len(X)\n",
    "    ones = np.ones([rowx,1])\n",
    "    x_hat = np.concatenate((ones,X), axis = 1)\n",
    "    print(x_hat.shape)\n",
    "    print(v.shape)\n",
    "    print(y.shape)\n",
    "    J = LA.norm(x_hat@v-y)**2\n",
    "    return (1/rowx)*J\n",
    "\n",
    "def DJ(X,y,v):\n",
    "    ######################### your code goes here ########################\n",
    "    rowx = len(X)\n",
    "    ones = np.ones([rowx,1])\n",
    "    x_hat = np.concatenate((ones,X), axis = 1)\n",
    "    gradient = x_hat.T@x_hat@v-x_hat.T@y\n",
    "    return (2/rowx)*gradient\n",
    "\n",
    "# to complete problem 4, fill in the following with your code\n",
    "def GD_linreg_improved(X,y,epsilon,max_iters=10000): \n",
    "    ######################### your code goes here ########################\n",
    "    rowx = len(X)\n",
    "    colx = len(X[0])\n",
    "    ones = np.ones([rowx,1])\n",
    "    x_hat = np.concatenate((ones,X), axis = 1)\n",
    "    v = np.zeros([colx+1,1])\n",
    "    H = (2/rowx)*x_hat.T@x_hat\n",
    "    costs = [J(X,y,v)]\n",
    "    for i in range(max_iters):\n",
    "        alpha = (DJ(X,y,v).T@DJ(X,y,v))/(DJ(X,y,v).T@H@DJ(X,y,v))\n",
    "        v = v-alpha*DJ(X,y,v)\n",
    "        costs.append(J(X,y,v))\n",
    "        if i % 100 == 0:\n",
    "            print(f'after {i} steps the cost is {costs[i]}')\n",
    "        if abs(costs[i] - costs[i-1])<epsilon:\n",
    "            break\n",
    "    print(f'after {i} steps the cost is {costs[i]}')\n",
    "    return v,costs\n",
    "\n",
    "# Choose the value of epsilon (and max_iters if you want)\n",
    "epsilon = .02\n",
    "max_iters = 10000\n",
    "\n",
    "# Using only 1000 data for X\n",
    "X_hw_test = X[0:1000]\n",
    "y_hw_test = y[0:1000]\n",
    "\n",
    "# Run the second order gradient descent algorithm (no input needed)\n",
    "# You should find a similar value of v and cost (hopefully improved)\n",
    "v,costs = GD_linreg_improved(X_hw_test,y_hw_test,epsilon)\n",
    "print(v)\n",
    "\n",
    "# plot for fun (test and compare with graph in problem5)\n",
    "plt.plot(costs)\n",
    "plt.xlabel('number of iterations')\n",
    "plt.ylabel('Cost J(v)')\n",
    "plt.show()"
   ]
  }
 ],
 "metadata": {
  "kernelspec": {
   "display_name": "Python 3 (ipykernel)",
   "language": "python",
   "name": "python3"
  },
  "language_info": {
   "codemirror_mode": {
    "name": "ipython",
    "version": 3
   },
   "file_extension": ".py",
   "mimetype": "text/x-python",
   "name": "python",
   "nbconvert_exporter": "python",
   "pygments_lexer": "ipython3",
   "version": "3.9.12"
  }
 },
 "nbformat": 4,
 "nbformat_minor": 5
}

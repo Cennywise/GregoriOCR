{
 "cells": [
  {
   "cell_type": "code",
   "execution_count": 1,
   "id": "583f84b7",
   "metadata": {},
   "outputs": [],
   "source": [
    "# import useful libraries for data preprocessing\n",
    "import numpy as np\n",
    "import pandas as pd\n",
    "from numpy import linalg as LA\n",
    "import seaborn as sns"
   ]
  },
  {
   "cell_type": "code",
   "execution_count": 2,
   "id": "42a2a103",
   "metadata": {},
   "outputs": [],
   "source": [
    "# change the current path for referencing\n",
    "import sys\n",
    "sys.path.append('../')"
   ]
  },
  {
   "cell_type": "code",
   "execution_count": 3,
   "id": "e35ebae2",
   "metadata": {},
   "outputs": [
    {
     "data": {
      "text/plain": [
       "'/Users/guoyihan/Downloads'"
      ]
     },
     "execution_count": 3,
     "metadata": {},
     "output_type": "execute_result"
    }
   ],
   "source": [
    "import os\n",
    "os.path.abspath(os.getcwd())"
   ]
  },
  {
   "cell_type": "code",
   "execution_count": 4,
   "id": "9c18954a",
   "metadata": {},
   "outputs": [
    {
     "data": {
      "text/html": [
       "<div>\n",
       "<style scoped>\n",
       "    .dataframe tbody tr th:only-of-type {\n",
       "        vertical-align: middle;\n",
       "    }\n",
       "\n",
       "    .dataframe tbody tr th {\n",
       "        vertical-align: top;\n",
       "    }\n",
       "\n",
       "    .dataframe thead th {\n",
       "        text-align: right;\n",
       "    }\n",
       "</style>\n",
       "<table border=\"1\" class=\"dataframe\">\n",
       "  <thead>\n",
       "    <tr style=\"text-align: right;\">\n",
       "      <th></th>\n",
       "      <th>Unnamed: 0</th>\n",
       "      <th>braid</th>\n",
       "      <th>free_part</th>\n",
       "      <th>torsion_part</th>\n",
       "      <th>total_num_FP</th>\n",
       "      <th>total_num_TP</th>\n",
       "    </tr>\n",
       "  </thead>\n",
       "  <tbody>\n",
       "    <tr>\n",
       "      <th>0</th>\n",
       "      <td>0</td>\n",
       "      <td>[-2, 2, -3, 3, -2, -2, 1, -3, -3]</td>\n",
       "      <td>{(-11, -4): 1, (-9, -4): 1, (-7, -2): 2, (-5, ...</td>\n",
       "      <td>{}</td>\n",
       "      <td>8</td>\n",
       "      <td>0</td>\n",
       "    </tr>\n",
       "    <tr>\n",
       "      <th>1</th>\n",
       "      <td>1</td>\n",
       "      <td>[3, -1, -2, 2, -2, -2, -3, 3, -1]</td>\n",
       "      <td>{(-11, -4): 1, (-9, -4): 1, (-7, -2): 2, (-5, ...</td>\n",
       "      <td>{}</td>\n",
       "      <td>8</td>\n",
       "      <td>0</td>\n",
       "    </tr>\n",
       "    <tr>\n",
       "      <th>2</th>\n",
       "      <td>2</td>\n",
       "      <td>[1, -3, 2, 3, 2, 2, 1, 2, -1]</td>\n",
       "      <td>{(1, 0): 1, (3, 0): 1, (5, 2): 1, (9, 3): 1}</td>\n",
       "      <td>{(7, 3): {2: 1}}</td>\n",
       "      <td>4</td>\n",
       "      <td>1</td>\n",
       "    </tr>\n",
       "    <tr>\n",
       "      <th>3</th>\n",
       "      <td>3</td>\n",
       "      <td>[-1, -1, 1, -1, 3, -2, -1, 3, -2]</td>\n",
       "      <td>{(-11, -4): 1, (-9, -3): 1, (-7, -3): 1, (-7, ...</td>\n",
       "      <td>{(-9, -3): {2: 1}, (-7, -2): {2: 1}, (-5, -1):...</td>\n",
       "      <td>12</td>\n",
       "      <td>5</td>\n",
       "    </tr>\n",
       "    <tr>\n",
       "      <th>4</th>\n",
       "      <td>4</td>\n",
       "      <td>[1, -3, -2, 3, 1, 1, 2, -1, -3]</td>\n",
       "      <td>{(-5, -2): 1, (-3, -2): 1, (-1, 0): 2, (1, 0):...</td>\n",
       "      <td>{}</td>\n",
       "      <td>8</td>\n",
       "      <td>0</td>\n",
       "    </tr>\n",
       "    <tr>\n",
       "      <th>...</th>\n",
       "      <td>...</td>\n",
       "      <td>...</td>\n",
       "      <td>...</td>\n",
       "      <td>...</td>\n",
       "      <td>...</td>\n",
       "      <td>...</td>\n",
       "    </tr>\n",
       "    <tr>\n",
       "      <th>9995</th>\n",
       "      <td>9995</td>\n",
       "      <td>[2, 1, -1, 2, -3, 1, -3, 1, -3]</td>\n",
       "      <td>{(-7, -3): 1, (-3, -2): 1, (-3, -1): 2, (-1, 0...</td>\n",
       "      <td>{(-5, -2): {2: 1}, (-1, 0): {2: 2}, (3, 2): {2...</td>\n",
       "      <td>16</td>\n",
       "      <td>4</td>\n",
       "    </tr>\n",
       "    <tr>\n",
       "      <th>9996</th>\n",
       "      <td>9996</td>\n",
       "      <td>[-1, 2, -1, 1, -1, 1, -1, -2, -1]</td>\n",
       "      <td>{(-6, -2): 1, (-4, -2): 1, (-2, 0): 1, (0, 0): 1}</td>\n",
       "      <td>{}</td>\n",
       "      <td>4</td>\n",
       "      <td>0</td>\n",
       "    </tr>\n",
       "    <tr>\n",
       "      <th>9997</th>\n",
       "      <td>9997</td>\n",
       "      <td>[1, -3, -1, -3, -2, -3, 2, 2, 3]</td>\n",
       "      <td>{(-3, 0): 1, (-1, 0): 3, (1, 0): 3, (3, 0): 1}</td>\n",
       "      <td>{}</td>\n",
       "      <td>8</td>\n",
       "      <td>0</td>\n",
       "    </tr>\n",
       "    <tr>\n",
       "      <th>9998</th>\n",
       "      <td>9998</td>\n",
       "      <td>[-2, 2, 3, -2, 3, 2, -1, -2, -3]</td>\n",
       "      <td>{(-1, 0): 1, (1, 0): 1}</td>\n",
       "      <td>{}</td>\n",
       "      <td>2</td>\n",
       "      <td>0</td>\n",
       "    </tr>\n",
       "    <tr>\n",
       "      <th>9999</th>\n",
       "      <td>9999</td>\n",
       "      <td>[-2, -1, -2, -2, 2, -3, -1, -1, -2]</td>\n",
       "      <td>{(-15, -5): 1, (-11, -4): 1, (-11, -3): 1, (-7...</td>\n",
       "      <td>{(-13, -4): {2: 1}, (-9, -2): {2: 1}}</td>\n",
       "      <td>6</td>\n",
       "      <td>2</td>\n",
       "    </tr>\n",
       "  </tbody>\n",
       "</table>\n",
       "<p>10000 rows × 6 columns</p>\n",
       "</div>"
      ],
      "text/plain": [
       "      Unnamed: 0                                braid  \\\n",
       "0              0    [-2, 2, -3, 3, -2, -2, 1, -3, -3]   \n",
       "1              1    [3, -1, -2, 2, -2, -2, -3, 3, -1]   \n",
       "2              2        [1, -3, 2, 3, 2, 2, 1, 2, -1]   \n",
       "3              3    [-1, -1, 1, -1, 3, -2, -1, 3, -2]   \n",
       "4              4      [1, -3, -2, 3, 1, 1, 2, -1, -3]   \n",
       "...          ...                                  ...   \n",
       "9995        9995      [2, 1, -1, 2, -3, 1, -3, 1, -3]   \n",
       "9996        9996    [-1, 2, -1, 1, -1, 1, -1, -2, -1]   \n",
       "9997        9997     [1, -3, -1, -3, -2, -3, 2, 2, 3]   \n",
       "9998        9998     [-2, 2, 3, -2, 3, 2, -1, -2, -3]   \n",
       "9999        9999  [-2, -1, -2, -2, 2, -3, -1, -1, -2]   \n",
       "\n",
       "                                              free_part  \\\n",
       "0     {(-11, -4): 1, (-9, -4): 1, (-7, -2): 2, (-5, ...   \n",
       "1     {(-11, -4): 1, (-9, -4): 1, (-7, -2): 2, (-5, ...   \n",
       "2          {(1, 0): 1, (3, 0): 1, (5, 2): 1, (9, 3): 1}   \n",
       "3     {(-11, -4): 1, (-9, -3): 1, (-7, -3): 1, (-7, ...   \n",
       "4     {(-5, -2): 1, (-3, -2): 1, (-1, 0): 2, (1, 0):...   \n",
       "...                                                 ...   \n",
       "9995  {(-7, -3): 1, (-3, -2): 1, (-3, -1): 2, (-1, 0...   \n",
       "9996  {(-6, -2): 1, (-4, -2): 1, (-2, 0): 1, (0, 0): 1}   \n",
       "9997     {(-3, 0): 1, (-1, 0): 3, (1, 0): 3, (3, 0): 1}   \n",
       "9998                            {(-1, 0): 1, (1, 0): 1}   \n",
       "9999  {(-15, -5): 1, (-11, -4): 1, (-11, -3): 1, (-7...   \n",
       "\n",
       "                                           torsion_part  total_num_FP  \\\n",
       "0                                                    {}             8   \n",
       "1                                                    {}             8   \n",
       "2                                      {(7, 3): {2: 1}}             4   \n",
       "3     {(-9, -3): {2: 1}, (-7, -2): {2: 1}, (-5, -1):...            12   \n",
       "4                                                    {}             8   \n",
       "...                                                 ...           ...   \n",
       "9995  {(-5, -2): {2: 1}, (-1, 0): {2: 2}, (3, 2): {2...            16   \n",
       "9996                                                 {}             4   \n",
       "9997                                                 {}             8   \n",
       "9998                                                 {}             2   \n",
       "9999              {(-13, -4): {2: 1}, (-9, -2): {2: 1}}             6   \n",
       "\n",
       "      total_num_TP  \n",
       "0                0  \n",
       "1                0  \n",
       "2                1  \n",
       "3                5  \n",
       "4                0  \n",
       "...            ...  \n",
       "9995             4  \n",
       "9996             0  \n",
       "9997             0  \n",
       "9998             0  \n",
       "9999             2  \n",
       "\n",
       "[10000 rows x 6 columns]"
      ]
     },
     "execution_count": 4,
     "metadata": {},
     "output_type": "execute_result"
    }
   ],
   "source": [
    "# read the new 10000_9.csv file\n",
    "df_10000_9_new = pd.read_csv(r\"./data/10000_9.csv\")\n",
    "df_10000_9_new"
   ]
  },
  {
   "cell_type": "code",
   "execution_count": 5,
   "id": "560b59f6",
   "metadata": {},
   "outputs": [
    {
     "data": {
      "text/plain": [
       "<seaborn.axisgrid.PairGrid at 0x11033ed60>"
      ]
     },
     "execution_count": 5,
     "metadata": {},
     "output_type": "execute_result"
    },
    {
     "data": {
      "image/png": "[encoded data removed]",
      "text/plain": [
       "<Figure size 360x360 with 6 Axes>"
      ]
     },
     "metadata": {
      "needs_background": "light"
     },
     "output_type": "display_data"
    }
   ],
   "source": [
    "# look at data distribution using seaborn plot\n",
    "sns.pairplot(df_10000_9_new.drop(columns=['Unnamed: 0', 'braid', 'free_part', 'torsion_part']))"
   ]
  },
  {
   "cell_type": "code",
   "execution_count": null,
   "id": "9c99d74e",
   "metadata": {},
   "outputs": [],
   "source": []
  },
  {
   "cell_type": "code",
   "execution_count": 6,
   "id": "3fe527da",
   "metadata": {},
   "outputs": [],
   "source": [
    "# Use the functions we built to find parameters and make testing predictions\n",
    "def generate_monomials_eq(n,k):\n",
    "    ######################### your code goes here ########################\n",
    "    if n == 1: \n",
    "        yield [k,]\n",
    "    else:\n",
    "        for i in range(k+1):\n",
    "            for j in generate_monomials_eq(n-1,k-i):\n",
    "                yield [i,] + j\n",
    "def generate_monomials_leq(n,k): \n",
    "    ######################### your code goes here ########################\n",
    "    L = []\n",
    "    for i in range(k+1):\n",
    "        Lh = list(generate_monomials_eq(n,i))\n",
    "        Lh.sort(reverse = True)\n",
    "        L += Lh\n",
    "    return L\n",
    "def add_poly_terms(X,k):\n",
    "    ######################### your code goes here ########################\n",
    "    n = len(X[0])\n",
    "    mons = generate_monomials_leq(n,k)\n",
    "    L = []\n",
    "    for mon in mons:\n",
    "        X1 = np.ones(len(X))\n",
    "        for i in range(n):\n",
    "            X1 *= X[:,i]**mon[i]\n",
    "        L.append(X1)\n",
    "    return(np.array(L).T)\n"
   ]
  },
  {
   "cell_type": "code",
   "execution_count": 7,
   "id": "e6e03047",
   "metadata": {},
   "outputs": [],
   "source": [
    "def J(X,y,v,lambda_):\n",
    "    ######################### your code goes here ########################\n",
    "    rowx = len(X)\n",
    "    J = LA.norm(X@v-y)**2\n",
    "    re = LA.norm(v,2)**2\n",
    "    return (1/rowx)*J + lambda_*re\n",
    "\n",
    "def DJ(X,y,v,lambda_):\n",
    "    ######################### your code goes here ########################\n",
    "    rowx = len(X)\n",
    "    gradient = X.T@X@v-X.T@y\n",
    "    reg = 2*v\n",
    "    return (2/rowx)*gradient + lambda_*reg\n",
    "\n",
    "def GD_linreg_improved(X,y,epsilon,lambda_,max_iters = 10000): \n",
    "    ######################### your code goes here ########################\n",
    "    a = X.shape\n",
    "    v = np.zeros([a[1],1])\n",
    "    H = (2/a[0])*X.T@X+2*lambda_*np.identity(a[1])\n",
    "    costs = [J(X,y,v,lambda_)]\n",
    "    for i in range(max_iters):\n",
    "        alpha = (DJ(X,y,v,lambda_).T@DJ(X,y,v,lambda_))/(DJ(X,y,v,lambda_).T@H@DJ(X,y,v,lambda_))\n",
    "        v = v-DJ(X,y,v,lambda_)*alpha\n",
    "        costs.append(J(X,y,v,lambda_))\n",
    "        if i % 1000 == 0:\n",
    "            print(f'after {i} steps the cost is {costs[i]}')\n",
    "        if abs(costs[i] - costs[i-1])<epsilon:\n",
    "            break\n",
    "    print(f'after {i} steps the cost is {costs[i]}')\n",
    "    return v,costs"
   ]
  },
  {
   "cell_type": "code",
   "execution_count": 8,
   "id": "1cce861b",
   "metadata": {},
   "outputs": [],
   "source": [
    "def predict(X,v,y):\n",
    "    r = np.vectorize(round) \n",
    "    X_r = r(X@v)    \n",
    "    output = [a == p for a,p in zip(y,X_r)]\n",
    "    count = len([val for val in output if val == False])\n",
    "    J = LA.norm(X@v-y)**2\n",
    "    rowx = len(X_test)\n",
    "    cost = (1/rowx)*J\n",
    "    return count,cost"
   ]
  },
  {
   "cell_type": "code",
   "execution_count": 9,
   "id": "488c78e2",
   "metadata": {},
   "outputs": [],
   "source": [
    "X = (np.array(df_10000_9_new.total_num_FP)).reshape(-1, 1)\n",
    "y = (np.array(df_10000_9_new.total_num_TP)).reshape(-1,1)\n",
    "X2 = add_poly_terms(X,1)\n",
    "X_train = X2[0:8000]\n",
    "y_train = y[0:8000]"
   ]
  },
  {
   "cell_type": "code",
   "execution_count": 10,
   "id": "5bc4ad49",
   "metadata": {},
   "outputs": [
    {
     "name": "stdout",
     "output_type": "stream",
     "text": [
      "after 0 steps the cost is 6.809625\n",
      "after 4 steps the cost is 1.660043518047414\n",
      "[[-1.08284034]\n",
      " [ 0.3345881 ]]\n"
     ]
    }
   ],
   "source": [
    "lambda_ = 0.1\n",
    "epsilon = 0.01\n",
    "v1,costs =  GD_linreg_improved(X_train,y_train,epsilon,lambda_) \n",
    "print(v1)"
   ]
  },
  {
   "cell_type": "code",
   "execution_count": 11,
   "id": "d41d6513",
   "metadata": {},
   "outputs": [],
   "source": [
    "X_val = X2[8001:9001]\n",
    "y_val = y[8001:9001]"
   ]
  },
  {
   "cell_type": "code",
   "execution_count": 12,
   "id": "2923b4ce",
   "metadata": {},
   "outputs": [
    {
     "name": "stdout",
     "output_type": "stream",
     "text": [
      "after 0 steps the cost is 5.6080000000000005\n",
      "after 4 steps the cost is 1.6465988811579058\n",
      "[[-1.00705802]\n",
      " [ 0.31439978]]\n"
     ]
    }
   ],
   "source": [
    "lambda_ = 0.1\n",
    "epsilon = 0.01\n",
    "v2,costs =  GD_linreg_improved(X_val,y_val,epsilon,lambda_)\n",
    "print(v2)"
   ]
  },
  {
   "cell_type": "code",
   "execution_count": 13,
   "id": "5630dbd9",
   "metadata": {},
   "outputs": [],
   "source": [
    "X_test = X2[9002:10000]\n",
    "y_test = y[9002:10000]"
   ]
  },
  {
   "cell_type": "code",
   "execution_count": 15,
   "id": "3582b421",
   "metadata": {},
   "outputs": [
    {
     "data": {
      "text/plain": [
       "(673, 1.5075493896516643)"
      ]
     },
     "execution_count": 15,
     "metadata": {},
     "output_type": "execute_result"
    }
   ],
   "source": [
    "predict(X_test,v2,y_test)"
   ]
  },
  {
   "cell_type": "code",
   "execution_count": null,
   "id": "1eafff41",
   "metadata": {},
   "outputs": [],
   "source": []
  },
  {
   "cell_type": "code",
   "execution_count": null,
   "id": "35cf7bea",
   "metadata": {},
   "outputs": [],
   "source": [
    "# try to make prediction using LinearRegression and libraries from sklearn\n",
    "from sklearn.model_selection import train_test_split\n",
    "from sklearn.linear_model import LinearRegression\n",
    "from sklearn.metrics import classification_report\n",
    "\n",
    "# need to reshape X because there is only one feature in X (i.e. X is currently a row vector, need to convert it to a column vector)\n",
    "X = (np.array(df_10000_9_new.total_num_FP)).reshape(-1, 1)\n",
    "y = (np.array(df_10000_9_new.total_num_TP))\n",
    "\n",
    "# split X and y into training and testing sets\n",
    "X_train, X_test, y_train, y_test = train_test_split(X, y, test_size=0.2, random_state=42)\n",
    "\n",
    "# fit the data in LinearRegression (i.e. train the LinearRegression model using the training data X and Y)\n",
    "linreg = LinearRegression().fit(X_train,y_train)\n",
    "\n",
    "# see the accuracy of training and testing (i.e. measure performance of the LinearRegressing model)\n",
    "linreg.score(X_train,y_train), linreg.score(X_test,y_test)"
   ]
  },
  {
   "cell_type": "code",
   "execution_count": null,
   "id": "727551fc",
   "metadata": {},
   "outputs": [],
   "source": []
  }
 ],
 "metadata": {
  "kernelspec": {
   "display_name": "Python [conda env:root] *",
   "language": "python",
   "name": "conda-root-py"
  },
  "language_info": {
   "codemirror_mode": {
    "name": "ipython",
    "version": 3
   },
   "file_extension": ".py",
   "mimetype": "text/x-python",
   "name": "python",
   "nbconvert_exporter": "python",
   "pygments_lexer": "ipython3",
   "version": "3.9.12"
  }
 },
 "nbformat": 4,
 "nbformat_minor": 5
}

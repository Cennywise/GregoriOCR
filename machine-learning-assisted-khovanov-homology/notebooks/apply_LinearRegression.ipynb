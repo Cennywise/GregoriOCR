{
 "cells": [
  {
   "cell_type": "markdown",
   "id": "29374061",
   "metadata": {},
   "source": [
    "# Step1. Read in the parsed dataset"
   ]
  },
  {
   "cell_type": "code",
   "execution_count": 2,
   "id": "583f84b7",
   "metadata": {
    "ExecuteTime": {
     "end_time": "2022-12-04T23:34:02.301455Z",
     "start_time": "2022-12-04T23:34:01.300350Z"
    }
   },
   "outputs": [],
   "source": [
    "# import useful libraries for data preprocessing\n",
    "import numpy as np\n",
    "import pandas as pd\n",
    "from numpy import linalg as LA\n",
    "import seaborn as sns\n",
    "import os"
   ]
  },
  {
   "cell_type": "markdown",
   "id": "cc193f59",
   "metadata": {},
   "source": [
    "Run this cell to check your current working directory. It should return the top folder \"machine-learning-assisted-khovanov-homology\""
   ]
  },
  {
   "cell_type": "code",
   "execution_count": 3,
   "id": "05997dd1",
   "metadata": {
    "ExecuteTime": {
     "end_time": "2022-12-04T23:34:02.772222Z",
     "start_time": "2022-12-04T23:34:02.765240Z"
    }
   },
   "outputs": [
    {
     "data": {
      "text/plain": [
       "'/mnt/c/Users/wuwj2/Desktop/jupyter/MAT_180_ML_Projects/machine-learning-assisted-khovanov-homology/notebooks'"
      ]
     },
     "execution_count": 3,
     "metadata": {},
     "output_type": "execute_result"
    }
   ],
   "source": [
    "os.getcwd()"
   ]
  },
  {
   "cell_type": "code",
   "execution_count": 4,
   "id": "01c1cdda",
   "metadata": {
    "ExecuteTime": {
     "end_time": "2022-12-04T23:34:04.106057Z",
     "start_time": "2022-12-04T23:34:04.102389Z"
    }
   },
   "outputs": [],
   "source": [
    "#Run this cell once if still in the notebooks folder.\n",
    "#Note that running this command multiple times might get you too high in the directory tree so be \n",
    "#cautious running this cell\n",
    "os.chdir(\"../\")"
   ]
  },
  {
   "cell_type": "code",
   "execution_count": 5,
   "id": "9c18954a",
   "metadata": {
    "ExecuteTime": {
     "end_time": "2022-12-04T23:34:04.775078Z",
     "start_time": "2022-12-04T23:34:04.746286Z"
    }
   },
   "outputs": [],
   "source": [
    "# read the new 10000_9.csv file\n",
    "df_10000_9_new = pd.read_csv(\"data/10000_9_cleaned.csv\")"
   ]
  },
  {
   "cell_type": "code",
   "execution_count": 6,
   "id": "03901b1a",
   "metadata": {
    "ExecuteTime": {
     "end_time": "2022-12-04T23:34:05.677448Z",
     "start_time": "2022-12-04T23:34:05.663940Z"
    }
   },
   "outputs": [
    {
     "data": {
      "text/html": [
       "<div>\n",
       "<style scoped>\n",
       "    .dataframe tbody tr th:only-of-type {\n",
       "        vertical-align: middle;\n",
       "    }\n",
       "\n",
       "    .dataframe tbody tr th {\n",
       "        vertical-align: top;\n",
       "    }\n",
       "\n",
       "    .dataframe thead th {\n",
       "        text-align: right;\n",
       "    }\n",
       "</style>\n",
       "<table border=\"1\" class=\"dataframe\">\n",
       "  <thead>\n",
       "    <tr style=\"text-align: right;\">\n",
       "      <th></th>\n",
       "      <th>braid</th>\n",
       "      <th>free_part</th>\n",
       "      <th>torsion_part</th>\n",
       "      <th>total_num_FP</th>\n",
       "      <th>total_num_TP</th>\n",
       "    </tr>\n",
       "  </thead>\n",
       "  <tbody>\n",
       "    <tr>\n",
       "      <th>0</th>\n",
       "      <td>[1, -3, 2, 3, 2, 2, 1, 2, -1]</td>\n",
       "      <td>{(1, 0): 1, (3, 0): 1, (5, 2): 1, (9, 3): 1}</td>\n",
       "      <td>{(7, 3): {2: 1}}</td>\n",
       "      <td>4</td>\n",
       "      <td>1</td>\n",
       "    </tr>\n",
       "    <tr>\n",
       "      <th>1</th>\n",
       "      <td>[-1, -1, 1, -1, 3, -2, -1, 3, -2]</td>\n",
       "      <td>{(-11, -4): 1, (-9, -3): 1, (-7, -3): 1, (-7, ...</td>\n",
       "      <td>{(-9, -3): {2: 1}, (-7, -2): {2: 1}, (-5, -1):...</td>\n",
       "      <td>12</td>\n",
       "      <td>5</td>\n",
       "    </tr>\n",
       "    <tr>\n",
       "      <th>2</th>\n",
       "      <td>[-2, -1, 1, 1, 2, 1, 1, -3, 1]</td>\n",
       "      <td>{(1, 0): 1, (3, 0): 1, (5, 2): 1, (9, 3): 1}</td>\n",
       "      <td>{(7, 3): {2: 1}}</td>\n",
       "      <td>4</td>\n",
       "      <td>1</td>\n",
       "    </tr>\n",
       "    <tr>\n",
       "      <th>3</th>\n",
       "      <td>[-1, 3, -3, -3, 3, 2, -1, -3, 2]</td>\n",
       "      <td>{(-5, -2): 1, (-1, -1): 1, (-1, 0): 1, (1, 0):...</td>\n",
       "      <td>{(-3, -1): {2: 1}, (3, 2): {2: 1}}</td>\n",
       "      <td>6</td>\n",
       "      <td>2</td>\n",
       "    </tr>\n",
       "    <tr>\n",
       "      <th>4</th>\n",
       "      <td>[3, 1, -1, 1, 2, 3, 2, 2, 2]</td>\n",
       "      <td>{(3, 0): 1, (5, 0): 1, (7, 2): 1, (11, 3): 1, ...</td>\n",
       "      <td>{(9, 3): {2: 1}, (13, 5): {2: 1}}</td>\n",
       "      <td>6</td>\n",
       "      <td>2</td>\n",
       "    </tr>\n",
       "    <tr>\n",
       "      <th>...</th>\n",
       "      <td>...</td>\n",
       "      <td>...</td>\n",
       "      <td>...</td>\n",
       "      <td>...</td>\n",
       "      <td>...</td>\n",
       "    </tr>\n",
       "    <tr>\n",
       "      <th>2426</th>\n",
       "      <td>[3, -1, 3, -2, 1, -2, 2, 3, 1]</td>\n",
       "      <td>{(1, 0): 1, (3, 0): 1, (5, 2): 1, (9, 3): 1}</td>\n",
       "      <td>{(7, 3): {2: 1}}</td>\n",
       "      <td>4</td>\n",
       "      <td>1</td>\n",
       "    </tr>\n",
       "    <tr>\n",
       "      <th>2427</th>\n",
       "      <td>[3, -2, 2, 2, 1, 2, 2, 3, 3]</td>\n",
       "      <td>{(3, 0): 1, (5, 0): 1, (7, 2): 2, (11, 3): 2, ...</td>\n",
       "      <td>{(9, 3): {2: 2}, (13, 5): {2: 1}, (15, 6): {2:...</td>\n",
       "      <td>10</td>\n",
       "      <td>4</td>\n",
       "    </tr>\n",
       "    <tr>\n",
       "      <th>2428</th>\n",
       "      <td>[-2, -2, -1, -3, -3, 2, -3, -3, 3]</td>\n",
       "      <td>{(-13, -5): 1, (-9, -4): 1, (-9, -3): 1, (-7, ...</td>\n",
       "      <td>{(-11, -4): {2: 1}, (-7, -2): {2: 1}, (-5, -1)...</td>\n",
       "      <td>8</td>\n",
       "      <td>3</td>\n",
       "    </tr>\n",
       "    <tr>\n",
       "      <th>2429</th>\n",
       "      <td>[1, 3, 1, 3, -2, -1, -3, 2, 2]</td>\n",
       "      <td>{(1, 0): 1, (3, 0): 1, (3, 1): 1, (5, 2): 1, (...</td>\n",
       "      <td>{(5, 2): {2: 1}, (7, 3): {2: 1}, (11, 5): {2: 1}}</td>\n",
       "      <td>8</td>\n",
       "      <td>3</td>\n",
       "    </tr>\n",
       "    <tr>\n",
       "      <th>2430</th>\n",
       "      <td>[-2, -1, -2, -2, 2, -3, -1, -1, -2]</td>\n",
       "      <td>{(-15, -5): 1, (-11, -4): 1, (-11, -3): 1, (-7...</td>\n",
       "      <td>{(-13, -4): {2: 1}, (-9, -2): {2: 1}}</td>\n",
       "      <td>6</td>\n",
       "      <td>2</td>\n",
       "    </tr>\n",
       "  </tbody>\n",
       "</table>\n",
       "<p>2431 rows × 5 columns</p>\n",
       "</div>"
      ],
      "text/plain": [
       "                                    braid  \\\n",
       "0           [1, -3, 2, 3, 2, 2, 1, 2, -1]   \n",
       "1       [-1, -1, 1, -1, 3, -2, -1, 3, -2]   \n",
       "2          [-2, -1, 1, 1, 2, 1, 1, -3, 1]   \n",
       "3        [-1, 3, -3, -3, 3, 2, -1, -3, 2]   \n",
       "4            [3, 1, -1, 1, 2, 3, 2, 2, 2]   \n",
       "...                                   ...   \n",
       "2426       [3, -1, 3, -2, 1, -2, 2, 3, 1]   \n",
       "2427         [3, -2, 2, 2, 1, 2, 2, 3, 3]   \n",
       "2428   [-2, -2, -1, -3, -3, 2, -3, -3, 3]   \n",
       "2429       [1, 3, 1, 3, -2, -1, -3, 2, 2]   \n",
       "2430  [-2, -1, -2, -2, 2, -3, -1, -1, -2]   \n",
       "\n",
       "                                              free_part  \\\n",
       "0          {(1, 0): 1, (3, 0): 1, (5, 2): 1, (9, 3): 1}   \n",
       "1     {(-11, -4): 1, (-9, -3): 1, (-7, -3): 1, (-7, ...   \n",
       "2          {(1, 0): 1, (3, 0): 1, (5, 2): 1, (9, 3): 1}   \n",
       "3     {(-5, -2): 1, (-1, -1): 1, (-1, 0): 1, (1, 0):...   \n",
       "4     {(3, 0): 1, (5, 0): 1, (7, 2): 1, (11, 3): 1, ...   \n",
       "...                                                 ...   \n",
       "2426       {(1, 0): 1, (3, 0): 1, (5, 2): 1, (9, 3): 1}   \n",
       "2427  {(3, 0): 1, (5, 0): 1, (7, 2): 2, (11, 3): 2, ...   \n",
       "2428  {(-13, -5): 1, (-9, -4): 1, (-9, -3): 1, (-7, ...   \n",
       "2429  {(1, 0): 1, (3, 0): 1, (3, 1): 1, (5, 2): 1, (...   \n",
       "2430  {(-15, -5): 1, (-11, -4): 1, (-11, -3): 1, (-7...   \n",
       "\n",
       "                                           torsion_part  total_num_FP  \\\n",
       "0                                      {(7, 3): {2: 1}}             4   \n",
       "1     {(-9, -3): {2: 1}, (-7, -2): {2: 1}, (-5, -1):...            12   \n",
       "2                                      {(7, 3): {2: 1}}             4   \n",
       "3                    {(-3, -1): {2: 1}, (3, 2): {2: 1}}             6   \n",
       "4                     {(9, 3): {2: 1}, (13, 5): {2: 1}}             6   \n",
       "...                                                 ...           ...   \n",
       "2426                                   {(7, 3): {2: 1}}             4   \n",
       "2427  {(9, 3): {2: 2}, (13, 5): {2: 1}, (15, 6): {2:...            10   \n",
       "2428  {(-11, -4): {2: 1}, (-7, -2): {2: 1}, (-5, -1)...             8   \n",
       "2429  {(5, 2): {2: 1}, (7, 3): {2: 1}, (11, 5): {2: 1}}             8   \n",
       "2430              {(-13, -4): {2: 1}, (-9, -2): {2: 1}}             6   \n",
       "\n",
       "      total_num_TP  \n",
       "0                1  \n",
       "1                5  \n",
       "2                1  \n",
       "3                2  \n",
       "4                2  \n",
       "...            ...  \n",
       "2426             1  \n",
       "2427             4  \n",
       "2428             3  \n",
       "2429             3  \n",
       "2430             2  \n",
       "\n",
       "[2431 rows x 5 columns]"
      ]
     },
     "execution_count": 6,
     "metadata": {},
     "output_type": "execute_result"
    }
   ],
   "source": [
    "df_10000_9_new"
   ]
  },
  {
   "cell_type": "code",
   "execution_count": 10,
   "id": "560b59f6",
   "metadata": {
    "ExecuteTime": {
     "end_time": "2022-12-04T23:35:06.437060Z",
     "start_time": "2022-12-04T23:35:05.724136Z"
    }
   },
   "outputs": [
    {
     "data": {
      "text/plain": [
       "<seaborn.axisgrid.PairGrid at 0x7f44ee27c6a0>"
      ]
     },
     "execution_count": 10,
     "metadata": {},
     "output_type": "execute_result"
    },
    {
     "data": {
      "image/png": "[encoded data removed]",
      "text/plain": [
       "<Figure size 360x360 with 6 Axes>"
      ]
     },
     "metadata": {
      "needs_background": "light"
     },
     "output_type": "display_data"
    }
   ],
   "source": [
    "# look at data distribution using seaborn plot\n",
    "sns.pairplot(df_10000_9_new[['total_num_FP','total_num_TP']])"
   ]
  },
  {
   "cell_type": "markdown",
   "id": "df0eaad1",
   "metadata": {},
   "source": [
    "# Step2. Trian the LinearRegression Model and find the parameters using the function we built ourselves"
   ]
  },
  {
   "cell_type": "code",
   "execution_count": 11,
   "id": "3fe527da",
   "metadata": {
    "ExecuteTime": {
     "end_time": "2022-12-04T23:35:14.088936Z",
     "start_time": "2022-12-04T23:35:14.027246Z"
    }
   },
   "outputs": [],
   "source": [
    "#Import functions built in class\n",
    "\n",
    "from scripts.polynomial import add_poly_terms\n",
    "from scripts.GDLinearReg import J, DJ, GD_linreg_improved"
   ]
  },
  {
   "cell_type": "code",
   "execution_count": 90,
   "id": "1cce861b",
   "metadata": {
    "ExecuteTime": {
     "end_time": "2022-12-04T23:58:58.503400Z",
     "start_time": "2022-12-04T23:58:58.500073Z"
    }
   },
   "outputs": [],
   "source": [
    "def prediction(x,v):\n",
    "    return round((x@v)[0])\n",
    "\n",
    "def accuracy(X,v,y):\n",
    "    count = 0\n",
    "    for i,x in enumerate(X):\n",
    "        if prediction(x,v) == y[i][0]:\n",
    "            count += 1\n",
    "    return count / len(X)"
   ]
  },
  {
   "cell_type": "code",
   "execution_count": 91,
   "id": "488c78e2",
   "metadata": {
    "ExecuteTime": {
     "end_time": "2022-12-04T23:59:00.215977Z",
     "start_time": "2022-12-04T23:59:00.208092Z"
    }
   },
   "outputs": [],
   "source": [
    "X = (np.array(df_10000_9_new.total_num_FP)).reshape(-1, 1)\n",
    "y = (np.array(df_10000_9_new.total_num_TP)).reshape(-1,1)\n",
    "\n",
    "from sklearn.model_selection import train_test_split\n",
    "X_train, X_test, y_train, y_test = train_test_split(X, y, test_size=0.2, random_state=1)\n",
    "X_train, X_val, y_train, y_val = train_test_split(X_train, y_train, test_size=0.25, random_state=1)"
   ]
  },
  {
   "cell_type": "code",
   "execution_count": 92,
   "id": "b49548e5",
   "metadata": {
    "ExecuteTime": {
     "end_time": "2022-12-04T23:59:00.922087Z",
     "start_time": "2022-12-04T23:59:00.916817Z"
    }
   },
   "outputs": [
    {
     "name": "stdout",
     "output_type": "stream",
     "text": [
      "Size of training set: 1458\n",
      "Size of validation set: 486\n",
      "Size of testing set: 487\n"
     ]
    }
   ],
   "source": [
    "print(f'Size of training set: {len(X_train)}')\n",
    "print(f'Size of validation set: {len(X_val)}')\n",
    "print(f'Size of testing set: {len(X_test)}')"
   ]
  },
  {
   "cell_type": "code",
   "execution_count": 93,
   "id": "eab2d26a",
   "metadata": {
    "ExecuteTime": {
     "end_time": "2022-12-04T23:59:02.098071Z",
     "start_time": "2022-12-04T23:59:02.093896Z"
    }
   },
   "outputs": [],
   "source": [
    "def fit(X, y, epsilon, lambda_, max_iters = 10000, poly_terms = 1):\n",
    "    print(f'Running polynomial regressio')\n",
    "    \n",
    "    v, costs =  GD_linreg_improved(add_poly_terms(X, poly_terms), y, epsilon, lambda_, max_iters) \n",
    "    \n",
    "    print(f'\\nFinal cost is {costs[-1]}\\n')\n",
    "    return v, costs"
   ]
  },
  {
   "cell_type": "code",
   "execution_count": 95,
   "id": "19d04bcc",
   "metadata": {
    "ExecuteTime": {
     "end_time": "2022-12-04T23:59:18.749101Z",
     "start_time": "2022-12-04T23:59:18.336830Z"
    }
   },
   "outputs": [
    {
     "name": "stdout",
     "output_type": "stream",
     "text": [
      "after 0 steps the cost is 11.844307270233198\n",
      "after 1000 steps the cost is 0.016737627119538894\n",
      "after 2000 steps the cost is 0.016366408239156645\n",
      "after 2648 steps the cost is 0.0163655803738109\n",
      "\n",
      "Final cost is 0.016365580274681376\n",
      "\n",
      "Accuracy of training set is: 0.9958847736625515\n",
      "Accuracy of validation set is: 0.9917695473251029\n",
      "Accuracy of test set is: 0.9958932238193019\n"
     ]
    }
   ],
   "source": [
    "degree = 2\n",
    "\n",
    "v, costs = fit(X_train, y_train, epsilon = 1e-10, lambda_ = 0, max_iters = 10000, poly_terms = degree)\n",
    "\n",
    "print(f'Accuracy of training set is: {accuracy(add_poly_terms(X_train, degree),v,y_train)}')\n",
    "print(f'Accuracy of validation set is: {accuracy(add_poly_terms(X_val, degree),v,y_val)}')\n",
    "print(f'Accuracy of test set is: {accuracy(add_poly_terms(X_test, degree),v,y_test)}')"
   ]
  },
  {
   "cell_type": "markdown",
   "id": "a7a4c460",
   "metadata": {},
   "source": [
    "# Step3. Train the LinearRegression model from Scikit-Learn"
   ]
  },
  {
   "cell_type": "code",
   "execution_count": 18,
   "id": "35cf7bea",
   "metadata": {
    "ExecuteTime": {
     "end_time": "2022-12-04T23:35:24.638598Z",
     "start_time": "2022-12-04T23:35:24.604995Z"
    }
   },
   "outputs": [
    {
     "data": {
      "text/plain": [
       "(0.9968557363364272, 0.9957886702216765)"
      ]
     },
     "execution_count": 18,
     "metadata": {},
     "output_type": "execute_result"
    }
   ],
   "source": [
    "# try to make prediction using LinearRegression and libraries from sklearn\n",
    "from sklearn.model_selection import train_test_split\n",
    "from sklearn.linear_model import LinearRegression\n",
    "from sklearn.metrics import classification_report\n",
    "\n",
    "# need to reshape X because there is only one feature in X (i.e. X is currently a row vector, need to convert it to a column vector)\n",
    "X = (np.array(df_10000_9_new.total_num_FP)).reshape(-1, 1)\n",
    "y = (np.array(df_10000_9_new.total_num_TP))\n",
    "\n",
    "# split X and y into training and testing sets\n",
    "X_train, X_test, y_train, y_test = train_test_split(X, y, test_size=0.2, random_state=42)\n",
    "\n",
    "# fit the data in LinearRegression (i.e. train the LinearRegression model using the training data X and Y)\n",
    "linreg = LinearRegression().fit(X_train,y_train)\n",
    "\n",
    "# see the accuracy of training and testing (i.e. measure performance of the LinearRegressing model)\n",
    "linreg.score(X_train,y_train), linreg.score(X_test,y_test)"
   ]
  },
  {
   "cell_type": "code",
   "execution_count": null,
   "id": "727551fc",
   "metadata": {},
   "outputs": [],
   "source": []
  }
 ],
 "metadata": {
  "kernelspec": {
   "display_name": "Python 3 (ipykernel)",
   "language": "python",
   "name": "python3"
  },
  "language_info": {
   "codemirror_mode": {
    "name": "ipython",
    "version": 3
   },
   "file_extension": ".py",
   "mimetype": "text/x-python",
   "name": "python",
   "nbconvert_exporter": "python",
   "pygments_lexer": "ipython3",
   "version": "3.8.10"
  }
 },
 "nbformat": 4,
 "nbformat_minor": 5
}

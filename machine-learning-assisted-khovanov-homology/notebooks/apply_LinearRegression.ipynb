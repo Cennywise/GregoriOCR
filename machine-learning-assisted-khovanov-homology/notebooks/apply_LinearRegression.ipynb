{
 "cells": [
  {
   "cell_type": "markdown",
   "id": "29374061",
   "metadata": {},
   "source": [
    "# Step1. Read in the parsed dataset"
   ]
  },
  {
   "cell_type": "code",
   "execution_count": 8,
   "id": "583f84b7",
   "metadata": {
    "ExecuteTime": {
     "end_time": "2022-12-04T22:49:15.045961Z",
     "start_time": "2022-12-04T22:49:15.042266Z"
    }
   },
   "outputs": [],
   "source": [
    "# import useful libraries for data preprocessing\n",
    "import numpy as np\n",
    "import pandas as pd\n",
    "from numpy import linalg as LA\n",
    "import seaborn as sns\n",
    "import os"
   ]
  },
  {
   "cell_type": "markdown",
   "id": "cc193f59",
   "metadata": {},
   "source": [
    "Run this cell to check your current working directory. It should return the top folder \"machine-learning-assisted-khovanov-homology\""
   ]
  },
  {
   "cell_type": "code",
   "execution_count": 2,
   "id": "05997dd1",
   "metadata": {
    "ExecuteTime": {
     "end_time": "2022-12-04T22:45:55.684099Z",
     "start_time": "2022-12-04T22:45:55.676694Z"
    }
   },
   "outputs": [
    {
     "data": {
      "text/plain": [
       "'/mnt/c/Users/wuwj2/Desktop/jupyter/MAT_180_ML_Projects/machine-learning-assisted-khovanov-homology/notebooks'"
      ]
     },
     "execution_count": 2,
     "metadata": {},
     "output_type": "execute_result"
    }
   ],
   "source": [
    "os.getcwd()"
   ]
  },
  {
   "cell_type": "code",
   "execution_count": 3,
   "id": "01c1cdda",
   "metadata": {
    "ExecuteTime": {
     "end_time": "2022-12-04T22:45:56.287681Z",
     "start_time": "2022-12-04T22:45:56.282608Z"
    }
   },
   "outputs": [],
   "source": [
    "#Run this cell once if still in the notebooks folder.\n",
    "#Note that running this command multiple times might get you too high in the directory tree so be \n",
    "#cautious running this cell\n",
    "os.chdir(\"../\")"
   ]
  },
  {
   "cell_type": "code",
   "execution_count": 13,
   "id": "9c18954a",
   "metadata": {
    "ExecuteTime": {
     "end_time": "2022-12-04T22:49:39.319976Z",
     "start_time": "2022-12-04T22:49:39.283735Z"
    }
   },
   "outputs": [],
   "source": [
    "# read the new 10000_9.csv file\n",
    "df_10000_9_new = pd.read_csv(\"data/10000_9.csv\")\n",
    "df_10000_9_new = df_10000_9_new[df_10000_9_new.torsion_part != '{}']"
   ]
  },
  {
   "cell_type": "code",
   "execution_count": 14,
   "id": "03901b1a",
   "metadata": {
    "ExecuteTime": {
     "end_time": "2022-12-04T22:49:40.582275Z",
     "start_time": "2022-12-04T22:49:40.567407Z"
    }
   },
   "outputs": [
    {
     "data": {
      "text/html": [
       "<div>\n",
       "<style scoped>\n",
       "    .dataframe tbody tr th:only-of-type {\n",
       "        vertical-align: middle;\n",
       "    }\n",
       "\n",
       "    .dataframe tbody tr th {\n",
       "        vertical-align: top;\n",
       "    }\n",
       "\n",
       "    .dataframe thead th {\n",
       "        text-align: right;\n",
       "    }\n",
       "</style>\n",
       "<table border=\"1\" class=\"dataframe\">\n",
       "  <thead>\n",
       "    <tr style=\"text-align: right;\">\n",
       "      <th></th>\n",
       "      <th>Unnamed: 0</th>\n",
       "      <th>braid</th>\n",
       "      <th>free_part</th>\n",
       "      <th>torsion_part</th>\n",
       "      <th>total_num_FP</th>\n",
       "      <th>total_num_TP</th>\n",
       "    </tr>\n",
       "  </thead>\n",
       "  <tbody>\n",
       "    <tr>\n",
       "      <th>2</th>\n",
       "      <td>2</td>\n",
       "      <td>[1, -3, 2, 3, 2, 2, 1, 2, -1]</td>\n",
       "      <td>{(1, 0): 1, (3, 0): 1, (5, 2): 1, (9, 3): 1}</td>\n",
       "      <td>{(7, 3): {2: 1}}</td>\n",
       "      <td>4</td>\n",
       "      <td>1</td>\n",
       "    </tr>\n",
       "    <tr>\n",
       "      <th>3</th>\n",
       "      <td>3</td>\n",
       "      <td>[-1, -1, 1, -1, 3, -2, -1, 3, -2]</td>\n",
       "      <td>{(-11, -4): 1, (-9, -3): 1, (-7, -3): 1, (-7, ...</td>\n",
       "      <td>{(-9, -3): {2: 1}, (-7, -2): {2: 1}, (-5, -1):...</td>\n",
       "      <td>12</td>\n",
       "      <td>5</td>\n",
       "    </tr>\n",
       "    <tr>\n",
       "      <th>5</th>\n",
       "      <td>5</td>\n",
       "      <td>[2, -3, 1, 1, -3, 2, -3, -1, 1]</td>\n",
       "      <td>{(-7, -3): 1, (-5, -2): 1, (-3, -2): 1, (-3, -...</td>\n",
       "      <td>{(-5, -2): {2: 1}, (-3, -1): {2: 1}, (-1, 0): ...</td>\n",
       "      <td>20</td>\n",
       "      <td>6</td>\n",
       "    </tr>\n",
       "    <tr>\n",
       "      <th>7</th>\n",
       "      <td>7</td>\n",
       "      <td>[3, -1, 3, 3, -2, 2, -1, -2, 2]</td>\n",
       "      <td>{(-5, -2): 1, (-3, -2): 2, (-1, -2): 1, (-1, 0...</td>\n",
       "      <td>{(1, 1): {2: 1}, (3, 1): {2: 1}, (5, 3): {2: 1...</td>\n",
       "      <td>16</td>\n",
       "      <td>4</td>\n",
       "    </tr>\n",
       "    <tr>\n",
       "      <th>8</th>\n",
       "      <td>8</td>\n",
       "      <td>[-2, -1, 1, 1, 2, 1, 1, -3, 1]</td>\n",
       "      <td>{(1, 0): 1, (3, 0): 1, (5, 2): 1, (9, 3): 1}</td>\n",
       "      <td>{(7, 3): {2: 1}}</td>\n",
       "      <td>4</td>\n",
       "      <td>1</td>\n",
       "    </tr>\n",
       "    <tr>\n",
       "      <th>...</th>\n",
       "      <td>...</td>\n",
       "      <td>...</td>\n",
       "      <td>...</td>\n",
       "      <td>...</td>\n",
       "      <td>...</td>\n",
       "      <td>...</td>\n",
       "    </tr>\n",
       "    <tr>\n",
       "      <th>9991</th>\n",
       "      <td>9991</td>\n",
       "      <td>[-2, -2, -1, -3, -3, 2, -3, -3, 3]</td>\n",
       "      <td>{(-13, -5): 1, (-9, -4): 1, (-9, -3): 1, (-7, ...</td>\n",
       "      <td>{(-11, -4): {2: 1}, (-7, -2): {2: 1}, (-5, -1)...</td>\n",
       "      <td>8</td>\n",
       "      <td>3</td>\n",
       "    </tr>\n",
       "    <tr>\n",
       "      <th>9993</th>\n",
       "      <td>9993</td>\n",
       "      <td>[1, 3, 1, 3, -2, -1, -3, 2, 2]</td>\n",
       "      <td>{(1, 0): 1, (3, 0): 1, (3, 1): 1, (5, 2): 1, (...</td>\n",
       "      <td>{(5, 2): {2: 1}, (7, 3): {2: 1}, (11, 5): {2: 1}}</td>\n",
       "      <td>8</td>\n",
       "      <td>3</td>\n",
       "    </tr>\n",
       "    <tr>\n",
       "      <th>9994</th>\n",
       "      <td>9994</td>\n",
       "      <td>[-1, -3, -1, -2, -1, -2, -3, -1, 1]</td>\n",
       "      <td>{(-17, -6): 1, (-15, -6): 1, (-15, -5): 1, (-1...</td>\n",
       "      <td>{(-13, -4): {2: 1}, (-9, -2): {2: 1}}</td>\n",
       "      <td>12</td>\n",
       "      <td>2</td>\n",
       "    </tr>\n",
       "    <tr>\n",
       "      <th>9995</th>\n",
       "      <td>9995</td>\n",
       "      <td>[2, 1, -1, 2, -3, 1, -3, 1, -3]</td>\n",
       "      <td>{(-7, -3): 1, (-3, -2): 1, (-3, -1): 2, (-1, 0...</td>\n",
       "      <td>{(-5, -2): {2: 1}, (-1, 0): {2: 2}, (3, 2): {2...</td>\n",
       "      <td>16</td>\n",
       "      <td>4</td>\n",
       "    </tr>\n",
       "    <tr>\n",
       "      <th>9999</th>\n",
       "      <td>9999</td>\n",
       "      <td>[-2, -1, -2, -2, 2, -3, -1, -1, -2]</td>\n",
       "      <td>{(-15, -5): 1, (-11, -4): 1, (-11, -3): 1, (-7...</td>\n",
       "      <td>{(-13, -4): {2: 1}, (-9, -2): {2: 1}}</td>\n",
       "      <td>6</td>\n",
       "      <td>2</td>\n",
       "    </tr>\n",
       "  </tbody>\n",
       "</table>\n",
       "<p>4269 rows × 6 columns</p>\n",
       "</div>"
      ],
      "text/plain": [
       "      Unnamed: 0                                braid  \\\n",
       "2              2        [1, -3, 2, 3, 2, 2, 1, 2, -1]   \n",
       "3              3    [-1, -1, 1, -1, 3, -2, -1, 3, -2]   \n",
       "5              5      [2, -3, 1, 1, -3, 2, -3, -1, 1]   \n",
       "7              7      [3, -1, 3, 3, -2, 2, -1, -2, 2]   \n",
       "8              8       [-2, -1, 1, 1, 2, 1, 1, -3, 1]   \n",
       "...          ...                                  ...   \n",
       "9991        9991   [-2, -2, -1, -3, -3, 2, -3, -3, 3]   \n",
       "9993        9993       [1, 3, 1, 3, -2, -1, -3, 2, 2]   \n",
       "9994        9994  [-1, -3, -1, -2, -1, -2, -3, -1, 1]   \n",
       "9995        9995      [2, 1, -1, 2, -3, 1, -3, 1, -3]   \n",
       "9999        9999  [-2, -1, -2, -2, 2, -3, -1, -1, -2]   \n",
       "\n",
       "                                              free_part  \\\n",
       "2          {(1, 0): 1, (3, 0): 1, (5, 2): 1, (9, 3): 1}   \n",
       "3     {(-11, -4): 1, (-9, -3): 1, (-7, -3): 1, (-7, ...   \n",
       "5     {(-7, -3): 1, (-5, -2): 1, (-3, -2): 1, (-3, -...   \n",
       "7     {(-5, -2): 1, (-3, -2): 2, (-1, -2): 1, (-1, 0...   \n",
       "8          {(1, 0): 1, (3, 0): 1, (5, 2): 1, (9, 3): 1}   \n",
       "...                                                 ...   \n",
       "9991  {(-13, -5): 1, (-9, -4): 1, (-9, -3): 1, (-7, ...   \n",
       "9993  {(1, 0): 1, (3, 0): 1, (3, 1): 1, (5, 2): 1, (...   \n",
       "9994  {(-17, -6): 1, (-15, -6): 1, (-15, -5): 1, (-1...   \n",
       "9995  {(-7, -3): 1, (-3, -2): 1, (-3, -1): 2, (-1, 0...   \n",
       "9999  {(-15, -5): 1, (-11, -4): 1, (-11, -3): 1, (-7...   \n",
       "\n",
       "                                           torsion_part  total_num_FP  \\\n",
       "2                                      {(7, 3): {2: 1}}             4   \n",
       "3     {(-9, -3): {2: 1}, (-7, -2): {2: 1}, (-5, -1):...            12   \n",
       "5     {(-5, -2): {2: 1}, (-3, -1): {2: 1}, (-1, 0): ...            20   \n",
       "7     {(1, 1): {2: 1}, (3, 1): {2: 1}, (5, 3): {2: 1...            16   \n",
       "8                                      {(7, 3): {2: 1}}             4   \n",
       "...                                                 ...           ...   \n",
       "9991  {(-11, -4): {2: 1}, (-7, -2): {2: 1}, (-5, -1)...             8   \n",
       "9993  {(5, 2): {2: 1}, (7, 3): {2: 1}, (11, 5): {2: 1}}             8   \n",
       "9994              {(-13, -4): {2: 1}, (-9, -2): {2: 1}}            12   \n",
       "9995  {(-5, -2): {2: 1}, (-1, 0): {2: 2}, (3, 2): {2...            16   \n",
       "9999              {(-13, -4): {2: 1}, (-9, -2): {2: 1}}             6   \n",
       "\n",
       "      total_num_TP  \n",
       "2                1  \n",
       "3                5  \n",
       "5                6  \n",
       "7                4  \n",
       "8                1  \n",
       "...            ...  \n",
       "9991             3  \n",
       "9993             3  \n",
       "9994             2  \n",
       "9995             4  \n",
       "9999             2  \n",
       "\n",
       "[4269 rows x 6 columns]"
      ]
     },
     "execution_count": 14,
     "metadata": {},
     "output_type": "execute_result"
    }
   ],
   "source": [
    "df_10000_9_new"
   ]
  },
  {
   "cell_type": "code",
   "execution_count": 15,
   "id": "560b59f6",
   "metadata": {
    "ExecuteTime": {
     "end_time": "2022-12-04T22:49:43.260666Z",
     "start_time": "2022-12-04T22:49:42.546508Z"
    }
   },
   "outputs": [
    {
     "data": {
      "text/plain": [
       "<seaborn.axisgrid.PairGrid at 0x7f40dc0995e0>"
      ]
     },
     "execution_count": 15,
     "metadata": {},
     "output_type": "execute_result"
    },
    {
     "data": {
      "image/png": "[encoded data removed]",
      "text/plain": [
       "<Figure size 360x360 with 6 Axes>"
      ]
     },
     "metadata": {
      "needs_background": "light"
     },
     "output_type": "display_data"
    }
   ],
   "source": [
    "# look at data distribution using seaborn plot\n",
    "sns.pairplot(df_10000_9_new.drop(columns=['Unnamed: 0', 'braid', 'free_part', 'torsion_part']))"
   ]
  },
  {
   "cell_type": "markdown",
   "id": "df0eaad1",
   "metadata": {},
   "source": [
    "# Step2. Trian the LinearRegression Model and find the parameters using the function we built ourselves"
   ]
  },
  {
   "cell_type": "code",
   "execution_count": 27,
   "id": "3fe527da",
   "metadata": {
    "ExecuteTime": {
     "end_time": "2022-12-04T22:52:08.539780Z",
     "start_time": "2022-12-04T22:52:08.536724Z"
    }
   },
   "outputs": [],
   "source": [
    "#Import functions built in class\n",
    "\n",
    "from scripts.polynomial import add_poly_terms\n",
    "from scripts.GDLinearReg import J, DJ, GD_linreg_improved"
   ]
  },
  {
   "cell_type": "code",
   "execution_count": 105,
   "id": "1cce861b",
   "metadata": {
    "ExecuteTime": {
     "end_time": "2022-12-04T23:14:47.578763Z",
     "start_time": "2022-12-04T23:14:47.574175Z"
    }
   },
   "outputs": [],
   "source": [
    "def prediction(x,v):\n",
    "    return round((x@v)[0])\n",
    "\n",
    "def accuracy(X,v,y):\n",
    "    count = 0\n",
    "    for i,x in enumerate(X):\n",
    "        if prediction(x,v) == y[i][0]:\n",
    "            count += 1\n",
    "    return count / len(X)"
   ]
  },
  {
   "cell_type": "code",
   "execution_count": 113,
   "id": "488c78e2",
   "metadata": {
    "ExecuteTime": {
     "end_time": "2022-12-04T23:15:29.975638Z",
     "start_time": "2022-12-04T23:15:29.966930Z"
    }
   },
   "outputs": [],
   "source": [
    "X = (np.array(df_10000_9_new.total_num_FP)).reshape(-1, 1)\n",
    "y = (np.array(df_10000_9_new.total_num_TP)).reshape(-1,1)\n",
    "X = add_poly_terms(X,4)\n",
    "\n",
    "from sklearn.model_selection import train_test_split\n",
    "X_train, X_test, y_train, y_test = train_test_split(X, y, test_size=0.2, random_state=1)\n",
    "X_train, X_val, y_train, y_val = train_test_split(X_train, y_train, test_size=0.25, random_state=1)"
   ]
  },
  {
   "cell_type": "code",
   "execution_count": 114,
   "id": "5bc4ad49",
   "metadata": {
    "ExecuteTime": {
     "end_time": "2022-12-04T23:15:34.245955Z",
     "start_time": "2022-12-04T23:15:31.627409Z"
    }
   },
   "outputs": [
    {
     "name": "stdout",
     "output_type": "stream",
     "text": [
      "after 0 steps the cost is 15.802811401796173\n",
      "after 1000 steps the cost is 2.6334858967541264\n",
      "after 2000 steps the cost is 2.407435867393284\n",
      "after 3000 steps the cost is 2.216164602898882\n",
      "after 4000 steps the cost is 2.054319507532187\n",
      "after 5000 steps the cost is 1.9173717813257947\n",
      "after 6000 steps the cost is 1.8014896165165477\n",
      "after 7000 steps the cost is 1.7034309579426803\n",
      "after 8000 steps the cost is 1.6204526936005375\n",
      "after 9000 steps the cost is 1.5502338944355192\n",
      "after 9999 steps the cost is 1.4908654355028563\n",
      "[[ 3.63284315e-04]\n",
      " [ 2.61548956e-03]\n",
      " [ 1.67131233e-02]\n",
      " [ 6.05086530e-05]\n",
      " [-4.48214931e-06]]\n"
     ]
    }
   ],
   "source": [
    "lambda_ = 0\n",
    "epsilon = 1e-10\n",
    "v1,costs =  GD_linreg_improved(X_train,y_train,epsilon,lambda_) \n",
    "print(v1)"
   ]
  },
  {
   "cell_type": "code",
   "execution_count": 110,
   "id": "52e4fcef",
   "metadata": {
    "ExecuteTime": {
     "end_time": "2022-12-04T23:15:24.188505Z",
     "start_time": "2022-12-04T23:15:24.172083Z"
    }
   },
   "outputs": [
    {
     "data": {
      "text/plain": [
       "0.13783678250683326"
      ]
     },
     "execution_count": 110,
     "metadata": {},
     "output_type": "execute_result"
    }
   ],
   "source": [
    "accuracy(X_train,v1,X_train)"
   ]
  },
  {
   "cell_type": "code",
   "execution_count": 111,
   "id": "3582b421",
   "metadata": {
    "ExecuteTime": {
     "end_time": "2022-12-04T23:15:25.127408Z",
     "start_time": "2022-12-04T23:15:25.119253Z"
    }
   },
   "outputs": [
    {
     "data": {
      "text/plain": [
       "0.00117096018735363"
      ]
     },
     "execution_count": 111,
     "metadata": {},
     "output_type": "execute_result"
    }
   ],
   "source": [
    "accuracy(X_test,v1,y_test)"
   ]
  },
  {
   "cell_type": "code",
   "execution_count": 112,
   "id": "383e17dd",
   "metadata": {
    "ExecuteTime": {
     "end_time": "2022-12-04T23:15:25.778028Z",
     "start_time": "2022-12-04T23:15:25.769850Z"
    }
   },
   "outputs": [
    {
     "data": {
      "text/plain": [
       "0.00117096018735363"
      ]
     },
     "execution_count": 112,
     "metadata": {},
     "output_type": "execute_result"
    }
   ],
   "source": [
    "accuracy(X_val,v1,y_val)"
   ]
  },
  {
   "cell_type": "markdown",
   "id": "a7a4c460",
   "metadata": {},
   "source": [
    "# Step3. Train the LinearRegression model from Scikit-Learn"
   ]
  },
  {
   "cell_type": "code",
   "execution_count": 91,
   "id": "35cf7bea",
   "metadata": {
    "ExecuteTime": {
     "end_time": "2022-12-04T23:07:07.919417Z",
     "start_time": "2022-12-04T23:07:07.905152Z"
    }
   },
   "outputs": [
    {
     "data": {
      "text/plain": [
       "(0.8272638742260066, 0.8450068240787629)"
      ]
     },
     "execution_count": 91,
     "metadata": {},
     "output_type": "execute_result"
    }
   ],
   "source": [
    "# try to make prediction using LinearRegression and libraries from sklearn\n",
    "from sklearn.model_selection import train_test_split\n",
    "from sklearn.linear_model import LinearRegression\n",
    "from sklearn.metrics import classification_report\n",
    "\n",
    "# need to reshape X because there is only one feature in X (i.e. X is currently a row vector, need to convert it to a column vector)\n",
    "X = (np.array(df_10000_9_new.total_num_FP)).reshape(-1, 1)\n",
    "y = (np.array(df_10000_9_new.total_num_TP))\n",
    "\n",
    "# split X and y into training and testing sets\n",
    "X_train, X_test, y_train, y_test = train_test_split(X, y, test_size=0.2, random_state=42)\n",
    "\n",
    "# fit the data in LinearRegression (i.e. train the LinearRegression model using the training data X and Y)\n",
    "linreg = LinearRegression().fit(X_train,y_train)\n",
    "\n",
    "# see the accuracy of training and testing (i.e. measure performance of the LinearRegressing model)\n",
    "linreg.score(X_train,y_train), linreg.score(X_test,y_test)"
   ]
  },
  {
   "cell_type": "code",
   "execution_count": null,
   "id": "727551fc",
   "metadata": {},
   "outputs": [],
   "source": []
  }
 ],
 "metadata": {
  "kernelspec": {
   "display_name": "Python 3 (ipykernel)",
   "language": "python",
   "name": "python3"
  },
  "language_info": {
   "codemirror_mode": {
    "name": "ipython",
    "version": 3
   },
   "file_extension": ".py",
   "mimetype": "text/x-python",
   "name": "python",
   "nbconvert_exporter": "python",
   "pygments_lexer": "ipython3",
   "version": "3.8.10"
  }
 },
 "nbformat": 4,
 "nbformat_minor": 5
}

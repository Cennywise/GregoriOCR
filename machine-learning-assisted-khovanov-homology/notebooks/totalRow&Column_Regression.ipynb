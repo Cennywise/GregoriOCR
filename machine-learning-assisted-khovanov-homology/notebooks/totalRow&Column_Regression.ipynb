{
 "cells": [
  {
   "cell_type": "code",
   "execution_count": 1,
   "id": "564bc555",
   "metadata": {
    "ExecuteTime": {
     "end_time": "2022-12-04T21:14:20.129577Z",
     "start_time": "2022-12-04T21:14:18.923939Z"
    }
   },
   "outputs": [],
   "source": [
    "import numpy as np\n",
    "import pandas as pd\n",
    "from numpy import linalg as LA\n",
    "import os\n",
    "from sklearn.model_selection import train_test_split"
   ]
  },
  {
   "cell_type": "markdown",
   "id": "c1f9ae6b",
   "metadata": {},
   "source": [
    "Run this cell to check your current working directory. It should return the top folder \"machine-learning-assisted-khovanov-homology\""
   ]
  },
  {
   "cell_type": "code",
   "execution_count": 2,
   "id": "1d60a6c0",
   "metadata": {
    "ExecuteTime": {
     "end_time": "2022-12-04T21:14:21.689319Z",
     "start_time": "2022-12-04T21:14:21.679856Z"
    }
   },
   "outputs": [
    {
     "data": {
      "text/plain": [
       "'/Users/guoyihan/Documents/GitHub/MAT_180_ML_Projects/machine-learning-assisted-khovanov-homology/notebooks'"
      ]
     },
     "execution_count": 2,
     "metadata": {},
     "output_type": "execute_result"
    }
   ],
   "source": [
    "os.getcwd()"
   ]
  },
  {
   "cell_type": "code",
   "execution_count": 3,
   "id": "bcf0e42b",
   "metadata": {
    "ExecuteTime": {
     "end_time": "2022-12-04T21:14:20.761194Z",
     "start_time": "2022-12-04T21:14:20.757567Z"
    }
   },
   "outputs": [],
   "source": [
    "os.chdir(\"..\")"
   ]
  },
  {
   "cell_type": "code",
   "execution_count": 4,
   "id": "39a6d5fa",
   "metadata": {},
   "outputs": [],
   "source": [
    "from scripts.getGridsDimensions import find_max_min_row, find_max_min_col\n",
    "from scripts.polynomial import add_poly_terms\n",
    "from scripts.GDLinearReg import J, DJ, GD_linreg_improved"
   ]
  },
  {
   "cell_type": "code",
   "execution_count": 5,
   "id": "98d6c25b",
   "metadata": {},
   "outputs": [],
   "source": [
    "df = pd.read_csv(\"data/dataset_A.csv\")"
   ]
  },
  {
   "cell_type": "code",
   "execution_count": 6,
   "id": "1d7144f7",
   "metadata": {},
   "outputs": [
    {
     "data": {
      "text/html": [
       "<div>\n",
       "<style scoped>\n",
       "    .dataframe tbody tr th:only-of-type {\n",
       "        vertical-align: middle;\n",
       "    }\n",
       "\n",
       "    .dataframe tbody tr th {\n",
       "        vertical-align: top;\n",
       "    }\n",
       "\n",
       "    .dataframe thead th {\n",
       "        text-align: right;\n",
       "    }\n",
       "</style>\n",
       "<table border=\"1\" class=\"dataframe\">\n",
       "  <thead>\n",
       "    <tr style=\"text-align: right;\">\n",
       "      <th></th>\n",
       "      <th>braid</th>\n",
       "      <th>khovanov_homology</th>\n",
       "      <th>free_part</th>\n",
       "      <th>torsion_part</th>\n",
       "      <th>free_part_count</th>\n",
       "      <th>torsion_part_count</th>\n",
       "      <th>total_num_FP_per_row</th>\n",
       "      <th>total_num_FP_per_column</th>\n",
       "      <th>jones_polynomial</th>\n",
       "    </tr>\n",
       "  </thead>\n",
       "  <tbody>\n",
       "    <tr>\n",
       "      <th>0</th>\n",
       "      <td>[-1, -1, -2, 2, -1, 2, -2, -1, -1]</td>\n",
       "      <td>{-15: {-5: Z}, -13: {-5: 0, -4: C2}, -11: {-5:...</td>\n",
       "      <td>{(-15, -5): 1, (-11, -4): 1, (-11, -3): 1, (-7...</td>\n",
       "      <td>{(-13, -4): {2: 1}, (-9, -2): {2: 1}}</td>\n",
       "      <td>6</td>\n",
       "      <td>2</td>\n",
       "      <td>{-15: 1, -11: 2, -7: 1, -5: 1, -3: 1}</td>\n",
       "      <td>{-5: 1, -4: 1, -3: 1, -2: 1, 0: 2}</td>\n",
       "      <td>{-7: -1, -6: 1, -5: -1, -4: 1, -2: 1}</td>\n",
       "    </tr>\n",
       "    <tr>\n",
       "      <th>1</th>\n",
       "      <td>[1, 1, 3, 3, 2, 3, 3, -3, 1]</td>\n",
       "      <td>{3: {0: Z}, 5: {0: Z, 1: 0, 2: 0, 3: 0}, 7: {0...</td>\n",
       "      <td>{(3, 0): 1, (5, 0): 1, (7, 2): 2, (11, 3): 2, ...</td>\n",
       "      <td>{(9, 3): {2: 2}, (13, 5): {2: 1}, (15, 6): {2:...</td>\n",
       "      <td>10</td>\n",
       "      <td>4</td>\n",
       "      <td>{3: 1, 5: 1, 7: 2, 11: 3, 13: 1, 15: 1, 17: 1}</td>\n",
       "      <td>{0: 2, 2: 2, 3: 2, 4: 1, 5: 2, 6: 1}</td>\n",
       "      <td>{2: 1, 4: 2, 5: -2, 6: 1, 7: -2, 8: 1}</td>\n",
       "    </tr>\n",
       "    <tr>\n",
       "      <th>2</th>\n",
       "      <td>[-3, -1, -1, 1, -2, 1, -3, -1, -3]</td>\n",
       "      <td>{-15: {-6: 0, -5: 0, -4: 0}, -13: {-6: 0, -5: ...</td>\n",
       "      <td>{(-9, -3): 1, (-5, -2): 1, (-3, 0): 1, (-1, 0)...</td>\n",
       "      <td>{(-7, -2): {2: 1}}</td>\n",
       "      <td>4</td>\n",
       "      <td>1</td>\n",
       "      <td>{-9: 1, -5: 1, -3: 1, -1: 1}</td>\n",
       "      <td>{-3: 1, -2: 1, 0: 2}</td>\n",
       "      <td>{-4: -1, -3: 1, -1: 1}</td>\n",
       "    </tr>\n",
       "    <tr>\n",
       "      <th>3</th>\n",
       "      <td>[-3, -3, 1, 2, 2, 2, -3, 3, -3]</td>\n",
       "      <td>{-7: {-3: Z}, -5: {-3: 0, -2: C2, -1: 0, 0: 0}...</td>\n",
       "      <td>{(-7, -3): 1, (-3, -2): 1, (-3, -1): 1, (-1, 0...</td>\n",
       "      <td>{(-5, -2): {2: 1}, (-1, 0): {2: 1}, (1, 1): {2...</td>\n",
       "      <td>10</td>\n",
       "      <td>4</td>\n",
       "      <td>{-7: 1, -3: 2, -1: 2, 1: 2, 3: 2, 7: 1}</td>\n",
       "      <td>{-3: 1, -2: 1, -1: 1, 0: 4, 1: 1, 2: 1, 3: 1}</td>\n",
       "      <td>{-3: -1, -2: 1, -1: -1, 0: 3, 1: -1, 2: 1, 3: -1}</td>\n",
       "    </tr>\n",
       "    <tr>\n",
       "      <th>4</th>\n",
       "      <td>[-1, -3, 2, 3, -1, -1, 1, -2, -1]</td>\n",
       "      <td>{-11: {-5: 0, -4: 0, -3: 0}, -9: {-5: 0, -4: 0...</td>\n",
       "      <td>{(-9, -3): 1, (-5, -2): 1, (-3, 0): 1, (-1, 0)...</td>\n",
       "      <td>{(-7, -2): {2: 1}}</td>\n",
       "      <td>4</td>\n",
       "      <td>1</td>\n",
       "      <td>{-9: 1, -5: 1, -3: 1, -1: 1}</td>\n",
       "      <td>{-3: 1, -2: 1, 0: 2}</td>\n",
       "      <td>{-4: -1, -3: 1, -1: 1}</td>\n",
       "    </tr>\n",
       "    <tr>\n",
       "      <th>...</th>\n",
       "      <td>...</td>\n",
       "      <td>...</td>\n",
       "      <td>...</td>\n",
       "      <td>...</td>\n",
       "      <td>...</td>\n",
       "      <td>...</td>\n",
       "      <td>...</td>\n",
       "      <td>...</td>\n",
       "      <td>...</td>\n",
       "    </tr>\n",
       "    <tr>\n",
       "      <th>1076</th>\n",
       "      <td>[1, 1, 1, 3, -2, -3, 1, -2, 1]</td>\n",
       "      <td>{-3: {-3: 0, -2: 0}, -1: {-3: 0, -2: 0, -1: 0,...</td>\n",
       "      <td>{(3, 0): 1, (5, 0): 1, (7, 2): 1, (11, 3): 1, ...</td>\n",
       "      <td>{(9, 3): {2: 1}, (13, 5): {2: 1}}</td>\n",
       "      <td>6</td>\n",
       "      <td>2</td>\n",
       "      <td>{3: 1, 5: 1, 7: 1, 11: 2, 15: 1}</td>\n",
       "      <td>{0: 2, 2: 1, 3: 1, 4: 1, 5: 1}</td>\n",
       "      <td>{2: 1, 4: 1, 5: -1, 6: 1, 7: -1}</td>\n",
       "    </tr>\n",
       "    <tr>\n",
       "      <th>1077</th>\n",
       "      <td>[-2, 1, -3, 2, 2, 2, 1, 1, -2]</td>\n",
       "      <td>{-3: {-3: 0, -2: 0, -1: 0, 0: 0, 1: 0}, -1: {-...</td>\n",
       "      <td>{(1, 0): 2, (3, 0): 1, (3, 1): 1, (5, 1): 1, (...</td>\n",
       "      <td>{(3, 1): {2: 1}, (5, 2): {2: 1}, (7, 3): {2: 2...</td>\n",
       "      <td>16</td>\n",
       "      <td>7</td>\n",
       "      <td>{1: 2, 3: 2, 5: 3, 7: 2, 9: 3, 11: 2, 13: 1, 1...</td>\n",
       "      <td>{0: 3, 1: 2, 2: 3, 3: 3, 4: 2, 5: 2, 6: 1}</td>\n",
       "      <td>{1: 2, 2: -2, 3: 3, 4: -3, 5: 2, 6: -2, 7: 1}</td>\n",
       "    </tr>\n",
       "    <tr>\n",
       "      <th>1078</th>\n",
       "      <td>[-2, 1, 1, -2, 1, 3, 2, 3, -2]</td>\n",
       "      <td>{-5: {-3: 0, -2: 0}, -3: {-3: 0, -2: 0, -1: 0,...</td>\n",
       "      <td>{(1, 0): 1, (3, 0): 1, (5, 2): 1, (9, 3): 1}</td>\n",
       "      <td>{(7, 3): {2: 1}}</td>\n",
       "      <td>4</td>\n",
       "      <td>1</td>\n",
       "      <td>{1: 1, 3: 1, 5: 1, 9: 1}</td>\n",
       "      <td>{0: 2, 2: 1, 3: 1}</td>\n",
       "      <td>{1: 1, 3: 1, 4: -1}</td>\n",
       "    </tr>\n",
       "    <tr>\n",
       "      <th>1079</th>\n",
       "      <td>[-2, -2, -1, -3, -2, -2, -1, -2, -1]</td>\n",
       "      <td>{-21: {-9: 0, -8: 0, -7: 0, -6: 0, -5: 0}, -19...</td>\n",
       "      <td>{(-17, -5): 1, (-15, -5): 1, (-13, -4): 1, (-1...</td>\n",
       "      <td>{(-11, -2): {2: 1}}</td>\n",
       "      <td>8</td>\n",
       "      <td>1</td>\n",
       "      <td>{-17: 1, -15: 1, -13: 2, -11: 1, -9: 1, -7: 1,...</td>\n",
       "      <td>{-5: 2, -4: 2, -3: 1, -2: 1, 0: 2}</td>\n",
       "      <td>{-8: -1, -5: 1, -3: 1}</td>\n",
       "    </tr>\n",
       "    <tr>\n",
       "      <th>1080</th>\n",
       "      <td>[2, -1, 2, 2, 2, -1, 2, 2, -3]</td>\n",
       "      <td>{-3: {-3: 0, -2: 0}, -1: {-3: 0, -2: Z, -1: 0,...</td>\n",
       "      <td>{(-1, -2): 1, (3, -1): 1, (3, 0): 3, (5, 0): 1...</td>\n",
       "      <td>{(1, -1): {2: 1}, (5, 1): {2: 2}, (7, 2): {2: ...</td>\n",
       "      <td>22</td>\n",
       "      <td>10</td>\n",
       "      <td>{-1: 1, 3: 4, 5: 2, 7: 4, 9: 3, 11: 3, 13: 3, ...</td>\n",
       "      <td>{-2: 1, -1: 1, 0: 4, 1: 3, 2: 3, 3: 4, 4: 3, 5...</td>\n",
       "      <td>{0: 1, 1: -1, 2: 3, 3: -3, 4: 3, 5: -4, 6: 3, ...</td>\n",
       "    </tr>\n",
       "  </tbody>\n",
       "</table>\n",
       "<p>1081 rows × 9 columns</p>\n",
       "</div>"
      ],
      "text/plain": [
       "                                     braid  \\\n",
       "0       [-1, -1, -2, 2, -1, 2, -2, -1, -1]   \n",
       "1             [1, 1, 3, 3, 2, 3, 3, -3, 1]   \n",
       "2       [-3, -1, -1, 1, -2, 1, -3, -1, -3]   \n",
       "3          [-3, -3, 1, 2, 2, 2, -3, 3, -3]   \n",
       "4        [-1, -3, 2, 3, -1, -1, 1, -2, -1]   \n",
       "...                                    ...   \n",
       "1076        [1, 1, 1, 3, -2, -3, 1, -2, 1]   \n",
       "1077        [-2, 1, -3, 2, 2, 2, 1, 1, -2]   \n",
       "1078        [-2, 1, 1, -2, 1, 3, 2, 3, -2]   \n",
       "1079  [-2, -2, -1, -3, -2, -2, -1, -2, -1]   \n",
       "1080        [2, -1, 2, 2, 2, -1, 2, 2, -3]   \n",
       "\n",
       "                                      khovanov_homology  \\\n",
       "0     {-15: {-5: Z}, -13: {-5: 0, -4: C2}, -11: {-5:...   \n",
       "1     {3: {0: Z}, 5: {0: Z, 1: 0, 2: 0, 3: 0}, 7: {0...   \n",
       "2     {-15: {-6: 0, -5: 0, -4: 0}, -13: {-6: 0, -5: ...   \n",
       "3     {-7: {-3: Z}, -5: {-3: 0, -2: C2, -1: 0, 0: 0}...   \n",
       "4     {-11: {-5: 0, -4: 0, -3: 0}, -9: {-5: 0, -4: 0...   \n",
       "...                                                 ...   \n",
       "1076  {-3: {-3: 0, -2: 0}, -1: {-3: 0, -2: 0, -1: 0,...   \n",
       "1077  {-3: {-3: 0, -2: 0, -1: 0, 0: 0, 1: 0}, -1: {-...   \n",
       "1078  {-5: {-3: 0, -2: 0}, -3: {-3: 0, -2: 0, -1: 0,...   \n",
       "1079  {-21: {-9: 0, -8: 0, -7: 0, -6: 0, -5: 0}, -19...   \n",
       "1080  {-3: {-3: 0, -2: 0}, -1: {-3: 0, -2: Z, -1: 0,...   \n",
       "\n",
       "                                              free_part  \\\n",
       "0     {(-15, -5): 1, (-11, -4): 1, (-11, -3): 1, (-7...   \n",
       "1     {(3, 0): 1, (5, 0): 1, (7, 2): 2, (11, 3): 2, ...   \n",
       "2     {(-9, -3): 1, (-5, -2): 1, (-3, 0): 1, (-1, 0)...   \n",
       "3     {(-7, -3): 1, (-3, -2): 1, (-3, -1): 1, (-1, 0...   \n",
       "4     {(-9, -3): 1, (-5, -2): 1, (-3, 0): 1, (-1, 0)...   \n",
       "...                                                 ...   \n",
       "1076  {(3, 0): 1, (5, 0): 1, (7, 2): 1, (11, 3): 1, ...   \n",
       "1077  {(1, 0): 2, (3, 0): 1, (3, 1): 1, (5, 1): 1, (...   \n",
       "1078       {(1, 0): 1, (3, 0): 1, (5, 2): 1, (9, 3): 1}   \n",
       "1079  {(-17, -5): 1, (-15, -5): 1, (-13, -4): 1, (-1...   \n",
       "1080  {(-1, -2): 1, (3, -1): 1, (3, 0): 3, (5, 0): 1...   \n",
       "\n",
       "                                           torsion_part  free_part_count  \\\n",
       "0                 {(-13, -4): {2: 1}, (-9, -2): {2: 1}}                6   \n",
       "1     {(9, 3): {2: 2}, (13, 5): {2: 1}, (15, 6): {2:...               10   \n",
       "2                                    {(-7, -2): {2: 1}}                4   \n",
       "3     {(-5, -2): {2: 1}, (-1, 0): {2: 1}, (1, 1): {2...               10   \n",
       "4                                    {(-7, -2): {2: 1}}                4   \n",
       "...                                                 ...              ...   \n",
       "1076                  {(9, 3): {2: 1}, (13, 5): {2: 1}}                6   \n",
       "1077  {(3, 1): {2: 1}, (5, 2): {2: 1}, (7, 3): {2: 2...               16   \n",
       "1078                                   {(7, 3): {2: 1}}                4   \n",
       "1079                                {(-11, -2): {2: 1}}                8   \n",
       "1080  {(1, -1): {2: 1}, (5, 1): {2: 2}, (7, 2): {2: ...               22   \n",
       "\n",
       "      torsion_part_count                               total_num_FP_per_row  \\\n",
       "0                      2              {-15: 1, -11: 2, -7: 1, -5: 1, -3: 1}   \n",
       "1                      4     {3: 1, 5: 1, 7: 2, 11: 3, 13: 1, 15: 1, 17: 1}   \n",
       "2                      1                       {-9: 1, -5: 1, -3: 1, -1: 1}   \n",
       "3                      4            {-7: 1, -3: 2, -1: 2, 1: 2, 3: 2, 7: 1}   \n",
       "4                      1                       {-9: 1, -5: 1, -3: 1, -1: 1}   \n",
       "...                  ...                                                ...   \n",
       "1076                   2                   {3: 1, 5: 1, 7: 1, 11: 2, 15: 1}   \n",
       "1077                   7  {1: 2, 3: 2, 5: 3, 7: 2, 9: 3, 11: 2, 13: 1, 1...   \n",
       "1078                   1                           {1: 1, 3: 1, 5: 1, 9: 1}   \n",
       "1079                   1  {-17: 1, -15: 1, -13: 2, -11: 1, -9: 1, -7: 1,...   \n",
       "1080                  10  {-1: 1, 3: 4, 5: 2, 7: 4, 9: 3, 11: 3, 13: 3, ...   \n",
       "\n",
       "                                total_num_FP_per_column  \\\n",
       "0                    {-5: 1, -4: 1, -3: 1, -2: 1, 0: 2}   \n",
       "1                  {0: 2, 2: 2, 3: 2, 4: 1, 5: 2, 6: 1}   \n",
       "2                                  {-3: 1, -2: 1, 0: 2}   \n",
       "3         {-3: 1, -2: 1, -1: 1, 0: 4, 1: 1, 2: 1, 3: 1}   \n",
       "4                                  {-3: 1, -2: 1, 0: 2}   \n",
       "...                                                 ...   \n",
       "1076                     {0: 2, 2: 1, 3: 1, 4: 1, 5: 1}   \n",
       "1077         {0: 3, 1: 2, 2: 3, 3: 3, 4: 2, 5: 2, 6: 1}   \n",
       "1078                                 {0: 2, 2: 1, 3: 1}   \n",
       "1079                 {-5: 2, -4: 2, -3: 1, -2: 1, 0: 2}   \n",
       "1080  {-2: 1, -1: 1, 0: 4, 1: 3, 2: 3, 3: 4, 4: 3, 5...   \n",
       "\n",
       "                                       jones_polynomial  \n",
       "0                 {-7: -1, -6: 1, -5: -1, -4: 1, -2: 1}  \n",
       "1                {2: 1, 4: 2, 5: -2, 6: 1, 7: -2, 8: 1}  \n",
       "2                                {-4: -1, -3: 1, -1: 1}  \n",
       "3     {-3: -1, -2: 1, -1: -1, 0: 3, 1: -1, 2: 1, 3: -1}  \n",
       "4                                {-4: -1, -3: 1, -1: 1}  \n",
       "...                                                 ...  \n",
       "1076                   {2: 1, 4: 1, 5: -1, 6: 1, 7: -1}  \n",
       "1077      {1: 2, 2: -2, 3: 3, 4: -3, 5: 2, 6: -2, 7: 1}  \n",
       "1078                                {1: 1, 3: 1, 4: -1}  \n",
       "1079                             {-8: -1, -5: 1, -3: 1}  \n",
       "1080  {0: 1, 1: -1, 2: 3, 3: -3, 4: 3, 5: -4, 6: 3, ...  \n",
       "\n",
       "[1081 rows x 9 columns]"
      ]
     },
     "execution_count": 6,
     "metadata": {},
     "output_type": "execute_result"
    }
   ],
   "source": [
    "df"
   ]
  },
  {
   "cell_type": "markdown",
   "id": "355407a1",
   "metadata": {},
   "source": [
    "# Compute Maximum and Minimum of column and row"
   ]
  },
  {
   "cell_type": "code",
   "execution_count": 7,
   "id": "c9c11c78",
   "metadata": {},
   "outputs": [],
   "source": [
    "from scripts.getGridsDimensions import find_max_min_row,find_max_min_col\n",
    "from scripts.predict_accuracy import prediction, accuracy\n",
    "from scripts.GDLinearReg import J, DJ, GD_linreg_improved,fit,add_poly_terms"
   ]
  },
  {
   "cell_type": "code",
   "execution_count": 8,
   "id": "3881aa08",
   "metadata": {},
   "outputs": [],
   "source": [
    "# compute the number of row for the new matrix\n",
    "find_max_row, find_min_row = find_max_min_row(df)\n",
    "\n",
    "row_range = find_max_row - find_min_row + 1"
   ]
  },
  {
   "cell_type": "code",
   "execution_count": 9,
   "id": "3e79e792",
   "metadata": {},
   "outputs": [],
   "source": [
    "#compute the number of column for the new matrix\n",
    "find_max_col, find_min_col = find_max_min_col(df)\n",
    "\n",
    "col_range = find_max_col - find_min_col + 1"
   ]
  },
  {
   "cell_type": "code",
   "execution_count": 10,
   "id": "a03d0e32",
   "metadata": {
    "ExecuteTime": {
     "end_time": "2022-12-04T21:15:19.242122Z",
     "start_time": "2022-12-04T21:15:19.237201Z"
    }
   },
   "outputs": [],
   "source": [
    "def prediction(x,v):\n",
    "    return round((x@v)[0])\n",
    "\n",
    "def accuracy(X,v,y):\n",
    "    count = 0\n",
    "    for i,x in enumerate(X):\n",
    "        if prediction(x,v) == y[i][0]:\n",
    "            count += 1\n",
    "    return count / len(X)"
   ]
  },
  {
   "cell_type": "markdown",
   "id": "e899f8c0",
   "metadata": {},
   "source": [
    "#  Test Accuracy with Number of FP Each Row"
   ]
  },
  {
   "cell_type": "code",
   "execution_count": 12,
   "id": "f211a751",
   "metadata": {
    "ExecuteTime": {
     "end_time": "2022-12-04T21:15:20.857870Z",
     "start_time": "2022-12-04T21:15:20.610562Z"
    }
   },
   "outputs": [],
   "source": [
    "ev = np.vectorize(eval)\n",
    "row_FP = ev(df[\"total_num_FP_per_row\"])"
   ]
  },
  {
   "cell_type": "code",
   "execution_count": 13,
   "id": "33d520cd",
   "metadata": {
    "ExecuteTime": {
     "end_time": "2022-12-04T21:15:21.778147Z",
     "start_time": "2022-12-04T21:15:21.773194Z"
    }
   },
   "outputs": [],
   "source": [
    "def gen_matrix_row(row_FP, row_range):\n",
    "    m = len(row_FP)\n",
    "    X = np.zeros([m,row_range])\n",
    "    for i in range(m):\n",
    "        for key in row_FP[i].keys():\n",
    "            X[i,key - find_min_row] =  row_FP[i][key]\n",
    "    return X"
   ]
  },
  {
   "cell_type": "code",
   "execution_count": 14,
   "id": "34a82916",
   "metadata": {
    "ExecuteTime": {
     "end_time": "2022-12-04T21:15:22.939378Z",
     "start_time": "2022-12-04T21:15:22.920026Z"
    }
   },
   "outputs": [],
   "source": [
    "X_row = gen_matrix_row(row_FP, row_range)\n",
    "y = np.array(df['torsion_part_count']).reshape(-1,1)"
   ]
  },
  {
   "cell_type": "code",
   "execution_count": 15,
   "id": "6041a18b",
   "metadata": {
    "ExecuteTime": {
     "end_time": "2022-12-04T21:15:23.744108Z",
     "start_time": "2022-12-04T21:15:23.739892Z"
    }
   },
   "outputs": [],
   "source": [
    "X_train, X_test, y_train, y_test = train_test_split(X_row, y, test_size=0.2, random_state=1)\n",
    "X_train, X_val, y_train, y_val = train_test_split(X_train, y_train, test_size=0.25, random_state=1)"
   ]
  },
  {
   "cell_type": "code",
   "execution_count": 16,
   "id": "f63a8fd6",
   "metadata": {
    "ExecuteTime": {
     "end_time": "2022-12-04T21:15:28.772633Z",
     "start_time": "2022-12-04T21:15:28.769204Z"
    }
   },
   "outputs": [
    {
     "name": "stdout",
     "output_type": "stream",
     "text": [
      "Running polynomial regression of degree 1 \n",
      "\n",
      "After 0 steps the cost is 38.27777777777778\n",
      "After 744 steps the cost is 0.04052373234059941\n",
      "\n",
      "Final cost is 0.04051377187007133\n",
      "\n",
      "Accuracy of training set is: 0.9830246913580247\n",
      "Accuracy of validation set is: 0.9907407407407407\n",
      "Accuracy of test set is: 0.9907834101382489\n"
     ]
    }
   ],
   "source": [
    "degree = 1\n",
    "\n",
    "v, costs = fit(X_train, y_train, epsilon = 1e-5, lambda_ = 0, max_iters = 1000, poly_terms = degree)\n",
    "\n",
    "print(f'Accuracy of training set is: {accuracy(add_poly_terms(X_train, degree),v,y_train)}')\n",
    "print(f'Accuracy of validation set is: {accuracy(add_poly_terms(X_val, degree),v,y_val)}')\n",
    "print(f'Accuracy of test set is: {accuracy(add_poly_terms(X_test, degree),v,y_test)}')"
   ]
  },
  {
   "cell_type": "markdown",
   "id": "e06f37fd",
   "metadata": {},
   "source": [
    "# Test with Number of FP of Each Column"
   ]
  },
  {
   "cell_type": "code",
   "execution_count": 17,
   "id": "41ec2e68",
   "metadata": {},
   "outputs": [],
   "source": [
    "col_FP = ev(df[\"total_num_FP_per_column\"])"
   ]
  },
  {
   "cell_type": "code",
   "execution_count": 22,
   "id": "f4f22410",
   "metadata": {
    "ExecuteTime": {
     "end_time": "2022-12-04T21:15:32.658097Z",
     "start_time": "2022-12-04T21:15:32.653121Z"
    }
   },
   "outputs": [],
   "source": [
    "def gen_matrix_col(col_FP, col_range):\n",
    "    m = len(col_FP)\n",
    "    X = np.zeros([m,col_range])\n",
    "    for i in range(m):\n",
    "        for key in col_FP[i].keys():\n",
    "            X[i,key - find_min_col] =  col_FP[i][key]\n",
    "    return X"
   ]
  },
  {
   "cell_type": "code",
   "execution_count": 23,
   "id": "3379de64",
   "metadata": {
    "ExecuteTime": {
     "end_time": "2022-12-04T21:15:33.631059Z",
     "start_time": "2022-12-04T21:15:33.611701Z"
    }
   },
   "outputs": [],
   "source": [
    "X_col = gen_matrix_col(col_FP,col_range)\n",
    "y = np.array(df['torsion_part_count']).reshape(-1,1)"
   ]
  },
  {
   "cell_type": "code",
   "execution_count": 24,
   "id": "ce8a24f6",
   "metadata": {},
   "outputs": [],
   "source": [
    "X_train, X_test, y_train, y_test = train_test_split(X_col, y, test_size=0.5, random_state=1)\n",
    "X_train, X_val, y_train, y_val = train_test_split(X_train, y_train, test_size=0.25, random_state=1)"
   ]
  },
  {
   "cell_type": "code",
   "execution_count": 25,
   "id": "8e1e8f9c",
   "metadata": {},
   "outputs": [
    {
     "name": "stdout",
     "output_type": "stream",
     "text": [
      "Running polynomial regression of degree 1 \n",
      "\n",
      "After 0 steps the cost is 32.36543209876543\n",
      "After 313 steps the cost is 0.047879120147686645\n",
      "\n",
      "Final cost is 0.047869216126404865\n",
      "\n",
      "Accuracy of training set is: 0.9851851851851852\n",
      "Accuracy of validation set is: 0.9703703703703703\n",
      "Accuracy of test set is: 0.9870609981515711\n"
     ]
    }
   ],
   "source": [
    "degree = 1\n",
    "\n",
    "v, costs = fit(X_train, y_train, epsilon = 1e-5, lambda_ = 0, max_iters = 1000, poly_terms = degree)\n",
    "\n",
    "print(f'Accuracy of training set is: {accuracy(add_poly_terms(X_train, degree),v,y_train)}')\n",
    "print(f'Accuracy of validation set is: {accuracy(add_poly_terms(X_val, degree),v,y_val)}')\n",
    "print(f'Accuracy of test set is: {accuracy(add_poly_terms(X_test, degree),v,y_test)}')"
   ]
  },
  {
   "cell_type": "code",
   "execution_count": null,
   "id": "d692e597",
   "metadata": {},
   "outputs": [],
   "source": []
  }
 ],
 "metadata": {
  "kernelspec": {
   "display_name": "Python [conda env:root] *",
   "language": "python",
   "name": "conda-root-py"
  },
  "language_info": {
   "codemirror_mode": {
    "name": "ipython",
    "version": 3
   },
   "file_extension": ".py",
   "mimetype": "text/x-python",
   "name": "python",
   "nbconvert_exporter": "python",
   "pygments_lexer": "ipython3",
   "version": "3.9.12"
  }
 },
 "nbformat": 4,
 "nbformat_minor": 5
}

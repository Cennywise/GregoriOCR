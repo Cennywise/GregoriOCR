{
 "cells": [
  {
   "cell_type": "code",
   "execution_count": 1,
   "id": "564bc555",
   "metadata": {
    "ExecuteTime": {
     "end_time": "2022-12-04T21:14:20.129577Z",
     "start_time": "2022-12-04T21:14:18.923939Z"
    }
   },
   "outputs": [],
   "source": [
    "import numpy as np\n",
    "import pandas as pd\n",
    "from numpy import linalg as LA\n",
    "import os\n",
    "from sklearn.model_selection import train_test_split"
   ]
  },
  {
   "cell_type": "markdown",
   "id": "c1f9ae6b",
   "metadata": {},
   "source": [
    "Run this cell to check your current working directory. It should return the top folder \"machine-learning-assisted-khovanov-homology\""
   ]
  },
  {
   "cell_type": "code",
   "execution_count": 2,
   "id": "1d60a6c0",
   "metadata": {
    "ExecuteTime": {
     "end_time": "2022-12-04T21:14:21.689319Z",
     "start_time": "2022-12-04T21:14:21.679856Z"
    }
   },
   "outputs": [
    {
     "data": {
      "text/plain": [
       "'/Users/guoyihan/Documents/GitHub/MAT_180_ML_Projects/machine-learning-assisted-khovanov-homology/notebooks'"
      ]
     },
     "execution_count": 2,
     "metadata": {},
     "output_type": "execute_result"
    }
   ],
   "source": [
    "os.getcwd()"
   ]
  },
  {
   "cell_type": "code",
   "execution_count": 3,
   "id": "bcf0e42b",
   "metadata": {
    "ExecuteTime": {
     "end_time": "2022-12-04T21:14:20.761194Z",
     "start_time": "2022-12-04T21:14:20.757567Z"
    }
   },
   "outputs": [],
   "source": [
    "os.chdir(\"..\")"
   ]
  },
  {
   "cell_type": "code",
   "execution_count": 4,
   "id": "39a6d5fa",
   "metadata": {},
   "outputs": [],
   "source": [
    "from scripts.getGridsDimensions import find_max_min_row, find_max_min_col\n",
    "from scripts.polynomial import add_poly_terms\n",
    "from scripts.GDLinearReg import J, DJ, GD_linreg_improved"
   ]
  },
  {
   "cell_type": "code",
   "execution_count": 5,
   "id": "98d6c25b",
   "metadata": {},
   "outputs": [],
   "source": [
    "df = pd.read_csv(\"data/dataset_C.csv\")"
   ]
  },
  {
   "cell_type": "code",
   "execution_count": 6,
   "id": "1d7144f7",
   "metadata": {},
   "outputs": [
    {
     "data": {
      "text/html": [
       "<div>\n",
       "<style scoped>\n",
       "    .dataframe tbody tr th:only-of-type {\n",
       "        vertical-align: middle;\n",
       "    }\n",
       "\n",
       "    .dataframe tbody tr th {\n",
       "        vertical-align: top;\n",
       "    }\n",
       "\n",
       "    .dataframe thead th {\n",
       "        text-align: right;\n",
       "    }\n",
       "</style>\n",
       "<table border=\"1\" class=\"dataframe\">\n",
       "  <thead>\n",
       "    <tr style=\"text-align: right;\">\n",
       "      <th></th>\n",
       "      <th>braid</th>\n",
       "      <th>components</th>\n",
       "      <th>khovanov_homology</th>\n",
       "      <th>free_part</th>\n",
       "      <th>torsion_part</th>\n",
       "      <th>free_part_count</th>\n",
       "      <th>torsion_part_count</th>\n",
       "      <th>total_num_FP_per_row</th>\n",
       "      <th>total_num_FP_per_column</th>\n",
       "      <th>jones_polynomial</th>\n",
       "    </tr>\n",
       "  </thead>\n",
       "  <tbody>\n",
       "    <tr>\n",
       "      <th>0</th>\n",
       "      <td>[2, 2, 1, -2, 2, 1, -1, -1, 2]</td>\n",
       "      <td>1</td>\n",
       "      <td>{1: {0: Z}, 3: {0: Z, 1: 0, 2: 0, 3: 0}, 5: {0...</td>\n",
       "      <td>{(1, 0): 1, (3, 0): 1, (5, 2): 1, (9, 3): 1}</td>\n",
       "      <td>{(7, 3): {2: 1}}</td>\n",
       "      <td>4</td>\n",
       "      <td>1</td>\n",
       "      <td>{1: 1, 3: 1, 5: 1, 9: 1}</td>\n",
       "      <td>{0: 2, 2: 1, 3: 1}</td>\n",
       "      <td>{1: 1, 3: 1, 4: -1}</td>\n",
       "    </tr>\n",
       "    <tr>\n",
       "      <th>1</th>\n",
       "      <td>[-2, -1, 1, -3, -1, 2, -3, -2, -1]</td>\n",
       "      <td>1</td>\n",
       "      <td>{-13: {-6: 0, -5: Z, -4: 0}, -11: {-6: 0, -5: ...</td>\n",
       "      <td>{(-13, -5): 1, (-9, -4): 1, (-9, -3): 1, (-7, ...</td>\n",
       "      <td>{(-11, -4): {2: 1}, (-7, -2): {2: 1}, (-5, -1)...</td>\n",
       "      <td>8</td>\n",
       "      <td>3</td>\n",
       "      <td>{-13: 1, -9: 2, -7: 1, -5: 1, -3: 2, -1: 1}</td>\n",
       "      <td>{-5: 1, -4: 1, -3: 1, -2: 2, -1: 1, 0: 2}</td>\n",
       "      <td>{-6: -1, -5: 1, -4: -1, -3: 2, -2: -1, -1: 1}</td>\n",
       "    </tr>\n",
       "    <tr>\n",
       "      <th>2</th>\n",
       "      <td>[-3, -2, 3, -2, -1, -1, 1, -3, -1]</td>\n",
       "      <td>3</td>\n",
       "      <td>{-15: {-6: Z}, -13: {-6: Z, -5: 0, -4: 0, -3: ...</td>\n",
       "      <td>{(-15, -6): 1, (-13, -6): 1, (-11, -4): 2, (-9...</td>\n",
       "      <td>{(-9, -3): {2: 1}, (-5, -1): {2: 1}}</td>\n",
       "      <td>12</td>\n",
       "      <td>2</td>\n",
       "      <td>{-15: 1, -13: 1, -11: 2, -9: 1, -7: 3, -5: 1, ...</td>\n",
       "      <td>{-6: 2, -4: 3, -3: 1, -2: 3, -1: 1, 0: 2}</td>\n",
       "      <td>{-7: 1, -5: 2, -4: -1, -3: 2, -2: -1, -1: 1}</td>\n",
       "    </tr>\n",
       "    <tr>\n",
       "      <th>3</th>\n",
       "      <td>[3, 3, 2, 3, -1, -2, 2, 3, 3]</td>\n",
       "      <td>1</td>\n",
       "      <td>{1: {-1: 0, 0: 0}, 3: {-1: 0, 0: Z, 1: 0, 2: 0...</td>\n",
       "      <td>{(3, 0): 1, (5, 0): 1, (7, 2): 1, (11, 3): 1, ...</td>\n",
       "      <td>{(9, 3): {2: 1}, (13, 5): {2: 1}}</td>\n",
       "      <td>6</td>\n",
       "      <td>2</td>\n",
       "      <td>{3: 1, 5: 1, 7: 1, 11: 2, 15: 1}</td>\n",
       "      <td>{0: 2, 2: 1, 3: 1, 4: 1, 5: 1}</td>\n",
       "      <td>{2: 1, 4: 1, 5: -1, 6: 1, 7: -1}</td>\n",
       "    </tr>\n",
       "    <tr>\n",
       "      <th>4</th>\n",
       "      <td>[-3, -3, 2, -2, 2, 1, -3, -3, -3]</td>\n",
       "      <td>1</td>\n",
       "      <td>{-15: {-5: Z}, -13: {-5: 0, -4: C2}, -11: {-5:...</td>\n",
       "      <td>{(-15, -5): 1, (-11, -4): 1, (-11, -3): 1, (-7...</td>\n",
       "      <td>{(-13, -4): {2: 1}, (-9, -2): {2: 1}}</td>\n",
       "      <td>6</td>\n",
       "      <td>2</td>\n",
       "      <td>{-15: 1, -11: 2, -7: 1, -5: 1, -3: 1}</td>\n",
       "      <td>{-5: 1, -4: 1, -3: 1, -2: 1, 0: 2}</td>\n",
       "      <td>{-7: -1, -6: 1, -5: -1, -4: 1, -2: 1}</td>\n",
       "    </tr>\n",
       "    <tr>\n",
       "      <th>...</th>\n",
       "      <td>...</td>\n",
       "      <td>...</td>\n",
       "      <td>...</td>\n",
       "      <td>...</td>\n",
       "      <td>...</td>\n",
       "      <td>...</td>\n",
       "      <td>...</td>\n",
       "      <td>...</td>\n",
       "      <td>...</td>\n",
       "      <td>...</td>\n",
       "    </tr>\n",
       "    <tr>\n",
       "      <th>2526</th>\n",
       "      <td>[3, 1, 3, -1, -1, -1, -1, -1, -1]</td>\n",
       "      <td>3</td>\n",
       "      <td>{-17: {-6: 0, -5: 0}, -15: {-6: 0, -5: Z, -4: ...</td>\n",
       "      <td>{(-15, -5): 1, (-13, -5): 1, (-11, -4): 1, (-1...</td>\n",
       "      <td>{(-13, -4): {2: 1}, (-11, -4): {2: 1}, (-9, -2...</td>\n",
       "      <td>24</td>\n",
       "      <td>8</td>\n",
       "      <td>{-15: 1, -13: 1, -11: 3, -9: 3, -7: 3, -5: 4, ...</td>\n",
       "      <td>{-5: 2, -4: 2, -3: 4, -2: 4, -1: 2, 0: 6, 2: 4}</td>\n",
       "      <td>{-7: -1, -5: -1, -3: 1, -2: 1, -1: 2, 0: 1, 1: 1}</td>\n",
       "    </tr>\n",
       "    <tr>\n",
       "      <th>2527</th>\n",
       "      <td>[2, 2, 2, -1, -2, -3, -2, -1, -3]</td>\n",
       "      <td>1</td>\n",
       "      <td>{-11: {-6: 0, -5: Z, -4: 0}, -9: {-6: 0, -5: 0...</td>\n",
       "      <td>{(-11, -5): 1, (-7, -4): 1, (-7, -3): 1, (-5, ...</td>\n",
       "      <td>{(-9, -4): {2: 1}, (-5, -2): {2: 1}, (-3, -1):...</td>\n",
       "      <td>10</td>\n",
       "      <td>4</td>\n",
       "      <td>{-11: 1, -7: 2, -5: 1, -3: 1, -1: 3, 1: 1, 3: 1}</td>\n",
       "      <td>{-5: 1, -4: 1, -3: 1, -2: 2, -1: 1, 0: 3, 1: 1}</td>\n",
       "      <td>{-5: -1, -4: 1, -3: -1, -2: 2, -1: -1, 0: 2, 1...</td>\n",
       "    </tr>\n",
       "    <tr>\n",
       "      <th>2528</th>\n",
       "      <td>[2, 2, -1, 3, -1, -2, -2, -1, -1]</td>\n",
       "      <td>3</td>\n",
       "      <td>{-15: {-6: Z}, -13: {-6: 0, -5: Z x C2, -4: 0}...</td>\n",
       "      <td>{(-15, -6): 1, (-13, -5): 1, (-11, -5): 1, (-1...</td>\n",
       "      <td>{(-13, -5): {2: 1}, (-11, -4): {2: 1}, (-7, -2...</td>\n",
       "      <td>20</td>\n",
       "      <td>6</td>\n",
       "      <td>{-15: 1, -13: 1, -11: 3, -9: 5, -7: 2, -5: 2, ...</td>\n",
       "      <td>{-6: 1, -5: 2, -4: 5, -3: 2, -2: 4, -1: 2, 0: 4}</td>\n",
       "      <td>{-7: 1, -6: -2, -5: 3, -4: -2, -3: 4, -2: -2, ...</td>\n",
       "    </tr>\n",
       "    <tr>\n",
       "      <th>2529</th>\n",
       "      <td>[2, -3, -3, 2, -3, -1, -2, -1, 2]</td>\n",
       "      <td>1</td>\n",
       "      <td>{-13: {-6: 0, -5: 0}, -11: {-6: 0, -5: 0, -4: ...</td>\n",
       "      <td>{(-9, -3): 1, (-5, -2): 1, (-3, 0): 1, (-1, 0)...</td>\n",
       "      <td>{(-7, -2): {2: 1}}</td>\n",
       "      <td>4</td>\n",
       "      <td>1</td>\n",
       "      <td>{-9: 1, -5: 1, -3: 1, -1: 1}</td>\n",
       "      <td>{-3: 1, -2: 1, 0: 2}</td>\n",
       "      <td>{-4: -1, -3: 1, -1: 1}</td>\n",
       "    </tr>\n",
       "    <tr>\n",
       "      <th>2530</th>\n",
       "      <td>[-1, 2, -3, -1, -2, -2, -1, 3, 2]</td>\n",
       "      <td>3</td>\n",
       "      <td>{-13: {-6: 0, -5: Z}, -11: {-6: 0, -5: 0, -4: ...</td>\n",
       "      <td>{(-13, -5): 1, (-11, -4): 1, (-9, -4): 1, (-9,...</td>\n",
       "      <td>{(-11, -4): {2: 1}, (-9, -3): {2: 1}, (-7, -2)...</td>\n",
       "      <td>20</td>\n",
       "      <td>6</td>\n",
       "      <td>{-13: 1, -11: 1, -9: 2, -7: 4, -5: 4, -3: 3, -...</td>\n",
       "      <td>{-5: 1, -4: 2, -3: 2, -2: 6, -1: 2, 0: 5, 1: 1...</td>\n",
       "      <td>{-6: -1, -5: 2, -4: -2, -3: 4, -2: -2, -1: 3, ...</td>\n",
       "    </tr>\n",
       "  </tbody>\n",
       "</table>\n",
       "<p>2531 rows × 10 columns</p>\n",
       "</div>"
      ],
      "text/plain": [
       "                                   braid  components  \\\n",
       "0         [2, 2, 1, -2, 2, 1, -1, -1, 2]           1   \n",
       "1     [-2, -1, 1, -3, -1, 2, -3, -2, -1]           1   \n",
       "2     [-3, -2, 3, -2, -1, -1, 1, -3, -1]           3   \n",
       "3          [3, 3, 2, 3, -1, -2, 2, 3, 3]           1   \n",
       "4      [-3, -3, 2, -2, 2, 1, -3, -3, -3]           1   \n",
       "...                                  ...         ...   \n",
       "2526   [3, 1, 3, -1, -1, -1, -1, -1, -1]           3   \n",
       "2527   [2, 2, 2, -1, -2, -3, -2, -1, -3]           1   \n",
       "2528   [2, 2, -1, 3, -1, -2, -2, -1, -1]           3   \n",
       "2529   [2, -3, -3, 2, -3, -1, -2, -1, 2]           1   \n",
       "2530   [-1, 2, -3, -1, -2, -2, -1, 3, 2]           3   \n",
       "\n",
       "                                      khovanov_homology  \\\n",
       "0     {1: {0: Z}, 3: {0: Z, 1: 0, 2: 0, 3: 0}, 5: {0...   \n",
       "1     {-13: {-6: 0, -5: Z, -4: 0}, -11: {-6: 0, -5: ...   \n",
       "2     {-15: {-6: Z}, -13: {-6: Z, -5: 0, -4: 0, -3: ...   \n",
       "3     {1: {-1: 0, 0: 0}, 3: {-1: 0, 0: Z, 1: 0, 2: 0...   \n",
       "4     {-15: {-5: Z}, -13: {-5: 0, -4: C2}, -11: {-5:...   \n",
       "...                                                 ...   \n",
       "2526  {-17: {-6: 0, -5: 0}, -15: {-6: 0, -5: Z, -4: ...   \n",
       "2527  {-11: {-6: 0, -5: Z, -4: 0}, -9: {-6: 0, -5: 0...   \n",
       "2528  {-15: {-6: Z}, -13: {-6: 0, -5: Z x C2, -4: 0}...   \n",
       "2529  {-13: {-6: 0, -5: 0}, -11: {-6: 0, -5: 0, -4: ...   \n",
       "2530  {-13: {-6: 0, -5: Z}, -11: {-6: 0, -5: 0, -4: ...   \n",
       "\n",
       "                                              free_part  \\\n",
       "0          {(1, 0): 1, (3, 0): 1, (5, 2): 1, (9, 3): 1}   \n",
       "1     {(-13, -5): 1, (-9, -4): 1, (-9, -3): 1, (-7, ...   \n",
       "2     {(-15, -6): 1, (-13, -6): 1, (-11, -4): 2, (-9...   \n",
       "3     {(3, 0): 1, (5, 0): 1, (7, 2): 1, (11, 3): 1, ...   \n",
       "4     {(-15, -5): 1, (-11, -4): 1, (-11, -3): 1, (-7...   \n",
       "...                                                 ...   \n",
       "2526  {(-15, -5): 1, (-13, -5): 1, (-11, -4): 1, (-1...   \n",
       "2527  {(-11, -5): 1, (-7, -4): 1, (-7, -3): 1, (-5, ...   \n",
       "2528  {(-15, -6): 1, (-13, -5): 1, (-11, -5): 1, (-1...   \n",
       "2529  {(-9, -3): 1, (-5, -2): 1, (-3, 0): 1, (-1, 0)...   \n",
       "2530  {(-13, -5): 1, (-11, -4): 1, (-9, -4): 1, (-9,...   \n",
       "\n",
       "                                           torsion_part  free_part_count  \\\n",
       "0                                      {(7, 3): {2: 1}}                4   \n",
       "1     {(-11, -4): {2: 1}, (-7, -2): {2: 1}, (-5, -1)...                8   \n",
       "2                  {(-9, -3): {2: 1}, (-5, -1): {2: 1}}               12   \n",
       "3                     {(9, 3): {2: 1}, (13, 5): {2: 1}}                6   \n",
       "4                 {(-13, -4): {2: 1}, (-9, -2): {2: 1}}                6   \n",
       "...                                                 ...              ...   \n",
       "2526  {(-13, -4): {2: 1}, (-11, -4): {2: 1}, (-9, -2...               24   \n",
       "2527  {(-9, -4): {2: 1}, (-5, -2): {2: 1}, (-3, -1):...               10   \n",
       "2528  {(-13, -5): {2: 1}, (-11, -4): {2: 1}, (-7, -2...               20   \n",
       "2529                                 {(-7, -2): {2: 1}}                4   \n",
       "2530  {(-11, -4): {2: 1}, (-9, -3): {2: 1}, (-7, -2)...               20   \n",
       "\n",
       "      torsion_part_count                               total_num_FP_per_row  \\\n",
       "0                      1                           {1: 1, 3: 1, 5: 1, 9: 1}   \n",
       "1                      3        {-13: 1, -9: 2, -7: 1, -5: 1, -3: 2, -1: 1}   \n",
       "2                      2  {-15: 1, -13: 1, -11: 2, -9: 1, -7: 3, -5: 1, ...   \n",
       "3                      2                   {3: 1, 5: 1, 7: 1, 11: 2, 15: 1}   \n",
       "4                      2              {-15: 1, -11: 2, -7: 1, -5: 1, -3: 1}   \n",
       "...                  ...                                                ...   \n",
       "2526                   8  {-15: 1, -13: 1, -11: 3, -9: 3, -7: 3, -5: 4, ...   \n",
       "2527                   4   {-11: 1, -7: 2, -5: 1, -3: 1, -1: 3, 1: 1, 3: 1}   \n",
       "2528                   6  {-15: 1, -13: 1, -11: 3, -9: 5, -7: 2, -5: 2, ...   \n",
       "2529                   1                       {-9: 1, -5: 1, -3: 1, -1: 1}   \n",
       "2530                   6  {-13: 1, -11: 1, -9: 2, -7: 4, -5: 4, -3: 3, -...   \n",
       "\n",
       "                                total_num_FP_per_column  \\\n",
       "0                                    {0: 2, 2: 1, 3: 1}   \n",
       "1             {-5: 1, -4: 1, -3: 1, -2: 2, -1: 1, 0: 2}   \n",
       "2             {-6: 2, -4: 3, -3: 1, -2: 3, -1: 1, 0: 2}   \n",
       "3                        {0: 2, 2: 1, 3: 1, 4: 1, 5: 1}   \n",
       "4                    {-5: 1, -4: 1, -3: 1, -2: 1, 0: 2}   \n",
       "...                                                 ...   \n",
       "2526    {-5: 2, -4: 2, -3: 4, -2: 4, -1: 2, 0: 6, 2: 4}   \n",
       "2527    {-5: 1, -4: 1, -3: 1, -2: 2, -1: 1, 0: 3, 1: 1}   \n",
       "2528   {-6: 1, -5: 2, -4: 5, -3: 2, -2: 4, -1: 2, 0: 4}   \n",
       "2529                               {-3: 1, -2: 1, 0: 2}   \n",
       "2530  {-5: 1, -4: 2, -3: 2, -2: 6, -1: 2, 0: 5, 1: 1...   \n",
       "\n",
       "                                       jones_polynomial  \n",
       "0                                   {1: 1, 3: 1, 4: -1}  \n",
       "1         {-6: -1, -5: 1, -4: -1, -3: 2, -2: -1, -1: 1}  \n",
       "2          {-7: 1, -5: 2, -4: -1, -3: 2, -2: -1, -1: 1}  \n",
       "3                      {2: 1, 4: 1, 5: -1, 6: 1, 7: -1}  \n",
       "4                 {-7: -1, -6: 1, -5: -1, -4: 1, -2: 1}  \n",
       "...                                                 ...  \n",
       "2526  {-7: -1, -5: -1, -3: 1, -2: 1, -1: 2, 0: 1, 1: 1}  \n",
       "2527  {-5: -1, -4: 1, -3: -1, -2: 2, -1: -1, 0: 2, 1...  \n",
       "2528  {-7: 1, -6: -2, -5: 3, -4: -2, -3: 4, -2: -2, ...  \n",
       "2529                             {-4: -1, -3: 1, -1: 1}  \n",
       "2530  {-6: -1, -5: 2, -4: -2, -3: 4, -2: -2, -1: 3, ...  \n",
       "\n",
       "[2531 rows x 10 columns]"
      ]
     },
     "execution_count": 6,
     "metadata": {},
     "output_type": "execute_result"
    }
   ],
   "source": [
    "df"
   ]
  },
  {
   "cell_type": "markdown",
   "id": "355407a1",
   "metadata": {},
   "source": [
    "# Compute Maximum and Minimum of column and row"
   ]
  },
  {
   "cell_type": "code",
   "execution_count": 15,
   "id": "c9c11c78",
   "metadata": {},
   "outputs": [],
   "source": [
    "#Import functions built in class\n",
    "from scripts.getGridsDimensions import find_max_min_row,find_max_min_col\n",
    "from scripts.predictAccuracy import prediction, accuracy\n",
    "from scripts.GDLinearReg import J, DJ, GD_linreg_improved,fit,add_poly_terms"
   ]
  },
  {
   "cell_type": "code",
   "execution_count": 16,
   "id": "3881aa08",
   "metadata": {},
   "outputs": [
    {
     "data": {
      "text/plain": [
       "55"
      ]
     },
     "execution_count": 16,
     "metadata": {},
     "output_type": "execute_result"
    }
   ],
   "source": [
    "# compute the number of row for the new matrix\n",
    "find_max_row, find_min_row = find_max_min_row(df)\n",
    "\n",
    "row_range = find_max_row - find_min_row + 1\n",
    "row_range"
   ]
  },
  {
   "cell_type": "code",
   "execution_count": 17,
   "id": "3e79e792",
   "metadata": {},
   "outputs": [],
   "source": [
    "#compute the number of column for the new matrix\n",
    "find_max_col, find_min_col = find_max_min_col(df)\n",
    "\n",
    "col_range = find_max_col - find_min_col + 1"
   ]
  },
  {
   "cell_type": "markdown",
   "id": "e899f8c0",
   "metadata": {},
   "source": [
    "#  Test Accuracy with Number of FP Each Row"
   ]
  },
  {
   "cell_type": "code",
   "execution_count": 18,
   "id": "f211a751",
   "metadata": {
    "ExecuteTime": {
     "end_time": "2022-12-04T21:15:20.857870Z",
     "start_time": "2022-12-04T21:15:20.610562Z"
    }
   },
   "outputs": [],
   "source": [
    "ev = np.vectorize(eval)\n",
    "row_FP = ev(df[\"total_num_FP_per_row\"])"
   ]
  },
  {
   "cell_type": "code",
   "execution_count": 19,
   "id": "33d520cd",
   "metadata": {
    "ExecuteTime": {
     "end_time": "2022-12-04T21:15:21.778147Z",
     "start_time": "2022-12-04T21:15:21.773194Z"
    }
   },
   "outputs": [],
   "source": [
    "# function generate a matrix with entries that are number of free_part in each row\n",
    "def gen_matrix_row(row_FP, row_range):\n",
    "    m = len(row_FP)\n",
    "    X = np.zeros([m,row_range])\n",
    "    for i in range(m):\n",
    "        for key in row_FP[i].keys():\n",
    "            X[i,key - find_min_row] =  row_FP[i][key]\n",
    "    return X"
   ]
  },
  {
   "cell_type": "code",
   "execution_count": 20,
   "id": "34a82916",
   "metadata": {
    "ExecuteTime": {
     "end_time": "2022-12-04T21:15:22.939378Z",
     "start_time": "2022-12-04T21:15:22.920026Z"
    }
   },
   "outputs": [],
   "source": [
    "X_row = gen_matrix_row(row_FP, row_range)\n",
    "y = np.array(df['torsion_part_count']).reshape(-1,1)"
   ]
  },
  {
   "cell_type": "code",
   "execution_count": 21,
   "id": "6041a18b",
   "metadata": {
    "ExecuteTime": {
     "end_time": "2022-12-04T21:15:23.744108Z",
     "start_time": "2022-12-04T21:15:23.739892Z"
    }
   },
   "outputs": [],
   "source": [
    "# predict with 1,2,3 components\n",
    "X_train, X_test, y_train, y_test = train_test_split(X_row, y, test_size=0.2, random_state=1)\n",
    "X_train, X_val, y_train, y_val = train_test_split(X_train, y_train, test_size=0.25, random_state=1)"
   ]
  },
  {
   "cell_type": "code",
   "execution_count": 22,
   "id": "f63a8fd6",
   "metadata": {
    "ExecuteTime": {
     "end_time": "2022-12-04T21:15:28.772633Z",
     "start_time": "2022-12-04T21:15:28.769204Z"
    }
   },
   "outputs": [
    {
     "name": "stdout",
     "output_type": "stream",
     "text": [
      "Running polynomial regression of degree 1 \n",
      "\n",
      "After 0 steps the cost is 37.69038208168644\n",
      "After 999 steps the cost is 1.5955875700020075\n",
      "\n",
      "Final cost is 1.5955679312833337\n",
      "\n",
      "Accuracy of training set is: 0.1725955204216074\n",
      "Accuracy of validation set is: 0.17588932806324112\n",
      "Accuracy of test set is: 0.15384615384615385\n"
     ]
    }
   ],
   "source": [
    "degree = 1\n",
    "\n",
    "v, costs = fit(X_train, y_train, epsilon = 1e-5, lambda_ = 0, max_iters = 1000, poly_terms = degree)\n",
    "\n",
    "print(f'Accuracy of training set is: {accuracy(add_poly_terms(X_train, degree),v,y_train)}')\n",
    "print(f'Accuracy of validation set is: {accuracy(add_poly_terms(X_val, degree),v,y_val)}')\n",
    "print(f'Accuracy of test set is: {accuracy(add_poly_terms(X_test, degree),v,y_test)}')"
   ]
  },
  {
   "cell_type": "code",
   "execution_count": 23,
   "id": "8426f2a9",
   "metadata": {},
   "outputs": [],
   "source": [
    "X1 = ev(df[df.components == 1][\"total_num_FP_per_row\"])\n",
    "X_row1 = gen_matrix_row(X1, row_range)\n",
    "Y1 = df[df.components == 1][\"torsion_part_count\"].to_numpy().reshape(-1,1)\n",
    "X2 = ev(df[df.components == 2][\"total_num_FP_per_row\"])\n",
    "X_row2 = gen_matrix_row(X2, row_range)\n",
    "Y2 = df[df.components == 2][\"torsion_part_count\"].to_numpy().reshape(-1,1)\n",
    "X3 = ev(df[df.components == 3][\"total_num_FP_per_row\"])\n",
    "X_row3 = gen_matrix_row(X3, row_range)\n",
    "Y3 = df[df.components == 3][\"torsion_part_count\"].to_numpy().reshape(-1,1)"
   ]
  },
  {
   "cell_type": "code",
   "execution_count": 24,
   "id": "0e21bd71",
   "metadata": {},
   "outputs": [],
   "source": [
    "# predict with 1 components\n",
    "X_train, X_test, y_train, y_test = train_test_split(X_row1, Y1, test_size=0.2, random_state=1)\n",
    "X_train, X_val, y_train, y_val = train_test_split(X_train, y_train, test_size=0.25, random_state=1)"
   ]
  },
  {
   "cell_type": "code",
   "execution_count": 25,
   "id": "f928a6da",
   "metadata": {},
   "outputs": [
    {
     "name": "stdout",
     "output_type": "stream",
     "text": [
      "Running polynomial regression of degree 1 \n",
      "\n",
      "After 0 steps the cost is 34.95317220543806\n",
      "After 742 steps the cost is 0.03651785958636868\n",
      "\n",
      "Final cost is 0.03650788327938842\n",
      "\n",
      "Accuracy of training set is: 0.9848942598187311\n",
      "Accuracy of validation set is: 0.9819004524886877\n",
      "Accuracy of test set is: 0.9683257918552036\n"
     ]
    }
   ],
   "source": [
    "degree = 1\n",
    "\n",
    "v, costs = fit(X_train, y_train, epsilon = 1e-5, lambda_ = 0, max_iters = 1000, poly_terms = degree)\n",
    "\n",
    "print(f'Accuracy of training set is: {accuracy(add_poly_terms(X_train, degree),v,y_train)}')\n",
    "print(f'Accuracy of validation set is: {accuracy(add_poly_terms(X_val, degree),v,y_val)}')\n",
    "print(f'Accuracy of test set is: {accuracy(add_poly_terms(X_test, degree),v,y_test)}')"
   ]
  },
  {
   "cell_type": "code",
   "execution_count": 26,
   "id": "b8e298dd",
   "metadata": {},
   "outputs": [],
   "source": [
    "# predict with 2 components\n",
    "X_train, X_test, y_train, y_test = train_test_split(X_row2, Y2, test_size=0.2, random_state=1)\n",
    "X_train, X_val, y_train, y_val = train_test_split(X_train, y_train, test_size=0.25, random_state=1)"
   ]
  },
  {
   "cell_type": "code",
   "execution_count": 27,
   "id": "249158b4",
   "metadata": {},
   "outputs": [
    {
     "name": "stdout",
     "output_type": "stream",
     "text": [
      "Running polynomial regression of degree 1 \n",
      "\n",
      "After 0 steps the cost is 27.086956521739136\n",
      "After 561 steps the cost is 0.02792620254822724\n",
      "\n",
      "Final cost is 0.027916280650521385\n",
      "\n",
      "Accuracy of training set is: 0.9891304347826086\n",
      "Accuracy of validation set is: 0.967741935483871\n",
      "Accuracy of test set is: 0.967741935483871\n"
     ]
    }
   ],
   "source": [
    "degree = 1\n",
    "\n",
    "v, costs = fit(X_train, y_train, epsilon = 1e-5, lambda_ = 0, max_iters = 1000, poly_terms = degree)\n",
    "\n",
    "print(f'Accuracy of training set is: {accuracy(add_poly_terms(X_train, degree),v,y_train)}')\n",
    "print(f'Accuracy of validation set is: {accuracy(add_poly_terms(X_val, degree),v,y_val)}')\n",
    "print(f'Accuracy of test set is: {accuracy(add_poly_terms(X_test, degree),v,y_test)}')"
   ]
  },
  {
   "cell_type": "code",
   "execution_count": 28,
   "id": "a8f09394",
   "metadata": {},
   "outputs": [],
   "source": [
    "# predict with 3 components\n",
    "X_train, X_test, y_train, y_test = train_test_split(X_row3, Y3, test_size=0.2, random_state=1)\n",
    "X_train, X_val, y_train, y_val = train_test_split(X_train, y_train, test_size=0.25, random_state=1)"
   ]
  },
  {
   "cell_type": "code",
   "execution_count": 29,
   "id": "351e2e28",
   "metadata": {},
   "outputs": [
    {
     "name": "stdout",
     "output_type": "stream",
     "text": [
      "Running polynomial regression of degree 1 \n",
      "\n",
      "After 0 steps the cost is 38.46795827123695\n",
      "After 999 steps the cost is 0.37900159698956376\n",
      "\n",
      "Final cost is 0.37896829458684533\n",
      "\n",
      "Accuracy of training set is: 0.9493293591654247\n",
      "Accuracy of validation set is: 0.9598214285714286\n",
      "Accuracy of test set is: 0.9375\n"
     ]
    }
   ],
   "source": [
    "degree = 1\n",
    "\n",
    "v, costs = fit(X_train, y_train, epsilon = 1e-5, lambda_ = 0, max_iters = 1000, poly_terms = degree)\n",
    "\n",
    "print(f'Accuracy of training set is: {accuracy(add_poly_terms(X_train, degree),v,y_train)}')\n",
    "print(f'Accuracy of validation set is: {accuracy(add_poly_terms(X_val, degree),v,y_val)}')\n",
    "print(f'Accuracy of test set is: {accuracy(add_poly_terms(X_test, degree),v,y_test)}')"
   ]
  },
  {
   "cell_type": "markdown",
   "id": "e06f37fd",
   "metadata": {},
   "source": [
    "# Test with Number of FP of Each Column"
   ]
  },
  {
   "cell_type": "code",
   "execution_count": 30,
   "id": "41ec2e68",
   "metadata": {},
   "outputs": [],
   "source": [
    "col_FP = ev(df[\"total_num_FP_per_column\"])"
   ]
  },
  {
   "cell_type": "code",
   "execution_count": 31,
   "id": "f4f22410",
   "metadata": {
    "ExecuteTime": {
     "end_time": "2022-12-04T21:15:32.658097Z",
     "start_time": "2022-12-04T21:15:32.653121Z"
    }
   },
   "outputs": [],
   "source": [
    "# function generate a matrix with entries that are number of free_part in each column\n",
    "def gen_matrix_col(col_FP, col_range):\n",
    "    m = len(col_FP)\n",
    "    X = np.zeros([m,col_range])\n",
    "    for i in range(m):\n",
    "        for key in col_FP[i].keys():\n",
    "            X[i,key - find_min_col] =  col_FP[i][key]\n",
    "    return X"
   ]
  },
  {
   "cell_type": "code",
   "execution_count": 32,
   "id": "3379de64",
   "metadata": {
    "ExecuteTime": {
     "end_time": "2022-12-04T21:15:33.631059Z",
     "start_time": "2022-12-04T21:15:33.611701Z"
    }
   },
   "outputs": [],
   "source": [
    "X_col = gen_matrix_col(col_FP,col_range)\n",
    "y = np.array(df['torsion_part_count']).reshape(-1,1)"
   ]
  },
  {
   "cell_type": "code",
   "execution_count": 33,
   "id": "ce8a24f6",
   "metadata": {},
   "outputs": [],
   "source": [
    "# predict with 1,2,3 components\n",
    "X_train, X_test, y_train, y_test = train_test_split(X_col, y, test_size=0.5, random_state=1)\n",
    "X_train, X_val, y_train, y_val = train_test_split(X_train, y_train, test_size=0.25, random_state=1)"
   ]
  },
  {
   "cell_type": "code",
   "execution_count": 34,
   "id": "8e1e8f9c",
   "metadata": {},
   "outputs": [
    {
     "name": "stdout",
     "output_type": "stream",
     "text": [
      "Running polynomial regression of degree 1 \n",
      "\n",
      "After 0 steps the cost is 40.19514767932489\n",
      "After 999 steps the cost is 0.18669618228372112\n",
      "\n",
      "Final cost is 0.18668259154612069\n",
      "\n",
      "Accuracy of training set is: 0.9725738396624473\n",
      "Accuracy of validation set is: 0.9652996845425867\n",
      "Accuracy of test set is: 0.9691943127962085\n"
     ]
    }
   ],
   "source": [
    "degree = 1\n",
    "\n",
    "v, costs = fit(X_train, y_train, epsilon = 1e-5, lambda_ = 0, max_iters = 1000, poly_terms = degree)\n",
    "\n",
    "print(f'Accuracy of training set is: {accuracy(add_poly_terms(X_train, degree),v,y_train)}')\n",
    "print(f'Accuracy of validation set is: {accuracy(add_poly_terms(X_val, degree),v,y_val)}')\n",
    "print(f'Accuracy of test set is: {accuracy(add_poly_terms(X_test, degree),v,y_test)}')"
   ]
  },
  {
   "cell_type": "code",
   "execution_count": 35,
   "id": "d692e597",
   "metadata": {},
   "outputs": [],
   "source": [
    "X1 = ev(df[df.components == 1][\"total_num_FP_per_column\"])\n",
    "X_col1 = gen_matrix_row(X1, row_range)\n",
    "Y1 = df[df.components == 1][\"torsion_part_count\"].to_numpy().reshape(-1,1)\n",
    "X2 = ev(df[df.components == 2][\"total_num_FP_per_column\"])\n",
    "X_col2 = gen_matrix_row(X2, row_range)\n",
    "Y2 = df[df.components == 2][\"torsion_part_count\"].to_numpy().reshape(-1,1)\n",
    "X3 = ev(df[df.components == 3][\"total_num_FP_per_column\"])\n",
    "X_col3 = gen_matrix_row(X3, row_range)\n",
    "Y3 = df[df.components == 3][\"torsion_part_count\"].to_numpy().reshape(-1,1)"
   ]
  },
  {
   "cell_type": "code",
   "execution_count": 36,
   "id": "827fc3ed",
   "metadata": {},
   "outputs": [],
   "source": [
    "# predict with 1 components\n",
    "X_train, X_test, y_train, y_test = train_test_split(X_col1, Y1, test_size=0.5, random_state=1)\n",
    "X_train, X_val, y_train, y_val = train_test_split(X_train, y_train, test_size=0.25, random_state=1)"
   ]
  },
  {
   "cell_type": "code",
   "execution_count": 37,
   "id": "f1715889",
   "metadata": {},
   "outputs": [
    {
     "name": "stdout",
     "output_type": "stream",
     "text": [
      "Running polynomial regression of degree 1 \n",
      "\n",
      "After 0 steps the cost is 38.60144927536232\n",
      "After 305 steps the cost is 0.05920985583348762\n",
      "\n",
      "Final cost is 0.05920007795439818\n",
      "\n",
      "Accuracy of training set is: 0.9806763285024155\n",
      "Accuracy of validation set is: 1.0\n",
      "Accuracy of test set is: 0.9728260869565217\n"
     ]
    }
   ],
   "source": [
    "degree = 1\n",
    "\n",
    "v, costs = fit(X_train, y_train, epsilon = 1e-5, lambda_ = 0, max_iters = 1000, poly_terms = degree)\n",
    "\n",
    "print(f'Accuracy of training set is: {accuracy(add_poly_terms(X_train, degree),v,y_train)}')\n",
    "print(f'Accuracy of validation set is: {accuracy(add_poly_terms(X_val, degree),v,y_val)}')\n",
    "print(f'Accuracy of test set is: {accuracy(add_poly_terms(X_test, degree),v,y_test)}')"
   ]
  },
  {
   "cell_type": "code",
   "execution_count": 38,
   "id": "6763cfe9",
   "metadata": {},
   "outputs": [],
   "source": [
    "# predict with 2 components\n",
    "X_train, X_test, y_train, y_test = train_test_split(X_col2, Y2, test_size=0.5, random_state=1)\n",
    "X_train, X_val, y_train, y_val = train_test_split(X_train, y_train, test_size=0.25, random_state=1)"
   ]
  },
  {
   "cell_type": "code",
   "execution_count": 39,
   "id": "8adcebe0",
   "metadata": {},
   "outputs": [
    {
     "name": "stdout",
     "output_type": "stream",
     "text": [
      "Running polynomial regression of degree 1 \n",
      "\n",
      "After 0 steps the cost is 25.704347826086956\n",
      "After 452 steps the cost is 0.027426846671358876\n",
      "\n",
      "Final cost is 0.02741691142728868\n",
      "\n",
      "Accuracy of training set is: 0.991304347826087\n",
      "Accuracy of validation set is: 1.0\n",
      "Accuracy of test set is: 0.9805194805194806\n"
     ]
    }
   ],
   "source": [
    "degree = 1\n",
    "\n",
    "v, costs = fit(X_train, y_train, epsilon = 1e-5, lambda_ = 0, max_iters = 1000, poly_terms = degree)\n",
    "\n",
    "print(f'Accuracy of training set is: {accuracy(add_poly_terms(X_train, degree),v,y_train)}')\n",
    "print(f'Accuracy of validation set is: {accuracy(add_poly_terms(X_val, degree),v,y_val)}')\n",
    "print(f'Accuracy of test set is: {accuracy(add_poly_terms(X_test, degree),v,y_test)}')"
   ]
  },
  {
   "cell_type": "code",
   "execution_count": 40,
   "id": "fd6792c4",
   "metadata": {},
   "outputs": [],
   "source": [
    "# predict with 3 components\n",
    "X_train, X_test, y_train, y_test = train_test_split(X_col3, Y3, test_size=0.5, random_state=1)\n",
    "X_train, X_val, y_train, y_val = train_test_split(X_train, y_train, test_size=0.25, random_state=1)"
   ]
  },
  {
   "cell_type": "code",
   "execution_count": 41,
   "id": "daf043a9",
   "metadata": {},
   "outputs": [
    {
     "name": "stdout",
     "output_type": "stream",
     "text": [
      "Running polynomial regression of degree 1 \n",
      "\n",
      "After 0 steps the cost is 35.59427207637232\n",
      "After 999 steps the cost is 0.11825746710377445\n",
      "\n",
      "Final cost is 0.11822106523639256\n",
      "\n",
      "Accuracy of training set is: 0.9737470167064439\n",
      "Accuracy of validation set is: 0.9785714285714285\n",
      "Accuracy of test set is: 0.9375\n"
     ]
    }
   ],
   "source": [
    "degree = 1\n",
    "\n",
    "v, costs = fit(X_train, y_train, epsilon = 1e-5, lambda_ = 0, max_iters = 1000, poly_terms = degree)\n",
    "\n",
    "print(f'Accuracy of training set is: {accuracy(add_poly_terms(X_train, degree),v,y_train)}')\n",
    "print(f'Accuracy of validation set is: {accuracy(add_poly_terms(X_val, degree),v,y_val)}')\n",
    "print(f'Accuracy of test set is: {accuracy(add_poly_terms(X_test, degree),v,y_test)}')"
   ]
  },
  {
   "cell_type": "code",
   "execution_count": null,
   "id": "5cd02764",
   "metadata": {},
   "outputs": [],
   "source": []
  }
 ],
 "metadata": {
  "kernelspec": {
   "display_name": "Python [conda env:root] *",
   "language": "python",
   "name": "conda-root-py"
  },
  "language_info": {
   "codemirror_mode": {
    "name": "ipython",
    "version": 3
   },
   "file_extension": ".py",
   "mimetype": "text/x-python",
   "name": "python",
   "nbconvert_exporter": "python",
   "pygments_lexer": "ipython3",
   "version": "3.9.12"
  }
 },
 "nbformat": 4,
 "nbformat_minor": 5
}

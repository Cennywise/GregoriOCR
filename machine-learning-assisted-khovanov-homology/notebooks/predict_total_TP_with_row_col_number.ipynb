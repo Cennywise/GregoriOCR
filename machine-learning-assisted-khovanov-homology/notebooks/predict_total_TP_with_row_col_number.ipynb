{
 "cells": [
  {
   "cell_type": "code",
   "execution_count": 1,
   "id": "564bc555",
   "metadata": {
    "ExecuteTime": {
     "end_time": "2022-12-04T21:14:20.129577Z",
     "start_time": "2022-12-04T21:14:18.923939Z"
    }
   },
   "outputs": [],
   "source": [
    "import numpy as np\n",
    "import pandas as pd\n",
    "from numpy import linalg as LA\n",
    "import os\n",
    "from sklearn.model_selection import train_test_split"
   ]
  },
  {
   "cell_type": "markdown",
   "id": "c1f9ae6b",
   "metadata": {},
   "source": [
    "Run this cell to check your current working directory. It should return the top folder \"machine-learning-assisted-khovanov-homology\""
   ]
  },
  {
   "cell_type": "code",
   "execution_count": 2,
   "id": "1d60a6c0",
   "metadata": {
    "ExecuteTime": {
     "end_time": "2022-12-04T21:14:21.689319Z",
     "start_time": "2022-12-04T21:14:21.679856Z"
    }
   },
   "outputs": [
    {
     "data": {
      "text/plain": [
       "'/Users/guoyihan/Documents/GitHub/MAT_180_ML_Projects/machine-learning-assisted-khovanov-homology/notebooks'"
      ]
     },
     "execution_count": 2,
     "metadata": {},
     "output_type": "execute_result"
    }
   ],
   "source": [
    "os.getcwd()"
   ]
  },
  {
   "cell_type": "code",
   "execution_count": 3,
   "id": "bcf0e42b",
   "metadata": {
    "ExecuteTime": {
     "end_time": "2022-12-04T21:14:20.761194Z",
     "start_time": "2022-12-04T21:14:20.757567Z"
    }
   },
   "outputs": [],
   "source": [
    "os.chdir(\"..\")"
   ]
  },
  {
   "cell_type": "code",
   "execution_count": 4,
   "id": "6358739e",
   "metadata": {
    "ExecuteTime": {
     "end_time": "2022-12-04T21:14:23.748492Z",
     "start_time": "2022-12-04T21:14:23.439996Z"
    }
   },
   "outputs": [],
   "source": [
    "knot_9 = pd.read_csv(\"data/10000_9_cleaned.csv\")"
   ]
  },
  {
   "cell_type": "code",
   "execution_count": 5,
   "id": "dfc8e629",
   "metadata": {
    "ExecuteTime": {
     "end_time": "2022-12-04T21:14:24.688644Z",
     "start_time": "2022-12-04T21:14:24.606782Z"
    }
   },
   "outputs": [
    {
     "data": {
      "text/html": [
       "<div>\n",
       "<style scoped>\n",
       "    .dataframe tbody tr th:only-of-type {\n",
       "        vertical-align: middle;\n",
       "    }\n",
       "\n",
       "    .dataframe tbody tr th {\n",
       "        vertical-align: top;\n",
       "    }\n",
       "\n",
       "    .dataframe thead th {\n",
       "        text-align: right;\n",
       "    }\n",
       "</style>\n",
       "<table border=\"1\" class=\"dataframe\">\n",
       "  <thead>\n",
       "    <tr style=\"text-align: right;\">\n",
       "      <th></th>\n",
       "      <th>braid</th>\n",
       "      <th>free_part</th>\n",
       "      <th>torsion_part</th>\n",
       "      <th>total_num_FP</th>\n",
       "      <th>total_num_TP</th>\n",
       "      <th>total_num_FP_per_row</th>\n",
       "      <th>total_num_FP_per_column</th>\n",
       "    </tr>\n",
       "  </thead>\n",
       "  <tbody>\n",
       "    <tr>\n",
       "      <th>0</th>\n",
       "      <td>[1, -3, 2, 3, 2, 2, 1, 2, -1]</td>\n",
       "      <td>{(1, 0): 1, (3, 0): 1, (5, 2): 1, (9, 3): 1}</td>\n",
       "      <td>{(7, 3): {2: 1}}</td>\n",
       "      <td>4</td>\n",
       "      <td>1</td>\n",
       "      <td>{1: 1, 3: 1, 5: 1, 9: 1}</td>\n",
       "      <td>{0: 2, 2: 1, 3: 1}</td>\n",
       "    </tr>\n",
       "    <tr>\n",
       "      <th>1</th>\n",
       "      <td>[-1, -1, 1, -1, 3, -2, -1, 3, -2]</td>\n",
       "      <td>{(-11, -4): 1, (-9, -3): 1, (-7, -3): 1, (-7, ...</td>\n",
       "      <td>{(-9, -3): {2: 1}, (-7, -2): {2: 1}, (-5, -1):...</td>\n",
       "      <td>12</td>\n",
       "      <td>5</td>\n",
       "      <td>{-11: 1, -9: 1, -7: 2, -5: 2, -3: 2, -1: 3, 3: 1}</td>\n",
       "      <td>{-4: 1, -3: 2, -2: 2, -1: 2, 0: 3, 1: 1, 2: 1}</td>\n",
       "    </tr>\n",
       "    <tr>\n",
       "      <th>2</th>\n",
       "      <td>[-2, -1, 1, 1, 2, 1, 1, -3, 1]</td>\n",
       "      <td>{(1, 0): 1, (3, 0): 1, (5, 2): 1, (9, 3): 1}</td>\n",
       "      <td>{(7, 3): {2: 1}}</td>\n",
       "      <td>4</td>\n",
       "      <td>1</td>\n",
       "      <td>{1: 1, 3: 1, 5: 1, 9: 1}</td>\n",
       "      <td>{0: 2, 2: 1, 3: 1}</td>\n",
       "    </tr>\n",
       "    <tr>\n",
       "      <th>3</th>\n",
       "      <td>[-1, 3, -3, -3, 3, 2, -1, -3, 2]</td>\n",
       "      <td>{(-5, -2): 1, (-1, -1): 1, (-1, 0): 1, (1, 0):...</td>\n",
       "      <td>{(-3, -1): {2: 1}, (3, 2): {2: 1}}</td>\n",
       "      <td>6</td>\n",
       "      <td>2</td>\n",
       "      <td>{-5: 1, -1: 2, 1: 2, 5: 1}</td>\n",
       "      <td>{-2: 1, -1: 1, 0: 2, 1: 1, 2: 1}</td>\n",
       "    </tr>\n",
       "    <tr>\n",
       "      <th>4</th>\n",
       "      <td>[3, 1, -1, 1, 2, 3, 2, 2, 2]</td>\n",
       "      <td>{(3, 0): 1, (5, 0): 1, (7, 2): 1, (11, 3): 1, ...</td>\n",
       "      <td>{(9, 3): {2: 1}, (13, 5): {2: 1}}</td>\n",
       "      <td>6</td>\n",
       "      <td>2</td>\n",
       "      <td>{3: 1, 5: 1, 7: 1, 11: 2, 15: 1}</td>\n",
       "      <td>{0: 2, 2: 1, 3: 1, 4: 1, 5: 1}</td>\n",
       "    </tr>\n",
       "    <tr>\n",
       "      <th>...</th>\n",
       "      <td>...</td>\n",
       "      <td>...</td>\n",
       "      <td>...</td>\n",
       "      <td>...</td>\n",
       "      <td>...</td>\n",
       "      <td>...</td>\n",
       "      <td>...</td>\n",
       "    </tr>\n",
       "    <tr>\n",
       "      <th>2426</th>\n",
       "      <td>[3, -1, 3, -2, 1, -2, 2, 3, 1]</td>\n",
       "      <td>{(1, 0): 1, (3, 0): 1, (5, 2): 1, (9, 3): 1}</td>\n",
       "      <td>{(7, 3): {2: 1}}</td>\n",
       "      <td>4</td>\n",
       "      <td>1</td>\n",
       "      <td>{1: 1, 3: 1, 5: 1, 9: 1}</td>\n",
       "      <td>{0: 2, 2: 1, 3: 1}</td>\n",
       "    </tr>\n",
       "    <tr>\n",
       "      <th>2427</th>\n",
       "      <td>[3, -2, 2, 2, 1, 2, 2, 3, 3]</td>\n",
       "      <td>{(3, 0): 1, (5, 0): 1, (7, 2): 2, (11, 3): 2, ...</td>\n",
       "      <td>{(9, 3): {2: 2}, (13, 5): {2: 1}, (15, 6): {2:...</td>\n",
       "      <td>10</td>\n",
       "      <td>4</td>\n",
       "      <td>{3: 1, 5: 1, 7: 2, 11: 3, 13: 1, 15: 1, 17: 1}</td>\n",
       "      <td>{0: 2, 2: 2, 3: 2, 4: 1, 5: 2, 6: 1}</td>\n",
       "    </tr>\n",
       "    <tr>\n",
       "      <th>2428</th>\n",
       "      <td>[-2, -2, -1, -3, -3, 2, -3, -3, 3]</td>\n",
       "      <td>{(-13, -5): 1, (-9, -4): 1, (-9, -3): 1, (-7, ...</td>\n",
       "      <td>{(-11, -4): {2: 1}, (-7, -2): {2: 1}, (-5, -1)...</td>\n",
       "      <td>8</td>\n",
       "      <td>3</td>\n",
       "      <td>{-13: 1, -9: 2, -7: 1, -5: 1, -3: 2, -1: 1}</td>\n",
       "      <td>{-5: 1, -4: 1, -3: 1, -2: 2, -1: 1, 0: 2}</td>\n",
       "    </tr>\n",
       "    <tr>\n",
       "      <th>2429</th>\n",
       "      <td>[1, 3, 1, 3, -2, -1, -3, 2, 2]</td>\n",
       "      <td>{(1, 0): 1, (3, 0): 1, (3, 1): 1, (5, 2): 1, (...</td>\n",
       "      <td>{(5, 2): {2: 1}, (7, 3): {2: 1}, (11, 5): {2: 1}}</td>\n",
       "      <td>8</td>\n",
       "      <td>3</td>\n",
       "      <td>{1: 1, 3: 2, 5: 1, 7: 1, 9: 2, 13: 1}</td>\n",
       "      <td>{0: 2, 1: 1, 2: 2, 3: 1, 4: 1, 5: 1}</td>\n",
       "    </tr>\n",
       "    <tr>\n",
       "      <th>2430</th>\n",
       "      <td>[-2, -1, -2, -2, 2, -3, -1, -1, -2]</td>\n",
       "      <td>{(-15, -5): 1, (-11, -4): 1, (-11, -3): 1, (-7...</td>\n",
       "      <td>{(-13, -4): {2: 1}, (-9, -2): {2: 1}}</td>\n",
       "      <td>6</td>\n",
       "      <td>2</td>\n",
       "      <td>{-15: 1, -11: 2, -7: 1, -5: 1, -3: 1}</td>\n",
       "      <td>{-5: 1, -4: 1, -3: 1, -2: 1, 0: 2}</td>\n",
       "    </tr>\n",
       "  </tbody>\n",
       "</table>\n",
       "<p>2431 rows × 7 columns</p>\n",
       "</div>"
      ],
      "text/plain": [
       "                                    braid  \\\n",
       "0           [1, -3, 2, 3, 2, 2, 1, 2, -1]   \n",
       "1       [-1, -1, 1, -1, 3, -2, -1, 3, -2]   \n",
       "2          [-2, -1, 1, 1, 2, 1, 1, -3, 1]   \n",
       "3        [-1, 3, -3, -3, 3, 2, -1, -3, 2]   \n",
       "4            [3, 1, -1, 1, 2, 3, 2, 2, 2]   \n",
       "...                                   ...   \n",
       "2426       [3, -1, 3, -2, 1, -2, 2, 3, 1]   \n",
       "2427         [3, -2, 2, 2, 1, 2, 2, 3, 3]   \n",
       "2428   [-2, -2, -1, -3, -3, 2, -3, -3, 3]   \n",
       "2429       [1, 3, 1, 3, -2, -1, -3, 2, 2]   \n",
       "2430  [-2, -1, -2, -2, 2, -3, -1, -1, -2]   \n",
       "\n",
       "                                              free_part  \\\n",
       "0          {(1, 0): 1, (3, 0): 1, (5, 2): 1, (9, 3): 1}   \n",
       "1     {(-11, -4): 1, (-9, -3): 1, (-7, -3): 1, (-7, ...   \n",
       "2          {(1, 0): 1, (3, 0): 1, (5, 2): 1, (9, 3): 1}   \n",
       "3     {(-5, -2): 1, (-1, -1): 1, (-1, 0): 1, (1, 0):...   \n",
       "4     {(3, 0): 1, (5, 0): 1, (7, 2): 1, (11, 3): 1, ...   \n",
       "...                                                 ...   \n",
       "2426       {(1, 0): 1, (3, 0): 1, (5, 2): 1, (9, 3): 1}   \n",
       "2427  {(3, 0): 1, (5, 0): 1, (7, 2): 2, (11, 3): 2, ...   \n",
       "2428  {(-13, -5): 1, (-9, -4): 1, (-9, -3): 1, (-7, ...   \n",
       "2429  {(1, 0): 1, (3, 0): 1, (3, 1): 1, (5, 2): 1, (...   \n",
       "2430  {(-15, -5): 1, (-11, -4): 1, (-11, -3): 1, (-7...   \n",
       "\n",
       "                                           torsion_part  total_num_FP  \\\n",
       "0                                      {(7, 3): {2: 1}}             4   \n",
       "1     {(-9, -3): {2: 1}, (-7, -2): {2: 1}, (-5, -1):...            12   \n",
       "2                                      {(7, 3): {2: 1}}             4   \n",
       "3                    {(-3, -1): {2: 1}, (3, 2): {2: 1}}             6   \n",
       "4                     {(9, 3): {2: 1}, (13, 5): {2: 1}}             6   \n",
       "...                                                 ...           ...   \n",
       "2426                                   {(7, 3): {2: 1}}             4   \n",
       "2427  {(9, 3): {2: 2}, (13, 5): {2: 1}, (15, 6): {2:...            10   \n",
       "2428  {(-11, -4): {2: 1}, (-7, -2): {2: 1}, (-5, -1)...             8   \n",
       "2429  {(5, 2): {2: 1}, (7, 3): {2: 1}, (11, 5): {2: 1}}             8   \n",
       "2430              {(-13, -4): {2: 1}, (-9, -2): {2: 1}}             6   \n",
       "\n",
       "      total_num_TP                               total_num_FP_per_row  \\\n",
       "0                1                           {1: 1, 3: 1, 5: 1, 9: 1}   \n",
       "1                5  {-11: 1, -9: 1, -7: 2, -5: 2, -3: 2, -1: 3, 3: 1}   \n",
       "2                1                           {1: 1, 3: 1, 5: 1, 9: 1}   \n",
       "3                2                         {-5: 1, -1: 2, 1: 2, 5: 1}   \n",
       "4                2                   {3: 1, 5: 1, 7: 1, 11: 2, 15: 1}   \n",
       "...            ...                                                ...   \n",
       "2426             1                           {1: 1, 3: 1, 5: 1, 9: 1}   \n",
       "2427             4     {3: 1, 5: 1, 7: 2, 11: 3, 13: 1, 15: 1, 17: 1}   \n",
       "2428             3        {-13: 1, -9: 2, -7: 1, -5: 1, -3: 2, -1: 1}   \n",
       "2429             3              {1: 1, 3: 2, 5: 1, 7: 1, 9: 2, 13: 1}   \n",
       "2430             2              {-15: 1, -11: 2, -7: 1, -5: 1, -3: 1}   \n",
       "\n",
       "                             total_num_FP_per_column  \n",
       "0                                 {0: 2, 2: 1, 3: 1}  \n",
       "1     {-4: 1, -3: 2, -2: 2, -1: 2, 0: 3, 1: 1, 2: 1}  \n",
       "2                                 {0: 2, 2: 1, 3: 1}  \n",
       "3                   {-2: 1, -1: 1, 0: 2, 1: 1, 2: 1}  \n",
       "4                     {0: 2, 2: 1, 3: 1, 4: 1, 5: 1}  \n",
       "...                                              ...  \n",
       "2426                              {0: 2, 2: 1, 3: 1}  \n",
       "2427            {0: 2, 2: 2, 3: 2, 4: 1, 5: 2, 6: 1}  \n",
       "2428       {-5: 1, -4: 1, -3: 1, -2: 2, -1: 1, 0: 2}  \n",
       "2429            {0: 2, 1: 1, 2: 2, 3: 1, 4: 1, 5: 1}  \n",
       "2430              {-5: 1, -4: 1, -3: 1, -2: 1, 0: 2}  \n",
       "\n",
       "[2431 rows x 7 columns]"
      ]
     },
     "execution_count": 5,
     "metadata": {},
     "output_type": "execute_result"
    }
   ],
   "source": [
    "knot_9"
   ]
  },
  {
   "cell_type": "code",
   "execution_count": 6,
   "id": "98d6c25b",
   "metadata": {},
   "outputs": [],
   "source": [
    "df_50000_9 = pd.read_csv(\"data/50000_9_dataset_new.csv\")"
   ]
  },
  {
   "cell_type": "code",
   "execution_count": 7,
   "id": "27ff59f7",
   "metadata": {},
   "outputs": [],
   "source": [
    "for i in range(len(df_50000_9.torsion_part_count)):\n",
    "    if df_50000_9.torsion_part_count[i] == 0:\n",
    "        df_50000_9 = df_50000_9.drop(index = i)"
   ]
  },
  {
   "cell_type": "code",
   "execution_count": 8,
   "id": "1d7144f7",
   "metadata": {},
   "outputs": [
    {
     "data": {
      "text/html": [
       "<div>\n",
       "<style scoped>\n",
       "    .dataframe tbody tr th:only-of-type {\n",
       "        vertical-align: middle;\n",
       "    }\n",
       "\n",
       "    .dataframe tbody tr th {\n",
       "        vertical-align: top;\n",
       "    }\n",
       "\n",
       "    .dataframe thead th {\n",
       "        text-align: right;\n",
       "    }\n",
       "</style>\n",
       "<table border=\"1\" class=\"dataframe\">\n",
       "  <thead>\n",
       "    <tr style=\"text-align: right;\">\n",
       "      <th></th>\n",
       "      <th>Unnamed: 0</th>\n",
       "      <th>braid</th>\n",
       "      <th>khovanov_homology</th>\n",
       "      <th>free_part</th>\n",
       "      <th>torsion_part</th>\n",
       "      <th>free_part_count</th>\n",
       "      <th>torsion_part_count</th>\n",
       "      <th>total_num_FP_per_row</th>\n",
       "      <th>total_num_FP_per_column</th>\n",
       "    </tr>\n",
       "  </thead>\n",
       "  <tbody>\n",
       "    <tr>\n",
       "      <th>3</th>\n",
       "      <td>3</td>\n",
       "      <td>[-1, -1, -2, 2, -1, 2, -2, -1, -1]</td>\n",
       "      <td>{-15: {-5: Z}, -13: {-5: 0, -4: C2}, -11: {-5:...</td>\n",
       "      <td>{(-15, -5): 1, (-11, -4): 1, (-11, -3): 1, (-7...</td>\n",
       "      <td>{(-13, -4): {2: 1}, (-9, -2): {2: 1}}</td>\n",
       "      <td>6</td>\n",
       "      <td>2</td>\n",
       "      <td>{-15: 1, -11: 2, -7: 1, -5: 1, -3: 1}</td>\n",
       "      <td>{-5: 1, -4: 1, -3: 1, -2: 1, 0: 2}</td>\n",
       "    </tr>\n",
       "    <tr>\n",
       "      <th>7</th>\n",
       "      <td>7</td>\n",
       "      <td>[1, 1, 3, 3, 2, 3, 3, -3, 1]</td>\n",
       "      <td>{3: {0: Z}, 5: {0: Z, 1: 0, 2: 0, 3: 0}, 7: {0...</td>\n",
       "      <td>{(3, 0): 1, (5, 0): 1, (7, 2): 2, (11, 3): 2, ...</td>\n",
       "      <td>{(9, 3): {2: 2}, (13, 5): {2: 1}, (15, 6): {2:...</td>\n",
       "      <td>10</td>\n",
       "      <td>4</td>\n",
       "      <td>{3: 1, 5: 1, 7: 2, 11: 3, 13: 1, 15: 1, 17: 1}</td>\n",
       "      <td>{0: 2, 2: 2, 3: 2, 4: 1, 5: 2, 6: 1}</td>\n",
       "    </tr>\n",
       "    <tr>\n",
       "      <th>8</th>\n",
       "      <td>8</td>\n",
       "      <td>[-3, -1, -1, 1, -2, 1, -3, -1, -3]</td>\n",
       "      <td>{-15: {-6: 0, -5: 0, -4: 0}, -13: {-6: 0, -5: ...</td>\n",
       "      <td>{(-9, -3): 1, (-5, -2): 1, (-3, 0): 1, (-1, 0)...</td>\n",
       "      <td>{(-7, -2): {2: 1}}</td>\n",
       "      <td>4</td>\n",
       "      <td>1</td>\n",
       "      <td>{-9: 1, -5: 1, -3: 1, -1: 1}</td>\n",
       "      <td>{-3: 1, -2: 1, 0: 2}</td>\n",
       "    </tr>\n",
       "    <tr>\n",
       "      <th>10</th>\n",
       "      <td>10</td>\n",
       "      <td>[-3, -3, 1, 2, 2, 2, -3, 3, -3]</td>\n",
       "      <td>{-7: {-3: Z}, -5: {-3: 0, -2: C2, -1: 0, 0: 0}...</td>\n",
       "      <td>{(-7, -3): 1, (-3, -2): 1, (-3, -1): 1, (-1, 0...</td>\n",
       "      <td>{(-5, -2): {2: 1}, (-1, 0): {2: 1}, (1, 1): {2...</td>\n",
       "      <td>10</td>\n",
       "      <td>4</td>\n",
       "      <td>{-7: 1, -3: 2, -1: 2, 1: 2, 3: 2, 7: 1}</td>\n",
       "      <td>{-3: 1, -2: 1, -1: 1, 0: 4, 1: 1, 2: 1, 3: 1}</td>\n",
       "    </tr>\n",
       "    <tr>\n",
       "      <th>14</th>\n",
       "      <td>14</td>\n",
       "      <td>[-1, -3, 2, 3, -1, -1, 1, -2, -1]</td>\n",
       "      <td>{-11: {-5: 0, -4: 0, -3: 0}, -9: {-5: 0, -4: 0...</td>\n",
       "      <td>{(-9, -3): 1, (-5, -2): 1, (-3, 0): 1, (-1, 0)...</td>\n",
       "      <td>{(-7, -2): {2: 1}}</td>\n",
       "      <td>4</td>\n",
       "      <td>1</td>\n",
       "      <td>{-9: 1, -5: 1, -3: 1, -1: 1}</td>\n",
       "      <td>{-3: 1, -2: 1, 0: 2}</td>\n",
       "    </tr>\n",
       "    <tr>\n",
       "      <th>...</th>\n",
       "      <td>...</td>\n",
       "      <td>...</td>\n",
       "      <td>...</td>\n",
       "      <td>...</td>\n",
       "      <td>...</td>\n",
       "      <td>...</td>\n",
       "      <td>...</td>\n",
       "      <td>...</td>\n",
       "      <td>...</td>\n",
       "    </tr>\n",
       "    <tr>\n",
       "      <th>1286</th>\n",
       "      <td>1286</td>\n",
       "      <td>[1, 1, 1, 3, -2, -3, 1, -2, 1]</td>\n",
       "      <td>{-3: {-3: 0, -2: 0}, -1: {-3: 0, -2: 0, -1: 0,...</td>\n",
       "      <td>{(3, 0): 1, (5, 0): 1, (7, 2): 1, (11, 3): 1, ...</td>\n",
       "      <td>{(9, 3): {2: 1}, (13, 5): {2: 1}}</td>\n",
       "      <td>6</td>\n",
       "      <td>2</td>\n",
       "      <td>{3: 1, 5: 1, 7: 1, 11: 2, 15: 1}</td>\n",
       "      <td>{0: 2, 2: 1, 3: 1, 4: 1, 5: 1}</td>\n",
       "    </tr>\n",
       "    <tr>\n",
       "      <th>1287</th>\n",
       "      <td>1287</td>\n",
       "      <td>[-2, 1, -3, 2, 2, 2, 1, 1, -2]</td>\n",
       "      <td>{-3: {-3: 0, -2: 0, -1: 0, 0: 0, 1: 0}, -1: {-...</td>\n",
       "      <td>{(1, 0): 2, (3, 0): 1, (3, 1): 1, (5, 1): 1, (...</td>\n",
       "      <td>{(3, 1): {2: 1}, (5, 2): {2: 1}, (7, 3): {2: 2...</td>\n",
       "      <td>16</td>\n",
       "      <td>7</td>\n",
       "      <td>{1: 2, 3: 2, 5: 3, 7: 2, 9: 3, 11: 2, 13: 1, 1...</td>\n",
       "      <td>{0: 3, 1: 2, 2: 3, 3: 3, 4: 2, 5: 2, 6: 1}</td>\n",
       "    </tr>\n",
       "    <tr>\n",
       "      <th>1288</th>\n",
       "      <td>1288</td>\n",
       "      <td>[-2, 1, 1, -2, 1, 3, 2, 3, -2]</td>\n",
       "      <td>{-5: {-3: 0, -2: 0}, -3: {-3: 0, -2: 0, -1: 0,...</td>\n",
       "      <td>{(1, 0): 1, (3, 0): 1, (5, 2): 1, (9, 3): 1}</td>\n",
       "      <td>{(7, 3): {2: 1}}</td>\n",
       "      <td>4</td>\n",
       "      <td>1</td>\n",
       "      <td>{1: 1, 3: 1, 5: 1, 9: 1}</td>\n",
       "      <td>{0: 2, 2: 1, 3: 1}</td>\n",
       "    </tr>\n",
       "    <tr>\n",
       "      <th>1289</th>\n",
       "      <td>1289</td>\n",
       "      <td>[-2, -2, -1, -3, -2, -2, -1, -2, -1]</td>\n",
       "      <td>{-21: {-9: 0, -8: 0, -7: 0, -6: 0, -5: 0}, -19...</td>\n",
       "      <td>{(-17, -5): 1, (-15, -5): 1, (-13, -4): 1, (-1...</td>\n",
       "      <td>{(-11, -2): {2: 1}}</td>\n",
       "      <td>8</td>\n",
       "      <td>1</td>\n",
       "      <td>{-17: 1, -15: 1, -13: 2, -11: 1, -9: 1, -7: 1,...</td>\n",
       "      <td>{-5: 2, -4: 2, -3: 1, -2: 1, 0: 2}</td>\n",
       "    </tr>\n",
       "    <tr>\n",
       "      <th>1290</th>\n",
       "      <td>1290</td>\n",
       "      <td>[2, -1, 2, 2, 2, -1, 2, 2, -3]</td>\n",
       "      <td>{-3: {-3: 0, -2: 0}, -1: {-3: 0, -2: Z, -1: 0,...</td>\n",
       "      <td>{(-1, -2): 1, (3, -1): 1, (3, 0): 3, (5, 0): 1...</td>\n",
       "      <td>{(1, -1): {2: 1}, (5, 1): {2: 2}, (7, 2): {2: ...</td>\n",
       "      <td>22</td>\n",
       "      <td>10</td>\n",
       "      <td>{-1: 1, 3: 4, 5: 2, 7: 4, 9: 3, 11: 3, 13: 3, ...</td>\n",
       "      <td>{-2: 1, -1: 1, 0: 4, 1: 3, 2: 3, 3: 4, 4: 3, 5...</td>\n",
       "    </tr>\n",
       "  </tbody>\n",
       "</table>\n",
       "<p>1081 rows × 9 columns</p>\n",
       "</div>"
      ],
      "text/plain": [
       "      Unnamed: 0                                 braid  \\\n",
       "3              3    [-1, -1, -2, 2, -1, 2, -2, -1, -1]   \n",
       "7              7          [1, 1, 3, 3, 2, 3, 3, -3, 1]   \n",
       "8              8    [-3, -1, -1, 1, -2, 1, -3, -1, -3]   \n",
       "10            10       [-3, -3, 1, 2, 2, 2, -3, 3, -3]   \n",
       "14            14     [-1, -3, 2, 3, -1, -1, 1, -2, -1]   \n",
       "...          ...                                   ...   \n",
       "1286        1286        [1, 1, 1, 3, -2, -3, 1, -2, 1]   \n",
       "1287        1287        [-2, 1, -3, 2, 2, 2, 1, 1, -2]   \n",
       "1288        1288        [-2, 1, 1, -2, 1, 3, 2, 3, -2]   \n",
       "1289        1289  [-2, -2, -1, -3, -2, -2, -1, -2, -1]   \n",
       "1290        1290        [2, -1, 2, 2, 2, -1, 2, 2, -3]   \n",
       "\n",
       "                                      khovanov_homology  \\\n",
       "3     {-15: {-5: Z}, -13: {-5: 0, -4: C2}, -11: {-5:...   \n",
       "7     {3: {0: Z}, 5: {0: Z, 1: 0, 2: 0, 3: 0}, 7: {0...   \n",
       "8     {-15: {-6: 0, -5: 0, -4: 0}, -13: {-6: 0, -5: ...   \n",
       "10    {-7: {-3: Z}, -5: {-3: 0, -2: C2, -1: 0, 0: 0}...   \n",
       "14    {-11: {-5: 0, -4: 0, -3: 0}, -9: {-5: 0, -4: 0...   \n",
       "...                                                 ...   \n",
       "1286  {-3: {-3: 0, -2: 0}, -1: {-3: 0, -2: 0, -1: 0,...   \n",
       "1287  {-3: {-3: 0, -2: 0, -1: 0, 0: 0, 1: 0}, -1: {-...   \n",
       "1288  {-5: {-3: 0, -2: 0}, -3: {-3: 0, -2: 0, -1: 0,...   \n",
       "1289  {-21: {-9: 0, -8: 0, -7: 0, -6: 0, -5: 0}, -19...   \n",
       "1290  {-3: {-3: 0, -2: 0}, -1: {-3: 0, -2: Z, -1: 0,...   \n",
       "\n",
       "                                              free_part  \\\n",
       "3     {(-15, -5): 1, (-11, -4): 1, (-11, -3): 1, (-7...   \n",
       "7     {(3, 0): 1, (5, 0): 1, (7, 2): 2, (11, 3): 2, ...   \n",
       "8     {(-9, -3): 1, (-5, -2): 1, (-3, 0): 1, (-1, 0)...   \n",
       "10    {(-7, -3): 1, (-3, -2): 1, (-3, -1): 1, (-1, 0...   \n",
       "14    {(-9, -3): 1, (-5, -2): 1, (-3, 0): 1, (-1, 0)...   \n",
       "...                                                 ...   \n",
       "1286  {(3, 0): 1, (5, 0): 1, (7, 2): 1, (11, 3): 1, ...   \n",
       "1287  {(1, 0): 2, (3, 0): 1, (3, 1): 1, (5, 1): 1, (...   \n",
       "1288       {(1, 0): 1, (3, 0): 1, (5, 2): 1, (9, 3): 1}   \n",
       "1289  {(-17, -5): 1, (-15, -5): 1, (-13, -4): 1, (-1...   \n",
       "1290  {(-1, -2): 1, (3, -1): 1, (3, 0): 3, (5, 0): 1...   \n",
       "\n",
       "                                           torsion_part  free_part_count  \\\n",
       "3                 {(-13, -4): {2: 1}, (-9, -2): {2: 1}}                6   \n",
       "7     {(9, 3): {2: 2}, (13, 5): {2: 1}, (15, 6): {2:...               10   \n",
       "8                                    {(-7, -2): {2: 1}}                4   \n",
       "10    {(-5, -2): {2: 1}, (-1, 0): {2: 1}, (1, 1): {2...               10   \n",
       "14                                   {(-7, -2): {2: 1}}                4   \n",
       "...                                                 ...              ...   \n",
       "1286                  {(9, 3): {2: 1}, (13, 5): {2: 1}}                6   \n",
       "1287  {(3, 1): {2: 1}, (5, 2): {2: 1}, (7, 3): {2: 2...               16   \n",
       "1288                                   {(7, 3): {2: 1}}                4   \n",
       "1289                                {(-11, -2): {2: 1}}                8   \n",
       "1290  {(1, -1): {2: 1}, (5, 1): {2: 2}, (7, 2): {2: ...               22   \n",
       "\n",
       "      torsion_part_count                               total_num_FP_per_row  \\\n",
       "3                      2              {-15: 1, -11: 2, -7: 1, -5: 1, -3: 1}   \n",
       "7                      4     {3: 1, 5: 1, 7: 2, 11: 3, 13: 1, 15: 1, 17: 1}   \n",
       "8                      1                       {-9: 1, -5: 1, -3: 1, -1: 1}   \n",
       "10                     4            {-7: 1, -3: 2, -1: 2, 1: 2, 3: 2, 7: 1}   \n",
       "14                     1                       {-9: 1, -5: 1, -3: 1, -1: 1}   \n",
       "...                  ...                                                ...   \n",
       "1286                   2                   {3: 1, 5: 1, 7: 1, 11: 2, 15: 1}   \n",
       "1287                   7  {1: 2, 3: 2, 5: 3, 7: 2, 9: 3, 11: 2, 13: 1, 1...   \n",
       "1288                   1                           {1: 1, 3: 1, 5: 1, 9: 1}   \n",
       "1289                   1  {-17: 1, -15: 1, -13: 2, -11: 1, -9: 1, -7: 1,...   \n",
       "1290                  10  {-1: 1, 3: 4, 5: 2, 7: 4, 9: 3, 11: 3, 13: 3, ...   \n",
       "\n",
       "                                total_num_FP_per_column  \n",
       "3                    {-5: 1, -4: 1, -3: 1, -2: 1, 0: 2}  \n",
       "7                  {0: 2, 2: 2, 3: 2, 4: 1, 5: 2, 6: 1}  \n",
       "8                                  {-3: 1, -2: 1, 0: 2}  \n",
       "10        {-3: 1, -2: 1, -1: 1, 0: 4, 1: 1, 2: 1, 3: 1}  \n",
       "14                                 {-3: 1, -2: 1, 0: 2}  \n",
       "...                                                 ...  \n",
       "1286                     {0: 2, 2: 1, 3: 1, 4: 1, 5: 1}  \n",
       "1287         {0: 3, 1: 2, 2: 3, 3: 3, 4: 2, 5: 2, 6: 1}  \n",
       "1288                                 {0: 2, 2: 1, 3: 1}  \n",
       "1289                 {-5: 2, -4: 2, -3: 1, -2: 1, 0: 2}  \n",
       "1290  {-2: 1, -1: 1, 0: 4, 1: 3, 2: 3, 3: 4, 4: 3, 5...  \n",
       "\n",
       "[1081 rows x 9 columns]"
      ]
     },
     "execution_count": 8,
     "metadata": {},
     "output_type": "execute_result"
    }
   ],
   "source": [
    "df_50000_9"
   ]
  },
  {
   "cell_type": "code",
   "execution_count": 9,
   "id": "b62dbdb6",
   "metadata": {},
   "outputs": [],
   "source": [
    "df_50000_9.to_csv('50000_9_clean.csv')"
   ]
  },
  {
   "cell_type": "markdown",
   "id": "355407a1",
   "metadata": {},
   "source": [
    "# Compute Maximum and Minimum of column and row"
   ]
  },
  {
   "cell_type": "code",
   "execution_count": 10,
   "id": "3881aa08",
   "metadata": {},
   "outputs": [
    {
     "data": {
      "text/plain": [
       "(23, -23)"
      ]
     },
     "execution_count": 10,
     "metadata": {},
     "output_type": "execute_result"
    }
   ],
   "source": [
    "find_max_row = float('-inf')\n",
    "find_min_row = float('inf')\n",
    "for index, row in knot_9.iterrows():\n",
    "    #print(a_row.free_part)\n",
    "    for key in eval(row.free_part):\n",
    "        #print(a_key[0])\n",
    "        if key[0] < find_min_row:\n",
    "            find_min_row = key[0]\n",
    "        if key[0] > find_max_row:\n",
    "            find_max_row = key[0]\n",
    "\n",
    "find_max_row, find_min_row"
   ]
  },
  {
   "cell_type": "code",
   "execution_count": 11,
   "id": "3e79e792",
   "metadata": {},
   "outputs": [
    {
     "data": {
      "text/plain": [
       "(8, -8)"
      ]
     },
     "execution_count": 11,
     "metadata": {},
     "output_type": "execute_result"
    }
   ],
   "source": [
    "find_max_column = float('-inf')\n",
    "find_min_column = float('inf')\n",
    "for index, row in knot_9.iterrows():\n",
    "    #print(a_row.free_part)\n",
    "    for key in eval(row.free_part):\n",
    "       #print(a_key[0])\n",
    "        if key[1] < find_min_column:\n",
    "            find_min_column = key[1]\n",
    "        if key[1] > find_max_column:\n",
    "            find_max_column = key[1]\n",
    "\n",
    "find_max_column, find_min_column"
   ]
  },
  {
   "cell_type": "code",
   "execution_count": 12,
   "id": "d399afb0",
   "metadata": {},
   "outputs": [
    {
     "data": {
      "text/plain": [
       "(25, -25)"
      ]
     },
     "execution_count": 12,
     "metadata": {},
     "output_type": "execute_result"
    }
   ],
   "source": [
    "find_max_row = float('-inf')\n",
    "find_min_row = float('inf')\n",
    "for index, row in df_50000_9.iterrows():\n",
    "    #print(a_row.free_part)\n",
    "    for key in eval(row.free_part):\n",
    "        #print(a_key[0])\n",
    "        if key[0] < find_min_row:\n",
    "            find_min_row = key[0]\n",
    "        if key[0] > find_max_row:\n",
    "            find_max_row = key[0]\n",
    "\n",
    "find_max_row, find_min_row"
   ]
  },
  {
   "cell_type": "code",
   "execution_count": 13,
   "id": "dea7fee2",
   "metadata": {},
   "outputs": [
    {
     "data": {
      "text/plain": [
       "(9, -9)"
      ]
     },
     "execution_count": 13,
     "metadata": {},
     "output_type": "execute_result"
    }
   ],
   "source": [
    "find_max_column = float('-inf')\n",
    "find_min_column = float('inf')\n",
    "for index, row in df_50000_9.iterrows():\n",
    "    #print(a_row.free_part)\n",
    "    for key in eval(row.free_part):\n",
    "       #print(a_key[0])\n",
    "        if key[1] < find_min_column:\n",
    "            find_min_column = key[1]\n",
    "        if key[1] > find_max_column:\n",
    "            find_max_column = key[1]\n",
    "\n",
    "find_max_column, find_min_column"
   ]
  },
  {
   "cell_type": "code",
   "execution_count": 14,
   "id": "f41df6c3",
   "metadata": {},
   "outputs": [],
   "source": [
    "from scripts.polynomial import add_poly_terms\n",
    "from scripts.GDLinearReg import J, DJ, GD_linreg_improved"
   ]
  },
  {
   "cell_type": "code",
   "execution_count": 15,
   "id": "a03d0e32",
   "metadata": {
    "ExecuteTime": {
     "end_time": "2022-12-04T21:15:19.242122Z",
     "start_time": "2022-12-04T21:15:19.237201Z"
    }
   },
   "outputs": [],
   "source": [
    "def prediction(x,v):\n",
    "    return round((x@v)[0])\n",
    "\n",
    "def accuracy(X,v,y):\n",
    "    count = 0\n",
    "    for i,x in enumerate(X):\n",
    "        if prediction(x,v) == y[i][0]:\n",
    "            count += 1\n",
    "    return count / len(X)"
   ]
  },
  {
   "cell_type": "code",
   "execution_count": 16,
   "id": "233ff36a",
   "metadata": {},
   "outputs": [],
   "source": [
    "def fit(X, y, epsilon, lambda_, max_iters = 10000, poly_terms = 1):\n",
    "    print(f'Running polynomial regression of degree {poly_terms} \\n')\n",
    "    \n",
    "    v, costs =  GD_linreg_improved(add_poly_terms(X, poly_terms), y, epsilon, lambda_, max_iters) \n",
    "    \n",
    "    print(f'\\nFinal cost is {costs[-1]}\\n')\n",
    "    return v, costs"
   ]
  },
  {
   "cell_type": "markdown",
   "id": "e899f8c0",
   "metadata": {},
   "source": [
    "#  Test Accuracy with Number of FP Each Row"
   ]
  },
  {
   "cell_type": "code",
   "execution_count": 17,
   "id": "f211a751",
   "metadata": {
    "ExecuteTime": {
     "end_time": "2022-12-04T21:15:20.857870Z",
     "start_time": "2022-12-04T21:15:20.610562Z"
    }
   },
   "outputs": [],
   "source": [
    "ev = np.vectorize(eval)\n",
    "row_FP = ev(knot_9[\"total_num_FP_per_row\"])"
   ]
  },
  {
   "cell_type": "code",
   "execution_count": 18,
   "id": "33d520cd",
   "metadata": {
    "ExecuteTime": {
     "end_time": "2022-12-04T21:15:21.778147Z",
     "start_time": "2022-12-04T21:15:21.773194Z"
    }
   },
   "outputs": [],
   "source": [
    "def gen_matrix_row(row_FP,row):\n",
    "    row = len(row_FP)\n",
    "    a = np.empty([row,row])\n",
    "    for i in range(len(row_FP)):\n",
    "        for key in row_FP[i].keys():\n",
    "            a[i,key] =  row_FP[i][key]\n",
    "        if key == \"\":\n",
    "            a[i,key] = 0\n",
    "    return a"
   ]
  },
  {
   "cell_type": "code",
   "execution_count": 19,
   "id": "34a82916",
   "metadata": {
    "ExecuteTime": {
     "end_time": "2022-12-04T21:15:22.939378Z",
     "start_time": "2022-12-04T21:15:22.920026Z"
    }
   },
   "outputs": [],
   "source": [
    "X_row = gen_matrix_row(row_FP,47)\n",
    "y = np.array(knot_9['total_num_TP']).reshape(-1,1)"
   ]
  },
  {
   "cell_type": "code",
   "execution_count": 20,
   "id": "6041a18b",
   "metadata": {
    "ExecuteTime": {
     "end_time": "2022-12-04T21:15:23.744108Z",
     "start_time": "2022-12-04T21:15:23.739892Z"
    }
   },
   "outputs": [],
   "source": [
    "X_train, X_test, y_train, y_test = train_test_split(X_row, y, test_size=0.2, random_state=1)\n",
    "X_train, X_val, y_train, y_val = train_test_split(X_train, y_train, test_size=0.25, random_state=1)"
   ]
  },
  {
   "cell_type": "code",
   "execution_count": 22,
   "id": "f63a8fd6",
   "metadata": {
    "ExecuteTime": {
     "end_time": "2022-12-04T21:15:28.772633Z",
     "start_time": "2022-12-04T21:15:28.769204Z"
    }
   },
   "outputs": [
    {
     "name": "stdout",
     "output_type": "stream",
     "text": [
      "Running polynomial regression of degree 1 \n",
      "\n",
      "After 0 steps the cost is 11.844307270233198\n",
      "After 999 steps the cost is 0.011245659837291718\n",
      "\n",
      "Final cost is 0.01124296837548885\n",
      "\n",
      "Accuracy of training set is: 0.9958847736625515\n",
      "Accuracy of validation set is: 0.9917695473251029\n",
      "Accuracy of test set is: 0.9958932238193019\n"
     ]
    }
   ],
   "source": [
    "degree = 1\n",
    "\n",
    "v, costs = fit(X_train, y_train, epsilon = 1e-10, lambda_ = 0, max_iters = 1000, poly_terms = degree)\n",
    "\n",
    "print(f'Accuracy of training set is: {accuracy(add_poly_terms(X_train, degree),v,y_train)}')\n",
    "print(f'Accuracy of validation set is: {accuracy(add_poly_terms(X_val, degree),v,y_val)}')\n",
    "print(f'Accuracy of test set is: {accuracy(add_poly_terms(X_test, degree),v,y_test)}')"
   ]
  },
  {
   "cell_type": "code",
   "execution_count": null,
   "id": "ce9816d8",
   "metadata": {},
   "outputs": [],
   "source": [
    "#test with dataset has 1 component link\n",
    "row_FP = ev(df_50000_9[\"total_num_FP_per_row\"])"
   ]
  },
  {
   "cell_type": "code",
   "execution_count": null,
   "id": "e7285bbc",
   "metadata": {},
   "outputs": [],
   "source": [
    "X_row = gen_matrix_row(row_FP,51)\n",
    "y = np.array(df_50000_9['torsion_part_count']).reshape(-1,1)"
   ]
  },
  {
   "cell_type": "code",
   "execution_count": null,
   "id": "d5fa6ad8",
   "metadata": {},
   "outputs": [],
   "source": [
    "X_train, X_test, y_train, y_test = train_test_split(X_row, y, test_size=0.2, random_state=1)\n",
    "X_train, X_val, y_train, y_val = train_test_split(X_train, y_train, test_size=0.25, random_state=1)"
   ]
  },
  {
   "cell_type": "code",
   "execution_count": null,
   "id": "03895f8a",
   "metadata": {},
   "outputs": [],
   "source": [
    "degree = 1\n",
    "\n",
    "v, costs = fit(X_train, y_train, epsilon = 1e-10, lambda_ = 0, max_iters = 1000, poly_terms = degree)\n",
    "\n",
    "print(f'Accuracy of training set is: {accuracy(add_poly_terms(X_train, degree),v,y_train)}')\n",
    "print(f'Accuracy of validation set is: {accuracy(add_poly_terms(X_val, degree),v,y_val)}')\n",
    "print(f'Accuracy of test set is: {accuracy(add_poly_terms(X_test, degree),v,y_test)}')"
   ]
  },
  {
   "cell_type": "markdown",
   "id": "e06f37fd",
   "metadata": {},
   "source": [
    "# Test with Number of FP of Each Column"
   ]
  },
  {
   "cell_type": "code",
   "execution_count": null,
   "id": "f4f22410",
   "metadata": {
    "ExecuteTime": {
     "end_time": "2022-12-04T21:15:32.658097Z",
     "start_time": "2022-12-04T21:15:32.653121Z"
    }
   },
   "outputs": [],
   "source": [
    "def gen_matrix_col(col_FP,col):\n",
    "    row = len(col_FP)\n",
    "    a = np.empty([row,col])\n",
    "    for i in range(len(col_FP)):\n",
    "        for key in col_FP[i].keys():\n",
    "            a[i,key] =  col_FP[i][key]\n",
    "        if key == \"\":\n",
    "            a[i,key] = 0\n",
    "    return a"
   ]
  },
  {
   "cell_type": "code",
   "execution_count": null,
   "id": "41ec2e68",
   "metadata": {},
   "outputs": [],
   "source": [
    "col_FP = ev(knot_9[\"total_num_FP_per_column\"])"
   ]
  },
  {
   "cell_type": "code",
   "execution_count": null,
   "id": "3379de64",
   "metadata": {
    "ExecuteTime": {
     "end_time": "2022-12-04T21:15:33.631059Z",
     "start_time": "2022-12-04T21:15:33.611701Z"
    }
   },
   "outputs": [],
   "source": [
    "X_col = gen_matrix_col(col_FP,17)\n",
    "X_col[0]"
   ]
  },
  {
   "cell_type": "code",
   "execution_count": null,
   "id": "ce8a24f6",
   "metadata": {},
   "outputs": [],
   "source": [
    "X_train, X_test, y_train, y_test = train_test_split(X_col, y, test_size=0.2, random_state=1)\n",
    "X_train, X_val, y_train, y_val = train_test_split(X_train, y_train, test_size=0.25, random_state=1)"
   ]
  },
  {
   "cell_type": "code",
   "execution_count": null,
   "id": "8e1e8f9c",
   "metadata": {},
   "outputs": [],
   "source": [
    "degree = 1\n",
    "\n",
    "v, costs = fit(X_train, y_train, epsilon = 1e-10, lambda_ = 0, max_iters = 1000, poly_terms = degree)\n",
    "\n",
    "print(f'Accuracy of training set is: {accuracy(add_poly_terms(X_train, degree),v,y_train)}')\n",
    "print(f'Accuracy of validation set is: {accuracy(add_poly_terms(X_val, degree),v,y_val)}')\n",
    "print(f'Accuracy of test set is: {accuracy(add_poly_terms(X_test, degree),v,y_test)}')"
   ]
  },
  {
   "cell_type": "code",
   "execution_count": null,
   "id": "2b5ebf20",
   "metadata": {},
   "outputs": [],
   "source": [
    "#test with dataset has 1-link component\n",
    "col_FP = ev(df_50000_9[\"total_num_FP_per_column\"])"
   ]
  },
  {
   "cell_type": "code",
   "execution_count": null,
   "id": "458eab3b",
   "metadata": {},
   "outputs": [],
   "source": [
    "X_col = gen_matrix_col(col_FP,19)\n",
    "X_col"
   ]
  },
  {
   "cell_type": "code",
   "execution_count": null,
   "id": "f645ec86",
   "metadata": {},
   "outputs": [],
   "source": [
    "X_train, X_test, y_train, y_test = train_test_split(X_col, y, test_size=0.2, random_state=1)\n",
    "X_train, X_val, y_train, y_val = train_test_split(X_train, y_train, test_size=0.25, random_state=1)"
   ]
  },
  {
   "cell_type": "code",
   "execution_count": null,
   "id": "16ed6bcc",
   "metadata": {},
   "outputs": [],
   "source": [
    "degree = 1\n",
    "\n",
    "v, costs = fit(X_train, y_train, epsilon = 1e-10, lambda_ = 0, max_iters = 1000, poly_terms = degree)\n",
    "\n",
    "print(f'Accuracy of training set is: {accuracy(add_poly_terms(X_train, degree),v,y_train)}')\n",
    "print(f'Accuracy of validation set is: {accuracy(add_poly_terms(X_val, degree),v,y_val)}')\n",
    "print(f'Accuracy of test set is: {accuracy(add_poly_terms(X_test, degree),v,y_test)}')"
   ]
  },
  {
   "cell_type": "code",
   "execution_count": null,
   "id": "06e7f912",
   "metadata": {},
   "outputs": [],
   "source": [
    "# we need to test with the dataset that has 2_component link or 3-componet link.\n",
    "#also a dataset combined them together"
   ]
  }
 ],
 "metadata": {
  "kernelspec": {
   "display_name": "Python 3 (ipykernel)",
   "language": "python",
   "name": "python3"
  },
  "language_info": {
   "codemirror_mode": {
    "name": "ipython",
    "version": 3
   },
   "file_extension": ".py",
   "mimetype": "text/x-python",
   "name": "python",
   "nbconvert_exporter": "python",
   "pygments_lexer": "ipython3",
   "version": "3.9.12"
  }
 },
 "nbformat": 4,
 "nbformat_minor": 5
}

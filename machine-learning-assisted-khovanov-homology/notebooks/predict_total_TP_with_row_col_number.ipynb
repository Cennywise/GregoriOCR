{
 "cells": [
  {
   "cell_type": "code",
   "execution_count": 1,
   "id": "564bc555",
   "metadata": {},
   "outputs": [],
   "source": [
    "import numpy as np\n",
    "import pandas as pd\n",
    "from numpy import linalg as LA"
   ]
  },
  {
   "cell_type": "code",
   "execution_count": 2,
   "id": "1d60a6c0",
   "metadata": {},
   "outputs": [
    {
     "data": {
      "text/plain": [
       "'/Users/guoyihan/Downloads'"
      ]
     },
     "execution_count": 2,
     "metadata": {},
     "output_type": "execute_result"
    }
   ],
   "source": [
    "import sys\n",
    "sys.path.append('../')\n",
    "import os\n",
    "os.path.abspath(os.getcwd())"
   ]
  },
  {
   "cell_type": "code",
   "execution_count": 3,
   "id": "6358739e",
   "metadata": {},
   "outputs": [],
   "source": [
    "knot_9 = pd.read_csv(r\"./data/10000_9_parsed.csv\")"
   ]
  },
  {
   "cell_type": "code",
   "execution_count": 4,
   "id": "dfc8e629",
   "metadata": {},
   "outputs": [
    {
     "data": {
      "text/html": [
       "<div>\n",
       "<style scoped>\n",
       "    .dataframe tbody tr th:only-of-type {\n",
       "        vertical-align: middle;\n",
       "    }\n",
       "\n",
       "    .dataframe tbody tr th {\n",
       "        vertical-align: top;\n",
       "    }\n",
       "\n",
       "    .dataframe thead th {\n",
       "        text-align: right;\n",
       "    }\n",
       "</style>\n",
       "<table border=\"1\" class=\"dataframe\">\n",
       "  <thead>\n",
       "    <tr style=\"text-align: right;\">\n",
       "      <th></th>\n",
       "      <th>Unnamed: 0</th>\n",
       "      <th>braid</th>\n",
       "      <th>free_part</th>\n",
       "      <th>torsion_part</th>\n",
       "      <th>total_num_FP</th>\n",
       "      <th>total_num_TP</th>\n",
       "      <th>total_num_FP_per_row</th>\n",
       "      <th>total_num_FP_per_column</th>\n",
       "    </tr>\n",
       "  </thead>\n",
       "  <tbody>\n",
       "    <tr>\n",
       "      <th>0</th>\n",
       "      <td>0</td>\n",
       "      <td>[-2, 2, -3, 3, -2, -2, 1, -3, -3]</td>\n",
       "      <td>{(-11, -4): 1, (-9, -4): 1, (-7, -2): 2, (-5, ...</td>\n",
       "      <td>{}</td>\n",
       "      <td>8</td>\n",
       "      <td>0</td>\n",
       "      <td>{-11: 1, -9: 1, -7: 2, -5: 2, -3: 1, -1: 1}</td>\n",
       "      <td>{-4: 2, -2: 4, 0: 2}</td>\n",
       "    </tr>\n",
       "    <tr>\n",
       "      <th>1</th>\n",
       "      <td>1</td>\n",
       "      <td>[3, -1, -2, 2, -2, -2, -3, 3, -1]</td>\n",
       "      <td>{(-11, -4): 1, (-9, -4): 1, (-7, -2): 2, (-5, ...</td>\n",
       "      <td>{}</td>\n",
       "      <td>8</td>\n",
       "      <td>0</td>\n",
       "      <td>{-11: 1, -9: 1, -7: 2, -5: 2, -3: 1, -1: 1}</td>\n",
       "      <td>{-4: 2, -2: 4, 0: 2}</td>\n",
       "    </tr>\n",
       "    <tr>\n",
       "      <th>2</th>\n",
       "      <td>2</td>\n",
       "      <td>[1, -3, 2, 3, 2, 2, 1, 2, -1]</td>\n",
       "      <td>{(1, 0): 1, (3, 0): 1, (5, 2): 1, (9, 3): 1}</td>\n",
       "      <td>{(7, 3): {2: 1}}</td>\n",
       "      <td>4</td>\n",
       "      <td>1</td>\n",
       "      <td>{1: 1, 3: 1, 5: 1, 9: 1}</td>\n",
       "      <td>{0: 2, 2: 1, 3: 1}</td>\n",
       "    </tr>\n",
       "    <tr>\n",
       "      <th>3</th>\n",
       "      <td>3</td>\n",
       "      <td>[-1, -1, 1, -1, 3, -2, -1, 3, -2]</td>\n",
       "      <td>{(-11, -4): 1, (-9, -3): 1, (-7, -3): 1, (-7, ...</td>\n",
       "      <td>{(-9, -3): {2: 1}, (-7, -2): {2: 1}, (-5, -1):...</td>\n",
       "      <td>12</td>\n",
       "      <td>5</td>\n",
       "      <td>{-11: 1, -9: 1, -7: 2, -5: 2, -3: 2, -1: 3, 3: 1}</td>\n",
       "      <td>{-4: 1, -3: 2, -2: 2, -1: 2, 0: 3, 1: 1, 2: 1}</td>\n",
       "    </tr>\n",
       "    <tr>\n",
       "      <th>4</th>\n",
       "      <td>4</td>\n",
       "      <td>[1, -3, -2, 3, 1, 1, 2, -1, -3]</td>\n",
       "      <td>{(-5, -2): 1, (-3, -2): 1, (-1, 0): 2, (1, 0):...</td>\n",
       "      <td>{}</td>\n",
       "      <td>8</td>\n",
       "      <td>0</td>\n",
       "      <td>{-5: 1, -3: 1, -1: 2, 1: 2, 3: 1, 5: 1}</td>\n",
       "      <td>{-2: 2, 0: 4, 2: 2}</td>\n",
       "    </tr>\n",
       "    <tr>\n",
       "      <th>...</th>\n",
       "      <td>...</td>\n",
       "      <td>...</td>\n",
       "      <td>...</td>\n",
       "      <td>...</td>\n",
       "      <td>...</td>\n",
       "      <td>...</td>\n",
       "      <td>...</td>\n",
       "      <td>...</td>\n",
       "    </tr>\n",
       "    <tr>\n",
       "      <th>9995</th>\n",
       "      <td>9995</td>\n",
       "      <td>[2, 1, -1, 2, -3, 1, -3, 1, -3]</td>\n",
       "      <td>{(-7, -3): 1, (-3, -2): 1, (-3, -1): 2, (-1, 0...</td>\n",
       "      <td>{(-5, -2): {2: 1}, (-1, 0): {2: 2}, (3, 2): {2...</td>\n",
       "      <td>16</td>\n",
       "      <td>4</td>\n",
       "      <td>{-7: 1, -3: 3, -1: 1, 1: 4, 3: 2, 5: 3, 7: 1, ...</td>\n",
       "      <td>{-3: 1, -2: 1, -1: 2, 0: 4, 1: 1, 2: 5, 4: 2}</td>\n",
       "    </tr>\n",
       "    <tr>\n",
       "      <th>9996</th>\n",
       "      <td>9996</td>\n",
       "      <td>[-1, 2, -1, 1, -1, 1, -1, -2, -1]</td>\n",
       "      <td>{(-6, -2): 1, (-4, -2): 1, (-2, 0): 1, (0, 0): 1}</td>\n",
       "      <td>{}</td>\n",
       "      <td>4</td>\n",
       "      <td>0</td>\n",
       "      <td>{-6: 1, -4: 1, -2: 1, 0: 1}</td>\n",
       "      <td>{-2: 2, 0: 2}</td>\n",
       "    </tr>\n",
       "    <tr>\n",
       "      <th>9997</th>\n",
       "      <td>9997</td>\n",
       "      <td>[1, -3, -1, -3, -2, -3, 2, 2, 3]</td>\n",
       "      <td>{(-3, 0): 1, (-1, 0): 3, (1, 0): 3, (3, 0): 1}</td>\n",
       "      <td>{}</td>\n",
       "      <td>8</td>\n",
       "      <td>0</td>\n",
       "      <td>{-3: 1, -1: 3, 1: 3, 3: 1}</td>\n",
       "      <td>{0: 8}</td>\n",
       "    </tr>\n",
       "    <tr>\n",
       "      <th>9998</th>\n",
       "      <td>9998</td>\n",
       "      <td>[-2, 2, 3, -2, 3, 2, -1, -2, -3]</td>\n",
       "      <td>{(-1, 0): 1, (1, 0): 1}</td>\n",
       "      <td>{}</td>\n",
       "      <td>2</td>\n",
       "      <td>0</td>\n",
       "      <td>{-1: 1, 1: 1}</td>\n",
       "      <td>{0: 2}</td>\n",
       "    </tr>\n",
       "    <tr>\n",
       "      <th>9999</th>\n",
       "      <td>9999</td>\n",
       "      <td>[-2, -1, -2, -2, 2, -3, -1, -1, -2]</td>\n",
       "      <td>{(-15, -5): 1, (-11, -4): 1, (-11, -3): 1, (-7...</td>\n",
       "      <td>{(-13, -4): {2: 1}, (-9, -2): {2: 1}}</td>\n",
       "      <td>6</td>\n",
       "      <td>2</td>\n",
       "      <td>{-15: 1, -11: 2, -7: 1, -5: 1, -3: 1}</td>\n",
       "      <td>{-5: 1, -4: 1, -3: 1, -2: 1, 0: 2}</td>\n",
       "    </tr>\n",
       "  </tbody>\n",
       "</table>\n",
       "<p>10000 rows × 8 columns</p>\n",
       "</div>"
      ],
      "text/plain": [
       "      Unnamed: 0                                braid  \\\n",
       "0              0    [-2, 2, -3, 3, -2, -2, 1, -3, -3]   \n",
       "1              1    [3, -1, -2, 2, -2, -2, -3, 3, -1]   \n",
       "2              2        [1, -3, 2, 3, 2, 2, 1, 2, -1]   \n",
       "3              3    [-1, -1, 1, -1, 3, -2, -1, 3, -2]   \n",
       "4              4      [1, -3, -2, 3, 1, 1, 2, -1, -3]   \n",
       "...          ...                                  ...   \n",
       "9995        9995      [2, 1, -1, 2, -3, 1, -3, 1, -3]   \n",
       "9996        9996    [-1, 2, -1, 1, -1, 1, -1, -2, -1]   \n",
       "9997        9997     [1, -3, -1, -3, -2, -3, 2, 2, 3]   \n",
       "9998        9998     [-2, 2, 3, -2, 3, 2, -1, -2, -3]   \n",
       "9999        9999  [-2, -1, -2, -2, 2, -3, -1, -1, -2]   \n",
       "\n",
       "                                              free_part  \\\n",
       "0     {(-11, -4): 1, (-9, -4): 1, (-7, -2): 2, (-5, ...   \n",
       "1     {(-11, -4): 1, (-9, -4): 1, (-7, -2): 2, (-5, ...   \n",
       "2          {(1, 0): 1, (3, 0): 1, (5, 2): 1, (9, 3): 1}   \n",
       "3     {(-11, -4): 1, (-9, -3): 1, (-7, -3): 1, (-7, ...   \n",
       "4     {(-5, -2): 1, (-3, -2): 1, (-1, 0): 2, (1, 0):...   \n",
       "...                                                 ...   \n",
       "9995  {(-7, -3): 1, (-3, -2): 1, (-3, -1): 2, (-1, 0...   \n",
       "9996  {(-6, -2): 1, (-4, -2): 1, (-2, 0): 1, (0, 0): 1}   \n",
       "9997     {(-3, 0): 1, (-1, 0): 3, (1, 0): 3, (3, 0): 1}   \n",
       "9998                            {(-1, 0): 1, (1, 0): 1}   \n",
       "9999  {(-15, -5): 1, (-11, -4): 1, (-11, -3): 1, (-7...   \n",
       "\n",
       "                                           torsion_part  total_num_FP  \\\n",
       "0                                                    {}             8   \n",
       "1                                                    {}             8   \n",
       "2                                      {(7, 3): {2: 1}}             4   \n",
       "3     {(-9, -3): {2: 1}, (-7, -2): {2: 1}, (-5, -1):...            12   \n",
       "4                                                    {}             8   \n",
       "...                                                 ...           ...   \n",
       "9995  {(-5, -2): {2: 1}, (-1, 0): {2: 2}, (3, 2): {2...            16   \n",
       "9996                                                 {}             4   \n",
       "9997                                                 {}             8   \n",
       "9998                                                 {}             2   \n",
       "9999              {(-13, -4): {2: 1}, (-9, -2): {2: 1}}             6   \n",
       "\n",
       "      total_num_TP                               total_num_FP_per_row  \\\n",
       "0                0        {-11: 1, -9: 1, -7: 2, -5: 2, -3: 1, -1: 1}   \n",
       "1                0        {-11: 1, -9: 1, -7: 2, -5: 2, -3: 1, -1: 1}   \n",
       "2                1                           {1: 1, 3: 1, 5: 1, 9: 1}   \n",
       "3                5  {-11: 1, -9: 1, -7: 2, -5: 2, -3: 2, -1: 3, 3: 1}   \n",
       "4                0            {-5: 1, -3: 1, -1: 2, 1: 2, 3: 1, 5: 1}   \n",
       "...            ...                                                ...   \n",
       "9995             4  {-7: 1, -3: 3, -1: 1, 1: 4, 3: 2, 5: 3, 7: 1, ...   \n",
       "9996             0                        {-6: 1, -4: 1, -2: 1, 0: 1}   \n",
       "9997             0                         {-3: 1, -1: 3, 1: 3, 3: 1}   \n",
       "9998             0                                      {-1: 1, 1: 1}   \n",
       "9999             2              {-15: 1, -11: 2, -7: 1, -5: 1, -3: 1}   \n",
       "\n",
       "                             total_num_FP_per_column  \n",
       "0                               {-4: 2, -2: 4, 0: 2}  \n",
       "1                               {-4: 2, -2: 4, 0: 2}  \n",
       "2                                 {0: 2, 2: 1, 3: 1}  \n",
       "3     {-4: 1, -3: 2, -2: 2, -1: 2, 0: 3, 1: 1, 2: 1}  \n",
       "4                                {-2: 2, 0: 4, 2: 2}  \n",
       "...                                              ...  \n",
       "9995   {-3: 1, -2: 1, -1: 2, 0: 4, 1: 1, 2: 5, 4: 2}  \n",
       "9996                                   {-2: 2, 0: 2}  \n",
       "9997                                          {0: 8}  \n",
       "9998                                          {0: 2}  \n",
       "9999              {-5: 1, -4: 1, -3: 1, -2: 1, 0: 2}  \n",
       "\n",
       "[10000 rows x 8 columns]"
      ]
     },
     "execution_count": 4,
     "metadata": {},
     "output_type": "execute_result"
    }
   ],
   "source": [
    "knot_9"
   ]
  },
  {
   "cell_type": "code",
   "execution_count": 5,
   "id": "d5285692",
   "metadata": {},
   "outputs": [],
   "source": [
    "def J(X,y,v,lambda_):\n",
    "    ######################### your code goes here ########################\n",
    "    rowx = len(X)\n",
    "    J = LA.norm(X@v-y)**2\n",
    "    re = LA.norm(v,2)**2\n",
    "    return (1/rowx)*J + lambda_*re\n",
    "\n",
    "def DJ(X,y,v,lambda_):\n",
    "    ######################### your code goes here ########################\n",
    "    rowx = len(X)\n",
    "    gradient = X.T@X@v-X.T@y\n",
    "    reg = 2*v\n",
    "    return (2/rowx)*gradient + lambda_*reg\n",
    "\n",
    "def GD_linreg_improved(X,y,epsilon,lambda_,max_iters = 10000): \n",
    "    ######################### your code goes here ########################\n",
    "    a = X.shape\n",
    "    v = np.zeros([a[1],1])\n",
    "    H = (2/a[0])*X.T@X+2*lambda_*np.identity(a[1])\n",
    "    costs = [J(X,y,v,lambda_)]\n",
    "    for i in range(max_iters):\n",
    "        alpha = (DJ(X,y,v,lambda_).T@DJ(X,y,v,lambda_))/(DJ(X,y,v,lambda_).T@H@DJ(X,y,v,lambda_))\n",
    "        v = v-DJ(X,y,v,lambda_)*alpha\n",
    "        costs.append(J(X,y,v,lambda_))\n",
    "        if i % 1000 == 0:\n",
    "            print(f'after {i} steps the cost is {costs[i]}')\n",
    "        if abs(costs[i] - costs[i-1])<epsilon:\n",
    "            break\n",
    "    print(f'after {i} steps the cost is {costs[i]}')\n",
    "    return v,costs"
   ]
  },
  {
   "cell_type": "code",
   "execution_count": 6,
   "id": "a03d0e32",
   "metadata": {},
   "outputs": [],
   "source": [
    "def predict(X,v,y):\n",
    "    r = np.vectorize(round) \n",
    "    X_r = r(X@v)    \n",
    "    output = [a == p for a,p in zip(y,X_r)]\n",
    "    count = len([val for val in output if val == True])\n",
    "    J = LA.norm(X@v-y)**2\n",
    "    rowx = len(X)\n",
    "    cost = (1/rowx)*J\n",
    "    return count,cost"
   ]
  },
  {
   "cell_type": "code",
   "execution_count": 7,
   "id": "f211a751",
   "metadata": {},
   "outputs": [],
   "source": [
    "ev = np.vectorize(eval)\n",
    "row_FP = ev(knot_9[\"total_num_FP_per_row\"])\n",
    "col_FP = ev(knot_9[\"total_num_FP_per_column\"])"
   ]
  },
  {
   "cell_type": "code",
   "execution_count": 8,
   "id": "33d520cd",
   "metadata": {},
   "outputs": [],
   "source": [
    "def gen_matrix_row(row_FP):\n",
    "    row = len(row_FP)\n",
    "    a = np.empty([row,53])\n",
    "    for i in range(len(row_FP)):\n",
    "        for key in row_FP[i].keys():\n",
    "            a[i,key] =  row_FP[i][key]\n",
    "        if key == \"\":\n",
    "            a[i,key] = 0\n",
    "    return a"
   ]
  },
  {
   "cell_type": "code",
   "execution_count": 9,
   "id": "34a82916",
   "metadata": {},
   "outputs": [],
   "source": [
    "X_row = gen_matrix_row(row_FP)\n",
    "y = np.array(knot_9['total_num_TP']).reshape(-1,1)"
   ]
  },
  {
   "cell_type": "code",
   "execution_count": 10,
   "id": "6041a18b",
   "metadata": {},
   "outputs": [],
   "source": [
    "X_train_row = X_row[0:8000]\n",
    "y_train = y[0:8000]"
   ]
  },
  {
   "cell_type": "code",
   "execution_count": 11,
   "id": "0aa88597",
   "metadata": {},
   "outputs": [
    {
     "name": "stdout",
     "output_type": "stream",
     "text": [
      "after 0 steps the cost is 6.809625\n",
      "after 18 steps the cost is 1.6936233764301631\n",
      "[[ 0.09871326]\n",
      " [ 0.02798313]\n",
      " [ 0.24105843]\n",
      " [ 0.5386614 ]\n",
      " [ 0.32487852]\n",
      " [-0.14392436]\n",
      " [ 0.2432971 ]\n",
      " [ 0.45160274]\n",
      " [ 0.35022339]\n",
      " [ 0.67385309]\n",
      " [ 0.29106178]\n",
      " [ 0.06399245]\n",
      " [ 0.21492675]\n",
      " [ 0.56588263]\n",
      " [ 0.13082945]\n",
      " [ 0.3964947 ]\n",
      " [ 0.12225396]\n",
      " [ 0.2337116 ]\n",
      " [ 0.0443274 ]\n",
      " [ 0.18058857]\n",
      " [ 0.01794849]\n",
      " [ 0.09304249]\n",
      " [ 0.00804212]\n",
      " [ 0.02669449]\n",
      " [ 0.        ]\n",
      " [ 0.01164239]\n",
      " [ 0.        ]\n",
      " [ 0.00569146]\n",
      " [ 0.00259716]\n",
      " [ 0.00247625]\n",
      " [ 0.01822523]\n",
      " [ 0.01751849]\n",
      " [ 0.09662459]\n",
      " [ 0.04312473]\n",
      " [ 0.17541285]\n",
      " [ 0.05147633]\n",
      " [ 0.22677704]\n",
      " [ 0.11463747]\n",
      " [ 0.42759878]\n",
      " [ 0.15093888]\n",
      " [ 0.59855243]\n",
      " [ 0.16945295]\n",
      " [ 0.09895819]\n",
      " [ 0.27570583]\n",
      " [ 0.59848671]\n",
      " [ 0.28318552]\n",
      " [ 0.29863243]\n",
      " [ 0.17978355]\n",
      " [-0.10813491]\n",
      " [ 0.28327729]\n",
      " [ 0.48724776]\n",
      " [ 0.22635115]\n",
      " [ 0.11076201]]\n"
     ]
    }
   ],
   "source": [
    "lambda_ = 0.00001\n",
    "epsilon = 0.01\n",
    "v1,costs =  GD_linreg_improved(X_train_row,y_train,epsilon,lambda_) \n",
    "print(v1)"
   ]
  },
  {
   "cell_type": "code",
   "execution_count": 12,
   "id": "f63a8fd6",
   "metadata": {},
   "outputs": [],
   "source": [
    "X_val_row = X_row[8001:9001]\n",
    "y_val = y[8001:9001]"
   ]
  },
  {
   "cell_type": "code",
   "execution_count": 13,
   "id": "944a2493",
   "metadata": {},
   "outputs": [
    {
     "name": "stdout",
     "output_type": "stream",
     "text": [
      "after 0 steps the cost is 5.6080000000000005\n",
      "after 19 steps the cost is 1.3995206634483282\n",
      "[[ 0.17681052]\n",
      " [ 0.21759643]\n",
      " [ 0.17734632]\n",
      " [ 0.40033734]\n",
      " [ 0.26286388]\n",
      " [-0.13668461]\n",
      " [ 0.13513102]\n",
      " [ 0.11326958]\n",
      " [ 0.18173233]\n",
      " [ 0.45766226]\n",
      " [ 0.202583  ]\n",
      " [ 0.19848056]\n",
      " [ 0.10014735]\n",
      " [ 0.51477921]\n",
      " [ 0.10673041]\n",
      " [ 0.39220148]\n",
      " [ 0.0537653 ]\n",
      " [ 0.35115897]\n",
      " [ 0.        ]\n",
      " [ 0.21043874]\n",
      " [ 0.        ]\n",
      " [ 0.13028646]\n",
      " [ 0.        ]\n",
      " [ 0.06340326]\n",
      " [ 0.        ]\n",
      " [ 0.02939965]\n",
      " [ 0.        ]\n",
      " [ 0.        ]\n",
      " [ 0.        ]\n",
      " [ 0.01936656]\n",
      " [ 0.        ]\n",
      " [ 0.03873311]\n",
      " [ 0.08027882]\n",
      " [ 0.        ]\n",
      " [ 0.23411866]\n",
      " [ 0.0609068 ]\n",
      " [ 0.22376508]\n",
      " [ 0.04434738]\n",
      " [ 0.61223984]\n",
      " [ 0.05596836]\n",
      " [ 0.61177409]\n",
      " [ 0.07774514]\n",
      " [ 0.09355751]\n",
      " [ 0.15096184]\n",
      " [ 0.76244102]\n",
      " [ 0.21773086]\n",
      " [ 0.23757361]\n",
      " [ 0.18439977]\n",
      " [-0.15970791]\n",
      " [ 0.25125088]\n",
      " [ 0.56342921]\n",
      " [ 0.22376212]\n",
      " [-0.15743306]]\n"
     ]
    }
   ],
   "source": [
    "lambda_ = 0.00001\n",
    "epsilon = 0.01\n",
    "v2,costs =  GD_linreg_improved(X_val_row,y_val,epsilon,lambda_,max_iters = 10000)\n",
    "print(v2)"
   ]
  },
  {
   "cell_type": "code",
   "execution_count": 14,
   "id": "eb88502e",
   "metadata": {},
   "outputs": [],
   "source": [
    "X_test_row = X_row[9002:10000]\n",
    "y_test = y[9002:10000]"
   ]
  },
  {
   "cell_type": "code",
   "execution_count": 15,
   "id": "847483e9",
   "metadata": {},
   "outputs": [
    {
     "data": {
      "text/plain": [
       "(413, 1.6461033159451914)"
      ]
     },
     "execution_count": 15,
     "metadata": {},
     "output_type": "execute_result"
    }
   ],
   "source": [
    "predict(X_test_row,v2,y_test)"
   ]
  },
  {
   "cell_type": "code",
   "execution_count": 16,
   "id": "f4f22410",
   "metadata": {},
   "outputs": [],
   "source": [
    "def gen_matrix_col(col_FP):\n",
    "    row = len(col_FP)\n",
    "    a = np.empty([row,19])\n",
    "    for i in range(len(col_FP)):\n",
    "        for key in col_FP[i].keys():\n",
    "            a[i,key] =  col_FP[i][key]\n",
    "        if key == \"\":\n",
    "            a[i,key] = 0\n",
    "    return a"
   ]
  },
  {
   "cell_type": "code",
   "execution_count": 17,
   "id": "3379de64",
   "metadata": {},
   "outputs": [],
   "source": [
    "X_col = gen_matrix_col(col_FP)"
   ]
  },
  {
   "cell_type": "code",
   "execution_count": 18,
   "id": "e396d195",
   "metadata": {},
   "outputs": [
    {
     "name": "stdout",
     "output_type": "stream",
     "text": [
      "after 0 steps the cost is 6.809625\n",
      "after 17 steps the cost is 0.1376789494467222\n",
      "[[-0.02320899]\n",
      " [ 1.0085032 ]\n",
      " [-0.00490006]\n",
      " [ 0.99360569]\n",
      " [ 0.18743077]\n",
      " [ 0.55689057]\n",
      " [ 0.25189197]\n",
      " [ 0.15561628]\n",
      " [ 0.03635778]\n",
      " [ 0.01210383]\n",
      " [ 0.00216291]\n",
      " [ 0.03878908]\n",
      " [ 0.1509331 ]\n",
      " [ 0.25881655]\n",
      " [ 0.55024798]\n",
      " [ 0.18944468]\n",
      " [ 0.97783909]\n",
      " [ 0.00295641]\n",
      " [ 0.97190975]]\n"
     ]
    }
   ],
   "source": [
    "X_train_col = X_col[0:8000]\n",
    "lambda_ = 0.0001\n",
    "epsilon = 0.01\n",
    "v3,costs =  GD_linreg_improved(X_train_col,y_train,epsilon,lambda_) \n",
    "print(v3)"
   ]
  },
  {
   "cell_type": "code",
   "execution_count": 19,
   "id": "a33abc3f",
   "metadata": {},
   "outputs": [
    {
     "name": "stdout",
     "output_type": "stream",
     "text": [
      "after 0 steps the cost is 5.6080000000000005\n",
      "after 19 steps the cost is 0.11959957440494672\n",
      "[[-0.01855414]\n",
      " [ 0.89118037]\n",
      " [ 0.00104654]\n",
      " [ 0.93537531]\n",
      " [ 0.17021848]\n",
      " [ 0.50824904]\n",
      " [ 0.27949338]\n",
      " [ 0.14720443]\n",
      " [ 0.08744409]\n",
      " [ 0.02279476]\n",
      " [ 0.        ]\n",
      " [ 0.02563818]\n",
      " [ 0.20093868]\n",
      " [ 0.3006349 ]\n",
      " [ 0.63604098]\n",
      " [ 0.15714837]\n",
      " [ 1.00515647]\n",
      " [-0.00445581]\n",
      " [ 1.01844133]]\n"
     ]
    }
   ],
   "source": [
    "X_val_col = X_col[8001:9001]\n",
    "lambda_ = 0.0001\n",
    "epsilon = 0.01\n",
    "v4,costs =  GD_linreg_improved(X_val_col,y_val,epsilon,lambda_) \n",
    "print(v4)"
   ]
  },
  {
   "cell_type": "code",
   "execution_count": 20,
   "id": "8529634f",
   "metadata": {},
   "outputs": [],
   "source": [
    "X_test_col = X_col[9002:10000]"
   ]
  },
  {
   "cell_type": "code",
   "execution_count": 21,
   "id": "a16705ac",
   "metadata": {},
   "outputs": [
    {
     "data": {
      "text/plain": [
       "(926, 0.09621027675507988)"
      ]
     },
     "execution_count": 21,
     "metadata": {},
     "output_type": "execute_result"
    }
   ],
   "source": [
    "predict(X_test_col,v3,y_test)"
   ]
  },
  {
   "cell_type": "code",
   "execution_count": null,
   "id": "8e1e8f9c",
   "metadata": {},
   "outputs": [],
   "source": []
  }
 ],
 "metadata": {
  "kernelspec": {
   "display_name": "Python [conda env:root] *",
   "language": "python",
   "name": "conda-root-py"
  },
  "language_info": {
   "codemirror_mode": {
    "name": "ipython",
    "version": 3
   },
   "file_extension": ".py",
   "mimetype": "text/x-python",
   "name": "python",
   "nbconvert_exporter": "python",
   "pygments_lexer": "ipython3",
   "version": "3.9.12"
  }
 },
 "nbformat": 4,
 "nbformat_minor": 5
}
